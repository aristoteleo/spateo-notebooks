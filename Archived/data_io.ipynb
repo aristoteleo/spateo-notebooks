{
 "cells": [
  {
   "cell_type": "markdown",
   "metadata": {},
   "source": [
    "## data_io module"
   ]
  },
  {
   "cell_type": "markdown",
   "metadata": {},
   "source": [
    "Test Axolotl Data for Spateo\n",
    "\n",
    "Injury_15DPI_rep3_FP200000266TR_E3.Gene_Expression_table.tsv.gz:\n",
    "\n",
    "- Raw Stereo-seq data.\n",
    "\n",
    "\n",
    "Injury_15DPI_rep3_FP200000266TR_E3_cell_segmentation.tsv.gz:\n",
    "\n",
    "- Stereo-seq data after cell segmentation. \n",
    "    A column, namely `cell`, representing the cell ID was added.\n",
    "\n",
    "Injury_15DPI_rep3_FP200000266TR_E3_cell_segmentation.npy\n",
    "- The cell segmentation label matrix with the shape of N*N. \n",
    "- Contains information about cell segmentation. \n",
    "    Each value of the matrix represents which cell the DNB belongs to at this coordinate.\n",
    "    (0 representing the background)\n",
    "- Class is `numpy.ndarray`.\n",
    "\n",
    "Injury_15DPI_rep3_FP200000266TR_E3_ssDNA.jpg\n",
    "\n",
    "- Processed ssDNA staining image.\n",
    "- The image has been pre-processed by registration and background removal.\n",
    "- The scale is 1. (One DNB corresponds to one pixel)"
   ]
  },
  {
   "cell_type": "code",
   "execution_count": 1,
   "metadata": {},
   "outputs": [],
   "source": [
    "import sys\n",
    "sys.path.append(r'D:\\Backup\\Documents\\GitHub\\spateo-release')\n",
    "import spateo"
   ]
  },
  {
   "cell_type": "code",
   "execution_count": 2,
   "metadata": {},
   "outputs": [
    {
     "name": "stdout",
     "output_type": "stream",
     "text": [
      "A helper function that facilitates constructing an AnnData object suitable for downstream spateo analysis\n",
      "\n",
      "    Parameters\n",
      "    ----------\n",
      "        filename: `str`\n",
      "            A string that points to the directory and filename of spatial transcriptomics dataset, produced by the\n",
      "            stereo-seq method from BGI.\n",
      "        binsize: `int` (default: 50)\n",
      "            The number of spatial bins to aggregate RNAs captured by DNBs in those bins. Usually this is 50, which is\n",
      "            close to 25 uM.\n",
      "        slice: `str` or None (default: None)\n",
      "            Name of the slice. Will be used when displaying multiple slices.\n",
      "        label_path: `str` or None (default: None)\n",
      "            A string that points to the directory and filename of cell segmentation label matrix(Format:`.npy`).\n",
      "            If not None, the results of cell segmentation will be used, and param `binsize` will be ignored.\n",
      "        version: `str`\n",
      "            The version of technology. Currently not used. But may be useful when the data format changes after we update\n",
      "            the stero-seq techlogy in future.\n",
      "\n",
      "    Returns\n",
      "    -------\n",
      "        adata: :class:`~anndata.AnnData`\n",
      "            An AnnData object. Each row of the AnnData object correspond to a spot (aggregated with multiple bins). The\n",
      "            `spatial` key in the .obsm corresponds to the x, y coordinates of the centroids of all spot.\n",
      "    \n"
     ]
    }
   ],
   "source": [
    "print(spateo.readBGI.__doc__)"
   ]
  },
  {
   "cell_type": "code",
   "execution_count": 3,
   "metadata": {},
   "outputs": [
    {
     "data": {
      "text/plain": [
       "AnnData object with n_obs × n_vars = 10840 × 34484\n",
       "    obs: 'contours', 'area', 'slice'\n",
       "    obsm: 'spatial'"
      ]
     },
     "execution_count": 3,
     "metadata": {},
     "output_type": "execute_result"
    }
   ],
   "source": [
    "# readBGI by bins\n",
    "obj_bin50 = spateo.readBGI(\n",
    "    filename = r'F:\\data\\042.INTRONIC\\00.data\\Injury_15DPI_rep3_FP200000266TR_E3\\Injury_15DPI_rep3_FP200000266TR_E3.Gene_Expression_table.tsv.gz',\n",
    "    binsize = 50,\n",
    "    slice = 'Injury_15DPI_rep3_FP200000266TR_E3',\n",
    "    version = 'stereo_v1',\n",
    ")\n",
    "obj_bin50"
   ]
  },
  {
   "cell_type": "code",
   "execution_count": 4,
   "metadata": {},
   "outputs": [
    {
     "data": {
      "text/plain": [
       "geopandas.geodataframe.GeoDataFrame"
      ]
     },
     "execution_count": 4,
     "metadata": {},
     "output_type": "execute_result"
    }
   ],
   "source": [
    "# geopandas\n",
    "type(obj_bin50.obs)"
   ]
  },
  {
   "cell_type": "code",
   "execution_count": 5,
   "metadata": {},
   "outputs": [
    {
     "data": {
      "text/html": [
       "<div>\n",
       "<style scoped>\n",
       "    .dataframe tbody tr th:only-of-type {\n",
       "        vertical-align: middle;\n",
       "    }\n",
       "\n",
       "    .dataframe tbody tr th {\n",
       "        vertical-align: top;\n",
       "    }\n",
       "\n",
       "    .dataframe thead th {\n",
       "        text-align: right;\n",
       "    }\n",
       "</style>\n",
       "<table border=\"1\" class=\"dataframe\">\n",
       "  <thead>\n",
       "    <tr style=\"text-align: right;\">\n",
       "      <th></th>\n",
       "      <th>contours</th>\n",
       "      <th>area</th>\n",
       "      <th>slice</th>\n",
       "    </tr>\n",
       "    <tr>\n",
       "      <th>cell_name</th>\n",
       "      <th></th>\n",
       "      <th></th>\n",
       "      <th></th>\n",
       "    </tr>\n",
       "  </thead>\n",
       "  <tbody>\n",
       "    <tr>\n",
       "      <th>18_43</th>\n",
       "      <td>POLYGON ((900.000 2150.000, 950.000 2150.000, ...</td>\n",
       "      <td>2500</td>\n",
       "      <td>Injury_15DPI_rep3_FP200000266TR_E3</td>\n",
       "    </tr>\n",
       "    <tr>\n",
       "      <th>49_22</th>\n",
       "      <td>POLYGON ((2450.000 1100.000, 2500.000 1100.000...</td>\n",
       "      <td>2500</td>\n",
       "      <td>Injury_15DPI_rep3_FP200000266TR_E3</td>\n",
       "    </tr>\n",
       "    <tr>\n",
       "      <th>60_36</th>\n",
       "      <td>POLYGON ((3000.000 1800.000, 3050.000 1800.000...</td>\n",
       "      <td>2500</td>\n",
       "      <td>Injury_15DPI_rep3_FP200000266TR_E3</td>\n",
       "    </tr>\n",
       "    <tr>\n",
       "      <th>75_83</th>\n",
       "      <td>POLYGON ((3750.000 4150.000, 3800.000 4150.000...</td>\n",
       "      <td>2500</td>\n",
       "      <td>Injury_15DPI_rep3_FP200000266TR_E3</td>\n",
       "    </tr>\n",
       "    <tr>\n",
       "      <th>90_26</th>\n",
       "      <td>POLYGON ((4500.000 1300.000, 4550.000 1300.000...</td>\n",
       "      <td>2500</td>\n",
       "      <td>Injury_15DPI_rep3_FP200000266TR_E3</td>\n",
       "    </tr>\n",
       "  </tbody>\n",
       "</table>\n",
       "</div>"
      ],
      "text/plain": [
       "                                                    contours  area  \\\n",
       "cell_name                                                            \n",
       "18_43      POLYGON ((900.000 2150.000, 950.000 2150.000, ...  2500   \n",
       "49_22      POLYGON ((2450.000 1100.000, 2500.000 1100.000...  2500   \n",
       "60_36      POLYGON ((3000.000 1800.000, 3050.000 1800.000...  2500   \n",
       "75_83      POLYGON ((3750.000 4150.000, 3800.000 4150.000...  2500   \n",
       "90_26      POLYGON ((4500.000 1300.000, 4550.000 1300.000...  2500   \n",
       "\n",
       "                                        slice  \n",
       "cell_name                                      \n",
       "18_43      Injury_15DPI_rep3_FP200000266TR_E3  \n",
       "49_22      Injury_15DPI_rep3_FP200000266TR_E3  \n",
       "60_36      Injury_15DPI_rep3_FP200000266TR_E3  \n",
       "75_83      Injury_15DPI_rep3_FP200000266TR_E3  \n",
       "90_26      Injury_15DPI_rep3_FP200000266TR_E3  "
      ]
     },
     "execution_count": 5,
     "metadata": {},
     "output_type": "execute_result"
    }
   ],
   "source": [
    "obj_bin50.obs.head()"
   ]
  },
  {
   "cell_type": "code",
   "execution_count": 6,
   "metadata": {},
   "outputs": [
    {
     "data": {
      "text/plain": [
       "<AxesSubplot:>"
      ]
     },
     "execution_count": 6,
     "metadata": {},
     "output_type": "execute_result"
    },
    {
     "data": {
      "image/png": "[encoded data removed]",
      "text/plain": [
       "<Figure size 432x288 with 1 Axes>"
      ]
     },
     "metadata": {
      "needs_background": "light"
     },
     "output_type": "display_data"
    }
   ],
   "source": [
    "obj_bin50.obs.plot()"
   ]
  },
  {
   "cell_type": "code",
   "execution_count": null,
   "metadata": {},
   "outputs": [],
   "source": [
    "# readBGI by segmentated label\n",
    "obj_cells = spateo.readBGI(\n",
    "    filename = r'F:/data/042.INTRONIC/00.data/Injury_15DPI_rep3_FP200000266TR_E3/Injury_15DPI_rep3_FP200000266TR_E3_cell_segmentation.tsv.gz',\n",
    "    binsize = 50, # will be ignored\n",
    "    label_path = r'F:/data/042.INTRONIC/00.data/Injury_15DPI_rep3_FP200000266TR_E3/Injury_15DPI_rep3_FP200000266TR_E3_cell_segmentation.npy',\n",
    "    slice = 'Injury_15DPI_rep3_FP200000266TR_E3',\n",
    "    version = 'stereo_v1',\n",
    ")\n",
    "obj_cells"
   ]
  },
  {
   "cell_type": "code",
   "execution_count": null,
   "metadata": {},
   "outputs": [],
   "source": [
    "# plot by area\n",
    "obj_cells.obs.plot('area', figsize=(50,50))"
   ]
  },
  {
   "cell_type": "code",
   "execution_count": null,
   "metadata": {},
   "outputs": [],
   "source": [
    "# read_image\n",
    "print(spateo.read_image.__doc__)"
   ]
  },
  {
   "cell_type": "code",
   "execution_count": null,
   "metadata": {},
   "outputs": [],
   "source": [
    "obj_cells = spateo.read_image(\n",
    "    adata = obj_cells,\n",
    "    filename = r'F:/data/042.INTRONIC/00.data/Injury_15DPI_rep3_FP200000266TR_E3/Injury_15DPI_rep3_FP200000266TR_E3_ssDNA.jpg',\n",
    "    scale_factor = 1.0,\n",
    "    slice = 'Injury_15DPI_rep3_FP200000266TR_E3',\n",
    "    img_layer = 'ssDNA2'\n",
    ")\n",
    "obj_cells.uns['spatial']['Injury_15DPI_rep3_FP200000266TR_E3'].keys()"
   ]
  },
  {
   "cell_type": "code",
   "execution_count": null,
   "metadata": {},
   "outputs": [],
   "source": [
    "import matplotlib.pyplot as plt"
   ]
  },
  {
   "cell_type": "code",
   "execution_count": null,
   "metadata": {},
   "outputs": [],
   "source": [
    "plt.imshow(obj_cells.uns['spatial']['Injury_15DPI_rep3_FP200000266TR_E3']['images']['ssDNA2'])"
   ]
  },
  {
   "cell_type": "code",
   "execution_count": null,
   "metadata": {},
   "outputs": [],
   "source": []
  }
 ],
 "metadata": {
  "kernelspec": {
   "display_name": "stereotools",
   "language": "python",
   "name": "stereotools"
  },
  "language_info": {
   "codemirror_mode": {
    "name": "ipython",
    "version": 3
   },
   "file_extension": ".py",
   "mimetype": "text/x-python",
   "name": "python",
   "nbconvert_exporter": "python",
   "pygments_lexer": "ipython3",
   "version": "3.8.12"
  }
 },
 "nbformat": 4,
 "nbformat_minor": 4
}
