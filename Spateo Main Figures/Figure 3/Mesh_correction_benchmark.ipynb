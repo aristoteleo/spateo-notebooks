{
 "cells": [
  {
   "cell_type": "code",
   "execution_count": 10,
   "metadata": {},
   "outputs": [],
   "source": [
    "import seaborn as sns\n",
    "from matplotlib import pyplot as plt\n",
    "from matplotlib.gridspec import GridSpec\n",
    "from matplotlib import style\n",
    "import pandas as pd\n",
    "import numpy as np\n",
    "\n",
    "import matplotlib as mpl\n",
    "from scipy.stats import ttest_ind"
   ]
  },
  {
   "cell_type": "markdown",
   "metadata": {},
   "source": [
    "# Load the evaluation results"
   ]
  },
  {
   "cell_type": "code",
   "execution_count": 11,
   "metadata": {},
   "outputs": [],
   "source": [
    "res_df = pd.read_pickle('./results/mesh_correction_benchmark_results/mesh_correction_benchmark_BARSeq.pkl')"
   ]
  },
  {
   "cell_type": "code",
   "execution_count": 12,
   "metadata": {},
   "outputs": [],
   "source": [
    "methods = ['Spateo', 'Spateo-G', 'Spateo-M', 'PASTE', 'PASTE-M', 'PASTE2', 'PASTE2-M', 'Moscot', 'Moscot-M', 'SLAT', 'SLAT-M', 'STAlign', 'SPACEL', 'SPACEL-M']\n",
    "my_palette = sns.color_palette('tab20b')[17:20] + sns.color_palette('tab20c')[2:4] + sns.color_palette('tab20c')[0:2] + sns.color_palette('Paired')[2:4] + sns.color_palette('tab20c')[4:6] + sns.color_palette('Paired')[6:7]+sns.color_palette('tab20')[10:12]"
   ]
  },
  {
   "cell_type": "code",
   "execution_count": 13,
   "metadata": {},
   "outputs": [
    {
     "data": {
      "image/png": "[encoded data removed]",
      "text/plain": [
       "<Figure size 400x300 with 2 Axes>"
      ]
     },
     "metadata": {},
     "output_type": "display_data"
    }
   ],
   "source": [
    "import matplotlib as mpl\n",
    "import os\n",
    "sns.set_theme(style=\"ticks\")\n",
    "COLOR = 'black'\n",
    "mpl.rcParams['text.color'] = COLOR\n",
    "mpl.rcParams['axes.labelcolor'] = COLOR\n",
    "mpl.rcParams['xtick.color'] = COLOR\n",
    "mpl.rcParams['ytick.color'] = COLOR\n",
    "mpl.rcParams.update({'text.color' : COLOR,\n",
    "                     'axes.labelcolor' : COLOR})\n",
    "\n",
    "fig, axs = plt.subplots(1,2,figsize=(4,3), gridspec_kw={'wspace':0.05})\n",
    "sns.set_theme(style=\"ticks\")\n",
    "g = sns.barplot(\n",
    "    x=\"mae\", \n",
    "    y=\"Method\",\n",
    "    hue=\"Method\",\n",
    "    data=res_df,\n",
    "    ax=axs[0],\n",
    "    palette=my_palette,\n",
    "    hue_order=methods,\n",
    "    order=methods,\n",
    ")\n",
    "g = sns.barplot(\n",
    "    x=\"mae\", \n",
    "    y=\"Method\",\n",
    "    hue=\"Method\",\n",
    "    data=res_df,\n",
    "    ax=axs[1],\n",
    "    palette=my_palette,\n",
    "    hue_order=methods,\n",
    "    order=methods,\n",
    ")\n",
    "axs[0].set_xlim([0, 7])\n",
    "axs[1].set_xlim([7, 110])\n",
    "axs[1].set_xticks([20, 60, 100])\n",
    "axs[1].set_yticks([])\n",
    "axs[0].set_yticks([])\n",
    "axs[1].set_ylabel('')\n",
    "axs[0].set_ylabel('')\n",
    "axs[0].set_xlabel('')\n",
    "axs[1].set_xlabel('')\n",
    "sns.despine(ax=axs[0])\n",
    "sns.despine(ax=axs[1], left=True)\n",
    "plt.savefig(os.path.join('./figures/mesh_correction_benchmark', 'Mesh_correction_benchmark_BARSeq.pdf'), dpi=300, bbox_inches='tight', transparent=True)"
   ]
  },
  {
   "cell_type": "code",
   "execution_count": 16,
   "metadata": {},
   "outputs": [],
   "source": [
    "res_df = pd.read_pickle('./results/mesh_correction_benchmark_results/mesh_correction_benchmark_MERFISH.pkl')"
   ]
  },
  {
   "cell_type": "code",
   "execution_count": 17,
   "metadata": {},
   "outputs": [],
   "source": [
    "methods = ['Spateo', 'Spateo_global', 'Spateo_mesh', 'PASTE', 'PASTE_mesh', 'PASTE2', 'PASTE2_mesh', 'Moscot_new', 'Moscot_mesh', 'SLAT', 'SLAT_mesh', 'STAlign', 'SPACEL', 'SPACEL_mesh']\n",
    "my_palette = sns.color_palette('tab20b')[17:20] + sns.color_palette('tab20c')[2:4] + sns.color_palette('tab20c')[0:2] + sns.color_palette('Paired')[2:4] + sns.color_palette('tab20c')[4:6] + sns.color_palette('Paired')[6:7]+sns.color_palette('tab20')[10:12]"
   ]
  },
  {
   "cell_type": "code",
   "execution_count": 18,
   "metadata": {},
   "outputs": [
    {
     "name": "stderr",
     "output_type": "stream",
     "text": [
      "C:\\Users\\lyf04\\AppData\\Local\\Temp\\ipykernel_400\\2798958939.py:37: UserWarning: FixedFormatter should only be used together with FixedLocator\n",
      "  axs[0].set_yticklabels(['Spateo', 'Spateo-G', 'Spateo-M', 'PASTE', 'PASTE-M', 'PASTE2', 'PASTE2-M', 'Moscot', 'Moscot-M', 'SLAT', 'SLAT-M', 'STAlign', 'SPACEL', 'SPACEL-M'],)\n"
     ]
    },
    {
     "data": {
      "image/png": "[encoded data removed]",
      "text/plain": [
       "<Figure size 400x300 with 2 Axes>"
      ]
     },
     "metadata": {},
     "output_type": "display_data"
    }
   ],
   "source": [
    "import matplotlib as mpl\n",
    "import os\n",
    "sns.set_theme(style=\"ticks\")\n",
    "COLOR = 'black'\n",
    "mpl.rcParams['text.color'] = COLOR\n",
    "mpl.rcParams['axes.labelcolor'] = COLOR\n",
    "mpl.rcParams['xtick.color'] = COLOR\n",
    "mpl.rcParams['ytick.color'] = COLOR\n",
    "mpl.rcParams.update({'text.color' : COLOR,\n",
    "                     'axes.labelcolor' : COLOR})\n",
    "\n",
    "fig, axs = plt.subplots(1,2,figsize=(4,3), gridspec_kw={'wspace':0.05})\n",
    "sns.set_theme(style=\"ticks\")\n",
    "g = sns.barplot(\n",
    "    x=\"mae\", \n",
    "    y=\"Method\",\n",
    "    hue=\"Method\",\n",
    "    data=res_df,\n",
    "    ax=axs[0],\n",
    "    palette=my_palette,\n",
    "    hue_order=methods,\n",
    "    order=methods,\n",
    ")\n",
    "g = sns.barplot(\n",
    "    x=\"mae\", \n",
    "    y=\"Method\",\n",
    "    hue=\"Method\",\n",
    "    data=res_df,\n",
    "    ax=axs[1],\n",
    "    palette=my_palette,\n",
    "    hue_order=methods,\n",
    "    order=methods,\n",
    ")\n",
    "axs[0].set_xlim([0, 220])\n",
    "axs[1].set_xlim([200, 2400])\n",
    "axs[1].set_xticks([400, 1200, 2000])\n",
    "axs[0].set_yticklabels(['Spateo', 'Spateo-G', 'Spateo-M', 'PASTE', 'PASTE-M', 'PASTE2', 'PASTE2-M', 'Moscot', 'Moscot-M', 'SLAT', 'SLAT-M', 'STAlign', 'SPACEL', 'SPACEL-M'],)\n",
    "axs[1].set_yticks([])\n",
    "axs[1].set_ylabel('')\n",
    "axs[0].set_ylabel('')\n",
    "axs[0].set_xlabel('')\n",
    "axs[1].set_xlabel('')\n",
    "sns.despine(ax=axs[0])\n",
    "sns.despine(ax=axs[1], left=True)\n",
    "plt.savefig(os.path.join('./figures/mesh_correction_benchmark', 'Mesh_correction_benchmark_AllenBrain_Zhuang.pdf'), dpi=300, bbox_inches='tight', transparent=True)"
   ]
  },
  {
   "cell_type": "code",
   "execution_count": null,
   "metadata": {},
   "outputs": [],
   "source": []
  }
 ],
 "metadata": {
  "kernelspec": {
   "display_name": "Spateo",
   "language": "python",
   "name": "python3"
  },
  "language_info": {
   "codemirror_mode": {
    "name": "ipython",
    "version": 3
   },
   "file_extension": ".py",
   "mimetype": "text/x-python",
   "name": "python",
   "nbconvert_exporter": "python",
   "pygments_lexer": "ipython3",
   "version": "3.9.19"
  }
 },
 "nbformat": 4,
 "nbformat_minor": 2
}
