{
 "cells": [
  {
   "cell_type": "code",
   "execution_count": 1,
   "id": "e016674b-79ed-4b54-817e-1d5e08760a86",
   "metadata": {
    "execution": {
     "iopub.execute_input": "2024-08-06T17:44:24.257968Z",
     "iopub.status.busy": "2024-08-06T17:44:24.257736Z",
     "iopub.status.idle": "2024-08-06T17:44:29.718611Z",
     "shell.execute_reply": "2024-08-06T17:44:29.718041Z",
     "shell.execute_reply.started": "2024-08-06T17:44:24.257944Z"
    }
   },
   "outputs": [
    {
     "name": "stderr",
     "output_type": "stream",
     "text": [
      "(EE) \n",
      "Fatal server error:\n",
      "(EE) Server is already active for display 99\n",
      "\tIf this server is no longer running, remove /tmp/.X99-lock\n",
      "\tand start again.\n",
      "(EE) \n"
     ]
    }
   ],
   "source": [
    "import os\n",
    "os.environ['CUDA_VISIBLE_DEVICES'] = '3'\n",
    "import sys\n",
    "from pathlib import Path\n",
    "import anndata as ad\n",
    "import scanpy as sc\n",
    "import numpy as np\n",
    "import warnings\n",
    "warnings.simplefilter(action='ignore', category=FutureWarning)\n",
    "import seaborn as sns\n",
    "from matplotlib import pyplot as plt\n",
    "\n",
    "sys.path.insert(0, \"/home/ylu/project\")\n",
    "from utils import *\n",
    "\n",
    "sys.path.insert(0, \"../../scripts/methods/\")\n",
    "from my_moscot import moscot_align, moscot_align_ref\n",
    "import time\n",
    "from tqdm import tqdm\n",
    "\n",
    "os.system('/usr/bin/Xvfb :99 -screen 0 1024x768x24 &')\n",
    "os.environ['DISPLAY'] = ':99'\n",
    "\n",
    "%load_ext autoreload\n",
    "%autoreload 2"
   ]
  },
  {
   "cell_type": "code",
   "execution_count": 2,
   "id": "f288b023-7cca-4f08-963e-ba198e4e7f5d",
   "metadata": {
    "execution": {
     "iopub.execute_input": "2024-08-06T17:44:29.720941Z",
     "iopub.status.busy": "2024-08-06T17:44:29.720013Z",
     "iopub.status.idle": "2024-08-06T17:44:29.757888Z",
     "shell.execute_reply": "2024-08-06T17:44:29.757228Z",
     "shell.execute_reply.started": "2024-08-06T17:44:29.720912Z"
    }
   },
   "outputs": [],
   "source": [
    "# Load data\n",
    "data_folder = \"../../data/BARseq/BARseq_Perturbed/\"\n",
    "results_folder = \"./results/Moscot/\"\n",
    "Path(results_folder).mkdir(parents=True, exist_ok=True)"
   ]
  },
  {
   "cell_type": "code",
   "execution_count": null,
   "id": "88b62571-8228-42a6-95bc-7f63288f4d89",
   "metadata": {
    "execution": {
     "iopub.execute_input": "2024-08-06T17:44:29.759525Z",
     "iopub.status.busy": "2024-08-06T17:44:29.759057Z"
    }
   },
   "outputs": [
    {
     "name": "stderr",
     "output_type": "stream",
     "text": [
      "  0%|                                                           | 0/39 [00:00<?, ?it/s]/home/ylu/project/Benchmark_alignment_methods/notebooks/BARSeq/../../scripts/methods/my_moscot.py:56: ImplicitModificationWarning: Setting element `.obsm['align_spatial']` of view, initializing view as actual.\n",
      "  m.obsm[key_added] = m.obsm[spatial_key]\n",
      "/home/ylu/project/Benchmark_alignment_methods/notebooks/BARSeq/../../scripts/methods/my_moscot.py:56: ImplicitModificationWarning: Setting element `.obsm['align_spatial']` of view, initializing view as actual.\n",
      "  m.obsm[key_added] = m.obsm[spatial_key]\n"
     ]
    },
    {
     "name": "stdout",
     "output_type": "stream",
     "text": [
      "\u001b[34mINFO    \u001b[0m Computing pca with `\u001b[33mn_comps\u001b[0m=\u001b[1;36m30\u001b[0m` for `xy` using `adata.X`                                                  \n"
     ]
    },
    {
     "name": "stderr",
     "output_type": "stream",
     "text": [
      "/home/ylu/anaconda3/envs/GPSA/lib/python3.9/site-packages/anndata/_core/anndata.py:1818: UserWarning: Observation names are not unique. To make them unique, call `.obs_names_make_unique`.\n",
      "  utils.warn_names_duplicates(\"obs\")\n"
     ]
    },
    {
     "name": "stdout",
     "output_type": "stream",
     "text": [
      "\u001b[34mINFO    \u001b[0m Normalizing spatial coordinates of `x`.                                                                   \n",
      "\u001b[34mINFO    \u001b[0m Normalizing spatial coordinates of `y`.                                                                   \n",
      "\u001b[34mINFO    \u001b[0m Solving `\u001b[1;36m1\u001b[0m` problems                                                                                      \n",
      "\u001b[34mINFO    \u001b[0m Solving problem OTProblem\u001b[1m[\u001b[0m\u001b[33mstage\u001b[0m=\u001b[32m'prepared'\u001b[0m, \u001b[33mshape\u001b[0m=\u001b[1m(\u001b[0m\u001b[1;36m20000\u001b[0m, \u001b[1;36m20000\u001b[0m\u001b[1m)\u001b[0m\u001b[1m]\u001b[0m.                                        \n"
     ]
    },
    {
     "name": "stderr",
     "output_type": "stream",
     "text": [
      "  3%|█▎                                                 | 1/39 [00:41<26:18, 41.54s/it]"
     ]
    },
    {
     "name": "stdout",
     "output_type": "stream",
     "text": [
      "\u001b[34mINFO    \u001b[0m Computing pca with `\u001b[33mn_comps\u001b[0m=\u001b[1;36m30\u001b[0m` for `xy` using `adata.X`                                                  \n"
     ]
    },
    {
     "name": "stderr",
     "output_type": "stream",
     "text": [
      "/home/ylu/project/Benchmark_alignment_methods/notebooks/BARSeq/../../scripts/methods/my_moscot.py:56: ImplicitModificationWarning: Setting element `.obsm['align_spatial']` of view, initializing view as actual.\n",
      "  m.obsm[key_added] = m.obsm[spatial_key]\n",
      "/home/ylu/project/Benchmark_alignment_methods/notebooks/BARSeq/../../scripts/methods/my_moscot.py:56: ImplicitModificationWarning: Setting element `.obsm['align_spatial']` of view, initializing view as actual.\n",
      "  m.obsm[key_added] = m.obsm[spatial_key]\n",
      "/home/ylu/anaconda3/envs/GPSA/lib/python3.9/site-packages/anndata/_core/anndata.py:1818: UserWarning: Observation names are not unique. To make them unique, call `.obs_names_make_unique`.\n",
      "  utils.warn_names_duplicates(\"obs\")\n"
     ]
    },
    {
     "name": "stdout",
     "output_type": "stream",
     "text": [
      "\u001b[34mINFO    \u001b[0m Normalizing spatial coordinates of `x`.                                                                   \n",
      "\u001b[34mINFO    \u001b[0m Normalizing spatial coordinates of `y`.                                                                   \n",
      "\u001b[34mINFO    \u001b[0m Solving `\u001b[1;36m1\u001b[0m` problems                                                                                      \n",
      "\u001b[34mINFO    \u001b[0m Solving problem OTProblem\u001b[1m[\u001b[0m\u001b[33mstage\u001b[0m=\u001b[32m'prepared'\u001b[0m, \u001b[33mshape\u001b[0m=\u001b[1m(\u001b[0m\u001b[1;36m20000\u001b[0m, \u001b[1;36m20000\u001b[0m\u001b[1m)\u001b[0m\u001b[1m]\u001b[0m.                                        \n"
     ]
    }
   ],
   "source": [
    "subsample_num = 20000\n",
    "  \n",
    "for i in tqdm(range(1, 40)):\n",
    "    slice1 = ad.read_h5ad(filename=os.path.join(data_folder,\"slice_{:0>2d}.h5ad\".format(i)))\n",
    "    slice2 = ad.read_h5ad(filename=os.path.join(data_folder,\"slice_{:0>2d}.h5ad\".format(i+1)))\n",
    "    \n",
    "    # subsample\n",
    "    subsample1 = np.random.choice(slice1.shape[0], subsample_num, replace=False) if slice1.shape[0] > subsample_num else np.arange(slice1.shape[0])\n",
    "    subsample2 = np.random.choice(slice2.shape[0], subsample_num, replace=False) if slice2.shape[0] > subsample_num else np.arange(slice2.shape[0])\n",
    "    slice1 = slice1[subsample1,:]\n",
    "    slice2 = slice2[subsample2,:]\n",
    "\n",
    "    spatial_key = 'perturbed_spatial'\n",
    "    key_added = 'align_spatial'\n",
    "    align_slices, pis = moscot_align(\n",
    "        models=[slice1, slice2],\n",
    "        spatial_key=spatial_key,\n",
    "        key_added=key_added,\n",
    "        device=\"cuda\",\n",
    "        verbose=False,\n",
    "        alpha=0.5,\n",
    "    )    \n",
    "    # recover true R and t\n",
    "    R1, t1=solve_RT_by_correspondence(align_slices[1].obsm[key_added], align_slices[1].obsm['perturbed_spatial'])\n",
    "    R2, t2=solve_RT_by_correspondence(align_slices[0].obsm['perturbed_spatial'], align_slices[0].obsm[key_added])\n",
    "    t = t1 @ R2.T + t2\n",
    "    R = R2 @ R1\n",
    "    results = {\"R\":R, \"t\":t, \"subsample\": [subsample1, subsample2]}\n",
    "    np.save(os.path.join(results_folder, \"slice_{}_{}.npy\".format(i,i+1)), results, allow_pickle=True)"
   ]
  },
  {
   "cell_type": "code",
   "execution_count": null,
   "id": "960e64ee-bf91-48b3-93a0-5cf05bf82743",
   "metadata": {},
   "outputs": [],
   "source": []
  }
 ],
 "metadata": {
  "kernelspec": {
   "display_name": "GPSA",
   "language": "python",
   "name": "gpsa"
  },
  "language_info": {
   "codemirror_mode": {
    "name": "ipython",
    "version": 3
   },
   "file_extension": ".py",
   "mimetype": "text/x-python",
   "name": "python",
   "nbconvert_exporter": "python",
   "pygments_lexer": "ipython3",
   "version": "3.9.19"
  }
 },
 "nbformat": 4,
 "nbformat_minor": 5
}
