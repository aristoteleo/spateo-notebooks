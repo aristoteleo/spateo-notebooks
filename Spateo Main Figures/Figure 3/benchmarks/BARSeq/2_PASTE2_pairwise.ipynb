{
 "cells": [
  {
   "cell_type": "code",
   "execution_count": null,
   "id": "e016674b-79ed-4b54-817e-1d5e08760a86",
   "metadata": {
    "execution": {
     "iopub.execute_input": "2024-08-06T17:39:14.278086Z",
     "iopub.status.busy": "2024-08-06T17:39:14.277695Z",
     "iopub.status.idle": "2024-08-06T17:39:20.147534Z",
     "shell.execute_reply": "2024-08-06T17:39:20.146679Z",
     "shell.execute_reply.started": "2024-08-06T17:39:14.278056Z"
    }
   },
   "outputs": [
    {
     "name": "stderr",
     "output_type": "stream",
     "text": [
      "2024-08-06 17:39:18.110626: W tensorflow/compiler/xla/stream_executor/platform/default/dso_loader.cc:64] Could not load dynamic library 'libcudart.so.11.0'; dlerror: libcudart.so.11.0: cannot open shared object file: No such file or directory\n",
      "2024-08-06 17:39:19.167313: W tensorflow/compiler/xla/stream_executor/platform/default/dso_loader.cc:64] Could not load dynamic library 'libnvinfer.so.7'; dlerror: libnvinfer.so.7: cannot open shared object file: No such file or directory\n",
      "2024-08-06 17:39:19.167409: W tensorflow/compiler/xla/stream_executor/platform/default/dso_loader.cc:64] Could not load dynamic library 'libnvinfer_plugin.so.7'; dlerror: libnvinfer_plugin.so.7: cannot open shared object file: No such file or directory\n",
      "2024-08-06 17:39:19.167417: W tensorflow/compiler/tf2tensorrt/utils/py_utils.cc:38] TF-TRT Warning: Cannot dlopen some TensorRT libraries. If you would like to use Nvidia GPU with TensorRT, please make sure the missing libraries mentioned above are installed properly.\n",
      "(EE) \n",
      "Fatal server error:\n",
      "(EE) Server is already active for display 99\n",
      "\tIf this server is no longer running, remove /tmp/.X99-lock\n",
      "\tand start again.\n",
      "(EE) \n"
     ]
    }
   ],
   "source": [
    "import os\n",
    "os.environ['CUDA_VISIBLE_DEVICES'] = '1'\n",
    "import sys\n",
    "from pathlib import Path\n",
    "import anndata as ad\n",
    "import scanpy as sc\n",
    "import numpy as np\n",
    "import warnings\n",
    "warnings.simplefilter(action='ignore', category=FutureWarning)\n",
    "import seaborn as sns\n",
    "from matplotlib import pyplot as plt\n",
    "\n",
    "sys.path.insert(0, \"../../scripts/methods/\")\n",
    "from my_paste2 import paste2_align, paste2_align_ref\n",
    "sys.path.insert(0, \"/home/ylu/project\")\n",
    "from utils import *\n",
    "import time\n",
    "from tqdm import tqdm\n",
    "os.system('/usr/bin/Xvfb :99 -screen 0 1024x768x24 &')\n",
    "os.environ['DISPLAY'] = ':99'\n",
    "\n",
    "%load_ext autoreload\n",
    "%autoreload 2"
   ]
  },
  {
   "cell_type": "code",
   "execution_count": 1,
   "id": "f288b023-7cca-4f08-963e-ba198e4e7f5d",
   "metadata": {
    "execution": {
     "iopub.execute_input": "2024-08-06T17:39:20.149813Z",
     "iopub.status.busy": "2024-08-06T17:39:20.148889Z",
     "iopub.status.idle": "2024-08-06T17:39:20.193489Z",
     "shell.execute_reply": "2024-08-06T17:39:20.192861Z",
     "shell.execute_reply.started": "2024-08-06T17:39:20.149783Z"
    }
   },
   "outputs": [],
   "source": [
    "# Load data\n",
    "data_folder = \"../../data/BARseq/BARseq_Perturbed/\"\n",
    "results_folder = \"./results/PASTE2/\""
   ]
  },
  {
   "cell_type": "code",
   "execution_count": null,
   "id": "88b62571-8228-42a6-95bc-7f63288f4d89",
   "metadata": {
    "execution": {
     "iopub.execute_input": "2024-08-06T17:40:05.225493Z",
     "iopub.status.busy": "2024-08-06T17:40:05.224989Z"
    }
   },
   "outputs": [
    {
     "name": "stderr",
     "output_type": "stream",
     "text": [
      "  0%|                                                           | 0/39 [00:00<?, ?it/s]/home/ylu/project/Benchmark_alignment_methods/notebooks/BARSeq/../../scripts/methods/my_paste2.py:113: ImplicitModificationWarning: Setting element `.obsm['align_spatial']` of view, initializing view as actual.\n",
      "  m.obsm[key_added] = m.obsm[spatial_key]\n",
      "/home/ylu/project/Benchmark_alignment_methods/notebooks/BARSeq/../../scripts/methods/my_paste2.py:113: ImplicitModificationWarning: Setting element `.obsm['align_spatial']` of view, initializing view as actual.\n",
      "  m.obsm[key_added] = m.obsm[spatial_key]\n"
     ]
    },
    {
     "name": "stdout",
     "output_type": "stream",
     "text": [
      "PASTE2 starts...\n",
      "It.  |Loss        |Relative loss|Absolute loss\n",
      "------------------------------------------------\n",
      "    0|3.147609e+00|0.000000e+00|0.000000e+00\n",
      "    1|1.350376e+00|1.330914e+00|1.797234e+00\n",
      "    2|1.136432e+00|1.882589e-01|2.139435e-01\n",
      "    3|1.104291e+00|2.910563e-02|3.214109e-02\n",
      "    4|1.103630e+00|5.992265e-04|6.613242e-04\n",
      "    5|1.103615e+00|1.287314e-05|1.420700e-05\n",
      "    6|1.103615e+00|5.698256e-07|6.288680e-07\n",
      " 1000|1.103615e+00|0.000000e+00|0.000000e+00\n"
     ]
    },
    {
     "name": "stderr",
     "output_type": "stream",
     "text": [
      "  3%|█▏                                              | 1/39 [02:15<1:25:54, 135.64s/it]/home/ylu/project/Benchmark_alignment_methods/notebooks/BARSeq/../../scripts/methods/my_paste2.py:113: ImplicitModificationWarning: Setting element `.obsm['align_spatial']` of view, initializing view as actual.\n",
      "  m.obsm[key_added] = m.obsm[spatial_key]\n",
      "/home/ylu/project/Benchmark_alignment_methods/notebooks/BARSeq/../../scripts/methods/my_paste2.py:113: ImplicitModificationWarning: Setting element `.obsm['align_spatial']` of view, initializing view as actual.\n",
      "  m.obsm[key_added] = m.obsm[spatial_key]\n"
     ]
    },
    {
     "name": "stdout",
     "output_type": "stream",
     "text": [
      "PASTE2 starts...\n",
      "It.  |Loss        |Relative loss|Absolute loss\n",
      "------------------------------------------------\n",
      "    0|3.000175e+00|0.000000e+00|0.000000e+00\n",
      "    1|1.275963e+00|1.351303e+00|1.724213e+00\n",
      "    2|1.120547e+00|1.386965e-01|1.554159e-01\n",
      "    3|1.098632e+00|1.994693e-02|2.191435e-02\n",
      "    4|1.098222e+00|3.740272e-04|4.107648e-04\n",
      "    5|1.098205e+00|1.511833e-05|1.660303e-05\n",
      "    6|1.098203e+00|1.495847e-06|1.642745e-06\n",
      "    7|1.098201e+00|2.331764e-06|2.560745e-06\n",
      "    8|1.098201e+00|6.690971e-08|7.348030e-08\n"
     ]
    }
   ],
   "source": [
    "subsample_num = 5000\n",
    "  \n",
    "for i in tqdm(range(1, 40)):\n",
    "    slice1 = ad.read_h5ad(filename=os.path.join(data_folder,\"slice_{:0>2d}.h5ad\".format(i)))\n",
    "    slice2 = ad.read_h5ad(filename=os.path.join(data_folder,\"slice_{:0>2d}.h5ad\".format(i+1)))\n",
    "    \n",
    "    # subsample\n",
    "    subsample1 = np.random.choice(slice1.shape[0], subsample_num, replace=False) if slice1.shape[0] > subsample_num else np.arange(slice1.shape[0])\n",
    "    subsample2 = np.random.choice(slice2.shape[0], subsample_num, replace=False) if slice2.shape[0] > subsample_num else np.arange(slice2.shape[0])\n",
    "    slice1 = slice1[subsample1,:]\n",
    "    slice2 = slice2[subsample2,:]\n",
    "\n",
    "    spatial_key = 'perturbed_spatial'\n",
    "    key_added = 'align_spatial'\n",
    "    align_slices, pis = paste2_align(\n",
    "        models=[slice1, slice2],\n",
    "        spatial_key=spatial_key,\n",
    "        key_added=key_added,\n",
    "        verbose=True,\n",
    "        fixed_s=0.99,\n",
    "    )\n",
    "    \n",
    "    # recover true R and t\n",
    "    R1, t1=solve_RT_by_correspondence(align_slices[1].obsm[key_added], align_slices[1].obsm['perturbed_spatial'])\n",
    "    R2, t2=solve_RT_by_correspondence(align_slices[0].obsm['perturbed_spatial'], align_slices[0].obsm[key_added])\n",
    "    t = t1 @ R2.T + t2\n",
    "    R = R2 @ R1\n",
    "    results = {\"R\":R, \"t\":t, \"subsample\": [subsample1, subsample2]}\n",
    "    np.save(os.path.join(results_folder, \"slice_{}_{}.npy\".format(i,i+1)), results, allow_pickle=True)"
   ]
  }
 ],
 "metadata": {
  "kernelspec": {
   "display_name": "GPSA",
   "language": "python",
   "name": "gpsa"
  },
  "language_info": {
   "codemirror_mode": {
    "name": "ipython",
    "version": 3
   },
   "file_extension": ".py",
   "mimetype": "text/x-python",
   "name": "python",
   "nbconvert_exporter": "python",
   "pygments_lexer": "ipython3",
   "version": "3.9.19"
  }
 },
 "nbformat": 4,
 "nbformat_minor": 5
}
