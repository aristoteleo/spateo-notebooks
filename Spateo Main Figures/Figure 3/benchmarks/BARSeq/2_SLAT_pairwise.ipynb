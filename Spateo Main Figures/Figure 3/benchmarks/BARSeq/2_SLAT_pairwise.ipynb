{
 "cells": [
  {
   "cell_type": "code",
   "execution_count": 1,
   "id": "e016674b-79ed-4b54-817e-1d5e08760a86",
   "metadata": {
    "execution": {
     "iopub.execute_input": "2024-08-06T17:42:52.705634Z",
     "iopub.status.busy": "2024-08-06T17:42:52.705202Z",
     "iopub.status.idle": "2024-08-06T17:42:57.468832Z",
     "shell.execute_reply": "2024-08-06T17:42:57.467990Z",
     "shell.execute_reply.started": "2024-08-06T17:42:52.705597Z"
    }
   },
   "outputs": [],
   "source": [
    "import os\n",
    "os.environ['CUDA_VISIBLE_DEVICES'] = '2'\n",
    "import sys\n",
    "from pathlib import Path\n",
    "import anndata as ad\n",
    "import scanpy as sc\n",
    "import numpy as np\n",
    "import warnings\n",
    "warnings.simplefilter(action='ignore', category=FutureWarning)\n",
    "import seaborn as sns\n",
    "from matplotlib import pyplot as plt\n",
    "\n",
    "sys.path.insert(0, \"../../scripts/methods/\")\n",
    "from my_slat import slat_align, slat_align_ref\n",
    "sys.path.insert(0, \"/home/ylu/project\")\n",
    "from utils import *\n",
    "import time\n",
    "from tqdm import tqdm\n",
    "\n",
    "%load_ext autoreload\n",
    "%autoreload 2"
   ]
  },
  {
   "cell_type": "code",
   "execution_count": 2,
   "id": "f288b023-7cca-4f08-963e-ba198e4e7f5d",
   "metadata": {
    "execution": {
     "iopub.execute_input": "2024-08-06T17:42:57.621738Z",
     "iopub.status.busy": "2024-08-06T17:42:57.621077Z",
     "iopub.status.idle": "2024-08-06T17:42:57.683839Z",
     "shell.execute_reply": "2024-08-06T17:42:57.683109Z",
     "shell.execute_reply.started": "2024-08-06T17:42:57.621707Z"
    }
   },
   "outputs": [],
   "source": [
    "# Load data\n",
    "data_folder = \"../../data/BARseq/BARseq_Perturbed/\"\n",
    "results_folder = \"./results/SLAT/\"\n",
    "Path(results_folder).mkdir(parents=True, exist_ok=True)"
   ]
  },
  {
   "cell_type": "code",
   "execution_count": null,
   "id": "88b62571-8228-42a6-95bc-7f63288f4d89",
   "metadata": {
    "execution": {
     "iopub.execute_input": "2024-08-06T17:43:14.131113Z",
     "iopub.status.busy": "2024-08-06T17:43:14.130649Z"
    }
   },
   "outputs": [
    {
     "name": "stderr",
     "output_type": "stream",
     "text": [
      "  0%|                                                           | 0/39 [00:00<?, ?it/s]"
     ]
    },
    {
     "name": "stdout",
     "output_type": "stream",
     "text": [
      "Calculating spatial neighbor graph ...\n",
      "The graph contains 231210 edges, 20000 cells.\n",
      "11.5605 neighbors per cell on average.\n",
      "Calculating spatial neighbor graph ...\n",
      "The graph contains 230742 edges, 20000 cells.\n",
      "11.5371 neighbors per cell on average.\n",
      "Use DPCA feature to format graph\n"
     ]
    },
    {
     "name": "stderr",
     "output_type": "stream",
     "text": [
      "/home/ylu/anaconda3/envs/scSLAT/lib/python3.8/site-packages/anndata/_core/anndata.py:1838: UserWarning: Observation names are not unique. To make them unique, call `.obs_names_make_unique`.\n",
      "  utils.warn_names_duplicates(\"obs\")\n",
      "/home/ylu/anaconda3/envs/scSLAT/lib/python3.8/site-packages/scanpy/preprocessing/_normalization.py:169: UserWarning: Received a view of an AnnData. Making a copy.\n",
      "  view_to_actual(adata)\n",
      "/home/ylu/anaconda3/envs/scSLAT/lib/python3.8/site-packages/anndata/_core/anndata.py:1838: UserWarning: Observation names are not unique. To make them unique, call `.obs_names_make_unique`.\n",
      "  utils.warn_names_duplicates(\"obs\")\n",
      "/home/ylu/anaconda3/envs/scSLAT/lib/python3.8/site-packages/scanpy/preprocessing/_normalization.py:196: UserWarning: Some cells have zero counts\n",
      "  warn(UserWarning('Some cells have zero counts'))\n",
      "/home/ylu/anaconda3/envs/scSLAT/lib/python3.8/site-packages/scanpy/preprocessing/_simple.py:843: UserWarning: Received a view of an AnnData. Making a copy.\n",
      "  view_to_actual(adata)\n",
      "/home/ylu/anaconda3/envs/scSLAT/lib/python3.8/site-packages/scanpy/preprocessing/_simple.py:843: UserWarning: Received a view of an AnnData. Making a copy.\n",
      "  view_to_actual(adata)\n"
     ]
    },
    {
     "name": "stdout",
     "output_type": "stream",
     "text": [
      "Warning! Dual PCA is using GPU, which may lead to OUT OF GPU MEMORY in big dataset!\n",
      "Choose GPU:0 as device\n",
      "Running\n",
      "---------- epochs: 1 ----------\n",
      "---------- epochs: 2 ----------\n",
      "---------- epochs: 3 ----------\n",
      "---------- epochs: 4 ----------\n",
      "---------- epochs: 5 ----------\n",
      "---------- epochs: 6 ----------\n",
      "Training model time: 1.97\n"
     ]
    },
    {
     "name": "stderr",
     "output_type": "stream",
     "text": [
      "  3%|█▎                                                 | 1/39 [00:22<14:33, 22.98s/it]"
     ]
    },
    {
     "name": "stdout",
     "output_type": "stream",
     "text": [
      "Calculating spatial neighbor graph ...\n",
      "The graph contains 230736 edges, 20000 cells.\n",
      "11.5368 neighbors per cell on average.\n",
      "Calculating spatial neighbor graph ...\n",
      "The graph contains 231460 edges, 20000 cells.\n",
      "11.573 neighbors per cell on average.\n",
      "Use DPCA feature to format graph\n"
     ]
    },
    {
     "name": "stderr",
     "output_type": "stream",
     "text": [
      "/home/ylu/anaconda3/envs/scSLAT/lib/python3.8/site-packages/anndata/_core/anndata.py:1838: UserWarning: Observation names are not unique. To make them unique, call `.obs_names_make_unique`.\n",
      "  utils.warn_names_duplicates(\"obs\")\n",
      "/home/ylu/anaconda3/envs/scSLAT/lib/python3.8/site-packages/scanpy/preprocessing/_normalization.py:169: UserWarning: Received a view of an AnnData. Making a copy.\n",
      "  view_to_actual(adata)\n",
      "/home/ylu/anaconda3/envs/scSLAT/lib/python3.8/site-packages/anndata/_core/anndata.py:1838: UserWarning: Observation names are not unique. To make them unique, call `.obs_names_make_unique`.\n",
      "  utils.warn_names_duplicates(\"obs\")\n",
      "/home/ylu/anaconda3/envs/scSLAT/lib/python3.8/site-packages/scanpy/preprocessing/_normalization.py:196: UserWarning: Some cells have zero counts\n",
      "  warn(UserWarning('Some cells have zero counts'))\n",
      "/home/ylu/anaconda3/envs/scSLAT/lib/python3.8/site-packages/scanpy/preprocessing/_simple.py:843: UserWarning: Received a view of an AnnData. Making a copy.\n",
      "  view_to_actual(adata)\n",
      "/home/ylu/anaconda3/envs/scSLAT/lib/python3.8/site-packages/scanpy/preprocessing/_simple.py:843: UserWarning: Received a view of an AnnData. Making a copy.\n",
      "  view_to_actual(adata)\n"
     ]
    },
    {
     "name": "stdout",
     "output_type": "stream",
     "text": [
      "Warning! Dual PCA is using GPU, which may lead to OUT OF GPU MEMORY in big dataset!\n",
      "Choose GPU:0 as device\n",
      "Running\n",
      "---------- epochs: 1 ----------\n",
      "---------- epochs: 2 ----------\n",
      "---------- epochs: 3 ----------\n",
      "---------- epochs: 4 ----------\n",
      "---------- epochs: 5 ----------\n",
      "---------- epochs: 6 ----------\n",
      "Training model time: 1.59\n"
     ]
    },
    {
     "name": "stderr",
     "output_type": "stream",
     "text": [
      "  5%|██▌                                                | 2/39 [00:42<13:05, 21.23s/it]"
     ]
    },
    {
     "name": "stdout",
     "output_type": "stream",
     "text": [
      "Calculating spatial neighbor graph ...\n",
      "The graph contains 231118 edges, 20000 cells.\n",
      "11.5559 neighbors per cell on average.\n",
      "Calculating spatial neighbor graph ...\n",
      "The graph contains 230672 edges, 20000 cells.\n",
      "11.5336 neighbors per cell on average.\n",
      "Use DPCA feature to format graph\n"
     ]
    },
    {
     "name": "stderr",
     "output_type": "stream",
     "text": [
      "/home/ylu/anaconda3/envs/scSLAT/lib/python3.8/site-packages/anndata/_core/anndata.py:1838: UserWarning: Observation names are not unique. To make them unique, call `.obs_names_make_unique`.\n",
      "  utils.warn_names_duplicates(\"obs\")\n",
      "/home/ylu/anaconda3/envs/scSLAT/lib/python3.8/site-packages/scanpy/preprocessing/_normalization.py:169: UserWarning: Received a view of an AnnData. Making a copy.\n",
      "  view_to_actual(adata)\n",
      "/home/ylu/anaconda3/envs/scSLAT/lib/python3.8/site-packages/anndata/_core/anndata.py:1838: UserWarning: Observation names are not unique. To make them unique, call `.obs_names_make_unique`.\n",
      "  utils.warn_names_duplicates(\"obs\")\n",
      "/home/ylu/anaconda3/envs/scSLAT/lib/python3.8/site-packages/scanpy/preprocessing/_normalization.py:196: UserWarning: Some cells have zero counts\n",
      "  warn(UserWarning('Some cells have zero counts'))\n",
      "/home/ylu/anaconda3/envs/scSLAT/lib/python3.8/site-packages/scanpy/preprocessing/_simple.py:843: UserWarning: Received a view of an AnnData. Making a copy.\n",
      "  view_to_actual(adata)\n",
      "/home/ylu/anaconda3/envs/scSLAT/lib/python3.8/site-packages/scanpy/preprocessing/_simple.py:843: UserWarning: Received a view of an AnnData. Making a copy.\n",
      "  view_to_actual(adata)\n"
     ]
    },
    {
     "name": "stdout",
     "output_type": "stream",
     "text": [
      "Warning! Dual PCA is using GPU, which may lead to OUT OF GPU MEMORY in big dataset!\n",
      "Choose GPU:0 as device\n",
      "Running\n",
      "---------- epochs: 1 ----------\n",
      "---------- epochs: 2 ----------\n",
      "---------- epochs: 3 ----------\n",
      "---------- epochs: 4 ----------\n",
      "---------- epochs: 5 ----------\n",
      "---------- epochs: 6 ----------\n",
      "Training model time: 1.76\n"
     ]
    },
    {
     "name": "stderr",
     "output_type": "stream",
     "text": [
      "  8%|███▉                                               | 3/39 [01:04<12:46, 21.29s/it]"
     ]
    },
    {
     "name": "stdout",
     "output_type": "stream",
     "text": [
      "Calculating spatial neighbor graph ...\n",
      "The graph contains 230572 edges, 20000 cells.\n",
      "11.5286 neighbors per cell on average.\n",
      "Calculating spatial neighbor graph ...\n",
      "The graph contains 232118 edges, 20000 cells.\n",
      "11.6059 neighbors per cell on average.\n",
      "Use DPCA feature to format graph\n"
     ]
    },
    {
     "name": "stderr",
     "output_type": "stream",
     "text": [
      "/home/ylu/anaconda3/envs/scSLAT/lib/python3.8/site-packages/anndata/_core/anndata.py:1838: UserWarning: Observation names are not unique. To make them unique, call `.obs_names_make_unique`.\n",
      "  utils.warn_names_duplicates(\"obs\")\n",
      "/home/ylu/anaconda3/envs/scSLAT/lib/python3.8/site-packages/scanpy/preprocessing/_normalization.py:169: UserWarning: Received a view of an AnnData. Making a copy.\n",
      "  view_to_actual(adata)\n",
      "/home/ylu/anaconda3/envs/scSLAT/lib/python3.8/site-packages/anndata/_core/anndata.py:1838: UserWarning: Observation names are not unique. To make them unique, call `.obs_names_make_unique`.\n",
      "  utils.warn_names_duplicates(\"obs\")\n",
      "/home/ylu/anaconda3/envs/scSLAT/lib/python3.8/site-packages/scanpy/preprocessing/_normalization.py:196: UserWarning: Some cells have zero counts\n",
      "  warn(UserWarning('Some cells have zero counts'))\n",
      "/home/ylu/anaconda3/envs/scSLAT/lib/python3.8/site-packages/scanpy/preprocessing/_simple.py:843: UserWarning: Received a view of an AnnData. Making a copy.\n",
      "  view_to_actual(adata)\n",
      "/home/ylu/anaconda3/envs/scSLAT/lib/python3.8/site-packages/scanpy/preprocessing/_simple.py:843: UserWarning: Received a view of an AnnData. Making a copy.\n",
      "  view_to_actual(adata)\n"
     ]
    },
    {
     "name": "stdout",
     "output_type": "stream",
     "text": [
      "Warning! Dual PCA is using GPU, which may lead to OUT OF GPU MEMORY in big dataset!\n",
      "Choose GPU:0 as device\n",
      "Running\n",
      "---------- epochs: 1 ----------\n",
      "---------- epochs: 2 ----------\n",
      "---------- epochs: 3 ----------\n",
      "---------- epochs: 4 ----------\n",
      "---------- epochs: 5 ----------\n",
      "---------- epochs: 6 ----------\n",
      "Training model time: 2.24\n"
     ]
    },
    {
     "name": "stderr",
     "output_type": "stream",
     "text": [
      " 10%|█████▏                                             | 4/39 [01:29<13:13, 22.68s/it]"
     ]
    },
    {
     "name": "stdout",
     "output_type": "stream",
     "text": [
      "Calculating spatial neighbor graph ...\n",
      "The graph contains 232428 edges, 20000 cells.\n",
      "11.6214 neighbors per cell on average.\n",
      "Calculating spatial neighbor graph ...\n",
      "The graph contains 232808 edges, 20000 cells.\n",
      "11.6404 neighbors per cell on average.\n",
      "Use DPCA feature to format graph\n"
     ]
    },
    {
     "name": "stderr",
     "output_type": "stream",
     "text": [
      "/home/ylu/anaconda3/envs/scSLAT/lib/python3.8/site-packages/anndata/_core/anndata.py:1838: UserWarning: Observation names are not unique. To make them unique, call `.obs_names_make_unique`.\n",
      "  utils.warn_names_duplicates(\"obs\")\n",
      "/home/ylu/anaconda3/envs/scSLAT/lib/python3.8/site-packages/scanpy/preprocessing/_normalization.py:169: UserWarning: Received a view of an AnnData. Making a copy.\n",
      "  view_to_actual(adata)\n",
      "/home/ylu/anaconda3/envs/scSLAT/lib/python3.8/site-packages/anndata/_core/anndata.py:1838: UserWarning: Observation names are not unique. To make them unique, call `.obs_names_make_unique`.\n",
      "  utils.warn_names_duplicates(\"obs\")\n",
      "/home/ylu/anaconda3/envs/scSLAT/lib/python3.8/site-packages/scanpy/preprocessing/_normalization.py:196: UserWarning: Some cells have zero counts\n",
      "  warn(UserWarning('Some cells have zero counts'))\n",
      "/home/ylu/anaconda3/envs/scSLAT/lib/python3.8/site-packages/scanpy/preprocessing/_simple.py:843: UserWarning: Received a view of an AnnData. Making a copy.\n",
      "  view_to_actual(adata)\n",
      "/home/ylu/anaconda3/envs/scSLAT/lib/python3.8/site-packages/scanpy/preprocessing/_simple.py:843: UserWarning: Received a view of an AnnData. Making a copy.\n",
      "  view_to_actual(adata)\n"
     ]
    },
    {
     "name": "stdout",
     "output_type": "stream",
     "text": [
      "Warning! Dual PCA is using GPU, which may lead to OUT OF GPU MEMORY in big dataset!\n",
      "Choose GPU:0 as device\n",
      "Running\n",
      "---------- epochs: 1 ----------\n",
      "---------- epochs: 2 ----------\n",
      "---------- epochs: 3 ----------\n",
      "---------- epochs: 4 ----------\n",
      "---------- epochs: 5 ----------\n",
      "---------- epochs: 6 ----------\n",
      "Training model time: 1.66\n"
     ]
    },
    {
     "name": "stderr",
     "output_type": "stream",
     "text": [
      " 13%|██████▌                                            | 5/39 [01:54<13:28, 23.78s/it]"
     ]
    },
    {
     "name": "stdout",
     "output_type": "stream",
     "text": [
      "Calculating spatial neighbor graph ...\n",
      "The graph contains 232622 edges, 20000 cells.\n",
      "11.6311 neighbors per cell on average.\n",
      "Calculating spatial neighbor graph ...\n",
      "The graph contains 231778 edges, 20000 cells.\n",
      "11.5889 neighbors per cell on average.\n",
      "Use DPCA feature to format graph\n"
     ]
    },
    {
     "name": "stderr",
     "output_type": "stream",
     "text": [
      "/home/ylu/anaconda3/envs/scSLAT/lib/python3.8/site-packages/anndata/_core/anndata.py:1838: UserWarning: Observation names are not unique. To make them unique, call `.obs_names_make_unique`.\n",
      "  utils.warn_names_duplicates(\"obs\")\n",
      "/home/ylu/anaconda3/envs/scSLAT/lib/python3.8/site-packages/scanpy/preprocessing/_normalization.py:169: UserWarning: Received a view of an AnnData. Making a copy.\n",
      "  view_to_actual(adata)\n",
      "/home/ylu/anaconda3/envs/scSLAT/lib/python3.8/site-packages/anndata/_core/anndata.py:1838: UserWarning: Observation names are not unique. To make them unique, call `.obs_names_make_unique`.\n",
      "  utils.warn_names_duplicates(\"obs\")\n",
      "/home/ylu/anaconda3/envs/scSLAT/lib/python3.8/site-packages/scanpy/preprocessing/_normalization.py:196: UserWarning: Some cells have zero counts\n",
      "  warn(UserWarning('Some cells have zero counts'))\n",
      "/home/ylu/anaconda3/envs/scSLAT/lib/python3.8/site-packages/scanpy/preprocessing/_simple.py:843: UserWarning: Received a view of an AnnData. Making a copy.\n",
      "  view_to_actual(adata)\n",
      "/home/ylu/anaconda3/envs/scSLAT/lib/python3.8/site-packages/scanpy/preprocessing/_simple.py:843: UserWarning: Received a view of an AnnData. Making a copy.\n",
      "  view_to_actual(adata)\n"
     ]
    },
    {
     "name": "stdout",
     "output_type": "stream",
     "text": [
      "Warning! Dual PCA is using GPU, which may lead to OUT OF GPU MEMORY in big dataset!\n",
      "Choose GPU:0 as device\n",
      "Running\n",
      "---------- epochs: 1 ----------\n",
      "---------- epochs: 2 ----------\n",
      "---------- epochs: 3 ----------\n",
      "---------- epochs: 4 ----------\n",
      "---------- epochs: 5 ----------\n",
      "---------- epochs: 6 ----------\n",
      "Training model time: 1.70\n"
     ]
    }
   ],
   "source": [
    "subsample_num = 20000\n",
    "  \n",
    "for i in tqdm(range(1, 40)):\n",
    "    slice1 = ad.read_h5ad(filename=os.path.join(data_folder,\"slice_{:0>2d}.h5ad\".format(i)))\n",
    "    slice2 = ad.read_h5ad(filename=os.path.join(data_folder,\"slice_{:0>2d}.h5ad\".format(i+1)))\n",
    "    \n",
    "    # subsample\n",
    "    subsample1 = np.random.choice(slice1.shape[0], subsample_num, replace=False) if slice1.shape[0] > subsample_num else np.arange(slice1.shape[0])\n",
    "    subsample2 = np.random.choice(slice2.shape[0], subsample_num, replace=False) if slice2.shape[0] > subsample_num else np.arange(slice2.shape[0])\n",
    "    slice1 = slice1[subsample1,:]\n",
    "    slice2 = slice2[subsample2,:]\n",
    "\n",
    "    spatial_key = 'perturbed_spatial'\n",
    "    key_added = 'align_spatial'\n",
    "    align_slices, pis = slat_align(\n",
    "        models = [slice1, slice2],\n",
    "        spatial_key=spatial_key,\n",
    "        key_added=key_added,\n",
    "    )  \n",
    "    # recover true R and t\n",
    "    R1, t1=solve_RT_by_correspondence(align_slices[1].obsm[key_added], align_slices[1].obsm['perturbed_spatial'])\n",
    "    R2, t2=solve_RT_by_correspondence(align_slices[0].obsm['perturbed_spatial'], align_slices[0].obsm[key_added])\n",
    "    t = t1 @ R2.T + t2\n",
    "    R = R2 @ R1\n",
    "    results = {\"R\":R, \"t\":t, \"subsample\": [subsample1, subsample2]}\n",
    "    np.save(os.path.join(results_folder, \"slice_{}_{}.npy\".format(i,i+1)), results, allow_pickle=True)"
   ]
  },
  {
   "cell_type": "code",
   "execution_count": null,
   "id": "210a11a7-bb19-40ff-acf0-a14e02eb7492",
   "metadata": {},
   "outputs": [],
   "source": []
  }
 ],
 "metadata": {
  "kernelspec": {
   "display_name": "SLAT",
   "language": "python",
   "name": "slat"
  },
  "language_info": {
   "codemirror_mode": {
    "name": "ipython",
    "version": 3
   },
   "file_extension": ".py",
   "mimetype": "text/x-python",
   "name": "python",
   "nbconvert_exporter": "python",
   "pygments_lexer": "ipython3",
   "version": "3.8.19"
  }
 },
 "nbformat": 4,
 "nbformat_minor": 5
}
