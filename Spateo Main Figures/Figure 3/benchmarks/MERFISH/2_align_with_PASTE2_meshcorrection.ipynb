{
 "cells": [
  {
   "cell_type": "code",
   "execution_count": 1,
   "id": "0a5c0b8d-bc72-45e7-9b6c-236af17a424d",
   "metadata": {
    "execution": {
     "iopub.execute_input": "2024-07-14T17:30:10.607385Z",
     "iopub.status.busy": "2024-07-14T17:30:10.606937Z",
     "iopub.status.idle": "2024-07-14T17:30:22.428317Z",
     "shell.execute_reply": "2024-07-14T17:30:22.427672Z",
     "shell.execute_reply.started": "2024-07-14T17:30:10.607354Z"
    }
   },
   "outputs": [
    {
     "name": "stderr",
     "output_type": "stream",
     "text": [
      "2024-07-14 17:30:13.859745: I tensorflow/core/platform/cpu_feature_guard.cc:193] This TensorFlow binary is optimized with oneAPI Deep Neural Network Library (oneDNN) to use the following CPU instructions in performance-critical operations:  AVX2 AVX512F FMA\n",
      "To enable them in other operations, rebuild TensorFlow with the appropriate compiler flags.\n",
      "2024-07-14 17:30:14.014746: W tensorflow/compiler/xla/stream_executor/platform/default/dso_loader.cc:64] Could not load dynamic library 'libcudart.so.11.0'; dlerror: libcudart.so.11.0: cannot open shared object file: No such file or directory; LD_LIBRARY_PATH: /usr/local/cuda-12.3/lib64\n",
      "2024-07-14 17:30:14.014774: I tensorflow/compiler/xla/stream_executor/cuda/cudart_stub.cc:29] Ignore above cudart dlerror if you do not have a GPU set up on your machine.\n",
      "2024-07-14 17:30:14.731128: W tensorflow/compiler/xla/stream_executor/platform/default/dso_loader.cc:64] Could not load dynamic library 'libnvinfer.so.7'; dlerror: libnvinfer.so.7: cannot open shared object file: No such file or directory; LD_LIBRARY_PATH: /usr/local/cuda-12.3/lib64\n",
      "2024-07-14 17:30:14.731226: W tensorflow/compiler/xla/stream_executor/platform/default/dso_loader.cc:64] Could not load dynamic library 'libnvinfer_plugin.so.7'; dlerror: libnvinfer_plugin.so.7: cannot open shared object file: No such file or directory; LD_LIBRARY_PATH: /usr/local/cuda-12.3/lib64\n",
      "2024-07-14 17:30:14.731234: W tensorflow/compiler/tf2tensorrt/utils/py_utils.cc:38] TF-TRT Warning: Cannot dlopen some TensorRT libraries. If you would like to use Nvidia GPU with TensorRT, please make sure the missing libraries mentioned above are installed properly.\n",
      "_XSERVTransSocketUNIXCreateListener: ...SocketCreateListener() failed\n",
      "_XSERVTransMakeAllCOTSServerListeners: server already running\n",
      "(EE) \n",
      "Fatal server error:\n",
      "(EE) Cannot establish any listening sockets - Make sure an X server isn't already running(EE) \n"
     ]
    }
   ],
   "source": [
    "import os\n",
    "os.environ['CUDA_VISIBLE_DEVICES'] = '0'\n",
    "import sys\n",
    "from pathlib import Path\n",
    "import anndata as ad\n",
    "import numpy as np\n",
    "import warnings\n",
    "warnings.simplefilter(action='ignore', category=FutureWarning)\n",
    "import seaborn as sns\n",
    "from matplotlib import pyplot as plt\n",
    "\n",
    "sys.path.insert(0, \"/home/ylu/project/spateo-release_new\")\n",
    "import spateo_dev as st\n",
    "sys.path.insert(0, \"/home/ylu/project\")\n",
    "from utils import *\n",
    "\n",
    "os.system('/usr/bin/Xvfb :99 -screen 0 1024x768x24 &')\n",
    "os.environ['DISPLAY'] = ':99'\n",
    "\n",
    "%load_ext autoreload\n",
    "    \n",
    "%autoreload 2"
   ]
  },
  {
   "cell_type": "code",
   "execution_count": 2,
   "id": "40508273-ff92-40c5-af20-9f218e7fa24f",
   "metadata": {
    "execution": {
     "iopub.execute_input": "2024-07-14T17:30:22.429888Z",
     "iopub.status.busy": "2024-07-14T17:30:22.429196Z",
     "iopub.status.idle": "2024-07-14T17:30:22.491460Z",
     "shell.execute_reply": "2024-07-14T17:30:22.490969Z",
     "shell.execute_reply.started": "2024-07-14T17:30:22.429860Z"
    }
   },
   "outputs": [],
   "source": [
    "method = 'PASTE2'\n",
    "sampling_num = 5000\n",
    "data_folder = \"./results/split_slices_CCF/\"\n",
    "results_folder = f\"./results/{method}_mesh/\"\n",
    "figures_folder = f\"./results/figures/{method}_mesh\"\n",
    "Path(results_folder).mkdir(parents=True, exist_ok=True)"
   ]
  },
  {
   "cell_type": "code",
   "execution_count": 3,
   "id": "4e9bc180-ddf2-4e48-a683-7f61588a5792",
   "metadata": {
    "execution": {
     "iopub.execute_input": "2024-07-14T17:30:22.493278Z",
     "iopub.status.busy": "2024-07-14T17:30:22.492865Z",
     "iopub.status.idle": "2024-07-14T17:30:22.555990Z",
     "shell.execute_reply": "2024-07-14T17:30:22.555472Z",
     "shell.execute_reply.started": "2024-07-14T17:30:22.493258Z"
    }
   },
   "outputs": [],
   "source": [
    "import re\n",
    "def list_and_sort_files_by_number(directory_path, suffix):\n",
    "    def extract_number(filename):\n",
    "        match = re.search(r'\\d+', filename)\n",
    "        return int(match.group()) if match else float('inf')\n",
    "    try:\n",
    "        files = [f for f in os.listdir(directory_path) if f.endswith(suffix)]\n",
    "        sorted_files = sorted(files, key=extract_number)\n",
    "        return sorted_files\n",
    "    except FileNotFoundError:\n",
    "        return f\"The directory {directory_path} does not exist.\"\n",
    "    except NotADirectoryError:\n",
    "        return f\"The path {directory_path} is not a directory.\"\n",
    "    except PermissionError:\n",
    "        return f\"Permission denied to access {directory_path}.\"\n",
    "\n",
    "directory_path = data_folder\n",
    "sorted_files = list_and_sort_files_by_number(directory_path, '.h5ad')"
   ]
  },
  {
   "cell_type": "code",
   "execution_count": 4,
   "id": "100b55c3-306a-4157-a90a-099e147c874e",
   "metadata": {
    "execution": {
     "iopub.execute_input": "2024-07-14T17:30:22.557085Z",
     "iopub.status.busy": "2024-07-14T17:30:22.556711Z",
     "iopub.status.idle": "2024-07-14T17:30:45.979104Z",
     "shell.execute_reply": "2024-07-14T17:30:45.978390Z",
     "shell.execute_reply.started": "2024-07-14T17:30:22.557065Z"
    }
   },
   "outputs": [
    {
     "name": "stderr",
     "output_type": "stream",
     "text": [
      "100%|██████████████████████████████████████████████████████████████████████████████████████████████████████████████████████████████████████████████████████████████████████████████████████████████████████████████████████| 129/129 [00:23<00:00,  5.52it/s]\n"
     ]
    }
   ],
   "source": [
    "## load the data\n",
    "from tqdm import tqdm\n",
    "slices = []\n",
    "for f in tqdm(sorted_files):\n",
    "    slices.append(ad.read_h5ad(os.path.join(data_folder, f)))"
   ]
  },
  {
   "cell_type": "code",
   "execution_count": 5,
   "id": "59922e35-b4ce-4235-a295-4206857f4127",
   "metadata": {
    "execution": {
     "iopub.execute_input": "2024-07-14T17:30:45.980495Z",
     "iopub.status.busy": "2024-07-14T17:30:45.980181Z",
     "iopub.status.idle": "2024-07-14T17:30:46.069237Z",
     "shell.execute_reply": "2024-07-14T17:30:46.068604Z",
     "shell.execute_reply.started": "2024-07-14T17:30:45.980472Z"
    }
   },
   "outputs": [],
   "source": [
    "spatial_key = \"spatial_2D\"\n",
    "anno_key = \"cell_type\""
   ]
  },
  {
   "cell_type": "code",
   "execution_count": 6,
   "id": "747cc525-d1ae-4ead-961b-5220cbccb948",
   "metadata": {
    "execution": {
     "iopub.execute_input": "2024-07-14T17:30:46.070368Z",
     "iopub.status.busy": "2024-07-14T17:30:46.069998Z",
     "iopub.status.idle": "2024-07-14T17:30:46.386361Z",
     "shell.execute_reply": "2024-07-14T17:30:46.385784Z",
     "shell.execute_reply.started": "2024-07-14T17:30:46.070347Z"
    }
   },
   "outputs": [],
   "source": [
    "## Rotate the data\n",
    "rotate_key = \"spatial_rot\"\n",
    "rotations = np.load(\"./results/random_rotations.npy\", allow_pickle=True)\n",
    "for i in range(len(slices)):\n",
    "    slices[i].obsm[rotate_key] = slices[i].obsm[spatial_key][:,:2].copy()\n",
    "    mean = np.mean(slices[i].obsm[rotate_key], axis=0)\n",
    "    slices[i].obsm[rotate_key] = slices[i].obsm[rotate_key] - mean\n",
    "    slices[i].obsm[rotate_key] = slices[i].obsm[rotate_key] @ rotations[i].T + mean"
   ]
  },
  {
   "cell_type": "code",
   "execution_count": 7,
   "id": "49a2009e-2821-42ef-b5da-6ce65eeb7d3b",
   "metadata": {
    "execution": {
     "iopub.execute_input": "2024-07-14T17:30:46.387495Z",
     "iopub.status.busy": "2024-07-14T17:30:46.387157Z",
     "iopub.status.idle": "2024-07-14T17:30:46.574879Z",
     "shell.execute_reply": "2024-07-14T17:30:46.574333Z",
     "shell.execute_reply.started": "2024-07-14T17:30:46.387474Z"
    }
   },
   "outputs": [
    {
     "name": "stderr",
     "output_type": "stream",
     "text": [
      "100%|████████████████████████████████████████████████████████████████████████████████████████████████████████████████████████████████████████████████████████████████████████████████████████████████████████████████████| 129/129 [00:00<00:00, 1096.23it/s]\n"
     ]
    }
   ],
   "source": [
    "\n",
    "stats_results_folder = './results/stats_results/'\n",
    "transformation = np.load(os.path.join(stats_results_folder, f\"{method}_transformation_{sampling_num}.npy\"), allow_pickle=True)\n",
    "align_Rotation = transformation.item()['align_Rotation']\n",
    "align_translation = transformation.item()['align_translation']\n",
    "\n",
    "cur_R = np.eye(2)\n",
    "cur_t = np.zeros(2)\n",
    "for i in tqdm(range(len(slices))):\n",
    "    slices[i].obsm['align_spatial'] = slices[i].obsm['spatial_rot'] @ cur_R.T + cur_t\n",
    "    if i < len(slices)-1:\n",
    "        R = align_Rotation[i]\n",
    "        t = align_translation[i]\n",
    "        cur_t = t @ cur_R.T + cur_t\n",
    "        cur_R = cur_R @ R\n",
    "    "
   ]
  },
  {
   "cell_type": "code",
   "execution_count": 8,
   "id": "2cababf0-2938-477e-859a-adfebfe2bda7",
   "metadata": {
    "execution": {
     "iopub.execute_input": "2024-07-14T17:30:46.576049Z",
     "iopub.status.busy": "2024-07-14T17:30:46.575630Z",
     "iopub.status.idle": "2024-07-14T17:30:47.090410Z",
     "shell.execute_reply": "2024-07-14T17:30:47.089804Z",
     "shell.execute_reply.started": "2024-07-14T17:30:46.576029Z"
    }
   },
   "outputs": [],
   "source": [
    "align_Rotation = []\n",
    "align_translation = []\n",
    "for s in slices:\n",
    "    R, t = solve_RT_by_correspondence(s.obsm['align_spatial'], s.obsm['spatial_2D'])\n",
    "    align_Rotation.append(R)\n",
    "    align_translation.append(t)\n",
    "# np.save('./results/stats_results/Spateo_mesh_transformation.npy', {'align_Rotation':align_Rotation, 'align_translation':align_translation, 'best_parameters': z_shift_correction.best_parameters}, allow_pickle=True)"
   ]
  },
  {
   "cell_type": "code",
   "execution_count": 9,
   "id": "7b2eb9cd-30f8-4957-a396-90509f68a655",
   "metadata": {
    "execution": {
     "iopub.execute_input": "2024-07-14T17:30:47.091703Z",
     "iopub.status.busy": "2024-07-14T17:30:47.091236Z",
     "iopub.status.idle": "2024-07-14T17:30:47.157419Z",
     "shell.execute_reply": "2024-07-14T17:30:47.156880Z",
     "shell.execute_reply.started": "2024-07-14T17:30:47.091682Z"
    }
   },
   "outputs": [],
   "source": [
    "transformation = np.load('./results/stats_results/Spateo_global_transformation.npy', allow_pickle=True).item()\n",
    "align_Rotation_Spateo = transformation['align_Rotation']\n",
    "align_translation_Spateo = transformation['align_translation']"
   ]
  },
  {
   "cell_type": "code",
   "execution_count": 10,
   "id": "64cac56e-21b4-4657-87e2-f8eaf09f49a5",
   "metadata": {
    "execution": {
     "iopub.execute_input": "2024-07-14T17:30:47.158555Z",
     "iopub.status.busy": "2024-07-14T17:30:47.158171Z",
     "iopub.status.idle": "2024-07-14T17:30:47.261315Z",
     "shell.execute_reply": "2024-07-14T17:30:47.260787Z",
     "shell.execute_reply.started": "2024-07-14T17:30:47.158535Z"
    }
   },
   "outputs": [],
   "source": [
    "contours = []\n",
    "for i in range(len(slices)):\n",
    "    cur_contour = np.load(f'./results/contours/{i}.npy')\n",
    "    R_s = align_Rotation_Spateo[i]\n",
    "    t_s = align_translation_Spateo[i]\n",
    "    cur_contour = ((cur_contour - t_s) @ R_s) @ align_Rotation[i].T + align_translation[i]\n",
    "    contours.append(cur_contour)"
   ]
  },
  {
   "cell_type": "code",
   "execution_count": 11,
   "id": "f242166e-0dbc-4480-a909-c4b2364943b3",
   "metadata": {
    "execution": {
     "iopub.execute_input": "2024-07-14T17:30:47.262445Z",
     "iopub.status.busy": "2024-07-14T17:30:47.262048Z",
     "iopub.status.idle": "2024-07-14T17:30:47.350841Z",
     "shell.execute_reply": "2024-07-14T17:30:47.350267Z",
     "shell.execute_reply.started": "2024-07-14T17:30:47.262425Z"
    }
   },
   "outputs": [],
   "source": [
    "z_values = []\n",
    "for i in range(len(slices)):\n",
    "    z_values.append(np.mean(slices[i].obs['z_height']))"
   ]
  },
  {
   "cell_type": "code",
   "execution_count": 12,
   "id": "1b1ec1d3-225d-47a5-96a1-5a38980b6578",
   "metadata": {
    "execution": {
     "iopub.execute_input": "2024-07-14T17:30:47.353424Z",
     "iopub.status.busy": "2024-07-14T17:30:47.353037Z",
     "iopub.status.idle": "2024-07-14T17:30:47.421514Z",
     "shell.execute_reply": "2024-07-14T17:30:47.420980Z",
     "shell.execute_reply.started": "2024-07-14T17:30:47.353402Z"
    }
   },
   "outputs": [],
   "source": [
    "import pyvista as pv\n",
    "brain_mesh = pv.read('../../data/HalfAdultMouseBrain.vtk')"
   ]
  },
  {
   "cell_type": "code",
   "execution_count": 13,
   "id": "829bc76c-9028-4402-9fd4-f17a56ce90a4",
   "metadata": {
    "execution": {
     "iopub.execute_input": "2024-07-14T17:30:47.422399Z",
     "iopub.status.busy": "2024-07-14T17:30:47.422201Z",
     "iopub.status.idle": "2024-07-14T17:30:47.533971Z",
     "shell.execute_reply": "2024-07-14T17:30:47.533395Z",
     "shell.execute_reply.started": "2024-07-14T17:30:47.422380Z"
    }
   },
   "outputs": [],
   "source": [
    "brain_mesh_align = st.tdr.scale_model(model=brain_mesh, scale_factor=900, scale_center=None, inplace=False)\n",
    "brain_mesh_align = st.tdr.rotate_model(model=brain_mesh_align, angle=(0, 180, 0), rotate_center= brain_mesh.center, inplace=False)\n",
    "brain_mesh_align = st.tdr.translate_model(model=brain_mesh_align, distance=(5900, -4000, 6000), inplace=False)\n",
    "brain_mesh_align = st.tdr.scale_model(model=brain_mesh_align, scale_factor=1.1, scale_center=None, inplace=False)\n",
    "brain_mesh_align = st.tdr.translate_model(model=brain_mesh_align, distance=(0,0,600), inplace=False)\n",
    "brain_mesh_align = st.tdr.translate_model(model=brain_mesh_align, distance=(0,70,0), inplace=False)\n",
    "brain_mesh_align = st.tdr.scale_model(model=brain_mesh_align, scale_factor=1.02, scale_center=None, inplace=False)\n",
    "brain_mesh_align = st.tdr.rotate_model(model=brain_mesh_align, angle=(0, 0, 180), rotate_center= brain_mesh_align.center, inplace=False)"
   ]
  },
  {
   "cell_type": "code",
   "execution_count": 14,
   "id": "d17e4f5a-6b6e-45a4-8722-1a99d6bc7803",
   "metadata": {
    "execution": {
     "iopub.execute_input": "2024-07-14T17:30:47.535246Z",
     "iopub.status.busy": "2024-07-14T17:30:47.534859Z",
     "iopub.status.idle": "2024-07-14T17:30:47.602060Z",
     "shell.execute_reply": "2024-07-14T17:30:47.601536Z",
     "shell.execute_reply.started": "2024-07-14T17:30:47.535223Z"
    }
   },
   "outputs": [
    {
     "data": {
      "text/plain": [
       "AnnData object with n_obs × n_vars = 12531 × 1122\n",
       "    obs: 'organism_ontology_term_id', 'donor_id', 'development_stage_ontology_term_id', 'sex_ontology_term_id', 'self_reported_ethnicity_ontology_term_id', 'disease_ontology_term_id', 'tissue_ontology_term_id', 'cell_type_ontology_term_id', 'assay_ontology_term_id', 'suspension_type', 'cluster_id_transfer', 'subclass_transfer', 'cluster_confidence_score', 'subclass_confidence_score', 'high_quality_transfer', 'major_brain_region', 'ccf_region_name', 'brain_section_label', 'tissue_type', 'is_primary_data', 'cell_type', 'assay', 'disease', 'organism', 'sex', 'tissue', 'self_reported_ethnicity', 'development_stage', 'observation_joinid', 'z_height'\n",
       "    var: 'gene_name', 'feature_is_filtered', 'feature_name', 'feature_reference', 'feature_biotype', 'feature_length'\n",
       "    uns: 'citation', 'schema_reference', 'schema_version', 'title'\n",
       "    obsm: 'X_CCF', 'X_spatial_coords', 'X_umap', 'spatial_2D', 'spatial_rot', 'align_spatial'"
      ]
     },
     "execution_count": 14,
     "metadata": {},
     "output_type": "execute_result"
    }
   ],
   "source": [
    "slices[0]"
   ]
  },
  {
   "cell_type": "code",
   "execution_count": 15,
   "id": "92add4c5-00cf-48aa-bb6b-c6f4c4b5a864",
   "metadata": {
    "execution": {
     "iopub.execute_input": "2024-07-14T17:30:47.603158Z",
     "iopub.status.busy": "2024-07-14T17:30:47.602808Z",
     "iopub.status.idle": "2024-07-14T17:30:51.219542Z",
     "shell.execute_reply": "2024-07-14T17:30:51.218950Z",
     "shell.execute_reply.started": "2024-07-14T17:30:47.603138Z"
    }
   },
   "outputs": [],
   "source": [
    "z_shift_correction = st.align.z_shift_correction(\n",
    "    models=slices,\n",
    "    mesh=brain_mesh_align,\n",
    "    spatial_key='align_spatial',\n",
    "    key_added='align_spatial_z_corrected',\n",
    "    z_values=z_values,\n",
    ")"
   ]
  },
  {
   "cell_type": "code",
   "execution_count": 16,
   "id": "bfdf7c96-ce87-4f28-af10-1e31927c69c9",
   "metadata": {
    "execution": {
     "iopub.execute_input": "2024-07-14T17:30:51.220728Z",
     "iopub.status.busy": "2024-07-14T17:30:51.220340Z",
     "iopub.status.idle": "2024-07-14T17:30:51.283831Z",
     "shell.execute_reply": "2024-07-14T17:30:51.283266Z",
     "shell.execute_reply.started": "2024-07-14T17:30:51.220707Z"
    }
   },
   "outputs": [],
   "source": [
    "z_shift_correction.contours = contours"
   ]
  },
  {
   "cell_type": "code",
   "execution_count": 17,
   "id": "1286ec77-b77d-4fbb-9183-c2df18526a45",
   "metadata": {
    "execution": {
     "iopub.execute_input": "2024-07-14T17:30:51.284914Z",
     "iopub.status.busy": "2024-07-14T17:30:51.284540Z",
     "iopub.status.idle": "2024-07-14T17:30:51.345677Z",
     "shell.execute_reply": "2024-07-14T17:30:51.345078Z",
     "shell.execute_reply.started": "2024-07-14T17:30:51.284894Z"
    }
   },
   "outputs": [],
   "source": [
    "# z_shift_correction.extract_contours(method='alpha', smoothing=True, window_size=3, outlier_threshold=10, alpha=0.01, n_sampling=10000)"
   ]
  },
  {
   "cell_type": "code",
   "execution_count": null,
   "id": "3c7ebfee-0858-43c7-8784-7335cbd14590",
   "metadata": {
    "execution": {
     "iopub.execute_input": "2024-07-14T17:30:51.346867Z",
     "iopub.status.busy": "2024-07-14T17:30:51.346423Z",
     "iopub.status.idle": "2024-07-14T17:31:23.301154Z",
     "shell.execute_reply": "2024-07-14T17:31:23.300480Z",
     "shell.execute_reply.started": "2024-07-14T17:30:51.346848Z"
    }
   },
   "outputs": [],
   "source": [
    "%matplotlib inline\n",
    "spot_scatter_size = 1\n",
    "col_num = 8\n",
    "row_num = len(slices) // col_num + 1\n",
    "fig, axs = plt.subplots(row_num, col_num, figsize = (col_num*2, row_num*2), sharex=True, sharey=True)\n",
    "for i in range(col_num * row_num):\n",
    "    row = i // col_num\n",
    "    col = i % col_num\n",
    "    ax = axs[row, col]\n",
    "    if i < z_shift_correction.n_models - 1:\n",
    "        points = z_shift_correction.slices_spatial[i]\n",
    "        contour = z_shift_correction.contours[i]\n",
    "        ax.scatter(points[:,0],points[:,1],s=spot_scatter_size, color='b')\n",
    "        ax.scatter(contour[:,0],contour[:,1],s=spot_scatter_size, color='r')\n",
    "        ax.set_aspect('equal')\n",
    "    else:\n",
    "        ax.axis('off')\n",
    "# plt.savefig(os.path.join(results_folder,'GT_slices.png'), dpi=300, bbox_inches='tight')"
   ]
  },
  {
   "cell_type": "code",
   "execution_count": null,
   "id": "d82b7b1b-eb0d-497e-aef2-7bf9ed9571bd",
   "metadata": {
    "execution": {
     "iopub.execute_input": "2024-07-14T17:31:23.302247Z",
     "iopub.status.busy": "2024-07-14T17:31:23.301969Z"
    }
   },
   "outputs": [
    {
     "name": "stdout",
     "output_type": "stream",
     "text": [
      "subsample\n",
      "Current iter: 0, parameters: [0 0 0 0 1] with loss: 100000000.0\n",
      "Current pair: 0\n",
      "Current pair: 0\n",
      "Current pair: 0\n",
      "Current pair: 0\n",
      "Current pair: 0\n",
      "Current pair: 0\n",
      "Current pair: 0\n",
      "Current pair: 0\n",
      "Current pair: 0\n",
      "Current pair: 0\n"
     ]
    }
   ],
   "source": [
    "init_parameters = np.array([0,0,0,0,1])\n",
    "best_parameters, _ = z_shift_correction.start_discrete_optimization(\n",
    "    init_parameters=init_parameters,\n",
    "    max_rotation_angle=5,\n",
    "    max_translation_scale=0.1,\n",
    "    max_scaling=1.05,\n",
    "    labelNum=8,\n",
    "    nIters=10,\n",
    "    multi_process=True,\n",
    ")"
   ]
  },
  {
   "cell_type": "code",
   "execution_count": null,
   "id": "b061c5fa-f174-4271-9fcd-e3ff07059392",
   "metadata": {},
   "outputs": [],
   "source": [
    "z_shift_correction.get_z_shift(smooth=False, allow_rotation=True)"
   ]
  },
  {
   "cell_type": "code",
   "execution_count": null,
   "id": "e9f9a9c0-b8ce-476f-ab45-aa79ce14fe62",
   "metadata": {},
   "outputs": [],
   "source": [
    "z_shift_correction.z_shift_correction(\n",
    "    models=slices,\n",
    ")"
   ]
  },
  {
   "cell_type": "code",
   "execution_count": null,
   "id": "5e1c28e5-5ef8-4ab9-b1d4-b2c96e04a24f",
   "metadata": {},
   "outputs": [],
   "source": [
    "R_shift = z_shift_correction.R_shift\n",
    "z_shift = z_shift_correction.z_shift\n",
    "contours = z_shift_correction.contours\n",
    "z_values = z_shift_correction.z_values\n",
    "z_correct_contours_3d = []\n",
    "for i, (c, z) in enumerate(zip(contours, z_values)):\n",
    "    c = (c - z_shift[i]) @ R_shift[i]\n",
    "    z_correct_contours_3d.append(np.concatenate((c, np.ones((c.shape[0],1))*z), axis=1))"
   ]
  },
  {
   "cell_type": "code",
   "execution_count": null,
   "id": "7ac7375b-0573-4326-a67b-d777b7ee4c0e",
   "metadata": {},
   "outputs": [],
   "source": [
    "pv.set_jupyter_backend('panel')\n",
    "pl = pv.Plotter(notebook=True,border=True,window_size=[768,768], off_screen=False)\n",
    "pl.add_mesh(pv.PolyData(z_shift_correction.aligned_mesh),color='g',point_size=1.0,render_points_as_spheres=True, ambient=0.5)\n",
    "\n",
    "pl.add_mesh(pv.PolyData(np.concatenate(z_correct_contours_3d,axis=0)),color='r',point_size=2.0,render_points_as_spheres=True)\n",
    "pl.background_color = 'k'\n",
    "pl.camera_position = 'xy'\n",
    "pl.show()"
   ]
  },
  {
   "cell_type": "code",
   "execution_count": null,
   "id": "3bc2fb02-ee48-4b69-8d80-52af384965a0",
   "metadata": {},
   "outputs": [],
   "source": [
    "align_Rotation = []\n",
    "align_translation = []\n",
    "for s in slices:\n",
    "    R, t = solve_RT_by_correspondence(s.obsm['align_spatial_z_corrected'], s.obsm['spatial_2D'])\n",
    "    align_Rotation.append(R)\n",
    "    align_translation.append(t)\n",
    "np.save(f'./results/stats_results/{method}_mesh_transformation.npy', {'align_Rotation':align_Rotation, 'align_translation':align_translation, 'best_parameters': z_shift_correction.best_parameters}, allow_pickle=True)"
   ]
  }
 ],
 "metadata": {
  "kernelspec": {
   "display_name": "Spateo",
   "language": "python",
   "name": "spateo"
  },
  "language_info": {
   "codemirror_mode": {
    "name": "ipython",
    "version": 3
   },
   "file_extension": ".py",
   "mimetype": "text/x-python",
   "name": "python",
   "nbconvert_exporter": "python",
   "pygments_lexer": "ipython3",
   "version": "3.9.19"
  }
 },
 "nbformat": 4,
 "nbformat_minor": 5
}
