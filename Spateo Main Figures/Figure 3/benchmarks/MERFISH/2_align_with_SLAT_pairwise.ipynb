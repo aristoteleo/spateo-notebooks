{
 "cells": [
  {
   "cell_type": "code",
   "execution_count": 1,
   "id": "0908cd60-618c-42e7-9854-9713751acdda",
   "metadata": {
    "execution": {
     "iopub.execute_input": "2024-07-09T07:27:46.554270Z",
     "iopub.status.busy": "2024-07-09T07:27:46.553898Z",
     "iopub.status.idle": "2024-07-09T07:27:51.507099Z",
     "shell.execute_reply": "2024-07-09T07:27:51.506566Z",
     "shell.execute_reply.started": "2024-07-09T07:27:46.554239Z"
    }
   },
   "outputs": [],
   "source": [
    "import os\n",
    "os.environ['CUDA_VISIBLE_DEVICES'] = '2'\n",
    "import sys\n",
    "from pathlib import Path\n",
    "import anndata as ad\n",
    "import scanpy as sc\n",
    "import numpy as np\n",
    "import warnings\n",
    "warnings.simplefilter(action='ignore', category=FutureWarning)\n",
    "import seaborn as sns\n",
    "from matplotlib import pyplot as plt\n",
    "\n",
    "sys.path.insert(0, \"../../scripts/methods/\")\n",
    "from my_slat import slat_align, slat_align_ref\n",
    "sys.path.insert(0, \"/home/ylu/project\")\n",
    "from utils import *\n",
    "import time\n",
    "\n",
    "\n",
    "%load_ext autoreload\n",
    "%autoreload 2"
   ]
  },
  {
   "cell_type": "code",
   "execution_count": 2,
   "id": "e7b47bc4-0453-474d-a39f-aa14ed636caa",
   "metadata": {
    "execution": {
     "iopub.execute_input": "2024-07-09T07:27:56.834637Z",
     "iopub.status.busy": "2024-07-09T07:27:56.834078Z",
     "iopub.status.idle": "2024-07-09T07:27:56.893819Z",
     "shell.execute_reply": "2024-07-09T07:27:56.893192Z",
     "shell.execute_reply.started": "2024-07-09T07:27:56.834607Z"
    }
   },
   "outputs": [],
   "source": [
    "data_folder = \"./results/split_slices_CCF/\"\n",
    "results_folder = \"./results/SLAT/\"\n",
    "figures_folder = \"./results/figures/SLAT\"\n",
    "Path(results_folder).mkdir(parents=True, exist_ok=True)"
   ]
  },
  {
   "cell_type": "code",
   "execution_count": 3,
   "id": "f9ebdfa5-bf14-4a81-8467-309ab35ea615",
   "metadata": {
    "execution": {
     "iopub.execute_input": "2024-07-09T07:28:08.938945Z",
     "iopub.status.busy": "2024-07-09T07:28:08.938508Z",
     "iopub.status.idle": "2024-07-09T07:28:09.015582Z",
     "shell.execute_reply": "2024-07-09T07:28:09.014956Z",
     "shell.execute_reply.started": "2024-07-09T07:28:08.938914Z"
    }
   },
   "outputs": [],
   "source": [
    "import re\n",
    "def list_and_sort_files_by_number(directory_path, suffix):\n",
    "    def extract_number(filename):\n",
    "        match = re.search(r'\\d+', filename)\n",
    "        return int(match.group()) if match else float('inf')\n",
    "    try:\n",
    "        files = [f for f in os.listdir(directory_path) if f.endswith(suffix)]\n",
    "        sorted_files = sorted(files, key=extract_number)\n",
    "        return sorted_files\n",
    "    except FileNotFoundError:\n",
    "        return f\"The directory {directory_path} does not exist.\"\n",
    "    except NotADirectoryError:\n",
    "        return f\"The path {directory_path} is not a directory.\"\n",
    "    except PermissionError:\n",
    "        return f\"Permission denied to access {directory_path}.\"\n",
    "\n",
    "directory_path = data_folder\n",
    "sorted_files = list_and_sort_files_by_number(directory_path, '.h5ad')"
   ]
  },
  {
   "cell_type": "code",
   "execution_count": 4,
   "id": "dea7abee-5509-4d87-8b86-19fb460fcb84",
   "metadata": {
    "execution": {
     "iopub.execute_input": "2024-07-09T07:28:09.446904Z",
     "iopub.status.busy": "2024-07-09T07:28:09.446363Z",
     "iopub.status.idle": "2024-07-09T07:28:33.531569Z",
     "shell.execute_reply": "2024-07-09T07:28:33.531058Z",
     "shell.execute_reply.started": "2024-07-09T07:28:09.446872Z"
    }
   },
   "outputs": [
    {
     "name": "stderr",
     "output_type": "stream",
     "text": [
      "100%|███████████████| 129/129 [00:24<00:00,  5.36it/s]\n"
     ]
    }
   ],
   "source": [
    "## load the data\n",
    "from tqdm import tqdm\n",
    "slices = []\n",
    "for f in tqdm(sorted_files):\n",
    "    slices.append(ad.read_h5ad(os.path.join(data_folder, f)))"
   ]
  },
  {
   "cell_type": "code",
   "execution_count": 5,
   "id": "24840e17-a7da-4938-8e80-c4d7993303be",
   "metadata": {
    "execution": {
     "iopub.execute_input": "2024-07-09T07:28:33.533004Z",
     "iopub.status.busy": "2024-07-09T07:28:33.532665Z",
     "iopub.status.idle": "2024-07-09T07:28:33.563429Z",
     "shell.execute_reply": "2024-07-09T07:28:33.562967Z",
     "shell.execute_reply.started": "2024-07-09T07:28:33.532982Z"
    }
   },
   "outputs": [],
   "source": [
    "spatial_key = \"spatial_2D\"\n",
    "anno_key = \"cell_type\""
   ]
  },
  {
   "cell_type": "code",
   "execution_count": 6,
   "id": "1bf95a00-6497-41f2-959f-fd6b207731c0",
   "metadata": {
    "execution": {
     "iopub.execute_input": "2024-07-09T07:28:33.564507Z",
     "iopub.status.busy": "2024-07-09T07:28:33.564173Z",
     "iopub.status.idle": "2024-07-09T07:28:33.845749Z",
     "shell.execute_reply": "2024-07-09T07:28:33.845170Z",
     "shell.execute_reply.started": "2024-07-09T07:28:33.564487Z"
    }
   },
   "outputs": [],
   "source": [
    "## Rotate the data\n",
    "rotate_key = \"spatial_rot\"\n",
    "rotations = np.load(\"./results/random_rotations.npy\", allow_pickle=True)\n",
    "for i in range(len(slices)):\n",
    "    slices[i].obsm[rotate_key] = slices[i].obsm[spatial_key][:,:2].copy()\n",
    "    mean = np.mean(slices[i].obsm[rotate_key], axis=0)\n",
    "    slices[i].obsm[rotate_key] = slices[i].obsm[rotate_key] - mean\n",
    "    slices[i].obsm[rotate_key] = slices[i].obsm[rotate_key] @ rotations[i].T + mean\n",
    "    "
   ]
  },
  {
   "cell_type": "code",
   "execution_count": 7,
   "id": "3e3a25fd-c7b7-4bcf-bd2f-214badbcbbaa",
   "metadata": {
    "execution": {
     "iopub.execute_input": "2024-07-09T07:28:33.847322Z",
     "iopub.status.busy": "2024-07-09T07:28:33.846964Z",
     "iopub.status.idle": "2024-07-09T07:28:33.877908Z",
     "shell.execute_reply": "2024-07-09T07:28:33.877442Z",
     "shell.execute_reply.started": "2024-07-09T07:28:33.847300Z"
    }
   },
   "outputs": [],
   "source": [
    "spatial_key = \"spatial_rot\"\n",
    "key_added = \"aligned_spatial\""
   ]
  },
  {
   "cell_type": "code",
   "execution_count": 8,
   "id": "4d4bce49-e6f9-40da-8186-ac93595f278b",
   "metadata": {
    "execution": {
     "iopub.execute_input": "2024-07-09T07:29:06.772883Z",
     "iopub.status.busy": "2024-07-09T07:29:06.772492Z",
     "iopub.status.idle": "2024-07-09T08:17:50.339633Z",
     "shell.execute_reply": "2024-07-09T08:17:50.338683Z",
     "shell.execute_reply.started": "2024-07-09T07:29:06.772858Z"
    }
   },
   "outputs": [
    {
     "name": "stderr",
     "output_type": "stream",
     "text": [
      "  0%|                         | 0/128 [00:00<?, ?it/s]"
     ]
    },
    {
     "name": "stdout",
     "output_type": "stream",
     "text": [
      "Calculating spatial neighbor graph ...\n",
      "The graph contains 143935 edges, 12531 cells.\n",
      "11.486313941425266 neighbors per cell on average.\n",
      "Calculating spatial neighbor graph ...\n",
      "The graph contains 159512 edges, 13952 cells.\n",
      "11.432912844036696 neighbors per cell on average.\n",
      "Use DPCA feature to format graph\n"
     ]
    },
    {
     "name": "stderr",
     "output_type": "stream",
     "text": [
      "/home/ylu/anaconda3/envs/scSLAT/lib/python3.8/site-packages/scanpy/preprocessing/_highly_variable_genes.py:64: UserWarning: `flavor='seurat_v3'` expects raw count data, but non-integers were found.\n",
      "  warnings.warn(\n",
      "/home/ylu/anaconda3/envs/scSLAT/lib/python3.8/site-packages/scanpy/preprocessing/_normalization.py:169: UserWarning: Received a view of an AnnData. Making a copy.\n",
      "  view_to_actual(adata)\n",
      "/home/ylu/anaconda3/envs/scSLAT/lib/python3.8/site-packages/scanpy/preprocessing/_simple.py:843: UserWarning: Received a view of an AnnData. Making a copy.\n",
      "  view_to_actual(adata)\n",
      "/home/ylu/anaconda3/envs/scSLAT/lib/python3.8/site-packages/scanpy/preprocessing/_simple.py:843: UserWarning: Received a view of an AnnData. Making a copy.\n",
      "  view_to_actual(adata)\n"
     ]
    },
    {
     "name": "stdout",
     "output_type": "stream",
     "text": [
      "Warning! Dual PCA is using GPU, which may lead to OUT OF GPU MEMORY in big dataset!\n",
      "Choose GPU:0 as device\n",
      "Running\n",
      "---------- epochs: 1 ----------\n",
      "---------- epochs: 2 ----------\n",
      "---------- epochs: 3 ----------\n",
      "---------- epochs: 4 ----------\n",
      "---------- epochs: 5 ----------\n",
      "---------- epochs: 6 ----------\n",
      "Training model time: 3.02\n"
     ]
    },
    {
     "name": "stderr",
     "output_type": "stream",
     "text": [
      "  1%|▏                | 1/128 [00:23<49:34, 23.42s/it]"
     ]
    },
    {
     "name": "stdout",
     "output_type": "stream",
     "text": [
      "Calculating spatial neighbor graph ...\n",
      "The graph contains 159512 edges, 13952 cells.\n",
      "11.432912844036696 neighbors per cell on average.\n",
      "Calculating spatial neighbor graph ...\n",
      "The graph contains 156847 edges, 13721 cells.\n",
      "11.431163909336055 neighbors per cell on average.\n",
      "Use DPCA feature to format graph\n"
     ]
    },
    {
     "name": "stderr",
     "output_type": "stream",
     "text": [
      "/home/ylu/anaconda3/envs/scSLAT/lib/python3.8/site-packages/scanpy/preprocessing/_highly_variable_genes.py:64: UserWarning: `flavor='seurat_v3'` expects raw count data, but non-integers were found.\n",
      "  warnings.warn(\n",
      "/home/ylu/anaconda3/envs/scSLAT/lib/python3.8/site-packages/scanpy/preprocessing/_normalization.py:169: UserWarning: Received a view of an AnnData. Making a copy.\n",
      "  view_to_actual(adata)\n",
      "/home/ylu/anaconda3/envs/scSLAT/lib/python3.8/site-packages/scanpy/preprocessing/_simple.py:843: UserWarning: Received a view of an AnnData. Making a copy.\n",
      "  view_to_actual(adata)\n",
      "/home/ylu/anaconda3/envs/scSLAT/lib/python3.8/site-packages/scanpy/preprocessing/_simple.py:843: UserWarning: Received a view of an AnnData. Making a copy.\n",
      "  view_to_actual(adata)\n"
     ]
    },
    {
     "name": "stdout",
     "output_type": "stream",
     "text": [
      "Warning! Dual PCA is using GPU, which may lead to OUT OF GPU MEMORY in big dataset!\n",
      "Choose GPU:0 as device\n",
      "Running\n",
      "---------- epochs: 1 ----------\n",
      "---------- epochs: 2 ----------\n",
      "---------- epochs: 3 ----------\n",
      "---------- epochs: 4 ----------\n",
      "---------- epochs: 5 ----------\n",
      "---------- epochs: 6 ----------\n",
      "Training model time: 1.13\n"
     ]
    },
    {
     "name": "stderr",
     "output_type": "stream",
     "text": [
      "  2%|▎                | 2/128 [00:42<44:09, 21.03s/it]"
     ]
    },
    {
     "name": "stdout",
     "output_type": "stream",
     "text": [
      "Calculating spatial neighbor graph ...\n",
      "The graph contains 156847 edges, 13721 cells.\n",
      "11.431163909336055 neighbors per cell on average.\n",
      "Calculating spatial neighbor graph ...\n",
      "The graph contains 194228 edges, 16960 cells.\n",
      "11.452122641509433 neighbors per cell on average.\n",
      "Use DPCA feature to format graph\n"
     ]
    },
    {
     "name": "stderr",
     "output_type": "stream",
     "text": [
      "/home/ylu/anaconda3/envs/scSLAT/lib/python3.8/site-packages/scanpy/preprocessing/_highly_variable_genes.py:64: UserWarning: `flavor='seurat_v3'` expects raw count data, but non-integers were found.\n",
      "  warnings.warn(\n",
      "/home/ylu/anaconda3/envs/scSLAT/lib/python3.8/site-packages/scanpy/preprocessing/_normalization.py:169: UserWarning: Received a view of an AnnData. Making a copy.\n",
      "  view_to_actual(adata)\n",
      "/home/ylu/anaconda3/envs/scSLAT/lib/python3.8/site-packages/scanpy/preprocessing/_simple.py:843: UserWarning: Received a view of an AnnData. Making a copy.\n",
      "  view_to_actual(adata)\n",
      "/home/ylu/anaconda3/envs/scSLAT/lib/python3.8/site-packages/scanpy/preprocessing/_simple.py:843: UserWarning: Received a view of an AnnData. Making a copy.\n",
      "  view_to_actual(adata)\n"
     ]
    },
    {
     "name": "stdout",
     "output_type": "stream",
     "text": [
      "Warning! Dual PCA is using GPU, which may lead to OUT OF GPU MEMORY in big dataset!\n",
      "Choose GPU:0 as device\n",
      "Running\n",
      "---------- epochs: 1 ----------\n",
      "---------- epochs: 2 ----------\n",
      "---------- epochs: 3 ----------\n",
      "---------- epochs: 4 ----------\n",
      "---------- epochs: 5 ----------\n",
      "---------- epochs: 6 ----------\n",
      "Training model time: 1.26\n"
     ]
    },
    {
     "name": "stderr",
     "output_type": "stream",
     "text": [
      "  2%|▍                | 3/128 [01:07<47:02, 22.58s/it]"
     ]
    },
    {
     "name": "stdout",
     "output_type": "stream",
     "text": [
      "Calculating spatial neighbor graph ...\n",
      "The graph contains 194228 edges, 16960 cells.\n",
      "11.452122641509433 neighbors per cell on average.\n",
      "Calculating spatial neighbor graph ...\n",
      "The graph contains 192003 edges, 16775 cells.\n",
      "11.445782414307004 neighbors per cell on average.\n",
      "Use DPCA feature to format graph\n"
     ]
    },
    {
     "name": "stderr",
     "output_type": "stream",
     "text": [
      "/home/ylu/anaconda3/envs/scSLAT/lib/python3.8/site-packages/scanpy/preprocessing/_highly_variable_genes.py:64: UserWarning: `flavor='seurat_v3'` expects raw count data, but non-integers were found.\n",
      "  warnings.warn(\n",
      "/home/ylu/anaconda3/envs/scSLAT/lib/python3.8/site-packages/scanpy/preprocessing/_normalization.py:169: UserWarning: Received a view of an AnnData. Making a copy.\n",
      "  view_to_actual(adata)\n",
      "/home/ylu/anaconda3/envs/scSLAT/lib/python3.8/site-packages/scanpy/preprocessing/_simple.py:843: UserWarning: Received a view of an AnnData. Making a copy.\n",
      "  view_to_actual(adata)\n",
      "/home/ylu/anaconda3/envs/scSLAT/lib/python3.8/site-packages/scanpy/preprocessing/_simple.py:843: UserWarning: Received a view of an AnnData. Making a copy.\n",
      "  view_to_actual(adata)\n"
     ]
    },
    {
     "name": "stdout",
     "output_type": "stream",
     "text": [
      "Warning! Dual PCA is using GPU, which may lead to OUT OF GPU MEMORY in big dataset!\n",
      "Choose GPU:0 as device\n",
      "Running\n",
      "---------- epochs: 1 ----------\n",
      "---------- epochs: 2 ----------\n",
      "---------- epochs: 3 ----------\n",
      "---------- epochs: 4 ----------\n",
      "---------- epochs: 5 ----------\n",
      "---------- epochs: 6 ----------\n",
      "Training model time: 1.54\n"
     ]
    },
    {
     "name": "stderr",
     "output_type": "stream",
     "text": [
      "  3%|▌                | 4/128 [01:28<45:51, 22.19s/it]"
     ]
    },
    {
     "name": "stdout",
     "output_type": "stream",
     "text": [
      "Calculating spatial neighbor graph ...\n",
      "The graph contains 192003 edges, 16775 cells.\n",
      "11.445782414307004 neighbors per cell on average.\n",
      "Calculating spatial neighbor graph ...\n",
      "The graph contains 191794 edges, 16736 cells.\n",
      "11.459966539196941 neighbors per cell on average.\n",
      "Use DPCA feature to format graph\n"
     ]
    },
    {
     "name": "stderr",
     "output_type": "stream",
     "text": [
      "/home/ylu/anaconda3/envs/scSLAT/lib/python3.8/site-packages/scanpy/preprocessing/_highly_variable_genes.py:64: UserWarning: `flavor='seurat_v3'` expects raw count data, but non-integers were found.\n",
      "  warnings.warn(\n",
      "/home/ylu/anaconda3/envs/scSLAT/lib/python3.8/site-packages/scanpy/preprocessing/_normalization.py:169: UserWarning: Received a view of an AnnData. Making a copy.\n",
      "  view_to_actual(adata)\n",
      "/home/ylu/anaconda3/envs/scSLAT/lib/python3.8/site-packages/scanpy/preprocessing/_simple.py:843: UserWarning: Received a view of an AnnData. Making a copy.\n",
      "  view_to_actual(adata)\n",
      "/home/ylu/anaconda3/envs/scSLAT/lib/python3.8/site-packages/scanpy/preprocessing/_simple.py:843: UserWarning: Received a view of an AnnData. Making a copy.\n",
      "  view_to_actual(adata)\n"
     ]
    },
    {
     "name": "stdout",
     "output_type": "stream",
     "text": [
      "Warning! Dual PCA is using GPU, which may lead to OUT OF GPU MEMORY in big dataset!\n",
      "Choose GPU:0 as device\n",
      "Running\n",
      "---------- epochs: 1 ----------\n",
      "---------- epochs: 2 ----------\n",
      "---------- epochs: 3 ----------\n",
      "---------- epochs: 4 ----------\n",
      "---------- epochs: 5 ----------\n",
      "---------- epochs: 6 ----------\n",
      "Training model time: 1.32\n"
     ]
    },
    {
     "name": "stderr",
     "output_type": "stream",
     "text": [
      "  4%|▋                | 5/128 [01:50<45:11, 22.04s/it]"
     ]
    },
    {
     "name": "stdout",
     "output_type": "stream",
     "text": [
      "Calculating spatial neighbor graph ...\n",
      "The graph contains 191794 edges, 16736 cells.\n",
      "11.459966539196941 neighbors per cell on average.\n",
      "Calculating spatial neighbor graph ...\n",
      "The graph contains 191876 edges, 16800 cells.\n",
      "11.421190476190477 neighbors per cell on average.\n",
      "Use DPCA feature to format graph\n"
     ]
    },
    {
     "name": "stderr",
     "output_type": "stream",
     "text": [
      "/home/ylu/anaconda3/envs/scSLAT/lib/python3.8/site-packages/scanpy/preprocessing/_highly_variable_genes.py:64: UserWarning: `flavor='seurat_v3'` expects raw count data, but non-integers were found.\n",
      "  warnings.warn(\n",
      "/home/ylu/anaconda3/envs/scSLAT/lib/python3.8/site-packages/scanpy/preprocessing/_normalization.py:169: UserWarning: Received a view of an AnnData. Making a copy.\n",
      "  view_to_actual(adata)\n",
      "/home/ylu/anaconda3/envs/scSLAT/lib/python3.8/site-packages/scanpy/preprocessing/_simple.py:843: UserWarning: Received a view of an AnnData. Making a copy.\n",
      "  view_to_actual(adata)\n",
      "/home/ylu/anaconda3/envs/scSLAT/lib/python3.8/site-packages/scanpy/preprocessing/_simple.py:843: UserWarning: Received a view of an AnnData. Making a copy.\n",
      "  view_to_actual(adata)\n"
     ]
    },
    {
     "name": "stdout",
     "output_type": "stream",
     "text": [
      "Warning! Dual PCA is using GPU, which may lead to OUT OF GPU MEMORY in big dataset!\n",
      "Choose GPU:0 as device\n",
      "Running\n",
      "---------- epochs: 1 ----------\n",
      "---------- epochs: 2 ----------\n",
      "---------- epochs: 3 ----------\n",
      "---------- epochs: 4 ----------\n",
      "---------- epochs: 5 ----------\n",
      "---------- epochs: 6 ----------\n",
      "Training model time: 1.32\n"
     ]
    },
    {
     "name": "stderr",
     "output_type": "stream",
     "text": [
      "  5%|▊                | 6/128 [02:14<46:15, 22.75s/it]"
     ]
    },
    {
     "name": "stdout",
     "output_type": "stream",
     "text": [
      "Calculating spatial neighbor graph ...\n",
      "The graph contains 191876 edges, 16800 cells.\n",
      "11.421190476190477 neighbors per cell on average.\n",
      "Calculating spatial neighbor graph ...\n",
      "The graph contains 182259 edges, 15959 cells.\n",
      "11.420452409298829 neighbors per cell on average.\n",
      "Use DPCA feature to format graph\n"
     ]
    },
    {
     "name": "stderr",
     "output_type": "stream",
     "text": [
      "/home/ylu/anaconda3/envs/scSLAT/lib/python3.8/site-packages/scanpy/preprocessing/_highly_variable_genes.py:64: UserWarning: `flavor='seurat_v3'` expects raw count data, but non-integers were found.\n",
      "  warnings.warn(\n",
      "/home/ylu/anaconda3/envs/scSLAT/lib/python3.8/site-packages/scanpy/preprocessing/_normalization.py:169: UserWarning: Received a view of an AnnData. Making a copy.\n",
      "  view_to_actual(adata)\n",
      "/home/ylu/anaconda3/envs/scSLAT/lib/python3.8/site-packages/scanpy/preprocessing/_simple.py:843: UserWarning: Received a view of an AnnData. Making a copy.\n",
      "  view_to_actual(adata)\n",
      "/home/ylu/anaconda3/envs/scSLAT/lib/python3.8/site-packages/scanpy/preprocessing/_simple.py:843: UserWarning: Received a view of an AnnData. Making a copy.\n",
      "  view_to_actual(adata)\n"
     ]
    },
    {
     "name": "stdout",
     "output_type": "stream",
     "text": [
      "Warning! Dual PCA is using GPU, which may lead to OUT OF GPU MEMORY in big dataset!\n",
      "Choose GPU:0 as device\n",
      "Running\n",
      "---------- epochs: 1 ----------\n",
      "---------- epochs: 2 ----------\n",
      "---------- epochs: 3 ----------\n",
      "---------- epochs: 4 ----------\n",
      "---------- epochs: 5 ----------\n",
      "---------- epochs: 6 ----------\n",
      "Training model time: 1.66\n"
     ]
    },
    {
     "name": "stderr",
     "output_type": "stream",
     "text": [
      "  5%|▉                | 7/128 [02:37<46:08, 22.88s/it]"
     ]
    },
    {
     "name": "stdout",
     "output_type": "stream",
     "text": [
      "Calculating spatial neighbor graph ...\n",
      "The graph contains 182259 edges, 15959 cells.\n",
      "11.420452409298829 neighbors per cell on average.\n",
      "Calculating spatial neighbor graph ...\n",
      "The graph contains 191077 edges, 16713 cells.\n",
      "11.43283671393526 neighbors per cell on average.\n",
      "Use DPCA feature to format graph\n"
     ]
    },
    {
     "name": "stderr",
     "output_type": "stream",
     "text": [
      "/home/ylu/anaconda3/envs/scSLAT/lib/python3.8/site-packages/scanpy/preprocessing/_highly_variable_genes.py:64: UserWarning: `flavor='seurat_v3'` expects raw count data, but non-integers were found.\n",
      "  warnings.warn(\n",
      "/home/ylu/anaconda3/envs/scSLAT/lib/python3.8/site-packages/scanpy/preprocessing/_normalization.py:169: UserWarning: Received a view of an AnnData. Making a copy.\n",
      "  view_to_actual(adata)\n",
      "/home/ylu/anaconda3/envs/scSLAT/lib/python3.8/site-packages/scanpy/preprocessing/_simple.py:843: UserWarning: Received a view of an AnnData. Making a copy.\n",
      "  view_to_actual(adata)\n",
      "/home/ylu/anaconda3/envs/scSLAT/lib/python3.8/site-packages/scanpy/preprocessing/_simple.py:843: UserWarning: Received a view of an AnnData. Making a copy.\n",
      "  view_to_actual(adata)\n"
     ]
    },
    {
     "name": "stdout",
     "output_type": "stream",
     "text": [
      "Warning! Dual PCA is using GPU, which may lead to OUT OF GPU MEMORY in big dataset!\n",
      "Choose GPU:0 as device\n",
      "Running\n",
      "---------- epochs: 1 ----------\n",
      "---------- epochs: 2 ----------\n",
      "---------- epochs: 3 ----------\n",
      "---------- epochs: 4 ----------\n",
      "---------- epochs: 5 ----------\n",
      "---------- epochs: 6 ----------\n",
      "Training model time: 1.33\n"
     ]
    },
    {
     "name": "stderr",
     "output_type": "stream",
     "text": [
      "  6%|█                | 8/128 [03:03<47:16, 23.64s/it]"
     ]
    },
    {
     "name": "stdout",
     "output_type": "stream",
     "text": [
      "Calculating spatial neighbor graph ...\n",
      "The graph contains 191077 edges, 16713 cells.\n",
      "11.43283671393526 neighbors per cell on average.\n",
      "Calculating spatial neighbor graph ...\n",
      "The graph contains 186100 edges, 16260 cells.\n",
      "11.445264452644526 neighbors per cell on average.\n",
      "Use DPCA feature to format graph\n"
     ]
    },
    {
     "name": "stderr",
     "output_type": "stream",
     "text": [
      "/home/ylu/anaconda3/envs/scSLAT/lib/python3.8/site-packages/scanpy/preprocessing/_highly_variable_genes.py:64: UserWarning: `flavor='seurat_v3'` expects raw count data, but non-integers were found.\n",
      "  warnings.warn(\n",
      "/home/ylu/anaconda3/envs/scSLAT/lib/python3.8/site-packages/scanpy/preprocessing/_normalization.py:169: UserWarning: Received a view of an AnnData. Making a copy.\n",
      "  view_to_actual(adata)\n",
      "/home/ylu/anaconda3/envs/scSLAT/lib/python3.8/site-packages/scanpy/preprocessing/_simple.py:843: UserWarning: Received a view of an AnnData. Making a copy.\n",
      "  view_to_actual(adata)\n",
      "/home/ylu/anaconda3/envs/scSLAT/lib/python3.8/site-packages/scanpy/preprocessing/_simple.py:843: UserWarning: Received a view of an AnnData. Making a copy.\n",
      "  view_to_actual(adata)\n"
     ]
    },
    {
     "name": "stdout",
     "output_type": "stream",
     "text": [
      "Warning! Dual PCA is using GPU, which may lead to OUT OF GPU MEMORY in big dataset!\n",
      "Choose GPU:0 as device\n",
      "Running\n",
      "---------- epochs: 1 ----------\n",
      "---------- epochs: 2 ----------\n",
      "---------- epochs: 3 ----------\n",
      "---------- epochs: 4 ----------\n",
      "---------- epochs: 5 ----------\n",
      "---------- epochs: 6 ----------\n",
      "Training model time: 1.37\n"
     ]
    },
    {
     "name": "stderr",
     "output_type": "stream",
     "text": [
      "  7%|█▏               | 9/128 [03:25<46:03, 23.22s/it]"
     ]
    },
    {
     "name": "stdout",
     "output_type": "stream",
     "text": [
      "Calculating spatial neighbor graph ...\n",
      "The graph contains 186100 edges, 16260 cells.\n",
      "11.445264452644526 neighbors per cell on average.\n",
      "Calculating spatial neighbor graph ...\n",
      "The graph contains 206840 edges, 18132 cells.\n",
      "11.407456430619899 neighbors per cell on average.\n",
      "Use DPCA feature to format graph\n"
     ]
    },
    {
     "name": "stderr",
     "output_type": "stream",
     "text": [
      "/home/ylu/anaconda3/envs/scSLAT/lib/python3.8/site-packages/scanpy/preprocessing/_highly_variable_genes.py:64: UserWarning: `flavor='seurat_v3'` expects raw count data, but non-integers were found.\n",
      "  warnings.warn(\n",
      "/home/ylu/anaconda3/envs/scSLAT/lib/python3.8/site-packages/scanpy/preprocessing/_normalization.py:169: UserWarning: Received a view of an AnnData. Making a copy.\n",
      "  view_to_actual(adata)\n",
      "/home/ylu/anaconda3/envs/scSLAT/lib/python3.8/site-packages/scanpy/preprocessing/_simple.py:843: UserWarning: Received a view of an AnnData. Making a copy.\n",
      "  view_to_actual(adata)\n",
      "/home/ylu/anaconda3/envs/scSLAT/lib/python3.8/site-packages/scanpy/preprocessing/_simple.py:843: UserWarning: Received a view of an AnnData. Making a copy.\n",
      "  view_to_actual(adata)\n"
     ]
    },
    {
     "name": "stdout",
     "output_type": "stream",
     "text": [
      "Warning! Dual PCA is using GPU, which may lead to OUT OF GPU MEMORY in big dataset!\n",
      "Choose GPU:0 as device\n",
      "Running\n",
      "---------- epochs: 1 ----------\n",
      "---------- epochs: 2 ----------\n",
      "---------- epochs: 3 ----------\n",
      "---------- epochs: 4 ----------\n",
      "---------- epochs: 5 ----------\n",
      "---------- epochs: 6 ----------\n",
      "Training model time: 1.41\n"
     ]
    },
    {
     "name": "stderr",
     "output_type": "stream",
     "text": [
      "  8%|█▎              | 10/128 [03:47<45:02, 22.90s/it]"
     ]
    },
    {
     "name": "stdout",
     "output_type": "stream",
     "text": [
      "Calculating spatial neighbor graph ...\n",
      "The graph contains 206840 edges, 18132 cells.\n",
      "11.407456430619899 neighbors per cell on average.\n",
      "Calculating spatial neighbor graph ...\n",
      "The graph contains 212978 edges, 18744 cells.\n",
      "11.362462654716175 neighbors per cell on average.\n",
      "Use DPCA feature to format graph\n"
     ]
    },
    {
     "name": "stderr",
     "output_type": "stream",
     "text": [
      "/home/ylu/anaconda3/envs/scSLAT/lib/python3.8/site-packages/scanpy/preprocessing/_highly_variable_genes.py:64: UserWarning: `flavor='seurat_v3'` expects raw count data, but non-integers were found.\n",
      "  warnings.warn(\n",
      "/home/ylu/anaconda3/envs/scSLAT/lib/python3.8/site-packages/scanpy/preprocessing/_normalization.py:169: UserWarning: Received a view of an AnnData. Making a copy.\n",
      "  view_to_actual(adata)\n",
      "/home/ylu/anaconda3/envs/scSLAT/lib/python3.8/site-packages/scanpy/preprocessing/_simple.py:843: UserWarning: Received a view of an AnnData. Making a copy.\n",
      "  view_to_actual(adata)\n",
      "/home/ylu/anaconda3/envs/scSLAT/lib/python3.8/site-packages/scanpy/preprocessing/_simple.py:843: UserWarning: Received a view of an AnnData. Making a copy.\n",
      "  view_to_actual(adata)\n"
     ]
    },
    {
     "name": "stdout",
     "output_type": "stream",
     "text": [
      "Warning! Dual PCA is using GPU, which may lead to OUT OF GPU MEMORY in big dataset!\n",
      "Choose GPU:0 as device\n",
      "Running\n",
      "---------- epochs: 1 ----------\n",
      "---------- epochs: 2 ----------\n",
      "---------- epochs: 3 ----------\n",
      "---------- epochs: 4 ----------\n",
      "---------- epochs: 5 ----------\n",
      "---------- epochs: 6 ----------\n",
      "Training model time: 1.52\n"
     ]
    },
    {
     "name": "stderr",
     "output_type": "stream",
     "text": [
      "  9%|█▍              | 11/128 [04:13<46:33, 23.87s/it]"
     ]
    },
    {
     "name": "stdout",
     "output_type": "stream",
     "text": [
      "Calculating spatial neighbor graph ...\n",
      "The graph contains 212978 edges, 18744 cells.\n",
      "11.362462654716175 neighbors per cell on average.\n",
      "Calculating spatial neighbor graph ...\n",
      "The graph contains 215268 edges, 18952 cells.\n",
      "11.35859012241452 neighbors per cell on average.\n",
      "Use DPCA feature to format graph\n"
     ]
    },
    {
     "name": "stderr",
     "output_type": "stream",
     "text": [
      "/home/ylu/anaconda3/envs/scSLAT/lib/python3.8/site-packages/scanpy/preprocessing/_highly_variable_genes.py:64: UserWarning: `flavor='seurat_v3'` expects raw count data, but non-integers were found.\n",
      "  warnings.warn(\n",
      "/home/ylu/anaconda3/envs/scSLAT/lib/python3.8/site-packages/scanpy/preprocessing/_normalization.py:169: UserWarning: Received a view of an AnnData. Making a copy.\n",
      "  view_to_actual(adata)\n",
      "/home/ylu/anaconda3/envs/scSLAT/lib/python3.8/site-packages/scanpy/preprocessing/_simple.py:843: UserWarning: Received a view of an AnnData. Making a copy.\n",
      "  view_to_actual(adata)\n",
      "/home/ylu/anaconda3/envs/scSLAT/lib/python3.8/site-packages/scanpy/preprocessing/_simple.py:843: UserWarning: Received a view of an AnnData. Making a copy.\n",
      "  view_to_actual(adata)\n"
     ]
    },
    {
     "name": "stdout",
     "output_type": "stream",
     "text": [
      "Warning! Dual PCA is using GPU, which may lead to OUT OF GPU MEMORY in big dataset!\n",
      "Choose GPU:0 as device\n",
      "Running\n",
      "---------- epochs: 1 ----------\n",
      "---------- epochs: 2 ----------\n",
      "---------- epochs: 3 ----------\n",
      "---------- epochs: 4 ----------\n",
      "---------- epochs: 5 ----------\n",
      "---------- epochs: 6 ----------\n",
      "Training model time: 1.47\n"
     ]
    },
    {
     "name": "stderr",
     "output_type": "stream",
     "text": [
      "  9%|█▌              | 12/128 [04:40<47:48, 24.73s/it]"
     ]
    },
    {
     "name": "stdout",
     "output_type": "stream",
     "text": [
      "Calculating spatial neighbor graph ...\n",
      "The graph contains 215268 edges, 18952 cells.\n",
      "11.35859012241452 neighbors per cell on average.\n",
      "Calculating spatial neighbor graph ...\n",
      "The graph contains 175244 edges, 15390 cells.\n",
      "11.386874593892138 neighbors per cell on average.\n",
      "Use DPCA feature to format graph\n"
     ]
    },
    {
     "name": "stderr",
     "output_type": "stream",
     "text": [
      "/home/ylu/anaconda3/envs/scSLAT/lib/python3.8/site-packages/scanpy/preprocessing/_highly_variable_genes.py:64: UserWarning: `flavor='seurat_v3'` expects raw count data, but non-integers were found.\n",
      "  warnings.warn(\n",
      "/home/ylu/anaconda3/envs/scSLAT/lib/python3.8/site-packages/scanpy/preprocessing/_normalization.py:169: UserWarning: Received a view of an AnnData. Making a copy.\n",
      "  view_to_actual(adata)\n",
      "/home/ylu/anaconda3/envs/scSLAT/lib/python3.8/site-packages/scanpy/preprocessing/_simple.py:843: UserWarning: Received a view of an AnnData. Making a copy.\n",
      "  view_to_actual(adata)\n",
      "/home/ylu/anaconda3/envs/scSLAT/lib/python3.8/site-packages/scanpy/preprocessing/_simple.py:843: UserWarning: Received a view of an AnnData. Making a copy.\n",
      "  view_to_actual(adata)\n"
     ]
    },
    {
     "name": "stdout",
     "output_type": "stream",
     "text": [
      "Warning! Dual PCA is using GPU, which may lead to OUT OF GPU MEMORY in big dataset!\n",
      "Choose GPU:0 as device\n",
      "Running\n",
      "---------- epochs: 1 ----------\n",
      "---------- epochs: 2 ----------\n",
      "---------- epochs: 3 ----------\n",
      "---------- epochs: 4 ----------\n",
      "---------- epochs: 5 ----------\n",
      "---------- epochs: 6 ----------\n",
      "Training model time: 1.32\n"
     ]
    },
    {
     "name": "stderr",
     "output_type": "stream",
     "text": [
      " 10%|█▋              | 13/128 [05:06<48:12, 25.15s/it]"
     ]
    },
    {
     "name": "stdout",
     "output_type": "stream",
     "text": [
      "Calculating spatial neighbor graph ...\n",
      "The graph contains 175244 edges, 15390 cells.\n",
      "11.386874593892138 neighbors per cell on average.\n",
      "Calculating spatial neighbor graph ...\n",
      "The graph contains 179741 edges, 15797 cells.\n",
      "11.378173070836235 neighbors per cell on average.\n",
      "Use DPCA feature to format graph\n"
     ]
    },
    {
     "name": "stderr",
     "output_type": "stream",
     "text": [
      "/home/ylu/anaconda3/envs/scSLAT/lib/python3.8/site-packages/scanpy/preprocessing/_highly_variable_genes.py:64: UserWarning: `flavor='seurat_v3'` expects raw count data, but non-integers were found.\n",
      "  warnings.warn(\n",
      "/home/ylu/anaconda3/envs/scSLAT/lib/python3.8/site-packages/scanpy/preprocessing/_normalization.py:169: UserWarning: Received a view of an AnnData. Making a copy.\n",
      "  view_to_actual(adata)\n",
      "/home/ylu/anaconda3/envs/scSLAT/lib/python3.8/site-packages/scanpy/preprocessing/_simple.py:843: UserWarning: Received a view of an AnnData. Making a copy.\n",
      "  view_to_actual(adata)\n",
      "/home/ylu/anaconda3/envs/scSLAT/lib/python3.8/site-packages/scanpy/preprocessing/_simple.py:843: UserWarning: Received a view of an AnnData. Making a copy.\n",
      "  view_to_actual(adata)\n"
     ]
    },
    {
     "name": "stdout",
     "output_type": "stream",
     "text": [
      "Warning! Dual PCA is using GPU, which may lead to OUT OF GPU MEMORY in big dataset!\n",
      "Choose GPU:0 as device\n",
      "Running\n",
      "---------- epochs: 1 ----------\n",
      "---------- epochs: 2 ----------\n",
      "---------- epochs: 3 ----------\n",
      "---------- epochs: 4 ----------\n",
      "---------- epochs: 5 ----------\n",
      "---------- epochs: 6 ----------\n",
      "Training model time: 2.91\n"
     ]
    },
    {
     "name": "stderr",
     "output_type": "stream",
     "text": [
      " 11%|█▊              | 14/128 [05:31<47:55, 25.22s/it]"
     ]
    },
    {
     "name": "stdout",
     "output_type": "stream",
     "text": [
      "Calculating spatial neighbor graph ...\n",
      "The graph contains 179741 edges, 15797 cells.\n",
      "11.378173070836235 neighbors per cell on average.\n",
      "Calculating spatial neighbor graph ...\n",
      "The graph contains 170620 edges, 14964 cells.\n",
      "11.40203154236835 neighbors per cell on average.\n",
      "Use DPCA feature to format graph\n"
     ]
    },
    {
     "name": "stderr",
     "output_type": "stream",
     "text": [
      "/home/ylu/anaconda3/envs/scSLAT/lib/python3.8/site-packages/scanpy/preprocessing/_highly_variable_genes.py:64: UserWarning: `flavor='seurat_v3'` expects raw count data, but non-integers were found.\n",
      "  warnings.warn(\n",
      "/home/ylu/anaconda3/envs/scSLAT/lib/python3.8/site-packages/scanpy/preprocessing/_normalization.py:169: UserWarning: Received a view of an AnnData. Making a copy.\n",
      "  view_to_actual(adata)\n",
      "/home/ylu/anaconda3/envs/scSLAT/lib/python3.8/site-packages/scanpy/preprocessing/_simple.py:843: UserWarning: Received a view of an AnnData. Making a copy.\n",
      "  view_to_actual(adata)\n",
      "/home/ylu/anaconda3/envs/scSLAT/lib/python3.8/site-packages/scanpy/preprocessing/_simple.py:843: UserWarning: Received a view of an AnnData. Making a copy.\n",
      "  view_to_actual(adata)\n"
     ]
    },
    {
     "name": "stdout",
     "output_type": "stream",
     "text": [
      "Warning! Dual PCA is using GPU, which may lead to OUT OF GPU MEMORY in big dataset!\n",
      "Choose GPU:0 as device\n",
      "Running\n",
      "---------- epochs: 1 ----------\n",
      "---------- epochs: 2 ----------\n",
      "---------- epochs: 3 ----------\n",
      "---------- epochs: 4 ----------\n",
      "---------- epochs: 5 ----------\n",
      "---------- epochs: 6 ----------\n",
      "Training model time: 1.25\n"
     ]
    },
    {
     "name": "stderr",
     "output_type": "stream",
     "text": [
      " 12%|█▉              | 15/128 [05:53<45:39, 24.24s/it]"
     ]
    },
    {
     "name": "stdout",
     "output_type": "stream",
     "text": [
      "Calculating spatial neighbor graph ...\n",
      "The graph contains 170620 edges, 14964 cells.\n",
      "11.40203154236835 neighbors per cell on average.\n",
      "Calculating spatial neighbor graph ...\n",
      "The graph contains 154303 edges, 13497 cells.\n",
      "11.432392383492628 neighbors per cell on average.\n",
      "Use DPCA feature to format graph\n"
     ]
    },
    {
     "name": "stderr",
     "output_type": "stream",
     "text": [
      "/home/ylu/anaconda3/envs/scSLAT/lib/python3.8/site-packages/scanpy/preprocessing/_highly_variable_genes.py:64: UserWarning: `flavor='seurat_v3'` expects raw count data, but non-integers were found.\n",
      "  warnings.warn(\n",
      "/home/ylu/anaconda3/envs/scSLAT/lib/python3.8/site-packages/scanpy/preprocessing/_normalization.py:169: UserWarning: Received a view of an AnnData. Making a copy.\n",
      "  view_to_actual(adata)\n",
      "/home/ylu/anaconda3/envs/scSLAT/lib/python3.8/site-packages/scanpy/preprocessing/_simple.py:843: UserWarning: Received a view of an AnnData. Making a copy.\n",
      "  view_to_actual(adata)\n",
      "/home/ylu/anaconda3/envs/scSLAT/lib/python3.8/site-packages/scanpy/preprocessing/_simple.py:843: UserWarning: Received a view of an AnnData. Making a copy.\n",
      "  view_to_actual(adata)\n"
     ]
    },
    {
     "name": "stdout",
     "output_type": "stream",
     "text": [
      "Warning! Dual PCA is using GPU, which may lead to OUT OF GPU MEMORY in big dataset!\n",
      "Choose GPU:0 as device\n",
      "Running\n",
      "---------- epochs: 1 ----------\n",
      "---------- epochs: 2 ----------\n",
      "---------- epochs: 3 ----------\n",
      "---------- epochs: 4 ----------\n",
      "---------- epochs: 5 ----------\n",
      "---------- epochs: 6 ----------\n",
      "Training model time: 1.33\n"
     ]
    },
    {
     "name": "stderr",
     "output_type": "stream",
     "text": [
      " 12%|██              | 16/128 [06:13<42:29, 22.77s/it]"
     ]
    },
    {
     "name": "stdout",
     "output_type": "stream",
     "text": [
      "Calculating spatial neighbor graph ...\n",
      "The graph contains 154303 edges, 13497 cells.\n",
      "11.432392383492628 neighbors per cell on average.\n",
      "Calculating spatial neighbor graph ...\n",
      "The graph contains 133638 edges, 11660 cells.\n",
      "11.461234991423671 neighbors per cell on average.\n",
      "Use DPCA feature to format graph\n"
     ]
    },
    {
     "name": "stderr",
     "output_type": "stream",
     "text": [
      "/home/ylu/anaconda3/envs/scSLAT/lib/python3.8/site-packages/scanpy/preprocessing/_highly_variable_genes.py:64: UserWarning: `flavor='seurat_v3'` expects raw count data, but non-integers were found.\n",
      "  warnings.warn(\n",
      "/home/ylu/anaconda3/envs/scSLAT/lib/python3.8/site-packages/scanpy/preprocessing/_normalization.py:169: UserWarning: Received a view of an AnnData. Making a copy.\n",
      "  view_to_actual(adata)\n",
      "/home/ylu/anaconda3/envs/scSLAT/lib/python3.8/site-packages/scanpy/preprocessing/_simple.py:843: UserWarning: Received a view of an AnnData. Making a copy.\n",
      "  view_to_actual(adata)\n",
      "/home/ylu/anaconda3/envs/scSLAT/lib/python3.8/site-packages/scanpy/preprocessing/_simple.py:843: UserWarning: Received a view of an AnnData. Making a copy.\n",
      "  view_to_actual(adata)\n"
     ]
    },
    {
     "name": "stdout",
     "output_type": "stream",
     "text": [
      "Warning! Dual PCA is using GPU, which may lead to OUT OF GPU MEMORY in big dataset!\n",
      "Choose GPU:0 as device\n",
      "Running\n",
      "---------- epochs: 1 ----------\n",
      "---------- epochs: 2 ----------\n",
      "---------- epochs: 3 ----------\n",
      "---------- epochs: 4 ----------\n",
      "---------- epochs: 5 ----------\n",
      "---------- epochs: 6 ----------\n",
      "Training model time: 1.00\n"
     ]
    },
    {
     "name": "stderr",
     "output_type": "stream",
     "text": [
      " 13%|██▏             | 17/128 [06:30<39:03, 21.12s/it]"
     ]
    },
    {
     "name": "stdout",
     "output_type": "stream",
     "text": [
      "Calculating spatial neighbor graph ...\n",
      "The graph contains 133638 edges, 11660 cells.\n",
      "11.461234991423671 neighbors per cell on average.\n",
      "Calculating spatial neighbor graph ...\n",
      "The graph contains 169874 edges, 14830 cells.\n",
      "11.454753877275792 neighbors per cell on average.\n",
      "Use DPCA feature to format graph\n"
     ]
    },
    {
     "name": "stderr",
     "output_type": "stream",
     "text": [
      "/home/ylu/anaconda3/envs/scSLAT/lib/python3.8/site-packages/scanpy/preprocessing/_highly_variable_genes.py:64: UserWarning: `flavor='seurat_v3'` expects raw count data, but non-integers were found.\n",
      "  warnings.warn(\n",
      "/home/ylu/anaconda3/envs/scSLAT/lib/python3.8/site-packages/scanpy/preprocessing/_normalization.py:169: UserWarning: Received a view of an AnnData. Making a copy.\n",
      "  view_to_actual(adata)\n",
      "/home/ylu/anaconda3/envs/scSLAT/lib/python3.8/site-packages/scanpy/preprocessing/_simple.py:843: UserWarning: Received a view of an AnnData. Making a copy.\n",
      "  view_to_actual(adata)\n",
      "/home/ylu/anaconda3/envs/scSLAT/lib/python3.8/site-packages/scanpy/preprocessing/_simple.py:843: UserWarning: Received a view of an AnnData. Making a copy.\n",
      "  view_to_actual(adata)\n"
     ]
    },
    {
     "name": "stdout",
     "output_type": "stream",
     "text": [
      "Warning! Dual PCA is using GPU, which may lead to OUT OF GPU MEMORY in big dataset!\n",
      "Choose GPU:0 as device\n",
      "Running\n",
      "---------- epochs: 1 ----------\n",
      "---------- epochs: 2 ----------\n",
      "---------- epochs: 3 ----------\n",
      "---------- epochs: 4 ----------\n",
      "---------- epochs: 5 ----------\n",
      "---------- epochs: 6 ----------\n",
      "Training model time: 1.25\n"
     ]
    },
    {
     "name": "stderr",
     "output_type": "stream",
     "text": [
      " 14%|██▎             | 18/128 [06:48<37:10, 20.27s/it]"
     ]
    },
    {
     "name": "stdout",
     "output_type": "stream",
     "text": [
      "Calculating spatial neighbor graph ...\n",
      "The graph contains 169874 edges, 14830 cells.\n",
      "11.454753877275792 neighbors per cell on average.\n",
      "Calculating spatial neighbor graph ...\n",
      "The graph contains 149170 edges, 13036 cells.\n",
      "11.442927278306229 neighbors per cell on average.\n",
      "Use DPCA feature to format graph\n"
     ]
    },
    {
     "name": "stderr",
     "output_type": "stream",
     "text": [
      "/home/ylu/anaconda3/envs/scSLAT/lib/python3.8/site-packages/scanpy/preprocessing/_highly_variable_genes.py:64: UserWarning: `flavor='seurat_v3'` expects raw count data, but non-integers were found.\n",
      "  warnings.warn(\n",
      "/home/ylu/anaconda3/envs/scSLAT/lib/python3.8/site-packages/scanpy/preprocessing/_normalization.py:169: UserWarning: Received a view of an AnnData. Making a copy.\n",
      "  view_to_actual(adata)\n",
      "/home/ylu/anaconda3/envs/scSLAT/lib/python3.8/site-packages/scanpy/preprocessing/_simple.py:843: UserWarning: Received a view of an AnnData. Making a copy.\n",
      "  view_to_actual(adata)\n",
      "/home/ylu/anaconda3/envs/scSLAT/lib/python3.8/site-packages/scanpy/preprocessing/_simple.py:843: UserWarning: Received a view of an AnnData. Making a copy.\n",
      "  view_to_actual(adata)\n"
     ]
    },
    {
     "name": "stdout",
     "output_type": "stream",
     "text": [
      "Warning! Dual PCA is using GPU, which may lead to OUT OF GPU MEMORY in big dataset!\n",
      "Choose GPU:0 as device\n",
      "Running\n",
      "---------- epochs: 1 ----------\n",
      "---------- epochs: 2 ----------\n",
      "---------- epochs: 3 ----------\n",
      "---------- epochs: 4 ----------\n",
      "---------- epochs: 5 ----------\n",
      "---------- epochs: 6 ----------\n",
      "Training model time: 1.11\n"
     ]
    },
    {
     "name": "stderr",
     "output_type": "stream",
     "text": [
      " 15%|██▍             | 19/128 [07:05<34:42, 19.10s/it]"
     ]
    },
    {
     "name": "stdout",
     "output_type": "stream",
     "text": [
      "Calculating spatial neighbor graph ...\n",
      "The graph contains 149170 edges, 13036 cells.\n",
      "11.442927278306229 neighbors per cell on average.\n",
      "Calculating spatial neighbor graph ...\n",
      "The graph contains 176773 edges, 15469 cells.\n",
      "11.427564807033422 neighbors per cell on average.\n",
      "Use DPCA feature to format graph\n"
     ]
    },
    {
     "name": "stderr",
     "output_type": "stream",
     "text": [
      "/home/ylu/anaconda3/envs/scSLAT/lib/python3.8/site-packages/scanpy/preprocessing/_highly_variable_genes.py:64: UserWarning: `flavor='seurat_v3'` expects raw count data, but non-integers were found.\n",
      "  warnings.warn(\n",
      "/home/ylu/anaconda3/envs/scSLAT/lib/python3.8/site-packages/scanpy/preprocessing/_normalization.py:169: UserWarning: Received a view of an AnnData. Making a copy.\n",
      "  view_to_actual(adata)\n",
      "/home/ylu/anaconda3/envs/scSLAT/lib/python3.8/site-packages/scanpy/preprocessing/_simple.py:843: UserWarning: Received a view of an AnnData. Making a copy.\n",
      "  view_to_actual(adata)\n",
      "/home/ylu/anaconda3/envs/scSLAT/lib/python3.8/site-packages/scanpy/preprocessing/_simple.py:843: UserWarning: Received a view of an AnnData. Making a copy.\n",
      "  view_to_actual(adata)\n"
     ]
    },
    {
     "name": "stdout",
     "output_type": "stream",
     "text": [
      "Warning! Dual PCA is using GPU, which may lead to OUT OF GPU MEMORY in big dataset!\n",
      "Choose GPU:0 as device\n",
      "Running\n",
      "---------- epochs: 1 ----------\n",
      "---------- epochs: 2 ----------\n",
      "---------- epochs: 3 ----------\n",
      "---------- epochs: 4 ----------\n",
      "---------- epochs: 5 ----------\n",
      "---------- epochs: 6 ----------\n",
      "Training model time: 1.18\n"
     ]
    },
    {
     "name": "stderr",
     "output_type": "stream",
     "text": [
      " 16%|██▌             | 20/128 [07:24<34:40, 19.26s/it]"
     ]
    },
    {
     "name": "stdout",
     "output_type": "stream",
     "text": [
      "Calculating spatial neighbor graph ...\n",
      "The graph contains 176773 edges, 15469 cells.\n",
      "11.427564807033422 neighbors per cell on average.\n",
      "Calculating spatial neighbor graph ...\n",
      "The graph contains 185715 edges, 16241 cells.\n",
      "11.434948586909673 neighbors per cell on average.\n",
      "Use DPCA feature to format graph\n"
     ]
    },
    {
     "name": "stderr",
     "output_type": "stream",
     "text": [
      "/home/ylu/anaconda3/envs/scSLAT/lib/python3.8/site-packages/scanpy/preprocessing/_highly_variable_genes.py:64: UserWarning: `flavor='seurat_v3'` expects raw count data, but non-integers were found.\n",
      "  warnings.warn(\n",
      "/home/ylu/anaconda3/envs/scSLAT/lib/python3.8/site-packages/scanpy/preprocessing/_normalization.py:169: UserWarning: Received a view of an AnnData. Making a copy.\n",
      "  view_to_actual(adata)\n",
      "/home/ylu/anaconda3/envs/scSLAT/lib/python3.8/site-packages/scanpy/preprocessing/_simple.py:843: UserWarning: Received a view of an AnnData. Making a copy.\n",
      "  view_to_actual(adata)\n",
      "/home/ylu/anaconda3/envs/scSLAT/lib/python3.8/site-packages/scanpy/preprocessing/_simple.py:843: UserWarning: Received a view of an AnnData. Making a copy.\n",
      "  view_to_actual(adata)\n"
     ]
    },
    {
     "name": "stdout",
     "output_type": "stream",
     "text": [
      "Warning! Dual PCA is using GPU, which may lead to OUT OF GPU MEMORY in big dataset!\n",
      "Choose GPU:0 as device\n",
      "Running\n",
      "---------- epochs: 1 ----------\n",
      "---------- epochs: 2 ----------\n",
      "---------- epochs: 3 ----------\n",
      "---------- epochs: 4 ----------\n",
      "---------- epochs: 5 ----------\n",
      "---------- epochs: 6 ----------\n",
      "Training model time: 1.29\n"
     ]
    },
    {
     "name": "stderr",
     "output_type": "stream",
     "text": [
      " 16%|██▋             | 21/128 [07:47<36:22, 20.39s/it]"
     ]
    },
    {
     "name": "stdout",
     "output_type": "stream",
     "text": [
      "Calculating spatial neighbor graph ...\n",
      "The graph contains 185715 edges, 16241 cells.\n",
      "11.434948586909673 neighbors per cell on average.\n",
      "Calculating spatial neighbor graph ...\n",
      "The graph contains 178620 edges, 15636 cells.\n",
      "11.423637759017652 neighbors per cell on average.\n",
      "Use DPCA feature to format graph\n"
     ]
    },
    {
     "name": "stderr",
     "output_type": "stream",
     "text": [
      "/home/ylu/anaconda3/envs/scSLAT/lib/python3.8/site-packages/scanpy/preprocessing/_highly_variable_genes.py:64: UserWarning: `flavor='seurat_v3'` expects raw count data, but non-integers were found.\n",
      "  warnings.warn(\n",
      "/home/ylu/anaconda3/envs/scSLAT/lib/python3.8/site-packages/scanpy/preprocessing/_normalization.py:169: UserWarning: Received a view of an AnnData. Making a copy.\n",
      "  view_to_actual(adata)\n",
      "/home/ylu/anaconda3/envs/scSLAT/lib/python3.8/site-packages/scanpy/preprocessing/_simple.py:843: UserWarning: Received a view of an AnnData. Making a copy.\n",
      "  view_to_actual(adata)\n",
      "/home/ylu/anaconda3/envs/scSLAT/lib/python3.8/site-packages/scanpy/preprocessing/_simple.py:843: UserWarning: Received a view of an AnnData. Making a copy.\n",
      "  view_to_actual(adata)\n"
     ]
    },
    {
     "name": "stdout",
     "output_type": "stream",
     "text": [
      "Warning! Dual PCA is using GPU, which may lead to OUT OF GPU MEMORY in big dataset!\n",
      "Choose GPU:0 as device\n",
      "Running\n",
      "---------- epochs: 1 ----------\n",
      "---------- epochs: 2 ----------\n",
      "---------- epochs: 3 ----------\n",
      "---------- epochs: 4 ----------\n",
      "---------- epochs: 5 ----------\n",
      "---------- epochs: 6 ----------\n",
      "Training model time: 1.32\n"
     ]
    },
    {
     "name": "stderr",
     "output_type": "stream",
     "text": [
      " 17%|██▊             | 22/128 [08:08<36:13, 20.50s/it]"
     ]
    },
    {
     "name": "stdout",
     "output_type": "stream",
     "text": [
      "Calculating spatial neighbor graph ...\n",
      "The graph contains 178620 edges, 15636 cells.\n",
      "11.423637759017652 neighbors per cell on average.\n",
      "Calculating spatial neighbor graph ...\n",
      "The graph contains 189618 edges, 16710 cells.\n",
      "11.347576301615799 neighbors per cell on average.\n",
      "Use DPCA feature to format graph\n"
     ]
    },
    {
     "name": "stderr",
     "output_type": "stream",
     "text": [
      "/home/ylu/anaconda3/envs/scSLAT/lib/python3.8/site-packages/scanpy/preprocessing/_highly_variable_genes.py:64: UserWarning: `flavor='seurat_v3'` expects raw count data, but non-integers were found.\n",
      "  warnings.warn(\n",
      "/home/ylu/anaconda3/envs/scSLAT/lib/python3.8/site-packages/scanpy/preprocessing/_normalization.py:169: UserWarning: Received a view of an AnnData. Making a copy.\n",
      "  view_to_actual(adata)\n",
      "/home/ylu/anaconda3/envs/scSLAT/lib/python3.8/site-packages/scanpy/preprocessing/_simple.py:843: UserWarning: Received a view of an AnnData. Making a copy.\n",
      "  view_to_actual(adata)\n",
      "/home/ylu/anaconda3/envs/scSLAT/lib/python3.8/site-packages/scanpy/preprocessing/_simple.py:843: UserWarning: Received a view of an AnnData. Making a copy.\n",
      "  view_to_actual(adata)\n"
     ]
    },
    {
     "name": "stdout",
     "output_type": "stream",
     "text": [
      "Warning! Dual PCA is using GPU, which may lead to OUT OF GPU MEMORY in big dataset!\n",
      "Choose GPU:0 as device\n",
      "Running\n",
      "---------- epochs: 1 ----------\n",
      "---------- epochs: 2 ----------\n",
      "---------- epochs: 3 ----------\n",
      "---------- epochs: 4 ----------\n",
      "---------- epochs: 5 ----------\n",
      "---------- epochs: 6 ----------\n",
      "Training model time: 1.31\n"
     ]
    },
    {
     "name": "stderr",
     "output_type": "stream",
     "text": [
      " 18%|██▉             | 23/128 [08:29<36:21, 20.77s/it]"
     ]
    },
    {
     "name": "stdout",
     "output_type": "stream",
     "text": [
      "Calculating spatial neighbor graph ...\n",
      "The graph contains 189618 edges, 16710 cells.\n",
      "11.347576301615799 neighbors per cell on average.\n",
      "Calculating spatial neighbor graph ...\n",
      "The graph contains 173243 edges, 15231 cells.\n",
      "11.374368065130326 neighbors per cell on average.\n",
      "Use DPCA feature to format graph\n"
     ]
    },
    {
     "name": "stderr",
     "output_type": "stream",
     "text": [
      "/home/ylu/anaconda3/envs/scSLAT/lib/python3.8/site-packages/scanpy/preprocessing/_highly_variable_genes.py:64: UserWarning: `flavor='seurat_v3'` expects raw count data, but non-integers were found.\n",
      "  warnings.warn(\n",
      "/home/ylu/anaconda3/envs/scSLAT/lib/python3.8/site-packages/scanpy/preprocessing/_normalization.py:169: UserWarning: Received a view of an AnnData. Making a copy.\n",
      "  view_to_actual(adata)\n",
      "/home/ylu/anaconda3/envs/scSLAT/lib/python3.8/site-packages/scanpy/preprocessing/_simple.py:843: UserWarning: Received a view of an AnnData. Making a copy.\n",
      "  view_to_actual(adata)\n",
      "/home/ylu/anaconda3/envs/scSLAT/lib/python3.8/site-packages/scanpy/preprocessing/_simple.py:843: UserWarning: Received a view of an AnnData. Making a copy.\n",
      "  view_to_actual(adata)\n"
     ]
    },
    {
     "name": "stdout",
     "output_type": "stream",
     "text": [
      "Warning! Dual PCA is using GPU, which may lead to OUT OF GPU MEMORY in big dataset!\n",
      "Choose GPU:0 as device\n",
      "Running\n",
      "---------- epochs: 1 ----------\n",
      "---------- epochs: 2 ----------\n",
      "---------- epochs: 3 ----------\n",
      "---------- epochs: 4 ----------\n",
      "---------- epochs: 5 ----------\n",
      "---------- epochs: 6 ----------\n",
      "Training model time: 1.28\n"
     ]
    },
    {
     "name": "stderr",
     "output_type": "stream",
     "text": [
      " 19%|███             | 24/128 [08:53<37:25, 21.59s/it]"
     ]
    },
    {
     "name": "stdout",
     "output_type": "stream",
     "text": [
      "Calculating spatial neighbor graph ...\n",
      "The graph contains 173243 edges, 15231 cells.\n",
      "11.374368065130326 neighbors per cell on average.\n",
      "Calculating spatial neighbor graph ...\n",
      "The graph contains 167723 edges, 14731 cells.\n",
      "11.385717195030887 neighbors per cell on average.\n",
      "Use DPCA feature to format graph\n"
     ]
    },
    {
     "name": "stderr",
     "output_type": "stream",
     "text": [
      "/home/ylu/anaconda3/envs/scSLAT/lib/python3.8/site-packages/scanpy/preprocessing/_highly_variable_genes.py:64: UserWarning: `flavor='seurat_v3'` expects raw count data, but non-integers were found.\n",
      "  warnings.warn(\n",
      "/home/ylu/anaconda3/envs/scSLAT/lib/python3.8/site-packages/scanpy/preprocessing/_normalization.py:169: UserWarning: Received a view of an AnnData. Making a copy.\n",
      "  view_to_actual(adata)\n",
      "/home/ylu/anaconda3/envs/scSLAT/lib/python3.8/site-packages/scanpy/preprocessing/_simple.py:843: UserWarning: Received a view of an AnnData. Making a copy.\n",
      "  view_to_actual(adata)\n",
      "/home/ylu/anaconda3/envs/scSLAT/lib/python3.8/site-packages/scanpy/preprocessing/_simple.py:843: UserWarning: Received a view of an AnnData. Making a copy.\n",
      "  view_to_actual(adata)\n"
     ]
    },
    {
     "name": "stdout",
     "output_type": "stream",
     "text": [
      "Warning! Dual PCA is using GPU, which may lead to OUT OF GPU MEMORY in big dataset!\n",
      "Choose GPU:0 as device\n",
      "Running\n",
      "---------- epochs: 1 ----------\n",
      "---------- epochs: 2 ----------\n",
      "---------- epochs: 3 ----------\n",
      "---------- epochs: 4 ----------\n",
      "---------- epochs: 5 ----------\n",
      "---------- epochs: 6 ----------\n",
      "Training model time: 1.20\n"
     ]
    },
    {
     "name": "stderr",
     "output_type": "stream",
     "text": [
      " 20%|███▏            | 25/128 [09:14<36:34, 21.30s/it]"
     ]
    },
    {
     "name": "stdout",
     "output_type": "stream",
     "text": [
      "Calculating spatial neighbor graph ...\n",
      "The graph contains 167723 edges, 14731 cells.\n",
      "11.385717195030887 neighbors per cell on average.\n",
      "Calculating spatial neighbor graph ...\n",
      "The graph contains 156501 edges, 13807 cells.\n",
      "11.334902585644963 neighbors per cell on average.\n",
      "Use DPCA feature to format graph\n"
     ]
    },
    {
     "name": "stderr",
     "output_type": "stream",
     "text": [
      "/home/ylu/anaconda3/envs/scSLAT/lib/python3.8/site-packages/scanpy/preprocessing/_highly_variable_genes.py:64: UserWarning: `flavor='seurat_v3'` expects raw count data, but non-integers were found.\n",
      "  warnings.warn(\n",
      "/home/ylu/anaconda3/envs/scSLAT/lib/python3.8/site-packages/scanpy/preprocessing/_normalization.py:169: UserWarning: Received a view of an AnnData. Making a copy.\n",
      "  view_to_actual(adata)\n",
      "/home/ylu/anaconda3/envs/scSLAT/lib/python3.8/site-packages/scanpy/preprocessing/_simple.py:843: UserWarning: Received a view of an AnnData. Making a copy.\n",
      "  view_to_actual(adata)\n",
      "/home/ylu/anaconda3/envs/scSLAT/lib/python3.8/site-packages/scanpy/preprocessing/_simple.py:843: UserWarning: Received a view of an AnnData. Making a copy.\n",
      "  view_to_actual(adata)\n"
     ]
    },
    {
     "name": "stdout",
     "output_type": "stream",
     "text": [
      "Warning! Dual PCA is using GPU, which may lead to OUT OF GPU MEMORY in big dataset!\n",
      "Choose GPU:0 as device\n",
      "Running\n",
      "---------- epochs: 1 ----------\n",
      "---------- epochs: 2 ----------\n",
      "---------- epochs: 3 ----------\n",
      "---------- epochs: 4 ----------\n",
      "---------- epochs: 5 ----------\n",
      "---------- epochs: 6 ----------\n",
      "Training model time: 1.18\n"
     ]
    },
    {
     "name": "stderr",
     "output_type": "stream",
     "text": [
      " 20%|███▎            | 26/128 [09:33<35:05, 20.64s/it]"
     ]
    },
    {
     "name": "stdout",
     "output_type": "stream",
     "text": [
      "Calculating spatial neighbor graph ...\n",
      "The graph contains 156501 edges, 13807 cells.\n",
      "11.334902585644963 neighbors per cell on average.\n",
      "Calculating spatial neighbor graph ...\n",
      "The graph contains 151441 edges, 13369 cells.\n",
      "11.327773206672152 neighbors per cell on average.\n",
      "Use DPCA feature to format graph\n"
     ]
    },
    {
     "name": "stderr",
     "output_type": "stream",
     "text": [
      "/home/ylu/anaconda3/envs/scSLAT/lib/python3.8/site-packages/scanpy/preprocessing/_highly_variable_genes.py:64: UserWarning: `flavor='seurat_v3'` expects raw count data, but non-integers were found.\n",
      "  warnings.warn(\n",
      "/home/ylu/anaconda3/envs/scSLAT/lib/python3.8/site-packages/scanpy/preprocessing/_normalization.py:169: UserWarning: Received a view of an AnnData. Making a copy.\n",
      "  view_to_actual(adata)\n",
      "/home/ylu/anaconda3/envs/scSLAT/lib/python3.8/site-packages/scanpy/preprocessing/_simple.py:843: UserWarning: Received a view of an AnnData. Making a copy.\n",
      "  view_to_actual(adata)\n",
      "/home/ylu/anaconda3/envs/scSLAT/lib/python3.8/site-packages/scanpy/preprocessing/_simple.py:843: UserWarning: Received a view of an AnnData. Making a copy.\n",
      "  view_to_actual(adata)\n"
     ]
    },
    {
     "name": "stdout",
     "output_type": "stream",
     "text": [
      "Warning! Dual PCA is using GPU, which may lead to OUT OF GPU MEMORY in big dataset!\n",
      "Choose GPU:0 as device\n",
      "Running\n",
      "---------- epochs: 1 ----------\n",
      "---------- epochs: 2 ----------\n",
      "---------- epochs: 3 ----------\n",
      "---------- epochs: 4 ----------\n",
      "---------- epochs: 5 ----------\n",
      "---------- epochs: 6 ----------\n",
      "Training model time: 1.09\n"
     ]
    },
    {
     "name": "stderr",
     "output_type": "stream",
     "text": [
      " 21%|███▍            | 27/128 [09:53<34:46, 20.66s/it]"
     ]
    },
    {
     "name": "stdout",
     "output_type": "stream",
     "text": [
      "Calculating spatial neighbor graph ...\n",
      "The graph contains 151441 edges, 13369 cells.\n",
      "11.327773206672152 neighbors per cell on average.\n",
      "Calculating spatial neighbor graph ...\n",
      "The graph contains 184088 edges, 16214 cells.\n",
      "11.353644998149747 neighbors per cell on average.\n",
      "Use DPCA feature to format graph\n"
     ]
    },
    {
     "name": "stderr",
     "output_type": "stream",
     "text": [
      "/home/ylu/anaconda3/envs/scSLAT/lib/python3.8/site-packages/scanpy/preprocessing/_highly_variable_genes.py:64: UserWarning: `flavor='seurat_v3'` expects raw count data, but non-integers were found.\n",
      "  warnings.warn(\n",
      "/home/ylu/anaconda3/envs/scSLAT/lib/python3.8/site-packages/scanpy/preprocessing/_normalization.py:169: UserWarning: Received a view of an AnnData. Making a copy.\n",
      "  view_to_actual(adata)\n",
      "/home/ylu/anaconda3/envs/scSLAT/lib/python3.8/site-packages/scanpy/preprocessing/_simple.py:843: UserWarning: Received a view of an AnnData. Making a copy.\n",
      "  view_to_actual(adata)\n",
      "/home/ylu/anaconda3/envs/scSLAT/lib/python3.8/site-packages/scanpy/preprocessing/_simple.py:843: UserWarning: Received a view of an AnnData. Making a copy.\n",
      "  view_to_actual(adata)\n"
     ]
    },
    {
     "name": "stdout",
     "output_type": "stream",
     "text": [
      "Warning! Dual PCA is using GPU, which may lead to OUT OF GPU MEMORY in big dataset!\n",
      "Choose GPU:0 as device\n",
      "Running\n",
      "---------- epochs: 1 ----------\n",
      "---------- epochs: 2 ----------\n",
      "---------- epochs: 3 ----------\n",
      "---------- epochs: 4 ----------\n",
      "---------- epochs: 5 ----------\n",
      "---------- epochs: 6 ----------\n",
      "Training model time: 1.31\n"
     ]
    },
    {
     "name": "stderr",
     "output_type": "stream",
     "text": [
      " 22%|███▌            | 28/128 [10:12<33:28, 20.09s/it]"
     ]
    },
    {
     "name": "stdout",
     "output_type": "stream",
     "text": [
      "Calculating spatial neighbor graph ...\n",
      "The graph contains 184088 edges, 16214 cells.\n",
      "11.353644998149747 neighbors per cell on average.\n",
      "Calculating spatial neighbor graph ...\n",
      "The graph contains 187127 edges, 16551 cells.\n",
      "11.306084224518155 neighbors per cell on average.\n",
      "Use DPCA feature to format graph\n"
     ]
    },
    {
     "name": "stderr",
     "output_type": "stream",
     "text": [
      "/home/ylu/anaconda3/envs/scSLAT/lib/python3.8/site-packages/scanpy/preprocessing/_highly_variable_genes.py:64: UserWarning: `flavor='seurat_v3'` expects raw count data, but non-integers were found.\n",
      "  warnings.warn(\n",
      "/home/ylu/anaconda3/envs/scSLAT/lib/python3.8/site-packages/scanpy/preprocessing/_normalization.py:169: UserWarning: Received a view of an AnnData. Making a copy.\n",
      "  view_to_actual(adata)\n",
      "/home/ylu/anaconda3/envs/scSLAT/lib/python3.8/site-packages/scanpy/preprocessing/_simple.py:843: UserWarning: Received a view of an AnnData. Making a copy.\n",
      "  view_to_actual(adata)\n",
      "/home/ylu/anaconda3/envs/scSLAT/lib/python3.8/site-packages/scanpy/preprocessing/_simple.py:843: UserWarning: Received a view of an AnnData. Making a copy.\n",
      "  view_to_actual(adata)\n"
     ]
    },
    {
     "name": "stdout",
     "output_type": "stream",
     "text": [
      "Warning! Dual PCA is using GPU, which may lead to OUT OF GPU MEMORY in big dataset!\n",
      "Choose GPU:0 as device\n",
      "Running\n",
      "---------- epochs: 1 ----------\n",
      "---------- epochs: 2 ----------\n",
      "---------- epochs: 3 ----------\n",
      "---------- epochs: 4 ----------\n",
      "---------- epochs: 5 ----------\n",
      "---------- epochs: 6 ----------\n",
      "Training model time: 1.33\n"
     ]
    },
    {
     "name": "stderr",
     "output_type": "stream",
     "text": [
      " 23%|███▋            | 29/128 [10:33<33:43, 20.44s/it]"
     ]
    },
    {
     "name": "stdout",
     "output_type": "stream",
     "text": [
      "Calculating spatial neighbor graph ...\n",
      "The graph contains 187127 edges, 16551 cells.\n",
      "11.306084224518155 neighbors per cell on average.\n",
      "Calculating spatial neighbor graph ...\n",
      "The graph contains 210239 edges, 18521 cells.\n",
      "11.351384914421468 neighbors per cell on average.\n",
      "Use DPCA feature to format graph\n"
     ]
    },
    {
     "name": "stderr",
     "output_type": "stream",
     "text": [
      "/home/ylu/anaconda3/envs/scSLAT/lib/python3.8/site-packages/scanpy/preprocessing/_highly_variable_genes.py:64: UserWarning: `flavor='seurat_v3'` expects raw count data, but non-integers were found.\n",
      "  warnings.warn(\n",
      "/home/ylu/anaconda3/envs/scSLAT/lib/python3.8/site-packages/scanpy/preprocessing/_normalization.py:169: UserWarning: Received a view of an AnnData. Making a copy.\n",
      "  view_to_actual(adata)\n",
      "/home/ylu/anaconda3/envs/scSLAT/lib/python3.8/site-packages/scanpy/preprocessing/_simple.py:843: UserWarning: Received a view of an AnnData. Making a copy.\n",
      "  view_to_actual(adata)\n",
      "/home/ylu/anaconda3/envs/scSLAT/lib/python3.8/site-packages/scanpy/preprocessing/_simple.py:843: UserWarning: Received a view of an AnnData. Making a copy.\n",
      "  view_to_actual(adata)\n"
     ]
    },
    {
     "name": "stdout",
     "output_type": "stream",
     "text": [
      "Warning! Dual PCA is using GPU, which may lead to OUT OF GPU MEMORY in big dataset!\n",
      "Choose GPU:0 as device\n",
      "Running\n",
      "---------- epochs: 1 ----------\n",
      "---------- epochs: 2 ----------\n",
      "---------- epochs: 3 ----------\n",
      "---------- epochs: 4 ----------\n",
      "---------- epochs: 5 ----------\n",
      "---------- epochs: 6 ----------\n",
      "Training model time: 1.43\n"
     ]
    },
    {
     "name": "stderr",
     "output_type": "stream",
     "text": [
      " 23%|███▊            | 30/128 [10:57<34:43, 21.26s/it]"
     ]
    },
    {
     "name": "stdout",
     "output_type": "stream",
     "text": [
      "Calculating spatial neighbor graph ...\n",
      "The graph contains 210239 edges, 18521 cells.\n",
      "11.351384914421468 neighbors per cell on average.\n",
      "Calculating spatial neighbor graph ...\n",
      "The graph contains 210043 edges, 18543 cells.\n",
      "11.327347246939546 neighbors per cell on average.\n",
      "Use DPCA feature to format graph\n"
     ]
    },
    {
     "name": "stderr",
     "output_type": "stream",
     "text": [
      "/home/ylu/anaconda3/envs/scSLAT/lib/python3.8/site-packages/scanpy/preprocessing/_highly_variable_genes.py:64: UserWarning: `flavor='seurat_v3'` expects raw count data, but non-integers were found.\n",
      "  warnings.warn(\n",
      "/home/ylu/anaconda3/envs/scSLAT/lib/python3.8/site-packages/scanpy/preprocessing/_normalization.py:169: UserWarning: Received a view of an AnnData. Making a copy.\n",
      "  view_to_actual(adata)\n",
      "/home/ylu/anaconda3/envs/scSLAT/lib/python3.8/site-packages/scanpy/preprocessing/_simple.py:843: UserWarning: Received a view of an AnnData. Making a copy.\n",
      "  view_to_actual(adata)\n",
      "/home/ylu/anaconda3/envs/scSLAT/lib/python3.8/site-packages/scanpy/preprocessing/_simple.py:843: UserWarning: Received a view of an AnnData. Making a copy.\n",
      "  view_to_actual(adata)\n"
     ]
    },
    {
     "name": "stdout",
     "output_type": "stream",
     "text": [
      "Warning! Dual PCA is using GPU, which may lead to OUT OF GPU MEMORY in big dataset!\n",
      "Choose GPU:0 as device\n",
      "Running\n",
      "---------- epochs: 1 ----------\n",
      "---------- epochs: 2 ----------\n",
      "---------- epochs: 3 ----------\n",
      "---------- epochs: 4 ----------\n",
      "---------- epochs: 5 ----------\n",
      "---------- epochs: 6 ----------\n",
      "Training model time: 1.45\n"
     ]
    },
    {
     "name": "stderr",
     "output_type": "stream",
     "text": [
      " 24%|███▉            | 31/128 [11:22<36:25, 22.54s/it]"
     ]
    },
    {
     "name": "stdout",
     "output_type": "stream",
     "text": [
      "Calculating spatial neighbor graph ...\n",
      "The graph contains 210043 edges, 18543 cells.\n",
      "11.327347246939546 neighbors per cell on average.\n",
      "Calculating spatial neighbor graph ...\n",
      "The graph contains 226876 edges, 20000 cells.\n",
      "11.3438 neighbors per cell on average.\n",
      "Use DPCA feature to format graph\n"
     ]
    },
    {
     "name": "stderr",
     "output_type": "stream",
     "text": [
      "/home/ylu/anaconda3/envs/scSLAT/lib/python3.8/site-packages/scanpy/preprocessing/_highly_variable_genes.py:64: UserWarning: `flavor='seurat_v3'` expects raw count data, but non-integers were found.\n",
      "  warnings.warn(\n",
      "/home/ylu/anaconda3/envs/scSLAT/lib/python3.8/site-packages/scanpy/preprocessing/_normalization.py:169: UserWarning: Received a view of an AnnData. Making a copy.\n",
      "  view_to_actual(adata)\n",
      "/home/ylu/anaconda3/envs/scSLAT/lib/python3.8/site-packages/scanpy/preprocessing/_simple.py:843: UserWarning: Received a view of an AnnData. Making a copy.\n",
      "  view_to_actual(adata)\n",
      "/home/ylu/anaconda3/envs/scSLAT/lib/python3.8/site-packages/scanpy/preprocessing/_simple.py:843: UserWarning: Received a view of an AnnData. Making a copy.\n",
      "  view_to_actual(adata)\n"
     ]
    },
    {
     "name": "stdout",
     "output_type": "stream",
     "text": [
      "Warning! Dual PCA is using GPU, which may lead to OUT OF GPU MEMORY in big dataset!\n",
      "Choose GPU:0 as device\n",
      "Running\n",
      "---------- epochs: 1 ----------\n",
      "---------- epochs: 2 ----------\n",
      "---------- epochs: 3 ----------\n",
      "---------- epochs: 4 ----------\n",
      "---------- epochs: 5 ----------\n",
      "---------- epochs: 6 ----------\n",
      "Training model time: 1.54\n"
     ]
    },
    {
     "name": "stderr",
     "output_type": "stream",
     "text": [
      " 25%|████            | 32/128 [11:48<37:45, 23.60s/it]"
     ]
    },
    {
     "name": "stdout",
     "output_type": "stream",
     "text": [
      "Calculating spatial neighbor graph ...\n",
      "The graph contains 227052 edges, 20000 cells.\n",
      "11.3526 neighbors per cell on average.\n",
      "Calculating spatial neighbor graph ...\n",
      "The graph contains 226834 edges, 20000 cells.\n",
      "11.3417 neighbors per cell on average.\n",
      "Use DPCA feature to format graph\n"
     ]
    },
    {
     "name": "stderr",
     "output_type": "stream",
     "text": [
      "/home/ylu/anaconda3/envs/scSLAT/lib/python3.8/site-packages/scanpy/preprocessing/_highly_variable_genes.py:64: UserWarning: `flavor='seurat_v3'` expects raw count data, but non-integers were found.\n",
      "  warnings.warn(\n",
      "/home/ylu/anaconda3/envs/scSLAT/lib/python3.8/site-packages/scanpy/preprocessing/_normalization.py:169: UserWarning: Received a view of an AnnData. Making a copy.\n",
      "  view_to_actual(adata)\n",
      "/home/ylu/anaconda3/envs/scSLAT/lib/python3.8/site-packages/scanpy/preprocessing/_simple.py:843: UserWarning: Received a view of an AnnData. Making a copy.\n",
      "  view_to_actual(adata)\n",
      "/home/ylu/anaconda3/envs/scSLAT/lib/python3.8/site-packages/scanpy/preprocessing/_simple.py:843: UserWarning: Received a view of an AnnData. Making a copy.\n",
      "  view_to_actual(adata)\n"
     ]
    },
    {
     "name": "stdout",
     "output_type": "stream",
     "text": [
      "Warning! Dual PCA is using GPU, which may lead to OUT OF GPU MEMORY in big dataset!\n",
      "Choose GPU:0 as device\n",
      "Running\n",
      "---------- epochs: 1 ----------\n",
      "---------- epochs: 2 ----------\n",
      "---------- epochs: 3 ----------\n",
      "---------- epochs: 4 ----------\n",
      "---------- epochs: 5 ----------\n",
      "---------- epochs: 6 ----------\n",
      "Training model time: 1.71\n"
     ]
    },
    {
     "name": "stderr",
     "output_type": "stream",
     "text": [
      " 26%|████▏           | 33/128 [12:15<39:04, 24.68s/it]"
     ]
    },
    {
     "name": "stdout",
     "output_type": "stream",
     "text": [
      "Calculating spatial neighbor graph ...\n",
      "The graph contains 226772 edges, 20000 cells.\n",
      "11.3386 neighbors per cell on average.\n",
      "Calculating spatial neighbor graph ...\n",
      "The graph contains 227392 edges, 20000 cells.\n",
      "11.3696 neighbors per cell on average.\n",
      "Use DPCA feature to format graph\n"
     ]
    },
    {
     "name": "stderr",
     "output_type": "stream",
     "text": [
      "/home/ylu/anaconda3/envs/scSLAT/lib/python3.8/site-packages/scanpy/preprocessing/_highly_variable_genes.py:64: UserWarning: `flavor='seurat_v3'` expects raw count data, but non-integers were found.\n",
      "  warnings.warn(\n",
      "/home/ylu/anaconda3/envs/scSLAT/lib/python3.8/site-packages/scanpy/preprocessing/_normalization.py:169: UserWarning: Received a view of an AnnData. Making a copy.\n",
      "  view_to_actual(adata)\n",
      "/home/ylu/anaconda3/envs/scSLAT/lib/python3.8/site-packages/scanpy/preprocessing/_simple.py:843: UserWarning: Received a view of an AnnData. Making a copy.\n",
      "  view_to_actual(adata)\n",
      "/home/ylu/anaconda3/envs/scSLAT/lib/python3.8/site-packages/scanpy/preprocessing/_simple.py:843: UserWarning: Received a view of an AnnData. Making a copy.\n",
      "  view_to_actual(adata)\n"
     ]
    },
    {
     "name": "stdout",
     "output_type": "stream",
     "text": [
      "Warning! Dual PCA is using GPU, which may lead to OUT OF GPU MEMORY in big dataset!\n",
      "Choose GPU:0 as device\n",
      "Running\n",
      "---------- epochs: 1 ----------\n",
      "---------- epochs: 2 ----------\n",
      "---------- epochs: 3 ----------\n",
      "---------- epochs: 4 ----------\n",
      "---------- epochs: 5 ----------\n",
      "---------- epochs: 6 ----------\n",
      "Training model time: 1.70\n"
     ]
    },
    {
     "name": "stderr",
     "output_type": "stream",
     "text": [
      " 27%|████▎           | 34/128 [12:44<40:21, 25.76s/it]"
     ]
    },
    {
     "name": "stdout",
     "output_type": "stream",
     "text": [
      "Calculating spatial neighbor graph ...\n",
      "The graph contains 227334 edges, 20000 cells.\n",
      "11.3667 neighbors per cell on average.\n",
      "Calculating spatial neighbor graph ...\n",
      "The graph contains 226586 edges, 20000 cells.\n",
      "11.3293 neighbors per cell on average.\n",
      "Use DPCA feature to format graph\n"
     ]
    },
    {
     "name": "stderr",
     "output_type": "stream",
     "text": [
      "/home/ylu/anaconda3/envs/scSLAT/lib/python3.8/site-packages/scanpy/preprocessing/_highly_variable_genes.py:64: UserWarning: `flavor='seurat_v3'` expects raw count data, but non-integers were found.\n",
      "  warnings.warn(\n",
      "/home/ylu/anaconda3/envs/scSLAT/lib/python3.8/site-packages/scanpy/preprocessing/_normalization.py:169: UserWarning: Received a view of an AnnData. Making a copy.\n",
      "  view_to_actual(adata)\n",
      "/home/ylu/anaconda3/envs/scSLAT/lib/python3.8/site-packages/scanpy/preprocessing/_simple.py:843: UserWarning: Received a view of an AnnData. Making a copy.\n",
      "  view_to_actual(adata)\n",
      "/home/ylu/anaconda3/envs/scSLAT/lib/python3.8/site-packages/scanpy/preprocessing/_simple.py:843: UserWarning: Received a view of an AnnData. Making a copy.\n",
      "  view_to_actual(adata)\n"
     ]
    },
    {
     "name": "stdout",
     "output_type": "stream",
     "text": [
      "Warning! Dual PCA is using GPU, which may lead to OUT OF GPU MEMORY in big dataset!\n",
      "Choose GPU:0 as device\n",
      "Running\n",
      "---------- epochs: 1 ----------\n",
      "---------- epochs: 2 ----------\n",
      "---------- epochs: 3 ----------\n",
      "---------- epochs: 4 ----------\n",
      "---------- epochs: 5 ----------\n",
      "---------- epochs: 6 ----------\n",
      "Training model time: 1.71\n"
     ]
    },
    {
     "name": "stderr",
     "output_type": "stream",
     "text": [
      " 27%|████▍           | 35/128 [13:11<40:36, 26.20s/it]"
     ]
    },
    {
     "name": "stdout",
     "output_type": "stream",
     "text": [
      "Calculating spatial neighbor graph ...\n",
      "The graph contains 226624 edges, 20000 cells.\n",
      "11.3312 neighbors per cell on average.\n",
      "Calculating spatial neighbor graph ...\n",
      "The graph contains 227626 edges, 20000 cells.\n",
      "11.3813 neighbors per cell on average.\n",
      "Use DPCA feature to format graph\n"
     ]
    },
    {
     "name": "stderr",
     "output_type": "stream",
     "text": [
      "/home/ylu/anaconda3/envs/scSLAT/lib/python3.8/site-packages/scanpy/preprocessing/_highly_variable_genes.py:64: UserWarning: `flavor='seurat_v3'` expects raw count data, but non-integers were found.\n",
      "  warnings.warn(\n",
      "/home/ylu/anaconda3/envs/scSLAT/lib/python3.8/site-packages/scanpy/preprocessing/_normalization.py:169: UserWarning: Received a view of an AnnData. Making a copy.\n",
      "  view_to_actual(adata)\n",
      "/home/ylu/anaconda3/envs/scSLAT/lib/python3.8/site-packages/scanpy/preprocessing/_simple.py:843: UserWarning: Received a view of an AnnData. Making a copy.\n",
      "  view_to_actual(adata)\n",
      "/home/ylu/anaconda3/envs/scSLAT/lib/python3.8/site-packages/scanpy/preprocessing/_simple.py:843: UserWarning: Received a view of an AnnData. Making a copy.\n",
      "  view_to_actual(adata)\n"
     ]
    },
    {
     "name": "stdout",
     "output_type": "stream",
     "text": [
      "Warning! Dual PCA is using GPU, which may lead to OUT OF GPU MEMORY in big dataset!\n",
      "Choose GPU:0 as device\n",
      "Running\n",
      "---------- epochs: 1 ----------\n",
      "---------- epochs: 2 ----------\n",
      "---------- epochs: 3 ----------\n",
      "---------- epochs: 4 ----------\n",
      "---------- epochs: 5 ----------\n",
      "---------- epochs: 6 ----------\n",
      "Training model time: 1.70\n"
     ]
    },
    {
     "name": "stderr",
     "output_type": "stream",
     "text": [
      " 28%|████▌           | 36/128 [13:39<41:14, 26.89s/it]"
     ]
    },
    {
     "name": "stdout",
     "output_type": "stream",
     "text": [
      "Calculating spatial neighbor graph ...\n",
      "The graph contains 227712 edges, 20000 cells.\n",
      "11.3856 neighbors per cell on average.\n",
      "Calculating spatial neighbor graph ...\n",
      "The graph contains 227814 edges, 20000 cells.\n",
      "11.3907 neighbors per cell on average.\n",
      "Use DPCA feature to format graph\n"
     ]
    },
    {
     "name": "stderr",
     "output_type": "stream",
     "text": [
      "/home/ylu/anaconda3/envs/scSLAT/lib/python3.8/site-packages/scanpy/preprocessing/_highly_variable_genes.py:64: UserWarning: `flavor='seurat_v3'` expects raw count data, but non-integers were found.\n",
      "  warnings.warn(\n",
      "/home/ylu/anaconda3/envs/scSLAT/lib/python3.8/site-packages/scanpy/preprocessing/_normalization.py:169: UserWarning: Received a view of an AnnData. Making a copy.\n",
      "  view_to_actual(adata)\n",
      "/home/ylu/anaconda3/envs/scSLAT/lib/python3.8/site-packages/scanpy/preprocessing/_simple.py:843: UserWarning: Received a view of an AnnData. Making a copy.\n",
      "  view_to_actual(adata)\n",
      "/home/ylu/anaconda3/envs/scSLAT/lib/python3.8/site-packages/scanpy/preprocessing/_simple.py:843: UserWarning: Received a view of an AnnData. Making a copy.\n",
      "  view_to_actual(adata)\n"
     ]
    },
    {
     "name": "stdout",
     "output_type": "stream",
     "text": [
      "Warning! Dual PCA is using GPU, which may lead to OUT OF GPU MEMORY in big dataset!\n",
      "Choose GPU:0 as device\n",
      "Running\n",
      "---------- epochs: 1 ----------\n",
      "---------- epochs: 2 ----------\n",
      "---------- epochs: 3 ----------\n",
      "---------- epochs: 4 ----------\n",
      "---------- epochs: 5 ----------\n",
      "---------- epochs: 6 ----------\n",
      "Training model time: 1.65\n"
     ]
    },
    {
     "name": "stderr",
     "output_type": "stream",
     "text": [
      " 29%|████▋           | 37/128 [14:04<39:46, 26.23s/it]"
     ]
    },
    {
     "name": "stdout",
     "output_type": "stream",
     "text": [
      "Calculating spatial neighbor graph ...\n",
      "The graph contains 227510 edges, 20000 cells.\n",
      "11.3755 neighbors per cell on average.\n",
      "Calculating spatial neighbor graph ...\n",
      "The graph contains 227664 edges, 20000 cells.\n",
      "11.3832 neighbors per cell on average.\n",
      "Use DPCA feature to format graph\n"
     ]
    },
    {
     "name": "stderr",
     "output_type": "stream",
     "text": [
      "/home/ylu/anaconda3/envs/scSLAT/lib/python3.8/site-packages/scanpy/preprocessing/_highly_variable_genes.py:64: UserWarning: `flavor='seurat_v3'` expects raw count data, but non-integers were found.\n",
      "  warnings.warn(\n",
      "/home/ylu/anaconda3/envs/scSLAT/lib/python3.8/site-packages/scanpy/preprocessing/_normalization.py:169: UserWarning: Received a view of an AnnData. Making a copy.\n",
      "  view_to_actual(adata)\n",
      "/home/ylu/anaconda3/envs/scSLAT/lib/python3.8/site-packages/scanpy/preprocessing/_simple.py:843: UserWarning: Received a view of an AnnData. Making a copy.\n",
      "  view_to_actual(adata)\n",
      "/home/ylu/anaconda3/envs/scSLAT/lib/python3.8/site-packages/scanpy/preprocessing/_simple.py:843: UserWarning: Received a view of an AnnData. Making a copy.\n",
      "  view_to_actual(adata)\n"
     ]
    },
    {
     "name": "stdout",
     "output_type": "stream",
     "text": [
      "Warning! Dual PCA is using GPU, which may lead to OUT OF GPU MEMORY in big dataset!\n",
      "Choose GPU:0 as device\n",
      "Running\n",
      "---------- epochs: 1 ----------\n",
      "---------- epochs: 2 ----------\n",
      "---------- epochs: 3 ----------\n",
      "---------- epochs: 4 ----------\n",
      "---------- epochs: 5 ----------\n",
      "---------- epochs: 6 ----------\n",
      "Training model time: 1.73\n"
     ]
    },
    {
     "name": "stderr",
     "output_type": "stream",
     "text": [
      " 30%|████▊           | 38/128 [14:32<40:15, 26.84s/it]"
     ]
    },
    {
     "name": "stdout",
     "output_type": "stream",
     "text": [
      "Calculating spatial neighbor graph ...\n",
      "The graph contains 227302 edges, 20000 cells.\n",
      "11.3651 neighbors per cell on average.\n",
      "Calculating spatial neighbor graph ...\n",
      "The graph contains 226928 edges, 20000 cells.\n",
      "11.3464 neighbors per cell on average.\n",
      "Use DPCA feature to format graph\n"
     ]
    },
    {
     "name": "stderr",
     "output_type": "stream",
     "text": [
      "/home/ylu/anaconda3/envs/scSLAT/lib/python3.8/site-packages/scanpy/preprocessing/_highly_variable_genes.py:64: UserWarning: `flavor='seurat_v3'` expects raw count data, but non-integers were found.\n",
      "  warnings.warn(\n",
      "/home/ylu/anaconda3/envs/scSLAT/lib/python3.8/site-packages/scanpy/preprocessing/_normalization.py:169: UserWarning: Received a view of an AnnData. Making a copy.\n",
      "  view_to_actual(adata)\n",
      "/home/ylu/anaconda3/envs/scSLAT/lib/python3.8/site-packages/scanpy/preprocessing/_simple.py:843: UserWarning: Received a view of an AnnData. Making a copy.\n",
      "  view_to_actual(adata)\n",
      "/home/ylu/anaconda3/envs/scSLAT/lib/python3.8/site-packages/scanpy/preprocessing/_simple.py:843: UserWarning: Received a view of an AnnData. Making a copy.\n",
      "  view_to_actual(adata)\n"
     ]
    },
    {
     "name": "stdout",
     "output_type": "stream",
     "text": [
      "Warning! Dual PCA is using GPU, which may lead to OUT OF GPU MEMORY in big dataset!\n",
      "Choose GPU:0 as device\n",
      "Running\n",
      "---------- epochs: 1 ----------\n",
      "---------- epochs: 2 ----------\n",
      "---------- epochs: 3 ----------\n",
      "---------- epochs: 4 ----------\n",
      "---------- epochs: 5 ----------\n",
      "---------- epochs: 6 ----------\n",
      "Training model time: 1.71\n"
     ]
    },
    {
     "name": "stderr",
     "output_type": "stream",
     "text": [
      " 30%|████▉           | 39/128 [15:00<40:15, 27.14s/it]"
     ]
    },
    {
     "name": "stdout",
     "output_type": "stream",
     "text": [
      "Calculating spatial neighbor graph ...\n",
      "The graph contains 226942 edges, 20000 cells.\n",
      "11.3471 neighbors per cell on average.\n",
      "Calculating spatial neighbor graph ...\n",
      "The graph contains 227562 edges, 20000 cells.\n",
      "11.3781 neighbors per cell on average.\n",
      "Use DPCA feature to format graph\n"
     ]
    },
    {
     "name": "stderr",
     "output_type": "stream",
     "text": [
      "/home/ylu/anaconda3/envs/scSLAT/lib/python3.8/site-packages/scanpy/preprocessing/_highly_variable_genes.py:64: UserWarning: `flavor='seurat_v3'` expects raw count data, but non-integers were found.\n",
      "  warnings.warn(\n",
      "/home/ylu/anaconda3/envs/scSLAT/lib/python3.8/site-packages/scanpy/preprocessing/_normalization.py:169: UserWarning: Received a view of an AnnData. Making a copy.\n",
      "  view_to_actual(adata)\n",
      "/home/ylu/anaconda3/envs/scSLAT/lib/python3.8/site-packages/scanpy/preprocessing/_simple.py:843: UserWarning: Received a view of an AnnData. Making a copy.\n",
      "  view_to_actual(adata)\n",
      "/home/ylu/anaconda3/envs/scSLAT/lib/python3.8/site-packages/scanpy/preprocessing/_simple.py:843: UserWarning: Received a view of an AnnData. Making a copy.\n",
      "  view_to_actual(adata)\n"
     ]
    },
    {
     "name": "stdout",
     "output_type": "stream",
     "text": [
      "Warning! Dual PCA is using GPU, which may lead to OUT OF GPU MEMORY in big dataset!\n",
      "Choose GPU:0 as device\n",
      "Running\n",
      "---------- epochs: 1 ----------\n",
      "---------- epochs: 2 ----------\n",
      "---------- epochs: 3 ----------\n",
      "---------- epochs: 4 ----------\n",
      "---------- epochs: 5 ----------\n",
      "---------- epochs: 6 ----------\n",
      "Training model time: 1.68\n"
     ]
    },
    {
     "name": "stderr",
     "output_type": "stream",
     "text": [
      " 31%|█████           | 40/128 [15:28<40:04, 27.32s/it]"
     ]
    },
    {
     "name": "stdout",
     "output_type": "stream",
     "text": [
      "Calculating spatial neighbor graph ...\n",
      "The graph contains 227482 edges, 20000 cells.\n",
      "11.3741 neighbors per cell on average.\n",
      "Calculating spatial neighbor graph ...\n",
      "The graph contains 227426 edges, 20000 cells.\n",
      "11.3713 neighbors per cell on average.\n",
      "Use DPCA feature to format graph\n"
     ]
    },
    {
     "name": "stderr",
     "output_type": "stream",
     "text": [
      "/home/ylu/anaconda3/envs/scSLAT/lib/python3.8/site-packages/scanpy/preprocessing/_highly_variable_genes.py:64: UserWarning: `flavor='seurat_v3'` expects raw count data, but non-integers were found.\n",
      "  warnings.warn(\n",
      "/home/ylu/anaconda3/envs/scSLAT/lib/python3.8/site-packages/scanpy/preprocessing/_normalization.py:169: UserWarning: Received a view of an AnnData. Making a copy.\n",
      "  view_to_actual(adata)\n",
      "/home/ylu/anaconda3/envs/scSLAT/lib/python3.8/site-packages/scanpy/preprocessing/_simple.py:843: UserWarning: Received a view of an AnnData. Making a copy.\n",
      "  view_to_actual(adata)\n",
      "/home/ylu/anaconda3/envs/scSLAT/lib/python3.8/site-packages/scanpy/preprocessing/_simple.py:843: UserWarning: Received a view of an AnnData. Making a copy.\n",
      "  view_to_actual(adata)\n"
     ]
    },
    {
     "name": "stdout",
     "output_type": "stream",
     "text": [
      "Warning! Dual PCA is using GPU, which may lead to OUT OF GPU MEMORY in big dataset!\n",
      "Choose GPU:0 as device\n",
      "Running\n",
      "---------- epochs: 1 ----------\n",
      "---------- epochs: 2 ----------\n",
      "---------- epochs: 3 ----------\n",
      "---------- epochs: 4 ----------\n",
      "---------- epochs: 5 ----------\n",
      "---------- epochs: 6 ----------\n",
      "Training model time: 1.73\n"
     ]
    },
    {
     "name": "stderr",
     "output_type": "stream",
     "text": [
      " 32%|█████▏          | 41/128 [15:56<39:48, 27.46s/it]"
     ]
    },
    {
     "name": "stdout",
     "output_type": "stream",
     "text": [
      "Calculating spatial neighbor graph ...\n",
      "The graph contains 227672 edges, 20000 cells.\n",
      "11.3836 neighbors per cell on average.\n",
      "Calculating spatial neighbor graph ...\n",
      "The graph contains 227302 edges, 20000 cells.\n",
      "11.3651 neighbors per cell on average.\n",
      "Use DPCA feature to format graph\n"
     ]
    },
    {
     "name": "stderr",
     "output_type": "stream",
     "text": [
      "/home/ylu/anaconda3/envs/scSLAT/lib/python3.8/site-packages/scanpy/preprocessing/_highly_variable_genes.py:64: UserWarning: `flavor='seurat_v3'` expects raw count data, but non-integers were found.\n",
      "  warnings.warn(\n",
      "/home/ylu/anaconda3/envs/scSLAT/lib/python3.8/site-packages/scanpy/preprocessing/_normalization.py:169: UserWarning: Received a view of an AnnData. Making a copy.\n",
      "  view_to_actual(adata)\n",
      "/home/ylu/anaconda3/envs/scSLAT/lib/python3.8/site-packages/scanpy/preprocessing/_simple.py:843: UserWarning: Received a view of an AnnData. Making a copy.\n",
      "  view_to_actual(adata)\n",
      "/home/ylu/anaconda3/envs/scSLAT/lib/python3.8/site-packages/scanpy/preprocessing/_simple.py:843: UserWarning: Received a view of an AnnData. Making a copy.\n",
      "  view_to_actual(adata)\n"
     ]
    },
    {
     "name": "stdout",
     "output_type": "stream",
     "text": [
      "Warning! Dual PCA is using GPU, which may lead to OUT OF GPU MEMORY in big dataset!\n",
      "Choose GPU:0 as device\n",
      "Running\n",
      "---------- epochs: 1 ----------\n",
      "---------- epochs: 2 ----------\n",
      "---------- epochs: 3 ----------\n",
      "---------- epochs: 4 ----------\n",
      "---------- epochs: 5 ----------\n",
      "---------- epochs: 6 ----------\n",
      "Training model time: 1.73\n"
     ]
    },
    {
     "name": "stderr",
     "output_type": "stream",
     "text": [
      " 33%|█████▎          | 42/128 [16:23<39:15, 27.39s/it]"
     ]
    },
    {
     "name": "stdout",
     "output_type": "stream",
     "text": [
      "Calculating spatial neighbor graph ...\n",
      "The graph contains 227662 edges, 20000 cells.\n",
      "11.3831 neighbors per cell on average.\n",
      "Calculating spatial neighbor graph ...\n",
      "The graph contains 227510 edges, 20000 cells.\n",
      "11.3755 neighbors per cell on average.\n",
      "Use DPCA feature to format graph\n"
     ]
    },
    {
     "name": "stderr",
     "output_type": "stream",
     "text": [
      "/home/ylu/anaconda3/envs/scSLAT/lib/python3.8/site-packages/scanpy/preprocessing/_highly_variable_genes.py:64: UserWarning: `flavor='seurat_v3'` expects raw count data, but non-integers were found.\n",
      "  warnings.warn(\n",
      "/home/ylu/anaconda3/envs/scSLAT/lib/python3.8/site-packages/scanpy/preprocessing/_normalization.py:169: UserWarning: Received a view of an AnnData. Making a copy.\n",
      "  view_to_actual(adata)\n",
      "/home/ylu/anaconda3/envs/scSLAT/lib/python3.8/site-packages/scanpy/preprocessing/_simple.py:843: UserWarning: Received a view of an AnnData. Making a copy.\n",
      "  view_to_actual(adata)\n",
      "/home/ylu/anaconda3/envs/scSLAT/lib/python3.8/site-packages/scanpy/preprocessing/_simple.py:843: UserWarning: Received a view of an AnnData. Making a copy.\n",
      "  view_to_actual(adata)\n"
     ]
    },
    {
     "name": "stdout",
     "output_type": "stream",
     "text": [
      "Warning! Dual PCA is using GPU, which may lead to OUT OF GPU MEMORY in big dataset!\n",
      "Choose GPU:0 as device\n",
      "Running\n",
      "---------- epochs: 1 ----------\n",
      "---------- epochs: 2 ----------\n",
      "---------- epochs: 3 ----------\n",
      "---------- epochs: 4 ----------\n",
      "---------- epochs: 5 ----------\n",
      "---------- epochs: 6 ----------\n",
      "Training model time: 1.73\n"
     ]
    },
    {
     "name": "stderr",
     "output_type": "stream",
     "text": [
      " 34%|█████▍          | 43/128 [16:50<38:38, 27.28s/it]"
     ]
    },
    {
     "name": "stdout",
     "output_type": "stream",
     "text": [
      "Calculating spatial neighbor graph ...\n",
      "The graph contains 227520 edges, 20000 cells.\n",
      "11.376 neighbors per cell on average.\n",
      "Calculating spatial neighbor graph ...\n",
      "The graph contains 227178 edges, 20000 cells.\n",
      "11.3589 neighbors per cell on average.\n",
      "Use DPCA feature to format graph\n"
     ]
    },
    {
     "name": "stderr",
     "output_type": "stream",
     "text": [
      "/home/ylu/anaconda3/envs/scSLAT/lib/python3.8/site-packages/scanpy/preprocessing/_highly_variable_genes.py:64: UserWarning: `flavor='seurat_v3'` expects raw count data, but non-integers were found.\n",
      "  warnings.warn(\n",
      "/home/ylu/anaconda3/envs/scSLAT/lib/python3.8/site-packages/scanpy/preprocessing/_normalization.py:169: UserWarning: Received a view of an AnnData. Making a copy.\n",
      "  view_to_actual(adata)\n",
      "/home/ylu/anaconda3/envs/scSLAT/lib/python3.8/site-packages/scanpy/preprocessing/_simple.py:843: UserWarning: Received a view of an AnnData. Making a copy.\n",
      "  view_to_actual(adata)\n",
      "/home/ylu/anaconda3/envs/scSLAT/lib/python3.8/site-packages/scanpy/preprocessing/_simple.py:843: UserWarning: Received a view of an AnnData. Making a copy.\n",
      "  view_to_actual(adata)\n"
     ]
    },
    {
     "name": "stdout",
     "output_type": "stream",
     "text": [
      "Warning! Dual PCA is using GPU, which may lead to OUT OF GPU MEMORY in big dataset!\n",
      "Choose GPU:0 as device\n",
      "Running\n",
      "---------- epochs: 1 ----------\n",
      "---------- epochs: 2 ----------\n",
      "---------- epochs: 3 ----------\n",
      "---------- epochs: 4 ----------\n",
      "---------- epochs: 5 ----------\n",
      "---------- epochs: 6 ----------\n",
      "Training model time: 1.71\n"
     ]
    },
    {
     "name": "stderr",
     "output_type": "stream",
     "text": [
      " 34%|█████▌          | 44/128 [17:19<38:50, 27.75s/it]"
     ]
    },
    {
     "name": "stdout",
     "output_type": "stream",
     "text": [
      "Calculating spatial neighbor graph ...\n",
      "The graph contains 227324 edges, 20000 cells.\n",
      "11.3662 neighbors per cell on average.\n",
      "Calculating spatial neighbor graph ...\n",
      "The graph contains 226758 edges, 20000 cells.\n",
      "11.3379 neighbors per cell on average.\n",
      "Use DPCA feature to format graph\n"
     ]
    },
    {
     "name": "stderr",
     "output_type": "stream",
     "text": [
      "/home/ylu/anaconda3/envs/scSLAT/lib/python3.8/site-packages/scanpy/preprocessing/_highly_variable_genes.py:64: UserWarning: `flavor='seurat_v3'` expects raw count data, but non-integers were found.\n",
      "  warnings.warn(\n",
      "/home/ylu/anaconda3/envs/scSLAT/lib/python3.8/site-packages/scanpy/preprocessing/_normalization.py:169: UserWarning: Received a view of an AnnData. Making a copy.\n",
      "  view_to_actual(adata)\n",
      "/home/ylu/anaconda3/envs/scSLAT/lib/python3.8/site-packages/scanpy/preprocessing/_simple.py:843: UserWarning: Received a view of an AnnData. Making a copy.\n",
      "  view_to_actual(adata)\n",
      "/home/ylu/anaconda3/envs/scSLAT/lib/python3.8/site-packages/scanpy/preprocessing/_simple.py:843: UserWarning: Received a view of an AnnData. Making a copy.\n",
      "  view_to_actual(adata)\n"
     ]
    },
    {
     "name": "stdout",
     "output_type": "stream",
     "text": [
      "Warning! Dual PCA is using GPU, which may lead to OUT OF GPU MEMORY in big dataset!\n",
      "Choose GPU:0 as device\n",
      "Running\n",
      "---------- epochs: 1 ----------\n",
      "---------- epochs: 2 ----------\n",
      "---------- epochs: 3 ----------\n",
      "---------- epochs: 4 ----------\n",
      "---------- epochs: 5 ----------\n",
      "---------- epochs: 6 ----------\n",
      "Training model time: 1.71\n"
     ]
    },
    {
     "name": "stderr",
     "output_type": "stream",
     "text": [
      " 35%|█████▋          | 45/128 [17:46<38:15, 27.66s/it]"
     ]
    },
    {
     "name": "stdout",
     "output_type": "stream",
     "text": [
      "Calculating spatial neighbor graph ...\n",
      "The graph contains 226556 edges, 20000 cells.\n",
      "11.3278 neighbors per cell on average.\n",
      "Calculating spatial neighbor graph ...\n",
      "The graph contains 227544 edges, 20000 cells.\n",
      "11.3772 neighbors per cell on average.\n",
      "Use DPCA feature to format graph\n"
     ]
    },
    {
     "name": "stderr",
     "output_type": "stream",
     "text": [
      "/home/ylu/anaconda3/envs/scSLAT/lib/python3.8/site-packages/scanpy/preprocessing/_highly_variable_genes.py:64: UserWarning: `flavor='seurat_v3'` expects raw count data, but non-integers were found.\n",
      "  warnings.warn(\n",
      "/home/ylu/anaconda3/envs/scSLAT/lib/python3.8/site-packages/scanpy/preprocessing/_normalization.py:169: UserWarning: Received a view of an AnnData. Making a copy.\n",
      "  view_to_actual(adata)\n",
      "/home/ylu/anaconda3/envs/scSLAT/lib/python3.8/site-packages/scanpy/preprocessing/_simple.py:843: UserWarning: Received a view of an AnnData. Making a copy.\n",
      "  view_to_actual(adata)\n",
      "/home/ylu/anaconda3/envs/scSLAT/lib/python3.8/site-packages/scanpy/preprocessing/_simple.py:843: UserWarning: Received a view of an AnnData. Making a copy.\n",
      "  view_to_actual(adata)\n"
     ]
    },
    {
     "name": "stdout",
     "output_type": "stream",
     "text": [
      "Warning! Dual PCA is using GPU, which may lead to OUT OF GPU MEMORY in big dataset!\n",
      "Choose GPU:0 as device\n",
      "Running\n",
      "---------- epochs: 1 ----------\n",
      "---------- epochs: 2 ----------\n",
      "---------- epochs: 3 ----------\n",
      "---------- epochs: 4 ----------\n",
      "---------- epochs: 5 ----------\n",
      "---------- epochs: 6 ----------\n",
      "Training model time: 1.75\n"
     ]
    },
    {
     "name": "stderr",
     "output_type": "stream",
     "text": [
      " 36%|█████▊          | 46/128 [18:17<39:10, 28.67s/it]"
     ]
    },
    {
     "name": "stdout",
     "output_type": "stream",
     "text": [
      "Calculating spatial neighbor graph ...\n",
      "The graph contains 227386 edges, 20000 cells.\n",
      "11.3693 neighbors per cell on average.\n",
      "Calculating spatial neighbor graph ...\n",
      "The graph contains 227468 edges, 20000 cells.\n",
      "11.3734 neighbors per cell on average.\n",
      "Use DPCA feature to format graph\n"
     ]
    },
    {
     "name": "stderr",
     "output_type": "stream",
     "text": [
      "/home/ylu/anaconda3/envs/scSLAT/lib/python3.8/site-packages/scanpy/preprocessing/_highly_variable_genes.py:64: UserWarning: `flavor='seurat_v3'` expects raw count data, but non-integers were found.\n",
      "  warnings.warn(\n",
      "/home/ylu/anaconda3/envs/scSLAT/lib/python3.8/site-packages/scanpy/preprocessing/_normalization.py:169: UserWarning: Received a view of an AnnData. Making a copy.\n",
      "  view_to_actual(adata)\n",
      "/home/ylu/anaconda3/envs/scSLAT/lib/python3.8/site-packages/scanpy/preprocessing/_simple.py:843: UserWarning: Received a view of an AnnData. Making a copy.\n",
      "  view_to_actual(adata)\n",
      "/home/ylu/anaconda3/envs/scSLAT/lib/python3.8/site-packages/scanpy/preprocessing/_simple.py:843: UserWarning: Received a view of an AnnData. Making a copy.\n",
      "  view_to_actual(adata)\n"
     ]
    },
    {
     "name": "stdout",
     "output_type": "stream",
     "text": [
      "Warning! Dual PCA is using GPU, which may lead to OUT OF GPU MEMORY in big dataset!\n",
      "Choose GPU:0 as device\n",
      "Running\n",
      "---------- epochs: 1 ----------\n",
      "---------- epochs: 2 ----------\n",
      "---------- epochs: 3 ----------\n",
      "---------- epochs: 4 ----------\n",
      "---------- epochs: 5 ----------\n",
      "---------- epochs: 6 ----------\n",
      "Training model time: 1.67\n"
     ]
    },
    {
     "name": "stderr",
     "output_type": "stream",
     "text": [
      " 37%|█████▉          | 47/128 [18:48<39:41, 29.40s/it]"
     ]
    },
    {
     "name": "stdout",
     "output_type": "stream",
     "text": [
      "Calculating spatial neighbor graph ...\n",
      "The graph contains 227560 edges, 20000 cells.\n",
      "11.378 neighbors per cell on average.\n",
      "Calculating spatial neighbor graph ...\n",
      "The graph contains 226570 edges, 20000 cells.\n",
      "11.3285 neighbors per cell on average.\n",
      "Use DPCA feature to format graph\n"
     ]
    },
    {
     "name": "stderr",
     "output_type": "stream",
     "text": [
      "/home/ylu/anaconda3/envs/scSLAT/lib/python3.8/site-packages/scanpy/preprocessing/_highly_variable_genes.py:64: UserWarning: `flavor='seurat_v3'` expects raw count data, but non-integers were found.\n",
      "  warnings.warn(\n",
      "/home/ylu/anaconda3/envs/scSLAT/lib/python3.8/site-packages/scanpy/preprocessing/_normalization.py:169: UserWarning: Received a view of an AnnData. Making a copy.\n",
      "  view_to_actual(adata)\n",
      "/home/ylu/anaconda3/envs/scSLAT/lib/python3.8/site-packages/scanpy/preprocessing/_simple.py:843: UserWarning: Received a view of an AnnData. Making a copy.\n",
      "  view_to_actual(adata)\n",
      "/home/ylu/anaconda3/envs/scSLAT/lib/python3.8/site-packages/scanpy/preprocessing/_simple.py:843: UserWarning: Received a view of an AnnData. Making a copy.\n",
      "  view_to_actual(adata)\n"
     ]
    },
    {
     "name": "stdout",
     "output_type": "stream",
     "text": [
      "Warning! Dual PCA is using GPU, which may lead to OUT OF GPU MEMORY in big dataset!\n",
      "Choose GPU:0 as device\n",
      "Running\n",
      "---------- epochs: 1 ----------\n",
      "---------- epochs: 2 ----------\n",
      "---------- epochs: 3 ----------\n",
      "---------- epochs: 4 ----------\n",
      "---------- epochs: 5 ----------\n",
      "---------- epochs: 6 ----------\n",
      "Training model time: 1.70\n"
     ]
    },
    {
     "name": "stderr",
     "output_type": "stream",
     "text": [
      " 38%|██████          | 48/128 [19:19<39:29, 29.61s/it]"
     ]
    },
    {
     "name": "stdout",
     "output_type": "stream",
     "text": [
      "Calculating spatial neighbor graph ...\n",
      "The graph contains 226732 edges, 20000 cells.\n",
      "11.3366 neighbors per cell on average.\n",
      "Calculating spatial neighbor graph ...\n",
      "The graph contains 226798 edges, 20000 cells.\n",
      "11.3399 neighbors per cell on average.\n",
      "Use DPCA feature to format graph\n"
     ]
    },
    {
     "name": "stderr",
     "output_type": "stream",
     "text": [
      "/home/ylu/anaconda3/envs/scSLAT/lib/python3.8/site-packages/scanpy/preprocessing/_highly_variable_genes.py:64: UserWarning: `flavor='seurat_v3'` expects raw count data, but non-integers were found.\n",
      "  warnings.warn(\n",
      "/home/ylu/anaconda3/envs/scSLAT/lib/python3.8/site-packages/scanpy/preprocessing/_normalization.py:169: UserWarning: Received a view of an AnnData. Making a copy.\n",
      "  view_to_actual(adata)\n",
      "/home/ylu/anaconda3/envs/scSLAT/lib/python3.8/site-packages/scanpy/preprocessing/_simple.py:843: UserWarning: Received a view of an AnnData. Making a copy.\n",
      "  view_to_actual(adata)\n",
      "/home/ylu/anaconda3/envs/scSLAT/lib/python3.8/site-packages/scanpy/preprocessing/_simple.py:843: UserWarning: Received a view of an AnnData. Making a copy.\n",
      "  view_to_actual(adata)\n"
     ]
    },
    {
     "name": "stdout",
     "output_type": "stream",
     "text": [
      "Warning! Dual PCA is using GPU, which may lead to OUT OF GPU MEMORY in big dataset!\n",
      "Choose GPU:0 as device\n",
      "Running\n",
      "---------- epochs: 1 ----------\n",
      "---------- epochs: 2 ----------\n",
      "---------- epochs: 3 ----------\n",
      "---------- epochs: 4 ----------\n",
      "---------- epochs: 5 ----------\n",
      "---------- epochs: 6 ----------\n",
      "Training model time: 1.71\n"
     ]
    },
    {
     "name": "stderr",
     "output_type": "stream",
     "text": [
      " 38%|██████▏         | 49/128 [19:51<40:18, 30.62s/it]"
     ]
    },
    {
     "name": "stdout",
     "output_type": "stream",
     "text": [
      "Calculating spatial neighbor graph ...\n",
      "The graph contains 226294 edges, 20000 cells.\n",
      "11.3147 neighbors per cell on average.\n",
      "Calculating spatial neighbor graph ...\n",
      "The graph contains 227412 edges, 20000 cells.\n",
      "11.3706 neighbors per cell on average.\n",
      "Use DPCA feature to format graph\n"
     ]
    },
    {
     "name": "stderr",
     "output_type": "stream",
     "text": [
      "/home/ylu/anaconda3/envs/scSLAT/lib/python3.8/site-packages/scanpy/preprocessing/_highly_variable_genes.py:64: UserWarning: `flavor='seurat_v3'` expects raw count data, but non-integers were found.\n",
      "  warnings.warn(\n",
      "/home/ylu/anaconda3/envs/scSLAT/lib/python3.8/site-packages/scanpy/preprocessing/_normalization.py:169: UserWarning: Received a view of an AnnData. Making a copy.\n",
      "  view_to_actual(adata)\n",
      "/home/ylu/anaconda3/envs/scSLAT/lib/python3.8/site-packages/scanpy/preprocessing/_simple.py:843: UserWarning: Received a view of an AnnData. Making a copy.\n",
      "  view_to_actual(adata)\n",
      "/home/ylu/anaconda3/envs/scSLAT/lib/python3.8/site-packages/scanpy/preprocessing/_simple.py:843: UserWarning: Received a view of an AnnData. Making a copy.\n",
      "  view_to_actual(adata)\n"
     ]
    },
    {
     "name": "stdout",
     "output_type": "stream",
     "text": [
      "Warning! Dual PCA is using GPU, which may lead to OUT OF GPU MEMORY in big dataset!\n",
      "Choose GPU:0 as device\n",
      "Running\n",
      "---------- epochs: 1 ----------\n",
      "---------- epochs: 2 ----------\n",
      "---------- epochs: 3 ----------\n",
      "---------- epochs: 4 ----------\n",
      "---------- epochs: 5 ----------\n",
      "---------- epochs: 6 ----------\n",
      "Training model time: 1.67\n"
     ]
    },
    {
     "name": "stderr",
     "output_type": "stream",
     "text": [
      " 39%|██████▎         | 50/128 [20:28<42:17, 32.53s/it]"
     ]
    },
    {
     "name": "stdout",
     "output_type": "stream",
     "text": [
      "Calculating spatial neighbor graph ...\n",
      "The graph contains 227386 edges, 20000 cells.\n",
      "11.3693 neighbors per cell on average.\n",
      "Calculating spatial neighbor graph ...\n",
      "The graph contains 227000 edges, 20000 cells.\n",
      "11.35 neighbors per cell on average.\n",
      "Use DPCA feature to format graph\n"
     ]
    },
    {
     "name": "stderr",
     "output_type": "stream",
     "text": [
      "/home/ylu/anaconda3/envs/scSLAT/lib/python3.8/site-packages/scanpy/preprocessing/_highly_variable_genes.py:64: UserWarning: `flavor='seurat_v3'` expects raw count data, but non-integers were found.\n",
      "  warnings.warn(\n",
      "/home/ylu/anaconda3/envs/scSLAT/lib/python3.8/site-packages/scanpy/preprocessing/_normalization.py:169: UserWarning: Received a view of an AnnData. Making a copy.\n",
      "  view_to_actual(adata)\n",
      "/home/ylu/anaconda3/envs/scSLAT/lib/python3.8/site-packages/scanpy/preprocessing/_simple.py:843: UserWarning: Received a view of an AnnData. Making a copy.\n",
      "  view_to_actual(adata)\n",
      "/home/ylu/anaconda3/envs/scSLAT/lib/python3.8/site-packages/scanpy/preprocessing/_simple.py:843: UserWarning: Received a view of an AnnData. Making a copy.\n",
      "  view_to_actual(adata)\n"
     ]
    },
    {
     "name": "stdout",
     "output_type": "stream",
     "text": [
      "Warning! Dual PCA is using GPU, which may lead to OUT OF GPU MEMORY in big dataset!\n",
      "Choose GPU:0 as device\n",
      "Running\n",
      "---------- epochs: 1 ----------\n",
      "---------- epochs: 2 ----------\n",
      "---------- epochs: 3 ----------\n",
      "---------- epochs: 4 ----------\n",
      "---------- epochs: 5 ----------\n",
      "---------- epochs: 6 ----------\n",
      "Training model time: 1.70\n"
     ]
    },
    {
     "name": "stderr",
     "output_type": "stream",
     "text": [
      " 40%|██████▍         | 51/128 [21:00<41:10, 32.08s/it]"
     ]
    },
    {
     "name": "stdout",
     "output_type": "stream",
     "text": [
      "Calculating spatial neighbor graph ...\n",
      "The graph contains 227256 edges, 20000 cells.\n",
      "11.3628 neighbors per cell on average.\n",
      "Calculating spatial neighbor graph ...\n",
      "The graph contains 227478 edges, 20000 cells.\n",
      "11.3739 neighbors per cell on average.\n",
      "Use DPCA feature to format graph\n"
     ]
    },
    {
     "name": "stderr",
     "output_type": "stream",
     "text": [
      "/home/ylu/anaconda3/envs/scSLAT/lib/python3.8/site-packages/scanpy/preprocessing/_highly_variable_genes.py:64: UserWarning: `flavor='seurat_v3'` expects raw count data, but non-integers were found.\n",
      "  warnings.warn(\n",
      "/home/ylu/anaconda3/envs/scSLAT/lib/python3.8/site-packages/scanpy/preprocessing/_normalization.py:169: UserWarning: Received a view of an AnnData. Making a copy.\n",
      "  view_to_actual(adata)\n",
      "/home/ylu/anaconda3/envs/scSLAT/lib/python3.8/site-packages/scanpy/preprocessing/_simple.py:843: UserWarning: Received a view of an AnnData. Making a copy.\n",
      "  view_to_actual(adata)\n",
      "/home/ylu/anaconda3/envs/scSLAT/lib/python3.8/site-packages/scanpy/preprocessing/_simple.py:843: UserWarning: Received a view of an AnnData. Making a copy.\n",
      "  view_to_actual(adata)\n"
     ]
    },
    {
     "name": "stdout",
     "output_type": "stream",
     "text": [
      "Warning! Dual PCA is using GPU, which may lead to OUT OF GPU MEMORY in big dataset!\n",
      "Choose GPU:0 as device\n",
      "Running\n",
      "---------- epochs: 1 ----------\n",
      "---------- epochs: 2 ----------\n",
      "---------- epochs: 3 ----------\n",
      "---------- epochs: 4 ----------\n",
      "---------- epochs: 5 ----------\n",
      "---------- epochs: 6 ----------\n",
      "Training model time: 1.69\n"
     ]
    },
    {
     "name": "stderr",
     "output_type": "stream",
     "text": [
      " 41%|██████▌         | 52/128 [21:31<40:14, 31.77s/it]"
     ]
    },
    {
     "name": "stdout",
     "output_type": "stream",
     "text": [
      "Calculating spatial neighbor graph ...\n",
      "The graph contains 227648 edges, 20000 cells.\n",
      "11.3824 neighbors per cell on average.\n",
      "Calculating spatial neighbor graph ...\n",
      "The graph contains 227466 edges, 20000 cells.\n",
      "11.3733 neighbors per cell on average.\n",
      "Use DPCA feature to format graph\n"
     ]
    },
    {
     "name": "stderr",
     "output_type": "stream",
     "text": [
      "/home/ylu/anaconda3/envs/scSLAT/lib/python3.8/site-packages/scanpy/preprocessing/_highly_variable_genes.py:64: UserWarning: `flavor='seurat_v3'` expects raw count data, but non-integers were found.\n",
      "  warnings.warn(\n",
      "/home/ylu/anaconda3/envs/scSLAT/lib/python3.8/site-packages/scanpy/preprocessing/_normalization.py:169: UserWarning: Received a view of an AnnData. Making a copy.\n",
      "  view_to_actual(adata)\n",
      "/home/ylu/anaconda3/envs/scSLAT/lib/python3.8/site-packages/scanpy/preprocessing/_simple.py:843: UserWarning: Received a view of an AnnData. Making a copy.\n",
      "  view_to_actual(adata)\n",
      "/home/ylu/anaconda3/envs/scSLAT/lib/python3.8/site-packages/scanpy/preprocessing/_simple.py:843: UserWarning: Received a view of an AnnData. Making a copy.\n",
      "  view_to_actual(adata)\n"
     ]
    },
    {
     "name": "stdout",
     "output_type": "stream",
     "text": [
      "Warning! Dual PCA is using GPU, which may lead to OUT OF GPU MEMORY in big dataset!\n",
      "Choose GPU:0 as device\n",
      "Running\n",
      "---------- epochs: 1 ----------\n",
      "---------- epochs: 2 ----------\n",
      "---------- epochs: 3 ----------\n",
      "---------- epochs: 4 ----------\n",
      "---------- epochs: 5 ----------\n",
      "---------- epochs: 6 ----------\n",
      "Training model time: 1.69\n"
     ]
    },
    {
     "name": "stderr",
     "output_type": "stream",
     "text": [
      " 41%|██████▋         | 53/128 [22:05<40:31, 32.43s/it]"
     ]
    },
    {
     "name": "stdout",
     "output_type": "stream",
     "text": [
      "Calculating spatial neighbor graph ...\n",
      "The graph contains 227616 edges, 20000 cells.\n",
      "11.3808 neighbors per cell on average.\n",
      "Calculating spatial neighbor graph ...\n",
      "The graph contains 227806 edges, 20000 cells.\n",
      "11.3903 neighbors per cell on average.\n",
      "Use DPCA feature to format graph\n"
     ]
    },
    {
     "name": "stderr",
     "output_type": "stream",
     "text": [
      "/home/ylu/anaconda3/envs/scSLAT/lib/python3.8/site-packages/scanpy/preprocessing/_highly_variable_genes.py:64: UserWarning: `flavor='seurat_v3'` expects raw count data, but non-integers were found.\n",
      "  warnings.warn(\n",
      "/home/ylu/anaconda3/envs/scSLAT/lib/python3.8/site-packages/scanpy/preprocessing/_normalization.py:169: UserWarning: Received a view of an AnnData. Making a copy.\n",
      "  view_to_actual(adata)\n",
      "/home/ylu/anaconda3/envs/scSLAT/lib/python3.8/site-packages/scanpy/preprocessing/_simple.py:843: UserWarning: Received a view of an AnnData. Making a copy.\n",
      "  view_to_actual(adata)\n",
      "/home/ylu/anaconda3/envs/scSLAT/lib/python3.8/site-packages/scanpy/preprocessing/_simple.py:843: UserWarning: Received a view of an AnnData. Making a copy.\n",
      "  view_to_actual(adata)\n"
     ]
    },
    {
     "name": "stdout",
     "output_type": "stream",
     "text": [
      "Warning! Dual PCA is using GPU, which may lead to OUT OF GPU MEMORY in big dataset!\n",
      "Choose GPU:0 as device\n",
      "Running\n",
      "---------- epochs: 1 ----------\n",
      "---------- epochs: 2 ----------\n",
      "---------- epochs: 3 ----------\n",
      "---------- epochs: 4 ----------\n",
      "---------- epochs: 5 ----------\n",
      "---------- epochs: 6 ----------\n",
      "Training model time: 1.70\n"
     ]
    },
    {
     "name": "stderr",
     "output_type": "stream",
     "text": [
      " 42%|██████▊         | 54/128 [22:37<40:08, 32.55s/it]"
     ]
    },
    {
     "name": "stdout",
     "output_type": "stream",
     "text": [
      "Calculating spatial neighbor graph ...\n",
      "The graph contains 228134 edges, 20000 cells.\n",
      "11.4067 neighbors per cell on average.\n",
      "Calculating spatial neighbor graph ...\n",
      "The graph contains 227358 edges, 20000 cells.\n",
      "11.3679 neighbors per cell on average.\n",
      "Use DPCA feature to format graph\n"
     ]
    },
    {
     "name": "stderr",
     "output_type": "stream",
     "text": [
      "/home/ylu/anaconda3/envs/scSLAT/lib/python3.8/site-packages/scanpy/preprocessing/_highly_variable_genes.py:64: UserWarning: `flavor='seurat_v3'` expects raw count data, but non-integers were found.\n",
      "  warnings.warn(\n",
      "/home/ylu/anaconda3/envs/scSLAT/lib/python3.8/site-packages/scanpy/preprocessing/_normalization.py:169: UserWarning: Received a view of an AnnData. Making a copy.\n",
      "  view_to_actual(adata)\n",
      "/home/ylu/anaconda3/envs/scSLAT/lib/python3.8/site-packages/scanpy/preprocessing/_simple.py:843: UserWarning: Received a view of an AnnData. Making a copy.\n",
      "  view_to_actual(adata)\n",
      "/home/ylu/anaconda3/envs/scSLAT/lib/python3.8/site-packages/scanpy/preprocessing/_simple.py:843: UserWarning: Received a view of an AnnData. Making a copy.\n",
      "  view_to_actual(adata)\n"
     ]
    },
    {
     "name": "stdout",
     "output_type": "stream",
     "text": [
      "Warning! Dual PCA is using GPU, which may lead to OUT OF GPU MEMORY in big dataset!\n",
      "Choose GPU:0 as device\n",
      "Running\n",
      "---------- epochs: 1 ----------\n",
      "---------- epochs: 2 ----------\n",
      "---------- epochs: 3 ----------\n",
      "---------- epochs: 4 ----------\n",
      "---------- epochs: 5 ----------\n",
      "---------- epochs: 6 ----------\n",
      "Training model time: 1.69\n"
     ]
    },
    {
     "name": "stderr",
     "output_type": "stream",
     "text": [
      " 43%|██████▉         | 55/128 [23:08<38:48, 31.89s/it]"
     ]
    },
    {
     "name": "stdout",
     "output_type": "stream",
     "text": [
      "Calculating spatial neighbor graph ...\n",
      "The graph contains 226842 edges, 20000 cells.\n",
      "11.3421 neighbors per cell on average.\n",
      "Calculating spatial neighbor graph ...\n",
      "The graph contains 227470 edges, 20000 cells.\n",
      "11.3735 neighbors per cell on average.\n",
      "Use DPCA feature to format graph\n"
     ]
    },
    {
     "name": "stderr",
     "output_type": "stream",
     "text": [
      "/home/ylu/anaconda3/envs/scSLAT/lib/python3.8/site-packages/scanpy/preprocessing/_highly_variable_genes.py:64: UserWarning: `flavor='seurat_v3'` expects raw count data, but non-integers were found.\n",
      "  warnings.warn(\n",
      "/home/ylu/anaconda3/envs/scSLAT/lib/python3.8/site-packages/scanpy/preprocessing/_normalization.py:169: UserWarning: Received a view of an AnnData. Making a copy.\n",
      "  view_to_actual(adata)\n",
      "/home/ylu/anaconda3/envs/scSLAT/lib/python3.8/site-packages/scanpy/preprocessing/_simple.py:843: UserWarning: Received a view of an AnnData. Making a copy.\n",
      "  view_to_actual(adata)\n",
      "/home/ylu/anaconda3/envs/scSLAT/lib/python3.8/site-packages/scanpy/preprocessing/_simple.py:843: UserWarning: Received a view of an AnnData. Making a copy.\n",
      "  view_to_actual(adata)\n"
     ]
    },
    {
     "name": "stdout",
     "output_type": "stream",
     "text": [
      "Warning! Dual PCA is using GPU, which may lead to OUT OF GPU MEMORY in big dataset!\n",
      "Choose GPU:0 as device\n",
      "Running\n",
      "---------- epochs: 1 ----------\n",
      "---------- epochs: 2 ----------\n",
      "---------- epochs: 3 ----------\n",
      "---------- epochs: 4 ----------\n",
      "---------- epochs: 5 ----------\n",
      "---------- epochs: 6 ----------\n",
      "Training model time: 1.66\n"
     ]
    },
    {
     "name": "stderr",
     "output_type": "stream",
     "text": [
      " 44%|███████         | 56/128 [23:40<38:27, 32.05s/it]"
     ]
    },
    {
     "name": "stdout",
     "output_type": "stream",
     "text": [
      "Calculating spatial neighbor graph ...\n",
      "The graph contains 227438 edges, 20000 cells.\n",
      "11.3719 neighbors per cell on average.\n",
      "Calculating spatial neighbor graph ...\n",
      "The graph contains 227792 edges, 20000 cells.\n",
      "11.3896 neighbors per cell on average.\n",
      "Use DPCA feature to format graph\n"
     ]
    },
    {
     "name": "stderr",
     "output_type": "stream",
     "text": [
      "/home/ylu/anaconda3/envs/scSLAT/lib/python3.8/site-packages/scanpy/preprocessing/_highly_variable_genes.py:64: UserWarning: `flavor='seurat_v3'` expects raw count data, but non-integers were found.\n",
      "  warnings.warn(\n",
      "/home/ylu/anaconda3/envs/scSLAT/lib/python3.8/site-packages/scanpy/preprocessing/_normalization.py:169: UserWarning: Received a view of an AnnData. Making a copy.\n",
      "  view_to_actual(adata)\n",
      "/home/ylu/anaconda3/envs/scSLAT/lib/python3.8/site-packages/scanpy/preprocessing/_simple.py:843: UserWarning: Received a view of an AnnData. Making a copy.\n",
      "  view_to_actual(adata)\n",
      "/home/ylu/anaconda3/envs/scSLAT/lib/python3.8/site-packages/scanpy/preprocessing/_simple.py:843: UserWarning: Received a view of an AnnData. Making a copy.\n",
      "  view_to_actual(adata)\n"
     ]
    },
    {
     "name": "stdout",
     "output_type": "stream",
     "text": [
      "Warning! Dual PCA is using GPU, which may lead to OUT OF GPU MEMORY in big dataset!\n",
      "Choose GPU:0 as device\n",
      "Running\n",
      "---------- epochs: 1 ----------\n",
      "---------- epochs: 2 ----------\n",
      "---------- epochs: 3 ----------\n",
      "---------- epochs: 4 ----------\n",
      "---------- epochs: 5 ----------\n",
      "---------- epochs: 6 ----------\n",
      "Training model time: 1.65\n"
     ]
    },
    {
     "name": "stderr",
     "output_type": "stream",
     "text": [
      " 45%|███████▏        | 57/128 [24:12<37:55, 32.05s/it]"
     ]
    },
    {
     "name": "stdout",
     "output_type": "stream",
     "text": [
      "Calculating spatial neighbor graph ...\n",
      "The graph contains 227902 edges, 20000 cells.\n",
      "11.3951 neighbors per cell on average.\n",
      "Calculating spatial neighbor graph ...\n",
      "The graph contains 227642 edges, 20000 cells.\n",
      "11.3821 neighbors per cell on average.\n",
      "Use DPCA feature to format graph\n"
     ]
    },
    {
     "name": "stderr",
     "output_type": "stream",
     "text": [
      "/home/ylu/anaconda3/envs/scSLAT/lib/python3.8/site-packages/scanpy/preprocessing/_highly_variable_genes.py:64: UserWarning: `flavor='seurat_v3'` expects raw count data, but non-integers were found.\n",
      "  warnings.warn(\n",
      "/home/ylu/anaconda3/envs/scSLAT/lib/python3.8/site-packages/scanpy/preprocessing/_normalization.py:169: UserWarning: Received a view of an AnnData. Making a copy.\n",
      "  view_to_actual(adata)\n",
      "/home/ylu/anaconda3/envs/scSLAT/lib/python3.8/site-packages/scanpy/preprocessing/_simple.py:843: UserWarning: Received a view of an AnnData. Making a copy.\n",
      "  view_to_actual(adata)\n",
      "/home/ylu/anaconda3/envs/scSLAT/lib/python3.8/site-packages/scanpy/preprocessing/_simple.py:843: UserWarning: Received a view of an AnnData. Making a copy.\n",
      "  view_to_actual(adata)\n"
     ]
    },
    {
     "name": "stdout",
     "output_type": "stream",
     "text": [
      "Warning! Dual PCA is using GPU, which may lead to OUT OF GPU MEMORY in big dataset!\n",
      "Choose GPU:0 as device\n",
      "Running\n",
      "---------- epochs: 1 ----------\n",
      "---------- epochs: 2 ----------\n",
      "---------- epochs: 3 ----------\n",
      "---------- epochs: 4 ----------\n",
      "---------- epochs: 5 ----------\n",
      "---------- epochs: 6 ----------\n",
      "Training model time: 1.58\n"
     ]
    },
    {
     "name": "stderr",
     "output_type": "stream",
     "text": [
      " 45%|███████▎        | 58/128 [24:41<36:14, 31.06s/it]"
     ]
    },
    {
     "name": "stdout",
     "output_type": "stream",
     "text": [
      "Calculating spatial neighbor graph ...\n",
      "The graph contains 227422 edges, 20000 cells.\n",
      "11.3711 neighbors per cell on average.\n",
      "Calculating spatial neighbor graph ...\n",
      "The graph contains 226796 edges, 20000 cells.\n",
      "11.3398 neighbors per cell on average.\n",
      "Use DPCA feature to format graph\n"
     ]
    },
    {
     "name": "stderr",
     "output_type": "stream",
     "text": [
      "/home/ylu/anaconda3/envs/scSLAT/lib/python3.8/site-packages/scanpy/preprocessing/_highly_variable_genes.py:64: UserWarning: `flavor='seurat_v3'` expects raw count data, but non-integers were found.\n",
      "  warnings.warn(\n",
      "/home/ylu/anaconda3/envs/scSLAT/lib/python3.8/site-packages/scanpy/preprocessing/_normalization.py:169: UserWarning: Received a view of an AnnData. Making a copy.\n",
      "  view_to_actual(adata)\n",
      "/home/ylu/anaconda3/envs/scSLAT/lib/python3.8/site-packages/scanpy/preprocessing/_simple.py:843: UserWarning: Received a view of an AnnData. Making a copy.\n",
      "  view_to_actual(adata)\n",
      "/home/ylu/anaconda3/envs/scSLAT/lib/python3.8/site-packages/scanpy/preprocessing/_simple.py:843: UserWarning: Received a view of an AnnData. Making a copy.\n",
      "  view_to_actual(adata)\n"
     ]
    },
    {
     "name": "stdout",
     "output_type": "stream",
     "text": [
      "Warning! Dual PCA is using GPU, which may lead to OUT OF GPU MEMORY in big dataset!\n",
      "Choose GPU:0 as device\n",
      "Running\n",
      "---------- epochs: 1 ----------\n",
      "---------- epochs: 2 ----------\n",
      "---------- epochs: 3 ----------\n",
      "---------- epochs: 4 ----------\n",
      "---------- epochs: 5 ----------\n",
      "---------- epochs: 6 ----------\n",
      "Training model time: 3.21\n"
     ]
    },
    {
     "name": "stderr",
     "output_type": "stream",
     "text": [
      " 46%|███████▍        | 59/128 [25:13<36:11, 31.47s/it]"
     ]
    },
    {
     "name": "stdout",
     "output_type": "stream",
     "text": [
      "Calculating spatial neighbor graph ...\n",
      "The graph contains 226772 edges, 20000 cells.\n",
      "11.3386 neighbors per cell on average.\n",
      "Calculating spatial neighbor graph ...\n",
      "The graph contains 227104 edges, 20000 cells.\n",
      "11.3552 neighbors per cell on average.\n",
      "Use DPCA feature to format graph\n"
     ]
    },
    {
     "name": "stderr",
     "output_type": "stream",
     "text": [
      "/home/ylu/anaconda3/envs/scSLAT/lib/python3.8/site-packages/scanpy/preprocessing/_highly_variable_genes.py:64: UserWarning: `flavor='seurat_v3'` expects raw count data, but non-integers were found.\n",
      "  warnings.warn(\n",
      "/home/ylu/anaconda3/envs/scSLAT/lib/python3.8/site-packages/scanpy/preprocessing/_normalization.py:169: UserWarning: Received a view of an AnnData. Making a copy.\n",
      "  view_to_actual(adata)\n",
      "/home/ylu/anaconda3/envs/scSLAT/lib/python3.8/site-packages/scanpy/preprocessing/_simple.py:843: UserWarning: Received a view of an AnnData. Making a copy.\n",
      "  view_to_actual(adata)\n",
      "/home/ylu/anaconda3/envs/scSLAT/lib/python3.8/site-packages/scanpy/preprocessing/_simple.py:843: UserWarning: Received a view of an AnnData. Making a copy.\n",
      "  view_to_actual(adata)\n"
     ]
    },
    {
     "name": "stdout",
     "output_type": "stream",
     "text": [
      "Warning! Dual PCA is using GPU, which may lead to OUT OF GPU MEMORY in big dataset!\n",
      "Choose GPU:0 as device\n",
      "Running\n",
      "---------- epochs: 1 ----------\n",
      "---------- epochs: 2 ----------\n",
      "---------- epochs: 3 ----------\n",
      "---------- epochs: 4 ----------\n",
      "---------- epochs: 5 ----------\n",
      "---------- epochs: 6 ----------\n",
      "Training model time: 1.90\n"
     ]
    },
    {
     "name": "stderr",
     "output_type": "stream",
     "text": [
      " 47%|███████▌        | 60/128 [25:49<37:10, 32.80s/it]"
     ]
    },
    {
     "name": "stdout",
     "output_type": "stream",
     "text": [
      "Calculating spatial neighbor graph ...\n",
      "The graph contains 227138 edges, 20000 cells.\n",
      "11.3569 neighbors per cell on average.\n",
      "Calculating spatial neighbor graph ...\n",
      "The graph contains 227460 edges, 20000 cells.\n",
      "11.373 neighbors per cell on average.\n",
      "Use DPCA feature to format graph\n"
     ]
    },
    {
     "name": "stderr",
     "output_type": "stream",
     "text": [
      "/home/ylu/anaconda3/envs/scSLAT/lib/python3.8/site-packages/scanpy/preprocessing/_highly_variable_genes.py:64: UserWarning: `flavor='seurat_v3'` expects raw count data, but non-integers were found.\n",
      "  warnings.warn(\n",
      "/home/ylu/anaconda3/envs/scSLAT/lib/python3.8/site-packages/scanpy/preprocessing/_normalization.py:169: UserWarning: Received a view of an AnnData. Making a copy.\n",
      "  view_to_actual(adata)\n",
      "/home/ylu/anaconda3/envs/scSLAT/lib/python3.8/site-packages/scanpy/preprocessing/_simple.py:843: UserWarning: Received a view of an AnnData. Making a copy.\n",
      "  view_to_actual(adata)\n",
      "/home/ylu/anaconda3/envs/scSLAT/lib/python3.8/site-packages/scanpy/preprocessing/_simple.py:843: UserWarning: Received a view of an AnnData. Making a copy.\n",
      "  view_to_actual(adata)\n"
     ]
    },
    {
     "name": "stdout",
     "output_type": "stream",
     "text": [
      "Warning! Dual PCA is using GPU, which may lead to OUT OF GPU MEMORY in big dataset!\n",
      "Choose GPU:0 as device\n",
      "Running\n",
      "---------- epochs: 1 ----------\n",
      "---------- epochs: 2 ----------\n",
      "---------- epochs: 3 ----------\n",
      "---------- epochs: 4 ----------\n",
      "---------- epochs: 5 ----------\n",
      "---------- epochs: 6 ----------\n",
      "Training model time: 1.71\n"
     ]
    },
    {
     "name": "stderr",
     "output_type": "stream",
     "text": [
      " 48%|███████▋        | 61/128 [26:18<35:13, 31.54s/it]"
     ]
    },
    {
     "name": "stdout",
     "output_type": "stream",
     "text": [
      "Calculating spatial neighbor graph ...\n",
      "The graph contains 227294 edges, 20000 cells.\n",
      "11.3647 neighbors per cell on average.\n",
      "Calculating spatial neighbor graph ...\n",
      "The graph contains 227050 edges, 20000 cells.\n",
      "11.3525 neighbors per cell on average.\n",
      "Use DPCA feature to format graph\n"
     ]
    },
    {
     "name": "stderr",
     "output_type": "stream",
     "text": [
      "/home/ylu/anaconda3/envs/scSLAT/lib/python3.8/site-packages/scanpy/preprocessing/_highly_variable_genes.py:64: UserWarning: `flavor='seurat_v3'` expects raw count data, but non-integers were found.\n",
      "  warnings.warn(\n",
      "/home/ylu/anaconda3/envs/scSLAT/lib/python3.8/site-packages/scanpy/preprocessing/_normalization.py:169: UserWarning: Received a view of an AnnData. Making a copy.\n",
      "  view_to_actual(adata)\n",
      "/home/ylu/anaconda3/envs/scSLAT/lib/python3.8/site-packages/scanpy/preprocessing/_simple.py:843: UserWarning: Received a view of an AnnData. Making a copy.\n",
      "  view_to_actual(adata)\n",
      "/home/ylu/anaconda3/envs/scSLAT/lib/python3.8/site-packages/scanpy/preprocessing/_simple.py:843: UserWarning: Received a view of an AnnData. Making a copy.\n",
      "  view_to_actual(adata)\n"
     ]
    },
    {
     "name": "stdout",
     "output_type": "stream",
     "text": [
      "Warning! Dual PCA is using GPU, which may lead to OUT OF GPU MEMORY in big dataset!\n",
      "Choose GPU:0 as device\n",
      "Running\n",
      "---------- epochs: 1 ----------\n",
      "---------- epochs: 2 ----------\n",
      "---------- epochs: 3 ----------\n",
      "---------- epochs: 4 ----------\n",
      "---------- epochs: 5 ----------\n",
      "---------- epochs: 6 ----------\n",
      "Training model time: 2.97\n"
     ]
    },
    {
     "name": "stderr",
     "output_type": "stream",
     "text": [
      " 48%|███████▊        | 62/128 [26:52<35:27, 32.24s/it]"
     ]
    },
    {
     "name": "stdout",
     "output_type": "stream",
     "text": [
      "Calculating spatial neighbor graph ...\n",
      "The graph contains 226720 edges, 20000 cells.\n",
      "11.336 neighbors per cell on average.\n",
      "Calculating spatial neighbor graph ...\n",
      "The graph contains 227874 edges, 20000 cells.\n",
      "11.3937 neighbors per cell on average.\n",
      "Use DPCA feature to format graph\n"
     ]
    },
    {
     "name": "stderr",
     "output_type": "stream",
     "text": [
      "/home/ylu/anaconda3/envs/scSLAT/lib/python3.8/site-packages/scanpy/preprocessing/_highly_variable_genes.py:64: UserWarning: `flavor='seurat_v3'` expects raw count data, but non-integers were found.\n",
      "  warnings.warn(\n",
      "/home/ylu/anaconda3/envs/scSLAT/lib/python3.8/site-packages/scanpy/preprocessing/_normalization.py:169: UserWarning: Received a view of an AnnData. Making a copy.\n",
      "  view_to_actual(adata)\n",
      "/home/ylu/anaconda3/envs/scSLAT/lib/python3.8/site-packages/scanpy/preprocessing/_simple.py:843: UserWarning: Received a view of an AnnData. Making a copy.\n",
      "  view_to_actual(adata)\n",
      "/home/ylu/anaconda3/envs/scSLAT/lib/python3.8/site-packages/scanpy/preprocessing/_simple.py:843: UserWarning: Received a view of an AnnData. Making a copy.\n",
      "  view_to_actual(adata)\n"
     ]
    },
    {
     "name": "stdout",
     "output_type": "stream",
     "text": [
      "Warning! Dual PCA is using GPU, which may lead to OUT OF GPU MEMORY in big dataset!\n",
      "Choose GPU:0 as device\n",
      "Running\n",
      "---------- epochs: 1 ----------\n",
      "---------- epochs: 2 ----------\n",
      "---------- epochs: 3 ----------\n",
      "---------- epochs: 4 ----------\n",
      "---------- epochs: 5 ----------\n",
      "---------- epochs: 6 ----------\n",
      "Training model time: 1.64\n"
     ]
    },
    {
     "name": "stderr",
     "output_type": "stream",
     "text": [
      " 49%|███████▉        | 63/128 [27:17<32:48, 30.29s/it]"
     ]
    },
    {
     "name": "stdout",
     "output_type": "stream",
     "text": [
      "Calculating spatial neighbor graph ...\n",
      "The graph contains 227810 edges, 20000 cells.\n",
      "11.3905 neighbors per cell on average.\n",
      "Calculating spatial neighbor graph ...\n",
      "The graph contains 227648 edges, 20000 cells.\n",
      "11.3824 neighbors per cell on average.\n",
      "Use DPCA feature to format graph\n"
     ]
    },
    {
     "name": "stderr",
     "output_type": "stream",
     "text": [
      "/home/ylu/anaconda3/envs/scSLAT/lib/python3.8/site-packages/scanpy/preprocessing/_highly_variable_genes.py:64: UserWarning: `flavor='seurat_v3'` expects raw count data, but non-integers were found.\n",
      "  warnings.warn(\n",
      "/home/ylu/anaconda3/envs/scSLAT/lib/python3.8/site-packages/scanpy/preprocessing/_normalization.py:169: UserWarning: Received a view of an AnnData. Making a copy.\n",
      "  view_to_actual(adata)\n",
      "/home/ylu/anaconda3/envs/scSLAT/lib/python3.8/site-packages/scanpy/preprocessing/_simple.py:843: UserWarning: Received a view of an AnnData. Making a copy.\n",
      "  view_to_actual(adata)\n",
      "/home/ylu/anaconda3/envs/scSLAT/lib/python3.8/site-packages/scanpy/preprocessing/_simple.py:843: UserWarning: Received a view of an AnnData. Making a copy.\n",
      "  view_to_actual(adata)\n"
     ]
    },
    {
     "name": "stdout",
     "output_type": "stream",
     "text": [
      "Warning! Dual PCA is using GPU, which may lead to OUT OF GPU MEMORY in big dataset!\n",
      "Choose GPU:0 as device\n",
      "Running\n",
      "---------- epochs: 1 ----------\n",
      "---------- epochs: 2 ----------\n",
      "---------- epochs: 3 ----------\n",
      "---------- epochs: 4 ----------\n",
      "---------- epochs: 5 ----------\n",
      "---------- epochs: 6 ----------\n",
      "Training model time: 1.65\n"
     ]
    },
    {
     "name": "stderr",
     "output_type": "stream",
     "text": [
      " 50%|████████        | 64/128 [27:39<29:26, 27.61s/it]"
     ]
    },
    {
     "name": "stdout",
     "output_type": "stream",
     "text": [
      "Calculating spatial neighbor graph ...\n",
      "The graph contains 227380 edges, 20000 cells.\n",
      "11.369 neighbors per cell on average.\n",
      "Calculating spatial neighbor graph ...\n",
      "The graph contains 227880 edges, 20000 cells.\n",
      "11.394 neighbors per cell on average.\n",
      "Use DPCA feature to format graph\n"
     ]
    },
    {
     "name": "stderr",
     "output_type": "stream",
     "text": [
      "/home/ylu/anaconda3/envs/scSLAT/lib/python3.8/site-packages/scanpy/preprocessing/_highly_variable_genes.py:64: UserWarning: `flavor='seurat_v3'` expects raw count data, but non-integers were found.\n",
      "  warnings.warn(\n",
      "/home/ylu/anaconda3/envs/scSLAT/lib/python3.8/site-packages/scanpy/preprocessing/_normalization.py:169: UserWarning: Received a view of an AnnData. Making a copy.\n",
      "  view_to_actual(adata)\n",
      "/home/ylu/anaconda3/envs/scSLAT/lib/python3.8/site-packages/scanpy/preprocessing/_simple.py:843: UserWarning: Received a view of an AnnData. Making a copy.\n",
      "  view_to_actual(adata)\n",
      "/home/ylu/anaconda3/envs/scSLAT/lib/python3.8/site-packages/scanpy/preprocessing/_simple.py:843: UserWarning: Received a view of an AnnData. Making a copy.\n",
      "  view_to_actual(adata)\n"
     ]
    },
    {
     "name": "stdout",
     "output_type": "stream",
     "text": [
      "Warning! Dual PCA is using GPU, which may lead to OUT OF GPU MEMORY in big dataset!\n",
      "Choose GPU:0 as device\n",
      "Running\n",
      "---------- epochs: 1 ----------\n",
      "---------- epochs: 2 ----------\n",
      "---------- epochs: 3 ----------\n",
      "---------- epochs: 4 ----------\n",
      "---------- epochs: 5 ----------\n",
      "---------- epochs: 6 ----------\n",
      "Training model time: 1.66\n"
     ]
    },
    {
     "name": "stderr",
     "output_type": "stream",
     "text": [
      " 51%|████████▏       | 65/128 [28:04<28:05, 26.75s/it]"
     ]
    },
    {
     "name": "stdout",
     "output_type": "stream",
     "text": [
      "Calculating spatial neighbor graph ...\n",
      "The graph contains 228506 edges, 20000 cells.\n",
      "11.4253 neighbors per cell on average.\n",
      "Calculating spatial neighbor graph ...\n",
      "The graph contains 228294 edges, 20000 cells.\n",
      "11.4147 neighbors per cell on average.\n",
      "Use DPCA feature to format graph\n"
     ]
    },
    {
     "name": "stderr",
     "output_type": "stream",
     "text": [
      "/home/ylu/anaconda3/envs/scSLAT/lib/python3.8/site-packages/scanpy/preprocessing/_highly_variable_genes.py:64: UserWarning: `flavor='seurat_v3'` expects raw count data, but non-integers were found.\n",
      "  warnings.warn(\n",
      "/home/ylu/anaconda3/envs/scSLAT/lib/python3.8/site-packages/scanpy/preprocessing/_normalization.py:169: UserWarning: Received a view of an AnnData. Making a copy.\n",
      "  view_to_actual(adata)\n",
      "/home/ylu/anaconda3/envs/scSLAT/lib/python3.8/site-packages/scanpy/preprocessing/_simple.py:843: UserWarning: Received a view of an AnnData. Making a copy.\n",
      "  view_to_actual(adata)\n",
      "/home/ylu/anaconda3/envs/scSLAT/lib/python3.8/site-packages/scanpy/preprocessing/_simple.py:843: UserWarning: Received a view of an AnnData. Making a copy.\n",
      "  view_to_actual(adata)\n"
     ]
    },
    {
     "name": "stdout",
     "output_type": "stream",
     "text": [
      "Warning! Dual PCA is using GPU, which may lead to OUT OF GPU MEMORY in big dataset!\n",
      "Choose GPU:0 as device\n",
      "Running\n",
      "---------- epochs: 1 ----------\n",
      "---------- epochs: 2 ----------\n",
      "---------- epochs: 3 ----------\n",
      "---------- epochs: 4 ----------\n",
      "---------- epochs: 5 ----------\n",
      "---------- epochs: 6 ----------\n",
      "Training model time: 1.69\n"
     ]
    },
    {
     "name": "stderr",
     "output_type": "stream",
     "text": [
      " 52%|████████▎       | 66/128 [28:31<27:47, 26.90s/it]"
     ]
    },
    {
     "name": "stdout",
     "output_type": "stream",
     "text": [
      "Calculating spatial neighbor graph ...\n",
      "The graph contains 227746 edges, 20000 cells.\n",
      "11.3873 neighbors per cell on average.\n",
      "Calculating spatial neighbor graph ...\n",
      "The graph contains 228306 edges, 20000 cells.\n",
      "11.4153 neighbors per cell on average.\n",
      "Use DPCA feature to format graph\n"
     ]
    },
    {
     "name": "stderr",
     "output_type": "stream",
     "text": [
      "/home/ylu/anaconda3/envs/scSLAT/lib/python3.8/site-packages/scanpy/preprocessing/_highly_variable_genes.py:64: UserWarning: `flavor='seurat_v3'` expects raw count data, but non-integers were found.\n",
      "  warnings.warn(\n",
      "/home/ylu/anaconda3/envs/scSLAT/lib/python3.8/site-packages/scanpy/preprocessing/_normalization.py:169: UserWarning: Received a view of an AnnData. Making a copy.\n",
      "  view_to_actual(adata)\n",
      "/home/ylu/anaconda3/envs/scSLAT/lib/python3.8/site-packages/scanpy/preprocessing/_simple.py:843: UserWarning: Received a view of an AnnData. Making a copy.\n",
      "  view_to_actual(adata)\n",
      "/home/ylu/anaconda3/envs/scSLAT/lib/python3.8/site-packages/scanpy/preprocessing/_simple.py:843: UserWarning: Received a view of an AnnData. Making a copy.\n",
      "  view_to_actual(adata)\n"
     ]
    },
    {
     "name": "stdout",
     "output_type": "stream",
     "text": [
      "Warning! Dual PCA is using GPU, which may lead to OUT OF GPU MEMORY in big dataset!\n",
      "Choose GPU:0 as device\n",
      "Running\n",
      "---------- epochs: 1 ----------\n",
      "---------- epochs: 2 ----------\n",
      "---------- epochs: 3 ----------\n",
      "---------- epochs: 4 ----------\n",
      "---------- epochs: 5 ----------\n",
      "---------- epochs: 6 ----------\n",
      "Training model time: 1.69\n"
     ]
    },
    {
     "name": "stderr",
     "output_type": "stream",
     "text": [
      " 52%|████████▍       | 67/128 [28:52<25:37, 25.21s/it]"
     ]
    },
    {
     "name": "stdout",
     "output_type": "stream",
     "text": [
      "Calculating spatial neighbor graph ...\n",
      "The graph contains 228280 edges, 20000 cells.\n",
      "11.414 neighbors per cell on average.\n",
      "Calculating spatial neighbor graph ...\n",
      "The graph contains 228392 edges, 20000 cells.\n",
      "11.4196 neighbors per cell on average.\n",
      "Use DPCA feature to format graph\n"
     ]
    },
    {
     "name": "stderr",
     "output_type": "stream",
     "text": [
      "/home/ylu/anaconda3/envs/scSLAT/lib/python3.8/site-packages/scanpy/preprocessing/_highly_variable_genes.py:64: UserWarning: `flavor='seurat_v3'` expects raw count data, but non-integers were found.\n",
      "  warnings.warn(\n",
      "/home/ylu/anaconda3/envs/scSLAT/lib/python3.8/site-packages/scanpy/preprocessing/_normalization.py:169: UserWarning: Received a view of an AnnData. Making a copy.\n",
      "  view_to_actual(adata)\n",
      "/home/ylu/anaconda3/envs/scSLAT/lib/python3.8/site-packages/scanpy/preprocessing/_simple.py:843: UserWarning: Received a view of an AnnData. Making a copy.\n",
      "  view_to_actual(adata)\n",
      "/home/ylu/anaconda3/envs/scSLAT/lib/python3.8/site-packages/scanpy/preprocessing/_simple.py:843: UserWarning: Received a view of an AnnData. Making a copy.\n",
      "  view_to_actual(adata)\n"
     ]
    },
    {
     "name": "stdout",
     "output_type": "stream",
     "text": [
      "Warning! Dual PCA is using GPU, which may lead to OUT OF GPU MEMORY in big dataset!\n",
      "Choose GPU:0 as device\n",
      "Running\n",
      "---------- epochs: 1 ----------\n",
      "---------- epochs: 2 ----------\n",
      "---------- epochs: 3 ----------\n",
      "---------- epochs: 4 ----------\n",
      "---------- epochs: 5 ----------\n",
      "---------- epochs: 6 ----------\n",
      "Training model time: 1.69\n"
     ]
    },
    {
     "name": "stderr",
     "output_type": "stream",
     "text": [
      " 53%|████████▌       | 68/128 [29:18<25:18, 25.31s/it]"
     ]
    },
    {
     "name": "stdout",
     "output_type": "stream",
     "text": [
      "Calculating spatial neighbor graph ...\n",
      "The graph contains 228532 edges, 20000 cells.\n",
      "11.4266 neighbors per cell on average.\n",
      "Calculating spatial neighbor graph ...\n",
      "The graph contains 228480 edges, 20000 cells.\n",
      "11.424 neighbors per cell on average.\n",
      "Use DPCA feature to format graph\n"
     ]
    },
    {
     "name": "stderr",
     "output_type": "stream",
     "text": [
      "/home/ylu/anaconda3/envs/scSLAT/lib/python3.8/site-packages/scanpy/preprocessing/_highly_variable_genes.py:64: UserWarning: `flavor='seurat_v3'` expects raw count data, but non-integers were found.\n",
      "  warnings.warn(\n",
      "/home/ylu/anaconda3/envs/scSLAT/lib/python3.8/site-packages/scanpy/preprocessing/_normalization.py:169: UserWarning: Received a view of an AnnData. Making a copy.\n",
      "  view_to_actual(adata)\n",
      "/home/ylu/anaconda3/envs/scSLAT/lib/python3.8/site-packages/scanpy/preprocessing/_simple.py:843: UserWarning: Received a view of an AnnData. Making a copy.\n",
      "  view_to_actual(adata)\n",
      "/home/ylu/anaconda3/envs/scSLAT/lib/python3.8/site-packages/scanpy/preprocessing/_simple.py:843: UserWarning: Received a view of an AnnData. Making a copy.\n",
      "  view_to_actual(adata)\n"
     ]
    },
    {
     "name": "stdout",
     "output_type": "stream",
     "text": [
      "Warning! Dual PCA is using GPU, which may lead to OUT OF GPU MEMORY in big dataset!\n",
      "Choose GPU:0 as device\n",
      "Running\n",
      "---------- epochs: 1 ----------\n",
      "---------- epochs: 2 ----------\n",
      "---------- epochs: 3 ----------\n",
      "---------- epochs: 4 ----------\n",
      "---------- epochs: 5 ----------\n",
      "---------- epochs: 6 ----------\n",
      "Training model time: 1.71\n"
     ]
    },
    {
     "name": "stderr",
     "output_type": "stream",
     "text": [
      " 54%|████████▋       | 69/128 [29:44<25:13, 25.66s/it]"
     ]
    },
    {
     "name": "stdout",
     "output_type": "stream",
     "text": [
      "Calculating spatial neighbor graph ...\n",
      "The graph contains 228940 edges, 20000 cells.\n",
      "11.447 neighbors per cell on average.\n",
      "Calculating spatial neighbor graph ...\n",
      "The graph contains 228242 edges, 20000 cells.\n",
      "11.4121 neighbors per cell on average.\n",
      "Use DPCA feature to format graph\n"
     ]
    },
    {
     "name": "stderr",
     "output_type": "stream",
     "text": [
      "/home/ylu/anaconda3/envs/scSLAT/lib/python3.8/site-packages/scanpy/preprocessing/_highly_variable_genes.py:64: UserWarning: `flavor='seurat_v3'` expects raw count data, but non-integers were found.\n",
      "  warnings.warn(\n",
      "/home/ylu/anaconda3/envs/scSLAT/lib/python3.8/site-packages/scanpy/preprocessing/_normalization.py:169: UserWarning: Received a view of an AnnData. Making a copy.\n",
      "  view_to_actual(adata)\n",
      "/home/ylu/anaconda3/envs/scSLAT/lib/python3.8/site-packages/scanpy/preprocessing/_simple.py:843: UserWarning: Received a view of an AnnData. Making a copy.\n",
      "  view_to_actual(adata)\n",
      "/home/ylu/anaconda3/envs/scSLAT/lib/python3.8/site-packages/scanpy/preprocessing/_simple.py:843: UserWarning: Received a view of an AnnData. Making a copy.\n",
      "  view_to_actual(adata)\n"
     ]
    },
    {
     "name": "stdout",
     "output_type": "stream",
     "text": [
      "Warning! Dual PCA is using GPU, which may lead to OUT OF GPU MEMORY in big dataset!\n",
      "Choose GPU:0 as device\n",
      "Running\n",
      "---------- epochs: 1 ----------\n",
      "---------- epochs: 2 ----------\n",
      "---------- epochs: 3 ----------\n",
      "---------- epochs: 4 ----------\n",
      "---------- epochs: 5 ----------\n",
      "---------- epochs: 6 ----------\n",
      "Training model time: 1.67\n"
     ]
    },
    {
     "name": "stderr",
     "output_type": "stream",
     "text": [
      " 55%|████████▊       | 70/128 [30:07<24:01, 24.85s/it]"
     ]
    },
    {
     "name": "stdout",
     "output_type": "stream",
     "text": [
      "Calculating spatial neighbor graph ...\n",
      "The graph contains 228840 edges, 20000 cells.\n",
      "11.442 neighbors per cell on average.\n",
      "Calculating spatial neighbor graph ...\n",
      "The graph contains 228662 edges, 20000 cells.\n",
      "11.4331 neighbors per cell on average.\n",
      "Use DPCA feature to format graph\n"
     ]
    },
    {
     "name": "stderr",
     "output_type": "stream",
     "text": [
      "/home/ylu/anaconda3/envs/scSLAT/lib/python3.8/site-packages/scanpy/preprocessing/_highly_variable_genes.py:64: UserWarning: `flavor='seurat_v3'` expects raw count data, but non-integers were found.\n",
      "  warnings.warn(\n",
      "/home/ylu/anaconda3/envs/scSLAT/lib/python3.8/site-packages/scanpy/preprocessing/_normalization.py:169: UserWarning: Received a view of an AnnData. Making a copy.\n",
      "  view_to_actual(adata)\n",
      "/home/ylu/anaconda3/envs/scSLAT/lib/python3.8/site-packages/scanpy/preprocessing/_simple.py:843: UserWarning: Received a view of an AnnData. Making a copy.\n",
      "  view_to_actual(adata)\n",
      "/home/ylu/anaconda3/envs/scSLAT/lib/python3.8/site-packages/scanpy/preprocessing/_simple.py:843: UserWarning: Received a view of an AnnData. Making a copy.\n",
      "  view_to_actual(adata)\n"
     ]
    },
    {
     "name": "stdout",
     "output_type": "stream",
     "text": [
      "Warning! Dual PCA is using GPU, which may lead to OUT OF GPU MEMORY in big dataset!\n",
      "Choose GPU:0 as device\n",
      "Running\n",
      "---------- epochs: 1 ----------\n",
      "---------- epochs: 2 ----------\n",
      "---------- epochs: 3 ----------\n",
      "---------- epochs: 4 ----------\n",
      "---------- epochs: 5 ----------\n",
      "---------- epochs: 6 ----------\n",
      "Training model time: 1.68\n"
     ]
    },
    {
     "name": "stderr",
     "output_type": "stream",
     "text": [
      " 55%|████████▉       | 71/128 [30:32<23:36, 24.85s/it]"
     ]
    },
    {
     "name": "stdout",
     "output_type": "stream",
     "text": [
      "Calculating spatial neighbor graph ...\n",
      "The graph contains 228210 edges, 20000 cells.\n",
      "11.4105 neighbors per cell on average.\n",
      "Calculating spatial neighbor graph ...\n",
      "The graph contains 229186 edges, 20000 cells.\n",
      "11.4593 neighbors per cell on average.\n",
      "Use DPCA feature to format graph\n"
     ]
    },
    {
     "name": "stderr",
     "output_type": "stream",
     "text": [
      "/home/ylu/anaconda3/envs/scSLAT/lib/python3.8/site-packages/scanpy/preprocessing/_highly_variable_genes.py:64: UserWarning: `flavor='seurat_v3'` expects raw count data, but non-integers were found.\n",
      "  warnings.warn(\n",
      "/home/ylu/anaconda3/envs/scSLAT/lib/python3.8/site-packages/scanpy/preprocessing/_normalization.py:169: UserWarning: Received a view of an AnnData. Making a copy.\n",
      "  view_to_actual(adata)\n",
      "/home/ylu/anaconda3/envs/scSLAT/lib/python3.8/site-packages/scanpy/preprocessing/_simple.py:843: UserWarning: Received a view of an AnnData. Making a copy.\n",
      "  view_to_actual(adata)\n",
      "/home/ylu/anaconda3/envs/scSLAT/lib/python3.8/site-packages/scanpy/preprocessing/_simple.py:843: UserWarning: Received a view of an AnnData. Making a copy.\n",
      "  view_to_actual(adata)\n"
     ]
    },
    {
     "name": "stdout",
     "output_type": "stream",
     "text": [
      "Warning! Dual PCA is using GPU, which may lead to OUT OF GPU MEMORY in big dataset!\n",
      "Choose GPU:0 as device\n",
      "Running\n",
      "---------- epochs: 1 ----------\n",
      "---------- epochs: 2 ----------\n",
      "---------- epochs: 3 ----------\n",
      "---------- epochs: 4 ----------\n",
      "---------- epochs: 5 ----------\n",
      "---------- epochs: 6 ----------\n",
      "Training model time: 1.66\n"
     ]
    },
    {
     "name": "stderr",
     "output_type": "stream",
     "text": [
      " 56%|█████████       | 72/128 [31:00<23:59, 25.71s/it]"
     ]
    },
    {
     "name": "stdout",
     "output_type": "stream",
     "text": [
      "Calculating spatial neighbor graph ...\n",
      "The graph contains 228578 edges, 20000 cells.\n",
      "11.4289 neighbors per cell on average.\n",
      "Calculating spatial neighbor graph ...\n",
      "The graph contains 228642 edges, 20000 cells.\n",
      "11.4321 neighbors per cell on average.\n",
      "Use DPCA feature to format graph\n"
     ]
    },
    {
     "name": "stderr",
     "output_type": "stream",
     "text": [
      "/home/ylu/anaconda3/envs/scSLAT/lib/python3.8/site-packages/scanpy/preprocessing/_highly_variable_genes.py:64: UserWarning: `flavor='seurat_v3'` expects raw count data, but non-integers were found.\n",
      "  warnings.warn(\n",
      "/home/ylu/anaconda3/envs/scSLAT/lib/python3.8/site-packages/scanpy/preprocessing/_normalization.py:169: UserWarning: Received a view of an AnnData. Making a copy.\n",
      "  view_to_actual(adata)\n",
      "/home/ylu/anaconda3/envs/scSLAT/lib/python3.8/site-packages/scanpy/preprocessing/_simple.py:843: UserWarning: Received a view of an AnnData. Making a copy.\n",
      "  view_to_actual(adata)\n",
      "/home/ylu/anaconda3/envs/scSLAT/lib/python3.8/site-packages/scanpy/preprocessing/_simple.py:843: UserWarning: Received a view of an AnnData. Making a copy.\n",
      "  view_to_actual(adata)\n"
     ]
    },
    {
     "name": "stdout",
     "output_type": "stream",
     "text": [
      "Warning! Dual PCA is using GPU, which may lead to OUT OF GPU MEMORY in big dataset!\n",
      "Choose GPU:0 as device\n",
      "Running\n",
      "---------- epochs: 1 ----------\n",
      "---------- epochs: 2 ----------\n",
      "---------- epochs: 3 ----------\n",
      "---------- epochs: 4 ----------\n",
      "---------- epochs: 5 ----------\n",
      "---------- epochs: 6 ----------\n",
      "Training model time: 1.66\n"
     ]
    },
    {
     "name": "stderr",
     "output_type": "stream",
     "text": [
      " 57%|█████████▏      | 73/128 [31:18<21:35, 23.55s/it]"
     ]
    },
    {
     "name": "stdout",
     "output_type": "stream",
     "text": [
      "Calculating spatial neighbor graph ...\n",
      "The graph contains 228288 edges, 20000 cells.\n",
      "11.4144 neighbors per cell on average.\n",
      "Calculating spatial neighbor graph ...\n",
      "The graph contains 229096 edges, 20000 cells.\n",
      "11.4548 neighbors per cell on average.\n",
      "Use DPCA feature to format graph\n"
     ]
    },
    {
     "name": "stderr",
     "output_type": "stream",
     "text": [
      "/home/ylu/anaconda3/envs/scSLAT/lib/python3.8/site-packages/scanpy/preprocessing/_highly_variable_genes.py:64: UserWarning: `flavor='seurat_v3'` expects raw count data, but non-integers were found.\n",
      "  warnings.warn(\n",
      "/home/ylu/anaconda3/envs/scSLAT/lib/python3.8/site-packages/scanpy/preprocessing/_normalization.py:169: UserWarning: Received a view of an AnnData. Making a copy.\n",
      "  view_to_actual(adata)\n",
      "/home/ylu/anaconda3/envs/scSLAT/lib/python3.8/site-packages/scanpy/preprocessing/_simple.py:843: UserWarning: Received a view of an AnnData. Making a copy.\n",
      "  view_to_actual(adata)\n",
      "/home/ylu/anaconda3/envs/scSLAT/lib/python3.8/site-packages/scanpy/preprocessing/_simple.py:843: UserWarning: Received a view of an AnnData. Making a copy.\n",
      "  view_to_actual(adata)\n"
     ]
    },
    {
     "name": "stdout",
     "output_type": "stream",
     "text": [
      "Warning! Dual PCA is using GPU, which may lead to OUT OF GPU MEMORY in big dataset!\n",
      "Choose GPU:0 as device\n",
      "Running\n",
      "---------- epochs: 1 ----------\n",
      "---------- epochs: 2 ----------\n",
      "---------- epochs: 3 ----------\n",
      "---------- epochs: 4 ----------\n",
      "---------- epochs: 5 ----------\n",
      "---------- epochs: 6 ----------\n",
      "Training model time: 1.69\n"
     ]
    },
    {
     "name": "stderr",
     "output_type": "stream",
     "text": [
      " 58%|█████████▎      | 74/128 [31:36<19:46, 21.96s/it]"
     ]
    },
    {
     "name": "stdout",
     "output_type": "stream",
     "text": [
      "Calculating spatial neighbor graph ...\n",
      "The graph contains 229054 edges, 20000 cells.\n",
      "11.4527 neighbors per cell on average.\n",
      "Calculating spatial neighbor graph ...\n",
      "The graph contains 229246 edges, 20000 cells.\n",
      "11.4623 neighbors per cell on average.\n",
      "Use DPCA feature to format graph\n"
     ]
    },
    {
     "name": "stderr",
     "output_type": "stream",
     "text": [
      "/home/ylu/anaconda3/envs/scSLAT/lib/python3.8/site-packages/scanpy/preprocessing/_highly_variable_genes.py:64: UserWarning: `flavor='seurat_v3'` expects raw count data, but non-integers were found.\n",
      "  warnings.warn(\n",
      "/home/ylu/anaconda3/envs/scSLAT/lib/python3.8/site-packages/scanpy/preprocessing/_normalization.py:169: UserWarning: Received a view of an AnnData. Making a copy.\n",
      "  view_to_actual(adata)\n",
      "/home/ylu/anaconda3/envs/scSLAT/lib/python3.8/site-packages/scanpy/preprocessing/_simple.py:843: UserWarning: Received a view of an AnnData. Making a copy.\n",
      "  view_to_actual(adata)\n",
      "/home/ylu/anaconda3/envs/scSLAT/lib/python3.8/site-packages/scanpy/preprocessing/_simple.py:843: UserWarning: Received a view of an AnnData. Making a copy.\n",
      "  view_to_actual(adata)\n"
     ]
    },
    {
     "name": "stdout",
     "output_type": "stream",
     "text": [
      "Warning! Dual PCA is using GPU, which may lead to OUT OF GPU MEMORY in big dataset!\n",
      "Choose GPU:0 as device\n",
      "Running\n",
      "---------- epochs: 1 ----------\n",
      "---------- epochs: 2 ----------\n",
      "---------- epochs: 3 ----------\n",
      "---------- epochs: 4 ----------\n",
      "---------- epochs: 5 ----------\n",
      "---------- epochs: 6 ----------\n",
      "Training model time: 1.66\n"
     ]
    },
    {
     "name": "stderr",
     "output_type": "stream",
     "text": [
      " 59%|█████████▍      | 75/128 [31:56<18:50, 21.34s/it]"
     ]
    },
    {
     "name": "stdout",
     "output_type": "stream",
     "text": [
      "Calculating spatial neighbor graph ...\n",
      "The graph contains 229556 edges, 20000 cells.\n",
      "11.4778 neighbors per cell on average.\n",
      "Calculating spatial neighbor graph ...\n",
      "The graph contains 228724 edges, 20000 cells.\n",
      "11.4362 neighbors per cell on average.\n",
      "Use DPCA feature to format graph\n"
     ]
    },
    {
     "name": "stderr",
     "output_type": "stream",
     "text": [
      "/home/ylu/anaconda3/envs/scSLAT/lib/python3.8/site-packages/scanpy/preprocessing/_highly_variable_genes.py:64: UserWarning: `flavor='seurat_v3'` expects raw count data, but non-integers were found.\n",
      "  warnings.warn(\n",
      "/home/ylu/anaconda3/envs/scSLAT/lib/python3.8/site-packages/scanpy/preprocessing/_normalization.py:169: UserWarning: Received a view of an AnnData. Making a copy.\n",
      "  view_to_actual(adata)\n",
      "/home/ylu/anaconda3/envs/scSLAT/lib/python3.8/site-packages/scanpy/preprocessing/_simple.py:843: UserWarning: Received a view of an AnnData. Making a copy.\n",
      "  view_to_actual(adata)\n",
      "/home/ylu/anaconda3/envs/scSLAT/lib/python3.8/site-packages/scanpy/preprocessing/_simple.py:843: UserWarning: Received a view of an AnnData. Making a copy.\n",
      "  view_to_actual(adata)\n"
     ]
    },
    {
     "name": "stdout",
     "output_type": "stream",
     "text": [
      "Warning! Dual PCA is using GPU, which may lead to OUT OF GPU MEMORY in big dataset!\n",
      "Choose GPU:0 as device\n",
      "Running\n",
      "---------- epochs: 1 ----------\n",
      "---------- epochs: 2 ----------\n",
      "---------- epochs: 3 ----------\n",
      "---------- epochs: 4 ----------\n",
      "---------- epochs: 5 ----------\n",
      "---------- epochs: 6 ----------\n",
      "Training model time: 1.67\n"
     ]
    },
    {
     "name": "stderr",
     "output_type": "stream",
     "text": [
      " 59%|█████████▌      | 76/128 [32:16<17:58, 20.75s/it]"
     ]
    },
    {
     "name": "stdout",
     "output_type": "stream",
     "text": [
      "Calculating spatial neighbor graph ...\n",
      "The graph contains 228740 edges, 20000 cells.\n",
      "11.437 neighbors per cell on average.\n",
      "Calculating spatial neighbor graph ...\n",
      "The graph contains 228882 edges, 20000 cells.\n",
      "11.4441 neighbors per cell on average.\n",
      "Use DPCA feature to format graph\n"
     ]
    },
    {
     "name": "stderr",
     "output_type": "stream",
     "text": [
      "/home/ylu/anaconda3/envs/scSLAT/lib/python3.8/site-packages/scanpy/preprocessing/_highly_variable_genes.py:64: UserWarning: `flavor='seurat_v3'` expects raw count data, but non-integers were found.\n",
      "  warnings.warn(\n",
      "/home/ylu/anaconda3/envs/scSLAT/lib/python3.8/site-packages/scanpy/preprocessing/_normalization.py:169: UserWarning: Received a view of an AnnData. Making a copy.\n",
      "  view_to_actual(adata)\n",
      "/home/ylu/anaconda3/envs/scSLAT/lib/python3.8/site-packages/scanpy/preprocessing/_simple.py:843: UserWarning: Received a view of an AnnData. Making a copy.\n",
      "  view_to_actual(adata)\n",
      "/home/ylu/anaconda3/envs/scSLAT/lib/python3.8/site-packages/scanpy/preprocessing/_simple.py:843: UserWarning: Received a view of an AnnData. Making a copy.\n",
      "  view_to_actual(adata)\n"
     ]
    },
    {
     "name": "stdout",
     "output_type": "stream",
     "text": [
      "Warning! Dual PCA is using GPU, which may lead to OUT OF GPU MEMORY in big dataset!\n",
      "Choose GPU:0 as device\n",
      "Running\n",
      "---------- epochs: 1 ----------\n",
      "---------- epochs: 2 ----------\n",
      "---------- epochs: 3 ----------\n",
      "---------- epochs: 4 ----------\n",
      "---------- epochs: 5 ----------\n",
      "---------- epochs: 6 ----------\n",
      "Training model time: 1.67\n"
     ]
    },
    {
     "name": "stderr",
     "output_type": "stream",
     "text": [
      " 60%|█████████▋      | 77/128 [32:37<17:45, 20.89s/it]"
     ]
    },
    {
     "name": "stdout",
     "output_type": "stream",
     "text": [
      "Calculating spatial neighbor graph ...\n",
      "The graph contains 228776 edges, 20000 cells.\n",
      "11.4388 neighbors per cell on average.\n",
      "Calculating spatial neighbor graph ...\n",
      "The graph contains 228392 edges, 20000 cells.\n",
      "11.4196 neighbors per cell on average.\n",
      "Use DPCA feature to format graph\n"
     ]
    },
    {
     "name": "stderr",
     "output_type": "stream",
     "text": [
      "/home/ylu/anaconda3/envs/scSLAT/lib/python3.8/site-packages/scanpy/preprocessing/_highly_variable_genes.py:64: UserWarning: `flavor='seurat_v3'` expects raw count data, but non-integers were found.\n",
      "  warnings.warn(\n",
      "/home/ylu/anaconda3/envs/scSLAT/lib/python3.8/site-packages/scanpy/preprocessing/_normalization.py:169: UserWarning: Received a view of an AnnData. Making a copy.\n",
      "  view_to_actual(adata)\n",
      "/home/ylu/anaconda3/envs/scSLAT/lib/python3.8/site-packages/scanpy/preprocessing/_simple.py:843: UserWarning: Received a view of an AnnData. Making a copy.\n",
      "  view_to_actual(adata)\n",
      "/home/ylu/anaconda3/envs/scSLAT/lib/python3.8/site-packages/scanpy/preprocessing/_simple.py:843: UserWarning: Received a view of an AnnData. Making a copy.\n",
      "  view_to_actual(adata)\n"
     ]
    },
    {
     "name": "stdout",
     "output_type": "stream",
     "text": [
      "Warning! Dual PCA is using GPU, which may lead to OUT OF GPU MEMORY in big dataset!\n",
      "Choose GPU:0 as device\n",
      "Running\n",
      "---------- epochs: 1 ----------\n",
      "---------- epochs: 2 ----------\n",
      "---------- epochs: 3 ----------\n",
      "---------- epochs: 4 ----------\n",
      "---------- epochs: 5 ----------\n",
      "---------- epochs: 6 ----------\n",
      "Training model time: 1.64\n"
     ]
    },
    {
     "name": "stderr",
     "output_type": "stream",
     "text": [
      " 61%|█████████▊      | 78/128 [32:57<17:13, 20.67s/it]"
     ]
    },
    {
     "name": "stdout",
     "output_type": "stream",
     "text": [
      "Calculating spatial neighbor graph ...\n",
      "The graph contains 228530 edges, 20000 cells.\n",
      "11.4265 neighbors per cell on average.\n",
      "Calculating spatial neighbor graph ...\n",
      "The graph contains 229142 edges, 20000 cells.\n",
      "11.4571 neighbors per cell on average.\n",
      "Use DPCA feature to format graph\n"
     ]
    },
    {
     "name": "stderr",
     "output_type": "stream",
     "text": [
      "/home/ylu/anaconda3/envs/scSLAT/lib/python3.8/site-packages/scanpy/preprocessing/_highly_variable_genes.py:64: UserWarning: `flavor='seurat_v3'` expects raw count data, but non-integers were found.\n",
      "  warnings.warn(\n",
      "/home/ylu/anaconda3/envs/scSLAT/lib/python3.8/site-packages/scanpy/preprocessing/_normalization.py:169: UserWarning: Received a view of an AnnData. Making a copy.\n",
      "  view_to_actual(adata)\n",
      "/home/ylu/anaconda3/envs/scSLAT/lib/python3.8/site-packages/scanpy/preprocessing/_simple.py:843: UserWarning: Received a view of an AnnData. Making a copy.\n",
      "  view_to_actual(adata)\n",
      "/home/ylu/anaconda3/envs/scSLAT/lib/python3.8/site-packages/scanpy/preprocessing/_simple.py:843: UserWarning: Received a view of an AnnData. Making a copy.\n",
      "  view_to_actual(adata)\n"
     ]
    },
    {
     "name": "stdout",
     "output_type": "stream",
     "text": [
      "Warning! Dual PCA is using GPU, which may lead to OUT OF GPU MEMORY in big dataset!\n",
      "Choose GPU:0 as device\n",
      "Running\n",
      "---------- epochs: 1 ----------\n",
      "---------- epochs: 2 ----------\n",
      "---------- epochs: 3 ----------\n",
      "---------- epochs: 4 ----------\n",
      "---------- epochs: 5 ----------\n",
      "---------- epochs: 6 ----------\n",
      "Training model time: 1.65\n"
     ]
    },
    {
     "name": "stderr",
     "output_type": "stream",
     "text": [
      " 62%|█████████▉      | 79/128 [33:16<16:34, 20.30s/it]"
     ]
    },
    {
     "name": "stdout",
     "output_type": "stream",
     "text": [
      "Calculating spatial neighbor graph ...\n",
      "The graph contains 229096 edges, 20000 cells.\n",
      "11.4548 neighbors per cell on average.\n",
      "Calculating spatial neighbor graph ...\n",
      "The graph contains 229382 edges, 20000 cells.\n",
      "11.4691 neighbors per cell on average.\n",
      "Use DPCA feature to format graph\n"
     ]
    },
    {
     "name": "stderr",
     "output_type": "stream",
     "text": [
      "/home/ylu/anaconda3/envs/scSLAT/lib/python3.8/site-packages/scanpy/preprocessing/_highly_variable_genes.py:64: UserWarning: `flavor='seurat_v3'` expects raw count data, but non-integers were found.\n",
      "  warnings.warn(\n",
      "/home/ylu/anaconda3/envs/scSLAT/lib/python3.8/site-packages/scanpy/preprocessing/_normalization.py:169: UserWarning: Received a view of an AnnData. Making a copy.\n",
      "  view_to_actual(adata)\n",
      "/home/ylu/anaconda3/envs/scSLAT/lib/python3.8/site-packages/scanpy/preprocessing/_simple.py:843: UserWarning: Received a view of an AnnData. Making a copy.\n",
      "  view_to_actual(adata)\n",
      "/home/ylu/anaconda3/envs/scSLAT/lib/python3.8/site-packages/scanpy/preprocessing/_simple.py:843: UserWarning: Received a view of an AnnData. Making a copy.\n",
      "  view_to_actual(adata)\n"
     ]
    },
    {
     "name": "stdout",
     "output_type": "stream",
     "text": [
      "Warning! Dual PCA is using GPU, which may lead to OUT OF GPU MEMORY in big dataset!\n",
      "Choose GPU:0 as device\n",
      "Running\n",
      "---------- epochs: 1 ----------\n",
      "---------- epochs: 2 ----------\n",
      "---------- epochs: 3 ----------\n",
      "---------- epochs: 4 ----------\n",
      "---------- epochs: 5 ----------\n",
      "---------- epochs: 6 ----------\n",
      "Training model time: 1.67\n"
     ]
    },
    {
     "name": "stderr",
     "output_type": "stream",
     "text": [
      " 62%|██████████      | 80/128 [33:36<15:59, 19.98s/it]"
     ]
    },
    {
     "name": "stdout",
     "output_type": "stream",
     "text": [
      "Calculating spatial neighbor graph ...\n",
      "The graph contains 228844 edges, 20000 cells.\n",
      "11.4422 neighbors per cell on average.\n",
      "Calculating spatial neighbor graph ...\n",
      "The graph contains 228594 edges, 20000 cells.\n",
      "11.4297 neighbors per cell on average.\n",
      "Use DPCA feature to format graph\n"
     ]
    },
    {
     "name": "stderr",
     "output_type": "stream",
     "text": [
      "/home/ylu/anaconda3/envs/scSLAT/lib/python3.8/site-packages/scanpy/preprocessing/_highly_variable_genes.py:64: UserWarning: `flavor='seurat_v3'` expects raw count data, but non-integers were found.\n",
      "  warnings.warn(\n",
      "/home/ylu/anaconda3/envs/scSLAT/lib/python3.8/site-packages/scanpy/preprocessing/_normalization.py:169: UserWarning: Received a view of an AnnData. Making a copy.\n",
      "  view_to_actual(adata)\n",
      "/home/ylu/anaconda3/envs/scSLAT/lib/python3.8/site-packages/scanpy/preprocessing/_simple.py:843: UserWarning: Received a view of an AnnData. Making a copy.\n",
      "  view_to_actual(adata)\n",
      "/home/ylu/anaconda3/envs/scSLAT/lib/python3.8/site-packages/scanpy/preprocessing/_simple.py:843: UserWarning: Received a view of an AnnData. Making a copy.\n",
      "  view_to_actual(adata)\n"
     ]
    },
    {
     "name": "stdout",
     "output_type": "stream",
     "text": [
      "Warning! Dual PCA is using GPU, which may lead to OUT OF GPU MEMORY in big dataset!\n",
      "Choose GPU:0 as device\n",
      "Running\n",
      "---------- epochs: 1 ----------\n",
      "---------- epochs: 2 ----------\n",
      "---------- epochs: 3 ----------\n",
      "---------- epochs: 4 ----------\n",
      "---------- epochs: 5 ----------\n",
      "---------- epochs: 6 ----------\n",
      "Training model time: 1.65\n"
     ]
    },
    {
     "name": "stderr",
     "output_type": "stream",
     "text": [
      " 63%|██████████▏     | 81/128 [33:54<15:22, 19.62s/it]"
     ]
    },
    {
     "name": "stdout",
     "output_type": "stream",
     "text": [
      "Calculating spatial neighbor graph ...\n",
      "The graph contains 228638 edges, 20000 cells.\n",
      "11.4319 neighbors per cell on average.\n",
      "Calculating spatial neighbor graph ...\n",
      "The graph contains 228648 edges, 20000 cells.\n",
      "11.4324 neighbors per cell on average.\n",
      "Use DPCA feature to format graph\n"
     ]
    },
    {
     "name": "stderr",
     "output_type": "stream",
     "text": [
      "/home/ylu/anaconda3/envs/scSLAT/lib/python3.8/site-packages/scanpy/preprocessing/_highly_variable_genes.py:64: UserWarning: `flavor='seurat_v3'` expects raw count data, but non-integers were found.\n",
      "  warnings.warn(\n",
      "/home/ylu/anaconda3/envs/scSLAT/lib/python3.8/site-packages/scanpy/preprocessing/_normalization.py:169: UserWarning: Received a view of an AnnData. Making a copy.\n",
      "  view_to_actual(adata)\n",
      "/home/ylu/anaconda3/envs/scSLAT/lib/python3.8/site-packages/scanpy/preprocessing/_simple.py:843: UserWarning: Received a view of an AnnData. Making a copy.\n",
      "  view_to_actual(adata)\n",
      "/home/ylu/anaconda3/envs/scSLAT/lib/python3.8/site-packages/scanpy/preprocessing/_simple.py:843: UserWarning: Received a view of an AnnData. Making a copy.\n",
      "  view_to_actual(adata)\n"
     ]
    },
    {
     "name": "stdout",
     "output_type": "stream",
     "text": [
      "Warning! Dual PCA is using GPU, which may lead to OUT OF GPU MEMORY in big dataset!\n",
      "Choose GPU:0 as device\n",
      "Running\n",
      "---------- epochs: 1 ----------\n",
      "---------- epochs: 2 ----------\n",
      "---------- epochs: 3 ----------\n",
      "---------- epochs: 4 ----------\n",
      "---------- epochs: 5 ----------\n",
      "---------- epochs: 6 ----------\n",
      "Training model time: 1.66\n"
     ]
    },
    {
     "name": "stderr",
     "output_type": "stream",
     "text": [
      " 64%|██████████▎     | 82/128 [34:14<15:08, 19.74s/it]"
     ]
    },
    {
     "name": "stdout",
     "output_type": "stream",
     "text": [
      "Calculating spatial neighbor graph ...\n",
      "The graph contains 228914 edges, 20000 cells.\n",
      "11.4457 neighbors per cell on average.\n",
      "Calculating spatial neighbor graph ...\n",
      "The graph contains 228474 edges, 20000 cells.\n",
      "11.4237 neighbors per cell on average.\n",
      "Use DPCA feature to format graph\n"
     ]
    },
    {
     "name": "stderr",
     "output_type": "stream",
     "text": [
      "/home/ylu/anaconda3/envs/scSLAT/lib/python3.8/site-packages/scanpy/preprocessing/_highly_variable_genes.py:64: UserWarning: `flavor='seurat_v3'` expects raw count data, but non-integers were found.\n",
      "  warnings.warn(\n",
      "/home/ylu/anaconda3/envs/scSLAT/lib/python3.8/site-packages/scanpy/preprocessing/_normalization.py:169: UserWarning: Received a view of an AnnData. Making a copy.\n",
      "  view_to_actual(adata)\n",
      "/home/ylu/anaconda3/envs/scSLAT/lib/python3.8/site-packages/scanpy/preprocessing/_simple.py:843: UserWarning: Received a view of an AnnData. Making a copy.\n",
      "  view_to_actual(adata)\n",
      "/home/ylu/anaconda3/envs/scSLAT/lib/python3.8/site-packages/scanpy/preprocessing/_simple.py:843: UserWarning: Received a view of an AnnData. Making a copy.\n",
      "  view_to_actual(adata)\n"
     ]
    },
    {
     "name": "stdout",
     "output_type": "stream",
     "text": [
      "Warning! Dual PCA is using GPU, which may lead to OUT OF GPU MEMORY in big dataset!\n",
      "Choose GPU:0 as device\n",
      "Running\n",
      "---------- epochs: 1 ----------\n",
      "---------- epochs: 2 ----------\n",
      "---------- epochs: 3 ----------\n",
      "---------- epochs: 4 ----------\n",
      "---------- epochs: 5 ----------\n",
      "---------- epochs: 6 ----------\n",
      "Training model time: 1.69\n"
     ]
    },
    {
     "name": "stderr",
     "output_type": "stream",
     "text": [
      " 65%|██████████▍     | 83/128 [34:33<14:35, 19.46s/it]"
     ]
    },
    {
     "name": "stdout",
     "output_type": "stream",
     "text": [
      "Calculating spatial neighbor graph ...\n",
      "The graph contains 229018 edges, 20000 cells.\n",
      "11.4509 neighbors per cell on average.\n",
      "Calculating spatial neighbor graph ...\n",
      "The graph contains 228458 edges, 20000 cells.\n",
      "11.4229 neighbors per cell on average.\n",
      "Use DPCA feature to format graph\n"
     ]
    },
    {
     "name": "stderr",
     "output_type": "stream",
     "text": [
      "/home/ylu/anaconda3/envs/scSLAT/lib/python3.8/site-packages/scanpy/preprocessing/_highly_variable_genes.py:64: UserWarning: `flavor='seurat_v3'` expects raw count data, but non-integers were found.\n",
      "  warnings.warn(\n",
      "/home/ylu/anaconda3/envs/scSLAT/lib/python3.8/site-packages/scanpy/preprocessing/_normalization.py:169: UserWarning: Received a view of an AnnData. Making a copy.\n",
      "  view_to_actual(adata)\n",
      "/home/ylu/anaconda3/envs/scSLAT/lib/python3.8/site-packages/scanpy/preprocessing/_simple.py:843: UserWarning: Received a view of an AnnData. Making a copy.\n",
      "  view_to_actual(adata)\n",
      "/home/ylu/anaconda3/envs/scSLAT/lib/python3.8/site-packages/scanpy/preprocessing/_simple.py:843: UserWarning: Received a view of an AnnData. Making a copy.\n",
      "  view_to_actual(adata)\n"
     ]
    },
    {
     "name": "stdout",
     "output_type": "stream",
     "text": [
      "Warning! Dual PCA is using GPU, which may lead to OUT OF GPU MEMORY in big dataset!\n",
      "Choose GPU:0 as device\n",
      "Running\n",
      "---------- epochs: 1 ----------\n",
      "---------- epochs: 2 ----------\n",
      "---------- epochs: 3 ----------\n",
      "---------- epochs: 4 ----------\n",
      "---------- epochs: 5 ----------\n",
      "---------- epochs: 6 ----------\n",
      "Training model time: 1.67\n"
     ]
    },
    {
     "name": "stderr",
     "output_type": "stream",
     "text": [
      " 66%|██████████▌     | 84/128 [34:53<14:14, 19.41s/it]"
     ]
    },
    {
     "name": "stdout",
     "output_type": "stream",
     "text": [
      "Calculating spatial neighbor graph ...\n",
      "The graph contains 228716 edges, 20000 cells.\n",
      "11.4358 neighbors per cell on average.\n",
      "Calculating spatial neighbor graph ...\n",
      "The graph contains 228898 edges, 20000 cells.\n",
      "11.4449 neighbors per cell on average.\n",
      "Use DPCA feature to format graph\n"
     ]
    },
    {
     "name": "stderr",
     "output_type": "stream",
     "text": [
      "/home/ylu/anaconda3/envs/scSLAT/lib/python3.8/site-packages/scanpy/preprocessing/_highly_variable_genes.py:64: UserWarning: `flavor='seurat_v3'` expects raw count data, but non-integers were found.\n",
      "  warnings.warn(\n",
      "/home/ylu/anaconda3/envs/scSLAT/lib/python3.8/site-packages/scanpy/preprocessing/_normalization.py:169: UserWarning: Received a view of an AnnData. Making a copy.\n",
      "  view_to_actual(adata)\n",
      "/home/ylu/anaconda3/envs/scSLAT/lib/python3.8/site-packages/scanpy/preprocessing/_simple.py:843: UserWarning: Received a view of an AnnData. Making a copy.\n",
      "  view_to_actual(adata)\n",
      "/home/ylu/anaconda3/envs/scSLAT/lib/python3.8/site-packages/scanpy/preprocessing/_simple.py:843: UserWarning: Received a view of an AnnData. Making a copy.\n",
      "  view_to_actual(adata)\n"
     ]
    },
    {
     "name": "stdout",
     "output_type": "stream",
     "text": [
      "Warning! Dual PCA is using GPU, which may lead to OUT OF GPU MEMORY in big dataset!\n",
      "Choose GPU:0 as device\n",
      "Running\n",
      "---------- epochs: 1 ----------\n",
      "---------- epochs: 2 ----------\n",
      "---------- epochs: 3 ----------\n",
      "---------- epochs: 4 ----------\n",
      "---------- epochs: 5 ----------\n",
      "---------- epochs: 6 ----------\n",
      "Training model time: 1.67\n"
     ]
    },
    {
     "name": "stderr",
     "output_type": "stream",
     "text": [
      " 66%|██████████▋     | 85/128 [35:11<13:39, 19.07s/it]"
     ]
    },
    {
     "name": "stdout",
     "output_type": "stream",
     "text": [
      "Calculating spatial neighbor graph ...\n",
      "The graph contains 228540 edges, 20000 cells.\n",
      "11.427 neighbors per cell on average.\n",
      "Calculating spatial neighbor graph ...\n",
      "The graph contains 229112 edges, 20000 cells.\n",
      "11.4556 neighbors per cell on average.\n",
      "Use DPCA feature to format graph\n"
     ]
    },
    {
     "name": "stderr",
     "output_type": "stream",
     "text": [
      "/home/ylu/anaconda3/envs/scSLAT/lib/python3.8/site-packages/scanpy/preprocessing/_highly_variable_genes.py:64: UserWarning: `flavor='seurat_v3'` expects raw count data, but non-integers were found.\n",
      "  warnings.warn(\n",
      "/home/ylu/anaconda3/envs/scSLAT/lib/python3.8/site-packages/scanpy/preprocessing/_normalization.py:169: UserWarning: Received a view of an AnnData. Making a copy.\n",
      "  view_to_actual(adata)\n",
      "/home/ylu/anaconda3/envs/scSLAT/lib/python3.8/site-packages/scanpy/preprocessing/_simple.py:843: UserWarning: Received a view of an AnnData. Making a copy.\n",
      "  view_to_actual(adata)\n",
      "/home/ylu/anaconda3/envs/scSLAT/lib/python3.8/site-packages/scanpy/preprocessing/_simple.py:843: UserWarning: Received a view of an AnnData. Making a copy.\n",
      "  view_to_actual(adata)\n"
     ]
    },
    {
     "name": "stdout",
     "output_type": "stream",
     "text": [
      "Warning! Dual PCA is using GPU, which may lead to OUT OF GPU MEMORY in big dataset!\n",
      "Choose GPU:0 as device\n",
      "Running\n",
      "---------- epochs: 1 ----------\n",
      "---------- epochs: 2 ----------\n",
      "---------- epochs: 3 ----------\n",
      "---------- epochs: 4 ----------\n",
      "---------- epochs: 5 ----------\n",
      "---------- epochs: 6 ----------\n",
      "Training model time: 1.66\n"
     ]
    },
    {
     "name": "stderr",
     "output_type": "stream",
     "text": [
      " 67%|██████████▊     | 86/128 [35:30<13:23, 19.14s/it]"
     ]
    },
    {
     "name": "stdout",
     "output_type": "stream",
     "text": [
      "Calculating spatial neighbor graph ...\n",
      "The graph contains 228814 edges, 20000 cells.\n",
      "11.4407 neighbors per cell on average.\n",
      "Calculating spatial neighbor graph ...\n",
      "The graph contains 228180 edges, 20000 cells.\n",
      "11.409 neighbors per cell on average.\n",
      "Use DPCA feature to format graph\n"
     ]
    },
    {
     "name": "stderr",
     "output_type": "stream",
     "text": [
      "/home/ylu/anaconda3/envs/scSLAT/lib/python3.8/site-packages/scanpy/preprocessing/_highly_variable_genes.py:64: UserWarning: `flavor='seurat_v3'` expects raw count data, but non-integers were found.\n",
      "  warnings.warn(\n",
      "/home/ylu/anaconda3/envs/scSLAT/lib/python3.8/site-packages/scanpy/preprocessing/_normalization.py:169: UserWarning: Received a view of an AnnData. Making a copy.\n",
      "  view_to_actual(adata)\n",
      "/home/ylu/anaconda3/envs/scSLAT/lib/python3.8/site-packages/scanpy/preprocessing/_simple.py:843: UserWarning: Received a view of an AnnData. Making a copy.\n",
      "  view_to_actual(adata)\n",
      "/home/ylu/anaconda3/envs/scSLAT/lib/python3.8/site-packages/scanpy/preprocessing/_simple.py:843: UserWarning: Received a view of an AnnData. Making a copy.\n",
      "  view_to_actual(adata)\n"
     ]
    },
    {
     "name": "stdout",
     "output_type": "stream",
     "text": [
      "Warning! Dual PCA is using GPU, which may lead to OUT OF GPU MEMORY in big dataset!\n",
      "Choose GPU:0 as device\n",
      "Running\n",
      "---------- epochs: 1 ----------\n",
      "---------- epochs: 2 ----------\n",
      "---------- epochs: 3 ----------\n",
      "---------- epochs: 4 ----------\n",
      "---------- epochs: 5 ----------\n",
      "---------- epochs: 6 ----------\n",
      "Training model time: 1.68\n"
     ]
    },
    {
     "name": "stderr",
     "output_type": "stream",
     "text": [
      " 68%|██████████▉     | 87/128 [35:49<13:06, 19.18s/it]"
     ]
    },
    {
     "name": "stdout",
     "output_type": "stream",
     "text": [
      "Calculating spatial neighbor graph ...\n",
      "The graph contains 228426 edges, 20000 cells.\n",
      "11.4213 neighbors per cell on average.\n",
      "Calculating spatial neighbor graph ...\n",
      "The graph contains 228486 edges, 20000 cells.\n",
      "11.4243 neighbors per cell on average.\n",
      "Use DPCA feature to format graph\n"
     ]
    },
    {
     "name": "stderr",
     "output_type": "stream",
     "text": [
      "/home/ylu/anaconda3/envs/scSLAT/lib/python3.8/site-packages/scanpy/preprocessing/_highly_variable_genes.py:64: UserWarning: `flavor='seurat_v3'` expects raw count data, but non-integers were found.\n",
      "  warnings.warn(\n",
      "/home/ylu/anaconda3/envs/scSLAT/lib/python3.8/site-packages/scanpy/preprocessing/_normalization.py:169: UserWarning: Received a view of an AnnData. Making a copy.\n",
      "  view_to_actual(adata)\n",
      "/home/ylu/anaconda3/envs/scSLAT/lib/python3.8/site-packages/scanpy/preprocessing/_simple.py:843: UserWarning: Received a view of an AnnData. Making a copy.\n",
      "  view_to_actual(adata)\n",
      "/home/ylu/anaconda3/envs/scSLAT/lib/python3.8/site-packages/scanpy/preprocessing/_simple.py:843: UserWarning: Received a view of an AnnData. Making a copy.\n",
      "  view_to_actual(adata)\n"
     ]
    },
    {
     "name": "stdout",
     "output_type": "stream",
     "text": [
      "Warning! Dual PCA is using GPU, which may lead to OUT OF GPU MEMORY in big dataset!\n",
      "Choose GPU:0 as device\n",
      "Running\n",
      "---------- epochs: 1 ----------\n",
      "---------- epochs: 2 ----------\n",
      "---------- epochs: 3 ----------\n",
      "---------- epochs: 4 ----------\n",
      "---------- epochs: 5 ----------\n",
      "---------- epochs: 6 ----------\n",
      "Training model time: 1.67\n"
     ]
    },
    {
     "name": "stderr",
     "output_type": "stream",
     "text": [
      " 69%|███████████     | 88/128 [36:09<12:54, 19.37s/it]"
     ]
    },
    {
     "name": "stdout",
     "output_type": "stream",
     "text": [
      "Calculating spatial neighbor graph ...\n",
      "The graph contains 227920 edges, 20000 cells.\n",
      "11.396 neighbors per cell on average.\n",
      "Calculating spatial neighbor graph ...\n",
      "The graph contains 227872 edges, 20000 cells.\n",
      "11.3936 neighbors per cell on average.\n",
      "Use DPCA feature to format graph\n"
     ]
    },
    {
     "name": "stderr",
     "output_type": "stream",
     "text": [
      "/home/ylu/anaconda3/envs/scSLAT/lib/python3.8/site-packages/scanpy/preprocessing/_highly_variable_genes.py:64: UserWarning: `flavor='seurat_v3'` expects raw count data, but non-integers were found.\n",
      "  warnings.warn(\n",
      "/home/ylu/anaconda3/envs/scSLAT/lib/python3.8/site-packages/scanpy/preprocessing/_normalization.py:169: UserWarning: Received a view of an AnnData. Making a copy.\n",
      "  view_to_actual(adata)\n",
      "/home/ylu/anaconda3/envs/scSLAT/lib/python3.8/site-packages/scanpy/preprocessing/_simple.py:843: UserWarning: Received a view of an AnnData. Making a copy.\n",
      "  view_to_actual(adata)\n",
      "/home/ylu/anaconda3/envs/scSLAT/lib/python3.8/site-packages/scanpy/preprocessing/_simple.py:843: UserWarning: Received a view of an AnnData. Making a copy.\n",
      "  view_to_actual(adata)\n"
     ]
    },
    {
     "name": "stdout",
     "output_type": "stream",
     "text": [
      "Warning! Dual PCA is using GPU, which may lead to OUT OF GPU MEMORY in big dataset!\n",
      "Choose GPU:0 as device\n",
      "Running\n",
      "---------- epochs: 1 ----------\n",
      "---------- epochs: 2 ----------\n",
      "---------- epochs: 3 ----------\n",
      "---------- epochs: 4 ----------\n",
      "---------- epochs: 5 ----------\n",
      "---------- epochs: 6 ----------\n",
      "Training model time: 1.64\n"
     ]
    },
    {
     "name": "stderr",
     "output_type": "stream",
     "text": [
      " 70%|███████████▏    | 89/128 [36:29<12:41, 19.52s/it]"
     ]
    },
    {
     "name": "stdout",
     "output_type": "stream",
     "text": [
      "Calculating spatial neighbor graph ...\n",
      "The graph contains 228164 edges, 20000 cells.\n",
      "11.4082 neighbors per cell on average.\n",
      "Calculating spatial neighbor graph ...\n",
      "The graph contains 228472 edges, 20000 cells.\n",
      "11.4236 neighbors per cell on average.\n",
      "Use DPCA feature to format graph\n"
     ]
    },
    {
     "name": "stderr",
     "output_type": "stream",
     "text": [
      "/home/ylu/anaconda3/envs/scSLAT/lib/python3.8/site-packages/scanpy/preprocessing/_highly_variable_genes.py:64: UserWarning: `flavor='seurat_v3'` expects raw count data, but non-integers were found.\n",
      "  warnings.warn(\n",
      "/home/ylu/anaconda3/envs/scSLAT/lib/python3.8/site-packages/scanpy/preprocessing/_normalization.py:169: UserWarning: Received a view of an AnnData. Making a copy.\n",
      "  view_to_actual(adata)\n",
      "/home/ylu/anaconda3/envs/scSLAT/lib/python3.8/site-packages/scanpy/preprocessing/_simple.py:843: UserWarning: Received a view of an AnnData. Making a copy.\n",
      "  view_to_actual(adata)\n",
      "/home/ylu/anaconda3/envs/scSLAT/lib/python3.8/site-packages/scanpy/preprocessing/_simple.py:843: UserWarning: Received a view of an AnnData. Making a copy.\n",
      "  view_to_actual(adata)\n"
     ]
    },
    {
     "name": "stdout",
     "output_type": "stream",
     "text": [
      "Warning! Dual PCA is using GPU, which may lead to OUT OF GPU MEMORY in big dataset!\n",
      "Choose GPU:0 as device\n",
      "Running\n",
      "---------- epochs: 1 ----------\n",
      "---------- epochs: 2 ----------\n",
      "---------- epochs: 3 ----------\n",
      "---------- epochs: 4 ----------\n",
      "---------- epochs: 5 ----------\n",
      "---------- epochs: 6 ----------\n",
      "Training model time: 1.66\n"
     ]
    },
    {
     "name": "stderr",
     "output_type": "stream",
     "text": [
      " 70%|███████████▎    | 90/128 [36:48<12:12, 19.29s/it]"
     ]
    },
    {
     "name": "stdout",
     "output_type": "stream",
     "text": [
      "Calculating spatial neighbor graph ...\n",
      "The graph contains 228578 edges, 20000 cells.\n",
      "11.4289 neighbors per cell on average.\n",
      "Calculating spatial neighbor graph ...\n",
      "The graph contains 227650 edges, 20000 cells.\n",
      "11.3825 neighbors per cell on average.\n",
      "Use DPCA feature to format graph\n"
     ]
    },
    {
     "name": "stderr",
     "output_type": "stream",
     "text": [
      "/home/ylu/anaconda3/envs/scSLAT/lib/python3.8/site-packages/scanpy/preprocessing/_highly_variable_genes.py:64: UserWarning: `flavor='seurat_v3'` expects raw count data, but non-integers were found.\n",
      "  warnings.warn(\n",
      "/home/ylu/anaconda3/envs/scSLAT/lib/python3.8/site-packages/scanpy/preprocessing/_normalization.py:169: UserWarning: Received a view of an AnnData. Making a copy.\n",
      "  view_to_actual(adata)\n",
      "/home/ylu/anaconda3/envs/scSLAT/lib/python3.8/site-packages/scanpy/preprocessing/_simple.py:843: UserWarning: Received a view of an AnnData. Making a copy.\n",
      "  view_to_actual(adata)\n",
      "/home/ylu/anaconda3/envs/scSLAT/lib/python3.8/site-packages/scanpy/preprocessing/_simple.py:843: UserWarning: Received a view of an AnnData. Making a copy.\n",
      "  view_to_actual(adata)\n"
     ]
    },
    {
     "name": "stdout",
     "output_type": "stream",
     "text": [
      "Warning! Dual PCA is using GPU, which may lead to OUT OF GPU MEMORY in big dataset!\n",
      "Choose GPU:0 as device\n",
      "Running\n",
      "---------- epochs: 1 ----------\n",
      "---------- epochs: 2 ----------\n",
      "---------- epochs: 3 ----------\n",
      "---------- epochs: 4 ----------\n",
      "---------- epochs: 5 ----------\n",
      "---------- epochs: 6 ----------\n",
      "Training model time: 1.69\n"
     ]
    },
    {
     "name": "stderr",
     "output_type": "stream",
     "text": [
      " 71%|███████████▍    | 91/128 [37:07<11:50, 19.20s/it]"
     ]
    },
    {
     "name": "stdout",
     "output_type": "stream",
     "text": [
      "Calculating spatial neighbor graph ...\n",
      "The graph contains 227734 edges, 20000 cells.\n",
      "11.3867 neighbors per cell on average.\n",
      "Calculating spatial neighbor graph ...\n",
      "The graph contains 228178 edges, 20000 cells.\n",
      "11.4089 neighbors per cell on average.\n",
      "Use DPCA feature to format graph\n"
     ]
    },
    {
     "name": "stderr",
     "output_type": "stream",
     "text": [
      "/home/ylu/anaconda3/envs/scSLAT/lib/python3.8/site-packages/scanpy/preprocessing/_highly_variable_genes.py:64: UserWarning: `flavor='seurat_v3'` expects raw count data, but non-integers were found.\n",
      "  warnings.warn(\n",
      "/home/ylu/anaconda3/envs/scSLAT/lib/python3.8/site-packages/scanpy/preprocessing/_normalization.py:169: UserWarning: Received a view of an AnnData. Making a copy.\n",
      "  view_to_actual(adata)\n",
      "/home/ylu/anaconda3/envs/scSLAT/lib/python3.8/site-packages/scanpy/preprocessing/_simple.py:843: UserWarning: Received a view of an AnnData. Making a copy.\n",
      "  view_to_actual(adata)\n",
      "/home/ylu/anaconda3/envs/scSLAT/lib/python3.8/site-packages/scanpy/preprocessing/_simple.py:843: UserWarning: Received a view of an AnnData. Making a copy.\n",
      "  view_to_actual(adata)\n"
     ]
    },
    {
     "name": "stdout",
     "output_type": "stream",
     "text": [
      "Warning! Dual PCA is using GPU, which may lead to OUT OF GPU MEMORY in big dataset!\n",
      "Choose GPU:0 as device\n",
      "Running\n",
      "---------- epochs: 1 ----------\n",
      "---------- epochs: 2 ----------\n",
      "---------- epochs: 3 ----------\n",
      "---------- epochs: 4 ----------\n",
      "---------- epochs: 5 ----------\n",
      "---------- epochs: 6 ----------\n",
      "Training model time: 1.67\n"
     ]
    },
    {
     "name": "stderr",
     "output_type": "stream",
     "text": [
      " 72%|███████████▌    | 92/128 [37:25<11:21, 18.93s/it]"
     ]
    },
    {
     "name": "stdout",
     "output_type": "stream",
     "text": [
      "Calculating spatial neighbor graph ...\n",
      "The graph contains 228456 edges, 20000 cells.\n",
      "11.4228 neighbors per cell on average.\n",
      "Calculating spatial neighbor graph ...\n",
      "The graph contains 227006 edges, 20000 cells.\n",
      "11.3503 neighbors per cell on average.\n",
      "Use DPCA feature to format graph\n"
     ]
    },
    {
     "name": "stderr",
     "output_type": "stream",
     "text": [
      "/home/ylu/anaconda3/envs/scSLAT/lib/python3.8/site-packages/scanpy/preprocessing/_highly_variable_genes.py:64: UserWarning: `flavor='seurat_v3'` expects raw count data, but non-integers were found.\n",
      "  warnings.warn(\n",
      "/home/ylu/anaconda3/envs/scSLAT/lib/python3.8/site-packages/scanpy/preprocessing/_normalization.py:169: UserWarning: Received a view of an AnnData. Making a copy.\n",
      "  view_to_actual(adata)\n",
      "/home/ylu/anaconda3/envs/scSLAT/lib/python3.8/site-packages/scanpy/preprocessing/_simple.py:843: UserWarning: Received a view of an AnnData. Making a copy.\n",
      "  view_to_actual(adata)\n",
      "/home/ylu/anaconda3/envs/scSLAT/lib/python3.8/site-packages/scanpy/preprocessing/_simple.py:843: UserWarning: Received a view of an AnnData. Making a copy.\n",
      "  view_to_actual(adata)\n"
     ]
    },
    {
     "name": "stdout",
     "output_type": "stream",
     "text": [
      "Warning! Dual PCA is using GPU, which may lead to OUT OF GPU MEMORY in big dataset!\n",
      "Choose GPU:0 as device\n",
      "Running\n",
      "---------- epochs: 1 ----------\n",
      "---------- epochs: 2 ----------\n",
      "---------- epochs: 3 ----------\n",
      "---------- epochs: 4 ----------\n",
      "---------- epochs: 5 ----------\n",
      "---------- epochs: 6 ----------\n",
      "Training model time: 1.67\n"
     ]
    },
    {
     "name": "stderr",
     "output_type": "stream",
     "text": [
      " 73%|███████████▋    | 93/128 [37:44<11:06, 19.03s/it]"
     ]
    },
    {
     "name": "stdout",
     "output_type": "stream",
     "text": [
      "Calculating spatial neighbor graph ...\n",
      "The graph contains 227254 edges, 20000 cells.\n",
      "11.3627 neighbors per cell on average.\n",
      "Calculating spatial neighbor graph ...\n",
      "The graph contains 226850 edges, 20000 cells.\n",
      "11.3425 neighbors per cell on average.\n",
      "Use DPCA feature to format graph\n"
     ]
    },
    {
     "name": "stderr",
     "output_type": "stream",
     "text": [
      "/home/ylu/anaconda3/envs/scSLAT/lib/python3.8/site-packages/scanpy/preprocessing/_highly_variable_genes.py:64: UserWarning: `flavor='seurat_v3'` expects raw count data, but non-integers were found.\n",
      "  warnings.warn(\n",
      "/home/ylu/anaconda3/envs/scSLAT/lib/python3.8/site-packages/scanpy/preprocessing/_normalization.py:169: UserWarning: Received a view of an AnnData. Making a copy.\n",
      "  view_to_actual(adata)\n",
      "/home/ylu/anaconda3/envs/scSLAT/lib/python3.8/site-packages/scanpy/preprocessing/_simple.py:843: UserWarning: Received a view of an AnnData. Making a copy.\n",
      "  view_to_actual(adata)\n",
      "/home/ylu/anaconda3/envs/scSLAT/lib/python3.8/site-packages/scanpy/preprocessing/_simple.py:843: UserWarning: Received a view of an AnnData. Making a copy.\n",
      "  view_to_actual(adata)\n"
     ]
    },
    {
     "name": "stdout",
     "output_type": "stream",
     "text": [
      "Warning! Dual PCA is using GPU, which may lead to OUT OF GPU MEMORY in big dataset!\n",
      "Choose GPU:0 as device\n",
      "Running\n",
      "---------- epochs: 1 ----------\n",
      "---------- epochs: 2 ----------\n",
      "---------- epochs: 3 ----------\n",
      "---------- epochs: 4 ----------\n",
      "---------- epochs: 5 ----------\n",
      "---------- epochs: 6 ----------\n",
      "Training model time: 1.67\n"
     ]
    },
    {
     "name": "stderr",
     "output_type": "stream",
     "text": [
      " 73%|███████████▊    | 94/128 [38:03<10:42, 18.91s/it]"
     ]
    },
    {
     "name": "stdout",
     "output_type": "stream",
     "text": [
      "Calculating spatial neighbor graph ...\n",
      "The graph contains 226912 edges, 20000 cells.\n",
      "11.3456 neighbors per cell on average.\n",
      "Calculating spatial neighbor graph ...\n",
      "The graph contains 226702 edges, 20000 cells.\n",
      "11.3351 neighbors per cell on average.\n",
      "Use DPCA feature to format graph\n"
     ]
    },
    {
     "name": "stderr",
     "output_type": "stream",
     "text": [
      "/home/ylu/anaconda3/envs/scSLAT/lib/python3.8/site-packages/scanpy/preprocessing/_highly_variable_genes.py:64: UserWarning: `flavor='seurat_v3'` expects raw count data, but non-integers were found.\n",
      "  warnings.warn(\n",
      "/home/ylu/anaconda3/envs/scSLAT/lib/python3.8/site-packages/scanpy/preprocessing/_normalization.py:169: UserWarning: Received a view of an AnnData. Making a copy.\n",
      "  view_to_actual(adata)\n",
      "/home/ylu/anaconda3/envs/scSLAT/lib/python3.8/site-packages/scanpy/preprocessing/_simple.py:843: UserWarning: Received a view of an AnnData. Making a copy.\n",
      "  view_to_actual(adata)\n",
      "/home/ylu/anaconda3/envs/scSLAT/lib/python3.8/site-packages/scanpy/preprocessing/_simple.py:843: UserWarning: Received a view of an AnnData. Making a copy.\n",
      "  view_to_actual(adata)\n"
     ]
    },
    {
     "name": "stdout",
     "output_type": "stream",
     "text": [
      "Warning! Dual PCA is using GPU, which may lead to OUT OF GPU MEMORY in big dataset!\n",
      "Choose GPU:0 as device\n",
      "Running\n",
      "---------- epochs: 1 ----------\n",
      "---------- epochs: 2 ----------\n",
      "---------- epochs: 3 ----------\n",
      "---------- epochs: 4 ----------\n",
      "---------- epochs: 5 ----------\n",
      "---------- epochs: 6 ----------\n",
      "Training model time: 1.68\n"
     ]
    },
    {
     "name": "stderr",
     "output_type": "stream",
     "text": [
      " 74%|███████████▉    | 95/128 [38:22<10:28, 19.06s/it]"
     ]
    },
    {
     "name": "stdout",
     "output_type": "stream",
     "text": [
      "Calculating spatial neighbor graph ...\n",
      "The graph contains 226906 edges, 20000 cells.\n",
      "11.3453 neighbors per cell on average.\n",
      "Calculating spatial neighbor graph ...\n",
      "The graph contains 227424 edges, 20000 cells.\n",
      "11.3712 neighbors per cell on average.\n",
      "Use DPCA feature to format graph\n"
     ]
    },
    {
     "name": "stderr",
     "output_type": "stream",
     "text": [
      "/home/ylu/anaconda3/envs/scSLAT/lib/python3.8/site-packages/scanpy/preprocessing/_highly_variable_genes.py:64: UserWarning: `flavor='seurat_v3'` expects raw count data, but non-integers were found.\n",
      "  warnings.warn(\n",
      "/home/ylu/anaconda3/envs/scSLAT/lib/python3.8/site-packages/scanpy/preprocessing/_normalization.py:169: UserWarning: Received a view of an AnnData. Making a copy.\n",
      "  view_to_actual(adata)\n",
      "/home/ylu/anaconda3/envs/scSLAT/lib/python3.8/site-packages/scanpy/preprocessing/_simple.py:843: UserWarning: Received a view of an AnnData. Making a copy.\n",
      "  view_to_actual(adata)\n",
      "/home/ylu/anaconda3/envs/scSLAT/lib/python3.8/site-packages/scanpy/preprocessing/_simple.py:843: UserWarning: Received a view of an AnnData. Making a copy.\n",
      "  view_to_actual(adata)\n"
     ]
    },
    {
     "name": "stdout",
     "output_type": "stream",
     "text": [
      "Warning! Dual PCA is using GPU, which may lead to OUT OF GPU MEMORY in big dataset!\n",
      "Choose GPU:0 as device\n",
      "Running\n",
      "---------- epochs: 1 ----------\n",
      "---------- epochs: 2 ----------\n",
      "---------- epochs: 3 ----------\n",
      "---------- epochs: 4 ----------\n",
      "---------- epochs: 5 ----------\n",
      "---------- epochs: 6 ----------\n",
      "Training model time: 1.64\n"
     ]
    },
    {
     "name": "stderr",
     "output_type": "stream",
     "text": [
      " 75%|████████████    | 96/128 [38:41<10:09, 19.04s/it]"
     ]
    },
    {
     "name": "stdout",
     "output_type": "stream",
     "text": [
      "Calculating spatial neighbor graph ...\n",
      "The graph contains 227282 edges, 20000 cells.\n",
      "11.3641 neighbors per cell on average.\n",
      "Calculating spatial neighbor graph ...\n",
      "The graph contains 226668 edges, 20000 cells.\n",
      "11.3334 neighbors per cell on average.\n",
      "Use DPCA feature to format graph\n"
     ]
    },
    {
     "name": "stderr",
     "output_type": "stream",
     "text": [
      "/home/ylu/anaconda3/envs/scSLAT/lib/python3.8/site-packages/scanpy/preprocessing/_highly_variable_genes.py:64: UserWarning: `flavor='seurat_v3'` expects raw count data, but non-integers were found.\n",
      "  warnings.warn(\n",
      "/home/ylu/anaconda3/envs/scSLAT/lib/python3.8/site-packages/scanpy/preprocessing/_normalization.py:169: UserWarning: Received a view of an AnnData. Making a copy.\n",
      "  view_to_actual(adata)\n",
      "/home/ylu/anaconda3/envs/scSLAT/lib/python3.8/site-packages/scanpy/preprocessing/_simple.py:843: UserWarning: Received a view of an AnnData. Making a copy.\n",
      "  view_to_actual(adata)\n",
      "/home/ylu/anaconda3/envs/scSLAT/lib/python3.8/site-packages/scanpy/preprocessing/_simple.py:843: UserWarning: Received a view of an AnnData. Making a copy.\n",
      "  view_to_actual(adata)\n"
     ]
    },
    {
     "name": "stdout",
     "output_type": "stream",
     "text": [
      "Warning! Dual PCA is using GPU, which may lead to OUT OF GPU MEMORY in big dataset!\n",
      "Choose GPU:0 as device\n",
      "Running\n",
      "---------- epochs: 1 ----------\n",
      "---------- epochs: 2 ----------\n",
      "---------- epochs: 3 ----------\n",
      "---------- epochs: 4 ----------\n",
      "---------- epochs: 5 ----------\n",
      "---------- epochs: 6 ----------\n",
      "Training model time: 1.69\n"
     ]
    },
    {
     "name": "stderr",
     "output_type": "stream",
     "text": [
      " 76%|████████████▏   | 97/128 [39:01<09:52, 19.11s/it]"
     ]
    },
    {
     "name": "stdout",
     "output_type": "stream",
     "text": [
      "Calculating spatial neighbor graph ...\n",
      "The graph contains 226596 edges, 20000 cells.\n",
      "11.3298 neighbors per cell on average.\n",
      "Calculating spatial neighbor graph ...\n",
      "The graph contains 227132 edges, 20000 cells.\n",
      "11.3566 neighbors per cell on average.\n",
      "Use DPCA feature to format graph\n"
     ]
    },
    {
     "name": "stderr",
     "output_type": "stream",
     "text": [
      "/home/ylu/anaconda3/envs/scSLAT/lib/python3.8/site-packages/scanpy/preprocessing/_highly_variable_genes.py:64: UserWarning: `flavor='seurat_v3'` expects raw count data, but non-integers were found.\n",
      "  warnings.warn(\n",
      "/home/ylu/anaconda3/envs/scSLAT/lib/python3.8/site-packages/scanpy/preprocessing/_normalization.py:169: UserWarning: Received a view of an AnnData. Making a copy.\n",
      "  view_to_actual(adata)\n",
      "/home/ylu/anaconda3/envs/scSLAT/lib/python3.8/site-packages/scanpy/preprocessing/_simple.py:843: UserWarning: Received a view of an AnnData. Making a copy.\n",
      "  view_to_actual(adata)\n",
      "/home/ylu/anaconda3/envs/scSLAT/lib/python3.8/site-packages/scanpy/preprocessing/_simple.py:843: UserWarning: Received a view of an AnnData. Making a copy.\n",
      "  view_to_actual(adata)\n"
     ]
    },
    {
     "name": "stdout",
     "output_type": "stream",
     "text": [
      "Warning! Dual PCA is using GPU, which may lead to OUT OF GPU MEMORY in big dataset!\n",
      "Choose GPU:0 as device\n",
      "Running\n",
      "---------- epochs: 1 ----------\n",
      "---------- epochs: 2 ----------\n",
      "---------- epochs: 3 ----------\n",
      "---------- epochs: 4 ----------\n",
      "---------- epochs: 5 ----------\n",
      "---------- epochs: 6 ----------\n",
      "Training model time: 1.65\n"
     ]
    },
    {
     "name": "stderr",
     "output_type": "stream",
     "text": [
      " 77%|████████████▎   | 98/128 [39:20<09:32, 19.07s/it]"
     ]
    },
    {
     "name": "stdout",
     "output_type": "stream",
     "text": [
      "Calculating spatial neighbor graph ...\n",
      "The graph contains 226664 edges, 20000 cells.\n",
      "11.3332 neighbors per cell on average.\n",
      "Calculating spatial neighbor graph ...\n",
      "The graph contains 227130 edges, 20000 cells.\n",
      "11.3565 neighbors per cell on average.\n",
      "Use DPCA feature to format graph\n"
     ]
    },
    {
     "name": "stderr",
     "output_type": "stream",
     "text": [
      "/home/ylu/anaconda3/envs/scSLAT/lib/python3.8/site-packages/scanpy/preprocessing/_highly_variable_genes.py:64: UserWarning: `flavor='seurat_v3'` expects raw count data, but non-integers were found.\n",
      "  warnings.warn(\n",
      "/home/ylu/anaconda3/envs/scSLAT/lib/python3.8/site-packages/scanpy/preprocessing/_normalization.py:169: UserWarning: Received a view of an AnnData. Making a copy.\n",
      "  view_to_actual(adata)\n",
      "/home/ylu/anaconda3/envs/scSLAT/lib/python3.8/site-packages/scanpy/preprocessing/_simple.py:843: UserWarning: Received a view of an AnnData. Making a copy.\n",
      "  view_to_actual(adata)\n",
      "/home/ylu/anaconda3/envs/scSLAT/lib/python3.8/site-packages/scanpy/preprocessing/_simple.py:843: UserWarning: Received a view of an AnnData. Making a copy.\n",
      "  view_to_actual(adata)\n"
     ]
    },
    {
     "name": "stdout",
     "output_type": "stream",
     "text": [
      "Warning! Dual PCA is using GPU, which may lead to OUT OF GPU MEMORY in big dataset!\n",
      "Choose GPU:0 as device\n",
      "Running\n",
      "---------- epochs: 1 ----------\n",
      "---------- epochs: 2 ----------\n",
      "---------- epochs: 3 ----------\n",
      "---------- epochs: 4 ----------\n",
      "---------- epochs: 5 ----------\n",
      "---------- epochs: 6 ----------\n",
      "Training model time: 1.69\n"
     ]
    },
    {
     "name": "stderr",
     "output_type": "stream",
     "text": [
      " 77%|████████████▍   | 99/128 [39:39<09:18, 19.25s/it]"
     ]
    },
    {
     "name": "stdout",
     "output_type": "stream",
     "text": [
      "Calculating spatial neighbor graph ...\n",
      "The graph contains 226734 edges, 20000 cells.\n",
      "11.3367 neighbors per cell on average.\n",
      "Calculating spatial neighbor graph ...\n",
      "The graph contains 226546 edges, 20000 cells.\n",
      "11.3273 neighbors per cell on average.\n",
      "Use DPCA feature to format graph\n"
     ]
    },
    {
     "name": "stderr",
     "output_type": "stream",
     "text": [
      "/home/ylu/anaconda3/envs/scSLAT/lib/python3.8/site-packages/scanpy/preprocessing/_highly_variable_genes.py:64: UserWarning: `flavor='seurat_v3'` expects raw count data, but non-integers were found.\n",
      "  warnings.warn(\n",
      "/home/ylu/anaconda3/envs/scSLAT/lib/python3.8/site-packages/scanpy/preprocessing/_normalization.py:169: UserWarning: Received a view of an AnnData. Making a copy.\n",
      "  view_to_actual(adata)\n",
      "/home/ylu/anaconda3/envs/scSLAT/lib/python3.8/site-packages/scanpy/preprocessing/_simple.py:843: UserWarning: Received a view of an AnnData. Making a copy.\n",
      "  view_to_actual(adata)\n",
      "/home/ylu/anaconda3/envs/scSLAT/lib/python3.8/site-packages/scanpy/preprocessing/_simple.py:843: UserWarning: Received a view of an AnnData. Making a copy.\n",
      "  view_to_actual(adata)\n"
     ]
    },
    {
     "name": "stdout",
     "output_type": "stream",
     "text": [
      "Warning! Dual PCA is using GPU, which may lead to OUT OF GPU MEMORY in big dataset!\n",
      "Choose GPU:0 as device\n",
      "Running\n",
      "---------- epochs: 1 ----------\n",
      "---------- epochs: 2 ----------\n",
      "---------- epochs: 3 ----------\n",
      "---------- epochs: 4 ----------\n",
      "---------- epochs: 5 ----------\n",
      "---------- epochs: 6 ----------\n",
      "Training model time: 1.67\n"
     ]
    },
    {
     "name": "stderr",
     "output_type": "stream",
     "text": [
      " 78%|███████████▋   | 100/128 [39:58<08:53, 19.05s/it]"
     ]
    },
    {
     "name": "stdout",
     "output_type": "stream",
     "text": [
      "Calculating spatial neighbor graph ...\n",
      "The graph contains 226832 edges, 20000 cells.\n",
      "11.3416 neighbors per cell on average.\n",
      "Calculating spatial neighbor graph ...\n",
      "The graph contains 228280 edges, 20000 cells.\n",
      "11.414 neighbors per cell on average.\n",
      "Use DPCA feature to format graph\n"
     ]
    },
    {
     "name": "stderr",
     "output_type": "stream",
     "text": [
      "/home/ylu/anaconda3/envs/scSLAT/lib/python3.8/site-packages/scanpy/preprocessing/_highly_variable_genes.py:64: UserWarning: `flavor='seurat_v3'` expects raw count data, but non-integers were found.\n",
      "  warnings.warn(\n",
      "/home/ylu/anaconda3/envs/scSLAT/lib/python3.8/site-packages/scanpy/preprocessing/_normalization.py:169: UserWarning: Received a view of an AnnData. Making a copy.\n",
      "  view_to_actual(adata)\n",
      "/home/ylu/anaconda3/envs/scSLAT/lib/python3.8/site-packages/scanpy/preprocessing/_simple.py:843: UserWarning: Received a view of an AnnData. Making a copy.\n",
      "  view_to_actual(adata)\n",
      "/home/ylu/anaconda3/envs/scSLAT/lib/python3.8/site-packages/scanpy/preprocessing/_simple.py:843: UserWarning: Received a view of an AnnData. Making a copy.\n",
      "  view_to_actual(adata)\n"
     ]
    },
    {
     "name": "stdout",
     "output_type": "stream",
     "text": [
      "Warning! Dual PCA is using GPU, which may lead to OUT OF GPU MEMORY in big dataset!\n",
      "Choose GPU:0 as device\n",
      "Running\n",
      "---------- epochs: 1 ----------\n",
      "---------- epochs: 2 ----------\n",
      "---------- epochs: 3 ----------\n",
      "---------- epochs: 4 ----------\n",
      "---------- epochs: 5 ----------\n",
      "---------- epochs: 6 ----------\n",
      "Training model time: 1.65\n"
     ]
    },
    {
     "name": "stderr",
     "output_type": "stream",
     "text": [
      " 79%|███████████▊   | 101/128 [40:19<08:48, 19.59s/it]"
     ]
    },
    {
     "name": "stdout",
     "output_type": "stream",
     "text": [
      "Calculating spatial neighbor graph ...\n",
      "The graph contains 228336 edges, 20000 cells.\n",
      "11.4168 neighbors per cell on average.\n",
      "Calculating spatial neighbor graph ...\n",
      "The graph contains 227204 edges, 20000 cells.\n",
      "11.3602 neighbors per cell on average.\n",
      "Use DPCA feature to format graph\n"
     ]
    },
    {
     "name": "stderr",
     "output_type": "stream",
     "text": [
      "/home/ylu/anaconda3/envs/scSLAT/lib/python3.8/site-packages/scanpy/preprocessing/_highly_variable_genes.py:64: UserWarning: `flavor='seurat_v3'` expects raw count data, but non-integers were found.\n",
      "  warnings.warn(\n",
      "/home/ylu/anaconda3/envs/scSLAT/lib/python3.8/site-packages/scanpy/preprocessing/_normalization.py:169: UserWarning: Received a view of an AnnData. Making a copy.\n",
      "  view_to_actual(adata)\n",
      "/home/ylu/anaconda3/envs/scSLAT/lib/python3.8/site-packages/scanpy/preprocessing/_simple.py:843: UserWarning: Received a view of an AnnData. Making a copy.\n",
      "  view_to_actual(adata)\n",
      "/home/ylu/anaconda3/envs/scSLAT/lib/python3.8/site-packages/scanpy/preprocessing/_simple.py:843: UserWarning: Received a view of an AnnData. Making a copy.\n",
      "  view_to_actual(adata)\n"
     ]
    },
    {
     "name": "stdout",
     "output_type": "stream",
     "text": [
      "Warning! Dual PCA is using GPU, which may lead to OUT OF GPU MEMORY in big dataset!\n",
      "Choose GPU:0 as device\n",
      "Running\n",
      "---------- epochs: 1 ----------\n",
      "---------- epochs: 2 ----------\n",
      "---------- epochs: 3 ----------\n",
      "---------- epochs: 4 ----------\n",
      "---------- epochs: 5 ----------\n",
      "---------- epochs: 6 ----------\n",
      "Training model time: 1.67\n"
     ]
    },
    {
     "name": "stderr",
     "output_type": "stream",
     "text": [
      " 80%|███████████▉   | 102/128 [40:39<08:30, 19.62s/it]"
     ]
    },
    {
     "name": "stdout",
     "output_type": "stream",
     "text": [
      "Calculating spatial neighbor graph ...\n",
      "The graph contains 227768 edges, 20000 cells.\n",
      "11.3884 neighbors per cell on average.\n",
      "Calculating spatial neighbor graph ...\n",
      "The graph contains 228266 edges, 20000 cells.\n",
      "11.4133 neighbors per cell on average.\n",
      "Use DPCA feature to format graph\n"
     ]
    },
    {
     "name": "stderr",
     "output_type": "stream",
     "text": [
      "/home/ylu/anaconda3/envs/scSLAT/lib/python3.8/site-packages/scanpy/preprocessing/_highly_variable_genes.py:64: UserWarning: `flavor='seurat_v3'` expects raw count data, but non-integers were found.\n",
      "  warnings.warn(\n",
      "/home/ylu/anaconda3/envs/scSLAT/lib/python3.8/site-packages/scanpy/preprocessing/_normalization.py:169: UserWarning: Received a view of an AnnData. Making a copy.\n",
      "  view_to_actual(adata)\n",
      "/home/ylu/anaconda3/envs/scSLAT/lib/python3.8/site-packages/scanpy/preprocessing/_simple.py:843: UserWarning: Received a view of an AnnData. Making a copy.\n",
      "  view_to_actual(adata)\n",
      "/home/ylu/anaconda3/envs/scSLAT/lib/python3.8/site-packages/scanpy/preprocessing/_simple.py:843: UserWarning: Received a view of an AnnData. Making a copy.\n",
      "  view_to_actual(adata)\n"
     ]
    },
    {
     "name": "stdout",
     "output_type": "stream",
     "text": [
      "Warning! Dual PCA is using GPU, which may lead to OUT OF GPU MEMORY in big dataset!\n",
      "Choose GPU:0 as device\n",
      "Running\n",
      "---------- epochs: 1 ----------\n",
      "---------- epochs: 2 ----------\n",
      "---------- epochs: 3 ----------\n",
      "---------- epochs: 4 ----------\n",
      "---------- epochs: 5 ----------\n",
      "---------- epochs: 6 ----------\n",
      "Training model time: 1.65\n"
     ]
    },
    {
     "name": "stderr",
     "output_type": "stream",
     "text": [
      " 80%|████████████   | 103/128 [40:58<08:11, 19.68s/it]"
     ]
    },
    {
     "name": "stdout",
     "output_type": "stream",
     "text": [
      "Calculating spatial neighbor graph ...\n",
      "The graph contains 228020 edges, 20000 cells.\n",
      "11.401 neighbors per cell on average.\n",
      "Calculating spatial neighbor graph ...\n",
      "The graph contains 228666 edges, 20000 cells.\n",
      "11.4333 neighbors per cell on average.\n",
      "Use DPCA feature to format graph\n"
     ]
    },
    {
     "name": "stderr",
     "output_type": "stream",
     "text": [
      "/home/ylu/anaconda3/envs/scSLAT/lib/python3.8/site-packages/scanpy/preprocessing/_highly_variable_genes.py:64: UserWarning: `flavor='seurat_v3'` expects raw count data, but non-integers were found.\n",
      "  warnings.warn(\n",
      "/home/ylu/anaconda3/envs/scSLAT/lib/python3.8/site-packages/scanpy/preprocessing/_normalization.py:169: UserWarning: Received a view of an AnnData. Making a copy.\n",
      "  view_to_actual(adata)\n",
      "/home/ylu/anaconda3/envs/scSLAT/lib/python3.8/site-packages/scanpy/preprocessing/_simple.py:843: UserWarning: Received a view of an AnnData. Making a copy.\n",
      "  view_to_actual(adata)\n",
      "/home/ylu/anaconda3/envs/scSLAT/lib/python3.8/site-packages/scanpy/preprocessing/_simple.py:843: UserWarning: Received a view of an AnnData. Making a copy.\n",
      "  view_to_actual(adata)\n"
     ]
    },
    {
     "name": "stdout",
     "output_type": "stream",
     "text": [
      "Warning! Dual PCA is using GPU, which may lead to OUT OF GPU MEMORY in big dataset!\n",
      "Choose GPU:0 as device\n",
      "Running\n",
      "---------- epochs: 1 ----------\n",
      "---------- epochs: 2 ----------\n",
      "---------- epochs: 3 ----------\n",
      "---------- epochs: 4 ----------\n",
      "---------- epochs: 5 ----------\n",
      "---------- epochs: 6 ----------\n",
      "Training model time: 1.66\n"
     ]
    },
    {
     "name": "stderr",
     "output_type": "stream",
     "text": [
      " 81%|████████████▏  | 104/128 [41:18<07:52, 19.70s/it]"
     ]
    },
    {
     "name": "stdout",
     "output_type": "stream",
     "text": [
      "Calculating spatial neighbor graph ...\n",
      "The graph contains 228592 edges, 20000 cells.\n",
      "11.4296 neighbors per cell on average.\n",
      "Calculating spatial neighbor graph ...\n",
      "The graph contains 229094 edges, 20000 cells.\n",
      "11.4547 neighbors per cell on average.\n",
      "Use DPCA feature to format graph\n"
     ]
    },
    {
     "name": "stderr",
     "output_type": "stream",
     "text": [
      "/home/ylu/anaconda3/envs/scSLAT/lib/python3.8/site-packages/scanpy/preprocessing/_highly_variable_genes.py:64: UserWarning: `flavor='seurat_v3'` expects raw count data, but non-integers were found.\n",
      "  warnings.warn(\n",
      "/home/ylu/anaconda3/envs/scSLAT/lib/python3.8/site-packages/scanpy/preprocessing/_normalization.py:169: UserWarning: Received a view of an AnnData. Making a copy.\n",
      "  view_to_actual(adata)\n",
      "/home/ylu/anaconda3/envs/scSLAT/lib/python3.8/site-packages/scanpy/preprocessing/_simple.py:843: UserWarning: Received a view of an AnnData. Making a copy.\n",
      "  view_to_actual(adata)\n",
      "/home/ylu/anaconda3/envs/scSLAT/lib/python3.8/site-packages/scanpy/preprocessing/_simple.py:843: UserWarning: Received a view of an AnnData. Making a copy.\n",
      "  view_to_actual(adata)\n"
     ]
    },
    {
     "name": "stdout",
     "output_type": "stream",
     "text": [
      "Warning! Dual PCA is using GPU, which may lead to OUT OF GPU MEMORY in big dataset!\n",
      "Choose GPU:0 as device\n",
      "Running\n",
      "---------- epochs: 1 ----------\n",
      "---------- epochs: 2 ----------\n",
      "---------- epochs: 3 ----------\n",
      "---------- epochs: 4 ----------\n",
      "---------- epochs: 5 ----------\n",
      "---------- epochs: 6 ----------\n",
      "Training model time: 1.65\n"
     ]
    },
    {
     "name": "stderr",
     "output_type": "stream",
     "text": [
      " 82%|████████████▎  | 105/128 [41:37<07:28, 19.49s/it]"
     ]
    },
    {
     "name": "stdout",
     "output_type": "stream",
     "text": [
      "Calculating spatial neighbor graph ...\n",
      "The graph contains 229024 edges, 20000 cells.\n",
      "11.4512 neighbors per cell on average.\n",
      "Calculating spatial neighbor graph ...\n",
      "The graph contains 229580 edges, 20000 cells.\n",
      "11.479 neighbors per cell on average.\n",
      "Use DPCA feature to format graph\n"
     ]
    },
    {
     "name": "stderr",
     "output_type": "stream",
     "text": [
      "/home/ylu/anaconda3/envs/scSLAT/lib/python3.8/site-packages/scanpy/preprocessing/_highly_variable_genes.py:64: UserWarning: `flavor='seurat_v3'` expects raw count data, but non-integers were found.\n",
      "  warnings.warn(\n",
      "/home/ylu/anaconda3/envs/scSLAT/lib/python3.8/site-packages/scanpy/preprocessing/_normalization.py:169: UserWarning: Received a view of an AnnData. Making a copy.\n",
      "  view_to_actual(adata)\n",
      "/home/ylu/anaconda3/envs/scSLAT/lib/python3.8/site-packages/scanpy/preprocessing/_simple.py:843: UserWarning: Received a view of an AnnData. Making a copy.\n",
      "  view_to_actual(adata)\n",
      "/home/ylu/anaconda3/envs/scSLAT/lib/python3.8/site-packages/scanpy/preprocessing/_simple.py:843: UserWarning: Received a view of an AnnData. Making a copy.\n",
      "  view_to_actual(adata)\n"
     ]
    },
    {
     "name": "stdout",
     "output_type": "stream",
     "text": [
      "Warning! Dual PCA is using GPU, which may lead to OUT OF GPU MEMORY in big dataset!\n",
      "Choose GPU:0 as device\n",
      "Running\n",
      "---------- epochs: 1 ----------\n",
      "---------- epochs: 2 ----------\n",
      "---------- epochs: 3 ----------\n",
      "---------- epochs: 4 ----------\n",
      "---------- epochs: 5 ----------\n",
      "---------- epochs: 6 ----------\n",
      "Training model time: 1.69\n"
     ]
    },
    {
     "name": "stderr",
     "output_type": "stream",
     "text": [
      " 83%|████████████▍  | 106/128 [41:55<06:57, 19.00s/it]"
     ]
    },
    {
     "name": "stdout",
     "output_type": "stream",
     "text": [
      "Calculating spatial neighbor graph ...\n",
      "The graph contains 229578 edges, 20000 cells.\n",
      "11.4789 neighbors per cell on average.\n",
      "Calculating spatial neighbor graph ...\n",
      "The graph contains 229740 edges, 20000 cells.\n",
      "11.487 neighbors per cell on average.\n",
      "Use DPCA feature to format graph\n"
     ]
    },
    {
     "name": "stderr",
     "output_type": "stream",
     "text": [
      "/home/ylu/anaconda3/envs/scSLAT/lib/python3.8/site-packages/scanpy/preprocessing/_highly_variable_genes.py:64: UserWarning: `flavor='seurat_v3'` expects raw count data, but non-integers were found.\n",
      "  warnings.warn(\n",
      "/home/ylu/anaconda3/envs/scSLAT/lib/python3.8/site-packages/scanpy/preprocessing/_normalization.py:169: UserWarning: Received a view of an AnnData. Making a copy.\n",
      "  view_to_actual(adata)\n",
      "/home/ylu/anaconda3/envs/scSLAT/lib/python3.8/site-packages/scanpy/preprocessing/_simple.py:843: UserWarning: Received a view of an AnnData. Making a copy.\n",
      "  view_to_actual(adata)\n",
      "/home/ylu/anaconda3/envs/scSLAT/lib/python3.8/site-packages/scanpy/preprocessing/_simple.py:843: UserWarning: Received a view of an AnnData. Making a copy.\n",
      "  view_to_actual(adata)\n"
     ]
    },
    {
     "name": "stdout",
     "output_type": "stream",
     "text": [
      "Warning! Dual PCA is using GPU, which may lead to OUT OF GPU MEMORY in big dataset!\n",
      "Choose GPU:0 as device\n",
      "Running\n",
      "---------- epochs: 1 ----------\n",
      "---------- epochs: 2 ----------\n",
      "---------- epochs: 3 ----------\n",
      "---------- epochs: 4 ----------\n",
      "---------- epochs: 5 ----------\n",
      "---------- epochs: 6 ----------\n",
      "Training model time: 1.68\n"
     ]
    },
    {
     "name": "stderr",
     "output_type": "stream",
     "text": [
      " 84%|████████████▌  | 107/128 [42:13<06:30, 18.59s/it]"
     ]
    },
    {
     "name": "stdout",
     "output_type": "stream",
     "text": [
      "Calculating spatial neighbor graph ...\n",
      "The graph contains 230122 edges, 20000 cells.\n",
      "11.5061 neighbors per cell on average.\n",
      "Calculating spatial neighbor graph ...\n",
      "The graph contains 228696 edges, 20000 cells.\n",
      "11.4348 neighbors per cell on average.\n",
      "Use DPCA feature to format graph\n"
     ]
    },
    {
     "name": "stderr",
     "output_type": "stream",
     "text": [
      "/home/ylu/anaconda3/envs/scSLAT/lib/python3.8/site-packages/scanpy/preprocessing/_highly_variable_genes.py:64: UserWarning: `flavor='seurat_v3'` expects raw count data, but non-integers were found.\n",
      "  warnings.warn(\n",
      "/home/ylu/anaconda3/envs/scSLAT/lib/python3.8/site-packages/scanpy/preprocessing/_normalization.py:169: UserWarning: Received a view of an AnnData. Making a copy.\n",
      "  view_to_actual(adata)\n",
      "/home/ylu/anaconda3/envs/scSLAT/lib/python3.8/site-packages/scanpy/preprocessing/_simple.py:843: UserWarning: Received a view of an AnnData. Making a copy.\n",
      "  view_to_actual(adata)\n",
      "/home/ylu/anaconda3/envs/scSLAT/lib/python3.8/site-packages/scanpy/preprocessing/_simple.py:843: UserWarning: Received a view of an AnnData. Making a copy.\n",
      "  view_to_actual(adata)\n"
     ]
    },
    {
     "name": "stdout",
     "output_type": "stream",
     "text": [
      "Warning! Dual PCA is using GPU, which may lead to OUT OF GPU MEMORY in big dataset!\n",
      "Choose GPU:0 as device\n",
      "Running\n",
      "---------- epochs: 1 ----------\n",
      "---------- epochs: 2 ----------\n",
      "---------- epochs: 3 ----------\n",
      "---------- epochs: 4 ----------\n",
      "---------- epochs: 5 ----------\n",
      "---------- epochs: 6 ----------\n",
      "Training model time: 1.69\n"
     ]
    },
    {
     "name": "stderr",
     "output_type": "stream",
     "text": [
      " 84%|████████████▋  | 108/128 [42:31<06:11, 18.56s/it]"
     ]
    },
    {
     "name": "stdout",
     "output_type": "stream",
     "text": [
      "Calculating spatial neighbor graph ...\n",
      "The graph contains 228680 edges, 20000 cells.\n",
      "11.434 neighbors per cell on average.\n",
      "Calculating spatial neighbor graph ...\n",
      "The graph contains 230546 edges, 20000 cells.\n",
      "11.5273 neighbors per cell on average.\n",
      "Use DPCA feature to format graph\n"
     ]
    },
    {
     "name": "stderr",
     "output_type": "stream",
     "text": [
      "/home/ylu/anaconda3/envs/scSLAT/lib/python3.8/site-packages/scanpy/preprocessing/_highly_variable_genes.py:64: UserWarning: `flavor='seurat_v3'` expects raw count data, but non-integers were found.\n",
      "  warnings.warn(\n",
      "/home/ylu/anaconda3/envs/scSLAT/lib/python3.8/site-packages/scanpy/preprocessing/_normalization.py:169: UserWarning: Received a view of an AnnData. Making a copy.\n",
      "  view_to_actual(adata)\n",
      "/home/ylu/anaconda3/envs/scSLAT/lib/python3.8/site-packages/scanpy/preprocessing/_simple.py:843: UserWarning: Received a view of an AnnData. Making a copy.\n",
      "  view_to_actual(adata)\n",
      "/home/ylu/anaconda3/envs/scSLAT/lib/python3.8/site-packages/scanpy/preprocessing/_simple.py:843: UserWarning: Received a view of an AnnData. Making a copy.\n",
      "  view_to_actual(adata)\n"
     ]
    },
    {
     "name": "stdout",
     "output_type": "stream",
     "text": [
      "Warning! Dual PCA is using GPU, which may lead to OUT OF GPU MEMORY in big dataset!\n",
      "Choose GPU:0 as device\n",
      "Running\n",
      "---------- epochs: 1 ----------\n",
      "---------- epochs: 2 ----------\n",
      "---------- epochs: 3 ----------\n",
      "---------- epochs: 4 ----------\n",
      "---------- epochs: 5 ----------\n",
      "---------- epochs: 6 ----------\n",
      "Training model time: 1.68\n"
     ]
    },
    {
     "name": "stderr",
     "output_type": "stream",
     "text": [
      " 85%|████████████▊  | 109/128 [42:50<05:54, 18.66s/it]"
     ]
    },
    {
     "name": "stdout",
     "output_type": "stream",
     "text": [
      "Calculating spatial neighbor graph ...\n",
      "The graph contains 230302 edges, 20000 cells.\n",
      "11.5151 neighbors per cell on average.\n",
      "Calculating spatial neighbor graph ...\n",
      "The graph contains 230258 edges, 20000 cells.\n",
      "11.5129 neighbors per cell on average.\n",
      "Use DPCA feature to format graph\n"
     ]
    },
    {
     "name": "stderr",
     "output_type": "stream",
     "text": [
      "/home/ylu/anaconda3/envs/scSLAT/lib/python3.8/site-packages/scanpy/preprocessing/_highly_variable_genes.py:64: UserWarning: `flavor='seurat_v3'` expects raw count data, but non-integers were found.\n",
      "  warnings.warn(\n",
      "/home/ylu/anaconda3/envs/scSLAT/lib/python3.8/site-packages/scanpy/preprocessing/_normalization.py:169: UserWarning: Received a view of an AnnData. Making a copy.\n",
      "  view_to_actual(adata)\n",
      "/home/ylu/anaconda3/envs/scSLAT/lib/python3.8/site-packages/scanpy/preprocessing/_simple.py:843: UserWarning: Received a view of an AnnData. Making a copy.\n",
      "  view_to_actual(adata)\n",
      "/home/ylu/anaconda3/envs/scSLAT/lib/python3.8/site-packages/scanpy/preprocessing/_simple.py:843: UserWarning: Received a view of an AnnData. Making a copy.\n",
      "  view_to_actual(adata)\n"
     ]
    },
    {
     "name": "stdout",
     "output_type": "stream",
     "text": [
      "Warning! Dual PCA is using GPU, which may lead to OUT OF GPU MEMORY in big dataset!\n",
      "Choose GPU:0 as device\n",
      "Running\n",
      "---------- epochs: 1 ----------\n",
      "---------- epochs: 2 ----------\n",
      "---------- epochs: 3 ----------\n",
      "---------- epochs: 4 ----------\n",
      "---------- epochs: 5 ----------\n",
      "---------- epochs: 6 ----------\n",
      "Training model time: 1.64\n"
     ]
    },
    {
     "name": "stderr",
     "output_type": "stream",
     "text": [
      " 86%|████████████▉  | 110/128 [43:09<05:40, 18.91s/it]"
     ]
    },
    {
     "name": "stdout",
     "output_type": "stream",
     "text": [
      "Calculating spatial neighbor graph ...\n",
      "The graph contains 230252 edges, 20000 cells.\n",
      "11.5126 neighbors per cell on average.\n",
      "Calculating spatial neighbor graph ...\n",
      "The graph contains 227768 edges, 20000 cells.\n",
      "11.3884 neighbors per cell on average.\n",
      "Use DPCA feature to format graph\n"
     ]
    },
    {
     "name": "stderr",
     "output_type": "stream",
     "text": [
      "/home/ylu/anaconda3/envs/scSLAT/lib/python3.8/site-packages/scanpy/preprocessing/_highly_variable_genes.py:64: UserWarning: `flavor='seurat_v3'` expects raw count data, but non-integers were found.\n",
      "  warnings.warn(\n",
      "/home/ylu/anaconda3/envs/scSLAT/lib/python3.8/site-packages/scanpy/preprocessing/_normalization.py:169: UserWarning: Received a view of an AnnData. Making a copy.\n",
      "  view_to_actual(adata)\n",
      "/home/ylu/anaconda3/envs/scSLAT/lib/python3.8/site-packages/scanpy/preprocessing/_simple.py:843: UserWarning: Received a view of an AnnData. Making a copy.\n",
      "  view_to_actual(adata)\n",
      "/home/ylu/anaconda3/envs/scSLAT/lib/python3.8/site-packages/scanpy/preprocessing/_simple.py:843: UserWarning: Received a view of an AnnData. Making a copy.\n",
      "  view_to_actual(adata)\n"
     ]
    },
    {
     "name": "stdout",
     "output_type": "stream",
     "text": [
      "Warning! Dual PCA is using GPU, which may lead to OUT OF GPU MEMORY in big dataset!\n",
      "Choose GPU:0 as device\n",
      "Running\n",
      "---------- epochs: 1 ----------\n",
      "---------- epochs: 2 ----------\n",
      "---------- epochs: 3 ----------\n",
      "---------- epochs: 4 ----------\n",
      "---------- epochs: 5 ----------\n",
      "---------- epochs: 6 ----------\n",
      "Training model time: 1.65\n"
     ]
    },
    {
     "name": "stderr",
     "output_type": "stream",
     "text": [
      " 87%|█████████████  | 111/128 [43:27<05:16, 18.61s/it]"
     ]
    },
    {
     "name": "stdout",
     "output_type": "stream",
     "text": [
      "Calculating spatial neighbor graph ...\n",
      "The graph contains 228042 edges, 20000 cells.\n",
      "11.4021 neighbors per cell on average.\n",
      "Calculating spatial neighbor graph ...\n",
      "The graph contains 230754 edges, 20000 cells.\n",
      "11.5377 neighbors per cell on average.\n",
      "Use DPCA feature to format graph\n"
     ]
    },
    {
     "name": "stderr",
     "output_type": "stream",
     "text": [
      "/home/ylu/anaconda3/envs/scSLAT/lib/python3.8/site-packages/scanpy/preprocessing/_highly_variable_genes.py:64: UserWarning: `flavor='seurat_v3'` expects raw count data, but non-integers were found.\n",
      "  warnings.warn(\n",
      "/home/ylu/anaconda3/envs/scSLAT/lib/python3.8/site-packages/scanpy/preprocessing/_normalization.py:169: UserWarning: Received a view of an AnnData. Making a copy.\n",
      "  view_to_actual(adata)\n",
      "/home/ylu/anaconda3/envs/scSLAT/lib/python3.8/site-packages/scanpy/preprocessing/_simple.py:843: UserWarning: Received a view of an AnnData. Making a copy.\n",
      "  view_to_actual(adata)\n",
      "/home/ylu/anaconda3/envs/scSLAT/lib/python3.8/site-packages/scanpy/preprocessing/_simple.py:843: UserWarning: Received a view of an AnnData. Making a copy.\n",
      "  view_to_actual(adata)\n"
     ]
    },
    {
     "name": "stdout",
     "output_type": "stream",
     "text": [
      "Warning! Dual PCA is using GPU, which may lead to OUT OF GPU MEMORY in big dataset!\n",
      "Choose GPU:0 as device\n",
      "Running\n",
      "---------- epochs: 1 ----------\n",
      "---------- epochs: 2 ----------\n",
      "---------- epochs: 3 ----------\n",
      "---------- epochs: 4 ----------\n",
      "---------- epochs: 5 ----------\n",
      "---------- epochs: 6 ----------\n",
      "Training model time: 1.67\n"
     ]
    },
    {
     "name": "stderr",
     "output_type": "stream",
     "text": [
      " 88%|█████████████▏ | 112/128 [43:46<04:57, 18.59s/it]"
     ]
    },
    {
     "name": "stdout",
     "output_type": "stream",
     "text": [
      "Calculating spatial neighbor graph ...\n",
      "The graph contains 230596 edges, 20000 cells.\n",
      "11.5298 neighbors per cell on average.\n",
      "Calculating spatial neighbor graph ...\n",
      "The graph contains 230128 edges, 20000 cells.\n",
      "11.5064 neighbors per cell on average.\n",
      "Use DPCA feature to format graph\n"
     ]
    },
    {
     "name": "stderr",
     "output_type": "stream",
     "text": [
      "/home/ylu/anaconda3/envs/scSLAT/lib/python3.8/site-packages/scanpy/preprocessing/_highly_variable_genes.py:64: UserWarning: `flavor='seurat_v3'` expects raw count data, but non-integers were found.\n",
      "  warnings.warn(\n",
      "/home/ylu/anaconda3/envs/scSLAT/lib/python3.8/site-packages/scanpy/preprocessing/_normalization.py:169: UserWarning: Received a view of an AnnData. Making a copy.\n",
      "  view_to_actual(adata)\n",
      "/home/ylu/anaconda3/envs/scSLAT/lib/python3.8/site-packages/scanpy/preprocessing/_simple.py:843: UserWarning: Received a view of an AnnData. Making a copy.\n",
      "  view_to_actual(adata)\n",
      "/home/ylu/anaconda3/envs/scSLAT/lib/python3.8/site-packages/scanpy/preprocessing/_simple.py:843: UserWarning: Received a view of an AnnData. Making a copy.\n",
      "  view_to_actual(adata)\n"
     ]
    },
    {
     "name": "stdout",
     "output_type": "stream",
     "text": [
      "Warning! Dual PCA is using GPU, which may lead to OUT OF GPU MEMORY in big dataset!\n",
      "Choose GPU:0 as device\n",
      "Running\n",
      "---------- epochs: 1 ----------\n",
      "---------- epochs: 2 ----------\n",
      "---------- epochs: 3 ----------\n",
      "---------- epochs: 4 ----------\n",
      "---------- epochs: 5 ----------\n",
      "---------- epochs: 6 ----------\n",
      "Training model time: 1.69\n"
     ]
    },
    {
     "name": "stderr",
     "output_type": "stream",
     "text": [
      " 88%|█████████████▏ | 113/128 [44:05<04:42, 18.82s/it]"
     ]
    },
    {
     "name": "stdout",
     "output_type": "stream",
     "text": [
      "Calculating spatial neighbor graph ...\n",
      "The graph contains 230144 edges, 20000 cells.\n",
      "11.5072 neighbors per cell on average.\n",
      "Calculating spatial neighbor graph ...\n",
      "The graph contains 229946 edges, 20000 cells.\n",
      "11.4973 neighbors per cell on average.\n",
      "Use DPCA feature to format graph\n"
     ]
    },
    {
     "name": "stderr",
     "output_type": "stream",
     "text": [
      "/home/ylu/anaconda3/envs/scSLAT/lib/python3.8/site-packages/scanpy/preprocessing/_highly_variable_genes.py:64: UserWarning: `flavor='seurat_v3'` expects raw count data, but non-integers were found.\n",
      "  warnings.warn(\n",
      "/home/ylu/anaconda3/envs/scSLAT/lib/python3.8/site-packages/scanpy/preprocessing/_normalization.py:169: UserWarning: Received a view of an AnnData. Making a copy.\n",
      "  view_to_actual(adata)\n",
      "/home/ylu/anaconda3/envs/scSLAT/lib/python3.8/site-packages/scanpy/preprocessing/_simple.py:843: UserWarning: Received a view of an AnnData. Making a copy.\n",
      "  view_to_actual(adata)\n",
      "/home/ylu/anaconda3/envs/scSLAT/lib/python3.8/site-packages/scanpy/preprocessing/_simple.py:843: UserWarning: Received a view of an AnnData. Making a copy.\n",
      "  view_to_actual(adata)\n"
     ]
    },
    {
     "name": "stdout",
     "output_type": "stream",
     "text": [
      "Warning! Dual PCA is using GPU, which may lead to OUT OF GPU MEMORY in big dataset!\n",
      "Choose GPU:0 as device\n",
      "Running\n",
      "---------- epochs: 1 ----------\n",
      "---------- epochs: 2 ----------\n",
      "---------- epochs: 3 ----------\n",
      "---------- epochs: 4 ----------\n",
      "---------- epochs: 5 ----------\n",
      "---------- epochs: 6 ----------\n",
      "Training model time: 1.65\n"
     ]
    },
    {
     "name": "stderr",
     "output_type": "stream",
     "text": [
      " 89%|█████████████▎ | 114/128 [44:25<04:25, 18.95s/it]"
     ]
    },
    {
     "name": "stdout",
     "output_type": "stream",
     "text": [
      "Calculating spatial neighbor graph ...\n",
      "The graph contains 229734 edges, 20000 cells.\n",
      "11.4867 neighbors per cell on average.\n",
      "Calculating spatial neighbor graph ...\n",
      "The graph contains 228030 edges, 20000 cells.\n",
      "11.4015 neighbors per cell on average.\n",
      "Use DPCA feature to format graph\n"
     ]
    },
    {
     "name": "stderr",
     "output_type": "stream",
     "text": [
      "/home/ylu/anaconda3/envs/scSLAT/lib/python3.8/site-packages/scanpy/preprocessing/_highly_variable_genes.py:64: UserWarning: `flavor='seurat_v3'` expects raw count data, but non-integers were found.\n",
      "  warnings.warn(\n",
      "/home/ylu/anaconda3/envs/scSLAT/lib/python3.8/site-packages/scanpy/preprocessing/_normalization.py:169: UserWarning: Received a view of an AnnData. Making a copy.\n",
      "  view_to_actual(adata)\n",
      "/home/ylu/anaconda3/envs/scSLAT/lib/python3.8/site-packages/scanpy/preprocessing/_simple.py:843: UserWarning: Received a view of an AnnData. Making a copy.\n",
      "  view_to_actual(adata)\n",
      "/home/ylu/anaconda3/envs/scSLAT/lib/python3.8/site-packages/scanpy/preprocessing/_simple.py:843: UserWarning: Received a view of an AnnData. Making a copy.\n",
      "  view_to_actual(adata)\n"
     ]
    },
    {
     "name": "stdout",
     "output_type": "stream",
     "text": [
      "Warning! Dual PCA is using GPU, which may lead to OUT OF GPU MEMORY in big dataset!\n",
      "Choose GPU:0 as device\n",
      "Running\n",
      "---------- epochs: 1 ----------\n",
      "---------- epochs: 2 ----------\n",
      "---------- epochs: 3 ----------\n",
      "---------- epochs: 4 ----------\n",
      "---------- epochs: 5 ----------\n",
      "---------- epochs: 6 ----------\n",
      "Training model time: 1.65\n"
     ]
    },
    {
     "name": "stderr",
     "output_type": "stream",
     "text": [
      " 90%|█████████████▍ | 115/128 [44:43<04:04, 18.83s/it]"
     ]
    },
    {
     "name": "stdout",
     "output_type": "stream",
     "text": [
      "Calculating spatial neighbor graph ...\n",
      "The graph contains 228200 edges, 20000 cells.\n",
      "11.41 neighbors per cell on average.\n",
      "Calculating spatial neighbor graph ...\n",
      "The graph contains 229724 edges, 20000 cells.\n",
      "11.4862 neighbors per cell on average.\n",
      "Use DPCA feature to format graph\n"
     ]
    },
    {
     "name": "stderr",
     "output_type": "stream",
     "text": [
      "/home/ylu/anaconda3/envs/scSLAT/lib/python3.8/site-packages/scanpy/preprocessing/_highly_variable_genes.py:64: UserWarning: `flavor='seurat_v3'` expects raw count data, but non-integers were found.\n",
      "  warnings.warn(\n",
      "/home/ylu/anaconda3/envs/scSLAT/lib/python3.8/site-packages/scanpy/preprocessing/_normalization.py:169: UserWarning: Received a view of an AnnData. Making a copy.\n",
      "  view_to_actual(adata)\n",
      "/home/ylu/anaconda3/envs/scSLAT/lib/python3.8/site-packages/scanpy/preprocessing/_simple.py:843: UserWarning: Received a view of an AnnData. Making a copy.\n",
      "  view_to_actual(adata)\n",
      "/home/ylu/anaconda3/envs/scSLAT/lib/python3.8/site-packages/scanpy/preprocessing/_simple.py:843: UserWarning: Received a view of an AnnData. Making a copy.\n",
      "  view_to_actual(adata)\n"
     ]
    },
    {
     "name": "stdout",
     "output_type": "stream",
     "text": [
      "Warning! Dual PCA is using GPU, which may lead to OUT OF GPU MEMORY in big dataset!\n",
      "Choose GPU:0 as device\n",
      "Running\n",
      "---------- epochs: 1 ----------\n",
      "---------- epochs: 2 ----------\n",
      "---------- epochs: 3 ----------\n",
      "---------- epochs: 4 ----------\n",
      "---------- epochs: 5 ----------\n",
      "---------- epochs: 6 ----------\n",
      "Training model time: 1.67\n"
     ]
    },
    {
     "name": "stderr",
     "output_type": "stream",
     "text": [
      " 91%|█████████████▌ | 116/128 [45:02<03:47, 18.93s/it]"
     ]
    },
    {
     "name": "stdout",
     "output_type": "stream",
     "text": [
      "Calculating spatial neighbor graph ...\n",
      "The graph contains 230094 edges, 20000 cells.\n",
      "11.5047 neighbors per cell on average.\n",
      "Calculating spatial neighbor graph ...\n",
      "The graph contains 229654 edges, 20000 cells.\n",
      "11.4827 neighbors per cell on average.\n",
      "Use DPCA feature to format graph\n"
     ]
    },
    {
     "name": "stderr",
     "output_type": "stream",
     "text": [
      "/home/ylu/anaconda3/envs/scSLAT/lib/python3.8/site-packages/scanpy/preprocessing/_highly_variable_genes.py:64: UserWarning: `flavor='seurat_v3'` expects raw count data, but non-integers were found.\n",
      "  warnings.warn(\n",
      "/home/ylu/anaconda3/envs/scSLAT/lib/python3.8/site-packages/scanpy/preprocessing/_normalization.py:169: UserWarning: Received a view of an AnnData. Making a copy.\n",
      "  view_to_actual(adata)\n",
      "/home/ylu/anaconda3/envs/scSLAT/lib/python3.8/site-packages/scanpy/preprocessing/_simple.py:843: UserWarning: Received a view of an AnnData. Making a copy.\n",
      "  view_to_actual(adata)\n",
      "/home/ylu/anaconda3/envs/scSLAT/lib/python3.8/site-packages/scanpy/preprocessing/_simple.py:843: UserWarning: Received a view of an AnnData. Making a copy.\n",
      "  view_to_actual(adata)\n"
     ]
    },
    {
     "name": "stdout",
     "output_type": "stream",
     "text": [
      "Warning! Dual PCA is using GPU, which may lead to OUT OF GPU MEMORY in big dataset!\n",
      "Choose GPU:0 as device\n",
      "Running\n",
      "---------- epochs: 1 ----------\n",
      "---------- epochs: 2 ----------\n",
      "---------- epochs: 3 ----------\n",
      "---------- epochs: 4 ----------\n",
      "---------- epochs: 5 ----------\n",
      "---------- epochs: 6 ----------\n",
      "Training model time: 1.66\n"
     ]
    },
    {
     "name": "stderr",
     "output_type": "stream",
     "text": [
      " 91%|█████████████▋ | 117/128 [45:22<03:29, 19.08s/it]"
     ]
    },
    {
     "name": "stdout",
     "output_type": "stream",
     "text": [
      "Calculating spatial neighbor graph ...\n",
      "The graph contains 229760 edges, 20000 cells.\n",
      "11.488 neighbors per cell on average.\n",
      "Calculating spatial neighbor graph ...\n",
      "The graph contains 229740 edges, 20000 cells.\n",
      "11.487 neighbors per cell on average.\n",
      "Use DPCA feature to format graph\n"
     ]
    },
    {
     "name": "stderr",
     "output_type": "stream",
     "text": [
      "/home/ylu/anaconda3/envs/scSLAT/lib/python3.8/site-packages/scanpy/preprocessing/_highly_variable_genes.py:64: UserWarning: `flavor='seurat_v3'` expects raw count data, but non-integers were found.\n",
      "  warnings.warn(\n",
      "/home/ylu/anaconda3/envs/scSLAT/lib/python3.8/site-packages/scanpy/preprocessing/_normalization.py:169: UserWarning: Received a view of an AnnData. Making a copy.\n",
      "  view_to_actual(adata)\n",
      "/home/ylu/anaconda3/envs/scSLAT/lib/python3.8/site-packages/scanpy/preprocessing/_simple.py:843: UserWarning: Received a view of an AnnData. Making a copy.\n",
      "  view_to_actual(adata)\n",
      "/home/ylu/anaconda3/envs/scSLAT/lib/python3.8/site-packages/scanpy/preprocessing/_simple.py:843: UserWarning: Received a view of an AnnData. Making a copy.\n",
      "  view_to_actual(adata)\n"
     ]
    },
    {
     "name": "stdout",
     "output_type": "stream",
     "text": [
      "Warning! Dual PCA is using GPU, which may lead to OUT OF GPU MEMORY in big dataset!\n",
      "Choose GPU:0 as device\n",
      "Running\n",
      "---------- epochs: 1 ----------\n",
      "---------- epochs: 2 ----------\n",
      "---------- epochs: 3 ----------\n",
      "---------- epochs: 4 ----------\n",
      "---------- epochs: 5 ----------\n",
      "---------- epochs: 6 ----------\n",
      "Training model time: 1.69\n"
     ]
    },
    {
     "name": "stderr",
     "output_type": "stream",
     "text": [
      " 92%|█████████████▊ | 118/128 [45:41<03:11, 19.10s/it]"
     ]
    },
    {
     "name": "stdout",
     "output_type": "stream",
     "text": [
      "Calculating spatial neighbor graph ...\n",
      "The graph contains 229878 edges, 20000 cells.\n",
      "11.4939 neighbors per cell on average.\n",
      "Calculating spatial neighbor graph ...\n",
      "The graph contains 227894 edges, 20000 cells.\n",
      "11.3947 neighbors per cell on average.\n",
      "Use DPCA feature to format graph\n"
     ]
    },
    {
     "name": "stderr",
     "output_type": "stream",
     "text": [
      "/home/ylu/anaconda3/envs/scSLAT/lib/python3.8/site-packages/scanpy/preprocessing/_highly_variable_genes.py:64: UserWarning: `flavor='seurat_v3'` expects raw count data, but non-integers were found.\n",
      "  warnings.warn(\n",
      "/home/ylu/anaconda3/envs/scSLAT/lib/python3.8/site-packages/scanpy/preprocessing/_normalization.py:169: UserWarning: Received a view of an AnnData. Making a copy.\n",
      "  view_to_actual(adata)\n",
      "/home/ylu/anaconda3/envs/scSLAT/lib/python3.8/site-packages/scanpy/preprocessing/_simple.py:843: UserWarning: Received a view of an AnnData. Making a copy.\n",
      "  view_to_actual(adata)\n",
      "/home/ylu/anaconda3/envs/scSLAT/lib/python3.8/site-packages/scanpy/preprocessing/_simple.py:843: UserWarning: Received a view of an AnnData. Making a copy.\n",
      "  view_to_actual(adata)\n"
     ]
    },
    {
     "name": "stdout",
     "output_type": "stream",
     "text": [
      "Warning! Dual PCA is using GPU, which may lead to OUT OF GPU MEMORY in big dataset!\n",
      "Choose GPU:0 as device\n",
      "Running\n",
      "---------- epochs: 1 ----------\n",
      "---------- epochs: 2 ----------\n",
      "---------- epochs: 3 ----------\n",
      "---------- epochs: 4 ----------\n",
      "---------- epochs: 5 ----------\n",
      "---------- epochs: 6 ----------\n",
      "Training model time: 1.70\n"
     ]
    },
    {
     "name": "stderr",
     "output_type": "stream",
     "text": [
      " 93%|█████████████▉ | 119/128 [45:59<02:50, 18.97s/it]"
     ]
    },
    {
     "name": "stdout",
     "output_type": "stream",
     "text": [
      "Calculating spatial neighbor graph ...\n",
      "The graph contains 227760 edges, 20000 cells.\n",
      "11.388 neighbors per cell on average.\n",
      "Calculating spatial neighbor graph ...\n",
      "The graph contains 230880 edges, 20000 cells.\n",
      "11.544 neighbors per cell on average.\n",
      "Use DPCA feature to format graph\n"
     ]
    },
    {
     "name": "stderr",
     "output_type": "stream",
     "text": [
      "/home/ylu/anaconda3/envs/scSLAT/lib/python3.8/site-packages/scanpy/preprocessing/_highly_variable_genes.py:64: UserWarning: `flavor='seurat_v3'` expects raw count data, but non-integers were found.\n",
      "  warnings.warn(\n",
      "/home/ylu/anaconda3/envs/scSLAT/lib/python3.8/site-packages/scanpy/preprocessing/_normalization.py:169: UserWarning: Received a view of an AnnData. Making a copy.\n",
      "  view_to_actual(adata)\n",
      "/home/ylu/anaconda3/envs/scSLAT/lib/python3.8/site-packages/scanpy/preprocessing/_simple.py:843: UserWarning: Received a view of an AnnData. Making a copy.\n",
      "  view_to_actual(adata)\n",
      "/home/ylu/anaconda3/envs/scSLAT/lib/python3.8/site-packages/scanpy/preprocessing/_simple.py:843: UserWarning: Received a view of an AnnData. Making a copy.\n",
      "  view_to_actual(adata)\n"
     ]
    },
    {
     "name": "stdout",
     "output_type": "stream",
     "text": [
      "Warning! Dual PCA is using GPU, which may lead to OUT OF GPU MEMORY in big dataset!\n",
      "Choose GPU:0 as device\n",
      "Running\n",
      "---------- epochs: 1 ----------\n",
      "---------- epochs: 2 ----------\n",
      "---------- epochs: 3 ----------\n",
      "---------- epochs: 4 ----------\n",
      "---------- epochs: 5 ----------\n",
      "---------- epochs: 6 ----------\n",
      "Training model time: 1.69\n"
     ]
    },
    {
     "name": "stderr",
     "output_type": "stream",
     "text": [
      " 94%|██████████████ | 120/128 [46:19<02:31, 19.00s/it]"
     ]
    },
    {
     "name": "stdout",
     "output_type": "stream",
     "text": [
      "Calculating spatial neighbor graph ...\n",
      "The graph contains 230948 edges, 20000 cells.\n",
      "11.5474 neighbors per cell on average.\n",
      "Calculating spatial neighbor graph ...\n",
      "The graph contains 230788 edges, 20000 cells.\n",
      "11.5394 neighbors per cell on average.\n",
      "Use DPCA feature to format graph\n"
     ]
    },
    {
     "name": "stderr",
     "output_type": "stream",
     "text": [
      "/home/ylu/anaconda3/envs/scSLAT/lib/python3.8/site-packages/scanpy/preprocessing/_highly_variable_genes.py:64: UserWarning: `flavor='seurat_v3'` expects raw count data, but non-integers were found.\n",
      "  warnings.warn(\n",
      "/home/ylu/anaconda3/envs/scSLAT/lib/python3.8/site-packages/scanpy/preprocessing/_normalization.py:169: UserWarning: Received a view of an AnnData. Making a copy.\n",
      "  view_to_actual(adata)\n",
      "/home/ylu/anaconda3/envs/scSLAT/lib/python3.8/site-packages/scanpy/preprocessing/_simple.py:843: UserWarning: Received a view of an AnnData. Making a copy.\n",
      "  view_to_actual(adata)\n",
      "/home/ylu/anaconda3/envs/scSLAT/lib/python3.8/site-packages/scanpy/preprocessing/_simple.py:843: UserWarning: Received a view of an AnnData. Making a copy.\n",
      "  view_to_actual(adata)\n"
     ]
    },
    {
     "name": "stdout",
     "output_type": "stream",
     "text": [
      "Warning! Dual PCA is using GPU, which may lead to OUT OF GPU MEMORY in big dataset!\n",
      "Choose GPU:0 as device\n",
      "Running\n",
      "---------- epochs: 1 ----------\n",
      "---------- epochs: 2 ----------\n",
      "---------- epochs: 3 ----------\n",
      "---------- epochs: 4 ----------\n",
      "---------- epochs: 5 ----------\n",
      "---------- epochs: 6 ----------\n",
      "Training model time: 1.70\n"
     ]
    },
    {
     "name": "stderr",
     "output_type": "stream",
     "text": [
      " 95%|██████████████▏| 121/128 [46:37<02:12, 18.98s/it]"
     ]
    },
    {
     "name": "stdout",
     "output_type": "stream",
     "text": [
      "Calculating spatial neighbor graph ...\n",
      "The graph contains 230542 edges, 20000 cells.\n",
      "11.5271 neighbors per cell on average.\n",
      "Calculating spatial neighbor graph ...\n",
      "The graph contains 230592 edges, 20000 cells.\n",
      "11.5296 neighbors per cell on average.\n",
      "Use DPCA feature to format graph\n"
     ]
    },
    {
     "name": "stderr",
     "output_type": "stream",
     "text": [
      "/home/ylu/anaconda3/envs/scSLAT/lib/python3.8/site-packages/scanpy/preprocessing/_highly_variable_genes.py:64: UserWarning: `flavor='seurat_v3'` expects raw count data, but non-integers were found.\n",
      "  warnings.warn(\n",
      "/home/ylu/anaconda3/envs/scSLAT/lib/python3.8/site-packages/scanpy/preprocessing/_normalization.py:169: UserWarning: Received a view of an AnnData. Making a copy.\n",
      "  view_to_actual(adata)\n",
      "/home/ylu/anaconda3/envs/scSLAT/lib/python3.8/site-packages/scanpy/preprocessing/_simple.py:843: UserWarning: Received a view of an AnnData. Making a copy.\n",
      "  view_to_actual(adata)\n",
      "/home/ylu/anaconda3/envs/scSLAT/lib/python3.8/site-packages/scanpy/preprocessing/_simple.py:843: UserWarning: Received a view of an AnnData. Making a copy.\n",
      "  view_to_actual(adata)\n"
     ]
    },
    {
     "name": "stdout",
     "output_type": "stream",
     "text": [
      "Warning! Dual PCA is using GPU, which may lead to OUT OF GPU MEMORY in big dataset!\n",
      "Choose GPU:0 as device\n",
      "Running\n",
      "---------- epochs: 1 ----------\n",
      "---------- epochs: 2 ----------\n",
      "---------- epochs: 3 ----------\n",
      "---------- epochs: 4 ----------\n",
      "---------- epochs: 5 ----------\n",
      "---------- epochs: 6 ----------\n",
      "Training model time: 1.65\n"
     ]
    },
    {
     "name": "stderr",
     "output_type": "stream",
     "text": [
      " 95%|██████████████▎| 122/128 [46:56<01:53, 18.96s/it]"
     ]
    },
    {
     "name": "stdout",
     "output_type": "stream",
     "text": [
      "Calculating spatial neighbor graph ...\n",
      "The graph contains 230190 edges, 20000 cells.\n",
      "11.5095 neighbors per cell on average.\n",
      "Calculating spatial neighbor graph ...\n",
      "The graph contains 228044 edges, 20000 cells.\n",
      "11.4022 neighbors per cell on average.\n",
      "Use DPCA feature to format graph\n"
     ]
    },
    {
     "name": "stderr",
     "output_type": "stream",
     "text": [
      "/home/ylu/anaconda3/envs/scSLAT/lib/python3.8/site-packages/scanpy/preprocessing/_highly_variable_genes.py:64: UserWarning: `flavor='seurat_v3'` expects raw count data, but non-integers were found.\n",
      "  warnings.warn(\n",
      "/home/ylu/anaconda3/envs/scSLAT/lib/python3.8/site-packages/scanpy/preprocessing/_normalization.py:169: UserWarning: Received a view of an AnnData. Making a copy.\n",
      "  view_to_actual(adata)\n",
      "/home/ylu/anaconda3/envs/scSLAT/lib/python3.8/site-packages/scanpy/preprocessing/_simple.py:843: UserWarning: Received a view of an AnnData. Making a copy.\n",
      "  view_to_actual(adata)\n",
      "/home/ylu/anaconda3/envs/scSLAT/lib/python3.8/site-packages/scanpy/preprocessing/_simple.py:843: UserWarning: Received a view of an AnnData. Making a copy.\n",
      "  view_to_actual(adata)\n"
     ]
    },
    {
     "name": "stdout",
     "output_type": "stream",
     "text": [
      "Warning! Dual PCA is using GPU, which may lead to OUT OF GPU MEMORY in big dataset!\n",
      "Choose GPU:0 as device\n",
      "Running\n",
      "---------- epochs: 1 ----------\n",
      "---------- epochs: 2 ----------\n",
      "---------- epochs: 3 ----------\n",
      "---------- epochs: 4 ----------\n",
      "---------- epochs: 5 ----------\n",
      "---------- epochs: 6 ----------\n",
      "Training model time: 1.68\n"
     ]
    },
    {
     "name": "stderr",
     "output_type": "stream",
     "text": [
      " 96%|██████████████▍| 123/128 [47:16<01:35, 19.01s/it]"
     ]
    },
    {
     "name": "stdout",
     "output_type": "stream",
     "text": [
      "Calculating spatial neighbor graph ...\n",
      "The graph contains 228022 edges, 20000 cells.\n",
      "11.4011 neighbors per cell on average.\n",
      "Calculating spatial neighbor graph ...\n",
      "The graph contains 229994 edges, 20000 cells.\n",
      "11.4997 neighbors per cell on average.\n",
      "Use DPCA feature to format graph\n"
     ]
    },
    {
     "name": "stderr",
     "output_type": "stream",
     "text": [
      "/home/ylu/anaconda3/envs/scSLAT/lib/python3.8/site-packages/scanpy/preprocessing/_highly_variable_genes.py:64: UserWarning: `flavor='seurat_v3'` expects raw count data, but non-integers were found.\n",
      "  warnings.warn(\n",
      "/home/ylu/anaconda3/envs/scSLAT/lib/python3.8/site-packages/scanpy/preprocessing/_normalization.py:169: UserWarning: Received a view of an AnnData. Making a copy.\n",
      "  view_to_actual(adata)\n",
      "/home/ylu/anaconda3/envs/scSLAT/lib/python3.8/site-packages/scanpy/preprocessing/_simple.py:843: UserWarning: Received a view of an AnnData. Making a copy.\n",
      "  view_to_actual(adata)\n",
      "/home/ylu/anaconda3/envs/scSLAT/lib/python3.8/site-packages/scanpy/preprocessing/_simple.py:843: UserWarning: Received a view of an AnnData. Making a copy.\n",
      "  view_to_actual(adata)\n"
     ]
    },
    {
     "name": "stdout",
     "output_type": "stream",
     "text": [
      "Warning! Dual PCA is using GPU, which may lead to OUT OF GPU MEMORY in big dataset!\n",
      "Choose GPU:0 as device\n",
      "Running\n",
      "---------- epochs: 1 ----------\n",
      "---------- epochs: 2 ----------\n",
      "---------- epochs: 3 ----------\n",
      "---------- epochs: 4 ----------\n",
      "---------- epochs: 5 ----------\n",
      "---------- epochs: 6 ----------\n",
      "Training model time: 1.67\n"
     ]
    },
    {
     "name": "stderr",
     "output_type": "stream",
     "text": [
      " 97%|██████████████▌| 124/128 [47:35<01:16, 19.04s/it]"
     ]
    },
    {
     "name": "stdout",
     "output_type": "stream",
     "text": [
      "Calculating spatial neighbor graph ...\n",
      "The graph contains 229752 edges, 20000 cells.\n",
      "11.4876 neighbors per cell on average.\n",
      "Calculating spatial neighbor graph ...\n",
      "The graph contains 229626 edges, 20000 cells.\n",
      "11.4813 neighbors per cell on average.\n",
      "Use DPCA feature to format graph\n"
     ]
    },
    {
     "name": "stderr",
     "output_type": "stream",
     "text": [
      "/home/ylu/anaconda3/envs/scSLAT/lib/python3.8/site-packages/scanpy/preprocessing/_highly_variable_genes.py:64: UserWarning: `flavor='seurat_v3'` expects raw count data, but non-integers were found.\n",
      "  warnings.warn(\n",
      "/home/ylu/anaconda3/envs/scSLAT/lib/python3.8/site-packages/scanpy/preprocessing/_normalization.py:169: UserWarning: Received a view of an AnnData. Making a copy.\n",
      "  view_to_actual(adata)\n",
      "/home/ylu/anaconda3/envs/scSLAT/lib/python3.8/site-packages/scanpy/preprocessing/_simple.py:843: UserWarning: Received a view of an AnnData. Making a copy.\n",
      "  view_to_actual(adata)\n",
      "/home/ylu/anaconda3/envs/scSLAT/lib/python3.8/site-packages/scanpy/preprocessing/_simple.py:843: UserWarning: Received a view of an AnnData. Making a copy.\n",
      "  view_to_actual(adata)\n"
     ]
    },
    {
     "name": "stdout",
     "output_type": "stream",
     "text": [
      "Warning! Dual PCA is using GPU, which may lead to OUT OF GPU MEMORY in big dataset!\n",
      "Choose GPU:0 as device\n",
      "Running\n",
      "---------- epochs: 1 ----------\n",
      "---------- epochs: 2 ----------\n",
      "---------- epochs: 3 ----------\n",
      "---------- epochs: 4 ----------\n",
      "---------- epochs: 5 ----------\n",
      "---------- epochs: 6 ----------\n",
      "Training model time: 1.69\n"
     ]
    },
    {
     "name": "stderr",
     "output_type": "stream",
     "text": [
      " 98%|██████████████▋| 125/128 [47:54<00:57, 19.05s/it]"
     ]
    },
    {
     "name": "stdout",
     "output_type": "stream",
     "text": [
      "Calculating spatial neighbor graph ...\n",
      "The graph contains 229532 edges, 20000 cells.\n",
      "11.4766 neighbors per cell on average.\n",
      "Calculating spatial neighbor graph ...\n",
      "The graph contains 230844 edges, 20000 cells.\n",
      "11.5422 neighbors per cell on average.\n",
      "Use DPCA feature to format graph\n"
     ]
    },
    {
     "name": "stderr",
     "output_type": "stream",
     "text": [
      "/home/ylu/anaconda3/envs/scSLAT/lib/python3.8/site-packages/scanpy/preprocessing/_highly_variable_genes.py:64: UserWarning: `flavor='seurat_v3'` expects raw count data, but non-integers were found.\n",
      "  warnings.warn(\n",
      "/home/ylu/anaconda3/envs/scSLAT/lib/python3.8/site-packages/scanpy/preprocessing/_normalization.py:169: UserWarning: Received a view of an AnnData. Making a copy.\n",
      "  view_to_actual(adata)\n",
      "/home/ylu/anaconda3/envs/scSLAT/lib/python3.8/site-packages/scanpy/preprocessing/_simple.py:843: UserWarning: Received a view of an AnnData. Making a copy.\n",
      "  view_to_actual(adata)\n",
      "/home/ylu/anaconda3/envs/scSLAT/lib/python3.8/site-packages/scanpy/preprocessing/_simple.py:843: UserWarning: Received a view of an AnnData. Making a copy.\n",
      "  view_to_actual(adata)\n"
     ]
    },
    {
     "name": "stdout",
     "output_type": "stream",
     "text": [
      "Warning! Dual PCA is using GPU, which may lead to OUT OF GPU MEMORY in big dataset!\n",
      "Choose GPU:0 as device\n",
      "Running\n",
      "---------- epochs: 1 ----------\n",
      "---------- epochs: 2 ----------\n",
      "---------- epochs: 3 ----------\n",
      "---------- epochs: 4 ----------\n",
      "---------- epochs: 5 ----------\n",
      "---------- epochs: 6 ----------\n",
      "Training model time: 1.66\n"
     ]
    },
    {
     "name": "stderr",
     "output_type": "stream",
     "text": [
      " 98%|██████████████▊| 126/128 [48:12<00:37, 18.92s/it]"
     ]
    },
    {
     "name": "stdout",
     "output_type": "stream",
     "text": [
      "Calculating spatial neighbor graph ...\n",
      "The graph contains 230624 edges, 20000 cells.\n",
      "11.5312 neighbors per cell on average.\n",
      "Calculating spatial neighbor graph ...\n",
      "The graph contains 193153 edges, 16887 cells.\n",
      "11.437970036122461 neighbors per cell on average.\n",
      "Use DPCA feature to format graph\n"
     ]
    },
    {
     "name": "stderr",
     "output_type": "stream",
     "text": [
      "/home/ylu/anaconda3/envs/scSLAT/lib/python3.8/site-packages/scanpy/preprocessing/_highly_variable_genes.py:64: UserWarning: `flavor='seurat_v3'` expects raw count data, but non-integers were found.\n",
      "  warnings.warn(\n",
      "/home/ylu/anaconda3/envs/scSLAT/lib/python3.8/site-packages/scanpy/preprocessing/_normalization.py:169: UserWarning: Received a view of an AnnData. Making a copy.\n",
      "  view_to_actual(adata)\n",
      "/home/ylu/anaconda3/envs/scSLAT/lib/python3.8/site-packages/scanpy/preprocessing/_simple.py:843: UserWarning: Received a view of an AnnData. Making a copy.\n",
      "  view_to_actual(adata)\n",
      "/home/ylu/anaconda3/envs/scSLAT/lib/python3.8/site-packages/scanpy/preprocessing/_simple.py:843: UserWarning: Received a view of an AnnData. Making a copy.\n",
      "  view_to_actual(adata)\n"
     ]
    },
    {
     "name": "stdout",
     "output_type": "stream",
     "text": [
      "Warning! Dual PCA is using GPU, which may lead to OUT OF GPU MEMORY in big dataset!\n",
      "Choose GPU:0 as device\n",
      "Running\n",
      "---------- epochs: 1 ----------\n",
      "---------- epochs: 2 ----------\n",
      "---------- epochs: 3 ----------\n",
      "---------- epochs: 4 ----------\n",
      "---------- epochs: 5 ----------\n",
      "---------- epochs: 6 ----------\n",
      "Training model time: 1.52\n"
     ]
    },
    {
     "name": "stderr",
     "output_type": "stream",
     "text": [
      " 99%|██████████████▉| 127/128 [48:29<00:18, 18.39s/it]"
     ]
    },
    {
     "name": "stdout",
     "output_type": "stream",
     "text": [
      "Calculating spatial neighbor graph ...\n",
      "The graph contains 193153 edges, 16887 cells.\n",
      "11.437970036122461 neighbors per cell on average.\n",
      "Calculating spatial neighbor graph ...\n",
      "The graph contains 157573 edges, 13675 cells.\n",
      "11.522705667276051 neighbors per cell on average.\n",
      "Use DPCA feature to format graph\n"
     ]
    },
    {
     "name": "stderr",
     "output_type": "stream",
     "text": [
      "/home/ylu/anaconda3/envs/scSLAT/lib/python3.8/site-packages/scanpy/preprocessing/_highly_variable_genes.py:64: UserWarning: `flavor='seurat_v3'` expects raw count data, but non-integers were found.\n",
      "  warnings.warn(\n",
      "/home/ylu/anaconda3/envs/scSLAT/lib/python3.8/site-packages/scanpy/preprocessing/_normalization.py:169: UserWarning: Received a view of an AnnData. Making a copy.\n",
      "  view_to_actual(adata)\n",
      "/home/ylu/anaconda3/envs/scSLAT/lib/python3.8/site-packages/scanpy/preprocessing/_simple.py:843: UserWarning: Received a view of an AnnData. Making a copy.\n",
      "  view_to_actual(adata)\n",
      "/home/ylu/anaconda3/envs/scSLAT/lib/python3.8/site-packages/scanpy/preprocessing/_simple.py:843: UserWarning: Received a view of an AnnData. Making a copy.\n",
      "  view_to_actual(adata)\n"
     ]
    },
    {
     "name": "stdout",
     "output_type": "stream",
     "text": [
      "Warning! Dual PCA is using GPU, which may lead to OUT OF GPU MEMORY in big dataset!\n",
      "Choose GPU:0 as device\n",
      "Running\n",
      "---------- epochs: 1 ----------\n",
      "---------- epochs: 2 ----------\n",
      "---------- epochs: 3 ----------\n",
      "---------- epochs: 4 ----------\n",
      "---------- epochs: 5 ----------\n",
      "---------- epochs: 6 ----------\n",
      "Training model time: 1.28\n"
     ]
    },
    {
     "name": "stderr",
     "output_type": "stream",
     "text": [
      "100%|███████████████| 128/128 [48:43<00:00, 22.84s/it]\n"
     ]
    }
   ],
   "source": [
    "## Perform the SLAT alignment\n",
    "sampling_num = 20000\n",
    "for i in tqdm(range(len(slices)-1)):\n",
    "    slice1, slice2 = slices[i].copy(), slices[i+1].copy()\n",
    "    sampline_idx1 = np.random.choice(slice1.shape[0], sampling_num, replace=False) if slice1.shape[0] > sampling_num else np.arange(slice1.shape[0])\n",
    "    sampline_idx2 = np.random.choice(slice2.shape[0], sampling_num, replace=False) if slice2.shape[0] > sampling_num else np.arange(slice2.shape[0])\n",
    "    slice1 = slice1[sampline_idx1,:]\n",
    "    slice2 = slice2[sampline_idx2,:]\n",
    "    time_start = time.time()\n",
    "    align_slices, pis = slat_align(\n",
    "        models = [slice1, slice2],\n",
    "        spatial_key=spatial_key,\n",
    "        key_added=key_added,\n",
    "    )\n",
    "    time_end = time.time()\n",
    "    matches = pis\n",
    "    R, t=solve_RT_by_correspondence(align_slices[1].obsm[key_added], align_slices[1].obsm[spatial_key])\n",
    "    alignment_results = {'sampling_idx1': sampline_idx1, 'sampline_idx2': sampline_idx2, 'R': R, 't': t, 'matches': matches, 'time': time_end - time_start}\n",
    "    np.save(os.path.join(results_folder, f\"slice_{i}_{i+1}_sampling_{sampling_num}.npy\"), alignment_results, allow_pickle=True)"
   ]
  },
  {
   "cell_type": "code",
   "execution_count": null,
   "id": "ab0e97a4-3443-4be3-a253-9957d268123b",
   "metadata": {},
   "outputs": [],
   "source": []
  }
 ],
 "metadata": {
  "kernelspec": {
   "display_name": "SLAT",
   "language": "python",
   "name": "slat"
  },
  "language_info": {
   "codemirror_mode": {
    "name": "ipython",
    "version": 3
   },
   "file_extension": ".py",
   "mimetype": "text/x-python",
   "name": "python",
   "nbconvert_exporter": "python",
   "pygments_lexer": "ipython3",
   "version": "3.8.19"
  }
 },
 "nbformat": 4,
 "nbformat_minor": 5
}
