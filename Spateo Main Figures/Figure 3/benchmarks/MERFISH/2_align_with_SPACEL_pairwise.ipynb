{
 "cells": [
  {
   "cell_type": "code",
   "execution_count": 1,
   "id": "0908cd60-618c-42e7-9854-9713751acdda",
   "metadata": {},
   "outputs": [
    {
     "name": "stderr",
     "output_type": "stream",
     "text": [
      "/home/ylu/anaconda3/envs/SPACEL/lib/python3.8/site-packages/tqdm/auto.py:21: TqdmWarning: IProgress not found. Please update jupyter and ipywidgets. See https://ipywidgets.readthedocs.io/en/stable/user_install.html\n",
      "  from .autonotebook import tqdm as notebook_tqdm\n"
     ]
    }
   ],
   "source": [
    "import os\n",
    "os.environ['CUDA_VISIBLE_DEVICES'] = '0'\n",
    "import sys\n",
    "from pathlib import Path\n",
    "import anndata as ad\n",
    "import scanpy as sc\n",
    "import numpy as np\n",
    "import warnings\n",
    "warnings.simplefilter(action='ignore', category=FutureWarning)\n",
    "import seaborn as sns\n",
    "from matplotlib import pyplot as plt\n",
    "\n",
    "sys.path.insert(0, \"/home/ylu/project\")\n",
    "from utils import *\n",
    "import time\n",
    "\n",
    "%load_ext autoreload\n",
    "%autoreload 2"
   ]
  },
  {
   "cell_type": "code",
   "execution_count": 2,
   "id": "c3bebab7-7b27-4563-b7b8-168fa5f7b483",
   "metadata": {},
   "outputs": [],
   "source": [
    "import SPACEL\n",
    "from SPACEL import Scube, Splane"
   ]
  },
  {
   "cell_type": "code",
   "execution_count": 3,
   "id": "e7b47bc4-0453-474d-a39f-aa14ed636caa",
   "metadata": {},
   "outputs": [],
   "source": [
    "data_folder = \"./results/split_slices_CCF/\"\n",
    "results_folder = \"./results/SPACEL/\"\n",
    "cache_folder = os.path.join(results_folder, 'Scube_outputs')\n",
    "figures_folder = \"./results/figures/SPACEL\"\n",
    "Path(results_folder).mkdir(parents=True, exist_ok=True)\n",
    "Path(cache_folder).mkdir(parents=True, exist_ok=True)"
   ]
  },
  {
   "cell_type": "code",
   "execution_count": 4,
   "id": "8365d98e-2cba-48d3-abfa-ad42087a9484",
   "metadata": {},
   "outputs": [],
   "source": [
    "import re\n",
    "def list_and_sort_files_by_number(directory_path, suffix):\n",
    "    def extract_number(filename):\n",
    "        match = re.search(r'\\d+', filename)\n",
    "        return int(match.group()) if match else float('inf')\n",
    "    try:\n",
    "        files = [f for f in os.listdir(directory_path) if f.endswith(suffix)]\n",
    "        sorted_files = sorted(files, key=extract_number)\n",
    "        return sorted_files\n",
    "    except FileNotFoundError:\n",
    "        return f\"The directory {directory_path} does not exist.\"\n",
    "    except NotADirectoryError:\n",
    "        return f\"The path {directory_path} is not a directory.\"\n",
    "    except PermissionError:\n",
    "        return f\"Permission denied to access {directory_path}.\"\n",
    "\n",
    "directory_path = data_folder\n",
    "sorted_files = list_and_sort_files_by_number(directory_path, '.h5ad')"
   ]
  },
  {
   "cell_type": "code",
   "execution_count": 5,
   "id": "dea7abee-5509-4d87-8b86-19fb460fcb84",
   "metadata": {},
   "outputs": [
    {
     "name": "stderr",
     "output_type": "stream",
     "text": [
      "100%|██████████████████████████████████████████████████████████████████████████████████████████████████████████████████████████████████████████| 129/129 [00:21<00:00,  6.01it/s]\n"
     ]
    }
   ],
   "source": [
    "## load the data\n",
    "from tqdm import tqdm\n",
    "slices = []\n",
    "for f in tqdm(sorted_files):\n",
    "    slices.append(ad.read_h5ad(os.path.join(data_folder, f)))"
   ]
  },
  {
   "cell_type": "code",
   "execution_count": 6,
   "id": "24840e17-a7da-4938-8e80-c4d7993303be",
   "metadata": {},
   "outputs": [],
   "source": [
    "spatial_key = \"spatial_2D\"\n",
    "anno_key = \"cell_type\""
   ]
  },
  {
   "cell_type": "code",
   "execution_count": 7,
   "id": "1bf95a00-6497-41f2-959f-fd6b207731c0",
   "metadata": {},
   "outputs": [],
   "source": [
    "## Rotate the data\n",
    "rotate_key = \"spatial_rot\"\n",
    "rotations = np.load(\"./results/random_rotations.npy\", allow_pickle=True)\n",
    "for i in range(len(slices)):\n",
    "    slices[i].obsm[rotate_key] = slices[i].obsm[spatial_key][:,:2].copy()\n",
    "    mean = np.mean(slices[i].obsm[rotate_key], axis=0)\n",
    "    slices[i].obsm[rotate_key] = slices[i].obsm[rotate_key] - mean\n",
    "    slices[i].obsm[rotate_key] = slices[i].obsm[rotate_key] @ rotations[i].T + mean\n",
    "    "
   ]
  },
  {
   "cell_type": "code",
   "execution_count": 8,
   "id": "3e3a25fd-c7b7-4bcf-bd2f-214badbcbbaa",
   "metadata": {},
   "outputs": [],
   "source": [
    "spatial_key = \"spatial_rot\"\n",
    "key_added = \"aligned_spatial\""
   ]
  },
  {
   "cell_type": "code",
   "execution_count": null,
   "id": "4d4bce49-e6f9-40da-8186-ac93595f278b",
   "metadata": {},
   "outputs": [
    {
     "name": "stderr",
     "output_type": "stream",
     "text": [
      "  0%|                                                                                                                                                    | 0/128 [00:00<?, ?it/s]"
     ]
    },
    {
     "name": "stdout",
     "output_type": "stream",
     "text": [
      "Start alignment...\n",
      "Alignment slice 1 to 0\n",
      "Runtime: 116.85499405860901 s\n"
     ]
    },
    {
     "name": "stderr",
     "output_type": "stream",
     "text": [
      "  1%|█                                                                                                                                        | 1/128 [01:57<4:08:29, 117.40s/it]"
     ]
    },
    {
     "name": "stdout",
     "output_type": "stream",
     "text": [
      "Start alignment...\n",
      "Alignment slice 1 to 0\n",
      "Runtime: 140.50157165527344 s\n"
     ]
    },
    {
     "name": "stderr",
     "output_type": "stream",
     "text": [
      "  2%|██▏                                                                                                                                      | 2/128 [04:18<4:35:39, 131.27s/it]"
     ]
    },
    {
     "name": "stdout",
     "output_type": "stream",
     "text": [
      "Start alignment...\n",
      "Alignment slice 1 to 0\n",
      "Runtime: 129.177747964859 s\n"
     ]
    },
    {
     "name": "stderr",
     "output_type": "stream",
     "text": [
      "  2%|███▏                                                                                                                                     | 3/128 [06:28<4:32:00, 130.56s/it]"
     ]
    },
    {
     "name": "stdout",
     "output_type": "stream",
     "text": [
      "Start alignment...\n",
      "Alignment slice 1 to 0\n",
      "Runtime: 141.65221428871155 s\n"
     ]
    },
    {
     "name": "stderr",
     "output_type": "stream",
     "text": [
      "  3%|████▎                                                                                                                                    | 4/128 [08:50<4:39:24, 135.20s/it]"
     ]
    },
    {
     "name": "stdout",
     "output_type": "stream",
     "text": [
      "Start alignment...\n",
      "Alignment slice 1 to 0\n",
      "Runtime: 131.80328130722046 s\n"
     ]
    },
    {
     "name": "stderr",
     "output_type": "stream",
     "text": [
      "  4%|█████▎                                                                                                                                   | 5/128 [11:02<4:35:06, 134.20s/it]"
     ]
    },
    {
     "name": "stdout",
     "output_type": "stream",
     "text": [
      "Start alignment...\n",
      "Alignment slice 1 to 0\n",
      "Runtime: 150.73034477233887 s\n"
     ]
    },
    {
     "name": "stderr",
     "output_type": "stream",
     "text": [
      "  5%|██████▍                                                                                                                                  | 6/128 [13:34<4:44:48, 140.07s/it]"
     ]
    },
    {
     "name": "stdout",
     "output_type": "stream",
     "text": [
      "Start alignment...\n",
      "Alignment slice 1 to 0\n",
      "Runtime: 134.51090502738953 s\n"
     ]
    },
    {
     "name": "stderr",
     "output_type": "stream",
     "text": [
      "  5%|███████▍                                                                                                                                 | 7/128 [15:49<4:39:08, 138.42s/it]"
     ]
    },
    {
     "name": "stdout",
     "output_type": "stream",
     "text": [
      "Start alignment...\n",
      "Alignment slice 1 to 0\n",
      "Runtime: 159.34040594100952 s\n"
     ]
    },
    {
     "name": "stderr",
     "output_type": "stream",
     "text": [
      "  6%|████████▌                                                                                                                                | 8/128 [18:29<4:50:39, 145.33s/it]"
     ]
    },
    {
     "name": "stdout",
     "output_type": "stream",
     "text": [
      "Start alignment...\n",
      "Alignment slice 1 to 0\n",
      "Runtime: 154.27243304252625 s\n"
     ]
    },
    {
     "name": "stderr",
     "output_type": "stream",
     "text": [
      "  7%|█████████▋                                                                                                                               | 9/128 [21:04<4:54:18, 148.39s/it]"
     ]
    },
    {
     "name": "stdout",
     "output_type": "stream",
     "text": [
      "Start alignment...\n",
      "Alignment slice 1 to 0\n",
      "Runtime: 139.58998584747314 s\n"
     ]
    },
    {
     "name": "stderr",
     "output_type": "stream",
     "text": [
      "  8%|██████████▋                                                                                                                             | 10/128 [23:24<4:46:56, 145.90s/it]"
     ]
    },
    {
     "name": "stdout",
     "output_type": "stream",
     "text": [
      "Start alignment...\n",
      "Alignment slice 1 to 0\n",
      "Runtime: 177.74226808547974 s\n"
     ]
    },
    {
     "name": "stderr",
     "output_type": "stream",
     "text": [
      "  9%|███████████▋                                                                                                                            | 11/128 [26:23<5:03:59, 155.89s/it]"
     ]
    },
    {
     "name": "stdout",
     "output_type": "stream",
     "text": [
      "Start alignment...\n",
      "Alignment slice 1 to 0\n",
      "Runtime: 160.51442074775696 s\n"
     ]
    },
    {
     "name": "stderr",
     "output_type": "stream",
     "text": [
      "  9%|████████████▊                                                                                                                           | 12/128 [29:04<5:04:27, 157.48s/it]"
     ]
    },
    {
     "name": "stdout",
     "output_type": "stream",
     "text": [
      "Start alignment...\n",
      "Alignment slice 1 to 0\n",
      "Runtime: 146.8758418560028 s\n"
     ]
    },
    {
     "name": "stderr",
     "output_type": "stream",
     "text": [
      " 10%|█████████████▊                                                                                                                          | 13/128 [31:32<4:56:10, 154.53s/it]"
     ]
    },
    {
     "name": "stdout",
     "output_type": "stream",
     "text": [
      "Start alignment...\n",
      "Alignment slice 1 to 0\n",
      "Runtime: 127.11670017242432 s\n"
     ]
    },
    {
     "name": "stderr",
     "output_type": "stream",
     "text": [
      " 11%|██████████████▉                                                                                                                         | 14/128 [33:39<4:38:11, 146.42s/it]"
     ]
    },
    {
     "name": "stdout",
     "output_type": "stream",
     "text": [
      "Start alignment...\n",
      "Alignment slice 1 to 0\n",
      "Runtime: 125.28746128082275 s\n"
     ]
    },
    {
     "name": "stderr",
     "output_type": "stream",
     "text": [
      " 12%|███████████████▉                                                                                                                        | 15/128 [35:45<4:24:02, 140.20s/it]"
     ]
    },
    {
     "name": "stdout",
     "output_type": "stream",
     "text": [
      "Start alignment...\n",
      "Alignment slice 1 to 0\n",
      "Runtime: 127.39071798324585 s\n"
     ]
    },
    {
     "name": "stderr",
     "output_type": "stream",
     "text": [
      " 12%|█████████████████                                                                                                                       | 16/128 [37:53<4:14:45, 136.48s/it]"
     ]
    },
    {
     "name": "stdout",
     "output_type": "stream",
     "text": [
      "Start alignment...\n",
      "Alignment slice 1 to 0\n",
      "Runtime: 122.32904720306396 s\n"
     ]
    },
    {
     "name": "stderr",
     "output_type": "stream",
     "text": [
      " 13%|██████████████████                                                                                                                      | 17/128 [39:56<4:04:50, 132.34s/it]"
     ]
    },
    {
     "name": "stdout",
     "output_type": "stream",
     "text": [
      "Start alignment...\n",
      "Alignment slice 1 to 0\n",
      "Runtime: 123.67253732681274 s\n"
     ]
    },
    {
     "name": "stderr",
     "output_type": "stream",
     "text": [
      " 14%|███████████████████▏                                                                                                                    | 18/128 [42:00<3:58:15, 129.96s/it]"
     ]
    },
    {
     "name": "stdout",
     "output_type": "stream",
     "text": [
      "Start alignment...\n",
      "Alignment slice 1 to 0\n",
      "Runtime: 136.12168383598328 s\n"
     ]
    },
    {
     "name": "stderr",
     "output_type": "stream",
     "text": [
      " 15%|████████████████████▏                                                                                                                   | 19/128 [44:17<3:59:41, 131.94s/it]"
     ]
    },
    {
     "name": "stdout",
     "output_type": "stream",
     "text": [
      "Start alignment...\n",
      "Alignment slice 1 to 0\n",
      "Runtime: 175.27605938911438 s\n"
     ]
    },
    {
     "name": "stderr",
     "output_type": "stream",
     "text": [
      " 16%|█████████████████████▎                                                                                                                  | 20/128 [47:13<4:21:12, 145.12s/it]"
     ]
    },
    {
     "name": "stdout",
     "output_type": "stream",
     "text": [
      "Start alignment...\n",
      "Alignment slice 1 to 0\n",
      "Runtime: 133.5315980911255 s\n"
     ]
    },
    {
     "name": "stderr",
     "output_type": "stream",
     "text": [
      " 16%|██████████████████████▎                                                                                                                 | 21/128 [49:27<4:12:53, 141.81s/it]"
     ]
    },
    {
     "name": "stdout",
     "output_type": "stream",
     "text": [
      "Start alignment...\n",
      "Alignment slice 1 to 0\n",
      "Runtime: 142.8282389640808 s\n"
     ]
    },
    {
     "name": "stderr",
     "output_type": "stream",
     "text": [
      " 17%|███████████████████████▍                                                                                                                | 22/128 [51:50<4:11:27, 142.33s/it]"
     ]
    },
    {
     "name": "stdout",
     "output_type": "stream",
     "text": [
      "Start alignment...\n",
      "Alignment slice 1 to 0\n",
      "Runtime: 127.2673966884613 s\n"
     ]
    },
    {
     "name": "stderr",
     "output_type": "stream",
     "text": [
      " 18%|████████████████████████▍                                                                                                               | 23/128 [53:58<4:01:36, 138.06s/it]"
     ]
    },
    {
     "name": "stdout",
     "output_type": "stream",
     "text": [
      "Start alignment...\n",
      "Alignment slice 1 to 0\n",
      "Runtime: 131.78847646713257 s\n"
     ]
    },
    {
     "name": "stderr",
     "output_type": "stream",
     "text": [
      " 19%|█████████████████████████▌                                                                                                              | 24/128 [56:11<3:56:19, 136.34s/it]"
     ]
    },
    {
     "name": "stdout",
     "output_type": "stream",
     "text": [
      "Start alignment...\n",
      "Alignment slice 1 to 0\n",
      "Runtime: 127.82064628601074 s\n"
     ]
    },
    {
     "name": "stderr",
     "output_type": "stream",
     "text": [
      " 20%|██████████████████████████▌                                                                                                             | 25/128 [58:19<3:49:56, 133.94s/it]"
     ]
    },
    {
     "name": "stdout",
     "output_type": "stream",
     "text": [
      "Start alignment...\n",
      "Alignment slice 1 to 0\n",
      "Runtime: 124.4524290561676 s\n"
     ]
    },
    {
     "name": "stderr",
     "output_type": "stream",
     "text": [
      " 20%|███████████████████████████▏                                                                                                          | 26/128 [1:00:24<3:43:08, 131.26s/it]"
     ]
    },
    {
     "name": "stdout",
     "output_type": "stream",
     "text": [
      "Start alignment...\n",
      "Alignment slice 1 to 0\n",
      "Runtime: 107.16286420822144 s\n"
     ]
    },
    {
     "name": "stderr",
     "output_type": "stream",
     "text": [
      " 21%|████████████████████████████▎                                                                                                         | 27/128 [1:02:12<3:29:03, 124.20s/it]"
     ]
    },
    {
     "name": "stdout",
     "output_type": "stream",
     "text": [
      "Start alignment...\n",
      "Alignment slice 1 to 0\n",
      "Runtime: 126.40453720092773 s\n"
     ]
    },
    {
     "name": "stderr",
     "output_type": "stream",
     "text": [
      " 22%|█████████████████████████████▎                                                                                                        | 28/128 [1:04:19<3:28:23, 125.03s/it]"
     ]
    },
    {
     "name": "stdout",
     "output_type": "stream",
     "text": [
      "Start alignment...\n",
      "Alignment slice 1 to 0\n",
      "Runtime: 144.82391357421875 s\n"
     ]
    },
    {
     "name": "stderr",
     "output_type": "stream",
     "text": [
      " 23%|██████████████████████████████▎                                                                                                       | 29/128 [1:06:44<3:36:22, 131.14s/it]"
     ]
    },
    {
     "name": "stdout",
     "output_type": "stream",
     "text": [
      "Start alignment...\n",
      "Alignment slice 1 to 0\n",
      "Runtime: 151.15032958984375 s\n"
     ]
    },
    {
     "name": "stderr",
     "output_type": "stream",
     "text": [
      " 23%|███████████████████████████████▍                                                                                                      | 30/128 [1:09:16<3:44:21, 137.36s/it]"
     ]
    },
    {
     "name": "stdout",
     "output_type": "stream",
     "text": [
      "Start alignment...\n",
      "Alignment slice 1 to 0\n",
      "Runtime: 153.3892924785614 s\n"
     ]
    },
    {
     "name": "stderr",
     "output_type": "stream",
     "text": [
      " 24%|████████████████████████████████▍                                                                                                     | 31/128 [1:11:50<3:50:09, 142.37s/it]"
     ]
    },
    {
     "name": "stdout",
     "output_type": "stream",
     "text": [
      "Start alignment...\n",
      "Alignment slice 1 to 0\n",
      "Runtime: 154.22010731697083 s\n"
     ]
    },
    {
     "name": "stderr",
     "output_type": "stream",
     "text": [
      " 25%|█████████████████████████████████▌                                                                                                    | 32/128 [1:14:25<3:53:50, 146.15s/it]"
     ]
    },
    {
     "name": "stdout",
     "output_type": "stream",
     "text": [
      "Start alignment...\n",
      "Alignment slice 1 to 0\n",
      "Runtime: 177.97542572021484 s\n"
     ]
    },
    {
     "name": "stderr",
     "output_type": "stream",
     "text": [
      " 26%|██████████████████████████████████▌                                                                                                   | 33/128 [1:17:24<4:06:59, 155.99s/it]"
     ]
    },
    {
     "name": "stdout",
     "output_type": "stream",
     "text": [
      "Start alignment...\n",
      "Alignment slice 1 to 0\n",
      "Runtime: 156.27204298973083 s\n"
     ]
    },
    {
     "name": "stderr",
     "output_type": "stream",
     "text": [
      " 27%|███████████████████████████████████▌                                                                                                  | 34/128 [1:20:01<4:04:55, 156.33s/it]"
     ]
    },
    {
     "name": "stdout",
     "output_type": "stream",
     "text": [
      "Start alignment...\n",
      "Alignment slice 1 to 0\n",
      "Runtime: 155.9396777153015 s\n"
     ]
    },
    {
     "name": "stderr",
     "output_type": "stream",
     "text": [
      " 27%|████████████████████████████████████▋                                                                                                 | 35/128 [1:22:38<4:02:30, 156.46s/it]"
     ]
    },
    {
     "name": "stdout",
     "output_type": "stream",
     "text": [
      "Start alignment...\n",
      "Alignment slice 1 to 0\n",
      "Runtime: 145.63939595222473 s\n"
     ]
    },
    {
     "name": "stderr",
     "output_type": "stream",
     "text": [
      " 28%|█████████████████████████████████████▋                                                                                                | 36/128 [1:25:05<3:55:24, 153.53s/it]"
     ]
    },
    {
     "name": "stdout",
     "output_type": "stream",
     "text": [
      "Start alignment...\n",
      "Alignment slice 1 to 0\n",
      "Runtime: 151.7986409664154 s\n"
     ]
    },
    {
     "name": "stderr",
     "output_type": "stream",
     "text": [
      " 29%|██████████████████████████████████████▋                                                                                               | 37/128 [1:27:37<3:52:30, 153.30s/it]"
     ]
    },
    {
     "name": "stdout",
     "output_type": "stream",
     "text": [
      "Start alignment...\n",
      "Alignment slice 1 to 0\n",
      "Runtime: 161.93784999847412 s\n"
     ]
    },
    {
     "name": "stderr",
     "output_type": "stream",
     "text": [
      " 30%|███████████████████████████████████████▊                                                                                              | 38/128 [1:30:20<3:54:13, 156.15s/it]"
     ]
    },
    {
     "name": "stdout",
     "output_type": "stream",
     "text": [
      "Start alignment...\n",
      "Alignment slice 1 to 0\n",
      "Runtime: 142.21796584129333 s\n"
     ]
    },
    {
     "name": "stderr",
     "output_type": "stream",
     "text": [
      " 30%|████████████████████████████████████████▊                                                                                             | 39/128 [1:32:43<3:45:47, 152.22s/it]"
     ]
    },
    {
     "name": "stdout",
     "output_type": "stream",
     "text": [
      "Start alignment...\n",
      "Alignment slice 1 to 0\n",
      "Runtime: 158.37799549102783 s\n"
     ]
    },
    {
     "name": "stderr",
     "output_type": "stream",
     "text": [
      " 31%|█████████████████████████████████████████▉                                                                                            | 40/128 [1:35:23<3:46:25, 154.38s/it]"
     ]
    },
    {
     "name": "stdout",
     "output_type": "stream",
     "text": [
      "Start alignment...\n",
      "Alignment slice 1 to 0\n",
      "Runtime: 161.2471194267273 s\n"
     ]
    },
    {
     "name": "stderr",
     "output_type": "stream",
     "text": [
      " 32%|██████████████████████████████████████████▉                                                                                           | 41/128 [1:38:05<3:47:33, 156.94s/it]"
     ]
    },
    {
     "name": "stdout",
     "output_type": "stream",
     "text": [
      "Start alignment...\n",
      "Alignment slice 1 to 0\n",
      "Runtime: 161.87156176567078 s\n"
     ]
    },
    {
     "name": "stderr",
     "output_type": "stream",
     "text": [
      " 33%|███████████████████████████████████████████▉                                                                                          | 42/128 [1:40:48<3:47:28, 158.71s/it]"
     ]
    },
    {
     "name": "stdout",
     "output_type": "stream",
     "text": [
      "Start alignment...\n",
      "Alignment slice 1 to 0\n",
      "Runtime: 169.933260679245 s\n"
     ]
    },
    {
     "name": "stderr",
     "output_type": "stream",
     "text": [
      " 34%|█████████████████████████████████████████████                                                                                         | 43/128 [1:43:39<3:49:58, 162.34s/it]"
     ]
    },
    {
     "name": "stdout",
     "output_type": "stream",
     "text": [
      "Start alignment...\n",
      "Alignment slice 1 to 0\n",
      "Runtime: 151.87524342536926 s\n"
     ]
    },
    {
     "name": "stderr",
     "output_type": "stream",
     "text": [
      " 34%|██████████████████████████████████████████████                                                                                        | 44/128 [1:46:12<3:43:12, 159.43s/it]"
     ]
    },
    {
     "name": "stdout",
     "output_type": "stream",
     "text": [
      "Start alignment...\n",
      "Alignment slice 1 to 0\n",
      "Runtime: 161.87048411369324 s\n"
     ]
    },
    {
     "name": "stderr",
     "output_type": "stream",
     "text": [
      " 35%|███████████████████████████████████████████████                                                                                       | 45/128 [1:48:54<3:41:51, 160.38s/it]"
     ]
    },
    {
     "name": "stdout",
     "output_type": "stream",
     "text": [
      "Start alignment...\n",
      "Alignment slice 1 to 0\n",
      "Runtime: 167.8310935497284 s\n"
     ]
    },
    {
     "name": "stderr",
     "output_type": "stream",
     "text": [
      " 36%|████████████████████████████████████████████████▏                                                                                     | 46/128 [1:51:43<3:42:33, 162.85s/it]"
     ]
    },
    {
     "name": "stdout",
     "output_type": "stream",
     "text": [
      "Start alignment...\n",
      "Alignment slice 1 to 0\n",
      "Runtime: 181.10955691337585 s\n"
     ]
    },
    {
     "name": "stderr",
     "output_type": "stream",
     "text": [
      " 37%|█████████████████████████████████████████████████▏                                                                                    | 47/128 [1:54:45<3:47:35, 168.58s/it]"
     ]
    },
    {
     "name": "stdout",
     "output_type": "stream",
     "text": [
      "Start alignment...\n",
      "Alignment slice 1 to 0\n",
      "Runtime: 153.85946536064148 s\n"
     ]
    },
    {
     "name": "stderr",
     "output_type": "stream",
     "text": [
      " 38%|██████████████████████████████████████████████████▎                                                                                   | 48/128 [1:57:20<3:39:17, 164.47s/it]"
     ]
    },
    {
     "name": "stdout",
     "output_type": "stream",
     "text": [
      "Start alignment...\n",
      "Alignment slice 1 to 0\n",
      "Runtime: 157.82768487930298 s\n"
     ]
    },
    {
     "name": "stderr",
     "output_type": "stream",
     "text": [
      " 38%|███████████████████████████████████████████████████▎                                                                                  | 49/128 [1:59:59<3:34:16, 162.74s/it]"
     ]
    },
    {
     "name": "stdout",
     "output_type": "stream",
     "text": [
      "Start alignment...\n",
      "Alignment slice 1 to 0\n",
      "Runtime: 161.7140440940857 s\n"
     ]
    },
    {
     "name": "stderr",
     "output_type": "stream",
     "text": [
      " 39%|████████████████████████████████████████████████████▎                                                                                 | 50/128 [2:02:41<3:31:32, 162.73s/it]"
     ]
    },
    {
     "name": "stdout",
     "output_type": "stream",
     "text": [
      "Start alignment...\n",
      "Alignment slice 1 to 0\n",
      "Runtime: 157.65604543685913 s\n"
     ]
    },
    {
     "name": "stderr",
     "output_type": "stream",
     "text": [
      " 40%|█████████████████████████████████████████████████████▍                                                                                | 51/128 [2:05:20<3:27:12, 161.46s/it]"
     ]
    },
    {
     "name": "stdout",
     "output_type": "stream",
     "text": [
      "Start alignment...\n",
      "Alignment slice 1 to 0\n",
      "Runtime: 175.1679232120514 s\n"
     ]
    },
    {
     "name": "stderr",
     "output_type": "stream",
     "text": [
      " 41%|██████████████████████████████████████████████████████▍                                                                               | 52/128 [2:08:16<3:30:07, 165.89s/it]"
     ]
    },
    {
     "name": "stdout",
     "output_type": "stream",
     "text": [
      "Start alignment...\n",
      "Alignment slice 1 to 0\n",
      "Runtime: 179.87475275993347 s\n"
     ]
    },
    {
     "name": "stderr",
     "output_type": "stream",
     "text": [
      " 41%|███████████████████████████████████████████████████████▍                                                                              | 53/128 [2:11:17<3:33:01, 170.42s/it]"
     ]
    },
    {
     "name": "stdout",
     "output_type": "stream",
     "text": [
      "Start alignment...\n",
      "Alignment slice 1 to 0\n",
      "Runtime: 152.51905250549316 s\n"
     ]
    },
    {
     "name": "stderr",
     "output_type": "stream",
     "text": [
      " 42%|████████████████████████████████████████████████████████▌                                                                             | 54/128 [2:13:51<3:23:58, 165.38s/it]"
     ]
    },
    {
     "name": "stdout",
     "output_type": "stream",
     "text": [
      "Start alignment...\n",
      "Alignment slice 1 to 0\n",
      "Runtime: 159.72071313858032 s\n"
     ]
    },
    {
     "name": "stderr",
     "output_type": "stream",
     "text": [
      " 43%|█████████████████████████████████████████████████████████▌                                                                            | 55/128 [2:16:31<3:19:24, 163.90s/it]"
     ]
    },
    {
     "name": "stdout",
     "output_type": "stream",
     "text": [
      "Start alignment...\n",
      "Alignment slice 1 to 0\n",
      "Runtime: 181.26053166389465 s\n"
     ]
    },
    {
     "name": "stderr",
     "output_type": "stream",
     "text": [
      " 44%|██████████████████████████████████████████████████████████▋                                                                           | 56/128 [2:19:33<3:23:14, 169.37s/it]"
     ]
    },
    {
     "name": "stdout",
     "output_type": "stream",
     "text": [
      "Start alignment...\n",
      "Alignment slice 1 to 0\n",
      "Runtime: 147.826247215271 s\n"
     ]
    },
    {
     "name": "stderr",
     "output_type": "stream",
     "text": [
      " 45%|███████████████████████████████████████████████████████████▋                                                                          | 57/128 [2:22:02<3:13:01, 163.11s/it]"
     ]
    },
    {
     "name": "stdout",
     "output_type": "stream",
     "text": [
      "Start alignment...\n",
      "Alignment slice 1 to 0\n",
      "Runtime: 171.0280430316925 s\n"
     ]
    },
    {
     "name": "stderr",
     "output_type": "stream",
     "text": [
      " 45%|████████████████████████████████████████████████████████████▋                                                                         | 58/128 [2:24:53<3:13:18, 165.69s/it]"
     ]
    },
    {
     "name": "stdout",
     "output_type": "stream",
     "text": [
      "Start alignment...\n",
      "Alignment slice 1 to 0\n",
      "Runtime: 183.15671634674072 s\n"
     ]
    },
    {
     "name": "stderr",
     "output_type": "stream",
     "text": [
      " 46%|█████████████████████████████████████████████████████████████▊                                                                        | 59/128 [2:27:57<3:16:49, 171.16s/it]"
     ]
    },
    {
     "name": "stdout",
     "output_type": "stream",
     "text": [
      "Start alignment...\n",
      "Alignment slice 1 to 0\n",
      "Runtime: 167.70235228538513 s\n"
     ]
    },
    {
     "name": "stderr",
     "output_type": "stream",
     "text": [
      " 47%|██████████████████████████████████████████████████████████████▊                                                                       | 60/128 [2:30:46<3:13:04, 170.36s/it]"
     ]
    },
    {
     "name": "stdout",
     "output_type": "stream",
     "text": [
      "Start alignment...\n",
      "Alignment slice 1 to 0\n",
      "Runtime: 178.65889048576355 s\n"
     ]
    },
    {
     "name": "stderr",
     "output_type": "stream",
     "text": [
      " 48%|███████████████████████████████████████████████████████████████▊                                                                      | 61/128 [2:33:45<3:13:15, 173.07s/it]"
     ]
    },
    {
     "name": "stdout",
     "output_type": "stream",
     "text": [
      "Start alignment...\n",
      "Alignment slice 1 to 0\n",
      "Runtime: 183.72950053215027 s\n"
     ]
    },
    {
     "name": "stderr",
     "output_type": "stream",
     "text": [
      " 48%|████████████████████████████████████████████████████████████████▉                                                                     | 62/128 [2:36:50<3:14:08, 176.50s/it]"
     ]
    },
    {
     "name": "stdout",
     "output_type": "stream",
     "text": [
      "Start alignment...\n",
      "Alignment slice 1 to 0\n",
      "Runtime: 155.45347094535828 s\n"
     ]
    },
    {
     "name": "stderr",
     "output_type": "stream",
     "text": [
      " 49%|█████████████████████████████████████████████████████████████████▉                                                                    | 63/128 [2:39:26<3:04:36, 170.40s/it]"
     ]
    },
    {
     "name": "stdout",
     "output_type": "stream",
     "text": [
      "Start alignment...\n",
      "Alignment slice 1 to 0\n",
      "Runtime: 187.58627581596375 s\n"
     ]
    },
    {
     "name": "stderr",
     "output_type": "stream",
     "text": [
      " 50%|███████████████████████████████████████████████████████████████████                                                                   | 64/128 [2:42:34<3:07:31, 175.80s/it]"
     ]
    },
    {
     "name": "stdout",
     "output_type": "stream",
     "text": [
      "Start alignment...\n",
      "Alignment slice 1 to 0\n",
      "Runtime: 171.51162934303284 s\n"
     ]
    },
    {
     "name": "stderr",
     "output_type": "stream",
     "text": [
      " 51%|████████████████████████████████████████████████████████████████████                                                                  | 65/128 [2:45:27<3:03:30, 174.77s/it]"
     ]
    },
    {
     "name": "stdout",
     "output_type": "stream",
     "text": [
      "Start alignment...\n",
      "Alignment slice 1 to 0\n",
      "Runtime: 165.28986525535583 s\n"
     ]
    },
    {
     "name": "stderr",
     "output_type": "stream",
     "text": [
      " 52%|█████████████████████████████████████████████████████████████████████                                                                 | 66/128 [2:48:13<2:57:53, 172.16s/it]"
     ]
    },
    {
     "name": "stdout",
     "output_type": "stream",
     "text": [
      "Start alignment...\n",
      "Alignment slice 1 to 0\n",
      "Runtime: 185.83950805664062 s\n"
     ]
    },
    {
     "name": "stderr",
     "output_type": "stream",
     "text": [
      " 52%|██████████████████████████████████████████████████████████████████████▏                                                               | 67/128 [2:51:19<2:59:27, 176.51s/it]"
     ]
    },
    {
     "name": "stdout",
     "output_type": "stream",
     "text": [
      "Start alignment...\n",
      "Alignment slice 1 to 0\n",
      "Runtime: 197.38530492782593 s\n"
     ]
    },
    {
     "name": "stderr",
     "output_type": "stream",
     "text": [
      " 53%|███████████████████████████████████████████████████████████████████████▏                                                              | 68/128 [2:54:38<3:03:03, 183.06s/it]"
     ]
    },
    {
     "name": "stdout",
     "output_type": "stream",
     "text": [
      "Start alignment...\n",
      "Alignment slice 1 to 0\n",
      "Runtime: 152.28302764892578 s\n"
     ]
    },
    {
     "name": "stderr",
     "output_type": "stream",
     "text": [
      " 54%|████████████████████████████████████████████████████████████████████████▏                                                             | 69/128 [2:57:11<2:51:10, 174.08s/it]"
     ]
    },
    {
     "name": "stdout",
     "output_type": "stream",
     "text": [
      "Start alignment...\n",
      "Alignment slice 1 to 0\n",
      "Runtime: 185.3829607963562 s\n"
     ]
    },
    {
     "name": "stderr",
     "output_type": "stream",
     "text": [
      " 55%|█████████████████████████████████████████████████████████████████████████▎                                                            | 70/128 [3:00:17<2:51:47, 177.71s/it]"
     ]
    },
    {
     "name": "stdout",
     "output_type": "stream",
     "text": [
      "Start alignment...\n",
      "Alignment slice 1 to 0\n",
      "Runtime: 185.1540961265564 s\n"
     ]
    },
    {
     "name": "stderr",
     "output_type": "stream",
     "text": [
      " 55%|██████████████████████████████████████████████████████████████████████████▎                                                           | 71/128 [3:03:23<2:51:09, 180.17s/it]"
     ]
    },
    {
     "name": "stdout",
     "output_type": "stream",
     "text": [
      "Start alignment...\n",
      "Alignment slice 1 to 0\n",
      "Runtime: 166.07323241233826 s\n"
     ]
    },
    {
     "name": "stderr",
     "output_type": "stream",
     "text": [
      " 56%|███████████████████████████████████████████████████████████████████████████▍                                                          | 72/128 [3:06:10<2:44:26, 176.18s/it]"
     ]
    },
    {
     "name": "stdout",
     "output_type": "stream",
     "text": [
      "Start alignment...\n",
      "Alignment slice 1 to 0\n",
      "Runtime: 163.39426040649414 s\n"
     ]
    },
    {
     "name": "stderr",
     "output_type": "stream",
     "text": [
      " 57%|████████████████████████████████████████████████████████████████████████████▍                                                         | 73/128 [3:08:54<2:38:15, 172.65s/it]"
     ]
    },
    {
     "name": "stdout",
     "output_type": "stream",
     "text": [
      "Start alignment...\n",
      "Alignment slice 1 to 0\n",
      "Runtime: 215.0803084373474 s\n"
     ]
    },
    {
     "name": "stderr",
     "output_type": "stream",
     "text": [
      " 58%|█████████████████████████████████████████████████████████████████████████████▍                                                        | 74/128 [3:12:30<2:47:06, 185.68s/it]"
     ]
    },
    {
     "name": "stdout",
     "output_type": "stream",
     "text": [
      "Start alignment...\n",
      "Alignment slice 1 to 0\n",
      "Runtime: 197.86017441749573 s\n"
     ]
    },
    {
     "name": "stderr",
     "output_type": "stream",
     "text": [
      " 59%|██████████████████████████████████████████████████████████████████████████████▌                                                       | 75/128 [3:15:49<2:47:26, 189.56s/it]"
     ]
    },
    {
     "name": "stdout",
     "output_type": "stream",
     "text": [
      "Start alignment...\n",
      "Alignment slice 1 to 0\n",
      "Runtime: 194.47866582870483 s\n"
     ]
    },
    {
     "name": "stderr",
     "output_type": "stream",
     "text": [
      " 59%|███████████████████████████████████████████████████████████████████████████████▌                                                      | 76/128 [3:19:04<2:45:44, 191.25s/it]"
     ]
    },
    {
     "name": "stdout",
     "output_type": "stream",
     "text": [
      "Start alignment...\n",
      "Alignment slice 1 to 0\n",
      "Runtime: 185.34349846839905 s\n"
     ]
    },
    {
     "name": "stderr",
     "output_type": "stream",
     "text": [
      " 60%|████████████████████████████████████████████████████████████████████████████████▌                                                     | 77/128 [3:22:10<2:41:14, 189.71s/it]"
     ]
    },
    {
     "name": "stdout",
     "output_type": "stream",
     "text": [
      "Start alignment...\n",
      "Alignment slice 1 to 0\n",
      "Runtime: 169.03871417045593 s\n"
     ]
    },
    {
     "name": "stderr",
     "output_type": "stream",
     "text": [
      " 61%|█████████████████████████████████████████████████████████████████████████████████▋                                                    | 78/128 [3:25:00<2:33:05, 183.72s/it]"
     ]
    },
    {
     "name": "stdout",
     "output_type": "stream",
     "text": [
      "Start alignment...\n",
      "Alignment slice 1 to 0\n",
      "Runtime: 182.70843029022217 s\n"
     ]
    },
    {
     "name": "stderr",
     "output_type": "stream",
     "text": [
      " 62%|██████████████████████████████████████████████████████████████████████████████████▋                                                   | 79/128 [3:28:03<2:29:58, 183.64s/it]"
     ]
    },
    {
     "name": "stdout",
     "output_type": "stream",
     "text": [
      "Start alignment...\n",
      "Alignment slice 1 to 0\n",
      "Runtime: 193.92760252952576 s\n"
     ]
    },
    {
     "name": "stderr",
     "output_type": "stream",
     "text": [
      " 62%|███████████████████████████████████████████████████████████████████████████████████▊                                                  | 80/128 [3:31:18<2:29:34, 186.96s/it]"
     ]
    },
    {
     "name": "stdout",
     "output_type": "stream",
     "text": [
      "Start alignment...\n",
      "Alignment slice 1 to 0\n",
      "Runtime: 180.50253772735596 s\n"
     ]
    },
    {
     "name": "stderr",
     "output_type": "stream",
     "text": [
      " 63%|████████████████████████████████████████████████████████████████████████████████████▊                                                 | 81/128 [3:34:19<2:25:05, 185.22s/it]"
     ]
    },
    {
     "name": "stdout",
     "output_type": "stream",
     "text": [
      "Start alignment...\n",
      "Alignment slice 1 to 0\n",
      "Runtime: 180.35730051994324 s\n"
     ]
    },
    {
     "name": "stderr",
     "output_type": "stream",
     "text": [
      " 64%|█████████████████████████████████████████████████████████████████████████████████████▊                                                | 82/128 [3:37:20<2:21:02, 183.98s/it]"
     ]
    },
    {
     "name": "stdout",
     "output_type": "stream",
     "text": [
      "Start alignment...\n",
      "Alignment slice 1 to 0\n",
      "Runtime: 192.98443222045898 s\n"
     ]
    },
    {
     "name": "stderr",
     "output_type": "stream",
     "text": [
      " 65%|██████████████████████████████████████████████████████████████████████████████████████▉                                               | 83/128 [3:40:34<2:20:09, 186.89s/it]"
     ]
    },
    {
     "name": "stdout",
     "output_type": "stream",
     "text": [
      "Start alignment...\n",
      "Alignment slice 1 to 0\n",
      "Runtime: 205.191876411438 s\n"
     ]
    },
    {
     "name": "stderr",
     "output_type": "stream",
     "text": [
      " 66%|███████████████████████████████████████████████████████████████████████████████████████▉                                              | 84/128 [3:44:00<2:21:15, 192.62s/it]"
     ]
    },
    {
     "name": "stdout",
     "output_type": "stream",
     "text": [
      "Start alignment...\n",
      "Alignment slice 1 to 0\n",
      "Runtime: 198.2768371105194 s\n"
     ]
    },
    {
     "name": "stderr",
     "output_type": "stream",
     "text": [
      " 66%|████████████████████████████████████████████████████████████████████████████████████████▉                                             | 85/128 [3:47:19<2:19:25, 194.54s/it]"
     ]
    },
    {
     "name": "stdout",
     "output_type": "stream",
     "text": [
      "Start alignment...\n",
      "Alignment slice 1 to 0\n",
      "Runtime: 195.03150582313538 s\n"
     ]
    },
    {
     "name": "stderr",
     "output_type": "stream",
     "text": [
      " 67%|██████████████████████████████████████████████████████████████████████████████████████████                                            | 86/128 [3:50:35<2:16:25, 194.90s/it]"
     ]
    },
    {
     "name": "stdout",
     "output_type": "stream",
     "text": [
      "Start alignment...\n",
      "Alignment slice 1 to 0\n",
      "Runtime: 177.54327273368835 s\n"
     ]
    },
    {
     "name": "stderr",
     "output_type": "stream",
     "text": [
      " 68%|███████████████████████████████████████████████████████████████████████████████████████████                                           | 87/128 [3:53:33<2:09:48, 189.96s/it]"
     ]
    },
    {
     "name": "stdout",
     "output_type": "stream",
     "text": [
      "Start alignment...\n",
      "Alignment slice 1 to 0\n",
      "Runtime: 175.3580677509308 s\n"
     ]
    },
    {
     "name": "stderr",
     "output_type": "stream",
     "text": [
      " 69%|████████████████████████████████████████████████████████████████████████████████████████████▏                                         | 88/128 [3:56:29<2:03:52, 185.80s/it]"
     ]
    },
    {
     "name": "stdout",
     "output_type": "stream",
     "text": [
      "Start alignment...\n",
      "Alignment slice 1 to 0\n",
      "Runtime: 144.19896697998047 s\n"
     ]
    },
    {
     "name": "stderr",
     "output_type": "stream",
     "text": [
      " 70%|█████████████████████████████████████████████████████████████████████████████████████████████▏                                        | 89/128 [3:58:54<1:52:48, 173.55s/it]"
     ]
    },
    {
     "name": "stdout",
     "output_type": "stream",
     "text": [
      "Start alignment...\n",
      "Alignment slice 1 to 0\n",
      "Runtime: 184.48772263526917 s\n"
     ]
    },
    {
     "name": "stderr",
     "output_type": "stream",
     "text": [
      " 70%|██████████████████████████████████████████████████████████████████████████████████████████████▏                                       | 90/128 [4:01:59<1:52:08, 177.06s/it]"
     ]
    },
    {
     "name": "stdout",
     "output_type": "stream",
     "text": [
      "Start alignment...\n",
      "Alignment slice 1 to 0\n",
      "Runtime: 237.24269485473633 s\n"
     ]
    },
    {
     "name": "stderr",
     "output_type": "stream",
     "text": [
      " 71%|███████████████████████████████████████████████████████████████████████████████████████████████▎                                      | 91/128 [4:05:57<2:00:26, 195.32s/it]"
     ]
    },
    {
     "name": "stdout",
     "output_type": "stream",
     "text": [
      "Start alignment...\n",
      "Alignment slice 1 to 0\n",
      "Runtime: 158.8210153579712 s\n"
     ]
    },
    {
     "name": "stderr",
     "output_type": "stream",
     "text": [
      " 72%|████████████████████████████████████████████████████████████████████████████████████████████████▎                                     | 92/128 [4:08:37<1:50:45, 184.61s/it]"
     ]
    },
    {
     "name": "stdout",
     "output_type": "stream",
     "text": [
      "Start alignment...\n",
      "Alignment slice 1 to 0\n",
      "Runtime: 150.91404581069946 s\n"
     ]
    },
    {
     "name": "stderr",
     "output_type": "stream",
     "text": [
      " 73%|█████████████████████████████████████████████████████████████████████████████████████████████████▎                                    | 93/128 [4:11:09<1:41:55, 174.73s/it]"
     ]
    },
    {
     "name": "stdout",
     "output_type": "stream",
     "text": [
      "Start alignment...\n",
      "Alignment slice 1 to 0\n",
      "Runtime: 160.62772750854492 s\n"
     ]
    },
    {
     "name": "stderr",
     "output_type": "stream",
     "text": [
      " 73%|██████████████████████████████████████████████████████████████████████████████████████████████████▍                                   | 94/128 [4:13:51<1:36:57, 171.09s/it]"
     ]
    },
    {
     "name": "stdout",
     "output_type": "stream",
     "text": [
      "Start alignment...\n",
      "Alignment slice 1 to 0\n",
      "Runtime: 160.40147757530212 s\n"
     ]
    },
    {
     "name": "stderr",
     "output_type": "stream",
     "text": [
      " 74%|███████████████████████████████████████████████████████████████████████████████████████████████████▍                                  | 95/128 [4:16:33<1:32:30, 168.19s/it]"
     ]
    },
    {
     "name": "stdout",
     "output_type": "stream",
     "text": [
      "Start alignment...\n",
      "Alignment slice 1 to 0\n",
      "Runtime: 165.1295506954193 s\n"
     ]
    },
    {
     "name": "stderr",
     "output_type": "stream",
     "text": [
      " 75%|████████████████████████████████████████████████████████████████████████████████████████████████████▌                                 | 96/128 [4:19:19<1:29:20, 167.51s/it]"
     ]
    },
    {
     "name": "stdout",
     "output_type": "stream",
     "text": [
      "Start alignment...\n",
      "Alignment slice 1 to 0\n",
      "Runtime: 160.80639839172363 s\n"
     ]
    },
    {
     "name": "stderr",
     "output_type": "stream",
     "text": [
      " 76%|█████████████████████████████████████████████████████████████████████████████████████████████████████▌                                | 97/128 [4:22:00<1:25:37, 165.73s/it]"
     ]
    },
    {
     "name": "stdout",
     "output_type": "stream",
     "text": [
      "Start alignment...\n",
      "Alignment slice 1 to 0\n",
      "Runtime: 142.22721457481384 s\n"
     ]
    },
    {
     "name": "stderr",
     "output_type": "stream",
     "text": [
      " 77%|██████████████████████████████████████████████████████████████████████████████████████████████████████▌                               | 98/128 [4:24:23<1:19:28, 158.95s/it]"
     ]
    },
    {
     "name": "stdout",
     "output_type": "stream",
     "text": [
      "Start alignment...\n",
      "Alignment slice 1 to 0\n",
      "Runtime: 149.1109483242035 s\n"
     ]
    },
    {
     "name": "stderr",
     "output_type": "stream",
     "text": [
      " 77%|███████████████████████████████████████████████████████████████████████████████████████████████████████▋                              | 99/128 [4:26:53<1:15:30, 156.22s/it]"
     ]
    },
    {
     "name": "stdout",
     "output_type": "stream",
     "text": [
      "Start alignment...\n",
      "Alignment slice 1 to 0\n",
      "Runtime: 140.14427518844604 s\n"
     ]
    },
    {
     "name": "stderr",
     "output_type": "stream",
     "text": [
      " 78%|███████████████████████████████████████████████████████████████████████████████████████████████████████▉                             | 100/128 [4:29:14<1:10:44, 151.60s/it]"
     ]
    },
    {
     "name": "stdout",
     "output_type": "stream",
     "text": [
      "Start alignment...\n",
      "Alignment slice 1 to 0\n",
      "Runtime: 149.04248356819153 s\n"
     ]
    },
    {
     "name": "stderr",
     "output_type": "stream",
     "text": [
      " 79%|████████████████████████████████████████████████████████████████████████████████████████████████████████▉                            | 101/128 [4:31:44<1:07:58, 151.07s/it]"
     ]
    },
    {
     "name": "stdout",
     "output_type": "stream",
     "text": [
      "Start alignment...\n",
      "Alignment slice 1 to 0\n",
      "Runtime: 151.70955681800842 s\n"
     ]
    },
    {
     "name": "stderr",
     "output_type": "stream",
     "text": [
      " 80%|█████████████████████████████████████████████████████████████████████████████████████████████████████████▉                           | 102/128 [4:34:16<1:05:38, 151.47s/it]"
     ]
    },
    {
     "name": "stdout",
     "output_type": "stream",
     "text": [
      "Start alignment...\n",
      "Alignment slice 1 to 0\n",
      "Runtime: 157.3893723487854 s\n"
     ]
    },
    {
     "name": "stderr",
     "output_type": "stream",
     "text": [
      " 80%|███████████████████████████████████████████████████████████████████████████████████████████████████████████                          | 103/128 [4:36:54<1:03:56, 153.46s/it]"
     ]
    },
    {
     "name": "stdout",
     "output_type": "stream",
     "text": [
      "Start alignment...\n",
      "Alignment slice 1 to 0\n",
      "Runtime: 213.66447353363037 s\n"
     ]
    },
    {
     "name": "stderr",
     "output_type": "stream",
     "text": [
      " 81%|████████████████████████████████████████████████████████████████████████████████████████████████████████████                         | 104/128 [4:40:29<1:08:41, 171.73s/it]"
     ]
    },
    {
     "name": "stdout",
     "output_type": "stream",
     "text": [
      "Start alignment...\n",
      "Alignment slice 1 to 0\n",
      "Runtime: 165.87210321426392 s\n"
     ]
    },
    {
     "name": "stderr",
     "output_type": "stream",
     "text": [
      " 82%|█████████████████████████████████████████████████████████████████████████████████████████████████████████████                        | 105/128 [4:43:15<1:05:14, 170.18s/it]"
     ]
    },
    {
     "name": "stdout",
     "output_type": "stream",
     "text": [
      "Start alignment...\n",
      "Alignment slice 1 to 0\n",
      "Runtime: 191.13047885894775 s\n"
     ]
    },
    {
     "name": "stderr",
     "output_type": "stream",
     "text": [
      " 83%|██████████████████████████████████████████████████████████████████████████████████████████████████████████████▏                      | 106/128 [4:46:27<1:04:46, 176.67s/it]"
     ]
    },
    {
     "name": "stdout",
     "output_type": "stream",
     "text": [
      "Start alignment...\n",
      "Alignment slice 1 to 0\n",
      "Runtime: 175.57235431671143 s\n"
     ]
    },
    {
     "name": "stderr",
     "output_type": "stream",
     "text": [
      " 84%|███████████████████████████████████████████████████████████████████████████████████████████████████████████████▏                     | 107/128 [4:49:23<1:01:47, 176.56s/it]"
     ]
    },
    {
     "name": "stdout",
     "output_type": "stream",
     "text": [
      "Start alignment...\n",
      "Alignment slice 1 to 0\n",
      "Runtime: 180.36035466194153 s\n"
     ]
    },
    {
     "name": "stderr",
     "output_type": "stream",
     "text": [
      " 84%|█████████████████████████████████████████████████████████████████████████████████████████████████████████████████▉                     | 108/128 [4:52:24<59:18, 177.91s/it]"
     ]
    },
    {
     "name": "stdout",
     "output_type": "stream",
     "text": [
      "Start alignment...\n",
      "Alignment slice 1 to 0\n",
      "Runtime: 227.14737462997437 s\n"
     ]
    },
    {
     "name": "stderr",
     "output_type": "stream",
     "text": [
      " 85%|█████████████████████████████████████████████████████████████████████████████████████████████████████████████████▎                   | 109/128 [4:56:12<1:01:04, 192.89s/it]"
     ]
    },
    {
     "name": "stdout",
     "output_type": "stream",
     "text": [
      "Start alignment...\n",
      "Alignment slice 1 to 0\n",
      "Runtime: 153.05527305603027 s\n"
     ]
    },
    {
     "name": "stderr",
     "output_type": "stream",
     "text": [
      " 86%|████████████████████████████████████████████████████████████████████████████████████████████████████████████████████                   | 110/128 [4:58:46<54:20, 181.15s/it]"
     ]
    },
    {
     "name": "stdout",
     "output_type": "stream",
     "text": [
      "Start alignment...\n",
      "Alignment slice 1 to 0\n",
      "Runtime: 177.96611261367798 s\n"
     ]
    },
    {
     "name": "stderr",
     "output_type": "stream",
     "text": [
      " 87%|█████████████████████████████████████████████████████████████████████████████████████████████████████████████████████                  | 111/128 [5:01:45<51:06, 180.39s/it]"
     ]
    },
    {
     "name": "stdout",
     "output_type": "stream",
     "text": [
      "Start alignment...\n",
      "Alignment slice 1 to 0\n",
      "Runtime: 198.36391353607178 s\n"
     ]
    },
    {
     "name": "stderr",
     "output_type": "stream",
     "text": [
      " 88%|██████████████████████████████████████████████████████████████████████████████████████████████████████████████████████▏                | 112/128 [5:05:04<49:35, 185.98s/it]"
     ]
    },
    {
     "name": "stdout",
     "output_type": "stream",
     "text": [
      "Start alignment...\n",
      "Alignment slice 1 to 0\n",
      "Runtime: 207.4330871105194 s\n"
     ]
    },
    {
     "name": "stderr",
     "output_type": "stream",
     "text": [
      " 88%|███████████████████████████████████████████████████████████████████████████████████████████████████████████████████████▏               | 113/128 [5:08:32<48:09, 192.62s/it]"
     ]
    },
    {
     "name": "stdout",
     "output_type": "stream",
     "text": [
      "Start alignment...\n",
      "Alignment slice 1 to 0\n",
      "Runtime: 165.2891252040863 s\n"
     ]
    },
    {
     "name": "stderr",
     "output_type": "stream",
     "text": [
      " 89%|████████████████████████████████████████████████████████████████████████████████████████████████████████████████████████▏              | 114/128 [5:11:18<43:04, 184.60s/it]"
     ]
    },
    {
     "name": "stdout",
     "output_type": "stream",
     "text": [
      "Start alignment...\n",
      "Alignment slice 1 to 0\n",
      "Runtime: 183.63630962371826 s\n"
     ]
    },
    {
     "name": "stderr",
     "output_type": "stream",
     "text": [
      " 90%|█████████████████████████████████████████████████████████████████████████████████████████████████████████████████████████▎             | 115/128 [5:14:22<39:58, 184.52s/it]"
     ]
    },
    {
     "name": "stdout",
     "output_type": "stream",
     "text": [
      "Start alignment...\n",
      "Alignment slice 1 to 0\n",
      "Runtime: 176.7389748096466 s\n"
     ]
    },
    {
     "name": "stderr",
     "output_type": "stream",
     "text": [
      " 91%|██████████████████████████████████████████████████████████████████████████████████████████████████████████████████████████▎            | 116/128 [5:17:19<36:28, 182.39s/it]"
     ]
    },
    {
     "name": "stdout",
     "output_type": "stream",
     "text": [
      "Start alignment...\n",
      "Alignment slice 1 to 0\n",
      "Runtime: 187.96293687820435 s\n"
     ]
    },
    {
     "name": "stderr",
     "output_type": "stream",
     "text": [
      " 91%|███████████████████████████████████████████████████████████████████████████████████████████████████████████████████████████▍           | 117/128 [5:20:28<33:46, 184.26s/it]"
     ]
    },
    {
     "name": "stdout",
     "output_type": "stream",
     "text": [
      "Start alignment...\n",
      "Alignment slice 1 to 0\n"
     ]
    }
   ],
   "source": [
    "## Perform the SPACEL with provided annotation alignment\n",
    "sampling_num = 20000\n",
    "for i in tqdm(range(len(slices)-1)):\n",
    "    slice1, slice2 = slices[i].copy(), slices[i+1].copy()\n",
    "    sampline_idx1 = np.random.choice(slice1.shape[0], sampling_num, replace=False) if slice1.shape[0] > sampling_num else np.arange(slice1.shape[0])\n",
    "    sampline_idx2 = np.random.choice(slice2.shape[0], sampling_num, replace=False) if slice2.shape[0] > sampling_num else np.arange(slice2.shape[0])\n",
    "    slice1 = slice1[sampline_idx1,:]\n",
    "    slice2 = slice2[sampline_idx2,:]\n",
    "    slice1.obsm['spatial_2D'] = slice1.obsm[spatial_key]\n",
    "    slice2.obsm['spatial_2D'] = slice2.obsm[spatial_key]\n",
    "    slice1.obsm['spatial'] = slice1.obsm[spatial_key]\n",
    "    slice2.obsm['spatial'] = slice2.obsm[spatial_key]\n",
    "    align_slices = [slice1, slice2]\n",
    "    time_start = time.time()\n",
    "    Scube.align(\n",
    "        align_slices,\n",
    "        cluster_key=anno_key, \n",
    "        n_neighbors = 15, \n",
    "        n_threads=10,\n",
    "        p=2,\n",
    "        write_loc_path=os.path.join(results_folder, 'Scube_outputs/aligned_coordinates.csv')\n",
    "    )\n",
    "    align_slices[0].obsm[key_added] = align_slices[0].obsm['spatial_aligned'].values\n",
    "    align_slices[1].obsm[key_added] = align_slices[1].obsm['spatial_aligned'].values\n",
    "    time_end = time.time()\n",
    "    \n",
    "    R1, t1=solve_RT_by_correspondence(align_slices[1].obsm[key_added], align_slices[1].obsm[spatial_key])\n",
    "    R2, t2=solve_RT_by_correspondence(align_slices[0].obsm[spatial_key], align_slices[0].obsm[key_added])\n",
    "    t = t1 @ R2.T + t2\n",
    "    R = R2 @ R1\n",
    "    alignment_results = {'R': R, 't': t, 'time': time_end - time_start}\n",
    "    np.save(os.path.join(results_folder, f\"slice_{i}_{i+1}_sampling_{sampling_num}.npy\"), alignment_results, allow_pickle=True)"
   ]
  },
  {
   "cell_type": "code",
   "execution_count": null,
   "id": "ab0e97a4-3443-4be3-a253-9957d268123b",
   "metadata": {},
   "outputs": [],
   "source": []
  }
 ],
 "metadata": {
  "kernelspec": {
   "display_name": "SPACEL",
   "language": "python",
   "name": "spacel"
  },
  "language_info": {
   "codemirror_mode": {
    "name": "ipython",
    "version": 3
   },
   "file_extension": ".py",
   "mimetype": "text/x-python",
   "name": "python",
   "nbconvert_exporter": "python",
   "pygments_lexer": "ipython3",
   "version": "3.8.19"
  }
 },
 "nbformat": 4,
 "nbformat_minor": 5
}
