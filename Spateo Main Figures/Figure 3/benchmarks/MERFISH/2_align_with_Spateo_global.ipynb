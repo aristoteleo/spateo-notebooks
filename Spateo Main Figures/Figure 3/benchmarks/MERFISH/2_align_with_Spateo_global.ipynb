{
 "cells": [
  {
   "cell_type": "code",
   "execution_count": 1,
   "id": "e719bbcc-693d-482e-8c27-c9c5a9246711",
   "metadata": {
    "execution": {
     "iopub.execute_input": "2024-07-11T23:59:05.290286Z",
     "iopub.status.busy": "2024-07-11T23:59:05.289990Z",
     "iopub.status.idle": "2024-07-11T23:59:18.059830Z",
     "shell.execute_reply": "2024-07-11T23:59:18.059210Z",
     "shell.execute_reply.started": "2024-07-11T23:59:05.290261Z"
    }
   },
   "outputs": [
    {
     "name": "stderr",
     "output_type": "stream",
     "text": [
      "2024-07-11 23:59:08.910696: I tensorflow/core/platform/cpu_feature_guard.cc:193] This TensorFlow binary is optimized with oneAPI Deep Neural Network Library (oneDNN) to use the following CPU instructions in performance-critical operations:  AVX2 AVX512F FMA\n",
      "To enable them in other operations, rebuild TensorFlow with the appropriate compiler flags.\n",
      "2024-07-11 23:59:09.098101: W tensorflow/compiler/xla/stream_executor/platform/default/dso_loader.cc:64] Could not load dynamic library 'libcudart.so.11.0'; dlerror: libcudart.so.11.0: cannot open shared object file: No such file or directory; LD_LIBRARY_PATH: /usr/local/cuda-12.3/lib64\n",
      "2024-07-11 23:59:09.098125: I tensorflow/compiler/xla/stream_executor/cuda/cudart_stub.cc:29] Ignore above cudart dlerror if you do not have a GPU set up on your machine.\n",
      "2024-07-11 23:59:09.868475: W tensorflow/compiler/xla/stream_executor/platform/default/dso_loader.cc:64] Could not load dynamic library 'libnvinfer.so.7'; dlerror: libnvinfer.so.7: cannot open shared object file: No such file or directory; LD_LIBRARY_PATH: /usr/local/cuda-12.3/lib64\n",
      "2024-07-11 23:59:09.868582: W tensorflow/compiler/xla/stream_executor/platform/default/dso_loader.cc:64] Could not load dynamic library 'libnvinfer_plugin.so.7'; dlerror: libnvinfer_plugin.so.7: cannot open shared object file: No such file or directory; LD_LIBRARY_PATH: /usr/local/cuda-12.3/lib64\n",
      "2024-07-11 23:59:09.868589: W tensorflow/compiler/tf2tensorrt/utils/py_utils.cc:38] TF-TRT Warning: Cannot dlopen some TensorRT libraries. If you would like to use Nvidia GPU with TensorRT, please make sure the missing libraries mentioned above are installed properly.\n",
      "_XSERVTransSocketUNIXCreateListener: ...SocketCreateListener() failed\n",
      "_XSERVTransMakeAllCOTSServerListeners: server already running\n",
      "(EE) \n",
      "Fatal server error:\n",
      "(EE) Cannot establish any listening sockets - Make sure an X server isn't already running(EE) \n"
     ]
    }
   ],
   "source": [
    "import os\n",
    "os.environ['CUDA_VISIBLE_DEVICES'] = '0'\n",
    "import sys\n",
    "from pathlib import Path\n",
    "import anndata as ad\n",
    "import numpy as np\n",
    "import warnings\n",
    "warnings.simplefilter(action='ignore', category=FutureWarning)\n",
    "import seaborn as sns\n",
    "from matplotlib import pyplot as plt\n",
    "\n",
    "sys.path.insert(0, \"/home/ylu/project/spateo-release_new\")\n",
    "import spateo_dev as st\n",
    "sys.path.insert(0, \"/home/ylu/project\")\n",
    "from utils import *\n",
    "\n",
    "os.system('/usr/bin/Xvfb :99 -screen 0 1024x768x24 &')\n",
    "os.environ['DISPLAY'] = ':99'\n",
    "\n",
    "%load_ext autoreload\n",
    "%autoreload 2"
   ]
  },
  {
   "cell_type": "code",
   "execution_count": 2,
   "id": "adc3ab07-bfa6-4b46-852e-38514f46121d",
   "metadata": {
    "execution": {
     "iopub.execute_input": "2024-07-11T23:59:18.062086Z",
     "iopub.status.busy": "2024-07-11T23:59:18.061027Z",
     "iopub.status.idle": "2024-07-11T23:59:18.124852Z",
     "shell.execute_reply": "2024-07-11T23:59:18.124115Z",
     "shell.execute_reply.started": "2024-07-11T23:59:18.062061Z"
    }
   },
   "outputs": [],
   "source": [
    "data_folder = \"./results/split_slices_CCF/\"\n",
    "results_folder = \"./results/Spateo_global/\"\n",
    "figures_folder = \"./results/figures/Spateo_global\"\n",
    "Path(results_folder).mkdir(parents=True, exist_ok=True)"
   ]
  },
  {
   "cell_type": "code",
   "execution_count": 3,
   "id": "23c49d81-9e58-412c-982f-fb2c48b2bc68",
   "metadata": {
    "execution": {
     "iopub.execute_input": "2024-07-11T23:59:18.126033Z",
     "iopub.status.busy": "2024-07-11T23:59:18.125649Z",
     "iopub.status.idle": "2024-07-11T23:59:18.190535Z",
     "shell.execute_reply": "2024-07-11T23:59:18.189926Z",
     "shell.execute_reply.started": "2024-07-11T23:59:18.126012Z"
    }
   },
   "outputs": [],
   "source": [
    "import re\n",
    "def list_and_sort_files_by_number(directory_path, suffix):\n",
    "    def extract_number(filename):\n",
    "        match = re.search(r'\\d+', filename)\n",
    "        return int(match.group()) if match else float('inf')\n",
    "    try:\n",
    "        files = [f for f in os.listdir(directory_path) if f.endswith(suffix)]\n",
    "        sorted_files = sorted(files, key=extract_number)\n",
    "        return sorted_files\n",
    "    except FileNotFoundError:\n",
    "        return f\"The directory {directory_path} does not exist.\"\n",
    "    except NotADirectoryError:\n",
    "        return f\"The path {directory_path} is not a directory.\"\n",
    "    except PermissionError:\n",
    "        return f\"Permission denied to access {directory_path}.\"\n",
    "\n",
    "directory_path = data_folder\n",
    "sorted_files = list_and_sort_files_by_number(directory_path, '.h5ad')"
   ]
  },
  {
   "cell_type": "code",
   "execution_count": 4,
   "id": "931ab555-3a89-4b9f-ba87-0bcdc6e72e3d",
   "metadata": {
    "execution": {
     "iopub.execute_input": "2024-07-11T23:59:18.191706Z",
     "iopub.status.busy": "2024-07-11T23:59:18.191333Z",
     "iopub.status.idle": "2024-07-11T23:59:41.083136Z",
     "shell.execute_reply": "2024-07-11T23:59:41.082353Z",
     "shell.execute_reply.started": "2024-07-11T23:59:18.191685Z"
    }
   },
   "outputs": [
    {
     "name": "stderr",
     "output_type": "stream",
     "text": [
      "100%|██████████████████████████| 129/129 [00:22<00:00,  5.65it/s]\n"
     ]
    }
   ],
   "source": [
    "## load the data\n",
    "from tqdm import tqdm\n",
    "slices = []\n",
    "for f in tqdm(sorted_files):\n",
    "    slices.append(ad.read_h5ad(os.path.join(data_folder, f)))"
   ]
  },
  {
   "cell_type": "code",
   "execution_count": 5,
   "id": "78ba4f17-f277-4f79-997a-8f6e23d3f5d0",
   "metadata": {
    "execution": {
     "iopub.execute_input": "2024-07-11T23:59:41.085500Z",
     "iopub.status.busy": "2024-07-11T23:59:41.085127Z",
     "iopub.status.idle": "2024-07-11T23:59:41.175400Z",
     "shell.execute_reply": "2024-07-11T23:59:41.174607Z",
     "shell.execute_reply.started": "2024-07-11T23:59:41.085477Z"
    }
   },
   "outputs": [],
   "source": [
    "spatial_key = \"spatial_2D\"\n",
    "anno_key = \"cell_type\""
   ]
  },
  {
   "cell_type": "code",
   "execution_count": 6,
   "id": "952826d4-18e9-4ac7-be0e-98134de70536",
   "metadata": {
    "execution": {
     "iopub.execute_input": "2024-07-11T23:59:41.176595Z",
     "iopub.status.busy": "2024-07-11T23:59:41.176285Z",
     "iopub.status.idle": "2024-07-11T23:59:41.510022Z",
     "shell.execute_reply": "2024-07-11T23:59:41.509369Z",
     "shell.execute_reply.started": "2024-07-11T23:59:41.176573Z"
    }
   },
   "outputs": [],
   "source": [
    "## Rotate the data\n",
    "rotate_key = \"spatial_rot\"\n",
    "rotations = np.load(\"./results/random_rotations.npy\", allow_pickle=True)\n",
    "for i in range(len(slices)):\n",
    "    slices[i].obsm[rotate_key] = slices[i].obsm[spatial_key][:,:2].copy()\n",
    "    mean = np.mean(slices[i].obsm[rotate_key], axis=0)\n",
    "    slices[i].obsm[rotate_key] = slices[i].obsm[rotate_key] - mean\n",
    "    slices[i].obsm[rotate_key] = slices[i].obsm[rotate_key] @ rotations[i].T + mean\n",
    "    "
   ]
  },
  {
   "cell_type": "code",
   "execution_count": 7,
   "id": "1730dd63-7e84-4418-abbf-b2ba9b259ec0",
   "metadata": {
    "execution": {
     "iopub.execute_input": "2024-07-11T23:59:41.511454Z",
     "iopub.status.busy": "2024-07-11T23:59:41.510946Z",
     "iopub.status.idle": "2024-07-11T23:59:41.577339Z",
     "shell.execute_reply": "2024-07-11T23:59:41.576709Z",
     "shell.execute_reply.started": "2024-07-11T23:59:41.511430Z"
    }
   },
   "outputs": [],
   "source": [
    "method = 'Spateo'\n",
    "sampling_num = 20000\n",
    "stats_results_folder = \"./results/stats_results/\"\n",
    "transformation = np.load(os.path.join(stats_results_folder, f\"{method}_transformation_{sampling_num}.npy\"), allow_pickle=True)\n",
    "align_Rotation = transformation.item()['align_Rotation']\n",
    "align_translation = transformation.item()['align_translation']"
   ]
  },
  {
   "cell_type": "code",
   "execution_count": 8,
   "id": "d7dbcbe1-a838-4d8c-9df0-d1d7f8485b7f",
   "metadata": {
    "execution": {
     "iopub.execute_input": "2024-07-11T23:59:41.578602Z",
     "iopub.status.busy": "2024-07-11T23:59:41.578196Z",
     "iopub.status.idle": "2024-07-11T23:59:41.755176Z",
     "shell.execute_reply": "2024-07-11T23:59:41.754589Z",
     "shell.execute_reply.started": "2024-07-11T23:59:41.578581Z"
    }
   },
   "outputs": [
    {
     "name": "stderr",
     "output_type": "stream",
     "text": [
      "100%|████████████████████████| 129/129 [00:00<00:00, 1172.00it/s]\n"
     ]
    }
   ],
   "source": [
    "cur_R = np.eye(2)\n",
    "cur_t = np.zeros(2)\n",
    "for i in tqdm(range(len(slices))):\n",
    "    slices[i].obsm['align_spatial_2D'] = slices[i].obsm['spatial_rot'] @ cur_R.T + cur_t\n",
    "    if i < len(slices)-1:\n",
    "        R = align_Rotation[i]\n",
    "        t = align_translation[i]\n",
    "        cur_t = t @ cur_R.T + cur_t\n",
    "        cur_R = cur_R @ R"
   ]
  },
  {
   "cell_type": "code",
   "execution_count": 9,
   "id": "3638da97-d883-4b7f-a0d2-c48abcd5878e",
   "metadata": {
    "execution": {
     "iopub.execute_input": "2024-07-11T23:59:41.756398Z",
     "iopub.status.busy": "2024-07-11T23:59:41.755984Z",
     "iopub.status.idle": "2024-07-11T23:59:47.220095Z",
     "shell.execute_reply": "2024-07-11T23:59:47.219441Z",
     "shell.execute_reply.started": "2024-07-11T23:59:41.756377Z"
    }
   },
   "outputs": [],
   "source": [
    "slices_ref = []\n",
    "sampling_num = 20000\n",
    "for s in slices:\n",
    "    sampline_idx = np.random.choice(s.shape[0], sampling_num, replace=False) if s.shape[0] > sampling_num else np.arange(s.shape[0])\n",
    "    slices_ref.append(s[sampline_idx,:].copy())"
   ]
  },
  {
   "cell_type": "code",
   "execution_count": null,
   "id": "6f9c2ec6-085b-4adb-98dc-5ce6542afedf",
   "metadata": {},
   "outputs": [],
   "source": [
    "key_added = \"global_align_spatial\"\n",
    "global_align_slices = st.align.morpho_global_optimization(\n",
    "    models=slices_ref,\n",
    "    spatial_key='align_spatial_2D',\n",
    "    key_added=\"global_align_spatial\",\n",
    "    device=\"0\",\n",
    "    mode=\"SN-S\",\n",
    "    max_iter_global=5,\n",
    "    max_iter=200,\n",
    "    verbose=False,\n",
    "    partial_robust_level=25,\n",
    "    neighbor_size=2,\n",
    ")"
   ]
  },
  {
   "cell_type": "code",
   "execution_count": 23,
   "id": "f4221699-943f-4ec8-a16f-603ac56e95b9",
   "metadata": {
    "execution": {
     "iopub.execute_input": "2024-07-12T00:51:48.587082Z",
     "iopub.status.busy": "2024-07-12T00:51:48.586644Z",
     "iopub.status.idle": "2024-07-12T00:51:48.764342Z",
     "shell.execute_reply": "2024-07-12T00:51:48.763673Z",
     "shell.execute_reply.started": "2024-07-12T00:51:48.587054Z"
    }
   },
   "outputs": [],
   "source": [
    "# save the transformation\n",
    "align_Rotation = []\n",
    "align_translation = []\n",
    "for s in global_align_slices:\n",
    "    R, t=solve_RT_by_correspondence(s.obsm['global_align_spatial'], s.obsm['spatial_2D'])\n",
    "    align_Rotation.append(R)\n",
    "    align_translation.append(t)\n",
    "np.save('./results/stats_results/Spateo_global_transformation.npy', {'align_Rotation': align_Rotation, 'align_translation': align_translation}, allow_pickle=True)"
   ]
  }
 ],
 "metadata": {
  "kernelspec": {
   "display_name": "Spateo",
   "language": "python",
   "name": "spateo"
  },
  "language_info": {
   "codemirror_mode": {
    "name": "ipython",
    "version": 3
   },
   "file_extension": ".py",
   "mimetype": "text/x-python",
   "name": "python",
   "nbconvert_exporter": "python",
   "pygments_lexer": "ipython3",
   "version": "3.9.19"
  }
 },
 "nbformat": 4,
 "nbformat_minor": 5
}
