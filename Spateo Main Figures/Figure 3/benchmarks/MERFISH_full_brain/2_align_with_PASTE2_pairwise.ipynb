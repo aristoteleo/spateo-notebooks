{
 "cells": [
  {
   "cell_type": "code",
   "execution_count": null,
   "id": "0908cd60-618c-42e7-9854-9713751acdda",
   "metadata": {},
   "outputs": [
    {
     "name": "stderr",
     "output_type": "stream",
     "text": [
      "2024-07-01 23:43:53.920350: W tensorflow/compiler/xla/stream_executor/platform/default/dso_loader.cc:64] Could not load dynamic library 'libcudart.so.11.0'; dlerror: libcudart.so.11.0: cannot open shared object file: No such file or directory; LD_LIBRARY_PATH: /usr/local/cuda-12.3/lib64\n",
      "2024-07-01 23:43:55.385142: W tensorflow/compiler/xla/stream_executor/platform/default/dso_loader.cc:64] Could not load dynamic library 'libnvinfer.so.7'; dlerror: libnvinfer.so.7: cannot open shared object file: No such file or directory; LD_LIBRARY_PATH: /usr/local/cuda-12.3/lib64\n",
      "2024-07-01 23:43:55.385255: W tensorflow/compiler/xla/stream_executor/platform/default/dso_loader.cc:64] Could not load dynamic library 'libnvinfer_plugin.so.7'; dlerror: libnvinfer_plugin.so.7: cannot open shared object file: No such file or directory; LD_LIBRARY_PATH: /usr/local/cuda-12.3/lib64\n",
      "2024-07-01 23:43:55.385262: W tensorflow/compiler/tf2tensorrt/utils/py_utils.cc:38] TF-TRT Warning: Cannot dlopen some TensorRT libraries. If you would like to use Nvidia GPU with TensorRT, please make sure the missing libraries mentioned above are installed properly.\n",
      "(EE) \n",
      "Fatal server error:\n",
      "(EE) Server is already active for display 99\n",
      "\tIf this server is no longer running, remove /tmp/.X99-lock\n",
      "\tand start again.\n",
      "(EE) \n"
     ]
    }
   ],
   "source": [
    "import os\n",
    "os.environ['CUDA_VISIBLE_DEVICES'] = '1'\n",
    "import sys\n",
    "from pathlib import Path\n",
    "import anndata as ad\n",
    "import scanpy as sc\n",
    "import numpy as np\n",
    "import warnings\n",
    "warnings.simplefilter(action='ignore', category=FutureWarning)\n",
    "import seaborn as sns\n",
    "from matplotlib import pyplot as plt\n",
    "\n",
    "sys.path.insert(0, \"../../scripts/methods/\")\n",
    "from my_paste2 import paste2_align, paste2_align_ref\n",
    "sys.path.insert(0, \"/home/ylu/project\")\n",
    "from utils import *\n",
    "import time\n",
    "\n",
    "os.system('/usr/bin/Xvfb :99 -screen 0 1024x768x24 &')\n",
    "os.environ['DISPLAY'] = ':99'\n",
    "\n",
    "%load_ext autoreload\n",
    "%autoreload 2"
   ]
  },
  {
   "cell_type": "code",
   "execution_count": 7,
   "id": "e7b47bc4-0453-474d-a39f-aa14ed636caa",
   "metadata": {},
   "outputs": [],
   "source": [
    "data_folder = \"./results/split_slices/\"\n",
    "results_folder = \"./results/PASTE2/\"\n",
    "figures_folder = \"./results/figures/PASTE2\"\n",
    "Path(results_folder).mkdir(parents=True, exist_ok=True)\n",
    "Path(figures_folder).mkdir(parents=True, exist_ok=True)"
   ]
  },
  {
   "cell_type": "code",
   "execution_count": 2,
   "id": "dea7abee-5509-4d87-8b86-19fb460fcb84",
   "metadata": {},
   "outputs": [
    {
     "name": "stderr",
     "output_type": "stream",
     "text": [
      "100%|████████████████████████| 59/59 [03:29<00:00,  3.55s/it]\n"
     ]
    }
   ],
   "source": [
    "## load the data\n",
    "from tqdm import tqdm\n",
    "slices = []\n",
    "for i in tqdm(range(59)):\n",
    "    slices.append(ad.read_h5ad(os.path.join(data_folder, f\"slice_{i}.h5ad\")))"
   ]
  },
  {
   "cell_type": "code",
   "execution_count": 3,
   "id": "24840e17-a7da-4938-8e80-c4d7993303be",
   "metadata": {},
   "outputs": [],
   "source": [
    "spatial_key = \"spatial\"\n",
    "anno_key = \"class\"\n",
    "palette = slices[0].uns[f\"{anno_key}_palette\"]"
   ]
  },
  {
   "cell_type": "code",
   "execution_count": 4,
   "id": "1bf95a00-6497-41f2-959f-fd6b207731c0",
   "metadata": {},
   "outputs": [],
   "source": [
    "## Rotate the data\n",
    "rotate_key = \"spatial_rot\"\n",
    "rotations = np.load(\"./results/random_rotations.npy\", allow_pickle=True)\n",
    "for i in range(len(slices)):\n",
    "    slices[i].obsm[rotate_key] = slices[i].obsm[spatial_key][:,:2].copy()\n",
    "    mean = np.mean(slices[i].obsm[rotate_key], axis=0)\n",
    "    slices[i].obsm[rotate_key] = slices[i].obsm[rotate_key] - mean\n",
    "    slices[i].obsm[rotate_key] = slices[i].obsm[rotate_key] @ rotations[i].T + mean\n",
    "    "
   ]
  },
  {
   "cell_type": "code",
   "execution_count": 5,
   "id": "3e3a25fd-c7b7-4bcf-bd2f-214badbcbbaa",
   "metadata": {},
   "outputs": [],
   "source": [
    "spatial_key = \"spatial_rot\"\n",
    "key_added = \"aligned_spatial\""
   ]
  },
  {
   "cell_type": "code",
   "execution_count": null,
   "id": "4d4bce49-e6f9-40da-8186-ac93595f278b",
   "metadata": {},
   "outputs": [
    {
     "name": "stderr",
     "output_type": "stream",
     "text": [
      "  0%|                                 | 0/58 [00:00<?, ?it/s]/home/ylu/project/Benchmark_alignment_methods/notebooks/AllenMouseCellAtlas/../../scripts/methods/my_paste2.py:113: ImplicitModificationWarning: Setting element `.obsm['aligned_spatial']` of view, initializing view as actual.\n",
      "  m.obsm[key_added] = m.obsm[spatial_key]\n"
     ]
    },
    {
     "name": "stdout",
     "output_type": "stream",
     "text": [
      "PASTE2 starts...\n",
      "It.  |Loss        |Relative loss|Absolute loss\n",
      "------------------------------------------------\n",
      "    0|3.893403e+00|0.000000e+00|0.000000e+00\n",
      "    1|1.207100e+00|2.225420e+00|2.686304e+00\n",
      "    2|1.105224e+00|9.217671e-02|1.018759e-01\n",
      "    3|1.004427e+00|1.003525e-01|1.007967e-01\n",
      "    4|1.001866e+00|2.555898e-03|2.560668e-03\n",
      "    5|1.001856e+00|1.089936e-05|1.091959e-05\n",
      "    6|1.001855e+00|8.993193e-08|9.009879e-08\n",
      " 1000|1.001855e+00|0.000000e+00|0.000000e+00\n"
     ]
    },
    {
     "name": "stderr",
     "output_type": "stream",
     "text": [
      "  2%|▍                     | 1/58 [02:24<2:17:02, 144.25s/it]/home/ylu/project/Benchmark_alignment_methods/notebooks/AllenMouseCellAtlas/../../scripts/methods/my_paste2.py:113: ImplicitModificationWarning: Setting element `.obsm['aligned_spatial']` of view, initializing view as actual.\n",
      "  m.obsm[key_added] = m.obsm[spatial_key]\n"
     ]
    },
    {
     "name": "stdout",
     "output_type": "stream",
     "text": [
      "PASTE2 starts...\n",
      "It.  |Loss        |Relative loss|Absolute loss\n",
      "------------------------------------------------\n",
      "    0|3.768861e+00|0.000000e+00|0.000000e+00\n",
      "    1|1.267772e+00|1.972823e+00|2.501090e+00\n",
      "    2|1.152712e+00|9.981656e-02|1.150598e-01\n",
      "    3|1.098687e+00|4.917198e-02|5.402464e-02\n",
      "    4|1.097706e+00|8.937080e-04|9.810290e-04\n",
      "    5|1.097697e+00|8.903430e-06|9.773265e-06\n",
      " 1000|1.097697e+00|0.000000e+00|0.000000e+00\n"
     ]
    },
    {
     "name": "stderr",
     "output_type": "stream",
     "text": [
      "  3%|▊                     | 2/58 [04:27<2:03:19, 132.13s/it]/home/ylu/project/Benchmark_alignment_methods/notebooks/AllenMouseCellAtlas/../../scripts/methods/my_paste2.py:113: ImplicitModificationWarning: Setting element `.obsm['aligned_spatial']` of view, initializing view as actual.\n",
      "  m.obsm[key_added] = m.obsm[spatial_key]\n"
     ]
    },
    {
     "name": "stdout",
     "output_type": "stream",
     "text": [
      "PASTE2 starts...\n",
      "It.  |Loss        |Relative loss|Absolute loss\n",
      "------------------------------------------------\n",
      "    0|4.038278e+00|0.000000e+00|0.000000e+00\n",
      "    1|1.518068e+00|1.660144e+00|2.520210e+00\n",
      "    2|1.291473e+00|1.754547e-01|2.265949e-01\n",
      "    3|1.228792e+00|5.100959e-02|6.268019e-02\n",
      "    4|1.228142e+00|5.296570e-04|6.504940e-04\n",
      "    5|1.228106e+00|2.896308e-05|3.556974e-05\n",
      "    6|1.228092e+00|1.196731e-05|1.469696e-05\n",
      "    7|1.228082e+00|7.503292e-06|9.214661e-06\n",
      "    8|1.228077e+00|4.271609e-06|5.245866e-06\n",
      "    9|1.228074e+00|2.808633e-06|3.449208e-06\n",
      "   10|1.228070e+00|2.894971e-06|3.555227e-06\n",
      "   11|1.228067e+00|2.805897e-06|3.445829e-06\n",
      " 1000|1.228067e+00|0.000000e+00|0.000000e+00\n"
     ]
    },
    {
     "name": "stderr",
     "output_type": "stream",
     "text": [
      "  5%|█▏                    | 3/58 [08:36<2:49:48, 185.24s/it]/home/ylu/project/Benchmark_alignment_methods/notebooks/AllenMouseCellAtlas/../../scripts/methods/my_paste2.py:113: ImplicitModificationWarning: Setting element `.obsm['aligned_spatial']` of view, initializing view as actual.\n",
      "  m.obsm[key_added] = m.obsm[spatial_key]\n"
     ]
    },
    {
     "name": "stdout",
     "output_type": "stream",
     "text": [
      "PASTE2 starts...\n",
      "It.  |Loss        |Relative loss|Absolute loss\n",
      "------------------------------------------------\n",
      "    0|3.891316e+00|0.000000e+00|0.000000e+00\n",
      "    1|1.216004e+00|2.200085e+00|2.675312e+00\n",
      "    2|1.078797e+00|1.271851e-01|1.372069e-01\n",
      "    3|9.925249e-01|8.692166e-02|8.627191e-02\n",
      "    4|9.911038e-01|1.433899e-03|1.421143e-03\n",
      "    5|9.910881e-01|1.583946e-05|1.569830e-05\n",
      "    6|9.910871e-01|9.599885e-07|9.514322e-07\n",
      " 1000|9.910871e-01|0.000000e+00|0.000000e+00\n"
     ]
    },
    {
     "name": "stderr",
     "output_type": "stream",
     "text": [
      "  7%|█▌                    | 4/58 [11:00<2:31:58, 168.86s/it]/home/ylu/project/Benchmark_alignment_methods/notebooks/AllenMouseCellAtlas/../../scripts/methods/my_paste2.py:113: ImplicitModificationWarning: Setting element `.obsm['aligned_spatial']` of view, initializing view as actual.\n",
      "  m.obsm[key_added] = m.obsm[spatial_key]\n"
     ]
    },
    {
     "name": "stdout",
     "output_type": "stream",
     "text": [
      "PASTE2 starts...\n",
      "It.  |Loss        |Relative loss|Absolute loss\n",
      "------------------------------------------------\n",
      "    0|3.715134e+00|0.000000e+00|0.000000e+00\n",
      "    1|1.213876e+00|2.060556e+00|2.501258e+00\n",
      "    2|1.078575e+00|1.254438e-01|1.353006e-01\n",
      "    3|1.011313e+00|6.650978e-02|6.726220e-02\n",
      "    4|1.010400e+00|9.033442e-04|9.127391e-04\n",
      "    5|1.010394e+00|5.805868e-06|5.866216e-06\n",
      "    6|1.010394e+00|1.084947e-07|1.096225e-07\n",
      "    7|1.010394e+00|9.542379e-08|9.641563e-08\n",
      " 1000|1.010394e+00|0.000000e+00|0.000000e+00\n"
     ]
    },
    {
     "name": "stderr",
     "output_type": "stream",
     "text": [
      "  9%|█▉                    | 5/58 [13:45<2:28:12, 167.79s/it]/home/ylu/project/Benchmark_alignment_methods/notebooks/AllenMouseCellAtlas/../../scripts/methods/my_paste2.py:113: ImplicitModificationWarning: Setting element `.obsm['aligned_spatial']` of view, initializing view as actual.\n",
      "  m.obsm[key_added] = m.obsm[spatial_key]\n"
     ]
    },
    {
     "name": "stdout",
     "output_type": "stream",
     "text": [
      "PASTE2 starts...\n",
      "It.  |Loss        |Relative loss|Absolute loss\n",
      "------------------------------------------------\n",
      "    0|3.701998e+00|0.000000e+00|0.000000e+00\n",
      "    1|1.238922e+00|1.988080e+00|2.463076e+00\n",
      "    2|1.194674e+00|3.703771e-02|4.424800e-02\n",
      "    3|1.059130e+00|1.279764e-01|1.355437e-01\n",
      "    4|1.048983e+00|9.673706e-03|1.014755e-02\n",
      "    5|1.048926e+00|5.429718e-05|5.695372e-05\n",
      "    6|1.048924e+00|1.772337e-06|1.859047e-06\n",
      " 1000|1.048924e+00|0.000000e+00|0.000000e+00\n"
     ]
    },
    {
     "name": "stderr",
     "output_type": "stream",
     "text": [
      " 10%|██▎                   | 6/58 [16:19<2:21:13, 162.96s/it]/home/ylu/project/Benchmark_alignment_methods/notebooks/AllenMouseCellAtlas/../../scripts/methods/my_paste2.py:113: ImplicitModificationWarning: Setting element `.obsm['aligned_spatial']` of view, initializing view as actual.\n",
      "  m.obsm[key_added] = m.obsm[spatial_key]\n"
     ]
    },
    {
     "name": "stdout",
     "output_type": "stream",
     "text": [
      "PASTE2 starts...\n",
      "It.  |Loss        |Relative loss|Absolute loss\n",
      "------------------------------------------------\n",
      "    0|3.802452e+00|0.000000e+00|0.000000e+00\n",
      "    1|1.279312e+00|1.972264e+00|2.523141e+00\n",
      "    2|1.247847e+00|2.521489e-02|3.146433e-02\n",
      "    3|1.141292e+00|9.336414e-02|1.065557e-01\n",
      "    4|1.128631e+00|1.121757e-02|1.266050e-02\n",
      "    5|1.128482e+00|1.323378e-04|1.493408e-04\n",
      "    6|1.128473e+00|7.951085e-06|8.972583e-06\n",
      "    7|1.128470e+00|2.652258e-06|2.992993e-06\n",
      "    8|1.128470e+00|1.299920e-08|1.466921e-08\n",
      " 1000|1.128470e+00|0.000000e+00|0.000000e+00\n"
     ]
    },
    {
     "name": "stderr",
     "output_type": "stream",
     "text": [
      " 12%|██▋                   | 7/58 [19:39<2:28:44, 174.99s/it]/home/ylu/project/Benchmark_alignment_methods/notebooks/AllenMouseCellAtlas/../../scripts/methods/my_paste2.py:113: ImplicitModificationWarning: Setting element `.obsm['aligned_spatial']` of view, initializing view as actual.\n",
      "  m.obsm[key_added] = m.obsm[spatial_key]\n"
     ]
    },
    {
     "name": "stdout",
     "output_type": "stream",
     "text": [
      "PASTE2 starts...\n",
      "It.  |Loss        |Relative loss|Absolute loss\n",
      "------------------------------------------------\n",
      "    0|3.950292e+00|0.000000e+00|0.000000e+00\n",
      "    1|1.598579e+00|1.471126e+00|2.351712e+00\n",
      "    2|1.539071e+00|3.866480e-02|5.950789e-02\n",
      "    3|1.427117e+00|7.844812e-02|1.119546e-01\n",
      "    4|1.419655e+00|5.256066e-03|7.461800e-03\n",
      "    5|1.419180e+00|3.349174e-04|4.753081e-04\n",
      "    6|1.419046e+00|9.397609e-05|1.333564e-04\n",
      "    7|1.418994e+00|3.667869e-05|5.204685e-05\n",
      "    8|1.418985e+00|6.640826e-06|9.423233e-06\n",
      "    9|1.418983e+00|1.072661e-06|1.522088e-06\n",
      "   10|1.418983e+00|2.192703e-07|3.111408e-07\n",
      " 1000|1.418983e+00|0.000000e+00|0.000000e+00\n"
     ]
    },
    {
     "name": "stderr",
     "output_type": "stream",
     "text": [
      " 14%|███                   | 8/58 [23:36<2:42:12, 194.64s/it]/home/ylu/project/Benchmark_alignment_methods/notebooks/AllenMouseCellAtlas/../../scripts/methods/my_paste2.py:113: ImplicitModificationWarning: Setting element `.obsm['aligned_spatial']` of view, initializing view as actual.\n",
      "  m.obsm[key_added] = m.obsm[spatial_key]\n"
     ]
    },
    {
     "name": "stdout",
     "output_type": "stream",
     "text": [
      "PASTE2 starts...\n",
      "It.  |Loss        |Relative loss|Absolute loss\n",
      "------------------------------------------------\n",
      "    0|3.891998e+00|0.000000e+00|0.000000e+00\n",
      "    1|1.245681e+00|2.124393e+00|2.646316e+00\n",
      "    2|1.214491e+00|2.568194e-02|3.119048e-02\n",
      "    3|1.146507e+00|5.929696e-02|6.798435e-02\n",
      "    4|1.132284e+00|1.256127e-02|1.422292e-02\n",
      "    5|1.131363e+00|8.140141e-04|9.209451e-04\n",
      "    6|1.131144e+00|1.932781e-04|2.186254e-04\n",
      "    7|1.131081e+00|5.593683e-05|6.326908e-05\n",
      "    8|1.131056e+00|2.184390e-05|2.470667e-05\n",
      "    9|1.131041e+00|1.311636e-05|1.483514e-05\n",
      "   10|1.131040e+00|1.061640e-06|1.200758e-06\n",
      "   11|1.131037e+00|2.602693e-06|2.943742e-06\n",
      " 1000|1.131037e+00|0.000000e+00|0.000000e+00\n"
     ]
    },
    {
     "name": "stderr",
     "output_type": "stream",
     "text": [
      " 16%|███▍                  | 9/58 [27:41<2:51:53, 210.47s/it]/home/ylu/project/Benchmark_alignment_methods/notebooks/AllenMouseCellAtlas/../../scripts/methods/my_paste2.py:113: ImplicitModificationWarning: Setting element `.obsm['aligned_spatial']` of view, initializing view as actual.\n",
      "  m.obsm[key_added] = m.obsm[spatial_key]\n"
     ]
    },
    {
     "name": "stdout",
     "output_type": "stream",
     "text": [
      "PASTE2 starts...\n",
      "It.  |Loss        |Relative loss|Absolute loss\n",
      "------------------------------------------------\n",
      "    0|3.737992e+00|0.000000e+00|0.000000e+00\n",
      "    1|1.159320e+00|2.224298e+00|2.578673e+00\n",
      "    2|1.124989e+00|3.051683e-02|3.433109e-02\n",
      "    3|1.076519e+00|4.502497e-02|4.847021e-02\n",
      "    4|1.064548e+00|1.124470e-02|1.197052e-02\n",
      "    5|1.063595e+00|8.955642e-04|9.525181e-04\n",
      "    6|1.063443e+00|1.436425e-04|1.527556e-04\n",
      "    7|1.063432e+00|1.022694e-05|1.087565e-05\n",
      "    8|1.063430e+00|1.344143e-06|1.429402e-06\n",
      " 1000|1.063430e+00|8.352013e-16|8.881784e-16\n"
     ]
    },
    {
     "name": "stderr",
     "output_type": "stream",
     "text": [
      " 17%|███▌                 | 10/58 [30:43<2:41:29, 201.86s/it]/home/ylu/project/Benchmark_alignment_methods/notebooks/AllenMouseCellAtlas/../../scripts/methods/my_paste2.py:113: ImplicitModificationWarning: Setting element `.obsm['aligned_spatial']` of view, initializing view as actual.\n",
      "  m.obsm[key_added] = m.obsm[spatial_key]\n"
     ]
    },
    {
     "name": "stdout",
     "output_type": "stream",
     "text": [
      "PASTE2 starts...\n",
      "It.  |Loss        |Relative loss|Absolute loss\n",
      "------------------------------------------------\n",
      "    0|3.787424e+00|0.000000e+00|0.000000e+00\n",
      "    1|1.585375e+00|1.388977e+00|2.202049e+00\n",
      "    2|1.500415e+00|5.662421e-02|8.495982e-02\n",
      "    3|1.387828e+00|8.112445e-02|1.125868e-01\n",
      "    4|1.383332e+00|3.250475e-03|4.496486e-03\n",
      "    5|1.382904e+00|3.095173e-04|4.280326e-04\n",
      "    6|1.382758e+00|1.052033e-04|1.454708e-04\n",
      "    7|1.382726e+00|2.364116e-05|3.268924e-05\n",
      "    8|1.382724e+00|1.281762e-06|1.772323e-06\n",
      "    9|1.382724e+00|1.742531e-07|2.409439e-07\n",
      "   10|1.382723e+00|6.612983e-07|9.143921e-07\n",
      " 1000|1.382723e+00|0.000000e+00|0.000000e+00\n"
     ]
    },
    {
     "name": "stderr",
     "output_type": "stream",
     "text": [
      " 19%|███▉                 | 11/58 [34:35<2:45:15, 210.96s/it]/home/ylu/project/Benchmark_alignment_methods/notebooks/AllenMouseCellAtlas/../../scripts/methods/my_paste2.py:113: ImplicitModificationWarning: Setting element `.obsm['aligned_spatial']` of view, initializing view as actual.\n",
      "  m.obsm[key_added] = m.obsm[spatial_key]\n"
     ]
    },
    {
     "name": "stdout",
     "output_type": "stream",
     "text": [
      "PASTE2 starts...\n",
      "It.  |Loss        |Relative loss|Absolute loss\n",
      "------------------------------------------------\n",
      "    0|3.646725e+00|0.000000e+00|0.000000e+00\n",
      "    1|1.290112e+00|1.826673e+00|2.356613e+00\n",
      "    2|1.073464e+00|2.018216e-01|2.166482e-01\n",
      "    3|9.868905e-01|8.772364e-02|8.657362e-02\n",
      "    4|9.857010e-01|1.206783e-03|1.189527e-03\n",
      "    5|9.856466e-01|5.516503e-05|5.437322e-05\n",
      "    6|9.856432e-01|3.468315e-06|3.418521e-06\n",
      " 1000|9.856432e-01|2.252789e-16|2.220446e-16\n"
     ]
    },
    {
     "name": "stderr",
     "output_type": "stream",
     "text": [
      " 21%|████▎                | 12/58 [36:57<2:25:40, 190.00s/it]/home/ylu/project/Benchmark_alignment_methods/notebooks/AllenMouseCellAtlas/../../scripts/methods/my_paste2.py:113: ImplicitModificationWarning: Setting element `.obsm['aligned_spatial']` of view, initializing view as actual.\n",
      "  m.obsm[key_added] = m.obsm[spatial_key]\n"
     ]
    },
    {
     "name": "stdout",
     "output_type": "stream",
     "text": [
      "PASTE2 starts...\n",
      "It.  |Loss        |Relative loss|Absolute loss\n",
      "------------------------------------------------\n",
      "    0|3.590190e+00|0.000000e+00|0.000000e+00\n",
      "    1|1.437430e+00|1.497644e+00|2.152759e+00\n",
      "    2|1.321442e+00|8.777428e-02|1.159886e-01\n",
      "    3|1.221000e+00|8.226165e-02|1.004415e-01\n",
      "    4|1.218774e+00|1.826344e-03|2.225901e-03\n",
      "    5|1.218722e+00|4.269728e-05|5.203612e-05\n",
      "    6|1.218708e+00|1.158347e-05|1.411687e-05\n",
      "    7|1.218702e+00|5.161073e-06|6.289809e-06\n",
      "    8|1.218702e+00|7.196789e-09|8.770739e-09\n",
      " 1000|1.218702e+00|0.000000e+00|0.000000e+00\n"
     ]
    },
    {
     "name": "stderr",
     "output_type": "stream",
     "text": [
      " 22%|████▋                | 13/58 [40:07<2:22:26, 189.93s/it]/home/ylu/project/Benchmark_alignment_methods/notebooks/AllenMouseCellAtlas/../../scripts/methods/my_paste2.py:113: ImplicitModificationWarning: Setting element `.obsm['aligned_spatial']` of view, initializing view as actual.\n",
      "  m.obsm[key_added] = m.obsm[spatial_key]\n"
     ]
    },
    {
     "name": "stdout",
     "output_type": "stream",
     "text": [
      "PASTE2 starts...\n",
      "It.  |Loss        |Relative loss|Absolute loss\n",
      "------------------------------------------------\n",
      "    0|3.595832e+00|0.000000e+00|0.000000e+00\n",
      "    1|1.193033e+00|2.014027e+00|2.402799e+00\n",
      "    2|1.101534e+00|8.306501e-02|9.149890e-02\n",
      "    3|1.015231e+00|8.500785e-02|8.630260e-02\n",
      "    4|1.013407e+00|1.800387e-03|1.824524e-03\n",
      "    5|1.013403e+00|3.437424e-06|3.483496e-06\n",
      " 1000|1.013403e+00|0.000000e+00|0.000000e+00\n"
     ]
    },
    {
     "name": "stderr",
     "output_type": "stream",
     "text": [
      " 24%|█████                | 14/58 [42:09<2:04:18, 169.51s/it]/home/ylu/project/Benchmark_alignment_methods/notebooks/AllenMouseCellAtlas/../../scripts/methods/my_paste2.py:113: ImplicitModificationWarning: Setting element `.obsm['aligned_spatial']` of view, initializing view as actual.\n",
      "  m.obsm[key_added] = m.obsm[spatial_key]\n"
     ]
    },
    {
     "name": "stdout",
     "output_type": "stream",
     "text": [
      "PASTE2 starts...\n",
      "It.  |Loss        |Relative loss|Absolute loss\n",
      "------------------------------------------------\n",
      "    0|3.759475e+00|0.000000e+00|0.000000e+00\n",
      "    1|1.502545e+00|1.502071e+00|2.256930e+00\n",
      "    2|1.357563e+00|1.067962e-01|1.449825e-01\n",
      "    3|1.286909e+00|5.490188e-02|7.065372e-02\n",
      "    4|1.285641e+00|9.863782e-04|1.268128e-03\n",
      "    5|1.285603e+00|2.928801e-05|3.765276e-05\n",
      "    6|1.285596e+00|5.209279e-06|6.697031e-06\n",
      "    7|1.285592e+00|3.210271e-06|4.127099e-06\n",
      " 1000|1.285592e+00|0.000000e+00|0.000000e+00\n"
     ]
    },
    {
     "name": "stderr",
     "output_type": "stream",
     "text": [
      " 26%|█████▍               | 15/58 [44:52<2:00:07, 167.62s/it]/home/ylu/project/Benchmark_alignment_methods/notebooks/AllenMouseCellAtlas/../../scripts/methods/my_paste2.py:113: ImplicitModificationWarning: Setting element `.obsm['aligned_spatial']` of view, initializing view as actual.\n",
      "  m.obsm[key_added] = m.obsm[spatial_key]\n"
     ]
    },
    {
     "name": "stdout",
     "output_type": "stream",
     "text": [
      "PASTE2 starts...\n",
      "It.  |Loss        |Relative loss|Absolute loss\n",
      "------------------------------------------------\n",
      "    0|3.843769e+00|0.000000e+00|0.000000e+00\n",
      "    1|1.524723e+00|1.520962e+00|2.319046e+00\n",
      "    2|1.481505e+00|2.917194e-02|4.321838e-02\n",
      "    3|1.372046e+00|7.977811e-02|1.094592e-01\n",
      "    4|1.340598e+00|2.345836e-02|3.144822e-02\n",
      "    5|1.339525e+00|8.008172e-04|1.072715e-03\n",
      "    6|1.339442e+00|6.198929e-05|8.303105e-05\n",
      "    7|1.339423e+00|1.392582e-05|1.865256e-05\n",
      "    8|1.339417e+00|4.585446e-06|6.141825e-06\n",
      " 1000|1.339417e+00|0.000000e+00|0.000000e+00\n"
     ]
    },
    {
     "name": "stderr",
     "output_type": "stream",
     "text": [
      " 28%|█████▊               | 16/58 [47:57<2:00:50, 172.62s/it]/home/ylu/project/Benchmark_alignment_methods/notebooks/AllenMouseCellAtlas/../../scripts/methods/my_paste2.py:113: ImplicitModificationWarning: Setting element `.obsm['aligned_spatial']` of view, initializing view as actual.\n",
      "  m.obsm[key_added] = m.obsm[spatial_key]\n"
     ]
    },
    {
     "name": "stdout",
     "output_type": "stream",
     "text": [
      "PASTE2 starts...\n",
      "It.  |Loss        |Relative loss|Absolute loss\n",
      "------------------------------------------------\n",
      "    0|3.679972e+00|0.000000e+00|0.000000e+00\n",
      "    1|1.439902e+00|1.555710e+00|2.240070e+00\n",
      "    2|1.423224e+00|1.171897e-02|1.667872e-02\n",
      "    3|1.418497e+00|3.332409e-03|4.727011e-03\n",
      "    4|1.348422e+00|5.196807e-02|7.007487e-02\n",
      "    5|1.283772e+00|5.035959e-02|6.465021e-02\n",
      "    6|1.281768e+00|1.563207e-03|2.003668e-03\n",
      "    7|1.281740e+00|2.188763e-05|2.805425e-05\n",
      "    8|1.281738e+00|1.518113e-06|1.945823e-06\n",
      "    9|1.281737e+00|5.698020e-07|7.303364e-07\n",
      " 1000|1.281737e+00|1.732372e-16|2.220446e-16\n"
     ]
    },
    {
     "name": "stderr",
     "output_type": "stream",
     "text": [
      " 29%|██████▏              | 17/58 [51:20<2:04:21, 181.99s/it]/home/ylu/project/Benchmark_alignment_methods/notebooks/AllenMouseCellAtlas/../../scripts/methods/my_paste2.py:113: ImplicitModificationWarning: Setting element `.obsm['aligned_spatial']` of view, initializing view as actual.\n",
      "  m.obsm[key_added] = m.obsm[spatial_key]\n"
     ]
    },
    {
     "name": "stdout",
     "output_type": "stream",
     "text": [
      "PASTE2 starts...\n",
      "It.  |Loss        |Relative loss|Absolute loss\n",
      "------------------------------------------------\n",
      "    0|3.773870e+00|0.000000e+00|0.000000e+00\n",
      "    1|1.613260e+00|1.339282e+00|2.160610e+00\n",
      "    2|1.444383e+00|1.169203e-01|1.688777e-01\n",
      "    3|1.381794e+00|4.529522e-02|6.258866e-02\n",
      "    4|1.380713e+00|7.830024e-04|1.081101e-03\n",
      "    5|1.380636e+00|5.590156e-05|7.717968e-05\n",
      "    6|1.380629e+00|5.003138e-06|6.907475e-06\n",
      "    7|1.380628e+00|5.504000e-07|7.598977e-07\n",
      " 1000|1.380628e+00|0.000000e+00|0.000000e+00\n"
     ]
    },
    {
     "name": "stderr",
     "output_type": "stream",
     "text": [
      " 31%|██████▌              | 18/58 [54:07<1:58:11, 177.30s/it]/home/ylu/project/Benchmark_alignment_methods/notebooks/AllenMouseCellAtlas/../../scripts/methods/my_paste2.py:113: ImplicitModificationWarning: Setting element `.obsm['aligned_spatial']` of view, initializing view as actual.\n",
      "  m.obsm[key_added] = m.obsm[spatial_key]\n"
     ]
    },
    {
     "name": "stdout",
     "output_type": "stream",
     "text": [
      "PASTE2 starts...\n",
      "It.  |Loss        |Relative loss|Absolute loss\n",
      "------------------------------------------------\n",
      "    0|3.966706e+00|0.000000e+00|0.000000e+00\n",
      "    1|1.460782e+00|1.715468e+00|2.505924e+00\n",
      "    2|1.157743e+00|2.617494e-01|3.030387e-01\n",
      "    3|1.133494e+00|2.139295e-02|2.424879e-02\n",
      "    4|1.133095e+00|3.521140e-04|3.989788e-04\n",
      "    5|1.133053e+00|3.788004e-05|4.292008e-05\n",
      "    6|1.133044e+00|7.522602e-06|8.523439e-06\n",
      " 1000|1.133044e+00|5.879152e-16|6.661338e-16\n"
     ]
    },
    {
     "name": "stderr",
     "output_type": "stream",
     "text": [
      " 33%|██████▉              | 19/58 [56:31<1:48:45, 167.31s/it]/home/ylu/project/Benchmark_alignment_methods/notebooks/AllenMouseCellAtlas/../../scripts/methods/my_paste2.py:113: ImplicitModificationWarning: Setting element `.obsm['aligned_spatial']` of view, initializing view as actual.\n",
      "  m.obsm[key_added] = m.obsm[spatial_key]\n"
     ]
    },
    {
     "name": "stdout",
     "output_type": "stream",
     "text": [
      "PASTE2 starts...\n",
      "It.  |Loss        |Relative loss|Absolute loss\n",
      "------------------------------------------------\n",
      "    0|3.732519e+00|0.000000e+00|0.000000e+00\n",
      "    1|1.266921e+00|1.946134e+00|2.465598e+00\n",
      "    2|1.078570e+00|1.746299e-01|1.883507e-01\n",
      "    3|1.024165e+00|5.312213e-02|5.440581e-02\n",
      "    4|1.023321e+00|8.239432e-04|8.431587e-04\n",
      "    5|1.023305e+00|1.570932e-05|1.607543e-05\n",
      "    6|1.023305e+00|2.778026e-07|2.842768e-07\n",
      " 1000|1.023305e+00|0.000000e+00|0.000000e+00\n"
     ]
    },
    {
     "name": "stderr",
     "output_type": "stream",
     "text": [
      " 34%|███████▏             | 20/58 [58:52<1:41:03, 159.56s/it]/home/ylu/project/Benchmark_alignment_methods/notebooks/AllenMouseCellAtlas/../../scripts/methods/my_paste2.py:113: ImplicitModificationWarning: Setting element `.obsm['aligned_spatial']` of view, initializing view as actual.\n",
      "  m.obsm[key_added] = m.obsm[spatial_key]\n"
     ]
    },
    {
     "name": "stdout",
     "output_type": "stream",
     "text": [
      "PASTE2 starts...\n",
      "It.  |Loss        |Relative loss|Absolute loss\n",
      "------------------------------------------------\n",
      "    0|3.613366e+00|0.000000e+00|0.000000e+00\n",
      "    1|1.331013e+00|1.714748e+00|2.282353e+00\n",
      "    2|1.311309e+00|1.502606e-02|1.970382e-02\n",
      "    3|1.224153e+00|7.119695e-02|8.715600e-02\n",
      "    4|1.145630e+00|6.854175e-02|7.852349e-02\n",
      "    5|1.140333e+00|4.645095e-03|5.296955e-03\n",
      "    6|1.140041e+00|2.563708e-04|2.922732e-04\n",
      "    7|1.139982e+00|5.163681e-05|5.886502e-05\n",
      "    8|1.139981e+00|4.102171e-07|4.676398e-07\n",
      " 1000|1.139981e+00|0.000000e+00|0.000000e+00\n"
     ]
    },
    {
     "name": "stderr",
     "output_type": "stream",
     "text": [
      " 36%|██████▉            | 21/58 [1:01:54<1:42:24, 166.08s/it]/home/ylu/project/Benchmark_alignment_methods/notebooks/AllenMouseCellAtlas/../../scripts/methods/my_paste2.py:113: ImplicitModificationWarning: Setting element `.obsm['aligned_spatial']` of view, initializing view as actual.\n",
      "  m.obsm[key_added] = m.obsm[spatial_key]\n"
     ]
    },
    {
     "name": "stdout",
     "output_type": "stream",
     "text": [
      "PASTE2 starts...\n",
      "It.  |Loss        |Relative loss|Absolute loss\n",
      "------------------------------------------------\n",
      "    0|3.578587e+00|0.000000e+00|0.000000e+00\n",
      "    1|1.251929e+00|1.858459e+00|2.326658e+00\n",
      "    2|1.241010e+00|8.798594e-03|1.091914e-02\n",
      "    3|1.208414e+00|2.697377e-02|3.259548e-02\n",
      "    4|1.063909e+00|1.358243e-01|1.445047e-01\n",
      "    5|1.045695e+00|1.741881e-02|1.821476e-02\n",
      "    6|1.045070e+00|5.971869e-04|6.241024e-04\n",
      "    7|1.044992e+00|7.501610e-05|7.839123e-05\n",
      "    8|1.044989e+00|2.629827e-06|2.748141e-06\n",
      " 1000|1.044989e+00|0.000000e+00|0.000000e+00\n"
     ]
    },
    {
     "name": "stderr",
     "output_type": "stream",
     "text": [
      " 38%|███████▏           | 22/58 [1:04:46<1:40:51, 168.10s/it]/home/ylu/project/Benchmark_alignment_methods/notebooks/AllenMouseCellAtlas/../../scripts/methods/my_paste2.py:113: ImplicitModificationWarning: Setting element `.obsm['aligned_spatial']` of view, initializing view as actual.\n",
      "  m.obsm[key_added] = m.obsm[spatial_key]\n"
     ]
    },
    {
     "name": "stdout",
     "output_type": "stream",
     "text": [
      "PASTE2 starts...\n",
      "It.  |Loss        |Relative loss|Absolute loss\n",
      "------------------------------------------------\n",
      "    0|3.644883e+00|0.000000e+00|0.000000e+00\n",
      "    1|1.457023e+00|1.501596e+00|2.187860e+00\n",
      "    2|1.230058e+00|1.845159e-01|2.269652e-01\n",
      "    3|1.088453e+00|1.300971e-01|1.416046e-01\n",
      "    4|1.087500e+00|8.761102e-04|9.527702e-04\n",
      "    5|1.087490e+00|9.226110e-06|1.003331e-05\n",
      "    6|1.087488e+00|1.936313e-06|2.105718e-06\n",
      " 1000|1.087488e+00|6.125434e-16|6.661338e-16\n"
     ]
    },
    {
     "name": "stderr",
     "output_type": "stream",
     "text": [
      " 40%|███████▌           | 23/58 [1:07:07<1:33:18, 159.95s/it]/home/ylu/project/Benchmark_alignment_methods/notebooks/AllenMouseCellAtlas/../../scripts/methods/my_paste2.py:113: ImplicitModificationWarning: Setting element `.obsm['aligned_spatial']` of view, initializing view as actual.\n",
      "  m.obsm[key_added] = m.obsm[spatial_key]\n"
     ]
    },
    {
     "name": "stdout",
     "output_type": "stream",
     "text": [
      "PASTE2 starts...\n",
      "It.  |Loss        |Relative loss|Absolute loss\n",
      "------------------------------------------------\n",
      "    0|3.702410e+00|0.000000e+00|0.000000e+00\n",
      "    1|1.419535e+00|1.608186e+00|2.282875e+00\n",
      "    2|1.137601e+00|2.478313e-01|2.819333e-01\n",
      "    3|1.028290e+00|1.063044e-01|1.093117e-01\n",
      "    4|1.027628e+00|6.435767e-04|6.613577e-04\n",
      "    5|1.027628e+00|1.470075e-07|1.510691e-07\n",
      " 1000|1.027628e+00|0.000000e+00|0.000000e+00\n"
     ]
    },
    {
     "name": "stderr",
     "output_type": "stream",
     "text": [
      " 41%|███████▊           | 24/58 [1:09:08<1:23:55, 148.11s/it]/home/ylu/project/Benchmark_alignment_methods/notebooks/AllenMouseCellAtlas/../../scripts/methods/my_paste2.py:113: ImplicitModificationWarning: Setting element `.obsm['aligned_spatial']` of view, initializing view as actual.\n",
      "  m.obsm[key_added] = m.obsm[spatial_key]\n"
     ]
    },
    {
     "name": "stdout",
     "output_type": "stream",
     "text": [
      "PASTE2 starts...\n",
      "It.  |Loss        |Relative loss|Absolute loss\n",
      "------------------------------------------------\n",
      "    0|3.610634e+00|0.000000e+00|0.000000e+00\n",
      "    1|1.291062e+00|1.796639e+00|2.319572e+00\n",
      "    2|1.044863e+00|2.356275e-01|2.461986e-01\n",
      "    3|9.816241e-01|6.442320e-02|6.323936e-02\n",
      "    4|9.810390e-01|5.963674e-04|5.850597e-04\n",
      "    5|9.810013e-01|3.842369e-05|3.769369e-05\n",
      " 1000|9.810013e-01|1.131724e-16|1.110223e-16\n"
     ]
    },
    {
     "name": "stderr",
     "output_type": "stream",
     "text": [
      " 43%|████████▏          | 25/58 [1:11:11<1:17:17, 140.53s/it]/home/ylu/project/Benchmark_alignment_methods/notebooks/AllenMouseCellAtlas/../../scripts/methods/my_paste2.py:113: ImplicitModificationWarning: Setting element `.obsm['aligned_spatial']` of view, initializing view as actual.\n",
      "  m.obsm[key_added] = m.obsm[spatial_key]\n"
     ]
    },
    {
     "name": "stdout",
     "output_type": "stream",
     "text": [
      "PASTE2 starts...\n",
      "It.  |Loss        |Relative loss|Absolute loss\n",
      "------------------------------------------------\n",
      "    0|3.542227e+00|0.000000e+00|0.000000e+00\n",
      "    1|1.242256e+00|1.851446e+00|2.299971e+00\n",
      "    2|1.106970e+00|1.222136e-01|1.352868e-01\n",
      "    3|9.798489e-01|1.297350e-01|1.271207e-01\n",
      "    4|9.779493e-01|1.942434e-03|1.899602e-03\n",
      "    5|9.779465e-01|2.921155e-06|2.856733e-06\n",
      " 1000|9.779465e-01|0.000000e+00|0.000000e+00\n"
     ]
    },
    {
     "name": "stderr",
     "output_type": "stream",
     "text": [
      " 45%|████████▌          | 26/58 [1:13:12<1:11:54, 134.82s/it]/home/ylu/project/Benchmark_alignment_methods/notebooks/AllenMouseCellAtlas/../../scripts/methods/my_paste2.py:113: ImplicitModificationWarning: Setting element `.obsm['aligned_spatial']` of view, initializing view as actual.\n",
      "  m.obsm[key_added] = m.obsm[spatial_key]\n"
     ]
    },
    {
     "name": "stdout",
     "output_type": "stream",
     "text": [
      "PASTE2 starts...\n",
      "It.  |Loss        |Relative loss|Absolute loss\n",
      "------------------------------------------------\n",
      "    0|3.508773e+00|0.000000e+00|0.000000e+00\n",
      "    1|1.283315e+00|1.734147e+00|2.225457e+00\n",
      "    2|1.136464e+00|1.292176e-01|1.468511e-01\n",
      "    3|1.025168e+00|1.085640e-01|1.112963e-01\n",
      "    4|1.023981e+00|1.159073e-03|1.186868e-03\n",
      "    5|1.023972e+00|9.044700e-06|9.261517e-06\n",
      " 1000|1.023972e+00|0.000000e+00|0.000000e+00\n"
     ]
    },
    {
     "name": "stderr",
     "output_type": "stream",
     "text": [
      " 47%|████████▊          | 27/58 [1:15:14<1:07:41, 131.01s/it]/home/ylu/project/Benchmark_alignment_methods/notebooks/AllenMouseCellAtlas/../../scripts/methods/my_paste2.py:113: ImplicitModificationWarning: Setting element `.obsm['aligned_spatial']` of view, initializing view as actual.\n",
      "  m.obsm[key_added] = m.obsm[spatial_key]\n"
     ]
    },
    {
     "name": "stdout",
     "output_type": "stream",
     "text": [
      "PASTE2 starts...\n",
      "It.  |Loss        |Relative loss|Absolute loss\n",
      "------------------------------------------------\n",
      "    0|3.717495e+00|0.000000e+00|0.000000e+00\n",
      "    1|1.496558e+00|1.484031e+00|2.220938e+00\n",
      "    2|1.407670e+00|6.314535e-02|8.888780e-02\n",
      "    3|1.262149e+00|1.152957e-01|1.455204e-01\n",
      "    4|1.255032e+00|5.671233e-03|7.117578e-03\n",
      "    5|1.254609e+00|3.371241e-04|4.229589e-04\n",
      "    6|1.254552e+00|4.498578e-05|5.643701e-05\n",
      "    7|1.254539e+00|1.058725e-05|1.328212e-05\n",
      "    8|1.254538e+00|5.693760e-07|7.143040e-07\n",
      " 1000|1.254538e+00|0.000000e+00|0.000000e+00\n"
     ]
    },
    {
     "name": "stderr",
     "output_type": "stream",
     "text": [
      " 48%|█████████▏         | 28/58 [1:18:18<1:13:28, 146.96s/it]/home/ylu/project/Benchmark_alignment_methods/notebooks/AllenMouseCellAtlas/../../scripts/methods/my_paste2.py:113: ImplicitModificationWarning: Setting element `.obsm['aligned_spatial']` of view, initializing view as actual.\n",
      "  m.obsm[key_added] = m.obsm[spatial_key]\n"
     ]
    },
    {
     "name": "stdout",
     "output_type": "stream",
     "text": [
      "PASTE2 starts...\n",
      "It.  |Loss        |Relative loss|Absolute loss\n",
      "------------------------------------------------\n",
      "    0|3.850590e+00|0.000000e+00|0.000000e+00\n",
      "    1|1.364700e+00|1.821565e+00|2.485890e+00\n",
      "    2|1.306580e+00|4.448234e-02|5.811973e-02\n",
      "    3|1.107690e+00|1.795540e-01|1.988901e-01\n",
      "    4|1.093551e+00|1.292919e-02|1.413873e-02\n",
      "    5|1.093219e+00|3.042301e-04|3.325900e-04\n",
      "    6|1.093195e+00|2.128178e-05|2.326514e-05\n",
      "    7|1.093193e+00|1.720267e-06|1.880584e-06\n",
      " 1000|1.093193e+00|0.000000e+00|0.000000e+00\n"
     ]
    },
    {
     "name": "stderr",
     "output_type": "stream",
     "text": [
      " 50%|█████████▌         | 29/58 [1:20:56<1:12:33, 150.11s/it]/home/ylu/project/Benchmark_alignment_methods/notebooks/AllenMouseCellAtlas/../../scripts/methods/my_paste2.py:113: ImplicitModificationWarning: Setting element `.obsm['aligned_spatial']` of view, initializing view as actual.\n",
      "  m.obsm[key_added] = m.obsm[spatial_key]\n"
     ]
    },
    {
     "name": "stdout",
     "output_type": "stream",
     "text": [
      "PASTE2 starts...\n",
      "It.  |Loss        |Relative loss|Absolute loss\n",
      "------------------------------------------------\n",
      "    0|3.719597e+00|0.000000e+00|0.000000e+00\n",
      "    1|1.328301e+00|1.800267e+00|2.391296e+00\n",
      "    2|1.213791e+00|9.434092e-02|1.145102e-01\n",
      "    3|1.098952e+00|1.044986e-01|1.148390e-01\n",
      "    4|1.097105e+00|1.683509e-03|1.846986e-03\n",
      "    5|1.097090e+00|1.320508e-05|1.448717e-05\n",
      "    6|1.097089e+00|1.352746e-06|1.484083e-06\n",
      "    7|1.097089e+00|1.050196e-07|1.152159e-07\n",
      " 1000|1.097089e+00|0.000000e+00|0.000000e+00\n"
     ]
    },
    {
     "name": "stderr",
     "output_type": "stream",
     "text": [
      " 52%|█████████▊         | 30/58 [1:23:28<1:10:23, 150.83s/it]/home/ylu/project/Benchmark_alignment_methods/notebooks/AllenMouseCellAtlas/../../scripts/methods/my_paste2.py:113: ImplicitModificationWarning: Setting element `.obsm['aligned_spatial']` of view, initializing view as actual.\n",
      "  m.obsm[key_added] = m.obsm[spatial_key]\n"
     ]
    },
    {
     "name": "stdout",
     "output_type": "stream",
     "text": [
      "PASTE2 starts...\n",
      "It.  |Loss        |Relative loss|Absolute loss\n",
      "------------------------------------------------\n",
      "    0|3.686914e+00|0.000000e+00|0.000000e+00\n",
      "    1|1.272938e+00|1.896380e+00|2.413975e+00\n",
      "    2|1.256834e+00|1.281330e-02|1.610419e-02\n",
      "    3|1.143113e+00|9.948357e-02|1.137210e-01\n",
      "    4|1.010306e+00|1.314526e-01|1.328073e-01\n",
      "    5|1.008242e+00|2.046951e-03|2.063822e-03\n",
      "    6|1.008231e+00|1.076686e-05|1.085549e-05\n",
      " 1000|1.008231e+00|0.000000e+00|0.000000e+00\n"
     ]
    },
    {
     "name": "stderr",
     "output_type": "stream",
     "text": [
      " 53%|██████████▏        | 31/58 [1:25:44<1:05:48, 146.23s/it]/home/ylu/project/Benchmark_alignment_methods/notebooks/AllenMouseCellAtlas/../../scripts/methods/my_paste2.py:113: ImplicitModificationWarning: Setting element `.obsm['aligned_spatial']` of view, initializing view as actual.\n",
      "  m.obsm[key_added] = m.obsm[spatial_key]\n"
     ]
    },
    {
     "name": "stdout",
     "output_type": "stream",
     "text": [
      "PASTE2 starts...\n",
      "It.  |Loss        |Relative loss|Absolute loss\n",
      "------------------------------------------------\n",
      "    0|3.833540e+00|0.000000e+00|0.000000e+00\n",
      "    1|1.472751e+00|1.602979e+00|2.360789e+00\n",
      "    2|1.432534e+00|2.807396e-02|4.021690e-02\n",
      "    3|1.329599e+00|7.741781e-02|1.029347e-01\n",
      "    4|1.247963e+00|6.541583e-02|8.163651e-02\n",
      "    5|1.240408e+00|6.090257e-03|7.554404e-03\n",
      "    6|1.239715e+00|5.588219e-04|6.927801e-04\n",
      "    7|1.239643e+00|5.878800e-05|7.287610e-05\n",
      "    8|1.239636e+00|5.004569e-06|6.203845e-06\n",
      "    9|1.239636e+00|5.133726e-07|6.363951e-07\n",
      " 1000|1.239636e+00|3.582417e-16|4.440892e-16\n"
     ]
    },
    {
     "name": "stderr",
     "output_type": "stream",
     "text": [
      " 55%|██████████▍        | 32/58 [1:29:02<1:10:07, 161.83s/it]/home/ylu/project/Benchmark_alignment_methods/notebooks/AllenMouseCellAtlas/../../scripts/methods/my_paste2.py:113: ImplicitModificationWarning: Setting element `.obsm['aligned_spatial']` of view, initializing view as actual.\n",
      "  m.obsm[key_added] = m.obsm[spatial_key]\n"
     ]
    },
    {
     "name": "stdout",
     "output_type": "stream",
     "text": [
      "PASTE2 starts...\n",
      "It.  |Loss        |Relative loss|Absolute loss\n",
      "------------------------------------------------\n",
      "    0|3.992803e+00|0.000000e+00|0.000000e+00\n",
      "    1|1.516713e+00|1.632538e+00|2.476091e+00\n",
      "    2|1.343362e+00|1.290428e-01|1.733511e-01\n",
      "    3|1.313153e+00|2.300469e-02|3.020868e-02\n",
      "    4|1.309726e+00|2.616573e-03|3.426993e-03\n",
      "    5|1.309223e+00|3.843856e-04|5.032464e-04\n",
      "    6|1.309140e+00|6.305675e-05|8.255012e-05\n",
      "    7|1.309129e+00|8.604881e-06|1.126490e-05\n",
      "    8|1.309127e+00|9.836450e-07|1.287717e-06\n",
      " 1000|1.309127e+00|1.696127e-16|2.220446e-16\n"
     ]
    },
    {
     "name": "stderr",
     "output_type": "stream",
     "text": [
      " 57%|██████████▊        | 33/58 [1:32:06<1:10:08, 168.36s/it]/home/ylu/project/Benchmark_alignment_methods/notebooks/AllenMouseCellAtlas/../../scripts/methods/my_paste2.py:113: ImplicitModificationWarning: Setting element `.obsm['aligned_spatial']` of view, initializing view as actual.\n",
      "  m.obsm[key_added] = m.obsm[spatial_key]\n"
     ]
    },
    {
     "name": "stdout",
     "output_type": "stream",
     "text": [
      "PASTE2 starts...\n",
      "It.  |Loss        |Relative loss|Absolute loss\n",
      "------------------------------------------------\n",
      "    0|3.662106e+00|0.000000e+00|0.000000e+00\n",
      "    1|1.385060e+00|1.644005e+00|2.277046e+00\n",
      "    2|1.295227e+00|6.935665e-02|8.983264e-02\n",
      "    3|1.160111e+00|1.164685e-01|1.351164e-01\n",
      "    4|1.154352e+00|4.989406e-03|5.759529e-03\n",
      "    5|1.154247e+00|9.048675e-05|1.044441e-04\n",
      "    6|1.154245e+00|1.662056e-06|1.918420e-06\n",
      "    7|1.154245e+00|2.374548e-08|2.740811e-08\n",
      " 1000|1.154245e+00|0.000000e+00|0.000000e+00\n"
     ]
    },
    {
     "name": "stderr",
     "output_type": "stream",
     "text": [
      " 59%|███████████▏       | 34/58 [1:34:48<1:06:39, 166.65s/it]/home/ylu/project/Benchmark_alignment_methods/notebooks/AllenMouseCellAtlas/../../scripts/methods/my_paste2.py:113: ImplicitModificationWarning: Setting element `.obsm['aligned_spatial']` of view, initializing view as actual.\n",
      "  m.obsm[key_added] = m.obsm[spatial_key]\n"
     ]
    },
    {
     "name": "stdout",
     "output_type": "stream",
     "text": [
      "PASTE2 starts...\n",
      "It.  |Loss        |Relative loss|Absolute loss\n",
      "------------------------------------------------\n",
      "    0|3.710598e+00|0.000000e+00|0.000000e+00\n",
      "    1|1.274905e+00|1.910490e+00|2.435694e+00\n",
      "    2|1.180438e+00|8.002651e-02|9.446637e-02\n",
      "    3|1.034418e+00|1.411621e-01|1.460206e-01\n",
      "    4|1.028424e+00|5.828021e-03|5.993678e-03\n",
      "    5|1.028267e+00|1.528375e-04|1.571577e-04\n",
      "    6|1.028257e+00|9.667982e-06|9.941172e-06\n",
      " 1000|1.028257e+00|0.000000e+00|0.000000e+00\n"
     ]
    },
    {
     "name": "stderr",
     "output_type": "stream",
     "text": [
      " 60%|███████████▍       | 35/58 [1:37:14<1:01:25, 160.23s/it]/home/ylu/project/Benchmark_alignment_methods/notebooks/AllenMouseCellAtlas/../../scripts/methods/my_paste2.py:113: ImplicitModificationWarning: Setting element `.obsm['aligned_spatial']` of view, initializing view as actual.\n",
      "  m.obsm[key_added] = m.obsm[spatial_key]\n"
     ]
    },
    {
     "name": "stdout",
     "output_type": "stream",
     "text": [
      "PASTE2 starts...\n",
      "It.  |Loss        |Relative loss|Absolute loss\n",
      "------------------------------------------------\n",
      "    0|3.809725e+00|0.000000e+00|0.000000e+00\n",
      "    1|1.304188e+00|1.921147e+00|2.505537e+00\n",
      "    2|1.292382e+00|9.135092e-03|1.180603e-02\n",
      "    3|1.291714e+00|5.176857e-04|6.687017e-04\n",
      "    4|1.241665e+00|4.030759e-02|5.004853e-02\n",
      "    5|1.080785e+00|1.488553e-01|1.608805e-01\n",
      "    6|1.073289e+00|6.983770e-03|7.495603e-03\n",
      "    7|1.073244e+00|4.228684e-05|4.538408e-05\n",
      "    8|1.073243e+00|5.874888e-07|6.305182e-07\n",
      " 1000|1.073243e+00|0.000000e+00|0.000000e+00\n"
     ]
    },
    {
     "name": "stderr",
     "output_type": "stream",
     "text": [
      " 62%|███████████▊       | 36/58 [1:40:12<1:00:43, 165.59s/it]/home/ylu/project/Benchmark_alignment_methods/notebooks/AllenMouseCellAtlas/../../scripts/methods/my_paste2.py:113: ImplicitModificationWarning: Setting element `.obsm['aligned_spatial']` of view, initializing view as actual.\n",
      "  m.obsm[key_added] = m.obsm[spatial_key]\n"
     ]
    },
    {
     "name": "stdout",
     "output_type": "stream",
     "text": [
      "PASTE2 starts...\n",
      "It.  |Loss        |Relative loss|Absolute loss\n",
      "------------------------------------------------\n",
      "    0|3.785167e+00|0.000000e+00|0.000000e+00\n",
      "    1|1.270517e+00|1.979235e+00|2.514651e+00\n",
      "    2|1.194051e+00|6.403878e-02|7.646557e-02\n",
      "    3|1.007683e+00|1.849467e-01|1.863677e-01\n",
      "    4|1.002533e+00|5.137616e-03|5.150627e-03\n",
      "    5|1.002505e+00|2.783220e-05|2.790191e-05\n",
      "    6|1.002503e+00|1.671513e-06|1.675697e-06\n",
      " 1000|1.002503e+00|0.000000e+00|0.000000e+00\n"
     ]
    },
    {
     "name": "stderr",
     "output_type": "stream",
     "text": [
      " 64%|█████████████▍       | 37/58 [1:42:31<55:13, 157.78s/it]/home/ylu/project/Benchmark_alignment_methods/notebooks/AllenMouseCellAtlas/../../scripts/methods/my_paste2.py:113: ImplicitModificationWarning: Setting element `.obsm['aligned_spatial']` of view, initializing view as actual.\n",
      "  m.obsm[key_added] = m.obsm[spatial_key]\n"
     ]
    },
    {
     "name": "stdout",
     "output_type": "stream",
     "text": [
      "PASTE2 starts...\n",
      "It.  |Loss        |Relative loss|Absolute loss\n",
      "------------------------------------------------\n",
      "    0|3.813567e+00|0.000000e+00|0.000000e+00\n",
      "    1|1.264565e+00|2.015713e+00|2.549001e+00\n",
      "    2|1.131932e+00|1.171739e-01|1.326329e-01\n",
      "    3|1.021704e+00|1.078869e-01|1.102284e-01\n",
      "    4|1.020319e+00|1.357379e-03|1.384960e-03\n",
      "    5|1.020312e+00|6.827123e-06|6.965796e-06\n",
      " 1000|1.020312e+00|0.000000e+00|0.000000e+00\n"
     ]
    },
    {
     "name": "stderr",
     "output_type": "stream",
     "text": [
      " 66%|█████████████▊       | 38/58 [1:44:27<48:25, 145.28s/it]/home/ylu/project/Benchmark_alignment_methods/notebooks/AllenMouseCellAtlas/../../scripts/methods/my_paste2.py:113: ImplicitModificationWarning: Setting element `.obsm['aligned_spatial']` of view, initializing view as actual.\n",
      "  m.obsm[key_added] = m.obsm[spatial_key]\n"
     ]
    },
    {
     "name": "stdout",
     "output_type": "stream",
     "text": [
      "PASTE2 starts...\n",
      "It.  |Loss        |Relative loss|Absolute loss\n",
      "------------------------------------------------\n",
      "    0|3.808135e+00|0.000000e+00|0.000000e+00\n",
      "    1|1.358344e+00|1.803513e+00|2.449791e+00\n",
      "    2|1.276804e+00|6.386213e-02|8.153944e-02\n",
      "    3|1.103620e+00|1.569236e-01|1.731840e-01\n",
      "    4|1.099329e+00|3.903195e-03|4.290897e-03\n",
      "    5|1.099323e+00|5.636906e-06|6.196780e-06\n",
      " 1000|1.099323e+00|0.000000e+00|0.000000e+00\n"
     ]
    },
    {
     "name": "stderr",
     "output_type": "stream",
     "text": [
      " 67%|██████████████       | 39/58 [1:46:26<43:28, 137.30s/it]/home/ylu/project/Benchmark_alignment_methods/notebooks/AllenMouseCellAtlas/../../scripts/methods/my_paste2.py:113: ImplicitModificationWarning: Setting element `.obsm['aligned_spatial']` of view, initializing view as actual.\n",
      "  m.obsm[key_added] = m.obsm[spatial_key]\n"
     ]
    },
    {
     "name": "stdout",
     "output_type": "stream",
     "text": [
      "PASTE2 starts...\n",
      "It.  |Loss        |Relative loss|Absolute loss\n",
      "------------------------------------------------\n",
      "    0|3.762933e+00|0.000000e+00|0.000000e+00\n",
      "    1|1.241058e+00|2.032036e+00|2.521875e+00\n",
      "    2|1.226215e+00|1.210498e-02|1.484330e-02\n",
      "    3|1.090477e+00|1.244753e-01|1.357375e-01\n",
      "    4|1.031483e+00|5.719343e-02|5.899408e-02\n",
      "    5|1.029685e+00|1.746819e-03|1.798673e-03\n",
      "    6|1.029598e+00|8.415834e-05|8.664926e-05\n",
      "    7|1.029595e+00|2.543425e-06|2.618699e-06\n",
      " 1000|1.029595e+00|0.000000e+00|0.000000e+00\n"
     ]
    },
    {
     "name": "stderr",
     "output_type": "stream",
     "text": [
      " 69%|██████████████▍      | 40/58 [1:49:01<42:44, 142.50s/it]/home/ylu/project/Benchmark_alignment_methods/notebooks/AllenMouseCellAtlas/../../scripts/methods/my_paste2.py:113: ImplicitModificationWarning: Setting element `.obsm['aligned_spatial']` of view, initializing view as actual.\n",
      "  m.obsm[key_added] = m.obsm[spatial_key]\n"
     ]
    },
    {
     "name": "stdout",
     "output_type": "stream",
     "text": [
      "PASTE2 starts...\n",
      "It.  |Loss        |Relative loss|Absolute loss\n",
      "------------------------------------------------\n",
      "    0|3.490289e+00|0.000000e+00|0.000000e+00\n",
      "    1|1.144683e+00|2.049132e+00|2.345606e+00\n",
      "    2|9.760526e-01|1.727675e-01|1.686302e-01\n",
      "    3|9.115683e-01|7.073994e-02|6.448429e-02\n",
      "    4|9.109656e-01|6.617001e-04|6.027860e-04\n",
      "    5|9.109634e-01|2.337941e-06|2.129779e-06\n",
      " 1000|9.109634e-01|0.000000e+00|0.000000e+00\n"
     ]
    },
    {
     "name": "stderr",
     "output_type": "stream",
     "text": [
      " 71%|██████████████▊      | 41/58 [1:50:59<38:17, 135.16s/it]/home/ylu/project/Benchmark_alignment_methods/notebooks/AllenMouseCellAtlas/../../scripts/methods/my_paste2.py:113: ImplicitModificationWarning: Setting element `.obsm['aligned_spatial']` of view, initializing view as actual.\n",
      "  m.obsm[key_added] = m.obsm[spatial_key]\n"
     ]
    },
    {
     "name": "stdout",
     "output_type": "stream",
     "text": [
      "PASTE2 starts...\n",
      "It.  |Loss        |Relative loss|Absolute loss\n",
      "------------------------------------------------\n",
      "    0|3.451278e+00|0.000000e+00|0.000000e+00\n",
      "    1|1.058749e+00|2.259768e+00|2.392528e+00\n",
      "    2|9.063647e-01|1.681274e-01|1.523847e-01\n",
      "    3|8.331430e-01|8.788614e-02|7.322172e-02\n",
      "    4|8.325612e-01|6.988163e-04|5.818073e-04\n",
      "    5|8.325485e-01|1.524363e-05|1.269106e-05\n",
      "    6|8.325475e-01|1.230694e-06|1.024611e-06\n",
      "    7|8.325471e-01|4.126979e-07|3.435905e-07\n",
      " 1000|8.325471e-01|0.000000e+00|0.000000e+00\n"
     ]
    },
    {
     "name": "stderr",
     "output_type": "stream",
     "text": [
      " 72%|███████████████▏     | 42/58 [1:53:33<37:33, 140.87s/it]/home/ylu/project/Benchmark_alignment_methods/notebooks/AllenMouseCellAtlas/../../scripts/methods/my_paste2.py:113: ImplicitModificationWarning: Setting element `.obsm['aligned_spatial']` of view, initializing view as actual.\n",
      "  m.obsm[key_added] = m.obsm[spatial_key]\n"
     ]
    },
    {
     "name": "stdout",
     "output_type": "stream",
     "text": [
      "PASTE2 starts...\n",
      "It.  |Loss        |Relative loss|Absolute loss\n",
      "------------------------------------------------\n",
      "    0|3.452658e+00|0.000000e+00|0.000000e+00\n",
      "    1|1.114535e+00|2.097846e+00|2.338123e+00\n",
      "    2|1.069074e+00|4.252361e-02|4.546089e-02\n",
      "    3|9.182211e-01|1.642883e-01|1.508530e-01\n",
      "    4|9.105898e-01|8.380641e-03|7.631326e-03\n",
      "    5|9.105227e-01|7.368679e-05|6.709349e-05\n",
      "    6|9.105220e-01|7.725530e-07|7.034265e-07\n",
      "    7|9.105216e-01|4.379050e-07|3.987219e-07\n",
      " 1000|9.105216e-01|0.000000e+00|0.000000e+00\n"
     ]
    },
    {
     "name": "stderr",
     "output_type": "stream",
     "text": [
      " 74%|███████████████▌     | 43/58 [1:56:09<36:22, 145.50s/it]/home/ylu/project/Benchmark_alignment_methods/notebooks/AllenMouseCellAtlas/../../scripts/methods/my_paste2.py:113: ImplicitModificationWarning: Setting element `.obsm['aligned_spatial']` of view, initializing view as actual.\n",
      "  m.obsm[key_added] = m.obsm[spatial_key]\n"
     ]
    },
    {
     "name": "stdout",
     "output_type": "stream",
     "text": [
      "PASTE2 starts...\n",
      "It.  |Loss        |Relative loss|Absolute loss\n",
      "------------------------------------------------\n",
      "    0|3.401168e+00|0.000000e+00|0.000000e+00\n",
      "    1|1.069598e+00|2.179856e+00|2.331570e+00\n",
      "    2|9.854920e-01|8.534434e-02|8.410616e-02\n",
      "    3|8.605283e-01|1.452174e-01|1.249637e-01\n",
      "    4|8.578926e-01|3.072338e-03|2.635736e-03\n",
      "    5|8.578837e-01|1.039041e-05|8.913759e-06\n",
      " 1000|8.578837e-01|0.000000e+00|0.000000e+00\n"
     ]
    },
    {
     "name": "stderr",
     "output_type": "stream",
     "text": [
      " 76%|███████████████▉     | 44/58 [1:58:07<32:00, 137.19s/it]/home/ylu/project/Benchmark_alignment_methods/notebooks/AllenMouseCellAtlas/../../scripts/methods/my_paste2.py:113: ImplicitModificationWarning: Setting element `.obsm['aligned_spatial']` of view, initializing view as actual.\n",
      "  m.obsm[key_added] = m.obsm[spatial_key]\n"
     ]
    },
    {
     "name": "stdout",
     "output_type": "stream",
     "text": [
      "PASTE2 starts...\n",
      "It.  |Loss        |Relative loss|Absolute loss\n",
      "------------------------------------------------\n",
      "    0|3.388007e+00|0.000000e+00|0.000000e+00\n",
      "    1|1.307064e+00|1.592074e+00|2.080943e+00\n",
      "    2|1.238212e+00|5.560571e-02|6.885168e-02\n",
      "    3|1.138082e+00|8.798213e-02|1.001308e-01\n",
      "    4|1.135193e+00|2.544608e-03|2.888621e-03\n",
      "    5|1.135183e+00|9.032373e-06|1.025339e-05\n",
      "    6|1.135183e+00|2.790396e-08|3.167609e-08\n",
      " 1000|1.135183e+00|0.000000e+00|0.000000e+00\n"
     ]
    },
    {
     "name": "stderr",
     "output_type": "stream",
     "text": [
      " 78%|████████████████▎    | 45/58 [2:00:31<30:08, 139.14s/it]/home/ylu/project/Benchmark_alignment_methods/notebooks/AllenMouseCellAtlas/../../scripts/methods/my_paste2.py:113: ImplicitModificationWarning: Setting element `.obsm['aligned_spatial']` of view, initializing view as actual.\n",
      "  m.obsm[key_added] = m.obsm[spatial_key]\n"
     ]
    },
    {
     "name": "stdout",
     "output_type": "stream",
     "text": [
      "PASTE2 starts...\n",
      "It.  |Loss        |Relative loss|Absolute loss\n",
      "------------------------------------------------\n",
      "    0|3.306321e+00|0.000000e+00|0.000000e+00\n",
      "    1|1.252158e+00|1.640497e+00|2.054162e+00\n",
      "    2|1.220617e+00|2.584054e-02|3.154140e-02\n",
      "    3|1.092493e+00|1.172772e-01|1.281244e-01\n",
      "    4|1.074758e+00|1.650103e-02|1.773461e-02\n",
      "    5|1.074620e+00|1.285949e-04|1.381906e-04\n",
      "    6|1.074616e+00|3.400457e-06|3.654186e-06\n",
      "    7|1.074612e+00|4.002108e-06|4.300713e-06\n",
      " 1000|1.074612e+00|0.000000e+00|0.000000e+00\n"
     ]
    },
    {
     "name": "stderr",
     "output_type": "stream",
     "text": [
      " 79%|████████████████▋    | 46/58 [2:03:13<29:11, 145.98s/it]/home/ylu/project/Benchmark_alignment_methods/notebooks/AllenMouseCellAtlas/../../scripts/methods/my_paste2.py:113: ImplicitModificationWarning: Setting element `.obsm['aligned_spatial']` of view, initializing view as actual.\n",
      "  m.obsm[key_added] = m.obsm[spatial_key]\n"
     ]
    },
    {
     "name": "stdout",
     "output_type": "stream",
     "text": [
      "PASTE2 starts...\n",
      "It.  |Loss        |Relative loss|Absolute loss\n",
      "------------------------------------------------\n",
      "    0|3.209670e+00|0.000000e+00|0.000000e+00\n",
      "    1|1.184819e+00|1.708996e+00|2.024851e+00\n",
      "    2|1.148613e+00|3.152149e-02|3.620599e-02\n",
      "    3|1.022638e+00|1.231862e-01|1.259749e-01\n",
      "    4|9.845907e-01|3.864270e-02|3.804724e-02\n",
      "    5|9.841835e-01|4.137253e-04|4.071816e-04\n",
      "    6|9.841578e-01|2.616633e-05|2.575180e-05\n",
      "    7|9.841536e-01|4.180350e-06|4.114106e-06\n",
      " 1000|9.841536e-01|0.000000e+00|0.000000e+00\n"
     ]
    },
    {
     "name": "stderr",
     "output_type": "stream",
     "text": [
      " 81%|█████████████████    | 47/58 [2:05:52<27:29, 149.95s/it]/home/ylu/project/Benchmark_alignment_methods/notebooks/AllenMouseCellAtlas/../../scripts/methods/my_paste2.py:113: ImplicitModificationWarning: Setting element `.obsm['aligned_spatial']` of view, initializing view as actual.\n",
      "  m.obsm[key_added] = m.obsm[spatial_key]\n"
     ]
    },
    {
     "name": "stdout",
     "output_type": "stream",
     "text": [
      "PASTE2 starts...\n",
      "It.  |Loss        |Relative loss|Absolute loss\n",
      "------------------------------------------------\n",
      "    0|2.896370e+00|0.000000e+00|0.000000e+00\n",
      "    1|1.070790e+00|1.704889e+00|1.825579e+00\n",
      "    2|1.030937e+00|3.865741e-02|3.985336e-02\n",
      "    3|9.122009e-01|1.301645e-01|1.187361e-01\n",
      "    4|9.023541e-01|1.091237e-02|9.846819e-03\n",
      "    5|9.023262e-01|3.087551e-05|2.785978e-05\n",
      " 1000|9.023262e-01|0.000000e+00|0.000000e+00\n"
     ]
    },
    {
     "name": "stderr",
     "output_type": "stream",
     "text": [
      " 83%|█████████████████▍   | 48/58 [2:07:51<23:27, 140.71s/it]/home/ylu/project/Benchmark_alignment_methods/notebooks/AllenMouseCellAtlas/../../scripts/methods/my_paste2.py:113: ImplicitModificationWarning: Setting element `.obsm['aligned_spatial']` of view, initializing view as actual.\n",
      "  m.obsm[key_added] = m.obsm[spatial_key]\n"
     ]
    },
    {
     "name": "stdout",
     "output_type": "stream",
     "text": [
      "PASTE2 starts...\n",
      "It.  |Loss        |Relative loss|Absolute loss\n",
      "------------------------------------------------\n",
      "    0|2.845387e+00|0.000000e+00|0.000000e+00\n",
      "    1|1.011934e+00|1.811829e+00|1.833453e+00\n",
      "    2|9.207186e-01|9.907029e-02|9.121586e-02\n",
      "    3|8.269142e-01|1.134390e-01|9.380436e-02\n",
      "    4|8.250608e-01|2.246414e-03|1.853428e-03\n",
      "    5|8.250479e-01|1.559290e-05|1.286489e-05\n",
      "    6|8.250452e-01|3.359428e-06|2.771680e-06\n",
      " 1000|8.250452e-01|0.000000e+00|0.000000e+00\n"
     ]
    },
    {
     "name": "stderr",
     "output_type": "stream",
     "text": [
      " 84%|█████████████████▋   | 49/58 [2:10:09<20:59, 139.97s/it]/home/ylu/project/Benchmark_alignment_methods/notebooks/AllenMouseCellAtlas/../../scripts/methods/my_paste2.py:113: ImplicitModificationWarning: Setting element `.obsm['aligned_spatial']` of view, initializing view as actual.\n",
      "  m.obsm[key_added] = m.obsm[spatial_key]\n"
     ]
    },
    {
     "name": "stdout",
     "output_type": "stream",
     "text": [
      "PASTE2 starts...\n",
      "It.  |Loss        |Relative loss|Absolute loss\n",
      "------------------------------------------------\n",
      "    0|2.785711e+00|0.000000e+00|0.000000e+00\n",
      "    1|9.886095e-01|1.817808e+00|1.797102e+00\n",
      "    2|8.763512e-01|1.280975e-01|1.122584e-01\n",
      "    3|8.166064e-01|7.316228e-02|5.974478e-02\n",
      "    4|8.156978e-01|1.113834e-03|9.085516e-04\n",
      "    5|8.156812e-01|2.042128e-05|1.665725e-05\n",
      "    6|8.156796e-01|1.982359e-06|1.616970e-06\n",
      "    7|8.156779e-01|2.034202e-06|1.659253e-06\n",
      " 1000|8.156779e-01|0.000000e+00|0.000000e+00\n"
     ]
    },
    {
     "name": "stderr",
     "output_type": "stream",
     "text": [
      " 86%|██████████████████   | 50/58 [2:12:50<19:28, 146.10s/it]/home/ylu/project/Benchmark_alignment_methods/notebooks/AllenMouseCellAtlas/../../scripts/methods/my_paste2.py:113: ImplicitModificationWarning: Setting element `.obsm['aligned_spatial']` of view, initializing view as actual.\n",
      "  m.obsm[key_added] = m.obsm[spatial_key]\n"
     ]
    },
    {
     "name": "stdout",
     "output_type": "stream",
     "text": [
      "PASTE2 starts...\n",
      "It.  |Loss        |Relative loss|Absolute loss\n",
      "------------------------------------------------\n",
      "    0|2.923283e+00|0.000000e+00|0.000000e+00\n",
      "    1|1.054097e+00|1.773257e+00|1.869185e+00\n",
      "    2|1.004574e+00|4.929826e-02|4.952373e-02\n",
      "    3|8.991425e-01|1.172575e-01|1.054312e-01\n",
      "    4|8.936668e-01|6.127255e-03|5.475724e-03\n",
      "    5|8.933916e-01|3.079662e-04|2.751344e-04\n",
      "    6|8.933657e-01|2.903116e-05|2.593545e-05\n",
      "    7|8.933609e-01|5.362237e-06|4.790413e-06\n",
      "    8|8.933542e-01|7.487760e-06|6.689222e-06\n",
      "    9|8.933479e-01|7.074031e-06|6.319570e-06\n",
      "   10|8.933463e-01|1.827007e-06|1.632150e-06\n",
      "   11|8.933462e-01|7.725369e-08|6.901429e-08\n",
      " 1000|8.933462e-01|0.000000e+00|0.000000e+00\n"
     ]
    },
    {
     "name": "stderr",
     "output_type": "stream",
     "text": [
      " 88%|██████████████████▍  | 51/58 [2:16:48<20:17, 173.87s/it]/home/ylu/project/Benchmark_alignment_methods/notebooks/AllenMouseCellAtlas/../../scripts/methods/my_paste2.py:113: ImplicitModificationWarning: Setting element `.obsm['aligned_spatial']` of view, initializing view as actual.\n",
      "  m.obsm[key_added] = m.obsm[spatial_key]\n"
     ]
    },
    {
     "name": "stdout",
     "output_type": "stream",
     "text": [
      "PASTE2 starts...\n",
      "It.  |Loss        |Relative loss|Absolute loss\n",
      "------------------------------------------------\n",
      "    0|3.220285e+00|0.000000e+00|0.000000e+00\n",
      "    1|1.056270e+00|2.048732e+00|2.164014e+00\n",
      "    2|9.885132e-01|6.854435e-02|6.775699e-02\n",
      "    3|9.013461e-01|9.670768e-02|8.716709e-02\n",
      "    4|8.982538e-01|3.442526e-03|3.092262e-03\n",
      "    5|8.982309e-01|2.551035e-05|2.291418e-05\n",
      "    6|8.982306e-01|3.009435e-07|2.703167e-07\n",
      " 1000|8.982306e-01|0.000000e+00|0.000000e+00\n"
     ]
    },
    {
     "name": "stderr",
     "output_type": "stream",
     "text": [
      " 90%|██████████████████▊  | 52/58 [2:19:11<16:27, 164.60s/it]/home/ylu/project/Benchmark_alignment_methods/notebooks/AllenMouseCellAtlas/../../scripts/methods/my_paste2.py:113: ImplicitModificationWarning: Setting element `.obsm['aligned_spatial']` of view, initializing view as actual.\n",
      "  m.obsm[key_added] = m.obsm[spatial_key]\n"
     ]
    },
    {
     "name": "stdout",
     "output_type": "stream",
     "text": [
      "PASTE2 starts...\n",
      "It.  |Loss        |Relative loss|Absolute loss\n",
      "------------------------------------------------\n",
      "    0|3.385952e+00|0.000000e+00|0.000000e+00\n",
      "    1|1.206708e+00|1.805941e+00|2.179244e+00\n",
      "    2|1.146865e+00|5.217958e-02|5.984296e-02\n",
      "    3|1.069371e+00|7.246777e-02|7.749490e-02\n",
      "    4|1.063570e+00|5.454050e-03|5.800763e-03\n",
      "    5|1.063414e+00|1.461907e-04|1.554612e-04\n",
      "    6|1.063402e+00|1.157749e-05|1.231152e-05\n",
      "    7|1.063401e+00|6.718937e-07|7.144927e-07\n",
      "    8|1.063400e+00|9.556769e-07|1.016267e-06\n",
      "    9|1.063394e+00|5.603664e-06|5.958904e-06\n",
      "   10|1.063394e+00|6.527966e-07|6.941798e-07\n",
      "   11|1.063394e+00|3.230418e-08|3.435206e-08\n",
      " 1000|1.063394e+00|0.000000e+00|0.000000e+00\n"
     ]
    },
    {
     "name": "stderr",
     "output_type": "stream",
     "text": [
      " 91%|███████████████████▏ | 53/58 [2:23:12<15:36, 187.38s/it]/home/ylu/project/Benchmark_alignment_methods/notebooks/AllenMouseCellAtlas/../../scripts/methods/my_paste2.py:113: ImplicitModificationWarning: Setting element `.obsm['aligned_spatial']` of view, initializing view as actual.\n",
      "  m.obsm[key_added] = m.obsm[spatial_key]\n"
     ]
    },
    {
     "name": "stdout",
     "output_type": "stream",
     "text": [
      "PASTE2 starts...\n",
      "It.  |Loss        |Relative loss|Absolute loss\n",
      "------------------------------------------------\n",
      "    0|3.646854e+00|0.000000e+00|0.000000e+00\n"
     ]
    }
   ],
   "source": [
    "## Perform the Moscot alignment\n",
    "sampling_num = 5000\n",
    "for i in tqdm(range(len(slices)-1)):\n",
    "    slice1, slice2 = slices[i].copy(), slices[i+1].copy()\n",
    "    sampline_idx1 = np.random.choice(slice1.shape[0], sampling_num, replace=False) if slice1.shape[0] > sampling_num else np.arange(slice1.shape[0])\n",
    "    sampline_idx2 = np.random.choice(slice2.shape[0], sampling_num, replace=False) if slice2.shape[0] > sampling_num else np.arange(slice2.shape[0])\n",
    "    slice1 = slice1[sampline_idx1,:]\n",
    "    slice2 = slice2[sampline_idx2,:]\n",
    "    time_start = time.time()\n",
    "    align_slices, pis = paste2_align(\n",
    "        models=[slice1, slice2],\n",
    "        spatial_key=spatial_key,\n",
    "        key_added=key_added,\n",
    "        verbose=True,\n",
    "        fixed_s=0.99,\n",
    "    )\n",
    "    time_end = time.time()\n",
    "    matches = [np.arange(pis[0].shape[0]), np.argmax(pis[0], axis=1), np.sum(pis[0], axis=1)]\n",
    "    R, t=solve_RT_by_correspondence(align_slices[1].obsm[key_added], align_slices[1].obsm[spatial_key])\n",
    "    alignment_results = {'sampling_idx1': sampline_idx1, 'sampline_idx2': sampline_idx2, 'R': R, 't': t, 'matches': matches, 'time': time_end - time_start}\n",
    "    np.save(os.path.join(results_folder, f\"slice_{i}_{i+1}_sampling_{sampling_num}.npy\"), alignment_results, allow_pickle=True)"
   ]
  },
  {
   "cell_type": "code",
   "execution_count": null,
   "id": "ab0e97a4-3443-4be3-a253-9957d268123b",
   "metadata": {},
   "outputs": [],
   "source": []
  }
 ],
 "metadata": {
  "kernelspec": {
   "display_name": "GPSA",
   "language": "python",
   "name": "gpsa"
  },
  "language_info": {
   "codemirror_mode": {
    "name": "ipython",
    "version": 3
   },
   "file_extension": ".py",
   "mimetype": "text/x-python",
   "name": "python",
   "nbconvert_exporter": "python",
   "pygments_lexer": "ipython3",
   "version": "3.9.19"
  }
 },
 "nbformat": 4,
 "nbformat_minor": 5
}
