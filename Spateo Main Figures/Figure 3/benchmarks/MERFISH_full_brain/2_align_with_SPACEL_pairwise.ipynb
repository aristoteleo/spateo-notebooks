{
 "cells": [
  {
   "cell_type": "code",
   "execution_count": 1,
   "id": "0908cd60-618c-42e7-9854-9713751acdda",
   "metadata": {},
   "outputs": [
    {
     "name": "stderr",
     "output_type": "stream",
     "text": [
      "/home/ylu/anaconda3/envs/SPACEL/lib/python3.8/site-packages/tqdm/auto.py:21: TqdmWarning: IProgress not found. Please update jupyter and ipywidgets. See https://ipywidgets.readthedocs.io/en/stable/user_install.html\n",
      "  from .autonotebook import tqdm as notebook_tqdm\n"
     ]
    }
   ],
   "source": [
    "import os\n",
    "os.environ['CUDA_VISIBLE_DEVICES'] = '0'\n",
    "import sys\n",
    "from pathlib import Path\n",
    "import anndata as ad\n",
    "import scanpy as sc\n",
    "import numpy as np\n",
    "import warnings\n",
    "warnings.simplefilter(action='ignore', category=FutureWarning)\n",
    "import seaborn as sns\n",
    "from matplotlib import pyplot as plt\n",
    "\n",
    "sys.path.insert(0, \"/home/ylu/project\")\n",
    "from utils import *\n",
    "import time\n",
    "\n",
    "%load_ext autoreload\n",
    "%autoreload 2"
   ]
  },
  {
   "cell_type": "code",
   "execution_count": 2,
   "id": "c3bebab7-7b27-4563-b7b8-168fa5f7b483",
   "metadata": {},
   "outputs": [],
   "source": [
    "import SPACEL\n",
    "from SPACEL import Scube, Splane"
   ]
  },
  {
   "cell_type": "code",
   "execution_count": 3,
   "id": "e7b47bc4-0453-474d-a39f-aa14ed636caa",
   "metadata": {},
   "outputs": [],
   "source": [
    "data_folder = \"./results/split_slices/\"\n",
    "results_folder = \"./results/SPACEL/\"\n",
    "cache_folder = os.path.join(results_folder, 'Scube_outputs')\n",
    "figures_folder = \"./results/figures/SPACEL\"\n",
    "Path(results_folder).mkdir(parents=True, exist_ok=True)\n",
    "Path(cache_folder).mkdir(parents=True, exist_ok=True)"
   ]
  },
  {
   "cell_type": "code",
   "execution_count": 4,
   "id": "dea7abee-5509-4d87-8b86-19fb460fcb84",
   "metadata": {},
   "outputs": [
    {
     "name": "stderr",
     "output_type": "stream",
     "text": [
      "100%|████████████████████████████████████████████████████████████████████████████████████████████████████████████████████████████████████████████| 59/59 [03:11<00:00,  3.25s/it]\n"
     ]
    }
   ],
   "source": [
    "## load the data\n",
    "from tqdm import tqdm\n",
    "slices = []\n",
    "for i in tqdm(range(59)):\n",
    "    slices.append(ad.read_h5ad(os.path.join(data_folder, f\"slice_{i}.h5ad\")))"
   ]
  },
  {
   "cell_type": "code",
   "execution_count": 5,
   "id": "24840e17-a7da-4938-8e80-c4d7993303be",
   "metadata": {},
   "outputs": [],
   "source": [
    "spatial_key = \"spatial\"\n",
    "anno_key = \"class\"\n",
    "palette = slices[0].uns[f\"{anno_key}_palette\"]"
   ]
  },
  {
   "cell_type": "code",
   "execution_count": 6,
   "id": "1bf95a00-6497-41f2-959f-fd6b207731c0",
   "metadata": {},
   "outputs": [],
   "source": [
    "## Rotate the data\n",
    "rotate_key = \"spatial_rot\"\n",
    "rotations = np.load(\"./results/random_rotations.npy\", allow_pickle=True)\n",
    "for i in range(len(slices)):\n",
    "    slices[i].obsm[rotate_key] = slices[i].obsm[spatial_key][:,:2].copy()\n",
    "    mean = np.mean(slices[i].obsm[rotate_key], axis=0)\n",
    "    slices[i].obsm[rotate_key] = slices[i].obsm[rotate_key] - mean\n",
    "    slices[i].obsm[rotate_key] = slices[i].obsm[rotate_key] @ rotations[i].T + mean\n",
    "    "
   ]
  },
  {
   "cell_type": "code",
   "execution_count": 7,
   "id": "3e3a25fd-c7b7-4bcf-bd2f-214badbcbbaa",
   "metadata": {},
   "outputs": [],
   "source": [
    "spatial_key = \"spatial_rot\"\n",
    "key_added = \"aligned_spatial\""
   ]
  },
  {
   "cell_type": "code",
   "execution_count": 8,
   "id": "4d4bce49-e6f9-40da-8186-ac93595f278b",
   "metadata": {},
   "outputs": [
    {
     "name": "stderr",
     "output_type": "stream",
     "text": [
      "  0%|                                                                                                                                                     | 0/41 [00:00<?, ?it/s]"
     ]
    },
    {
     "name": "stdout",
     "output_type": "stream",
     "text": [
      "Start alignment...\n",
      "Alignment slice 1 to 0\n",
      "Runtime: 142.24168515205383 s\n"
     ]
    },
    {
     "name": "stderr",
     "output_type": "stream",
     "text": [
      "  2%|███▎                                                                                                                                      | 1/41 [02:22<1:35:17, 142.95s/it]"
     ]
    },
    {
     "name": "stdout",
     "output_type": "stream",
     "text": [
      "Start alignment...\n",
      "Alignment slice 1 to 0\n",
      "Runtime: 180.70523023605347 s\n"
     ]
    },
    {
     "name": "stderr",
     "output_type": "stream",
     "text": [
      "  5%|██████▋                                                                                                                                   | 2/41 [05:24<1:47:37, 165.58s/it]"
     ]
    },
    {
     "name": "stdout",
     "output_type": "stream",
     "text": [
      "Start alignment...\n",
      "Alignment slice 1 to 0\n",
      "Runtime: 177.8702003955841 s\n"
     ]
    },
    {
     "name": "stderr",
     "output_type": "stream",
     "text": [
      "  7%|██████████                                                                                                                                | 3/41 [08:23<1:48:38, 171.55s/it]"
     ]
    },
    {
     "name": "stdout",
     "output_type": "stream",
     "text": [
      "Start alignment...\n",
      "Alignment slice 1 to 0\n",
      "Runtime: 181.10415863990784 s\n"
     ]
    },
    {
     "name": "stderr",
     "output_type": "stream",
     "text": [
      " 10%|█████████████▍                                                                                                                            | 4/41 [11:24<1:48:17, 175.60s/it]"
     ]
    },
    {
     "name": "stdout",
     "output_type": "stream",
     "text": [
      "Start alignment...\n",
      "Alignment slice 1 to 0\n",
      "Runtime: 199.37422394752502 s\n"
     ]
    },
    {
     "name": "stderr",
     "output_type": "stream",
     "text": [
      " 12%|████████████████▊                                                                                                                         | 5/41 [14:44<1:50:39, 184.43s/it]"
     ]
    },
    {
     "name": "stdout",
     "output_type": "stream",
     "text": [
      "Start alignment...\n",
      "Alignment slice 1 to 0\n",
      "Runtime: 190.8520004749298 s\n"
     ]
    },
    {
     "name": "stderr",
     "output_type": "stream",
     "text": [
      " 15%|████████████████████▏                                                                                                                     | 6/41 [17:56<1:48:59, 186.85s/it]"
     ]
    },
    {
     "name": "stdout",
     "output_type": "stream",
     "text": [
      "Start alignment...\n",
      "Alignment slice 1 to 0\n",
      "Runtime: 199.03473281860352 s\n"
     ]
    },
    {
     "name": "stderr",
     "output_type": "stream",
     "text": [
      " 17%|███████████████████████▌                                                                                                                  | 7/41 [21:16<1:48:20, 191.19s/it]"
     ]
    },
    {
     "name": "stdout",
     "output_type": "stream",
     "text": [
      "Start alignment...\n",
      "Alignment slice 1 to 0\n",
      "Runtime: 176.5086953639984 s\n"
     ]
    },
    {
     "name": "stderr",
     "output_type": "stream",
     "text": [
      " 20%|██████████████████████████▉                                                                                                               | 8/41 [24:13<1:42:43, 186.79s/it]"
     ]
    },
    {
     "name": "stdout",
     "output_type": "stream",
     "text": [
      "Start alignment...\n",
      "Alignment slice 1 to 0\n",
      "Runtime: 204.4677495956421 s\n"
     ]
    },
    {
     "name": "stderr",
     "output_type": "stream",
     "text": [
      " 22%|██████████████████████████████▎                                                                                                           | 9/41 [27:39<1:42:44, 192.66s/it]"
     ]
    },
    {
     "name": "stdout",
     "output_type": "stream",
     "text": [
      "Start alignment...\n",
      "Alignment slice 1 to 0\n",
      "Runtime: 212.5160448551178 s\n"
     ]
    },
    {
     "name": "stderr",
     "output_type": "stream",
     "text": [
      " 24%|█████████████████████████████████▍                                                                                                       | 10/41 [31:12<1:42:50, 199.04s/it]"
     ]
    },
    {
     "name": "stdout",
     "output_type": "stream",
     "text": [
      "Start alignment...\n",
      "Alignment slice 1 to 0\n",
      "Runtime: 185.02557063102722 s\n"
     ]
    },
    {
     "name": "stderr",
     "output_type": "stream",
     "text": [
      " 27%|████████████████████████████████████▊                                                                                                    | 11/41 [34:18<1:37:30, 195.02s/it]"
     ]
    },
    {
     "name": "stdout",
     "output_type": "stream",
     "text": [
      "Start alignment...\n",
      "Alignment slice 1 to 0\n",
      "Runtime: 198.77623343467712 s\n"
     ]
    },
    {
     "name": "stderr",
     "output_type": "stream",
     "text": [
      " 29%|████████████████████████████████████████                                                                                                 | 12/41 [37:38<1:34:56, 196.45s/it]"
     ]
    },
    {
     "name": "stdout",
     "output_type": "stream",
     "text": [
      "Start alignment...\n",
      "Alignment slice 1 to 0\n",
      "Runtime: 186.09894919395447 s\n"
     ]
    },
    {
     "name": "stderr",
     "output_type": "stream",
     "text": [
      " 32%|███████████████████████████████████████████▍                                                                                             | 13/41 [40:45<1:30:20, 193.59s/it]"
     ]
    },
    {
     "name": "stdout",
     "output_type": "stream",
     "text": [
      "Start alignment...\n",
      "Alignment slice 1 to 0\n",
      "Runtime: 165.49733018875122 s\n"
     ]
    },
    {
     "name": "stderr",
     "output_type": "stream",
     "text": [
      " 34%|██████████████████████████████████████████████▊                                                                                          | 14/41 [43:32<1:23:29, 185.54s/it]"
     ]
    },
    {
     "name": "stdout",
     "output_type": "stream",
     "text": [
      "Start alignment...\n",
      "Alignment slice 1 to 0\n",
      "Runtime: 195.7202763557434 s\n"
     ]
    },
    {
     "name": "stderr",
     "output_type": "stream",
     "text": [
      " 37%|██████████████████████████████████████████████████                                                                                       | 15/41 [46:49<1:21:50, 188.88s/it]"
     ]
    },
    {
     "name": "stdout",
     "output_type": "stream",
     "text": [
      "Start alignment...\n",
      "Alignment slice 1 to 0\n",
      "Runtime: 177.6420464515686 s\n"
     ]
    },
    {
     "name": "stderr",
     "output_type": "stream",
     "text": [
      " 39%|█████████████████████████████████████████████████████▍                                                                                   | 16/41 [49:47<1:17:23, 185.75s/it]"
     ]
    },
    {
     "name": "stdout",
     "output_type": "stream",
     "text": [
      "Start alignment...\n",
      "Alignment slice 1 to 0\n",
      "Runtime: 167.76438093185425 s\n"
     ]
    },
    {
     "name": "stderr",
     "output_type": "stream",
     "text": [
      " 41%|████████████████████████████████████████████████████████▊                                                                                | 17/41 [52:36<1:12:14, 180.62s/it]"
     ]
    },
    {
     "name": "stdout",
     "output_type": "stream",
     "text": [
      "Start alignment...\n",
      "Alignment slice 1 to 0\n",
      "Runtime: 191.92773509025574 s\n"
     ]
    },
    {
     "name": "stderr",
     "output_type": "stream",
     "text": [
      " 44%|████████████████████████████████████████████████████████████▏                                                                            | 18/41 [55:49<1:10:39, 184.31s/it]"
     ]
    },
    {
     "name": "stdout",
     "output_type": "stream",
     "text": [
      "Start alignment...\n",
      "Alignment slice 1 to 0\n",
      "Runtime: 177.68398118019104 s\n"
     ]
    },
    {
     "name": "stderr",
     "output_type": "stream",
     "text": [
      " 46%|███████████████████████████████████████████████████████████████▍                                                                         | 19/41 [58:48<1:07:01, 182.78s/it]"
     ]
    },
    {
     "name": "stdout",
     "output_type": "stream",
     "text": [
      "Start alignment...\n",
      "Alignment slice 1 to 0\n",
      "Runtime: 175.3915195465088 s\n"
     ]
    },
    {
     "name": "stderr",
     "output_type": "stream",
     "text": [
      " 49%|█████████████████████████████████████████████████████████████████▊                                                                     | 20/41 [1:01:44<1:03:18, 180.86s/it]"
     ]
    },
    {
     "name": "stdout",
     "output_type": "stream",
     "text": [
      "Start alignment...\n",
      "Alignment slice 1 to 0\n",
      "Runtime: 174.00101971626282 s\n"
     ]
    },
    {
     "name": "stderr",
     "output_type": "stream",
     "text": [
      " 51%|██████████████████████████████████████████████████████████████████████▏                                                                  | 21/41 [1:04:39<59:42, 179.14s/it]"
     ]
    },
    {
     "name": "stdout",
     "output_type": "stream",
     "text": [
      "Start alignment...\n",
      "Alignment slice 1 to 0\n",
      "Runtime: 149.78875470161438 s\n"
     ]
    },
    {
     "name": "stderr",
     "output_type": "stream",
     "text": [
      " 54%|█████████████████████████████████████████████████████████████████████████▌                                                               | 22/41 [1:07:10<54:02, 170.65s/it]"
     ]
    },
    {
     "name": "stdout",
     "output_type": "stream",
     "text": [
      "Start alignment...\n",
      "Alignment slice 1 to 0\n",
      "Runtime: 179.7975070476532 s\n"
     ]
    },
    {
     "name": "stderr",
     "output_type": "stream",
     "text": [
      " 56%|████████████████████████████████████████████████████████████████████████████▊                                                            | 23/41 [1:10:11<52:04, 173.60s/it]"
     ]
    },
    {
     "name": "stdout",
     "output_type": "stream",
     "text": [
      "Start alignment...\n",
      "Alignment slice 1 to 0\n",
      "Runtime: 204.62678122520447 s\n"
     ]
    },
    {
     "name": "stderr",
     "output_type": "stream",
     "text": [
      " 59%|████████████████████████████████████████████████████████████████████████████████▏                                                        | 24/41 [1:13:36<51:53, 183.17s/it]"
     ]
    },
    {
     "name": "stdout",
     "output_type": "stream",
     "text": [
      "Start alignment...\n",
      "Alignment slice 1 to 0\n",
      "Runtime: 197.7470531463623 s\n"
     ]
    },
    {
     "name": "stderr",
     "output_type": "stream",
     "text": [
      " 61%|███████████████████████████████████████████████████████████████████████████████████▌                                                     | 25/41 [1:16:55<50:04, 187.78s/it]"
     ]
    },
    {
     "name": "stdout",
     "output_type": "stream",
     "text": [
      "Start alignment...\n",
      "Alignment slice 1 to 0\n",
      "Runtime: 174.80361199378967 s\n"
     ]
    },
    {
     "name": "stderr",
     "output_type": "stream",
     "text": [
      " 63%|██████████████████████████████████████████████████████████████████████████████████████▉                                                  | 26/41 [1:19:50<46:01, 184.12s/it]"
     ]
    },
    {
     "name": "stdout",
     "output_type": "stream",
     "text": [
      "Start alignment...\n",
      "Alignment slice 1 to 0\n",
      "Runtime: 174.26929140090942 s\n"
     ]
    },
    {
     "name": "stderr",
     "output_type": "stream",
     "text": [
      " 66%|██████████████████████████████████████████████████████████████████████████████████████████▏                                              | 27/41 [1:22:45<42:19, 181.40s/it]"
     ]
    },
    {
     "name": "stdout",
     "output_type": "stream",
     "text": [
      "Start alignment...\n",
      "Alignment slice 1 to 0\n",
      "Runtime: 157.80119800567627 s\n"
     ]
    },
    {
     "name": "stderr",
     "output_type": "stream",
     "text": [
      " 68%|█████████████████████████████████████████████████████████████████████████████████████████████▌                                           | 28/41 [1:25:24<37:48, 174.53s/it]"
     ]
    },
    {
     "name": "stdout",
     "output_type": "stream",
     "text": [
      "Start alignment...\n",
      "Alignment slice 1 to 0\n",
      "Runtime: 182.68646430969238 s\n"
     ]
    },
    {
     "name": "stderr",
     "output_type": "stream",
     "text": [
      " 71%|████████████████████████████████████████████████████████████████████████████████████████████████▉                                        | 29/41 [1:28:27<35:26, 177.20s/it]"
     ]
    },
    {
     "name": "stdout",
     "output_type": "stream",
     "text": [
      "Start alignment...\n",
      "Alignment slice 1 to 0\n",
      "Runtime: 185.8520586490631 s\n"
     ]
    },
    {
     "name": "stderr",
     "output_type": "stream",
     "text": [
      " 73%|████████████████████████████████████████████████████████████████████████████████████████████████████▏                                    | 30/41 [1:31:34<33:00, 180.00s/it]"
     ]
    },
    {
     "name": "stdout",
     "output_type": "stream",
     "text": [
      "Start alignment...\n",
      "Alignment slice 1 to 0\n",
      "Runtime: 190.5635793209076 s\n"
     ]
    },
    {
     "name": "stderr",
     "output_type": "stream",
     "text": [
      " 76%|███████████████████████████████████████████████████████████████████████████████████████████████████████▌                                 | 31/41 [1:34:45<30:33, 183.37s/it]"
     ]
    },
    {
     "name": "stdout",
     "output_type": "stream",
     "text": [
      "Start alignment...\n",
      "Alignment slice 1 to 0\n",
      "Runtime: 174.8245143890381 s\n"
     ]
    },
    {
     "name": "stderr",
     "output_type": "stream",
     "text": [
      " 78%|██████████████████████████████████████████████████████████████████████████████████████████████████████████▉                              | 32/41 [1:37:41<27:09, 181.02s/it]"
     ]
    },
    {
     "name": "stdout",
     "output_type": "stream",
     "text": [
      "Start alignment...\n",
      "Alignment slice 1 to 0\n",
      "Runtime: 180.68190336227417 s\n"
     ]
    },
    {
     "name": "stderr",
     "output_type": "stream",
     "text": [
      " 80%|██████████████████████████████████████████████████████████████████████████████████████████████████████████████▎                          | 33/41 [1:40:42<24:09, 181.19s/it]"
     ]
    },
    {
     "name": "stdout",
     "output_type": "stream",
     "text": [
      "Start alignment...\n",
      "Alignment slice 1 to 0\n",
      "Runtime: 168.19636178016663 s\n"
     ]
    },
    {
     "name": "stderr",
     "output_type": "stream",
     "text": [
      " 83%|█████████████████████████████████████████████████████████████████████████████████████████████████████████████████▌                       | 34/41 [1:43:31<20:42, 177.54s/it]"
     ]
    },
    {
     "name": "stdout",
     "output_type": "stream",
     "text": [
      "Start alignment...\n",
      "Alignment slice 1 to 0\n",
      "Runtime: 177.3276002407074 s\n"
     ]
    },
    {
     "name": "stderr",
     "output_type": "stream",
     "text": [
      " 85%|████████████████████████████████████████████████████████████████████████████████████████████████████████████████████▉                    | 35/41 [1:46:29<17:46, 177.70s/it]"
     ]
    },
    {
     "name": "stdout",
     "output_type": "stream",
     "text": [
      "Start alignment...\n",
      "Alignment slice 1 to 0\n",
      "Runtime: 177.73175835609436 s\n"
     ]
    },
    {
     "name": "stderr",
     "output_type": "stream",
     "text": [
      " 88%|████████████████████████████████████████████████████████████████████████████████████████████████████████████████████████▎                | 36/41 [1:49:28<14:49, 177.96s/it]"
     ]
    },
    {
     "name": "stdout",
     "output_type": "stream",
     "text": [
      "Start alignment...\n",
      "Alignment slice 1 to 0\n",
      "Runtime: 227.24118947982788 s\n"
     ]
    },
    {
     "name": "stderr",
     "output_type": "stream",
     "text": [
      " 90%|███████████████████████████████████████████████████████████████████████████████████████████████████████████████████████████▋             | 37/41 [1:53:16<12:52, 193.15s/it]"
     ]
    },
    {
     "name": "stdout",
     "output_type": "stream",
     "text": [
      "Start alignment...\n",
      "Alignment slice 1 to 0\n",
      "Runtime: 232.8683729171753 s\n"
     ]
    },
    {
     "name": "stderr",
     "output_type": "stream",
     "text": [
      " 93%|██████████████████████████████████████████████████████████████████████████████████████████████████████████████████████████████▉          | 38/41 [1:57:10<10:15, 205.26s/it]"
     ]
    },
    {
     "name": "stdout",
     "output_type": "stream",
     "text": [
      "Start alignment...\n",
      "Alignment slice 1 to 0\n",
      "Runtime: 188.735191822052 s\n"
     ]
    },
    {
     "name": "stderr",
     "output_type": "stream",
     "text": [
      " 95%|██████████████████████████████████████████████████████████████████████████████████████████████████████████████████████████████████▎      | 39/41 [2:00:19<06:41, 200.50s/it]"
     ]
    },
    {
     "name": "stdout",
     "output_type": "stream",
     "text": [
      "Start alignment...\n",
      "Alignment slice 1 to 0\n",
      "Runtime: 233.08578777313232 s\n"
     ]
    },
    {
     "name": "stderr",
     "output_type": "stream",
     "text": [
      " 98%|█████████████████████████████████████████████████████████████████████████████████████████████████████████████████████████████████████▋   | 40/41 [2:04:13<03:30, 210.49s/it]"
     ]
    },
    {
     "name": "stdout",
     "output_type": "stream",
     "text": [
      "Start alignment...\n",
      "Alignment slice 1 to 0\n",
      "Runtime: 129.1465606689453 s\n"
     ]
    },
    {
     "name": "stderr",
     "output_type": "stream",
     "text": [
      "100%|█████████████████████████████████████████████████████████████████████████████████████████████████████████████████████████████████████████| 41/41 [2:06:23<00:00, 184.96s/it]\n"
     ]
    }
   ],
   "source": [
    "## Perform the SPACEL with provided annotation alignment\n",
    "sampling_num = 20000\n",
    "for i in tqdm(range(17, len(slices)-1)):\n",
    "    slice1, slice2 = slices[i].copy(), slices[i+1].copy()\n",
    "    sampline_idx1 = np.random.choice(slice1.shape[0], sampling_num, replace=False) if slice1.shape[0] > sampling_num else np.arange(slice1.shape[0])\n",
    "    sampline_idx2 = np.random.choice(slice2.shape[0], sampling_num, replace=False) if slice2.shape[0] > sampling_num else np.arange(slice2.shape[0])\n",
    "    slice1 = slice1[sampline_idx1,:]\n",
    "    slice2 = slice2[sampline_idx2,:]\n",
    "    slice1.obsm['spatial_2D'] = slice1.obsm[spatial_key]\n",
    "    slice2.obsm['spatial_2D'] = slice2.obsm[spatial_key]\n",
    "    slice1.obsm['spatial'] = slice1.obsm[spatial_key]\n",
    "    slice2.obsm['spatial'] = slice2.obsm[spatial_key]\n",
    "    align_slices = [slice1, slice2]\n",
    "    time_start = time.time()\n",
    "    Scube.align(\n",
    "        align_slices,\n",
    "        cluster_key=anno_key, \n",
    "        n_neighbors = 15, \n",
    "        n_threads=10,\n",
    "        p=2,\n",
    "        write_loc_path=os.path.join(results_folder, 'Scube_outputs/aligned_coordinates.csv')\n",
    "    )\n",
    "    align_slices[0].obsm[key_added] = align_slices[0].obsm['spatial_aligned'].values\n",
    "    align_slices[1].obsm[key_added] = align_slices[1].obsm['spatial_aligned'].values\n",
    "    time_end = time.time()\n",
    "    \n",
    "    R1, t1=solve_RT_by_correspondence(align_slices[1].obsm[key_added], align_slices[1].obsm[spatial_key])\n",
    "    R2, t2=solve_RT_by_correspondence(align_slices[0].obsm[spatial_key], align_slices[0].obsm[key_added])\n",
    "    t = t1 @ R2.T + t2\n",
    "    R = R2 @ R1\n",
    "    alignment_results = {'R': R, 't': t, 'time': time_end - time_start}\n",
    "    np.save(os.path.join(results_folder, f\"slice_{i}_{i+1}_sampling_{sampling_num}.npy\"), alignment_results, allow_pickle=True)"
   ]
  },
  {
   "cell_type": "code",
   "execution_count": null,
   "id": "ab0e97a4-3443-4be3-a253-9957d268123b",
   "metadata": {},
   "outputs": [],
   "source": []
  }
 ],
 "metadata": {
  "kernelspec": {
   "display_name": "SPACEL",
   "language": "python",
   "name": "spacel"
  },
  "language_info": {
   "codemirror_mode": {
    "name": "ipython",
    "version": 3
   },
   "file_extension": ".py",
   "mimetype": "text/x-python",
   "name": "python",
   "nbconvert_exporter": "python",
   "pygments_lexer": "ipython3",
   "version": "3.8.19"
  }
 },
 "nbformat": 4,
 "nbformat_minor": 5
}
