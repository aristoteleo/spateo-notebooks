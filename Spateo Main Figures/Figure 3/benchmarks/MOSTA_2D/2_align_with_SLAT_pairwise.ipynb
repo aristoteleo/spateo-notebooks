{
 "cells": [
  {
   "cell_type": "code",
   "execution_count": 1,
   "id": "0908cd60-618c-42e7-9854-9713751acdda",
   "metadata": {
    "execution": {
     "iopub.execute_input": "2024-07-10T23:27:28.765000Z",
     "iopub.status.busy": "2024-07-10T23:27:28.764743Z",
     "iopub.status.idle": "2024-07-10T23:27:33.229562Z",
     "shell.execute_reply": "2024-07-10T23:27:33.228916Z",
     "shell.execute_reply.started": "2024-07-10T23:27:28.764969Z"
    }
   },
   "outputs": [],
   "source": [
    "import os\n",
    "os.environ['CUDA_VISIBLE_DEVICES'] = '0'\n",
    "import sys\n",
    "from pathlib import Path\n",
    "import anndata as ad\n",
    "import scanpy as sc\n",
    "import numpy as np\n",
    "import warnings\n",
    "warnings.simplefilter(action='ignore', category=FutureWarning)\n",
    "import seaborn as sns\n",
    "from matplotlib import pyplot as plt\n",
    "\n",
    "sys.path.insert(0, \"../../scripts/methods/\")\n",
    "from my_slat import slat_align, slat_align_ref\n",
    "sys.path.insert(0, \"/home/ylu/project\")\n",
    "from utils import *\n",
    "import time\n",
    "\n",
    "%load_ext autoreload\n",
    "%autoreload 2"
   ]
  },
  {
   "cell_type": "code",
   "execution_count": 2,
   "id": "e7b47bc4-0453-474d-a39f-aa14ed636caa",
   "metadata": {
    "execution": {
     "iopub.execute_input": "2024-07-10T23:27:35.601077Z",
     "iopub.status.busy": "2024-07-10T23:27:35.600404Z",
     "iopub.status.idle": "2024-07-10T23:27:35.634295Z",
     "shell.execute_reply": "2024-07-10T23:27:35.633723Z",
     "shell.execute_reply.started": "2024-07-10T23:27:35.601048Z"
    }
   },
   "outputs": [],
   "source": [
    "data_folder = \"/home/ylu/project/MOSTA/data/\"\n",
    "results_folder = \"./results/SLAT/\"\n",
    "figures_folder = \"./results/figures/SLAT\"\n",
    "Path(results_folder).mkdir(parents=True, exist_ok=True)"
   ]
  },
  {
   "cell_type": "code",
   "execution_count": 3,
   "id": "dea7abee-5509-4d87-8b86-19fb460fcb84",
   "metadata": {
    "execution": {
     "iopub.execute_input": "2024-07-10T23:27:39.165671Z",
     "iopub.status.busy": "2024-07-10T23:27:39.165051Z",
     "iopub.status.idle": "2024-07-10T23:28:27.924063Z",
     "shell.execute_reply": "2024-07-10T23:28:27.923326Z",
     "shell.execute_reply.started": "2024-07-10T23:27:39.165642Z"
    }
   },
   "outputs": [
    {
     "name": "stderr",
     "output_type": "stream",
     "text": [
      "100%|██████████████████████| 13/13 [00:48<00:00,  3.75s/it]\n"
     ]
    }
   ],
   "source": [
    "## load the data\n",
    "from tqdm import tqdm\n",
    "slices = []\n",
    "for i in tqdm(range(1, 14)):\n",
    "    slices.append(ad.read_h5ad(os.path.join(data_folder, f\"E16.5_E2S{i}.MOSTA.h5ad\")))"
   ]
  },
  {
   "cell_type": "code",
   "execution_count": 4,
   "id": "24840e17-a7da-4938-8e80-c4d7993303be",
   "metadata": {
    "execution": {
     "iopub.execute_input": "2024-07-10T23:28:27.925765Z",
     "iopub.status.busy": "2024-07-10T23:28:27.925468Z",
     "iopub.status.idle": "2024-07-10T23:28:27.969514Z",
     "shell.execute_reply": "2024-07-10T23:28:27.969002Z",
     "shell.execute_reply.started": "2024-07-10T23:28:27.925741Z"
    }
   },
   "outputs": [],
   "source": [
    "spatial_key = \"spatial\""
   ]
  },
  {
   "cell_type": "code",
   "execution_count": 5,
   "id": "1bf95a00-6497-41f2-959f-fd6b207731c0",
   "metadata": {
    "execution": {
     "iopub.execute_input": "2024-07-10T23:28:27.970491Z",
     "iopub.status.busy": "2024-07-10T23:28:27.970244Z",
     "iopub.status.idle": "2024-07-10T23:28:28.138819Z",
     "shell.execute_reply": "2024-07-10T23:28:28.138223Z",
     "shell.execute_reply.started": "2024-07-10T23:28:27.970471Z"
    }
   },
   "outputs": [],
   "source": [
    "## Rotate the data\n",
    "rotate_key = \"spatial_rot\"\n",
    "rotations = np.load(\"./results/random_rotations.npy\", allow_pickle=True)\n",
    "for i in range(len(slices)):\n",
    "    slices[i].obsm[rotate_key] = slices[i].obsm[spatial_key][:,:2].copy()\n",
    "    mean = np.mean(slices[i].obsm[rotate_key], axis=0)\n",
    "    slices[i].obsm[rotate_key] = slices[i].obsm[rotate_key] - mean\n",
    "    slices[i].obsm[rotate_key] = slices[i].obsm[rotate_key] @ rotations[i].T + mean\n",
    "    "
   ]
  },
  {
   "cell_type": "code",
   "execution_count": 6,
   "id": "3e3a25fd-c7b7-4bcf-bd2f-214badbcbbaa",
   "metadata": {
    "execution": {
     "iopub.execute_input": "2024-07-10T23:28:28.140462Z",
     "iopub.status.busy": "2024-07-10T23:28:28.140068Z",
     "iopub.status.idle": "2024-07-10T23:28:28.171921Z",
     "shell.execute_reply": "2024-07-10T23:28:28.171425Z",
     "shell.execute_reply.started": "2024-07-10T23:28:28.140432Z"
    }
   },
   "outputs": [],
   "source": [
    "spatial_key = \"spatial_rot\"\n",
    "key_added = \"aligned_spatial\""
   ]
  },
  {
   "cell_type": "code",
   "execution_count": 7,
   "id": "4d4bce49-e6f9-40da-8186-ac93595f278b",
   "metadata": {
    "execution": {
     "iopub.execute_input": "2024-07-10T23:28:28.173097Z",
     "iopub.status.busy": "2024-07-10T23:28:28.172750Z",
     "iopub.status.idle": "2024-07-10T23:38:39.706808Z",
     "shell.execute_reply": "2024-07-10T23:38:39.706027Z",
     "shell.execute_reply.started": "2024-07-10T23:28:28.173075Z"
    }
   },
   "outputs": [
    {
     "name": "stderr",
     "output_type": "stream",
     "text": [
      "  0%|                               | 0/12 [00:00<?, ?it/s]"
     ]
    },
    {
     "name": "stdout",
     "output_type": "stream",
     "text": [
      "Calculating spatial neighbor graph ...\n",
      "The graph contains 222556 edges, 20000 cells.\n",
      "11.1278 neighbors per cell on average.\n",
      "Calculating spatial neighbor graph ...\n",
      "The graph contains 223188 edges, 20000 cells.\n",
      "11.1594 neighbors per cell on average.\n",
      "Use DPCA feature to format graph\n"
     ]
    },
    {
     "name": "stderr",
     "output_type": "stream",
     "text": [
      "/home/ylu/anaconda3/envs/scSLAT/lib/python3.8/site-packages/anndata/_core/merge.py:1033: PerformanceWarning: DataFrame is highly fragmented.  This is usually the result of calling `frame.insert` many times, which has poor performance.  Consider joining all columns at once using pd.concat(axis=1) instead. To get a de-fragmented frame, use `newframe = frame.copy()`\n",
      "  concat_annot[label] = label_col\n",
      "/home/ylu/anaconda3/envs/scSLAT/lib/python3.8/site-packages/anndata/_core/anndata.py:1838: UserWarning: Observation names are not unique. To make them unique, call `.obs_names_make_unique`.\n",
      "  utils.warn_names_duplicates(\"obs\")\n",
      "/home/ylu/anaconda3/envs/scSLAT/lib/python3.8/site-packages/scanpy/preprocessing/_highly_variable_genes.py:64: UserWarning: `flavor='seurat_v3'` expects raw count data, but non-integers were found.\n",
      "  warnings.warn(\n",
      "/home/ylu/anaconda3/envs/scSLAT/lib/python3.8/site-packages/scanpy/preprocessing/_normalization.py:169: UserWarning: Received a view of an AnnData. Making a copy.\n",
      "  view_to_actual(adata)\n",
      "/home/ylu/anaconda3/envs/scSLAT/lib/python3.8/site-packages/anndata/_core/anndata.py:1838: UserWarning: Observation names are not unique. To make them unique, call `.obs_names_make_unique`.\n",
      "  utils.warn_names_duplicates(\"obs\")\n",
      "/home/ylu/anaconda3/envs/scSLAT/lib/python3.8/site-packages/scanpy/preprocessing/_normalization.py:196: UserWarning: Some cells have zero counts\n",
      "  warn(UserWarning('Some cells have zero counts'))\n",
      "/home/ylu/anaconda3/envs/scSLAT/lib/python3.8/site-packages/scanpy/preprocessing/_simple.py:843: UserWarning: Received a view of an AnnData. Making a copy.\n",
      "  view_to_actual(adata)\n",
      "/home/ylu/anaconda3/envs/scSLAT/lib/python3.8/site-packages/scanpy/preprocessing/_simple.py:843: UserWarning: Received a view of an AnnData. Making a copy.\n",
      "  view_to_actual(adata)\n"
     ]
    },
    {
     "name": "stdout",
     "output_type": "stream",
     "text": [
      "Warning! Dual PCA is using GPU, which may lead to OUT OF GPU MEMORY in big dataset!\n",
      "Choose GPU:0 as device\n",
      "Running\n",
      "---------- epochs: 1 ----------\n",
      "---------- epochs: 2 ----------\n",
      "---------- epochs: 3 ----------\n",
      "---------- epochs: 4 ----------\n",
      "---------- epochs: 5 ----------\n",
      "---------- epochs: 6 ----------\n",
      "Training model time: 2.64\n"
     ]
    },
    {
     "name": "stderr",
     "output_type": "stream",
     "text": [
      "  8%|█▉                     | 1/12 [00:47<08:40, 47.30s/it]"
     ]
    },
    {
     "name": "stdout",
     "output_type": "stream",
     "text": [
      "Calculating spatial neighbor graph ...\n",
      "The graph contains 223270 edges, 20000 cells.\n",
      "11.1635 neighbors per cell on average.\n",
      "Calculating spatial neighbor graph ...\n",
      "The graph contains 224114 edges, 20000 cells.\n",
      "11.2057 neighbors per cell on average.\n",
      "Use DPCA feature to format graph\n"
     ]
    },
    {
     "name": "stderr",
     "output_type": "stream",
     "text": [
      "/home/ylu/anaconda3/envs/scSLAT/lib/python3.8/site-packages/anndata/_core/merge.py:1033: PerformanceWarning: DataFrame is highly fragmented.  This is usually the result of calling `frame.insert` many times, which has poor performance.  Consider joining all columns at once using pd.concat(axis=1) instead. To get a de-fragmented frame, use `newframe = frame.copy()`\n",
      "  concat_annot[label] = label_col\n",
      "/home/ylu/anaconda3/envs/scSLAT/lib/python3.8/site-packages/anndata/_core/anndata.py:1838: UserWarning: Observation names are not unique. To make them unique, call `.obs_names_make_unique`.\n",
      "  utils.warn_names_duplicates(\"obs\")\n",
      "/home/ylu/anaconda3/envs/scSLAT/lib/python3.8/site-packages/scanpy/preprocessing/_highly_variable_genes.py:64: UserWarning: `flavor='seurat_v3'` expects raw count data, but non-integers were found.\n",
      "  warnings.warn(\n",
      "/home/ylu/anaconda3/envs/scSLAT/lib/python3.8/site-packages/scanpy/preprocessing/_normalization.py:169: UserWarning: Received a view of an AnnData. Making a copy.\n",
      "  view_to_actual(adata)\n",
      "/home/ylu/anaconda3/envs/scSLAT/lib/python3.8/site-packages/anndata/_core/anndata.py:1838: UserWarning: Observation names are not unique. To make them unique, call `.obs_names_make_unique`.\n",
      "  utils.warn_names_duplicates(\"obs\")\n",
      "/home/ylu/anaconda3/envs/scSLAT/lib/python3.8/site-packages/scanpy/preprocessing/_normalization.py:196: UserWarning: Some cells have zero counts\n",
      "  warn(UserWarning('Some cells have zero counts'))\n",
      "/home/ylu/anaconda3/envs/scSLAT/lib/python3.8/site-packages/scanpy/preprocessing/_simple.py:843: UserWarning: Received a view of an AnnData. Making a copy.\n",
      "  view_to_actual(adata)\n",
      "/home/ylu/anaconda3/envs/scSLAT/lib/python3.8/site-packages/scanpy/preprocessing/_simple.py:843: UserWarning: Received a view of an AnnData. Making a copy.\n",
      "  view_to_actual(adata)\n"
     ]
    },
    {
     "name": "stdout",
     "output_type": "stream",
     "text": [
      "Warning! Dual PCA is using GPU, which may lead to OUT OF GPU MEMORY in big dataset!\n",
      "Choose GPU:0 as device\n",
      "Running\n",
      "---------- epochs: 1 ----------\n",
      "---------- epochs: 2 ----------\n",
      "---------- epochs: 3 ----------\n",
      "---------- epochs: 4 ----------\n",
      "---------- epochs: 5 ----------\n",
      "---------- epochs: 6 ----------\n",
      "Training model time: 1.67\n"
     ]
    },
    {
     "name": "stderr",
     "output_type": "stream",
     "text": [
      " 17%|███▊                   | 2/12 [01:30<07:28, 44.85s/it]"
     ]
    },
    {
     "name": "stdout",
     "output_type": "stream",
     "text": [
      "Calculating spatial neighbor graph ...\n",
      "The graph contains 224692 edges, 20000 cells.\n",
      "11.2346 neighbors per cell on average.\n",
      "Calculating spatial neighbor graph ...\n",
      "The graph contains 224478 edges, 20000 cells.\n",
      "11.2239 neighbors per cell on average.\n",
      "Use DPCA feature to format graph\n"
     ]
    },
    {
     "name": "stderr",
     "output_type": "stream",
     "text": [
      "/home/ylu/anaconda3/envs/scSLAT/lib/python3.8/site-packages/anndata/_core/merge.py:1033: PerformanceWarning: DataFrame is highly fragmented.  This is usually the result of calling `frame.insert` many times, which has poor performance.  Consider joining all columns at once using pd.concat(axis=1) instead. To get a de-fragmented frame, use `newframe = frame.copy()`\n",
      "  concat_annot[label] = label_col\n",
      "/home/ylu/anaconda3/envs/scSLAT/lib/python3.8/site-packages/anndata/_core/anndata.py:1838: UserWarning: Observation names are not unique. To make them unique, call `.obs_names_make_unique`.\n",
      "  utils.warn_names_duplicates(\"obs\")\n",
      "/home/ylu/anaconda3/envs/scSLAT/lib/python3.8/site-packages/scanpy/preprocessing/_highly_variable_genes.py:64: UserWarning: `flavor='seurat_v3'` expects raw count data, but non-integers were found.\n",
      "  warnings.warn(\n",
      "/home/ylu/anaconda3/envs/scSLAT/lib/python3.8/site-packages/scanpy/preprocessing/_normalization.py:169: UserWarning: Received a view of an AnnData. Making a copy.\n",
      "  view_to_actual(adata)\n",
      "/home/ylu/anaconda3/envs/scSLAT/lib/python3.8/site-packages/anndata/_core/anndata.py:1838: UserWarning: Observation names are not unique. To make them unique, call `.obs_names_make_unique`.\n",
      "  utils.warn_names_duplicates(\"obs\")\n",
      "/home/ylu/anaconda3/envs/scSLAT/lib/python3.8/site-packages/scanpy/preprocessing/_normalization.py:196: UserWarning: Some cells have zero counts\n",
      "  warn(UserWarning('Some cells have zero counts'))\n",
      "/home/ylu/anaconda3/envs/scSLAT/lib/python3.8/site-packages/scanpy/preprocessing/_simple.py:843: UserWarning: Received a view of an AnnData. Making a copy.\n",
      "  view_to_actual(adata)\n",
      "/home/ylu/anaconda3/envs/scSLAT/lib/python3.8/site-packages/scanpy/preprocessing/_simple.py:843: UserWarning: Received a view of an AnnData. Making a copy.\n",
      "  view_to_actual(adata)\n"
     ]
    },
    {
     "name": "stdout",
     "output_type": "stream",
     "text": [
      "Warning! Dual PCA is using GPU, which may lead to OUT OF GPU MEMORY in big dataset!\n",
      "Choose GPU:0 as device\n",
      "Running\n",
      "---------- epochs: 1 ----------\n",
      "---------- epochs: 2 ----------\n",
      "---------- epochs: 3 ----------\n",
      "---------- epochs: 4 ----------\n",
      "---------- epochs: 5 ----------\n",
      "---------- epochs: 6 ----------\n",
      "Training model time: 1.66\n"
     ]
    },
    {
     "name": "stderr",
     "output_type": "stream",
     "text": [
      " 25%|█████▊                 | 3/12 [02:12<06:34, 43.81s/it]"
     ]
    },
    {
     "name": "stdout",
     "output_type": "stream",
     "text": [
      "Calculating spatial neighbor graph ...\n",
      "The graph contains 224224 edges, 20000 cells.\n",
      "11.2112 neighbors per cell on average.\n",
      "Calculating spatial neighbor graph ...\n",
      "The graph contains 224724 edges, 20000 cells.\n",
      "11.2362 neighbors per cell on average.\n",
      "Use DPCA feature to format graph\n"
     ]
    },
    {
     "name": "stderr",
     "output_type": "stream",
     "text": [
      "/home/ylu/anaconda3/envs/scSLAT/lib/python3.8/site-packages/anndata/_core/merge.py:1033: PerformanceWarning: DataFrame is highly fragmented.  This is usually the result of calling `frame.insert` many times, which has poor performance.  Consider joining all columns at once using pd.concat(axis=1) instead. To get a de-fragmented frame, use `newframe = frame.copy()`\n",
      "  concat_annot[label] = label_col\n",
      "/home/ylu/anaconda3/envs/scSLAT/lib/python3.8/site-packages/anndata/_core/anndata.py:1838: UserWarning: Observation names are not unique. To make them unique, call `.obs_names_make_unique`.\n",
      "  utils.warn_names_duplicates(\"obs\")\n",
      "/home/ylu/anaconda3/envs/scSLAT/lib/python3.8/site-packages/scanpy/preprocessing/_highly_variable_genes.py:64: UserWarning: `flavor='seurat_v3'` expects raw count data, but non-integers were found.\n",
      "  warnings.warn(\n",
      "/home/ylu/anaconda3/envs/scSLAT/lib/python3.8/site-packages/scanpy/preprocessing/_normalization.py:169: UserWarning: Received a view of an AnnData. Making a copy.\n",
      "  view_to_actual(adata)\n",
      "/home/ylu/anaconda3/envs/scSLAT/lib/python3.8/site-packages/anndata/_core/anndata.py:1838: UserWarning: Observation names are not unique. To make them unique, call `.obs_names_make_unique`.\n",
      "  utils.warn_names_duplicates(\"obs\")\n",
      "/home/ylu/anaconda3/envs/scSLAT/lib/python3.8/site-packages/scanpy/preprocessing/_normalization.py:196: UserWarning: Some cells have zero counts\n",
      "  warn(UserWarning('Some cells have zero counts'))\n",
      "/home/ylu/anaconda3/envs/scSLAT/lib/python3.8/site-packages/scanpy/preprocessing/_simple.py:843: UserWarning: Received a view of an AnnData. Making a copy.\n",
      "  view_to_actual(adata)\n",
      "/home/ylu/anaconda3/envs/scSLAT/lib/python3.8/site-packages/scanpy/preprocessing/_simple.py:843: UserWarning: Received a view of an AnnData. Making a copy.\n",
      "  view_to_actual(adata)\n"
     ]
    },
    {
     "name": "stdout",
     "output_type": "stream",
     "text": [
      "Warning! Dual PCA is using GPU, which may lead to OUT OF GPU MEMORY in big dataset!\n",
      "Choose GPU:0 as device\n",
      "Running\n",
      "---------- epochs: 1 ----------\n",
      "---------- epochs: 2 ----------\n",
      "---------- epochs: 3 ----------\n",
      "---------- epochs: 4 ----------\n",
      "---------- epochs: 5 ----------\n",
      "---------- epochs: 6 ----------\n",
      "Training model time: 1.70\n"
     ]
    },
    {
     "name": "stderr",
     "output_type": "stream",
     "text": [
      " 33%|███████▋               | 4/12 [02:58<05:56, 44.59s/it]"
     ]
    },
    {
     "name": "stdout",
     "output_type": "stream",
     "text": [
      "Calculating spatial neighbor graph ...\n",
      "The graph contains 224260 edges, 20000 cells.\n",
      "11.213 neighbors per cell on average.\n",
      "Calculating spatial neighbor graph ...\n",
      "The graph contains 225098 edges, 20000 cells.\n",
      "11.2549 neighbors per cell on average.\n",
      "Use DPCA feature to format graph\n"
     ]
    },
    {
     "name": "stderr",
     "output_type": "stream",
     "text": [
      "/home/ylu/anaconda3/envs/scSLAT/lib/python3.8/site-packages/anndata/_core/merge.py:1033: PerformanceWarning: DataFrame is highly fragmented.  This is usually the result of calling `frame.insert` many times, which has poor performance.  Consider joining all columns at once using pd.concat(axis=1) instead. To get a de-fragmented frame, use `newframe = frame.copy()`\n",
      "  concat_annot[label] = label_col\n",
      "/home/ylu/anaconda3/envs/scSLAT/lib/python3.8/site-packages/anndata/_core/anndata.py:1838: UserWarning: Observation names are not unique. To make them unique, call `.obs_names_make_unique`.\n",
      "  utils.warn_names_duplicates(\"obs\")\n",
      "/home/ylu/anaconda3/envs/scSLAT/lib/python3.8/site-packages/scanpy/preprocessing/_highly_variable_genes.py:64: UserWarning: `flavor='seurat_v3'` expects raw count data, but non-integers were found.\n",
      "  warnings.warn(\n",
      "/home/ylu/anaconda3/envs/scSLAT/lib/python3.8/site-packages/scanpy/preprocessing/_normalization.py:169: UserWarning: Received a view of an AnnData. Making a copy.\n",
      "  view_to_actual(adata)\n",
      "/home/ylu/anaconda3/envs/scSLAT/lib/python3.8/site-packages/anndata/_core/anndata.py:1838: UserWarning: Observation names are not unique. To make them unique, call `.obs_names_make_unique`.\n",
      "  utils.warn_names_duplicates(\"obs\")\n",
      "/home/ylu/anaconda3/envs/scSLAT/lib/python3.8/site-packages/scanpy/preprocessing/_normalization.py:196: UserWarning: Some cells have zero counts\n",
      "  warn(UserWarning('Some cells have zero counts'))\n",
      "/home/ylu/anaconda3/envs/scSLAT/lib/python3.8/site-packages/scanpy/preprocessing/_simple.py:843: UserWarning: Received a view of an AnnData. Making a copy.\n",
      "  view_to_actual(adata)\n",
      "/home/ylu/anaconda3/envs/scSLAT/lib/python3.8/site-packages/scanpy/preprocessing/_simple.py:843: UserWarning: Received a view of an AnnData. Making a copy.\n",
      "  view_to_actual(adata)\n"
     ]
    },
    {
     "name": "stdout",
     "output_type": "stream",
     "text": [
      "Warning! Dual PCA is using GPU, which may lead to OUT OF GPU MEMORY in big dataset!\n",
      "Choose GPU:0 as device\n",
      "Running\n",
      "---------- epochs: 1 ----------\n",
      "---------- epochs: 2 ----------\n",
      "---------- epochs: 3 ----------\n",
      "---------- epochs: 4 ----------\n",
      "---------- epochs: 5 ----------\n",
      "---------- epochs: 6 ----------\n",
      "Training model time: 1.69\n"
     ]
    },
    {
     "name": "stderr",
     "output_type": "stream",
     "text": [
      " 42%|█████████▌             | 5/12 [03:51<05:33, 47.64s/it]"
     ]
    },
    {
     "name": "stdout",
     "output_type": "stream",
     "text": [
      "Calculating spatial neighbor graph ...\n",
      "The graph contains 225026 edges, 20000 cells.\n",
      "11.2513 neighbors per cell on average.\n",
      "Calculating spatial neighbor graph ...\n",
      "The graph contains 225132 edges, 20000 cells.\n",
      "11.2566 neighbors per cell on average.\n",
      "Use DPCA feature to format graph\n"
     ]
    },
    {
     "name": "stderr",
     "output_type": "stream",
     "text": [
      "/home/ylu/anaconda3/envs/scSLAT/lib/python3.8/site-packages/anndata/_core/merge.py:1033: PerformanceWarning: DataFrame is highly fragmented.  This is usually the result of calling `frame.insert` many times, which has poor performance.  Consider joining all columns at once using pd.concat(axis=1) instead. To get a de-fragmented frame, use `newframe = frame.copy()`\n",
      "  concat_annot[label] = label_col\n",
      "/home/ylu/anaconda3/envs/scSLAT/lib/python3.8/site-packages/anndata/_core/anndata.py:1838: UserWarning: Observation names are not unique. To make them unique, call `.obs_names_make_unique`.\n",
      "  utils.warn_names_duplicates(\"obs\")\n",
      "/home/ylu/anaconda3/envs/scSLAT/lib/python3.8/site-packages/scanpy/preprocessing/_highly_variable_genes.py:64: UserWarning: `flavor='seurat_v3'` expects raw count data, but non-integers were found.\n",
      "  warnings.warn(\n",
      "/home/ylu/anaconda3/envs/scSLAT/lib/python3.8/site-packages/scanpy/preprocessing/_normalization.py:169: UserWarning: Received a view of an AnnData. Making a copy.\n",
      "  view_to_actual(adata)\n",
      "/home/ylu/anaconda3/envs/scSLAT/lib/python3.8/site-packages/anndata/_core/anndata.py:1838: UserWarning: Observation names are not unique. To make them unique, call `.obs_names_make_unique`.\n",
      "  utils.warn_names_duplicates(\"obs\")\n",
      "/home/ylu/anaconda3/envs/scSLAT/lib/python3.8/site-packages/scanpy/preprocessing/_normalization.py:196: UserWarning: Some cells have zero counts\n",
      "  warn(UserWarning('Some cells have zero counts'))\n",
      "/home/ylu/anaconda3/envs/scSLAT/lib/python3.8/site-packages/scanpy/preprocessing/_simple.py:843: UserWarning: Received a view of an AnnData. Making a copy.\n",
      "  view_to_actual(adata)\n",
      "/home/ylu/anaconda3/envs/scSLAT/lib/python3.8/site-packages/scanpy/preprocessing/_simple.py:843: UserWarning: Received a view of an AnnData. Making a copy.\n",
      "  view_to_actual(adata)\n"
     ]
    },
    {
     "name": "stdout",
     "output_type": "stream",
     "text": [
      "Warning! Dual PCA is using GPU, which may lead to OUT OF GPU MEMORY in big dataset!\n",
      "Choose GPU:0 as device\n",
      "Running\n",
      "---------- epochs: 1 ----------\n",
      "---------- epochs: 2 ----------\n",
      "---------- epochs: 3 ----------\n",
      "---------- epochs: 4 ----------\n",
      "---------- epochs: 5 ----------\n",
      "---------- epochs: 6 ----------\n",
      "Training model time: 1.81\n"
     ]
    },
    {
     "name": "stderr",
     "output_type": "stream",
     "text": [
      " 50%|███████████▌           | 6/12 [04:57<05:21, 53.66s/it]"
     ]
    },
    {
     "name": "stdout",
     "output_type": "stream",
     "text": [
      "Calculating spatial neighbor graph ...\n",
      "The graph contains 225100 edges, 20000 cells.\n",
      "11.255 neighbors per cell on average.\n",
      "Calculating spatial neighbor graph ...\n",
      "The graph contains 224932 edges, 20000 cells.\n",
      "11.2466 neighbors per cell on average.\n",
      "Use DPCA feature to format graph\n"
     ]
    },
    {
     "name": "stderr",
     "output_type": "stream",
     "text": [
      "/home/ylu/anaconda3/envs/scSLAT/lib/python3.8/site-packages/anndata/_core/merge.py:1033: PerformanceWarning: DataFrame is highly fragmented.  This is usually the result of calling `frame.insert` many times, which has poor performance.  Consider joining all columns at once using pd.concat(axis=1) instead. To get a de-fragmented frame, use `newframe = frame.copy()`\n",
      "  concat_annot[label] = label_col\n",
      "/home/ylu/anaconda3/envs/scSLAT/lib/python3.8/site-packages/anndata/_core/anndata.py:1838: UserWarning: Observation names are not unique. To make them unique, call `.obs_names_make_unique`.\n",
      "  utils.warn_names_duplicates(\"obs\")\n",
      "/home/ylu/anaconda3/envs/scSLAT/lib/python3.8/site-packages/scanpy/preprocessing/_highly_variable_genes.py:64: UserWarning: `flavor='seurat_v3'` expects raw count data, but non-integers were found.\n",
      "  warnings.warn(\n",
      "/home/ylu/anaconda3/envs/scSLAT/lib/python3.8/site-packages/scanpy/preprocessing/_normalization.py:169: UserWarning: Received a view of an AnnData. Making a copy.\n",
      "  view_to_actual(adata)\n",
      "/home/ylu/anaconda3/envs/scSLAT/lib/python3.8/site-packages/anndata/_core/anndata.py:1838: UserWarning: Observation names are not unique. To make them unique, call `.obs_names_make_unique`.\n",
      "  utils.warn_names_duplicates(\"obs\")\n",
      "/home/ylu/anaconda3/envs/scSLAT/lib/python3.8/site-packages/scanpy/preprocessing/_normalization.py:196: UserWarning: Some cells have zero counts\n",
      "  warn(UserWarning('Some cells have zero counts'))\n",
      "/home/ylu/anaconda3/envs/scSLAT/lib/python3.8/site-packages/scanpy/preprocessing/_simple.py:843: UserWarning: Received a view of an AnnData. Making a copy.\n",
      "  view_to_actual(adata)\n",
      "/home/ylu/anaconda3/envs/scSLAT/lib/python3.8/site-packages/scanpy/preprocessing/_simple.py:843: UserWarning: Received a view of an AnnData. Making a copy.\n",
      "  view_to_actual(adata)\n"
     ]
    },
    {
     "name": "stdout",
     "output_type": "stream",
     "text": [
      "Warning! Dual PCA is using GPU, which may lead to OUT OF GPU MEMORY in big dataset!\n",
      "Choose GPU:0 as device\n",
      "Running\n",
      "---------- epochs: 1 ----------\n",
      "---------- epochs: 2 ----------\n",
      "---------- epochs: 3 ----------\n",
      "---------- epochs: 4 ----------\n",
      "---------- epochs: 5 ----------\n",
      "---------- epochs: 6 ----------\n",
      "Training model time: 1.70\n"
     ]
    },
    {
     "name": "stderr",
     "output_type": "stream",
     "text": [
      " 58%|█████████████▍         | 7/12 [06:13<05:05, 61.05s/it]"
     ]
    },
    {
     "name": "stdout",
     "output_type": "stream",
     "text": [
      "Calculating spatial neighbor graph ...\n",
      "The graph contains 224658 edges, 20000 cells.\n",
      "11.2329 neighbors per cell on average.\n",
      "Calculating spatial neighbor graph ...\n",
      "The graph contains 224854 edges, 20000 cells.\n",
      "11.2427 neighbors per cell on average.\n",
      "Use DPCA feature to format graph\n"
     ]
    },
    {
     "name": "stderr",
     "output_type": "stream",
     "text": [
      "/home/ylu/anaconda3/envs/scSLAT/lib/python3.8/site-packages/anndata/_core/merge.py:1033: PerformanceWarning: DataFrame is highly fragmented.  This is usually the result of calling `frame.insert` many times, which has poor performance.  Consider joining all columns at once using pd.concat(axis=1) instead. To get a de-fragmented frame, use `newframe = frame.copy()`\n",
      "  concat_annot[label] = label_col\n",
      "/home/ylu/anaconda3/envs/scSLAT/lib/python3.8/site-packages/anndata/_core/anndata.py:1838: UserWarning: Observation names are not unique. To make them unique, call `.obs_names_make_unique`.\n",
      "  utils.warn_names_duplicates(\"obs\")\n",
      "/home/ylu/anaconda3/envs/scSLAT/lib/python3.8/site-packages/scanpy/preprocessing/_highly_variable_genes.py:64: UserWarning: `flavor='seurat_v3'` expects raw count data, but non-integers were found.\n",
      "  warnings.warn(\n",
      "/home/ylu/anaconda3/envs/scSLAT/lib/python3.8/site-packages/scanpy/preprocessing/_normalization.py:169: UserWarning: Received a view of an AnnData. Making a copy.\n",
      "  view_to_actual(adata)\n",
      "/home/ylu/anaconda3/envs/scSLAT/lib/python3.8/site-packages/anndata/_core/anndata.py:1838: UserWarning: Observation names are not unique. To make them unique, call `.obs_names_make_unique`.\n",
      "  utils.warn_names_duplicates(\"obs\")\n",
      "/home/ylu/anaconda3/envs/scSLAT/lib/python3.8/site-packages/scanpy/preprocessing/_simple.py:843: UserWarning: Received a view of an AnnData. Making a copy.\n",
      "  view_to_actual(adata)\n",
      "/home/ylu/anaconda3/envs/scSLAT/lib/python3.8/site-packages/scanpy/preprocessing/_simple.py:843: UserWarning: Received a view of an AnnData. Making a copy.\n",
      "  view_to_actual(adata)\n"
     ]
    },
    {
     "name": "stdout",
     "output_type": "stream",
     "text": [
      "Warning! Dual PCA is using GPU, which may lead to OUT OF GPU MEMORY in big dataset!\n",
      "Choose GPU:0 as device\n",
      "Running\n",
      "---------- epochs: 1 ----------\n",
      "---------- epochs: 2 ----------\n",
      "---------- epochs: 3 ----------\n",
      "---------- epochs: 4 ----------\n",
      "---------- epochs: 5 ----------\n",
      "---------- epochs: 6 ----------\n",
      "Training model time: 1.67\n"
     ]
    },
    {
     "name": "stderr",
     "output_type": "stream",
     "text": [
      " 67%|███████████████▎       | 8/12 [07:24<04:17, 64.29s/it]"
     ]
    },
    {
     "name": "stdout",
     "output_type": "stream",
     "text": [
      "Calculating spatial neighbor graph ...\n",
      "The graph contains 224774 edges, 20000 cells.\n",
      "11.2387 neighbors per cell on average.\n",
      "Calculating spatial neighbor graph ...\n",
      "The graph contains 224432 edges, 20000 cells.\n",
      "11.2216 neighbors per cell on average.\n",
      "Use DPCA feature to format graph\n"
     ]
    },
    {
     "name": "stderr",
     "output_type": "stream",
     "text": [
      "/home/ylu/anaconda3/envs/scSLAT/lib/python3.8/site-packages/anndata/_core/merge.py:1033: PerformanceWarning: DataFrame is highly fragmented.  This is usually the result of calling `frame.insert` many times, which has poor performance.  Consider joining all columns at once using pd.concat(axis=1) instead. To get a de-fragmented frame, use `newframe = frame.copy()`\n",
      "  concat_annot[label] = label_col\n",
      "/home/ylu/anaconda3/envs/scSLAT/lib/python3.8/site-packages/anndata/_core/anndata.py:1838: UserWarning: Observation names are not unique. To make them unique, call `.obs_names_make_unique`.\n",
      "  utils.warn_names_duplicates(\"obs\")\n",
      "/home/ylu/anaconda3/envs/scSLAT/lib/python3.8/site-packages/scanpy/preprocessing/_highly_variable_genes.py:64: UserWarning: `flavor='seurat_v3'` expects raw count data, but non-integers were found.\n",
      "  warnings.warn(\n",
      "/home/ylu/anaconda3/envs/scSLAT/lib/python3.8/site-packages/scanpy/preprocessing/_normalization.py:169: UserWarning: Received a view of an AnnData. Making a copy.\n",
      "  view_to_actual(adata)\n",
      "/home/ylu/anaconda3/envs/scSLAT/lib/python3.8/site-packages/anndata/_core/anndata.py:1838: UserWarning: Observation names are not unique. To make them unique, call `.obs_names_make_unique`.\n",
      "  utils.warn_names_duplicates(\"obs\")\n",
      "/home/ylu/anaconda3/envs/scSLAT/lib/python3.8/site-packages/scanpy/preprocessing/_normalization.py:196: UserWarning: Some cells have zero counts\n",
      "  warn(UserWarning('Some cells have zero counts'))\n",
      "/home/ylu/anaconda3/envs/scSLAT/lib/python3.8/site-packages/scanpy/preprocessing/_simple.py:843: UserWarning: Received a view of an AnnData. Making a copy.\n",
      "  view_to_actual(adata)\n",
      "/home/ylu/anaconda3/envs/scSLAT/lib/python3.8/site-packages/scanpy/preprocessing/_simple.py:843: UserWarning: Received a view of an AnnData. Making a copy.\n",
      "  view_to_actual(adata)\n"
     ]
    },
    {
     "name": "stdout",
     "output_type": "stream",
     "text": [
      "Warning! Dual PCA is using GPU, which may lead to OUT OF GPU MEMORY in big dataset!\n",
      "Choose GPU:0 as device\n",
      "Running\n",
      "---------- epochs: 1 ----------\n",
      "---------- epochs: 2 ----------\n",
      "---------- epochs: 3 ----------\n",
      "---------- epochs: 4 ----------\n",
      "---------- epochs: 5 ----------\n",
      "---------- epochs: 6 ----------\n",
      "Training model time: 1.67\n"
     ]
    },
    {
     "name": "stderr",
     "output_type": "stream",
     "text": [
      " 75%|█████████████████▎     | 9/12 [08:10<02:55, 58.42s/it]"
     ]
    },
    {
     "name": "stdout",
     "output_type": "stream",
     "text": [
      "Calculating spatial neighbor graph ...\n",
      "The graph contains 224380 edges, 20000 cells.\n",
      "11.219 neighbors per cell on average.\n",
      "Calculating spatial neighbor graph ...\n",
      "The graph contains 224314 edges, 20000 cells.\n",
      "11.2157 neighbors per cell on average.\n",
      "Use DPCA feature to format graph\n"
     ]
    },
    {
     "name": "stderr",
     "output_type": "stream",
     "text": [
      "/home/ylu/anaconda3/envs/scSLAT/lib/python3.8/site-packages/anndata/_core/merge.py:1033: PerformanceWarning: DataFrame is highly fragmented.  This is usually the result of calling `frame.insert` many times, which has poor performance.  Consider joining all columns at once using pd.concat(axis=1) instead. To get a de-fragmented frame, use `newframe = frame.copy()`\n",
      "  concat_annot[label] = label_col\n",
      "/home/ylu/anaconda3/envs/scSLAT/lib/python3.8/site-packages/anndata/_core/anndata.py:1838: UserWarning: Observation names are not unique. To make them unique, call `.obs_names_make_unique`.\n",
      "  utils.warn_names_duplicates(\"obs\")\n",
      "/home/ylu/anaconda3/envs/scSLAT/lib/python3.8/site-packages/scanpy/preprocessing/_highly_variable_genes.py:64: UserWarning: `flavor='seurat_v3'` expects raw count data, but non-integers were found.\n",
      "  warnings.warn(\n",
      "/home/ylu/anaconda3/envs/scSLAT/lib/python3.8/site-packages/scanpy/preprocessing/_normalization.py:169: UserWarning: Received a view of an AnnData. Making a copy.\n",
      "  view_to_actual(adata)\n",
      "/home/ylu/anaconda3/envs/scSLAT/lib/python3.8/site-packages/anndata/_core/anndata.py:1838: UserWarning: Observation names are not unique. To make them unique, call `.obs_names_make_unique`.\n",
      "  utils.warn_names_duplicates(\"obs\")\n",
      "/home/ylu/anaconda3/envs/scSLAT/lib/python3.8/site-packages/scanpy/preprocessing/_normalization.py:196: UserWarning: Some cells have zero counts\n",
      "  warn(UserWarning('Some cells have zero counts'))\n",
      "/home/ylu/anaconda3/envs/scSLAT/lib/python3.8/site-packages/scanpy/preprocessing/_simple.py:843: UserWarning: Received a view of an AnnData. Making a copy.\n",
      "  view_to_actual(adata)\n",
      "/home/ylu/anaconda3/envs/scSLAT/lib/python3.8/site-packages/scanpy/preprocessing/_simple.py:843: UserWarning: Received a view of an AnnData. Making a copy.\n",
      "  view_to_actual(adata)\n"
     ]
    },
    {
     "name": "stdout",
     "output_type": "stream",
     "text": [
      "Warning! Dual PCA is using GPU, which may lead to OUT OF GPU MEMORY in big dataset!\n",
      "Choose GPU:0 as device\n",
      "Running\n",
      "---------- epochs: 1 ----------\n",
      "---------- epochs: 2 ----------\n",
      "---------- epochs: 3 ----------\n",
      "---------- epochs: 4 ----------\n",
      "---------- epochs: 5 ----------\n",
      "---------- epochs: 6 ----------\n",
      "Training model time: 1.69\n"
     ]
    },
    {
     "name": "stderr",
     "output_type": "stream",
     "text": [
      " 83%|██████████████████▎   | 10/12 [08:50<01:45, 52.98s/it]"
     ]
    },
    {
     "name": "stdout",
     "output_type": "stream",
     "text": [
      "Calculating spatial neighbor graph ...\n",
      "The graph contains 224396 edges, 20000 cells.\n",
      "11.2198 neighbors per cell on average.\n",
      "Calculating spatial neighbor graph ...\n",
      "The graph contains 223870 edges, 20000 cells.\n",
      "11.1935 neighbors per cell on average.\n",
      "Use DPCA feature to format graph\n"
     ]
    },
    {
     "name": "stderr",
     "output_type": "stream",
     "text": [
      "/home/ylu/anaconda3/envs/scSLAT/lib/python3.8/site-packages/anndata/_core/merge.py:1033: PerformanceWarning: DataFrame is highly fragmented.  This is usually the result of calling `frame.insert` many times, which has poor performance.  Consider joining all columns at once using pd.concat(axis=1) instead. To get a de-fragmented frame, use `newframe = frame.copy()`\n",
      "  concat_annot[label] = label_col\n",
      "/home/ylu/anaconda3/envs/scSLAT/lib/python3.8/site-packages/anndata/_core/anndata.py:1838: UserWarning: Observation names are not unique. To make them unique, call `.obs_names_make_unique`.\n",
      "  utils.warn_names_duplicates(\"obs\")\n",
      "/home/ylu/anaconda3/envs/scSLAT/lib/python3.8/site-packages/scanpy/preprocessing/_highly_variable_genes.py:64: UserWarning: `flavor='seurat_v3'` expects raw count data, but non-integers were found.\n",
      "  warnings.warn(\n",
      "/home/ylu/anaconda3/envs/scSLAT/lib/python3.8/site-packages/scanpy/preprocessing/_normalization.py:169: UserWarning: Received a view of an AnnData. Making a copy.\n",
      "  view_to_actual(adata)\n",
      "/home/ylu/anaconda3/envs/scSLAT/lib/python3.8/site-packages/anndata/_core/anndata.py:1838: UserWarning: Observation names are not unique. To make them unique, call `.obs_names_make_unique`.\n",
      "  utils.warn_names_duplicates(\"obs\")\n",
      "/home/ylu/anaconda3/envs/scSLAT/lib/python3.8/site-packages/scanpy/preprocessing/_normalization.py:196: UserWarning: Some cells have zero counts\n",
      "  warn(UserWarning('Some cells have zero counts'))\n",
      "/home/ylu/anaconda3/envs/scSLAT/lib/python3.8/site-packages/scanpy/preprocessing/_simple.py:843: UserWarning: Received a view of an AnnData. Making a copy.\n",
      "  view_to_actual(adata)\n",
      "/home/ylu/anaconda3/envs/scSLAT/lib/python3.8/site-packages/scanpy/preprocessing/_simple.py:843: UserWarning: Received a view of an AnnData. Making a copy.\n",
      "  view_to_actual(adata)\n"
     ]
    },
    {
     "name": "stdout",
     "output_type": "stream",
     "text": [
      "Warning! Dual PCA is using GPU, which may lead to OUT OF GPU MEMORY in big dataset!\n",
      "Choose GPU:0 as device\n",
      "Running\n",
      "---------- epochs: 1 ----------\n",
      "---------- epochs: 2 ----------\n",
      "---------- epochs: 3 ----------\n",
      "---------- epochs: 4 ----------\n",
      "---------- epochs: 5 ----------\n",
      "---------- epochs: 6 ----------\n",
      "Training model time: 1.71\n"
     ]
    },
    {
     "name": "stderr",
     "output_type": "stream",
     "text": [
      " 92%|████████████████████▏ | 11/12 [09:30<00:48, 48.78s/it]"
     ]
    },
    {
     "name": "stdout",
     "output_type": "stream",
     "text": [
      "Calculating spatial neighbor graph ...\n",
      "The graph contains 223956 edges, 20000 cells.\n",
      "11.1978 neighbors per cell on average.\n",
      "Calculating spatial neighbor graph ...\n",
      "The graph contains 223450 edges, 20000 cells.\n",
      "11.1725 neighbors per cell on average.\n",
      "Use DPCA feature to format graph\n"
     ]
    },
    {
     "name": "stderr",
     "output_type": "stream",
     "text": [
      "/home/ylu/anaconda3/envs/scSLAT/lib/python3.8/site-packages/anndata/_core/merge.py:1033: PerformanceWarning: DataFrame is highly fragmented.  This is usually the result of calling `frame.insert` many times, which has poor performance.  Consider joining all columns at once using pd.concat(axis=1) instead. To get a de-fragmented frame, use `newframe = frame.copy()`\n",
      "  concat_annot[label] = label_col\n",
      "/home/ylu/anaconda3/envs/scSLAT/lib/python3.8/site-packages/anndata/_core/anndata.py:1838: UserWarning: Observation names are not unique. To make them unique, call `.obs_names_make_unique`.\n",
      "  utils.warn_names_duplicates(\"obs\")\n",
      "/home/ylu/anaconda3/envs/scSLAT/lib/python3.8/site-packages/scanpy/preprocessing/_highly_variable_genes.py:64: UserWarning: `flavor='seurat_v3'` expects raw count data, but non-integers were found.\n",
      "  warnings.warn(\n",
      "/home/ylu/anaconda3/envs/scSLAT/lib/python3.8/site-packages/scanpy/preprocessing/_normalization.py:169: UserWarning: Received a view of an AnnData. Making a copy.\n",
      "  view_to_actual(adata)\n",
      "/home/ylu/anaconda3/envs/scSLAT/lib/python3.8/site-packages/anndata/_core/anndata.py:1838: UserWarning: Observation names are not unique. To make them unique, call `.obs_names_make_unique`.\n",
      "  utils.warn_names_duplicates(\"obs\")\n",
      "/home/ylu/anaconda3/envs/scSLAT/lib/python3.8/site-packages/scanpy/preprocessing/_normalization.py:196: UserWarning: Some cells have zero counts\n",
      "  warn(UserWarning('Some cells have zero counts'))\n",
      "/home/ylu/anaconda3/envs/scSLAT/lib/python3.8/site-packages/scanpy/preprocessing/_simple.py:843: UserWarning: Received a view of an AnnData. Making a copy.\n",
      "  view_to_actual(adata)\n",
      "/home/ylu/anaconda3/envs/scSLAT/lib/python3.8/site-packages/scanpy/preprocessing/_simple.py:843: UserWarning: Received a view of an AnnData. Making a copy.\n",
      "  view_to_actual(adata)\n"
     ]
    },
    {
     "name": "stdout",
     "output_type": "stream",
     "text": [
      "Warning! Dual PCA is using GPU, which may lead to OUT OF GPU MEMORY in big dataset!\n",
      "Choose GPU:0 as device\n",
      "Running\n",
      "---------- epochs: 1 ----------\n",
      "---------- epochs: 2 ----------\n",
      "---------- epochs: 3 ----------\n",
      "---------- epochs: 4 ----------\n",
      "---------- epochs: 5 ----------\n",
      "---------- epochs: 6 ----------\n",
      "Training model time: 1.69\n"
     ]
    },
    {
     "name": "stderr",
     "output_type": "stream",
     "text": [
      "100%|██████████████████████| 12/12 [10:11<00:00, 50.96s/it]\n"
     ]
    }
   ],
   "source": [
    "## Perform the SLAT alignment\n",
    "sampling_num = 20000\n",
    "for i in tqdm(range(len(slices)-1)):\n",
    "    slice1, slice2 = slices[i].copy(), slices[i+1].copy()\n",
    "    sampline_idx1 = np.random.choice(slice1.shape[0], sampling_num, replace=False) if slice1.shape[0] > sampling_num else np.arange(slice1.shape[0])\n",
    "    sampline_idx2 = np.random.choice(slice2.shape[0], sampling_num, replace=False) if slice2.shape[0] > sampling_num else np.arange(slice2.shape[0])\n",
    "    slice1 = slice1[sampline_idx1,:]\n",
    "    slice2 = slice2[sampline_idx2,:]\n",
    "    time_start = time.time()\n",
    "    align_slices, pis = slat_align(\n",
    "        models = [slice1, slice2],\n",
    "        spatial_key=spatial_key,\n",
    "        key_added=key_added,\n",
    "    )\n",
    "    time_end = time.time()\n",
    "    matches = pis\n",
    "    R, t=solve_RT_by_correspondence(align_slices[1].obsm[key_added], align_slices[1].obsm[spatial_key])\n",
    "    alignment_results = {'sampling_idx1': sampline_idx1, 'sampline_idx2': sampline_idx2, 'R': R, 't': t, 'matches': matches, 'time': time_end - time_start}\n",
    "    np.save(os.path.join(results_folder, f\"slice_{i}_{i+1}_sampling_{sampling_num}.npy\"), alignment_results, allow_pickle=True)"
   ]
  },
  {
   "cell_type": "code",
   "execution_count": null,
   "id": "ab0e97a4-3443-4be3-a253-9957d268123b",
   "metadata": {},
   "outputs": [],
   "source": []
  }
 ],
 "metadata": {
  "kernelspec": {
   "display_name": "SLAT",
   "language": "python",
   "name": "slat"
  },
  "language_info": {
   "codemirror_mode": {
    "name": "ipython",
    "version": 3
   },
   "file_extension": ".py",
   "mimetype": "text/x-python",
   "name": "python",
   "nbconvert_exporter": "python",
   "pygments_lexer": "ipython3",
   "version": "3.8.19"
  }
 },
 "nbformat": 4,
 "nbformat_minor": 5
}
