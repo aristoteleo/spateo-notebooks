{
 "cells": [
  {
   "cell_type": "code",
   "execution_count": 2,
   "id": "0908cd60-618c-42e7-9854-9713751acdda",
   "metadata": {
    "execution": {
     "iopub.execute_input": "2024-07-14T21:26:30.717764Z",
     "iopub.status.busy": "2024-07-14T21:26:30.717258Z",
     "iopub.status.idle": "2024-07-14T21:26:32.427830Z",
     "shell.execute_reply": "2024-07-14T21:26:32.427114Z",
     "shell.execute_reply.started": "2024-07-14T21:26:30.717733Z"
    }
   },
   "outputs": [],
   "source": [
    "import os\n",
    "os.environ['CUDA_VISIBLE_DEVICES'] = '1'\n",
    "import sys\n",
    "from pathlib import Path\n",
    "import anndata as ad\n",
    "import scanpy as sc\n",
    "import numpy as np\n",
    "import warnings\n",
    "warnings.simplefilter(action='ignore', category=FutureWarning)\n",
    "import seaborn as sns\n",
    "from matplotlib import pyplot as plt\n",
    "import time\n",
    "\n",
    "sys.path.insert(0, \"/home/ylu/project/Benchmark_alignment_methods/scripts/methods\")\n",
    "from my_STAlign import stalign_align\n",
    "\n",
    "%load_ext autoreload\n",
    "%autoreload 2"
   ]
  },
  {
   "cell_type": "code",
   "execution_count": 3,
   "id": "e7b47bc4-0453-474d-a39f-aa14ed636caa",
   "metadata": {
    "execution": {
     "iopub.execute_input": "2024-07-14T21:26:32.467012Z",
     "iopub.status.busy": "2024-07-14T21:26:32.466375Z",
     "iopub.status.idle": "2024-07-14T21:26:32.491217Z",
     "shell.execute_reply": "2024-07-14T21:26:32.490547Z",
     "shell.execute_reply.started": "2024-07-14T21:26:32.466986Z"
    }
   },
   "outputs": [],
   "source": [
    "method = \"STAlign_whole\"\n",
    "data_folder = \"/home/ylu/project/MOSTA/data/\"\n",
    "results_folder = f\"./results/{method}/\"\n",
    "figures_folder = f\"./results/figures/{method}\"\n",
    "Path(results_folder).mkdir(parents=True, exist_ok=True)"
   ]
  },
  {
   "cell_type": "code",
   "execution_count": 4,
   "id": "dea7abee-5509-4d87-8b86-19fb460fcb84",
   "metadata": {
    "execution": {
     "iopub.execute_input": "2024-07-14T21:26:33.289009Z",
     "iopub.status.busy": "2024-07-14T21:26:33.288637Z",
     "iopub.status.idle": "2024-07-14T21:27:46.848803Z",
     "shell.execute_reply": "2024-07-14T21:27:46.847859Z",
     "shell.execute_reply.started": "2024-07-14T21:26:33.288985Z"
    }
   },
   "outputs": [
    {
     "name": "stderr",
     "output_type": "stream",
     "text": [
      "100%|████████████████████████████████████████████████████████████████████████████████████████████████████████████████████████████████████████████████████████████████████████████████████████████████████████████████████████| 13/13 [01:13<00:00,  5.66s/it]\n"
     ]
    }
   ],
   "source": [
    "## load the data\n",
    "from tqdm import tqdm\n",
    "slices = []\n",
    "for i in tqdm(range(1, 14)):\n",
    "    slices.append(ad.read_h5ad(os.path.join(data_folder, f\"E16.5_E2S{i}.MOSTA.h5ad\")))"
   ]
  },
  {
   "cell_type": "code",
   "execution_count": 5,
   "id": "3e3a25fd-c7b7-4bcf-bd2f-214badbcbbaa",
   "metadata": {
    "execution": {
     "iopub.execute_input": "2024-07-14T21:27:46.850849Z",
     "iopub.status.busy": "2024-07-14T21:27:46.850494Z",
     "iopub.status.idle": "2024-07-14T21:27:46.885729Z",
     "shell.execute_reply": "2024-07-14T21:27:46.885052Z",
     "shell.execute_reply.started": "2024-07-14T21:27:46.850827Z"
    }
   },
   "outputs": [],
   "source": [
    "spatial_key = \"spatial\"\n",
    "key_added = \"aligned_spatial\""
   ]
  },
  {
   "cell_type": "code",
   "execution_count": null,
   "id": "4d4bce49-e6f9-40da-8186-ac93595f278b",
   "metadata": {
    "execution": {
     "iopub.execute_input": "2024-07-14T21:27:46.886656Z",
     "iopub.status.busy": "2024-07-14T21:27:46.886467Z"
    }
   },
   "outputs": [
    {
     "name": "stderr",
     "output_type": "stream",
     "text": [
      "  0%|                                                                                                                                                                                                                                 | 0/12 [00:00<?, ?it/s]/home/ylu/project/STalign/STalign/STalign.py:1044: UserWarning: To copy construct from a tensor, it is recommended to use sourceTensor.clone().detach() or sourceTensor.clone().detach().requires_grad_(True), rather than torch.tensor(sourceTensor).\n",
      "  L = torch.tensor(L,device=device,dtype=dtype,requires_grad=True)\n",
      "/home/ylu/project/STalign/STalign/STalign.py:1045: UserWarning: To copy construct from a tensor, it is recommended to use sourceTensor.clone().detach() or sourceTensor.clone().detach().requires_grad_(True), rather than torch.tensor(sourceTensor).\n",
      "  T = torch.tensor(T,device=device,dtype=dtype,requires_grad=True)\n",
      "/home/ylu/anaconda3/envs/STAlign/lib/python3.9/site-packages/torch/functional.py:512: UserWarning: torch.meshgrid: in an upcoming release, it will be required to pass the indexing argument. (Triggered internally at ../aten/src/ATen/native/TensorShape.cpp:3587.)\n",
      "  return _VF.meshgrid(tensors, **kwargs)  # type: ignore[attr-defined]\n",
      "  8%|██████████████████                                                                                                                                                                                                      | 1/12 [02:06<23:14, 126.75s/it]/home/ylu/anaconda3/envs/STAlign/lib/python3.9/site-packages/torch/utils/_device.py:78: UserWarning: To copy construct from a tensor, it is recommended to use sourceTensor.clone().detach() or sourceTensor.clone().detach().requires_grad_(True), rather than torch.tensor(sourceTensor).\n",
      "  return func(*args, **kwargs)\n",
      " 42%|██████████████████████████████████████████████████████████████████████████████████████████                                                                                                                              | 5/12 [10:48<15:32, 133.17s/it]"
     ]
    }
   ],
   "source": [
    "## Perform the STAlign alignment\n",
    "import torch\n",
    "\n",
    "# for i in tqdm(range(len(slices)-1)):\n",
    "for i in tqdm(range(len(slices)-1)):\n",
    "    slice1, slice2 = slices[i].copy(), slices[i+1].copy()\n",
    "    if i >0:\n",
    "        previous_results = np.load(os.path.join(results_folder, f\"slice_{i-1}_{i}.npy\"), allow_pickle=True).item()\n",
    "        slice2_spatial = previous_results['slice2_spatial']\n",
    "        slice1.obsm[spatial_key] = slice2_spatial.copy()\n",
    "    time_start = time.time()\n",
    "\n",
    "    align_slices = stalign_align(\n",
    "        models = [slice1, slice2],\n",
    "        spatial_key = spatial_key,\n",
    "        key_added = key_added,\n",
    "        device = \"cuda:0\",\n",
    "        scale=20,\n",
    "        zero_mean=True,\n",
    "    )\n",
    "    \n",
    "    time_end = time.time()\n",
    "    alignment_results = {'slice1_spatial':align_slices[0].obsm[key_added], 'slice2_spatial': align_slices[1].obsm[key_added], 'time': time_end - time_start}\n",
    "    np.save(os.path.join(results_folder, f\"slice_{i}_{i+1}.npy\"), alignment_results, allow_pickle=True)"
   ]
  },
  {
   "cell_type": "code",
   "execution_count": null,
   "id": "ab0e97a4-3443-4be3-a253-9957d268123b",
   "metadata": {},
   "outputs": [],
   "source": []
  }
 ],
 "metadata": {
  "kernelspec": {
   "display_name": "STAlign",
   "language": "python",
   "name": "stalign"
  },
  "language_info": {
   "codemirror_mode": {
    "name": "ipython",
    "version": 3
   },
   "file_extension": ".py",
   "mimetype": "text/x-python",
   "name": "python",
   "nbconvert_exporter": "python",
   "pygments_lexer": "ipython3",
   "version": "3.9.19"
  }
 },
 "nbformat": 4,
 "nbformat_minor": 5
}
