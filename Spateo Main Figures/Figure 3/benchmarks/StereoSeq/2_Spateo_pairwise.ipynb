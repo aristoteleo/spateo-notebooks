{
 "cells": [
  {
   "cell_type": "code",
   "execution_count": 2,
   "id": "ea2b1c54-5315-4478-97ae-6f4324c9eba7",
   "metadata": {
    "execution": {
     "iopub.execute_input": "2024-07-11T22:16:15.468335Z",
     "iopub.status.busy": "2024-07-11T22:16:15.467943Z",
     "iopub.status.idle": "2024-07-11T22:16:30.135189Z",
     "shell.execute_reply": "2024-07-11T22:16:30.134138Z",
     "shell.execute_reply.started": "2024-07-11T22:16:15.468308Z"
    }
   },
   "outputs": [
    {
     "name": "stderr",
     "output_type": "stream",
     "text": [
      "2024-07-11 22:16:18.392958: I tensorflow/core/platform/cpu_feature_guard.cc:193] This TensorFlow binary is optimized with oneAPI Deep Neural Network Library (oneDNN) to use the following CPU instructions in performance-critical operations:  AVX2 AVX512F FMA\n",
      "To enable them in other operations, rebuild TensorFlow with the appropriate compiler flags.\n",
      "2024-07-11 22:16:18.754802: W tensorflow/compiler/xla/stream_executor/platform/default/dso_loader.cc:64] Could not load dynamic library 'libcudart.so.11.0'; dlerror: libcudart.so.11.0: cannot open shared object file: No such file or directory; LD_LIBRARY_PATH: /usr/local/cuda-12.3/lib64\n",
      "2024-07-11 22:16:18.754850: I tensorflow/compiler/xla/stream_executor/cuda/cudart_stub.cc:29] Ignore above cudart dlerror if you do not have a GPU set up on your machine.\n",
      "2024-07-11 22:16:20.152788: W tensorflow/compiler/xla/stream_executor/platform/default/dso_loader.cc:64] Could not load dynamic library 'libnvinfer.so.7'; dlerror: libnvinfer.so.7: cannot open shared object file: No such file or directory; LD_LIBRARY_PATH: /usr/local/cuda-12.3/lib64\n",
      "2024-07-11 22:16:20.152892: W tensorflow/compiler/xla/stream_executor/platform/default/dso_loader.cc:64] Could not load dynamic library 'libnvinfer_plugin.so.7'; dlerror: libnvinfer_plugin.so.7: cannot open shared object file: No such file or directory; LD_LIBRARY_PATH: /usr/local/cuda-12.3/lib64\n",
      "2024-07-11 22:16:20.152901: W tensorflow/compiler/tf2tensorrt/utils/py_utils.cc:38] TF-TRT Warning: Cannot dlopen some TensorRT libraries. If you would like to use Nvidia GPU with TensorRT, please make sure the missing libraries mentioned above are installed properly.\n"
     ]
    }
   ],
   "source": [
    "import sys\n",
    "import os\n",
    "os.environ['CUDA_VISIBLE_DEVICES'] = '0'\n",
    "# sys.path.insert(0, \"/home/ylu/project/spateo-release/\")\n",
    "# import spateo\n",
    "sys.path.insert(0, \"/home/ylu/project/spateo-release/\")\n",
    "import spateo as st\n",
    "from spateo.alignment.methods.morpho_class import *\n",
    "from spateo.alignment.methods.utils import generate_label_transfer_dict\n",
    "sys.path.insert(0, \"/home/ylu/project\")\n",
    "from utils import *\n",
    "from pathlib import Path\n",
    "import numpy as np\n",
    "\n",
    "%load_ext autoreload\n",
    "%autoreload 2"
   ]
  },
  {
   "cell_type": "code",
   "execution_count": 3,
   "id": "5dd0a1be-8006-4311-9990-e25e4865f727",
   "metadata": {
    "execution": {
     "iopub.execute_input": "2024-07-11T22:16:30.138104Z",
     "iopub.status.busy": "2024-07-11T22:16:30.136820Z",
     "iopub.status.idle": "2024-07-11T22:16:30.204035Z",
     "shell.execute_reply": "2024-07-11T22:16:30.203240Z",
     "shell.execute_reply.started": "2024-07-11T22:16:30.138075Z"
    }
   },
   "outputs": [],
   "source": [
    "order = [\n",
    "    155, 153,151,149,147,144,142,140, 138, 143,141,139, 137,135,133,130,131,\n",
    "129,127,125,123,121,119,117,115,113,111,109,107,105,103, 101, 99, 97, 95, 93,\n",
    "91,89,87,85,81,83,79,77,75,73,71,67,65,63,61,59,57,55,53,51,49,47,45,43,41,39,\n",
    "37,33,31,29,27,25,28,30,32,34,36,38,40,42,44,48,50,52,54,56,58,60,62,\n",
    "    64,66,68,72,74,76,78,80,82,84,88,90,92,94,96,98,100,102,104,106,108,\n",
    "    110,112,114,116,118,120,122,124,136,134,132,128,126\n",
    "]\n",
    "data_folder = \"/dm7100f/yifan/StereoSeq_macaque_processed\"\n",
    "files = [f'macaque_T{o}.h5ad' for o in order]"
   ]
  },
  {
   "cell_type": "code",
   "execution_count": 4,
   "id": "ca4229cf-6bdb-40f1-b0bb-f499831c2598",
   "metadata": {
    "execution": {
     "iopub.execute_input": "2024-07-11T22:16:30.205396Z",
     "iopub.status.busy": "2024-07-11T22:16:30.204916Z",
     "iopub.status.idle": "2024-07-11T22:16:30.266117Z",
     "shell.execute_reply": "2024-07-11T22:16:30.265484Z",
     "shell.execute_reply.started": "2024-07-11T22:16:30.205375Z"
    }
   },
   "outputs": [],
   "source": [
    "# data_folder = \"./results/split_slices/\"\n",
    "results_folder = \"./results/Spateo/\"\n",
    "figures_folder = \"./results/figures/Spateo\"\n",
    "Path(results_folder).mkdir(parents=True, exist_ok=True)"
   ]
  },
  {
   "cell_type": "code",
   "execution_count": null,
   "id": "f5f65f22-a689-4c5f-9216-faeae633738b",
   "metadata": {},
   "outputs": [],
   "source": [
    "## Perform the Spateo alignment\n",
    "from tqdm import tqdm\n",
    "import time\n",
    "sampling_num = 20000\n",
    "spatial_key = 'r_spatial'\n",
    "key_added = 'align_spatial'\n",
    "for i in tqdm(range(len(files)-1)):\n",
    "    slice1 = ad.read_h5ad(os.path.join(data_folder, files[i]))\n",
    "    slice2 = ad.read_h5ad(os.path.join(data_folder, files[i+1]))\n",
    "    slice1.obsm[spatial_key] = slice1.obsm[spatial_key].astype(np.float64)\n",
    "    slice2.obsm[spatial_key] = slice2.obsm[spatial_key].astype(np.float64)\n",
    "    slice1 = slice1[~np.isnan(slice1.obsm[spatial_key].sum(1))]\n",
    "    slice2 = slice2[~np.isnan(slice2.obsm[spatial_key].sum(1))]\n",
    "    sampline_idx1 = np.random.choice(slice1.shape[0], sampling_num, replace=False) if slice1.shape[0] > sampling_num else np.arange(slice1.shape[0])\n",
    "    sampline_idx2 = np.random.choice(slice2.shape[0], sampling_num, replace=False) if slice2.shape[0] > sampling_num else np.arange(slice2.shape[0])\n",
    "    slice1 = slice1[sampline_idx1,:]\n",
    "    slice2 = slice2[sampline_idx2,:]\n",
    "    top_genes_num = 5000\n",
    "    top_genes_1 = np.argsort(-slice1.X.sum(0)).A[0][:top_genes_num] if slice1.shape[1] > top_genes_num else np.arange(slice1.shape[1])\n",
    "    top_genes_2 = np.argsort(-slice2.X.sum(0)).A[0][:top_genes_num] if slice2.shape[1] > top_genes_num else np.arange(slice2.shape[1])\n",
    "    slice1 = slice1[:,top_genes_1]\n",
    "    slice2 = slice2[:,top_genes_2]\n",
    "    \n",
    "    time_start = time.time()\n",
    "    adata = ad.concat([slice1,slice2], label='batch')\n",
    "    PCA(adata, 'X', 'X_pca', 50, 'cuda')\n",
    "    slice1.obsm['X_pca'] = adata[adata.obs['batch'] == '0'].obsm['X_pca'].copy()\n",
    "    slice2.obsm['X_pca'] = adata[adata.obs['batch'] == '1'].obsm['X_pca'].copy()\n",
    "    align_slices = [slice1, slice2]\n",
    "    morpho_model = Morpho_pairwise(\n",
    "        sampleA=align_slices[1],\n",
    "        sampleB=align_slices[0],\n",
    "        spatial_key=spatial_key,\n",
    "        key_added=key_added,\n",
    "        partial_robust_level=10,\n",
    "        lambdaVF=1e1,\n",
    "        beta=1e-1,\n",
    "        sigma2_init_scale=0.1,\n",
    "        device='1',\n",
    "        sparse_calculation_mode=False,\n",
    "        use_chunk=False,\n",
    "        chunk_capacity=2,\n",
    "        rep_layer=['X_pca'],\n",
    "        rep_field=['obsm'],\n",
    "        dissimilarity=['cos'],\n",
    "        probability_type=['gauss'],\n",
    "        nn_init=False,\n",
    "    )\n",
    "    P = morpho_model.run()\n",
    "    align_slices[1].obsm[key_added] = morpho_model.optimal_RnA.copy()\n",
    "    align_slices[0].obsm[key_added] = align_slices[0].obsm[spatial_key].copy()\n",
    "    # align_slices[1].uns['align_spatial_iter'] = morpho_model.iter_added\n",
    "    time_end = time.time()\n",
    "    pi = P.T\n",
    "    inlier = np.where(pi.sum(axis=1) > 0.1)[0]\n",
    "    matches = [inlier, np.argmax(pi[inlier,:], axis=1)]\n",
    "    R, t=solve_RT_by_correspondence(align_slices[1].obsm[key_added], align_slices[1].obsm[spatial_key])\n",
    "    alignment_results = {'sampling_idx1': sampline_idx1, 'sampline_idx2': sampline_idx2, 'R': R, 't': t, 'matches': matches, 'time': time_end - time_start}\n",
    "    np.save(os.path.join(results_folder, f\"slice_{i}_{i+1}_sampling_{sampling_num}.npy\"), alignment_results, allow_pickle=True)"
   ]
  },
  {
   "cell_type": "code",
   "execution_count": null,
   "id": "9623321e-ad93-497a-a094-e778ddbda4b1",
   "metadata": {},
   "outputs": [],
   "source": []
  }
 ],
 "metadata": {
  "kernelspec": {
   "display_name": "Spateo",
   "language": "python",
   "name": "spateo"
  },
  "language_info": {
   "codemirror_mode": {
    "name": "ipython",
    "version": 3
   },
   "file_extension": ".py",
   "mimetype": "text/x-python",
   "name": "python",
   "nbconvert_exporter": "python",
   "pygments_lexer": "ipython3",
   "version": "3.9.19"
  }
 },
 "nbformat": 4,
 "nbformat_minor": 5
}
