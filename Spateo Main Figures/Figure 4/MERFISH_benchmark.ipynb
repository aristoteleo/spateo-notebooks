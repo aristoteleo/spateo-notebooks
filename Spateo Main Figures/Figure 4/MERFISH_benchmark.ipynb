{
 "cells": [
  {
   "cell_type": "code",
   "execution_count": 1,
   "metadata": {},
   "outputs": [],
   "source": [
    "import seaborn as sns\n",
    "from matplotlib import pyplot as plt\n",
    "from matplotlib.gridspec import GridSpec\n",
    "from matplotlib import style\n",
    "import pandas as pd\n",
    "import numpy as np\n",
    "\n",
    "import matplotlib as mpl\n",
    "from scipy.stats import ttest_ind"
   ]
  },
  {
   "cell_type": "code",
   "execution_count": 2,
   "metadata": {},
   "outputs": [],
   "source": [
    "res_df = pd.read_pickle('./results/MERFISH_benchmark/pairwise_stats_results.pkl')"
   ]
  },
  {
   "cell_type": "code",
   "execution_count": 3,
   "metadata": {},
   "outputs": [],
   "source": [
    "my_palette = [np.array([157,60,135]) / 255] + sns.color_palette('Paired')[0:3]+sns.color_palette('Paired')[4:5]+sns.color_palette('Paired')[6:8]+sns.color_palette('Paired')[11:12]\n",
    "methods = ['Spateo', 'PASTE', 'PASTE2', 'Moscot', 'SLAT','STAlign','STAlign_GT', 'SPACEL', ]"
   ]
  },
  {
   "cell_type": "code",
   "execution_count": 5,
   "metadata": {},
   "outputs": [
    {
     "name": "stderr",
     "output_type": "stream",
     "text": [
      "C:\\Users\\lyf04\\AppData\\Local\\Temp\\ipykernel_24924\\949179021.py:44: UserWarning: FixedFormatter should only be used together with FixedLocator\n",
      "  axs[0].set_yticklabels(['Spateo','PASTE','PASTE2','Moscot-R','SLAT','STAlign', 'STAlign-GT', 'SPACEL'])\n"
     ]
    },
    {
     "name": "stdout",
     "output_type": "stream",
     "text": [
      "Spateo - STAlign_GT: p-value:8.278109113199597e-05\n",
      "Spateo - SPACEL: p-value:0.003743523365227336\n"
     ]
    },
    {
     "data": {
      "image/png": "[encoded data removed]",
      "text/plain": [
       "<Figure size 400x200 with 2 Axes>"
      ]
     },
     "metadata": {},
     "output_type": "display_data"
    }
   ],
   "source": [
    "import matplotlib as mpl\n",
    "import os\n",
    "from scipy.stats import ttest_ind\n",
    "sns.set_theme(style=\"ticks\")\n",
    "COLOR = 'black'\n",
    "mpl.rcParams['text.color'] = COLOR\n",
    "mpl.rcParams['axes.labelcolor'] = COLOR\n",
    "mpl.rcParams['xtick.color'] = COLOR\n",
    "mpl.rcParams['ytick.color'] = COLOR\n",
    "mpl.rcParams.update({'text.color' : COLOR,\n",
    "                     'axes.labelcolor' : COLOR})\n",
    "\n",
    "fig, axs = plt.subplots(1,2,figsize=(4,2), gridspec_kw={'wspace':0.05})\n",
    "sns.set_theme(style=\"ticks\")\n",
    "g = sns.barplot(\n",
    "    x=\"mae\", \n",
    "    y=\"Method\",\n",
    "    hue=\"Method\",\n",
    "    data=res_df,\n",
    "    ax=axs[0],\n",
    "    palette=my_palette,\n",
    "    hue_order=methods,\n",
    "    order=methods,\n",
    ")\n",
    "g = sns.barplot(\n",
    "    x=\"mae\", \n",
    "    y=\"Method\",\n",
    "    hue=\"Method\",\n",
    "    data=res_df,\n",
    "    ax=axs[1],\n",
    "    palette=my_palette,\n",
    "    hue_order=methods,\n",
    "    order=methods,\n",
    ")\n",
    "axs[0].set_ylim([7.6, -0.6])\n",
    "axs[0].set_xlim([0, 140])\n",
    "\n",
    "axs[1].set_yticks([])\n",
    "axs[1].set_ylabel('')\n",
    "axs[0].set_ylabel('')\n",
    "axs[0].set_xlabel('')\n",
    "axs[1].set_xlabel('')\n",
    "\n",
    "axs[0].set_yticklabels(['Spateo','PASTE','PASTE2','Moscot-R','SLAT','STAlign', 'STAlign-GT', 'SPACEL'])\n",
    "\n",
    "y = 2500\n",
    "h = 0.02\n",
    "x1 = 0\n",
    "x2 = 6\n",
    "group1 = res_df[res_df['Method'] == methods[x1]]['mae']\n",
    "group2 = res_df[res_df['Method'] == methods[x2]]['mae']\n",
    "t_stat, p_val = ttest_ind(group1, group2)\n",
    "print(f'{methods[x1]} - {methods[x2]}: p-value:{p_val}')\n",
    "axs[1].plot([y, y], [x1, x2], lw=1.5, c='k')\n",
    "axs[1].text(1.04*y, (x1 + x2) * .5, '8.2e-5', ha='center', va='center', c='k', rotation=-90)\n",
    "axs[1].set_xlim([500, 2600])\n",
    "axs[1].set_ylim([7.5, -0.5])\n",
    "\n",
    "y = 2900\n",
    "h = 0.02\n",
    "x1 = 0\n",
    "x2 = 7\n",
    "group1 = res_df[res_df['Method'] == methods[x1]]['mae']\n",
    "group2 = res_df[res_df['Method'] == methods[x2]]['mae']\n",
    "t_stat, p_val = ttest_ind(group1, group2)\n",
    "print(f'{methods[x1]} - {methods[x2]}: p-value:{p_val}')\n",
    "axs[1].plot([y, y], [x1, x2], lw=1.5, c='k')\n",
    "axs[1].text(1.04*y, (x1 + x2) * .5, '3.7e-3', ha='center', va='center', c='k', rotation=-90)\n",
    "axs[1].set_xlim([500, 2950])\n",
    "axs[1].set_ylim([7.6, -0.6])\n",
    "\n",
    "\n",
    "sns.despine(ax=axs[0])\n",
    "sns.despine(ax=axs[1], left=True)\n",
    "plt.savefig('./figures/pairwise_benchmark/MERFISH.pdf', dpi=300, bbox_inches='tight', transparent=True)"
   ]
  },
  {
   "cell_type": "code",
   "execution_count": null,
   "metadata": {},
   "outputs": [],
   "source": []
  }
 ],
 "metadata": {
  "kernelspec": {
   "display_name": "Spateo-39",
   "language": "python",
   "name": "python3"
  },
  "language_info": {
   "codemirror_mode": {
    "name": "ipython",
    "version": 3
   },
   "file_extension": ".py",
   "mimetype": "text/x-python",
   "name": "python",
   "nbconvert_exporter": "python",
   "pygments_lexer": "ipython3",
   "version": "3.9.19"
  }
 },
 "nbformat": 4,
 "nbformat_minor": 2
}
