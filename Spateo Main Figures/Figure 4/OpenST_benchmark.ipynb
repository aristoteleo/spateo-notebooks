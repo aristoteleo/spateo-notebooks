{
 "cells": [
  {
   "cell_type": "code",
   "execution_count": 1,
   "metadata": {},
   "outputs": [],
   "source": [
    "import seaborn as sns\n",
    "from matplotlib import pyplot as plt\n",
    "from matplotlib.gridspec import GridSpec\n",
    "from matplotlib import style\n",
    "import pandas as pd\n",
    "import numpy as np\n",
    "\n",
    "import matplotlib as mpl\n",
    "from scipy.stats import ttest_ind"
   ]
  },
  {
   "cell_type": "code",
   "execution_count": 5,
   "metadata": {},
   "outputs": [],
   "source": [
    "res_df = pd.read_pickle('./results/OpenST_benchmark/pairwise_stats_results.pkl')"
   ]
  },
  {
   "cell_type": "code",
   "execution_count": 7,
   "metadata": {},
   "outputs": [],
   "source": [
    "my_palette = [np.array([157,60,135]) / 255] + sns.color_palette('Paired')[0:3]+sns.color_palette('Paired')[4:8]+sns.color_palette('Paired')[11:12]\n",
    "methods = ['Spateo', 'PASTE', 'PASTE2', 'Moscot', 'SLAT']"
   ]
  },
  {
   "cell_type": "code",
   "execution_count": 9,
   "metadata": {},
   "outputs": [
    {
     "name": "stdout",
     "output_type": "stream",
     "text": [
      "Spateo - PASTE: p-value:1.9500316549813966e-20\n",
      "Spateo - SLAT: p-value:2.968675589692102e-21\n"
     ]
    },
    {
     "name": "stderr",
     "output_type": "stream",
     "text": [
      "C:\\Users\\lyf04\\AppData\\Local\\Temp\\ipykernel_26852\\1722612251.py:14: UserWarning: The palette list has more values (9) than needed (5), which may not be intended.\n",
      "  g = sns.barplot(\n"
     ]
    },
    {
     "data": {
      "image/png": "[encoded data removed]",
      "text/plain": [
       "<Figure size 400x170 with 1 Axes>"
      ]
     },
     "metadata": {},
     "output_type": "display_data"
    }
   ],
   "source": [
    "import matplotlib as mpl\n",
    "import os\n",
    "sns.set_theme(style=\"ticks\")\n",
    "COLOR = 'black'\n",
    "mpl.rcParams['text.color'] = COLOR\n",
    "mpl.rcParams['axes.labelcolor'] = COLOR\n",
    "mpl.rcParams['xtick.color'] = COLOR\n",
    "mpl.rcParams['ytick.color'] = COLOR\n",
    "mpl.rcParams.update({'text.color' : COLOR,\n",
    "                     'axes.labelcolor' : COLOR})\n",
    "\n",
    "fig, ax = plt.subplots(1,1,figsize=(4,1.7), gridspec_kw={'wspace':0.05})\n",
    "sns.set_theme(style=\"ticks\")\n",
    "g = sns.barplot(\n",
    "    x=\"label_spatial_consistency\", \n",
    "    y=\"Method\",\n",
    "    hue=\"Method\",\n",
    "    data=res_df,\n",
    "    ax=ax,\n",
    "    palette=my_palette,\n",
    ")\n",
    "ax.set_ylabel('')\n",
    "ax.set_xlabel('')\n",
    "\n",
    "\n",
    "from scipy.stats import ttest_ind\n",
    "methods = ['Spateo', 'PASTE', 'PASTE2', 'Moscot', 'SLAT']\n",
    "y = 0.65\n",
    "h = 0.02\n",
    "x1 = 0\n",
    "x2 = 1\n",
    "group1 = res_df[res_df['Method'] == methods[x1]]['label_spatial_consistency']\n",
    "group2 = res_df[res_df['Method'] == methods[x2]]['label_spatial_consistency']\n",
    "t_stat, p_val = ttest_ind(group1, group2)\n",
    "print(f'{methods[x1]} - {methods[x2]}: p-value:{p_val}')\n",
    "ax.plot([y, y], [x1, x2], lw=1.5, c='k')\n",
    "ax.text(1.03*y, (x1 + x2) * .5, '2.0e-20', ha='center', va='center', c='k', rotation=-90)\n",
    "\n",
    "y = 0.73\n",
    "h = 0.02\n",
    "x1 = 0\n",
    "x2 = 4\n",
    "group1 = res_df[res_df['Method'] == methods[x1]]['label_spatial_consistency']\n",
    "group2 = res_df[res_df['Method'] == methods[x2]]['label_spatial_consistency']\n",
    "t_stat, p_val = ttest_ind(group1, group2)\n",
    "print(f'{methods[x1]} - {methods[x2]}: p-value:{p_val}')\n",
    "ax.plot([y, y], [x1, x2], lw=1.5, c='k')\n",
    "ax.text(1.03*y, (x1 + x2) * .5, '3.0e-21', ha='center', va='center', c='k', rotation=-90)\n",
    "\n",
    "sns.despine(top=True, right=True)\n",
    "plt.savefig('./figures/pairwise_benchmark/OpenST.pdf', dpi=300, bbox_inches='tight', transparent=True)"
   ]
  },
  {
   "cell_type": "code",
   "execution_count": null,
   "metadata": {},
   "outputs": [],
   "source": []
  }
 ],
 "metadata": {
  "kernelspec": {
   "display_name": "Spateo-39",
   "language": "python",
   "name": "python3"
  },
  "language_info": {
   "codemirror_mode": {
    "name": "ipython",
    "version": 3
   },
   "file_extension": ".py",
   "mimetype": "text/x-python",
   "name": "python",
   "nbconvert_exporter": "python",
   "pygments_lexer": "ipython3",
   "version": "3.9.19"
  }
 },
 "nbformat": 4,
 "nbformat_minor": 2
}
