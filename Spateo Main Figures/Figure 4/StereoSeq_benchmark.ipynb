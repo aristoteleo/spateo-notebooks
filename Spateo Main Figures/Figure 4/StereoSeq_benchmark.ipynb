{
 "cells": [
  {
   "cell_type": "code",
   "execution_count": 1,
   "metadata": {},
   "outputs": [],
   "source": [
    "import seaborn as sns\n",
    "from matplotlib import pyplot as plt\n",
    "from matplotlib.gridspec import GridSpec\n",
    "from matplotlib import style\n",
    "import pandas as pd\n",
    "import numpy as np\n",
    "\n",
    "import matplotlib as mpl\n",
    "from scipy.stats import ttest_ind"
   ]
  },
  {
   "cell_type": "code",
   "execution_count": 2,
   "metadata": {},
   "outputs": [],
   "source": [
    "res_df = pd.read_pickle('./results/StereoSeq_benchmark/pairwise_stats_results.pkl')"
   ]
  },
  {
   "cell_type": "code",
   "execution_count": 3,
   "metadata": {},
   "outputs": [],
   "source": [
    "my_palette = [np.array([157,60,135]) / 255] + sns.color_palette('Paired')[0:3]+sns.color_palette('Paired')[4:8]+sns.color_palette('Paired')[11:12]\n",
    "methods = ['Spateo', 'PASTE', 'PASTE2', 'Moscot', 'SLAT']"
   ]
  },
  {
   "cell_type": "code",
   "execution_count": 5,
   "metadata": {},
   "outputs": [
    {
     "name": "stderr",
     "output_type": "stream",
     "text": [
      "C:\\Users\\lyf04\\AppData\\Local\\Temp\\ipykernel_10680\\2300298775.py:14: UserWarning: The palette list has more values (9) than needed (5), which may not be intended.\n",
      "  g = sns.barplot(\n"
     ]
    },
    {
     "name": "stdout",
     "output_type": "stream",
     "text": [
      "Spateo - Moscot: p-value:3.138508869759068e-08\n",
      "Spateo - SLAT: p-value:2.328684805424118e-08\n"
     ]
    },
    {
     "data": {
      "image/png": "[encoded data removed]",
      "text/plain": [
       "<Figure size 400x170 with 1 Axes>"
      ]
     },
     "metadata": {},
     "output_type": "display_data"
    }
   ],
   "source": [
    "import matplotlib as mpl\n",
    "import os\n",
    "sns.set_theme(style=\"ticks\")\n",
    "COLOR = 'black'\n",
    "mpl.rcParams['text.color'] = COLOR\n",
    "mpl.rcParams['axes.labelcolor'] = COLOR\n",
    "mpl.rcParams['xtick.color'] = COLOR\n",
    "mpl.rcParams['ytick.color'] = COLOR\n",
    "mpl.rcParams.update({'text.color' : COLOR,\n",
    "                     'axes.labelcolor' : COLOR})\n",
    "\n",
    "fig, ax = plt.subplots(1,1,figsize=(4,1.7), gridspec_kw={'wspace':0.05})\n",
    "sns.set_theme(style=\"ticks\")\n",
    "g = sns.barplot(\n",
    "    x=\"label_spatial_consistency\", \n",
    "    y=\"Method\",\n",
    "    hue=\"Method\",\n",
    "    data=res_df,\n",
    "    ax=ax,\n",
    "    palette=my_palette,\n",
    ")\n",
    "\n",
    "ax.set_ylabel('')\n",
    "ax.set_xlabel('')\n",
    "\n",
    "y = 0.6\n",
    "h = 0.02\n",
    "x1 = 0\n",
    "x2 = 3\n",
    "group1 = res_df[res_df['Method'] == methods[x1]]['label_spatial_consistency']\n",
    "group2 = res_df[res_df['Method'] == methods[x2]]['label_spatial_consistency']\n",
    "t_stat, p_val = ttest_ind(group1, group2)\n",
    "print(f'{methods[x1]} - {methods[x2]}: p-value:{p_val}')\n",
    "ax.plot([y, y], [x1, x2], lw=1.5, c='k')\n",
    "ax.text(1.03*y, (x1 + x2) * .5, '3.1e-8', ha='center', va='center', c='k', rotation=-90)\n",
    "\n",
    "y = 0.67\n",
    "h = 0.02\n",
    "x1 = 0\n",
    "x2 = 4\n",
    "group1 = res_df[res_df['Method'] == methods[x1]]['label_spatial_consistency']\n",
    "group2 = res_df[res_df['Method'] == methods[x2]]['label_spatial_consistency']\n",
    "t_stat, p_val = ttest_ind(group1, group2)\n",
    "print(f'{methods[x1]} - {methods[x2]}: p-value:{p_val}')\n",
    "ax.plot([y, y], [x1, x2], lw=1.5, c='k')\n",
    "ax.text(1.03*y, (x1 + x2) * .5, '2.3e-8', ha='center', va='center', c='k', rotation=-90)\n",
    "sns.despine(top=True, right=True)\n",
    "\n",
    "plt.savefig('./figures/pairwise_benchmark/StereoSeq.pdf', dpi=300, bbox_inches='tight', transparent=True)"
   ]
  },
  {
   "cell_type": "code",
   "execution_count": null,
   "metadata": {},
   "outputs": [],
   "source": []
  }
 ],
 "metadata": {
  "kernelspec": {
   "display_name": "Spateo-39",
   "language": "python",
   "name": "python3"
  },
  "language_info": {
   "codemirror_mode": {
    "name": "ipython",
    "version": 3
   },
   "file_extension": ".py",
   "mimetype": "text/x-python",
   "name": "python",
   "nbconvert_exporter": "python",
   "pygments_lexer": "ipython3",
   "version": "3.9.19"
  }
 },
 "nbformat": 4,
 "nbformat_minor": 2
}
