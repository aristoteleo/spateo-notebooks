{
 "cells": [
  {
   "cell_type": "code",
   "execution_count": null,
   "id": "e016674b-79ed-4b54-817e-1d5e08760a86",
   "metadata": {
    "execution": {
     "iopub.execute_input": "2024-08-06T17:35:27.415208Z",
     "iopub.status.busy": "2024-08-06T17:35:27.414844Z",
     "iopub.status.idle": "2024-08-06T17:35:32.042175Z",
     "shell.execute_reply": "2024-08-06T17:35:32.041339Z",
     "shell.execute_reply.started": "2024-08-06T17:35:27.415184Z"
    }
   },
   "outputs": [
    {
     "name": "stderr",
     "output_type": "stream",
     "text": [
      "2024-08-07 18:06:05.389795: I tensorflow/core/platform/cpu_feature_guard.cc:193] This TensorFlow binary is optimized with oneAPI Deep Neural Network Library (oneDNN) to use the following CPU instructions in performance-critical operations:  AVX2 AVX512F FMA\n",
      "To enable them in other operations, rebuild TensorFlow with the appropriate compiler flags.\n",
      "2024-08-07 18:06:05.553067: W tensorflow/compiler/xla/stream_executor/platform/default/dso_loader.cc:64] Could not load dynamic library 'libcudart.so.11.0'; dlerror: libcudart.so.11.0: cannot open shared object file: No such file or directory\n",
      "2024-08-07 18:06:05.553095: I tensorflow/compiler/xla/stream_executor/cuda/cudart_stub.cc:29] Ignore above cudart dlerror if you do not have a GPU set up on your machine.\n",
      "2024-08-07 18:06:06.228849: W tensorflow/compiler/xla/stream_executor/platform/default/dso_loader.cc:64] Could not load dynamic library 'libnvinfer.so.7'; dlerror: libnvinfer.so.7: cannot open shared object file: No such file or directory\n",
      "2024-08-07 18:06:06.228929: W tensorflow/compiler/xla/stream_executor/platform/default/dso_loader.cc:64] Could not load dynamic library 'libnvinfer_plugin.so.7'; dlerror: libnvinfer_plugin.so.7: cannot open shared object file: No such file or directory\n",
      "2024-08-07 18:06:06.228936: W tensorflow/compiler/tf2tensorrt/utils/py_utils.cc:38] TF-TRT Warning: Cannot dlopen some TensorRT libraries. If you would like to use Nvidia GPU with TensorRT, please make sure the missing libraries mentioned above are installed properly.\n",
      "(EE) \n",
      "Fatal server error:\n",
      "(EE) Server is already active for display 99\n",
      "\tIf this server is no longer running, remove /tmp/.X99-lock\n",
      "\tand start again.\n",
      "(EE) \n"
     ]
    }
   ],
   "source": [
    "import os\n",
    "os.chdir('/home/ylu/project/Benchmark_alignment_methods/notebooks/BARSeq')\n",
    "os.environ['CUDA_VISIBLE_DEVICES'] = '2'\n",
    "import sys\n",
    "from pathlib import Path\n",
    "import anndata as ad\n",
    "import scanpy as sc\n",
    "import numpy as np\n",
    "import warnings\n",
    "warnings.simplefilter(action='ignore', category=FutureWarning)\n",
    "import seaborn as sns\n",
    "from matplotlib import pyplot as plt\n",
    "\n",
    "sys.path.insert(0, \"../../scripts/methods/\")\n",
    "from my_paste import paste_align, paste_align_ref\n",
    "sys.path.insert(0, \"/home/ylu/project\")\n",
    "from utils import *\n",
    "import time\n",
    "from tqdm import tqdm\n",
    "\n",
    "os.system('/usr/bin/Xvfb :99 -screen 0 1024x768x24 &')\n",
    "os.environ['DISPLAY'] = ':99'\n",
    "\n",
    "%load_ext autoreload\n",
    "%autoreload 2"
   ]
  },
  {
   "cell_type": "code",
   "execution_count": 1,
   "id": "f288b023-7cca-4f08-963e-ba198e4e7f5d",
   "metadata": {
    "execution": {
     "iopub.execute_input": "2024-08-06T17:37:23.696121Z",
     "iopub.status.busy": "2024-08-06T17:37:23.695639Z",
     "iopub.status.idle": "2024-08-06T17:37:23.740047Z",
     "shell.execute_reply": "2024-08-06T17:37:23.739401Z",
     "shell.execute_reply.started": "2024-08-06T17:37:23.696093Z"
    }
   },
   "outputs": [],
   "source": [
    "# Load data\n",
    "data_folder = \"../../data/BARseq/BARseq_Perturbed/\"\n",
    "results_folder = \"./results/PASTE/\""
   ]
  },
  {
   "cell_type": "code",
   "execution_count": 2,
   "id": "88b62571-8228-42a6-95bc-7f63288f4d89",
   "metadata": {
    "execution": {
     "iopub.execute_input": "2024-08-06T17:37:24.951618Z",
     "iopub.status.busy": "2024-08-06T17:37:24.950928Z"
    }
   },
   "outputs": [
    {
     "name": "stderr",
     "output_type": "stream",
     "text": [
      "  0%|                                                                                                                       | 0/39 [00:00<?, ?it/s]"
     ]
    },
    {
     "name": "stderr",
     "output_type": "stream",
     "text": [
      "/home/ylu/project/Benchmark_alignment_methods/notebooks/BARSeq/../../scripts/methods/my_paste.py:79: ImplicitModificationWarning: Setting element `.obsm['align_spatial']` of view, initializing view as actual.\n",
      "  m.obsm[key_added] = m.obsm[spatial_key]\n",
      "/home/ylu/project/Benchmark_alignment_methods/notebooks/BARSeq/../../scripts/methods/my_paste.py:79: ImplicitModificationWarning: Setting element `.obsm['align_spatial']` of view, initializing view as actual.\n",
      "  m.obsm[key_added] = m.obsm[spatial_key]\n"
     ]
    },
    {
     "name": "stdout",
     "output_type": "stream",
     "text": [
      "gpu is available, using gpu.\n"
     ]
    },
    {
     "name": "stderr",
     "output_type": "stream",
     "text": [
      "/home/ylu/anaconda3/envs/Spateo/lib/python3.9/site-packages/ot/lp/__init__.py:354: UserWarning: numItermax reached before optimality. Try to increase numItermax.\n",
      "  result_code_string = check_result(result_code)\n",
      "  3%|██▊                                                                                                            | 1/39 [00:51<32:47, 51.76s/it]/home/ylu/project/Benchmark_alignment_methods/notebooks/BARSeq/../../scripts/methods/my_paste.py:79: ImplicitModificationWarning: Setting element `.obsm['align_spatial']` of view, initializing view as actual.\n",
      "  m.obsm[key_added] = m.obsm[spatial_key]\n",
      "/home/ylu/project/Benchmark_alignment_methods/notebooks/BARSeq/../../scripts/methods/my_paste.py:79: ImplicitModificationWarning: Setting element `.obsm['align_spatial']` of view, initializing view as actual.\n",
      "  m.obsm[key_added] = m.obsm[spatial_key]\n"
     ]
    },
    {
     "name": "stdout",
     "output_type": "stream",
     "text": [
      "gpu is available, using gpu.\n"
     ]
    },
    {
     "name": "stderr",
     "output_type": "stream",
     "text": [
      "/home/ylu/anaconda3/envs/Spateo/lib/python3.9/site-packages/ot/lp/__init__.py:354: UserWarning: numItermax reached before optimality. Try to increase numItermax.\n",
      "  result_code_string = check_result(result_code)\n",
      "  5%|█████▋                                                                                                         | 2/39 [01:19<23:14, 37.69s/it]/home/ylu/project/Benchmark_alignment_methods/notebooks/BARSeq/../../scripts/methods/my_paste.py:79: ImplicitModificationWarning: Setting element `.obsm['align_spatial']` of view, initializing view as actual.\n",
      "  m.obsm[key_added] = m.obsm[spatial_key]\n",
      "/home/ylu/project/Benchmark_alignment_methods/notebooks/BARSeq/../../scripts/methods/my_paste.py:79: ImplicitModificationWarning: Setting element `.obsm['align_spatial']` of view, initializing view as actual.\n",
      "  m.obsm[key_added] = m.obsm[spatial_key]\n"
     ]
    },
    {
     "name": "stdout",
     "output_type": "stream",
     "text": [
      "gpu is available, using gpu.\n"
     ]
    },
    {
     "name": "stderr",
     "output_type": "stream",
     "text": [
      "/home/ylu/anaconda3/envs/Spateo/lib/python3.9/site-packages/ot/lp/__init__.py:354: UserWarning: numItermax reached before optimality. Try to increase numItermax.\n",
      "  result_code_string = check_result(result_code)\n",
      "  8%|████████▌                                                                                                      | 3/39 [01:47<19:56, 33.25s/it]/home/ylu/project/Benchmark_alignment_methods/notebooks/BARSeq/../../scripts/methods/my_paste.py:79: ImplicitModificationWarning: Setting element `.obsm['align_spatial']` of view, initializing view as actual.\n",
      "  m.obsm[key_added] = m.obsm[spatial_key]\n",
      "/home/ylu/project/Benchmark_alignment_methods/notebooks/BARSeq/../../scripts/methods/my_paste.py:79: ImplicitModificationWarning: Setting element `.obsm['align_spatial']` of view, initializing view as actual.\n",
      "  m.obsm[key_added] = m.obsm[spatial_key]\n"
     ]
    },
    {
     "name": "stdout",
     "output_type": "stream",
     "text": [
      "gpu is available, using gpu.\n"
     ]
    },
    {
     "name": "stderr",
     "output_type": "stream",
     "text": [
      "/home/ylu/anaconda3/envs/Spateo/lib/python3.9/site-packages/ot/lp/__init__.py:354: UserWarning: numItermax reached before optimality. Try to increase numItermax.\n",
      "  result_code_string = check_result(result_code)\n",
      " 10%|███████████▍                                                                                                   | 4/39 [02:29<21:17, 36.51s/it]/home/ylu/project/Benchmark_alignment_methods/notebooks/BARSeq/../../scripts/methods/my_paste.py:79: ImplicitModificationWarning: Setting element `.obsm['align_spatial']` of view, initializing view as actual.\n",
      "  m.obsm[key_added] = m.obsm[spatial_key]\n",
      "/home/ylu/project/Benchmark_alignment_methods/notebooks/BARSeq/../../scripts/methods/my_paste.py:79: ImplicitModificationWarning: Setting element `.obsm['align_spatial']` of view, initializing view as actual.\n",
      "  m.obsm[key_added] = m.obsm[spatial_key]\n"
     ]
    },
    {
     "name": "stdout",
     "output_type": "stream",
     "text": [
      "gpu is available, using gpu.\n"
     ]
    },
    {
     "name": "stderr",
     "output_type": "stream",
     "text": [
      "/home/ylu/anaconda3/envs/Spateo/lib/python3.9/site-packages/ot/lp/__init__.py:354: UserWarning: numItermax reached before optimality. Try to increase numItermax.\n",
      "  result_code_string = check_result(result_code)\n",
      " 13%|██████████████▏                                                                                                | 5/39 [03:02<20:07, 35.52s/it]/home/ylu/project/Benchmark_alignment_methods/notebooks/BARSeq/../../scripts/methods/my_paste.py:79: ImplicitModificationWarning: Setting element `.obsm['align_spatial']` of view, initializing view as actual.\n",
      "  m.obsm[key_added] = m.obsm[spatial_key]\n",
      "/home/ylu/project/Benchmark_alignment_methods/notebooks/BARSeq/../../scripts/methods/my_paste.py:79: ImplicitModificationWarning: Setting element `.obsm['align_spatial']` of view, initializing view as actual.\n",
      "  m.obsm[key_added] = m.obsm[spatial_key]\n"
     ]
    },
    {
     "name": "stdout",
     "output_type": "stream",
     "text": [
      "gpu is available, using gpu.\n"
     ]
    },
    {
     "name": "stderr",
     "output_type": "stream",
     "text": [
      "/home/ylu/anaconda3/envs/Spateo/lib/python3.9/site-packages/ot/lp/__init__.py:354: UserWarning: numItermax reached before optimality. Try to increase numItermax.\n",
      "  result_code_string = check_result(result_code)\n",
      " 15%|█████████████████                                                                                              | 6/39 [03:21<16:24, 29.85s/it]/home/ylu/project/Benchmark_alignment_methods/notebooks/BARSeq/../../scripts/methods/my_paste.py:79: ImplicitModificationWarning: Setting element `.obsm['align_spatial']` of view, initializing view as actual.\n",
      "  m.obsm[key_added] = m.obsm[spatial_key]\n",
      "/home/ylu/project/Benchmark_alignment_methods/notebooks/BARSeq/../../scripts/methods/my_paste.py:79: ImplicitModificationWarning: Setting element `.obsm['align_spatial']` of view, initializing view as actual.\n",
      "  m.obsm[key_added] = m.obsm[spatial_key]\n"
     ]
    },
    {
     "name": "stdout",
     "output_type": "stream",
     "text": [
      "gpu is available, using gpu.\n"
     ]
    },
    {
     "name": "stderr",
     "output_type": "stream",
     "text": [
      "/home/ylu/anaconda3/envs/Spateo/lib/python3.9/site-packages/ot/lp/__init__.py:354: UserWarning: numItermax reached before optimality. Try to increase numItermax.\n",
      "  result_code_string = check_result(result_code)\n",
      " 18%|███████████████████▉                                                                                           | 7/39 [03:54<16:26, 30.84s/it]/home/ylu/project/Benchmark_alignment_methods/notebooks/BARSeq/../../scripts/methods/my_paste.py:79: ImplicitModificationWarning: Setting element `.obsm['align_spatial']` of view, initializing view as actual.\n",
      "  m.obsm[key_added] = m.obsm[spatial_key]\n",
      "/home/ylu/project/Benchmark_alignment_methods/notebooks/BARSeq/../../scripts/methods/my_paste.py:79: ImplicitModificationWarning: Setting element `.obsm['align_spatial']` of view, initializing view as actual.\n",
      "  m.obsm[key_added] = m.obsm[spatial_key]\n"
     ]
    },
    {
     "name": "stdout",
     "output_type": "stream",
     "text": [
      "gpu is available, using gpu.\n"
     ]
    },
    {
     "name": "stderr",
     "output_type": "stream",
     "text": [
      "/home/ylu/anaconda3/envs/Spateo/lib/python3.9/site-packages/ot/lp/__init__.py:354: UserWarning: numItermax reached before optimality. Try to increase numItermax.\n",
      "  result_code_string = check_result(result_code)\n",
      " 21%|██████████████████████▊                                                                                        | 8/39 [04:14<14:11, 27.47s/it]/home/ylu/project/Benchmark_alignment_methods/notebooks/BARSeq/../../scripts/methods/my_paste.py:79: ImplicitModificationWarning: Setting element `.obsm['align_spatial']` of view, initializing view as actual.\n",
      "  m.obsm[key_added] = m.obsm[spatial_key]\n",
      "/home/ylu/project/Benchmark_alignment_methods/notebooks/BARSeq/../../scripts/methods/my_paste.py:79: ImplicitModificationWarning: Setting element `.obsm['align_spatial']` of view, initializing view as actual.\n",
      "  m.obsm[key_added] = m.obsm[spatial_key]\n"
     ]
    },
    {
     "name": "stdout",
     "output_type": "stream",
     "text": [
      "gpu is available, using gpu.\n"
     ]
    },
    {
     "name": "stderr",
     "output_type": "stream",
     "text": [
      "/home/ylu/anaconda3/envs/Spateo/lib/python3.9/site-packages/ot/lp/__init__.py:354: UserWarning: numItermax reached before optimality. Try to increase numItermax.\n",
      "  result_code_string = check_result(result_code)\n",
      " 23%|█████████████████████████▌                                                                                     | 9/39 [04:53<15:30, 31.02s/it]/home/ylu/project/Benchmark_alignment_methods/notebooks/BARSeq/../../scripts/methods/my_paste.py:79: ImplicitModificationWarning: Setting element `.obsm['align_spatial']` of view, initializing view as actual.\n",
      "  m.obsm[key_added] = m.obsm[spatial_key]\n",
      "/home/ylu/project/Benchmark_alignment_methods/notebooks/BARSeq/../../scripts/methods/my_paste.py:79: ImplicitModificationWarning: Setting element `.obsm['align_spatial']` of view, initializing view as actual.\n",
      "  m.obsm[key_added] = m.obsm[spatial_key]\n"
     ]
    },
    {
     "name": "stdout",
     "output_type": "stream",
     "text": [
      "gpu is available, using gpu.\n"
     ]
    },
    {
     "name": "stderr",
     "output_type": "stream",
     "text": [
      "/home/ylu/anaconda3/envs/Spateo/lib/python3.9/site-packages/ot/lp/__init__.py:354: UserWarning: numItermax reached before optimality. Try to increase numItermax.\n",
      "  result_code_string = check_result(result_code)\n",
      " 26%|████████████████████████████▏                                                                                 | 10/39 [05:26<15:17, 31.64s/it]/home/ylu/project/Benchmark_alignment_methods/notebooks/BARSeq/../../scripts/methods/my_paste.py:79: ImplicitModificationWarning: Setting element `.obsm['align_spatial']` of view, initializing view as actual.\n",
      "  m.obsm[key_added] = m.obsm[spatial_key]\n",
      "/home/ylu/project/Benchmark_alignment_methods/notebooks/BARSeq/../../scripts/methods/my_paste.py:79: ImplicitModificationWarning: Setting element `.obsm['align_spatial']` of view, initializing view as actual.\n",
      "  m.obsm[key_added] = m.obsm[spatial_key]\n"
     ]
    },
    {
     "name": "stdout",
     "output_type": "stream",
     "text": [
      "gpu is available, using gpu.\n"
     ]
    },
    {
     "name": "stderr",
     "output_type": "stream",
     "text": [
      "/home/ylu/anaconda3/envs/Spateo/lib/python3.9/site-packages/ot/lp/__init__.py:354: UserWarning: numItermax reached before optimality. Try to increase numItermax.\n",
      "  result_code_string = check_result(result_code)\n",
      " 28%|███████████████████████████████                                                                               | 11/39 [05:50<13:38, 29.24s/it]/home/ylu/project/Benchmark_alignment_methods/notebooks/BARSeq/../../scripts/methods/my_paste.py:79: ImplicitModificationWarning: Setting element `.obsm['align_spatial']` of view, initializing view as actual.\n",
      "  m.obsm[key_added] = m.obsm[spatial_key]\n",
      "/home/ylu/project/Benchmark_alignment_methods/notebooks/BARSeq/../../scripts/methods/my_paste.py:79: ImplicitModificationWarning: Setting element `.obsm['align_spatial']` of view, initializing view as actual.\n",
      "  m.obsm[key_added] = m.obsm[spatial_key]\n"
     ]
    },
    {
     "name": "stdout",
     "output_type": "stream",
     "text": [
      "gpu is available, using gpu.\n"
     ]
    },
    {
     "name": "stderr",
     "output_type": "stream",
     "text": [
      "/home/ylu/anaconda3/envs/Spateo/lib/python3.9/site-packages/ot/lp/__init__.py:354: UserWarning: numItermax reached before optimality. Try to increase numItermax.\n",
      "  result_code_string = check_result(result_code)\n",
      " 31%|█████████████████████████████████▊                                                                            | 12/39 [06:19<13:04, 29.05s/it]/home/ylu/project/Benchmark_alignment_methods/notebooks/BARSeq/../../scripts/methods/my_paste.py:79: ImplicitModificationWarning: Setting element `.obsm['align_spatial']` of view, initializing view as actual.\n",
      "  m.obsm[key_added] = m.obsm[spatial_key]\n",
      "/home/ylu/project/Benchmark_alignment_methods/notebooks/BARSeq/../../scripts/methods/my_paste.py:79: ImplicitModificationWarning: Setting element `.obsm['align_spatial']` of view, initializing view as actual.\n",
      "  m.obsm[key_added] = m.obsm[spatial_key]\n"
     ]
    },
    {
     "name": "stdout",
     "output_type": "stream",
     "text": [
      "gpu is available, using gpu.\n"
     ]
    },
    {
     "name": "stderr",
     "output_type": "stream",
     "text": [
      "/home/ylu/anaconda3/envs/Spateo/lib/python3.9/site-packages/ot/lp/__init__.py:354: UserWarning: numItermax reached before optimality. Try to increase numItermax.\n",
      "  result_code_string = check_result(result_code)\n",
      " 33%|████████████████████████████████████▋                                                                         | 13/39 [07:05<14:51, 34.30s/it]/home/ylu/project/Benchmark_alignment_methods/notebooks/BARSeq/../../scripts/methods/my_paste.py:79: ImplicitModificationWarning: Setting element `.obsm['align_spatial']` of view, initializing view as actual.\n",
      "  m.obsm[key_added] = m.obsm[spatial_key]\n",
      "/home/ylu/project/Benchmark_alignment_methods/notebooks/BARSeq/../../scripts/methods/my_paste.py:79: ImplicitModificationWarning: Setting element `.obsm['align_spatial']` of view, initializing view as actual.\n",
      "  m.obsm[key_added] = m.obsm[spatial_key]\n"
     ]
    },
    {
     "name": "stdout",
     "output_type": "stream",
     "text": [
      "gpu is available, using gpu.\n"
     ]
    },
    {
     "name": "stderr",
     "output_type": "stream",
     "text": [
      "/home/ylu/anaconda3/envs/Spateo/lib/python3.9/site-packages/ot/lp/__init__.py:354: UserWarning: numItermax reached before optimality. Try to increase numItermax.\n",
      "  result_code_string = check_result(result_code)\n",
      " 36%|███████████████████████████████████████▍                                                                      | 14/39 [07:42<14:38, 35.14s/it]/home/ylu/project/Benchmark_alignment_methods/notebooks/BARSeq/../../scripts/methods/my_paste.py:79: ImplicitModificationWarning: Setting element `.obsm['align_spatial']` of view, initializing view as actual.\n",
      "  m.obsm[key_added] = m.obsm[spatial_key]\n",
      "/home/ylu/project/Benchmark_alignment_methods/notebooks/BARSeq/../../scripts/methods/my_paste.py:79: ImplicitModificationWarning: Setting element `.obsm['align_spatial']` of view, initializing view as actual.\n",
      "  m.obsm[key_added] = m.obsm[spatial_key]\n"
     ]
    },
    {
     "name": "stdout",
     "output_type": "stream",
     "text": [
      "gpu is available, using gpu.\n"
     ]
    },
    {
     "name": "stderr",
     "output_type": "stream",
     "text": [
      "/home/ylu/anaconda3/envs/Spateo/lib/python3.9/site-packages/ot/lp/__init__.py:354: UserWarning: numItermax reached before optimality. Try to increase numItermax.\n",
      "  result_code_string = check_result(result_code)\n",
      " 38%|██████████████████████████████████████████▎                                                                   | 15/39 [08:20<14:21, 35.90s/it]/home/ylu/project/Benchmark_alignment_methods/notebooks/BARSeq/../../scripts/methods/my_paste.py:79: ImplicitModificationWarning: Setting element `.obsm['align_spatial']` of view, initializing view as actual.\n",
      "  m.obsm[key_added] = m.obsm[spatial_key]\n",
      "/home/ylu/project/Benchmark_alignment_methods/notebooks/BARSeq/../../scripts/methods/my_paste.py:79: ImplicitModificationWarning: Setting element `.obsm['align_spatial']` of view, initializing view as actual.\n",
      "  m.obsm[key_added] = m.obsm[spatial_key]\n"
     ]
    },
    {
     "name": "stdout",
     "output_type": "stream",
     "text": [
      "gpu is available, using gpu.\n"
     ]
    },
    {
     "name": "stderr",
     "output_type": "stream",
     "text": [
      "/home/ylu/anaconda3/envs/Spateo/lib/python3.9/site-packages/ot/lp/__init__.py:354: UserWarning: numItermax reached before optimality. Try to increase numItermax.\n",
      "  result_code_string = check_result(result_code)\n",
      " 41%|█████████████████████████████████████████████▏                                                                | 16/39 [08:53<13:30, 35.26s/it]/home/ylu/project/Benchmark_alignment_methods/notebooks/BARSeq/../../scripts/methods/my_paste.py:79: ImplicitModificationWarning: Setting element `.obsm['align_spatial']` of view, initializing view as actual.\n",
      "  m.obsm[key_added] = m.obsm[spatial_key]\n",
      "/home/ylu/project/Benchmark_alignment_methods/notebooks/BARSeq/../../scripts/methods/my_paste.py:79: ImplicitModificationWarning: Setting element `.obsm['align_spatial']` of view, initializing view as actual.\n",
      "  m.obsm[key_added] = m.obsm[spatial_key]\n"
     ]
    },
    {
     "name": "stdout",
     "output_type": "stream",
     "text": [
      "gpu is available, using gpu.\n"
     ]
    },
    {
     "name": "stderr",
     "output_type": "stream",
     "text": [
      "/home/ylu/anaconda3/envs/Spateo/lib/python3.9/site-packages/ot/lp/__init__.py:354: UserWarning: numItermax reached before optimality. Try to increase numItermax.\n",
      "  result_code_string = check_result(result_code)\n",
      " 44%|███████████████████████████████████████████████▉                                                              | 17/39 [09:12<11:07, 30.35s/it]/home/ylu/project/Benchmark_alignment_methods/notebooks/BARSeq/../../scripts/methods/my_paste.py:79: ImplicitModificationWarning: Setting element `.obsm['align_spatial']` of view, initializing view as actual.\n",
      "  m.obsm[key_added] = m.obsm[spatial_key]\n",
      "/home/ylu/project/Benchmark_alignment_methods/notebooks/BARSeq/../../scripts/methods/my_paste.py:79: ImplicitModificationWarning: Setting element `.obsm['align_spatial']` of view, initializing view as actual.\n",
      "  m.obsm[key_added] = m.obsm[spatial_key]\n"
     ]
    },
    {
     "name": "stdout",
     "output_type": "stream",
     "text": [
      "gpu is available, using gpu.\n"
     ]
    },
    {
     "name": "stderr",
     "output_type": "stream",
     "text": [
      "/home/ylu/anaconda3/envs/Spateo/lib/python3.9/site-packages/ot/lp/__init__.py:354: UserWarning: numItermax reached before optimality. Try to increase numItermax.\n",
      "  result_code_string = check_result(result_code)\n",
      " 46%|██████████████████████████████████████████████████▊                                                           | 18/39 [09:36<09:53, 28.25s/it]/home/ylu/project/Benchmark_alignment_methods/notebooks/BARSeq/../../scripts/methods/my_paste.py:79: ImplicitModificationWarning: Setting element `.obsm['align_spatial']` of view, initializing view as actual.\n",
      "  m.obsm[key_added] = m.obsm[spatial_key]\n",
      "/home/ylu/project/Benchmark_alignment_methods/notebooks/BARSeq/../../scripts/methods/my_paste.py:79: ImplicitModificationWarning: Setting element `.obsm['align_spatial']` of view, initializing view as actual.\n",
      "  m.obsm[key_added] = m.obsm[spatial_key]\n"
     ]
    },
    {
     "name": "stdout",
     "output_type": "stream",
     "text": [
      "gpu is available, using gpu.\n"
     ]
    },
    {
     "name": "stderr",
     "output_type": "stream",
     "text": [
      "/home/ylu/anaconda3/envs/Spateo/lib/python3.9/site-packages/ot/lp/__init__.py:354: UserWarning: numItermax reached before optimality. Try to increase numItermax.\n",
      "  result_code_string = check_result(result_code)\n",
      " 49%|█████████████████████████████████████████████████████▌                                                        | 19/39 [10:00<08:58, 26.92s/it]/home/ylu/project/Benchmark_alignment_methods/notebooks/BARSeq/../../scripts/methods/my_paste.py:79: ImplicitModificationWarning: Setting element `.obsm['align_spatial']` of view, initializing view as actual.\n",
      "  m.obsm[key_added] = m.obsm[spatial_key]\n",
      "/home/ylu/project/Benchmark_alignment_methods/notebooks/BARSeq/../../scripts/methods/my_paste.py:79: ImplicitModificationWarning: Setting element `.obsm['align_spatial']` of view, initializing view as actual.\n",
      "  m.obsm[key_added] = m.obsm[spatial_key]\n"
     ]
    },
    {
     "name": "stdout",
     "output_type": "stream",
     "text": [
      "gpu is available, using gpu.\n"
     ]
    },
    {
     "name": "stderr",
     "output_type": "stream",
     "text": [
      "/home/ylu/anaconda3/envs/Spateo/lib/python3.9/site-packages/ot/lp/__init__.py:354: UserWarning: numItermax reached before optimality. Try to increase numItermax.\n",
      "  result_code_string = check_result(result_code)\n",
      " 51%|████████████████████████████████████████████████████████▍                                                     | 20/39 [10:42<09:57, 31.44s/it]/home/ylu/project/Benchmark_alignment_methods/notebooks/BARSeq/../../scripts/methods/my_paste.py:79: ImplicitModificationWarning: Setting element `.obsm['align_spatial']` of view, initializing view as actual.\n",
      "  m.obsm[key_added] = m.obsm[spatial_key]\n",
      "/home/ylu/project/Benchmark_alignment_methods/notebooks/BARSeq/../../scripts/methods/my_paste.py:79: ImplicitModificationWarning: Setting element `.obsm['align_spatial']` of view, initializing view as actual.\n",
      "  m.obsm[key_added] = m.obsm[spatial_key]\n"
     ]
    },
    {
     "name": "stdout",
     "output_type": "stream",
     "text": [
      "gpu is available, using gpu.\n"
     ]
    },
    {
     "name": "stderr",
     "output_type": "stream",
     "text": [
      "/home/ylu/anaconda3/envs/Spateo/lib/python3.9/site-packages/ot/lp/__init__.py:354: UserWarning: numItermax reached before optimality. Try to increase numItermax.\n",
      "  result_code_string = check_result(result_code)\n",
      " 54%|███████████████████████████████████████████████████████████▏                                                  | 21/39 [11:05<08:41, 28.99s/it]/home/ylu/project/Benchmark_alignment_methods/notebooks/BARSeq/../../scripts/methods/my_paste.py:79: ImplicitModificationWarning: Setting element `.obsm['align_spatial']` of view, initializing view as actual.\n",
      "  m.obsm[key_added] = m.obsm[spatial_key]\n",
      "/home/ylu/project/Benchmark_alignment_methods/notebooks/BARSeq/../../scripts/methods/my_paste.py:79: ImplicitModificationWarning: Setting element `.obsm['align_spatial']` of view, initializing view as actual.\n",
      "  m.obsm[key_added] = m.obsm[spatial_key]\n"
     ]
    },
    {
     "name": "stdout",
     "output_type": "stream",
     "text": [
      "gpu is available, using gpu.\n"
     ]
    },
    {
     "name": "stderr",
     "output_type": "stream",
     "text": [
      "/home/ylu/anaconda3/envs/Spateo/lib/python3.9/site-packages/ot/lp/__init__.py:354: UserWarning: numItermax reached before optimality. Try to increase numItermax.\n",
      "  result_code_string = check_result(result_code)\n",
      " 56%|██████████████████████████████████████████████████████████████                                                | 22/39 [11:37<08:29, 29.95s/it]/home/ylu/project/Benchmark_alignment_methods/notebooks/BARSeq/../../scripts/methods/my_paste.py:79: ImplicitModificationWarning: Setting element `.obsm['align_spatial']` of view, initializing view as actual.\n",
      "  m.obsm[key_added] = m.obsm[spatial_key]\n",
      "/home/ylu/project/Benchmark_alignment_methods/notebooks/BARSeq/../../scripts/methods/my_paste.py:79: ImplicitModificationWarning: Setting element `.obsm['align_spatial']` of view, initializing view as actual.\n",
      "  m.obsm[key_added] = m.obsm[spatial_key]\n"
     ]
    },
    {
     "name": "stdout",
     "output_type": "stream",
     "text": [
      "gpu is available, using gpu.\n"
     ]
    },
    {
     "name": "stderr",
     "output_type": "stream",
     "text": [
      "/home/ylu/anaconda3/envs/Spateo/lib/python3.9/site-packages/ot/lp/__init__.py:354: UserWarning: numItermax reached before optimality. Try to increase numItermax.\n",
      "  result_code_string = check_result(result_code)\n",
      " 59%|████████████████████████████████████████████████████████████████▊                                             | 23/39 [12:01<07:30, 28.17s/it]/home/ylu/project/Benchmark_alignment_methods/notebooks/BARSeq/../../scripts/methods/my_paste.py:79: ImplicitModificationWarning: Setting element `.obsm['align_spatial']` of view, initializing view as actual.\n",
      "  m.obsm[key_added] = m.obsm[spatial_key]\n",
      "/home/ylu/project/Benchmark_alignment_methods/notebooks/BARSeq/../../scripts/methods/my_paste.py:79: ImplicitModificationWarning: Setting element `.obsm['align_spatial']` of view, initializing view as actual.\n",
      "  m.obsm[key_added] = m.obsm[spatial_key]\n"
     ]
    },
    {
     "name": "stdout",
     "output_type": "stream",
     "text": [
      "gpu is available, using gpu.\n"
     ]
    },
    {
     "name": "stderr",
     "output_type": "stream",
     "text": [
      "/home/ylu/anaconda3/envs/Spateo/lib/python3.9/site-packages/ot/lp/__init__.py:354: UserWarning: numItermax reached before optimality. Try to increase numItermax.\n",
      "  result_code_string = check_result(result_code)\n",
      " 62%|███████████████████████████████████████████████████████████████████▋                                          | 24/39 [12:26<06:45, 27.06s/it]/home/ylu/project/Benchmark_alignment_methods/notebooks/BARSeq/../../scripts/methods/my_paste.py:79: ImplicitModificationWarning: Setting element `.obsm['align_spatial']` of view, initializing view as actual.\n",
      "  m.obsm[key_added] = m.obsm[spatial_key]\n",
      "/home/ylu/project/Benchmark_alignment_methods/notebooks/BARSeq/../../scripts/methods/my_paste.py:79: ImplicitModificationWarning: Setting element `.obsm['align_spatial']` of view, initializing view as actual.\n",
      "  m.obsm[key_added] = m.obsm[spatial_key]\n"
     ]
    },
    {
     "name": "stdout",
     "output_type": "stream",
     "text": [
      "gpu is available, using gpu.\n"
     ]
    },
    {
     "name": "stderr",
     "output_type": "stream",
     "text": [
      "/home/ylu/anaconda3/envs/Spateo/lib/python3.9/site-packages/ot/lp/__init__.py:354: UserWarning: numItermax reached before optimality. Try to increase numItermax.\n",
      "  result_code_string = check_result(result_code)\n",
      " 64%|██████████████████████████████████████████████████████████████████████▌                                       | 25/39 [13:04<07:05, 30.38s/it]/home/ylu/project/Benchmark_alignment_methods/notebooks/BARSeq/../../scripts/methods/my_paste.py:79: ImplicitModificationWarning: Setting element `.obsm['align_spatial']` of view, initializing view as actual.\n",
      "  m.obsm[key_added] = m.obsm[spatial_key]\n",
      "/home/ylu/project/Benchmark_alignment_methods/notebooks/BARSeq/../../scripts/methods/my_paste.py:79: ImplicitModificationWarning: Setting element `.obsm['align_spatial']` of view, initializing view as actual.\n",
      "  m.obsm[key_added] = m.obsm[spatial_key]\n"
     ]
    },
    {
     "name": "stdout",
     "output_type": "stream",
     "text": [
      "gpu is available, using gpu.\n"
     ]
    },
    {
     "name": "stderr",
     "output_type": "stream",
     "text": [
      "/home/ylu/anaconda3/envs/Spateo/lib/python3.9/site-packages/ot/lp/__init__.py:354: UserWarning: numItermax reached before optimality. Try to increase numItermax.\n",
      "  result_code_string = check_result(result_code)\n",
      " 67%|█████████████████████████████████████████████████████████████████████████▎                                    | 26/39 [13:46<07:20, 33.88s/it]/home/ylu/project/Benchmark_alignment_methods/notebooks/BARSeq/../../scripts/methods/my_paste.py:79: ImplicitModificationWarning: Setting element `.obsm['align_spatial']` of view, initializing view as actual.\n",
      "  m.obsm[key_added] = m.obsm[spatial_key]\n",
      "/home/ylu/project/Benchmark_alignment_methods/notebooks/BARSeq/../../scripts/methods/my_paste.py:79: ImplicitModificationWarning: Setting element `.obsm['align_spatial']` of view, initializing view as actual.\n",
      "  m.obsm[key_added] = m.obsm[spatial_key]\n"
     ]
    },
    {
     "name": "stdout",
     "output_type": "stream",
     "text": [
      "gpu is available, using gpu.\n"
     ]
    },
    {
     "name": "stderr",
     "output_type": "stream",
     "text": [
      "/home/ylu/anaconda3/envs/Spateo/lib/python3.9/site-packages/ot/lp/__init__.py:354: UserWarning: numItermax reached before optimality. Try to increase numItermax.\n",
      "  result_code_string = check_result(result_code)\n",
      " 69%|████████████████████████████████████████████████████████████████████████████▏                                 | 27/39 [14:15<06:30, 32.50s/it]/home/ylu/project/Benchmark_alignment_methods/notebooks/BARSeq/../../scripts/methods/my_paste.py:79: ImplicitModificationWarning: Setting element `.obsm['align_spatial']` of view, initializing view as actual.\n",
      "  m.obsm[key_added] = m.obsm[spatial_key]\n",
      "/home/ylu/project/Benchmark_alignment_methods/notebooks/BARSeq/../../scripts/methods/my_paste.py:79: ImplicitModificationWarning: Setting element `.obsm['align_spatial']` of view, initializing view as actual.\n",
      "  m.obsm[key_added] = m.obsm[spatial_key]\n"
     ]
    },
    {
     "name": "stdout",
     "output_type": "stream",
     "text": [
      "gpu is available, using gpu.\n"
     ]
    },
    {
     "name": "stderr",
     "output_type": "stream",
     "text": [
      "/home/ylu/anaconda3/envs/Spateo/lib/python3.9/site-packages/ot/lp/__init__.py:354: UserWarning: numItermax reached before optimality. Try to increase numItermax.\n",
      "  result_code_string = check_result(result_code)\n",
      " 72%|██████████████████████████████████████████████████████████████████████████████▉                               | 28/39 [14:35<05:15, 28.65s/it]/home/ylu/project/Benchmark_alignment_methods/notebooks/BARSeq/../../scripts/methods/my_paste.py:79: ImplicitModificationWarning: Setting element `.obsm['align_spatial']` of view, initializing view as actual.\n",
      "  m.obsm[key_added] = m.obsm[spatial_key]\n",
      "/home/ylu/project/Benchmark_alignment_methods/notebooks/BARSeq/../../scripts/methods/my_paste.py:79: ImplicitModificationWarning: Setting element `.obsm['align_spatial']` of view, initializing view as actual.\n",
      "  m.obsm[key_added] = m.obsm[spatial_key]\n"
     ]
    },
    {
     "name": "stdout",
     "output_type": "stream",
     "text": [
      "gpu is available, using gpu.\n"
     ]
    },
    {
     "name": "stderr",
     "output_type": "stream",
     "text": [
      "/home/ylu/anaconda3/envs/Spateo/lib/python3.9/site-packages/ot/lp/__init__.py:354: UserWarning: numItermax reached before optimality. Try to increase numItermax.\n",
      "  result_code_string = check_result(result_code)\n",
      " 74%|█████████████████████████████████████████████████████████████████████████████████▊                            | 29/39 [15:12<05:13, 31.34s/it]/home/ylu/project/Benchmark_alignment_methods/notebooks/BARSeq/../../scripts/methods/my_paste.py:79: ImplicitModificationWarning: Setting element `.obsm['align_spatial']` of view, initializing view as actual.\n",
      "  m.obsm[key_added] = m.obsm[spatial_key]\n",
      "/home/ylu/project/Benchmark_alignment_methods/notebooks/BARSeq/../../scripts/methods/my_paste.py:79: ImplicitModificationWarning: Setting element `.obsm['align_spatial']` of view, initializing view as actual.\n",
      "  m.obsm[key_added] = m.obsm[spatial_key]\n"
     ]
    },
    {
     "name": "stdout",
     "output_type": "stream",
     "text": [
      "gpu is available, using gpu.\n"
     ]
    },
    {
     "name": "stderr",
     "output_type": "stream",
     "text": [
      "/home/ylu/anaconda3/envs/Spateo/lib/python3.9/site-packages/ot/lp/__init__.py:354: UserWarning: numItermax reached before optimality. Try to increase numItermax.\n",
      "  result_code_string = check_result(result_code)\n",
      " 77%|████████████████████████████████████████████████████████████████████████████████████▌                         | 30/39 [15:37<04:23, 29.24s/it]/home/ylu/project/Benchmark_alignment_methods/notebooks/BARSeq/../../scripts/methods/my_paste.py:79: ImplicitModificationWarning: Setting element `.obsm['align_spatial']` of view, initializing view as actual.\n",
      "  m.obsm[key_added] = m.obsm[spatial_key]\n",
      "/home/ylu/project/Benchmark_alignment_methods/notebooks/BARSeq/../../scripts/methods/my_paste.py:79: ImplicitModificationWarning: Setting element `.obsm['align_spatial']` of view, initializing view as actual.\n",
      "  m.obsm[key_added] = m.obsm[spatial_key]\n"
     ]
    },
    {
     "name": "stdout",
     "output_type": "stream",
     "text": [
      "gpu is available, using gpu.\n"
     ]
    },
    {
     "name": "stderr",
     "output_type": "stream",
     "text": [
      "/home/ylu/anaconda3/envs/Spateo/lib/python3.9/site-packages/ot/lp/__init__.py:354: UserWarning: numItermax reached before optimality. Try to increase numItermax.\n",
      "  result_code_string = check_result(result_code)\n",
      " 79%|███████████████████████████████████████████████████████████████████████████████████████▍                      | 31/39 [16:11<04:05, 30.64s/it]/home/ylu/project/Benchmark_alignment_methods/notebooks/BARSeq/../../scripts/methods/my_paste.py:79: ImplicitModificationWarning: Setting element `.obsm['align_spatial']` of view, initializing view as actual.\n",
      "  m.obsm[key_added] = m.obsm[spatial_key]\n",
      "/home/ylu/project/Benchmark_alignment_methods/notebooks/BARSeq/../../scripts/methods/my_paste.py:79: ImplicitModificationWarning: Setting element `.obsm['align_spatial']` of view, initializing view as actual.\n",
      "  m.obsm[key_added] = m.obsm[spatial_key]\n"
     ]
    },
    {
     "name": "stdout",
     "output_type": "stream",
     "text": [
      "gpu is available, using gpu.\n"
     ]
    },
    {
     "name": "stderr",
     "output_type": "stream",
     "text": [
      "/home/ylu/anaconda3/envs/Spateo/lib/python3.9/site-packages/ot/lp/__init__.py:354: UserWarning: numItermax reached before optimality. Try to increase numItermax.\n",
      "  result_code_string = check_result(result_code)\n",
      " 82%|██████████████████████████████████████████████████████████████████████████████████████████▎                   | 32/39 [16:39<03:30, 30.05s/it]/home/ylu/project/Benchmark_alignment_methods/notebooks/BARSeq/../../scripts/methods/my_paste.py:79: ImplicitModificationWarning: Setting element `.obsm['align_spatial']` of view, initializing view as actual.\n",
      "  m.obsm[key_added] = m.obsm[spatial_key]\n",
      "/home/ylu/project/Benchmark_alignment_methods/notebooks/BARSeq/../../scripts/methods/my_paste.py:79: ImplicitModificationWarning: Setting element `.obsm['align_spatial']` of view, initializing view as actual.\n",
      "  m.obsm[key_added] = m.obsm[spatial_key]\n"
     ]
    },
    {
     "name": "stdout",
     "output_type": "stream",
     "text": [
      "gpu is available, using gpu.\n"
     ]
    },
    {
     "name": "stderr",
     "output_type": "stream",
     "text": [
      "/home/ylu/anaconda3/envs/Spateo/lib/python3.9/site-packages/ot/lp/__init__.py:354: UserWarning: numItermax reached before optimality. Try to increase numItermax.\n",
      "  result_code_string = check_result(result_code)\n",
      " 85%|█████████████████████████████████████████████████████████████████████████████████████████████                 | 33/39 [17:07<02:57, 29.53s/it]/home/ylu/project/Benchmark_alignment_methods/notebooks/BARSeq/../../scripts/methods/my_paste.py:79: ImplicitModificationWarning: Setting element `.obsm['align_spatial']` of view, initializing view as actual.\n",
      "  m.obsm[key_added] = m.obsm[spatial_key]\n",
      "/home/ylu/project/Benchmark_alignment_methods/notebooks/BARSeq/../../scripts/methods/my_paste.py:79: ImplicitModificationWarning: Setting element `.obsm['align_spatial']` of view, initializing view as actual.\n",
      "  m.obsm[key_added] = m.obsm[spatial_key]\n"
     ]
    },
    {
     "name": "stdout",
     "output_type": "stream",
     "text": [
      "gpu is available, using gpu.\n"
     ]
    },
    {
     "name": "stderr",
     "output_type": "stream",
     "text": [
      "/home/ylu/anaconda3/envs/Spateo/lib/python3.9/site-packages/ot/lp/__init__.py:354: UserWarning: numItermax reached before optimality. Try to increase numItermax.\n",
      "  result_code_string = check_result(result_code)\n",
      " 87%|███████████████████████████████████████████████████████████████████████████████████████████████▉              | 34/39 [17:36<02:26, 29.25s/it]/home/ylu/project/Benchmark_alignment_methods/notebooks/BARSeq/../../scripts/methods/my_paste.py:79: ImplicitModificationWarning: Setting element `.obsm['align_spatial']` of view, initializing view as actual.\n",
      "  m.obsm[key_added] = m.obsm[spatial_key]\n",
      "/home/ylu/project/Benchmark_alignment_methods/notebooks/BARSeq/../../scripts/methods/my_paste.py:79: ImplicitModificationWarning: Setting element `.obsm['align_spatial']` of view, initializing view as actual.\n",
      "  m.obsm[key_added] = m.obsm[spatial_key]\n"
     ]
    },
    {
     "name": "stdout",
     "output_type": "stream",
     "text": [
      "gpu is available, using gpu.\n"
     ]
    },
    {
     "name": "stderr",
     "output_type": "stream",
     "text": [
      "/home/ylu/anaconda3/envs/Spateo/lib/python3.9/site-packages/ot/lp/__init__.py:354: UserWarning: numItermax reached before optimality. Try to increase numItermax.\n",
      "  result_code_string = check_result(result_code)\n",
      " 90%|██████████████████████████████████████████████████████████████████████████████████████████████████▋           | 35/39 [18:02<01:52, 28.15s/it]/home/ylu/project/Benchmark_alignment_methods/notebooks/BARSeq/../../scripts/methods/my_paste.py:79: ImplicitModificationWarning: Setting element `.obsm['align_spatial']` of view, initializing view as actual.\n",
      "  m.obsm[key_added] = m.obsm[spatial_key]\n",
      "/home/ylu/project/Benchmark_alignment_methods/notebooks/BARSeq/../../scripts/methods/my_paste.py:79: ImplicitModificationWarning: Setting element `.obsm['align_spatial']` of view, initializing view as actual.\n",
      "  m.obsm[key_added] = m.obsm[spatial_key]\n"
     ]
    },
    {
     "name": "stdout",
     "output_type": "stream",
     "text": [
      "gpu is available, using gpu.\n"
     ]
    },
    {
     "name": "stderr",
     "output_type": "stream",
     "text": [
      "/home/ylu/anaconda3/envs/Spateo/lib/python3.9/site-packages/ot/lp/__init__.py:354: UserWarning: numItermax reached before optimality. Try to increase numItermax.\n",
      "  result_code_string = check_result(result_code)\n",
      " 92%|█████████████████████████████████████████████████████████████████████████████████████████████████████▌        | 36/39 [18:45<01:37, 32.55s/it]/home/ylu/project/Benchmark_alignment_methods/notebooks/BARSeq/../../scripts/methods/my_paste.py:79: ImplicitModificationWarning: Setting element `.obsm['align_spatial']` of view, initializing view as actual.\n",
      "  m.obsm[key_added] = m.obsm[spatial_key]\n",
      "/home/ylu/project/Benchmark_alignment_methods/notebooks/BARSeq/../../scripts/methods/my_paste.py:79: ImplicitModificationWarning: Setting element `.obsm['align_spatial']` of view, initializing view as actual.\n",
      "  m.obsm[key_added] = m.obsm[spatial_key]\n"
     ]
    },
    {
     "name": "stdout",
     "output_type": "stream",
     "text": [
      "gpu is available, using gpu.\n"
     ]
    },
    {
     "name": "stderr",
     "output_type": "stream",
     "text": [
      "/home/ylu/anaconda3/envs/Spateo/lib/python3.9/site-packages/ot/lp/__init__.py:354: UserWarning: numItermax reached before optimality. Try to increase numItermax.\n",
      "  result_code_string = check_result(result_code)\n",
      " 95%|████████████████████████████████████████████████████████████████████████████████████████████████████████▎     | 37/39 [19:08<00:59, 29.92s/it]/home/ylu/project/Benchmark_alignment_methods/notebooks/BARSeq/../../scripts/methods/my_paste.py:79: ImplicitModificationWarning: Setting element `.obsm['align_spatial']` of view, initializing view as actual.\n",
      "  m.obsm[key_added] = m.obsm[spatial_key]\n",
      "/home/ylu/project/Benchmark_alignment_methods/notebooks/BARSeq/../../scripts/methods/my_paste.py:79: ImplicitModificationWarning: Setting element `.obsm['align_spatial']` of view, initializing view as actual.\n",
      "  m.obsm[key_added] = m.obsm[spatial_key]\n"
     ]
    },
    {
     "name": "stdout",
     "output_type": "stream",
     "text": [
      "gpu is available, using gpu.\n"
     ]
    },
    {
     "name": "stderr",
     "output_type": "stream",
     "text": [
      "/home/ylu/anaconda3/envs/Spateo/lib/python3.9/site-packages/ot/lp/__init__.py:354: UserWarning: numItermax reached before optimality. Try to increase numItermax.\n",
      "  result_code_string = check_result(result_code)\n",
      " 97%|███████████████████████████████████████████████████████████████████████████████████████████████████████████▏  | 38/39 [19:51<00:33, 33.68s/it]/home/ylu/project/Benchmark_alignment_methods/notebooks/BARSeq/../../scripts/methods/my_paste.py:79: ImplicitModificationWarning: Setting element `.obsm['align_spatial']` of view, initializing view as actual.\n",
      "  m.obsm[key_added] = m.obsm[spatial_key]\n",
      "/home/ylu/project/Benchmark_alignment_methods/notebooks/BARSeq/../../scripts/methods/my_paste.py:79: ImplicitModificationWarning: Setting element `.obsm['align_spatial']` of view, initializing view as actual.\n",
      "  m.obsm[key_added] = m.obsm[spatial_key]\n"
     ]
    },
    {
     "name": "stdout",
     "output_type": "stream",
     "text": [
      "gpu is available, using gpu.\n"
     ]
    },
    {
     "name": "stderr",
     "output_type": "stream",
     "text": [
      "/home/ylu/anaconda3/envs/Spateo/lib/python3.9/site-packages/ot/lp/__init__.py:354: UserWarning: numItermax reached before optimality. Try to increase numItermax.\n",
      "  result_code_string = check_result(result_code)\n",
      "100%|██████████████████████████████████████████████████████████████████████████████████████████████████████████████| 39/39 [20:20<00:00, 31.29s/it]\n"
     ]
    }
   ],
   "source": [
    "subsample_num = 10000\n",
    "  \n",
    "for i in tqdm(range(1, 40)):\n",
    "    slice1 = ad.read_h5ad(filename=os.path.join(data_folder,\"slice_{:0>2d}.h5ad\".format(i)))\n",
    "    slice2 = ad.read_h5ad(filename=os.path.join(data_folder,\"slice_{:0>2d}.h5ad\".format(i+1)))\n",
    "    \n",
    "    # subsample\n",
    "    subsample1 = np.random.choice(slice1.shape[0], subsample_num, replace=False) if slice1.shape[0] > subsample_num else np.arange(slice1.shape[0])\n",
    "    subsample2 = np.random.choice(slice2.shape[0], subsample_num, replace=False) if slice2.shape[0] > subsample_num else np.arange(slice2.shape[0])\n",
    "    slice1 = slice1[subsample1,:]\n",
    "    slice2 = slice2[subsample2,:]\n",
    "\n",
    "    spatial_key = 'perturbed_spatial'\n",
    "    key_added = 'align_spatial'\n",
    "    align_slices, pis = paste_align(\n",
    "        models=[slice1, slice2],\n",
    "        spatial_key=spatial_key,\n",
    "        device=\"2\",\n",
    "        verbose=False,\n",
    "    )\n",
    "    \n",
    "    # recover true R and t\n",
    "    R1, t1=solve_RT_by_correspondence(align_slices[1].obsm[key_added], align_slices[1].obsm['perturbed_spatial'])\n",
    "    R2, t2=solve_RT_by_correspondence(align_slices[0].obsm['perturbed_spatial'], align_slices[0].obsm[key_added])\n",
    "    t = t1 @ R2.T + t2\n",
    "    R = R2 @ R1\n",
    "    results = {\"R\":R, \"t\":t, \"subsample\": [subsample1, subsample2]}\n",
    "    np.save(os.path.join(results_folder, \"slice_{}_{}.npy\".format(i,i+1)), results, allow_pickle=True)"
   ]
  },
  {
   "cell_type": "code",
   "execution_count": null,
   "id": "51dee2a7-181b-45f8-ae9c-82d1f1830021",
   "metadata": {},
   "outputs": [],
   "source": []
  }
 ],
 "metadata": {
  "kernelspec": {
   "display_name": "Spateo",
   "language": "python",
   "name": "spateo"
  },
  "language_info": {
   "codemirror_mode": {
    "name": "ipython",
    "version": 3
   },
   "file_extension": ".py",
   "mimetype": "text/x-python",
   "name": "python",
   "nbconvert_exporter": "python",
   "pygments_lexer": "ipython3",
   "version": "3.9.19"
  }
 },
 "nbformat": 4,
 "nbformat_minor": 5
}
