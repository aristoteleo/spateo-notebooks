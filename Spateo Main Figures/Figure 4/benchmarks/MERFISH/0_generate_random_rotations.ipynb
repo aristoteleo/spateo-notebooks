{
 "cells": [
  {
   "cell_type": "code",
   "execution_count": 1,
   "id": "6d8f17d9-c3c8-460e-ab97-57bba2b7aa98",
   "metadata": {},
   "outputs": [
    {
     "name": "stderr",
     "output_type": "stream",
     "text": [
      "<frozen importlib._bootstrap>:228: RuntimeWarning: scipy._lib.messagestream.MessageStream size changed, may indicate binary incompatibility. Expected 56 from C header, got 64 from PyObject\n"
     ]
    }
   ],
   "source": [
    "import os\n",
    "os.environ['CUDA_VISIBLE_DEVICES'] = '1'\n",
    "import sys\n",
    "from pathlib import Path\n",
    "import anndata as ad\n",
    "import scanpy as sc\n",
    "import numpy as np"
   ]
  },
  {
   "cell_type": "code",
   "execution_count": 2,
   "id": "5c2ea5a9-a772-4395-aaaf-6712f7a68075",
   "metadata": {},
   "outputs": [],
   "source": [
    "data_folder = \"./results/split_slices_CCF/\"\n",
    "import re\n",
    "def list_and_sort_files_by_number(directory_path, suffix):\n",
    "    def extract_number(filename):\n",
    "        match = re.search(r'\\d+', filename)\n",
    "        return int(match.group()) if match else float('inf')\n",
    "    try:\n",
    "        files = [f for f in os.listdir(directory_path) if f.endswith(suffix)]\n",
    "        sorted_files = sorted(files, key=extract_number)\n",
    "        return sorted_files\n",
    "    except FileNotFoundError:\n",
    "        return f\"The directory {directory_path} does not exist.\"\n",
    "    except NotADirectoryError:\n",
    "        return f\"The path {directory_path} is not a directory.\"\n",
    "    except PermissionError:\n",
    "        return f\"Permission denied to access {directory_path}.\"\n",
    "\n",
    "directory_path = data_folder\n",
    "sorted_files = list_and_sort_files_by_number(directory_path, '.h5ad')"
   ]
  },
  {
   "cell_type": "code",
   "execution_count": 5,
   "id": "48bbd947-bfb7-4a7b-a49b-7541055e5791",
   "metadata": {},
   "outputs": [],
   "source": [
    "rotations = []\n",
    "for i in range(len(sorted_files)):\n",
    "    theta = np.random.rand() * 2 * np.pi\n",
    "    rotation_matrix = np.array([[np.cos(theta), -np.sin(theta)], [np.sin(theta), np.cos(theta)]])\n",
    "    rotations.append(rotation_matrix)\n",
    "np.save(\"./results/random_rotations.npy\", rotations, allow_pickle=True)"
   ]
  }
 ],
 "metadata": {
  "kernelspec": {
   "display_name": "Spateo",
   "language": "python",
   "name": "spateo"
  },
  "language_info": {
   "codemirror_mode": {
    "name": "ipython",
    "version": 3
   },
   "file_extension": ".py",
   "mimetype": "text/x-python",
   "name": "python",
   "nbconvert_exporter": "python",
   "pygments_lexer": "ipython3",
   "version": "3.9.19"
  }
 },
 "nbformat": 4,
 "nbformat_minor": 5
}
