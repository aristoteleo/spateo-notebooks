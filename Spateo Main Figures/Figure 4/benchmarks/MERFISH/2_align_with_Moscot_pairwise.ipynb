{
 "cells": [
  {
   "cell_type": "code",
   "execution_count": 1,
   "id": "0908cd60-618c-42e7-9854-9713751acdda",
   "metadata": {
    "execution": {
     "iopub.execute_input": "2024-07-15T19:26:54.994271Z",
     "iopub.status.busy": "2024-07-15T19:26:54.993961Z",
     "iopub.status.idle": "2024-07-15T19:26:58.688402Z",
     "shell.execute_reply": "2024-07-15T19:26:58.687755Z",
     "shell.execute_reply.started": "2024-07-15T19:26:54.994250Z"
    }
   },
   "outputs": [
    {
     "name": "stderr",
     "output_type": "stream",
     "text": [
      "_XSERVTransSocketUNIXCreateListener: ...SocketCreateListener() failed\n",
      "_XSERVTransMakeAllCOTSServerListeners: server already running\n",
      "(EE) \n",
      "Fatal server error:\n",
      "(EE) Cannot establish any listening sockets - Make sure an X server isn't already running(EE) \n"
     ]
    }
   ],
   "source": [
    "import os\n",
    "os.environ['CUDA_VISIBLE_DEVICES'] = '2'\n",
    "import sys\n",
    "from pathlib import Path\n",
    "import anndata as ad\n",
    "import scanpy as sc\n",
    "import numpy as np\n",
    "import warnings\n",
    "warnings.simplefilter(action='ignore', category=FutureWarning)\n",
    "import seaborn as sns\n",
    "from matplotlib import pyplot as plt\n",
    "\n",
    "sys.path.insert(0, \"/home/ylu/project\")\n",
    "from utils import *\n",
    "\n",
    "sys.path.insert(0, \"../../scripts/methods/\")\n",
    "from my_moscot import moscot_align, moscot_align_ref\n",
    "import time\n",
    "\n",
    "os.system('/usr/bin/Xvfb :99 -screen 0 1024x768x24 &')\n",
    "os.environ['DISPLAY'] = ':99'\n",
    "\n",
    "%load_ext autoreload\n",
    "%autoreload 2"
   ]
  },
  {
   "cell_type": "code",
   "execution_count": 2,
   "id": "e7b47bc4-0453-474d-a39f-aa14ed636caa",
   "metadata": {
    "execution": {
     "iopub.execute_input": "2024-07-15T19:26:58.689893Z",
     "iopub.status.busy": "2024-07-15T19:26:58.689290Z",
     "iopub.status.idle": "2024-07-15T19:26:58.719792Z",
     "shell.execute_reply": "2024-07-15T19:26:58.719230Z",
     "shell.execute_reply.started": "2024-07-15T19:26:58.689869Z"
    }
   },
   "outputs": [],
   "source": [
    "data_folder = \"./results/split_slices_CCF/\"\n",
    "results_folder = \"./results/Moscot/\"\n",
    "figures_folder = \"./results/figures/Moscot\"\n",
    "Path(results_folder).mkdir(parents=True, exist_ok=True)\n",
    "Path(figures_folder).mkdir(parents=True, exist_ok=True)"
   ]
  },
  {
   "cell_type": "code",
   "execution_count": 3,
   "id": "12466310-1e31-4239-aa6e-5e11e19dae0b",
   "metadata": {
    "execution": {
     "iopub.execute_input": "2024-07-15T19:26:58.721453Z",
     "iopub.status.busy": "2024-07-15T19:26:58.721144Z",
     "iopub.status.idle": "2024-07-15T19:26:58.752176Z",
     "shell.execute_reply": "2024-07-15T19:26:58.751671Z",
     "shell.execute_reply.started": "2024-07-15T19:26:58.721432Z"
    }
   },
   "outputs": [],
   "source": [
    "import re\n",
    "def list_and_sort_files_by_number(directory_path, suffix):\n",
    "    def extract_number(filename):\n",
    "        match = re.search(r'\\d+', filename)\n",
    "        return int(match.group()) if match else float('inf')\n",
    "    try:\n",
    "        files = [f for f in os.listdir(directory_path) if f.endswith(suffix)]\n",
    "        sorted_files = sorted(files, key=extract_number)\n",
    "        return sorted_files\n",
    "    except FileNotFoundError:\n",
    "        return f\"The directory {directory_path} does not exist.\"\n",
    "    except NotADirectoryError:\n",
    "        return f\"The path {directory_path} is not a directory.\"\n",
    "    except PermissionError:\n",
    "        return f\"Permission denied to access {directory_path}.\"\n",
    "\n",
    "directory_path = data_folder\n",
    "sorted_files = list_and_sort_files_by_number(directory_path, '.h5ad')"
   ]
  },
  {
   "cell_type": "code",
   "execution_count": 4,
   "id": "dea7abee-5509-4d87-8b86-19fb460fcb84",
   "metadata": {
    "execution": {
     "iopub.execute_input": "2024-07-15T19:26:58.753309Z",
     "iopub.status.busy": "2024-07-15T19:26:58.752913Z",
     "iopub.status.idle": "2024-07-15T19:27:20.987083Z",
     "shell.execute_reply": "2024-07-15T19:27:20.986388Z",
     "shell.execute_reply.started": "2024-07-15T19:26:58.753288Z"
    }
   },
   "outputs": [
    {
     "name": "stderr",
     "output_type": "stream",
     "text": [
      "100%|███████████████████████████| 129/129 [00:22<00:00,  5.81it/s]\n"
     ]
    }
   ],
   "source": [
    "## load the data\n",
    "from tqdm import tqdm\n",
    "slices = []\n",
    "for f in tqdm(sorted_files):\n",
    "    slices.append(ad.read_h5ad(os.path.join(data_folder, f)))"
   ]
  },
  {
   "cell_type": "code",
   "execution_count": 5,
   "id": "24840e17-a7da-4938-8e80-c4d7993303be",
   "metadata": {
    "execution": {
     "iopub.execute_input": "2024-07-15T19:27:20.988475Z",
     "iopub.status.busy": "2024-07-15T19:27:20.988165Z",
     "iopub.status.idle": "2024-07-15T19:27:21.029553Z",
     "shell.execute_reply": "2024-07-15T19:27:21.028968Z",
     "shell.execute_reply.started": "2024-07-15T19:27:20.988454Z"
    }
   },
   "outputs": [],
   "source": [
    "spatial_key = \"spatial_2D\"\n",
    "anno_key = \"cell_type\""
   ]
  },
  {
   "cell_type": "code",
   "execution_count": 6,
   "id": "1bf95a00-6497-41f2-959f-fd6b207731c0",
   "metadata": {
    "execution": {
     "iopub.execute_input": "2024-07-15T19:27:21.030774Z",
     "iopub.status.busy": "2024-07-15T19:27:21.030316Z",
     "iopub.status.idle": "2024-07-15T19:27:21.280230Z",
     "shell.execute_reply": "2024-07-15T19:27:21.279675Z",
     "shell.execute_reply.started": "2024-07-15T19:27:21.030752Z"
    }
   },
   "outputs": [],
   "source": [
    "## Rotate the data\n",
    "rotate_key = \"spatial_rot\"\n",
    "rotations = np.load(\"./results/random_rotations.npy\", allow_pickle=True)\n",
    "for i in range(len(slices)):\n",
    "    slices[i].obsm[rotate_key] = slices[i].obsm[spatial_key][:,:2].copy()\n",
    "    mean = np.mean(slices[i].obsm[rotate_key], axis=0)\n",
    "    slices[i].obsm[rotate_key] = slices[i].obsm[rotate_key] - mean\n",
    "    slices[i].obsm[rotate_key] = slices[i].obsm[rotate_key] @ rotations[i].T + mean\n",
    "    "
   ]
  },
  {
   "cell_type": "code",
   "execution_count": 7,
   "id": "3e3a25fd-c7b7-4bcf-bd2f-214badbcbbaa",
   "metadata": {
    "execution": {
     "iopub.execute_input": "2024-07-15T19:27:21.281430Z",
     "iopub.status.busy": "2024-07-15T19:27:21.281043Z",
     "iopub.status.idle": "2024-07-15T19:27:21.310862Z",
     "shell.execute_reply": "2024-07-15T19:27:21.310292Z",
     "shell.execute_reply.started": "2024-07-15T19:27:21.281409Z"
    }
   },
   "outputs": [],
   "source": [
    "spatial_key = \"spatial_rot\"\n",
    "key_added = \"aligned_spatial\""
   ]
  },
  {
   "cell_type": "code",
   "execution_count": 8,
   "id": "4d4bce49-e6f9-40da-8186-ac93595f278b",
   "metadata": {
    "execution": {
     "iopub.execute_input": "2024-07-15T19:27:21.312068Z",
     "iopub.status.busy": "2024-07-15T19:27:21.311612Z",
     "iopub.status.idle": "2024-07-15T19:50:36.089806Z",
     "shell.execute_reply": "2024-07-15T19:50:36.089156Z",
     "shell.execute_reply.started": "2024-07-15T19:27:21.312048Z"
    }
   },
   "outputs": [
    {
     "name": "stderr",
     "output_type": "stream",
     "text": [
      "  0%|                                     | 0/128 [00:00<?, ?it/s]"
     ]
    },
    {
     "name": "stdout",
     "output_type": "stream",
     "text": [
      "\u001b[34mINFO    \u001b[0m Computing pca with `\u001b[33mn_comps\u001b[0m=\u001b[1;36m30\u001b[0m` for `xy` using `adata.X`                                                  \n"
     ]
    },
    {
     "name": "stderr",
     "output_type": "stream",
     "text": [
      "/home/ylu/project/Benchmark_alignment_methods/notebooks/AllenMouseBrain_Zhuang/../../scripts/methods/my_moscot.py:56: ImplicitModificationWarning: Setting element `.obsm['aligned_spatial']` of view, initializing view as actual.\n",
      "  m.obsm[key_added] = m.obsm[spatial_key]\n"
     ]
    },
    {
     "name": "stdout",
     "output_type": "stream",
     "text": [
      "\u001b[34mINFO    \u001b[0m Normalizing spatial coordinates of `x`.                                                                   \n",
      "\u001b[34mINFO    \u001b[0m Normalizing spatial coordinates of `y`.                                                                   \n",
      "\u001b[34mINFO    \u001b[0m Solving `\u001b[1;36m1\u001b[0m` problems                                                                                      \n",
      "\u001b[34mINFO    \u001b[0m Solving problem OTProblem\u001b[1m[\u001b[0m\u001b[33mstage\u001b[0m=\u001b[32m'prepared'\u001b[0m, \u001b[33mshape\u001b[0m=\u001b[1m(\u001b[0m\u001b[1;36m4731\u001b[0m, \u001b[1;36m5268\u001b[0m\u001b[1m)\u001b[0m\u001b[1m]\u001b[0m.                                          \n"
     ]
    },
    {
     "name": "stderr",
     "output_type": "stream",
     "text": [
      "2024-07-15 19:27:24.954933: W external/xla/xla/service/gpu/nvptx_compiler.cc:760] The NVIDIA driver's CUDA version is 12.2 which is older than the ptxas CUDA version (12.4.131). Because the driver is older than the ptxas version, XLA is disabling parallel compilation, which may slow down compilation. You should update your NVIDIA driver or use the NVIDIA-provided CUDA forward compatibility packages.\n",
      "  1%|▏                            | 1/128 [00:12<26:40, 12.60s/it]"
     ]
    },
    {
     "name": "stdout",
     "output_type": "stream",
     "text": [
      "\u001b[34mINFO    \u001b[0m Computing pca with `\u001b[33mn_comps\u001b[0m=\u001b[1;36m30\u001b[0m` for `xy` using `adata.X`                                                  \n"
     ]
    },
    {
     "name": "stderr",
     "output_type": "stream",
     "text": [
      "/home/ylu/project/Benchmark_alignment_methods/notebooks/AllenMouseBrain_Zhuang/../../scripts/methods/my_moscot.py:56: ImplicitModificationWarning: Setting element `.obsm['aligned_spatial']` of view, initializing view as actual.\n",
      "  m.obsm[key_added] = m.obsm[spatial_key]\n"
     ]
    },
    {
     "name": "stdout",
     "output_type": "stream",
     "text": [
      "\u001b[34mINFO    \u001b[0m Normalizing spatial coordinates of `x`.                                                                   \n",
      "\u001b[34mINFO    \u001b[0m Normalizing spatial coordinates of `y`.                                                                   \n",
      "\u001b[34mINFO    \u001b[0m Solving `\u001b[1;36m1\u001b[0m` problems                                                                                      \n",
      "\u001b[34mINFO    \u001b[0m Solving problem OTProblem\u001b[1m[\u001b[0m\u001b[33mstage\u001b[0m=\u001b[32m'prepared'\u001b[0m, \u001b[33mshape\u001b[0m=\u001b[1m(\u001b[0m\u001b[1;36m5041\u001b[0m, \u001b[1;36m4958\u001b[0m\u001b[1m)\u001b[0m\u001b[1m]\u001b[0m.                                          \n"
     ]
    },
    {
     "name": "stderr",
     "output_type": "stream",
     "text": [
      "  2%|▍                            | 2/128 [00:21<22:14, 10.59s/it]"
     ]
    },
    {
     "name": "stdout",
     "output_type": "stream",
     "text": [
      "\u001b[34mINFO    \u001b[0m Computing pca with `\u001b[33mn_comps\u001b[0m=\u001b[1;36m30\u001b[0m` for `xy` using `adata.X`                                                  \n"
     ]
    },
    {
     "name": "stderr",
     "output_type": "stream",
     "text": [
      "/home/ylu/project/Benchmark_alignment_methods/notebooks/AllenMouseBrain_Zhuang/../../scripts/methods/my_moscot.py:56: ImplicitModificationWarning: Setting element `.obsm['aligned_spatial']` of view, initializing view as actual.\n",
      "  m.obsm[key_added] = m.obsm[spatial_key]\n"
     ]
    },
    {
     "name": "stdout",
     "output_type": "stream",
     "text": [
      "\u001b[34mINFO    \u001b[0m Normalizing spatial coordinates of `x`.                                                                   \n",
      "\u001b[34mINFO    \u001b[0m Normalizing spatial coordinates of `y`.                                                                   \n",
      "\u001b[34mINFO    \u001b[0m Solving `\u001b[1;36m1\u001b[0m` problems                                                                                      \n",
      "\u001b[34mINFO    \u001b[0m Solving problem OTProblem\u001b[1m[\u001b[0m\u001b[33mstage\u001b[0m=\u001b[32m'prepared'\u001b[0m, \u001b[33mshape\u001b[0m=\u001b[1m(\u001b[0m\u001b[1;36m4472\u001b[0m, \u001b[1;36m5527\u001b[0m\u001b[1m)\u001b[0m\u001b[1m]\u001b[0m.                                          \n"
     ]
    },
    {
     "name": "stderr",
     "output_type": "stream",
     "text": [
      "  2%|▋                            | 3/128 [00:33<22:47, 10.94s/it]"
     ]
    },
    {
     "name": "stdout",
     "output_type": "stream",
     "text": [
      "\u001b[34mINFO    \u001b[0m Computing pca with `\u001b[33mn_comps\u001b[0m=\u001b[1;36m30\u001b[0m` for `xy` using `adata.X`                                                  \n"
     ]
    },
    {
     "name": "stderr",
     "output_type": "stream",
     "text": [
      "/home/ylu/project/Benchmark_alignment_methods/notebooks/AllenMouseBrain_Zhuang/../../scripts/methods/my_moscot.py:56: ImplicitModificationWarning: Setting element `.obsm['aligned_spatial']` of view, initializing view as actual.\n",
      "  m.obsm[key_added] = m.obsm[spatial_key]\n"
     ]
    },
    {
     "name": "stdout",
     "output_type": "stream",
     "text": [
      "\u001b[34mINFO    \u001b[0m Normalizing spatial coordinates of `x`.                                                                   \n",
      "\u001b[34mINFO    \u001b[0m Normalizing spatial coordinates of `y`.                                                                   \n",
      "\u001b[34mINFO    \u001b[0m Solving `\u001b[1;36m1\u001b[0m` problems                                                                                      \n",
      "\u001b[34mINFO    \u001b[0m Solving problem OTProblem\u001b[1m[\u001b[0m\u001b[33mstage\u001b[0m=\u001b[32m'prepared'\u001b[0m, \u001b[33mshape\u001b[0m=\u001b[1m(\u001b[0m\u001b[1;36m5027\u001b[0m, \u001b[1;36m4972\u001b[0m\u001b[1m)\u001b[0m\u001b[1m]\u001b[0m.                                          \n"
     ]
    },
    {
     "name": "stderr",
     "output_type": "stream",
     "text": [
      "  3%|▉                            | 4/128 [00:45<23:40, 11.45s/it]/home/ylu/project/Benchmark_alignment_methods/notebooks/AllenMouseBrain_Zhuang/../../scripts/methods/my_moscot.py:56: ImplicitModificationWarning: Setting element `.obsm['aligned_spatial']` of view, initializing view as actual.\n",
      "  m.obsm[key_added] = m.obsm[spatial_key]\n"
     ]
    },
    {
     "name": "stdout",
     "output_type": "stream",
     "text": [
      "\u001b[34mINFO    \u001b[0m Computing pca with `\u001b[33mn_comps\u001b[0m=\u001b[1;36m30\u001b[0m` for `xy` using `adata.X`                                                  \n",
      "\u001b[34mINFO    \u001b[0m Normalizing spatial coordinates of `x`.                                                                   \n",
      "\u001b[34mINFO    \u001b[0m Normalizing spatial coordinates of `y`.                                                                   \n",
      "\u001b[34mINFO    \u001b[0m Solving `\u001b[1;36m1\u001b[0m` problems                                                                                      \n",
      "\u001b[34mINFO    \u001b[0m Solving problem OTProblem\u001b[1m[\u001b[0m\u001b[33mstage\u001b[0m=\u001b[32m'prepared'\u001b[0m, \u001b[33mshape\u001b[0m=\u001b[1m(\u001b[0m\u001b[1;36m5005\u001b[0m, \u001b[1;36m4994\u001b[0m\u001b[1m)\u001b[0m\u001b[1m]\u001b[0m.                                          \n"
     ]
    },
    {
     "name": "stderr",
     "output_type": "stream",
     "text": [
      "  4%|█▏                           | 5/128 [00:55<22:48, 11.12s/it]"
     ]
    },
    {
     "name": "stdout",
     "output_type": "stream",
     "text": [
      "\u001b[34mINFO    \u001b[0m Computing pca with `\u001b[33mn_comps\u001b[0m=\u001b[1;36m30\u001b[0m` for `xy` using `adata.X`                                                  \n"
     ]
    },
    {
     "name": "stderr",
     "output_type": "stream",
     "text": [
      "/home/ylu/project/Benchmark_alignment_methods/notebooks/AllenMouseBrain_Zhuang/../../scripts/methods/my_moscot.py:56: ImplicitModificationWarning: Setting element `.obsm['aligned_spatial']` of view, initializing view as actual.\n",
      "  m.obsm[key_added] = m.obsm[spatial_key]\n"
     ]
    },
    {
     "name": "stdout",
     "output_type": "stream",
     "text": [
      "\u001b[34mINFO    \u001b[0m Normalizing spatial coordinates of `x`.                                                                   \n",
      "\u001b[34mINFO    \u001b[0m Normalizing spatial coordinates of `y`.                                                                   \n",
      "\u001b[34mINFO    \u001b[0m Solving `\u001b[1;36m1\u001b[0m` problems                                                                                      \n",
      "\u001b[34mINFO    \u001b[0m Solving problem OTProblem\u001b[1m[\u001b[0m\u001b[33mstage\u001b[0m=\u001b[32m'prepared'\u001b[0m, \u001b[33mshape\u001b[0m=\u001b[1m(\u001b[0m\u001b[1;36m4990\u001b[0m, \u001b[1;36m5009\u001b[0m\u001b[1m)\u001b[0m\u001b[1m]\u001b[0m.                                          \n"
     ]
    },
    {
     "name": "stderr",
     "output_type": "stream",
     "text": [
      "  5%|█▎                           | 6/128 [01:08<23:42, 11.66s/it]/home/ylu/project/Benchmark_alignment_methods/notebooks/AllenMouseBrain_Zhuang/../../scripts/methods/my_moscot.py:56: ImplicitModificationWarning: Setting element `.obsm['aligned_spatial']` of view, initializing view as actual.\n",
      "  m.obsm[key_added] = m.obsm[spatial_key]\n"
     ]
    },
    {
     "name": "stdout",
     "output_type": "stream",
     "text": [
      "\u001b[34mINFO    \u001b[0m Computing pca with `\u001b[33mn_comps\u001b[0m=\u001b[1;36m30\u001b[0m` for `xy` using `adata.X`                                                  \n",
      "\u001b[34mINFO    \u001b[0m Normalizing spatial coordinates of `x`.                                                                   \n",
      "\u001b[34mINFO    \u001b[0m Normalizing spatial coordinates of `y`.                                                                   \n",
      "\u001b[34mINFO    \u001b[0m Solving `\u001b[1;36m1\u001b[0m` problems                                                                                      \n",
      "\u001b[34mINFO    \u001b[0m Solving problem OTProblem\u001b[1m[\u001b[0m\u001b[33mstage\u001b[0m=\u001b[32m'prepared'\u001b[0m, \u001b[33mshape\u001b[0m=\u001b[1m(\u001b[0m\u001b[1;36m5128\u001b[0m, \u001b[1;36m4871\u001b[0m\u001b[1m)\u001b[0m\u001b[1m]\u001b[0m.                                          \n"
     ]
    },
    {
     "name": "stderr",
     "output_type": "stream",
     "text": [
      "  5%|█▌                           | 7/128 [01:20<23:56, 11.87s/it]"
     ]
    },
    {
     "name": "stdout",
     "output_type": "stream",
     "text": [
      "\u001b[34mINFO    \u001b[0m Computing pca with `\u001b[33mn_comps\u001b[0m=\u001b[1;36m30\u001b[0m` for `xy` using `adata.X`                                                  \n"
     ]
    },
    {
     "name": "stderr",
     "output_type": "stream",
     "text": [
      "/home/ylu/project/Benchmark_alignment_methods/notebooks/AllenMouseBrain_Zhuang/../../scripts/methods/my_moscot.py:56: ImplicitModificationWarning: Setting element `.obsm['aligned_spatial']` of view, initializing view as actual.\n",
      "  m.obsm[key_added] = m.obsm[spatial_key]\n"
     ]
    },
    {
     "name": "stdout",
     "output_type": "stream",
     "text": [
      "\u001b[34mINFO    \u001b[0m Normalizing spatial coordinates of `x`.                                                                   \n",
      "\u001b[34mINFO    \u001b[0m Normalizing spatial coordinates of `y`.                                                                   \n",
      "\u001b[34mINFO    \u001b[0m Solving `\u001b[1;36m1\u001b[0m` problems                                                                                      \n",
      "\u001b[34mINFO    \u001b[0m Solving problem OTProblem\u001b[1m[\u001b[0m\u001b[33mstage\u001b[0m=\u001b[32m'prepared'\u001b[0m, \u001b[33mshape\u001b[0m=\u001b[1m(\u001b[0m\u001b[1;36m4884\u001b[0m, \u001b[1;36m5115\u001b[0m\u001b[1m)\u001b[0m\u001b[1m]\u001b[0m.                                          \n"
     ]
    },
    {
     "name": "stderr",
     "output_type": "stream",
     "text": [
      "  6%|█▊                           | 8/128 [01:33<24:22, 12.19s/it]/home/ylu/project/Benchmark_alignment_methods/notebooks/AllenMouseBrain_Zhuang/../../scripts/methods/my_moscot.py:56: ImplicitModificationWarning: Setting element `.obsm['aligned_spatial']` of view, initializing view as actual.\n",
      "  m.obsm[key_added] = m.obsm[spatial_key]\n"
     ]
    },
    {
     "name": "stdout",
     "output_type": "stream",
     "text": [
      "\u001b[34mINFO    \u001b[0m Computing pca with `\u001b[33mn_comps\u001b[0m=\u001b[1;36m30\u001b[0m` for `xy` using `adata.X`                                                  \n",
      "\u001b[34mINFO    \u001b[0m Normalizing spatial coordinates of `x`.                                                                   \n",
      "\u001b[34mINFO    \u001b[0m Normalizing spatial coordinates of `y`.                                                                   \n",
      "\u001b[34mINFO    \u001b[0m Solving `\u001b[1;36m1\u001b[0m` problems                                                                                      \n",
      "\u001b[34mINFO    \u001b[0m Solving problem OTProblem\u001b[1m[\u001b[0m\u001b[33mstage\u001b[0m=\u001b[32m'prepared'\u001b[0m, \u001b[33mshape\u001b[0m=\u001b[1m(\u001b[0m\u001b[1;36m5068\u001b[0m, \u001b[1;36m4931\u001b[0m\u001b[1m)\u001b[0m\u001b[1m]\u001b[0m.                                          \n"
     ]
    },
    {
     "name": "stderr",
     "output_type": "stream",
     "text": [
      "  7%|██                           | 9/128 [01:45<24:10, 12.19s/it]"
     ]
    },
    {
     "name": "stdout",
     "output_type": "stream",
     "text": [
      "\u001b[34mINFO    \u001b[0m Computing pca with `\u001b[33mn_comps\u001b[0m=\u001b[1;36m30\u001b[0m` for `xy` using `adata.X`                                                  \n"
     ]
    },
    {
     "name": "stderr",
     "output_type": "stream",
     "text": [
      "/home/ylu/project/Benchmark_alignment_methods/notebooks/AllenMouseBrain_Zhuang/../../scripts/methods/my_moscot.py:56: ImplicitModificationWarning: Setting element `.obsm['aligned_spatial']` of view, initializing view as actual.\n",
      "  m.obsm[key_added] = m.obsm[spatial_key]\n"
     ]
    },
    {
     "name": "stdout",
     "output_type": "stream",
     "text": [
      "\u001b[34mINFO    \u001b[0m Normalizing spatial coordinates of `x`.                                                                   \n",
      "\u001b[34mINFO    \u001b[0m Normalizing spatial coordinates of `y`.                                                                   \n",
      "\u001b[34mINFO    \u001b[0m Solving `\u001b[1;36m1\u001b[0m` problems                                                                                      \n",
      "\u001b[34mINFO    \u001b[0m Solving problem OTProblem\u001b[1m[\u001b[0m\u001b[33mstage\u001b[0m=\u001b[32m'prepared'\u001b[0m, \u001b[33mshape\u001b[0m=\u001b[1m(\u001b[0m\u001b[1;36m4727\u001b[0m, \u001b[1;36m5272\u001b[0m\u001b[1m)\u001b[0m\u001b[1m]\u001b[0m.                                          \n"
     ]
    },
    {
     "name": "stderr",
     "output_type": "stream",
     "text": [
      "  8%|██▏                         | 10/128 [01:55<22:15, 11.32s/it]"
     ]
    },
    {
     "name": "stdout",
     "output_type": "stream",
     "text": [
      "\u001b[34mINFO    \u001b[0m Computing pca with `\u001b[33mn_comps\u001b[0m=\u001b[1;36m30\u001b[0m` for `xy` using `adata.X`                                                  \n"
     ]
    },
    {
     "name": "stderr",
     "output_type": "stream",
     "text": [
      "/home/ylu/project/Benchmark_alignment_methods/notebooks/AllenMouseBrain_Zhuang/../../scripts/methods/my_moscot.py:56: ImplicitModificationWarning: Setting element `.obsm['aligned_spatial']` of view, initializing view as actual.\n",
      "  m.obsm[key_added] = m.obsm[spatial_key]\n"
     ]
    },
    {
     "name": "stdout",
     "output_type": "stream",
     "text": [
      "\u001b[34mINFO    \u001b[0m Normalizing spatial coordinates of `x`.                                                                   \n",
      "\u001b[34mINFO    \u001b[0m Normalizing spatial coordinates of `y`.                                                                   \n",
      "\u001b[34mINFO    \u001b[0m Solving `\u001b[1;36m1\u001b[0m` problems                                                                                      \n",
      "\u001b[34mINFO    \u001b[0m Solving problem OTProblem\u001b[1m[\u001b[0m\u001b[33mstage\u001b[0m=\u001b[32m'prepared'\u001b[0m, \u001b[33mshape\u001b[0m=\u001b[1m(\u001b[0m\u001b[1;36m4917\u001b[0m, \u001b[1;36m5082\u001b[0m\u001b[1m)\u001b[0m\u001b[1m]\u001b[0m.                                          \n"
     ]
    },
    {
     "name": "stderr",
     "output_type": "stream",
     "text": [
      "  9%|██▍                         | 11/128 [02:05<21:35, 11.07s/it]"
     ]
    },
    {
     "name": "stdout",
     "output_type": "stream",
     "text": [
      "\u001b[34mINFO    \u001b[0m Computing pca with `\u001b[33mn_comps\u001b[0m=\u001b[1;36m30\u001b[0m` for `xy` using `adata.X`                                                  \n"
     ]
    },
    {
     "name": "stderr",
     "output_type": "stream",
     "text": [
      "/home/ylu/project/Benchmark_alignment_methods/notebooks/AllenMouseBrain_Zhuang/../../scripts/methods/my_moscot.py:56: ImplicitModificationWarning: Setting element `.obsm['aligned_spatial']` of view, initializing view as actual.\n",
      "  m.obsm[key_added] = m.obsm[spatial_key]\n"
     ]
    },
    {
     "name": "stdout",
     "output_type": "stream",
     "text": [
      "\u001b[34mINFO    \u001b[0m Normalizing spatial coordinates of `x`.                                                                   \n",
      "\u001b[34mINFO    \u001b[0m Normalizing spatial coordinates of `y`.                                                                   \n",
      "\u001b[34mINFO    \u001b[0m Solving `\u001b[1;36m1\u001b[0m` problems                                                                                      \n",
      "\u001b[34mINFO    \u001b[0m Solving problem OTProblem\u001b[1m[\u001b[0m\u001b[33mstage\u001b[0m=\u001b[32m'prepared'\u001b[0m, \u001b[33mshape\u001b[0m=\u001b[1m(\u001b[0m\u001b[1;36m4972\u001b[0m, \u001b[1;36m5027\u001b[0m\u001b[1m)\u001b[0m\u001b[1m]\u001b[0m.                                          \n"
     ]
    },
    {
     "name": "stderr",
     "output_type": "stream",
     "text": [
      "  9%|██▋                         | 12/128 [02:17<21:54, 11.33s/it]/home/ylu/project/Benchmark_alignment_methods/notebooks/AllenMouseBrain_Zhuang/../../scripts/methods/my_moscot.py:56: ImplicitModificationWarning: Setting element `.obsm['aligned_spatial']` of view, initializing view as actual.\n",
      "  m.obsm[key_added] = m.obsm[spatial_key]\n"
     ]
    },
    {
     "name": "stdout",
     "output_type": "stream",
     "text": [
      "\u001b[34mINFO    \u001b[0m Computing pca with `\u001b[33mn_comps\u001b[0m=\u001b[1;36m30\u001b[0m` for `xy` using `adata.X`                                                  \n",
      "\u001b[34mINFO    \u001b[0m Normalizing spatial coordinates of `x`.                                                                   \n",
      "\u001b[34mINFO    \u001b[0m Normalizing spatial coordinates of `y`.                                                                   \n",
      "\u001b[34mINFO    \u001b[0m Solving `\u001b[1;36m1\u001b[0m` problems                                                                                      \n",
      "\u001b[34mINFO    \u001b[0m Solving problem OTProblem\u001b[1m[\u001b[0m\u001b[33mstage\u001b[0m=\u001b[32m'prepared'\u001b[0m, \u001b[33mshape\u001b[0m=\u001b[1m(\u001b[0m\u001b[1;36m5518\u001b[0m, \u001b[1;36m4481\u001b[0m\u001b[1m)\u001b[0m\u001b[1m]\u001b[0m.                                          \n"
     ]
    },
    {
     "name": "stderr",
     "output_type": "stream",
     "text": [
      " 10%|██▊                         | 13/128 [02:30<22:32, 11.76s/it]"
     ]
    },
    {
     "name": "stdout",
     "output_type": "stream",
     "text": [
      "\u001b[34mINFO    \u001b[0m Computing pca with `\u001b[33mn_comps\u001b[0m=\u001b[1;36m30\u001b[0m` for `xy` using `adata.X`                                                  \n"
     ]
    },
    {
     "name": "stderr",
     "output_type": "stream",
     "text": [
      "/home/ylu/project/Benchmark_alignment_methods/notebooks/AllenMouseBrain_Zhuang/../../scripts/methods/my_moscot.py:56: ImplicitModificationWarning: Setting element `.obsm['aligned_spatial']` of view, initializing view as actual.\n",
      "  m.obsm[key_added] = m.obsm[spatial_key]\n"
     ]
    },
    {
     "name": "stdout",
     "output_type": "stream",
     "text": [
      "\u001b[34mINFO    \u001b[0m Normalizing spatial coordinates of `x`.                                                                   \n",
      "\u001b[34mINFO    \u001b[0m Normalizing spatial coordinates of `y`.                                                                   \n",
      "\u001b[34mINFO    \u001b[0m Solving `\u001b[1;36m1\u001b[0m` problems                                                                                      \n",
      "\u001b[34mINFO    \u001b[0m Solving problem OTProblem\u001b[1m[\u001b[0m\u001b[33mstage\u001b[0m=\u001b[32m'prepared'\u001b[0m, \u001b[33mshape\u001b[0m=\u001b[1m(\u001b[0m\u001b[1;36m4934\u001b[0m, \u001b[1;36m5065\u001b[0m\u001b[1m)\u001b[0m\u001b[1m]\u001b[0m.                                          \n"
     ]
    },
    {
     "name": "stderr",
     "output_type": "stream",
     "text": [
      " 11%|███                         | 14/128 [02:42<22:17, 11.73s/it]/home/ylu/project/Benchmark_alignment_methods/notebooks/AllenMouseBrain_Zhuang/../../scripts/methods/my_moscot.py:56: ImplicitModificationWarning: Setting element `.obsm['aligned_spatial']` of view, initializing view as actual.\n",
      "  m.obsm[key_added] = m.obsm[spatial_key]\n"
     ]
    },
    {
     "name": "stdout",
     "output_type": "stream",
     "text": [
      "\u001b[34mINFO    \u001b[0m Computing pca with `\u001b[33mn_comps\u001b[0m=\u001b[1;36m30\u001b[0m` for `xy` using `adata.X`                                                  \n",
      "\u001b[34mINFO    \u001b[0m Normalizing spatial coordinates of `x`.                                                                   \n",
      "\u001b[34mINFO    \u001b[0m Normalizing spatial coordinates of `y`.                                                                   \n",
      "\u001b[34mINFO    \u001b[0m Solving `\u001b[1;36m1\u001b[0m` problems                                                                                      \n",
      "\u001b[34mINFO    \u001b[0m Solving problem OTProblem\u001b[1m[\u001b[0m\u001b[33mstage\u001b[0m=\u001b[32m'prepared'\u001b[0m, \u001b[33mshape\u001b[0m=\u001b[1m(\u001b[0m\u001b[1;36m5135\u001b[0m, \u001b[1;36m4864\u001b[0m\u001b[1m)\u001b[0m\u001b[1m]\u001b[0m.                                          \n"
     ]
    },
    {
     "name": "stderr",
     "output_type": "stream",
     "text": [
      " 12%|███▎                        | 15/128 [02:54<22:20, 11.86s/it]/home/ylu/project/Benchmark_alignment_methods/notebooks/AllenMouseBrain_Zhuang/../../scripts/methods/my_moscot.py:56: ImplicitModificationWarning: Setting element `.obsm['aligned_spatial']` of view, initializing view as actual.\n",
      "  m.obsm[key_added] = m.obsm[spatial_key]\n"
     ]
    },
    {
     "name": "stdout",
     "output_type": "stream",
     "text": [
      "\u001b[34mINFO    \u001b[0m Computing pca with `\u001b[33mn_comps\u001b[0m=\u001b[1;36m30\u001b[0m` for `xy` using `adata.X`                                                  \n",
      "\u001b[34mINFO    \u001b[0m Normalizing spatial coordinates of `x`.                                                                   \n",
      "\u001b[34mINFO    \u001b[0m Normalizing spatial coordinates of `y`.                                                                   \n",
      "\u001b[34mINFO    \u001b[0m Solving `\u001b[1;36m1\u001b[0m` problems                                                                                      \n",
      "\u001b[34mINFO    \u001b[0m Solving problem OTProblem\u001b[1m[\u001b[0m\u001b[33mstage\u001b[0m=\u001b[32m'prepared'\u001b[0m, \u001b[33mshape\u001b[0m=\u001b[1m(\u001b[0m\u001b[1;36m5257\u001b[0m, \u001b[1;36m4742\u001b[0m\u001b[1m)\u001b[0m\u001b[1m]\u001b[0m.                                          \n"
     ]
    },
    {
     "name": "stderr",
     "output_type": "stream",
     "text": [
      " 12%|███▌                        | 16/128 [03:05<21:47, 11.67s/it]"
     ]
    },
    {
     "name": "stdout",
     "output_type": "stream",
     "text": [
      "\u001b[34mINFO    \u001b[0m Computing pca with `\u001b[33mn_comps\u001b[0m=\u001b[1;36m30\u001b[0m` for `xy` using `adata.X`                                                  \n"
     ]
    },
    {
     "name": "stderr",
     "output_type": "stream",
     "text": [
      "/home/ylu/project/Benchmark_alignment_methods/notebooks/AllenMouseBrain_Zhuang/../../scripts/methods/my_moscot.py:56: ImplicitModificationWarning: Setting element `.obsm['aligned_spatial']` of view, initializing view as actual.\n",
      "  m.obsm[key_added] = m.obsm[spatial_key]\n"
     ]
    },
    {
     "name": "stdout",
     "output_type": "stream",
     "text": [
      "\u001b[34mINFO    \u001b[0m Normalizing spatial coordinates of `x`.                                                                   \n",
      "\u001b[34mINFO    \u001b[0m Normalizing spatial coordinates of `y`.                                                                   \n",
      "\u001b[34mINFO    \u001b[0m Solving `\u001b[1;36m1\u001b[0m` problems                                                                                      \n",
      "\u001b[34mINFO    \u001b[0m Solving problem OTProblem\u001b[1m[\u001b[0m\u001b[33mstage\u001b[0m=\u001b[32m'prepared'\u001b[0m, \u001b[33mshape\u001b[0m=\u001b[1m(\u001b[0m\u001b[1;36m5365\u001b[0m, \u001b[1;36m4634\u001b[0m\u001b[1m)\u001b[0m\u001b[1m]\u001b[0m.                                          \n"
     ]
    },
    {
     "name": "stderr",
     "output_type": "stream",
     "text": [
      " 13%|███▋                        | 17/128 [03:18<22:11, 12.00s/it]/home/ylu/project/Benchmark_alignment_methods/notebooks/AllenMouseBrain_Zhuang/../../scripts/methods/my_moscot.py:56: ImplicitModificationWarning: Setting element `.obsm['aligned_spatial']` of view, initializing view as actual.\n",
      "  m.obsm[key_added] = m.obsm[spatial_key]\n"
     ]
    },
    {
     "name": "stdout",
     "output_type": "stream",
     "text": [
      "\u001b[34mINFO    \u001b[0m Computing pca with `\u001b[33mn_comps\u001b[0m=\u001b[1;36m30\u001b[0m` for `xy` using `adata.X`                                                  \n",
      "\u001b[34mINFO    \u001b[0m Normalizing spatial coordinates of `x`.                                                                   \n",
      "\u001b[34mINFO    \u001b[0m Normalizing spatial coordinates of `y`.                                                                   \n",
      "\u001b[34mINFO    \u001b[0m Solving `\u001b[1;36m1\u001b[0m` problems                                                                                      \n",
      "\u001b[34mINFO    \u001b[0m Solving problem OTProblem\u001b[1m[\u001b[0m\u001b[33mstage\u001b[0m=\u001b[32m'prepared'\u001b[0m, \u001b[33mshape\u001b[0m=\u001b[1m(\u001b[0m\u001b[1;36m4401\u001b[0m, \u001b[1;36m5598\u001b[0m\u001b[1m)\u001b[0m\u001b[1m]\u001b[0m.                                          \n"
     ]
    },
    {
     "name": "stderr",
     "output_type": "stream",
     "text": [
      " 14%|███▉                        | 18/128 [03:29<21:43, 11.85s/it]/home/ylu/project/Benchmark_alignment_methods/notebooks/AllenMouseBrain_Zhuang/../../scripts/methods/my_moscot.py:56: ImplicitModificationWarning: Setting element `.obsm['aligned_spatial']` of view, initializing view as actual.\n",
      "  m.obsm[key_added] = m.obsm[spatial_key]\n"
     ]
    },
    {
     "name": "stdout",
     "output_type": "stream",
     "text": [
      "\u001b[34mINFO    \u001b[0m Computing pca with `\u001b[33mn_comps\u001b[0m=\u001b[1;36m30\u001b[0m` for `xy` using `adata.X`                                                  \n",
      "\u001b[34mINFO    \u001b[0m Normalizing spatial coordinates of `x`.                                                                   \n",
      "\u001b[34mINFO    \u001b[0m Normalizing spatial coordinates of `y`.                                                                   \n",
      "\u001b[34mINFO    \u001b[0m Solving `\u001b[1;36m1\u001b[0m` problems                                                                                      \n",
      "\u001b[34mINFO    \u001b[0m Solving problem OTProblem\u001b[1m[\u001b[0m\u001b[33mstage\u001b[0m=\u001b[32m'prepared'\u001b[0m, \u001b[33mshape\u001b[0m=\u001b[1m(\u001b[0m\u001b[1;36m5321\u001b[0m, \u001b[1;36m4678\u001b[0m\u001b[1m)\u001b[0m\u001b[1m]\u001b[0m.                                          \n"
     ]
    },
    {
     "name": "stderr",
     "output_type": "stream",
     "text": [
      " 15%|████▏                       | 19/128 [03:40<21:00, 11.56s/it]/home/ylu/project/Benchmark_alignment_methods/notebooks/AllenMouseBrain_Zhuang/../../scripts/methods/my_moscot.py:56: ImplicitModificationWarning: Setting element `.obsm['aligned_spatial']` of view, initializing view as actual.\n",
      "  m.obsm[key_added] = m.obsm[spatial_key]\n"
     ]
    },
    {
     "name": "stdout",
     "output_type": "stream",
     "text": [
      "\u001b[34mINFO    \u001b[0m Computing pca with `\u001b[33mn_comps\u001b[0m=\u001b[1;36m30\u001b[0m` for `xy` using `adata.X`                                                  \n",
      "\u001b[34mINFO    \u001b[0m Normalizing spatial coordinates of `x`.                                                                   \n",
      "\u001b[34mINFO    \u001b[0m Normalizing spatial coordinates of `y`.                                                                   \n",
      "\u001b[34mINFO    \u001b[0m Solving `\u001b[1;36m1\u001b[0m` problems                                                                                      \n",
      "\u001b[34mINFO    \u001b[0m Solving problem OTProblem\u001b[1m[\u001b[0m\u001b[33mstage\u001b[0m=\u001b[32m'prepared'\u001b[0m, \u001b[33mshape\u001b[0m=\u001b[1m(\u001b[0m\u001b[1;36m4573\u001b[0m, \u001b[1;36m5426\u001b[0m\u001b[1m)\u001b[0m\u001b[1m]\u001b[0m.                                          \n"
     ]
    },
    {
     "name": "stderr",
     "output_type": "stream",
     "text": [
      " 16%|████▍                       | 20/128 [03:52<21:05, 11.72s/it]/home/ylu/project/Benchmark_alignment_methods/notebooks/AllenMouseBrain_Zhuang/../../scripts/methods/my_moscot.py:56: ImplicitModificationWarning: Setting element `.obsm['aligned_spatial']` of view, initializing view as actual.\n",
      "  m.obsm[key_added] = m.obsm[spatial_key]\n"
     ]
    },
    {
     "name": "stdout",
     "output_type": "stream",
     "text": [
      "\u001b[34mINFO    \u001b[0m Computing pca with `\u001b[33mn_comps\u001b[0m=\u001b[1;36m30\u001b[0m` for `xy` using `adata.X`                                                  \n",
      "\u001b[34mINFO    \u001b[0m Normalizing spatial coordinates of `x`.                                                                   \n",
      "\u001b[34mINFO    \u001b[0m Normalizing spatial coordinates of `y`.                                                                   \n",
      "\u001b[34mINFO    \u001b[0m Solving `\u001b[1;36m1\u001b[0m` problems                                                                                      \n",
      "\u001b[34mINFO    \u001b[0m Solving problem OTProblem\u001b[1m[\u001b[0m\u001b[33mstage\u001b[0m=\u001b[32m'prepared'\u001b[0m, \u001b[33mshape\u001b[0m=\u001b[1m(\u001b[0m\u001b[1;36m4878\u001b[0m, \u001b[1;36m5121\u001b[0m\u001b[1m)\u001b[0m\u001b[1m]\u001b[0m.                                          \n"
     ]
    },
    {
     "name": "stderr",
     "output_type": "stream",
     "text": [
      " 16%|████▌                       | 21/128 [04:05<21:24, 12.01s/it]/home/ylu/project/Benchmark_alignment_methods/notebooks/AllenMouseBrain_Zhuang/../../scripts/methods/my_moscot.py:56: ImplicitModificationWarning: Setting element `.obsm['aligned_spatial']` of view, initializing view as actual.\n",
      "  m.obsm[key_added] = m.obsm[spatial_key]\n"
     ]
    },
    {
     "name": "stdout",
     "output_type": "stream",
     "text": [
      "\u001b[34mINFO    \u001b[0m Computing pca with `\u001b[33mn_comps\u001b[0m=\u001b[1;36m30\u001b[0m` for `xy` using `adata.X`                                                  \n",
      "\u001b[34mINFO    \u001b[0m Normalizing spatial coordinates of `x`.                                                                   \n",
      "\u001b[34mINFO    \u001b[0m Normalizing spatial coordinates of `y`.                                                                   \n",
      "\u001b[34mINFO    \u001b[0m Solving `\u001b[1;36m1\u001b[0m` problems                                                                                      \n",
      "\u001b[34mINFO    \u001b[0m Solving problem OTProblem\u001b[1m[\u001b[0m\u001b[33mstage\u001b[0m=\u001b[32m'prepared'\u001b[0m, \u001b[33mshape\u001b[0m=\u001b[1m(\u001b[0m\u001b[1;36m5094\u001b[0m, \u001b[1;36m4905\u001b[0m\u001b[1m)\u001b[0m\u001b[1m]\u001b[0m.                                          \n"
     ]
    },
    {
     "name": "stderr",
     "output_type": "stream",
     "text": [
      " 17%|████▊                       | 22/128 [04:18<21:50, 12.36s/it]/home/ylu/project/Benchmark_alignment_methods/notebooks/AllenMouseBrain_Zhuang/../../scripts/methods/my_moscot.py:56: ImplicitModificationWarning: Setting element `.obsm['aligned_spatial']` of view, initializing view as actual.\n",
      "  m.obsm[key_added] = m.obsm[spatial_key]\n"
     ]
    },
    {
     "name": "stdout",
     "output_type": "stream",
     "text": [
      "\u001b[34mINFO    \u001b[0m Computing pca with `\u001b[33mn_comps\u001b[0m=\u001b[1;36m30\u001b[0m` for `xy` using `adata.X`                                                  \n",
      "\u001b[34mINFO    \u001b[0m Normalizing spatial coordinates of `x`.                                                                   \n",
      "\u001b[34mINFO    \u001b[0m Normalizing spatial coordinates of `y`.                                                                   \n",
      "\u001b[34mINFO    \u001b[0m Solving `\u001b[1;36m1\u001b[0m` problems                                                                                      \n",
      "\u001b[34mINFO    \u001b[0m Solving problem OTProblem\u001b[1m[\u001b[0m\u001b[33mstage\u001b[0m=\u001b[32m'prepared'\u001b[0m, \u001b[33mshape\u001b[0m=\u001b[1m(\u001b[0m\u001b[1;36m4833\u001b[0m, \u001b[1;36m5166\u001b[0m\u001b[1m)\u001b[0m\u001b[1m]\u001b[0m.                                          \n"
     ]
    },
    {
     "name": "stderr",
     "output_type": "stream",
     "text": [
      " 18%|█████                       | 23/128 [04:30<21:08, 12.08s/it]/home/ylu/project/Benchmark_alignment_methods/notebooks/AllenMouseBrain_Zhuang/../../scripts/methods/my_moscot.py:56: ImplicitModificationWarning: Setting element `.obsm['aligned_spatial']` of view, initializing view as actual.\n",
      "  m.obsm[key_added] = m.obsm[spatial_key]\n"
     ]
    },
    {
     "name": "stdout",
     "output_type": "stream",
     "text": [
      "\u001b[34mINFO    \u001b[0m Computing pca with `\u001b[33mn_comps\u001b[0m=\u001b[1;36m30\u001b[0m` for `xy` using `adata.X`                                                  \n",
      "\u001b[34mINFO    \u001b[0m Normalizing spatial coordinates of `x`.                                                                   \n",
      "\u001b[34mINFO    \u001b[0m Normalizing spatial coordinates of `y`.                                                                   \n",
      "\u001b[34mINFO    \u001b[0m Solving `\u001b[1;36m1\u001b[0m` problems                                                                                      \n",
      "\u001b[34mINFO    \u001b[0m Solving problem OTProblem\u001b[1m[\u001b[0m\u001b[33mstage\u001b[0m=\u001b[32m'prepared'\u001b[0m, \u001b[33mshape\u001b[0m=\u001b[1m(\u001b[0m\u001b[1;36m5231\u001b[0m, \u001b[1;36m4768\u001b[0m\u001b[1m)\u001b[0m\u001b[1m]\u001b[0m.                                          \n"
     ]
    },
    {
     "name": "stderr",
     "output_type": "stream",
     "text": [
      " 19%|█████▎                      | 24/128 [04:41<20:48, 12.01s/it]/home/ylu/project/Benchmark_alignment_methods/notebooks/AllenMouseBrain_Zhuang/../../scripts/methods/my_moscot.py:56: ImplicitModificationWarning: Setting element `.obsm['aligned_spatial']` of view, initializing view as actual.\n",
      "  m.obsm[key_added] = m.obsm[spatial_key]\n"
     ]
    },
    {
     "name": "stdout",
     "output_type": "stream",
     "text": [
      "\u001b[34mINFO    \u001b[0m Computing pca with `\u001b[33mn_comps\u001b[0m=\u001b[1;36m30\u001b[0m` for `xy` using `adata.X`                                                  \n",
      "\u001b[34mINFO    \u001b[0m Normalizing spatial coordinates of `x`.                                                                   \n",
      "\u001b[34mINFO    \u001b[0m Normalizing spatial coordinates of `y`.                                                                   \n",
      "\u001b[34mINFO    \u001b[0m Solving `\u001b[1;36m1\u001b[0m` problems                                                                                      \n",
      "\u001b[34mINFO    \u001b[0m Solving problem OTProblem\u001b[1m[\u001b[0m\u001b[33mstage\u001b[0m=\u001b[32m'prepared'\u001b[0m, \u001b[33mshape\u001b[0m=\u001b[1m(\u001b[0m\u001b[1;36m5083\u001b[0m, \u001b[1;36m4916\u001b[0m\u001b[1m)\u001b[0m\u001b[1m]\u001b[0m.                                          \n"
     ]
    },
    {
     "name": "stderr",
     "output_type": "stream",
     "text": [
      " 20%|█████▍                      | 25/128 [04:51<19:34, 11.40s/it]"
     ]
    },
    {
     "name": "stdout",
     "output_type": "stream",
     "text": [
      "\u001b[34mINFO    \u001b[0m Computing pca with `\u001b[33mn_comps\u001b[0m=\u001b[1;36m30\u001b[0m` for `xy` using `adata.X`                                                  \n"
     ]
    },
    {
     "name": "stderr",
     "output_type": "stream",
     "text": [
      "/home/ylu/project/Benchmark_alignment_methods/notebooks/AllenMouseBrain_Zhuang/../../scripts/methods/my_moscot.py:56: ImplicitModificationWarning: Setting element `.obsm['aligned_spatial']` of view, initializing view as actual.\n",
      "  m.obsm[key_added] = m.obsm[spatial_key]\n"
     ]
    },
    {
     "name": "stdout",
     "output_type": "stream",
     "text": [
      "\u001b[34mINFO    \u001b[0m Normalizing spatial coordinates of `x`.                                                                   \n",
      "\u001b[34mINFO    \u001b[0m Normalizing spatial coordinates of `y`.                                                                   \n",
      "\u001b[34mINFO    \u001b[0m Solving `\u001b[1;36m1\u001b[0m` problems                                                                                      \n",
      "\u001b[34mINFO    \u001b[0m Solving problem OTProblem\u001b[1m[\u001b[0m\u001b[33mstage\u001b[0m=\u001b[32m'prepared'\u001b[0m, \u001b[33mshape\u001b[0m=\u001b[1m(\u001b[0m\u001b[1;36m5161\u001b[0m, \u001b[1;36m4838\u001b[0m\u001b[1m)\u001b[0m\u001b[1m]\u001b[0m.                                          \n"
     ]
    },
    {
     "name": "stderr",
     "output_type": "stream",
     "text": [
      " 20%|█████▋                      | 26/128 [05:03<19:14, 11.31s/it]/home/ylu/project/Benchmark_alignment_methods/notebooks/AllenMouseBrain_Zhuang/../../scripts/methods/my_moscot.py:56: ImplicitModificationWarning: Setting element `.obsm['aligned_spatial']` of view, initializing view as actual.\n",
      "  m.obsm[key_added] = m.obsm[spatial_key]\n"
     ]
    },
    {
     "name": "stdout",
     "output_type": "stream",
     "text": [
      "\u001b[34mINFO    \u001b[0m Computing pca with `\u001b[33mn_comps\u001b[0m=\u001b[1;36m30\u001b[0m` for `xy` using `adata.X`                                                  \n",
      "\u001b[34mINFO    \u001b[0m Normalizing spatial coordinates of `x`.                                                                   \n",
      "\u001b[34mINFO    \u001b[0m Normalizing spatial coordinates of `y`.                                                                   \n",
      "\u001b[34mINFO    \u001b[0m Solving `\u001b[1;36m1\u001b[0m` problems                                                                                      \n",
      "\u001b[34mINFO    \u001b[0m Solving problem OTProblem\u001b[1m[\u001b[0m\u001b[33mstage\u001b[0m=\u001b[32m'prepared'\u001b[0m, \u001b[33mshape\u001b[0m=\u001b[1m(\u001b[0m\u001b[1;36m5080\u001b[0m, \u001b[1;36m4919\u001b[0m\u001b[1m)\u001b[0m\u001b[1m]\u001b[0m.                                          \n"
     ]
    },
    {
     "name": "stderr",
     "output_type": "stream",
     "text": [
      " 21%|█████▉                      | 27/128 [05:15<19:37, 11.66s/it]/home/ylu/project/Benchmark_alignment_methods/notebooks/AllenMouseBrain_Zhuang/../../scripts/methods/my_moscot.py:56: ImplicitModificationWarning: Setting element `.obsm['aligned_spatial']` of view, initializing view as actual.\n",
      "  m.obsm[key_added] = m.obsm[spatial_key]\n"
     ]
    },
    {
     "name": "stdout",
     "output_type": "stream",
     "text": [
      "\u001b[34mINFO    \u001b[0m Computing pca with `\u001b[33mn_comps\u001b[0m=\u001b[1;36m30\u001b[0m` for `xy` using `adata.X`                                                  \n",
      "\u001b[34mINFO    \u001b[0m Normalizing spatial coordinates of `x`.                                                                   \n",
      "\u001b[34mINFO    \u001b[0m Normalizing spatial coordinates of `y`.                                                                   \n",
      "\u001b[34mINFO    \u001b[0m Solving `\u001b[1;36m1\u001b[0m` problems                                                                                      \n",
      "\u001b[34mINFO    \u001b[0m Solving problem OTProblem\u001b[1m[\u001b[0m\u001b[33mstage\u001b[0m=\u001b[32m'prepared'\u001b[0m, \u001b[33mshape\u001b[0m=\u001b[1m(\u001b[0m\u001b[1;36m4519\u001b[0m, \u001b[1;36m5480\u001b[0m\u001b[1m)\u001b[0m\u001b[1m]\u001b[0m.                                          \n"
     ]
    },
    {
     "name": "stderr",
     "output_type": "stream",
     "text": [
      " 22%|██████▏                     | 28/128 [05:27<19:21, 11.62s/it]"
     ]
    },
    {
     "name": "stdout",
     "output_type": "stream",
     "text": [
      "\u001b[34mINFO    \u001b[0m Computing pca with `\u001b[33mn_comps\u001b[0m=\u001b[1;36m30\u001b[0m` for `xy` using `adata.X`                                                  \n"
     ]
    },
    {
     "name": "stderr",
     "output_type": "stream",
     "text": [
      "/home/ylu/project/Benchmark_alignment_methods/notebooks/AllenMouseBrain_Zhuang/../../scripts/methods/my_moscot.py:56: ImplicitModificationWarning: Setting element `.obsm['aligned_spatial']` of view, initializing view as actual.\n",
      "  m.obsm[key_added] = m.obsm[spatial_key]\n"
     ]
    },
    {
     "name": "stdout",
     "output_type": "stream",
     "text": [
      "\u001b[34mINFO    \u001b[0m Normalizing spatial coordinates of `x`.                                                                   \n",
      "\u001b[34mINFO    \u001b[0m Normalizing spatial coordinates of `y`.                                                                   \n",
      "\u001b[34mINFO    \u001b[0m Solving `\u001b[1;36m1\u001b[0m` problems                                                                                      \n",
      "\u001b[34mINFO    \u001b[0m Solving problem OTProblem\u001b[1m[\u001b[0m\u001b[33mstage\u001b[0m=\u001b[32m'prepared'\u001b[0m, \u001b[33mshape\u001b[0m=\u001b[1m(\u001b[0m\u001b[1;36m4948\u001b[0m, \u001b[1;36m5051\u001b[0m\u001b[1m)\u001b[0m\u001b[1m]\u001b[0m.                                          \n"
     ]
    },
    {
     "name": "stderr",
     "output_type": "stream",
     "text": [
      " 23%|██████▎                     | 29/128 [05:38<19:18, 11.70s/it]"
     ]
    },
    {
     "name": "stdout",
     "output_type": "stream",
     "text": [
      "\u001b[34mINFO    \u001b[0m Computing pca with `\u001b[33mn_comps\u001b[0m=\u001b[1;36m30\u001b[0m` for `xy` using `adata.X`                                                  \n"
     ]
    },
    {
     "name": "stderr",
     "output_type": "stream",
     "text": [
      "/home/ylu/project/Benchmark_alignment_methods/notebooks/AllenMouseBrain_Zhuang/../../scripts/methods/my_moscot.py:56: ImplicitModificationWarning: Setting element `.obsm['aligned_spatial']` of view, initializing view as actual.\n",
      "  m.obsm[key_added] = m.obsm[spatial_key]\n"
     ]
    },
    {
     "name": "stdout",
     "output_type": "stream",
     "text": [
      "\u001b[34mINFO    \u001b[0m Normalizing spatial coordinates of `x`.                                                                   \n",
      "\u001b[34mINFO    \u001b[0m Normalizing spatial coordinates of `y`.                                                                   \n",
      "\u001b[34mINFO    \u001b[0m Solving `\u001b[1;36m1\u001b[0m` problems                                                                                      \n",
      "\u001b[34mINFO    \u001b[0m Solving problem OTProblem\u001b[1m[\u001b[0m\u001b[33mstage\u001b[0m=\u001b[32m'prepared'\u001b[0m, \u001b[33mshape\u001b[0m=\u001b[1m(\u001b[0m\u001b[1;36m4719\u001b[0m, \u001b[1;36m5280\u001b[0m\u001b[1m)\u001b[0m\u001b[1m]\u001b[0m.                                          \n"
     ]
    },
    {
     "name": "stderr",
     "output_type": "stream",
     "text": [
      " 23%|██████▌                     | 30/128 [05:48<18:16, 11.19s/it]"
     ]
    },
    {
     "name": "stdout",
     "output_type": "stream",
     "text": [
      "\u001b[34mINFO    \u001b[0m Computing pca with `\u001b[33mn_comps\u001b[0m=\u001b[1;36m30\u001b[0m` for `xy` using `adata.X`                                                  \n"
     ]
    },
    {
     "name": "stderr",
     "output_type": "stream",
     "text": [
      "/home/ylu/project/Benchmark_alignment_methods/notebooks/AllenMouseBrain_Zhuang/../../scripts/methods/my_moscot.py:56: ImplicitModificationWarning: Setting element `.obsm['aligned_spatial']` of view, initializing view as actual.\n",
      "  m.obsm[key_added] = m.obsm[spatial_key]\n"
     ]
    },
    {
     "name": "stdout",
     "output_type": "stream",
     "text": [
      "\u001b[34mINFO    \u001b[0m Normalizing spatial coordinates of `x`.                                                                   \n",
      "\u001b[34mINFO    \u001b[0m Normalizing spatial coordinates of `y`.                                                                   \n",
      "\u001b[34mINFO    \u001b[0m Solving `\u001b[1;36m1\u001b[0m` problems                                                                                      \n",
      "\u001b[34mINFO    \u001b[0m Solving problem OTProblem\u001b[1m[\u001b[0m\u001b[33mstage\u001b[0m=\u001b[32m'prepared'\u001b[0m, \u001b[33mshape\u001b[0m=\u001b[1m(\u001b[0m\u001b[1;36m4997\u001b[0m, \u001b[1;36m5002\u001b[0m\u001b[1m)\u001b[0m\u001b[1m]\u001b[0m.                                          \n"
     ]
    },
    {
     "name": "stderr",
     "output_type": "stream",
     "text": [
      " 24%|██████▊                     | 31/128 [05:59<17:56, 11.10s/it]/home/ylu/project/Benchmark_alignment_methods/notebooks/AllenMouseBrain_Zhuang/../../scripts/methods/my_moscot.py:56: ImplicitModificationWarning: Setting element `.obsm['aligned_spatial']` of view, initializing view as actual.\n",
      "  m.obsm[key_added] = m.obsm[spatial_key]\n"
     ]
    },
    {
     "name": "stdout",
     "output_type": "stream",
     "text": [
      "\u001b[34mINFO    \u001b[0m Computing pca with `\u001b[33mn_comps\u001b[0m=\u001b[1;36m30\u001b[0m` for `xy` using `adata.X`                                                  \n",
      "\u001b[34mINFO    \u001b[0m Normalizing spatial coordinates of `x`.                                                                   \n",
      "\u001b[34mINFO    \u001b[0m Normalizing spatial coordinates of `y`.                                                                   \n",
      "\u001b[34mINFO    \u001b[0m Solving `\u001b[1;36m1\u001b[0m` problems                                                                                      \n",
      "\u001b[34mINFO    \u001b[0m Solving problem OTProblem\u001b[1m[\u001b[0m\u001b[33mstage\u001b[0m=\u001b[32m'prepared'\u001b[0m, \u001b[33mshape\u001b[0m=\u001b[1m(\u001b[0m\u001b[1;36m4622\u001b[0m, \u001b[1;36m5377\u001b[0m\u001b[1m)\u001b[0m\u001b[1m]\u001b[0m.                                          \n"
     ]
    },
    {
     "name": "stderr",
     "output_type": "stream",
     "text": [
      " 25%|███████                     | 32/128 [06:10<17:36, 11.00s/it]/home/ylu/project/Benchmark_alignment_methods/notebooks/AllenMouseBrain_Zhuang/../../scripts/methods/my_moscot.py:56: ImplicitModificationWarning: Setting element `.obsm['aligned_spatial']` of view, initializing view as actual.\n",
      "  m.obsm[key_added] = m.obsm[spatial_key]\n"
     ]
    },
    {
     "name": "stdout",
     "output_type": "stream",
     "text": [
      "\u001b[34mINFO    \u001b[0m Computing pca with `\u001b[33mn_comps\u001b[0m=\u001b[1;36m30\u001b[0m` for `xy` using `adata.X`                                                  \n",
      "\u001b[34mINFO    \u001b[0m Normalizing spatial coordinates of `x`.                                                                   \n",
      "\u001b[34mINFO    \u001b[0m Normalizing spatial coordinates of `y`.                                                                   \n",
      "\u001b[34mINFO    \u001b[0m Solving `\u001b[1;36m1\u001b[0m` problems                                                                                      \n",
      "\u001b[34mINFO    \u001b[0m Solving problem OTProblem\u001b[1m[\u001b[0m\u001b[33mstage\u001b[0m=\u001b[32m'prepared'\u001b[0m, \u001b[33mshape\u001b[0m=\u001b[1m(\u001b[0m\u001b[1;36m4984\u001b[0m, \u001b[1;36m5015\u001b[0m\u001b[1m)\u001b[0m\u001b[1m]\u001b[0m.                                          \n"
     ]
    },
    {
     "name": "stderr",
     "output_type": "stream",
     "text": [
      " 26%|███████▏                    | 33/128 [06:21<17:35, 11.11s/it]/home/ylu/project/Benchmark_alignment_methods/notebooks/AllenMouseBrain_Zhuang/../../scripts/methods/my_moscot.py:56: ImplicitModificationWarning: Setting element `.obsm['aligned_spatial']` of view, initializing view as actual.\n",
      "  m.obsm[key_added] = m.obsm[spatial_key]\n"
     ]
    },
    {
     "name": "stdout",
     "output_type": "stream",
     "text": [
      "\u001b[34mINFO    \u001b[0m Computing pca with `\u001b[33mn_comps\u001b[0m=\u001b[1;36m30\u001b[0m` for `xy` using `adata.X`                                                  \n",
      "\u001b[34mINFO    \u001b[0m Normalizing spatial coordinates of `x`.                                                                   \n",
      "\u001b[34mINFO    \u001b[0m Normalizing spatial coordinates of `y`.                                                                   \n",
      "\u001b[34mINFO    \u001b[0m Solving `\u001b[1;36m1\u001b[0m` problems                                                                                      \n",
      "\u001b[34mINFO    \u001b[0m Solving problem OTProblem\u001b[1m[\u001b[0m\u001b[33mstage\u001b[0m=\u001b[32m'prepared'\u001b[0m, \u001b[33mshape\u001b[0m=\u001b[1m(\u001b[0m\u001b[1;36m4690\u001b[0m, \u001b[1;36m5309\u001b[0m\u001b[1m)\u001b[0m\u001b[1m]\u001b[0m.                                          \n"
     ]
    },
    {
     "name": "stderr",
     "output_type": "stream",
     "text": [
      " 27%|███████▍                    | 34/128 [06:32<17:05, 10.91s/it]"
     ]
    },
    {
     "name": "stdout",
     "output_type": "stream",
     "text": [
      "\u001b[34mINFO    \u001b[0m Computing pca with `\u001b[33mn_comps\u001b[0m=\u001b[1;36m30\u001b[0m` for `xy` using `adata.X`                                                  \n"
     ]
    },
    {
     "name": "stderr",
     "output_type": "stream",
     "text": [
      "/home/ylu/project/Benchmark_alignment_methods/notebooks/AllenMouseBrain_Zhuang/../../scripts/methods/my_moscot.py:56: ImplicitModificationWarning: Setting element `.obsm['aligned_spatial']` of view, initializing view as actual.\n",
      "  m.obsm[key_added] = m.obsm[spatial_key]\n"
     ]
    },
    {
     "name": "stdout",
     "output_type": "stream",
     "text": [
      "\u001b[34mINFO    \u001b[0m Normalizing spatial coordinates of `x`.                                                                   \n",
      "\u001b[34mINFO    \u001b[0m Normalizing spatial coordinates of `y`.                                                                   \n",
      "\u001b[34mINFO    \u001b[0m Solving `\u001b[1;36m1\u001b[0m` problems                                                                                      \n",
      "\u001b[34mINFO    \u001b[0m Solving problem OTProblem\u001b[1m[\u001b[0m\u001b[33mstage\u001b[0m=\u001b[32m'prepared'\u001b[0m, \u001b[33mshape\u001b[0m=\u001b[1m(\u001b[0m\u001b[1;36m4895\u001b[0m, \u001b[1;36m5104\u001b[0m\u001b[1m)\u001b[0m\u001b[1m]\u001b[0m.                                          \n"
     ]
    },
    {
     "name": "stderr",
     "output_type": "stream",
     "text": [
      " 27%|███████▋                    | 35/128 [06:42<16:21, 10.55s/it]"
     ]
    },
    {
     "name": "stdout",
     "output_type": "stream",
     "text": [
      "\u001b[34mINFO    \u001b[0m Computing pca with `\u001b[33mn_comps\u001b[0m=\u001b[1;36m30\u001b[0m` for `xy` using `adata.X`                                                  \n"
     ]
    },
    {
     "name": "stderr",
     "output_type": "stream",
     "text": [
      "/home/ylu/project/Benchmark_alignment_methods/notebooks/AllenMouseBrain_Zhuang/../../scripts/methods/my_moscot.py:56: ImplicitModificationWarning: Setting element `.obsm['aligned_spatial']` of view, initializing view as actual.\n",
      "  m.obsm[key_added] = m.obsm[spatial_key]\n"
     ]
    },
    {
     "name": "stdout",
     "output_type": "stream",
     "text": [
      "\u001b[34mINFO    \u001b[0m Normalizing spatial coordinates of `x`.                                                                   \n",
      "\u001b[34mINFO    \u001b[0m Normalizing spatial coordinates of `y`.                                                                   \n",
      "\u001b[34mINFO    \u001b[0m Solving `\u001b[1;36m1\u001b[0m` problems                                                                                      \n",
      "\u001b[34mINFO    \u001b[0m Solving problem OTProblem\u001b[1m[\u001b[0m\u001b[33mstage\u001b[0m=\u001b[32m'prepared'\u001b[0m, \u001b[33mshape\u001b[0m=\u001b[1m(\u001b[0m\u001b[1;36m4664\u001b[0m, \u001b[1;36m5335\u001b[0m\u001b[1m)\u001b[0m\u001b[1m]\u001b[0m.                                          \n"
     ]
    },
    {
     "name": "stderr",
     "output_type": "stream",
     "text": [
      " 28%|███████▉                    | 36/128 [06:53<16:26, 10.72s/it]"
     ]
    },
    {
     "name": "stdout",
     "output_type": "stream",
     "text": [
      "\u001b[34mINFO    \u001b[0m Computing pca with `\u001b[33mn_comps\u001b[0m=\u001b[1;36m30\u001b[0m` for `xy` using `adata.X`                                                  \n"
     ]
    },
    {
     "name": "stderr",
     "output_type": "stream",
     "text": [
      "/home/ylu/project/Benchmark_alignment_methods/notebooks/AllenMouseBrain_Zhuang/../../scripts/methods/my_moscot.py:56: ImplicitModificationWarning: Setting element `.obsm['aligned_spatial']` of view, initializing view as actual.\n",
      "  m.obsm[key_added] = m.obsm[spatial_key]\n"
     ]
    },
    {
     "name": "stdout",
     "output_type": "stream",
     "text": [
      "\u001b[34mINFO    \u001b[0m Normalizing spatial coordinates of `x`.                                                                   \n",
      "\u001b[34mINFO    \u001b[0m Normalizing spatial coordinates of `y`.                                                                   \n",
      "\u001b[34mINFO    \u001b[0m Solving `\u001b[1;36m1\u001b[0m` problems                                                                                      \n",
      "\u001b[34mINFO    \u001b[0m Solving problem OTProblem\u001b[1m[\u001b[0m\u001b[33mstage\u001b[0m=\u001b[32m'prepared'\u001b[0m, \u001b[33mshape\u001b[0m=\u001b[1m(\u001b[0m\u001b[1;36m5055\u001b[0m, \u001b[1;36m4944\u001b[0m\u001b[1m)\u001b[0m\u001b[1m]\u001b[0m.                                          \n"
     ]
    },
    {
     "name": "stderr",
     "output_type": "stream",
     "text": [
      " 29%|████████                    | 37/128 [07:04<16:22, 10.80s/it]/home/ylu/project/Benchmark_alignment_methods/notebooks/AllenMouseBrain_Zhuang/../../scripts/methods/my_moscot.py:56: ImplicitModificationWarning: Setting element `.obsm['aligned_spatial']` of view, initializing view as actual.\n",
      "  m.obsm[key_added] = m.obsm[spatial_key]\n"
     ]
    },
    {
     "name": "stdout",
     "output_type": "stream",
     "text": [
      "\u001b[34mINFO    \u001b[0m Computing pca with `\u001b[33mn_comps\u001b[0m=\u001b[1;36m30\u001b[0m` for `xy` using `adata.X`                                                  \n",
      "\u001b[34mINFO    \u001b[0m Normalizing spatial coordinates of `x`.                                                                   \n",
      "\u001b[34mINFO    \u001b[0m Normalizing spatial coordinates of `y`.                                                                   \n",
      "\u001b[34mINFO    \u001b[0m Solving `\u001b[1;36m1\u001b[0m` problems                                                                                      \n",
      "\u001b[34mINFO    \u001b[0m Solving problem OTProblem\u001b[1m[\u001b[0m\u001b[33mstage\u001b[0m=\u001b[32m'prepared'\u001b[0m, \u001b[33mshape\u001b[0m=\u001b[1m(\u001b[0m\u001b[1;36m4976\u001b[0m, \u001b[1;36m5023\u001b[0m\u001b[1m)\u001b[0m\u001b[1m]\u001b[0m.                                          \n"
     ]
    },
    {
     "name": "stderr",
     "output_type": "stream",
     "text": [
      " 30%|████████▎                   | 38/128 [07:16<17:02, 11.36s/it]/home/ylu/project/Benchmark_alignment_methods/notebooks/AllenMouseBrain_Zhuang/../../scripts/methods/my_moscot.py:56: ImplicitModificationWarning: Setting element `.obsm['aligned_spatial']` of view, initializing view as actual.\n",
      "  m.obsm[key_added] = m.obsm[spatial_key]\n"
     ]
    },
    {
     "name": "stdout",
     "output_type": "stream",
     "text": [
      "\u001b[34mINFO    \u001b[0m Computing pca with `\u001b[33mn_comps\u001b[0m=\u001b[1;36m30\u001b[0m` for `xy` using `adata.X`                                                  \n",
      "\u001b[34mINFO    \u001b[0m Normalizing spatial coordinates of `x`.                                                                   \n",
      "\u001b[34mINFO    \u001b[0m Normalizing spatial coordinates of `y`.                                                                   \n",
      "\u001b[34mINFO    \u001b[0m Solving `\u001b[1;36m1\u001b[0m` problems                                                                                      \n",
      "\u001b[34mINFO    \u001b[0m Solving problem OTProblem\u001b[1m[\u001b[0m\u001b[33mstage\u001b[0m=\u001b[32m'prepared'\u001b[0m, \u001b[33mshape\u001b[0m=\u001b[1m(\u001b[0m\u001b[1;36m4987\u001b[0m, \u001b[1;36m5012\u001b[0m\u001b[1m)\u001b[0m\u001b[1m]\u001b[0m.                                          \n"
     ]
    },
    {
     "name": "stderr",
     "output_type": "stream",
     "text": [
      " 30%|████████▌                   | 39/128 [07:26<16:10, 10.91s/it]"
     ]
    },
    {
     "name": "stdout",
     "output_type": "stream",
     "text": [
      "\u001b[34mINFO    \u001b[0m Computing pca with `\u001b[33mn_comps\u001b[0m=\u001b[1;36m30\u001b[0m` for `xy` using `adata.X`                                                  \n"
     ]
    },
    {
     "name": "stderr",
     "output_type": "stream",
     "text": [
      "/home/ylu/project/Benchmark_alignment_methods/notebooks/AllenMouseBrain_Zhuang/../../scripts/methods/my_moscot.py:56: ImplicitModificationWarning: Setting element `.obsm['aligned_spatial']` of view, initializing view as actual.\n",
      "  m.obsm[key_added] = m.obsm[spatial_key]\n"
     ]
    },
    {
     "name": "stdout",
     "output_type": "stream",
     "text": [
      "\u001b[34mINFO    \u001b[0m Normalizing spatial coordinates of `x`.                                                                   \n",
      "\u001b[34mINFO    \u001b[0m Normalizing spatial coordinates of `y`.                                                                   \n",
      "\u001b[34mINFO    \u001b[0m Solving `\u001b[1;36m1\u001b[0m` problems                                                                                      \n",
      "\u001b[34mINFO    \u001b[0m Solving problem OTProblem\u001b[1m[\u001b[0m\u001b[33mstage\u001b[0m=\u001b[32m'prepared'\u001b[0m, \u001b[33mshape\u001b[0m=\u001b[1m(\u001b[0m\u001b[1;36m4782\u001b[0m, \u001b[1;36m5217\u001b[0m\u001b[1m)\u001b[0m\u001b[1m]\u001b[0m.                                          \n"
     ]
    },
    {
     "name": "stderr",
     "output_type": "stream",
     "text": [
      " 31%|████████▊                   | 40/128 [07:39<16:40, 11.37s/it]"
     ]
    },
    {
     "name": "stdout",
     "output_type": "stream",
     "text": [
      "\u001b[34mINFO    \u001b[0m Computing pca with `\u001b[33mn_comps\u001b[0m=\u001b[1;36m30\u001b[0m` for `xy` using `adata.X`                                                  \n"
     ]
    },
    {
     "name": "stderr",
     "output_type": "stream",
     "text": [
      "/home/ylu/project/Benchmark_alignment_methods/notebooks/AllenMouseBrain_Zhuang/../../scripts/methods/my_moscot.py:56: ImplicitModificationWarning: Setting element `.obsm['aligned_spatial']` of view, initializing view as actual.\n",
      "  m.obsm[key_added] = m.obsm[spatial_key]\n"
     ]
    },
    {
     "name": "stdout",
     "output_type": "stream",
     "text": [
      "\u001b[34mINFO    \u001b[0m Normalizing spatial coordinates of `x`.                                                                   \n",
      "\u001b[34mINFO    \u001b[0m Normalizing spatial coordinates of `y`.                                                                   \n",
      "\u001b[34mINFO    \u001b[0m Solving `\u001b[1;36m1\u001b[0m` problems                                                                                      \n",
      "\u001b[34mINFO    \u001b[0m Solving problem OTProblem\u001b[1m[\u001b[0m\u001b[33mstage\u001b[0m=\u001b[32m'prepared'\u001b[0m, \u001b[33mshape\u001b[0m=\u001b[1m(\u001b[0m\u001b[1;36m5161\u001b[0m, \u001b[1;36m4838\u001b[0m\u001b[1m)\u001b[0m\u001b[1m]\u001b[0m.                                          \n"
     ]
    },
    {
     "name": "stderr",
     "output_type": "stream",
     "text": [
      " 32%|████████▉                   | 41/128 [07:46<14:41, 10.13s/it]"
     ]
    },
    {
     "name": "stdout",
     "output_type": "stream",
     "text": [
      "\u001b[34mINFO    \u001b[0m Computing pca with `\u001b[33mn_comps\u001b[0m=\u001b[1;36m30\u001b[0m` for `xy` using `adata.X`                                                  \n"
     ]
    },
    {
     "name": "stderr",
     "output_type": "stream",
     "text": [
      "/home/ylu/project/Benchmark_alignment_methods/notebooks/AllenMouseBrain_Zhuang/../../scripts/methods/my_moscot.py:56: ImplicitModificationWarning: Setting element `.obsm['aligned_spatial']` of view, initializing view as actual.\n",
      "  m.obsm[key_added] = m.obsm[spatial_key]\n"
     ]
    },
    {
     "name": "stdout",
     "output_type": "stream",
     "text": [
      "\u001b[34mINFO    \u001b[0m Normalizing spatial coordinates of `x`.                                                                   \n",
      "\u001b[34mINFO    \u001b[0m Normalizing spatial coordinates of `y`.                                                                   \n",
      "\u001b[34mINFO    \u001b[0m Solving `\u001b[1;36m1\u001b[0m` problems                                                                                      \n",
      "\u001b[34mINFO    \u001b[0m Solving problem OTProblem\u001b[1m[\u001b[0m\u001b[33mstage\u001b[0m=\u001b[32m'prepared'\u001b[0m, \u001b[33mshape\u001b[0m=\u001b[1m(\u001b[0m\u001b[1;36m4712\u001b[0m, \u001b[1;36m5287\u001b[0m\u001b[1m)\u001b[0m\u001b[1m]\u001b[0m.                                          \n"
     ]
    },
    {
     "name": "stderr",
     "output_type": "stream",
     "text": [
      " 33%|█████████▏                  | 42/128 [07:57<15:07, 10.55s/it]/home/ylu/project/Benchmark_alignment_methods/notebooks/AllenMouseBrain_Zhuang/../../scripts/methods/my_moscot.py:56: ImplicitModificationWarning: Setting element `.obsm['aligned_spatial']` of view, initializing view as actual.\n",
      "  m.obsm[key_added] = m.obsm[spatial_key]\n"
     ]
    },
    {
     "name": "stdout",
     "output_type": "stream",
     "text": [
      "\u001b[34mINFO    \u001b[0m Computing pca with `\u001b[33mn_comps\u001b[0m=\u001b[1;36m30\u001b[0m` for `xy` using `adata.X`                                                  \n",
      "\u001b[34mINFO    \u001b[0m Normalizing spatial coordinates of `x`.                                                                   \n",
      "\u001b[34mINFO    \u001b[0m Normalizing spatial coordinates of `y`.                                                                   \n",
      "\u001b[34mINFO    \u001b[0m Solving `\u001b[1;36m1\u001b[0m` problems                                                                                      \n",
      "\u001b[34mINFO    \u001b[0m Solving problem OTProblem\u001b[1m[\u001b[0m\u001b[33mstage\u001b[0m=\u001b[32m'prepared'\u001b[0m, \u001b[33mshape\u001b[0m=\u001b[1m(\u001b[0m\u001b[1;36m4965\u001b[0m, \u001b[1;36m5034\u001b[0m\u001b[1m)\u001b[0m\u001b[1m]\u001b[0m.                                          \n"
     ]
    },
    {
     "name": "stderr",
     "output_type": "stream",
     "text": [
      " 34%|█████████▍                  | 43/128 [08:07<14:31, 10.25s/it]"
     ]
    },
    {
     "name": "stdout",
     "output_type": "stream",
     "text": [
      "\u001b[34mINFO    \u001b[0m Computing pca with `\u001b[33mn_comps\u001b[0m=\u001b[1;36m30\u001b[0m` for `xy` using `adata.X`                                                  \n"
     ]
    },
    {
     "name": "stderr",
     "output_type": "stream",
     "text": [
      "/home/ylu/project/Benchmark_alignment_methods/notebooks/AllenMouseBrain_Zhuang/../../scripts/methods/my_moscot.py:56: ImplicitModificationWarning: Setting element `.obsm['aligned_spatial']` of view, initializing view as actual.\n",
      "  m.obsm[key_added] = m.obsm[spatial_key]\n"
     ]
    },
    {
     "name": "stdout",
     "output_type": "stream",
     "text": [
      "\u001b[34mINFO    \u001b[0m Normalizing spatial coordinates of `x`.                                                                   \n",
      "\u001b[34mINFO    \u001b[0m Normalizing spatial coordinates of `y`.                                                                   \n",
      "\u001b[34mINFO    \u001b[0m Solving `\u001b[1;36m1\u001b[0m` problems                                                                                      \n",
      "\u001b[34mINFO    \u001b[0m Solving problem OTProblem\u001b[1m[\u001b[0m\u001b[33mstage\u001b[0m=\u001b[32m'prepared'\u001b[0m, \u001b[33mshape\u001b[0m=\u001b[1m(\u001b[0m\u001b[1;36m4931\u001b[0m, \u001b[1;36m5068\u001b[0m\u001b[1m)\u001b[0m\u001b[1m]\u001b[0m.                                          \n"
     ]
    },
    {
     "name": "stderr",
     "output_type": "stream",
     "text": [
      " 34%|█████████▋                  | 44/128 [08:19<15:14, 10.88s/it]/home/ylu/project/Benchmark_alignment_methods/notebooks/AllenMouseBrain_Zhuang/../../scripts/methods/my_moscot.py:56: ImplicitModificationWarning: Setting element `.obsm['aligned_spatial']` of view, initializing view as actual.\n",
      "  m.obsm[key_added] = m.obsm[spatial_key]\n"
     ]
    },
    {
     "name": "stdout",
     "output_type": "stream",
     "text": [
      "\u001b[34mINFO    \u001b[0m Computing pca with `\u001b[33mn_comps\u001b[0m=\u001b[1;36m30\u001b[0m` for `xy` using `adata.X`                                                  \n",
      "\u001b[34mINFO    \u001b[0m Normalizing spatial coordinates of `x`.                                                                   \n",
      "\u001b[34mINFO    \u001b[0m Normalizing spatial coordinates of `y`.                                                                   \n",
      "\u001b[34mINFO    \u001b[0m Solving `\u001b[1;36m1\u001b[0m` problems                                                                                      \n",
      "\u001b[34mINFO    \u001b[0m Solving problem OTProblem\u001b[1m[\u001b[0m\u001b[33mstage\u001b[0m=\u001b[32m'prepared'\u001b[0m, \u001b[33mshape\u001b[0m=\u001b[1m(\u001b[0m\u001b[1;36m5055\u001b[0m, \u001b[1;36m4944\u001b[0m\u001b[1m)\u001b[0m\u001b[1m]\u001b[0m.                                          \n"
     ]
    },
    {
     "name": "stderr",
     "output_type": "stream",
     "text": [
      " 35%|█████████▊                  | 45/128 [08:26<13:13,  9.56s/it]"
     ]
    },
    {
     "name": "stdout",
     "output_type": "stream",
     "text": [
      "\u001b[34mINFO    \u001b[0m Computing pca with `\u001b[33mn_comps\u001b[0m=\u001b[1;36m30\u001b[0m` for `xy` using `adata.X`                                                  \n"
     ]
    },
    {
     "name": "stderr",
     "output_type": "stream",
     "text": [
      "/home/ylu/project/Benchmark_alignment_methods/notebooks/AllenMouseBrain_Zhuang/../../scripts/methods/my_moscot.py:56: ImplicitModificationWarning: Setting element `.obsm['aligned_spatial']` of view, initializing view as actual.\n",
      "  m.obsm[key_added] = m.obsm[spatial_key]\n"
     ]
    },
    {
     "name": "stdout",
     "output_type": "stream",
     "text": [
      "\u001b[34mINFO    \u001b[0m Normalizing spatial coordinates of `x`.                                                                   \n",
      "\u001b[34mINFO    \u001b[0m Normalizing spatial coordinates of `y`.                                                                   \n",
      "\u001b[34mINFO    \u001b[0m Solving `\u001b[1;36m1\u001b[0m` problems                                                                                      \n",
      "\u001b[34mINFO    \u001b[0m Solving problem OTProblem\u001b[1m[\u001b[0m\u001b[33mstage\u001b[0m=\u001b[32m'prepared'\u001b[0m, \u001b[33mshape\u001b[0m=\u001b[1m(\u001b[0m\u001b[1;36m5198\u001b[0m, \u001b[1;36m4801\u001b[0m\u001b[1m)\u001b[0m\u001b[1m]\u001b[0m.                                          \n"
     ]
    },
    {
     "name": "stderr",
     "output_type": "stream",
     "text": [
      " 36%|██████████                  | 46/128 [08:37<13:37,  9.97s/it]"
     ]
    },
    {
     "name": "stdout",
     "output_type": "stream",
     "text": [
      "\u001b[34mINFO    \u001b[0m Computing pca with `\u001b[33mn_comps\u001b[0m=\u001b[1;36m30\u001b[0m` for `xy` using `adata.X`                                                  \n"
     ]
    },
    {
     "name": "stderr",
     "output_type": "stream",
     "text": [
      "/home/ylu/project/Benchmark_alignment_methods/notebooks/AllenMouseBrain_Zhuang/../../scripts/methods/my_moscot.py:56: ImplicitModificationWarning: Setting element `.obsm['aligned_spatial']` of view, initializing view as actual.\n",
      "  m.obsm[key_added] = m.obsm[spatial_key]\n"
     ]
    },
    {
     "name": "stdout",
     "output_type": "stream",
     "text": [
      "\u001b[34mINFO    \u001b[0m Normalizing spatial coordinates of `x`.                                                                   \n",
      "\u001b[34mINFO    \u001b[0m Normalizing spatial coordinates of `y`.                                                                   \n",
      "\u001b[34mINFO    \u001b[0m Solving `\u001b[1;36m1\u001b[0m` problems                                                                                      \n",
      "\u001b[34mINFO    \u001b[0m Solving problem OTProblem\u001b[1m[\u001b[0m\u001b[33mstage\u001b[0m=\u001b[32m'prepared'\u001b[0m, \u001b[33mshape\u001b[0m=\u001b[1m(\u001b[0m\u001b[1;36m4770\u001b[0m, \u001b[1;36m5229\u001b[0m\u001b[1m)\u001b[0m\u001b[1m]\u001b[0m.                                          \n"
     ]
    },
    {
     "name": "stderr",
     "output_type": "stream",
     "text": [
      " 37%|██████████▎                 | 47/128 [08:49<14:19, 10.61s/it]"
     ]
    },
    {
     "name": "stdout",
     "output_type": "stream",
     "text": [
      "\u001b[34mINFO    \u001b[0m Computing pca with `\u001b[33mn_comps\u001b[0m=\u001b[1;36m30\u001b[0m` for `xy` using `adata.X`                                                  \n"
     ]
    },
    {
     "name": "stderr",
     "output_type": "stream",
     "text": [
      "/home/ylu/project/Benchmark_alignment_methods/notebooks/AllenMouseBrain_Zhuang/../../scripts/methods/my_moscot.py:56: ImplicitModificationWarning: Setting element `.obsm['aligned_spatial']` of view, initializing view as actual.\n",
      "  m.obsm[key_added] = m.obsm[spatial_key]\n"
     ]
    },
    {
     "name": "stdout",
     "output_type": "stream",
     "text": [
      "\u001b[34mINFO    \u001b[0m Normalizing spatial coordinates of `x`.                                                                   \n",
      "\u001b[34mINFO    \u001b[0m Normalizing spatial coordinates of `y`.                                                                   \n",
      "\u001b[34mINFO    \u001b[0m Solving `\u001b[1;36m1\u001b[0m` problems                                                                                      \n",
      "\u001b[34mINFO    \u001b[0m Solving problem OTProblem\u001b[1m[\u001b[0m\u001b[33mstage\u001b[0m=\u001b[32m'prepared'\u001b[0m, \u001b[33mshape\u001b[0m=\u001b[1m(\u001b[0m\u001b[1;36m4913\u001b[0m, \u001b[1;36m5086\u001b[0m\u001b[1m)\u001b[0m\u001b[1m]\u001b[0m.                                          \n"
     ]
    },
    {
     "name": "stderr",
     "output_type": "stream",
     "text": [
      " 38%|██████████▌                 | 48/128 [09:02<15:16, 11.46s/it]"
     ]
    },
    {
     "name": "stdout",
     "output_type": "stream",
     "text": [
      "\u001b[34mINFO    \u001b[0m Computing pca with `\u001b[33mn_comps\u001b[0m=\u001b[1;36m30\u001b[0m` for `xy` using `adata.X`                                                  \n"
     ]
    },
    {
     "name": "stderr",
     "output_type": "stream",
     "text": [
      "/home/ylu/project/Benchmark_alignment_methods/notebooks/AllenMouseBrain_Zhuang/../../scripts/methods/my_moscot.py:56: ImplicitModificationWarning: Setting element `.obsm['aligned_spatial']` of view, initializing view as actual.\n",
      "  m.obsm[key_added] = m.obsm[spatial_key]\n"
     ]
    },
    {
     "name": "stdout",
     "output_type": "stream",
     "text": [
      "\u001b[34mINFO    \u001b[0m Normalizing spatial coordinates of `x`.                                                                   \n",
      "\u001b[34mINFO    \u001b[0m Normalizing spatial coordinates of `y`.                                                                   \n",
      "\u001b[34mINFO    \u001b[0m Solving `\u001b[1;36m1\u001b[0m` problems                                                                                      \n",
      "\u001b[34mINFO    \u001b[0m Solving problem OTProblem\u001b[1m[\u001b[0m\u001b[33mstage\u001b[0m=\u001b[32m'prepared'\u001b[0m, \u001b[33mshape\u001b[0m=\u001b[1m(\u001b[0m\u001b[1;36m5048\u001b[0m, \u001b[1;36m4951\u001b[0m\u001b[1m)\u001b[0m\u001b[1m]\u001b[0m.                                          \n"
     ]
    },
    {
     "name": "stderr",
     "output_type": "stream",
     "text": [
      " 38%|██████████▋                 | 49/128 [09:13<14:45, 11.21s/it]"
     ]
    },
    {
     "name": "stdout",
     "output_type": "stream",
     "text": [
      "\u001b[34mINFO    \u001b[0m Computing pca with `\u001b[33mn_comps\u001b[0m=\u001b[1;36m30\u001b[0m` for `xy` using `adata.X`                                                  \n"
     ]
    },
    {
     "name": "stderr",
     "output_type": "stream",
     "text": [
      "/home/ylu/project/Benchmark_alignment_methods/notebooks/AllenMouseBrain_Zhuang/../../scripts/methods/my_moscot.py:56: ImplicitModificationWarning: Setting element `.obsm['aligned_spatial']` of view, initializing view as actual.\n",
      "  m.obsm[key_added] = m.obsm[spatial_key]\n"
     ]
    },
    {
     "name": "stdout",
     "output_type": "stream",
     "text": [
      "\u001b[34mINFO    \u001b[0m Normalizing spatial coordinates of `x`.                                                                   \n",
      "\u001b[34mINFO    \u001b[0m Normalizing spatial coordinates of `y`.                                                                   \n",
      "\u001b[34mINFO    \u001b[0m Solving `\u001b[1;36m1\u001b[0m` problems                                                                                      \n",
      "\u001b[34mINFO    \u001b[0m Solving problem OTProblem\u001b[1m[\u001b[0m\u001b[33mstage\u001b[0m=\u001b[32m'prepared'\u001b[0m, \u001b[33mshape\u001b[0m=\u001b[1m(\u001b[0m\u001b[1;36m4801\u001b[0m, \u001b[1;36m5198\u001b[0m\u001b[1m)\u001b[0m\u001b[1m]\u001b[0m.                                          \n"
     ]
    },
    {
     "name": "stderr",
     "output_type": "stream",
     "text": [
      " 39%|██████████▉                 | 50/128 [09:23<14:14, 10.96s/it]"
     ]
    },
    {
     "name": "stdout",
     "output_type": "stream",
     "text": [
      "\u001b[34mINFO    \u001b[0m Computing pca with `\u001b[33mn_comps\u001b[0m=\u001b[1;36m30\u001b[0m` for `xy` using `adata.X`                                                  \n"
     ]
    },
    {
     "name": "stderr",
     "output_type": "stream",
     "text": [
      "/home/ylu/project/Benchmark_alignment_methods/notebooks/AllenMouseBrain_Zhuang/../../scripts/methods/my_moscot.py:56: ImplicitModificationWarning: Setting element `.obsm['aligned_spatial']` of view, initializing view as actual.\n",
      "  m.obsm[key_added] = m.obsm[spatial_key]\n"
     ]
    },
    {
     "name": "stdout",
     "output_type": "stream",
     "text": [
      "\u001b[34mINFO    \u001b[0m Normalizing spatial coordinates of `x`.                                                                   \n",
      "\u001b[34mINFO    \u001b[0m Normalizing spatial coordinates of `y`.                                                                   \n",
      "\u001b[34mINFO    \u001b[0m Solving `\u001b[1;36m1\u001b[0m` problems                                                                                      \n",
      "\u001b[34mINFO    \u001b[0m Solving problem OTProblem\u001b[1m[\u001b[0m\u001b[33mstage\u001b[0m=\u001b[32m'prepared'\u001b[0m, \u001b[33mshape\u001b[0m=\u001b[1m(\u001b[0m\u001b[1;36m4978\u001b[0m, \u001b[1;36m5021\u001b[0m\u001b[1m)\u001b[0m\u001b[1m]\u001b[0m.                                          \n"
     ]
    },
    {
     "name": "stderr",
     "output_type": "stream",
     "text": [
      " 40%|███████████▏                | 51/128 [09:35<14:19, 11.16s/it]"
     ]
    },
    {
     "name": "stdout",
     "output_type": "stream",
     "text": [
      "\u001b[34mINFO    \u001b[0m Computing pca with `\u001b[33mn_comps\u001b[0m=\u001b[1;36m30\u001b[0m` for `xy` using `adata.X`                                                  \n"
     ]
    },
    {
     "name": "stderr",
     "output_type": "stream",
     "text": [
      "/home/ylu/project/Benchmark_alignment_methods/notebooks/AllenMouseBrain_Zhuang/../../scripts/methods/my_moscot.py:56: ImplicitModificationWarning: Setting element `.obsm['aligned_spatial']` of view, initializing view as actual.\n",
      "  m.obsm[key_added] = m.obsm[spatial_key]\n"
     ]
    },
    {
     "name": "stdout",
     "output_type": "stream",
     "text": [
      "\u001b[34mINFO    \u001b[0m Normalizing spatial coordinates of `x`.                                                                   \n",
      "\u001b[34mINFO    \u001b[0m Normalizing spatial coordinates of `y`.                                                                   \n",
      "\u001b[34mINFO    \u001b[0m Solving `\u001b[1;36m1\u001b[0m` problems                                                                                      \n",
      "\u001b[34mINFO    \u001b[0m Solving problem OTProblem\u001b[1m[\u001b[0m\u001b[33mstage\u001b[0m=\u001b[32m'prepared'\u001b[0m, \u001b[33mshape\u001b[0m=\u001b[1m(\u001b[0m\u001b[1;36m4815\u001b[0m, \u001b[1;36m5184\u001b[0m\u001b[1m)\u001b[0m\u001b[1m]\u001b[0m.                                          \n"
     ]
    },
    {
     "name": "stderr",
     "output_type": "stream",
     "text": [
      " 41%|███████████▍                | 52/128 [09:46<14:11, 11.20s/it]"
     ]
    },
    {
     "name": "stdout",
     "output_type": "stream",
     "text": [
      "\u001b[34mINFO    \u001b[0m Computing pca with `\u001b[33mn_comps\u001b[0m=\u001b[1;36m30\u001b[0m` for `xy` using `adata.X`                                                  \n"
     ]
    },
    {
     "name": "stderr",
     "output_type": "stream",
     "text": [
      "/home/ylu/project/Benchmark_alignment_methods/notebooks/AllenMouseBrain_Zhuang/../../scripts/methods/my_moscot.py:56: ImplicitModificationWarning: Setting element `.obsm['aligned_spatial']` of view, initializing view as actual.\n",
      "  m.obsm[key_added] = m.obsm[spatial_key]\n"
     ]
    },
    {
     "name": "stdout",
     "output_type": "stream",
     "text": [
      "\u001b[34mINFO    \u001b[0m Normalizing spatial coordinates of `x`.                                                                   \n",
      "\u001b[34mINFO    \u001b[0m Normalizing spatial coordinates of `y`.                                                                   \n",
      "\u001b[34mINFO    \u001b[0m Solving `\u001b[1;36m1\u001b[0m` problems                                                                                      \n",
      "\u001b[34mINFO    \u001b[0m Solving problem OTProblem\u001b[1m[\u001b[0m\u001b[33mstage\u001b[0m=\u001b[32m'prepared'\u001b[0m, \u001b[33mshape\u001b[0m=\u001b[1m(\u001b[0m\u001b[1;36m5234\u001b[0m, \u001b[1;36m4765\u001b[0m\u001b[1m)\u001b[0m\u001b[1m]\u001b[0m.                                          \n"
     ]
    },
    {
     "name": "stderr",
     "output_type": "stream",
     "text": [
      " 41%|███████████▌                | 53/128 [09:59<14:25, 11.54s/it]"
     ]
    },
    {
     "name": "stdout",
     "output_type": "stream",
     "text": [
      "\u001b[34mINFO    \u001b[0m Computing pca with `\u001b[33mn_comps\u001b[0m=\u001b[1;36m30\u001b[0m` for `xy` using `adata.X`                                                  \n"
     ]
    },
    {
     "name": "stderr",
     "output_type": "stream",
     "text": [
      "/home/ylu/project/Benchmark_alignment_methods/notebooks/AllenMouseBrain_Zhuang/../../scripts/methods/my_moscot.py:56: ImplicitModificationWarning: Setting element `.obsm['aligned_spatial']` of view, initializing view as actual.\n",
      "  m.obsm[key_added] = m.obsm[spatial_key]\n"
     ]
    },
    {
     "name": "stdout",
     "output_type": "stream",
     "text": [
      "\u001b[34mINFO    \u001b[0m Normalizing spatial coordinates of `x`.                                                                   \n",
      "\u001b[34mINFO    \u001b[0m Normalizing spatial coordinates of `y`.                                                                   \n",
      "\u001b[34mINFO    \u001b[0m Solving `\u001b[1;36m1\u001b[0m` problems                                                                                      \n",
      "\u001b[34mINFO    \u001b[0m Solving problem OTProblem\u001b[1m[\u001b[0m\u001b[33mstage\u001b[0m=\u001b[32m'prepared'\u001b[0m, \u001b[33mshape\u001b[0m=\u001b[1m(\u001b[0m\u001b[1;36m4655\u001b[0m, \u001b[1;36m5344\u001b[0m\u001b[1m)\u001b[0m\u001b[1m]\u001b[0m.                                          \n"
     ]
    },
    {
     "name": "stderr",
     "output_type": "stream",
     "text": [
      " 42%|███████████▊                | 54/128 [10:09<13:54, 11.28s/it]/home/ylu/project/Benchmark_alignment_methods/notebooks/AllenMouseBrain_Zhuang/../../scripts/methods/my_moscot.py:56: ImplicitModificationWarning: Setting element `.obsm['aligned_spatial']` of view, initializing view as actual.\n",
      "  m.obsm[key_added] = m.obsm[spatial_key]\n"
     ]
    },
    {
     "name": "stdout",
     "output_type": "stream",
     "text": [
      "\u001b[34mINFO    \u001b[0m Computing pca with `\u001b[33mn_comps\u001b[0m=\u001b[1;36m30\u001b[0m` for `xy` using `adata.X`                                                  \n",
      "\u001b[34mINFO    \u001b[0m Normalizing spatial coordinates of `x`.                                                                   \n",
      "\u001b[34mINFO    \u001b[0m Normalizing spatial coordinates of `y`.                                                                   \n",
      "\u001b[34mINFO    \u001b[0m Solving `\u001b[1;36m1\u001b[0m` problems                                                                                      \n",
      "\u001b[34mINFO    \u001b[0m Solving problem OTProblem\u001b[1m[\u001b[0m\u001b[33mstage\u001b[0m=\u001b[32m'prepared'\u001b[0m, \u001b[33mshape\u001b[0m=\u001b[1m(\u001b[0m\u001b[1;36m5087\u001b[0m, \u001b[1;36m4912\u001b[0m\u001b[1m)\u001b[0m\u001b[1m]\u001b[0m.                                          \n"
     ]
    },
    {
     "name": "stderr",
     "output_type": "stream",
     "text": [
      " 43%|████████████                | 55/128 [10:19<13:13, 10.87s/it]"
     ]
    },
    {
     "name": "stdout",
     "output_type": "stream",
     "text": [
      "\u001b[34mINFO    \u001b[0m Computing pca with `\u001b[33mn_comps\u001b[0m=\u001b[1;36m30\u001b[0m` for `xy` using `adata.X`                                                  \n"
     ]
    },
    {
     "name": "stderr",
     "output_type": "stream",
     "text": [
      "/home/ylu/project/Benchmark_alignment_methods/notebooks/AllenMouseBrain_Zhuang/../../scripts/methods/my_moscot.py:56: ImplicitModificationWarning: Setting element `.obsm['aligned_spatial']` of view, initializing view as actual.\n",
      "  m.obsm[key_added] = m.obsm[spatial_key]\n"
     ]
    },
    {
     "name": "stdout",
     "output_type": "stream",
     "text": [
      "\u001b[34mINFO    \u001b[0m Normalizing spatial coordinates of `x`.                                                                   \n",
      "\u001b[34mINFO    \u001b[0m Normalizing spatial coordinates of `y`.                                                                   \n",
      "\u001b[34mINFO    \u001b[0m Solving `\u001b[1;36m1\u001b[0m` problems                                                                                      \n",
      "\u001b[34mINFO    \u001b[0m Solving problem OTProblem\u001b[1m[\u001b[0m\u001b[33mstage\u001b[0m=\u001b[32m'prepared'\u001b[0m, \u001b[33mshape\u001b[0m=\u001b[1m(\u001b[0m\u001b[1;36m5252\u001b[0m, \u001b[1;36m4747\u001b[0m\u001b[1m)\u001b[0m\u001b[1m]\u001b[0m.                                          \n"
     ]
    },
    {
     "name": "stderr",
     "output_type": "stream",
     "text": [
      " 44%|████████████▎               | 56/128 [10:32<13:35, 11.32s/it]"
     ]
    },
    {
     "name": "stdout",
     "output_type": "stream",
     "text": [
      "\u001b[34mINFO    \u001b[0m Computing pca with `\u001b[33mn_comps\u001b[0m=\u001b[1;36m30\u001b[0m` for `xy` using `adata.X`                                                  \n"
     ]
    },
    {
     "name": "stderr",
     "output_type": "stream",
     "text": [
      "/home/ylu/project/Benchmark_alignment_methods/notebooks/AllenMouseBrain_Zhuang/../../scripts/methods/my_moscot.py:56: ImplicitModificationWarning: Setting element `.obsm['aligned_spatial']` of view, initializing view as actual.\n",
      "  m.obsm[key_added] = m.obsm[spatial_key]\n"
     ]
    },
    {
     "name": "stdout",
     "output_type": "stream",
     "text": [
      "\u001b[34mINFO    \u001b[0m Normalizing spatial coordinates of `x`.                                                                   \n",
      "\u001b[34mINFO    \u001b[0m Normalizing spatial coordinates of `y`.                                                                   \n",
      "\u001b[34mINFO    \u001b[0m Solving `\u001b[1;36m1\u001b[0m` problems                                                                                      \n",
      "\u001b[34mINFO    \u001b[0m Solving problem OTProblem\u001b[1m[\u001b[0m\u001b[33mstage\u001b[0m=\u001b[32m'prepared'\u001b[0m, \u001b[33mshape\u001b[0m=\u001b[1m(\u001b[0m\u001b[1;36m4927\u001b[0m, \u001b[1;36m5072\u001b[0m\u001b[1m)\u001b[0m\u001b[1m]\u001b[0m.                                          \n"
     ]
    },
    {
     "name": "stderr",
     "output_type": "stream",
     "text": [
      " 45%|████████████▍               | 57/128 [10:42<12:58, 10.96s/it]"
     ]
    },
    {
     "name": "stdout",
     "output_type": "stream",
     "text": [
      "\u001b[34mINFO    \u001b[0m Computing pca with `\u001b[33mn_comps\u001b[0m=\u001b[1;36m30\u001b[0m` for `xy` using `adata.X`                                                  \n"
     ]
    },
    {
     "name": "stderr",
     "output_type": "stream",
     "text": [
      "/home/ylu/project/Benchmark_alignment_methods/notebooks/AllenMouseBrain_Zhuang/../../scripts/methods/my_moscot.py:56: ImplicitModificationWarning: Setting element `.obsm['aligned_spatial']` of view, initializing view as actual.\n",
      "  m.obsm[key_added] = m.obsm[spatial_key]\n"
     ]
    },
    {
     "name": "stdout",
     "output_type": "stream",
     "text": [
      "\u001b[34mINFO    \u001b[0m Normalizing spatial coordinates of `x`.                                                                   \n",
      "\u001b[34mINFO    \u001b[0m Normalizing spatial coordinates of `y`.                                                                   \n",
      "\u001b[34mINFO    \u001b[0m Solving `\u001b[1;36m1\u001b[0m` problems                                                                                      \n",
      "\u001b[34mINFO    \u001b[0m Solving problem OTProblem\u001b[1m[\u001b[0m\u001b[33mstage\u001b[0m=\u001b[32m'prepared'\u001b[0m, \u001b[33mshape\u001b[0m=\u001b[1m(\u001b[0m\u001b[1;36m4958\u001b[0m, \u001b[1;36m5041\u001b[0m\u001b[1m)\u001b[0m\u001b[1m]\u001b[0m.                                          \n"
     ]
    },
    {
     "name": "stderr",
     "output_type": "stream",
     "text": [
      " 45%|████████████▋               | 58/128 [10:52<12:25, 10.66s/it]/home/ylu/project/Benchmark_alignment_methods/notebooks/AllenMouseBrain_Zhuang/../../scripts/methods/my_moscot.py:56: ImplicitModificationWarning: Setting element `.obsm['aligned_spatial']` of view, initializing view as actual.\n",
      "  m.obsm[key_added] = m.obsm[spatial_key]\n"
     ]
    },
    {
     "name": "stdout",
     "output_type": "stream",
     "text": [
      "\u001b[34mINFO    \u001b[0m Computing pca with `\u001b[33mn_comps\u001b[0m=\u001b[1;36m30\u001b[0m` for `xy` using `adata.X`                                                  \n",
      "\u001b[34mINFO    \u001b[0m Normalizing spatial coordinates of `x`.                                                                   \n",
      "\u001b[34mINFO    \u001b[0m Normalizing spatial coordinates of `y`.                                                                   \n",
      "\u001b[34mINFO    \u001b[0m Solving `\u001b[1;36m1\u001b[0m` problems                                                                                      \n",
      "\u001b[34mINFO    \u001b[0m Solving problem OTProblem\u001b[1m[\u001b[0m\u001b[33mstage\u001b[0m=\u001b[32m'prepared'\u001b[0m, \u001b[33mshape\u001b[0m=\u001b[1m(\u001b[0m\u001b[1;36m5309\u001b[0m, \u001b[1;36m4690\u001b[0m\u001b[1m)\u001b[0m\u001b[1m]\u001b[0m.                                          \n"
     ]
    },
    {
     "name": "stderr",
     "output_type": "stream",
     "text": [
      " 46%|████████████▉               | 59/128 [11:00<11:37, 10.11s/it]"
     ]
    },
    {
     "name": "stdout",
     "output_type": "stream",
     "text": [
      "\u001b[34mINFO    \u001b[0m Computing pca with `\u001b[33mn_comps\u001b[0m=\u001b[1;36m30\u001b[0m` for `xy` using `adata.X`                                                  \n"
     ]
    },
    {
     "name": "stderr",
     "output_type": "stream",
     "text": [
      "/home/ylu/project/Benchmark_alignment_methods/notebooks/AllenMouseBrain_Zhuang/../../scripts/methods/my_moscot.py:56: ImplicitModificationWarning: Setting element `.obsm['aligned_spatial']` of view, initializing view as actual.\n",
      "  m.obsm[key_added] = m.obsm[spatial_key]\n"
     ]
    },
    {
     "name": "stdout",
     "output_type": "stream",
     "text": [
      "\u001b[34mINFO    \u001b[0m Normalizing spatial coordinates of `x`.                                                                   \n",
      "\u001b[34mINFO    \u001b[0m Normalizing spatial coordinates of `y`.                                                                   \n",
      "\u001b[34mINFO    \u001b[0m Solving `\u001b[1;36m1\u001b[0m` problems                                                                                      \n",
      "\u001b[34mINFO    \u001b[0m Solving problem OTProblem\u001b[1m[\u001b[0m\u001b[33mstage\u001b[0m=\u001b[32m'prepared'\u001b[0m, \u001b[33mshape\u001b[0m=\u001b[1m(\u001b[0m\u001b[1;36m4815\u001b[0m, \u001b[1;36m5184\u001b[0m\u001b[1m)\u001b[0m\u001b[1m]\u001b[0m.                                          \n"
     ]
    },
    {
     "name": "stderr",
     "output_type": "stream",
     "text": [
      " 47%|█████████████▏              | 60/128 [11:07<10:12,  9.00s/it]/home/ylu/project/Benchmark_alignment_methods/notebooks/AllenMouseBrain_Zhuang/../../scripts/methods/my_moscot.py:56: ImplicitModificationWarning: Setting element `.obsm['aligned_spatial']` of view, initializing view as actual.\n",
      "  m.obsm[key_added] = m.obsm[spatial_key]\n"
     ]
    },
    {
     "name": "stdout",
     "output_type": "stream",
     "text": [
      "\u001b[34mINFO    \u001b[0m Computing pca with `\u001b[33mn_comps\u001b[0m=\u001b[1;36m30\u001b[0m` for `xy` using `adata.X`                                                  \n",
      "\u001b[34mINFO    \u001b[0m Normalizing spatial coordinates of `x`.                                                                   \n",
      "\u001b[34mINFO    \u001b[0m Normalizing spatial coordinates of `y`.                                                                   \n",
      "\u001b[34mINFO    \u001b[0m Solving `\u001b[1;36m1\u001b[0m` problems                                                                                      \n",
      "\u001b[34mINFO    \u001b[0m Solving problem OTProblem\u001b[1m[\u001b[0m\u001b[33mstage\u001b[0m=\u001b[32m'prepared'\u001b[0m, \u001b[33mshape\u001b[0m=\u001b[1m(\u001b[0m\u001b[1;36m4449\u001b[0m, \u001b[1;36m5550\u001b[0m\u001b[1m)\u001b[0m\u001b[1m]\u001b[0m.                                          \n"
     ]
    },
    {
     "name": "stderr",
     "output_type": "stream",
     "text": [
      " 48%|█████████████▎              | 61/128 [11:17<10:27,  9.37s/it]/home/ylu/project/Benchmark_alignment_methods/notebooks/AllenMouseBrain_Zhuang/../../scripts/methods/my_moscot.py:56: ImplicitModificationWarning: Setting element `.obsm['aligned_spatial']` of view, initializing view as actual.\n",
      "  m.obsm[key_added] = m.obsm[spatial_key]\n"
     ]
    },
    {
     "name": "stdout",
     "output_type": "stream",
     "text": [
      "\u001b[34mINFO    \u001b[0m Computing pca with `\u001b[33mn_comps\u001b[0m=\u001b[1;36m30\u001b[0m` for `xy` using `adata.X`                                                  \n",
      "\u001b[34mINFO    \u001b[0m Normalizing spatial coordinates of `x`.                                                                   \n",
      "\u001b[34mINFO    \u001b[0m Normalizing spatial coordinates of `y`.                                                                   \n",
      "\u001b[34mINFO    \u001b[0m Solving `\u001b[1;36m1\u001b[0m` problems                                                                                      \n",
      "\u001b[34mINFO    \u001b[0m Solving problem OTProblem\u001b[1m[\u001b[0m\u001b[33mstage\u001b[0m=\u001b[32m'prepared'\u001b[0m, \u001b[33mshape\u001b[0m=\u001b[1m(\u001b[0m\u001b[1;36m5631\u001b[0m, \u001b[1;36m4368\u001b[0m\u001b[1m)\u001b[0m\u001b[1m]\u001b[0m.                                          \n"
     ]
    },
    {
     "name": "stderr",
     "output_type": "stream",
     "text": [
      " 48%|█████████████▌              | 62/128 [11:27<10:23,  9.45s/it]/home/ylu/project/Benchmark_alignment_methods/notebooks/AllenMouseBrain_Zhuang/../../scripts/methods/my_moscot.py:56: ImplicitModificationWarning: Setting element `.obsm['aligned_spatial']` of view, initializing view as actual.\n",
      "  m.obsm[key_added] = m.obsm[spatial_key]\n"
     ]
    },
    {
     "name": "stdout",
     "output_type": "stream",
     "text": [
      "\u001b[34mINFO    \u001b[0m Computing pca with `\u001b[33mn_comps\u001b[0m=\u001b[1;36m30\u001b[0m` for `xy` using `adata.X`                                                  \n",
      "\u001b[34mINFO    \u001b[0m Normalizing spatial coordinates of `x`.                                                                   \n",
      "\u001b[34mINFO    \u001b[0m Normalizing spatial coordinates of `y`.                                                                   \n",
      "\u001b[34mINFO    \u001b[0m Solving `\u001b[1;36m1\u001b[0m` problems                                                                                      \n",
      "\u001b[34mINFO    \u001b[0m Solving problem OTProblem\u001b[1m[\u001b[0m\u001b[33mstage\u001b[0m=\u001b[32m'prepared'\u001b[0m, \u001b[33mshape\u001b[0m=\u001b[1m(\u001b[0m\u001b[1;36m4394\u001b[0m, \u001b[1;36m5605\u001b[0m\u001b[1m)\u001b[0m\u001b[1m]\u001b[0m.                                          \n"
     ]
    },
    {
     "name": "stderr",
     "output_type": "stream",
     "text": [
      " 49%|█████████████▊              | 63/128 [11:37<10:29,  9.69s/it]"
     ]
    },
    {
     "name": "stdout",
     "output_type": "stream",
     "text": [
      "\u001b[34mINFO    \u001b[0m Computing pca with `\u001b[33mn_comps\u001b[0m=\u001b[1;36m30\u001b[0m` for `xy` using `adata.X`                                                  \n"
     ]
    },
    {
     "name": "stderr",
     "output_type": "stream",
     "text": [
      "/home/ylu/project/Benchmark_alignment_methods/notebooks/AllenMouseBrain_Zhuang/../../scripts/methods/my_moscot.py:56: ImplicitModificationWarning: Setting element `.obsm['aligned_spatial']` of view, initializing view as actual.\n",
      "  m.obsm[key_added] = m.obsm[spatial_key]\n"
     ]
    },
    {
     "name": "stdout",
     "output_type": "stream",
     "text": [
      "\u001b[34mINFO    \u001b[0m Normalizing spatial coordinates of `x`.                                                                   \n",
      "\u001b[34mINFO    \u001b[0m Normalizing spatial coordinates of `y`.                                                                   \n",
      "\u001b[34mINFO    \u001b[0m Solving `\u001b[1;36m1\u001b[0m` problems                                                                                      \n",
      "\u001b[34mINFO    \u001b[0m Solving problem OTProblem\u001b[1m[\u001b[0m\u001b[33mstage\u001b[0m=\u001b[32m'prepared'\u001b[0m, \u001b[33mshape\u001b[0m=\u001b[1m(\u001b[0m\u001b[1;36m5356\u001b[0m, \u001b[1;36m4643\u001b[0m\u001b[1m)\u001b[0m\u001b[1m]\u001b[0m.                                          \n"
     ]
    },
    {
     "name": "stderr",
     "output_type": "stream",
     "text": [
      " 50%|██████████████              | 64/128 [11:47<10:34,  9.91s/it]"
     ]
    },
    {
     "name": "stdout",
     "output_type": "stream",
     "text": [
      "\u001b[34mINFO    \u001b[0m Computing pca with `\u001b[33mn_comps\u001b[0m=\u001b[1;36m30\u001b[0m` for `xy` using `adata.X`                                                  \n"
     ]
    },
    {
     "name": "stderr",
     "output_type": "stream",
     "text": [
      "/home/ylu/project/Benchmark_alignment_methods/notebooks/AllenMouseBrain_Zhuang/../../scripts/methods/my_moscot.py:56: ImplicitModificationWarning: Setting element `.obsm['aligned_spatial']` of view, initializing view as actual.\n",
      "  m.obsm[key_added] = m.obsm[spatial_key]\n"
     ]
    },
    {
     "name": "stdout",
     "output_type": "stream",
     "text": [
      "\u001b[34mINFO    \u001b[0m Normalizing spatial coordinates of `x`.                                                                   \n",
      "\u001b[34mINFO    \u001b[0m Normalizing spatial coordinates of `y`.                                                                   \n",
      "\u001b[34mINFO    \u001b[0m Solving `\u001b[1;36m1\u001b[0m` problems                                                                                      \n",
      "\u001b[34mINFO    \u001b[0m Solving problem OTProblem\u001b[1m[\u001b[0m\u001b[33mstage\u001b[0m=\u001b[32m'prepared'\u001b[0m, \u001b[33mshape\u001b[0m=\u001b[1m(\u001b[0m\u001b[1;36m4779\u001b[0m, \u001b[1;36m5220\u001b[0m\u001b[1m)\u001b[0m\u001b[1m]\u001b[0m.                                          \n"
     ]
    },
    {
     "name": "stderr",
     "output_type": "stream",
     "text": [
      " 51%|██████████████▏             | 65/128 [12:02<11:46, 11.21s/it]/home/ylu/project/Benchmark_alignment_methods/notebooks/AllenMouseBrain_Zhuang/../../scripts/methods/my_moscot.py:56: ImplicitModificationWarning: Setting element `.obsm['aligned_spatial']` of view, initializing view as actual.\n",
      "  m.obsm[key_added] = m.obsm[spatial_key]\n"
     ]
    },
    {
     "name": "stdout",
     "output_type": "stream",
     "text": [
      "\u001b[34mINFO    \u001b[0m Computing pca with `\u001b[33mn_comps\u001b[0m=\u001b[1;36m30\u001b[0m` for `xy` using `adata.X`                                                  \n",
      "\u001b[34mINFO    \u001b[0m Normalizing spatial coordinates of `x`.                                                                   \n",
      "\u001b[34mINFO    \u001b[0m Normalizing spatial coordinates of `y`.                                                                   \n",
      "\u001b[34mINFO    \u001b[0m Solving `\u001b[1;36m1\u001b[0m` problems                                                                                      \n",
      "\u001b[34mINFO    \u001b[0m Solving problem OTProblem\u001b[1m[\u001b[0m\u001b[33mstage\u001b[0m=\u001b[32m'prepared'\u001b[0m, \u001b[33mshape\u001b[0m=\u001b[1m(\u001b[0m\u001b[1;36m4938\u001b[0m, \u001b[1;36m5061\u001b[0m\u001b[1m)\u001b[0m\u001b[1m]\u001b[0m.                                          \n"
     ]
    },
    {
     "name": "stderr",
     "output_type": "stream",
     "text": [
      " 52%|██████████████▍             | 66/128 [12:14<12:03, 11.67s/it]"
     ]
    },
    {
     "name": "stdout",
     "output_type": "stream",
     "text": [
      "\u001b[34mINFO    \u001b[0m Computing pca with `\u001b[33mn_comps\u001b[0m=\u001b[1;36m30\u001b[0m` for `xy` using `adata.X`                                                  \n"
     ]
    },
    {
     "name": "stderr",
     "output_type": "stream",
     "text": [
      "/home/ylu/project/Benchmark_alignment_methods/notebooks/AllenMouseBrain_Zhuang/../../scripts/methods/my_moscot.py:56: ImplicitModificationWarning: Setting element `.obsm['aligned_spatial']` of view, initializing view as actual.\n",
      "  m.obsm[key_added] = m.obsm[spatial_key]\n"
     ]
    },
    {
     "name": "stdout",
     "output_type": "stream",
     "text": [
      "\u001b[34mINFO    \u001b[0m Normalizing spatial coordinates of `x`.                                                                   \n",
      "\u001b[34mINFO    \u001b[0m Normalizing spatial coordinates of `y`.                                                                   \n",
      "\u001b[34mINFO    \u001b[0m Solving `\u001b[1;36m1\u001b[0m` problems                                                                                      \n",
      "\u001b[34mINFO    \u001b[0m Solving problem OTProblem\u001b[1m[\u001b[0m\u001b[33mstage\u001b[0m=\u001b[32m'prepared'\u001b[0m, \u001b[33mshape\u001b[0m=\u001b[1m(\u001b[0m\u001b[1;36m4914\u001b[0m, \u001b[1;36m5085\u001b[0m\u001b[1m)\u001b[0m\u001b[1m]\u001b[0m.                                          \n"
     ]
    },
    {
     "name": "stderr",
     "output_type": "stream",
     "text": [
      " 52%|██████████████▋             | 67/128 [12:25<11:37, 11.44s/it]"
     ]
    },
    {
     "name": "stdout",
     "output_type": "stream",
     "text": [
      "\u001b[34mINFO    \u001b[0m Computing pca with `\u001b[33mn_comps\u001b[0m=\u001b[1;36m30\u001b[0m` for `xy` using `adata.X`                                                  \n"
     ]
    },
    {
     "name": "stderr",
     "output_type": "stream",
     "text": [
      "/home/ylu/project/Benchmark_alignment_methods/notebooks/AllenMouseBrain_Zhuang/../../scripts/methods/my_moscot.py:56: ImplicitModificationWarning: Setting element `.obsm['aligned_spatial']` of view, initializing view as actual.\n",
      "  m.obsm[key_added] = m.obsm[spatial_key]\n"
     ]
    },
    {
     "name": "stdout",
     "output_type": "stream",
     "text": [
      "\u001b[34mINFO    \u001b[0m Normalizing spatial coordinates of `x`.                                                                   \n",
      "\u001b[34mINFO    \u001b[0m Normalizing spatial coordinates of `y`.                                                                   \n",
      "\u001b[34mINFO    \u001b[0m Solving `\u001b[1;36m1\u001b[0m` problems                                                                                      \n",
      "\u001b[34mINFO    \u001b[0m Solving problem OTProblem\u001b[1m[\u001b[0m\u001b[33mstage\u001b[0m=\u001b[32m'prepared'\u001b[0m, \u001b[33mshape\u001b[0m=\u001b[1m(\u001b[0m\u001b[1;36m5023\u001b[0m, \u001b[1;36m4976\u001b[0m\u001b[1m)\u001b[0m\u001b[1m]\u001b[0m.                                          \n"
     ]
    },
    {
     "name": "stderr",
     "output_type": "stream",
     "text": [
      " 53%|██████████████▉             | 68/128 [12:36<11:20, 11.34s/it]/home/ylu/project/Benchmark_alignment_methods/notebooks/AllenMouseBrain_Zhuang/../../scripts/methods/my_moscot.py:56: ImplicitModificationWarning: Setting element `.obsm['aligned_spatial']` of view, initializing view as actual.\n",
      "  m.obsm[key_added] = m.obsm[spatial_key]\n"
     ]
    },
    {
     "name": "stdout",
     "output_type": "stream",
     "text": [
      "\u001b[34mINFO    \u001b[0m Computing pca with `\u001b[33mn_comps\u001b[0m=\u001b[1;36m30\u001b[0m` for `xy` using `adata.X`                                                  \n",
      "\u001b[34mINFO    \u001b[0m Normalizing spatial coordinates of `x`.                                                                   \n",
      "\u001b[34mINFO    \u001b[0m Normalizing spatial coordinates of `y`.                                                                   \n",
      "\u001b[34mINFO    \u001b[0m Solving `\u001b[1;36m1\u001b[0m` problems                                                                                      \n",
      "\u001b[34mINFO    \u001b[0m Solving problem OTProblem\u001b[1m[\u001b[0m\u001b[33mstage\u001b[0m=\u001b[32m'prepared'\u001b[0m, \u001b[33mshape\u001b[0m=\u001b[1m(\u001b[0m\u001b[1;36m4759\u001b[0m, \u001b[1;36m5240\u001b[0m\u001b[1m)\u001b[0m\u001b[1m]\u001b[0m.                                          \n"
     ]
    },
    {
     "name": "stderr",
     "output_type": "stream",
     "text": [
      " 54%|███████████████             | 69/128 [12:46<10:46, 10.96s/it]"
     ]
    },
    {
     "name": "stdout",
     "output_type": "stream",
     "text": [
      "\u001b[34mINFO    \u001b[0m Computing pca with `\u001b[33mn_comps\u001b[0m=\u001b[1;36m30\u001b[0m` for `xy` using `adata.X`                                                  \n"
     ]
    },
    {
     "name": "stderr",
     "output_type": "stream",
     "text": [
      "/home/ylu/project/Benchmark_alignment_methods/notebooks/AllenMouseBrain_Zhuang/../../scripts/methods/my_moscot.py:56: ImplicitModificationWarning: Setting element `.obsm['aligned_spatial']` of view, initializing view as actual.\n",
      "  m.obsm[key_added] = m.obsm[spatial_key]\n"
     ]
    },
    {
     "name": "stdout",
     "output_type": "stream",
     "text": [
      "\u001b[34mINFO    \u001b[0m Normalizing spatial coordinates of `x`.                                                                   \n",
      "\u001b[34mINFO    \u001b[0m Normalizing spatial coordinates of `y`.                                                                   \n",
      "\u001b[34mINFO    \u001b[0m Solving `\u001b[1;36m1\u001b[0m` problems                                                                                      \n",
      "\u001b[34mINFO    \u001b[0m Solving problem OTProblem\u001b[1m[\u001b[0m\u001b[33mstage\u001b[0m=\u001b[32m'prepared'\u001b[0m, \u001b[33mshape\u001b[0m=\u001b[1m(\u001b[0m\u001b[1;36m5048\u001b[0m, \u001b[1;36m4951\u001b[0m\u001b[1m)\u001b[0m\u001b[1m]\u001b[0m.                                          \n"
     ]
    },
    {
     "name": "stderr",
     "output_type": "stream",
     "text": [
      " 55%|███████████████▎            | 70/128 [12:53<09:25,  9.74s/it]/home/ylu/project/Benchmark_alignment_methods/notebooks/AllenMouseBrain_Zhuang/../../scripts/methods/my_moscot.py:56: ImplicitModificationWarning: Setting element `.obsm['aligned_spatial']` of view, initializing view as actual.\n",
      "  m.obsm[key_added] = m.obsm[spatial_key]\n"
     ]
    },
    {
     "name": "stdout",
     "output_type": "stream",
     "text": [
      "\u001b[34mINFO    \u001b[0m Computing pca with `\u001b[33mn_comps\u001b[0m=\u001b[1;36m30\u001b[0m` for `xy` using `adata.X`                                                  \n",
      "\u001b[34mINFO    \u001b[0m Normalizing spatial coordinates of `x`.                                                                   \n",
      "\u001b[34mINFO    \u001b[0m Normalizing spatial coordinates of `y`.                                                                   \n",
      "\u001b[34mINFO    \u001b[0m Solving `\u001b[1;36m1\u001b[0m` problems                                                                                      \n",
      "\u001b[34mINFO    \u001b[0m Solving problem OTProblem\u001b[1m[\u001b[0m\u001b[33mstage\u001b[0m=\u001b[32m'prepared'\u001b[0m, \u001b[33mshape\u001b[0m=\u001b[1m(\u001b[0m\u001b[1;36m5426\u001b[0m, \u001b[1;36m4573\u001b[0m\u001b[1m)\u001b[0m\u001b[1m]\u001b[0m.                                          \n"
     ]
    },
    {
     "name": "stderr",
     "output_type": "stream",
     "text": [
      " 55%|███████████████▌            | 71/128 [13:03<09:14,  9.72s/it]"
     ]
    },
    {
     "name": "stdout",
     "output_type": "stream",
     "text": [
      "\u001b[34mINFO    \u001b[0m Computing pca with `\u001b[33mn_comps\u001b[0m=\u001b[1;36m30\u001b[0m` for `xy` using `adata.X`                                                  \n"
     ]
    },
    {
     "name": "stderr",
     "output_type": "stream",
     "text": [
      "/home/ylu/project/Benchmark_alignment_methods/notebooks/AllenMouseBrain_Zhuang/../../scripts/methods/my_moscot.py:56: ImplicitModificationWarning: Setting element `.obsm['aligned_spatial']` of view, initializing view as actual.\n",
      "  m.obsm[key_added] = m.obsm[spatial_key]\n"
     ]
    },
    {
     "name": "stdout",
     "output_type": "stream",
     "text": [
      "\u001b[34mINFO    \u001b[0m Normalizing spatial coordinates of `x`.                                                                   \n",
      "\u001b[34mINFO    \u001b[0m Normalizing spatial coordinates of `y`.                                                                   \n",
      "\u001b[34mINFO    \u001b[0m Solving `\u001b[1;36m1\u001b[0m` problems                                                                                      \n",
      "\u001b[34mINFO    \u001b[0m Solving problem OTProblem\u001b[1m[\u001b[0m\u001b[33mstage\u001b[0m=\u001b[32m'prepared'\u001b[0m, \u001b[33mshape\u001b[0m=\u001b[1m(\u001b[0m\u001b[1;36m4604\u001b[0m, \u001b[1;36m5395\u001b[0m\u001b[1m)\u001b[0m\u001b[1m]\u001b[0m.                                          \n"
     ]
    },
    {
     "name": "stderr",
     "output_type": "stream",
     "text": [
      " 56%|███████████████▊            | 72/128 [13:14<09:22, 10.04s/it]"
     ]
    },
    {
     "name": "stdout",
     "output_type": "stream",
     "text": [
      "\u001b[34mINFO    \u001b[0m Computing pca with `\u001b[33mn_comps\u001b[0m=\u001b[1;36m30\u001b[0m` for `xy` using `adata.X`                                                  \n"
     ]
    },
    {
     "name": "stderr",
     "output_type": "stream",
     "text": [
      "/home/ylu/project/Benchmark_alignment_methods/notebooks/AllenMouseBrain_Zhuang/../../scripts/methods/my_moscot.py:56: ImplicitModificationWarning: Setting element `.obsm['aligned_spatial']` of view, initializing view as actual.\n",
      "  m.obsm[key_added] = m.obsm[spatial_key]\n"
     ]
    },
    {
     "name": "stdout",
     "output_type": "stream",
     "text": [
      "\u001b[34mINFO    \u001b[0m Normalizing spatial coordinates of `x`.                                                                   \n",
      "\u001b[34mINFO    \u001b[0m Normalizing spatial coordinates of `y`.                                                                   \n",
      "\u001b[34mINFO    \u001b[0m Solving `\u001b[1;36m1\u001b[0m` problems                                                                                      \n",
      "\u001b[34mINFO    \u001b[0m Solving problem OTProblem\u001b[1m[\u001b[0m\u001b[33mstage\u001b[0m=\u001b[32m'prepared'\u001b[0m, \u001b[33mshape\u001b[0m=\u001b[1m(\u001b[0m\u001b[1;36m5307\u001b[0m, \u001b[1;36m4692\u001b[0m\u001b[1m)\u001b[0m\u001b[1m]\u001b[0m.                                          \n"
     ]
    },
    {
     "name": "stderr",
     "output_type": "stream",
     "text": [
      " 57%|███████████████▉            | 73/128 [13:23<09:01,  9.85s/it]"
     ]
    },
    {
     "name": "stdout",
     "output_type": "stream",
     "text": [
      "\u001b[34mINFO    \u001b[0m Computing pca with `\u001b[33mn_comps\u001b[0m=\u001b[1;36m30\u001b[0m` for `xy` using `adata.X`                                                  \n"
     ]
    },
    {
     "name": "stderr",
     "output_type": "stream",
     "text": [
      "/home/ylu/project/Benchmark_alignment_methods/notebooks/AllenMouseBrain_Zhuang/../../scripts/methods/my_moscot.py:56: ImplicitModificationWarning: Setting element `.obsm['aligned_spatial']` of view, initializing view as actual.\n",
      "  m.obsm[key_added] = m.obsm[spatial_key]\n"
     ]
    },
    {
     "name": "stdout",
     "output_type": "stream",
     "text": [
      "\u001b[34mINFO    \u001b[0m Normalizing spatial coordinates of `x`.                                                                   \n",
      "\u001b[34mINFO    \u001b[0m Normalizing spatial coordinates of `y`.                                                                   \n",
      "\u001b[34mINFO    \u001b[0m Solving `\u001b[1;36m1\u001b[0m` problems                                                                                      \n",
      "\u001b[34mINFO    \u001b[0m Solving problem OTProblem\u001b[1m[\u001b[0m\u001b[33mstage\u001b[0m=\u001b[32m'prepared'\u001b[0m, \u001b[33mshape\u001b[0m=\u001b[1m(\u001b[0m\u001b[1;36m4843\u001b[0m, \u001b[1;36m5156\u001b[0m\u001b[1m)\u001b[0m\u001b[1m]\u001b[0m.                                          \n"
     ]
    },
    {
     "name": "stderr",
     "output_type": "stream",
     "text": [
      " 58%|████████████████▏           | 74/128 [13:32<08:38,  9.61s/it]"
     ]
    },
    {
     "name": "stdout",
     "output_type": "stream",
     "text": [
      "\u001b[34mINFO    \u001b[0m Computing pca with `\u001b[33mn_comps\u001b[0m=\u001b[1;36m30\u001b[0m` for `xy` using `adata.X`                                                  \n"
     ]
    },
    {
     "name": "stderr",
     "output_type": "stream",
     "text": [
      "/home/ylu/project/Benchmark_alignment_methods/notebooks/AllenMouseBrain_Zhuang/../../scripts/methods/my_moscot.py:56: ImplicitModificationWarning: Setting element `.obsm['aligned_spatial']` of view, initializing view as actual.\n",
      "  m.obsm[key_added] = m.obsm[spatial_key]\n"
     ]
    },
    {
     "name": "stdout",
     "output_type": "stream",
     "text": [
      "\u001b[34mINFO    \u001b[0m Normalizing spatial coordinates of `x`.                                                                   \n",
      "\u001b[34mINFO    \u001b[0m Normalizing spatial coordinates of `y`.                                                                   \n",
      "\u001b[34mINFO    \u001b[0m Solving `\u001b[1;36m1\u001b[0m` problems                                                                                      \n",
      "\u001b[34mINFO    \u001b[0m Solving problem OTProblem\u001b[1m[\u001b[0m\u001b[33mstage\u001b[0m=\u001b[32m'prepared'\u001b[0m, \u001b[33mshape\u001b[0m=\u001b[1m(\u001b[0m\u001b[1;36m4957\u001b[0m, \u001b[1;36m5042\u001b[0m\u001b[1m)\u001b[0m\u001b[1m]\u001b[0m.                                          \n"
     ]
    },
    {
     "name": "stderr",
     "output_type": "stream",
     "text": [
      " 59%|████████████████▍           | 75/128 [13:46<09:38, 10.92s/it]"
     ]
    },
    {
     "name": "stdout",
     "output_type": "stream",
     "text": [
      "\u001b[34mINFO    \u001b[0m Computing pca with `\u001b[33mn_comps\u001b[0m=\u001b[1;36m30\u001b[0m` for `xy` using `adata.X`                                                  \n"
     ]
    },
    {
     "name": "stderr",
     "output_type": "stream",
     "text": [
      "/home/ylu/project/Benchmark_alignment_methods/notebooks/AllenMouseBrain_Zhuang/../../scripts/methods/my_moscot.py:56: ImplicitModificationWarning: Setting element `.obsm['aligned_spatial']` of view, initializing view as actual.\n",
      "  m.obsm[key_added] = m.obsm[spatial_key]\n"
     ]
    },
    {
     "name": "stdout",
     "output_type": "stream",
     "text": [
      "\u001b[34mINFO    \u001b[0m Normalizing spatial coordinates of `x`.                                                                   \n",
      "\u001b[34mINFO    \u001b[0m Normalizing spatial coordinates of `y`.                                                                   \n",
      "\u001b[34mINFO    \u001b[0m Solving `\u001b[1;36m1\u001b[0m` problems                                                                                      \n",
      "\u001b[34mINFO    \u001b[0m Solving problem OTProblem\u001b[1m[\u001b[0m\u001b[33mstage\u001b[0m=\u001b[32m'prepared'\u001b[0m, \u001b[33mshape\u001b[0m=\u001b[1m(\u001b[0m\u001b[1;36m5260\u001b[0m, \u001b[1;36m4739\u001b[0m\u001b[1m)\u001b[0m\u001b[1m]\u001b[0m.                                          \n"
     ]
    },
    {
     "name": "stderr",
     "output_type": "stream",
     "text": [
      " 59%|████████████████▋           | 76/128 [13:58<09:43, 11.22s/it]"
     ]
    },
    {
     "name": "stdout",
     "output_type": "stream",
     "text": [
      "\u001b[34mINFO    \u001b[0m Computing pca with `\u001b[33mn_comps\u001b[0m=\u001b[1;36m30\u001b[0m` for `xy` using `adata.X`                                                  \n"
     ]
    },
    {
     "name": "stderr",
     "output_type": "stream",
     "text": [
      "/home/ylu/project/Benchmark_alignment_methods/notebooks/AllenMouseBrain_Zhuang/../../scripts/methods/my_moscot.py:56: ImplicitModificationWarning: Setting element `.obsm['aligned_spatial']` of view, initializing view as actual.\n",
      "  m.obsm[key_added] = m.obsm[spatial_key]\n"
     ]
    },
    {
     "name": "stdout",
     "output_type": "stream",
     "text": [
      "\u001b[34mINFO    \u001b[0m Normalizing spatial coordinates of `x`.                                                                   \n",
      "\u001b[34mINFO    \u001b[0m Normalizing spatial coordinates of `y`.                                                                   \n",
      "\u001b[34mINFO    \u001b[0m Solving `\u001b[1;36m1\u001b[0m` problems                                                                                      \n",
      "\u001b[34mINFO    \u001b[0m Solving problem OTProblem\u001b[1m[\u001b[0m\u001b[33mstage\u001b[0m=\u001b[32m'prepared'\u001b[0m, \u001b[33mshape\u001b[0m=\u001b[1m(\u001b[0m\u001b[1;36m4943\u001b[0m, \u001b[1;36m5056\u001b[0m\u001b[1m)\u001b[0m\u001b[1m]\u001b[0m.                                          \n"
     ]
    },
    {
     "name": "stderr",
     "output_type": "stream",
     "text": [
      " 60%|████████████████▊           | 77/128 [14:10<09:34, 11.27s/it]"
     ]
    },
    {
     "name": "stdout",
     "output_type": "stream",
     "text": [
      "\u001b[34mINFO    \u001b[0m Computing pca with `\u001b[33mn_comps\u001b[0m=\u001b[1;36m30\u001b[0m` for `xy` using `adata.X`                                                  \n"
     ]
    },
    {
     "name": "stderr",
     "output_type": "stream",
     "text": [
      "/home/ylu/project/Benchmark_alignment_methods/notebooks/AllenMouseBrain_Zhuang/../../scripts/methods/my_moscot.py:56: ImplicitModificationWarning: Setting element `.obsm['aligned_spatial']` of view, initializing view as actual.\n",
      "  m.obsm[key_added] = m.obsm[spatial_key]\n"
     ]
    },
    {
     "name": "stdout",
     "output_type": "stream",
     "text": [
      "\u001b[34mINFO    \u001b[0m Normalizing spatial coordinates of `x`.                                                                   \n",
      "\u001b[34mINFO    \u001b[0m Normalizing spatial coordinates of `y`.                                                                   \n",
      "\u001b[34mINFO    \u001b[0m Solving `\u001b[1;36m1\u001b[0m` problems                                                                                      \n",
      "\u001b[34mINFO    \u001b[0m Solving problem OTProblem\u001b[1m[\u001b[0m\u001b[33mstage\u001b[0m=\u001b[32m'prepared'\u001b[0m, \u001b[33mshape\u001b[0m=\u001b[1m(\u001b[0m\u001b[1;36m5133\u001b[0m, \u001b[1;36m4866\u001b[0m\u001b[1m)\u001b[0m\u001b[1m]\u001b[0m.                                          \n"
     ]
    },
    {
     "name": "stderr",
     "output_type": "stream",
     "text": [
      " 61%|█████████████████           | 78/128 [14:20<09:04, 10.89s/it]"
     ]
    },
    {
     "name": "stdout",
     "output_type": "stream",
     "text": [
      "\u001b[34mINFO    \u001b[0m Computing pca with `\u001b[33mn_comps\u001b[0m=\u001b[1;36m30\u001b[0m` for `xy` using `adata.X`                                                  \n"
     ]
    },
    {
     "name": "stderr",
     "output_type": "stream",
     "text": [
      "/home/ylu/project/Benchmark_alignment_methods/notebooks/AllenMouseBrain_Zhuang/../../scripts/methods/my_moscot.py:56: ImplicitModificationWarning: Setting element `.obsm['aligned_spatial']` of view, initializing view as actual.\n",
      "  m.obsm[key_added] = m.obsm[spatial_key]\n"
     ]
    },
    {
     "name": "stdout",
     "output_type": "stream",
     "text": [
      "\u001b[34mINFO    \u001b[0m Normalizing spatial coordinates of `x`.                                                                   \n",
      "\u001b[34mINFO    \u001b[0m Normalizing spatial coordinates of `y`.                                                                   \n",
      "\u001b[34mINFO    \u001b[0m Solving `\u001b[1;36m1\u001b[0m` problems                                                                                      \n",
      "\u001b[34mINFO    \u001b[0m Solving problem OTProblem\u001b[1m[\u001b[0m\u001b[33mstage\u001b[0m=\u001b[32m'prepared'\u001b[0m, \u001b[33mshape\u001b[0m=\u001b[1m(\u001b[0m\u001b[1;36m4778\u001b[0m, \u001b[1;36m5221\u001b[0m\u001b[1m)\u001b[0m\u001b[1m]\u001b[0m.                                          \n"
     ]
    },
    {
     "name": "stderr",
     "output_type": "stream",
     "text": [
      " 62%|█████████████████▎          | 79/128 [14:30<08:52, 10.86s/it]"
     ]
    },
    {
     "name": "stdout",
     "output_type": "stream",
     "text": [
      "\u001b[34mINFO    \u001b[0m Computing pca with `\u001b[33mn_comps\u001b[0m=\u001b[1;36m30\u001b[0m` for `xy` using `adata.X`                                                  \n"
     ]
    },
    {
     "name": "stderr",
     "output_type": "stream",
     "text": [
      "/home/ylu/project/Benchmark_alignment_methods/notebooks/AllenMouseBrain_Zhuang/../../scripts/methods/my_moscot.py:56: ImplicitModificationWarning: Setting element `.obsm['aligned_spatial']` of view, initializing view as actual.\n",
      "  m.obsm[key_added] = m.obsm[spatial_key]\n"
     ]
    },
    {
     "name": "stdout",
     "output_type": "stream",
     "text": [
      "\u001b[34mINFO    \u001b[0m Normalizing spatial coordinates of `x`.                                                                   \n",
      "\u001b[34mINFO    \u001b[0m Normalizing spatial coordinates of `y`.                                                                   \n",
      "\u001b[34mINFO    \u001b[0m Solving `\u001b[1;36m1\u001b[0m` problems                                                                                      \n",
      "\u001b[34mINFO    \u001b[0m Solving problem OTProblem\u001b[1m[\u001b[0m\u001b[33mstage\u001b[0m=\u001b[32m'prepared'\u001b[0m, \u001b[33mshape\u001b[0m=\u001b[1m(\u001b[0m\u001b[1;36m5137\u001b[0m, \u001b[1;36m4862\u001b[0m\u001b[1m)\u001b[0m\u001b[1m]\u001b[0m.                                          \n"
     ]
    },
    {
     "name": "stderr",
     "output_type": "stream",
     "text": [
      " 62%|█████████████████▌          | 80/128 [14:41<08:33, 10.69s/it]"
     ]
    },
    {
     "name": "stdout",
     "output_type": "stream",
     "text": [
      "\u001b[34mINFO    \u001b[0m Computing pca with `\u001b[33mn_comps\u001b[0m=\u001b[1;36m30\u001b[0m` for `xy` using `adata.X`                                                  \n"
     ]
    },
    {
     "name": "stderr",
     "output_type": "stream",
     "text": [
      "/home/ylu/project/Benchmark_alignment_methods/notebooks/AllenMouseBrain_Zhuang/../../scripts/methods/my_moscot.py:56: ImplicitModificationWarning: Setting element `.obsm['aligned_spatial']` of view, initializing view as actual.\n",
      "  m.obsm[key_added] = m.obsm[spatial_key]\n"
     ]
    },
    {
     "name": "stdout",
     "output_type": "stream",
     "text": [
      "\u001b[34mINFO    \u001b[0m Normalizing spatial coordinates of `x`.                                                                   \n",
      "\u001b[34mINFO    \u001b[0m Normalizing spatial coordinates of `y`.                                                                   \n",
      "\u001b[34mINFO    \u001b[0m Solving `\u001b[1;36m1\u001b[0m` problems                                                                                      \n",
      "\u001b[34mINFO    \u001b[0m Solving problem OTProblem\u001b[1m[\u001b[0m\u001b[33mstage\u001b[0m=\u001b[32m'prepared'\u001b[0m, \u001b[33mshape\u001b[0m=\u001b[1m(\u001b[0m\u001b[1;36m5020\u001b[0m, \u001b[1;36m4979\u001b[0m\u001b[1m)\u001b[0m\u001b[1m]\u001b[0m.                                          \n"
     ]
    },
    {
     "name": "stderr",
     "output_type": "stream",
     "text": [
      " 63%|█████████████████▋          | 81/128 [14:51<08:18, 10.60s/it]"
     ]
    },
    {
     "name": "stdout",
     "output_type": "stream",
     "text": [
      "\u001b[34mINFO    \u001b[0m Computing pca with `\u001b[33mn_comps\u001b[0m=\u001b[1;36m30\u001b[0m` for `xy` using `adata.X`                                                  \n"
     ]
    },
    {
     "name": "stderr",
     "output_type": "stream",
     "text": [
      "/home/ylu/project/Benchmark_alignment_methods/notebooks/AllenMouseBrain_Zhuang/../../scripts/methods/my_moscot.py:56: ImplicitModificationWarning: Setting element `.obsm['aligned_spatial']` of view, initializing view as actual.\n",
      "  m.obsm[key_added] = m.obsm[spatial_key]\n"
     ]
    },
    {
     "name": "stdout",
     "output_type": "stream",
     "text": [
      "\u001b[34mINFO    \u001b[0m Normalizing spatial coordinates of `x`.                                                                   \n",
      "\u001b[34mINFO    \u001b[0m Normalizing spatial coordinates of `y`.                                                                   \n",
      "\u001b[34mINFO    \u001b[0m Solving `\u001b[1;36m1\u001b[0m` problems                                                                                      \n",
      "\u001b[34mINFO    \u001b[0m Solving problem OTProblem\u001b[1m[\u001b[0m\u001b[33mstage\u001b[0m=\u001b[32m'prepared'\u001b[0m, \u001b[33mshape\u001b[0m=\u001b[1m(\u001b[0m\u001b[1;36m5132\u001b[0m, \u001b[1;36m4867\u001b[0m\u001b[1m)\u001b[0m\u001b[1m]\u001b[0m.                                          \n"
     ]
    },
    {
     "name": "stderr",
     "output_type": "stream",
     "text": [
      " 64%|█████████████████▉          | 82/128 [15:02<08:07, 10.59s/it]"
     ]
    },
    {
     "name": "stdout",
     "output_type": "stream",
     "text": [
      "\u001b[34mINFO    \u001b[0m Computing pca with `\u001b[33mn_comps\u001b[0m=\u001b[1;36m30\u001b[0m` for `xy` using `adata.X`                                                  \n"
     ]
    },
    {
     "name": "stderr",
     "output_type": "stream",
     "text": [
      "/home/ylu/project/Benchmark_alignment_methods/notebooks/AllenMouseBrain_Zhuang/../../scripts/methods/my_moscot.py:56: ImplicitModificationWarning: Setting element `.obsm['aligned_spatial']` of view, initializing view as actual.\n",
      "  m.obsm[key_added] = m.obsm[spatial_key]\n"
     ]
    },
    {
     "name": "stdout",
     "output_type": "stream",
     "text": [
      "\u001b[34mINFO    \u001b[0m Normalizing spatial coordinates of `x`.                                                                   \n",
      "\u001b[34mINFO    \u001b[0m Normalizing spatial coordinates of `y`.                                                                   \n",
      "\u001b[34mINFO    \u001b[0m Solving `\u001b[1;36m1\u001b[0m` problems                                                                                      \n",
      "\u001b[34mINFO    \u001b[0m Solving problem OTProblem\u001b[1m[\u001b[0m\u001b[33mstage\u001b[0m=\u001b[32m'prepared'\u001b[0m, \u001b[33mshape\u001b[0m=\u001b[1m(\u001b[0m\u001b[1;36m5077\u001b[0m, \u001b[1;36m4922\u001b[0m\u001b[1m)\u001b[0m\u001b[1m]\u001b[0m.                                          \n"
     ]
    },
    {
     "name": "stderr",
     "output_type": "stream",
     "text": [
      " 65%|██████████████████▏         | 83/128 [15:13<08:07, 10.83s/it]"
     ]
    },
    {
     "name": "stdout",
     "output_type": "stream",
     "text": [
      "\u001b[34mINFO    \u001b[0m Computing pca with `\u001b[33mn_comps\u001b[0m=\u001b[1;36m30\u001b[0m` for `xy` using `adata.X`                                                  \n"
     ]
    },
    {
     "name": "stderr",
     "output_type": "stream",
     "text": [
      "/home/ylu/project/Benchmark_alignment_methods/notebooks/AllenMouseBrain_Zhuang/../../scripts/methods/my_moscot.py:56: ImplicitModificationWarning: Setting element `.obsm['aligned_spatial']` of view, initializing view as actual.\n",
      "  m.obsm[key_added] = m.obsm[spatial_key]\n"
     ]
    },
    {
     "name": "stdout",
     "output_type": "stream",
     "text": [
      "\u001b[34mINFO    \u001b[0m Normalizing spatial coordinates of `x`.                                                                   \n",
      "\u001b[34mINFO    \u001b[0m Normalizing spatial coordinates of `y`.                                                                   \n",
      "\u001b[34mINFO    \u001b[0m Solving `\u001b[1;36m1\u001b[0m` problems                                                                                      \n",
      "\u001b[34mINFO    \u001b[0m Solving problem OTProblem\u001b[1m[\u001b[0m\u001b[33mstage\u001b[0m=\u001b[32m'prepared'\u001b[0m, \u001b[33mshape\u001b[0m=\u001b[1m(\u001b[0m\u001b[1;36m5040\u001b[0m, \u001b[1;36m4959\u001b[0m\u001b[1m)\u001b[0m\u001b[1m]\u001b[0m.                                          \n"
     ]
    },
    {
     "name": "stderr",
     "output_type": "stream",
     "text": [
      " 66%|██████████████████▍         | 84/128 [15:22<07:36, 10.38s/it]"
     ]
    },
    {
     "name": "stdout",
     "output_type": "stream",
     "text": [
      "\u001b[34mINFO    \u001b[0m Computing pca with `\u001b[33mn_comps\u001b[0m=\u001b[1;36m30\u001b[0m` for `xy` using `adata.X`                                                  \n"
     ]
    },
    {
     "name": "stderr",
     "output_type": "stream",
     "text": [
      "/home/ylu/project/Benchmark_alignment_methods/notebooks/AllenMouseBrain_Zhuang/../../scripts/methods/my_moscot.py:56: ImplicitModificationWarning: Setting element `.obsm['aligned_spatial']` of view, initializing view as actual.\n",
      "  m.obsm[key_added] = m.obsm[spatial_key]\n"
     ]
    },
    {
     "name": "stdout",
     "output_type": "stream",
     "text": [
      "\u001b[34mINFO    \u001b[0m Normalizing spatial coordinates of `x`.                                                                   \n",
      "\u001b[34mINFO    \u001b[0m Normalizing spatial coordinates of `y`.                                                                   \n",
      "\u001b[34mINFO    \u001b[0m Solving `\u001b[1;36m1\u001b[0m` problems                                                                                      \n",
      "\u001b[34mINFO    \u001b[0m Solving problem OTProblem\u001b[1m[\u001b[0m\u001b[33mstage\u001b[0m=\u001b[32m'prepared'\u001b[0m, \u001b[33mshape\u001b[0m=\u001b[1m(\u001b[0m\u001b[1;36m5093\u001b[0m, \u001b[1;36m4906\u001b[0m\u001b[1m)\u001b[0m\u001b[1m]\u001b[0m.                                          \n"
     ]
    },
    {
     "name": "stderr",
     "output_type": "stream",
     "text": [
      " 66%|██████████████████▌         | 85/128 [15:35<07:56, 11.09s/it]"
     ]
    },
    {
     "name": "stdout",
     "output_type": "stream",
     "text": [
      "\u001b[34mINFO    \u001b[0m Computing pca with `\u001b[33mn_comps\u001b[0m=\u001b[1;36m30\u001b[0m` for `xy` using `adata.X`                                                  \n"
     ]
    },
    {
     "name": "stderr",
     "output_type": "stream",
     "text": [
      "/home/ylu/project/Benchmark_alignment_methods/notebooks/AllenMouseBrain_Zhuang/../../scripts/methods/my_moscot.py:56: ImplicitModificationWarning: Setting element `.obsm['aligned_spatial']` of view, initializing view as actual.\n",
      "  m.obsm[key_added] = m.obsm[spatial_key]\n"
     ]
    },
    {
     "name": "stdout",
     "output_type": "stream",
     "text": [
      "\u001b[34mINFO    \u001b[0m Normalizing spatial coordinates of `x`.                                                                   \n",
      "\u001b[34mINFO    \u001b[0m Normalizing spatial coordinates of `y`.                                                                   \n",
      "\u001b[34mINFO    \u001b[0m Solving `\u001b[1;36m1\u001b[0m` problems                                                                                      \n",
      "\u001b[34mINFO    \u001b[0m Solving problem OTProblem\u001b[1m[\u001b[0m\u001b[33mstage\u001b[0m=\u001b[32m'prepared'\u001b[0m, \u001b[33mshape\u001b[0m=\u001b[1m(\u001b[0m\u001b[1;36m4729\u001b[0m, \u001b[1;36m5270\u001b[0m\u001b[1m)\u001b[0m\u001b[1m]\u001b[0m.                                          \n"
     ]
    },
    {
     "name": "stderr",
     "output_type": "stream",
     "text": [
      " 67%|██████████████████▊         | 86/128 [15:47<07:52, 11.25s/it]"
     ]
    },
    {
     "name": "stdout",
     "output_type": "stream",
     "text": [
      "\u001b[34mINFO    \u001b[0m Computing pca with `\u001b[33mn_comps\u001b[0m=\u001b[1;36m30\u001b[0m` for `xy` using `adata.X`                                                  \n"
     ]
    },
    {
     "name": "stderr",
     "output_type": "stream",
     "text": [
      "/home/ylu/project/Benchmark_alignment_methods/notebooks/AllenMouseBrain_Zhuang/../../scripts/methods/my_moscot.py:56: ImplicitModificationWarning: Setting element `.obsm['aligned_spatial']` of view, initializing view as actual.\n",
      "  m.obsm[key_added] = m.obsm[spatial_key]\n"
     ]
    },
    {
     "name": "stdout",
     "output_type": "stream",
     "text": [
      "\u001b[34mINFO    \u001b[0m Normalizing spatial coordinates of `x`.                                                                   \n",
      "\u001b[34mINFO    \u001b[0m Normalizing spatial coordinates of `y`.                                                                   \n",
      "\u001b[34mINFO    \u001b[0m Solving `\u001b[1;36m1\u001b[0m` problems                                                                                      \n",
      "\u001b[34mINFO    \u001b[0m Solving problem OTProblem\u001b[1m[\u001b[0m\u001b[33mstage\u001b[0m=\u001b[32m'prepared'\u001b[0m, \u001b[33mshape\u001b[0m=\u001b[1m(\u001b[0m\u001b[1;36m4997\u001b[0m, \u001b[1;36m5002\u001b[0m\u001b[1m)\u001b[0m\u001b[1m]\u001b[0m.                                          \n"
     ]
    },
    {
     "name": "stderr",
     "output_type": "stream",
     "text": [
      " 68%|███████████████████         | 87/128 [15:54<06:48,  9.97s/it]"
     ]
    },
    {
     "name": "stdout",
     "output_type": "stream",
     "text": [
      "\u001b[34mINFO    \u001b[0m Computing pca with `\u001b[33mn_comps\u001b[0m=\u001b[1;36m30\u001b[0m` for `xy` using `adata.X`                                                  \n"
     ]
    },
    {
     "name": "stderr",
     "output_type": "stream",
     "text": [
      "/home/ylu/project/Benchmark_alignment_methods/notebooks/AllenMouseBrain_Zhuang/../../scripts/methods/my_moscot.py:56: ImplicitModificationWarning: Setting element `.obsm['aligned_spatial']` of view, initializing view as actual.\n",
      "  m.obsm[key_added] = m.obsm[spatial_key]\n"
     ]
    },
    {
     "name": "stdout",
     "output_type": "stream",
     "text": [
      "\u001b[34mINFO    \u001b[0m Normalizing spatial coordinates of `x`.                                                                   \n",
      "\u001b[34mINFO    \u001b[0m Normalizing spatial coordinates of `y`.                                                                   \n",
      "\u001b[34mINFO    \u001b[0m Solving `\u001b[1;36m1\u001b[0m` problems                                                                                      \n",
      "\u001b[34mINFO    \u001b[0m Solving problem OTProblem\u001b[1m[\u001b[0m\u001b[33mstage\u001b[0m=\u001b[32m'prepared'\u001b[0m, \u001b[33mshape\u001b[0m=\u001b[1m(\u001b[0m\u001b[1;36m5060\u001b[0m, \u001b[1;36m4939\u001b[0m\u001b[1m)\u001b[0m\u001b[1m]\u001b[0m.                                          \n"
     ]
    },
    {
     "name": "stderr",
     "output_type": "stream",
     "text": [
      " 69%|███████████████████▎        | 88/128 [16:06<07:04, 10.62s/it]"
     ]
    },
    {
     "name": "stdout",
     "output_type": "stream",
     "text": [
      "\u001b[34mINFO    \u001b[0m Computing pca with `\u001b[33mn_comps\u001b[0m=\u001b[1;36m30\u001b[0m` for `xy` using `adata.X`                                                  \n"
     ]
    },
    {
     "name": "stderr",
     "output_type": "stream",
     "text": [
      "/home/ylu/project/Benchmark_alignment_methods/notebooks/AllenMouseBrain_Zhuang/../../scripts/methods/my_moscot.py:56: ImplicitModificationWarning: Setting element `.obsm['aligned_spatial']` of view, initializing view as actual.\n",
      "  m.obsm[key_added] = m.obsm[spatial_key]\n"
     ]
    },
    {
     "name": "stdout",
     "output_type": "stream",
     "text": [
      "\u001b[34mINFO    \u001b[0m Normalizing spatial coordinates of `x`.                                                                   \n",
      "\u001b[34mINFO    \u001b[0m Normalizing spatial coordinates of `y`.                                                                   \n",
      "\u001b[34mINFO    \u001b[0m Solving `\u001b[1;36m1\u001b[0m` problems                                                                                      \n",
      "\u001b[34mINFO    \u001b[0m Solving problem OTProblem\u001b[1m[\u001b[0m\u001b[33mstage\u001b[0m=\u001b[32m'prepared'\u001b[0m, \u001b[33mshape\u001b[0m=\u001b[1m(\u001b[0m\u001b[1;36m4995\u001b[0m, \u001b[1;36m5004\u001b[0m\u001b[1m)\u001b[0m\u001b[1m]\u001b[0m.                                          \n"
     ]
    },
    {
     "name": "stderr",
     "output_type": "stream",
     "text": [
      " 70%|███████████████████▍        | 89/128 [16:16<06:50, 10.52s/it]/home/ylu/project/Benchmark_alignment_methods/notebooks/AllenMouseBrain_Zhuang/../../scripts/methods/my_moscot.py:56: ImplicitModificationWarning: Setting element `.obsm['aligned_spatial']` of view, initializing view as actual.\n",
      "  m.obsm[key_added] = m.obsm[spatial_key]\n"
     ]
    },
    {
     "name": "stdout",
     "output_type": "stream",
     "text": [
      "\u001b[34mINFO    \u001b[0m Computing pca with `\u001b[33mn_comps\u001b[0m=\u001b[1;36m30\u001b[0m` for `xy` using `adata.X`                                                  \n",
      "\u001b[34mINFO    \u001b[0m Normalizing spatial coordinates of `x`.                                                                   \n",
      "\u001b[34mINFO    \u001b[0m Normalizing spatial coordinates of `y`.                                                                   \n",
      "\u001b[34mINFO    \u001b[0m Solving `\u001b[1;36m1\u001b[0m` problems                                                                                      \n",
      "\u001b[34mINFO    \u001b[0m Solving problem OTProblem\u001b[1m[\u001b[0m\u001b[33mstage\u001b[0m=\u001b[32m'prepared'\u001b[0m, \u001b[33mshape\u001b[0m=\u001b[1m(\u001b[0m\u001b[1;36m4779\u001b[0m, \u001b[1;36m5220\u001b[0m\u001b[1m)\u001b[0m\u001b[1m]\u001b[0m.                                          \n"
     ]
    },
    {
     "name": "stderr",
     "output_type": "stream",
     "text": [
      " 70%|███████████████████▋        | 90/128 [16:21<05:39,  8.94s/it]"
     ]
    },
    {
     "name": "stdout",
     "output_type": "stream",
     "text": [
      "\u001b[34mINFO    \u001b[0m Computing pca with `\u001b[33mn_comps\u001b[0m=\u001b[1;36m30\u001b[0m` for `xy` using `adata.X`                                                  \n"
     ]
    },
    {
     "name": "stderr",
     "output_type": "stream",
     "text": [
      "/home/ylu/project/Benchmark_alignment_methods/notebooks/AllenMouseBrain_Zhuang/../../scripts/methods/my_moscot.py:56: ImplicitModificationWarning: Setting element `.obsm['aligned_spatial']` of view, initializing view as actual.\n",
      "  m.obsm[key_added] = m.obsm[spatial_key]\n"
     ]
    },
    {
     "name": "stdout",
     "output_type": "stream",
     "text": [
      "\u001b[34mINFO    \u001b[0m Normalizing spatial coordinates of `x`.                                                                   \n",
      "\u001b[34mINFO    \u001b[0m Normalizing spatial coordinates of `y`.                                                                   \n",
      "\u001b[34mINFO    \u001b[0m Solving `\u001b[1;36m1\u001b[0m` problems                                                                                      \n",
      "\u001b[34mINFO    \u001b[0m Solving problem OTProblem\u001b[1m[\u001b[0m\u001b[33mstage\u001b[0m=\u001b[32m'prepared'\u001b[0m, \u001b[33mshape\u001b[0m=\u001b[1m(\u001b[0m\u001b[1;36m5142\u001b[0m, \u001b[1;36m4857\u001b[0m\u001b[1m)\u001b[0m\u001b[1m]\u001b[0m.                                          \n"
     ]
    },
    {
     "name": "stderr",
     "output_type": "stream",
     "text": [
      " 71%|███████████████████▉        | 91/128 [16:34<06:07,  9.94s/it]"
     ]
    },
    {
     "name": "stdout",
     "output_type": "stream",
     "text": [
      "\u001b[34mINFO    \u001b[0m Computing pca with `\u001b[33mn_comps\u001b[0m=\u001b[1;36m30\u001b[0m` for `xy` using `adata.X`                                                  \n"
     ]
    },
    {
     "name": "stderr",
     "output_type": "stream",
     "text": [
      "/home/ylu/project/Benchmark_alignment_methods/notebooks/AllenMouseBrain_Zhuang/../../scripts/methods/my_moscot.py:56: ImplicitModificationWarning: Setting element `.obsm['aligned_spatial']` of view, initializing view as actual.\n",
      "  m.obsm[key_added] = m.obsm[spatial_key]\n"
     ]
    },
    {
     "name": "stdout",
     "output_type": "stream",
     "text": [
      "\u001b[34mINFO    \u001b[0m Normalizing spatial coordinates of `x`.                                                                   \n",
      "\u001b[34mINFO    \u001b[0m Normalizing spatial coordinates of `y`.                                                                   \n",
      "\u001b[34mINFO    \u001b[0m Solving `\u001b[1;36m1\u001b[0m` problems                                                                                      \n",
      "\u001b[34mINFO    \u001b[0m Solving problem OTProblem\u001b[1m[\u001b[0m\u001b[33mstage\u001b[0m=\u001b[32m'prepared'\u001b[0m, \u001b[33mshape\u001b[0m=\u001b[1m(\u001b[0m\u001b[1;36m5066\u001b[0m, \u001b[1;36m4933\u001b[0m\u001b[1m)\u001b[0m\u001b[1m]\u001b[0m.                                          \n"
     ]
    },
    {
     "name": "stderr",
     "output_type": "stream",
     "text": [
      " 72%|████████████████████▏       | 92/128 [16:44<06:05, 10.15s/it]"
     ]
    },
    {
     "name": "stdout",
     "output_type": "stream",
     "text": [
      "\u001b[34mINFO    \u001b[0m Computing pca with `\u001b[33mn_comps\u001b[0m=\u001b[1;36m30\u001b[0m` for `xy` using `adata.X`                                                  \n"
     ]
    },
    {
     "name": "stderr",
     "output_type": "stream",
     "text": [
      "/home/ylu/project/Benchmark_alignment_methods/notebooks/AllenMouseBrain_Zhuang/../../scripts/methods/my_moscot.py:56: ImplicitModificationWarning: Setting element `.obsm['aligned_spatial']` of view, initializing view as actual.\n",
      "  m.obsm[key_added] = m.obsm[spatial_key]\n"
     ]
    },
    {
     "name": "stdout",
     "output_type": "stream",
     "text": [
      "\u001b[34mINFO    \u001b[0m Normalizing spatial coordinates of `x`.                                                                   \n",
      "\u001b[34mINFO    \u001b[0m Normalizing spatial coordinates of `y`.                                                                   \n",
      "\u001b[34mINFO    \u001b[0m Solving `\u001b[1;36m1\u001b[0m` problems                                                                                      \n",
      "\u001b[34mINFO    \u001b[0m Solving problem OTProblem\u001b[1m[\u001b[0m\u001b[33mstage\u001b[0m=\u001b[32m'prepared'\u001b[0m, \u001b[33mshape\u001b[0m=\u001b[1m(\u001b[0m\u001b[1;36m4935\u001b[0m, \u001b[1;36m5064\u001b[0m\u001b[1m)\u001b[0m\u001b[1m]\u001b[0m.                                          \n"
     ]
    },
    {
     "name": "stderr",
     "output_type": "stream",
     "text": [
      " 73%|████████████████████▎       | 93/128 [16:54<05:55, 10.16s/it]"
     ]
    },
    {
     "name": "stdout",
     "output_type": "stream",
     "text": [
      "\u001b[34mINFO    \u001b[0m Computing pca with `\u001b[33mn_comps\u001b[0m=\u001b[1;36m30\u001b[0m` for `xy` using `adata.X`                                                  \n"
     ]
    },
    {
     "name": "stderr",
     "output_type": "stream",
     "text": [
      "/home/ylu/project/Benchmark_alignment_methods/notebooks/AllenMouseBrain_Zhuang/../../scripts/methods/my_moscot.py:56: ImplicitModificationWarning: Setting element `.obsm['aligned_spatial']` of view, initializing view as actual.\n",
      "  m.obsm[key_added] = m.obsm[spatial_key]\n"
     ]
    },
    {
     "name": "stdout",
     "output_type": "stream",
     "text": [
      "\u001b[34mINFO    \u001b[0m Normalizing spatial coordinates of `x`.                                                                   \n",
      "\u001b[34mINFO    \u001b[0m Normalizing spatial coordinates of `y`.                                                                   \n",
      "\u001b[34mINFO    \u001b[0m Solving `\u001b[1;36m1\u001b[0m` problems                                                                                      \n",
      "\u001b[34mINFO    \u001b[0m Solving problem OTProblem\u001b[1m[\u001b[0m\u001b[33mstage\u001b[0m=\u001b[32m'prepared'\u001b[0m, \u001b[33mshape\u001b[0m=\u001b[1m(\u001b[0m\u001b[1;36m5267\u001b[0m, \u001b[1;36m4732\u001b[0m\u001b[1m)\u001b[0m\u001b[1m]\u001b[0m.                                          \n"
     ]
    },
    {
     "name": "stderr",
     "output_type": "stream",
     "text": [
      " 73%|████████████████████▌       | 94/128 [17:05<05:48, 10.25s/it]"
     ]
    },
    {
     "name": "stdout",
     "output_type": "stream",
     "text": [
      "\u001b[34mINFO    \u001b[0m Computing pca with `\u001b[33mn_comps\u001b[0m=\u001b[1;36m30\u001b[0m` for `xy` using `adata.X`                                                  \n"
     ]
    },
    {
     "name": "stderr",
     "output_type": "stream",
     "text": [
      "/home/ylu/project/Benchmark_alignment_methods/notebooks/AllenMouseBrain_Zhuang/../../scripts/methods/my_moscot.py:56: ImplicitModificationWarning: Setting element `.obsm['aligned_spatial']` of view, initializing view as actual.\n",
      "  m.obsm[key_added] = m.obsm[spatial_key]\n"
     ]
    },
    {
     "name": "stdout",
     "output_type": "stream",
     "text": [
      "\u001b[34mINFO    \u001b[0m Normalizing spatial coordinates of `x`.                                                                   \n",
      "\u001b[34mINFO    \u001b[0m Normalizing spatial coordinates of `y`.                                                                   \n",
      "\u001b[34mINFO    \u001b[0m Solving `\u001b[1;36m1\u001b[0m` problems                                                                                      \n",
      "\u001b[34mINFO    \u001b[0m Solving problem OTProblem\u001b[1m[\u001b[0m\u001b[33mstage\u001b[0m=\u001b[32m'prepared'\u001b[0m, \u001b[33mshape\u001b[0m=\u001b[1m(\u001b[0m\u001b[1;36m5017\u001b[0m, \u001b[1;36m4982\u001b[0m\u001b[1m)\u001b[0m\u001b[1m]\u001b[0m.                                          \n"
     ]
    },
    {
     "name": "stderr",
     "output_type": "stream",
     "text": [
      " 74%|████████████████████▊       | 95/128 [17:16<05:43, 10.40s/it]/home/ylu/project/Benchmark_alignment_methods/notebooks/AllenMouseBrain_Zhuang/../../scripts/methods/my_moscot.py:56: ImplicitModificationWarning: Setting element `.obsm['aligned_spatial']` of view, initializing view as actual.\n",
      "  m.obsm[key_added] = m.obsm[spatial_key]\n"
     ]
    },
    {
     "name": "stdout",
     "output_type": "stream",
     "text": [
      "\u001b[34mINFO    \u001b[0m Computing pca with `\u001b[33mn_comps\u001b[0m=\u001b[1;36m30\u001b[0m` for `xy` using `adata.X`                                                  \n",
      "\u001b[34mINFO    \u001b[0m Normalizing spatial coordinates of `x`.                                                                   \n",
      "\u001b[34mINFO    \u001b[0m Normalizing spatial coordinates of `y`.                                                                   \n",
      "\u001b[34mINFO    \u001b[0m Solving `\u001b[1;36m1\u001b[0m` problems                                                                                      \n",
      "\u001b[34mINFO    \u001b[0m Solving problem OTProblem\u001b[1m[\u001b[0m\u001b[33mstage\u001b[0m=\u001b[32m'prepared'\u001b[0m, \u001b[33mshape\u001b[0m=\u001b[1m(\u001b[0m\u001b[1;36m4971\u001b[0m, \u001b[1;36m5028\u001b[0m\u001b[1m)\u001b[0m\u001b[1m]\u001b[0m.                                          \n"
     ]
    },
    {
     "name": "stderr",
     "output_type": "stream",
     "text": [
      " 75%|█████████████████████       | 96/128 [17:26<05:33, 10.42s/it]/home/ylu/project/Benchmark_alignment_methods/notebooks/AllenMouseBrain_Zhuang/../../scripts/methods/my_moscot.py:56: ImplicitModificationWarning: Setting element `.obsm['aligned_spatial']` of view, initializing view as actual.\n",
      "  m.obsm[key_added] = m.obsm[spatial_key]\n"
     ]
    },
    {
     "name": "stdout",
     "output_type": "stream",
     "text": [
      "\u001b[34mINFO    \u001b[0m Computing pca with `\u001b[33mn_comps\u001b[0m=\u001b[1;36m30\u001b[0m` for `xy` using `adata.X`                                                  \n",
      "\u001b[34mINFO    \u001b[0m Normalizing spatial coordinates of `x`.                                                                   \n",
      "\u001b[34mINFO    \u001b[0m Normalizing spatial coordinates of `y`.                                                                   \n",
      "\u001b[34mINFO    \u001b[0m Solving `\u001b[1;36m1\u001b[0m` problems                                                                                      \n",
      "\u001b[34mINFO    \u001b[0m Solving problem OTProblem\u001b[1m[\u001b[0m\u001b[33mstage\u001b[0m=\u001b[32m'prepared'\u001b[0m, \u001b[33mshape\u001b[0m=\u001b[1m(\u001b[0m\u001b[1;36m5238\u001b[0m, \u001b[1;36m4761\u001b[0m\u001b[1m)\u001b[0m\u001b[1m]\u001b[0m.                                          \n"
     ]
    },
    {
     "name": "stderr",
     "output_type": "stream",
     "text": [
      " 76%|█████████████████████▏      | 97/128 [17:41<06:03, 11.74s/it]"
     ]
    },
    {
     "name": "stdout",
     "output_type": "stream",
     "text": [
      "\u001b[34mINFO    \u001b[0m Computing pca with `\u001b[33mn_comps\u001b[0m=\u001b[1;36m30\u001b[0m` for `xy` using `adata.X`                                                  \n"
     ]
    },
    {
     "name": "stderr",
     "output_type": "stream",
     "text": [
      "/home/ylu/project/Benchmark_alignment_methods/notebooks/AllenMouseBrain_Zhuang/../../scripts/methods/my_moscot.py:56: ImplicitModificationWarning: Setting element `.obsm['aligned_spatial']` of view, initializing view as actual.\n",
      "  m.obsm[key_added] = m.obsm[spatial_key]\n"
     ]
    },
    {
     "name": "stdout",
     "output_type": "stream",
     "text": [
      "\u001b[34mINFO    \u001b[0m Normalizing spatial coordinates of `x`.                                                                   \n",
      "\u001b[34mINFO    \u001b[0m Normalizing spatial coordinates of `y`.                                                                   \n",
      "\u001b[34mINFO    \u001b[0m Solving `\u001b[1;36m1\u001b[0m` problems                                                                                      \n",
      "\u001b[34mINFO    \u001b[0m Solving problem OTProblem\u001b[1m[\u001b[0m\u001b[33mstage\u001b[0m=\u001b[32m'prepared'\u001b[0m, \u001b[33mshape\u001b[0m=\u001b[1m(\u001b[0m\u001b[1;36m4894\u001b[0m, \u001b[1;36m5105\u001b[0m\u001b[1m)\u001b[0m\u001b[1m]\u001b[0m.                                          \n"
     ]
    },
    {
     "name": "stderr",
     "output_type": "stream",
     "text": [
      " 77%|█████████████████████▍      | 98/128 [17:52<05:50, 11.67s/it]/home/ylu/project/Benchmark_alignment_methods/notebooks/AllenMouseBrain_Zhuang/../../scripts/methods/my_moscot.py:56: ImplicitModificationWarning: Setting element `.obsm['aligned_spatial']` of view, initializing view as actual.\n",
      "  m.obsm[key_added] = m.obsm[spatial_key]\n"
     ]
    },
    {
     "name": "stdout",
     "output_type": "stream",
     "text": [
      "\u001b[34mINFO    \u001b[0m Computing pca with `\u001b[33mn_comps\u001b[0m=\u001b[1;36m30\u001b[0m` for `xy` using `adata.X`                                                  \n",
      "\u001b[34mINFO    \u001b[0m Normalizing spatial coordinates of `x`.                                                                   \n",
      "\u001b[34mINFO    \u001b[0m Normalizing spatial coordinates of `y`.                                                                   \n",
      "\u001b[34mINFO    \u001b[0m Solving `\u001b[1;36m1\u001b[0m` problems                                                                                      \n",
      "\u001b[34mINFO    \u001b[0m Solving problem OTProblem\u001b[1m[\u001b[0m\u001b[33mstage\u001b[0m=\u001b[32m'prepared'\u001b[0m, \u001b[33mshape\u001b[0m=\u001b[1m(\u001b[0m\u001b[1;36m5015\u001b[0m, \u001b[1;36m4984\u001b[0m\u001b[1m)\u001b[0m\u001b[1m]\u001b[0m.                                          \n"
     ]
    },
    {
     "name": "stderr",
     "output_type": "stream",
     "text": [
      " 77%|█████████████████████▋      | 99/128 [18:02<05:23, 11.16s/it]/home/ylu/project/Benchmark_alignment_methods/notebooks/AllenMouseBrain_Zhuang/../../scripts/methods/my_moscot.py:56: ImplicitModificationWarning: Setting element `.obsm['aligned_spatial']` of view, initializing view as actual.\n",
      "  m.obsm[key_added] = m.obsm[spatial_key]\n"
     ]
    },
    {
     "name": "stdout",
     "output_type": "stream",
     "text": [
      "\u001b[34mINFO    \u001b[0m Computing pca with `\u001b[33mn_comps\u001b[0m=\u001b[1;36m30\u001b[0m` for `xy` using `adata.X`                                                  \n",
      "\u001b[34mINFO    \u001b[0m Normalizing spatial coordinates of `x`.                                                                   \n",
      "\u001b[34mINFO    \u001b[0m Normalizing spatial coordinates of `y`.                                                                   \n",
      "\u001b[34mINFO    \u001b[0m Solving `\u001b[1;36m1\u001b[0m` problems                                                                                      \n",
      "\u001b[34mINFO    \u001b[0m Solving problem OTProblem\u001b[1m[\u001b[0m\u001b[33mstage\u001b[0m=\u001b[32m'prepared'\u001b[0m, \u001b[33mshape\u001b[0m=\u001b[1m(\u001b[0m\u001b[1;36m5334\u001b[0m, \u001b[1;36m4665\u001b[0m\u001b[1m)\u001b[0m\u001b[1m]\u001b[0m.                                          \n"
     ]
    },
    {
     "name": "stderr",
     "output_type": "stream",
     "text": [
      " 78%|█████████████████████      | 100/128 [18:15<05:24, 11.59s/it]/home/ylu/project/Benchmark_alignment_methods/notebooks/AllenMouseBrain_Zhuang/../../scripts/methods/my_moscot.py:56: ImplicitModificationWarning: Setting element `.obsm['aligned_spatial']` of view, initializing view as actual.\n",
      "  m.obsm[key_added] = m.obsm[spatial_key]\n"
     ]
    },
    {
     "name": "stdout",
     "output_type": "stream",
     "text": [
      "\u001b[34mINFO    \u001b[0m Computing pca with `\u001b[33mn_comps\u001b[0m=\u001b[1;36m30\u001b[0m` for `xy` using `adata.X`                                                  \n",
      "\u001b[34mINFO    \u001b[0m Normalizing spatial coordinates of `x`.                                                                   \n",
      "\u001b[34mINFO    \u001b[0m Normalizing spatial coordinates of `y`.                                                                   \n",
      "\u001b[34mINFO    \u001b[0m Solving `\u001b[1;36m1\u001b[0m` problems                                                                                      \n",
      "\u001b[34mINFO    \u001b[0m Solving problem OTProblem\u001b[1m[\u001b[0m\u001b[33mstage\u001b[0m=\u001b[32m'prepared'\u001b[0m, \u001b[33mshape\u001b[0m=\u001b[1m(\u001b[0m\u001b[1;36m4938\u001b[0m, \u001b[1;36m5061\u001b[0m\u001b[1m)\u001b[0m\u001b[1m]\u001b[0m.                                          \n"
     ]
    },
    {
     "name": "stderr",
     "output_type": "stream",
     "text": [
      " 79%|█████████████████████▎     | 101/128 [18:21<04:25,  9.83s/it]/home/ylu/project/Benchmark_alignment_methods/notebooks/AllenMouseBrain_Zhuang/../../scripts/methods/my_moscot.py:56: ImplicitModificationWarning: Setting element `.obsm['aligned_spatial']` of view, initializing view as actual.\n",
      "  m.obsm[key_added] = m.obsm[spatial_key]\n"
     ]
    },
    {
     "name": "stdout",
     "output_type": "stream",
     "text": [
      "\u001b[34mINFO    \u001b[0m Computing pca with `\u001b[33mn_comps\u001b[0m=\u001b[1;36m30\u001b[0m` for `xy` using `adata.X`                                                  \n",
      "\u001b[34mINFO    \u001b[0m Normalizing spatial coordinates of `x`.                                                                   \n",
      "\u001b[34mINFO    \u001b[0m Normalizing spatial coordinates of `y`.                                                                   \n",
      "\u001b[34mINFO    \u001b[0m Solving `\u001b[1;36m1\u001b[0m` problems                                                                                      \n",
      "\u001b[34mINFO    \u001b[0m Solving problem OTProblem\u001b[1m[\u001b[0m\u001b[33mstage\u001b[0m=\u001b[32m'prepared'\u001b[0m, \u001b[33mshape\u001b[0m=\u001b[1m(\u001b[0m\u001b[1;36m5294\u001b[0m, \u001b[1;36m4705\u001b[0m\u001b[1m)\u001b[0m\u001b[1m]\u001b[0m.                                          \n"
     ]
    },
    {
     "name": "stderr",
     "output_type": "stream",
     "text": [
      " 80%|█████████████████████▌     | 102/128 [18:31<04:22, 10.08s/it]/home/ylu/project/Benchmark_alignment_methods/notebooks/AllenMouseBrain_Zhuang/../../scripts/methods/my_moscot.py:56: ImplicitModificationWarning: Setting element `.obsm['aligned_spatial']` of view, initializing view as actual.\n",
      "  m.obsm[key_added] = m.obsm[spatial_key]\n"
     ]
    },
    {
     "name": "stdout",
     "output_type": "stream",
     "text": [
      "\u001b[34mINFO    \u001b[0m Computing pca with `\u001b[33mn_comps\u001b[0m=\u001b[1;36m30\u001b[0m` for `xy` using `adata.X`                                                  \n",
      "\u001b[34mINFO    \u001b[0m Normalizing spatial coordinates of `x`.                                                                   \n",
      "\u001b[34mINFO    \u001b[0m Normalizing spatial coordinates of `y`.                                                                   \n",
      "\u001b[34mINFO    \u001b[0m Solving `\u001b[1;36m1\u001b[0m` problems                                                                                      \n",
      "\u001b[34mINFO    \u001b[0m Solving problem OTProblem\u001b[1m[\u001b[0m\u001b[33mstage\u001b[0m=\u001b[32m'prepared'\u001b[0m, \u001b[33mshape\u001b[0m=\u001b[1m(\u001b[0m\u001b[1;36m5254\u001b[0m, \u001b[1;36m4745\u001b[0m\u001b[1m)\u001b[0m\u001b[1m]\u001b[0m.                                          \n"
     ]
    },
    {
     "name": "stderr",
     "output_type": "stream",
     "text": [
      " 80%|█████████████████████▋     | 103/128 [18:43<04:22, 10.50s/it]/home/ylu/project/Benchmark_alignment_methods/notebooks/AllenMouseBrain_Zhuang/../../scripts/methods/my_moscot.py:56: ImplicitModificationWarning: Setting element `.obsm['aligned_spatial']` of view, initializing view as actual.\n",
      "  m.obsm[key_added] = m.obsm[spatial_key]\n"
     ]
    },
    {
     "name": "stdout",
     "output_type": "stream",
     "text": [
      "\u001b[34mINFO    \u001b[0m Computing pca with `\u001b[33mn_comps\u001b[0m=\u001b[1;36m30\u001b[0m` for `xy` using `adata.X`                                                  \n",
      "\u001b[34mINFO    \u001b[0m Normalizing spatial coordinates of `x`.                                                                   \n",
      "\u001b[34mINFO    \u001b[0m Normalizing spatial coordinates of `y`.                                                                   \n",
      "\u001b[34mINFO    \u001b[0m Solving `\u001b[1;36m1\u001b[0m` problems                                                                                      \n",
      "\u001b[34mINFO    \u001b[0m Solving problem OTProblem\u001b[1m[\u001b[0m\u001b[33mstage\u001b[0m=\u001b[32m'prepared'\u001b[0m, \u001b[33mshape\u001b[0m=\u001b[1m(\u001b[0m\u001b[1;36m5259\u001b[0m, \u001b[1;36m4740\u001b[0m\u001b[1m)\u001b[0m\u001b[1m]\u001b[0m.                                          \n"
     ]
    },
    {
     "name": "stderr",
     "output_type": "stream",
     "text": [
      " 81%|█████████████████████▉     | 104/128 [18:53<04:08, 10.34s/it]/home/ylu/project/Benchmark_alignment_methods/notebooks/AllenMouseBrain_Zhuang/../../scripts/methods/my_moscot.py:56: ImplicitModificationWarning: Setting element `.obsm['aligned_spatial']` of view, initializing view as actual.\n",
      "  m.obsm[key_added] = m.obsm[spatial_key]\n"
     ]
    },
    {
     "name": "stdout",
     "output_type": "stream",
     "text": [
      "\u001b[34mINFO    \u001b[0m Computing pca with `\u001b[33mn_comps\u001b[0m=\u001b[1;36m30\u001b[0m` for `xy` using `adata.X`                                                  \n",
      "\u001b[34mINFO    \u001b[0m Normalizing spatial coordinates of `x`.                                                                   \n",
      "\u001b[34mINFO    \u001b[0m Normalizing spatial coordinates of `y`.                                                                   \n",
      "\u001b[34mINFO    \u001b[0m Solving `\u001b[1;36m1\u001b[0m` problems                                                                                      \n",
      "\u001b[34mINFO    \u001b[0m Solving problem OTProblem\u001b[1m[\u001b[0m\u001b[33mstage\u001b[0m=\u001b[32m'prepared'\u001b[0m, \u001b[33mshape\u001b[0m=\u001b[1m(\u001b[0m\u001b[1;36m4255\u001b[0m, \u001b[1;36m5744\u001b[0m\u001b[1m)\u001b[0m\u001b[1m]\u001b[0m.                                          \n"
     ]
    },
    {
     "name": "stderr",
     "output_type": "stream",
     "text": [
      " 82%|██████████████████████▏    | 105/128 [19:03<03:58, 10.36s/it]"
     ]
    },
    {
     "name": "stdout",
     "output_type": "stream",
     "text": [
      "\u001b[34mINFO    \u001b[0m Computing pca with `\u001b[33mn_comps\u001b[0m=\u001b[1;36m30\u001b[0m` for `xy` using `adata.X`                                                  \n"
     ]
    },
    {
     "name": "stderr",
     "output_type": "stream",
     "text": [
      "/home/ylu/project/Benchmark_alignment_methods/notebooks/AllenMouseBrain_Zhuang/../../scripts/methods/my_moscot.py:56: ImplicitModificationWarning: Setting element `.obsm['aligned_spatial']` of view, initializing view as actual.\n",
      "  m.obsm[key_added] = m.obsm[spatial_key]\n"
     ]
    },
    {
     "name": "stdout",
     "output_type": "stream",
     "text": [
      "\u001b[34mINFO    \u001b[0m Normalizing spatial coordinates of `x`.                                                                   \n",
      "\u001b[34mINFO    \u001b[0m Normalizing spatial coordinates of `y`.                                                                   \n",
      "\u001b[34mINFO    \u001b[0m Solving `\u001b[1;36m1\u001b[0m` problems                                                                                      \n",
      "\u001b[34mINFO    \u001b[0m Solving problem OTProblem\u001b[1m[\u001b[0m\u001b[33mstage\u001b[0m=\u001b[32m'prepared'\u001b[0m, \u001b[33mshape\u001b[0m=\u001b[1m(\u001b[0m\u001b[1;36m4788\u001b[0m, \u001b[1;36m5211\u001b[0m\u001b[1m)\u001b[0m\u001b[1m]\u001b[0m.                                          \n"
     ]
    },
    {
     "name": "stderr",
     "output_type": "stream",
     "text": [
      " 83%|██████████████████████▎    | 106/128 [19:14<03:47, 10.34s/it]"
     ]
    },
    {
     "name": "stdout",
     "output_type": "stream",
     "text": [
      "\u001b[34mINFO    \u001b[0m Computing pca with `\u001b[33mn_comps\u001b[0m=\u001b[1;36m30\u001b[0m` for `xy` using `adata.X`                                                  \n"
     ]
    },
    {
     "name": "stderr",
     "output_type": "stream",
     "text": [
      "/home/ylu/project/Benchmark_alignment_methods/notebooks/AllenMouseBrain_Zhuang/../../scripts/methods/my_moscot.py:56: ImplicitModificationWarning: Setting element `.obsm['aligned_spatial']` of view, initializing view as actual.\n",
      "  m.obsm[key_added] = m.obsm[spatial_key]\n"
     ]
    },
    {
     "name": "stdout",
     "output_type": "stream",
     "text": [
      "\u001b[34mINFO    \u001b[0m Normalizing spatial coordinates of `x`.                                                                   \n",
      "\u001b[34mINFO    \u001b[0m Normalizing spatial coordinates of `y`.                                                                   \n",
      "\u001b[34mINFO    \u001b[0m Solving `\u001b[1;36m1\u001b[0m` problems                                                                                      \n",
      "\u001b[34mINFO    \u001b[0m Solving problem OTProblem\u001b[1m[\u001b[0m\u001b[33mstage\u001b[0m=\u001b[32m'prepared'\u001b[0m, \u001b[33mshape\u001b[0m=\u001b[1m(\u001b[0m\u001b[1;36m5506\u001b[0m, \u001b[1;36m4493\u001b[0m\u001b[1m)\u001b[0m\u001b[1m]\u001b[0m.                                          \n"
     ]
    },
    {
     "name": "stderr",
     "output_type": "stream",
     "text": [
      " 84%|██████████████████████▌    | 107/128 [19:24<03:35, 10.25s/it]"
     ]
    },
    {
     "name": "stdout",
     "output_type": "stream",
     "text": [
      "\u001b[34mINFO    \u001b[0m Computing pca with `\u001b[33mn_comps\u001b[0m=\u001b[1;36m30\u001b[0m` for `xy` using `adata.X`                                                  \n"
     ]
    },
    {
     "name": "stderr",
     "output_type": "stream",
     "text": [
      "/home/ylu/project/Benchmark_alignment_methods/notebooks/AllenMouseBrain_Zhuang/../../scripts/methods/my_moscot.py:56: ImplicitModificationWarning: Setting element `.obsm['aligned_spatial']` of view, initializing view as actual.\n",
      "  m.obsm[key_added] = m.obsm[spatial_key]\n"
     ]
    },
    {
     "name": "stdout",
     "output_type": "stream",
     "text": [
      "\u001b[34mINFO    \u001b[0m Normalizing spatial coordinates of `x`.                                                                   \n",
      "\u001b[34mINFO    \u001b[0m Normalizing spatial coordinates of `y`.                                                                   \n",
      "\u001b[34mINFO    \u001b[0m Solving `\u001b[1;36m1\u001b[0m` problems                                                                                      \n",
      "\u001b[34mINFO    \u001b[0m Solving problem OTProblem\u001b[1m[\u001b[0m\u001b[33mstage\u001b[0m=\u001b[32m'prepared'\u001b[0m, \u001b[33mshape\u001b[0m=\u001b[1m(\u001b[0m\u001b[1;36m5251\u001b[0m, \u001b[1;36m4748\u001b[0m\u001b[1m)\u001b[0m\u001b[1m]\u001b[0m.                                          \n"
     ]
    },
    {
     "name": "stderr",
     "output_type": "stream",
     "text": [
      " 84%|██████████████████████▊    | 108/128 [19:35<03:31, 10.56s/it]/home/ylu/project/Benchmark_alignment_methods/notebooks/AllenMouseBrain_Zhuang/../../scripts/methods/my_moscot.py:56: ImplicitModificationWarning: Setting element `.obsm['aligned_spatial']` of view, initializing view as actual.\n",
      "  m.obsm[key_added] = m.obsm[spatial_key]\n"
     ]
    },
    {
     "name": "stdout",
     "output_type": "stream",
     "text": [
      "\u001b[34mINFO    \u001b[0m Computing pca with `\u001b[33mn_comps\u001b[0m=\u001b[1;36m30\u001b[0m` for `xy` using `adata.X`                                                  \n",
      "\u001b[34mINFO    \u001b[0m Normalizing spatial coordinates of `x`.                                                                   \n",
      "\u001b[34mINFO    \u001b[0m Normalizing spatial coordinates of `y`.                                                                   \n",
      "\u001b[34mINFO    \u001b[0m Solving `\u001b[1;36m1\u001b[0m` problems                                                                                      \n",
      "\u001b[34mINFO    \u001b[0m Solving problem OTProblem\u001b[1m[\u001b[0m\u001b[33mstage\u001b[0m=\u001b[32m'prepared'\u001b[0m, \u001b[33mshape\u001b[0m=\u001b[1m(\u001b[0m\u001b[1;36m4535\u001b[0m, \u001b[1;36m5464\u001b[0m\u001b[1m)\u001b[0m\u001b[1m]\u001b[0m.                                          \n"
     ]
    },
    {
     "name": "stderr",
     "output_type": "stream",
     "text": [
      " 85%|██████████████████████▉    | 109/128 [19:44<03:12, 10.14s/it]/home/ylu/project/Benchmark_alignment_methods/notebooks/AllenMouseBrain_Zhuang/../../scripts/methods/my_moscot.py:56: ImplicitModificationWarning: Setting element `.obsm['aligned_spatial']` of view, initializing view as actual.\n",
      "  m.obsm[key_added] = m.obsm[spatial_key]\n"
     ]
    },
    {
     "name": "stdout",
     "output_type": "stream",
     "text": [
      "\u001b[34mINFO    \u001b[0m Computing pca with `\u001b[33mn_comps\u001b[0m=\u001b[1;36m30\u001b[0m` for `xy` using `adata.X`                                                  \n",
      "\u001b[34mINFO    \u001b[0m Normalizing spatial coordinates of `x`.                                                                   \n",
      "\u001b[34mINFO    \u001b[0m Normalizing spatial coordinates of `y`.                                                                   \n",
      "\u001b[34mINFO    \u001b[0m Solving `\u001b[1;36m1\u001b[0m` problems                                                                                      \n",
      "\u001b[34mINFO    \u001b[0m Solving problem OTProblem\u001b[1m[\u001b[0m\u001b[33mstage\u001b[0m=\u001b[32m'prepared'\u001b[0m, \u001b[33mshape\u001b[0m=\u001b[1m(\u001b[0m\u001b[1;36m5028\u001b[0m, \u001b[1;36m4971\u001b[0m\u001b[1m)\u001b[0m\u001b[1m]\u001b[0m.                                          \n"
     ]
    },
    {
     "name": "stderr",
     "output_type": "stream",
     "text": [
      " 86%|███████████████████████▏   | 110/128 [19:57<03:20, 11.11s/it]"
     ]
    },
    {
     "name": "stdout",
     "output_type": "stream",
     "text": [
      "\u001b[34mINFO    \u001b[0m Computing pca with `\u001b[33mn_comps\u001b[0m=\u001b[1;36m30\u001b[0m` for `xy` using `adata.X`                                                  \n"
     ]
    },
    {
     "name": "stderr",
     "output_type": "stream",
     "text": [
      "/home/ylu/project/Benchmark_alignment_methods/notebooks/AllenMouseBrain_Zhuang/../../scripts/methods/my_moscot.py:56: ImplicitModificationWarning: Setting element `.obsm['aligned_spatial']` of view, initializing view as actual.\n",
      "  m.obsm[key_added] = m.obsm[spatial_key]\n"
     ]
    },
    {
     "name": "stdout",
     "output_type": "stream",
     "text": [
      "\u001b[34mINFO    \u001b[0m Normalizing spatial coordinates of `x`.                                                                   \n",
      "\u001b[34mINFO    \u001b[0m Normalizing spatial coordinates of `y`.                                                                   \n",
      "\u001b[34mINFO    \u001b[0m Solving `\u001b[1;36m1\u001b[0m` problems                                                                                      \n",
      "\u001b[34mINFO    \u001b[0m Solving problem OTProblem\u001b[1m[\u001b[0m\u001b[33mstage\u001b[0m=\u001b[32m'prepared'\u001b[0m, \u001b[33mshape\u001b[0m=\u001b[1m(\u001b[0m\u001b[1;36m5584\u001b[0m, \u001b[1;36m4415\u001b[0m\u001b[1m)\u001b[0m\u001b[1m]\u001b[0m.                                          \n"
     ]
    },
    {
     "name": "stderr",
     "output_type": "stream",
     "text": [
      " 87%|███████████████████████▍   | 111/128 [20:08<03:04, 10.86s/it]/home/ylu/project/Benchmark_alignment_methods/notebooks/AllenMouseBrain_Zhuang/../../scripts/methods/my_moscot.py:56: ImplicitModificationWarning: Setting element `.obsm['aligned_spatial']` of view, initializing view as actual.\n",
      "  m.obsm[key_added] = m.obsm[spatial_key]\n"
     ]
    },
    {
     "name": "stdout",
     "output_type": "stream",
     "text": [
      "\u001b[34mINFO    \u001b[0m Computing pca with `\u001b[33mn_comps\u001b[0m=\u001b[1;36m30\u001b[0m` for `xy` using `adata.X`                                                  \n",
      "\u001b[34mINFO    \u001b[0m Normalizing spatial coordinates of `x`.                                                                   \n",
      "\u001b[34mINFO    \u001b[0m Normalizing spatial coordinates of `y`.                                                                   \n",
      "\u001b[34mINFO    \u001b[0m Solving `\u001b[1;36m1\u001b[0m` problems                                                                                      \n",
      "\u001b[34mINFO    \u001b[0m Solving problem OTProblem\u001b[1m[\u001b[0m\u001b[33mstage\u001b[0m=\u001b[32m'prepared'\u001b[0m, \u001b[33mshape\u001b[0m=\u001b[1m(\u001b[0m\u001b[1;36m4844\u001b[0m, \u001b[1;36m5155\u001b[0m\u001b[1m)\u001b[0m\u001b[1m]\u001b[0m.                                          \n"
     ]
    },
    {
     "name": "stderr",
     "output_type": "stream",
     "text": [
      " 88%|███████████████████████▋   | 112/128 [20:19<02:54, 10.92s/it]/home/ylu/project/Benchmark_alignment_methods/notebooks/AllenMouseBrain_Zhuang/../../scripts/methods/my_moscot.py:56: ImplicitModificationWarning: Setting element `.obsm['aligned_spatial']` of view, initializing view as actual.\n",
      "  m.obsm[key_added] = m.obsm[spatial_key]\n"
     ]
    },
    {
     "name": "stdout",
     "output_type": "stream",
     "text": [
      "\u001b[34mINFO    \u001b[0m Computing pca with `\u001b[33mn_comps\u001b[0m=\u001b[1;36m30\u001b[0m` for `xy` using `adata.X`                                                  \n",
      "\u001b[34mINFO    \u001b[0m Normalizing spatial coordinates of `x`.                                                                   \n",
      "\u001b[34mINFO    \u001b[0m Normalizing spatial coordinates of `y`.                                                                   \n",
      "\u001b[34mINFO    \u001b[0m Solving `\u001b[1;36m1\u001b[0m` problems                                                                                      \n",
      "\u001b[34mINFO    \u001b[0m Solving problem OTProblem\u001b[1m[\u001b[0m\u001b[33mstage\u001b[0m=\u001b[32m'prepared'\u001b[0m, \u001b[33mshape\u001b[0m=\u001b[1m(\u001b[0m\u001b[1;36m4925\u001b[0m, \u001b[1;36m5074\u001b[0m\u001b[1m)\u001b[0m\u001b[1m]\u001b[0m.                                          \n"
     ]
    },
    {
     "name": "stderr",
     "output_type": "stream",
     "text": [
      " 88%|███████████████████████▊   | 113/128 [20:29<02:42, 10.84s/it]"
     ]
    },
    {
     "name": "stdout",
     "output_type": "stream",
     "text": [
      "\u001b[34mINFO    \u001b[0m Computing pca with `\u001b[33mn_comps\u001b[0m=\u001b[1;36m30\u001b[0m` for `xy` using `adata.X`                                                  \n"
     ]
    },
    {
     "name": "stderr",
     "output_type": "stream",
     "text": [
      "/home/ylu/project/Benchmark_alignment_methods/notebooks/AllenMouseBrain_Zhuang/../../scripts/methods/my_moscot.py:56: ImplicitModificationWarning: Setting element `.obsm['aligned_spatial']` of view, initializing view as actual.\n",
      "  m.obsm[key_added] = m.obsm[spatial_key]\n"
     ]
    },
    {
     "name": "stdout",
     "output_type": "stream",
     "text": [
      "\u001b[34mINFO    \u001b[0m Normalizing spatial coordinates of `x`.                                                                   \n",
      "\u001b[34mINFO    \u001b[0m Normalizing spatial coordinates of `y`.                                                                   \n",
      "\u001b[34mINFO    \u001b[0m Solving `\u001b[1;36m1\u001b[0m` problems                                                                                      \n",
      "\u001b[34mINFO    \u001b[0m Solving problem OTProblem\u001b[1m[\u001b[0m\u001b[33mstage\u001b[0m=\u001b[32m'prepared'\u001b[0m, \u001b[33mshape\u001b[0m=\u001b[1m(\u001b[0m\u001b[1;36m5187\u001b[0m, \u001b[1;36m4812\u001b[0m\u001b[1m)\u001b[0m\u001b[1m]\u001b[0m.                                          \n"
     ]
    },
    {
     "name": "stderr",
     "output_type": "stream",
     "text": [
      " 89%|████████████████████████   | 114/128 [20:41<02:35, 11.09s/it]"
     ]
    },
    {
     "name": "stdout",
     "output_type": "stream",
     "text": [
      "\u001b[34mINFO    \u001b[0m Computing pca with `\u001b[33mn_comps\u001b[0m=\u001b[1;36m30\u001b[0m` for `xy` using `adata.X`                                                  \n"
     ]
    },
    {
     "name": "stderr",
     "output_type": "stream",
     "text": [
      "/home/ylu/project/Benchmark_alignment_methods/notebooks/AllenMouseBrain_Zhuang/../../scripts/methods/my_moscot.py:56: ImplicitModificationWarning: Setting element `.obsm['aligned_spatial']` of view, initializing view as actual.\n",
      "  m.obsm[key_added] = m.obsm[spatial_key]\n"
     ]
    },
    {
     "name": "stdout",
     "output_type": "stream",
     "text": [
      "\u001b[34mINFO    \u001b[0m Normalizing spatial coordinates of `x`.                                                                   \n",
      "\u001b[34mINFO    \u001b[0m Normalizing spatial coordinates of `y`.                                                                   \n",
      "\u001b[34mINFO    \u001b[0m Solving `\u001b[1;36m1\u001b[0m` problems                                                                                      \n",
      "\u001b[34mINFO    \u001b[0m Solving problem OTProblem\u001b[1m[\u001b[0m\u001b[33mstage\u001b[0m=\u001b[32m'prepared'\u001b[0m, \u001b[33mshape\u001b[0m=\u001b[1m(\u001b[0m\u001b[1;36m4982\u001b[0m, \u001b[1;36m5017\u001b[0m\u001b[1m)\u001b[0m\u001b[1m]\u001b[0m.                                          \n"
     ]
    },
    {
     "name": "stderr",
     "output_type": "stream",
     "text": [
      " 90%|████████████████████████▎  | 115/128 [20:51<02:19, 10.69s/it]/home/ylu/project/Benchmark_alignment_methods/notebooks/AllenMouseBrain_Zhuang/../../scripts/methods/my_moscot.py:56: ImplicitModificationWarning: Setting element `.obsm['aligned_spatial']` of view, initializing view as actual.\n",
      "  m.obsm[key_added] = m.obsm[spatial_key]\n"
     ]
    },
    {
     "name": "stdout",
     "output_type": "stream",
     "text": [
      "\u001b[34mINFO    \u001b[0m Computing pca with `\u001b[33mn_comps\u001b[0m=\u001b[1;36m30\u001b[0m` for `xy` using `adata.X`                                                  \n",
      "\u001b[34mINFO    \u001b[0m Normalizing spatial coordinates of `x`.                                                                   \n",
      "\u001b[34mINFO    \u001b[0m Normalizing spatial coordinates of `y`.                                                                   \n",
      "\u001b[34mINFO    \u001b[0m Solving `\u001b[1;36m1\u001b[0m` problems                                                                                      \n",
      "\u001b[34mINFO    \u001b[0m Solving problem OTProblem\u001b[1m[\u001b[0m\u001b[33mstage\u001b[0m=\u001b[32m'prepared'\u001b[0m, \u001b[33mshape\u001b[0m=\u001b[1m(\u001b[0m\u001b[1;36m4734\u001b[0m, \u001b[1;36m5265\u001b[0m\u001b[1m)\u001b[0m\u001b[1m]\u001b[0m.                                          \n"
     ]
    },
    {
     "name": "stderr",
     "output_type": "stream",
     "text": [
      " 91%|████████████████████████▍  | 116/128 [21:02<02:08, 10.72s/it]/home/ylu/project/Benchmark_alignment_methods/notebooks/AllenMouseBrain_Zhuang/../../scripts/methods/my_moscot.py:56: ImplicitModificationWarning: Setting element `.obsm['aligned_spatial']` of view, initializing view as actual.\n",
      "  m.obsm[key_added] = m.obsm[spatial_key]\n"
     ]
    },
    {
     "name": "stdout",
     "output_type": "stream",
     "text": [
      "\u001b[34mINFO    \u001b[0m Computing pca with `\u001b[33mn_comps\u001b[0m=\u001b[1;36m30\u001b[0m` for `xy` using `adata.X`                                                  \n",
      "\u001b[34mINFO    \u001b[0m Normalizing spatial coordinates of `x`.                                                                   \n",
      "\u001b[34mINFO    \u001b[0m Normalizing spatial coordinates of `y`.                                                                   \n",
      "\u001b[34mINFO    \u001b[0m Solving `\u001b[1;36m1\u001b[0m` problems                                                                                      \n",
      "\u001b[34mINFO    \u001b[0m Solving problem OTProblem\u001b[1m[\u001b[0m\u001b[33mstage\u001b[0m=\u001b[32m'prepared'\u001b[0m, \u001b[33mshape\u001b[0m=\u001b[1m(\u001b[0m\u001b[1;36m5202\u001b[0m, \u001b[1;36m4797\u001b[0m\u001b[1m)\u001b[0m\u001b[1m]\u001b[0m.                                          \n"
     ]
    },
    {
     "name": "stderr",
     "output_type": "stream",
     "text": [
      " 91%|████████████████████████▋  | 117/128 [21:11<01:54, 10.38s/it]/home/ylu/project/Benchmark_alignment_methods/notebooks/AllenMouseBrain_Zhuang/../../scripts/methods/my_moscot.py:56: ImplicitModificationWarning: Setting element `.obsm['aligned_spatial']` of view, initializing view as actual.\n",
      "  m.obsm[key_added] = m.obsm[spatial_key]\n"
     ]
    },
    {
     "name": "stdout",
     "output_type": "stream",
     "text": [
      "\u001b[34mINFO    \u001b[0m Computing pca with `\u001b[33mn_comps\u001b[0m=\u001b[1;36m30\u001b[0m` for `xy` using `adata.X`                                                  \n",
      "\u001b[34mINFO    \u001b[0m Normalizing spatial coordinates of `x`.                                                                   \n",
      "\u001b[34mINFO    \u001b[0m Normalizing spatial coordinates of `y`.                                                                   \n",
      "\u001b[34mINFO    \u001b[0m Solving `\u001b[1;36m1\u001b[0m` problems                                                                                      \n",
      "\u001b[34mINFO    \u001b[0m Solving problem OTProblem\u001b[1m[\u001b[0m\u001b[33mstage\u001b[0m=\u001b[32m'prepared'\u001b[0m, \u001b[33mshape\u001b[0m=\u001b[1m(\u001b[0m\u001b[1;36m4867\u001b[0m, \u001b[1;36m5132\u001b[0m\u001b[1m)\u001b[0m\u001b[1m]\u001b[0m.                                          \n"
     ]
    },
    {
     "name": "stderr",
     "output_type": "stream",
     "text": [
      " 92%|████████████████████████▉  | 118/128 [21:21<01:42, 10.22s/it]/home/ylu/project/Benchmark_alignment_methods/notebooks/AllenMouseBrain_Zhuang/../../scripts/methods/my_moscot.py:56: ImplicitModificationWarning: Setting element `.obsm['aligned_spatial']` of view, initializing view as actual.\n",
      "  m.obsm[key_added] = m.obsm[spatial_key]\n"
     ]
    },
    {
     "name": "stdout",
     "output_type": "stream",
     "text": [
      "\u001b[34mINFO    \u001b[0m Computing pca with `\u001b[33mn_comps\u001b[0m=\u001b[1;36m30\u001b[0m` for `xy` using `adata.X`                                                  \n",
      "\u001b[34mINFO    \u001b[0m Normalizing spatial coordinates of `x`.                                                                   \n",
      "\u001b[34mINFO    \u001b[0m Normalizing spatial coordinates of `y`.                                                                   \n",
      "\u001b[34mINFO    \u001b[0m Solving `\u001b[1;36m1\u001b[0m` problems                                                                                      \n",
      "\u001b[34mINFO    \u001b[0m Solving problem OTProblem\u001b[1m[\u001b[0m\u001b[33mstage\u001b[0m=\u001b[32m'prepared'\u001b[0m, \u001b[33mshape\u001b[0m=\u001b[1m(\u001b[0m\u001b[1;36m5358\u001b[0m, \u001b[1;36m4641\u001b[0m\u001b[1m)\u001b[0m\u001b[1m]\u001b[0m.                                          \n"
     ]
    },
    {
     "name": "stderr",
     "output_type": "stream",
     "text": [
      " 93%|█████████████████████████  | 119/128 [21:31<01:31, 10.21s/it]/home/ylu/project/Benchmark_alignment_methods/notebooks/AllenMouseBrain_Zhuang/../../scripts/methods/my_moscot.py:56: ImplicitModificationWarning: Setting element `.obsm['aligned_spatial']` of view, initializing view as actual.\n",
      "  m.obsm[key_added] = m.obsm[spatial_key]\n"
     ]
    },
    {
     "name": "stdout",
     "output_type": "stream",
     "text": [
      "\u001b[34mINFO    \u001b[0m Computing pca with `\u001b[33mn_comps\u001b[0m=\u001b[1;36m30\u001b[0m` for `xy` using `adata.X`                                                  \n",
      "\u001b[34mINFO    \u001b[0m Normalizing spatial coordinates of `x`.                                                                   \n",
      "\u001b[34mINFO    \u001b[0m Normalizing spatial coordinates of `y`.                                                                   \n",
      "\u001b[34mINFO    \u001b[0m Solving `\u001b[1;36m1\u001b[0m` problems                                                                                      \n",
      "\u001b[34mINFO    \u001b[0m Solving problem OTProblem\u001b[1m[\u001b[0m\u001b[33mstage\u001b[0m=\u001b[32m'prepared'\u001b[0m, \u001b[33mshape\u001b[0m=\u001b[1m(\u001b[0m\u001b[1;36m4842\u001b[0m, \u001b[1;36m5157\u001b[0m\u001b[1m)\u001b[0m\u001b[1m]\u001b[0m.                                          \n"
     ]
    },
    {
     "name": "stderr",
     "output_type": "stream",
     "text": [
      " 94%|█████████████████████████▎ | 120/128 [21:43<01:24, 10.57s/it]"
     ]
    },
    {
     "name": "stdout",
     "output_type": "stream",
     "text": [
      "\u001b[34mINFO    \u001b[0m Computing pca with `\u001b[33mn_comps\u001b[0m=\u001b[1;36m30\u001b[0m` for `xy` using `adata.X`                                                  \n"
     ]
    },
    {
     "name": "stderr",
     "output_type": "stream",
     "text": [
      "/home/ylu/project/Benchmark_alignment_methods/notebooks/AllenMouseBrain_Zhuang/../../scripts/methods/my_moscot.py:56: ImplicitModificationWarning: Setting element `.obsm['aligned_spatial']` of view, initializing view as actual.\n",
      "  m.obsm[key_added] = m.obsm[spatial_key]\n"
     ]
    },
    {
     "name": "stdout",
     "output_type": "stream",
     "text": [
      "\u001b[34mINFO    \u001b[0m Normalizing spatial coordinates of `x`.                                                                   \n",
      "\u001b[34mINFO    \u001b[0m Normalizing spatial coordinates of `y`.                                                                   \n",
      "\u001b[34mINFO    \u001b[0m Solving `\u001b[1;36m1\u001b[0m` problems                                                                                      \n",
      "\u001b[34mINFO    \u001b[0m Solving problem OTProblem\u001b[1m[\u001b[0m\u001b[33mstage\u001b[0m=\u001b[32m'prepared'\u001b[0m, \u001b[33mshape\u001b[0m=\u001b[1m(\u001b[0m\u001b[1;36m4873\u001b[0m, \u001b[1;36m5126\u001b[0m\u001b[1m)\u001b[0m\u001b[1m]\u001b[0m.                                          \n"
     ]
    },
    {
     "name": "stderr",
     "output_type": "stream",
     "text": [
      " 95%|█████████████████████████▌ | 121/128 [21:54<01:15, 10.82s/it]"
     ]
    },
    {
     "name": "stdout",
     "output_type": "stream",
     "text": [
      "\u001b[34mINFO    \u001b[0m Computing pca with `\u001b[33mn_comps\u001b[0m=\u001b[1;36m30\u001b[0m` for `xy` using `adata.X`                                                  \n"
     ]
    },
    {
     "name": "stderr",
     "output_type": "stream",
     "text": [
      "/home/ylu/project/Benchmark_alignment_methods/notebooks/AllenMouseBrain_Zhuang/../../scripts/methods/my_moscot.py:56: ImplicitModificationWarning: Setting element `.obsm['aligned_spatial']` of view, initializing view as actual.\n",
      "  m.obsm[key_added] = m.obsm[spatial_key]\n"
     ]
    },
    {
     "name": "stdout",
     "output_type": "stream",
     "text": [
      "\u001b[34mINFO    \u001b[0m Normalizing spatial coordinates of `x`.                                                                   \n",
      "\u001b[34mINFO    \u001b[0m Normalizing spatial coordinates of `y`.                                                                   \n",
      "\u001b[34mINFO    \u001b[0m Solving `\u001b[1;36m1\u001b[0m` problems                                                                                      \n",
      "\u001b[34mINFO    \u001b[0m Solving problem OTProblem\u001b[1m[\u001b[0m\u001b[33mstage\u001b[0m=\u001b[32m'prepared'\u001b[0m, \u001b[33mshape\u001b[0m=\u001b[1m(\u001b[0m\u001b[1;36m5128\u001b[0m, \u001b[1;36m4871\u001b[0m\u001b[1m)\u001b[0m\u001b[1m]\u001b[0m.                                          \n"
     ]
    },
    {
     "name": "stderr",
     "output_type": "stream",
     "text": [
      " 95%|█████████████████████████▋ | 122/128 [22:01<00:57,  9.64s/it]"
     ]
    },
    {
     "name": "stdout",
     "output_type": "stream",
     "text": [
      "\u001b[34mINFO    \u001b[0m Computing pca with `\u001b[33mn_comps\u001b[0m=\u001b[1;36m30\u001b[0m` for `xy` using `adata.X`                                                  \n"
     ]
    },
    {
     "name": "stderr",
     "output_type": "stream",
     "text": [
      "/home/ylu/project/Benchmark_alignment_methods/notebooks/AllenMouseBrain_Zhuang/../../scripts/methods/my_moscot.py:56: ImplicitModificationWarning: Setting element `.obsm['aligned_spatial']` of view, initializing view as actual.\n",
      "  m.obsm[key_added] = m.obsm[spatial_key]\n"
     ]
    },
    {
     "name": "stdout",
     "output_type": "stream",
     "text": [
      "\u001b[34mINFO    \u001b[0m Normalizing spatial coordinates of `x`.                                                                   \n",
      "\u001b[34mINFO    \u001b[0m Normalizing spatial coordinates of `y`.                                                                   \n",
      "\u001b[34mINFO    \u001b[0m Solving `\u001b[1;36m1\u001b[0m` problems                                                                                      \n",
      "\u001b[34mINFO    \u001b[0m Solving problem OTProblem\u001b[1m[\u001b[0m\u001b[33mstage\u001b[0m=\u001b[32m'prepared'\u001b[0m, \u001b[33mshape\u001b[0m=\u001b[1m(\u001b[0m\u001b[1;36m5374\u001b[0m, \u001b[1;36m4625\u001b[0m\u001b[1m)\u001b[0m\u001b[1m]\u001b[0m.                                          \n"
     ]
    },
    {
     "name": "stderr",
     "output_type": "stream",
     "text": [
      " 96%|█████████████████████████▉ | 123/128 [22:12<00:49,  9.95s/it]"
     ]
    },
    {
     "name": "stdout",
     "output_type": "stream",
     "text": [
      "\u001b[34mINFO    \u001b[0m Computing pca with `\u001b[33mn_comps\u001b[0m=\u001b[1;36m30\u001b[0m` for `xy` using `adata.X`                                                  \n"
     ]
    },
    {
     "name": "stderr",
     "output_type": "stream",
     "text": [
      "/home/ylu/project/Benchmark_alignment_methods/notebooks/AllenMouseBrain_Zhuang/../../scripts/methods/my_moscot.py:56: ImplicitModificationWarning: Setting element `.obsm['aligned_spatial']` of view, initializing view as actual.\n",
      "  m.obsm[key_added] = m.obsm[spatial_key]\n"
     ]
    },
    {
     "name": "stdout",
     "output_type": "stream",
     "text": [
      "\u001b[34mINFO    \u001b[0m Normalizing spatial coordinates of `x`.                                                                   \n",
      "\u001b[34mINFO    \u001b[0m Normalizing spatial coordinates of `y`.                                                                   \n",
      "\u001b[34mINFO    \u001b[0m Solving `\u001b[1;36m1\u001b[0m` problems                                                                                      \n",
      "\u001b[34mINFO    \u001b[0m Solving problem OTProblem\u001b[1m[\u001b[0m\u001b[33mstage\u001b[0m=\u001b[32m'prepared'\u001b[0m, \u001b[33mshape\u001b[0m=\u001b[1m(\u001b[0m\u001b[1;36m4898\u001b[0m, \u001b[1;36m5101\u001b[0m\u001b[1m)\u001b[0m\u001b[1m]\u001b[0m.                                          \n"
     ]
    },
    {
     "name": "stderr",
     "output_type": "stream",
     "text": [
      " 97%|██████████████████████████▏| 124/128 [22:27<00:45, 11.46s/it]"
     ]
    },
    {
     "name": "stdout",
     "output_type": "stream",
     "text": [
      "\u001b[34mINFO    \u001b[0m Computing pca with `\u001b[33mn_comps\u001b[0m=\u001b[1;36m30\u001b[0m` for `xy` using `adata.X`                                                  \n"
     ]
    },
    {
     "name": "stderr",
     "output_type": "stream",
     "text": [
      "/home/ylu/project/Benchmark_alignment_methods/notebooks/AllenMouseBrain_Zhuang/../../scripts/methods/my_moscot.py:56: ImplicitModificationWarning: Setting element `.obsm['aligned_spatial']` of view, initializing view as actual.\n",
      "  m.obsm[key_added] = m.obsm[spatial_key]\n"
     ]
    },
    {
     "name": "stdout",
     "output_type": "stream",
     "text": [
      "\u001b[34mINFO    \u001b[0m Normalizing spatial coordinates of `x`.                                                                   \n",
      "\u001b[34mINFO    \u001b[0m Normalizing spatial coordinates of `y`.                                                                   \n",
      "\u001b[34mINFO    \u001b[0m Solving `\u001b[1;36m1\u001b[0m` problems                                                                                      \n",
      "\u001b[34mINFO    \u001b[0m Solving problem OTProblem\u001b[1m[\u001b[0m\u001b[33mstage\u001b[0m=\u001b[32m'prepared'\u001b[0m, \u001b[33mshape\u001b[0m=\u001b[1m(\u001b[0m\u001b[1;36m5091\u001b[0m, \u001b[1;36m4908\u001b[0m\u001b[1m)\u001b[0m\u001b[1m]\u001b[0m.                                          \n"
     ]
    },
    {
     "name": "stderr",
     "output_type": "stream",
     "text": [
      " 98%|██████████████████████████▎| 125/128 [22:39<00:35, 11.79s/it]"
     ]
    },
    {
     "name": "stdout",
     "output_type": "stream",
     "text": [
      "\u001b[34mINFO    \u001b[0m Computing pca with `\u001b[33mn_comps\u001b[0m=\u001b[1;36m30\u001b[0m` for `xy` using `adata.X`                                                  \n"
     ]
    },
    {
     "name": "stderr",
     "output_type": "stream",
     "text": [
      "/home/ylu/project/Benchmark_alignment_methods/notebooks/AllenMouseBrain_Zhuang/../../scripts/methods/my_moscot.py:56: ImplicitModificationWarning: Setting element `.obsm['aligned_spatial']` of view, initializing view as actual.\n",
      "  m.obsm[key_added] = m.obsm[spatial_key]\n"
     ]
    },
    {
     "name": "stdout",
     "output_type": "stream",
     "text": [
      "\u001b[34mINFO    \u001b[0m Normalizing spatial coordinates of `x`.                                                                   \n",
      "\u001b[34mINFO    \u001b[0m Normalizing spatial coordinates of `y`.                                                                   \n",
      "\u001b[34mINFO    \u001b[0m Solving `\u001b[1;36m1\u001b[0m` problems                                                                                      \n",
      "\u001b[34mINFO    \u001b[0m Solving problem OTProblem\u001b[1m[\u001b[0m\u001b[33mstage\u001b[0m=\u001b[32m'prepared'\u001b[0m, \u001b[33mshape\u001b[0m=\u001b[1m(\u001b[0m\u001b[1;36m4569\u001b[0m, \u001b[1;36m5430\u001b[0m\u001b[1m)\u001b[0m\u001b[1m]\u001b[0m.                                          \n"
     ]
    },
    {
     "name": "stderr",
     "output_type": "stream",
     "text": [
      " 98%|██████████████████████████▌| 126/128 [22:52<00:23, 11.96s/it]"
     ]
    },
    {
     "name": "stdout",
     "output_type": "stream",
     "text": [
      "\u001b[34mINFO    \u001b[0m Computing pca with `\u001b[33mn_comps\u001b[0m=\u001b[1;36m30\u001b[0m` for `xy` using `adata.X`                                                  \n"
     ]
    },
    {
     "name": "stderr",
     "output_type": "stream",
     "text": [
      "/home/ylu/project/Benchmark_alignment_methods/notebooks/AllenMouseBrain_Zhuang/../../scripts/methods/my_moscot.py:56: ImplicitModificationWarning: Setting element `.obsm['aligned_spatial']` of view, initializing view as actual.\n",
      "  m.obsm[key_added] = m.obsm[spatial_key]\n"
     ]
    },
    {
     "name": "stdout",
     "output_type": "stream",
     "text": [
      "\u001b[34mINFO    \u001b[0m Normalizing spatial coordinates of `x`.                                                                   \n",
      "\u001b[34mINFO    \u001b[0m Normalizing spatial coordinates of `y`.                                                                   \n",
      "\u001b[34mINFO    \u001b[0m Solving `\u001b[1;36m1\u001b[0m` problems                                                                                      \n",
      "\u001b[34mINFO    \u001b[0m Solving problem OTProblem\u001b[1m[\u001b[0m\u001b[33mstage\u001b[0m=\u001b[32m'prepared'\u001b[0m, \u001b[33mshape\u001b[0m=\u001b[1m(\u001b[0m\u001b[1;36m5895\u001b[0m, \u001b[1;36m4104\u001b[0m\u001b[1m)\u001b[0m\u001b[1m]\u001b[0m.                                          \n"
     ]
    },
    {
     "name": "stderr",
     "output_type": "stream",
     "text": [
      " 99%|██████████████████████████▊| 127/128 [23:03<00:11, 11.68s/it]"
     ]
    },
    {
     "name": "stdout",
     "output_type": "stream",
     "text": [
      "\u001b[34mINFO    \u001b[0m Computing pca with `\u001b[33mn_comps\u001b[0m=\u001b[1;36m30\u001b[0m` for `xy` using `adata.X`                                                  \n"
     ]
    },
    {
     "name": "stderr",
     "output_type": "stream",
     "text": [
      "/home/ylu/project/Benchmark_alignment_methods/notebooks/AllenMouseBrain_Zhuang/../../scripts/methods/my_moscot.py:56: ImplicitModificationWarning: Setting element `.obsm['aligned_spatial']` of view, initializing view as actual.\n",
      "  m.obsm[key_added] = m.obsm[spatial_key]\n"
     ]
    },
    {
     "name": "stdout",
     "output_type": "stream",
     "text": [
      "\u001b[34mINFO    \u001b[0m Normalizing spatial coordinates of `x`.                                                                   \n",
      "\u001b[34mINFO    \u001b[0m Normalizing spatial coordinates of `y`.                                                                   \n",
      "\u001b[34mINFO    \u001b[0m Solving `\u001b[1;36m1\u001b[0m` problems                                                                                      \n",
      "\u001b[34mINFO    \u001b[0m Solving problem OTProblem\u001b[1m[\u001b[0m\u001b[33mstage\u001b[0m=\u001b[32m'prepared'\u001b[0m, \u001b[33mshape\u001b[0m=\u001b[1m(\u001b[0m\u001b[1;36m5525\u001b[0m, \u001b[1;36m4474\u001b[0m\u001b[1m)\u001b[0m\u001b[1m]\u001b[0m.                                          \n"
     ]
    },
    {
     "name": "stderr",
     "output_type": "stream",
     "text": [
      "100%|███████████████████████████| 128/128 [23:14<00:00, 10.90s/it]\n"
     ]
    }
   ],
   "source": [
    "## Perform the Moscot alignment\n",
    "sampling_num = 20000\n",
    "for i in tqdm(range(len(slices)-1)):\n",
    "    slice1, slice2 = slices[i].copy(), slices[i+1].copy()\n",
    "    ratio = sampling_num * 2 / (slice1.n_obs + slice2.n_obs)\n",
    "    sampline_idx1 = np.random.choice(slice1.shape[0], int(slice1.shape[0] * ratio), replace=False) if slice1.shape[0] > int(slice1.shape[0] * ratio) else np.arange(slice1.shape[0])\n",
    "    sampline_idx2 = np.random.choice(slice2.shape[0], int(slice2.shape[0] * ratio), replace=False) if slice2.shape[0] > int(slice2.shape[0] * ratio) else np.arange(slice2.shape[0])\n",
    "    slice1 = slice1[sampline_idx1,:]\n",
    "    slice2 = slice2[sampline_idx2,:]\n",
    "    time_start = time.time()\n",
    "    align_slices, pis = moscot_align(\n",
    "        models=[slice1, slice2],\n",
    "        spatial_key=spatial_key,\n",
    "        key_added=key_added,\n",
    "        device=\"cuda\",\n",
    "        verbose=False,\n",
    "        alpha=0.5,\n",
    "    )\n",
    "    time_end = time.time()\n",
    "    matches = [np.arange(pis[0].shape[0]), np.argmax(pis[0], axis=1)]\n",
    "    R, t=solve_RT_by_correspondence(align_slices[1].obsm[key_added], align_slices[1].obsm[spatial_key])\n",
    "    alignment_results = {'sampling_idx1': sampline_idx1, 'sampline_idx2': sampline_idx2, 'R': R, 't': t, 'matches': matches, 'time': time_end - time_start}\n",
    "    np.save(os.path.join(results_folder, f\"slice_{i}_{i+1}_sampling_{sampling_num}.npy\"), alignment_results, allow_pickle=True)"
   ]
  },
  {
   "cell_type": "code",
   "execution_count": null,
   "id": "ab0e97a4-3443-4be3-a253-9957d268123b",
   "metadata": {},
   "outputs": [],
   "source": []
  }
 ],
 "metadata": {
  "kernelspec": {
   "display_name": "GPSA",
   "language": "python",
   "name": "gpsa"
  },
  "language_info": {
   "codemirror_mode": {
    "name": "ipython",
    "version": 3
   },
   "file_extension": ".py",
   "mimetype": "text/x-python",
   "name": "python",
   "nbconvert_exporter": "python",
   "pygments_lexer": "ipython3",
   "version": "3.9.19"
  }
 },
 "nbformat": 4,
 "nbformat_minor": 5
}
