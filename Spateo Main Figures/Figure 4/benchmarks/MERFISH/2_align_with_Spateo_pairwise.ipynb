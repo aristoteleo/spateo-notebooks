{
 "cells": [
  {
   "cell_type": "code",
   "execution_count": 1,
   "id": "0908cd60-618c-42e7-9854-9713751acdda",
   "metadata": {
    "execution": {
     "iopub.execute_input": "2024-07-15T20:18:46.223061Z",
     "iopub.status.busy": "2024-07-15T20:18:46.222772Z",
     "iopub.status.idle": "2024-07-15T20:18:58.648477Z",
     "shell.execute_reply": "2024-07-15T20:18:58.647827Z",
     "shell.execute_reply.started": "2024-07-15T20:18:46.223041Z"
    }
   },
   "outputs": [
    {
     "name": "stderr",
     "output_type": "stream",
     "text": [
      "2024-07-15 20:18:49.885000: I tensorflow/core/platform/cpu_feature_guard.cc:193] This TensorFlow binary is optimized with oneAPI Deep Neural Network Library (oneDNN) to use the following CPU instructions in performance-critical operations:  AVX2 AVX512F FMA\n",
      "To enable them in other operations, rebuild TensorFlow with the appropriate compiler flags.\n",
      "2024-07-15 20:18:50.031811: W tensorflow/compiler/xla/stream_executor/platform/default/dso_loader.cc:64] Could not load dynamic library 'libcudart.so.11.0'; dlerror: libcudart.so.11.0: cannot open shared object file: No such file or directory; LD_LIBRARY_PATH: /usr/local/cuda-12.3/lib64\n",
      "2024-07-15 20:18:50.031845: I tensorflow/compiler/xla/stream_executor/cuda/cudart_stub.cc:29] Ignore above cudart dlerror if you do not have a GPU set up on your machine.\n",
      "2024-07-15 20:18:50.742074: W tensorflow/compiler/xla/stream_executor/platform/default/dso_loader.cc:64] Could not load dynamic library 'libnvinfer.so.7'; dlerror: libnvinfer.so.7: cannot open shared object file: No such file or directory; LD_LIBRARY_PATH: /usr/local/cuda-12.3/lib64\n",
      "2024-07-15 20:18:50.742177: W tensorflow/compiler/xla/stream_executor/platform/default/dso_loader.cc:64] Could not load dynamic library 'libnvinfer_plugin.so.7'; dlerror: libnvinfer_plugin.so.7: cannot open shared object file: No such file or directory; LD_LIBRARY_PATH: /usr/local/cuda-12.3/lib64\n",
      "2024-07-15 20:18:50.742185: W tensorflow/compiler/tf2tensorrt/utils/py_utils.cc:38] TF-TRT Warning: Cannot dlopen some TensorRT libraries. If you would like to use Nvidia GPU with TensorRT, please make sure the missing libraries mentioned above are installed properly.\n",
      "_XSERVTransSocketUNIXCreateListener: ...SocketCreateListener() failed\n",
      "_XSERVTransMakeAllCOTSServerListeners: server already running\n",
      "(EE) \n",
      "Fatal server error:\n",
      "(EE) Cannot establish any listening sockets - Make sure an X server isn't already running(EE) \n"
     ]
    }
   ],
   "source": [
    "import os\n",
    "os.environ['CUDA_VISIBLE_DEVICES'] = '2'\n",
    "import sys\n",
    "from pathlib import Path\n",
    "import anndata as ad\n",
    "import scanpy as sc\n",
    "import numpy as np\n",
    "import warnings\n",
    "warnings.simplefilter(action='ignore', category=FutureWarning)\n",
    "import seaborn as sns\n",
    "from matplotlib import pyplot as plt\n",
    "sys.path.insert(0, \"/home/ylu/project/spateo-release_new\")\n",
    "import spateo_dev as st\n",
    "sys.path.insert(0, \"/home/ylu/project\")\n",
    "from utils import *\n",
    "import time\n",
    "\n",
    "os.system('/usr/bin/Xvfb :99 -screen 0 1024x768x24 &')\n",
    "os.environ['DISPLAY'] = ':99'\n",
    "\n",
    "%load_ext autoreload\n",
    "%autoreload 2"
   ]
  },
  {
   "cell_type": "code",
   "execution_count": 2,
   "id": "e7b47bc4-0453-474d-a39f-aa14ed636caa",
   "metadata": {
    "execution": {
     "iopub.execute_input": "2024-07-15T20:18:58.650418Z",
     "iopub.status.busy": "2024-07-15T20:18:58.649437Z",
     "iopub.status.idle": "2024-07-15T20:18:58.712867Z",
     "shell.execute_reply": "2024-07-15T20:18:58.712325Z",
     "shell.execute_reply.started": "2024-07-15T20:18:58.650395Z"
    }
   },
   "outputs": [],
   "source": [
    "data_folder = \"./results/split_slices_CCF/\"\n",
    "results_folder = \"./results/Spateo_new/\"\n",
    "figures_folder = \"./results/figures/Spateo_new\"\n",
    "Path(results_folder).mkdir(parents=True, exist_ok=True)"
   ]
  },
  {
   "cell_type": "code",
   "execution_count": 3,
   "id": "e59710e8-3808-46ad-9e6a-1bfaf1616a7f",
   "metadata": {
    "execution": {
     "iopub.execute_input": "2024-07-15T20:18:58.714712Z",
     "iopub.status.busy": "2024-07-15T20:18:58.714337Z",
     "iopub.status.idle": "2024-07-15T20:18:58.777612Z",
     "shell.execute_reply": "2024-07-15T20:18:58.777074Z",
     "shell.execute_reply.started": "2024-07-15T20:18:58.714689Z"
    }
   },
   "outputs": [],
   "source": [
    "import re\n",
    "def list_and_sort_files_by_number(directory_path, suffix):\n",
    "    def extract_number(filename):\n",
    "        match = re.search(r'\\d+', filename)\n",
    "        return int(match.group()) if match else float('inf')\n",
    "    try:\n",
    "        files = [f for f in os.listdir(directory_path) if f.endswith(suffix)]\n",
    "        sorted_files = sorted(files, key=extract_number)\n",
    "        return sorted_files\n",
    "    except FileNotFoundError:\n",
    "        return f\"The directory {directory_path} does not exist.\"\n",
    "    except NotADirectoryError:\n",
    "        return f\"The path {directory_path} is not a directory.\"\n",
    "    except PermissionError:\n",
    "        return f\"Permission denied to access {directory_path}.\"\n",
    "\n",
    "directory_path = data_folder\n",
    "sorted_files = list_and_sort_files_by_number(directory_path, '.h5ad')"
   ]
  },
  {
   "cell_type": "code",
   "execution_count": 4,
   "id": "dea7abee-5509-4d87-8b86-19fb460fcb84",
   "metadata": {
    "execution": {
     "iopub.execute_input": "2024-07-15T20:18:58.778621Z",
     "iopub.status.busy": "2024-07-15T20:18:58.778370Z",
     "iopub.status.idle": "2024-07-15T20:19:20.892133Z",
     "shell.execute_reply": "2024-07-15T20:19:20.891379Z",
     "shell.execute_reply.started": "2024-07-15T20:18:58.778602Z"
    }
   },
   "outputs": [
    {
     "name": "stderr",
     "output_type": "stream",
     "text": [
      "100%|███████████████████████████| 129/129 [00:22<00:00,  5.85it/s]\n"
     ]
    }
   ],
   "source": [
    "## load the data\n",
    "from tqdm import tqdm\n",
    "slices = []\n",
    "for f in tqdm(sorted_files):\n",
    "    slices.append(ad.read_h5ad(os.path.join(data_folder, f)))"
   ]
  },
  {
   "cell_type": "code",
   "execution_count": 5,
   "id": "24840e17-a7da-4938-8e80-c4d7993303be",
   "metadata": {
    "execution": {
     "iopub.execute_input": "2024-07-15T20:19:20.894292Z",
     "iopub.status.busy": "2024-07-15T20:19:20.893949Z",
     "iopub.status.idle": "2024-07-15T20:19:20.986972Z",
     "shell.execute_reply": "2024-07-15T20:19:20.986271Z",
     "shell.execute_reply.started": "2024-07-15T20:19:20.894269Z"
    }
   },
   "outputs": [],
   "source": [
    "spatial_key = \"spatial_2D\"\n",
    "anno_key = \"cell_type\""
   ]
  },
  {
   "cell_type": "code",
   "execution_count": 6,
   "id": "1bf95a00-6497-41f2-959f-fd6b207731c0",
   "metadata": {
    "execution": {
     "iopub.execute_input": "2024-07-15T20:19:20.988370Z",
     "iopub.status.busy": "2024-07-15T20:19:20.988010Z",
     "iopub.status.idle": "2024-07-15T20:19:21.308429Z",
     "shell.execute_reply": "2024-07-15T20:19:21.307806Z",
     "shell.execute_reply.started": "2024-07-15T20:19:20.988347Z"
    }
   },
   "outputs": [],
   "source": [
    "## Rotate the data\n",
    "rotate_key = \"spatial_rot\"\n",
    "rotations = np.load(\"./results/random_rotations.npy\", allow_pickle=True)\n",
    "for i in range(len(slices)):\n",
    "    slices[i].obsm[rotate_key] = slices[i].obsm[spatial_key][:,:2].copy()\n",
    "    mean = np.mean(slices[i].obsm[rotate_key], axis=0)\n",
    "    slices[i].obsm[rotate_key] = slices[i].obsm[rotate_key] - mean\n",
    "    slices[i].obsm[rotate_key] = slices[i].obsm[rotate_key] @ rotations[i].T + mean\n",
    "    "
   ]
  },
  {
   "cell_type": "code",
   "execution_count": 7,
   "id": "3e3a25fd-c7b7-4bcf-bd2f-214badbcbbaa",
   "metadata": {
    "execution": {
     "iopub.execute_input": "2024-07-15T20:19:21.309669Z",
     "iopub.status.busy": "2024-07-15T20:19:21.309325Z",
     "iopub.status.idle": "2024-07-15T20:19:21.375386Z",
     "shell.execute_reply": "2024-07-15T20:19:21.374792Z",
     "shell.execute_reply.started": "2024-07-15T20:19:21.309648Z"
    }
   },
   "outputs": [],
   "source": [
    "spatial_key = \"spatial_rot\"\n",
    "key_added = \"aligned_spatial\""
   ]
  },
  {
   "cell_type": "code",
   "execution_count": 8,
   "id": "4d4bce49-e6f9-40da-8186-ac93595f278b",
   "metadata": {
    "execution": {
     "iopub.execute_input": "2024-07-15T20:19:21.376754Z",
     "iopub.status.busy": "2024-07-15T20:19:21.376349Z",
     "iopub.status.idle": "2024-07-15T20:21:01.548736Z",
     "shell.execute_reply": "2024-07-15T20:21:01.548032Z",
     "shell.execute_reply.started": "2024-07-15T20:19:21.376731Z"
    }
   },
   "outputs": [
    {
     "name": "stderr",
     "output_type": "stream",
     "text": [
      "  0%|                                     | 0/128 [00:00<?, ?it/s]"
     ]
    },
    {
     "name": "stdout",
     "output_type": "stream",
     "text": [
      "|-----> [Models alignment based on morpho, mode: SN-S.] in progress: 100.0000%tensor(0.0885, device='cuda:0')\n",
      "tensor(0.0797, device='cuda:0')\n",
      "tensor(0.0715, device='cuda:0')\n",
      "|-----> [Models alignment based on morpho, mode: SN-S.] in progress: 100.0000%\n",
      "|-----> [Models alignment based on morpho, mode: SN-S.] finished [2.6165s]\n"
     ]
    },
    {
     "name": "stderr",
     "output_type": "stream",
     "text": [
      "  1%|▏                            | 1/128 [00:02<06:10,  2.92s/it]"
     ]
    },
    {
     "name": "stdout",
     "output_type": "stream",
     "text": [
      "|-----> [Models alignment based on morpho, mode: SN-S.] in progress: 100.0000%tensor(0.0885, device='cuda:0')\n",
      "tensor(0.0797, device='cuda:0')\n",
      "tensor(0.0722, device='cuda:0')\n",
      "|-----> [Models alignment based on morpho, mode: SN-S.] in progress: 100.0000%\n",
      "|-----> [Models alignment based on morpho, mode: SN-S.] finished [0.5471s]\n"
     ]
    },
    {
     "name": "stderr",
     "output_type": "stream",
     "text": [
      "  2%|▍                            | 2/128 [00:03<03:33,  1.70s/it]"
     ]
    },
    {
     "name": "stdout",
     "output_type": "stream",
     "text": [
      "|-----> [Models alignment based on morpho, mode: SN-S.] in progress: 100.0000%tensor(0.0898, device='cuda:0')\n",
      "tensor(0.0810, device='cuda:0')\n",
      "tensor(0.0736, device='cuda:0')\n",
      "|-----> [Models alignment based on morpho, mode: SN-S.] in progress: 100.0000%\n",
      "|-----> [Models alignment based on morpho, mode: SN-S.] finished [0.5472s]\n"
     ]
    },
    {
     "name": "stderr",
     "output_type": "stream",
     "text": [
      "  2%|▋                            | 3/128 [00:04<02:42,  1.30s/it]"
     ]
    },
    {
     "name": "stdout",
     "output_type": "stream",
     "text": [
      "|-----> [Models alignment based on morpho, mode: SN-S.] in progress: 100.0000%tensor(0.0901, device='cuda:0')\n",
      "tensor(0.0816, device='cuda:0')\n",
      "tensor(0.0754, device='cuda:0')\n",
      "|-----> [Models alignment based on morpho, mode: SN-S.] in progress: 100.0000%\n",
      "|-----> [Models alignment based on morpho, mode: SN-S.] finished [0.5826s]\n"
     ]
    },
    {
     "name": "stderr",
     "output_type": "stream",
     "text": [
      "  3%|▉                            | 4/128 [00:05<02:20,  1.13s/it]"
     ]
    },
    {
     "name": "stdout",
     "output_type": "stream",
     "text": [
      "|-----> [Models alignment based on morpho, mode: SN-S.] in progress: 100.0000%tensor(0.0890, device='cuda:0')\n",
      "tensor(0.0798, device='cuda:0')\n",
      "tensor(0.0718, device='cuda:0')\n",
      "|-----> [Models alignment based on morpho, mode: SN-S.] in progress: 100.0000%\n",
      "|-----> [Models alignment based on morpho, mode: SN-S.] finished [0.5720s]\n"
     ]
    },
    {
     "name": "stderr",
     "output_type": "stream",
     "text": [
      "  4%|█▏                           | 5/128 [00:06<02:08,  1.04s/it]"
     ]
    },
    {
     "name": "stdout",
     "output_type": "stream",
     "text": [
      "|-----> [Models alignment based on morpho, mode: SN-S.] in progress: 100.0000%tensor(0.0897, device='cuda:0')\n",
      "tensor(0.0823, device='cuda:0')\n",
      "tensor(0.0752, device='cuda:0')\n",
      "|-----> [Models alignment based on morpho, mode: SN-S.] in progress: 100.0000%\n",
      "|-----> [Models alignment based on morpho, mode: SN-S.] finished [0.5543s]\n"
     ]
    },
    {
     "name": "stderr",
     "output_type": "stream",
     "text": [
      "  5%|█▎                           | 6/128 [00:07<01:59,  1.02it/s]"
     ]
    },
    {
     "name": "stdout",
     "output_type": "stream",
     "text": [
      "|-----> [Models alignment based on morpho, mode: SN-S.] in progress: 100.0000%tensor(0.0889, device='cuda:0')\n",
      "tensor(0.0803, device='cuda:0')\n",
      "tensor(0.0729, device='cuda:0')\n",
      "|-----> [Models alignment based on morpho, mode: SN-S.] in progress: 100.0000%\n",
      "|-----> [Models alignment based on morpho, mode: SN-S.] finished [0.5507s]\n"
     ]
    },
    {
     "name": "stderr",
     "output_type": "stream",
     "text": [
      "  5%|█▌                           | 7/128 [00:08<01:52,  1.08it/s]"
     ]
    },
    {
     "name": "stdout",
     "output_type": "stream",
     "text": [
      "|-----> [Models alignment based on morpho, mode: SN-S.] in progress: 100.0000%tensor(0.0901, device='cuda:0')\n",
      "tensor(0.0823, device='cuda:0')\n",
      "tensor(0.0750, device='cuda:0')\n",
      "|-----> [Models alignment based on morpho, mode: SN-S.] in progress: 100.0000%\n",
      "|-----> [Models alignment based on morpho, mode: SN-S.] finished [0.5482s]\n"
     ]
    },
    {
     "name": "stderr",
     "output_type": "stream",
     "text": [
      "  6%|█▊                           | 8/128 [00:08<01:47,  1.11it/s]"
     ]
    },
    {
     "name": "stdout",
     "output_type": "stream",
     "text": [
      "|-----> [Models alignment based on morpho, mode: SN-S.] in progress: 100.0000%tensor(0.0906, device='cuda:0')\n",
      "tensor(0.0817, device='cuda:0')\n",
      "tensor(0.0737, device='cuda:0')\n",
      "|-----> [Models alignment based on morpho, mode: SN-S.] in progress: 100.0000%\n",
      "|-----> [Models alignment based on morpho, mode: SN-S.] finished [0.5350s]\n"
     ]
    },
    {
     "name": "stderr",
     "output_type": "stream",
     "text": [
      "  7%|██                           | 9/128 [00:09<01:43,  1.15it/s]"
     ]
    },
    {
     "name": "stdout",
     "output_type": "stream",
     "text": [
      "|-----> [Models alignment based on morpho, mode: SN-S.] in progress: 100.0000%tensor(0.0915, device='cuda:0')\n",
      "tensor(0.0841, device='cuda:0')\n",
      "tensor(0.0772, device='cuda:0')\n",
      "|-----> [Models alignment based on morpho, mode: SN-S.] in progress: 100.0000%\n",
      "|-----> [Models alignment based on morpho, mode: SN-S.] finished [1.0106s]\n"
     ]
    },
    {
     "name": "stderr",
     "output_type": "stream",
     "text": [
      "  8%|██▏                         | 10/128 [00:10<01:58,  1.00s/it]"
     ]
    },
    {
     "name": "stdout",
     "output_type": "stream",
     "text": [
      "|-----> [Models alignment based on morpho, mode: SN-S.] in progress: 100.0000%tensor(0.0898, device='cuda:0')\n",
      "tensor(0.0810, device='cuda:0')\n",
      "tensor(0.0733, device='cuda:0')\n",
      "|-----> [Models alignment based on morpho, mode: SN-S.] in progress: 100.0000%\n",
      "|-----> [Models alignment based on morpho, mode: SN-S.] finished [0.5481s]\n"
     ]
    },
    {
     "name": "stderr",
     "output_type": "stream",
     "text": [
      "  9%|██▍                         | 11/128 [00:11<01:50,  1.06it/s]"
     ]
    },
    {
     "name": "stdout",
     "output_type": "stream",
     "text": [
      "|-----> [Models alignment based on morpho, mode: SN-S.] in progress: 100.0000%tensor(0.0894, device='cuda:0')\n",
      "tensor(0.0803, device='cuda:0')\n",
      "tensor(0.0722, device='cuda:0')\n",
      "|-----> [Models alignment based on morpho, mode: SN-S.] in progress: 100.0000%\n",
      "|-----> [Models alignment based on morpho, mode: SN-S.] finished [0.4630s]\n"
     ]
    },
    {
     "name": "stderr",
     "output_type": "stream",
     "text": [
      "  9%|██▋                         | 12/128 [00:12<01:42,  1.13it/s]"
     ]
    },
    {
     "name": "stdout",
     "output_type": "stream",
     "text": [
      "|-----> [Models alignment based on morpho, mode: SN-S.] in progress: 100.0000%tensor(0.0909, device='cuda:0')\n",
      "tensor(0.0829, device='cuda:0')\n",
      "tensor(0.0763, device='cuda:0')\n",
      "|-----> [Models alignment based on morpho, mode: SN-S.] in progress: 100.0000%\n",
      "|-----> [Models alignment based on morpho, mode: SN-S.] finished [0.4938s]\n"
     ]
    },
    {
     "name": "stderr",
     "output_type": "stream",
     "text": [
      " 10%|██▊                         | 13/128 [00:13<01:36,  1.19it/s]"
     ]
    },
    {
     "name": "stdout",
     "output_type": "stream",
     "text": [
      "|-----> [Models alignment based on morpho, mode: SN-S.] in progress: 100.0000%tensor(0.0894, device='cuda:0')\n",
      "tensor(0.0804, device='cuda:0')\n",
      "tensor(0.0729, device='cuda:0')\n",
      "|-----> [Models alignment based on morpho, mode: SN-S.] in progress: 100.0000%\n",
      "|-----> [Models alignment based on morpho, mode: SN-S.] finished [0.4412s]\n"
     ]
    },
    {
     "name": "stderr",
     "output_type": "stream",
     "text": [
      " 11%|███                         | 14/128 [00:13<01:30,  1.26it/s]"
     ]
    },
    {
     "name": "stdout",
     "output_type": "stream",
     "text": [
      "|-----> [Models alignment based on morpho, mode: SN-S.] in progress: 100.0000%tensor(0.0924, device='cuda:0')\n",
      "tensor(0.0833, device='cuda:0')\n",
      "tensor(0.0752, device='cuda:0')\n",
      "|-----> [Models alignment based on morpho, mode: SN-S.] in progress: 100.0000%\n",
      "|-----> [Models alignment based on morpho, mode: SN-S.] finished [0.4604s]\n"
     ]
    },
    {
     "name": "stderr",
     "output_type": "stream",
     "text": [
      " 12%|███▎                        | 15/128 [00:14<01:28,  1.28it/s]"
     ]
    },
    {
     "name": "stdout",
     "output_type": "stream",
     "text": [
      "|-----> [Models alignment based on morpho, mode: SN-S.] in progress: 100.0000%tensor(0.0926, device='cuda:0')\n",
      "tensor(0.0847, device='cuda:0')\n",
      "tensor(0.0787, device='cuda:0')\n",
      "|-----> [Models alignment based on morpho, mode: SN-S.] in progress: 100.0000%\n",
      "|-----> [Models alignment based on morpho, mode: SN-S.] finished [0.4426s]\n"
     ]
    },
    {
     "name": "stderr",
     "output_type": "stream",
     "text": [
      " 12%|███▌                        | 16/128 [00:15<01:24,  1.33it/s]"
     ]
    },
    {
     "name": "stdout",
     "output_type": "stream",
     "text": [
      "|-----> [Models alignment based on morpho, mode: SN-S.] in progress: 100.0000%tensor(0.0890, device='cuda:0')\n",
      "tensor(0.0800, device='cuda:0')\n",
      "tensor(0.0716, device='cuda:0')\n",
      "|-----> [Models alignment based on morpho, mode: SN-S.] in progress: 100.0000%\n",
      "|-----> [Models alignment based on morpho, mode: SN-S.] finished [0.5100s]\n"
     ]
    },
    {
     "name": "stderr",
     "output_type": "stream",
     "text": [
      " 13%|███▋                        | 17/128 [00:16<01:23,  1.32it/s]"
     ]
    },
    {
     "name": "stdout",
     "output_type": "stream",
     "text": [
      "|-----> [Models alignment based on morpho, mode: SN-S.] in progress: 100.0000%tensor(0.0876, device='cuda:0')\n",
      "tensor(0.0759, device='cuda:0')\n",
      "tensor(0.0665, device='cuda:0')\n",
      "|-----> [Models alignment based on morpho, mode: SN-S.] in progress: 100.0000%\n",
      "|-----> [Models alignment based on morpho, mode: SN-S.] finished [0.5382s]\n"
     ]
    },
    {
     "name": "stderr",
     "output_type": "stream",
     "text": [
      " 14%|███▉                        | 18/128 [00:16<01:24,  1.30it/s]"
     ]
    },
    {
     "name": "stdout",
     "output_type": "stream",
     "text": [
      "|-----> [Models alignment based on morpho, mode: SN-S.] in progress: 100.0000%tensor(0.0880, device='cuda:0')\n",
      "tensor(0.0783, device='cuda:0')\n",
      "tensor(0.0706, device='cuda:0')\n",
      "|-----> [Models alignment based on morpho, mode: SN-S.] in progress: 100.0000%\n",
      "|-----> [Models alignment based on morpho, mode: SN-S.] finished [0.5023s]\n"
     ]
    },
    {
     "name": "stderr",
     "output_type": "stream",
     "text": [
      " 15%|████▏                       | 19/128 [00:17<01:24,  1.29it/s]"
     ]
    },
    {
     "name": "stdout",
     "output_type": "stream",
     "text": [
      "|-----> [Models alignment based on morpho, mode: SN-S.] in progress: 100.0000%tensor(0.0836, device='cuda:0')\n",
      "tensor(0.0711, device='cuda:0')\n",
      "tensor(0.0616, device='cuda:0')\n",
      "|-----> [Models alignment based on morpho, mode: SN-S.] in progress: 100.0000%\n",
      "|-----> [Models alignment based on morpho, mode: SN-S.] finished [0.5561s]\n"
     ]
    },
    {
     "name": "stderr",
     "output_type": "stream",
     "text": [
      " 16%|████▍                       | 20/128 [00:18<01:27,  1.23it/s]"
     ]
    },
    {
     "name": "stdout",
     "output_type": "stream",
     "text": [
      "|-----> [Models alignment based on morpho, mode: SN-S.] in progress: 100.0000%tensor(0.0828, device='cuda:0')\n",
      "tensor(0.0706, device='cuda:0')\n",
      "tensor(0.0615, device='cuda:0')\n",
      "|-----> [Models alignment based on morpho, mode: SN-S.] in progress: 100.0000%\n",
      "|-----> [Models alignment based on morpho, mode: SN-S.] finished [0.5183s]\n"
     ]
    },
    {
     "name": "stderr",
     "output_type": "stream",
     "text": [
      " 16%|████▌                       | 21/128 [00:19<01:27,  1.23it/s]"
     ]
    },
    {
     "name": "stdout",
     "output_type": "stream",
     "text": [
      "|-----> [Models alignment based on morpho, mode: SN-S.] in progress: 100.0000%tensor(0.0836, device='cuda:0')\n",
      "tensor(0.0714, device='cuda:0')\n",
      "tensor(0.0622, device='cuda:0')\n",
      "|-----> [Models alignment based on morpho, mode: SN-S.] in progress: 100.0000%\n",
      "|-----> [Models alignment based on morpho, mode: SN-S.] finished [0.4661s]\n"
     ]
    },
    {
     "name": "stderr",
     "output_type": "stream",
     "text": [
      " 17%|████▊                       | 22/128 [00:20<01:24,  1.25it/s]"
     ]
    },
    {
     "name": "stdout",
     "output_type": "stream",
     "text": [
      "|-----> [Models alignment based on morpho, mode: SN-S.] in progress: 100.0000%tensor(0.0841, device='cuda:0')\n",
      "tensor(0.0728, device='cuda:0')\n",
      "tensor(0.0637, device='cuda:0')\n",
      "|-----> [Models alignment based on morpho, mode: SN-S.] in progress: 100.0000%\n",
      "|-----> [Models alignment based on morpho, mode: SN-S.] finished [0.5176s]\n"
     ]
    },
    {
     "name": "stderr",
     "output_type": "stream",
     "text": [
      " 18%|█████                       | 23/128 [00:21<01:24,  1.25it/s]"
     ]
    },
    {
     "name": "stdout",
     "output_type": "stream",
     "text": [
      "|-----> [Models alignment based on morpho, mode: SN-S.] in progress: 100.0000%tensor(0.0870, device='cuda:0')\n",
      "tensor(0.0762, device='cuda:0')\n",
      "tensor(0.0668, device='cuda:0')\n",
      "|-----> [Models alignment based on morpho, mode: SN-S.] in progress: 100.0000%\n",
      "|-----> [Models alignment based on morpho, mode: SN-S.] finished [0.5324s]\n"
     ]
    },
    {
     "name": "stderr",
     "output_type": "stream",
     "text": [
      " 19%|█████▎                      | 24/128 [00:21<01:24,  1.24it/s]"
     ]
    },
    {
     "name": "stdout",
     "output_type": "stream",
     "text": [
      "|-----> [Models alignment based on morpho, mode: SN-S.] in progress: 100.0000%tensor(0.0860, device='cuda:0')\n",
      "tensor(0.0744, device='cuda:0')\n",
      "tensor(0.0652, device='cuda:0')\n",
      "|-----> [Models alignment based on morpho, mode: SN-S.] in progress: 100.0000%\n",
      "|-----> [Models alignment based on morpho, mode: SN-S.] finished [0.5192s]\n"
     ]
    },
    {
     "name": "stderr",
     "output_type": "stream",
     "text": [
      " 20%|█████▍                      | 25/128 [00:22<01:23,  1.23it/s]"
     ]
    },
    {
     "name": "stdout",
     "output_type": "stream",
     "text": [
      "|-----> [Models alignment based on morpho, mode: SN-S.] in progress: 100.0000%tensor(0.0873, device='cuda:0')\n",
      "tensor(0.0767, device='cuda:0')\n",
      "tensor(0.0681, device='cuda:0')\n",
      "|-----> [Models alignment based on morpho, mode: SN-S.] in progress: 100.0000%\n",
      "|-----> [Models alignment based on morpho, mode: SN-S.] finished [0.5324s]\n"
     ]
    },
    {
     "name": "stderr",
     "output_type": "stream",
     "text": [
      " 20%|█████▋                      | 26/128 [00:23<01:23,  1.22it/s]"
     ]
    },
    {
     "name": "stdout",
     "output_type": "stream",
     "text": [
      "|-----> [Models alignment based on morpho, mode: SN-S.] in progress: 100.0000%tensor(0.0882, device='cuda:0')\n",
      "tensor(0.0784, device='cuda:0')\n",
      "tensor(0.0703, device='cuda:0')\n",
      "|-----> [Models alignment based on morpho, mode: SN-S.] in progress: 100.0000%\n",
      "|-----> [Models alignment based on morpho, mode: SN-S.] finished [0.5271s]\n"
     ]
    },
    {
     "name": "stderr",
     "output_type": "stream",
     "text": [
      " 21%|█████▉                      | 27/128 [00:24<01:22,  1.22it/s]"
     ]
    },
    {
     "name": "stdout",
     "output_type": "stream",
     "text": [
      "|-----> [Models alignment based on morpho, mode: SN-S.] in progress: 100.0000%tensor(0.0896, device='cuda:0')\n",
      "tensor(0.0810, device='cuda:0')\n",
      "tensor(0.0734, device='cuda:0')\n",
      "|-----> [Models alignment based on morpho, mode: SN-S.] in progress: 100.0000%\n",
      "|-----> [Models alignment based on morpho, mode: SN-S.] finished [0.4692s]\n"
     ]
    },
    {
     "name": "stderr",
     "output_type": "stream",
     "text": [
      " 22%|██████▏                     | 28/128 [00:25<01:20,  1.24it/s]"
     ]
    },
    {
     "name": "stdout",
     "output_type": "stream",
     "text": [
      "|-----> [Models alignment based on morpho, mode: SN-S.] in progress: 100.0000%tensor(0.0890, device='cuda:0')\n",
      "tensor(0.0792, device='cuda:0')\n",
      "tensor(0.0715, device='cuda:0')\n",
      "|-----> [Models alignment based on morpho, mode: SN-S.] in progress: 100.0000%\n",
      "|-----> [Models alignment based on morpho, mode: SN-S.] finished [0.5024s]\n"
     ]
    },
    {
     "name": "stderr",
     "output_type": "stream",
     "text": [
      " 23%|██████▎                     | 29/128 [00:25<01:19,  1.24it/s]"
     ]
    },
    {
     "name": "stdout",
     "output_type": "stream",
     "text": [
      "|-----> [Models alignment based on morpho, mode: SN-S.] in progress: 100.0000%tensor(0.0885, device='cuda:0')\n",
      "tensor(0.0790, device='cuda:0')\n",
      "tensor(0.0710, device='cuda:0')\n",
      "|-----> [Models alignment based on morpho, mode: SN-S.] in progress: 100.0000%\n",
      "|-----> [Models alignment based on morpho, mode: SN-S.] finished [0.4678s]\n"
     ]
    },
    {
     "name": "stderr",
     "output_type": "stream",
     "text": [
      " 23%|██████▌                     | 30/128 [00:26<01:17,  1.26it/s]"
     ]
    },
    {
     "name": "stdout",
     "output_type": "stream",
     "text": [
      "|-----> [Models alignment based on morpho, mode: SN-S.] in progress: 100.0000%tensor(0.0887, device='cuda:0')\n",
      "tensor(0.0791, device='cuda:0')\n",
      "tensor(0.0714, device='cuda:0')\n",
      "|-----> [Models alignment based on morpho, mode: SN-S.] in progress: 100.0000%\n",
      "|-----> [Models alignment based on morpho, mode: SN-S.] finished [0.4651s]\n"
     ]
    },
    {
     "name": "stderr",
     "output_type": "stream",
     "text": [
      " 24%|██████▊                     | 31/128 [00:27<01:16,  1.27it/s]"
     ]
    },
    {
     "name": "stdout",
     "output_type": "stream",
     "text": [
      "|-----> [Models alignment based on morpho, mode: SN-S.] in progress: 100.0000%tensor(0.0892, device='cuda:0')\n",
      "tensor(0.0801, device='cuda:0')\n",
      "tensor(0.0722, device='cuda:0')\n",
      "|-----> [Models alignment based on morpho, mode: SN-S.] in progress: 100.0000%\n",
      "|-----> [Models alignment based on morpho, mode: SN-S.] finished [0.5481s]\n"
     ]
    },
    {
     "name": "stderr",
     "output_type": "stream",
     "text": [
      " 25%|███████                     | 32/128 [00:28<01:18,  1.22it/s]"
     ]
    },
    {
     "name": "stdout",
     "output_type": "stream",
     "text": [
      "|-----> [Models alignment based on morpho, mode: SN-S.] in progress: 100.0000%tensor(0.0885, device='cuda:0')\n",
      "tensor(0.0792, device='cuda:0')\n",
      "tensor(0.0713, device='cuda:0')\n",
      "|-----> [Models alignment based on morpho, mode: SN-S.] in progress: 100.0000%\n",
      "|-----> [Models alignment based on morpho, mode: SN-S.] finished [0.5779s]\n"
     ]
    },
    {
     "name": "stderr",
     "output_type": "stream",
     "text": [
      " 26%|███████▏                    | 33/128 [00:29<01:20,  1.19it/s]"
     ]
    },
    {
     "name": "stdout",
     "output_type": "stream",
     "text": [
      "|-----> [Models alignment based on morpho, mode: SN-S.] in progress: 100.0000%tensor(0.0888, device='cuda:0')\n",
      "tensor(0.0798, device='cuda:0')\n",
      "tensor(0.0719, device='cuda:0')\n",
      "|-----> [Models alignment based on morpho, mode: SN-S.] in progress: 100.0000%\n",
      "|-----> [Models alignment based on morpho, mode: SN-S.] finished [0.5215s]\n"
     ]
    },
    {
     "name": "stderr",
     "output_type": "stream",
     "text": [
      " 27%|███████▍                    | 34/128 [00:30<01:18,  1.19it/s]"
     ]
    },
    {
     "name": "stdout",
     "output_type": "stream",
     "text": [
      "|-----> [Models alignment based on morpho, mode: SN-S.] in progress: 100.0000%tensor(0.0888, device='cuda:0')\n",
      "tensor(0.0789, device='cuda:0')\n",
      "tensor(0.0710, device='cuda:0')\n",
      "|-----> [Models alignment based on morpho, mode: SN-S.] in progress: 100.0000%\n",
      "|-----> [Models alignment based on morpho, mode: SN-S.] finished [0.4881s]\n"
     ]
    },
    {
     "name": "stderr",
     "output_type": "stream",
     "text": [
      " 27%|███████▋                    | 35/128 [00:30<01:16,  1.22it/s]"
     ]
    },
    {
     "name": "stdout",
     "output_type": "stream",
     "text": [
      "|-----> [Models alignment based on morpho, mode: SN-S.] in progress: 100.0000%tensor(0.0889, device='cuda:0')\n",
      "tensor(0.0795, device='cuda:0')\n",
      "tensor(0.0712, device='cuda:0')\n",
      "|-----> [Models alignment based on morpho, mode: SN-S.] in progress: 100.0000%\n",
      "|-----> [Models alignment based on morpho, mode: SN-S.] finished [0.4713s]\n"
     ]
    },
    {
     "name": "stderr",
     "output_type": "stream",
     "text": [
      " 28%|███████▉                    | 36/128 [00:31<01:15,  1.23it/s]"
     ]
    },
    {
     "name": "stdout",
     "output_type": "stream",
     "text": [
      "|-----> [Models alignment based on morpho, mode: SN-S.] in progress: 100.0000%tensor(0.0884, device='cuda:0')\n",
      "tensor(0.0783, device='cuda:0')\n",
      "tensor(0.0703, device='cuda:0')\n",
      "|-----> [Models alignment based on morpho, mode: SN-S.] in progress: 100.0000%\n",
      "|-----> [Models alignment based on morpho, mode: SN-S.] finished [0.4703s]\n"
     ]
    },
    {
     "name": "stderr",
     "output_type": "stream",
     "text": [
      " 29%|████████                    | 37/128 [00:32<01:14,  1.23it/s]"
     ]
    },
    {
     "name": "stdout",
     "output_type": "stream",
     "text": [
      "|-----> [Models alignment based on morpho, mode: SN-S.] in progress: 100.0000%tensor(0.0885, device='cuda:0')\n",
      "tensor(0.0786, device='cuda:0')\n",
      "tensor(0.0706, device='cuda:0')\n",
      "|-----> [Models alignment based on morpho, mode: SN-S.] in progress: 100.0000%\n",
      "|-----> [Models alignment based on morpho, mode: SN-S.] finished [0.5776s]\n"
     ]
    },
    {
     "name": "stderr",
     "output_type": "stream",
     "text": [
      " 30%|████████▎                   | 38/128 [00:33<01:15,  1.18it/s]"
     ]
    },
    {
     "name": "stdout",
     "output_type": "stream",
     "text": [
      "|-----> [Models alignment based on morpho, mode: SN-S.] in progress: 100.0000%tensor(0.0889, device='cuda:0')\n",
      "tensor(0.0801, device='cuda:0')\n",
      "tensor(0.0726, device='cuda:0')\n",
      "|-----> [Models alignment based on morpho, mode: SN-S.] in progress: 100.0000%\n",
      "|-----> [Models alignment based on morpho, mode: SN-S.] finished [0.5783s]\n"
     ]
    },
    {
     "name": "stderr",
     "output_type": "stream",
     "text": [
      " 30%|████████▌                   | 39/128 [00:34<01:16,  1.16it/s]"
     ]
    },
    {
     "name": "stdout",
     "output_type": "stream",
     "text": [
      "|-----> [Models alignment based on morpho, mode: SN-S.] in progress: 100.0000%tensor(0.0891, device='cuda:0')\n",
      "tensor(0.0801, device='cuda:0')\n",
      "tensor(0.0725, device='cuda:0')\n",
      "|-----> [Models alignment based on morpho, mode: SN-S.] in progress: 100.0000%\n",
      "|-----> [Models alignment based on morpho, mode: SN-S.] finished [0.5238s]\n"
     ]
    },
    {
     "name": "stderr",
     "output_type": "stream",
     "text": [
      " 31%|████████▊                   | 40/128 [00:35<01:17,  1.14it/s]"
     ]
    },
    {
     "name": "stdout",
     "output_type": "stream",
     "text": [
      "|-----> [Models alignment based on morpho, mode: SN-S.] in progress: 100.0000%tensor(0.0883, device='cuda:0')\n",
      "tensor(0.0787, device='cuda:0')\n",
      "tensor(0.0707, device='cuda:0')\n",
      "|-----> [Models alignment based on morpho, mode: SN-S.] in progress: 100.0000%\n",
      "|-----> [Models alignment based on morpho, mode: SN-S.] finished [0.4724s]\n"
     ]
    },
    {
     "name": "stderr",
     "output_type": "stream",
     "text": [
      " 32%|████████▉                   | 41/128 [00:36<01:14,  1.16it/s]"
     ]
    },
    {
     "name": "stdout",
     "output_type": "stream",
     "text": [
      "|-----> [Models alignment based on morpho, mode: SN-S.] in progress: 100.0000%tensor(0.0886, device='cuda:0')\n",
      "tensor(0.0788, device='cuda:0')\n",
      "tensor(0.0709, device='cuda:0')\n",
      "|-----> [Models alignment based on morpho, mode: SN-S.] in progress: 100.0000%\n",
      "|-----> [Models alignment based on morpho, mode: SN-S.] finished [0.4970s]\n"
     ]
    },
    {
     "name": "stderr",
     "output_type": "stream",
     "text": [
      " 33%|█████████▏                  | 42/128 [00:36<01:13,  1.17it/s]"
     ]
    },
    {
     "name": "stdout",
     "output_type": "stream",
     "text": [
      "|-----> [Models alignment based on morpho, mode: SN-S.] in progress: 100.0000%tensor(0.0883, device='cuda:0')\n",
      "tensor(0.0785, device='cuda:0')\n",
      "tensor(0.0702, device='cuda:0')\n",
      "|-----> [Models alignment based on morpho, mode: SN-S.] in progress: 100.0000%\n",
      "|-----> [Models alignment based on morpho, mode: SN-S.] finished [0.5099s]\n"
     ]
    },
    {
     "name": "stderr",
     "output_type": "stream",
     "text": [
      " 34%|█████████▍                  | 43/128 [00:37<01:13,  1.16it/s]"
     ]
    },
    {
     "name": "stdout",
     "output_type": "stream",
     "text": [
      "|-----> [Models alignment based on morpho, mode: SN-S.] in progress: 100.0000%tensor(0.0888, device='cuda:0')\n",
      "tensor(0.0792, device='cuda:0')\n",
      "tensor(0.0713, device='cuda:0')\n",
      "|-----> [Models alignment based on morpho, mode: SN-S.] in progress: 100.0000%\n",
      "|-----> [Models alignment based on morpho, mode: SN-S.] finished [1.2491s]\n"
     ]
    },
    {
     "name": "stderr",
     "output_type": "stream",
     "text": [
      " 34%|█████████▋                  | 44/128 [00:39<01:28,  1.05s/it]"
     ]
    },
    {
     "name": "stdout",
     "output_type": "stream",
     "text": [
      "|-----> [Models alignment based on morpho, mode: SN-S.] in progress: 100.0000%tensor(0.0880, device='cuda:0')\n",
      "tensor(0.0782, device='cuda:0')\n",
      "tensor(0.0702, device='cuda:0')\n",
      "|-----> [Models alignment based on morpho, mode: SN-S.] in progress: 100.0000%\n",
      "|-----> [Models alignment based on morpho, mode: SN-S.] finished [0.4248s]\n"
     ]
    },
    {
     "name": "stderr",
     "output_type": "stream",
     "text": [
      " 35%|█████████▊                  | 45/128 [00:39<01:16,  1.09it/s]"
     ]
    },
    {
     "name": "stdout",
     "output_type": "stream",
     "text": [
      "|-----> [Models alignment based on morpho, mode: SN-S.] in progress: 100.0000%tensor(0.0882, device='cuda:0')\n",
      "tensor(0.0788, device='cuda:0')\n",
      "tensor(0.0703, device='cuda:0')\n",
      "|-----> [Models alignment based on morpho, mode: SN-S.] in progress: 100.0000%\n",
      "|-----> [Models alignment based on morpho, mode: SN-S.] finished [0.4078s]\n"
     ]
    },
    {
     "name": "stderr",
     "output_type": "stream",
     "text": [
      " 36%|██████████                  | 46/128 [00:40<01:09,  1.18it/s]"
     ]
    },
    {
     "name": "stdout",
     "output_type": "stream",
     "text": [
      "|-----> [Models alignment based on morpho, mode: SN-S.] in progress: 100.0000%tensor(0.0885, device='cuda:0')\n",
      "tensor(0.0784, device='cuda:0')\n",
      "tensor(0.0704, device='cuda:0')\n",
      "|-----> [Models alignment based on morpho, mode: SN-S.] in progress: 100.0000%\n",
      "|-----> [Models alignment based on morpho, mode: SN-S.] finished [0.4100s]\n"
     ]
    },
    {
     "name": "stderr",
     "output_type": "stream",
     "text": [
      " 37%|██████████▎                 | 47/128 [00:41<01:03,  1.28it/s]"
     ]
    },
    {
     "name": "stdout",
     "output_type": "stream",
     "text": [
      "|-----> [Models alignment based on morpho, mode: SN-S.] in progress: 100.0000%tensor(0.0879, device='cuda:0')\n",
      "tensor(0.0781, device='cuda:0')\n",
      "tensor(0.0699, device='cuda:0')\n",
      "|-----> [Models alignment based on morpho, mode: SN-S.] in progress: 100.0000%\n",
      "|-----> [Models alignment based on morpho, mode: SN-S.] finished [0.3909s]\n"
     ]
    },
    {
     "name": "stderr",
     "output_type": "stream",
     "text": [
      " 38%|██████████▌                 | 48/128 [00:41<01:00,  1.33it/s]"
     ]
    },
    {
     "name": "stdout",
     "output_type": "stream",
     "text": [
      "|-----> [Models alignment based on morpho, mode: SN-S.] in progress: 100.0000%tensor(0.0876, device='cuda:0')\n",
      "tensor(0.0773, device='cuda:0')\n",
      "tensor(0.0691, device='cuda:0')\n",
      "|-----> [Models alignment based on morpho, mode: SN-S.] in progress: 100.0000%\n",
      "|-----> [Models alignment based on morpho, mode: SN-S.] finished [0.5066s]\n"
     ]
    },
    {
     "name": "stderr",
     "output_type": "stream",
     "text": [
      " 38%|██████████▋                 | 49/128 [00:42<00:59,  1.32it/s]"
     ]
    },
    {
     "name": "stdout",
     "output_type": "stream",
     "text": [
      "|-----> [Models alignment based on morpho, mode: SN-S.] in progress: 100.0000%tensor(0.0881, device='cuda:0')\n",
      "tensor(0.0784, device='cuda:0')\n",
      "tensor(0.0700, device='cuda:0')\n",
      "|-----> [Models alignment based on morpho, mode: SN-S.] in progress: 100.0000%\n",
      "|-----> [Models alignment based on morpho, mode: SN-S.] finished [0.4879s]\n"
     ]
    },
    {
     "name": "stderr",
     "output_type": "stream",
     "text": [
      " 39%|██████████▉                 | 50/128 [00:43<01:00,  1.30it/s]"
     ]
    },
    {
     "name": "stdout",
     "output_type": "stream",
     "text": [
      "|-----> [Models alignment based on morpho, mode: SN-S.] in progress: 100.0000%tensor(0.0875, device='cuda:0')\n",
      "tensor(0.0776, device='cuda:0')\n",
      "tensor(0.0694, device='cuda:0')\n",
      "|-----> [Models alignment based on morpho, mode: SN-S.] in progress: 100.0000%\n",
      "|-----> [Models alignment based on morpho, mode: SN-S.] finished [0.4119s]\n"
     ]
    },
    {
     "name": "stderr",
     "output_type": "stream",
     "text": [
      " 40%|███████████▏                | 51/128 [00:44<00:57,  1.34it/s]"
     ]
    },
    {
     "name": "stdout",
     "output_type": "stream",
     "text": [
      "|-----> [Models alignment based on morpho, mode: SN-S.] in progress: 100.0000%tensor(0.0876, device='cuda:0')\n",
      "tensor(0.0772, device='cuda:0')\n",
      "tensor(0.0683, device='cuda:0')\n",
      "|-----> [Models alignment based on morpho, mode: SN-S.] in progress: 100.0000%\n",
      "|-----> [Models alignment based on morpho, mode: SN-S.] finished [0.4486s]\n"
     ]
    },
    {
     "name": "stderr",
     "output_type": "stream",
     "text": [
      " 41%|███████████▍                | 52/128 [00:44<00:57,  1.33it/s]"
     ]
    },
    {
     "name": "stdout",
     "output_type": "stream",
     "text": [
      "|-----> [Models alignment based on morpho, mode: SN-S.] in progress: 100.0000%tensor(0.0874, device='cuda:0')\n",
      "tensor(0.0771, device='cuda:0')\n",
      "tensor(0.0684, device='cuda:0')\n",
      "|-----> [Models alignment based on morpho, mode: SN-S.] in progress: 100.0000%\n",
      "|-----> [Models alignment based on morpho, mode: SN-S.] finished [0.4163s]\n"
     ]
    },
    {
     "name": "stderr",
     "output_type": "stream",
     "text": [
      " 41%|███████████▌                | 53/128 [00:45<00:55,  1.36it/s]"
     ]
    },
    {
     "name": "stdout",
     "output_type": "stream",
     "text": [
      "|-----> [Models alignment based on morpho, mode: SN-S.] in progress: 100.0000%tensor(0.0875, device='cuda:0')\n",
      "tensor(0.0776, device='cuda:0')\n",
      "tensor(0.0688, device='cuda:0')\n",
      "|-----> [Models alignment based on morpho, mode: SN-S.] in progress: 100.0000%\n",
      "|-----> [Models alignment based on morpho, mode: SN-S.] finished [0.4568s]\n"
     ]
    },
    {
     "name": "stderr",
     "output_type": "stream",
     "text": [
      " 42%|███████████▊                | 54/128 [00:46<00:52,  1.40it/s]"
     ]
    },
    {
     "name": "stdout",
     "output_type": "stream",
     "text": [
      "|-----> [Models alignment based on morpho, mode: SN-S.] in progress: 100.0000%tensor(0.0868, device='cuda:0')\n",
      "tensor(0.0767, device='cuda:0')\n",
      "tensor(0.0676, device='cuda:0')\n",
      "|-----> [Models alignment based on morpho, mode: SN-S.] in progress: 100.0000%\n",
      "|-----> [Models alignment based on morpho, mode: SN-S.] finished [0.4169s]\n"
     ]
    },
    {
     "name": "stderr",
     "output_type": "stream",
     "text": [
      " 43%|████████████                | 55/128 [00:46<00:49,  1.49it/s]"
     ]
    },
    {
     "name": "stdout",
     "output_type": "stream",
     "text": [
      "|-----> [Models alignment based on morpho, mode: SN-S.] in progress: 100.0000%tensor(0.0871, device='cuda:0')\n",
      "tensor(0.0765, device='cuda:0')\n",
      "tensor(0.0680, device='cuda:0')\n",
      "|-----> [Models alignment based on morpho, mode: SN-S.] in progress: 100.0000%\n",
      "|-----> [Models alignment based on morpho, mode: SN-S.] finished [0.3605s]\n"
     ]
    },
    {
     "name": "stderr",
     "output_type": "stream",
     "text": [
      " 44%|████████████▎               | 56/128 [00:47<00:45,  1.59it/s]"
     ]
    },
    {
     "name": "stdout",
     "output_type": "stream",
     "text": [
      "|-----> [Models alignment based on morpho, mode: SN-S.] in progress: 100.0000%tensor(0.0860, device='cuda:0')\n",
      "tensor(0.0754, device='cuda:0')\n",
      "tensor(0.0664, device='cuda:0')\n",
      "|-----> [Models alignment based on morpho, mode: SN-S.] in progress: 100.0000%\n",
      "|-----> [Models alignment based on morpho, mode: SN-S.] finished [0.4503s]\n"
     ]
    },
    {
     "name": "stderr",
     "output_type": "stream",
     "text": [
      " 45%|████████████▍               | 57/128 [00:48<00:46,  1.52it/s]"
     ]
    },
    {
     "name": "stdout",
     "output_type": "stream",
     "text": [
      "|-----> [Models alignment based on morpho, mode: SN-S.] in progress: 100.0000%tensor(0.0853, device='cuda:0')\n",
      "tensor(0.0736, device='cuda:0')\n",
      "tensor(0.0639, device='cuda:0')\n",
      "|-----> [Models alignment based on morpho, mode: SN-S.] in progress: 100.0000%\n",
      "|-----> [Models alignment based on morpho, mode: SN-S.] finished [0.4270s]\n"
     ]
    },
    {
     "name": "stderr",
     "output_type": "stream",
     "text": [
      " 45%|████████████▋               | 58/128 [00:48<00:47,  1.49it/s]"
     ]
    },
    {
     "name": "stdout",
     "output_type": "stream",
     "text": [
      "|-----> [Models alignment based on morpho, mode: SN-S.] in progress: 100.0000%tensor(0.0871, device='cuda:0')\n",
      "tensor(0.0764, device='cuda:0')\n",
      "tensor(0.0677, device='cuda:0')\n",
      "|-----> [Models alignment based on morpho, mode: SN-S.] in progress: 100.0000%\n",
      "|-----> [Models alignment based on morpho, mode: SN-S.] finished [0.3806s]\n"
     ]
    },
    {
     "name": "stderr",
     "output_type": "stream",
     "text": [
      " 46%|████████████▉               | 59/128 [00:49<00:44,  1.53it/s]"
     ]
    },
    {
     "name": "stdout",
     "output_type": "stream",
     "text": [
      "|-----> [Models alignment based on morpho, mode: SN-S.] in progress: 100.0000%tensor(0.0872, device='cuda:0')\n",
      "tensor(0.0769, device='cuda:0')\n",
      "tensor(0.0685, device='cuda:0')\n",
      "|-----> [Models alignment based on morpho, mode: SN-S.] in progress: 100.0000%\n",
      "|-----> [Models alignment based on morpho, mode: SN-S.] finished [0.4561s]\n"
     ]
    },
    {
     "name": "stderr",
     "output_type": "stream",
     "text": [
      " 47%|█████████████▏              | 60/128 [00:50<00:45,  1.50it/s]"
     ]
    },
    {
     "name": "stdout",
     "output_type": "stream",
     "text": [
      "|-----> [Models alignment based on morpho, mode: SN-S.] in progress: 100.0000%tensor(0.0875, device='cuda:0')\n",
      "tensor(0.0773, device='cuda:0')\n",
      "tensor(0.0684, device='cuda:0')\n",
      "|-----> [Models alignment based on morpho, mode: SN-S.] in progress: 100.0000%\n",
      "|-----> [Models alignment based on morpho, mode: SN-S.] finished [0.4689s]\n"
     ]
    },
    {
     "name": "stderr",
     "output_type": "stream",
     "text": [
      " 48%|█████████████▎              | 61/128 [00:50<00:46,  1.45it/s]"
     ]
    },
    {
     "name": "stdout",
     "output_type": "stream",
     "text": [
      "|-----> [Models alignment based on morpho, mode: SN-S.] in progress: 100.0000%tensor(0.0869, device='cuda:0')\n",
      "tensor(0.0770, device='cuda:0')\n",
      "tensor(0.0686, device='cuda:0')\n",
      "|-----> [Models alignment based on morpho, mode: SN-S.] in progress: 100.0000%\n",
      "|-----> [Models alignment based on morpho, mode: SN-S.] finished [0.4914s]\n"
     ]
    },
    {
     "name": "stderr",
     "output_type": "stream",
     "text": [
      " 48%|█████████████▌              | 62/128 [00:51<00:45,  1.45it/s]"
     ]
    },
    {
     "name": "stdout",
     "output_type": "stream",
     "text": [
      "|-----> [Models alignment based on morpho, mode: SN-S.] in progress: 100.0000%tensor(0.0875, device='cuda:0')\n",
      "tensor(0.0768, device='cuda:0')\n",
      "tensor(0.0682, device='cuda:0')\n",
      "|-----> [Models alignment based on morpho, mode: SN-S.] in progress: 100.0000%\n",
      "|-----> [Models alignment based on morpho, mode: SN-S.] finished [0.3851s]\n"
     ]
    },
    {
     "name": "stderr",
     "output_type": "stream",
     "text": [
      " 49%|█████████████▊              | 63/128 [00:52<00:42,  1.53it/s]"
     ]
    },
    {
     "name": "stdout",
     "output_type": "stream",
     "text": [
      "|-----> [Models alignment based on morpho, mode: SN-S.] in progress: 100.0000%tensor(0.0865, device='cuda:0')\n",
      "tensor(0.0758, device='cuda:0')\n",
      "tensor(0.0670, device='cuda:0')\n",
      "|-----> [Models alignment based on morpho, mode: SN-S.] in progress: 100.0000%\n",
      "|-----> [Models alignment based on morpho, mode: SN-S.] finished [0.4412s]\n"
     ]
    },
    {
     "name": "stderr",
     "output_type": "stream",
     "text": [
      " 50%|██████████████              | 64/128 [00:52<00:41,  1.53it/s]"
     ]
    },
    {
     "name": "stdout",
     "output_type": "stream",
     "text": [
      "|-----> [Models alignment based on morpho, mode: SN-S.] in progress: 100.0000%tensor(0.0860, device='cuda:0')\n",
      "tensor(0.0749, device='cuda:0')\n",
      "tensor(0.0662, device='cuda:0')\n",
      "|-----> [Models alignment based on morpho, mode: SN-S.] in progress: 100.0000%\n",
      "|-----> [Models alignment based on morpho, mode: SN-S.] finished [0.4179s]\n"
     ]
    },
    {
     "name": "stderr",
     "output_type": "stream",
     "text": [
      " 51%|██████████████▏             | 65/128 [00:53<00:41,  1.53it/s]"
     ]
    },
    {
     "name": "stdout",
     "output_type": "stream",
     "text": [
      "|-----> [Models alignment based on morpho, mode: SN-S.] in progress: 100.0000%tensor(0.0867, device='cuda:0')\n",
      "tensor(0.0752, device='cuda:0')\n",
      "tensor(0.0658, device='cuda:0')\n",
      "|-----> [Models alignment based on morpho, mode: SN-S.] in progress: 100.0000%\n",
      "|-----> [Models alignment based on morpho, mode: SN-S.] finished [0.4165s]\n"
     ]
    },
    {
     "name": "stderr",
     "output_type": "stream",
     "text": [
      " 52%|██████████████▍             | 66/128 [00:54<00:40,  1.53it/s]"
     ]
    },
    {
     "name": "stdout",
     "output_type": "stream",
     "text": [
      "|-----> [Models alignment based on morpho, mode: SN-S.] in progress: 100.0000%tensor(0.0855, device='cuda:0')\n",
      "tensor(0.0747, device='cuda:0')\n",
      "tensor(0.0657, device='cuda:0')\n",
      "|-----> [Models alignment based on morpho, mode: SN-S.] in progress: 100.0000%\n",
      "|-----> [Models alignment based on morpho, mode: SN-S.] finished [0.5194s]\n"
     ]
    },
    {
     "name": "stderr",
     "output_type": "stream",
     "text": [
      " 52%|██████████████▋             | 67/128 [00:54<00:43,  1.41it/s]"
     ]
    },
    {
     "name": "stdout",
     "output_type": "stream",
     "text": [
      "|-----> [Models alignment based on morpho, mode: SN-S.] in progress: 100.0000%tensor(0.0855, device='cuda:0')\n",
      "tensor(0.0741, device='cuda:0')\n",
      "tensor(0.0652, device='cuda:0')\n",
      "|-----> [Models alignment based on morpho, mode: SN-S.] in progress: 100.0000%\n",
      "|-----> [Models alignment based on morpho, mode: SN-S.] finished [0.4946s]\n"
     ]
    },
    {
     "name": "stderr",
     "output_type": "stream",
     "text": [
      " 53%|██████████████▉             | 68/128 [00:55<00:44,  1.34it/s]"
     ]
    },
    {
     "name": "stdout",
     "output_type": "stream",
     "text": [
      "|-----> [Models alignment based on morpho, mode: SN-S.] in progress: 100.0000%tensor(0.0854, device='cuda:0')\n",
      "tensor(0.0737, device='cuda:0')\n",
      "tensor(0.0646, device='cuda:0')\n",
      "|-----> [Models alignment based on morpho, mode: SN-S.] in progress: 100.0000%\n",
      "|-----> [Models alignment based on morpho, mode: SN-S.] finished [0.5317s]\n"
     ]
    },
    {
     "name": "stderr",
     "output_type": "stream",
     "text": [
      " 54%|███████████████             | 69/128 [00:56<00:48,  1.22it/s]"
     ]
    },
    {
     "name": "stdout",
     "output_type": "stream",
     "text": [
      "|-----> [Models alignment based on morpho, mode: SN-S.] in progress: 100.0000%tensor(0.0852, device='cuda:0')\n",
      "tensor(0.0735, device='cuda:0')\n",
      "tensor(0.0645, device='cuda:0')\n",
      "|-----> [Models alignment based on morpho, mode: SN-S.] in progress: 100.0000%\n",
      "|-----> [Models alignment based on morpho, mode: SN-S.] finished [0.4643s]\n"
     ]
    },
    {
     "name": "stderr",
     "output_type": "stream",
     "text": [
      " 55%|███████████████▎            | 70/128 [00:57<00:47,  1.21it/s]"
     ]
    },
    {
     "name": "stdout",
     "output_type": "stream",
     "text": [
      "|-----> [Models alignment based on morpho, mode: SN-S.] in progress: 100.0000%tensor(0.0860, device='cuda:0')\n",
      "tensor(0.0748, device='cuda:0')\n",
      "tensor(0.0660, device='cuda:0')\n",
      "|-----> [Models alignment based on morpho, mode: SN-S.] in progress: 100.0000%\n",
      "|-----> [Models alignment based on morpho, mode: SN-S.] finished [0.5142s]\n"
     ]
    },
    {
     "name": "stderr",
     "output_type": "stream",
     "text": [
      " 55%|███████████████▌            | 71/128 [00:58<00:47,  1.20it/s]"
     ]
    },
    {
     "name": "stdout",
     "output_type": "stream",
     "text": [
      "|-----> [Models alignment based on morpho, mode: SN-S.] in progress: 100.0000%tensor(0.0849, device='cuda:0')\n",
      "tensor(0.0735, device='cuda:0')\n",
      "tensor(0.0643, device='cuda:0')\n",
      "|-----> [Models alignment based on morpho, mode: SN-S.] in progress: 100.0000%\n",
      "|-----> [Models alignment based on morpho, mode: SN-S.] finished [0.4553s]\n"
     ]
    },
    {
     "name": "stderr",
     "output_type": "stream",
     "text": [
      " 56%|███████████████▊            | 72/128 [00:59<00:45,  1.23it/s]"
     ]
    },
    {
     "name": "stdout",
     "output_type": "stream",
     "text": [
      "|-----> [Models alignment based on morpho, mode: SN-S.] in progress: 100.0000%tensor(0.0858, device='cuda:0')\n",
      "tensor(0.0747, device='cuda:0')\n",
      "tensor(0.0657, device='cuda:0')\n",
      "|-----> [Models alignment based on morpho, mode: SN-S.] in progress: 100.0000%\n",
      "|-----> [Models alignment based on morpho, mode: SN-S.] finished [0.4570s]\n"
     ]
    },
    {
     "name": "stderr",
     "output_type": "stream",
     "text": [
      " 57%|███████████████▉            | 73/128 [00:59<00:44,  1.24it/s]"
     ]
    },
    {
     "name": "stdout",
     "output_type": "stream",
     "text": [
      "|-----> [Models alignment based on morpho, mode: SN-S.] in progress: 100.0000%tensor(0.0864, device='cuda:0')\n",
      "tensor(0.0753, device='cuda:0')\n",
      "tensor(0.0659, device='cuda:0')\n",
      "|-----> [Models alignment based on morpho, mode: SN-S.] in progress: 100.0000%\n",
      "|-----> [Models alignment based on morpho, mode: SN-S.] finished [0.4588s]\n"
     ]
    },
    {
     "name": "stderr",
     "output_type": "stream",
     "text": [
      " 58%|████████████████▏           | 74/128 [01:00<00:43,  1.24it/s]"
     ]
    },
    {
     "name": "stdout",
     "output_type": "stream",
     "text": [
      "|-----> [Models alignment based on morpho, mode: SN-S.] in progress: 100.0000%tensor(0.0874, device='cuda:0')\n",
      "tensor(0.0765, device='cuda:0')\n",
      "tensor(0.0676, device='cuda:0')\n",
      "|-----> [Models alignment based on morpho, mode: SN-S.] in progress: 100.0000%\n",
      "|-----> [Models alignment based on morpho, mode: SN-S.] finished [0.4796s]\n"
     ]
    },
    {
     "name": "stderr",
     "output_type": "stream",
     "text": [
      " 59%|████████████████▍           | 75/128 [01:01<00:43,  1.21it/s]"
     ]
    },
    {
     "name": "stdout",
     "output_type": "stream",
     "text": [
      "|-----> [Models alignment based on morpho, mode: SN-S.] in progress: 100.0000%tensor(0.0878, device='cuda:0')\n",
      "tensor(0.0772, device='cuda:0')\n",
      "tensor(0.0693, device='cuda:0')\n",
      "|-----> [Models alignment based on morpho, mode: SN-S.] in progress: 100.0000%\n",
      "|-----> [Models alignment based on morpho, mode: SN-S.] finished [0.4660s]\n"
     ]
    },
    {
     "name": "stderr",
     "output_type": "stream",
     "text": [
      " 59%|████████████████▋           | 76/128 [01:02<00:42,  1.22it/s]"
     ]
    },
    {
     "name": "stdout",
     "output_type": "stream",
     "text": [
      "|-----> [Models alignment based on morpho, mode: SN-S.] in progress: 100.0000%tensor(0.0872, device='cuda:0')\n",
      "tensor(0.0768, device='cuda:0')\n",
      "tensor(0.0683, device='cuda:0')\n",
      "|-----> [Models alignment based on morpho, mode: SN-S.] in progress: 100.0000%\n",
      "|-----> [Models alignment based on morpho, mode: SN-S.] finished [0.5306s]\n"
     ]
    },
    {
     "name": "stderr",
     "output_type": "stream",
     "text": [
      " 60%|████████████████▊           | 77/128 [01:03<00:42,  1.19it/s]"
     ]
    },
    {
     "name": "stdout",
     "output_type": "stream",
     "text": [
      "|-----> [Models alignment based on morpho, mode: SN-S.] in progress: 100.0000%tensor(0.0872, device='cuda:0')\n",
      "tensor(0.0759, device='cuda:0')\n",
      "tensor(0.0671, device='cuda:0')\n",
      "|-----> [Models alignment based on morpho, mode: SN-S.] in progress: 100.0000%\n",
      "|-----> [Models alignment based on morpho, mode: SN-S.] finished [0.5309s]\n"
     ]
    },
    {
     "name": "stderr",
     "output_type": "stream",
     "text": [
      " 61%|█████████████████           | 78/128 [01:04<00:42,  1.17it/s]"
     ]
    },
    {
     "name": "stdout",
     "output_type": "stream",
     "text": [
      "|-----> [Models alignment based on morpho, mode: SN-S.] in progress: 100.0000%tensor(0.0862, device='cuda:0')\n",
      "tensor(0.0754, device='cuda:0')\n",
      "tensor(0.0663, device='cuda:0')\n",
      "|-----> [Models alignment based on morpho, mode: SN-S.] in progress: 100.0000%\n",
      "|-----> [Models alignment based on morpho, mode: SN-S.] finished [1.2920s]\n"
     ]
    },
    {
     "name": "stderr",
     "output_type": "stream",
     "text": [
      " 62%|█████████████████▎          | 79/128 [01:05<00:53,  1.08s/it]"
     ]
    },
    {
     "name": "stdout",
     "output_type": "stream",
     "text": [
      "|-----> [Models alignment based on morpho, mode: SN-S.] in progress: 100.0000%tensor(0.0863, device='cuda:0')\n",
      "tensor(0.0750, device='cuda:0')\n",
      "tensor(0.0660, device='cuda:0')\n",
      "|-----> [Models alignment based on morpho, mode: SN-S.] in progress: 100.0000%\n",
      "|-----> [Models alignment based on morpho, mode: SN-S.] finished [0.4374s]\n"
     ]
    },
    {
     "name": "stderr",
     "output_type": "stream",
     "text": [
      " 62%|█████████████████▌          | 80/128 [01:06<00:47,  1.02it/s]"
     ]
    },
    {
     "name": "stdout",
     "output_type": "stream",
     "text": [
      "|-----> [Models alignment based on morpho, mode: SN-S.] in progress: 100.0000%tensor(0.0867, device='cuda:0')\n",
      "tensor(0.0754, device='cuda:0')\n",
      "tensor(0.0663, device='cuda:0')\n",
      "|-----> [Models alignment based on morpho, mode: SN-S.] in progress: 100.0000%\n",
      "|-----> [Models alignment based on morpho, mode: SN-S.] finished [0.3709s]\n"
     ]
    },
    {
     "name": "stderr",
     "output_type": "stream",
     "text": [
      " 63%|█████████████████▋          | 81/128 [01:07<00:41,  1.14it/s]"
     ]
    },
    {
     "name": "stdout",
     "output_type": "stream",
     "text": [
      "|-----> [Models alignment based on morpho, mode: SN-S.] in progress: 100.0000%tensor(0.0869, device='cuda:0')\n",
      "tensor(0.0755, device='cuda:0')\n",
      "tensor(0.0661, device='cuda:0')\n",
      "|-----> [Models alignment based on morpho, mode: SN-S.] in progress: 100.0000%\n",
      "|-----> [Models alignment based on morpho, mode: SN-S.] finished [0.5036s]\n"
     ]
    },
    {
     "name": "stderr",
     "output_type": "stream",
     "text": [
      " 64%|█████████████████▉          | 82/128 [01:07<00:39,  1.17it/s]"
     ]
    },
    {
     "name": "stdout",
     "output_type": "stream",
     "text": [
      "|-----> [Models alignment based on morpho, mode: SN-S.] in progress: 100.0000%tensor(0.0864, device='cuda:0')\n",
      "tensor(0.0751, device='cuda:0')\n",
      "tensor(0.0660, device='cuda:0')\n",
      "|-----> [Models alignment based on morpho, mode: SN-S.] in progress: 100.0000%\n",
      "|-----> [Models alignment based on morpho, mode: SN-S.] finished [0.4964s]\n"
     ]
    },
    {
     "name": "stderr",
     "output_type": "stream",
     "text": [
      " 65%|██████████████████▏         | 83/128 [01:08<00:36,  1.23it/s]"
     ]
    },
    {
     "name": "stdout",
     "output_type": "stream",
     "text": [
      "|-----> [Models alignment based on morpho, mode: SN-S.] in progress: 100.0000%tensor(0.0869, device='cuda:0')\n",
      "tensor(0.0762, device='cuda:0')\n",
      "tensor(0.0676, device='cuda:0')\n",
      "|-----> [Models alignment based on morpho, mode: SN-S.] in progress: 100.0000%\n",
      "|-----> [Models alignment based on morpho, mode: SN-S.] finished [0.4523s]\n"
     ]
    },
    {
     "name": "stderr",
     "output_type": "stream",
     "text": [
      " 66%|██████████████████▍         | 84/128 [01:09<00:34,  1.26it/s]"
     ]
    },
    {
     "name": "stdout",
     "output_type": "stream",
     "text": [
      "|-----> [Models alignment based on morpho, mode: SN-S.] in progress: 100.0000%tensor(0.0867, device='cuda:0')\n",
      "tensor(0.0753, device='cuda:0')\n",
      "tensor(0.0664, device='cuda:0')\n",
      "|-----> [Models alignment based on morpho, mode: SN-S.] in progress: 100.0000%\n",
      "|-----> [Models alignment based on morpho, mode: SN-S.] finished [0.4912s]\n"
     ]
    },
    {
     "name": "stderr",
     "output_type": "stream",
     "text": [
      " 66%|██████████████████▌         | 85/128 [01:10<00:33,  1.28it/s]"
     ]
    },
    {
     "name": "stdout",
     "output_type": "stream",
     "text": [
      "|-----> [Models alignment based on morpho, mode: SN-S.] in progress: 100.0000%tensor(0.0864, device='cuda:0')\n",
      "tensor(0.0748, device='cuda:0')\n",
      "tensor(0.0656, device='cuda:0')\n",
      "|-----> [Models alignment based on morpho, mode: SN-S.] in progress: 100.0000%\n",
      "|-----> [Models alignment based on morpho, mode: SN-S.] finished [0.4617s]\n"
     ]
    },
    {
     "name": "stderr",
     "output_type": "stream",
     "text": [
      " 67%|██████████████████▊         | 86/128 [01:10<00:32,  1.30it/s]"
     ]
    },
    {
     "name": "stdout",
     "output_type": "stream",
     "text": [
      "|-----> [Models alignment based on morpho, mode: SN-S.] in progress: 100.0000%tensor(0.0866, device='cuda:0')\n",
      "tensor(0.0757, device='cuda:0')\n",
      "tensor(0.0663, device='cuda:0')\n",
      "|-----> [Models alignment based on morpho, mode: SN-S.] in progress: 100.0000%\n",
      "|-----> [Models alignment based on morpho, mode: SN-S.] finished [0.3832s]\n"
     ]
    },
    {
     "name": "stderr",
     "output_type": "stream",
     "text": [
      " 68%|███████████████████         | 87/128 [01:11<00:29,  1.40it/s]"
     ]
    },
    {
     "name": "stdout",
     "output_type": "stream",
     "text": [
      "|-----> [Models alignment based on morpho, mode: SN-S.] in progress: 100.0000%tensor(0.0859, device='cuda:0')\n",
      "tensor(0.0740, device='cuda:0')\n",
      "tensor(0.0651, device='cuda:0')\n",
      "|-----> [Models alignment based on morpho, mode: SN-S.] in progress: 100.0000%\n",
      "|-----> [Models alignment based on morpho, mode: SN-S.] finished [0.4865s]\n"
     ]
    },
    {
     "name": "stderr",
     "output_type": "stream",
     "text": [
      " 69%|███████████████████▎        | 88/128 [01:12<00:28,  1.40it/s]"
     ]
    },
    {
     "name": "stdout",
     "output_type": "stream",
     "text": [
      "|-----> [Models alignment based on morpho, mode: SN-S.] in progress: 100.0000%tensor(0.0863, device='cuda:0')\n",
      "tensor(0.0747, device='cuda:0')\n",
      "tensor(0.0656, device='cuda:0')\n",
      "|-----> [Models alignment based on morpho, mode: SN-S.] in progress: 100.0000%\n",
      "|-----> [Models alignment based on morpho, mode: SN-S.] finished [0.4388s]\n"
     ]
    },
    {
     "name": "stderr",
     "output_type": "stream",
     "text": [
      " 70%|███████████████████▍        | 89/128 [01:12<00:28,  1.39it/s]"
     ]
    },
    {
     "name": "stdout",
     "output_type": "stream",
     "text": [
      "|-----> [Models alignment based on morpho, mode: SN-S.] in progress: 100.0000%tensor(0.0856, device='cuda:0')\n",
      "tensor(0.0739, device='cuda:0')\n",
      "tensor(0.0641, device='cuda:0')\n",
      "|-----> [Models alignment based on morpho, mode: SN-S.] in progress: 100.0000%\n",
      "|-----> [Models alignment based on morpho, mode: SN-S.] finished [0.4648s]\n"
     ]
    },
    {
     "name": "stderr",
     "output_type": "stream",
     "text": [
      " 70%|███████████████████▋        | 90/128 [01:13<00:27,  1.40it/s]"
     ]
    },
    {
     "name": "stdout",
     "output_type": "stream",
     "text": [
      "|-----> [Models alignment based on morpho, mode: SN-S.] in progress: 100.0000%tensor(0.0860, device='cuda:0')\n",
      "tensor(0.0748, device='cuda:0')\n",
      "tensor(0.0653, device='cuda:0')\n",
      "|-----> [Models alignment based on morpho, mode: SN-S.] in progress: 100.0000%\n",
      "|-----> [Models alignment based on morpho, mode: SN-S.] finished [0.4466s]\n"
     ]
    },
    {
     "name": "stderr",
     "output_type": "stream",
     "text": [
      " 71%|███████████████████▉        | 91/128 [01:14<00:26,  1.42it/s]"
     ]
    },
    {
     "name": "stdout",
     "output_type": "stream",
     "text": [
      "|-----> [Models alignment based on morpho, mode: SN-S.] in progress: 100.0000%tensor(0.0847, device='cuda:0')\n",
      "tensor(0.0732, device='cuda:0')\n",
      "tensor(0.0638, device='cuda:0')\n",
      "|-----> [Models alignment based on morpho, mode: SN-S.] in progress: 100.0000%\n",
      "|-----> [Models alignment based on morpho, mode: SN-S.] finished [0.5274s]\n"
     ]
    },
    {
     "name": "stderr",
     "output_type": "stream",
     "text": [
      " 72%|████████████████████▏       | 92/128 [01:15<00:26,  1.38it/s]"
     ]
    },
    {
     "name": "stdout",
     "output_type": "stream",
     "text": [
      "|-----> [Models alignment based on morpho, mode: SN-S.] in progress: 100.0000%tensor(0.0856, device='cuda:0')\n",
      "tensor(0.0746, device='cuda:0')\n",
      "tensor(0.0655, device='cuda:0')\n",
      "|-----> [Models alignment based on morpho, mode: SN-S.] in progress: 100.0000%\n",
      "|-----> [Models alignment based on morpho, mode: SN-S.] finished [0.4605s]\n"
     ]
    },
    {
     "name": "stderr",
     "output_type": "stream",
     "text": [
      " 73%|████████████████████▎       | 93/128 [01:15<00:25,  1.40it/s]"
     ]
    },
    {
     "name": "stdout",
     "output_type": "stream",
     "text": [
      "|-----> [Models alignment based on morpho, mode: SN-S.] in progress: 100.0000%tensor(0.0850, device='cuda:0')\n",
      "tensor(0.0734, device='cuda:0')\n",
      "tensor(0.0649, device='cuda:0')\n",
      "|-----> [Models alignment based on morpho, mode: SN-S.] in progress: 100.0000%\n",
      "|-----> [Models alignment based on morpho, mode: SN-S.] finished [0.4331s]\n"
     ]
    },
    {
     "name": "stderr",
     "output_type": "stream",
     "text": [
      " 73%|████████████████████▌       | 94/128 [01:16<00:23,  1.45it/s]"
     ]
    },
    {
     "name": "stdout",
     "output_type": "stream",
     "text": [
      "|-----> [Models alignment based on morpho, mode: SN-S.] in progress: 100.0000%tensor(0.0865, device='cuda:0')\n",
      "tensor(0.0758, device='cuda:0')\n",
      "tensor(0.0667, device='cuda:0')\n",
      "|-----> [Models alignment based on morpho, mode: SN-S.] in progress: 100.0000%\n",
      "|-----> [Models alignment based on morpho, mode: SN-S.] finished [0.5047s]\n"
     ]
    },
    {
     "name": "stderr",
     "output_type": "stream",
     "text": [
      " 74%|████████████████████▊       | 95/128 [01:17<00:23,  1.42it/s]"
     ]
    },
    {
     "name": "stdout",
     "output_type": "stream",
     "text": [
      "|-----> [Models alignment based on morpho, mode: SN-S.] in progress: 100.0000%tensor(0.0872, device='cuda:0')\n",
      "tensor(0.0768, device='cuda:0')\n",
      "tensor(0.0682, device='cuda:0')\n",
      "|-----> [Models alignment based on morpho, mode: SN-S.] in progress: 100.0000%\n",
      "|-----> [Models alignment based on morpho, mode: SN-S.] finished [0.4951s]\n"
     ]
    },
    {
     "name": "stderr",
     "output_type": "stream",
     "text": [
      " 75%|█████████████████████       | 96/128 [01:17<00:23,  1.38it/s]"
     ]
    },
    {
     "name": "stdout",
     "output_type": "stream",
     "text": [
      "|-----> [Models alignment based on morpho, mode: SN-S.] in progress: 100.0000%tensor(0.0876, device='cuda:0')\n",
      "tensor(0.0769, device='cuda:0')\n",
      "tensor(0.0677, device='cuda:0')\n",
      "|-----> [Models alignment based on morpho, mode: SN-S.] in progress: 100.0000%\n",
      "|-----> [Models alignment based on morpho, mode: SN-S.] finished [0.4566s]\n"
     ]
    },
    {
     "name": "stderr",
     "output_type": "stream",
     "text": [
      " 76%|█████████████████████▏      | 97/128 [01:18<00:21,  1.43it/s]"
     ]
    },
    {
     "name": "stdout",
     "output_type": "stream",
     "text": [
      "|-----> [Models alignment based on morpho, mode: SN-S.] in progress: 100.0000%tensor(0.0880, device='cuda:0')\n",
      "tensor(0.0776, device='cuda:0')\n",
      "tensor(0.0693, device='cuda:0')\n",
      "|-----> [Models alignment based on morpho, mode: SN-S.] in progress: 100.0000%\n",
      "|-----> [Models alignment based on morpho, mode: SN-S.] finished [0.5340s]\n"
     ]
    },
    {
     "name": "stderr",
     "output_type": "stream",
     "text": [
      " 77%|█████████████████████▍      | 98/128 [01:19<00:22,  1.36it/s]"
     ]
    },
    {
     "name": "stdout",
     "output_type": "stream",
     "text": [
      "|-----> [Models alignment based on morpho, mode: SN-S.] in progress: 100.0000%tensor(0.0863, device='cuda:0')\n",
      "tensor(0.0752, device='cuda:0')\n",
      "tensor(0.0665, device='cuda:0')\n",
      "|-----> [Models alignment based on morpho, mode: SN-S.] in progress: 100.0000%\n",
      "|-----> [Models alignment based on morpho, mode: SN-S.] finished [0.3841s]\n"
     ]
    },
    {
     "name": "stderr",
     "output_type": "stream",
     "text": [
      " 77%|█████████████████████▋      | 99/128 [01:20<00:19,  1.46it/s]"
     ]
    },
    {
     "name": "stdout",
     "output_type": "stream",
     "text": [
      "|-----> [Models alignment based on morpho, mode: SN-S.] in progress: 100.0000%tensor(0.0881, device='cuda:0')\n",
      "tensor(0.0767, device='cuda:0')\n",
      "tensor(0.0675, device='cuda:0')\n",
      "|-----> [Models alignment based on morpho, mode: SN-S.] in progress: 100.0000%\n",
      "|-----> [Models alignment based on morpho, mode: SN-S.] finished [0.5092s]\n"
     ]
    },
    {
     "name": "stderr",
     "output_type": "stream",
     "text": [
      " 78%|█████████████████████      | 100/128 [01:20<00:20,  1.39it/s]"
     ]
    },
    {
     "name": "stdout",
     "output_type": "stream",
     "text": [
      "|-----> [Models alignment based on morpho, mode: SN-S.] in progress: 100.0000%tensor(0.0849, device='cuda:0')\n",
      "tensor(0.0730, device='cuda:0')\n",
      "tensor(0.0624, device='cuda:0')\n",
      "|-----> [Models alignment based on morpho, mode: SN-S.] in progress: 100.0000%\n",
      "|-----> [Models alignment based on morpho, mode: SN-S.] finished [0.4704s]\n"
     ]
    },
    {
     "name": "stderr",
     "output_type": "stream",
     "text": [
      " 79%|█████████████████████▎     | 101/128 [01:21<00:19,  1.42it/s]"
     ]
    },
    {
     "name": "stdout",
     "output_type": "stream",
     "text": [
      "|-----> [Models alignment based on morpho, mode: SN-S.] in progress: 100.0000%tensor(0.0874, device='cuda:0')\n",
      "tensor(0.0764, device='cuda:0')\n",
      "tensor(0.0671, device='cuda:0')\n",
      "|-----> [Models alignment based on morpho, mode: SN-S.] in progress: 100.0000%\n",
      "|-----> [Models alignment based on morpho, mode: SN-S.] finished [0.5260s]\n"
     ]
    },
    {
     "name": "stderr",
     "output_type": "stream",
     "text": [
      " 80%|█████████████████████▌     | 102/128 [01:22<00:19,  1.37it/s]"
     ]
    },
    {
     "name": "stdout",
     "output_type": "stream",
     "text": [
      "|-----> [Models alignment based on morpho, mode: SN-S.] in progress: 100.0000%tensor(0.0878, device='cuda:0')\n",
      "tensor(0.0765, device='cuda:0')\n",
      "tensor(0.0681, device='cuda:0')\n",
      "|-----> [Models alignment based on morpho, mode: SN-S.] in progress: 100.0000%\n",
      "|-----> [Models alignment based on morpho, mode: SN-S.] finished [0.5459s]\n"
     ]
    },
    {
     "name": "stderr",
     "output_type": "stream",
     "text": [
      " 80%|█████████████████████▋     | 103/128 [01:22<00:18,  1.38it/s]"
     ]
    },
    {
     "name": "stdout",
     "output_type": "stream",
     "text": [
      "|-----> [Models alignment based on morpho, mode: SN-S.] in progress: 100.0000%tensor(0.0911, device='cuda:0')\n",
      "tensor(0.0851, device='cuda:0')\n",
      "tensor(0.0778, device='cuda:0')\n",
      "|-----> [Models alignment based on morpho, mode: SN-S.] in progress: 100.0000%\n",
      "|-----> [Models alignment based on morpho, mode: SN-S.] finished [0.4623s]\n"
     ]
    },
    {
     "name": "stderr",
     "output_type": "stream",
     "text": [
      " 81%|█████████████████████▉     | 104/128 [01:23<00:17,  1.39it/s]"
     ]
    },
    {
     "name": "stdout",
     "output_type": "stream",
     "text": [
      "|-----> [Models alignment based on morpho, mode: SN-S.] in progress: 100.0000%tensor(0.0870, device='cuda:0')\n",
      "tensor(0.0751, device='cuda:0')\n",
      "tensor(0.0665, device='cuda:0')\n",
      "|-----> [Models alignment based on morpho, mode: SN-S.] in progress: 100.0000%\n",
      "|-----> [Models alignment based on morpho, mode: SN-S.] finished [0.4751s]\n"
     ]
    },
    {
     "name": "stderr",
     "output_type": "stream",
     "text": [
      " 82%|██████████████████████▏    | 105/128 [01:24<00:16,  1.37it/s]"
     ]
    },
    {
     "name": "stdout",
     "output_type": "stream",
     "text": [
      "|-----> [Models alignment based on morpho, mode: SN-S.] in progress: 100.0000%tensor(0.0847, device='cuda:0')\n",
      "tensor(0.0726, device='cuda:0')\n",
      "tensor(0.0636, device='cuda:0')\n",
      "|-----> [Models alignment based on morpho, mode: SN-S.] in progress: 100.0000%\n",
      "|-----> [Models alignment based on morpho, mode: SN-S.] finished [0.5049s]\n"
     ]
    },
    {
     "name": "stderr",
     "output_type": "stream",
     "text": [
      " 83%|██████████████████████▎    | 106/128 [01:25<00:16,  1.36it/s]"
     ]
    },
    {
     "name": "stdout",
     "output_type": "stream",
     "text": [
      "|-----> [Models alignment based on morpho, mode: SN-S.] in progress: 100.0000%tensor(0.0863, device='cuda:0')\n",
      "tensor(0.0749, device='cuda:0')\n",
      "tensor(0.0657, device='cuda:0')\n",
      "|-----> [Models alignment based on morpho, mode: SN-S.] in progress: 100.0000%\n",
      "|-----> [Models alignment based on morpho, mode: SN-S.] finished [0.5379s]\n"
     ]
    },
    {
     "name": "stderr",
     "output_type": "stream",
     "text": [
      " 84%|██████████████████████▌    | 107/128 [01:25<00:15,  1.33it/s]"
     ]
    },
    {
     "name": "stdout",
     "output_type": "stream",
     "text": [
      "|-----> [Models alignment based on morpho, mode: SN-S.] in progress: 100.0000%tensor(0.0880, device='cuda:0')\n",
      "tensor(0.0778, device='cuda:0')\n",
      "tensor(0.0692, device='cuda:0')\n",
      "|-----> [Models alignment based on morpho, mode: SN-S.] in progress: 100.0000%\n",
      "|-----> [Models alignment based on morpho, mode: SN-S.] finished [0.4833s]\n"
     ]
    },
    {
     "name": "stderr",
     "output_type": "stream",
     "text": [
      " 84%|██████████████████████▊    | 108/128 [01:26<00:14,  1.34it/s]"
     ]
    },
    {
     "name": "stdout",
     "output_type": "stream",
     "text": [
      "|-----> [Models alignment based on morpho, mode: SN-S.] in progress: 100.0000%tensor(0.0870, device='cuda:0')\n",
      "tensor(0.0757, device='cuda:0')\n",
      "tensor(0.0662, device='cuda:0')\n",
      "|-----> [Models alignment based on morpho, mode: SN-S.] in progress: 100.0000%\n",
      "|-----> [Models alignment based on morpho, mode: SN-S.] finished [0.6143s]\n"
     ]
    },
    {
     "name": "stderr",
     "output_type": "stream",
     "text": [
      " 85%|██████████████████████▉    | 109/128 [01:27<00:14,  1.28it/s]"
     ]
    },
    {
     "name": "stdout",
     "output_type": "stream",
     "text": [
      "|-----> [Models alignment based on morpho, mode: SN-S.] in progress: 100.0000%tensor(0.0873, device='cuda:0')\n",
      "tensor(0.0761, device='cuda:0')\n",
      "tensor(0.0672, device='cuda:0')\n",
      "|-----> [Models alignment based on morpho, mode: SN-S.] in progress: 100.0000%\n",
      "|-----> [Models alignment based on morpho, mode: SN-S.] finished [0.5739s]\n"
     ]
    },
    {
     "name": "stderr",
     "output_type": "stream",
     "text": [
      " 86%|███████████████████████▏   | 110/128 [01:28<00:14,  1.25it/s]"
     ]
    },
    {
     "name": "stdout",
     "output_type": "stream",
     "text": [
      "|-----> [Models alignment based on morpho, mode: SN-S.] in progress: 100.0000%tensor(0.0883, device='cuda:0')\n",
      "tensor(0.0787, device='cuda:0')\n",
      "tensor(0.0702, device='cuda:0')\n",
      "|-----> [Models alignment based on morpho, mode: SN-S.] in progress: 100.0000%\n",
      "|-----> [Models alignment based on morpho, mode: SN-S.] finished [0.5281s]\n"
     ]
    },
    {
     "name": "stderr",
     "output_type": "stream",
     "text": [
      " 87%|███████████████████████▍   | 111/128 [01:29<00:13,  1.26it/s]"
     ]
    },
    {
     "name": "stdout",
     "output_type": "stream",
     "text": [
      "|-----> [Models alignment based on morpho, mode: SN-S.] in progress: 100.0000%tensor(0.0870, device='cuda:0')\n",
      "tensor(0.0758, device='cuda:0')\n",
      "tensor(0.0674, device='cuda:0')\n",
      "|-----> [Models alignment based on morpho, mode: SN-S.] in progress: 100.0000%\n",
      "|-----> [Models alignment based on morpho, mode: SN-S.] finished [0.4117s]\n"
     ]
    },
    {
     "name": "stderr",
     "output_type": "stream",
     "text": [
      " 88%|███████████████████████▋   | 112/128 [01:29<00:12,  1.33it/s]"
     ]
    },
    {
     "name": "stdout",
     "output_type": "stream",
     "text": [
      "|-----> [Models alignment based on morpho, mode: SN-S.] in progress: 100.0000%tensor(0.0873, device='cuda:0')\n",
      "tensor(0.0770, device='cuda:0')\n",
      "tensor(0.0684, device='cuda:0')\n",
      "|-----> [Models alignment based on morpho, mode: SN-S.] in progress: 100.0000%\n",
      "|-----> [Models alignment based on morpho, mode: SN-S.] finished [0.4138s]\n"
     ]
    },
    {
     "name": "stderr",
     "output_type": "stream",
     "text": [
      " 88%|███████████████████████▊   | 113/128 [01:30<00:10,  1.38it/s]"
     ]
    },
    {
     "name": "stdout",
     "output_type": "stream",
     "text": [
      "|-----> [Models alignment based on morpho, mode: SN-S.] in progress: 100.0000%tensor(0.0881, device='cuda:0')\n",
      "tensor(0.0786, device='cuda:0')\n",
      "tensor(0.0702, device='cuda:0')\n",
      "|-----> [Models alignment based on morpho, mode: SN-S.] in progress: 100.0000%\n",
      "|-----> [Models alignment based on morpho, mode: SN-S.] finished [0.4754s]\n"
     ]
    },
    {
     "name": "stderr",
     "output_type": "stream",
     "text": [
      " 89%|████████████████████████   | 114/128 [01:31<00:10,  1.39it/s]"
     ]
    },
    {
     "name": "stdout",
     "output_type": "stream",
     "text": [
      "|-----> [Models alignment based on morpho, mode: SN-S.] in progress: 100.0000%tensor(0.0884, device='cuda:0')\n",
      "tensor(0.0781, device='cuda:0')\n",
      "tensor(0.0699, device='cuda:0')\n",
      "|-----> [Models alignment based on morpho, mode: SN-S.] in progress: 100.0000%\n",
      "|-----> [Models alignment based on morpho, mode: SN-S.] finished [0.4186s]\n"
     ]
    },
    {
     "name": "stderr",
     "output_type": "stream",
     "text": [
      " 90%|████████████████████████▎  | 115/128 [01:31<00:09,  1.42it/s]"
     ]
    },
    {
     "name": "stdout",
     "output_type": "stream",
     "text": [
      "|-----> [Models alignment based on morpho, mode: SN-S.] in progress: 100.0000%tensor(0.0882, device='cuda:0')\n",
      "tensor(0.0783, device='cuda:0')\n",
      "tensor(0.0706, device='cuda:0')\n",
      "|-----> [Models alignment based on morpho, mode: SN-S.] in progress: 100.0000%\n",
      "|-----> [Models alignment based on morpho, mode: SN-S.] finished [0.3765s]\n"
     ]
    },
    {
     "name": "stderr",
     "output_type": "stream",
     "text": [
      " 91%|████████████████████████▍  | 116/128 [01:33<00:10,  1.09it/s]"
     ]
    },
    {
     "name": "stdout",
     "output_type": "stream",
     "text": [
      "|-----> [Models alignment based on morpho, mode: SN-S.] in progress: 100.0000%tensor(0.0871, device='cuda:0')\n",
      "tensor(0.0767, device='cuda:0')\n",
      "tensor(0.0681, device='cuda:0')\n",
      "|-----> [Models alignment based on morpho, mode: SN-S.] in progress: 100.0000%\n",
      "|-----> [Models alignment based on morpho, mode: SN-S.] finished [0.3667s]\n"
     ]
    },
    {
     "name": "stderr",
     "output_type": "stream",
     "text": [
      " 91%|████████████████████████▋  | 117/128 [01:33<00:08,  1.23it/s]"
     ]
    },
    {
     "name": "stdout",
     "output_type": "stream",
     "text": [
      "|-----> [Models alignment based on morpho, mode: SN-S.] in progress: 100.0000%tensor(0.0879, device='cuda:0')\n",
      "tensor(0.0780, device='cuda:0')\n",
      "tensor(0.0691, device='cuda:0')\n",
      "|-----> [Models alignment based on morpho, mode: SN-S.] in progress: 100.0000%\n",
      "|-----> [Models alignment based on morpho, mode: SN-S.] finished [0.3560s]\n"
     ]
    },
    {
     "name": "stderr",
     "output_type": "stream",
     "text": [
      " 92%|████████████████████████▉  | 118/128 [01:34<00:07,  1.38it/s]"
     ]
    },
    {
     "name": "stdout",
     "output_type": "stream",
     "text": [
      "|-----> [Models alignment based on morpho, mode: SN-S.] in progress: 100.0000%tensor(0.0888, device='cuda:0')\n",
      "tensor(0.0791, device='cuda:0')\n",
      "tensor(0.0714, device='cuda:0')\n",
      "|-----> [Models alignment based on morpho, mode: SN-S.] in progress: 100.0000%\n",
      "|-----> [Models alignment based on morpho, mode: SN-S.] finished [0.4145s]\n"
     ]
    },
    {
     "name": "stderr",
     "output_type": "stream",
     "text": [
      " 93%|█████████████████████████  | 119/128 [01:35<00:06,  1.45it/s]"
     ]
    },
    {
     "name": "stdout",
     "output_type": "stream",
     "text": [
      "|-----> [Models alignment based on morpho, mode: SN-S.] in progress: 100.0000%tensor(0.0883, device='cuda:0')\n",
      "tensor(0.0788, device='cuda:0')\n",
      "tensor(0.0704, device='cuda:0')\n",
      "|-----> [Models alignment based on morpho, mode: SN-S.] in progress: 100.0000%\n",
      "|-----> [Models alignment based on morpho, mode: SN-S.] finished [0.3771s]\n"
     ]
    },
    {
     "name": "stderr",
     "output_type": "stream",
     "text": [
      " 94%|█████████████████████████▎ | 120/128 [01:35<00:05,  1.55it/s]"
     ]
    },
    {
     "name": "stdout",
     "output_type": "stream",
     "text": [
      "|-----> [Models alignment based on morpho, mode: SN-S.] in progress: 100.0000%tensor(0.0902, device='cuda:0')\n",
      "tensor(0.0805, device='cuda:0')\n",
      "tensor(0.0736, device='cuda:0')\n",
      "|-----> [Models alignment based on morpho, mode: SN-S.] in progress: 100.0000%\n",
      "|-----> [Models alignment based on morpho, mode: SN-S.] finished [0.3827s]\n"
     ]
    },
    {
     "name": "stderr",
     "output_type": "stream",
     "text": [
      " 95%|█████████████████████████▌ | 121/128 [01:36<00:04,  1.59it/s]"
     ]
    },
    {
     "name": "stdout",
     "output_type": "stream",
     "text": [
      "|-----> [Models alignment based on morpho, mode: SN-S.] in progress: 100.0000%tensor(0.0877, device='cuda:0')\n",
      "tensor(0.0775, device='cuda:0')\n",
      "tensor(0.0692, device='cuda:0')\n",
      "|-----> [Models alignment based on morpho, mode: SN-S.] in progress: 100.0000%\n",
      "|-----> [Models alignment based on morpho, mode: SN-S.] finished [0.3502s]\n"
     ]
    },
    {
     "name": "stderr",
     "output_type": "stream",
     "text": [
      " 95%|█████████████████████████▋ | 122/128 [01:36<00:03,  1.70it/s]"
     ]
    },
    {
     "name": "stdout",
     "output_type": "stream",
     "text": [
      "|-----> [Models alignment based on morpho, mode: SN-S.] in progress: 100.0000%tensor(0.0889, device='cuda:0')\n",
      "tensor(0.0775, device='cuda:0')\n",
      "tensor(0.0681, device='cuda:0')\n",
      "|-----> [Models alignment based on morpho, mode: SN-S.] in progress: 100.0000%\n",
      "|-----> [Models alignment based on morpho, mode: SN-S.] finished [0.3826s]\n"
     ]
    },
    {
     "name": "stderr",
     "output_type": "stream",
     "text": [
      " 96%|█████████████████████████▉ | 123/128 [01:37<00:02,  1.71it/s]"
     ]
    },
    {
     "name": "stdout",
     "output_type": "stream",
     "text": [
      "|-----> [Models alignment based on morpho, mode: SN-S.] in progress: 100.0000%tensor(0.0879, device='cuda:0')\n",
      "tensor(0.0770, device='cuda:0')\n",
      "tensor(0.0686, device='cuda:0')\n",
      "|-----> [Models alignment based on morpho, mode: SN-S.] in progress: 100.0000%\n",
      "|-----> [Models alignment based on morpho, mode: SN-S.] finished [0.4178s]\n"
     ]
    },
    {
     "name": "stderr",
     "output_type": "stream",
     "text": [
      " 97%|██████████████████████████▏| 124/128 [01:37<00:02,  1.72it/s]"
     ]
    },
    {
     "name": "stdout",
     "output_type": "stream",
     "text": [
      "|-----> [Models alignment based on morpho, mode: SN-S.] in progress: 100.0000%tensor(0.0856, device='cuda:0')\n",
      "tensor(0.0751, device='cuda:0')\n",
      "tensor(0.0661, device='cuda:0')\n",
      "|-----> [Models alignment based on morpho, mode: SN-S.] in progress: 100.0000%\n",
      "|-----> [Models alignment based on morpho, mode: SN-S.] finished [0.3760s]\n"
     ]
    },
    {
     "name": "stderr",
     "output_type": "stream",
     "text": [
      " 98%|██████████████████████████▎| 125/128 [01:38<00:01,  1.71it/s]"
     ]
    },
    {
     "name": "stdout",
     "output_type": "stream",
     "text": [
      "|-----> [Models alignment based on morpho, mode: SN-S.] in progress: 100.0000%tensor(0.0866, device='cuda:0')\n",
      "tensor(0.0760, device='cuda:0')\n",
      "tensor(0.0671, device='cuda:0')\n",
      "|-----> [Models alignment based on morpho, mode: SN-S.] in progress: 100.0000%\n",
      "|-----> [Models alignment based on morpho, mode: SN-S.] finished [0.4804s]\n"
     ]
    },
    {
     "name": "stderr",
     "output_type": "stream",
     "text": [
      " 98%|██████████████████████████▌| 126/128 [01:38<00:01,  1.68it/s]"
     ]
    },
    {
     "name": "stdout",
     "output_type": "stream",
     "text": [
      "|-----> [Models alignment based on morpho, mode: SN-S.] in progress: 100.0000%tensor(0.0904, device='cuda:0')\n",
      "tensor(0.0797, device='cuda:0')\n",
      "tensor(0.0711, device='cuda:0')\n",
      "|-----> [Models alignment based on morpho, mode: SN-S.] in progress: 100.0000%\n",
      "|-----> [Models alignment based on morpho, mode: SN-S.] finished [0.3700s]\n"
     ]
    },
    {
     "name": "stderr",
     "output_type": "stream",
     "text": [
      " 99%|██████████████████████████▊| 127/128 [01:39<00:00,  1.71it/s]"
     ]
    },
    {
     "name": "stdout",
     "output_type": "stream",
     "text": [
      "|-----> [Models alignment based on morpho, mode: SN-S.] in progress: 100.0000%tensor(0.0893, device='cuda:0')\n",
      "tensor(0.0788, device='cuda:0')\n",
      "tensor(0.0692, device='cuda:0')\n",
      "|-----> [Models alignment based on morpho, mode: SN-S.] in progress: 100.0000%\n",
      "|-----> [Models alignment based on morpho, mode: SN-S.] finished [0.4023s]\n"
     ]
    },
    {
     "name": "stderr",
     "output_type": "stream",
     "text": [
      "100%|███████████████████████████| 128/128 [01:40<00:00,  1.28it/s]\n"
     ]
    }
   ],
   "source": [
    "## Perform the Spateo alignment\n",
    "sampling_num = 5000\n",
    "# for i in tqdm(range(76, len(slices)-1)):\n",
    "for i in tqdm(range(len(slices)-1)):\n",
    "    slice1, slice2 = slices[i].copy(), slices[i+1].copy()\n",
    "    sampline_idx1 = np.random.choice(slice1.shape[0], sampling_num, replace=False) if slice1.shape[0] > sampling_num else np.arange(slice1.shape[0])\n",
    "    sampline_idx2 = np.random.choice(slice2.shape[0], sampling_num, replace=False) if slice2.shape[0] > sampling_num else np.arange(slice2.shape[0])\n",
    "    slice1 = slice1[sampline_idx1,:]\n",
    "    slice2 = slice2[sampline_idx2,:]\n",
    "    time_start = time.time()\n",
    "    align_slices, pis, _  = st.align.morpho_align(\n",
    "        models=[slice1, slice2],\n",
    "        spatial_key=spatial_key,\n",
    "        key_added=key_added,\n",
    "        device=\"0\",\n",
    "        mode=\"SN-S\",\n",
    "        max_iter=200,\n",
    "        verbose=False,\n",
    "        partial_robust_level=50,\n",
    "        beta=1e-5,\n",
    "        lambdaVF=1e5,\n",
    "        SVI_mode=True,\n",
    "        nn_init=True,\n",
    "        iter_key_added=None,\n",
    "    )\n",
    "    time_end = time.time()\n",
    "    matches = [np.arange(pis[0].shape[0]), np.argmax(pis[0], axis=1)]\n",
    "    R, t=solve_RT_by_correspondence(align_slices[1].obsm[key_added], align_slices[1].obsm[spatial_key])\n",
    "    alignment_results = {'sampling_idx1': sampline_idx1, 'sampline_idx2': sampline_idx2, 'R': R, 't': t, 'matches': matches, 'time': time_end - time_start}\n",
    "    np.save(os.path.join(results_folder, f\"slice_{i}_{i+1}_sampling_{sampling_num}.npy\"), alignment_results, allow_pickle=True)"
   ]
  },
  {
   "cell_type": "code",
   "execution_count": null,
   "id": "ab0e97a4-3443-4be3-a253-9957d268123b",
   "metadata": {},
   "outputs": [],
   "source": []
  }
 ],
 "metadata": {
  "kernelspec": {
   "display_name": "Spateo",
   "language": "python",
   "name": "spateo"
  },
  "language_info": {
   "codemirror_mode": {
    "name": "ipython",
    "version": 3
   },
   "file_extension": ".py",
   "mimetype": "text/x-python",
   "name": "python",
   "nbconvert_exporter": "python",
   "pygments_lexer": "ipython3",
   "version": "3.9.19"
  }
 },
 "nbformat": 4,
 "nbformat_minor": 5
}
