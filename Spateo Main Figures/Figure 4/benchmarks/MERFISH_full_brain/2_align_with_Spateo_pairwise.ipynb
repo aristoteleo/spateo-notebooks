{
 "cells": [
  {
   "cell_type": "code",
   "execution_count": 1,
   "id": "0908cd60-618c-42e7-9854-9713751acdda",
   "metadata": {
    "execution": {
     "iopub.execute_input": "2024-07-11T23:27:15.569357Z",
     "iopub.status.busy": "2024-07-11T23:27:15.568969Z",
     "iopub.status.idle": "2024-07-11T23:27:27.839095Z",
     "shell.execute_reply": "2024-07-11T23:27:27.838455Z",
     "shell.execute_reply.started": "2024-07-11T23:27:15.569331Z"
    }
   },
   "outputs": [
    {
     "name": "stderr",
     "output_type": "stream",
     "text": [
      "2024-07-11 23:27:19.296388: I tensorflow/core/platform/cpu_feature_guard.cc:193] This TensorFlow binary is optimized with oneAPI Deep Neural Network Library (oneDNN) to use the following CPU instructions in performance-critical operations:  AVX2 AVX512F FMA\n",
      "To enable them in other operations, rebuild TensorFlow with the appropriate compiler flags.\n",
      "2024-07-11 23:27:19.477180: W tensorflow/compiler/xla/stream_executor/platform/default/dso_loader.cc:64] Could not load dynamic library 'libcudart.so.11.0'; dlerror: libcudart.so.11.0: cannot open shared object file: No such file or directory; LD_LIBRARY_PATH: /usr/local/cuda-12.3/lib64\n",
      "2024-07-11 23:27:19.477225: I tensorflow/compiler/xla/stream_executor/cuda/cudart_stub.cc:29] Ignore above cudart dlerror if you do not have a GPU set up on your machine.\n",
      "2024-07-11 23:27:20.198071: W tensorflow/compiler/xla/stream_executor/platform/default/dso_loader.cc:64] Could not load dynamic library 'libnvinfer.so.7'; dlerror: libnvinfer.so.7: cannot open shared object file: No such file or directory; LD_LIBRARY_PATH: /usr/local/cuda-12.3/lib64\n",
      "2024-07-11 23:27:20.198172: W tensorflow/compiler/xla/stream_executor/platform/default/dso_loader.cc:64] Could not load dynamic library 'libnvinfer_plugin.so.7'; dlerror: libnvinfer_plugin.so.7: cannot open shared object file: No such file or directory; LD_LIBRARY_PATH: /usr/local/cuda-12.3/lib64\n",
      "2024-07-11 23:27:20.198180: W tensorflow/compiler/tf2tensorrt/utils/py_utils.cc:38] TF-TRT Warning: Cannot dlopen some TensorRT libraries. If you would like to use Nvidia GPU with TensorRT, please make sure the missing libraries mentioned above are installed properly.\n",
      "_XSERVTransSocketUNIXCreateListener: ...SocketCreateListener() failed\n",
      "_XSERVTransMakeAllCOTSServerListeners: server already running\n",
      "(EE) \n",
      "Fatal server error:\n",
      "(EE) Cannot establish any listening sockets - Make sure an X server isn't already running(EE) \n"
     ]
    }
   ],
   "source": [
    "import os\n",
    "os.environ['CUDA_VISIBLE_DEVICES'] = '1'\n",
    "import sys\n",
    "from pathlib import Path\n",
    "import anndata as ad\n",
    "import scanpy as sc\n",
    "import numpy as np\n",
    "import warnings\n",
    "warnings.simplefilter(action='ignore', category=FutureWarning)\n",
    "import seaborn as sns\n",
    "from matplotlib import pyplot as plt\n",
    "sys.path.insert(0, \"/home/ylu/project/spateo-release_new\")\n",
    "import spateo_dev as st\n",
    "sys.path.insert(0, \"/home/ylu/project\")\n",
    "from utils import *\n",
    "import time\n",
    "\n",
    "os.system('/usr/bin/Xvfb :99 -screen 0 1024x768x24 &')\n",
    "os.environ['DISPLAY'] = ':99'\n",
    "\n",
    "%load_ext autoreload\n",
    "%autoreload 2"
   ]
  },
  {
   "cell_type": "code",
   "execution_count": 2,
   "id": "e7b47bc4-0453-474d-a39f-aa14ed636caa",
   "metadata": {},
   "outputs": [],
   "source": [
    "data_folder = \"./results/split_slices/\"\n",
    "results_folder = \"./results/Spateo/\"\n",
    "figures_folder = \"./results/figures/Spateo\"\n",
    "Path(results_folder).mkdir(parents=True, exist_ok=True)"
   ]
  },
  {
   "cell_type": "code",
   "execution_count": 3,
   "id": "dea7abee-5509-4d87-8b86-19fb460fcb84",
   "metadata": {},
   "outputs": [
    {
     "name": "stderr",
     "output_type": "stream",
     "text": [
      "100%|█████████████████████████████████████████████████████████████████████████████████████████████████████████████████████████████████| 59/59 [02:52<00:00,  2.93s/it]\n"
     ]
    }
   ],
   "source": [
    "## load the data\n",
    "from tqdm import tqdm\n",
    "slices = []\n",
    "for i in tqdm(range(59)):\n",
    "    slices.append(ad.read_h5ad(os.path.join(data_folder, f\"slice_{i}.h5ad\")))"
   ]
  },
  {
   "cell_type": "code",
   "execution_count": 4,
   "id": "24840e17-a7da-4938-8e80-c4d7993303be",
   "metadata": {},
   "outputs": [],
   "source": [
    "spatial_key = \"spatial\"\n",
    "anno_key = \"class\"\n",
    "palette = slices[0].uns[f\"{anno_key}_palette\"]"
   ]
  },
  {
   "cell_type": "code",
   "execution_count": 5,
   "id": "1bf95a00-6497-41f2-959f-fd6b207731c0",
   "metadata": {},
   "outputs": [],
   "source": [
    "## Rotate the data\n",
    "rotate_key = \"spatial_rot\"\n",
    "rotations = np.load(\"./results/random_rotations.npy\", allow_pickle=True)\n",
    "for i in range(len(slices)):\n",
    "    slices[i].obsm[rotate_key] = slices[i].obsm[spatial_key][:,:2].copy()\n",
    "    mean = np.mean(slices[i].obsm[rotate_key], axis=0)\n",
    "    slices[i].obsm[rotate_key] = slices[i].obsm[rotate_key] - mean\n",
    "    slices[i].obsm[rotate_key] = slices[i].obsm[rotate_key] @ rotations[i].T + mean\n",
    "    "
   ]
  },
  {
   "cell_type": "code",
   "execution_count": 6,
   "id": "3e3a25fd-c7b7-4bcf-bd2f-214badbcbbaa",
   "metadata": {},
   "outputs": [],
   "source": [
    "spatial_key = \"spatial_rot\"\n",
    "key_added = \"aligned_spatial\""
   ]
  },
  {
   "cell_type": "code",
   "execution_count": 8,
   "id": "4d4bce49-e6f9-40da-8186-ac93595f278b",
   "metadata": {},
   "outputs": [
    {
     "name": "stderr",
     "output_type": "stream",
     "text": [
      "  0%|                                                                                                                                          | 0/58 [00:00<?, ?it/s]"
     ]
    },
    {
     "name": "stdout",
     "output_type": "stream",
     "text": [
      "|-----> [Models alignment based on morpho, mode: SN-S.] in progress: 100.0000%|-----> Filtered all samples for common genes. There are 550 common genes.\n",
      "|-----> Coordinates normalization params:\n",
      "|-----------> Scale: 1.3613672256469727.\n",
      "|-----> Performing coarse rigid alignment...\n",
      "|-----> Coarse rigid alignment done.\n",
      "|-----> [Start morpho alignment] in progress: 100.0000%\n",
      "|-----> [Start morpho alignment] finished [3.6658s]\n",
      "|-----> Key Parameters: gamma: 0.9900000095367432; beta2: 0.43164917826652527; sigma2: 0.004966384265571833\n",
      "|-----> [Models alignment based on morpho, mode: SN-S.] in progress: 100.0000%\n",
      "|-----> [Models alignment based on morpho, mode: SN-S.] finished [1.3928s]\n"
     ]
    },
    {
     "name": "stderr",
     "output_type": "stream",
     "text": [
      "  2%|██▏                                                                                                                               | 1/58 [00:14<13:34, 14.29s/it]"
     ]
    },
    {
     "name": "stdout",
     "output_type": "stream",
     "text": [
      "|-----> [Models alignment based on morpho, mode: SN-S.] in progress: 100.0000%|-----> Filtered all samples for common genes. There are 550 common genes.\n",
      "|-----> Coordinates normalization params:\n",
      "|-----------> Scale: 1.539260745048523.\n",
      "|-----> Performing coarse rigid alignment...\n",
      "|-----> Coarse rigid alignment done.\n",
      "|-----> [Start morpho alignment] in progress: 100.0000%\n",
      "|-----> [Start morpho alignment] finished [3.4065s]\n",
      "|-----> Key Parameters: gamma: 0.9900000095367432; beta2: 0.5462127327919006; sigma2: 0.0025663021951913834\n",
      "|-----> [Models alignment based on morpho, mode: SN-S.] in progress: 100.0000%\n",
      "|-----> [Models alignment based on morpho, mode: SN-S.] finished [1.3881s]\n"
     ]
    },
    {
     "name": "stderr",
     "output_type": "stream",
     "text": [
      "  3%|████▍                                                                                                                             | 2/58 [00:28<13:08, 14.08s/it]"
     ]
    },
    {
     "name": "stdout",
     "output_type": "stream",
     "text": [
      "|-----> [Models alignment based on morpho, mode: SN-S.] in progress: 100.0000%|-----> Filtered all samples for common genes. There are 550 common genes.\n",
      "|-----> Coordinates normalization params:\n",
      "|-----------> Scale: 1.7402434349060059.\n",
      "|-----> Performing coarse rigid alignment...\n",
      "|-----> Coarse rigid alignment done.\n",
      "|-----> [Start morpho alignment] in progress: 100.0000%\n",
      "|-----> [Start morpho alignment] finished [3.6904s]\n",
      "|-----> Key Parameters: gamma: 0.9900000095367432; beta2: 0.3896254599094391; sigma2: 0.0038977209478616714\n",
      "|-----> [Models alignment based on morpho, mode: SN-S.] in progress: 100.0000%\n",
      "|-----> [Models alignment based on morpho, mode: SN-S.] finished [1.4160s]\n"
     ]
    },
    {
     "name": "stderr",
     "output_type": "stream",
     "text": [
      "  5%|██████▋                                                                                                                           | 3/58 [00:42<13:06, 14.30s/it]"
     ]
    },
    {
     "name": "stdout",
     "output_type": "stream",
     "text": [
      "|-----> [Models alignment based on morpho, mode: SN-S.] in progress: 100.0000%|-----> Filtered all samples for common genes. There are 550 common genes.\n",
      "|-----> Coordinates normalization params:\n",
      "|-----------> Scale: 1.8503727912902832.\n",
      "|-----> Performing coarse rigid alignment...\n",
      "|-----> Coarse rigid alignment done.\n",
      "|-----> [Start morpho alignment] in progress: 100.0000%\n",
      "|-----> [Start morpho alignment] finished [3.6441s]\n",
      "|-----> Key Parameters: gamma: 0.9900000095367432; beta2: 0.5209667682647705; sigma2: 0.0037713649217039347\n",
      "|-----> [Models alignment based on morpho, mode: SN-S.] in progress: 100.0000%\n",
      "|-----> [Models alignment based on morpho, mode: SN-S.] finished [1.4114s]\n"
     ]
    },
    {
     "name": "stderr",
     "output_type": "stream",
     "text": [
      "  7%|████████▉                                                                                                                         | 4/58 [00:56<12:41, 14.10s/it]"
     ]
    },
    {
     "name": "stdout",
     "output_type": "stream",
     "text": [
      "|-----> [Models alignment based on morpho, mode: SN-S.] in progress: 100.0000%|-----> Filtered all samples for common genes. There are 550 common genes.\n",
      "|-----> Coordinates normalization params:\n",
      "|-----------> Scale: 1.9403932094573975.\n",
      "|-----> Performing coarse rigid alignment...\n",
      "|-----> Coarse rigid alignment done.\n",
      "|-----> [Start morpho alignment] in progress: 100.0000%\n",
      "|-----> [Start morpho alignment] finished [3.6625s]\n",
      "|-----> Key Parameters: gamma: 0.9774999022483826; beta2: 0.5938226580619812; sigma2: 0.003193176118656993\n",
      "|-----> [Models alignment based on morpho, mode: SN-S.] in progress: 100.0000%\n",
      "|-----> [Models alignment based on morpho, mode: SN-S.] finished [1.4034s]\n"
     ]
    },
    {
     "name": "stderr",
     "output_type": "stream",
     "text": [
      "  9%|███████████▏                                                                                                                      | 5/58 [01:10<12:31, 14.18s/it]"
     ]
    },
    {
     "name": "stdout",
     "output_type": "stream",
     "text": [
      "|-----> [Models alignment based on morpho, mode: SN-S.] in progress: 100.0000%|-----> Filtered all samples for common genes. There are 550 common genes.\n",
      "|-----> Coordinates normalization params:\n",
      "|-----------> Scale: 2.0336456298828125.\n",
      "|-----> Performing coarse rigid alignment...\n",
      "|-----> Coarse rigid alignment done.\n",
      "|-----> [Start morpho alignment] in progress: 100.0000%\n",
      "|-----> [Start morpho alignment] finished [3.4120s]\n",
      "|-----> Key Parameters: gamma: 0.9900000095367432; beta2: 0.5213392376899719; sigma2: 0.0033450755290687084\n",
      "|-----> [Models alignment based on morpho, mode: SN-S.] in progress: 100.0000%\n",
      "|-----> [Models alignment based on morpho, mode: SN-S.] finished [1.7213s]\n"
     ]
    },
    {
     "name": "stderr",
     "output_type": "stream",
     "text": [
      " 10%|█████████████▍                                                                                                                    | 6/58 [01:24<12:13, 14.11s/it]"
     ]
    },
    {
     "name": "stdout",
     "output_type": "stream",
     "text": [
      "|-----> [Models alignment based on morpho, mode: SN-S.] in progress: 100.0000%|-----> Filtered all samples for common genes. There are 550 common genes.\n",
      "|-----> Coordinates normalization params:\n",
      "|-----------> Scale: 2.1515440940856934.\n",
      "|-----> Performing coarse rigid alignment...\n",
      "|-----> Coarse rigid alignment done.\n",
      "|-----> [Start morpho alignment] in progress: 100.0000%\n",
      "|-----> [Start morpho alignment] finished [3.6047s]\n",
      "|-----> Key Parameters: gamma: 0.9900000095367432; beta2: 0.4185503423213959; sigma2: 0.006072711665183306\n",
      "|-----> [Models alignment based on morpho, mode: SN-S.] in progress: 100.0000%\n",
      "|-----> [Models alignment based on morpho, mode: SN-S.] finished [1.3977s]\n"
     ]
    },
    {
     "name": "stderr",
     "output_type": "stream",
     "text": [
      " 12%|███████████████▋                                                                                                                  | 7/58 [01:38<11:53, 13.99s/it]"
     ]
    },
    {
     "name": "stdout",
     "output_type": "stream",
     "text": [
      "|-----> [Models alignment based on morpho, mode: SN-S.] in progress: 100.0000%|-----> Filtered all samples for common genes. There are 550 common genes.\n",
      "|-----> Coordinates normalization params:\n",
      "|-----------> Scale: 2.2226579189300537.\n",
      "|-----> Performing coarse rigid alignment...\n",
      "|-----> Coarse rigid alignment done.\n",
      "|-----> [Start morpho alignment] in progress: 100.0000%\n",
      "|-----> [Start morpho alignment] finished [3.5722s]\n",
      "|-----> Key Parameters: gamma: 0.9900000095367432; beta2: 0.5090820789337158; sigma2: 0.03386496752500534\n",
      "|-----> [Models alignment based on morpho, mode: SN-S.] in progress: 100.0000%\n",
      "|-----> [Models alignment based on morpho, mode: SN-S.] finished [1.4005s]\n"
     ]
    },
    {
     "name": "stderr",
     "output_type": "stream",
     "text": [
      " 14%|█████████████████▉                                                                                                                | 8/58 [01:52<11:40, 14.02s/it]"
     ]
    },
    {
     "name": "stdout",
     "output_type": "stream",
     "text": [
      "|-----> [Models alignment based on morpho, mode: SN-S.] in progress: 100.0000%|-----> Filtered all samples for common genes. There are 550 common genes.\n",
      "|-----> Coordinates normalization params:\n",
      "|-----------> Scale: 2.2066307067871094.\n",
      "|-----> Performing coarse rigid alignment...\n",
      "|-----> Coarse rigid alignment done.\n",
      "|-----> [Start morpho alignment] in progress: 100.0000%\n",
      "|-----> [Start morpho alignment] finished [3.3423s]\n",
      "|-----> Key Parameters: gamma: 0.8454419374465942; beta2: 0.38845378160476685; sigma2: 0.00219328748062253\n",
      "|-----> [Models alignment based on morpho, mode: SN-S.] in progress: 100.0000%\n",
      "|-----> [Models alignment based on morpho, mode: SN-S.] finished [1.3924s]\n"
     ]
    },
    {
     "name": "stderr",
     "output_type": "stream",
     "text": [
      " 16%|████████████████████▏                                                                                                             | 9/58 [02:06<11:17, 13.84s/it]"
     ]
    },
    {
     "name": "stdout",
     "output_type": "stream",
     "text": [
      "|-----> [Models alignment based on morpho, mode: SN-S.] in progress: 100.0000%|-----> Filtered all samples for common genes. There are 550 common genes.\n",
      "|-----> Coordinates normalization params:\n",
      "|-----------> Scale: 2.3102269172668457.\n",
      "|-----> Performing coarse rigid alignment...\n",
      "|-----> Coarse rigid alignment done.\n",
      "|-----> [Start morpho alignment] in progress: 100.0000%\n",
      "|-----> [Start morpho alignment] finished [3.3904s]\n",
      "|-----> Key Parameters: gamma: 0.9309271574020386; beta2: 0.4395332932472229; sigma2: 0.003963331691920757\n",
      "|-----> [Models alignment based on morpho, mode: SN-S.] in progress: 100.0000%\n",
      "|-----> [Models alignment based on morpho, mode: SN-S.] finished [1.3941s]\n"
     ]
    },
    {
     "name": "stderr",
     "output_type": "stream",
     "text": [
      " 17%|██████████████████████▏                                                                                                          | 10/58 [02:19<11:02, 13.79s/it]"
     ]
    },
    {
     "name": "stdout",
     "output_type": "stream",
     "text": [
      "|-----> [Models alignment based on morpho, mode: SN-S.] in progress: 100.0000%|-----> Filtered all samples for common genes. There are 550 common genes.\n",
      "|-----> Coordinates normalization params:\n",
      "|-----------> Scale: 2.5157971382141113.\n",
      "|-----> Performing coarse rigid alignment...\n",
      "|-----> Coarse rigid alignment done.\n",
      "|-----> [Start morpho alignment] in progress: 100.0000%\n",
      "|-----> [Start morpho alignment] finished [3.8181s]\n",
      "|-----> Key Parameters: gamma: 0.9675653576850891; beta2: 0.4190528988838196; sigma2: 0.011488751508295536\n",
      "|-----> [Models alignment based on morpho, mode: SN-S.] in progress: 100.0000%\n",
      "|-----> [Models alignment based on morpho, mode: SN-S.] finished [1.4137s]\n"
     ]
    },
    {
     "name": "stderr",
     "output_type": "stream",
     "text": [
      " 19%|████████████████████████▍                                                                                                        | 11/58 [02:33<10:52, 13.88s/it]"
     ]
    },
    {
     "name": "stdout",
     "output_type": "stream",
     "text": [
      "|-----> [Models alignment based on morpho, mode: SN-S.] in progress: 100.0000%|-----> Filtered all samples for common genes. There are 550 common genes.\n",
      "|-----> Coordinates normalization params:\n",
      "|-----------> Scale: 2.5444445610046387.\n",
      "|-----> Performing coarse rigid alignment...\n",
      "|-----> Coarse rigid alignment done.\n",
      "|-----> [Start morpho alignment] in progress: 100.0000%\n",
      "|-----> [Start morpho alignment] finished [3.7328s]\n",
      "|-----> Key Parameters: gamma: 0.9696548581123352; beta2: 0.5075363516807556; sigma2: 0.0010000000474974513\n",
      "|-----> [Models alignment based on morpho, mode: SN-S.] in progress: 100.0000%\n",
      "|-----> [Models alignment based on morpho, mode: SN-S.] finished [1.3913s]\n"
     ]
    },
    {
     "name": "stderr",
     "output_type": "stream",
     "text": [
      " 21%|██████████████████████████▋                                                                                                      | 12/58 [02:47<10:38, 13.89s/it]"
     ]
    },
    {
     "name": "stdout",
     "output_type": "stream",
     "text": [
      "|-----> [Models alignment based on morpho, mode: SN-S.] in progress: 100.0000%|-----> Filtered all samples for common genes. There are 550 common genes.\n",
      "|-----> Coordinates normalization params:\n",
      "|-----------> Scale: 2.529630184173584.\n",
      "|-----> Performing coarse rigid alignment...\n",
      "|-----> Coarse rigid alignment done.\n",
      "|-----> [Start morpho alignment] in progress: 100.0000%\n",
      "|-----> [Start morpho alignment] finished [3.4414s]\n",
      "|-----> Key Parameters: gamma: 0.9900000095367432; beta2: 0.5123909115791321; sigma2: 0.002004611538723111\n",
      "|-----> [Models alignment based on morpho, mode: SN-S.] in progress: 100.0000%\n",
      "|-----> [Models alignment based on morpho, mode: SN-S.] finished [1.4040s]\n"
     ]
    },
    {
     "name": "stderr",
     "output_type": "stream",
     "text": [
      " 22%|████████████████████████████▉                                                                                                    | 13/58 [03:01<10:27, 13.95s/it]"
     ]
    },
    {
     "name": "stdout",
     "output_type": "stream",
     "text": [
      "|-----> [Models alignment based on morpho, mode: SN-S.] in progress: 100.0000%|-----> Filtered all samples for common genes. There are 550 common genes.\n",
      "|-----> Coordinates normalization params:\n",
      "|-----------> Scale: 2.482921600341797.\n",
      "|-----> Performing coarse rigid alignment...\n",
      "|-----> Coarse rigid alignment done.\n",
      "|-----> [Start morpho alignment] in progress: 100.0000%\n",
      "|-----> [Start morpho alignment] finished [3.7327s]\n",
      "|-----> Key Parameters: gamma: 0.9814366698265076; beta2: 0.43012580275535583; sigma2: 0.002858077874407172\n",
      "|-----> [Models alignment based on morpho, mode: SN-S.] in progress: 100.0000%\n",
      "|-----> [Models alignment based on morpho, mode: SN-S.] finished [1.3967s]\n"
     ]
    },
    {
     "name": "stderr",
     "output_type": "stream",
     "text": [
      " 24%|███████████████████████████████▏                                                                                                 | 14/58 [03:15<10:14, 13.97s/it]"
     ]
    },
    {
     "name": "stdout",
     "output_type": "stream",
     "text": [
      "|-----> [Models alignment based on morpho, mode: SN-S.] in progress: 100.0000%|-----> Filtered all samples for common genes. There are 550 common genes.\n",
      "|-----> Coordinates normalization params:\n",
      "|-----------> Scale: 2.354416847229004.\n",
      "|-----> Performing coarse rigid alignment...\n",
      "|-----> Coarse rigid alignment done.\n",
      "|-----> [Start morpho alignment] in progress: 100.0000%\n",
      "|-----> [Start morpho alignment] finished [3.7361s]\n",
      "|-----> Key Parameters: gamma: 0.9685416221618652; beta2: 0.49302297830581665; sigma2: 0.003532824805006385\n",
      "|-----> [Models alignment based on morpho, mode: SN-S.] in progress: 100.0000%\n",
      "|-----> [Models alignment based on morpho, mode: SN-S.] finished [1.4100s]\n"
     ]
    },
    {
     "name": "stderr",
     "output_type": "stream",
     "text": [
      " 26%|█████████████████████████████████▎                                                                                               | 15/58 [03:30<10:04, 14.07s/it]"
     ]
    },
    {
     "name": "stdout",
     "output_type": "stream",
     "text": [
      "|-----> [Models alignment based on morpho, mode: SN-S.] in progress: 100.0000%|-----> Filtered all samples for common genes. There are 550 common genes.\n",
      "|-----> Coordinates normalization params:\n",
      "|-----------> Scale: 2.2367892265319824.\n",
      "|-----> Performing coarse rigid alignment...\n",
      "|-----> Coarse rigid alignment done.\n",
      "|-----> [Start morpho alignment] in progress: 100.0000%\n",
      "|-----> [Start morpho alignment] finished [3.6807s]\n",
      "|-----> Key Parameters: gamma: 0.946890652179718; beta2: 0.6204386949539185; sigma2: 0.035004254430532455\n",
      "|-----> [Models alignment based on morpho, mode: SN-S.] in progress: 100.0000%\n",
      "|-----> [Models alignment based on morpho, mode: SN-S.] finished [1.3908s]\n"
     ]
    },
    {
     "name": "stderr",
     "output_type": "stream",
     "text": [
      " 28%|███████████████████████████████████▌                                                                                             | 16/58 [03:44<09:48, 14.00s/it]"
     ]
    },
    {
     "name": "stdout",
     "output_type": "stream",
     "text": [
      "|-----> [Models alignment based on morpho, mode: SN-S.] in progress: 100.0000%|-----> Filtered all samples for common genes. There are 550 common genes.\n",
      "|-----> Coordinates normalization params:\n",
      "|-----------> Scale: 2.3080222606658936.\n",
      "|-----> Performing coarse rigid alignment...\n",
      "|-----> Coarse rigid alignment done.\n",
      "|-----> [Start morpho alignment] in progress: 100.0000%\n",
      "|-----> [Start morpho alignment] finished [3.6175s]\n",
      "|-----> Key Parameters: gamma: 0.985278844833374; beta2: 0.5223997235298157; sigma2: 0.0029372465796768665\n",
      "|-----> [Models alignment based on morpho, mode: SN-S.] in progress: 100.0000%\n",
      "|-----> [Models alignment based on morpho, mode: SN-S.] finished [1.3899s]\n"
     ]
    },
    {
     "name": "stderr",
     "output_type": "stream",
     "text": [
      " 29%|█████████████████████████████████████▊                                                                                           | 17/58 [03:57<09:32, 13.95s/it]"
     ]
    },
    {
     "name": "stdout",
     "output_type": "stream",
     "text": [
      "|-----> [Models alignment based on morpho, mode: SN-S.] in progress: 100.0000%|-----> Filtered all samples for common genes. There are 550 common genes.\n",
      "|-----> Coordinates normalization params:\n",
      "|-----------> Scale: 2.5283617973327637.\n",
      "|-----> Performing coarse rigid alignment...\n",
      "|-----> Coarse rigid alignment done.\n",
      "|-----> [Start morpho alignment] in progress: 100.0000%\n",
      "|-----> [Start morpho alignment] finished [3.3938s]\n",
      "|-----> Key Parameters: gamma: 0.9829283356666565; beta2: 0.45945069193840027; sigma2: 0.004979095887392759\n",
      "|-----> [Models alignment based on morpho, mode: SN-S.] in progress: 100.0000%\n",
      "|-----> [Models alignment based on morpho, mode: SN-S.] finished [1.4120s]\n"
     ]
    },
    {
     "name": "stderr",
     "output_type": "stream",
     "text": [
      " 31%|████████████████████████████████████████                                                                                         | 18/58 [04:11<09:19, 13.99s/it]"
     ]
    },
    {
     "name": "stdout",
     "output_type": "stream",
     "text": [
      "|-----> [Models alignment based on morpho, mode: SN-S.] in progress: 100.0000%|-----> Filtered all samples for common genes. There are 550 common genes.\n",
      "|-----> Coordinates normalization params:\n",
      "|-----------> Scale: 2.6454060077667236.\n",
      "|-----> Performing coarse rigid alignment...\n",
      "|-----> Coarse rigid alignment done.\n",
      "|-----> [Start morpho alignment] in progress: 100.0000%\n",
      "|-----> [Start morpho alignment] finished [3.3942s]\n",
      "|-----> Key Parameters: gamma: 0.9900000095367432; beta2: 0.4844152629375458; sigma2: 0.0010000000474974513\n",
      "|-----> [Models alignment based on morpho, mode: SN-S.] in progress: 100.0000%\n",
      "|-----> [Models alignment based on morpho, mode: SN-S.] finished [1.7534s]\n"
     ]
    },
    {
     "name": "stderr",
     "output_type": "stream",
     "text": [
      " 33%|██████████████████████████████████████████▎                                                                                      | 19/58 [04:25<09:05, 13.98s/it]"
     ]
    },
    {
     "name": "stdout",
     "output_type": "stream",
     "text": [
      "|-----> [Models alignment based on morpho, mode: SN-S.] in progress: 100.0000%|-----> Filtered all samples for common genes. There are 550 common genes.\n",
      "|-----> Coordinates normalization params:\n",
      "|-----------> Scale: 2.698262929916382.\n",
      "|-----> Performing coarse rigid alignment...\n",
      "|-----> Coarse rigid alignment done.\n",
      "|-----> [Start morpho alignment] in progress: 100.0000%\n",
      "|-----> [Start morpho alignment] finished [3.5934s]\n",
      "|-----> Key Parameters: gamma: 0.9834684133529663; beta2: 0.4151232838630676; sigma2: 0.002181564224883914\n",
      "|-----> [Models alignment based on morpho, mode: SN-S.] in progress: 100.0000%\n",
      "|-----> [Models alignment based on morpho, mode: SN-S.] finished [1.3935s]\n"
     ]
    },
    {
     "name": "stderr",
     "output_type": "stream",
     "text": [
      " 34%|████████████████████████████████████████████▍                                                                                    | 20/58 [04:39<08:50, 13.97s/it]"
     ]
    },
    {
     "name": "stdout",
     "output_type": "stream",
     "text": [
      "|-----> [Models alignment based on morpho, mode: SN-S.] in progress: 100.0000%|-----> Filtered all samples for common genes. There are 550 common genes.\n",
      "|-----> Coordinates normalization params:\n",
      "|-----------> Scale: 2.772810220718384.\n",
      "|-----> Performing coarse rigid alignment...\n",
      "|-----> Coarse rigid alignment done.\n",
      "|-----> [Start morpho alignment] in progress: 100.0000%\n",
      "|-----> [Start morpho alignment] finished [3.3656s]\n",
      "|-----> Key Parameters: gamma: 0.9312636852264404; beta2: 0.4717937409877777; sigma2: 0.01095980778336525\n",
      "|-----> [Models alignment based on morpho, mode: SN-S.] in progress: 100.0000%\n",
      "|-----> [Models alignment based on morpho, mode: SN-S.] finished [1.3987s]\n"
     ]
    },
    {
     "name": "stderr",
     "output_type": "stream",
     "text": [
      " 36%|██████████████████████████████████████████████▋                                                                                  | 21/58 [04:53<08:35, 13.93s/it]"
     ]
    },
    {
     "name": "stdout",
     "output_type": "stream",
     "text": [
      "|-----> [Models alignment based on morpho, mode: SN-S.] in progress: 100.0000%|-----> Filtered all samples for common genes. There are 550 common genes.\n",
      "|-----> Coordinates normalization params:\n",
      "|-----------> Scale: 2.8295040130615234.\n",
      "|-----> Performing coarse rigid alignment...\n",
      "|-----> Coarse rigid alignment done.\n",
      "|-----> [Start morpho alignment] in progress: 100.0000%\n",
      "|-----> [Start morpho alignment] finished [3.3681s]\n",
      "|-----> Key Parameters: gamma: 0.9624695777893066; beta2: 0.4987249970436096; sigma2: 0.0015022385632619262\n",
      "|-----> [Models alignment based on morpho, mode: SN-S.] in progress: 100.0000%\n",
      "|-----> [Models alignment based on morpho, mode: SN-S.] finished [1.4028s]\n"
     ]
    },
    {
     "name": "stderr",
     "output_type": "stream",
     "text": [
      " 38%|████████████████████████████████████████████████▉                                                                                | 22/58 [05:07<08:18, 13.85s/it]"
     ]
    },
    {
     "name": "stdout",
     "output_type": "stream",
     "text": [
      "|-----> [Models alignment based on morpho, mode: SN-S.] in progress: 100.0000%|-----> Filtered all samples for common genes. There are 550 common genes.\n",
      "|-----> Coordinates normalization params:\n",
      "|-----------> Scale: 2.8943538665771484.\n",
      "|-----> Performing coarse rigid alignment...\n",
      "|-----> Coarse rigid alignment done.\n",
      "|-----> [Start morpho alignment] in progress: 100.0000%\n",
      "|-----> [Start morpho alignment] finished [3.3387s]\n",
      "|-----> Key Parameters: gamma: 0.9837784767150879; beta2: 0.4942351281642914; sigma2: 0.0019495481392368674\n",
      "|-----> [Models alignment based on morpho, mode: SN-S.] in progress: 100.0000%\n",
      "|-----> [Models alignment based on morpho, mode: SN-S.] finished [1.3945s]\n"
     ]
    },
    {
     "name": "stderr",
     "output_type": "stream",
     "text": [
      " 40%|███████████████████████████████████████████████████▏                                                                             | 23/58 [05:21<08:02, 13.79s/it]"
     ]
    },
    {
     "name": "stdout",
     "output_type": "stream",
     "text": [
      "|-----> [Models alignment based on morpho, mode: SN-S.] in progress: 100.0000%|-----> Filtered all samples for common genes. There are 550 common genes.\n",
      "|-----> Coordinates normalization params:\n",
      "|-----------> Scale: 3.0162997245788574.\n",
      "|-----> Performing coarse rigid alignment...\n",
      "|-----> Coarse rigid alignment done.\n",
      "|-----> [Start morpho alignment] in progress: 100.0000%\n",
      "|-----> [Start morpho alignment] finished [3.3351s]\n",
      "|-----> Key Parameters: gamma: 0.9900000095367432; beta2: 0.4975326955318451; sigma2: 0.0013661949196830392\n",
      "|-----> [Models alignment based on morpho, mode: SN-S.] in progress: 100.0000%\n",
      "|-----> [Models alignment based on morpho, mode: SN-S.] finished [1.3945s]\n"
     ]
    },
    {
     "name": "stderr",
     "output_type": "stream",
     "text": [
      " 41%|█████████████████████████████████████████████████████▍                                                                           | 24/58 [05:34<07:45, 13.69s/it]"
     ]
    },
    {
     "name": "stdout",
     "output_type": "stream",
     "text": [
      "|-----> [Models alignment based on morpho, mode: SN-S.] in progress: 100.0000%|-----> Filtered all samples for common genes. There are 550 common genes.\n",
      "|-----> Coordinates normalization params:\n",
      "|-----------> Scale: 3.01361083984375.\n",
      "|-----> Performing coarse rigid alignment...\n",
      "|-----> Coarse rigid alignment done.\n",
      "|-----> [Start morpho alignment] in progress: 100.0000%\n",
      "|-----> [Start morpho alignment] finished [3.3627s]\n",
      "|-----> Key Parameters: gamma: 0.9859583973884583; beta2: 0.5583330988883972; sigma2: 0.0013320613652467728\n",
      "|-----> [Models alignment based on morpho, mode: SN-S.] in progress: 100.0000%\n",
      "|-----> [Models alignment based on morpho, mode: SN-S.] finished [1.7088s]\n"
     ]
    },
    {
     "name": "stderr",
     "output_type": "stream",
     "text": [
      " 43%|███████████████████████████████████████████████████████▌                                                                         | 25/58 [05:48<07:37, 13.86s/it]"
     ]
    },
    {
     "name": "stdout",
     "output_type": "stream",
     "text": [
      "|-----> [Models alignment based on morpho, mode: SN-S.] in progress: 100.0000%|-----> Filtered all samples for common genes. There are 550 common genes.\n",
      "|-----> Coordinates normalization params:\n",
      "|-----------> Scale: 3.0079567432403564.\n",
      "|-----> Performing coarse rigid alignment...\n",
      "|-----> Coarse rigid alignment done.\n",
      "|-----> [Start morpho alignment] in progress: 100.0000%\n",
      "|-----> [Start morpho alignment] finished [3.3712s]\n",
      "|-----> Key Parameters: gamma: 0.9900000095367432; beta2: 0.42693039774894714; sigma2: 0.0013324107276275754\n",
      "|-----> [Models alignment based on morpho, mode: SN-S.] in progress: 100.0000%\n",
      "|-----> [Models alignment based on morpho, mode: SN-S.] finished [1.3956s]\n"
     ]
    },
    {
     "name": "stderr",
     "output_type": "stream",
     "text": [
      " 45%|█████████████████████████████████████████████████████████▊                                                                       | 26/58 [06:02<07:24, 13.88s/it]"
     ]
    },
    {
     "name": "stdout",
     "output_type": "stream",
     "text": [
      "|-----> [Models alignment based on morpho, mode: SN-S.] in progress: 100.0000%|-----> Filtered all samples for common genes. There are 550 common genes.\n",
      "|-----> Coordinates normalization params:\n",
      "|-----------> Scale: 3.0238304138183594.\n",
      "|-----> Performing coarse rigid alignment...\n",
      "|-----> Coarse rigid alignment done.\n",
      "|-----> [Start morpho alignment] in progress: 100.0000%\n",
      "|-----> [Start morpho alignment] finished [3.3679s]\n",
      "|-----> Key Parameters: gamma: 0.9760392904281616; beta2: 0.5731571912765503; sigma2: 0.0038403377402573824\n",
      "|-----> [Models alignment based on morpho, mode: SN-S.] in progress: 100.0000%\n",
      "|-----> [Models alignment based on morpho, mode: SN-S.] finished [1.3930s]\n"
     ]
    },
    {
     "name": "stderr",
     "output_type": "stream",
     "text": [
      " 47%|████████████████████████████████████████████████████████████                                                                     | 27/58 [06:16<07:06, 13.77s/it]"
     ]
    },
    {
     "name": "stdout",
     "output_type": "stream",
     "text": [
      "|-----> [Models alignment based on morpho, mode: SN-S.] in progress: 100.0000%|-----> Filtered all samples for common genes. There are 550 common genes.\n",
      "|-----> Coordinates normalization params:\n",
      "|-----------> Scale: 2.997774600982666.\n",
      "|-----> Performing coarse rigid alignment...\n",
      "|-----> Coarse rigid alignment done.\n",
      "|-----> [Start morpho alignment] in progress: 100.0000%\n",
      "|-----> [Start morpho alignment] finished [3.3702s]\n",
      "|-----> Key Parameters: gamma: 0.9473599791526794; beta2: 0.5127490758895874; sigma2: 0.0035958513617515564\n",
      "|-----> [Models alignment based on morpho, mode: SN-S.] in progress: 100.0000%\n",
      "|-----> [Models alignment based on morpho, mode: SN-S.] finished [1.3983s]\n"
     ]
    },
    {
     "name": "stderr",
     "output_type": "stream",
     "text": [
      " 48%|██████████████████████████████████████████████████████████████▎                                                                  | 28/58 [06:29<06:53, 13.77s/it]"
     ]
    },
    {
     "name": "stdout",
     "output_type": "stream",
     "text": [
      "|-----> [Models alignment based on morpho, mode: SN-S.] in progress: 100.0000%|-----> Filtered all samples for common genes. There are 550 common genes.\n",
      "|-----> Coordinates normalization params:\n",
      "|-----------> Scale: 3.0248618125915527.\n",
      "|-----> Performing coarse rigid alignment...\n",
      "|-----> Coarse rigid alignment done.\n",
      "|-----> [Start morpho alignment] in progress: 100.0000%\n",
      "|-----> [Start morpho alignment] finished [3.3159s]\n",
      "|-----> Key Parameters: gamma: 0.9900000095367432; beta2: 0.500285267829895; sigma2: 0.0014127327594906092\n",
      "|-----> [Models alignment based on morpho, mode: SN-S.] in progress: 100.0000%\n",
      "|-----> [Models alignment based on morpho, mode: SN-S.] finished [1.6719s]\n"
     ]
    },
    {
     "name": "stderr",
     "output_type": "stream",
     "text": [
      " 50%|████████████████████████████████████████████████████████████████▌                                                                | 29/58 [06:43<06:40, 13.83s/it]"
     ]
    },
    {
     "name": "stdout",
     "output_type": "stream",
     "text": [
      "|-----> [Models alignment based on morpho, mode: SN-S.] in progress: 100.0000%|-----> Filtered all samples for common genes. There are 550 common genes.\n",
      "|-----> Coordinates normalization params:\n",
      "|-----------> Scale: 3.0217580795288086.\n",
      "|-----> Performing coarse rigid alignment...\n",
      "|-----> Coarse rigid alignment done.\n",
      "|-----> [Start morpho alignment] in progress: 100.0000%\n",
      "|-----> [Start morpho alignment] finished [3.5932s]\n",
      "|-----> Key Parameters: gamma: 0.9900000095367432; beta2: 0.5984671711921692; sigma2: 0.0036088956985622644\n",
      "|-----> [Models alignment based on morpho, mode: SN-S.] in progress: 100.0000%\n",
      "|-----> [Models alignment based on morpho, mode: SN-S.] finished [1.3927s]\n"
     ]
    },
    {
     "name": "stderr",
     "output_type": "stream",
     "text": [
      " 52%|██████████████████████████████████████████████████████████████████▋                                                              | 30/58 [06:57<06:28, 13.87s/it]"
     ]
    },
    {
     "name": "stdout",
     "output_type": "stream",
     "text": [
      "|-----> [Models alignment based on morpho, mode: SN-S.] in progress: 100.0000%|-----> Filtered all samples for common genes. There are 550 common genes.\n",
      "|-----> Coordinates normalization params:\n",
      "|-----------> Scale: 3.059278726577759.\n",
      "|-----> Performing coarse rigid alignment...\n",
      "|-----> Coarse rigid alignment done.\n",
      "|-----> [Start morpho alignment] in progress: 100.0000%\n",
      "|-----> [Start morpho alignment] finished [3.3616s]\n",
      "|-----> Key Parameters: gamma: 0.9900000095367432; beta2: 0.5354728102684021; sigma2: 0.0010388876544311643\n",
      "|-----> [Models alignment based on morpho, mode: SN-S.] in progress: 100.0000%\n",
      "|-----> [Models alignment based on morpho, mode: SN-S.] finished [1.4035s]\n"
     ]
    },
    {
     "name": "stderr",
     "output_type": "stream",
     "text": [
      " 53%|████████████████████████████████████████████████████████████████████▉                                                            | 31/58 [07:11<06:14, 13.86s/it]"
     ]
    },
    {
     "name": "stdout",
     "output_type": "stream",
     "text": [
      "|-----> [Models alignment based on morpho, mode: SN-S.] in progress: 100.0000%|-----> Filtered all samples for common genes. There are 550 common genes.\n",
      "|-----> Coordinates normalization params:\n",
      "|-----------> Scale: 3.0523619651794434.\n",
      "|-----> Performing coarse rigid alignment...\n",
      "|-----> Coarse rigid alignment done.\n",
      "|-----> [Start morpho alignment] in progress: 100.0000%\n",
      "|-----> [Start morpho alignment] finished [3.6191s]\n",
      "|-----> Key Parameters: gamma: 0.9900000095367432; beta2: 0.4543578624725342; sigma2: 0.002987767569720745\n",
      "|-----> [Models alignment based on morpho, mode: SN-S.] in progress: 100.0000%\n",
      "|-----> [Models alignment based on morpho, mode: SN-S.] finished [1.3995s]\n"
     ]
    },
    {
     "name": "stderr",
     "output_type": "stream",
     "text": [
      " 55%|███████████████████████████████████████████████████████████████████████▏                                                         | 32/58 [07:25<06:01, 13.92s/it]"
     ]
    },
    {
     "name": "stdout",
     "output_type": "stream",
     "text": [
      "|-----> [Models alignment based on morpho, mode: SN-S.] in progress: 100.0000%|-----> Filtered all samples for common genes. There are 550 common genes.\n",
      "|-----> Coordinates normalization params:\n",
      "|-----------> Scale: 3.063230514526367.\n",
      "|-----> Performing coarse rigid alignment...\n",
      "|-----> Coarse rigid alignment done.\n",
      "|-----> [Start morpho alignment] in progress: 100.0000%\n",
      "|-----> [Start morpho alignment] finished [3.4423s]\n",
      "|-----> Key Parameters: gamma: 0.9900000095367432; beta2: 0.46264752745628357; sigma2: 0.001526663894765079\n",
      "|-----> [Models alignment based on morpho, mode: SN-S.] in progress: 100.0000%\n",
      "|-----> [Models alignment based on morpho, mode: SN-S.] finished [1.3952s]\n"
     ]
    },
    {
     "name": "stderr",
     "output_type": "stream",
     "text": [
      " 57%|█████████████████████████████████████████████████████████████████████████▍                                                       | 33/58 [07:39<05:48, 13.96s/it]"
     ]
    },
    {
     "name": "stdout",
     "output_type": "stream",
     "text": [
      "|-----> [Models alignment based on morpho, mode: SN-S.] in progress: 100.0000%|-----> Filtered all samples for common genes. There are 550 common genes.\n",
      "|-----> Coordinates normalization params:\n",
      "|-----------> Scale: 2.9948554039001465.\n",
      "|-----> Performing coarse rigid alignment...\n",
      "|-----> Coarse rigid alignment done.\n",
      "|-----> [Start morpho alignment] in progress: 100.0000%\n",
      "|-----> [Start morpho alignment] finished [3.6358s]\n",
      "|-----> Key Parameters: gamma: 0.9857295155525208; beta2: 0.5470936894416809; sigma2: 0.013874287717044353\n",
      "|-----> [Models alignment based on morpho, mode: SN-S.] in progress: 100.0000%\n",
      "|-----> [Models alignment based on morpho, mode: SN-S.] finished [1.3964s]\n"
     ]
    },
    {
     "name": "stderr",
     "output_type": "stream",
     "text": [
      " 59%|███████████████████████████████████████████████████████████████████████████▌                                                     | 34/58 [07:53<05:36, 14.01s/it]"
     ]
    },
    {
     "name": "stdout",
     "output_type": "stream",
     "text": [
      "|-----> [Models alignment based on morpho, mode: SN-S.] in progress: 100.0000%|-----> Filtered all samples for common genes. There are 550 common genes.\n",
      "|-----> Coordinates normalization params:\n",
      "|-----------> Scale: 2.929311513900757.\n",
      "|-----> Performing coarse rigid alignment...\n",
      "|-----> Coarse rigid alignment done.\n",
      "|-----> [Start morpho alignment] in progress: 100.0000%\n",
      "|-----> [Start morpho alignment] finished [3.4203s]\n",
      "|-----> Key Parameters: gamma: 0.9900000095367432; beta2: 0.5027039051055908; sigma2: 0.001728885225020349\n",
      "|-----> [Models alignment based on morpho, mode: SN-S.] in progress: 100.0000%\n",
      "|-----> [Models alignment based on morpho, mode: SN-S.] finished [1.3886s]\n"
     ]
    },
    {
     "name": "stderr",
     "output_type": "stream",
     "text": [
      " 60%|█████████████████████████████████████████████████████████████████████████████▊                                                   | 35/58 [08:08<05:22, 14.04s/it]"
     ]
    },
    {
     "name": "stdout",
     "output_type": "stream",
     "text": [
      "|-----> [Models alignment based on morpho, mode: SN-S.] in progress: 100.0000%|-----> Filtered all samples for common genes. There are 550 common genes.\n",
      "|-----> Coordinates normalization params:\n",
      "|-----------> Scale: 2.9126436710357666.\n",
      "|-----> Performing coarse rigid alignment...\n",
      "|-----> Coarse rigid alignment done.\n",
      "|-----> [Start morpho alignment] in progress: 100.0000%\n",
      "|-----> [Start morpho alignment] finished [3.6287s]\n",
      "|-----> Key Parameters: gamma: 0.9590885639190674; beta2: 0.5131075978279114; sigma2: 0.024271661415696144\n",
      "|-----> [Models alignment based on morpho, mode: SN-S.] in progress: 100.0000%\n",
      "|-----> [Models alignment based on morpho, mode: SN-S.] finished [1.3977s]\n"
     ]
    },
    {
     "name": "stderr",
     "output_type": "stream",
     "text": [
      " 62%|████████████████████████████████████████████████████████████████████████████████                                                 | 36/58 [08:22<05:11, 14.15s/it]"
     ]
    },
    {
     "name": "stdout",
     "output_type": "stream",
     "text": [
      "|-----> [Models alignment based on morpho, mode: SN-S.] in progress: 100.0000%|-----> Filtered all samples for common genes. There are 550 common genes.\n",
      "|-----> Coordinates normalization params:\n",
      "|-----------> Scale: 2.8184752464294434.\n",
      "|-----> Performing coarse rigid alignment...\n",
      "|-----> Coarse rigid alignment done.\n",
      "|-----> [Start morpho alignment] in progress: 100.0000%\n",
      "|-----> [Start morpho alignment] finished [3.3388s]\n",
      "|-----> Key Parameters: gamma: 0.9880254864692688; beta2: 0.47124844789505005; sigma2: 0.0026743586640805006\n",
      "|-----> [Models alignment based on morpho, mode: SN-S.] in progress: 100.0000%\n",
      "|-----> [Models alignment based on morpho, mode: SN-S.] finished [1.3883s]\n"
     ]
    },
    {
     "name": "stderr",
     "output_type": "stream",
     "text": [
      " 64%|██████████████████████████████████████████████████████████████████████████████████▎                                              | 37/58 [08:36<04:55, 14.08s/it]"
     ]
    },
    {
     "name": "stdout",
     "output_type": "stream",
     "text": [
      "|-----> [Models alignment based on morpho, mode: SN-S.] in progress: 100.0000%|-----> Filtered all samples for common genes. There are 550 common genes.\n",
      "|-----> Coordinates normalization params:\n",
      "|-----------> Scale: 2.7915186882019043.\n",
      "|-----> Performing coarse rigid alignment...\n",
      "|-----> Coarse rigid alignment done.\n",
      "|-----> [Start morpho alignment] in progress: 100.0000%\n",
      "|-----> [Start morpho alignment] finished [3.6346s]\n",
      "|-----> Key Parameters: gamma: 0.9900000095367432; beta2: 0.4668408930301666; sigma2: 0.0020737675949931145\n",
      "|-----> [Models alignment based on morpho, mode: SN-S.] in progress: 100.0000%\n",
      "|-----> [Models alignment based on morpho, mode: SN-S.] finished [1.4008s]\n"
     ]
    },
    {
     "name": "stderr",
     "output_type": "stream",
     "text": [
      " 66%|████████████████████████████████████████████████████████████████████████████████████▌                                            | 38/58 [08:50<04:42, 14.15s/it]"
     ]
    },
    {
     "name": "stdout",
     "output_type": "stream",
     "text": [
      "|-----> [Models alignment based on morpho, mode: SN-S.] in progress: 100.0000%|-----> Filtered all samples for common genes. There are 550 common genes.\n",
      "|-----> Coordinates normalization params:\n",
      "|-----------> Scale: 2.7289295196533203.\n",
      "|-----> Performing coarse rigid alignment...\n",
      "|-----> Coarse rigid alignment done.\n",
      "|-----> [Start morpho alignment] in progress: 100.0000%\n",
      "|-----> [Start morpho alignment] finished [3.3573s]\n",
      "|-----> Key Parameters: gamma: 0.9723040461540222; beta2: 0.46853533387184143; sigma2: 0.005669455975294113\n",
      "|-----> [Models alignment based on morpho, mode: SN-S.] in progress: 100.0000%\n",
      "|-----> [Models alignment based on morpho, mode: SN-S.] finished [1.3942s]\n"
     ]
    },
    {
     "name": "stderr",
     "output_type": "stream",
     "text": [
      " 67%|██████████████████████████████████████████████████████████████████████████████████████▋                                          | 39/58 [09:04<04:27, 14.10s/it]"
     ]
    },
    {
     "name": "stdout",
     "output_type": "stream",
     "text": [
      "|-----> [Models alignment based on morpho, mode: SN-S.] in progress: 100.0000%|-----> Filtered all samples for common genes. There are 550 common genes.\n",
      "|-----> Coordinates normalization params:\n",
      "|-----------> Scale: 2.640225887298584.\n",
      "|-----> Performing coarse rigid alignment...\n",
      "|-----> Coarse rigid alignment done.\n",
      "|-----> [Start morpho alignment] in progress: 100.0000%\n",
      "|-----> [Start morpho alignment] finished [3.3770s]\n",
      "|-----> Key Parameters: gamma: 0.9816098213195801; beta2: 0.4872744083404541; sigma2: 0.007939381524920464\n",
      "|-----> [Models alignment based on morpho, mode: SN-S.] in progress: 100.0000%\n",
      "|-----> [Models alignment based on morpho, mode: SN-S.] finished [1.4016s]\n"
     ]
    },
    {
     "name": "stderr",
     "output_type": "stream",
     "text": [
      " 69%|████████████████████████████████████████████████████████████████████████████████████████▉                                        | 40/58 [09:18<04:13, 14.10s/it]"
     ]
    },
    {
     "name": "stdout",
     "output_type": "stream",
     "text": [
      "|-----> [Models alignment based on morpho, mode: SN-S.] in progress: 100.0000%|-----> Filtered all samples for common genes. There are 550 common genes.\n",
      "|-----> Coordinates normalization params:\n",
      "|-----------> Scale: 2.638789415359497.\n",
      "|-----> Performing coarse rigid alignment...\n",
      "|-----> Coarse rigid alignment done.\n",
      "|-----> [Start morpho alignment] in progress: 100.0000%\n",
      "|-----> [Start morpho alignment] finished [3.6159s]\n",
      "|-----> Key Parameters: gamma: 0.9900000095367432; beta2: 0.3839254379272461; sigma2: 0.00243764859624207\n",
      "|-----> [Models alignment based on morpho, mode: SN-S.] in progress: 100.0000%\n",
      "|-----> [Models alignment based on morpho, mode: SN-S.] finished [1.3983s]\n"
     ]
    },
    {
     "name": "stderr",
     "output_type": "stream",
     "text": [
      " 71%|███████████████████████████████████████████████████████████████████████████████████████████▏                                     | 41/58 [09:33<04:00, 14.17s/it]"
     ]
    },
    {
     "name": "stdout",
     "output_type": "stream",
     "text": [
      "|-----> [Models alignment based on morpho, mode: SN-S.] in progress: 100.0000%|-----> Filtered all samples for common genes. There are 550 common genes.\n",
      "|-----> Coordinates normalization params:\n",
      "|-----------> Scale: 2.679924488067627.\n",
      "|-----> Performing coarse rigid alignment...\n",
      "|-----> Coarse rigid alignment done.\n",
      "|-----> [Start morpho alignment] in progress: 100.0000%\n",
      "|-----> [Start morpho alignment] finished [3.5982s]\n",
      "|-----> Key Parameters: gamma: 0.9900000095367432; beta2: 0.5088579058647156; sigma2: 0.0018411141354590654\n",
      "|-----> [Models alignment based on morpho, mode: SN-S.] in progress: 100.0000%\n",
      "|-----> [Models alignment based on morpho, mode: SN-S.] finished [1.4003s]\n"
     ]
    },
    {
     "name": "stderr",
     "output_type": "stream",
     "text": [
      " 72%|█████████████████████████████████████████████████████████████████████████████████████████████▍                                   | 42/58 [09:47<03:47, 14.22s/it]"
     ]
    },
    {
     "name": "stdout",
     "output_type": "stream",
     "text": [
      "|-----> [Models alignment based on morpho, mode: SN-S.] in progress: 100.0000%|-----> Filtered all samples for common genes. There are 550 common genes.\n",
      "|-----> Coordinates normalization params:\n",
      "|-----------> Scale: 2.587459087371826.\n",
      "|-----> Performing coarse rigid alignment...\n",
      "|-----> Coarse rigid alignment done.\n",
      "|-----> [Start morpho alignment] in progress: 100.0000%\n",
      "|-----> [Start morpho alignment] finished [3.3828s]\n",
      "|-----> Key Parameters: gamma: 0.9819426536560059; beta2: 0.5496544241905212; sigma2: 0.011560773476958275\n",
      "|-----> [Models alignment based on morpho, mode: SN-S.] in progress: 100.0000%\n",
      "|-----> [Models alignment based on morpho, mode: SN-S.] finished [2.0703s]\n"
     ]
    },
    {
     "name": "stderr",
     "output_type": "stream",
     "text": [
      " 74%|███████████████████████████████████████████████████████████████████████████████████████████████▋                                 | 43/58 [10:02<03:34, 14.33s/it]"
     ]
    },
    {
     "name": "stdout",
     "output_type": "stream",
     "text": [
      "|-----> [Models alignment based on morpho, mode: SN-S.] in progress: 100.0000%|-----> Filtered all samples for common genes. There are 550 common genes.\n",
      "|-----> Coordinates normalization params:\n",
      "|-----------> Scale: 2.5388023853302.\n",
      "|-----> Performing coarse rigid alignment...\n",
      "|-----> Coarse rigid alignment done.\n",
      "|-----> [Start morpho alignment] in progress: 100.0000%\n",
      "|-----> [Start morpho alignment] finished [3.6358s]\n",
      "|-----> Key Parameters: gamma: 0.9900000095367432; beta2: 0.43239638209342957; sigma2: 0.0018352544866502285\n",
      "|-----> [Models alignment based on morpho, mode: SN-S.] in progress: 100.0000%\n",
      "|-----> [Models alignment based on morpho, mode: SN-S.] finished [1.4140s]\n"
     ]
    },
    {
     "name": "stderr",
     "output_type": "stream",
     "text": [
      " 76%|█████████████████████████████████████████████████████████████████████████████████████████████████▊                               | 44/58 [10:16<03:21, 14.36s/it]"
     ]
    },
    {
     "name": "stdout",
     "output_type": "stream",
     "text": [
      "|-----> [Models alignment based on morpho, mode: SN-S.] in progress: 100.0000%|-----> Filtered all samples for common genes. There are 550 common genes.\n",
      "|-----> Coordinates normalization params:\n",
      "|-----------> Scale: 2.4551713466644287.\n",
      "|-----> Performing coarse rigid alignment...\n",
      "|-----> Coarse rigid alignment done.\n",
      "|-----> [Start morpho alignment] in progress: 100.0000%\n",
      "|-----> [Start morpho alignment] finished [3.3633s]\n",
      "|-----> Key Parameters: gamma: 0.9712748527526855; beta2: 0.4042683243751526; sigma2: 0.01702595129609108\n",
      "|-----> [Models alignment based on morpho, mode: SN-S.] in progress: 100.0000%\n",
      "|-----> [Models alignment based on morpho, mode: SN-S.] finished [1.6673s]\n"
     ]
    },
    {
     "name": "stderr",
     "output_type": "stream",
     "text": [
      " 78%|████████████████████████████████████████████████████████████████████████████████████████████████████                             | 45/58 [10:30<03:05, 14.30s/it]"
     ]
    },
    {
     "name": "stdout",
     "output_type": "stream",
     "text": [
      "|-----> [Models alignment based on morpho, mode: SN-S.] in progress: 100.0000%|-----> Filtered all samples for common genes. There are 550 common genes.\n",
      "|-----> Coordinates normalization params:\n",
      "|-----------> Scale: 2.340704917907715.\n",
      "|-----> Performing coarse rigid alignment...\n",
      "|-----> Coarse rigid alignment done.\n",
      "|-----> [Start morpho alignment] in progress: 100.0000%\n",
      "|-----> [Start morpho alignment] finished [3.5873s]\n",
      "|-----> Key Parameters: gamma: 0.9900000095367432; beta2: 0.42870011925697327; sigma2: 0.001768928486853838\n",
      "|-----> [Models alignment based on morpho, mode: SN-S.] in progress: 100.0000%\n",
      "|-----> [Models alignment based on morpho, mode: SN-S.] finished [1.3943s]\n"
     ]
    },
    {
     "name": "stderr",
     "output_type": "stream",
     "text": [
      " 79%|██████████████████████████████████████████████████████████████████████████████████████████████████████▎                          | 46/58 [10:44<02:50, 14.21s/it]"
     ]
    },
    {
     "name": "stdout",
     "output_type": "stream",
     "text": [
      "|-----> [Models alignment based on morpho, mode: SN-S.] in progress: 100.0000%|-----> Filtered all samples for common genes. There are 550 common genes.\n",
      "|-----> Coordinates normalization params:\n",
      "|-----------> Scale: 2.316131591796875.\n",
      "|-----> Performing coarse rigid alignment...\n",
      "|-----> Coarse rigid alignment done.\n",
      "|-----> [Start morpho alignment] in progress: 100.0000%\n",
      "|-----> [Start morpho alignment] finished [3.3517s]\n",
      "|-----> Key Parameters: gamma: 0.976675271987915; beta2: 0.4146721363067627; sigma2: 0.003144793212413788\n",
      "|-----> [Models alignment based on morpho, mode: SN-S.] in progress: 100.0000%\n",
      "|-----> [Models alignment based on morpho, mode: SN-S.] finished [1.3965s]\n"
     ]
    },
    {
     "name": "stderr",
     "output_type": "stream",
     "text": [
      " 81%|████████████████████████████████████████████████████████████████████████████████████████████████████████▌                        | 47/58 [10:58<02:34, 14.01s/it]"
     ]
    },
    {
     "name": "stdout",
     "output_type": "stream",
     "text": [
      "|-----> [Models alignment based on morpho, mode: SN-S.] in progress: 100.0000%|-----> Filtered all samples for common genes. There are 550 common genes.\n",
      "|-----> Coordinates normalization params:\n",
      "|-----------> Scale: 2.1970508098602295.\n",
      "|-----> Performing coarse rigid alignment...\n",
      "|-----> Coarse rigid alignment done.\n",
      "|-----> [Start morpho alignment] in progress: 100.0000%\n",
      "|-----> [Start morpho alignment] finished [3.4160s]\n",
      "|-----> Key Parameters: gamma: 0.9826162457466125; beta2: 0.39257189631462097; sigma2: 0.010517762042582035\n",
      "|-----> [Models alignment based on morpho, mode: SN-S.] in progress: 100.0000%\n",
      "|-----> [Models alignment based on morpho, mode: SN-S.] finished [1.7411s]\n"
     ]
    },
    {
     "name": "stderr",
     "output_type": "stream",
     "text": [
      " 83%|██████████████████████████████████████████████████████████████████████████████████████████████████████████▊                      | 48/58 [11:12<02:20, 14.04s/it]"
     ]
    },
    {
     "name": "stdout",
     "output_type": "stream",
     "text": [
      "|-----> [Models alignment based on morpho, mode: SN-S.] in progress: 100.0000%|-----> Filtered all samples for common genes. There are 550 common genes.\n",
      "|-----> Coordinates normalization params:\n",
      "|-----------> Scale: 2.0505852699279785.\n",
      "|-----> Performing coarse rigid alignment...\n",
      "|-----> Coarse rigid alignment done.\n",
      "|-----> [Start morpho alignment] in progress: 100.0000%\n",
      "|-----> [Start morpho alignment] finished [3.7111s]\n",
      "|-----> Key Parameters: gamma: 0.983891487121582; beta2: 0.5696294903755188; sigma2: 0.006332028191536665\n",
      "|-----> [Models alignment based on morpho, mode: SN-S.] in progress: 100.0000%\n",
      "|-----> [Models alignment based on morpho, mode: SN-S.] finished [1.3901s]\n"
     ]
    },
    {
     "name": "stderr",
     "output_type": "stream",
     "text": [
      " 84%|████████████████████████████████████████████████████████████████████████████████████████████████████████████▉                    | 49/58 [11:26<02:05, 13.99s/it]"
     ]
    },
    {
     "name": "stdout",
     "output_type": "stream",
     "text": [
      "|-----> [Models alignment based on morpho, mode: SN-S.] in progress: 100.0000%|-----> Filtered all samples for common genes. There are 550 common genes.\n",
      "|-----> Coordinates normalization params:\n",
      "|-----------> Scale: 1.909864068031311.\n",
      "|-----> Performing coarse rigid alignment...\n",
      "|-----> Coarse rigid alignment done.\n",
      "|-----> [Start morpho alignment] in progress: 100.0000%\n",
      "|-----> [Start morpho alignment] finished [3.4194s]\n",
      "|-----> Key Parameters: gamma: 0.9884198904037476; beta2: 0.5505871176719666; sigma2: 0.017469177022576332\n",
      "|-----> [Models alignment based on morpho, mode: SN-S.] in progress: 100.0000%\n",
      "|-----> [Models alignment based on morpho, mode: SN-S.] finished [1.3920s]\n"
     ]
    },
    {
     "name": "stderr",
     "output_type": "stream",
     "text": [
      " 86%|███████████████████████████████████████████████████████████████████████████████████████████████████████████████▏                 | 50/58 [11:39<01:51, 13.93s/it]"
     ]
    },
    {
     "name": "stdout",
     "output_type": "stream",
     "text": [
      "|-----> [Models alignment based on morpho, mode: SN-S.] in progress: 100.0000%|-----> Filtered all samples for common genes. There are 550 common genes.\n",
      "|-----> Coordinates normalization params:\n",
      "|-----------> Scale: 1.8189575672149658.\n",
      "|-----> Performing coarse rigid alignment...\n",
      "|-----> Coarse rigid alignment done.\n",
      "|-----> [Start morpho alignment] in progress: 100.0000%\n",
      "|-----> [Start morpho alignment] finished [3.4112s]\n",
      "|-----> Key Parameters: gamma: 0.9763451814651489; beta2: 0.3791669011116028; sigma2: 0.0023750802502036095\n",
      "|-----> [Models alignment based on morpho, mode: SN-S.] in progress: 100.0000%\n",
      "|-----> [Models alignment based on morpho, mode: SN-S.] finished [1.3908s]\n"
     ]
    },
    {
     "name": "stderr",
     "output_type": "stream",
     "text": [
      " 88%|█████████████████████████████████████████████████████████████████████████████████████████████████████████████████▍               | 51/58 [11:53<01:36, 13.80s/it]"
     ]
    },
    {
     "name": "stdout",
     "output_type": "stream",
     "text": [
      "|-----> [Models alignment based on morpho, mode: SN-S.] in progress: 100.0000%|-----> Filtered all samples for common genes. There are 550 common genes.\n",
      "|-----> Coordinates normalization params:\n",
      "|-----------> Scale: 1.7852122783660889.\n",
      "|-----> Performing coarse rigid alignment...\n",
      "|-----> Coarse rigid alignment done.\n",
      "|-----> [Start morpho alignment] in progress: 100.0000%\n",
      "|-----> [Start morpho alignment] finished [3.4047s]\n",
      "|-----> Key Parameters: gamma: 0.9628804326057434; beta2: 0.3884235918521881; sigma2: 0.014515622518956661\n",
      "|-----> [Models alignment based on morpho, mode: SN-S.] in progress: 100.0000%\n",
      "|-----> [Models alignment based on morpho, mode: SN-S.] finished [1.4011s]\n"
     ]
    },
    {
     "name": "stderr",
     "output_type": "stream",
     "text": [
      " 90%|███████████████████████████████████████████████████████████████████████████████████████████████████████████████████▋             | 52/58 [12:07<01:22, 13.78s/it]"
     ]
    },
    {
     "name": "stdout",
     "output_type": "stream",
     "text": [
      "|-----> [Models alignment based on morpho, mode: SN-S.] in progress: 100.0000%|-----> Filtered all samples for common genes. There are 550 common genes.\n",
      "|-----> Coordinates normalization params:\n",
      "|-----------> Scale: 1.685998797416687.\n",
      "|-----> Performing coarse rigid alignment...\n",
      "|-----> Coarse rigid alignment done.\n",
      "|-----> [Start morpho alignment] in progress: 100.0000%\n",
      "|-----> [Start morpho alignment] finished [3.4540s]\n",
      "|-----> Key Parameters: gamma: 0.9389163851737976; beta2: 0.5540780425071716; sigma2: 0.009516994468867779\n",
      "|-----> [Models alignment based on morpho, mode: SN-S.] in progress: 100.0000%\n",
      "|-----> [Models alignment based on morpho, mode: SN-S.] finished [1.4068s]\n"
     ]
    },
    {
     "name": "stderr",
     "output_type": "stream",
     "text": [
      " 91%|█████████████████████████████████████████████████████████████████████████████████████████████████████████████████████▉           | 53/58 [12:21<01:08, 13.79s/it]"
     ]
    },
    {
     "name": "stdout",
     "output_type": "stream",
     "text": [
      "|-----> [Models alignment based on morpho, mode: SN-S.] in progress: 100.0000%|-----> Filtered all samples for common genes. There are 550 common genes.\n",
      "|-----> Coordinates normalization params:\n",
      "|-----------> Scale: 1.4311702251434326.\n",
      "|-----> Performing coarse rigid alignment...\n",
      "|-----> Coarse rigid alignment done.\n",
      "|-----> [Start morpho alignment] in progress: 100.0000%\n",
      "|-----> [Start morpho alignment] finished [3.6201s]\n",
      "|-----> Key Parameters: gamma: 0.8472341895103455; beta2: 0.5076701641082764; sigma2: 0.1624630093574524\n",
      "|-----> [Models alignment based on morpho, mode: SN-S.] in progress: 100.0000%\n",
      "|-----> [Models alignment based on morpho, mode: SN-S.] finished [1.4055s]\n"
     ]
    },
    {
     "name": "stderr",
     "output_type": "stream",
     "text": [
      " 93%|████████████████████████████████████████████████████████████████████████████████████████████████████████████████████████         | 54/58 [12:35<00:55, 13.88s/it]"
     ]
    },
    {
     "name": "stdout",
     "output_type": "stream",
     "text": [
      "|-----> [Models alignment based on morpho, mode: SN-S.] in progress: 100.0000%|-----> Filtered all samples for common genes. There are 550 common genes.\n",
      "|-----> Coordinates normalization params:\n",
      "|-----------> Scale: 1.2478770017623901.\n",
      "|-----> Performing coarse rigid alignment...\n",
      "|-----> Coarse rigid alignment done.\n",
      "|-----> [Start morpho alignment] in progress: 100.0000%\n",
      "|-----> [Start morpho alignment] finished [3.4750s]\n",
      "|-----> Key Parameters: gamma: 0.9626237750053406; beta2: 0.37149301171302795; sigma2: 0.0040739551186561584\n",
      "|-----> [Models alignment based on morpho, mode: SN-S.] in progress: 100.0000%\n",
      "|-----> [Models alignment based on morpho, mode: SN-S.] finished [1.3993s]\n"
     ]
    },
    {
     "name": "stderr",
     "output_type": "stream",
     "text": [
      " 95%|██████████████████████████████████████████████████████████████████████████████████████████████████████████████████████████▎      | 55/58 [12:48<00:41, 13.86s/it]"
     ]
    },
    {
     "name": "stdout",
     "output_type": "stream",
     "text": [
      "|-----> [Models alignment based on morpho, mode: SN-S.] in progress: 100.0000%|-----> Filtered all samples for common genes. There are 550 common genes.\n",
      "|-----> Coordinates normalization params:\n",
      "|-----------> Scale: 1.219853162765503.\n",
      "|-----> Performing coarse rigid alignment...\n",
      "|-----> Coarse rigid alignment done.\n",
      "|-----> [Start morpho alignment] in progress: 100.0000%\n",
      "|-----> [Start morpho alignment] finished [3.4148s]\n",
      "|-----> Key Parameters: gamma: 0.9764028787612915; beta2: 0.4198073446750641; sigma2: 0.010468389838933945\n",
      "|-----> [Models alignment based on morpho, mode: SN-S.] in progress: 100.0000%\n",
      "|-----> [Models alignment based on morpho, mode: SN-S.] finished [1.4032s]\n"
     ]
    },
    {
     "name": "stderr",
     "output_type": "stream",
     "text": [
      " 97%|████████████████████████████████████████████████████████████████████████████████████████████████████████████████████████████▌    | 56/58 [13:02<00:27, 13.84s/it]"
     ]
    },
    {
     "name": "stdout",
     "output_type": "stream",
     "text": [
      "|-----> [Models alignment based on morpho, mode: SN-S.] in progress: 100.0000%|-----> Filtered all samples for common genes. There are 550 common genes.\n",
      "|-----> Coordinates normalization params:\n",
      "|-----------> Scale: 1.1519076824188232.\n",
      "|-----> Performing coarse rigid alignment...\n",
      "|-----> Coarse rigid alignment done.\n",
      "|-----> [Start morpho alignment] in progress: 100.0000%\n",
      "|-----> [Start morpho alignment] finished [3.3820s]\n",
      "|-----> Key Parameters: gamma: 0.9836888313293457; beta2: 0.4106754958629608; sigma2: 0.0436728373169899\n",
      "|-----> [Models alignment based on morpho, mode: SN-S.] in progress: 100.0000%\n",
      "|-----> [Models alignment based on morpho, mode: SN-S.] finished [1.6764s]\n"
     ]
    },
    {
     "name": "stderr",
     "output_type": "stream",
     "text": [
      " 98%|██████████████████████████████████████████████████████████████████████████████████████████████████████████████████████████████▊  | 57/58 [13:17<00:14, 14.05s/it]"
     ]
    },
    {
     "name": "stdout",
     "output_type": "stream",
     "text": [
      "|-----> [Models alignment based on morpho, mode: SN-S.] in progress: 100.0000%|-----> Filtered all samples for common genes. There are 550 common genes.\n",
      "|-----> Coordinates normalization params:\n",
      "|-----------> Scale: 1.0157456398010254.\n",
      "|-----> Performing coarse rigid alignment...\n",
      "|-----> Coarse rigid alignment done.\n",
      "|-----> [Start morpho alignment] in progress: 100.0000%\n",
      "|-----> [Start morpho alignment] finished [2.7847s]\n",
      "|-----> Key Parameters: gamma: 0.9359550476074219; beta2: 0.43212494254112244; sigma2: 0.03879053518176079\n",
      "|-----> [Models alignment based on morpho, mode: SN-S.] in progress: 100.0000%\n",
      "|-----> [Models alignment based on morpho, mode: SN-S.] finished [0.9716s]\n"
     ]
    },
    {
     "name": "stderr",
     "output_type": "stream",
     "text": [
      "100%|█████████████████████████████████████████████████████████████████████████████████████████████████████████████████████████████████| 58/58 [13:26<00:00, 13.91s/it]\n"
     ]
    }
   ],
   "source": [
    "## Perform the Spateo alignment\n",
    "sampling_num = 20000\n",
    "for i in tqdm(range(len(slices)-1)):\n",
    "    slice1, slice2 = slices[i].copy(), slices[i+1].copy()\n",
    "    sampline_idx1 = np.random.choice(slice1.shape[0], sampling_num, replace=False) if slice1.shape[0] > sampling_num else np.arange(slice1.shape[0])\n",
    "    sampline_idx2 = np.random.choice(slice2.shape[0], sampling_num, replace=False) if slice2.shape[0] > sampling_num else np.arange(slice2.shape[0])\n",
    "    slice1 = slice1[sampline_idx1,:]\n",
    "    slice2 = slice2[sampline_idx2,:]\n",
    "    time_start = time.time()\n",
    "    align_slices, pis, _  = st.align.morpho_align(\n",
    "        models=[slice1, slice2],\n",
    "        spatial_key=spatial_key,\n",
    "        key_added=key_added,\n",
    "        device=\"0\",\n",
    "        mode=\"SN-S\",\n",
    "        max_iter=200,\n",
    "        verbose=True,\n",
    "        partial_robust_level=20,\n",
    "        beta=1e-5,\n",
    "        lambdaVF=1e5,\n",
    "        iter_key_added=None,\n",
    "    )\n",
    "    time_end = time.time()\n",
    "    matches = [np.arange(pis[0].shape[0]), np.argmax(pis[0], axis=1)]\n",
    "    R, t=solve_RT_by_correspondence(align_slices[1].obsm[key_added], align_slices[1].obsm[spatial_key])\n",
    "    alignment_results = {'sampling_idx1': sampline_idx1, 'sampline_idx2': sampline_idx2, 'R': R, 't': t, 'matches': matches, 'time': time_end - time_start}\n",
    "    np.save(os.path.join(results_folder, f\"slice_{i}_{i+1}_sampling_{sampling_num}.npy\"), alignment_results, allow_pickle=True)"
   ]
  },
  {
   "cell_type": "code",
   "execution_count": null,
   "id": "ab0e97a4-3443-4be3-a253-9957d268123b",
   "metadata": {},
   "outputs": [],
   "source": []
  }
 ],
 "metadata": {
  "kernelspec": {
   "display_name": "Spateo",
   "language": "python",
   "name": "spateo"
  },
  "language_info": {
   "codemirror_mode": {
    "name": "ipython",
    "version": 3
   },
   "file_extension": ".py",
   "mimetype": "text/x-python",
   "name": "python",
   "nbconvert_exporter": "python",
   "pygments_lexer": "ipython3",
   "version": "3.9.19"
  }
 },
 "nbformat": 4,
 "nbformat_minor": 5
}
