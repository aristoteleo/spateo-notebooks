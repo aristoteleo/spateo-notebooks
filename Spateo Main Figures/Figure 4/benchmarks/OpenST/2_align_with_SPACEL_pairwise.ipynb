{
 "cells": [
  {
   "cell_type": "code",
   "execution_count": 1,
   "id": "0908cd60-618c-42e7-9854-9713751acdda",
   "metadata": {},
   "outputs": [
    {
     "name": "stderr",
     "output_type": "stream",
     "text": [
      "/home/ylu/anaconda3/envs/SPACEL/lib/python3.8/site-packages/tqdm/auto.py:21: TqdmWarning: IProgress not found. Please update jupyter and ipywidgets. See https://ipywidgets.readthedocs.io/en/stable/user_install.html\n",
      "  from .autonotebook import tqdm as notebook_tqdm\n"
     ]
    }
   ],
   "source": [
    "import os\n",
    "os.environ['CUDA_VISIBLE_DEVICES'] = '0'\n",
    "import sys\n",
    "from pathlib import Path\n",
    "import anndata as ad\n",
    "import scanpy as sc\n",
    "import numpy as np\n",
    "import warnings\n",
    "warnings.simplefilter(action='ignore', category=FutureWarning)\n",
    "import seaborn as sns\n",
    "from matplotlib import pyplot as plt\n",
    "\n",
    "sys.path.insert(0, \"/home/ylu/project\")\n",
    "from utils import *\n",
    "import time\n",
    "\n",
    "%load_ext autoreload\n",
    "%autoreload 2"
   ]
  },
  {
   "cell_type": "code",
   "execution_count": 8,
   "id": "9c0bd1e5-8dcd-407d-990d-d571022a59f4",
   "metadata": {},
   "outputs": [],
   "source": [
    "import SPACEL\n",
    "from SPACEL import Scube, Splane"
   ]
  },
  {
   "cell_type": "code",
   "execution_count": 2,
   "id": "e7b47bc4-0453-474d-a39f-aa14ed636caa",
   "metadata": {},
   "outputs": [],
   "source": [
    "method = \"SPACEL\"\n",
    "data_folder = \"/home/ylu/project/MOSTA/data/\"\n",
    "results_folder = f\"./results/{method}/\"\n",
    "cache_folder = os.path.join(results_folder, 'Scube_outputs')\n",
    "figures_folder = f\"./results/figures/{method}\"\n",
    "Path(results_folder).mkdir(parents=True, exist_ok=True)\n",
    "Path(cache_folder).mkdir(parents=True, exist_ok=True)"
   ]
  },
  {
   "cell_type": "code",
   "execution_count": 3,
   "id": "dea7abee-5509-4d87-8b86-19fb460fcb84",
   "metadata": {},
   "outputs": [
    {
     "name": "stderr",
     "output_type": "stream",
     "text": [
      "100%|████████████████████████████| 13/13 [00:44<00:00,  3.45s/it]\n"
     ]
    }
   ],
   "source": [
    "## load the data\n",
    "from tqdm import tqdm\n",
    "slices = []\n",
    "for i in tqdm(range(1, 14)):\n",
    "    slices.append(ad.read_h5ad(os.path.join(data_folder, f\"E16.5_E2S{i}.MOSTA.h5ad\")))"
   ]
  },
  {
   "cell_type": "code",
   "execution_count": 4,
   "id": "24840e17-a7da-4938-8e80-c4d7993303be",
   "metadata": {},
   "outputs": [],
   "source": [
    "spatial_key = \"spatial\""
   ]
  },
  {
   "cell_type": "code",
   "execution_count": 5,
   "id": "1bf95a00-6497-41f2-959f-fd6b207731c0",
   "metadata": {},
   "outputs": [],
   "source": [
    "## Rotate the data\n",
    "rotate_key = \"spatial_rot\"\n",
    "rotations = np.load(\"./results/random_rotations.npy\", allow_pickle=True)\n",
    "for i in range(len(slices)):\n",
    "    slices[i].obsm[rotate_key] = slices[i].obsm[spatial_key][:,:2].copy()\n",
    "    mean = np.mean(slices[i].obsm[rotate_key], axis=0)\n",
    "    slices[i].obsm[rotate_key] = slices[i].obsm[rotate_key] - mean\n",
    "    slices[i].obsm[rotate_key] = slices[i].obsm[rotate_key] @ rotations[i].T + mean\n",
    "    "
   ]
  },
  {
   "cell_type": "code",
   "execution_count": 10,
   "id": "3e3a25fd-c7b7-4bcf-bd2f-214badbcbbaa",
   "metadata": {},
   "outputs": [],
   "source": [
    "spatial_key = \"spatial_rot\"\n",
    "key_added = \"aligned_spatial\"\n",
    "anno_key = \"annotation\""
   ]
  },
  {
   "cell_type": "code",
   "execution_count": null,
   "id": "4d4bce49-e6f9-40da-8186-ac93595f278b",
   "metadata": {},
   "outputs": [],
   "source": [
    "## Perform the SPACEL with provided annotation alignment\n",
    "sampling_num = 20000\n",
    "for i in tqdm(range(len(slices)-1)):\n",
    "    slice1, slice2 = slices[i].copy(), slices[i+1].copy()\n",
    "    sampline_idx1 = np.random.choice(slice1.shape[0], sampling_num, replace=False) if slice1.shape[0] > sampling_num else np.arange(slice1.shape[0])\n",
    "    sampline_idx2 = np.random.choice(slice2.shape[0], sampling_num, replace=False) if slice2.shape[0] > sampling_num else np.arange(slice2.shape[0])\n",
    "    slice1 = slice1[sampline_idx1,:]\n",
    "    slice2 = slice2[sampline_idx2,:]\n",
    "    slice1.obsm['spatial_2D'] = slice1.obsm[spatial_key]\n",
    "    slice2.obsm['spatial_2D'] = slice2.obsm[spatial_key]\n",
    "    slice1.obsm['spatial'] = slice1.obsm[spatial_key]\n",
    "    slice2.obsm['spatial'] = slice2.obsm[spatial_key]\n",
    "    align_slices = [slice1, slice2]\n",
    "    time_start = time.time()\n",
    "    Scube.align(\n",
    "        align_slices,\n",
    "        cluster_key=anno_key, \n",
    "        n_neighbors = 15, \n",
    "        n_threads=10,\n",
    "        p=2,\n",
    "        write_loc_path=os.path.join(results_folder, 'Scube_outputs/aligned_coordinates.csv')\n",
    "    )\n",
    "    align_slices[0].obsm[key_added] = align_slices[0].obsm['spatial_aligned'].values\n",
    "    align_slices[1].obsm[key_added] = align_slices[1].obsm['spatial_aligned'].values\n",
    "    time_end = time.time()\n",
    "    \n",
    "    R1, t1=solve_RT_by_correspondence(align_slices[1].obsm[key_added], align_slices[1].obsm[spatial_key])\n",
    "    R2, t2=solve_RT_by_correspondence(align_slices[0].obsm[spatial_key], align_slices[0].obsm[key_added])\n",
    "    t = t1 @ R2.T + t2\n",
    "    R = R2 @ R1\n",
    "\n",
    "    matches = [np.arange(align_slices[0].shape[0]), np.argmin(Distance, axis = 1)]\n",
    "    \n",
    "    alignment_results = {'sampling_idx1': sampline_idx1, 'sampline_idx2': sampline_idx2, 'R': R, 't': t, 'matches': matches, 'time': time_end - time_start}\n",
    "    np.save(os.path.join(results_folder, f\"slice_{i}_{i+1}_sampling_{sampling_num}.npy\"), alignment_results, allow_pickle=True)"
   ]
  },
  {
   "cell_type": "code",
   "execution_count": 18,
   "id": "ab0e97a4-3443-4be3-a253-9957d268123b",
   "metadata": {},
   "outputs": [],
   "source": [
    "import scipy\n",
    "Distance = scipy.spatial.distance.cdist(align_slices[0].obsm[key_added], align_slices[1].obsm[key_added], metric='euclidean')"
   ]
  },
  {
   "cell_type": "code",
   "execution_count": 20,
   "id": "14a2595e-2d0b-4dfe-b640-abac226cc992",
   "metadata": {},
   "outputs": [
    {
     "data": {
      "text/plain": [
       "array([ 2563, 10567,   660, ..., 14692, 16716, 15667])"
      ]
     },
     "execution_count": 20,
     "metadata": {},
     "output_type": "execute_result"
    }
   ],
   "source": [
    "np.argmin(Distance, axis = 1)"
   ]
  },
  {
   "cell_type": "code",
   "execution_count": null,
   "id": "83b01ae2-892b-415d-903d-cf28d9cc13ae",
   "metadata": {},
   "outputs": [],
   "source": []
  }
 ],
 "metadata": {
  "kernelspec": {
   "display_name": "SPACEL",
   "language": "python",
   "name": "spacel"
  },
  "language_info": {
   "codemirror_mode": {
    "name": "ipython",
    "version": 3
   },
   "file_extension": ".py",
   "mimetype": "text/x-python",
   "name": "python",
   "nbconvert_exporter": "python",
   "pygments_lexer": "ipython3",
   "version": "3.8.19"
  }
 },
 "nbformat": 4,
 "nbformat_minor": 5
}
