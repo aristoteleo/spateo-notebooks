{
 "cells": [
  {
   "cell_type": "code",
   "execution_count": 1,
   "id": "0908cd60-618c-42e7-9854-9713751acdda",
   "metadata": {
    "execution": {
     "iopub.execute_input": "2024-07-10T23:01:57.833872Z",
     "iopub.status.busy": "2024-07-10T23:01:57.833476Z",
     "iopub.status.idle": "2024-07-10T23:02:09.753889Z",
     "shell.execute_reply": "2024-07-10T23:02:09.753289Z",
     "shell.execute_reply.started": "2024-07-10T23:01:57.833835Z"
    }
   },
   "outputs": [
    {
     "name": "stderr",
     "output_type": "stream",
     "text": [
      "2024-07-10 23:02:01.410382: I tensorflow/core/platform/cpu_feature_guard.cc:193] This TensorFlow binary is optimized with oneAPI Deep Neural Network Library (oneDNN) to use the following CPU instructions in performance-critical operations:  AVX2 AVX512F FMA\n",
      "To enable them in other operations, rebuild TensorFlow with the appropriate compiler flags.\n",
      "2024-07-10 23:02:01.568713: W tensorflow/compiler/xla/stream_executor/platform/default/dso_loader.cc:64] Could not load dynamic library 'libcudart.so.11.0'; dlerror: libcudart.so.11.0: cannot open shared object file: No such file or directory; LD_LIBRARY_PATH: /usr/local/cuda-12.3/lib64\n",
      "2024-07-10 23:02:01.568739: I tensorflow/compiler/xla/stream_executor/cuda/cudart_stub.cc:29] Ignore above cudart dlerror if you do not have a GPU set up on your machine.\n",
      "2024-07-10 23:02:02.258095: W tensorflow/compiler/xla/stream_executor/platform/default/dso_loader.cc:64] Could not load dynamic library 'libnvinfer.so.7'; dlerror: libnvinfer.so.7: cannot open shared object file: No such file or directory; LD_LIBRARY_PATH: /usr/local/cuda-12.3/lib64\n",
      "2024-07-10 23:02:02.258185: W tensorflow/compiler/xla/stream_executor/platform/default/dso_loader.cc:64] Could not load dynamic library 'libnvinfer_plugin.so.7'; dlerror: libnvinfer_plugin.so.7: cannot open shared object file: No such file or directory; LD_LIBRARY_PATH: /usr/local/cuda-12.3/lib64\n",
      "2024-07-10 23:02:02.258193: W tensorflow/compiler/tf2tensorrt/utils/py_utils.cc:38] TF-TRT Warning: Cannot dlopen some TensorRT libraries. If you would like to use Nvidia GPU with TensorRT, please make sure the missing libraries mentioned above are installed properly.\n",
      "_XSERVTransSocketUNIXCreateListener: ...SocketCreateListener() failed\n",
      "_XSERVTransMakeAllCOTSServerListeners: server already running\n",
      "(EE) \n",
      "Fatal server error:\n",
      "(EE) Cannot establish any listening sockets - Make sure an X server isn't already running(EE) \n"
     ]
    }
   ],
   "source": [
    "import os\n",
    "os.environ['CUDA_VISIBLE_DEVICES'] = '1'\n",
    "import sys\n",
    "from pathlib import Path\n",
    "import anndata as ad\n",
    "import scanpy as sc\n",
    "import numpy as np\n",
    "import warnings\n",
    "warnings.simplefilter(action='ignore', category=FutureWarning)\n",
    "import seaborn as sns\n",
    "from matplotlib import pyplot as plt\n",
    "sys.path.insert(0, \"/home/ylu/project/spateo-release\")\n",
    "import spateo as st\n",
    "from spateo.alignment.methods.morpho_class import *\n",
    "sys.path.insert(0, \"/home/ylu/project\")\n",
    "from utils import *\n",
    "import time\n",
    "\n",
    "os.system('/usr/bin/Xvfb :99 -screen 0 1024x768x24 &')\n",
    "os.environ['DISPLAY'] = ':99'\n",
    "\n",
    "%load_ext autoreload\n",
    "%autoreload 2"
   ]
  },
  {
   "cell_type": "code",
   "execution_count": 2,
   "id": "e7b47bc4-0453-474d-a39f-aa14ed636caa",
   "metadata": {
    "execution": {
     "iopub.execute_input": "2024-07-10T23:02:09.755712Z",
     "iopub.status.busy": "2024-07-10T23:02:09.754986Z",
     "iopub.status.idle": "2024-07-10T23:02:09.814940Z",
     "shell.execute_reply": "2024-07-10T23:02:09.814369Z",
     "shell.execute_reply.started": "2024-07-10T23:02:09.755688Z"
    }
   },
   "outputs": [],
   "source": [
    "data_folder = \"/home/ylu/project/MOSTA/data/\"\n",
    "results_folder = \"./results/Spateo/\"\n",
    "figures_folder = \"./results/figures/Spateo\"\n",
    "Path(results_folder).mkdir(parents=True, exist_ok=True)"
   ]
  },
  {
   "cell_type": "code",
   "execution_count": 3,
   "id": "dea7abee-5509-4d87-8b86-19fb460fcb84",
   "metadata": {
    "execution": {
     "iopub.execute_input": "2024-07-10T23:02:09.815836Z",
     "iopub.status.busy": "2024-07-10T23:02:09.815644Z",
     "iopub.status.idle": "2024-07-10T23:03:11.026333Z",
     "shell.execute_reply": "2024-07-10T23:03:11.025597Z",
     "shell.execute_reply.started": "2024-07-10T23:02:09.815817Z"
    }
   },
   "outputs": [
    {
     "name": "stderr",
     "output_type": "stream",
     "text": [
      "100%|█| 13/13 [01:01<00:00,  4.70s\n"
     ]
    }
   ],
   "source": [
    "## load the data\n",
    "from tqdm import tqdm\n",
    "slices = []\n",
    "for i in tqdm(range(1, 14)):\n",
    "    slices.append(ad.read_h5ad(os.path.join(data_folder, f\"E16.5_E2S{i}.MOSTA.h5ad\")))"
   ]
  },
  {
   "cell_type": "code",
   "execution_count": 4,
   "id": "24840e17-a7da-4938-8e80-c4d7993303be",
   "metadata": {
    "execution": {
     "iopub.execute_input": "2024-07-10T23:03:11.028163Z",
     "iopub.status.busy": "2024-07-10T23:03:11.027863Z",
     "iopub.status.idle": "2024-07-10T23:03:11.112301Z",
     "shell.execute_reply": "2024-07-10T23:03:11.111800Z",
     "shell.execute_reply.started": "2024-07-10T23:03:11.028143Z"
    }
   },
   "outputs": [],
   "source": [
    "spatial_key = \"spatial\""
   ]
  },
  {
   "cell_type": "code",
   "execution_count": 5,
   "id": "1bf95a00-6497-41f2-959f-fd6b207731c0",
   "metadata": {
    "execution": {
     "iopub.execute_input": "2024-07-10T23:03:11.113376Z",
     "iopub.status.busy": "2024-07-10T23:03:11.113003Z",
     "iopub.status.idle": "2024-07-10T23:03:11.257658Z",
     "shell.execute_reply": "2024-07-10T23:03:11.257047Z",
     "shell.execute_reply.started": "2024-07-10T23:03:11.113356Z"
    }
   },
   "outputs": [],
   "source": [
    "## Rotate the data\n",
    "rotate_key = \"spatial_rot\"\n",
    "rotations = np.load(\"./results/random_rotations.npy\", allow_pickle=True)\n",
    "for i in range(len(slices)):\n",
    "    slices[i].obsm[rotate_key] = slices[i].obsm[spatial_key][:,:2].copy()\n",
    "    mean = np.mean(slices[i].obsm[rotate_key], axis=0)\n",
    "    slices[i].obsm[rotate_key] = slices[i].obsm[rotate_key] - mean\n",
    "    slices[i].obsm[rotate_key] = slices[i].obsm[rotate_key] @ rotations[i].T + mean\n",
    "    "
   ]
  },
  {
   "cell_type": "code",
   "execution_count": 6,
   "id": "3e3a25fd-c7b7-4bcf-bd2f-214badbcbbaa",
   "metadata": {
    "execution": {
     "iopub.execute_input": "2024-07-10T23:03:11.258970Z",
     "iopub.status.busy": "2024-07-10T23:03:11.258575Z",
     "iopub.status.idle": "2024-07-10T23:03:11.318952Z",
     "shell.execute_reply": "2024-07-10T23:03:11.318403Z",
     "shell.execute_reply.started": "2024-07-10T23:03:11.258946Z"
    }
   },
   "outputs": [],
   "source": [
    "spatial_key = \"spatial_rot\"\n",
    "key_added = \"aligned_spatial\""
   ]
  },
  {
   "cell_type": "code",
   "execution_count": 7,
   "id": "f8ca2cf4-c9bc-44ec-ae53-ebd2d409f83d",
   "metadata": {
    "execution": {
     "iopub.execute_input": "2024-07-10T23:03:24.837295Z",
     "iopub.status.busy": "2024-07-10T23:03:24.836734Z",
     "iopub.status.idle": "2024-07-10T23:13:25.350324Z",
     "shell.execute_reply": "2024-07-10T23:13:25.349545Z",
     "shell.execute_reply.started": "2024-07-10T23:03:24.837269Z"
    }
   },
   "outputs": [
    {
     "name": "stderr",
     "output_type": "stream",
     "text": [
      "  0%|      | 0/12 [00:00<?, ?it/s]/home/ylu/anaconda3/envs/Spateo/lib/python3.9/site-packages/anndata/_core/merge.py:1291: PerformanceWarning:\n",
      "\n",
      "DataFrame is highly fragmented.  This is usually the result of calling `frame.insert` many times, which has poor performance.  Consider joining all columns at once using pd.concat(axis=1) instead. To get a de-fragmented frame, use `newframe = frame.copy()`\n",
      "\n",
      "/home/ylu/anaconda3/envs/Spateo/lib/python3.9/site-packages/anndata/_core/anndata.py:1818: UserWarning:\n",
      "\n",
      "Observation names are not unique. To make them unique, call `.obs_names_make_unique`.\n",
      "\n",
      "/tmp/ipykernel_810160/627414376.py:17: ImplicitModificationWarning:\n",
      "\n",
      "Setting element `.obsm['X_pca']` of view, initializing view as actual.\n",
      "\n",
      "/tmp/ipykernel_810160/627414376.py:18: ImplicitModificationWarning:\n",
      "\n",
      "Setting element `.obsm['X_pca']` of view, initializing view as actual.\n",
      "\n"
     ]
    },
    {
     "name": "stdout",
     "output_type": "stream",
     "text": [
      "|-----> Filtered all samples for common genes. There are 4668 common genes.\n",
      "|-----> Spatial coordinates normalization params:\n",
      "|-----------> Scale: tensor([124.8757, 124.8757])...\n",
      "|-----------> Scale: tensor([[ 152.1436, -222.8499],\n",
      "        [-130.4205,  294.9133]], device='cuda:0')...\n",
      "|-----> Preprocess finished.\n",
      "|-----> Performing coarse rigid alignment...\n",
      "|-----> Coarse rigid alignment done.\n",
      "|-----> [Start Spateo pairwise alignment] in progress: 100.0000%\n",
      "|-----> [Start Spateo pairwise alignment] finished [29.8450s]\n",
      "|-----> Key Parameters: gamma: 0.9880659580230713; sigma2: 0.0015743013937026262; probability_parameters: [tensor(0.0144, device='cuda:0')]\n"
     ]
    },
    {
     "name": "stderr",
     "output_type": "stream",
     "text": [
      "  8%| | 1/12 [00:58<10:47, 58.86s//home/ylu/anaconda3/envs/Spateo/lib/python3.9/site-packages/anndata/_core/merge.py:1291: PerformanceWarning:\n",
      "\n",
      "DataFrame is highly fragmented.  This is usually the result of calling `frame.insert` many times, which has poor performance.  Consider joining all columns at once using pd.concat(axis=1) instead. To get a de-fragmented frame, use `newframe = frame.copy()`\n",
      "\n",
      "/home/ylu/anaconda3/envs/Spateo/lib/python3.9/site-packages/anndata/_core/anndata.py:1818: UserWarning:\n",
      "\n",
      "Observation names are not unique. To make them unique, call `.obs_names_make_unique`.\n",
      "\n",
      "/tmp/ipykernel_810160/627414376.py:17: ImplicitModificationWarning:\n",
      "\n",
      "Setting element `.obsm['X_pca']` of view, initializing view as actual.\n",
      "\n",
      "/tmp/ipykernel_810160/627414376.py:18: ImplicitModificationWarning:\n",
      "\n",
      "Setting element `.obsm['X_pca']` of view, initializing view as actual.\n",
      "\n"
     ]
    },
    {
     "name": "stdout",
     "output_type": "stream",
     "text": [
      "|-----> Filtered all samples for common genes. There are 4649 common genes.\n",
      "|-----> Spatial coordinates normalization params:\n",
      "|-----------> Scale: tensor([134.7789, 134.7789])...\n",
      "|-----------> Scale: tensor([[ 117.2904, -496.9182],\n",
      "        [ 152.0397, -223.2934]], device='cuda:0')...\n",
      "|-----> Preprocess finished.\n",
      "|-----> Performing coarse rigid alignment...\n",
      "|-----> Coarse rigid alignment done.\n",
      "|-----> [Start Spateo pairwise alignment] in progress: 100.0000%\n",
      "|-----> [Start Spateo pairwise alignment] finished [32.1677s]\n",
      "|-----> Key Parameters: gamma: 0.9900000095367432; sigma2: 0.0010000000474974513; probability_parameters: [tensor(0.0181, device='cuda:0')]\n"
     ]
    },
    {
     "name": "stderr",
     "output_type": "stream",
     "text": [
      " 17%|▏| 2/12 [01:58<09:52, 59.27s//home/ylu/anaconda3/envs/Spateo/lib/python3.9/site-packages/anndata/_core/merge.py:1291: PerformanceWarning:\n",
      "\n",
      "DataFrame is highly fragmented.  This is usually the result of calling `frame.insert` many times, which has poor performance.  Consider joining all columns at once using pd.concat(axis=1) instead. To get a de-fragmented frame, use `newframe = frame.copy()`\n",
      "\n",
      "/home/ylu/anaconda3/envs/Spateo/lib/python3.9/site-packages/anndata/_core/anndata.py:1818: UserWarning:\n",
      "\n",
      "Observation names are not unique. To make them unique, call `.obs_names_make_unique`.\n",
      "\n",
      "/tmp/ipykernel_810160/627414376.py:17: ImplicitModificationWarning:\n",
      "\n",
      "Setting element `.obsm['X_pca']` of view, initializing view as actual.\n",
      "\n",
      "/tmp/ipykernel_810160/627414376.py:18: ImplicitModificationWarning:\n",
      "\n",
      "Setting element `.obsm['X_pca']` of view, initializing view as actual.\n",
      "\n"
     ]
    },
    {
     "name": "stdout",
     "output_type": "stream",
     "text": [
      "|-----> Filtered all samples for common genes. There are 4741 common genes.\n",
      "|-----> Spatial coordinates normalization params:\n",
      "|-----------> Scale: tensor([141.8038, 141.8038])...\n",
      "|-----------> Scale: tensor([[-145.1029,  383.7460],\n",
      "        [ 118.1606, -496.9200]], device='cuda:0')...\n",
      "|-----> Preprocess finished.\n",
      "|-----> Performing coarse rigid alignment...\n",
      "|-----> Coarse rigid alignment done.\n",
      "|-----> [Start Spateo pairwise alignment] in progress: 100.0000%\n",
      "|-----> [Start Spateo pairwise alignment] finished [32.2243s]\n",
      "|-----> Key Parameters: gamma: 0.9900000095367432; sigma2: 0.00850753579288721; probability_parameters: [tensor(0.0086, device='cuda:0')]\n"
     ]
    },
    {
     "name": "stderr",
     "output_type": "stream",
     "text": [
      " 25%|▎| 3/12 [02:57<08:52, 59.12s//home/ylu/anaconda3/envs/Spateo/lib/python3.9/site-packages/anndata/_core/merge.py:1291: PerformanceWarning:\n",
      "\n",
      "DataFrame is highly fragmented.  This is usually the result of calling `frame.insert` many times, which has poor performance.  Consider joining all columns at once using pd.concat(axis=1) instead. To get a de-fragmented frame, use `newframe = frame.copy()`\n",
      "\n",
      "/home/ylu/anaconda3/envs/Spateo/lib/python3.9/site-packages/anndata/_core/anndata.py:1818: UserWarning:\n",
      "\n",
      "Observation names are not unique. To make them unique, call `.obs_names_make_unique`.\n",
      "\n",
      "/tmp/ipykernel_810160/627414376.py:17: ImplicitModificationWarning:\n",
      "\n",
      "Setting element `.obsm['X_pca']` of view, initializing view as actual.\n",
      "\n",
      "/tmp/ipykernel_810160/627414376.py:18: ImplicitModificationWarning:\n",
      "\n",
      "Setting element `.obsm['X_pca']` of view, initializing view as actual.\n",
      "\n"
     ]
    },
    {
     "name": "stdout",
     "output_type": "stream",
     "text": [
      "|-----> Filtered all samples for common genes. There are 4395 common genes.\n",
      "|-----> Spatial coordinates normalization params:\n",
      "|-----------> Scale: tensor([154.7422, 154.7422])...\n",
      "|-----------> Scale: tensor([[-221.5541,  420.2671],\n",
      "        [-146.1692,  383.0143]], device='cuda:0')...\n",
      "|-----> Preprocess finished.\n",
      "|-----> Performing coarse rigid alignment...\n",
      "|-----> Coarse rigid alignment done.\n",
      "|-----> [Start Spateo pairwise alignment] in progress: 100.0000%\n",
      "|-----> [Start Spateo pairwise alignment] finished [32.7489s]\n",
      "|-----> Key Parameters: gamma: 0.9863298535346985; sigma2: 0.011088252067565918; probability_parameters: [tensor(0.0124, device='cuda:0')]\n"
     ]
    },
    {
     "name": "stderr",
     "output_type": "stream",
     "text": [
      " 33%|▎| 4/12 [03:57<07:55, 59.40s//home/ylu/anaconda3/envs/Spateo/lib/python3.9/site-packages/anndata/_core/merge.py:1291: PerformanceWarning:\n",
      "\n",
      "DataFrame is highly fragmented.  This is usually the result of calling `frame.insert` many times, which has poor performance.  Consider joining all columns at once using pd.concat(axis=1) instead. To get a de-fragmented frame, use `newframe = frame.copy()`\n",
      "\n",
      "/home/ylu/anaconda3/envs/Spateo/lib/python3.9/site-packages/anndata/_core/anndata.py:1818: UserWarning:\n",
      "\n",
      "Observation names are not unique. To make them unique, call `.obs_names_make_unique`.\n",
      "\n",
      "/tmp/ipykernel_810160/627414376.py:17: ImplicitModificationWarning:\n",
      "\n",
      "Setting element `.obsm['X_pca']` of view, initializing view as actual.\n",
      "\n",
      "/tmp/ipykernel_810160/627414376.py:18: ImplicitModificationWarning:\n",
      "\n",
      "Setting element `.obsm['X_pca']` of view, initializing view as actual.\n",
      "\n"
     ]
    },
    {
     "name": "stdout",
     "output_type": "stream",
     "text": [
      "|-----> Filtered all samples for common genes. There are 4676 common genes.\n",
      "|-----> Spatial coordinates normalization params:\n",
      "|-----------> Scale: tensor([167.1155, 167.1155])...\n",
      "|-----------> Scale: tensor([[-212.3313,  327.1331],\n",
      "        [-219.8718,  421.2610]], device='cuda:0')...\n",
      "|-----> Preprocess finished.\n",
      "|-----> Performing coarse rigid alignment...\n",
      "|-----> Coarse rigid alignment done.\n",
      "|-----> [Start Spateo pairwise alignment] in progress: 100.0000%\n",
      "|-----> [Start Spateo pairwise alignment] finished [19.2286s]\n",
      "|-----> Key Parameters: gamma: 0.9900000095367432; sigma2: 0.0010000000474974513; probability_parameters: [tensor(0.0113, device='cuda:0')]\n"
     ]
    },
    {
     "name": "stderr",
     "output_type": "stream",
     "text": [
      " 42%|▍| 5/12 [04:42<06:20, 54.35s//home/ylu/anaconda3/envs/Spateo/lib/python3.9/site-packages/anndata/_core/merge.py:1291: PerformanceWarning:\n",
      "\n",
      "DataFrame is highly fragmented.  This is usually the result of calling `frame.insert` many times, which has poor performance.  Consider joining all columns at once using pd.concat(axis=1) instead. To get a de-fragmented frame, use `newframe = frame.copy()`\n",
      "\n",
      "/home/ylu/anaconda3/envs/Spateo/lib/python3.9/site-packages/anndata/_core/anndata.py:1818: UserWarning:\n",
      "\n",
      "Observation names are not unique. To make them unique, call `.obs_names_make_unique`.\n",
      "\n",
      "/tmp/ipykernel_810160/627414376.py:17: ImplicitModificationWarning:\n",
      "\n",
      "Setting element `.obsm['X_pca']` of view, initializing view as actual.\n",
      "\n",
      "/tmp/ipykernel_810160/627414376.py:18: ImplicitModificationWarning:\n",
      "\n",
      "Setting element `.obsm['X_pca']` of view, initializing view as actual.\n",
      "\n"
     ]
    },
    {
     "name": "stdout",
     "output_type": "stream",
     "text": [
      "|-----> Filtered all samples for common genes. There are 4630 common genes.\n",
      "|-----> Spatial coordinates normalization params:\n",
      "|-----------> Scale: tensor([169.1725, 169.1725])...\n",
      "|-----------> Scale: tensor([[ 252.6872, -387.6116],\n",
      "        [-214.1428,  325.8786]], device='cuda:0')...\n",
      "|-----> Preprocess finished.\n",
      "|-----> Performing coarse rigid alignment...\n",
      "|-----> Coarse rigid alignment done.\n",
      "|-----> [Start Spateo pairwise alignment] in progress: 100.0000%\n",
      "|-----> [Start Spateo pairwise alignment] finished [19.1804s]\n",
      "|-----> Key Parameters: gamma: 0.9900000095367432; sigma2: 0.0010000000474974513; probability_parameters: [tensor(0.0101, device='cuda:0')]\n"
     ]
    },
    {
     "name": "stderr",
     "output_type": "stream",
     "text": [
      " 50%|▌| 6/12 [05:27<05:07, 51.31s//home/ylu/anaconda3/envs/Spateo/lib/python3.9/site-packages/anndata/_core/merge.py:1291: PerformanceWarning:\n",
      "\n",
      "DataFrame is highly fragmented.  This is usually the result of calling `frame.insert` many times, which has poor performance.  Consider joining all columns at once using pd.concat(axis=1) instead. To get a de-fragmented frame, use `newframe = frame.copy()`\n",
      "\n",
      "/home/ylu/anaconda3/envs/Spateo/lib/python3.9/site-packages/anndata/_core/anndata.py:1818: UserWarning:\n",
      "\n",
      "Observation names are not unique. To make them unique, call `.obs_names_make_unique`.\n",
      "\n",
      "/tmp/ipykernel_810160/627414376.py:17: ImplicitModificationWarning:\n",
      "\n",
      "Setting element `.obsm['X_pca']` of view, initializing view as actual.\n",
      "\n",
      "/tmp/ipykernel_810160/627414376.py:18: ImplicitModificationWarning:\n",
      "\n",
      "Setting element `.obsm['X_pca']` of view, initializing view as actual.\n",
      "\n"
     ]
    },
    {
     "name": "stdout",
     "output_type": "stream",
     "text": [
      "|-----> Filtered all samples for common genes. There are 4653 common genes.\n",
      "|-----> Spatial coordinates normalization params:\n",
      "|-----------> Scale: tensor([165.8625, 165.8625])...\n",
      "|-----------> Scale: tensor([[-281.9352,  279.4893],\n",
      "        [ 253.9025, -385.9785]], device='cuda:0')...\n",
      "|-----> Preprocess finished.\n",
      "|-----> Performing coarse rigid alignment...\n",
      "|-----> Coarse rigid alignment done.\n",
      "|-----> [Start Spateo pairwise alignment] in progress: 100.0000%\n",
      "|-----> [Start Spateo pairwise alignment] finished [19.6388s]\n",
      "|-----> Key Parameters: gamma: 0.9900000095367432; sigma2: 0.029236426576972008; probability_parameters: [tensor(0.0086, device='cuda:0')]\n"
     ]
    },
    {
     "name": "stderr",
     "output_type": "stream",
     "text": [
      " 58%|▌| 7/12 [06:16<04:12, 50.51s//home/ylu/anaconda3/envs/Spateo/lib/python3.9/site-packages/anndata/_core/merge.py:1291: PerformanceWarning:\n",
      "\n",
      "DataFrame is highly fragmented.  This is usually the result of calling `frame.insert` many times, which has poor performance.  Consider joining all columns at once using pd.concat(axis=1) instead. To get a de-fragmented frame, use `newframe = frame.copy()`\n",
      "\n",
      "/home/ylu/anaconda3/envs/Spateo/lib/python3.9/site-packages/anndata/_core/anndata.py:1818: UserWarning:\n",
      "\n",
      "Observation names are not unique. To make them unique, call `.obs_names_make_unique`.\n",
      "\n",
      "/tmp/ipykernel_810160/627414376.py:17: ImplicitModificationWarning:\n",
      "\n",
      "Setting element `.obsm['X_pca']` of view, initializing view as actual.\n",
      "\n",
      "/tmp/ipykernel_810160/627414376.py:18: ImplicitModificationWarning:\n",
      "\n",
      "Setting element `.obsm['X_pca']` of view, initializing view as actual.\n",
      "\n"
     ]
    },
    {
     "name": "stdout",
     "output_type": "stream",
     "text": [
      "|-----> Filtered all samples for common genes. There are 4692 common genes.\n",
      "|-----> Spatial coordinates normalization params:\n",
      "|-----------> Scale: tensor([163.4704, 163.4704])...\n",
      "|-----------> Scale: tensor([[ 303.3236, -484.7857],\n",
      "        [-281.4305,  279.6765]], device='cuda:0')...\n",
      "|-----> Preprocess finished.\n",
      "|-----> Performing coarse rigid alignment...\n",
      "|-----> Coarse rigid alignment done.\n",
      "|-----> [Start Spateo pairwise alignment] in progress: 100.0000%\n",
      "|-----> [Start Spateo pairwise alignment] finished [19.1338s]\n",
      "|-----> Key Parameters: gamma: 0.9900000095367432; sigma2: 0.0010000000474974513; probability_parameters: [tensor(0.0107, device='cuda:0')]\n"
     ]
    },
    {
     "name": "stderr",
     "output_type": "stream",
     "text": [
      " 67%|▋| 8/12 [07:03<03:17, 49.29s//home/ylu/anaconda3/envs/Spateo/lib/python3.9/site-packages/anndata/_core/merge.py:1291: PerformanceWarning:\n",
      "\n",
      "DataFrame is highly fragmented.  This is usually the result of calling `frame.insert` many times, which has poor performance.  Consider joining all columns at once using pd.concat(axis=1) instead. To get a de-fragmented frame, use `newframe = frame.copy()`\n",
      "\n",
      "/home/ylu/anaconda3/envs/Spateo/lib/python3.9/site-packages/anndata/_core/anndata.py:1818: UserWarning:\n",
      "\n",
      "Observation names are not unique. To make them unique, call `.obs_names_make_unique`.\n",
      "\n",
      "/tmp/ipykernel_810160/627414376.py:17: ImplicitModificationWarning:\n",
      "\n",
      "Setting element `.obsm['X_pca']` of view, initializing view as actual.\n",
      "\n",
      "/tmp/ipykernel_810160/627414376.py:18: ImplicitModificationWarning:\n",
      "\n",
      "Setting element `.obsm['X_pca']` of view, initializing view as actual.\n",
      "\n"
     ]
    },
    {
     "name": "stdout",
     "output_type": "stream",
     "text": [
      "|-----> Filtered all samples for common genes. There are 4597 common genes.\n",
      "|-----> Spatial coordinates normalization params:\n",
      "|-----------> Scale: tensor([159.2749, 159.2749])...\n",
      "|-----------> Scale: tensor([[-279.1678,  305.2488],\n",
      "        [ 304.3831, -485.2569]], device='cuda:0')...\n",
      "|-----> Preprocess finished.\n",
      "|-----> Performing coarse rigid alignment...\n",
      "|-----> Coarse rigid alignment done.\n",
      "|-----> [Start Spateo pairwise alignment] in progress: 100.0000%\n",
      "|-----> [Start Spateo pairwise alignment] finished [19.4666s]\n",
      "|-----> Key Parameters: gamma: 0.9900000095367432; sigma2: 0.0051529002375900745; probability_parameters: [tensor(0.0138, device='cuda:0')]\n"
     ]
    },
    {
     "name": "stderr",
     "output_type": "stream",
     "text": [
      " 75%|▊| 9/12 [07:50<02:25, 48.47s//home/ylu/anaconda3/envs/Spateo/lib/python3.9/site-packages/anndata/_core/merge.py:1291: PerformanceWarning:\n",
      "\n",
      "DataFrame is highly fragmented.  This is usually the result of calling `frame.insert` many times, which has poor performance.  Consider joining all columns at once using pd.concat(axis=1) instead. To get a de-fragmented frame, use `newframe = frame.copy()`\n",
      "\n",
      "/home/ylu/anaconda3/envs/Spateo/lib/python3.9/site-packages/anndata/_core/anndata.py:1818: UserWarning:\n",
      "\n",
      "Observation names are not unique. To make them unique, call `.obs_names_make_unique`.\n",
      "\n",
      "/tmp/ipykernel_810160/627414376.py:17: ImplicitModificationWarning:\n",
      "\n",
      "Setting element `.obsm['X_pca']` of view, initializing view as actual.\n",
      "\n",
      "/tmp/ipykernel_810160/627414376.py:18: ImplicitModificationWarning:\n",
      "\n",
      "Setting element `.obsm['X_pca']` of view, initializing view as actual.\n",
      "\n"
     ]
    },
    {
     "name": "stdout",
     "output_type": "stream",
     "text": [
      "|-----> Filtered all samples for common genes. There are 4637 common genes.\n",
      "|-----> Spatial coordinates normalization params:\n",
      "|-----------> Scale: tensor([152.4872, 152.4872])...\n",
      "|-----------> Scale: tensor([[ 379.0856, -472.6874],\n",
      "        [-279.7601,  305.7527]], device='cuda:0')...\n",
      "|-----> Preprocess finished.\n",
      "|-----> Performing coarse rigid alignment...\n",
      "|-----> Coarse rigid alignment done.\n",
      "|-----> [Start Spateo pairwise alignment] in progress: 100.0000%\n",
      "|-----> [Start Spateo pairwise alignment] finished [19.1957s]\n",
      "|-----> Key Parameters: gamma: 0.9900000095367432; sigma2: 0.0011729802936315536; probability_parameters: [tensor(0.0128, device='cuda:0')]\n"
     ]
    },
    {
     "name": "stderr",
     "output_type": "stream",
     "text": [
      " 83%|▊| 10/12 [08:33<01:33, 46.95s/home/ylu/anaconda3/envs/Spateo/lib/python3.9/site-packages/anndata/_core/merge.py:1291: PerformanceWarning:\n",
      "\n",
      "DataFrame is highly fragmented.  This is usually the result of calling `frame.insert` many times, which has poor performance.  Consider joining all columns at once using pd.concat(axis=1) instead. To get a de-fragmented frame, use `newframe = frame.copy()`\n",
      "\n",
      "/home/ylu/anaconda3/envs/Spateo/lib/python3.9/site-packages/anndata/_core/anndata.py:1818: UserWarning:\n",
      "\n",
      "Observation names are not unique. To make them unique, call `.obs_names_make_unique`.\n",
      "\n",
      "/tmp/ipykernel_810160/627414376.py:17: ImplicitModificationWarning:\n",
      "\n",
      "Setting element `.obsm['X_pca']` of view, initializing view as actual.\n",
      "\n",
      "/tmp/ipykernel_810160/627414376.py:18: ImplicitModificationWarning:\n",
      "\n",
      "Setting element `.obsm['X_pca']` of view, initializing view as actual.\n",
      "\n"
     ]
    },
    {
     "name": "stdout",
     "output_type": "stream",
     "text": [
      "|-----> Filtered all samples for common genes. There are 4810 common genes.\n",
      "|-----> Spatial coordinates normalization params:\n",
      "|-----------> Scale: tensor([147.7430, 147.7430])...\n",
      "|-----------> Scale: tensor([[-334.2280,  374.1857],\n",
      "        [ 378.3135, -473.5271]], device='cuda:0')...\n",
      "|-----> Preprocess finished.\n",
      "|-----> Performing coarse rigid alignment...\n",
      "|-----> Coarse rigid alignment done.\n",
      "|-----> [Start Spateo pairwise alignment] in progress: 100.0000%\n",
      "|-----> [Start Spateo pairwise alignment] finished [19.2840s]\n",
      "|-----> Key Parameters: gamma: 0.9800925850868225; sigma2: 0.0028742754366248846; probability_parameters: [tensor(0.0078, device='cuda:0')]\n"
     ]
    },
    {
     "name": "stderr",
     "output_type": "stream",
     "text": [
      " 92%|▉| 11/12 [09:16<00:45, 45.67s/home/ylu/anaconda3/envs/Spateo/lib/python3.9/site-packages/anndata/_core/merge.py:1291: PerformanceWarning:\n",
      "\n",
      "DataFrame is highly fragmented.  This is usually the result of calling `frame.insert` many times, which has poor performance.  Consider joining all columns at once using pd.concat(axis=1) instead. To get a de-fragmented frame, use `newframe = frame.copy()`\n",
      "\n",
      "/home/ylu/anaconda3/envs/Spateo/lib/python3.9/site-packages/anndata/_core/anndata.py:1818: UserWarning:\n",
      "\n",
      "Observation names are not unique. To make them unique, call `.obs_names_make_unique`.\n",
      "\n",
      "/tmp/ipykernel_810160/627414376.py:17: ImplicitModificationWarning:\n",
      "\n",
      "Setting element `.obsm['X_pca']` of view, initializing view as actual.\n",
      "\n",
      "/tmp/ipykernel_810160/627414376.py:18: ImplicitModificationWarning:\n",
      "\n",
      "Setting element `.obsm['X_pca']` of view, initializing view as actual.\n",
      "\n"
     ]
    },
    {
     "name": "stdout",
     "output_type": "stream",
     "text": [
      "|-----> Filtered all samples for common genes. There are 4785 common genes.\n",
      "|-----> Spatial coordinates normalization params:\n",
      "|-----------> Scale: tensor([141.4339, 141.4339])...\n",
      "|-----------> Scale: tensor([[-119.9698,  264.8565],\n",
      "        [-335.0218,  375.0026]], device='cuda:0')...\n",
      "|-----> Preprocess finished.\n",
      "|-----> Performing coarse rigid alignment...\n",
      "|-----> Coarse rigid alignment done.\n",
      "|-----> [Start Spateo pairwise alignment] in progress: 100.0000%\n",
      "|-----> [Start Spateo pairwise alignment] finished [19.5518s]\n",
      "|-----> Key Parameters: gamma: 0.9834792017936707; sigma2: 0.003821425838395953; probability_parameters: [tensor(0.0088, device='cuda:0')]\n"
     ]
    },
    {
     "name": "stderr",
     "output_type": "stream",
     "text": [
      "100%|█| 12/12 [10:00<00:00, 50.04s\n"
     ]
    }
   ],
   "source": [
    "## Perform the Spateo alignment\n",
    "sampling_num = 20000\n",
    "for i in tqdm(range(len(slices)-1)):\n",
    "    slice1, slice2 = slices[i].copy(), slices[i+1].copy()\n",
    "    sampline_idx1 = np.random.choice(slice1.shape[0], sampling_num, replace=False) if slice1.shape[0] > sampling_num else np.arange(slice1.shape[0])\n",
    "    sampline_idx2 = np.random.choice(slice2.shape[0], sampling_num, replace=False) if slice2.shape[0] > sampling_num else np.arange(slice2.shape[0])\n",
    "    slice1 = slice1[sampline_idx1,:]\n",
    "    slice2 = slice2[sampline_idx2,:]\n",
    "    top_genes_num = 5000\n",
    "    top_genes_1 = np.argsort(-slice1.X.sum(0)).A[0][:top_genes_num] if slice1.shape[1] > top_genes_num else np.arange(slice1.shape[1])\n",
    "    top_genes_2 = np.argsort(-slice2.X.sum(0)).A[0][:top_genes_num] if slice2.shape[1] > top_genes_num else np.arange(slice2.shape[1])\n",
    "    slice1 = slice1[:,top_genes_1]\n",
    "    slice2 = slice2[:,top_genes_2]\n",
    "    time_start = time.time()\n",
    "    adata = ad.concat([slice1,slice2], label='batch')\n",
    "    PCA(adata, 'X', 'X_pca', 50, 'cuda')\n",
    "    slice1.obsm['X_pca'] = adata[adata.obs['batch'] == '0'].obsm['X_pca'].copy()\n",
    "    slice2.obsm['X_pca'] = adata[adata.obs['batch'] == '1'].obsm['X_pca'].copy()\n",
    "    align_slices = [slice1, slice2]\n",
    "    morpho_model = Morpho_pairwise(\n",
    "        sampleA=align_slices[1],\n",
    "        sampleB=align_slices[0],\n",
    "        spatial_key=spatial_key,\n",
    "        key_added=key_added,\n",
    "        \n",
    "        # iter_key_added='align_spatial_iter',\n",
    "        partial_robust_level=10,\n",
    "        # nn_init=False,\n",
    "        lambdaVF=1e1,\n",
    "        beta=1e-1,\n",
    "        sigma2_init_scale=1,\n",
    "        device='1',\n",
    "        sparse_calculation_mode=False,\n",
    "        use_chunk=False,\n",
    "        chunk_capacity=2,\n",
    "        # rep_layer=['X'],\n",
    "        # rep_field=['layer'],\n",
    "        # dissimilarity=['kl'],\n",
    "        rep_layer=['X_pca'],\n",
    "        rep_field=['obsm'],\n",
    "        dissimilarity=['cos'],\n",
    "        probability_type=['gauss'],\n",
    "        nn_init=True,\n",
    "        nn_init_weight=1,\n",
    "        max_iter=1000,\n",
    "        batch_size=4000,\n",
    "    )\n",
    "    P = morpho_model.run()\n",
    "    align_slices[1].obsm[key_added] = morpho_model.optimal_RnA.copy()\n",
    "    align_slices[0].obsm[key_added] = align_slices[0].obsm[spatial_key].copy()\n",
    "    # align_slices[1].uns['align_spatial_iter'] = morpho_model.iter_added\n",
    "    time_end = time.time()\n",
    "    pi = P.T\n",
    "    inlier = np.where(pi.sum(axis=1) > 0.1)[0]\n",
    "    matches = [inlier, np.argmax(pi[inlier,:], axis=1)]\n",
    "    R, t=solve_RT_by_correspondence(align_slices[1].obsm[key_added], align_slices[1].obsm[spatial_key])\n",
    "    alignment_results = {'sampling_idx1': sampline_idx1, 'sampline_idx2': sampline_idx2, 'R': R, 't': t, 'matches': matches, 'time': time_end - time_start}\n",
    "    np.save(os.path.join(results_folder, f\"slice_{i}_{i+1}_sampling_{sampling_num}.npy\"), alignment_results, allow_pickle=True)"
   ]
  },
  {
   "cell_type": "code",
   "execution_count": 10,
   "id": "4d4bce49-e6f9-40da-8186-ac93595f278b",
   "metadata": {},
   "outputs": [
    {
     "name": "stderr",
     "output_type": "stream",
     "text": [
      "  0%|                                                                                                                                                     | 0/12 [00:00<?, ?it/s]"
     ]
    },
    {
     "name": "stdout",
     "output_type": "stream",
     "text": [
      "|-----> [Models alignment based on morpho, mode: SN-S.] in progress: 100.0000%|-----> Filtered all samples for common genes. There are 27069 common genes.\n",
      "|-----> Coordinates normalization params:\n",
      "|-----------> Scale: 124.58662414550781.\n",
      "|-----> Performing coarse rigid alignment...\n",
      "|-----> Coarse rigid alignment done.\n",
      "|-----> [Start morpho alignment] in progress: 100.0000%\n",
      "|-----> [Start morpho alignment] finished [4.8952s]\n",
      "|-----> Key Parameters: gamma: 0.9900000095367432; beta2: 0.42358991503715515; sigma2: 0.0015428022015839815\n",
      "|-----> [Models alignment based on morpho, mode: SN-S.] in progress: 100.0000%\n",
      "|-----> [Models alignment based on morpho, mode: SN-S.] finished [5.5501s]\n"
     ]
    },
    {
     "name": "stderr",
     "output_type": "stream",
     "text": [
      "  8%|███████████▊                                                                                                                                 | 1/12 [00:40<07:24, 40.45s/it]"
     ]
    },
    {
     "name": "stdout",
     "output_type": "stream",
     "text": [
      "|-----> [Models alignment based on morpho, mode: SN-S.] in progress: 100.0000%|-----> Filtered all samples for common genes. There are 27243 common genes.\n",
      "|-----> Coordinates normalization params:\n",
      "|-----------> Scale: 134.6942138671875.\n",
      "|-----> Performing coarse rigid alignment...\n",
      "|-----> Coarse rigid alignment done.\n",
      "|-----> [Start morpho alignment] in progress: 100.0000%\n",
      "|-----> [Start morpho alignment] finished [2.7581s]\n",
      "|-----> Key Parameters: gamma: 0.9900000095367432; beta2: 0.4082432687282562; sigma2: 0.002117339987307787\n",
      "|-----> [Models alignment based on morpho, mode: SN-S.] in progress: 100.0000%\n",
      "|-----> [Models alignment based on morpho, mode: SN-S.] finished [4.4160s]\n"
     ]
    },
    {
     "name": "stderr",
     "output_type": "stream",
     "text": [
      " 17%|███████████████████████▌                                                                                                                     | 2/12 [01:21<06:48, 40.88s/it]"
     ]
    },
    {
     "name": "stdout",
     "output_type": "stream",
     "text": [
      "|-----> [Models alignment based on morpho, mode: SN-S.] in progress: 100.0000%|-----> Filtered all samples for common genes. There are 27275 common genes.\n",
      "|-----> Coordinates normalization params:\n",
      "|-----------> Scale: 142.2440185546875.\n",
      "|-----> Performing coarse rigid alignment...\n",
      "|-----> Coarse rigid alignment done.\n",
      "|-----> [Start morpho alignment] in progress: 100.0000%\n",
      "|-----> [Start morpho alignment] finished [2.7771s]\n",
      "|-----> Key Parameters: gamma: 0.9900000095367432; beta2: 0.40248891711235046; sigma2: 0.008215121924877167\n",
      "|-----> [Models alignment based on morpho, mode: SN-S.] in progress: 100.0000%\n",
      "|-----> [Models alignment based on morpho, mode: SN-S.] finished [4.4805s]\n"
     ]
    },
    {
     "name": "stderr",
     "output_type": "stream",
     "text": [
      " 25%|███████████████████████████████████▎                                                                                                         | 3/12 [02:08<06:30, 43.43s/it]"
     ]
    },
    {
     "name": "stdout",
     "output_type": "stream",
     "text": [
      "|-----> [Models alignment based on morpho, mode: SN-S.] in progress: 100.0000%|-----> Filtered all samples for common genes. There are 27489 common genes.\n",
      "|-----> Coordinates normalization params:\n",
      "|-----------> Scale: 154.7622833251953.\n",
      "|-----> Performing coarse rigid alignment...\n",
      "|-----> Coarse rigid alignment done.\n",
      "|-----> [Start morpho alignment] in progress: 100.0000%\n",
      "|-----> [Start morpho alignment] finished [2.8100s]\n",
      "|-----> Key Parameters: gamma: 0.9900000095367432; beta2: 0.4622664451599121; sigma2: 0.006686978507786989\n",
      "|-----> [Models alignment based on morpho, mode: SN-S.] in progress: 100.0000%\n",
      "|-----> [Models alignment based on morpho, mode: SN-S.] finished [4.4311s]\n"
     ]
    },
    {
     "name": "stderr",
     "output_type": "stream",
     "text": [
      " 33%|███████████████████████████████████████████████                                                                                              | 4/12 [03:20<07:18, 54.78s/it]"
     ]
    },
    {
     "name": "stdout",
     "output_type": "stream",
     "text": [
      "|-----> [Models alignment based on morpho, mode: SN-S.] in progress: 100.0000%|-----> Filtered all samples for common genes. There are 27754 common genes.\n",
      "|-----> Coordinates normalization params:\n",
      "|-----------> Scale: 167.52186584472656.\n",
      "|-----> Performing coarse rigid alignment...\n",
      "|-----> Coarse rigid alignment done.\n",
      "|-----> [Start morpho alignment] in progress: 100.0000%\n",
      "|-----> [Start morpho alignment] finished [3.2166s]\n",
      "|-----> Key Parameters: gamma: 0.9900000095367432; beta2: 0.4085405468940735; sigma2: 0.001026524230837822\n",
      "|-----> [Models alignment based on morpho, mode: SN-S.] in progress: 100.0000%\n",
      "|-----> [Models alignment based on morpho, mode: SN-S.] finished [4.6619s]\n"
     ]
    },
    {
     "name": "stderr",
     "output_type": "stream",
     "text": [
      " 42%|██████████████████████████████████████████████████████████▊                                                                                  | 5/12 [04:45<07:39, 65.64s/it]"
     ]
    },
    {
     "name": "stdout",
     "output_type": "stream",
     "text": [
      "|-----> [Models alignment based on morpho, mode: SN-S.] in progress: 100.0000%|-----> Filtered all samples for common genes. There are 27574 common genes.\n",
      "|-----> Coordinates normalization params:\n",
      "|-----------> Scale: 169.0230712890625.\n",
      "|-----> Performing coarse rigid alignment...\n",
      "|-----> Coarse rigid alignment done.\n",
      "|-----> [Start morpho alignment] in progress: 100.0000%\n",
      "|-----> [Start morpho alignment] finished [2.7629s]\n",
      "|-----> Key Parameters: gamma: 0.9900000095367432; beta2: 0.42031583189964294; sigma2: 0.0013809228548780084\n",
      "|-----> [Models alignment based on morpho, mode: SN-S.] in progress: 100.0000%\n",
      "|-----> [Models alignment based on morpho, mode: SN-S.] finished [4.5109s]\n"
     ]
    },
    {
     "name": "stderr",
     "output_type": "stream",
     "text": [
      " 50%|██████████████████████████████████████████████████████████████████████▌                                                                      | 6/12 [05:55<06:44, 67.40s/it]"
     ]
    },
    {
     "name": "stdout",
     "output_type": "stream",
     "text": [
      "|-----> [Models alignment based on morpho, mode: SN-S.] in progress: 100.0000%|-----> Filtered all samples for common genes. There are 27889 common genes.\n",
      "|-----> Coordinates normalization params:\n",
      "|-----------> Scale: 166.11181640625.\n",
      "|-----> Performing coarse rigid alignment...\n",
      "|-----> Coarse rigid alignment done.\n",
      "|-----> [Start morpho alignment] in progress: 100.0000%\n",
      "|-----> [Start morpho alignment] finished [4.3137s]\n",
      "|-----> Key Parameters: gamma: 0.9900000095367432; beta2: 0.40827903151512146; sigma2: 0.0155154038220644\n",
      "|-----> [Models alignment based on morpho, mode: SN-S.] in progress: 100.0000%\n",
      "|-----> [Models alignment based on morpho, mode: SN-S.] finished [4.7045s]\n"
     ]
    },
    {
     "name": "stderr",
     "output_type": "stream",
     "text": [
      " 58%|██████████████████████████████████████████████████████████████████████████████████▎                                                          | 7/12 [06:55<05:23, 64.77s/it]"
     ]
    },
    {
     "name": "stdout",
     "output_type": "stream",
     "text": [
      "|-----> [Models alignment based on morpho, mode: SN-S.] in progress: 100.0000%|-----> Filtered all samples for common genes. There are 28328 common genes.\n",
      "|-----> Coordinates normalization params:\n",
      "|-----------> Scale: 162.90074157714844.\n",
      "|-----> Performing coarse rigid alignment...\n",
      "|-----> Coarse rigid alignment done.\n",
      "|-----> [Start morpho alignment] in progress: 100.0000%\n",
      "|-----> [Start morpho alignment] finished [3.5945s]\n",
      "|-----> Key Parameters: gamma: 0.9900000095367432; beta2: 0.4744945466518402; sigma2: 0.0011801481014117599\n",
      "|-----> [Models alignment based on morpho, mode: SN-S.] in progress: 100.0000%\n",
      "|-----> [Models alignment based on morpho, mode: SN-S.] finished [5.2215s]\n"
     ]
    },
    {
     "name": "stderr",
     "output_type": "stream",
     "text": [
      " 67%|██████████████████████████████████████████████████████████████████████████████████████████████                                               | 8/12 [08:30<04:57, 74.45s/it]"
     ]
    },
    {
     "name": "stdout",
     "output_type": "stream",
     "text": [
      "|-----> [Models alignment based on morpho, mode: SN-S.] in progress: 100.0000%|-----> Filtered all samples for common genes. There are 27910 common genes.\n",
      "|-----> Coordinates normalization params:\n",
      "|-----------> Scale: 158.67990112304688.\n",
      "|-----> Performing coarse rigid alignment...\n",
      "|-----> Coarse rigid alignment done.\n",
      "|-----> [Start morpho alignment] in progress: 100.0000%\n",
      "|-----> [Start morpho alignment] finished [2.7629s]\n",
      "|-----> Key Parameters: gamma: 0.9900000095367432; beta2: 0.5212513208389282; sigma2: 0.003388941055163741\n",
      "|-----> [Models alignment based on morpho, mode: SN-S.] in progress: 100.0000%\n",
      "|-----> [Models alignment based on morpho, mode: SN-S.] finished [4.4781s]\n"
     ]
    },
    {
     "name": "stderr",
     "output_type": "stream",
     "text": [
      " 75%|█████████████████████████████████████████████████████████████████████████████████████████████████████████▊                                   | 9/12 [09:38<03:37, 72.37s/it]"
     ]
    },
    {
     "name": "stdout",
     "output_type": "stream",
     "text": [
      "|-----> [Models alignment based on morpho, mode: SN-S.] in progress: 100.0000%|-----> Filtered all samples for common genes. There are 27382 common genes.\n",
      "|-----> Coordinates normalization params:\n",
      "|-----------> Scale: 152.60060119628906.\n",
      "|-----> Performing coarse rigid alignment...\n",
      "|-----> Coarse rigid alignment done.\n",
      "|-----> [Start morpho alignment] in progress: 100.0000%\n",
      "|-----> [Start morpho alignment] finished [2.7900s]\n",
      "|-----> Key Parameters: gamma: 0.9900000095367432; beta2: 0.4044482409954071; sigma2: 0.0025977524928748608\n",
      "|-----> [Models alignment based on morpho, mode: SN-S.] in progress: 100.0000%\n",
      "|-----> [Models alignment based on morpho, mode: SN-S.] finished [4.4394s]\n"
     ]
    },
    {
     "name": "stderr",
     "output_type": "stream",
     "text": [
      " 83%|████████████████████████████████████████████████████████████████████████████████████████████████████████████████████▋                       | 10/12 [10:18<02:04, 62.40s/it]"
     ]
    },
    {
     "name": "stdout",
     "output_type": "stream",
     "text": [
      "|-----> [Models alignment based on morpho, mode: SN-S.] in progress: 100.0000%|-----> Filtered all samples for common genes. There are 27033 common genes.\n",
      "|-----> Coordinates normalization params:\n",
      "|-----------> Scale: 148.02999877929688.\n",
      "|-----> Performing coarse rigid alignment...\n",
      "|-----> Coarse rigid alignment done.\n",
      "|-----> [Start morpho alignment] in progress: 100.0000%\n",
      "|-----> [Start morpho alignment] finished [2.7562s]\n",
      "|-----> Key Parameters: gamma: 0.9900000095367432; beta2: 0.4684436023235321; sigma2: 0.005542703904211521\n",
      "|-----> [Models alignment based on morpho, mode: SN-S.] in progress: 100.0000%\n",
      "|-----> [Models alignment based on morpho, mode: SN-S.] finished [4.3773s]\n"
     ]
    },
    {
     "name": "stderr",
     "output_type": "stream",
     "text": [
      " 92%|████████████████████████████████████████████████████████████████████████████████████████████████████████████████████████████████▎           | 11/12 [11:23<01:03, 63.08s/it]"
     ]
    },
    {
     "name": "stdout",
     "output_type": "stream",
     "text": [
      "|-----> [Models alignment based on morpho, mode: SN-S.] in progress: 100.0000%|-----> Filtered all samples for common genes. There are 26908 common genes.\n",
      "|-----> Coordinates normalization params:\n",
      "|-----------> Scale: 141.57791137695312.\n",
      "|-----> Performing coarse rigid alignment...\n",
      "|-----> Coarse rigid alignment done.\n",
      "|-----> [Start morpho alignment] in progress: 100.0000%\n",
      "|-----> [Start morpho alignment] finished [2.8033s]\n",
      "|-----> Key Parameters: gamma: 0.9900000095367432; beta2: 0.42932796478271484; sigma2: 0.004915144760161638\n",
      "|-----> [Models alignment based on morpho, mode: SN-S.] in progress: 100.0000%\n",
      "|-----> [Models alignment based on morpho, mode: SN-S.] finished [4.3537s]\n"
     ]
    },
    {
     "name": "stderr",
     "output_type": "stream",
     "text": [
      "100%|████████████████████████████████████████████████████████████████████████████████████████████████████████████████████████████████████████████| 12/12 [12:28<00:00, 62.35s/it]\n"
     ]
    }
   ],
   "source": [
    "## Perform the Spateo alignment\n",
    "sampling_num = 20000\n",
    "for i in tqdm(range(len(slices)-1)):\n",
    "    slice1, slice2 = slices[i].copy(), slices[i+1].copy()\n",
    "    sampline_idx1 = np.random.choice(slice1.shape[0], sampling_num, replace=False) if slice1.shape[0] > sampling_num else np.arange(slice1.shape[0])\n",
    "    sampline_idx2 = np.random.choice(slice2.shape[0], sampling_num, replace=False) if slice2.shape[0] > sampling_num else np.arange(slice2.shape[0])\n",
    "    slice1 = slice1[sampline_idx1,:]\n",
    "    slice2 = slice2[sampline_idx2,:]\n",
    "    time_start = time.time()\n",
    "    align_slices, pis, _  = st.align.morpho_align(\n",
    "        models=[slice1, slice2],\n",
    "        spatial_key=spatial_key,\n",
    "        key_added=key_added,\n",
    "        device=\"0\",\n",
    "        mode=\"SN-S\",\n",
    "        max_iter=200,\n",
    "        verbose=True,\n",
    "        partial_robust_level=1,\n",
    "        beta=1e-1,\n",
    "        lambdaVF=1e0,\n",
    "        SVI_mode=True,\n",
    "        nn_init=True,\n",
    "        iter_key_added=None,\n",
    "    )\n",
    "    time_end = time.time()\n",
    "    matches = [np.arange(pis[0].shape[0]), np.argmax(pis[0], axis=1)]\n",
    "    R, t=solve_RT_by_correspondence(align_slices[1].obsm[key_added], align_slices[1].obsm[spatial_key])\n",
    "    alignment_results = {'sampling_idx1': sampline_idx1, 'sampline_idx2': sampline_idx2, 'R': R, 't': t, 'matches': matches, 'time': time_end - time_start}\n",
    "    np.save(os.path.join(results_folder, f\"slice_{i}_{i+1}_sampling_{sampling_num}.npy\"), alignment_results, allow_pickle=True)"
   ]
  },
  {
   "cell_type": "code",
   "execution_count": null,
   "id": "ab0e97a4-3443-4be3-a253-9957d268123b",
   "metadata": {},
   "outputs": [],
   "source": []
  }
 ],
 "metadata": {
  "kernelspec": {
   "display_name": "Spateo",
   "language": "python",
   "name": "spateo"
  },
  "language_info": {
   "codemirror_mode": {
    "name": "ipython",
    "version": 3
   },
   "file_extension": ".py",
   "mimetype": "text/x-python",
   "name": "python",
   "nbconvert_exporter": "python",
   "pygments_lexer": "ipython3",
   "version": "3.9.19"
  }
 },
 "nbformat": 4,
 "nbformat_minor": 5
}
