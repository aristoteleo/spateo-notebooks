{
 "cells": [
  {
   "cell_type": "code",
   "execution_count": null,
   "id": "0908cd60-618c-42e7-9854-9713751acdda",
   "metadata": {
    "execution": {
     "iopub.execute_input": "2024-07-11T06:43:45.890585Z",
     "iopub.status.busy": "2024-07-11T06:43:45.890192Z",
     "iopub.status.idle": "2024-07-11T06:43:51.828528Z",
     "shell.execute_reply": "2024-07-11T06:43:51.827886Z",
     "shell.execute_reply.started": "2024-07-11T06:43:45.890551Z"
    }
   },
   "outputs": [
    {
     "name": "stderr",
     "output_type": "stream",
     "text": [
      "2024-07-11 06:43:49.797024: W tensorflow/compiler/xla/stream_executor/platform/default/dso_loader.cc:64] Could not load dynamic library 'libcudart.so.11.0'; dlerror: libcudart.so.11.0: cannot open shared object file: No such file or directory; LD_LIBRARY_PATH: /usr/local/cuda-12.3/lib64\n",
      "2024-07-11 06:43:50.842944: W tensorflow/compiler/xla/stream_executor/platform/default/dso_loader.cc:64] Could not load dynamic library 'libnvinfer.so.7'; dlerror: libnvinfer.so.7: cannot open shared object file: No such file or directory; LD_LIBRARY_PATH: /usr/local/cuda-12.3/lib64\n",
      "2024-07-11 06:43:50.843064: W tensorflow/compiler/xla/stream_executor/platform/default/dso_loader.cc:64] Could not load dynamic library 'libnvinfer_plugin.so.7'; dlerror: libnvinfer_plugin.so.7: cannot open shared object file: No such file or directory; LD_LIBRARY_PATH: /usr/local/cuda-12.3/lib64\n",
      "2024-07-11 06:43:50.843073: W tensorflow/compiler/tf2tensorrt/utils/py_utils.cc:38] TF-TRT Warning: Cannot dlopen some TensorRT libraries. If you would like to use Nvidia GPU with TensorRT, please make sure the missing libraries mentioned above are installed properly.\n",
      "_XSERVTransSocketUNIXCreateListener: ...SocketCreateListener() failed\n",
      "_XSERVTransMakeAllCOTSServerListeners: server already running\n",
      "(EE) \n",
      "Fatal server error:\n",
      "(EE) Cannot establish any listening sockets - Make sure an X server isn't already running(EE) \n"
     ]
    }
   ],
   "source": [
    "import os\n",
    "os.environ['CUDA_VISIBLE_DEVICES'] = '1'\n",
    "import sys\n",
    "from pathlib import Path\n",
    "import anndata as ad\n",
    "import scanpy as sc\n",
    "import numpy as np\n",
    "import warnings\n",
    "warnings.simplefilter(action='ignore', category=FutureWarning)\n",
    "import seaborn as sns\n",
    "from matplotlib import pyplot as plt\n",
    "\n",
    "sys.path.insert(0, \"../../scripts/methods/\")\n",
    "from my_paste2 import paste2_align, paste2_align_ref\n",
    "sys.path.insert(0, \"/home/ylu/project\")\n",
    "from utils import *\n",
    "import time\n",
    "\n",
    "os.system('/usr/bin/Xvfb :99 -screen 0 1024x768x24 &')\n",
    "os.environ['DISPLAY'] = ':99'\n",
    "\n",
    "%load_ext autoreload\n",
    "%autoreload 2"
   ]
  },
  {
   "cell_type": "code",
   "execution_count": 1,
   "id": "7ecb971d-a165-43d5-87b2-657373929be6",
   "metadata": {
    "execution": {
     "iopub.execute_input": "2024-07-11T06:43:53.819117Z",
     "iopub.status.busy": "2024-07-11T06:43:53.818220Z",
     "iopub.status.idle": "2024-07-11T06:43:53.869681Z",
     "shell.execute_reply": "2024-07-11T06:43:53.869009Z",
     "shell.execute_reply.started": "2024-07-11T06:43:53.819076Z"
    }
   },
   "outputs": [],
   "source": [
    "order = [\n",
    "    155, 153,151,149,147,144,142,140, 138, 143,141,139, 137,135,133,130,131,\n",
    "129,127,125,123,121,119,117,115,113,111,109,107,105,103, 101, 99, 97, 95, 93,\n",
    "91,89,87,85,81,83,79,77,75,73,71,67,65,63,61,59,57,55,53,51,49,47,45,43,41,39,\n",
    "37,33,31,29,27,25,28,30,32,34,36,38,40,42,44,48,50,52,54,56,58,60,62,\n",
    "    64,66,68,72,74,76,78,80,82,84,88,90,92,94,96,98,100,102,104,106,108,\n",
    "    110,112,114,116,118,120,122,124,136,134,132,128,126\n",
    "]\n",
    "data_folder = \"/dm7100f/yifan/StereoSeq_macaque_processed\"\n",
    "files = [f'macaque_T{o}.h5ad' for o in order]"
   ]
  },
  {
   "cell_type": "code",
   "execution_count": 2,
   "id": "e7b47bc4-0453-474d-a39f-aa14ed636caa",
   "metadata": {
    "execution": {
     "iopub.execute_input": "2024-07-11T06:43:54.132958Z",
     "iopub.status.busy": "2024-07-11T06:43:54.132590Z",
     "iopub.status.idle": "2024-07-11T06:43:54.180495Z",
     "shell.execute_reply": "2024-07-11T06:43:54.179939Z",
     "shell.execute_reply.started": "2024-07-11T06:43:54.132934Z"
    }
   },
   "outputs": [],
   "source": [
    "# data_folder = \"./results/split_data/\"\n",
    "results_folder = \"./results/PASTE2/\"\n",
    "figures_folder = \"./results/figures/PASTE2\"\n",
    "Path(results_folder).mkdir(parents=True, exist_ok=True)\n",
    "Path(figures_folder).mkdir(parents=True, exist_ok=True)"
   ]
  },
  {
   "cell_type": "code",
   "execution_count": null,
   "id": "ea9238e1-9507-4ea2-bdb8-ebd049824ed8",
   "metadata": {
    "execution": {
     "iopub.execute_input": "2024-07-11T06:44:54.025410Z",
     "iopub.status.busy": "2024-07-11T06:44:54.025030Z"
    }
   },
   "outputs": [
    {
     "name": "stderr",
     "output_type": "stream",
     "text": [
      "  0%|                     | 0/118 [00:00<?, ?it/s]/home/ylu/project/Benchmark_alignment_methods/notebooks/Macaque/../../scripts/methods/my_paste2.py:113: ImplicitModificationWarning: Setting element `.obsm['align_spatial']` of view, initializing view as actual.\n",
      "  m.obsm[key_added] = m.obsm[spatial_key]\n",
      "/home/ylu/project/Benchmark_alignment_methods/notebooks/Macaque/../../scripts/methods/my_paste2.py:113: ImplicitModificationWarning: Setting element `.obsm['align_spatial']` of view, initializing view as actual.\n",
      "  m.obsm[key_added] = m.obsm[spatial_key]\n"
     ]
    },
    {
     "name": "stdout",
     "output_type": "stream",
     "text": [
      "PASTE2 starts...\n",
      "It.  |Loss        |Relative loss|Absolute loss\n",
      "------------------------------------------------\n",
      "    0|3.020867e+00|0.000000e+00|0.000000e+00\n",
      "    1|2.745212e+00|1.004129e-01|2.756547e-01\n",
      "    2|2.744487e+00|2.642041e-04|7.251049e-04\n",
      "    3|2.739466e+00|1.832946e-03|5.021293e-03\n",
      "    4|2.725463e+00|5.137849e-03|1.400302e-02\n",
      "    5|2.712645e+00|4.725165e-03|1.281770e-02\n",
      "    6|2.706863e+00|2.136301e-03|5.782672e-03\n",
      "    7|2.704696e+00|8.011592e-04|2.166892e-03\n",
      "    8|2.703671e+00|3.788429e-04|1.024267e-03\n",
      "    9|2.703153e+00|1.918727e-04|5.186613e-04\n",
      "   10|2.702885e+00|9.894677e-05|2.674418e-04\n",
      "   11|2.702729e+00|5.803708e-05|1.568585e-04\n",
      "   12|2.702617e+00|4.118947e-05|1.113194e-04\n",
      "   13|2.702557e+00|2.230262e-05|6.027410e-05\n",
      "   14|2.702530e+00|9.942118e-06|2.686887e-05\n",
      "   15|2.702515e+00|5.664974e-06|1.530968e-05\n",
      "   16|2.702501e+00|4.937276e-06|1.334300e-05\n",
      "   17|2.702494e+00|2.685845e-06|7.258481e-06\n",
      "   18|2.702490e+00|1.661866e-06|4.491175e-06\n",
      "   19|2.702485e+00|1.738285e-06|4.697689e-06\n",
      "   20|2.702484e+00|3.957452e-07|1.069495e-06\n",
      " 1000|2.702484e+00|1.643263e-16|4.440892e-16\n"
     ]
    },
    {
     "name": "stderr",
     "output_type": "stream",
     "text": [
      "  1%|         | 1/118 [07:19<14:16:57, 439.46s/it]/home/ylu/project/Benchmark_alignment_methods/notebooks/Macaque/../../scripts/methods/my_paste2.py:113: ImplicitModificationWarning: Setting element `.obsm['align_spatial']` of view, initializing view as actual.\n",
      "  m.obsm[key_added] = m.obsm[spatial_key]\n",
      "/home/ylu/project/Benchmark_alignment_methods/notebooks/Macaque/../../scripts/methods/my_paste2.py:113: ImplicitModificationWarning: Setting element `.obsm['align_spatial']` of view, initializing view as actual.\n",
      "  m.obsm[key_added] = m.obsm[spatial_key]\n"
     ]
    },
    {
     "name": "stdout",
     "output_type": "stream",
     "text": [
      "PASTE2 starts...\n",
      "It.  |Loss        |Relative loss|Absolute loss\n",
      "------------------------------------------------\n",
      "    0|3.270246e+00|0.000000e+00|0.000000e+00\n",
      "    1|2.904073e+00|1.260895e-01|3.661730e-01\n",
      "    2|2.891417e+00|4.377209e-03|1.265633e-02\n",
      "    3|2.854715e+00|1.285638e-02|3.670131e-02\n",
      "    4|2.846447e+00|2.904600e-03|8.267792e-03\n",
      "    5|2.844176e+00|7.987531e-04|2.271794e-03\n",
      "    6|2.843655e+00|1.831722e-04|5.208786e-04\n",
      "    7|2.843562e+00|3.249913e-05|9.241330e-05\n",
      "    8|2.843551e+00|4.087446e-06|1.162286e-05\n",
      "    9|2.843550e+00|4.171680e-07|1.186238e-06\n",
      " 1000|2.843550e+00|1.561742e-16|4.440892e-16\n"
     ]
    },
    {
     "name": "stderr",
     "output_type": "stream",
     "text": [
      "  2%|▏         | 2/118 [10:48<9:47:08, 303.70s/it]/home/ylu/project/Benchmark_alignment_methods/notebooks/Macaque/../../scripts/methods/my_paste2.py:113: ImplicitModificationWarning: Setting element `.obsm['align_spatial']` of view, initializing view as actual.\n",
      "  m.obsm[key_added] = m.obsm[spatial_key]\n",
      "/home/ylu/project/Benchmark_alignment_methods/notebooks/Macaque/../../scripts/methods/my_paste2.py:113: ImplicitModificationWarning: Setting element `.obsm['align_spatial']` of view, initializing view as actual.\n",
      "  m.obsm[key_added] = m.obsm[spatial_key]\n"
     ]
    },
    {
     "name": "stdout",
     "output_type": "stream",
     "text": [
      "PASTE2 starts...\n",
      "It.  |Loss        |Relative loss|Absolute loss\n",
      "------------------------------------------------\n",
      "    0|2.988142e+00|0.000000e+00|0.000000e+00\n",
      "    1|2.719190e+00|9.890901e-02|2.689524e-01\n",
      "    2|2.705786e+00|4.953854e-03|1.340407e-02\n",
      "    3|2.673557e+00|1.205482e-02|3.222925e-02\n",
      "    4|2.664708e+00|3.320690e-03|8.848670e-03\n",
      "    5|2.662667e+00|7.664403e-04|2.040775e-03\n",
      "    6|2.662411e+00|9.621395e-05|2.561611e-04\n",
      "    7|2.662333e+00|2.912961e-05|7.755274e-05\n",
      "    8|2.662276e+00|2.145231e-05|5.711198e-05\n",
      "    9|2.662230e+00|1.741842e-05|4.637185e-05\n",
      "   10|2.662205e+00|9.312313e-06|2.479129e-05\n",
      "   11|2.662196e+00|3.242925e-06|8.633302e-06\n",
      "   12|2.662192e+00|1.835132e-06|4.885473e-06\n",
      " 1000|2.662192e+00|0.000000e+00|0.000000e+00\n"
     ]
    },
    {
     "name": "stderr",
     "output_type": "stream",
     "text": [
      "  3%|▎         | 3/118 [15:25<9:19:07, 291.72s/it]/home/ylu/project/Benchmark_alignment_methods/notebooks/Macaque/../../scripts/methods/my_paste2.py:113: ImplicitModificationWarning: Setting element `.obsm['align_spatial']` of view, initializing view as actual.\n",
      "  m.obsm[key_added] = m.obsm[spatial_key]\n",
      "/home/ylu/project/Benchmark_alignment_methods/notebooks/Macaque/../../scripts/methods/my_paste2.py:113: ImplicitModificationWarning: Setting element `.obsm['align_spatial']` of view, initializing view as actual.\n",
      "  m.obsm[key_added] = m.obsm[spatial_key]\n"
     ]
    },
    {
     "name": "stdout",
     "output_type": "stream",
     "text": [
      "PASTE2 starts...\n",
      "It.  |Loss        |Relative loss|Absolute loss\n",
      "------------------------------------------------\n",
      "    0|2.890339e+00|0.000000e+00|0.000000e+00\n",
      "    1|2.620453e+00|1.029920e-01|2.698858e-01\n",
      "    2|2.615459e+00|1.909542e-03|4.994327e-03\n",
      "    3|2.582463e+00|1.277699e-02|3.299611e-02\n",
      "    4|2.568324e+00|5.504818e-03|1.413816e-02\n",
      "    5|2.567401e+00|3.597392e-04|9.235948e-04\n",
      "    6|2.567333e+00|2.632900e-05|6.759532e-05\n",
      "    7|2.567322e+00|4.288638e-06|1.101031e-05\n",
      "    8|2.567318e+00|1.775168e-06|4.557419e-06\n",
      "    9|2.567316e+00|6.009588e-07|1.542851e-06\n",
      " 1000|2.567316e+00|0.000000e+00|0.000000e+00\n"
     ]
    },
    {
     "name": "stderr",
     "output_type": "stream",
     "text": [
      "  3%|▎         | 4/118 [18:53<8:11:13, 258.54s/it]/home/ylu/project/Benchmark_alignment_methods/notebooks/Macaque/../../scripts/methods/my_paste2.py:113: ImplicitModificationWarning: Setting element `.obsm['align_spatial']` of view, initializing view as actual.\n",
      "  m.obsm[key_added] = m.obsm[spatial_key]\n",
      "/home/ylu/project/Benchmark_alignment_methods/notebooks/Macaque/../../scripts/methods/my_paste2.py:113: ImplicitModificationWarning: Setting element `.obsm['align_spatial']` of view, initializing view as actual.\n",
      "  m.obsm[key_added] = m.obsm[spatial_key]\n"
     ]
    },
    {
     "name": "stdout",
     "output_type": "stream",
     "text": [
      "PASTE2 starts...\n",
      "It.  |Loss        |Relative loss|Absolute loss\n",
      "------------------------------------------------\n",
      "    0|3.050466e+00|0.000000e+00|0.000000e+00\n",
      "    1|2.691044e+00|1.335623e-01|3.594221e-01\n",
      "    2|2.684829e+00|2.314783e-03|6.214798e-03\n",
      "    3|2.662711e+00|8.306480e-03|2.211776e-02\n",
      "    4|2.655233e+00|2.816516e-03|7.478505e-03\n",
      "    5|2.647471e+00|2.931687e-03|7.761556e-03\n",
      "    6|2.644334e+00|1.186226e-03|3.136777e-03\n",
      "    7|2.644163e+00|6.491718e-05|1.716516e-04\n",
      "    8|2.644157e+00|2.084017e-06|5.510469e-06\n",
      "    9|2.644156e+00|2.706313e-07|7.155916e-07\n",
      " 1000|2.644156e+00|1.679512e-16|4.440892e-16\n"
     ]
    },
    {
     "name": "stderr",
     "output_type": "stream",
     "text": [
      "  4%|▍         | 5/118 [22:16<7:29:11, 238.51s/it]/home/ylu/project/Benchmark_alignment_methods/notebooks/Macaque/../../scripts/methods/my_paste2.py:113: ImplicitModificationWarning: Setting element `.obsm['align_spatial']` of view, initializing view as actual.\n",
      "  m.obsm[key_added] = m.obsm[spatial_key]\n",
      "/home/ylu/project/Benchmark_alignment_methods/notebooks/Macaque/../../scripts/methods/my_paste2.py:113: ImplicitModificationWarning: Setting element `.obsm['align_spatial']` of view, initializing view as actual.\n",
      "  m.obsm[key_added] = m.obsm[spatial_key]\n"
     ]
    },
    {
     "name": "stdout",
     "output_type": "stream",
     "text": [
      "PASTE2 starts...\n",
      "It.  |Loss        |Relative loss|Absolute loss\n",
      "------------------------------------------------\n",
      "    0|3.005991e+00|0.000000e+00|0.000000e+00\n",
      "    1|2.714363e+00|1.074386e-01|2.916273e-01\n",
      "    2|2.704167e+00|3.770504e-03|1.019607e-02\n",
      "    3|2.671154e+00|1.235899e-02|3.301277e-02\n",
      "    4|2.663070e+00|3.035906e-03|8.084828e-03\n",
      "    5|2.662765e+00|1.144188e-04|3.046705e-04\n",
      "    6|2.662760e+00|1.754309e-06|4.671304e-06\n",
      "    7|2.662756e+00|1.495435e-06|3.981979e-06\n",
      "    8|2.662756e+00|2.489953e-07|6.630137e-07\n",
      "    9|2.662755e+00|1.034239e-07|2.753925e-07\n",
      " 1000|2.662755e+00|3.335562e-16|8.881784e-16\n"
     ]
    },
    {
     "name": "stderr",
     "output_type": "stream",
     "text": [
      "  5%|▌         | 6/118 [25:37<7:01:42, 225.91s/it]/home/ylu/project/Benchmark_alignment_methods/notebooks/Macaque/../../scripts/methods/my_paste2.py:113: ImplicitModificationWarning: Setting element `.obsm['align_spatial']` of view, initializing view as actual.\n",
      "  m.obsm[key_added] = m.obsm[spatial_key]\n",
      "/home/ylu/project/Benchmark_alignment_methods/notebooks/Macaque/../../scripts/methods/my_paste2.py:113: ImplicitModificationWarning: Setting element `.obsm['align_spatial']` of view, initializing view as actual.\n",
      "  m.obsm[key_added] = m.obsm[spatial_key]\n"
     ]
    },
    {
     "name": "stdout",
     "output_type": "stream",
     "text": [
      "PASTE2 starts...\n",
      "It.  |Loss        |Relative loss|Absolute loss\n",
      "------------------------------------------------\n",
      "    0|3.102092e+00|0.000000e+00|0.000000e+00\n",
      "    1|2.764901e+00|1.219543e-01|3.371915e-01\n",
      "    2|2.754597e+00|3.740728e-03|1.030420e-02\n",
      "    3|2.733797e+00|7.608276e-03|2.079948e-02\n",
      "    4|2.720491e+00|4.890982e-03|1.330587e-02\n",
      "    5|2.718316e+00|8.004567e-04|2.175894e-03\n",
      "    6|2.718212e+00|3.814653e-05|1.036903e-04\n",
      "    7|2.718201e+00|3.889769e-06|1.057318e-05\n",
      "    8|2.718199e+00|7.428740e-07|2.019280e-06\n",
      " 1000|2.718199e+00|0.000000e+00|0.000000e+00\n"
     ]
    },
    {
     "name": "stderr",
     "output_type": "stream",
     "text": [
      "  6%|▌         | 7/118 [28:37<6:29:49, 210.71s/it]/home/ylu/project/Benchmark_alignment_methods/notebooks/Macaque/../../scripts/methods/my_paste2.py:113: ImplicitModificationWarning: Setting element `.obsm['align_spatial']` of view, initializing view as actual.\n",
      "  m.obsm[key_added] = m.obsm[spatial_key]\n",
      "/home/ylu/project/Benchmark_alignment_methods/notebooks/Macaque/../../scripts/methods/my_paste2.py:113: ImplicitModificationWarning: Setting element `.obsm['align_spatial']` of view, initializing view as actual.\n",
      "  m.obsm[key_added] = m.obsm[spatial_key]\n"
     ]
    },
    {
     "name": "stdout",
     "output_type": "stream",
     "text": [
      "PASTE2 starts...\n",
      "It.  |Loss        |Relative loss|Absolute loss\n",
      "------------------------------------------------\n",
      "    0|3.017627e+00|0.000000e+00|0.000000e+00\n",
      "    1|2.688603e+00|1.223775e-01|3.290244e-01\n",
      "    2|2.675229e+00|4.999212e-03|1.337403e-02\n",
      "    3|2.653552e+00|8.168850e-03|2.167647e-02\n",
      "    4|2.644616e+00|3.378803e-03|8.935637e-03\n",
      "    5|2.643639e+00|3.698947e-04|9.778678e-04\n",
      "    6|2.643601e+00|1.409826e-05|3.727018e-05\n",
      "    7|2.643598e+00|1.281885e-06|3.388790e-06\n",
      "    8|2.643597e+00|2.737546e-07|7.236968e-07\n",
      "    9|2.643597e+00|9.899563e-08|2.617045e-07\n",
      " 1000|2.643597e+00|0.000000e+00|0.000000e+00\n"
     ]
    },
    {
     "name": "stderr",
     "output_type": "stream",
     "text": [
      "  7%|▋         | 8/118 [31:49<6:15:28, 204.81s/it]/home/ylu/project/Benchmark_alignment_methods/notebooks/Macaque/../../scripts/methods/my_paste2.py:113: ImplicitModificationWarning: Setting element `.obsm['align_spatial']` of view, initializing view as actual.\n",
      "  m.obsm[key_added] = m.obsm[spatial_key]\n",
      "/home/ylu/project/Benchmark_alignment_methods/notebooks/Macaque/../../scripts/methods/my_paste2.py:113: ImplicitModificationWarning: Setting element `.obsm['align_spatial']` of view, initializing view as actual.\n",
      "  m.obsm[key_added] = m.obsm[spatial_key]\n"
     ]
    },
    {
     "name": "stdout",
     "output_type": "stream",
     "text": [
      "PASTE2 starts...\n",
      "It.  |Loss        |Relative loss|Absolute loss\n",
      "------------------------------------------------\n",
      "    0|3.267368e+00|0.000000e+00|0.000000e+00\n",
      "    1|2.854269e+00|1.447301e-01|4.130986e-01\n",
      "    2|2.844515e+00|3.428857e-03|9.753436e-03\n",
      "    3|2.828288e+00|5.737704e-03|1.622788e-02\n",
      "    4|2.822244e+00|2.141392e-03|6.043531e-03\n",
      "    5|2.814269e+00|2.833821e-03|7.975135e-03\n",
      "    6|2.811334e+00|1.044053e-03|2.935182e-03\n",
      "    7|2.810876e+00|1.627668e-04|4.575173e-04\n",
      "    8|2.810717e+00|5.653382e-05|1.589006e-04\n",
      "    9|2.810636e+00|2.876446e-05|8.084643e-05\n",
      "   10|2.810565e+00|2.535499e-05|7.126186e-05\n",
      "   11|2.810522e+00|1.537797e-05|4.322013e-05\n",
      "   12|2.810491e+00|1.104605e-05|3.104481e-05\n",
      "   13|2.810471e+00|7.234580e-06|2.033257e-05\n",
      "   14|2.810460e+00|3.692276e-06|1.037699e-05\n",
      "   15|2.810452e+00|2.943378e-06|8.272222e-06\n",
      "   16|2.810446e+00|2.025494e-06|5.692542e-06\n",
      "   17|2.810443e+00|1.235047e-06|3.471029e-06\n",
      "   18|2.810441e+00|4.925601e-07|1.384311e-06\n",
      "   19|2.810441e+00|2.415529e-07|6.788700e-07\n",
      "   20|2.810441e+00|6.364369e-08|1.788668e-07\n",
      " 1000|2.810441e+00|0.000000e+00|0.000000e+00\n"
     ]
    },
    {
     "name": "stderr",
     "output_type": "stream",
     "text": [
      "  8%|▊         | 9/118 [38:21<7:58:41, 263.50s/it]/home/ylu/project/Benchmark_alignment_methods/notebooks/Macaque/../../scripts/methods/my_paste2.py:113: ImplicitModificationWarning: Setting element `.obsm['align_spatial']` of view, initializing view as actual.\n",
      "  m.obsm[key_added] = m.obsm[spatial_key]\n",
      "/home/ylu/project/Benchmark_alignment_methods/notebooks/Macaque/../../scripts/methods/my_paste2.py:113: ImplicitModificationWarning: Setting element `.obsm['align_spatial']` of view, initializing view as actual.\n",
      "  m.obsm[key_added] = m.obsm[spatial_key]\n"
     ]
    },
    {
     "name": "stdout",
     "output_type": "stream",
     "text": [
      "PASTE2 starts...\n",
      "It.  |Loss        |Relative loss|Absolute loss\n",
      "------------------------------------------------\n",
      "    0|3.000212e+00|0.000000e+00|0.000000e+00\n",
      "    1|2.702359e+00|1.102195e-01|2.978527e-01\n",
      "    2|2.681287e+00|7.859081e-03|2.107245e-02\n",
      "    3|2.654207e+00|1.020263e-02|2.707988e-02\n",
      "    4|2.647569e+00|2.507121e-03|6.637778e-03\n"
     ]
    }
   ],
   "source": [
    "## Perform the Spateo alignment\n",
    "from tqdm import tqdm\n",
    "import time\n",
    "sampling_num = 5000\n",
    "spatial_key = 'r_spatial'\n",
    "key_added = 'align_spatial'\n",
    "for i in tqdm(range(len(files)-1)):\n",
    "    slice1 = ad.read_h5ad(os.path.join(data_folder, files[i]))\n",
    "    slice2 = ad.read_h5ad(os.path.join(data_folder, files[i+1]))\n",
    "    slice1.obsm[spatial_key] = slice1.obsm[spatial_key].astype(np.float64)\n",
    "    slice2.obsm[spatial_key] = slice2.obsm[spatial_key].astype(np.float64)\n",
    "    slice1 = slice1[~np.isnan(slice1.obsm[spatial_key].sum(1))]\n",
    "    slice2 = slice2[~np.isnan(slice2.obsm[spatial_key].sum(1))]\n",
    "    sampline_idx1 = np.random.choice(slice1.shape[0], sampling_num, replace=False) if slice1.shape[0] > sampling_num else np.arange(slice1.shape[0])\n",
    "    sampline_idx2 = np.random.choice(slice2.shape[0], sampling_num, replace=False) if slice2.shape[0] > sampling_num else np.arange(slice2.shape[0])\n",
    "    slice1 = slice1[sampline_idx1,:]\n",
    "    slice2 = slice2[sampline_idx2,:]\n",
    "    top_genes_num = 5000\n",
    "    top_genes_1 = np.argsort(-slice1.X.sum(0)).A[0][:top_genes_num] if slice1.shape[1] > top_genes_num else np.arange(slice1.shape[1])\n",
    "    top_genes_2 = np.argsort(-slice2.X.sum(0)).A[0][:top_genes_num] if slice2.shape[1] > top_genes_num else np.arange(slice2.shape[1])\n",
    "    slice1 = slice1[:,top_genes_1]\n",
    "    slice2 = slice2[:,top_genes_2]\n",
    "    \n",
    "    time_start = time.time()\n",
    "    align_slices, pis = paste2_align(\n",
    "        models=[slice1, slice2],\n",
    "        spatial_key=spatial_key,\n",
    "        key_added=key_added,\n",
    "        verbose=True,\n",
    "        fixed_s=0.99,\n",
    "    )\n",
    "    # align_slices[1].uns['align_spatial_iter'] = morpho_model.iter_added\n",
    "    time_end = time.time()\n",
    "    matches = [np.arange(pis[0].shape[0]), np.argmax(pis[0], axis=1)]\n",
    "    R, t=solve_RT_by_correspondence(align_slices[1].obsm[key_added], align_slices[1].obsm[spatial_key])\n",
    "    alignment_results = {'sampling_idx1': sampline_idx1, 'sampline_idx2': sampline_idx2, 'R': R, 't': t, 'matches': matches, 'time': time_end - time_start}\n",
    "    np.save(os.path.join(results_folder, f\"slice_{i}_{i+1}_sampling_{sampling_num}.npy\"), alignment_results, allow_pickle=True)"
   ]
  },
  {
   "cell_type": "code",
   "execution_count": null,
   "id": "4d4bce49-e6f9-40da-8186-ac93595f278b",
   "metadata": {},
   "outputs": [
    {
     "name": "stderr",
     "output_type": "stream",
     "text": [
      "  0%|                                                                                                                                                                                                          | 0/18 [00:00<?, ?it/s]/home/ylu/project/Benchmark_alignment_methods/notebooks/OpenST/../../scripts/methods/my_paste2.py:113: ImplicitModificationWarning: Setting element `.obsm['aligned_spatial']` of view, initializing view as actual.\n",
      "  m.obsm[key_added] = m.obsm[spatial_key]\n"
     ]
    },
    {
     "name": "stdout",
     "output_type": "stream",
     "text": [
      "PASTE2 starts...\n",
      "It.  |Loss        |Relative loss|Absolute loss\n",
      "------------------------------------------------\n",
      "    0|1.502832e+00|0.000000e+00|0.000000e+00\n",
      "    1|1.329600e+00|1.302889e-01|1.732321e-01\n",
      "    2|1.326029e+00|2.693032e-03|3.571038e-03\n",
      "    3|1.325476e+00|4.170764e-04|5.528246e-04\n",
      "    4|1.325319e+00|1.186692e-04|1.572745e-04\n",
      "    5|1.325292e+00|2.027759e-05|2.687371e-05\n",
      "    6|1.325286e+00|4.572811e-06|6.060281e-06\n",
      "    7|1.325285e+00|6.798674e-07|9.010179e-07\n",
      "    8|1.325285e+00|6.175610e-08|8.184441e-08\n",
      "    9|1.325284e+00|1.912368e-07|2.534432e-07\n",
      "   10|1.325284e+00|9.912220e-08|1.313651e-07\n",
      " 1000|1.325284e+00|0.000000e+00|0.000000e+00\n"
     ]
    },
    {
     "name": "stderr",
     "output_type": "stream",
     "text": [
      "  6%|██████████▋                                                                                                                                                                                      | 1/18 [03:30<59:37, 210.43s/it]/home/ylu/project/Benchmark_alignment_methods/notebooks/OpenST/../../scripts/methods/my_paste2.py:113: ImplicitModificationWarning: Setting element `.obsm['aligned_spatial']` of view, initializing view as actual.\n",
      "  m.obsm[key_added] = m.obsm[spatial_key]\n"
     ]
    },
    {
     "name": "stdout",
     "output_type": "stream",
     "text": [
      "PASTE2 starts...\n",
      "It.  |Loss        |Relative loss|Absolute loss\n",
      "------------------------------------------------\n",
      "    0|1.560748e+00|0.000000e+00|0.000000e+00\n",
      "    1|1.384350e+00|1.274228e-01|1.763977e-01\n",
      "    2|1.380164e+00|3.033192e-03|4.186302e-03\n",
      "    3|1.379055e+00|8.042168e-04|1.109059e-03\n",
      "    4|1.378833e+00|1.608624e-04|2.218024e-04\n",
      "    5|1.378806e+00|1.968093e-05|2.713617e-05\n",
      "    6|1.378804e+00|1.216441e-06|1.677233e-06\n",
      "    7|1.378803e+00|3.666284e-07|5.055085e-07\n",
      " 1000|1.378803e+00|3.220831e-16|4.440892e-16\n"
     ]
    },
    {
     "name": "stderr",
     "output_type": "stream",
     "text": [
      " 11%|█████████████████████▍                                                                                                                                                                           | 2/18 [06:20<49:43, 186.45s/it]/home/ylu/project/Benchmark_alignment_methods/notebooks/OpenST/../../scripts/methods/my_paste2.py:113: ImplicitModificationWarning: Setting element `.obsm['aligned_spatial']` of view, initializing view as actual.\n",
      "  m.obsm[key_added] = m.obsm[spatial_key]\n"
     ]
    },
    {
     "name": "stdout",
     "output_type": "stream",
     "text": [
      "PASTE2 starts...\n",
      "It.  |Loss        |Relative loss|Absolute loss\n",
      "------------------------------------------------\n",
      "    0|1.621255e+00|0.000000e+00|0.000000e+00\n",
      "    1|1.442244e+00|1.241200e-01|1.790113e-01\n",
      "    2|1.437899e+00|3.021576e-03|4.344721e-03\n",
      "    3|1.437024e+00|6.085661e-04|8.745244e-04\n",
      "    4|1.436945e+00|5.509150e-05|7.916348e-05\n",
      "    5|1.436939e+00|4.386193e-06|6.302692e-06\n",
      "    6|1.436938e+00|7.897646e-07|1.134843e-06\n",
      "    7|1.436938e+00|7.249172e-08|1.041661e-07\n",
      " 1000|1.436938e+00|3.090525e-16|4.440892e-16\n"
     ]
    },
    {
     "name": "stderr",
     "output_type": "stream",
     "text": [
      " 17%|████████████████████████████████▏                                                                                                                                                                | 3/18 [09:08<44:31, 178.10s/it]/home/ylu/project/Benchmark_alignment_methods/notebooks/OpenST/../../scripts/methods/my_paste2.py:113: ImplicitModificationWarning: Setting element `.obsm['aligned_spatial']` of view, initializing view as actual.\n",
      "  m.obsm[key_added] = m.obsm[spatial_key]\n"
     ]
    },
    {
     "name": "stdout",
     "output_type": "stream",
     "text": [
      "PASTE2 starts...\n",
      "It.  |Loss        |Relative loss|Absolute loss\n",
      "------------------------------------------------\n",
      "    0|1.384162e+00|0.000000e+00|0.000000e+00\n",
      "    1|1.226805e+00|1.282656e-01|1.573570e-01\n",
      "    2|1.226102e+00|5.734487e-04|7.031068e-04\n",
      "    3|1.225997e+00|8.624762e-05|1.057393e-04\n",
      "    4|1.225915e+00|6.672532e-05|8.179956e-05\n",
      "    5|1.225736e+00|1.458752e-04|1.788044e-04\n",
      "    6|1.225428e+00|2.511290e-04|3.077406e-04\n",
      "    7|1.225069e+00|2.930415e-04|3.589961e-04\n",
      "    8|1.224853e+00|1.762484e-04|2.158785e-04\n"
     ]
    }
   ],
   "source": [
    "## Perform the Moscot alignment\n",
    "sampling_num = 5000\n",
    "for i in tqdm(range(len(slices)-1)):\n",
    "    slice1, slice2 = slices[i].copy(), slices[i+1].copy()\n",
    "    sampline_idx1 = np.random.choice(slice1.shape[0], sampling_num, replace=False) if slice1.shape[0] > sampling_num else np.arange(slice1.shape[0])\n",
    "    sampline_idx2 = np.random.choice(slice2.shape[0], sampling_num, replace=False) if slice2.shape[0] > sampling_num else np.arange(slice2.shape[0])\n",
    "    slice1 = slice1[sampline_idx1,:]\n",
    "    slice2 = slice2[sampline_idx2,:]\n",
    "    time_start = time.time()\n",
    "    align_slices, pis = paste2_align(\n",
    "        models=[slice1, slice2],\n",
    "        spatial_key=spatial_key,\n",
    "        key_added=key_added,\n",
    "        verbose=True,\n",
    "        fixed_s=0.99,\n",
    "    )\n",
    "    time_end = time.time()\n",
    "    matches = [np.arange(pis[0].shape[0]), np.argmax(pis[0], axis=1), np.sum(pis[0], axis=1)]\n",
    "    R, t=solve_RT_by_correspondence(align_slices[1].obsm[key_added], align_slices[1].obsm[spatial_key])\n",
    "    alignment_results = {'sampling_idx1': sampline_idx1, 'sampline_idx2': sampline_idx2, 'R': R, 't': t, 'matches': matches, 'time': time_end - time_start}\n",
    "    np.save(os.path.join(results_folder, f\"slice_{i}_{i+1}_sampling_{sampling_num}.npy\"), alignment_results, allow_pickle=True)"
   ]
  },
  {
   "cell_type": "code",
   "execution_count": null,
   "id": "ab0e97a4-3443-4be3-a253-9957d268123b",
   "metadata": {},
   "outputs": [],
   "source": []
  }
 ],
 "metadata": {
  "kernelspec": {
   "display_name": "GPSA",
   "language": "python",
   "name": "gpsa"
  },
  "language_info": {
   "codemirror_mode": {
    "name": "ipython",
    "version": 3
   },
   "file_extension": ".py",
   "mimetype": "text/x-python",
   "name": "python",
   "nbconvert_exporter": "python",
   "pygments_lexer": "ipython3",
   "version": "3.9.19"
  }
 },
 "nbformat": 4,
 "nbformat_minor": 5
}
