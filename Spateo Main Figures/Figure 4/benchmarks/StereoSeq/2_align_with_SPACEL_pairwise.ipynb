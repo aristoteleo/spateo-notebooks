{
 "cells": [
  {
   "cell_type": "code",
   "execution_count": 1,
   "id": "0908cd60-618c-42e7-9854-9713751acdda",
   "metadata": {
    "execution": {
     "iopub.execute_input": "2024-07-11T23:51:18.329263Z",
     "iopub.status.busy": "2024-07-11T23:51:18.328938Z",
     "iopub.status.idle": "2024-07-11T23:51:20.912597Z",
     "shell.execute_reply": "2024-07-11T23:51:20.911795Z",
     "shell.execute_reply.started": "2024-07-11T23:51:18.329237Z"
    }
   },
   "outputs": [
    {
     "name": "stderr",
     "output_type": "stream",
     "text": [
      "/home/ylu/anaconda3/envs/SPACEL/lib/python3.8/site-packages/tqdm/auto.py:21: TqdmWarning: IProgress not found. Please update jupyter and ipywidgets. See https://ipywidgets.readthedocs.io/en/stable/user_install.html\n",
      "  from .autonotebook import tqdm as notebook_tqdm\n"
     ]
    }
   ],
   "source": [
    "import os\n",
    "os.environ['CUDA_VISIBLE_DEVICES'] = '0'\n",
    "import sys\n",
    "from pathlib import Path\n",
    "import anndata as ad\n",
    "import scanpy as sc\n",
    "import numpy as np\n",
    "import warnings\n",
    "warnings.simplefilter(action='ignore', category=FutureWarning)\n",
    "import seaborn as sns\n",
    "from matplotlib import pyplot as plt\n",
    "\n",
    "sys.path.insert(0, \"/home/ylu/project\")\n",
    "from utils import *\n",
    "import time\n",
    "\n",
    "%load_ext autoreload\n",
    "%autoreload 2"
   ]
  },
  {
   "cell_type": "code",
   "execution_count": 2,
   "id": "c3bebab7-7b27-4563-b7b8-168fa5f7b483",
   "metadata": {
    "execution": {
     "iopub.execute_input": "2024-07-11T23:51:20.914960Z",
     "iopub.status.busy": "2024-07-11T23:51:20.914034Z",
     "iopub.status.idle": "2024-07-11T23:51:23.968409Z",
     "shell.execute_reply": "2024-07-11T23:51:23.967483Z",
     "shell.execute_reply.started": "2024-07-11T23:51:20.914931Z"
    }
   },
   "outputs": [],
   "source": [
    "import SPACEL\n",
    "from SPACEL import Scube, Splane"
   ]
  },
  {
   "cell_type": "code",
   "execution_count": 3,
   "id": "75b92b9d-7437-4d31-b4dd-a7a05a52e0c5",
   "metadata": {
    "execution": {
     "iopub.execute_input": "2024-07-11T23:51:23.975626Z",
     "iopub.status.busy": "2024-07-11T23:51:23.975229Z",
     "iopub.status.idle": "2024-07-11T23:51:24.013551Z",
     "shell.execute_reply": "2024-07-11T23:51:24.012800Z",
     "shell.execute_reply.started": "2024-07-11T23:51:23.975603Z"
    }
   },
   "outputs": [],
   "source": [
    "order = [\n",
    "    155, 153,151,149,147,144,142,140, 138, 143,141,139, 137,135,133,130,131,\n",
    "129,127,125,123,121,119,117,115,113,111,109,107,105,103, 101, 99, 97, 95, 93,\n",
    "91,89,87,85,81,83,79,77,75,73,71,67,65,63,61,59,57,55,53,51,49,47,45,43,41,39,\n",
    "37,33,31,29,27,25,28,30,32,34,36,38,40,42,44,48,50,52,54,56,58,60,62,\n",
    "    64,66,68,72,74,76,78,80,82,84,88,90,92,94,96,98,100,102,104,106,108,\n",
    "    110,112,114,116,118,120,122,124,136,134,132,128,126\n",
    "]\n",
    "data_folder = \"/dm7100f/yifan/StereoSeq_macaque_processed\"\n",
    "files = [f'macaque_T{o}.h5ad' for o in order]"
   ]
  },
  {
   "cell_type": "code",
   "execution_count": 4,
   "id": "e7b47bc4-0453-474d-a39f-aa14ed636caa",
   "metadata": {
    "execution": {
     "iopub.execute_input": "2024-07-11T23:51:24.014923Z",
     "iopub.status.busy": "2024-07-11T23:51:24.014412Z",
     "iopub.status.idle": "2024-07-11T23:51:24.048496Z",
     "shell.execute_reply": "2024-07-11T23:51:24.047805Z",
     "shell.execute_reply.started": "2024-07-11T23:51:24.014901Z"
    }
   },
   "outputs": [],
   "source": [
    "# data_folder = \"./results/split_data/\"\n",
    "results_folder = \"./results/SPACEL/\"\n",
    "cache_folder = os.path.join(results_folder, 'Scube_outputs')\n",
    "figures_folder = \"./results/figures/SPACEL\"\n",
    "Path(results_folder).mkdir(parents=True, exist_ok=True)\n",
    "Path(cache_folder).mkdir(parents=True, exist_ok=True)"
   ]
  },
  {
   "cell_type": "code",
   "execution_count": 5,
   "id": "b4efea6c-1613-42bb-99be-4ffaf217fa47",
   "metadata": {
    "execution": {
     "iopub.execute_input": "2024-07-11T23:51:24.049759Z",
     "iopub.status.busy": "2024-07-11T23:51:24.049447Z",
     "iopub.status.idle": "2024-07-12T02:30:51.608584Z",
     "shell.execute_reply": "2024-07-12T02:30:51.607812Z",
     "shell.execute_reply.started": "2024-07-11T23:51:24.049738Z"
    }
   },
   "outputs": [
    {
     "name": "stderr",
     "output_type": "stream",
     "text": [
      "  0%|                                     | 0/41 [00:00<?, ?it/s]"
     ]
    },
    {
     "name": "stdout",
     "output_type": "stream",
     "text": [
      "Start alignment...\n",
      "Alignment slice 1 to 0\n",
      "Runtime: 212.70057034492493 s\n"
     ]
    },
    {
     "name": "stderr",
     "output_type": "stream",
     "text": [
      "  2%|▋                         | 1/41 [03:45<2:30:28, 225.71s/it]"
     ]
    },
    {
     "name": "stdout",
     "output_type": "stream",
     "text": [
      "Start alignment...\n",
      "Alignment slice 1 to 0\n",
      "Runtime: 213.38423466682434 s\n"
     ]
    },
    {
     "name": "stderr",
     "output_type": "stream",
     "text": [
      "  5%|█▎                        | 2/41 [07:34<2:27:44, 227.31s/it]"
     ]
    },
    {
     "name": "stdout",
     "output_type": "stream",
     "text": [
      "Start alignment...\n",
      "Alignment slice 1 to 0\n",
      "Runtime: 248.3391969203949 s\n"
     ]
    },
    {
     "name": "stderr",
     "output_type": "stream",
     "text": [
      "  7%|█▉                        | 3/41 [11:52<2:32:59, 241.56s/it]"
     ]
    },
    {
     "name": "stdout",
     "output_type": "stream",
     "text": [
      "Start alignment...\n",
      "Alignment slice 1 to 0\n",
      "Runtime: 197.87441039085388 s\n"
     ]
    },
    {
     "name": "stderr",
     "output_type": "stream",
     "text": [
      " 10%|██▌                       | 4/41 [15:19<2:20:29, 227.82s/it]"
     ]
    },
    {
     "name": "stdout",
     "output_type": "stream",
     "text": [
      "Start alignment...\n",
      "Alignment slice 1 to 0\n",
      "Runtime: 320.689679145813 s\n"
     ]
    },
    {
     "name": "stderr",
     "output_type": "stream",
     "text": [
      " 12%|███▏                      | 5/41 [20:51<2:39:09, 265.27s/it]"
     ]
    },
    {
     "name": "stdout",
     "output_type": "stream",
     "text": [
      "Start alignment...\n",
      "Alignment slice 1 to 0\n",
      "Runtime: 310.0043821334839 s\n"
     ]
    },
    {
     "name": "stderr",
     "output_type": "stream",
     "text": [
      " 15%|███▊                      | 6/41 [26:08<2:45:09, 283.13s/it]"
     ]
    },
    {
     "name": "stdout",
     "output_type": "stream",
     "text": [
      "Start alignment...\n",
      "Alignment slice 1 to 0\n",
      "Runtime: 265.7498109340668 s\n"
     ]
    },
    {
     "name": "stderr",
     "output_type": "stream",
     "text": [
      " 17%|████▍                     | 7/41 [30:40<2:38:21, 279.45s/it]"
     ]
    },
    {
     "name": "stdout",
     "output_type": "stream",
     "text": [
      "Start alignment...\n",
      "Alignment slice 1 to 0\n",
      "Runtime: 231.639018535614 s\n"
     ]
    },
    {
     "name": "stderr",
     "output_type": "stream",
     "text": [
      " 20%|█████                     | 8/41 [34:41<2:26:54, 267.10s/it]"
     ]
    },
    {
     "name": "stdout",
     "output_type": "stream",
     "text": [
      "Start alignment...\n",
      "Alignment slice 1 to 0\n",
      "Runtime: 243.175443649292 s\n"
     ]
    },
    {
     "name": "stderr",
     "output_type": "stream",
     "text": [
      " 22%|█████▋                    | 9/41 [38:56<2:20:24, 263.27s/it]"
     ]
    },
    {
     "name": "stdout",
     "output_type": "stream",
     "text": [
      "Start alignment...\n",
      "Alignment slice 1 to 0\n",
      "Runtime: 266.5056471824646 s\n"
     ]
    },
    {
     "name": "stderr",
     "output_type": "stream",
     "text": [
      " 24%|██████                   | 10/41 [43:37<2:18:52, 268.78s/it]"
     ]
    },
    {
     "name": "stdout",
     "output_type": "stream",
     "text": [
      "Start alignment...\n",
      "Alignment slice 1 to 0\n",
      "Runtime: 232.02914547920227 s\n"
     ]
    },
    {
     "name": "stderr",
     "output_type": "stream",
     "text": [
      " 27%|██████▋                  | 11/41 [47:44<2:11:03, 262.10s/it]"
     ]
    },
    {
     "name": "stdout",
     "output_type": "stream",
     "text": [
      "Start alignment...\n",
      "Alignment slice 1 to 0\n",
      "Runtime: 210.2955400943756 s\n"
     ]
    },
    {
     "name": "stderr",
     "output_type": "stream",
     "text": [
      " 29%|███████▎                 | 12/41 [51:22<2:00:10, 248.65s/it]"
     ]
    },
    {
     "name": "stdout",
     "output_type": "stream",
     "text": [
      "Start alignment...\n",
      "Alignment slice 1 to 0\n",
      "Runtime: 224.4325873851776 s\n"
     ]
    },
    {
     "name": "stderr",
     "output_type": "stream",
     "text": [
      " 32%|███████▉                 | 13/41 [55:12<1:53:28, 243.18s/it]"
     ]
    },
    {
     "name": "stdout",
     "output_type": "stream",
     "text": [
      "Start alignment...\n",
      "Alignment slice 1 to 0\n",
      "Runtime: 276.21523356437683 s\n"
     ]
    },
    {
     "name": "stderr",
     "output_type": "stream",
     "text": [
      " 34%|████████▌                | 14/41 [59:57<1:55:02, 255.65s/it]"
     ]
    },
    {
     "name": "stdout",
     "output_type": "stream",
     "text": [
      "Start alignment...\n",
      "Alignment slice 1 to 0\n",
      "Runtime: 297.0884335041046 s\n"
     ]
    },
    {
     "name": "stderr",
     "output_type": "stream",
     "text": [
      " 37%|████████▍              | 15/41 [1:05:04<1:57:32, 271.24s/it]"
     ]
    },
    {
     "name": "stdout",
     "output_type": "stream",
     "text": [
      "Start alignment...\n",
      "Alignment slice 1 to 0\n",
      "Runtime: 273.52238965034485 s\n"
     ]
    },
    {
     "name": "stderr",
     "output_type": "stream",
     "text": [
      " 39%|████████▉              | 16/41 [1:09:48<1:54:34, 274.96s/it]"
     ]
    },
    {
     "name": "stdout",
     "output_type": "stream",
     "text": [
      "Start alignment...\n",
      "Alignment slice 1 to 0\n",
      "Runtime: 212.4164650440216 s\n"
     ]
    },
    {
     "name": "stderr",
     "output_type": "stream",
     "text": [
      " 41%|█████████▌             | 17/41 [1:13:29<1:43:30, 258.76s/it]"
     ]
    },
    {
     "name": "stdout",
     "output_type": "stream",
     "text": [
      "Start alignment...\n",
      "Alignment slice 1 to 0\n",
      "Runtime: 248.01462483406067 s\n"
     ]
    },
    {
     "name": "stderr",
     "output_type": "stream",
     "text": [
      " 44%|██████████             | 18/41 [1:17:42<1:38:32, 257.04s/it]"
     ]
    },
    {
     "name": "stdout",
     "output_type": "stream",
     "text": [
      "Start alignment...\n",
      "Alignment slice 1 to 0\n",
      "Runtime: 274.54117918014526 s\n"
     ]
    },
    {
     "name": "stderr",
     "output_type": "stream",
     "text": [
      " 46%|██████████▋            | 19/41 [1:22:23<1:36:54, 264.30s/it]"
     ]
    },
    {
     "name": "stdout",
     "output_type": "stream",
     "text": [
      "Start alignment...\n",
      "Alignment slice 1 to 0\n",
      "Runtime: 232.60392355918884 s\n"
     ]
    },
    {
     "name": "stderr",
     "output_type": "stream",
     "text": [
      " 49%|███████████▏           | 20/41 [1:26:25<1:30:08, 257.57s/it]"
     ]
    },
    {
     "name": "stdout",
     "output_type": "stream",
     "text": [
      "Start alignment...\n",
      "Alignment slice 1 to 0\n",
      "Runtime: 255.7582528591156 s\n"
     ]
    },
    {
     "name": "stderr",
     "output_type": "stream",
     "text": [
      " 51%|███████████▊           | 21/41 [1:30:45<1:26:08, 258.44s/it]"
     ]
    },
    {
     "name": "stdout",
     "output_type": "stream",
     "text": [
      "Start alignment...\n",
      "Alignment slice 1 to 0\n",
      "Runtime: 220.11352014541626 s\n"
     ]
    },
    {
     "name": "stderr",
     "output_type": "stream",
     "text": [
      " 54%|████████████▎          | 22/41 [1:34:31<1:18:44, 248.68s/it]"
     ]
    },
    {
     "name": "stdout",
     "output_type": "stream",
     "text": [
      "Start alignment...\n",
      "Alignment slice 1 to 0\n",
      "Runtime: 205.37422513961792 s\n"
     ]
    },
    {
     "name": "stderr",
     "output_type": "stream",
     "text": [
      " 56%|████████████▉          | 23/41 [1:38:06<1:11:34, 238.59s/it]"
     ]
    },
    {
     "name": "stdout",
     "output_type": "stream",
     "text": [
      "Start alignment...\n",
      "Alignment slice 1 to 0\n",
      "Runtime: 219.77072262763977 s\n"
     ]
    },
    {
     "name": "stderr",
     "output_type": "stream",
     "text": [
      " 59%|█████████████▍         | 24/41 [1:41:56<1:06:48, 235.78s/it]"
     ]
    },
    {
     "name": "stdout",
     "output_type": "stream",
     "text": [
      "Start alignment...\n",
      "Alignment slice 1 to 0\n",
      "Runtime: 225.11470675468445 s\n"
     ]
    },
    {
     "name": "stderr",
     "output_type": "stream",
     "text": [
      " 61%|██████████████         | 25/41 [1:45:46<1:02:27, 234.20s/it]"
     ]
    },
    {
     "name": "stdout",
     "output_type": "stream",
     "text": [
      "Start alignment...\n",
      "Alignment slice 1 to 0\n",
      "Runtime: 237.47271466255188 s\n"
     ]
    },
    {
     "name": "stderr",
     "output_type": "stream",
     "text": [
      " 63%|███████████████▊         | 26/41 [1:49:50<59:15, 237.05s/it]"
     ]
    },
    {
     "name": "stdout",
     "output_type": "stream",
     "text": [
      "Start alignment...\n",
      "Alignment slice 1 to 0\n",
      "Runtime: 227.59479188919067 s\n"
     ]
    },
    {
     "name": "stderr",
     "output_type": "stream",
     "text": [
      " 66%|████████████████▍        | 27/41 [1:53:48<55:21, 237.24s/it]"
     ]
    },
    {
     "name": "stdout",
     "output_type": "stream",
     "text": [
      "Start alignment...\n",
      "Alignment slice 1 to 0\n",
      "Runtime: 172.80617451667786 s\n"
     ]
    },
    {
     "name": "stderr",
     "output_type": "stream",
     "text": [
      " 68%|█████████████████        | 28/41 [1:56:47<47:37, 219.80s/it]"
     ]
    },
    {
     "name": "stdout",
     "output_type": "stream",
     "text": [
      "Start alignment...\n",
      "Alignment slice 1 to 0\n",
      "Runtime: 232.17600345611572 s\n"
     ]
    },
    {
     "name": "stderr",
     "output_type": "stream",
     "text": [
      " 71%|█████████████████▋       | 29/41 [2:00:47<45:09, 225.82s/it]"
     ]
    },
    {
     "name": "stdout",
     "output_type": "stream",
     "text": [
      "Start alignment...\n",
      "Alignment slice 1 to 0\n",
      "Runtime: 207.52629613876343 s\n"
     ]
    },
    {
     "name": "stderr",
     "output_type": "stream",
     "text": [
      " 73%|██████████████████▎      | 30/41 [2:04:25<40:58, 223.54s/it]"
     ]
    },
    {
     "name": "stdout",
     "output_type": "stream",
     "text": [
      "Start alignment...\n",
      "Alignment slice 1 to 0\n",
      "Runtime: 221.56147289276123 s\n"
     ]
    },
    {
     "name": "stderr",
     "output_type": "stream",
     "text": [
      " 76%|██████████████████▉      | 31/41 [2:08:17<37:41, 226.16s/it]"
     ]
    },
    {
     "name": "stdout",
     "output_type": "stream",
     "text": [
      "Start alignment...\n",
      "Alignment slice 1 to 0\n",
      "Runtime: 180.50077891349792 s\n"
     ]
    },
    {
     "name": "stderr",
     "output_type": "stream",
     "text": [
      " 78%|███████████████████▌     | 32/41 [2:11:25<32:12, 214.73s/it]"
     ]
    },
    {
     "name": "stdout",
     "output_type": "stream",
     "text": [
      "Start alignment...\n",
      "Alignment slice 1 to 0\n",
      "Runtime: 183.1754264831543 s\n"
     ]
    },
    {
     "name": "stderr",
     "output_type": "stream",
     "text": [
      " 80%|████████████████████     | 33/41 [2:14:37<27:42, 207.82s/it]"
     ]
    },
    {
     "name": "stdout",
     "output_type": "stream",
     "text": [
      "Start alignment...\n",
      "Alignment slice 1 to 0\n",
      "Runtime: 200.37601566314697 s\n"
     ]
    },
    {
     "name": "stderr",
     "output_type": "stream",
     "text": [
      " 83%|████████████████████▋    | 34/41 [2:18:05<24:16, 208.04s/it]"
     ]
    },
    {
     "name": "stdout",
     "output_type": "stream",
     "text": [
      "Start alignment...\n",
      "Alignment slice 1 to 0\n",
      "Runtime: 162.59843587875366 s\n"
     ]
    },
    {
     "name": "stderr",
     "output_type": "stream",
     "text": [
      " 85%|█████████████████████▎   | 35/41 [2:20:56<19:41, 196.88s/it]"
     ]
    },
    {
     "name": "stdout",
     "output_type": "stream",
     "text": [
      "Start alignment...\n",
      "Alignment slice 1 to 0\n",
      "Runtime: 160.9237949848175 s\n"
     ]
    },
    {
     "name": "stderr",
     "output_type": "stream",
     "text": [
      " 88%|█████████████████████▉   | 36/41 [2:23:47<15:45, 189.11s/it]"
     ]
    },
    {
     "name": "stdout",
     "output_type": "stream",
     "text": [
      "Start alignment...\n",
      "Alignment slice 1 to 0\n",
      "Runtime: 175.74193930625916 s\n"
     ]
    },
    {
     "name": "stderr",
     "output_type": "stream",
     "text": [
      " 90%|██████████████████████▌  | 37/41 [2:26:51<12:29, 187.46s/it]"
     ]
    },
    {
     "name": "stdout",
     "output_type": "stream",
     "text": [
      "Start alignment...\n",
      "Alignment slice 1 to 0\n",
      "Runtime: 165.65938138961792 s\n"
     ]
    },
    {
     "name": "stderr",
     "output_type": "stream",
     "text": [
      " 93%|███████████████████████▏ | 38/41 [2:29:44<09:09, 183.15s/it]"
     ]
    },
    {
     "name": "stdout",
     "output_type": "stream",
     "text": [
      "Start alignment...\n",
      "Alignment slice 1 to 0\n",
      "Runtime: 190.38309812545776 s\n"
     ]
    },
    {
     "name": "stderr",
     "output_type": "stream",
     "text": [
      " 95%|███████████████████████▊ | 39/41 [2:33:02<06:15, 187.53s/it]"
     ]
    },
    {
     "name": "stdout",
     "output_type": "stream",
     "text": [
      "Start alignment...\n",
      "Alignment slice 1 to 0\n",
      "Runtime: 182.0645558834076 s\n"
     ]
    },
    {
     "name": "stderr",
     "output_type": "stream",
     "text": [
      " 98%|████████████████████████▍| 40/41 [2:36:08<03:07, 187.29s/it]"
     ]
    },
    {
     "name": "stdout",
     "output_type": "stream",
     "text": [
      "Start alignment...\n",
      "Alignment slice 1 to 0\n",
      "Runtime: 196.85711240768433 s\n"
     ]
    },
    {
     "name": "stderr",
     "output_type": "stream",
     "text": [
      "100%|█████████████████████████| 41/41 [2:39:27<00:00, 233.35s/it]\n"
     ]
    }
   ],
   "source": [
    "## Perform the Spateo alignment\n",
    "from tqdm import tqdm\n",
    "import time\n",
    "sampling_num = 20000\n",
    "spatial_key = 'r_spatial'\n",
    "key_added = 'align_spatial'\n",
    "anno_key = 'SubClass'\n",
    "for i in tqdm(range(len(files)-1)):\n",
    "    slice1 = ad.read_h5ad(os.path.join(data_folder, files[i]))\n",
    "    slice2 = ad.read_h5ad(os.path.join(data_folder, files[i+1]))\n",
    "    slice1.obsm[spatial_key] = slice1.obsm[spatial_key].astype(np.float64)\n",
    "    slice2.obsm[spatial_key] = slice2.obsm[spatial_key].astype(np.float64)\n",
    "    inliers1 = np.isnan(slice1.obsm[spatial_key].sum(1)) | (slice1.obs[anno_key].values.astype(str) == 'nan')\n",
    "    inliers2 = np.isnan(slice2.obsm[spatial_key].sum(1)) | (slice2.obs[anno_key].values.astype(str) == 'nan')\n",
    "    slice1 = slice1[~inliers1]\n",
    "    slice2 = slice2[~inliers2]\n",
    "    sampline_idx1 = np.random.choice(slice1.shape[0], sampling_num, replace=False) if slice1.shape[0] > sampling_num else np.arange(slice1.shape[0])\n",
    "    sampline_idx2 = np.random.choice(slice2.shape[0], sampling_num, replace=False) if slice2.shape[0] > sampling_num else np.arange(slice2.shape[0])\n",
    "    slice1 = slice1[sampline_idx1,:]\n",
    "    slice2 = slice2[sampline_idx2,:]\n",
    "\n",
    "    slice1.obsm['spatial_2D'] = slice1.obsm[spatial_key].copy()\n",
    "    slice2.obsm['spatial_2D'] = slice2.obsm[spatial_key].copy()\n",
    "    slice1.obsm['spatial'] = slice1.obsm[spatial_key].copy()\n",
    "    slice2.obsm['spatial'] = slice2.obsm[spatial_key].copy()\n",
    "    align_slices = [slice1, slice2]\n",
    "    time_start = time.time()\n",
    "    Scube.align(\n",
    "        align_slices,\n",
    "        cluster_key=anno_key, \n",
    "        n_neighbors = 15, \n",
    "        n_threads=10,\n",
    "        p=2,\n",
    "        write_loc_path=os.path.join(results_folder, 'Scube_outputs/aligned_coordinates.csv')\n",
    "    )\n",
    "    align_slices[0].obsm[key_added] = align_slices[0].obsm['spatial_aligned'].values\n",
    "    align_slices[1].obsm[key_added] = align_slices[1].obsm['spatial_aligned'].values\n",
    "    # align_slices[1].uns['align_spatial_iter'] = morpho_model.iter_added\n",
    "    time_end = time.time()\n",
    "    R1, t1=solve_RT_by_correspondence(align_slices[1].obsm[key_added], align_slices[1].obsm[spatial_key])\n",
    "    R2, t2=solve_RT_by_correspondence(align_slices[0].obsm[spatial_key], align_slices[0].obsm[key_added])\n",
    "    t = t1 @ R2.T + t2\n",
    "    R = R2 @ R1\n",
    "    alignment_results = {'R': R, 't': t, 'time': time_end - time_start}\n",
    "    np.save(os.path.join(results_folder, f\"slice_{i}_{i+1}_sampling_{sampling_num}.npy\"), alignment_results, allow_pickle=True)"
   ]
  },
  {
   "cell_type": "code",
   "execution_count": null,
   "id": "4d4bce49-e6f9-40da-8186-ac93595f278b",
   "metadata": {},
   "outputs": [
    {
     "name": "stderr",
     "output_type": "stream",
     "text": [
      "  0%|                                                                                                                                                                                                          | 0/18 [00:00<?, ?it/s]"
     ]
    },
    {
     "name": "stdout",
     "output_type": "stream",
     "text": [
      "Start alignment...\n",
      "Alignment slice 1 to 0\n",
      "Runtime: 238.14924597740173 s\n"
     ]
    },
    {
     "name": "stderr",
     "output_type": "stream",
     "text": [
      "  6%|██████████▌                                                                                                                                                                                    | 1/18 [03:59<1:07:55, 239.75s/it]"
     ]
    },
    {
     "name": "stdout",
     "output_type": "stream",
     "text": [
      "Start alignment...\n",
      "Alignment slice 1 to 0\n",
      "Runtime: 241.6222219467163 s\n"
     ]
    },
    {
     "name": "stderr",
     "output_type": "stream",
     "text": [
      " 11%|█████████████████████▏                                                                                                                                                                         | 2/18 [08:03<1:04:33, 242.12s/it]"
     ]
    },
    {
     "name": "stdout",
     "output_type": "stream",
     "text": [
      "Start alignment...\n",
      "Alignment slice 1 to 0\n"
     ]
    }
   ],
   "source": [
    "## Perform the SPACEL with provided annotation alignment\n",
    "sampling_num = 20000\n",
    "for i in tqdm(range(len(slices)-1)):\n",
    "    slice1, slice2 = slices[i].copy(), slices[i+1].copy()\n",
    "    sampline_idx1 = np.random.choice(slice1.shape[0], sampling_num, replace=False) if slice1.shape[0] > sampling_num else np.arange(slice1.shape[0])\n",
    "    sampline_idx2 = np.random.choice(slice2.shape[0], sampling_num, replace=False) if slice2.shape[0] > sampling_num else np.arange(slice2.shape[0])\n",
    "    slice1 = slice1[sampline_idx1,:]\n",
    "    slice2 = slice2[sampline_idx2,:]\n",
    "    slice1.obsm['spatial_2D'] = slice1.obsm[spatial_key]\n",
    "    slice2.obsm['spatial_2D'] = slice2.obsm[spatial_key]\n",
    "    slice1.obsm['spatial'] = slice1.obsm[spatial_key]\n",
    "    slice2.obsm['spatial'] = slice2.obsm[spatial_key]\n",
    "    align_slices = [slice1, slice2]\n",
    "    time_start = time.time()\n",
    "    Scube.align(\n",
    "        align_slices,\n",
    "        cluster_key=anno_key, \n",
    "        n_neighbors = 15, \n",
    "        n_threads=10,\n",
    "        p=2,\n",
    "        write_loc_path=os.path.join(results_folder, 'Scube_outputs/aligned_coordinates.csv')\n",
    "    )\n",
    "    align_slices[0].obsm[key_added] = align_slices[0].obsm['spatial_aligned'].values\n",
    "    align_slices[1].obsm[key_added] = align_slices[1].obsm['spatial_aligned'].values\n",
    "    time_end = time.time()\n",
    "    \n",
    "    R1, t1=solve_RT_by_correspondence(align_slices[1].obsm[key_added], align_slices[1].obsm[spatial_key])\n",
    "    R2, t2=solve_RT_by_correspondence(align_slices[0].obsm[spatial_key], align_slices[0].obsm[key_added])\n",
    "    t = t1 @ R2.T + t2\n",
    "    R = R2 @ R1\n",
    "    alignment_results = {'R': R, 't': t, 'time': time_end - time_start}\n",
    "    np.save(os.path.join(results_folder, f\"slice_{i}_{i+1}_sampling_{sampling_num}.npy\"), alignment_results, allow_pickle=True)"
   ]
  },
  {
   "cell_type": "code",
   "execution_count": null,
   "id": "ab0e97a4-3443-4be3-a253-9957d268123b",
   "metadata": {},
   "outputs": [],
   "source": []
  }
 ],
 "metadata": {
  "kernelspec": {
   "display_name": "SPACEL",
   "language": "python",
   "name": "spacel"
  },
  "language_info": {
   "codemirror_mode": {
    "name": "ipython",
    "version": 3
   },
   "file_extension": ".py",
   "mimetype": "text/x-python",
   "name": "python",
   "nbconvert_exporter": "python",
   "pygments_lexer": "ipython3",
   "version": "3.8.19"
  }
 },
 "nbformat": 4,
 "nbformat_minor": 5
}
