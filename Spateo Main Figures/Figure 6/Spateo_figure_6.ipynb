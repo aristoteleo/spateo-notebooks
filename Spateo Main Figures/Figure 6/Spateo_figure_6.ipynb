{
 "cells": [
  {
   "cell_type": "markdown",
   "id": "2c233cad-52d5-4421-8a25-32f5cb35c364",
   "metadata": {
    "pycharm": {
     "name": "#%% md\n"
    }
   },
   "source": [
    "## Notebook containing code used for manuscript figure 6"
   ]
  },
  {
   "cell_type": "code",
   "execution_count": null,
   "id": "433b08eb-9e79-4366-ae8c-2697deafe99a",
   "metadata": {
    "pycharm": {
     "name": "#%%\n"
    },
    "tags": []
   },
   "outputs": [],
   "source": [
    "import anndata\n",
    "import matplotlib.pyplot as plt\n",
    "import numpy as np\n",
    "import pandas as pd\n",
    "import dynamo as dyn\n",
    "import spateo as st\n",
    "import os\n",
    "import seaborn as sns\n",
    "import sys\n",
    "from tqdm import tqdm\n",
    "\n",
    "from scipy.spatial import KDTree"
   ]
  },
  {
   "cell_type": "code",
   "execution_count": null,
   "id": "664055be-cf19-4020-8481-55e78819b0be",
   "metadata": {
    "pycharm": {
     "name": "#%%\n"
    },
    "tags": []
   },
   "outputs": [],
   "source": [
    "%config InlineBackend.print_figure_kwargs={'dpi': 300.0}"
   ]
  },
  {
   "cell_type": "markdown",
   "id": "2b2d71d0",
   "metadata": {
    "collapsed": false,
    "jupyter": {
     "outputs_hidden": false
    },
    "pycharm": {
     "name": "#%% md\n"
    }
   },
   "source": [
    "## Resources used here can be found: https://www.dropbox.com/scl/fo/7wqqasdedsz4vocytbfl1/AO9H5ArH1ArQvwL9hy3CUDg?rlkey=mr77qbw1apxzdm5mlt7wf7f0j&st=qz9yk66j&dl=0\n",
    "## Database files used here can be found: https://www.dropbox.com/scl/fo/dcd95so9zhkb8lnjkkxep/ANwmkFeb-sgtS89leHQezlU?rlkey=saiul4j5rr1vt6lwjl4hirmwh&st=brpjqw2c&dl=0\n",
    "\n",
    "### Make sure to change each file path to the relevant local folder"
   ]
  },
  {
   "cell_type": "markdown",
   "id": "6428bcb8-4aa8-46e8-bf24-8ed513a9d47f",
   "metadata": {
    "pycharm": {
     "name": "#%% md\n"
    }
   },
   "source": [
    "### Load AnnData for ZLI flanking subset and diencephalic ring subset"
   ]
  },
  {
   "cell_type": "code",
   "execution_count": null,
   "id": "f6037802-03ac-46ce-9318-07fe24642a95",
   "metadata": {
    "pycharm": {
     "name": "#%%\n"
    },
    "tags": []
   },
   "outputs": [],
   "source": [
    "# Replace with wherever the object is stored locally\n",
    "path_to_zli = \"/mnt/d/SCData/Spateo_data/Spateo_E11.5_embryo_ZLI/E11.5_ZLI_final.h5ad\"\n",
    "path_to_dien_ring = \"/mnt/d/SCData/Spateo_data/Spateo_E11.5_embryo_ZLI/E11.5_diencephalic_ring_final.h5ad\"\n",
    "# Replace with wherever the L:R database is stored locally\n",
    "lr_db = pd.read_csv(\"/mnt/c/Users/danie/Desktop/Github/Github/spateo-release-main/spateo/tools/database/lr_db_mouse.csv\", index_col=0)"
   ]
  },
  {
   "cell_type": "code",
   "execution_count": null,
   "id": "9d381821-f9d4-4c12-b1b6-530cb0ceb710",
   "metadata": {
    "pycharm": {
     "name": "#%%\n"
    },
    "tags": []
   },
   "outputs": [],
   "source": [
    "e115_zli = anndata.read_h5ad(path_to_zli)\n",
    "e115_zli.uns[\"__type\"] = \"UMI\""
   ]
  },
  {
   "cell_type": "code",
   "execution_count": null,
   "id": "cc14e78a-d7c8-43a0-8ab0-49d140fd058f",
   "metadata": {
    "pycharm": {
     "name": "#%%\n"
    },
    "tags": []
   },
   "outputs": [],
   "source": [
    "e115_zli.write_h5ad(path_to_zli)"
   ]
  },
  {
   "cell_type": "code",
   "execution_count": null,
   "id": "2bdc2377-6a75-4f7a-aceb-680c29de762b",
   "metadata": {
    "pycharm": {
     "name": "#%%\n"
    },
    "tags": []
   },
   "outputs": [],
   "source": [
    "e115_dien_ring = anndata.read_h5ad(path_to_dien_ring)\n",
    "e115_dien_ring.uns[\"__type\"] = \"UMI\""
   ]
  },
  {
   "cell_type": "markdown",
   "id": "f52d23ef-cc15-4377-9965-bb68da13142d",
   "metadata": {
    "pycharm": {
     "name": "#%% md\n"
    }
   },
   "source": [
    "### Figure 6a ZLI and others plot"
   ]
  },
  {
   "cell_type": "code",
   "execution_count": null,
   "id": "5466dc45-9672-42ba-b75e-14d2d3ff105b",
   "metadata": {
    "pycharm": {
     "name": "#%%\n"
    }
   },
   "outputs": [],
   "source": [
    "e115_zli.obs[\"zli_and_others\"] = e115_zli.obs[\"mapped_celltype\"].copy()\n",
    "mask = e115_zli.obs[\"mapped_celltype\"] != \"Zona limitans intrathalamica\"\n",
    "e115_zli.obs[mask, \"zli_and_others\"] = \"Other\""
   ]
  },
  {
   "cell_type": "code",
   "execution_count": null,
   "id": "db0e7397-4350-48a2-bcad-eda70262ef7f",
   "metadata": {
    "pycharm": {
     "name": "#%%\n"
    }
   },
   "outputs": [],
   "source": [
    "e115_dien_ring.obs[\"zli_and_others\"] = e115_dien_ring.obs[\"mapped_celltype\"].copy()\n",
    "mask = e115_dien_ring.obs[\"mapped_celltype\"] != \"Zona limitans intrathalamica\"\n",
    "e115_dien_ring.obs[mask, \"zli_and_others\"] = \"Other\""
   ]
  },
  {
   "cell_type": "markdown",
   "id": "42388173-2311-466b-a04e-7186260c219c",
   "metadata": {
    "pycharm": {
     "name": "#%% md\n"
    }
   },
   "source": [
    "### Figure 6b"
   ]
  },
  {
   "cell_type": "code",
   "execution_count": null,
   "id": "449fce98-39a4-4b2d-88ad-5f956b096b2e",
   "metadata": {
    "pycharm": {
     "name": "#%%\n"
    }
   },
   "outputs": [],
   "source": [
    "# Comments: digitization axes in \"rc_coord\" and \"dv_coord\" for ZLI flanking region, \"heat\" and \"heat_orth\" for diencephalic ring"
   ]
  },
  {
   "cell_type": "markdown",
   "id": "2ea27fc2-d200-4c48-a250-23c853c2f307",
   "metadata": {
    "pycharm": {
     "name": "#%% md\n"
    }
   },
   "source": [
    "### Figure 6d ZLI spatial enrichment heatmap"
   ]
  },
  {
   "cell_type": "code",
   "execution_count": null,
   "id": "2122965c-3016-4a77-b2eb-147ab4e25f30",
   "metadata": {
    "pycharm": {
     "name": "#%%\n"
    }
   },
   "outputs": [],
   "source": [
    "pos_rate = np.sum(e115_zli.X.A!=0,axis=0) / e115_zli.n_obs"
   ]
  },
  {
   "cell_type": "code",
   "execution_count": null,
   "id": "d431e7a5-f09c-4664-99a6-97b0a3ac7715",
   "metadata": {
    "pycharm": {
     "name": "#%%\n"
    }
   },
   "outputs": [],
   "source": [
    "e115_zli = e115_zli[:, pos_rate > 0.01].copy()\n",
    "e115_zli"
   ]
  },
  {
   "cell_type": "code",
   "execution_count": null,
   "id": "09a9c4fb-824e-42b9-b4bb-294afca614e5",
   "metadata": {
    "pycharm": {
     "name": "#%%\n"
    }
   },
   "outputs": [],
   "source": [
    "e115_zli.uns['pp'] = {}\n",
    "e115_zli.X = e115_zli.layers['count'].copy()\n",
    "dyn.pp.normalize_cell_expr_by_size_factors(e115_zli)"
   ]
  },
  {
   "cell_type": "code",
   "execution_count": null,
   "id": "17940984-b101-45da-864b-177a3915fbbe",
   "metadata": {
    "pycharm": {
     "name": "#%%\n"
    }
   },
   "outputs": [],
   "source": [
    "# Change this to change the save path:\n",
    "save_path = \"/mnt/d/SCAnalysis/Spateo_E11.5_embryo_ZLI/zli_glm_deg_calibratedRC.csv\""
   ]
  },
  {
   "cell_type": "code",
   "execution_count": null,
   "id": "b4c56197-5737-4150-88a1-e700e9fb51a2",
   "metadata": {
    "pycharm": {
     "name": "#%%\n"
    }
   },
   "outputs": [],
   "source": [
    "dyn.tl.glm_degs(e115_zli, fullModelFormulaStr='~rc_coord')\n",
    "e115_zli.uns['glm_degs'].to_csv(save_path)"
   ]
  },
  {
   "cell_type": "code",
   "execution_count": null,
   "id": "b438a006-b01d-41f5-8e7c-c6988b30f507",
   "metadata": {
    "pycharm": {
     "name": "#%%\n"
    }
   },
   "outputs": [],
   "source": [
    "e115_zli.uns['glm_degs'] = pd.read_csv(save_path, index_col=0)"
   ]
  },
  {
   "cell_type": "code",
   "execution_count": null,
   "id": "23dfba25-b0c7-4282-9a4e-136a155927b5",
   "metadata": {
    "pycharm": {
     "name": "#%%\n"
    }
   },
   "outputs": [],
   "source": [
    "df = e115_zli.uns['glm_degs'].copy()\n",
    "df = df.sort_values('pval',ascending=True)\n",
    "df['gene'] = df.index.to_list()\n",
    "df['pval'] = df['pval'].astype(np.float32)\n",
    "\n",
    "glm_genes = df.loc[df['pval'] < 0.01,:].index.to_list()\n",
    "len(glm_genes)"
   ]
  },
  {
   "cell_type": "code",
   "execution_count": null,
   "id": "a89191df-0de3-4aef-b070-13e227f8ad05",
   "metadata": {
    "pycharm": {
     "name": "#%%\n"
    }
   },
   "outputs": [],
   "source": [
    "exp_mtx = e115_zli.X.todense()\n",
    "exp_mtx = pd.DataFrame(\n",
    "    exp_mtx,\n",
    "    index=e115_zli.obs.index,\n",
    "    columns=e115_zli.var.index\n",
    ")"
   ]
  },
  {
   "cell_type": "code",
   "execution_count": null,
   "id": "d46eab16-8bc4-4cbf-a834-de5e1e0313fd",
   "metadata": {
    "pycharm": {
     "name": "#%%\n"
    }
   },
   "outputs": [],
   "source": [
    "# Shh is expressed along the floor plate as well as the ZLI- we would like only the portion that clusters with the ZLI along the R-C axis\n",
    "exp_mtx.loc[e115_zli.obs[\"mapped_celltype\"] != \"Zona limitans intrathalamica\", \"Shh\"] = 0\n",
    "exp_mtx.loc[:, \"Shh\"].sum()"
   ]
  },
  {
   "cell_type": "code",
   "execution_count": null,
   "id": "b15b7793-91ac-4bf1-bcdc-419c56b349f3",
   "metadata": {
    "pycharm": {
     "name": "#%%\n"
    }
   },
   "outputs": [],
   "source": [
    "exp_mtx[\"digital_column\"] = e115_zli.obs[\"rc_coord\"].astype(int).to_list()\n",
    "agg_exp_column = exp_mtx.groupby([\"digital_column\"]).mean()\n",
    "agg_exp_column = agg_exp_column.transpose().sort_index(axis=1)"
   ]
  },
  {
   "cell_type": "code",
   "execution_count": null,
   "id": "0415a6b4-c002-4a14-a7b0-94cd9ef788b4",
   "metadata": {
    "pycharm": {
     "name": "#%%\n"
    }
   },
   "outputs": [],
   "source": [
    "from scipy.ndimage import gaussian_filter1d\n",
    "\n",
    "agg_exp_column_tmp = agg_exp_column.iloc[:,16:].copy()\n",
    "\n",
    "\n",
    "agg_exp_column_tmp = agg_exp_column_tmp.apply(\n",
    "    lambda x: gaussian_filter1d(x, 3).tolist(),\n",
    "    axis=1,\n",
    ")\n",
    "agg_exp_column_tmp = pd.DataFrame(\n",
    "    agg_exp_column_tmp.to_list(),\n",
    "    index=agg_exp_column.index,\n",
    "    columns=agg_exp_column.columns[16:],\n",
    ")\n",
    "\n",
    "agg_exp_column_tmp = agg_exp_column_tmp.loc[glm_genes]\n",
    "agg_exp_column_tmp = agg_exp_column_tmp.loc[agg_exp_column_tmp.idxmax(axis=1).sort_values().index]"
   ]
  },
  {
   "cell_type": "markdown",
   "id": "da228eb4-b299-48e1-9144-b1240155e644",
   "metadata": {
    "pycharm": {
     "name": "#%% md\n"
    }
   },
   "source": [
    "#### Cluster expression along R-C"
   ]
  },
  {
   "cell_type": "code",
   "execution_count": null,
   "id": "c9f018b0",
   "metadata": {
    "collapsed": false,
    "jupyter": {
     "outputs_hidden": false
    },
    "pycharm": {
     "name": "#%%\n"
    }
   },
   "outputs": [],
   "source": [
    "from scipy.cluster.hierarchy import linkage, fcluster\n",
    "from scipy.spatial.distance import pdist"
   ]
  },
  {
   "cell_type": "code",
   "execution_count": null,
   "id": "e4c2e5b4-a63e-41bd-b96e-0afbecc863c8",
   "metadata": {
    "pycharm": {
     "name": "#%%\n"
    }
   },
   "outputs": [],
   "source": [
    "agg_exp_column_tmp_stand = ((agg_exp_column_tmp.T - agg_exp_column_tmp.T.min()) / (agg_exp_column_tmp.T.max() - agg_exp_column_tmp.T.min())).T\n",
    "agg_exp_column_tmp_stand\n",
    "\n",
    "correlations = agg_exp_column_tmp_stand.T.corr()\n",
    "correlations_array = np.asarray(agg_exp_column_tmp_stand.T.corr())\n",
    "\n",
    "row_linkage = linkage(\n",
    "    distance.pdist(correlations_array), method='average')\n",
    "\n",
    "correlations['clust'] = fcluster(row_linkage, criterion=\"maxclust\",t=7)\n",
    "\n",
    "pal = sns.hls_palette(len(set(correlations['clust'])), l=0.5, s=0.8)\n",
    "np.random.shuffle(pal)\n",
    "lut = dict(zip(set(correlations['clust']), pal))\n",
    "row_colors = pd.DataFrame(correlations['clust'])['clust'].map(lut)\n",
    "\n",
    "\n",
    "g = sns.clustermap(correlations.iloc[:,:-1],\n",
    "                   row_linkage=row_linkage, col_linkage=row_linkage,\n",
    "                   row_colors=row_colors, col_colors=row_colors,\n",
    "                   method=\"average\",figsize=(5, 5),\n",
    "                   cmap=\"RdBu_r\",\n",
    "                   rasterized=True,xticklabels=False,\n",
    "                  )\n",
    "\n",
    "\n",
    "reordered_labels = agg_exp_column_tmp.index[g.dendrogram_col.reordered_ind].tolist()\n",
    "# Change these to any genes based on preference\n",
    "use_labels = [\"Shh\", \"Ptn\",\"Tmem132c\", \"Fgf8\",\"Ezr\",\n",
    "              \"Irx3\", \"Dcx\",\"Eml5\",\"Stmn2\",\n",
    "              \"Six3\", \"Wnt7b\",\n",
    "             ]\n",
    "use_ticks = [reordered_labels.index(label) + .5 for label in use_labels]\n",
    "g.ax_heatmap.set(yticks=use_ticks, yticklabels=use_labels)\n",
    "plt.show(g)"
   ]
  },
  {
   "cell_type": "markdown",
   "id": "c8f7c73a-f40e-4e28-95bb-effca926b66b",
   "metadata": {
    "pycharm": {
     "name": "#%% md\n"
    }
   },
   "source": [
    "### Figure 6e- polarity plots (for gene expression)"
   ]
  },
  {
   "cell_type": "code",
   "execution_count": null,
   "id": "efd6e15b-c288-4cb5-af5f-682a7e7def7e",
   "metadata": {
    "pycharm": {
     "name": "#%%\n"
    }
   },
   "outputs": [],
   "source": [
    "def polarity(\n",
    "    test_df,\n",
    "    column_dict: dict,\n",
    "    region_key: str,\n",
    "    palette: list,\n",
    "    mode: str = \"density\",\n",
    "    itv_rpt: int = 1,\n",
    "    width: int = 5,\n",
    "    height: int = 3.5,\n",
    "    region_lower_bound=None,  # Optional parameters for region bounds\n",
    "    region_upper_bound=None,\n",
    "):\n",
    "    \"\"\"Visualize data variation along regions using columns from a DataFrame.\n",
    "\n",
    "    Args:\n",
    "        test_df (DataFrame): Data to be visualized.\n",
    "        column_dict (dict): Specifies columns to be visualized, potentially grouped by annotations.\n",
    "        region_key (str): Column name in test_df indicating regions.\n",
    "        mode (str, optional): Visualization mode ('density' or 'exp'). Defaults to \"density\".\n",
    "        region_lower_bound (int, optional): Lower bound of the region to highlight.\n",
    "        region_upper_bound (int, optional): Upper bound of the region to highlight.\n",
    "    \"\"\"\n",
    "    import scipy.stats as stat\n",
    "    digi_region = np.array([])\n",
    "    column_list = np.array([])\n",
    "    column_mean = np.array([])\n",
    "    column_mean_low = np.array([])\n",
    "    column_mean_high = np.array([])\n",
    "\n",
    "    if mode == \"exp\":\n",
    "        for i in np.unique(test_df[region_key]):\n",
    "            df_tmp = test_df[test_df[region_key] == i]\n",
    "            for anno in list(column_dict.keys()):\n",
    "                for column in column_dict[anno]:\n",
    "                    column_mean_tmp = df_tmp[column].to_numpy()\n",
    "                    digi_region = np.append(digi_region, np.repeat(i, len(df_tmp)))\n",
    "                    column_list = np.append(column_list, np.repeat(column + \" \" + anno, len(df_tmp)))\n",
    "                    column_mean = np.append(column_mean, column_mean_tmp)\n",
    "        df_plt = pd.DataFrame({region_key: digi_region, \"Column\": column_list, \"Mean value\": column_mean})\n",
    "        ax = sns.relplot(data=df_plt, x=region_key, y=\"Mean value\", hue=\"Column\")\n",
    "    elif mode == \"density\":\n",
    "        for i in np.unique(test_df[region_key]):\n",
    "            df_tmp = test_df[test_df[region_key] == i]\n",
    "            for anno in list(column_dict.keys()):\n",
    "                for column in column_dict[anno]:\n",
    "                    digi_region = np.append(digi_region, i)\n",
    "                    column_list = np.append(column_list, column + \" \" + anno)\n",
    "                    column_mean = np.append(column_mean, np.mean(df_tmp[column]))\n",
    "                    data = df_tmp[column].to_numpy()\n",
    "                    data = np.repeat(data, itv_rpt)\n",
    "                    l, h = stat.t.interval(alpha=0.90, df=len(data)-1, loc=np.mean(data), scale=stat.sem(data))\n",
    "                    if np.isnan(l):\n",
    "                        l = np.mean(data)\n",
    "                    if np.isnan(h):\n",
    "                        h = np.mean(data)\n",
    "                    column_mean_low = np.append(column_mean_low, max(0, l))\n",
    "                    column_mean_high = np.append(column_mean_high, h)\n",
    "        column_mean_low = column_mean_low + 1e-10\n",
    "        column_mean_high = column_mean_high + 1e-10\n",
    "        df_plt = pd.DataFrame({region_key: digi_region, \"Interaction\": column_list, \"Avg. effect\": column_mean})\n",
    "        df_plt['Avg. effect'] = df_plt['Avg. effect'].clip(lower=0)\n",
    "        plt.figure()\n",
    "        p1 = sns.kdeplot(data=df_plt, x=region_key, common_norm=False, weights=\"Avg. effect\", hue=\"Interaction\", linewidth=3)\n",
    "        #p1.set_xlim(0, max(adata.obs[region_key]))\n",
    "        plt.close()\n",
    "        df_plt = pd.DataFrame({region_key: digi_region, \"Interaction\": column_list, \"Avg. effect\": column_mean_low})\n",
    "        plt.figure()\n",
    "        p2 = sns.kdeplot(data=df_plt, x=region_key, common_norm=False, weights=\"Avg. effect\", hue=\"Interaction\", linewidth=3)\n",
    "        #p2.set_xlim(0, max(adata.obs[region_key]))\n",
    "        plt.close()\n",
    "        df_plt = pd.DataFrame({region_key: digi_region, \"Interaction\": column_list, \"Avg. effect\": column_mean_high})\n",
    "        plt.figure()\n",
    "        p3 = sns.kdeplot(data=df_plt, x=region_key, common_norm=False, weights=\"Avg. effect\", hue=\"Interaction\", linewidth=3)\n",
    "        #p3.set_xlim(0, max(adata.obs[region_key]))\n",
    "        plt.close()\n",
    "        fig, ax = plt.subplots()\n",
    "        fig.set_size_inches((width, height))\n",
    "        uq_cl = np.unique(column_list)\n",
    "        for k in range(len(uq_cl)):\n",
    "            ax.plot(p1.get_children()[k].get_data()[0], p1.get_children()[k].get_data()[1], '-', color=palette[len(palette)-k-1])\n",
    "            ax.fill_between(\n",
    "                p1.get_children()[k].get_data()[0],\n",
    "                p2.get_children()[k].get_data()[1]*np.sum(column_mean_low[column_list==uq_cl[-(k+1)]]) / np.sum(column_mean[column_list==uq_cl[-(k+1)]]),\n",
    "                p3.get_children()[k].get_data()[1]*np.sum(column_mean_high[column_list==uq_cl[-(k+1)]])/ np.sum(column_mean[column_list==uq_cl[-(k+1)]]), color=palette[len(palette)-k-1], alpha=0.2)\n",
    "\n",
    "        if region_lower_bound is not None and region_upper_bound is not None:\n",
    "            plot_width = region_upper_bound - region_lower_bound\n",
    "            region_box = mpl.patches.Rectangle(\n",
    "                (region_lower_bound, ax.get_ylim()[0]),\n",
    "                plot_width,\n",
    "                ax.get_ylim()[1] - ax.get_ylim()[0],\n",
    "                linewidth=1,\n",
    "                edgecolor=\"#1CE6FF\",\n",
    "                facecolor=\"#1CE6FF\",\n",
    "                alpha=0.1,\n",
    "            )\n",
    "            ax.add_patch(region_box)\n",
    "    return ax"
   ]
  },
  {
   "cell_type": "code",
   "execution_count": null,
   "id": "c04400a3-93e8-4c88-9c62-052c5380700e",
   "metadata": {
    "pycharm": {
     "name": "#%%\n"
    }
   },
   "outputs": [],
   "source": [
    "# Wnt genes\n",
    "genes = [\"Wnt7b\", \"Wnt8b\", \"Wnt9a\", \"Wnt3a\", \"Wnt5a\", \"Wnt3\"]"
   ]
  },
  {
   "cell_type": "code",
   "execution_count": null,
   "id": "483705bb-bd39-4b34-8d45-f875f8ced5f4",
   "metadata": {
    "pycharm": {
     "name": "#%%\n"
    }
   },
   "outputs": [],
   "source": [
    "temp_df = pd.DataFrame(0, index=e115_zli.obs_names, columns=genes)\n",
    "for gene in genes:\n",
    "    temp_df[gene] = e115_zli[:, gene].X.toarray()"
   ]
  },
  {
   "cell_type": "code",
   "execution_count": null,
   "id": "5c2dadfe-1beb-4737-ac65-cf7987cd115b",
   "metadata": {
    "pycharm": {
     "name": "#%%\n"
    }
   },
   "outputs": [],
   "source": [
    "temp_df[\"rc_coord\"] = e115_zli.obs[\"rc_coord\"]"
   ]
  },
  {
   "cell_type": "code",
   "execution_count": null,
   "id": "01a8193a-ac13-4a78-a5b3-998db3905755",
   "metadata": {
    "pycharm": {
     "name": "#%%\n"
    }
   },
   "outputs": [],
   "source": [
    "gene_dict = {\n",
    "    \"1\": [\"Wnt7b\"],\n",
    "    \"2\": [\"Wnt8b\"],\n",
    "    \"3\": [\"Wnt9a\"],\n",
    "    \"4\": [\"Wnt3a\"],\n",
    "    \"5\": [\"Wnt5a\"],\n",
    "    \"6\": [\"Wnt3\"],\n",
    "}"
   ]
  },
  {
   "cell_type": "code",
   "execution_count": null,
   "id": "38af52c5-d79e-4b40-a1a5-e90234556e06",
   "metadata": {
    "pycharm": {
     "name": "#%%\n"
    }
   },
   "outputs": [],
   "source": [
    "import matplotlib as mpl\n",
    "palette = [mpl.colors.to_hex(i) for i in sns.color_palette(\"tab10\", n_colors=len(gene_dict))]\n",
    "palette"
   ]
  },
  {
   "cell_type": "code",
   "execution_count": null,
   "id": "2bebbf1d-4eaa-4d04-b7cc-65126e0e9789",
   "metadata": {
    "pycharm": {
     "name": "#%%\n"
    }
   },
   "outputs": [],
   "source": [
    "ax = polarity(temp_df, gene_dict, region_key=\"rc_coord\",\n",
    "              palette=palette,\n",
    "              itv_rpt=1,\n",
    "             )\n",
    "\n",
    "ax.tick_params(direction=\"out\")\n",
    "ax.set_yticks([])\n",
    "# Remove the tick marks but keep the labels for the x-axis\n",
    "ax.tick_params(axis='x', length=0, labelsize=24)\n",
    "\n",
    "plt.xlim([-20, 120])\n",
    "for spine in ax.spines.values():\n",
    "    spine.set_linewidth(1.5)"
   ]
  },
  {
   "cell_type": "code",
   "execution_count": null,
   "id": "446af5e9-176b-4310-b245-cf263a792f7c",
   "metadata": {
    "pycharm": {
     "name": "#%%\n"
    }
   },
   "outputs": [],
   "source": [
    "# Replace path with appropriate local path for you\n",
    "plt.savefig(\"/mnt/d/SCAnalysis/Spateo_E11.5_embryo_ZLI/KDE_expression_Wnts.pdf\", bbox_inches = \"tight\", transparent=True, width=2, height=1)"
   ]
  },
  {
   "cell_type": "code",
   "execution_count": null,
   "id": "56f280fe-112c-4bf3-91ef-99a606143f60",
   "metadata": {
    "pycharm": {
     "name": "#%%\n"
    }
   },
   "outputs": [],
   "source": [
    "# Lhx genes\n",
    "genes = [\"Lhx2\", \"Lhx1\", \"Gbx2\", \"Lhx5\", \"Lhx1os\", \"Lhx9\"]"
   ]
  },
  {
   "cell_type": "code",
   "execution_count": null,
   "id": "c742eda5-98a3-4391-b10d-a9cb5caa3003",
   "metadata": {
    "pycharm": {
     "name": "#%%\n"
    }
   },
   "outputs": [],
   "source": [
    "temp_df = pd.DataFrame(0, index=e115_zli.obs_names, columns=genes)\n",
    "for gene in genes:\n",
    "    temp_df[gene] = e115_zli[:, gene].X.toarray()"
   ]
  },
  {
   "cell_type": "code",
   "execution_count": null,
   "id": "f3239bf0-15ee-4973-829d-705542307680",
   "metadata": {
    "pycharm": {
     "name": "#%%\n"
    }
   },
   "outputs": [],
   "source": [
    "temp_df[\"rc_coord\"] = e115_zli.obs[\"rc_coord\"]"
   ]
  },
  {
   "cell_type": "code",
   "execution_count": null,
   "id": "d2968316-c980-45ab-9a0e-e44a444468b0",
   "metadata": {
    "pycharm": {
     "name": "#%%\n"
    }
   },
   "outputs": [],
   "source": [
    "gene_dict = {\n",
    "    \"1\": [\"Lhx2\"],\n",
    "    \"2\": [\"Lhx1\"],\n",
    "    \"3\": [\"Gbx2\"],\n",
    "    \"4\": [\"Lhx5\"],\n",
    "    \"5\": [\"Lhx1os\"],\n",
    "    \"6\": [\"Lhx9\"],\n",
    "}"
   ]
  },
  {
   "cell_type": "code",
   "execution_count": null,
   "id": "27a853ba-56a9-4ec6-9bc6-b9e2fcbe2edc",
   "metadata": {
    "pycharm": {
     "name": "#%%\n"
    }
   },
   "outputs": [],
   "source": [
    "palette = [mpl.colors.to_hex(i) for i in sns.color_palette(\"tab10\" ,n_colors=len(gene_dict))]\n",
    "palette"
   ]
  },
  {
   "cell_type": "code",
   "execution_count": null,
   "id": "596e7105-9d8c-49a7-95b9-00527b02c5f6",
   "metadata": {
    "pycharm": {
     "name": "#%%\n"
    }
   },
   "outputs": [],
   "source": [
    "ax = polarity(temp_df, gene_dict, region_key=\"rc_coord\",\n",
    "              palette=palette,\n",
    "              itv_rpt=1,\n",
    "              region_lower_bound=45,\n",
    "              region_upper_bound=80,\n",
    "             )\n",
    "\n",
    "ax.tick_params(direction=\"out\")\n",
    "ax.set_yticks([])\n",
    "# Remove the tick marks but keep the labels for the x-axis\n",
    "ax.tick_params(axis='x', length=0, labelsize=24)\n",
    "\n",
    "plt.xlim([-20, 120])\n",
    "for spine in ax.spines.values():\n",
    "    spine.set_linewidth(1.5)"
   ]
  },
  {
   "cell_type": "code",
   "execution_count": null,
   "id": "b4a07469-46bb-489f-a921-deafbb614334",
   "metadata": {
    "pycharm": {
     "name": "#%%\n"
    }
   },
   "outputs": [],
   "source": [
    "# Replace path with appropriate local path for you\n",
    "plt.savefig(\"/mnt/d/SCAnalysis/Spateo_E11.5_embryo_ZLI/KDE_expression_Lhx.pdf\", bbox_inches = \"tight\", transparent=True, width=2, height=1)"
   ]
  },
  {
   "cell_type": "markdown",
   "id": "e0713525-1959-464c-b41e-0e67e327c66e",
   "metadata": {
    "pycharm": {
     "name": "#%% md\n"
    }
   },
   "source": [
    "### For figure 6e-g: target genes for modeling"
   ]
  },
  {
   "cell_type": "code",
   "execution_count": null,
   "id": "3ef054bc-164c-49b3-9949-a5a452ac64b6",
   "metadata": {
    "pycharm": {
     "name": "#%%\n"
    }
   },
   "outputs": [],
   "source": [
    "# Reload AnnData object (in case): \n",
    "e115_zli = anndata.read_h5ad(path_to_zli)\n",
    "e115_zli.uns[\"__type\"] = \"UMI\""
   ]
  },
  {
   "cell_type": "markdown",
   "id": "7f5ef5a8-5903-40f7-9936-9f0c2f500e27",
   "metadata": {
    "pycharm": {
     "name": "#%% md\n"
    }
   },
   "source": [
    "#### Ligands and receptors"
   ]
  },
  {
   "cell_type": "code",
   "execution_count": null,
   "id": "21382f41-b01e-49b8-9e33-457c22fae2c7",
   "metadata": {
    "pycharm": {
     "name": "#%%\n"
    }
   },
   "outputs": [],
   "source": [
    "# Change path to the local path that stores Spateo's database\n",
    "lr_db = pd.read_csv(\"/mnt/c/Users/danie/Desktop/Github/Github/spateo-release-main/spateo/tools/database/lr_db_mouse.csv\", index_col=0)"
   ]
  },
  {
   "cell_type": "code",
   "execution_count": null,
   "id": "b146edec-cbeb-4192-9337-074f3643b5a0",
   "metadata": {
    "pycharm": {
     "name": "#%%\n"
    }
   },
   "outputs": [],
   "source": [
    "# Extract unique values from 'from' and 'to' columns\n",
    "unique_l = lr_db['from'].unique().tolist()\n",
    "unique_r = lr_db['to'].unique().tolist()\n",
    "\n",
    "# Combine and remove duplicates\n",
    "combined = set(unique_l + unique_r)\n",
    "\n",
    "# Split elements containing '_'\n",
    "split_elements = [item.split('_') for item in combined if '_' in item]\n",
    "flat_list = [item for sublist in split_elements for item in sublist]\n",
    "\n",
    "# Add split elements to combined set\n",
    "combined.update(flat_list)\n",
    "\n",
    "# Remove the elements containing '_' as they are already split\n",
    "combined = {x for x in combined if '_' not in x}\n",
    "print(len(combined))\n",
    "\n",
    "unique_l = [item.split('_') for item in unique_l]\n",
    "unique_l = set([item for sublist in unique_l for item in sublist])\n",
    "print(len(unique_l))\n",
    "unique_r = [item.split('_') for item in unique_r]\n",
    "unique_r = set([item for sublist in unique_r for item in sublist])\n",
    "print(len(unique_r))"
   ]
  },
  {
   "cell_type": "code",
   "execution_count": null,
   "id": "a9c1e377-2f95-47b4-aa7a-d5b9dcebe8ec",
   "metadata": {
    "pycharm": {
     "name": "#%%\n"
    }
   },
   "outputs": [],
   "source": [
    "combined_sub = [g for g in combined if g in e115_zli.var_names]\n",
    "print(len(combined_sub))\n",
    "\n",
    "unique_l = [g for g in unique_l if g in e115_zli.var_names]\n",
    "print(len(unique_l))\n",
    "\n",
    "unique_r = [g for g in unique_r if g in e115_zli.var_names]\n",
    "print(len(unique_r))"
   ]
  },
  {
   "cell_type": "code",
   "execution_count": null,
   "id": "1cb899fe-508d-47c6-b172-c26a296520d2",
   "metadata": {
    "pycharm": {
     "name": "#%%\n"
    }
   },
   "outputs": [],
   "source": [
    "df_expression = pd.DataFrame(e115_zli[:, combined_sub].X.toarray(), index=e115_zli.obs_names, columns=combined_sub)"
   ]
  },
  {
   "cell_type": "code",
   "execution_count": null,
   "id": "88a03708-3cd0-49c8-8f61-1d8a184579e6",
   "metadata": {
    "pycharm": {
     "name": "#%%\n"
    }
   },
   "outputs": [],
   "source": [
    "# Save ligands and receptors expressed in over n cells:\n",
    "n = 2000\n",
    "gene_counts = (df_expression > 0).sum()\n",
    "\n",
    "# Filter ligands and receptors\n",
    "expressed_ligands = gene_counts[unique_l][gene_counts > n].index.tolist()\n",
    "expressed_receptors = gene_counts[unique_r][gene_counts > n].index.tolist()\n",
    "\n",
    "len(expressed_ligands), len(expressed_receptors)"
   ]
  },
  {
   "cell_type": "code",
   "execution_count": null,
   "id": "ab08ce5c-35c4-4775-9ff2-e5292bc85ec8",
   "metadata": {
    "pycharm": {
     "name": "#%%\n"
    }
   },
   "outputs": [],
   "source": [
    "with open(\"/mnt/d/SCAnalysis/Spateo_E11.5_embryo_ZLI/CCI_inputs/zli_ligands.txt\", \"w\") as file:\n",
    "    for item in expressed_ligands:\n",
    "        file.write(\"%s\\n\" % item)"
   ]
  },
  {
   "cell_type": "code",
   "execution_count": null,
   "id": "e41d7aa2-1954-423b-a77a-009d3b02ee8e",
   "metadata": {
    "pycharm": {
     "name": "#%%\n"
    }
   },
   "outputs": [],
   "source": [
    "with open(\"/mnt/d/SCAnalysis/Spateo_E11.5_embryo_ZLI/CCI_inputs/zli_receptors.txt\", \"w\") as file:\n",
    "    for item in expressed_receptors:\n",
    "        file.write(\"%s\\n\" % item)"
   ]
  },
  {
   "cell_type": "markdown",
   "id": "b0da6453-3652-4117-a593-1bb2f02a637c",
   "metadata": {
    "pycharm": {
     "name": "#%% md\n"
    }
   },
   "source": [
    "#### Target genes"
   ]
  },
  {
   "cell_type": "code",
   "execution_count": null,
   "id": "2ad629d3-abd4-4f9a-a991-cf2337518a6e",
   "metadata": {
    "pycharm": {
     "name": "#%%\n"
    }
   },
   "outputs": [],
   "source": [
    "target_genes = [\n",
    "    \"Amot\", \"Arl4a\", \"Axin2\", \"Cdh8\", \"Celf4\", \"Chl1\", \"Cited2\", \"Clic6\", \"Colec12\", \"Cntn5\",\n",
    "    \"Dcx\", \"Dlx2\", \"Eda\", \"Edil3\", \"Egfem1\", \"Eml5\", \"Ezr\", \"Ext1\", \"Flrt2\", \"Foxd1\",\n",
    "    \"Gap43\", \"Gng3\", \"Igfbp5\", \"Id1\", \"Id4\", \"Ina\", \"Kcnip4\", \"Kcnq3\", \"Lrrc4c\", \"Magi1\",\n",
    "    \"Mapk1\", \"Mdga2\", \"Meg3\", \"Mllt11\", \"Mycn\", \"Nkd1\", \"Nlgn1\", \"Nrxn3\", \"Ntn1\", \"Otx1\",\n",
    "    \"Otx2os1\", \"Pcdh9\", \"Peg10\", \"Pdia6\", \"Plcl1\", \"Pten\", \"Ptk2\", \"Ptprn2\", \"Ptch1\",\n",
    "    \"Rspo3\", \"Rtn1\", \"Sema5b\", \"Sfrp2\", \"Sgms1\", \"Slc1a2\", \"Slc22a23\", \"Slc6a15\", \"Spon1\",\n",
    "    \"Stmn2\", \"Sulf1\", \"Sulf2\", \"Tead1\", \"Tenm4\", \"Th\", \"Thsd7a\", \"Tle1\", \"Trpm3\", \"Tmem132c\",\n",
    "    \"Ybx1\", \"Zcchc18\", \"Zfp804b\"\n",
    "]"
   ]
  },
  {
   "cell_type": "code",
   "execution_count": null,
   "id": "d10972a1-0fe0-424c-8f4c-c66f6bed9c30",
   "metadata": {
    "pycharm": {
     "name": "#%%\n"
    }
   },
   "outputs": [],
   "source": [
    "with open(\"/mnt/d/SCAnalysis/Spateo_E11.5_embryo_ZLI/CCI_inputs/zli_targets.txt\", \"w\") as file:\n",
    "    for item in target_genes:\n",
    "        file.write(\"%s\\n\" % item)"
   ]
  },
  {
   "cell_type": "code",
   "execution_count": null,
   "id": "9d53c67e-b1fc-4431-97d3-5065ba81076c",
   "metadata": {
    "pycharm": {
     "name": "#%%\n"
    }
   },
   "outputs": [],
   "source": [
    "# Set to the folders to save the inputs (ligands list, receptors list, targets list) and outputs (model results) to:\n",
    "cci_input_directory = \"/mnt/d/SCAnalysis/Spateo_E11.5_embryo_ZLI/CCI_inputs\"\n",
    "cci_output_directory = \"/mnt/d/SCAnalysis/Spateo_E11.5_embryo_ZLI/CCI_outputs\"\n",
    "cci_output_id = os.path.join(cci_output_directory, \"zli_target_genes.csv\")"
   ]
  },
  {
   "cell_type": "markdown",
   "id": "a4b5bb68-dd3e-41b0-ba15-efcaa523d2d3",
   "metadata": {
    "pycharm": {
     "name": "#%% md\n"
    }
   },
   "source": [
    "#### Initialize CCI model"
   ]
  },
  {
   "cell_type": "code",
   "execution_count": null,
   "id": "65e5c927-4267-4888-a0d4-d055818d998a",
   "metadata": {
    "pycharm": {
     "name": "#%%\n"
    }
   },
   "outputs": [],
   "source": [
    "e115_zli_lb = st.tl.find_neighbors.find_bw_for_n_neighbors(\n",
    "    e115_zli,\n",
    "    coords_key=\"z_correction\",\n",
    "    n_anchors=2000,\n",
    "    target_n_neighbors=27,\n",
    "    initial_bw=20,\n",
    "    exclude_self=True\n",
    ")\n",
    "e115_zli_lb"
   ]
  },
  {
   "cell_type": "code",
   "execution_count": null,
   "id": "dbeb6505-2a4d-4166-b8a0-19e7ab92b292",
   "metadata": {
    "pycharm": {
     "name": "#%%\n"
    }
   },
   "outputs": [],
   "source": [
    "e115_zli_ub = st.tl.find_neighbors.find_bw_for_n_neighbors(\n",
    "    e115_zli,\n",
    "    coords_key=\"z_correction\",\n",
    "    n_anchors=2000,\n",
    "    target_n_neighbors=250,\n",
    "    initial_bw=20,\n",
    "    exclude_self=True\n",
    ")\n",
    "e115_zli_ub"
   ]
  },
  {
   "cell_type": "code",
   "execution_count": null,
   "id": "a435ad53-96d9-4f25-ac58-4fdf91b5c1f2",
   "metadata": {
    "pycharm": {
     "name": "#%%\n"
    }
   },
   "outputs": [],
   "source": [
    "# Change all paths in below block to the appropriate locations on your local machine"
   ]
  },
  {
   "cell_type": "code",
   "execution_count": null,
   "id": "5740814b-1df6-4548-b663-c6d01436e602",
   "metadata": {
    "pycharm": {
     "name": "#%%\n"
    }
   },
   "outputs": [],
   "source": [
    "adata_path = path_to_zli\n",
    "output_path = cci_output_id\n",
    "# Use the ligand/receptor paths from the model fitting:\n",
    "ligand_path = \"/mnt/d/SCAnalysis/Spateo_E11.5_embryo_ZLI/CCI_inputs/zli_ligands.txt\"\n",
    "# Note that even though receptor path is given, this is not actually used for figure 6, which uses only the ligands because the data is very sparse- but if \"mod_type\" is \"lr\", this will be used.\n",
    "receptor_path = \"/mnt/d/SCAnalysis/Spateo_E11.5_embryo_ZLI/CCI_inputs/zli_receptors.txt\"  \n",
    "target_path = \"/mnt/d/SCAnalysis/Spateo_E11.5_embryo_ZLI/CCI_inputs/zli_targets.txt\"\n",
    "cci_dir_path = \"/mnt/c/Users/danie/Desktop/Github/Github/spateo-release-main/spateo/tools/database\"\n",
    "mod_type = \"ligand\"\n",
    "species = \"mouse\"\n",
    "group_key = \"mapped_celltype\"\n",
    "coords_key = \"z_correction\"\n",
    "distance_membrane_bound = 6.6\n",
    "n_neighbors_membrane_bound = 27\n",
    "distance_secreted = 16.5\n",
    "# Effective radius for each cell that assumes cell size = 10um, diameter signaling range = 250um, and cells are not tightly packed, w/ a (erring on the larger side)\n",
    "# distance of 30um between neighbors\n",
    "n_neighbors_secreted = 250\n",
    "minbw = 10.0\n",
    "maxbw = 23.0\n",
    "spatial_subsample = True"
   ]
  },
  {
   "cell_type": "code",
   "execution_count": null,
   "id": "7636701d-4577-4d4b-8446-b9033381afa4",
   "metadata": {
    "pycharm": {
     "name": "#%%\n"
    }
   },
   "outputs": [],
   "source": [
    "parser, args_list = st.tl.define_spateo_argparse(\n",
    "    adata_path=adata_path,\n",
    "    custom_lig_path=ligand_path,\n",
    "    custom_rec_path=receptor_path,\n",
    "    targets_path=target_path,\n",
    "    cci_dir=cci_dir_path,\n",
    "    mod_type=mod_type,\n",
    "    species=species,\n",
    "    group_key=group_key,\n",
    "    coords_key=coords_key,\n",
    "    distance_membrane_bound=distance_membrane_bound,\n",
    "    n_neighbors_membrane_bound=n_neighbors_membrane_bound,\n",
    "    distance_secreted=distance_secreted,\n",
    "    n_neighbors_secreted=n_neighbors_secreted,\n",
    "    minbw=minbw,\n",
    "    maxbw=maxbw,\n",
    "    spatial_subsample=spatial_subsample,\n",
    "    output_path=output_path,\n",
    ")"
   ]
  },
  {
   "cell_type": "code",
   "execution_count": null,
   "id": "7e4c20a0-8823-440f-b817-90309ad6efea",
   "metadata": {
    "pycharm": {
     "name": "#%%\n"
    }
   },
   "outputs": [],
   "source": [
    "model = st.tl.MuSIC(parser, args_list)\n",
    "model._set_up_model()\n",
    "model.fit()\n",
    "model.predict_and_save(adjust_for_subsampling=True)"
   ]
  },
  {
   "cell_type": "markdown",
   "id": "a1ffafe5-e3d8-4684-aae2-c6ec0d43eddc",
   "metadata": {
    "pycharm": {
     "name": "#%% md\n"
    }
   },
   "source": [
    "#### Downstream model initialization"
   ]
  },
  {
   "cell_type": "code",
   "execution_count": null,
   "id": "3c7202fe-ae34-4bfd-830b-b2e079f0818d",
   "metadata": {
    "pycharm": {
     "name": "#%%\n"
    }
   },
   "outputs": [],
   "source": [
    "downstream_model = st.tl.MuSIC_Interpreter(parser, args_list)"
   ]
  },
  {
   "cell_type": "markdown",
   "id": "14514dae-ea5f-46bb-9cdd-b1d3135c019f",
   "metadata": {
    "pycharm": {
     "name": "#%% md\n"
    }
   },
   "source": [
    "##### Figure 6e (polarity plots for predicted CCI effects)"
   ]
  },
  {
   "cell_type": "code",
   "execution_count": null,
   "id": "8b5be90b-187f-486e-bdbf-d55b9c74e164",
   "metadata": {
    "pycharm": {
     "name": "#%%\n"
    }
   },
   "outputs": [],
   "source": [
    "pairs = [\"Vegfa-Dcx\", \"Agrn-Th\", \"Slit2-Ina\", \"Bmp6-Ext1\", \"Bmp7-Id1\", \"Ptn-Gap43\", \"Agrn-Stmn2\", \"Bmp7-Eml5\"]"
   ]
  },
  {
   "cell_type": "code",
   "execution_count": null,
   "id": "9d71ca80-173d-4ec7-82c6-bc43e3c85fa5",
   "metadata": {
    "pycharm": {
     "name": "#%%\n"
    }
   },
   "outputs": [],
   "source": [
    "temp_df = pd.DataFrame(0, index=e115_zli.obs_names, columns=pairs) \n",
    "\n",
    "for pair in pairs:\n",
    "    file_path = f\"{cci_output_id[:-4]}_{pair.split('-')[1]}.csv\"\n",
    "    coeffs_df = pd.read_csv(file_path, index_col=0)\n",
    "    temp_df[pair] = coeffs_df[f\"b_{pair.split('-')[0]}\"]"
   ]
  },
  {
   "cell_type": "code",
   "execution_count": null,
   "id": "4fcff9cb-eadc-4448-8716-7be7027638d9",
   "metadata": {
    "pycharm": {
     "name": "#%%\n"
    }
   },
   "outputs": [],
   "source": [
    "temp_df[\"rc_coord\"] = e115_zli.obs[\"rc_coord\"]"
   ]
  },
  {
   "cell_type": "code",
   "execution_count": null,
   "id": "5fed1e53-4cb5-4b4b-96c6-f915cba29017",
   "metadata": {
    "pycharm": {
     "name": "#%%\n"
    }
   },
   "outputs": [],
   "source": [
    "column_dict = {\n",
    "    \"1\": [\"Vegfa-Dcx\"],\n",
    "    \"2\": [\"Agrn-Th\"],\n",
    "    \"3\": [\"Slit2-Ina\"],\n",
    "    \"4\": [\"Bmp6-Ext1\"],\n",
    "    \"5\": [\"Bmp7-Id1\"],\n",
    "    \"6\": [\"Ptn-Gap43\"],\n",
    "    \"7\": [\"Agrn-Stmn2\"],\n",
    "    \"8\": [\"Bmp7-Eml5\"],\n",
    "}"
   ]
  },
  {
   "cell_type": "code",
   "execution_count": null,
   "id": "0c51cf27-293d-433d-a8e2-488c5433c335",
   "metadata": {
    "pycharm": {
     "name": "#%%\n"
    }
   },
   "outputs": [],
   "source": [
    "import matplotlib as mpl\n",
    "palette = [mpl.colors.to_hex(i) for i in sns.color_palette(\"tab10\" ,n_colors=len(column_dict))]\n",
    "palette"
   ]
  },
  {
   "cell_type": "code",
   "execution_count": null,
   "id": "b39df5f4-76d1-44c7-a24c-07fded158250",
   "metadata": {
    "pycharm": {
     "name": "#%%\n"
    }
   },
   "outputs": [],
   "source": [
    "ax = polarity(temp_df, column_dict, region_key=\"rc_coord\",\n",
    "              palette=palette,\n",
    "              itv_rpt=1,\n",
    "              region_lower_bound=45,\n",
    "              region_upper_bound=80,\n",
    "             )\n",
    "ax.tick_params(direction=\"out\")\n",
    "ax.set_yticks([])\n",
    "ax.tick_params(axis='x', length=0, labelsize=24)\n",
    "plt.xlim([0, 110])\n",
    "plt.ylim([0.00, 0.075])\n",
    "\n",
    "for spine in ax.spines.values():\n",
    "    spine.set_linewidth(1.5)"
   ]
  },
  {
   "cell_type": "code",
   "execution_count": null,
   "id": "5b056e32-fc23-4fb8-a9b7-f0dccb97eec5",
   "metadata": {
    "pycharm": {
     "name": "#%%\n"
    }
   },
   "outputs": [],
   "source": [
    "# Replace path with appropriate local path for you\n",
    "plt.savefig(\"/mnt/d/SCAnalysis/Spateo_E11.5_embryo_ZLI/KDE_CCI_effects.pdf\", bbox_inches = \"tight\", transparent=True, width=2, height=1)"
   ]
  },
  {
   "cell_type": "markdown",
   "id": "93e9af5f-0cc9-4176-a3e0-b40c13cfda51",
   "metadata": {
    "pycharm": {
     "name": "#%% md\n"
    }
   },
   "source": [
    "##### Run downstream TF-target model for figure 6f insights"
   ]
  },
  {
   "cell_type": "code",
   "execution_count": null,
   "id": "a7a8c757-56d7-4759-9f1b-bfa0b246cf35",
   "metadata": {
    "pycharm": {
     "name": "#%%\n"
    }
   },
   "outputs": [],
   "source": [
    "# Comments: can toggle \"use_targets\" and \"use_ligands\" between True and False for TF-target model where targets are downstream target genes of the CCI model and \n",
    "# ligands of the CCI model, respectively. Only one should be True at one time. For convenience, here the blocks are repeated with the appropriate adjustment."
   ]
  },
  {
   "cell_type": "code",
   "execution_count": null,
   "id": "752d5cea-ebd0-46a4-ab0b-069c02177900",
   "metadata": {
    "pycharm": {
     "name": "#%%\n"
    }
   },
   "outputs": [],
   "source": [
    "downstream_model.CCI_deg_detection_setup(\n",
    "    group_key=\"mapped_celltype\",\n",
    "    use_ligands=False,\n",
    "    use_receptors=False,\n",
    "    use_targets=True\n",
    ")"
   ]
  },
  {
   "cell_type": "code",
   "execution_count": null,
   "id": "3c3b0f5d-812f-41a5-9bf0-1ae275d857f0",
   "metadata": {
    "pycharm": {
     "name": "#%%\n"
    }
   },
   "outputs": [],
   "source": [
    "downstream_model.CCI_deg_detection(\n",
    "    group_key=\"mapped_celltype\",\n",
    "    cci_dir_path=cci_dir_path,\n",
    "    use_ligands=False,\n",
    "    use_receptors=False,\n",
    "    use_targets=True,\n",
    "    use_dim_reduction=False,\n",
    "    distr=\"poisson\"\n",
    ")"
   ]
  },
  {
   "cell_type": "code",
   "execution_count": null,
   "id": "34415851-1f85-4885-91b2-a3324c82d3e9",
   "metadata": {
    "pycharm": {
     "name": "#%%\n"
    }
   },
   "outputs": [],
   "source": [
    "downstream_model.CCI_deg_detection_setup(\n",
    "    group_key=\"mapped_celltype\",\n",
    "    use_ligands=True,\n",
    "    use_receptors=False,\n",
    "    use_targets=False\n",
    ")"
   ]
  },
  {
   "cell_type": "code",
   "execution_count": null,
   "id": "865fcfea-3631-4af2-808d-01ceb48eb909",
   "metadata": {
    "pycharm": {
     "name": "#%%\n"
    }
   },
   "outputs": [],
   "source": [
    "downstream_model.CCI_deg_detection(\n",
    "    group_key=\"mapped_celltype\",\n",
    "    cci_dir_path=cci_dir_path,\n",
    "    use_ligands=True,\n",
    "    use_receptors=False,\n",
    "    use_targets=False,\n",
    "    use_dim_reduction=False,\n",
    "    distr=\"poisson\"\n",
    ")"
   ]
  },
  {
   "cell_type": "markdown",
   "id": "8583820f-aef4-4031-bcfb-79e88329bd3f",
   "metadata": {
    "pycharm": {
     "name": "#%% md\n"
    }
   },
   "source": [
    "##### Visualize predicted effect of ligand on target"
   ]
  },
  {
   "cell_type": "code",
   "execution_count": null,
   "id": "59605324-1767-43c0-a3b3-008287b4169f",
   "metadata": {
    "pycharm": {
     "name": "#%%\n"
    }
   },
   "outputs": [],
   "source": [
    "affected_gene = \"Id1\"\n",
    "ligand = \"Bmp6\""
   ]
  },
  {
   "cell_type": "code",
   "execution_count": null,
   "id": "2c4024fb",
   "metadata": {
    "collapsed": false,
    "jupyter": {
     "outputs_hidden": false
    },
    "pycharm": {
     "name": "#%%\n"
    }
   },
   "outputs": [],
   "source": [
    "# Change the save path to appropriate local path:\n",
    "save_path = f\"/mnt/d/SCAnalysis/Spateo_E11.5_embryo_ZLI/ZLI_{affected_gene}_{ligand}_effect.html\""
   ]
  },
  {
   "cell_type": "code",
   "execution_count": null,
   "id": "d2269edb-8983-46e7-b4eb-7af45392bbd8",
   "metadata": {
    "pycharm": {
     "name": "#%%\n"
    }
   },
   "outputs": [],
   "source": [
    "downstream_model.plot_interaction_effect_3D(\n",
    "    target=affected_gene,\n",
    "    interaction=ligand,\n",
    "    save_path=save_path,\n",
    "    pcutoff=99.9,\n",
    "    size=3.5,\n",
    ")"
   ]
  },
  {
   "cell_type": "markdown",
   "id": "35102e9a-9832-4759-a942-d3e32c612687",
   "metadata": {
    "pycharm": {
     "name": "#%% md\n"
    }
   },
   "source": [
    "##### Visualize predicted effect of TF on ligand, target, etc."
   ]
  },
  {
   "cell_type": "code",
   "execution_count": null,
   "id": "d4a81c8e-7df9-4ab1-944b-9e153ca32bb8",
   "metadata": {
    "pycharm": {
     "name": "#%%\n"
    }
   },
   "outputs": [],
   "source": [
    "affected_gene = \"Id1\"\n",
    "tf = \"Smad4\""
   ]
  },
  {
   "cell_type": "code",
   "execution_count": null,
   "id": "ee68e611",
   "metadata": {
    "collapsed": false,
    "jupyter": {
     "outputs_hidden": false
    },
    "pycharm": {
     "name": "#%%\n"
    }
   },
   "outputs": [],
   "source": [
    "# Change the save path to appropriate local path:\n",
    "save_path = f\"/mnt/d/SCAnalysis/Spateo_E11.5_embryo_ZLI/ZLI_{affected_gene}_{tf}_effect.html\""
   ]
  },
  {
   "cell_type": "code",
   "execution_count": null,
   "id": "d8b9ea10-475d-4dfe-a096-d7ed0b13edac",
   "metadata": {
    "pycharm": {
     "name": "#%%\n"
    }
   },
   "outputs": [],
   "source": [
    "downstream_model.plot_tf_effect_3D(\n",
    "    target=affected_gene,\n",
    "    tf=tf,\n",
    "    save_path=save_path,\n",
    "    ligand_targets=True,\n",
    "    target_gene_targets=False,\n",
    "    size=3.5\n",
    ")"
   ]
  },
  {
   "cell_type": "markdown",
   "id": "2a069916-164c-4af7-a69b-23b601f90327",
   "metadata": {
    "pycharm": {
     "name": "#%% md\n"
    }
   },
   "source": [
    "##### Summarize interaction effects (resource used for figure 6g network construction)"
   ]
  },
  {
   "cell_type": "code",
   "execution_count": null,
   "id": "159b7548-2f43-4ad8-9ef9-dbd37babf602",
   "metadata": {
    "pycharm": {
     "name": "#%%\n"
    }
   },
   "outputs": [],
   "source": [
    "interaction_effects_df = downstream_model.summarize_interaction_effects()\n",
    "interaction_effects_df"
   ]
  },
  {
   "cell_type": "code",
   "execution_count": null,
   "id": "4d485cce-c8d8-4c72-857c-8cb1d6957c4f",
   "metadata": {
    "pycharm": {
     "name": "#%%\n"
    }
   },
   "outputs": [],
   "source": [
    "# Change to appropriate path\n",
    "save_path = f\"/mnt/d/SCAnalysis/Spateo_E11.5_embryo_ZLI/ZLI_interaction_effect_summary.csv\""
   ]
  },
  {
   "cell_type": "code",
   "execution_count": null,
   "id": "0b5e2a44-b707-47b9-918c-04c7cd7dfef0",
   "metadata": {
    "pycharm": {
     "name": "#%%\n"
    }
   },
   "outputs": [],
   "source": [
    "interaction_effects_df.to_csv(save_path)"
   ]
  },
  {
   "cell_type": "code",
   "execution_count": null,
   "id": "0fbbaa77-8ec8-45b3-9bb3-810c319fab6b",
   "metadata": {
    "pycharm": {
     "name": "#%%\n"
    }
   },
   "outputs": [],
   "source": [
    "interaction_effects_df = pd.read_csv(save_path, index_col=0)"
   ]
  },
  {
   "cell_type": "code",
   "execution_count": null,
   "id": "ba0a14c4-cd18-4c0d-b6f0-e69de094c6b6",
   "metadata": {
    "pycharm": {
     "name": "#%%\n"
    }
   },
   "outputs": [],
   "source": [
    "# Top n ligands for each target gene\n",
    "n = 10\n",
    "threshold = 0.0"
   ]
  },
  {
   "cell_type": "code",
   "execution_count": null,
   "id": "186f64a7-45e1-428c-8e0d-cfd2215f6d50",
   "metadata": {
    "pycharm": {
     "name": "#%%\n"
    }
   },
   "outputs": [],
   "source": [
    "# Optional: remove particular rows that are very common- also some of the things that are not intercellular ligands:\n",
    "remove = [\"Agrn\", \"Cdh2\", \"Ptn\", \"Igf2\", \"Mdk\", \"Mif\", \"Lipa\"]"
   ]
  },
  {
   "cell_type": "code",
   "execution_count": null,
   "id": "6ff171c1-13fe-41ad-87b5-c8688e83c9c9",
   "metadata": {
    "pycharm": {
     "name": "#%%\n"
    }
   },
   "outputs": [],
   "source": [
    "if \"remove\" in locals():\n",
    "    main_targets_interaction_effects_summary = interaction_effects_df.loc[[i for i in interaction_effects_df.index if i not in remove], :]"
   ]
  },
  {
   "cell_type": "code",
   "execution_count": null,
   "id": "606e5c56-7adb-452c-9e98-3b196c67f979",
   "metadata": {
    "pycharm": {
     "name": "#%%\n"
    }
   },
   "outputs": [],
   "source": [
    "# Get the most enriched effectors (ligands) for each target\n",
    "main_targets_interaction_effects_summary = (main_targets_interaction_effects_summary - main_targets_interaction_effects_summary.min()) / (main_targets_interaction_effects_summary.max() - main_targets_interaction_effects_summary.min())"
   ]
  },
  {
   "cell_type": "code",
   "execution_count": null,
   "id": "764466dd-51e6-44a7-a06b-92648efe24c8",
   "metadata": {
    "pycharm": {
     "name": "#%%\n"
    }
   },
   "outputs": [],
   "source": [
    "top_n_columns_per_row = main_targets_interaction_effects_summary.apply(lambda row: row[row > threshold].nlargest(n).index.tolist(), axis=1)\n",
    "\n",
    "# This was used to identify, e.g. target genes specific to a particular ligand/ligand family\n",
    "for i, top_columns in enumerate(top_n_columns_per_row):\n",
    "    print(f\"Row {top_n_columns_per_row.index[i]}: Top columns: {top_columns}\")"
   ]
  },
  {
   "cell_type": "markdown",
   "id": "31618bcb-5f5d-4488-b777-ce285f95209a",
   "metadata": {
    "pycharm": {
     "name": "#%% md\n"
    }
   },
   "source": [
    "### Figure 6b (CCI model result for the diencephalic ring)"
   ]
  },
  {
   "cell_type": "markdown",
   "id": "9a0dec7e-cbd0-4080-805d-fc10c4551b1c",
   "metadata": {
    "pycharm": {
     "name": "#%% md\n"
    }
   },
   "source": [
    "#### Ligands and receptors"
   ]
  },
  {
   "cell_type": "code",
   "execution_count": null,
   "id": "3e90b55f-43d4-463c-8207-9bfe8c111293",
   "metadata": {
    "pycharm": {
     "name": "#%%\n"
    }
   },
   "outputs": [],
   "source": [
    "# Change path to the local path that stores Spateo's database\n",
    "lr_db = pd.read_csv(\"/mnt/c/Users/danie/Desktop/Github/Github/spateo-release-main/spateo/tools/database/lr_db_mouse.csv\", index_col=0)"
   ]
  },
  {
   "cell_type": "code",
   "execution_count": null,
   "id": "5c32f921-a81f-45f6-965a-4a3f4bd905d6",
   "metadata": {
    "pycharm": {
     "name": "#%%\n"
    }
   },
   "outputs": [],
   "source": [
    "# Extract unique values from 'from' and 'to' columns\n",
    "unique_l = lr_db['from'].unique().tolist()\n",
    "unique_r = lr_db['to'].unique().tolist()\n",
    "\n",
    "# Combine and remove duplicates\n",
    "combined = set(unique_l + unique_r)\n",
    "\n",
    "# Split elements containing '_'\n",
    "split_elements = [item.split('_') for item in combined if '_' in item]\n",
    "flat_list = [item for sublist in split_elements for item in sublist]\n",
    "\n",
    "# Add split elements to combined set\n",
    "combined.update(flat_list)\n",
    "\n",
    "# Remove the elements containing '_' as they are already split\n",
    "combined = {x for x in combined if '_' not in x}\n",
    "print(len(combined))\n",
    "\n",
    "unique_l = [item.split('_') for item in unique_l]\n",
    "unique_l = set([item for sublist in unique_l for item in sublist])\n",
    "print(len(unique_l))\n",
    "unique_r = [item.split('_') for item in unique_r]\n",
    "unique_r = set([item for sublist in unique_r for item in sublist])\n",
    "print(len(unique_r))"
   ]
  },
  {
   "cell_type": "code",
   "execution_count": null,
   "id": "9d64d8bb-4108-4ea2-a2ba-00ec35c2ab45",
   "metadata": {
    "pycharm": {
     "name": "#%%\n"
    }
   },
   "outputs": [],
   "source": [
    "combined_sub = [g for g in combined if g in e115_dien_ring.var_names]\n",
    "print(len(combined_sub))\n",
    "\n",
    "unique_l = [g for g in unique_l if g in e115_dien_ring.var_names]\n",
    "print(len(unique_l))\n",
    "\n",
    "unique_r = [g for g in unique_r if g in e115_dien_ring.var_names]\n",
    "print(len(unique_r))"
   ]
  },
  {
   "cell_type": "code",
   "execution_count": null,
   "id": "a6b9990f-0823-4926-b52b-8fa927ece932",
   "metadata": {
    "pycharm": {
     "name": "#%%\n"
    }
   },
   "outputs": [],
   "source": [
    "df_expression = pd.DataFrame(e115_dien_ring[:, combined].X.toarray(), index=e115_dien_ring.obs_names, columns=combined)"
   ]
  },
  {
   "cell_type": "code",
   "execution_count": null,
   "id": "4eb18455-159c-477d-8c4f-db3221d19ab7",
   "metadata": {
    "pycharm": {
     "name": "#%%\n"
    }
   },
   "outputs": [],
   "source": [
    "# Save ligands and receptors expressed in over n cells:\n",
    "n = int(0.05 * e115_dien_ring.n_obs)\n",
    "gene_counts = (df_expression > 0).sum()\n",
    "\n",
    "# Filter ligands and receptors\n",
    "expressed_ligands = gene_counts[unique_l][gene_counts > n].index.tolist()\n",
    "expressed_receptors = gene_counts[unique_r][gene_counts > n].index.tolist()\n",
    "\n",
    "len(expressed_ligands), len(expressed_receptors)"
   ]
  },
  {
   "cell_type": "code",
   "execution_count": null,
   "id": "3d18d41a-dc50-4f2e-9f95-99a279e25ac1",
   "metadata": {
    "pycharm": {
     "name": "#%%\n"
    }
   },
   "outputs": [],
   "source": [
    "with open(\"/mnt/d/SCAnalysis/Spateo_E11.5_embryo_ZLI/CCI_inputs/diencephalic_ring_ligands.txt\", \"w\") as file:\n",
    "    for item in expressed_ligands:\n",
    "        file.write(\"%s\\n\" % item)"
   ]
  },
  {
   "cell_type": "code",
   "execution_count": null,
   "id": "cc358532-6e59-4896-8d02-e66dd01df39d",
   "metadata": {
    "pycharm": {
     "name": "#%%\n"
    }
   },
   "outputs": [],
   "source": [
    "with open(\"/mnt/d/SCAnalysis/Spateo_E11.5_embryo_ZLI/CCI_inputs/diencephalic_ring_receptors.txt\", \"w\") as file:\n",
    "    for item in expressed_receptors:\n",
    "        file.write(\"%s\\n\" % item)"
   ]
  },
  {
   "cell_type": "markdown",
   "id": "1bcc26dd-967a-4cfa-a5f7-d87a8b449b7b",
   "metadata": {
    "pycharm": {
     "name": "#%% md\n"
    }
   },
   "source": [
    "#### Target genes"
   ]
  },
  {
   "cell_type": "code",
   "execution_count": null,
   "id": "42249560-e1ca-4300-b66f-d11b734db671",
   "metadata": {
    "pycharm": {
     "name": "#%%\n"
    }
   },
   "outputs": [],
   "source": [
    "target_genes = [\n",
    "    \"Ckb\", \"Neurog2\", \"Cenpw\", \"Zic1\", \"Rmst\", \"Gm29478\", \"Tubb2b\", \"Cpe\", \"Tuba1a\", \"Cdkn1c\",\n",
    "    \"Igfbp2\", \"Zic4\", \"Hes5\", \"Tubb3\", \"Sox9\", \"Miat\", \"Ext1\", \"Clybl\", \"Nes\", \"Emb\", \"Serpinh1\",\n",
    "    \"Elavl4\", \"Igdcc3\", \"Gli3\", \"Mecom\", \"Mest\", \"Stmn1\", \"Nxn\", \"Ptprd\", \"Nfia\", \"Id3\", \"Rgma\",\n",
    "    \"Tmeff1\", \"Zfp503\", \"Zic5\", \"Gja1\", \"Zic3\", \"Tmsb4x\", \"Nrarp\", \"Calm1\", \"Map2\", \"Itm2c\", \"Sox11\",\n",
    "    \"Tpm1\", \"Map1b\", \"Mllt3\", \"Ppp1r1a\", \"Tle4\", \"Ezr\", \"Rspo1\", \"Spry1\", \"Glis3\", \"Dusp6\", \"Neurog2\",\n",
    "    \"Stmn1\", \"Map2\", \"Sox9\", \"Rgma\", \"Hes5\", \"Gja1\", \"Itm2c\", \"Gli3\", \"Zic4\", \"Serpinh1\", \"Ezr\",\n",
    "    \"Rmst\", \"Sufu\"\n",
    "]"
   ]
  },
  {
   "cell_type": "code",
   "execution_count": null,
   "id": "7f40ee1e-8e8a-4692-8eda-43861fd40463",
   "metadata": {
    "pycharm": {
     "name": "#%%\n"
    }
   },
   "outputs": [],
   "source": [
    "with open(\"/mnt/d/SCAnalysis/Spateo_E11.5_embryo_ZLI/CCI_inputs/diencephalic_ring_targets.txt\", \"w\") as file:\n",
    "    for item in target_genes:\n",
    "        file.write(\"%s\\n\" % item)"
   ]
  },
  {
   "cell_type": "markdown",
   "id": "00ee7880-2603-4b3c-983e-01daeef0ffc1",
   "metadata": {
    "pycharm": {
     "name": "#%% md\n"
    }
   },
   "source": [
    "#### Initialize CCI model"
   ]
  },
  {
   "cell_type": "code",
   "execution_count": null,
   "id": "6dd655ab-9d68-4ad9-8885-f1f10c3e5c25",
   "metadata": {
    "pycharm": {
     "name": "#%%\n"
    }
   },
   "outputs": [],
   "source": [
    "cci_lower_bound = st.tl.find_neighbors.find_bw_for_n_neighbors(\n",
    "    e115_dien_ring,\n",
    "    coords_key=\"z_correction\",\n",
    "    n_anchors=2000,\n",
    "    target_n_neighbors=27,\n",
    "    initial_bw=200,\n",
    "    exclude_self=True\n",
    ")\n",
    "cci_lower_bound"
   ]
  },
  {
   "cell_type": "code",
   "execution_count": null,
   "id": "0c6de6ae-5aa5-47a2-840e-c31759e949ce",
   "metadata": {
    "pycharm": {
     "name": "#%%\n"
    }
   },
   "outputs": [],
   "source": [
    "cci_upper_bound = st.tl.find_neighbors.find_bw_for_n_neighbors(\n",
    "    e115_dien_ring,\n",
    "    coords_key=\"spatial\",\n",
    "    n_anchors=2000,\n",
    "    target_n_neighbors=250,\n",
    "    initial_bw=200,\n",
    "    exclude_self=True\n",
    ")\n",
    "cci_upper_bound"
   ]
  },
  {
   "cell_type": "code",
   "execution_count": null,
   "id": "cc029c30-ef57-4185-87de-d6f9b2416e76",
   "metadata": {
    "pycharm": {
     "name": "#%%\n"
    }
   },
   "outputs": [],
   "source": [
    "# Change all paths in below blocks to the appropriate locations on your local machine"
   ]
  },
  {
   "cell_type": "code",
   "execution_count": null,
   "id": "06677022-ba2e-4029-ad0b-d0215192d8ce",
   "metadata": {
    "pycharm": {
     "name": "#%%\n"
    }
   },
   "outputs": [],
   "source": [
    "cci_input_directory = \"/mnt/d/SCAnalysis/Spateo_E11.5_embryo_ZLI/CCI_inputs\"\n",
    "cci_output_directory = \"/mnt/d/SCAnalysis/Spateo_E11.5_embryo_ZLI/CCI_outputs/dien_ring_outputs\"\n",
    "cci_output_id = os.path.join(cci_output_directory, \"dien_ring_target_genes.csv\")"
   ]
  },
  {
   "cell_type": "code",
   "execution_count": null,
   "id": "befa658a-594e-462c-932b-d57ba3ebe162",
   "metadata": {
    "pycharm": {
     "name": "#%%\n"
    }
   },
   "outputs": [],
   "source": [
    "adata_path = path_to_dien_ring\n",
    "output_path = cci_output_id\n",
    "# Use the ligand/receptor paths from the model fitting:\n",
    "ligand_path = \"/mnt/d/SCAnalysis/Spateo_E11.5_embryo_ZLI/CCI_inputs/diencephalic_ring_ligands.txt\"\n",
    "# Note that even though receptor path is given, this is not actually used for figure 6, which uses only the ligands because the data is very sparse- but if \"mod_type\" is \"lr\", this will be used.\n",
    "receptor_path = \"/mnt/d/SCAnalysis/Spateo_E11.5_embryo_ZLI/CCI_inputs/diencephalic_ring_receptors.txt\"  \n",
    "target_path = \"/mnt/d/SCAnalysis/Spateo_E11.5_embryo_ZLI/CCI_inputs/diencephalic_ring_targets.txt\"\n",
    "cci_dir_path = \"/mnt/c/Users/danie/Desktop/Github/Github/spateo-release-main/spateo/tools/database\"\n",
    "mod_type = \"ligand\"\n",
    "species = \"mouse\"\n",
    "group_key = \"mapped_celltype\"\n",
    "coords_key = \"z_correction\"\n",
    "distance_membrane_bound = 6.37\n",
    "n_neighbors_membrane_bound = 27\n",
    "distance_secreted = 16.17\n",
    "# Effective radius for each cell that assumes cell size = 10um, diameter signaling range = 250um, and cells are not tightly packed, w/ a (erring on the larger side)\n",
    "# distance of 30um between neighbors\n",
    "n_neighbors_secreted = 250\n",
    "minbw = 9.55\n",
    "maxbw = 24.25\n",
    "spatial_subsample = True"
   ]
  },
  {
   "cell_type": "code",
   "execution_count": null,
   "id": "134938dc-edc1-42c2-a909-44d6b20f94ba",
   "metadata": {
    "pycharm": {
     "name": "#%%\n"
    }
   },
   "outputs": [],
   "source": [
    "parser, args_list = st.tl.define_spateo_argparse(\n",
    "    adata_path=adata_path,\n",
    "    custom_lig_path=ligand_path,\n",
    "    custom_rec_path=receptor_path,\n",
    "    targets_path=target_path,\n",
    "    cci_dir=cci_dir_path,\n",
    "    mod_type=mod_type,\n",
    "    species=species,\n",
    "    group_key=group_key,\n",
    "    coords_key=coords_key,\n",
    "    distance_membrane_bound=distance_membrane_bound,\n",
    "    n_neighbors_membrane_bound=n_neighbors_membrane_bound,\n",
    "    distance_secreted=distance_secreted,\n",
    "    n_neighbors_secreted=n_neighbors_secreted,\n",
    "    minbw=minbw,\n",
    "    maxbw=maxbw,\n",
    "    spatial_subsample=spatial_subsample,\n",
    "    output_path=output_path,\n",
    ")"
   ]
  },
  {
   "cell_type": "code",
   "execution_count": null,
   "id": "12ee1af9-75a5-4838-8c87-9046ca395f67",
   "metadata": {
    "pycharm": {
     "name": "#%%\n"
    }
   },
   "outputs": [],
   "source": [
    "downstream_model = st.tl.MuSIC_Interpreter(parser, args_list)"
   ]
  },
  {
   "cell_type": "code",
   "execution_count": null,
   "id": "6195fd42-4e89-446c-84c7-2ec6a3704900",
   "metadata": {
    "pycharm": {
     "name": "#%%\n"
    }
   },
   "outputs": [],
   "source": [
    "# Fgf8 effect on Sufu\n",
    "target = \"Sufu\"\n",
    "ligand = \"Fgf8\""
   ]
  },
  {
   "cell_type": "code",
   "execution_count": null,
   "id": "43acedeb-a532-4870-8720-65e481359b4c",
   "metadata": {
    "pycharm": {
     "name": "#%%\n"
    }
   },
   "outputs": [],
   "source": [
    "save_path = f\"/mnt/d/SCAnalysis/Spateo_E11.5_embryo_ZLI/diencephalic_ring_Fgf8_Sufu_effect.html\""
   ]
  },
  {
   "cell_type": "code",
   "execution_count": null,
   "id": "0651b631-329f-44b6-a951-0501d079281d",
   "metadata": {
    "pycharm": {
     "name": "#%%\n"
    }
   },
   "outputs": [],
   "source": [
    "downstream_model.plot_interaction_effect_3D(\n",
    "    target=target,\n",
    "    interaction=interaction,\n",
    "    size=3.5,\n",
    "    save_path=save_path\n",
    ")"
   ]
  }
 ],
 "metadata": {
  "kernelspec": {
   "display_name": "islands_paradise",
   "language": "python",
   "name": "islands_paradise"
  },
  "language_info": {
   "codemirror_mode": {
    "name": "ipython",
    "version": 3
   },
   "file_extension": ".py",
   "mimetype": "text/x-python",
   "name": "python",
   "nbconvert_exporter": "python",
   "pygments_lexer": "ipython3",
   "version": "3.9.12"
  }
 },
 "nbformat": 4,
 "nbformat_minor": 5
}
