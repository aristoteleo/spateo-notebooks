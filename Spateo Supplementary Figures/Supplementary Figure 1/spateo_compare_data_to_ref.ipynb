{
 "cells": [
  {
   "cell_type": "code",
   "execution_count": null,
   "id": "6cf75a12-ee55-4f72-b225-59520f090a29",
   "metadata": {},
   "outputs": [],
   "source": [
    "import anndata\n",
    "import numpy as np\n",
    "import pandas as pd\n",
    "import scanpy as sc\n",
    "import matplotlib.pyplot as plt\n",
    "import scipy\n",
    "import scipy.stats as stats\n",
    "import seaborn as sns\n",
    "\n",
    "from tqdm import tqdm"
   ]
  },
  {
   "cell_type": "code",
   "execution_count": null,
   "id": "7ca6cd2a-a2e1-4080-9452-9cb2220d498b",
   "metadata": {},
   "outputs": [],
   "source": [
    "%config InlineBackend.print_figure_kwargs={'dpi': 300.0}"
   ]
  },
  {
   "cell_type": "markdown",
   "id": "5f95f944-3c82-4cd2-862d-586b58cf0f8a",
   "metadata": {},
   "source": [
    "# E11.5"
   ]
  },
  {
   "cell_type": "markdown",
   "id": "64bd8039-366e-476f-9133-15ecd9ead778",
   "metadata": {},
   "source": [
    "## Load our data and the reference"
   ]
  },
  {
   "cell_type": "code",
   "execution_count": null,
   "id": "abd0a339-df2c-4927-bc34-e4012ddd04e5",
   "metadata": {},
   "outputs": [],
   "source": [
    "e115_ref = anndata.read_h5ad(\"/home/danielyumengzhu/Single-cell-data/Shendure_reference/embryo_E11.5_ref_stereo-seq_gene_intersection.h5ad\")\n",
    "e115 = anndata.read_h5ad(\"/home/danielyumengzhu/Single-cell-data/cellbin_mouse_embryo_aligned_E11.5/E11.5_full_final_mod.h5ad\")"
   ]
  },
  {
   "cell_type": "code",
   "execution_count": null,
   "id": "fce361cb-10c8-416f-8464-652c9823242a",
   "metadata": {},
   "outputs": [],
   "source": [
    "pd.set_option(\"display.max_rows\", 200)\n",
    "e115.obs[\"mapped_celltype\"].value_counts()"
   ]
  },
  {
   "cell_type": "code",
   "execution_count": null,
   "id": "25d9ede2-fb7f-48a3-8b20-0ef4ca36c992",
   "metadata": {},
   "outputs": [],
   "source": [
    "# Map cell types to their major trajectories\n",
    "major_trajectories = e115_ref.obs[\"major_trajectory\"]\n",
    "cell_types = e115_ref.obs[\"celltypes_Spateo_match\"]\n",
    "\n",
    "category_dict_ref = {}\n",
    "\n",
    "for category in major_trajectories.unique():\n",
    "    subset_obs2 = cell_types[major_trajectories == category]\n",
    "    unique_obs2_categories = subset_obs2.unique().tolist()\n",
    "    category_dict_ref[category] = unique_obs2_categories\n",
    "category_dict_ref"
   ]
  },
  {
   "cell_type": "code",
   "execution_count": null,
   "id": "14871028-8102-43ee-a0b2-beccc6ff6b34",
   "metadata": {},
   "outputs": [],
   "source": [
    "ref_categories_ordered = []\n",
    "for value_list in category_dict_ref.values():\n",
    "    ref_categories_ordered.extend(value_list)\n",
    "\n",
    "ref_categories_ordered"
   ]
  },
  {
   "cell_type": "markdown",
   "id": "49a398f6-b1d3-422f-9784-a1ae66202771",
   "metadata": {},
   "source": [
    "### Optionally look @ cell type markers"
   ]
  },
  {
   "cell_type": "code",
   "execution_count": null,
   "id": "4f67f546-2356-43e8-868f-f0c448d4e7a7",
   "metadata": {},
   "outputs": [],
   "source": [
    "sc.pp.filter_cells(e115_ref, min_genes=200)\n",
    "sc.pp.filter_genes(e115_ref, min_cells=3)\n",
    "sc.pp.normalize_total(e115_ref, target_sum=1e4)\n",
    "sc.pp.log1p(e115_ref)\n",
    "sc.pp.highly_variable_genes(e115_ref, min_mean=0.0125, max_mean=3, min_disp=0.5)\n",
    "e115_ref = e115_ref[:, e115_ref.var.highly_variable]\n",
    "sc.pp.scale(e115_ref, max_value=10)"
   ]
  },
  {
   "cell_type": "code",
   "execution_count": null,
   "id": "7ace700e-1c3f-43fe-bd97-d222dde6b229",
   "metadata": {},
   "outputs": [],
   "source": [
    "e115_ref.obs[\"celltypes_Spateo_match\"].value_counts()"
   ]
  },
  {
   "cell_type": "code",
   "execution_count": null,
   "id": "26bea010-8427-4e69-853f-379210bd6247",
   "metadata": {},
   "outputs": [],
   "source": [
    "sc.tl.rank_genes_groups(e115_ref, 'major_trajectory', method='t-test')\n",
    "sc.pl.rank_genes_groups(e115_ref, n_genes=25, sharey=False)"
   ]
  },
  {
   "cell_type": "code",
   "execution_count": null,
   "id": "1f5b76c3-35a1-490e-a742-b3cb24caa7ad",
   "metadata": {},
   "outputs": [],
   "source": [
    "trajectory = \"Epithelial_cells\""
   ]
  },
  {
   "cell_type": "code",
   "execution_count": null,
   "id": "a7b6f476-597d-43ec-8f95-d2b314bb76cb",
   "metadata": {},
   "outputs": [],
   "source": [
    "degs = e115_ref.uns['rank_genes_groups']\n",
    "\n",
    "# Convert the results to a DataFrame\n",
    "groups = degs['names'].dtype.names\n",
    "marker_genes_df = pd.DataFrame(\n",
    "    {group: degs['names'][group] for group in groups},\n",
    "    index=range(len(degs['names'][groups[0]]))\n",
    ")\n",
    "gene_list = marker_genes_df[trajectory].head(25)"
   ]
  },
  {
   "cell_type": "code",
   "execution_count": null,
   "id": "82d0d69a-656b-45a7-ab84-3915fe1ba657",
   "metadata": {},
   "outputs": [],
   "source": [
    "subset = e115_ref[e115_ref.obs[\"major_trajectory\"] == \"Epithelial_cells\"].copy()\n",
    "sc.tl.rank_genes_groups(subset, 'celltype_update', method='t-test')\n",
    "sc.pl.rank_genes_groups(subset, n_genes=25, sharey=False)"
   ]
  },
  {
   "cell_type": "code",
   "execution_count": null,
   "id": "dcf128c4-430a-482f-ae2c-be2e61afe9a2",
   "metadata": {},
   "outputs": [],
   "source": [
    "ct_ref_sub = e115_ref[e115_ref.obs[\"celltype_update\"] == \"Apical ectodermal ridge\"].copy()"
   ]
  },
  {
   "cell_type": "code",
   "execution_count": null,
   "id": "8a860986-20bd-42d0-9a53-27ffcb4a03fa",
   "metadata": {},
   "outputs": [],
   "source": [
    "# Calculate the percentage of cells expressing each gene\n",
    "percentages = {}\n",
    "for gene in gene_list:\n",
    "    if gene in e115_ref.var_names:\n",
    "        expressed_cells = ct_ref_sub[:, gene].X > 0  \n",
    "        percentage = np.mean(expressed_cells) * 100  \n",
    "        percentages[gene] = percentage\n",
    "    else:\n",
    "        percentages[gene] = None\n",
    "\n",
    "percentages_df = pd.DataFrame.from_dict(percentages, orient='index', columns=['PercentExpressing'])\n",
    "percentages_df"
   ]
  },
  {
   "cell_type": "code",
   "execution_count": null,
   "id": "00078200-2cc1-43a6-9eee-0dd917d7f79a",
   "metadata": {},
   "outputs": [],
   "source": [
    "ct = \"Apical ectodermal ridge\""
   ]
  },
  {
   "cell_type": "code",
   "execution_count": null,
   "id": "6ed5698a-8bd3-479b-895e-98369ca9aaa3",
   "metadata": {},
   "outputs": [],
   "source": [
    "degs = subset.uns['rank_genes_groups']\n",
    "\n",
    "# Convert the results to a DataFrame\n",
    "groups = degs['names'].dtype.names\n",
    "marker_genes_df = pd.DataFrame(\n",
    "    {group: degs['names'][group] for group in groups},\n",
    "    index=range(len(degs['names'][groups[0]]))\n",
    ")"
   ]
  },
  {
   "cell_type": "code",
   "execution_count": null,
   "id": "f4838b53-84f4-4b09-82a7-c4ad0b305921",
   "metadata": {},
   "outputs": [],
   "source": [
    "#gene_list = marker_genes_df[trajectory].head(25).tolist()\n",
    "gene_list = [\"Shh\", \"Wnt7a\"]"
   ]
  },
  {
   "cell_type": "code",
   "execution_count": null,
   "id": "bdf8fc30-f0ba-4691-960f-09e1409a4081",
   "metadata": {},
   "outputs": [],
   "source": [
    "ct_sub = e115[e115.obs[\"mapped_celltype\"] == ct].copy()\n",
    "ct_sub"
   ]
  },
  {
   "cell_type": "code",
   "execution_count": null,
   "id": "488c9a09-0a24-4833-9967-eb6c83e9c41c",
   "metadata": {},
   "outputs": [],
   "source": [
    "ct_rest = e115[e115.obs[\"mapped_celltype\"] != ct].copy()\n",
    "ct_rest"
   ]
  },
  {
   "cell_type": "code",
   "execution_count": null,
   "id": "8ca0348f-3e1e-4266-a61b-56237b922e83",
   "metadata": {},
   "outputs": [],
   "source": [
    "# Calculate the percentage of cells expressing each gene\n",
    "percentages = {}\n",
    "for gene in gene_list:\n",
    "    if gene in e115.var_names:\n",
    "        expressed_cells = ct_sub[:, gene].X > 0  \n",
    "        percentage = np.mean(expressed_cells) * 100  \n",
    "        percentages[gene] = percentage\n",
    "    else:\n",
    "        percentages[gene] = None\n",
    "\n",
    "percentages_df = pd.DataFrame.from_dict(percentages, orient='index', columns=['PercentExpressing'])\n",
    "percentages_df"
   ]
  },
  {
   "cell_type": "code",
   "execution_count": null,
   "id": "6406edb4-c091-4661-98f0-82c12f4b7d86",
   "metadata": {},
   "outputs": [],
   "source": [
    "# And the percentage of cells not of this type w/ the given genes expressed:\n",
    "percentages = {}\n",
    "for gene in tqdm(gene_list):\n",
    "    if gene in e115.var_names:\n",
    "        expressed_cells = ct_rest[:, gene].X > 0  \n",
    "        percentage = np.mean(expressed_cells) * 100  \n",
    "        percentages[gene] = percentage\n",
    "    else:\n",
    "        percentages[gene] = None\n",
    "\n",
    "percentages_df = pd.DataFrame.from_dict(percentages, orient='index', columns=['PercentExpressing'])\n",
    "percentages_df"
   ]
  },
  {
   "cell_type": "code",
   "execution_count": null,
   "id": "0a6f74ca-ebca-41a9-8412-b8fc8c3a4019",
   "metadata": {},
   "outputs": [],
   "source": [
    "# Find genes expressed in the highest proportion of cells, exclude essential genes:\n",
    "exclude = [\"Act\", \"Tub\", \"Rpl\", \"Rps\", \"Ub\", \"Gapdh\", \"Hk\", \"Pfk\", \"Plk\", \"Cs\", \"Aco\", \"Idh\", \"Sdh\", \"Ogd\", \"Fh\", \"Mdh\", \"Aca\", \"Fas\", \"Cpt\", \"Glu\", \"Got\", \"Shmt\", \"Rrm\", \"Dhf\", \"Snr\", \"Hnrn\", \"Ldha\", \"Hsp\", \"H2\", \"H3\", \"H4\", \"Hmgb\", \"Eef\", \"Eif\", \"Atp\", \"Cox\", \"Ran\", \"Gnai\", \"Malat\", \"Ppia\", \"mt-\", \"Ywh\", \"Elo\", \"Ptm\", \"Tms\", \"Marck\", \"Nedd\", \"Fau\", \"Hba\", \"Hbb\", \"Gm\", \"Rik\"]\n",
    "gene_expression_percentages = {}\n",
    "\n",
    "for gene in tqdm(ct_sub.var_names):\n",
    "    if not any(item in gene for item in exclude):\n",
    "        # Calculate the percentage of cells where the gene is expressed\n",
    "        expressed_cells = np.sum(ct_sub[:, gene].X.toarray() > 0, axis=0)\n",
    "        percentage = (expressed_cells / ct_sub.n_obs) * 100\n",
    "        gene_expression_percentages[gene] = percentage.item()  # Convert numpy object to scalar\n",
    "\n",
    "# Convert the results to a DataFrame\n",
    "gene_expression_df = pd.DataFrame.from_dict(gene_expression_percentages, orient='index', columns=['PercentExpressing'])\n",
    "\n",
    "# Sort the DataFrame to find genes with the highest expression\n",
    "top_genes = gene_expression_df.sort_values(by='PercentExpressing', ascending=False)\n",
    "\n",
    "# Display the top genes\n",
    "print(top_genes.head(25))"
   ]
  },
  {
   "cell_type": "code",
   "execution_count": null,
   "id": "39935317-c2d7-46da-9eea-c0767d868b34",
   "metadata": {},
   "outputs": [],
   "source": [
    "cell_types_to_keep = e115.obs[\"mapped_celltype\"].value_counts()[e115.obs[\"mapped_celltype\"].value_counts() > 1000].index.tolist()"
   ]
  },
  {
   "cell_type": "code",
   "execution_count": null,
   "id": "3d722e83-5747-4cd2-9554-2267b8d41ed9",
   "metadata": {},
   "outputs": [],
   "source": [
    "e115 = e115[e115.obs['mapped_celltype'].isin(cell_types_to_keep)].copy()"
   ]
  },
  {
   "cell_type": "code",
   "execution_count": null,
   "id": "66e0ca1c-4f1f-4562-b915-f5e043bda483",
   "metadata": {},
   "outputs": [],
   "source": [
    "ref_cts = set(e115_ref.obs[\"celltype_update\"])\n",
    "e115_cts = set(e115.obs[\"mapped_celltype\"])"
   ]
  },
  {
   "cell_type": "markdown",
   "id": "e0a2c5f6-d3ac-4ac2-a789-0952877435eb",
   "metadata": {},
   "source": [
    "### Can start E11.5 analysis here"
   ]
  },
  {
   "cell_type": "code",
   "execution_count": null,
   "id": "73cbb12d-1cf7-435b-bc86-afbc50a473a2",
   "metadata": {},
   "outputs": [],
   "source": [
    "# Some of the mapping will be commented out because of relatively low number of cells assigned that type label (the E11.5 object will be updated to exclude these cells soon)\n",
    "mapping = {\n",
    "    \"Anterior floor plate\": \"Anterior floor plate\",\n",
    "    \"Anterior roof plate\": \"Anterior roof plate\",\n",
    "    \"Apical ectodermal ridge\": \"Apical ectodermal ridge\",\n",
    "    \"Arterial endothelial cells\": \"Arterial endothelial cells\",\n",
    "    \"Astrocytes\": \"Astrocytes\",\n",
    "    # Note the reference does not have many heart cell types, although we know the heart is present & relatively large at this stage\n",
    "    \"Atrial cardiomyocytes\": \"First heart field\",\n",
    "    \"Border-associated macrophages\": \"Border-associated macrophages\",\n",
    "    \"Branchial arch epithelium\": \"Branchial arch epithelium\",\n",
    "    \"CNS capillary endothelial cells\": \"Brain capillary endothelial cells\",\n",
    "    \"Cajal-Retzius cells\": \"Cajal-Retzius cells\",\n",
    "    \"Cardiac fibroblasts\": \"Fibroblasts\",\n",
    "    \"Cardiac mesoderm\": \"Cardiopharyngeal mesoderm\",\n",
    "    #\"Cerebellar Purkinje cells\": \"Cerebellar Purkinje cells\",\n",
    "    \"Chondrocytes\": \"Chondrocytes (Atp1a2+)\",\n",
    "    \"Choroid plexus epithelial precursors\": \"Choroid plexus\",\n",
    "    # My guess is that this corresponds to a combination of chondrocytes & sclerotome from the single-cell- I defined the head region mesoderm-derived cells as being cranial mesoderm because \n",
    "    # \"sclerotome\" as a concept technically doesn't extend into the head region\n",
    "    \"Cranial mesoderm\": \"Sclerotome\",\n",
    "    \"Cranial motor neurons\": \"Cranial motor neurons\",\n",
    "    \"Definitive early erythroblasts\": \"Definitive early erythroblasts (CD36-)\",\n",
    "    \"Dermatome\": \"Dermatome\",\n",
    "    \"Dermomyotome\": \"Dermomyotome\",\n",
    "    \"Diencephalon neuroectoderm\": \"Diencephalon\",\n",
    "    #\"Dorsal root ganglion neurons\": \"Dorsal root ganglion neurons\",\n",
    "    \"Dorsal telencephalon neuroectoderm\": \"Dorsal telencephalon\",\n",
    "    \"Early chondrocytes\": \"Early chondrocytes\",\n",
    "    \"Ectoderm-derived\": \"Placodal area\",\n",
    "    \"Endocardial cells\": \"Endocardial cells\",\n",
    "    \"Endothelium\": \"Endothelium\",\n",
    "    \"Enteric neurons\": \"Enteric neurons\",\n",
    "    \"Epithelial precursors\": \"Pre-epidermal keratinocytes\",\n",
    "    \"Eye field\": \"Eye field\",\n",
    "    \"Facial mesenchyme\": \"Facial mesenchyme\",\n",
    "    \"Fibroblasts\": \"Fibroblasts\",\n",
    "    \"Floorplate and p3 domain\": \"Floorplate and p3 domain\",\n",
    "    \"GABAergic interneurons\": \"GABAergic cortical interneurons\",\n",
    "    \"GABAergic neurons\": \"GABAergic neurons\",\n",
    "    \"Glutamatergic neurons\": \"Glutamatergic neurons\",\n",
    "    \"Gut\": \"Gut\",\n",
    "    \"Gut mesenchyme\": \"Gut mesenchyme\",\n",
    "    \"Hematopoietic progenitors\": \"Hematopoietic stem cells (Cd34+)\",\n",
    "    \"Hepatic mesenchyme\": \"Hepatic mesenchyme\",\n",
    "    \"Hepatocytes\": \"Hepatocytes\",\n",
    "    \"Hindbrain neuroectoderm\": \"Hindbrain\",\n",
    "    \"Hypothalamus (Sim1+) neuroectoderm\": \"Hypothalamus (Sim1+)\",\n",
    "    \"Hypothalamus neuroectoderm\": \"Hypothalamus\",\n",
    "    \"Intermediate neuronal progenitors\": \"Intermediate neuronal progenitors\",\n",
    "    \"Kupffer cells\": \"Kupffer cells\",\n",
    "    \"Lateral plate and intermediate mesoderm\": \"Splanchnic mesoderm\",\n",
    "    \"Limb progenitors and lateral plate mesenchyme\": \"Limb mesenchyme progenitors\",\n",
    "    \"Liver sinusoidal endothelial cells\": \"Liver sinusoidal endothelial cells\",\n",
    "    \"Lung mesenchyme\": \"Lung mesenchyme\",\n",
    "    \"Lung progenitor cells\": \"Lung progenitor cells\",\n",
    "    \"Lymphatic vessel endothelial cells\": \"Lymphatic vessel endothelial cells\",\n",
    "    \"Megakaryocytes\": \"Megakaryocytes\",\n",
    "    #\"Melanocyte cells\": \"Melanocyte cells\",\n",
    "    \"Mesoderm-derived\": \"Somatic mesoderm\",\n",
    "    \"Mesodermal progenitors\": \"Mesodermal progenitors (Tbx6+)\",\n",
    "    \"Metanephric mesenchyme\": \"Metanephric mesenchyme\",\n",
    "    \"Microglia\": \"Microglia\",\n",
    "    \"Midbrain neuroectoderm\": \"Midbrain\",\n",
    "    \"Midbrain-hindbrain boundary\": \"Midbrain-hindbrain boundary\",\n",
    "    \"Muscle progenitor cells\": \"Muscle progenitor cells\",\n",
    "    \"Myelinating Schwann cells\": \"Myelinating Schwann cells\",\n",
    "    \"Myoblasts\": \"Myoblasts\",\n",
    "    \"Myofibroblasts\": \"Myofibroblasts\",\n",
    "    \"Myotubes\": \"Myotubes\",\n",
    "    \"NMPs and spinal cord progenitors\": \"NMPs and spinal cord progenitors\",\n",
    "    \"Neural crest (PNS glia)\": \"Neural crest (PNS glia)\",\n",
    "    \"Neural crest (PNS neurons)\": \"Neural crest (PNS neurons)\",\n",
    "    \"Neural progenitors\": \"Neural progenitor cells (Neurod1+)\",\n",
    "    # This is generally scattered across the brain- use telencephalon neuroectoderm for comparison\n",
    "    \"Neuroectoderm-derived\": \"Telencephalon\",\n",
    "    #\"Neurons (Slc17a8+)\": \"Neurons (Slc17a8+)\",\n",
    "    \"Olfactory epithelial cells\": \"Olfactory epithelial cells\",\n",
    "    \"Otic epithelial cells\": \"Otic epithelial cells\",\n",
    "    \"Otic sensory neurons\": \"Otic sensory neurons\",\n",
    "    \"Outflow tract cardiomyocytes\": \"First heart field\",\n",
    "    \"Pituitary and Pineal gland progenitors\": \"Pituitary/Pineal gland progenitors\",\n",
    "    \"Placode and neural crest-derived\": \"Placodal area\",\n",
    "    \"Posterior roof plate\": \"Posterior roof plate\",\n",
    "    \"Primitive erythroid cells\": \"Primitive erythroid cells\",\n",
    "    \"Proepicardium\": \"Proepicardium\",\n",
    "    \"Renal mesenchyme\": \"Metanephric mesenchyme\",\n",
    "    #\"Retinal pigment cells\": \"Retinal pigment cells\",\n",
    "    \"Sclerotome\": \"Sclerotome\",\n",
    "    \"Skeletal muscle progenitors\": \"Muscle progenitor cells (Prdm1+)\",\n",
    "    \"Somitic muscle progenitors\": \"Muscle progenitor cells (Prdm1+)\",\n",
    "    \"Spinal V0/1 interneurons\": \"Spinal V0 interneurons\",\n",
    "    \"Spinal V2/3 interneurons\": \"Spinal V2a interneurons\",\n",
    "    \"Spinal cord dorsal progenitors\": \"Spinal cord dorsal progenitors\",\n",
    "    \"Spinal cord motor neurons\": \"Spinal cord motor neurons\",\n",
    "    \"Spinal cord neuroectoderm\": \"Spinal cord/r7/r8\",\n",
    "    \"Spinal cord ventral progenitors\": \"Spinal cord ventral progenitors\",\n",
    "    \"Spinal dI1 interneurons\": \"Spinal dI1 interneurons\",\n",
    "    \"Spinal dI2/3/4 interneurons\": \"Spinal dI2 interneurons\",\n",
    "    \"Spinal dI5/6 interneurons\": \"Spinal dI5 interneurons\",\n",
    "    \"Sympathetic neurons\": \"Sympathetic neurons\",\n",
    "    \"Telencephalon neuroectoderm\": \"Telencephalon\",\n",
    "    #\"Thalamic neuronal precursors\": \"Thalamic neuronal precursors\",\n",
    "    \"Ureteric bud\": \"Ureteric bud\",\n",
    "    \"Ventricular cardiomyocytes\": \"First heart field\",\n",
    "    \"Zona limitans intrathalamica\": \"Thalamic neuronal precursors\"\n",
    "}"
   ]
  },
  {
   "cell_type": "code",
   "execution_count": null,
   "id": "9a5f0ae9-c1b0-4625-bc6a-4abd30cedc8f",
   "metadata": {},
   "outputs": [],
   "source": [
    "# Map cell types to their major trajectories\n",
    "cell_types = e115.obs[\"mapped_celltype\"]\n",
    "\n",
    "category_dict = {}\n",
    "\n",
    "for trajectory_category, cell_type_category_list in category_dict_ref.items():\n",
    "    corresponding_categories = []\n",
    "\n",
    "    for ct_category in cell_type_category_list:\n",
    "        matching_ct = [k for k, v in mapping.items() if v == ct_category]\n",
    "        corresponding_categories.extend(matching_ct)\n",
    "\n",
    "    # Store the result in the dictionary for the second object\n",
    "    category_dict[trajectory_category] = corresponding_categories\n",
    "    \n",
    "category_dict"
   ]
  },
  {
   "cell_type": "code",
   "execution_count": null,
   "id": "418565c8-a1d7-4aed-a5cc-1b9639fffe13",
   "metadata": {},
   "outputs": [],
   "source": [
    "categories_ordered = []\n",
    "for value_list in category_dict.values():\n",
    "    categories_ordered.extend(value_list)\n",
    "\n",
    "categories_ordered"
   ]
  },
  {
   "cell_type": "markdown",
   "id": "f211ea28-94d2-4989-b186-92f1bd09feab",
   "metadata": {},
   "source": [
    "## Find reference markers"
   ]
  },
  {
   "cell_type": "code",
   "execution_count": null,
   "id": "896c2ac5-eb94-431c-8492-6e760b3b09cb",
   "metadata": {},
   "outputs": [],
   "source": [
    "# Marker genes for each cell type in the reference:\n",
    "sc.pp.filter_cells(e115_ref, min_genes=200)\n",
    "sc.pp.filter_genes(e115_ref, min_cells=3)\n",
    "sc.pp.normalize_total(e115_ref, target_sum=1e4)\n",
    "sc.pp.log1p(e115_ref)\n",
    "e115_ref"
   ]
  },
  {
   "cell_type": "code",
   "execution_count": null,
   "id": "df5b4363-bf35-4106-96b8-9e29024b876c",
   "metadata": {},
   "outputs": [],
   "source": [
    "sc.pp.highly_variable_genes(e115_ref, min_mean=0.0125, max_mean=3, min_disp=0.5)\n",
    "e115_ref = e115_ref[:, e115_ref.var.highly_variable]\n",
    "e115_ref"
   ]
  },
  {
   "cell_type": "code",
   "execution_count": null,
   "id": "d94536c2-3791-4579-b08f-a03d3a4a2eae",
   "metadata": {},
   "outputs": [],
   "source": [
    "sc.tl.rank_genes_groups(e115_ref, 'celltypes_Spateo_match', method='t-test')\n",
    "marker_genes = e115_ref.uns['rank_genes_groups']"
   ]
  },
  {
   "cell_type": "code",
   "execution_count": null,
   "id": "b0f62aed-0060-4a2f-8284-17d39f8654d0",
   "metadata": {},
   "outputs": [],
   "source": [
    "n_genes = 50\n",
    "groups = marker_genes['names'].dtype.names\n",
    "top_genes = {group: list(marker_genes['names'][group][:n_genes]) for group in groups}\n",
    "top_genes_df = pd.DataFrame(top_genes)\n",
    "top_genes_df"
   ]
  },
  {
   "cell_type": "markdown",
   "id": "9e3f54a0-76a6-4c19-9b8f-f97fa4eeb0fe",
   "metadata": {},
   "source": [
    "### Filter to epithelial cells and mesenchymal cells to get markers of these cell types"
   ]
  },
  {
   "cell_type": "code",
   "execution_count": null,
   "id": "3a950272-77bf-401e-9457-b16767e2ba84",
   "metadata": {},
   "outputs": [],
   "source": [
    "e115_ref = anndata.read_h5ad(\"/home/danielyumengzhu/Single-cell-data/Shendure_reference/embryo_E11.5_ref_stereo-seq_gene_intersection.h5ad\")\n",
    "e115_ref_sub = e115_ref[e115_ref.obs[\"major_trajectory\"].isin([\"Epithelial_cells\", \"Mesoderm\"])].copy()"
   ]
  },
  {
   "cell_type": "code",
   "execution_count": null,
   "id": "875634eb-16b4-493f-b99b-81084c3f4dd3",
   "metadata": {},
   "outputs": [],
   "source": [
    "# Marker genes for each cell type in the reference:\n",
    "sc.pp.filter_cells(e115_ref_sub, min_genes=200)\n",
    "sc.pp.filter_genes(e115_ref_sub, min_cells=3)\n",
    "sc.pp.normalize_total(e115_ref_sub, target_sum=1e4)\n",
    "sc.pp.log1p(e115_ref_sub)\n",
    "e115_ref_sub"
   ]
  },
  {
   "cell_type": "code",
   "execution_count": null,
   "id": "58b78008-0ce1-4989-8977-5c2fe30878b4",
   "metadata": {},
   "outputs": [],
   "source": [
    "sc.pp.highly_variable_genes(e115_ref_sub, min_mean=0.0125, max_mean=3, min_disp=0.5)\n",
    "e115_ref_sub = e115_ref_sub[:, e115_ref_sub.var.highly_variable]\n",
    "e115_ref_sub"
   ]
  },
  {
   "cell_type": "code",
   "execution_count": null,
   "id": "c75fdb87-e5de-47e4-ac3f-0dc58bda22de",
   "metadata": {},
   "outputs": [],
   "source": [
    "sc.tl.rank_genes_groups(e115_ref_sub, 'celltypes_Spateo_match', method='t-test')\n",
    "marker_genes = e115_ref_sub.uns['rank_genes_groups']"
   ]
  },
  {
   "cell_type": "code",
   "execution_count": null,
   "id": "49291914-0778-403a-a71b-e577c69dbe0a",
   "metadata": {},
   "outputs": [],
   "source": [
    "n_genes = 50\n",
    "groups = marker_genes['names'].dtype.names\n",
    "top_genes = {group: list(marker_genes['names'][group][:n_genes]) for group in groups}\n",
    "top_genes_df_sub = pd.DataFrame(top_genes)\n",
    "top_genes_df_sub"
   ]
  },
  {
   "cell_type": "code",
   "execution_count": null,
   "id": "2de9dcf6-f988-40e7-a25e-856ab704f49d",
   "metadata": {},
   "outputs": [],
   "source": [
    "top_genes_df.loc[:, top_genes_df_sub.columns] = top_genes_df_sub"
   ]
  },
  {
   "cell_type": "code",
   "execution_count": null,
   "id": "cf1bd618-89ab-411c-98e3-a060406c163d",
   "metadata": {},
   "outputs": [],
   "source": [
    "top_genes_df.to_csv(\"/home/danielyumengzhu/E11.5_reference_marker_genes.csv\")"
   ]
  },
  {
   "cell_type": "code",
   "execution_count": null,
   "id": "4674afe9-7189-452b-964a-8daddb5db4af",
   "metadata": {},
   "outputs": [],
   "source": [
    "top_genes_df = pd.read_csv(\"/home/danielyumengzhu/E11.5_reference_marker_genes.csv\", index_col=0)\n",
    "top_genes_df"
   ]
  },
  {
   "cell_type": "code",
   "execution_count": null,
   "id": "543b1e10-967c-4c92-9468-df6ee07a9dd8",
   "metadata": {},
   "outputs": [],
   "source": [
    "#e115_ref.X = np.log1p(e115_ref.X) / np.log(10)"
   ]
  },
  {
   "cell_type": "code",
   "execution_count": null,
   "id": "63ca9084-04ab-4a0f-b3ef-f8f767ddc13e",
   "metadata": {},
   "outputs": [],
   "source": [
    "# Get all unique genes in the DataFrame\n",
    "all_genes = pd.unique(top_genes_df.values.ravel())\n",
    "all_genes = all_genes[pd.notna(all_genes)]  # Remove NaN values\n",
    "\n",
    "# Initialize a DataFrame to store mean expression values\n",
    "mean_expression_df = pd.DataFrame(index=all_genes)\n",
    "\n",
    "for cell_type in tqdm(top_genes_df.columns):\n",
    "    # Subset the expression data for this cell type\n",
    "    ct_data = e115_ref[e115_ref.obs[\"celltypes_Spateo_match\"] == cell_type].copy()\n",
    "    if ct_data.n_obs == 0:\n",
    "        continue\n",
    "\n",
    "    expression_data = ct_data[:, all_genes].X\n",
    "    # Check if the expression data is sparse and convert to dense if necessary\n",
    "    if scipy.sparse.issparse(expression_data):\n",
    "        expression_data = expression_data.toarray()\n",
    "\n",
    "    # Compute mean expression across cells (rows)\n",
    "    mean_expression = np.mean(expression_data, axis=0)\n",
    "\n",
    "    # Add to the DataFrame\n",
    "    mean_expression_df[cell_type] = mean_expression\n",
    "mean_expression_df = (mean_expression_df - mean_expression_df.min()) / (mean_expression_df.max() - mean_expression_df.min())\n",
    "mean_expression_df"
   ]
  },
  {
   "cell_type": "code",
   "execution_count": null,
   "id": "16135c19-5f80-41e2-94d9-bac662c84c9b",
   "metadata": {},
   "outputs": [],
   "source": [
    "mean_expression_df = mean_expression_df.dropna(axis=1, how='all')\n",
    "mean_expression_df"
   ]
  },
  {
   "cell_type": "code",
   "execution_count": null,
   "id": "b3637635-25b6-4977-bcf9-775aed597362",
   "metadata": {},
   "outputs": [],
   "source": [
    "mean_expression_df.to_csv(\"/home/danielyumengzhu/E11.5_reference_mean_expr.csv\")"
   ]
  },
  {
   "cell_type": "code",
   "execution_count": null,
   "id": "c15dceab-32b5-4a1a-8c13-555d55cf6473",
   "metadata": {},
   "outputs": [],
   "source": [
    "# Significance test:\n",
    "# Initialize a DataFrame to store p-values for each gene in each column\n",
    "p_values_df = pd.DataFrame(index=mean_expression_df.index, columns=mean_expression_df.columns)\n",
    "\n",
    "for column in tqdm(mean_expression_df.columns):\n",
    "    markers = list(top_genes_df[column].values)\n",
    "    include = [g for g in mean_expression_df.index if g not in markers]\n",
    "    for gene in mean_expression_df.index:\n",
    "        # Count how many genes have a lower expression value than the current gene\n",
    "        lower_count = (mean_expression_df.loc[include, column] > mean_expression_df.loc[gene, column]).sum()\n",
    "        \n",
    "        # Compute the proportion (p-value)\n",
    "        p_value = lower_count / (len(mean_expression_df.index) - 1) # -1 to exclude the gene itself\n",
    "\n",
    "        # Store the computed p-value\n",
    "        p_values_df.loc[gene, column] = p_value\n",
    "p_values_df"
   ]
  },
  {
   "cell_type": "code",
   "execution_count": null,
   "id": "e235ca3e-7475-40e7-b665-c109b72bc0e2",
   "metadata": {},
   "outputs": [],
   "source": [
    "p_values_df.to_csv(\"/home/danielyumengzhu/E11.5_reference_p_vals.csv\")"
   ]
  },
  {
   "cell_type": "code",
   "execution_count": null,
   "id": "619769ae-a688-4b3b-9a5d-25ad9fa5e961",
   "metadata": {},
   "outputs": [],
   "source": [
    "sig_df = (p_values_df < 0.05).astype(int)"
   ]
  },
  {
   "cell_type": "code",
   "execution_count": null,
   "id": "39840c42-0735-4d68-ad77-70979a1fe88e",
   "metadata": {},
   "outputs": [],
   "source": [
    "sig_df.to_csv(\"/home/danielyumengzhu/E11.5_reference_significant.csv\")"
   ]
  },
  {
   "cell_type": "markdown",
   "id": "4db22f7d-b779-4b9e-aba1-c2e0f9449d56",
   "metadata": {},
   "source": [
    "## Load processed reference information"
   ]
  },
  {
   "cell_type": "code",
   "execution_count": null,
   "id": "d73901b4-dea2-4e48-9c9a-a1ef4df7d543",
   "metadata": {},
   "outputs": [],
   "source": [
    "ref_markers = pd.read_csv(\"/home/danielyumengzhu/E11.5_reference_marker_genes.csv\", index_col=0)\n",
    "mean_expression_df = pd.read_csv(\"/home/danielyumengzhu/E11.5_reference_mean_expr.csv\", index_col=0)\n",
    "p_values_df = pd.read_csv(\"/home/danielyumengzhu/E11.5_reference_p_vals.csv\", index_col=0)\n",
    "sig_df = pd.read_csv(\"/home/danielyumengzhu/E11.5_reference_significant.csv\", index_col=0)"
   ]
  },
  {
   "cell_type": "code",
   "execution_count": null,
   "id": "38b6a724-65eb-4673-8b0a-428abfea37cb",
   "metadata": {},
   "outputs": [],
   "source": [
    "mean_expression_df"
   ]
  },
  {
   "cell_type": "markdown",
   "id": "729c3d48-6e30-4786-ac0f-fb27a41084bc",
   "metadata": {},
   "source": [
    "## Process the E11.5 data w/ respect to the reference markers"
   ]
  },
  {
   "cell_type": "code",
   "execution_count": null,
   "id": "eb62873b-c247-4d9f-b521-fd96f30b313f",
   "metadata": {},
   "outputs": [],
   "source": [
    "all_genes = pd.unique(ref_markers.values.ravel())\n",
    "all_genes = all_genes[pd.notna(all_genes)]  # Remove NaN values\n",
    "\n",
    "# Initialize a DataFrame to store mean expression values\n",
    "mean_expression_df = pd.DataFrame(index=all_genes)\n",
    "\n",
    "for cell_type in tqdm(ref_markers.columns):\n",
    "    keys_for_ct = [key for key, value in mapping.items() if value == cell_type]\n",
    "    \n",
    "    # Repeat the process for each key\n",
    "    for key in keys_for_ct:\n",
    "        ct = key\n",
    "        # Subset the expression data for this cell type\n",
    "        ct_data = e115[e115.obs[\"mapped_celltype\"] == ct].copy()\n",
    "        expression_data = ct_data[:, all_genes].X\n",
    "        \n",
    "        # Check if the expression data is sparse and convert to dense if necessary\n",
    "        if scipy.sparse.issparse(expression_data):\n",
    "            expression_data = expression_data.toarray()\n",
    "        \n",
    "        if expression_data.shape[0] == 0:\n",
    "            print(ct)\n",
    "        \n",
    "        # Compute mean expression across cells (rows)\n",
    "        mean_expression = np.mean(expression_data, axis=0)\n",
    "        \n",
    "        # Add to the DataFrame, using the current `key` instead of `cell_type`\n",
    "        mean_expression_df[key] = mean_expression\n",
    "\n",
    "mean_expression_df = (mean_expression_df - mean_expression_df.min()) / (mean_expression_df.max() - mean_expression_df.min())\n",
    "mean_expression_df"
   ]
  },
  {
   "cell_type": "code",
   "execution_count": null,
   "id": "0c18a7db-0ebf-4d88-a795-0cf2524a2b36",
   "metadata": {},
   "outputs": [],
   "source": [
    "mean_expression_df.to_csv(\"/home/danielyumengzhu/E11.5_Stereo-seq_mean_expr.csv\")"
   ]
  },
  {
   "cell_type": "code",
   "execution_count": null,
   "id": "27879234-0148-4b58-807f-835a6e9c3c90",
   "metadata": {},
   "outputs": [],
   "source": [
    "# Significance test:\n",
    "# Initialize a DataFrame to store p-values for each gene in each column\n",
    "p_values_df = pd.DataFrame(index=mean_expression_df.index, columns=mean_expression_df.columns)\n",
    "\n",
    "for column in tqdm(mean_expression_df.columns):\n",
    "    ct = mapping[column]\n",
    "    markers = list(ref_markers[ct].values)\n",
    "    include = [g for g in mean_expression_df.index if g not in markers]\n",
    "    for gene in mean_expression_df.index:\n",
    "        # Count how many genes have a lower expression value than the current gene\n",
    "        lower_count = (mean_expression_df.loc[include, column] > mean_expression_df.loc[gene, column]).sum()\n",
    "        \n",
    "        # Compute the proportion (p-value)\n",
    "        p_value = lower_count / (len(mean_expression_df.index) - 1) # -1 to exclude the gene itself\n",
    "\n",
    "        # Store the computed p-value\n",
    "        p_values_df.loc[gene, column] = p_value\n",
    "p_values_df"
   ]
  },
  {
   "cell_type": "code",
   "execution_count": null,
   "id": "91aa114d-e7f2-45dc-9a81-c599f7b34867",
   "metadata": {},
   "outputs": [],
   "source": [
    "p_values_df.to_csv(\"/home/danielyumengzhu/E11.5_Stereo-seq_p_vals.csv\")"
   ]
  },
  {
   "cell_type": "code",
   "execution_count": null,
   "id": "c01c8626-4d5a-447f-8fc9-4c1fc20fbd8a",
   "metadata": {},
   "outputs": [],
   "source": [
    "sig_df = (p_values_df < 0.05).astype(int)"
   ]
  },
  {
   "cell_type": "code",
   "execution_count": null,
   "id": "6681288a-7692-4ca8-ad9c-7cabe0a9c806",
   "metadata": {},
   "outputs": [],
   "source": [
    "sig_df.to_csv(\"/home/danielyumengzhu/E11.5_Stereo-seq_significant.csv\")"
   ]
  },
  {
   "cell_type": "markdown",
   "id": "81825229-d730-45c2-a174-7cf640b0ed68",
   "metadata": {},
   "source": [
    "## Load significance dataframes for E11.5 and the reference"
   ]
  },
  {
   "cell_type": "code",
   "execution_count": null,
   "id": "1cb8a6ee-4807-43a6-9c62-2b02136c6f14",
   "metadata": {},
   "outputs": [],
   "source": [
    "e115_sig = pd.read_csv(\"/home/danielyumengzhu/E11.5_Stereo-seq_significant.csv\", index_col=0)\n",
    "e115_ref_sig = pd.read_csv(\"/home/danielyumengzhu/E11.5_reference_significant.csv\", index_col=0)"
   ]
  },
  {
   "cell_type": "code",
   "execution_count": null,
   "id": "217e25f9-0c17-42f6-9729-4dd625cf6786",
   "metadata": {},
   "outputs": [],
   "source": [
    "orig_cols = e115_sig.columns"
   ]
  },
  {
   "cell_type": "code",
   "execution_count": null,
   "id": "224afe5c-ad93-4ef1-83ae-d8b53eba11cc",
   "metadata": {},
   "outputs": [],
   "source": [
    "orig_ref_cols = list(e115_ref_sig.columns)"
   ]
  },
  {
   "cell_type": "code",
   "execution_count": null,
   "id": "3b7f278d-feee-4dba-851d-40354bb5d4a1",
   "metadata": {},
   "outputs": [],
   "source": [
    "# Shorten cell type names for the display:\n",
    "e115_sig.columns = [\n",
    "    'AFP', 'ARP', 'AER', 'AEC', 'Astro', 'BAM', 'CCEC', 'BAE',\n",
    "    'CRC', 'CMes', 'Chon', 'CPEP', 'CMN', 'DEEB', 'Derma', \n",
    "    'Dermomyo', 'Dien', 'DTelen', 'EChon', 'Endocardial', 'Endo', \n",
    "    'EN', 'EF', 'FMesen', 'CFibro', 'Fibro', 'ACM', 'OTCM', 'VCM', 'FP3D', \n",
    "    'GABAin', 'GABAn', 'GlutN', 'Gut', 'GMesen', 'HSC', \n",
    "    'HepMes', 'Hepato', 'Hind', 'Hypo', 'Hypo(Sim1+)', \n",
    "    'INP', 'Kupf', 'LMP', 'LSEC', 'LungMes', \n",
    "    'LungP', 'LVEC', 'MegaK', 'MesoP', 'MM', 'RM', 'Micro', \n",
    "    'Mid', 'MHB', 'MusP', 'SMP', 'SomMP',\n",
    "    'MySch', 'Myob', 'Myofibro', 'Myot', 'NSCP', \n",
    "    'NC(PG)', 'NC(PN)', 'NeuroP', 'OEC', 'OticEC', \n",
    "    'OSN', 'PPGP', 'ED', 'PNC', \n",
    "    'PRP', 'EpiP', 'PEry', 'ProEpi', 'CMes', \n",
    "    'Sclero', 'MD', 'SCV0/1', 'SCV2/3', 'SCDP', \n",
    "    'SCMN', 'SCVP', 'SCN', 'SCdI1', 'SCdI2/3/4', \n",
    "    'SCdI5/6', 'LPM', 'SymN', 'ND', 'Telen', \n",
    "    'ZLI', 'UB'\n",
    "]\n",
    "\n",
    "label_to_abbrev_mapping = {l: a for l, a in zip(orig_cols, e115_sig.columns)}\n",
    "trajectory_to_abbrev_mapping = {\n",
    "    key: [label_to_abbrev_mapping[category] for category in categories] for key, categories in category_dict.items()\n",
    "}\n",
    "\n",
    "e115_ref_sig.columns = [\n",
    "    'ASMC', 'Allantois', 'AmiEcto', 'AmiMeso', 'AFP', 'ARP', 'AER', 'AEC', 'Astro', 'BAM',\n",
    "    'BCEC', 'BAE', 'CRC', 'CPM', 'CPC', 'Chon(Atp1a2+)', 'CP', 'CMN', 'DLN', 'DEEB(CD36-)', 'Derma',\n",
    "    'Dermomyo', 'Dien', 'DRGN', 'DTelen', 'EChon', 'Endocardial', 'Endo', 'EN', 'EEMesen', 'EF',\n",
    "    'FMesen', 'Fibro', 'FHF', 'FP3D', 'FGMesen', 'GABAci', 'GABAn', 'GISMC', 'GlutN', 'GPC',\n",
    "    'GranKera', 'Gut', 'GMesen', 'HSC(CD34+)', 'HepMes', 'Hepato', 'Hind', 'Hypo', 'Hypo(Sim1+)',\n",
    "    'INP', 'Kupf', 'LMP', 'LSEC', 'LungMes', 'LungP', 'LVEC', 'MegaK', 'Melano', 'Meninges',\n",
    "    'MesoP(Tbx6+)', 'Mesothelial', 'MM', 'Micro', 'Mid', 'MHB', 'MusP', 'MusP(Prdm1+)',\n",
    "    'MySch', 'MySch(Tgfb2+)', 'Myob', 'Myofibro', 'Myot', 'NSCP', 'NaiveRP', 'NC(PG)', 'NC(PN)',\n",
    "    'NeuroP(ND1+)', 'Neurons(Slc17a8+)', 'OEC', 'OSN', 'OticEC', 'OSN', 'PPGP', 'PlacA', 'PRP',\n",
    "    'PEK', 'PEry', 'PEpi', 'RPC(M+P)', 'RPC', 'RetPigC', 'Sclero', 'Sertoli', 'SMes',\n",
    "    'SCV0', 'SCV1', 'SCV2a', 'SCV2b', 'SCV3', 'SCDP', 'SCMN', 'SCVP', 'SC(r7/r8)', 'SCdI1',\n",
    "    'SCdI2', 'SCdI3', 'SCdI4', 'SCdI5', 'SCdI6', 'SpMeso', 'SymN', 'Telen', 'ThalNP', 'UB',\n",
    "    'VSMC', 'VSMC(Pparg+)'\n",
    "]\n",
    "\n",
    "label_to_abbrev_ref_mapping = {l: a for l, a in zip(orig_ref_cols, e115_ref_sig.columns)}\n",
    "trajectory_to_abbrev_ref_mapping = {\n",
    "    key: [label_to_abbrev_ref_mapping[category] for category in categories] for key, categories in category_dict_ref.items()\n",
    "}"
   ]
  },
  {
   "cell_type": "code",
   "execution_count": null,
   "id": "dfef500e-234c-43ef-9624-bf59780c0b63",
   "metadata": {},
   "outputs": [],
   "source": [
    "def compute_cross_dataframe_proportions(df_a, df_b):\n",
    "    # Ensure the DataFrames have the same number of rows\n",
    "    if df_a.shape[0] != df_b.shape[0]:\n",
    "        raise ValueError(\"DataFrames must have the same number of rows\")\n",
    "\n",
    "    # Initialize an empty DataFrame to store the results\n",
    "    results_df = pd.DataFrame(index=df_a.columns, columns=df_b.columns)\n",
    "\n",
    "    # Iterate over each column in df_a and df_b\n",
    "    for col_a in tqdm(df_a.columns, desc=\"Processing column pairs...\"):\n",
    "        # Find rows where col_a is 1 in df_a- if col_a is duplicated, find the first occurrence\n",
    "        first_col_a = df_a.columns.get_loc(col_a)\n",
    "        if not isinstance(first_col_a, int):\n",
    "            first_col_a = np.argmax(first_col_a)\n",
    "        for col_b in df_b.columns:\n",
    "            first_col_b = df_b.columns.get_loc(col_b)\n",
    "            if not isinstance(first_col_b, int):\n",
    "                first_col_b = np.argmax(first_col_b)\n",
    "            rows_with_1_in_col_a = df_a[df_a.iloc[:, first_col_a] == 1]\n",
    "\n",
    "            # Calculate the proportion of these rows where col_b is also 1 in df_b\n",
    "            if not rows_with_1_in_col_a.empty:\n",
    "                proportion = (df_b.loc[rows_with_1_in_col_a.index].iloc[:, first_col_b].sum()) / len(rows_with_1_in_col_a)\n",
    "            else:\n",
    "                proportion = 0.0  # No rows with 1 in col_a\n",
    "\n",
    "            # Store the proportion in the results DataFrame- note if column already exists in DataFrame, create a new column\n",
    "            results_df.loc[col_a, col_b] = proportion\n",
    "\n",
    "    return results_df"
   ]
  },
  {
   "cell_type": "code",
   "execution_count": null,
   "id": "11249b67-0065-4ece-aeae-771bdb882cab",
   "metadata": {},
   "outputs": [],
   "source": [
    "# # First for the reference, check the proportions between the reference and itself:\n",
    "# within_dataframe_proportions = compute_cross_dataframe_proportions(e115_ref_sig, e115_ref_sig)\n",
    "# within_dataframe_proportions"
   ]
  },
  {
   "cell_type": "code",
   "execution_count": null,
   "id": "778e5c1e-ebe1-4b75-89d1-c7fc7c0aa62c",
   "metadata": {},
   "outputs": [],
   "source": [
    "cross_dataframe_proportions = compute_cross_dataframe_proportions(e115_ref_sig, e115_sig)\n",
    "cross_dataframe_proportions"
   ]
  },
  {
   "cell_type": "code",
   "execution_count": null,
   "id": "3c811cde-d3fb-4d3c-8f64-321a879defa2",
   "metadata": {},
   "outputs": [],
   "source": [
    "# Filter the reference cell types to only those that can be found among the mapping:\n",
    "ref_cts_in_mapping = list(set(mapping.values()))\n",
    "ref_cts_in_mapping_abbrev = [label_to_abbrev_ref_mapping[l] for l in ref_cts_in_mapping]\n",
    "cross_dataframe_proportions = cross_dataframe_proportions.loc[ref_cts_in_mapping_abbrev, :]\n",
    "cross_dataframe_proportions"
   ]
  },
  {
   "cell_type": "code",
   "execution_count": null,
   "id": "e956e0ca-ecb3-4524-a9e7-6b3cca755b5f",
   "metadata": {},
   "outputs": [],
   "source": [
    "# Set the order for rows & columns of the proportions dataframes\n",
    "ref_order = ref_categories_ordered\n",
    "ref_order_abbrev = [label_to_abbrev_ref_mapping[l] for l in ref_order]\n",
    "ref_order_abbrev = [l for l in ref_order_abbrev if l in cross_dataframe_proportions.index]\n",
    "spateo_order = categories_ordered\n",
    "spateo_order_abbrev = [label_to_abbrev_mapping[l] for l in spateo_order]\n",
    "spateo_order_abbrev = [l for l in spateo_order_abbrev if l in cross_dataframe_proportions.columns]"
   ]
  },
  {
   "cell_type": "code",
   "execution_count": null,
   "id": "a3131775-c629-400b-a6e0-be7e93e97a95",
   "metadata": {},
   "outputs": [],
   "source": [
    "cross_dataframe_proportions = cross_dataframe_proportions.loc[ref_order_abbrev, spateo_order_abbrev]"
   ]
  },
  {
   "cell_type": "code",
   "execution_count": null,
   "id": "1e393291-d4d4-463c-bd05-1b44c6f3e7a3",
   "metadata": {},
   "outputs": [],
   "source": [
    "# top_5_rows = cross_dataframe_proportions.sort_values(by='CCEC', ascending=False).head(5)\n",
    "# top_5_rows"
   ]
  },
  {
   "cell_type": "code",
   "execution_count": null,
   "id": "12a68ede-f3f5-4b2a-84a0-12e31ae82388",
   "metadata": {},
   "outputs": [],
   "source": [
    "# To provide a bit more contrast in visualization\n",
    "cross_dataframe_proportions **=2\n",
    "# Normalize each column\n",
    "cross_dataframe_proportions_scale = (cross_dataframe_proportions - cross_dataframe_proportions.min()) / (cross_dataframe_proportions.max() - cross_dataframe_proportions.min())"
   ]
  },
  {
   "cell_type": "code",
   "execution_count": null,
   "id": "5a194fae-6e8f-49dd-9cc2-014cde1164e8",
   "metadata": {},
   "outputs": [],
   "source": [
    "reverse_map = {value: key for key, values in trajectory_to_abbrev_mapping.items() for value in values}\n",
    "reverse_map_ref = {value: key for key, values in trajectory_to_abbrev_ref_mapping.items() for value in values}\n",
    "\n",
    "# Assign a unique color to each group- these are shared across both the reference and Stereo-seq\n",
    "group_colors = sns.color_palette(\"tab20\", len(trajectory_to_abbrev_mapping))\n",
    "color_mapping = {group: color for group, color in zip(trajectory_to_abbrev_mapping.keys(), group_colors)}"
   ]
  },
  {
   "cell_type": "code",
   "execution_count": null,
   "id": "2f26de33-394e-44db-beb3-b1146ff264f3",
   "metadata": {},
   "outputs": [],
   "source": [
    "# Row colors = Stereo-seq colors (after transposing)\n",
    "row_colors = cross_dataframe_proportions_scale.columns.map(lambda x: color_mapping.get(reverse_map.get(x, '')))\n",
    "# Column colors = scRNA-seq reference colors (after transposing)\n",
    "col_colors = cross_dataframe_proportions_scale.index.map(lambda x: color_mapping.get(reverse_map_ref.get(x, '')))"
   ]
  },
  {
   "cell_type": "code",
   "execution_count": null,
   "id": "ad7f9db0-a719-4d86-a3de-bdb21494a009",
   "metadata": {},
   "outputs": [],
   "source": [
    "import matplotlib.patches as patches\n",
    "\n",
    "fig, ax = plt.subplots(nrows=1, ncols=1, figsize=(15, 20))\n",
    "#mask = cross_dataframe_proportions.astype(float) < 0.2\n",
    "m = sns.heatmap(\n",
    "    cross_dataframe_proportions_scale.T.astype(float),\n",
    "    square=True,\n",
    "    linecolor=\"grey\",\n",
    "    linewidths=0.3,\n",
    "    cbar_kws={\"location\": \"top\"},\n",
    "    cmap=\"magma\",\n",
    "    center=0.5,\n",
    "    vmin=0,\n",
    "    vmax=1,\n",
    "    #mask=mask,\n",
    "    ax=ax\n",
    ")\n",
    "\n",
    "# Remove the default row/column labels and ticks\n",
    "ax.set_xticks([])\n",
    "ax.set_yticks([])\n",
    "\n",
    "# Adjust placement and size of rectangles for row colors (left side)\n",
    "for i, color in enumerate(row_colors):\n",
    "    rect = patches.Rectangle((-2, i), 2, 1, linewidth=0, edgecolor=None, facecolor=color, clip_on=False)\n",
    "    ax.add_patch(rect)\n",
    "\n",
    "# Adjust placement and size of rectangles for column colors (top side)\n",
    "for i, color in enumerate(col_colors):\n",
    "    rect = patches.Rectangle((i, cross_dataframe_proportions_scale.shape[1]), 1, 2, linewidth=0, edgecolor=None, facecolor=color, clip_on=False)\n",
    "    ax.add_patch(rect)\n",
    "\n",
    "for _, spine in m.spines.items():\n",
    "    # spine.set_visible(True)\n",
    "    # spine.set_linewidth(0.75)\n",
    "    spine.set_visible(False)\n",
    "\n",
    "# Adjust colorbar label font size\n",
    "cbar = m.collections[0].colorbar\n",
    "cbar.set_label(\"Normalized Fraction of Significantly Enriched Marker Genes Matching\", fontsize=24)\n",
    "# Adjust colorbar tick font size\n",
    "cbar.ax.tick_params(labelsize=16)\n",
    "cbar.ax.set_aspect(0.04)\n",
    "\n",
    "plt.xlabel(\"Cell Types- scRNA-seq Reference\", fontsize=30, labelpad=20)\n",
    "plt.ylabel(\"Cell Types- Stereo-seq data\", fontsize=30, labelpad=20)\n",
    "plt.xticks(fontsize=16)\n",
    "plt.yticks(fontsize=16)\n",
    "plt.title(\"Comparison for E11.5- Stereo-seq v. scRNA-seq Reference\", fontsize=28, pad=25)\n",
    "\n",
    "# Create a custom legend for the row/column colors\n",
    "legend_handles = [patches.Patch(color=color, label=key) for key, color in color_mapping.items()]\n",
    "ax.legend(handles=legend_handles, title=\"Cell Type Groups\", bbox_to_anchor=(1.05, 1), loc='upper left', borderaxespad=0.)\n",
    "\n",
    "plt.tight_layout()\n",
    "plt.show()"
   ]
  },
  {
   "cell_type": "markdown",
   "id": "abe10637-5661-46fe-ae8b-8fb0a187a650",
   "metadata": {},
   "source": [
    "# E9.5"
   ]
  },
  {
   "cell_type": "markdown",
   "id": "00c70364-d5bd-43b0-bfaa-4f02344e5814",
   "metadata": {},
   "source": [
    "## Load our data and the reference"
   ]
  },
  {
   "cell_type": "code",
   "execution_count": null,
   "id": "32bb2eaa-78f5-4c36-8fd2-01336308480c",
   "metadata": {},
   "outputs": [],
   "source": [
    "e95_ref = anndata.read_h5ad(\"/home/danielyumengzhu/Single-cell-data/Shendure_reference/embryo_E9.5_ref_stereo-seq_gene_intersection.h5ad\")\n",
    "e95 = anndata.read_h5ad(\"/home/danielyumengzhu/Single-cell-data/cellbin_mouse_embryo_aligned_E9.5/E9.5_full.h5ad\")\n",
    "e95"
   ]
  },
  {
   "cell_type": "code",
   "execution_count": null,
   "id": "64e7a8a0-fa9f-49ca-99a9-c98f60aa1b50",
   "metadata": {},
   "outputs": [],
   "source": [
    "e95_ref"
   ]
  },
  {
   "cell_type": "code",
   "execution_count": null,
   "id": "81a98330-5519-449c-bca4-c99d0a2828c6",
   "metadata": {},
   "outputs": [],
   "source": [
    "# Map cell types to their major trajectories\n",
    "major_trajectories = e95_ref.obs[\"major_trajectory\"]\n",
    "cell_types = e95_ref.obs[\"celltype_update\"]"
   ]
  },
  {
   "cell_type": "code",
   "execution_count": null,
   "id": "abedac81-accd-4446-a567-78a80628f0a7",
   "metadata": {},
   "outputs": [],
   "source": [
    "category_dict_ref = {}\n",
    "\n",
    "for category in major_trajectories.unique():\n",
    "    subset_obs2 = cell_types[major_trajectories == category]\n",
    "    unique_obs2_categories = subset_obs2.unique().tolist()\n",
    "    category_dict_ref[category] = unique_obs2_categories\n",
    "category_dict_ref"
   ]
  },
  {
   "cell_type": "code",
   "execution_count": null,
   "id": "1764b315-9c35-4451-97fa-cddefc79b490",
   "metadata": {},
   "outputs": [],
   "source": [
    "ref_categories_ordered = []\n",
    "for value_list in category_dict_ref.values():\n",
    "    ref_categories_ordered.extend(value_list)\n",
    "\n",
    "ref_categories_ordered"
   ]
  },
  {
   "cell_type": "code",
   "execution_count": null,
   "id": "ae7bbdaa-4f02-4c1a-aa11-b613d87bac43",
   "metadata": {},
   "outputs": [],
   "source": [
    "mapping = {\n",
    "    \"Amniotic ectoderm\": \"Amniotic ectoderm\",\n",
    "    \"Anterior floor plate\": \"Anterior floor plate\",\n",
    "    \"Anterior intermediate mesoderm\": \"Anterior intermediate mesoderm\",\n",
    "    \"Anterior roof plate\": \"Anterior roof plate\",\n",
    "    \"Arterial endothelial cells\": \"Arterial endothelial cells\",\n",
    "    \"Cardiopharyngeal mesoderm\": \"Cardiopharyngeal mesoderm\",\n",
    "    \"Cranial mesoderm\": \"Sclerotome\",\n",
    "    \"Cranial motor neurons\": \"Cranial motor neurons\",\n",
    "    \"Dermomyotome\": \"Dermomyotome\",\n",
    "    \"Diencephalon neuroectoderm\": \"Diencephalon\",\n",
    "    \"Dorsal telencephalon neuroectoderm\": \"Dorsal telencephalon\",\n",
    "    \"Ectoderm-derived\": \"Placodal area\",\n",
    "    \"Endocardial cells\": \"Endocardial cells\",\n",
    "    \"Endothelium\": \"Endothelium\",\n",
    "    \"Epithelial precursors\": \"Pre-epidermal keratinocytes\",\n",
    "    \"Glutamatergic neurons\": \"Glutamatergic neurons\",\n",
    "    \"Gut\": \"Gut\",\n",
    "    \"Gut mesenchyme\": \"Gut mesenchyme\",\n",
    "    \"Head and facial mesenchyme\": \"Facial mesenchyme\",\n",
    "    \"Hematoendothelial progenitors\": \"Hematoendothelial progenitors\",\n",
    "    \"Hepatic mesenchyme\": \"Hepatic mesenchyme\",\n",
    "    \"Hepatocytes\": \"Hepatocytes\",\n",
    "    \"Hindbrain neuroectoderm\": \"Hindbrain\",\n",
    "    \"Hypothalamus neuroectoderm\": \"Hypothalamus\",\n",
    "    \"Hypothalamus (Sim1+) neuroectoderm\": \"Hypothalamus (Sim1+)\",\n",
    "    \"Intermediate mesoderm\": \"Posterior intermediate mesoderm\",\n",
    "    \"Lateral plate mesoderm\": \"Lateral plate and intermediate mesoderm\",\n",
    "    \"Limb progenitors and lateral plate mesoderm\": \"Limb mesenchyme progenitors\",\n",
    "    \"Liver sinusoidal endothelial cell precursors\": \"Endothelium\",\n",
    "    \"LV/atrioventricular canal/common atrium cardiomyocytes\": \"First heart field\",\n",
    "    \"Mesodermal progenitors\": \"Mesodermal progenitors (Tbx6+)\",\n",
    "    \"Midbrain neuroectoderm\": \"Midbrain\",\n",
    "    \"Midbrain-hindbrain boundary\": \"Midbrain-hindbrain boundary\",\n",
    "    \"Neural crest (PNS glia)\": \"Neural crest (PNS glia)\",\n",
    "    \"Neural crest (PNS neurons)\": \"Neural crest (PNS neurons)\",\n",
    "    \"Neural progenitor cells\": \"Neural progenitor cells (Neurod1+)\",\n",
    "    \"Neuroectoderm-derived\": \"Neural progenitor cells (Neurod1+)\",\n",
    "    \"NMPs and spinal cord progenitors\": \"NMPs and spinal cord progenitors\",\n",
    "    \"Olfactory epithelial cells\": \"Olfactory epithelial cells\",\n",
    "    \"Otic epithelial cells\": \"Otic epithelial cells\",\n",
    "    \"Placode and neural crest-derived\": \"Placodal area\",\n",
    "    \"Posterior roof plate\": \"Posterior roof plate\",\n",
    "    \"Primitive erythroid cells\": \"Primitive erythroid cells\",\n",
    "    \"Proepicardium\": \"Proepicardium\",\n",
    "    \"Renal mesenchyme\": \"Renal pericytes and mesangial cells\",\n",
    "    \"Sclerotome\": \"Sclerotome\",\n",
    "    \"Second heart field-derived cardiomyocytes\": \"Second heart field\",\n",
    "    \"Spinal cord dorsal progenitors\": \"Spinal cord dorsal progenitors\",\n",
    "    \"Spinal cord motor neurons\": \"Spinal cord motor neurons\",\n",
    "    \"Spinal cord neuroectoderm\": \"Spinal cord/r7/r8\",\n",
    "    \"Spinal cord ventral progenitors\": \"Spinal cord ventral progenitors\",\n",
    "    \"Telencephalon neuroectoderm\": \"Telencephalon\",\n",
    "    \"Vessel endothelial cells\": \"Brain capillary endothelial cells\"\n",
    "}"
   ]
  },
  {
   "cell_type": "code",
   "execution_count": null,
   "id": "5a97df82-ec90-45a9-a630-f5a04a751cbc",
   "metadata": {},
   "outputs": [],
   "source": [
    "# Map cell types to their major trajectories\n",
    "cell_types = e95.obs[\"mapped_celltype\"]\n",
    "\n",
    "category_dict = {}\n",
    "\n",
    "for trajectory_category, cell_type_category_list in category_dict_ref.items():\n",
    "    corresponding_categories = []\n",
    "\n",
    "    for ct_category in cell_type_category_list:\n",
    "        matching_ct = [k for k, v in mapping.items() if v == ct_category]\n",
    "        corresponding_categories.extend(matching_ct)\n",
    "\n",
    "    # Store the result in the dictionary for the second object\n",
    "    category_dict[trajectory_category] = corresponding_categories\n",
    "    \n",
    "category_dict"
   ]
  },
  {
   "cell_type": "code",
   "execution_count": null,
   "id": "05ea97d5-d545-4d09-be43-cc216af3cdc9",
   "metadata": {},
   "outputs": [],
   "source": [
    "categories_ordered = []\n",
    "for value_list in category_dict.values():\n",
    "    categories_ordered.extend(value_list)\n",
    "\n",
    "categories_ordered"
   ]
  },
  {
   "cell_type": "markdown",
   "id": "fe669528-3c56-4bb0-851b-6ee7de7c04a8",
   "metadata": {},
   "source": [
    "## Find reference markers"
   ]
  },
  {
   "cell_type": "code",
   "execution_count": null,
   "id": "cfdad6a9-2ccb-41c2-bf19-b57df06fdb9c",
   "metadata": {},
   "outputs": [],
   "source": [
    "# Marker genes for each cell type in the reference:\n",
    "sc.pp.filter_cells(e95_ref, min_genes=200)\n",
    "sc.pp.filter_genes(e95_ref, min_cells=3)\n",
    "sc.pp.normalize_total(e95_ref, target_sum=1e4)\n",
    "sc.pp.log1p(e95_ref)\n",
    "e95_ref"
   ]
  },
  {
   "cell_type": "code",
   "execution_count": null,
   "id": "8b33f1ce-8306-45f0-9750-ed3e6aa24f01",
   "metadata": {},
   "outputs": [],
   "source": [
    "sc.pp.highly_variable_genes(e95_ref, min_mean=0.0125, max_mean=3, min_disp=0.5)\n",
    "e95_ref = e95_ref[:, e95_ref.var.highly_variable]\n",
    "e95_ref"
   ]
  },
  {
   "cell_type": "code",
   "execution_count": null,
   "id": "2f0a460d-cb1e-42c2-909d-63b5e871af2b",
   "metadata": {},
   "outputs": [],
   "source": [
    "sc.tl.rank_genes_groups(e95_ref, 'celltype_Spateo_match', method='t-test')\n",
    "marker_genes = e95_ref.uns['rank_genes_groups']"
   ]
  },
  {
   "cell_type": "code",
   "execution_count": null,
   "id": "d31683c3-b4d4-49a3-b375-529b91d7cb85",
   "metadata": {},
   "outputs": [],
   "source": [
    "n_genes = 50\n",
    "groups = marker_genes['names'].dtype.names\n",
    "top_genes = {group: list(marker_genes['names'][group][:n_genes]) for group in groups}\n",
    "top_genes_df = pd.DataFrame(top_genes)\n",
    "top_genes_df"
   ]
  },
  {
   "cell_type": "markdown",
   "id": "f5831983-8abe-4cb3-99b9-ce816ec1866d",
   "metadata": {},
   "source": [
    "### Filter to epithelial cells and mesenchymal cells to get markers of these cell types"
   ]
  },
  {
   "cell_type": "code",
   "execution_count": null,
   "id": "def3abcb-0ac0-4964-b29f-45a6cb344a60",
   "metadata": {},
   "outputs": [],
   "source": [
    "e95_ref = anndata.read_h5ad(\"/home/danielyumengzhu/Single-cell-data/Shendure_reference/embryo_E9.5_ref_stereo-seq_gene_intersection.h5ad\")\n",
    "e95_ref_sub = e95_ref[e95_ref.obs[\"major_trajectory\"].isin([\"Epithelial_cells\", \"Mesoderm\"])].copy()"
   ]
  },
  {
   "cell_type": "code",
   "execution_count": null,
   "id": "63c97c6f-8b04-4762-ad16-a729a2b97cdd",
   "metadata": {},
   "outputs": [],
   "source": [
    "# Marker genes for each cell type in the reference:\n",
    "sc.pp.filter_cells(e95_ref_sub, min_genes=200)\n",
    "sc.pp.filter_genes(e95_ref_sub, min_cells=3)\n",
    "sc.pp.normalize_total(e95_ref_sub, target_sum=1e4)\n",
    "sc.pp.log1p(e95_ref_sub)\n",
    "e95_ref_sub"
   ]
  },
  {
   "cell_type": "code",
   "execution_count": null,
   "id": "e315ea52-a55e-4e8f-b081-b273a6cef1b8",
   "metadata": {},
   "outputs": [],
   "source": [
    "sc.pp.highly_variable_genes(e95_ref_sub, min_mean=0.0125, max_mean=3, min_disp=0.5)\n",
    "e95_ref_sub = e95_ref_sub[:, e95_ref_sub.var.highly_variable]\n",
    "e95_ref_sub"
   ]
  },
  {
   "cell_type": "code",
   "execution_count": null,
   "id": "ef692f3c-0aff-4a00-aedd-2b3f8c0c0b6a",
   "metadata": {},
   "outputs": [],
   "source": [
    "sc.tl.rank_genes_groups(e95_ref_sub, 'celltype_Spateo_match', method='t-test')\n",
    "marker_genes = e95_ref_sub.uns['rank_genes_groups']"
   ]
  },
  {
   "cell_type": "code",
   "execution_count": null,
   "id": "c09eeb2c-62d0-4204-995b-ff2cedef36f5",
   "metadata": {},
   "outputs": [],
   "source": [
    "n_genes = 50\n",
    "groups = marker_genes['names'].dtype.names\n",
    "top_genes = {group: list(marker_genes['names'][group][:n_genes]) for group in groups}\n",
    "top_genes_df_sub = pd.DataFrame(top_genes)\n",
    "top_genes_df_sub"
   ]
  },
  {
   "cell_type": "code",
   "execution_count": null,
   "id": "12dbe484-241e-4ca0-8077-df10b0b228bf",
   "metadata": {},
   "outputs": [],
   "source": [
    "top_genes_df.loc[:, top_genes_df_sub.columns] = top_genes_df_sub"
   ]
  },
  {
   "cell_type": "code",
   "execution_count": null,
   "id": "d275fc69-be48-4867-8442-3c988442fcb6",
   "metadata": {},
   "outputs": [],
   "source": [
    "top_genes_df.to_csv(\"/home/danielyumengzhu/E9.5_reference_marker_genes.csv\")"
   ]
  },
  {
   "cell_type": "code",
   "execution_count": null,
   "id": "c30e8c82-7084-4e68-8998-061e6f5750b3",
   "metadata": {},
   "outputs": [],
   "source": [
    "top_genes_df = pd.read_csv(\"/home/danielyumengzhu/E9.5_reference_marker_genes.csv\", index_col=0)\n",
    "top_genes_df"
   ]
  },
  {
   "cell_type": "code",
   "execution_count": null,
   "id": "70920ad9-9187-41e2-8ec4-179d3d648142",
   "metadata": {},
   "outputs": [],
   "source": [
    "# Get all unique genes in the DataFrame\n",
    "all_genes = pd.unique(top_genes_df.values.ravel())\n",
    "all_genes = all_genes[pd.notna(all_genes)]  # Remove NaN values\n",
    "\n",
    "# Initialize a DataFrame to store mean expression values\n",
    "mean_expression_df = pd.DataFrame(index=all_genes)\n",
    "\n",
    "for cell_type in tqdm(top_genes_df.columns):\n",
    "    # Subset the expression data for this cell type\n",
    "    ct_data = e95_ref[e95_ref.obs[\"celltype_Spateo_match\"] == cell_type].copy()\n",
    "    expression_data = ct_data[:, all_genes].X\n",
    "    # Check if the expression data is sparse and convert to dense if necessary\n",
    "    if scipy.sparse.issparse(expression_data):\n",
    "        expression_data = expression_data.toarray()\n",
    "\n",
    "    # Compute mean expression across cells (rows)\n",
    "    mean_expression = np.mean(expression_data, axis=0)\n",
    "\n",
    "    # Add to the DataFrame\n",
    "    mean_expression_df[cell_type] = mean_expression\n",
    "mean_expression_df = (mean_expression_df - mean_expression_df.min()) / (mean_expression_df.max() - mean_expression_df.min())\n",
    "mean_expression_df"
   ]
  },
  {
   "cell_type": "code",
   "execution_count": null,
   "id": "4250ddcf-8378-49db-bab7-1ed05f58eef2",
   "metadata": {},
   "outputs": [],
   "source": [
    "mean_expression_df = mean_expression_df.dropna(axis=1, how='all')\n",
    "mean_expression_df"
   ]
  },
  {
   "cell_type": "code",
   "execution_count": null,
   "id": "ccd382cd-b8c8-4ed5-859d-24d0acd130c7",
   "metadata": {},
   "outputs": [],
   "source": [
    "mean_expression_df.to_csv(\"/home/danielyumengzhu/E9.5_reference_mean_expr.csv\")"
   ]
  },
  {
   "cell_type": "code",
   "execution_count": null,
   "id": "34c1e837-b465-4aec-ae40-eb7a6bcb1d89",
   "metadata": {},
   "outputs": [],
   "source": [
    "# Significance test:\n",
    "# Initialize a DataFrame to store p-values for each gene in each column\n",
    "p_values_df = pd.DataFrame(index=mean_expression_df.index, columns=mean_expression_df.columns)\n",
    "\n",
    "for column in tqdm(mean_expression_df.columns):\n",
    "    markers = list(top_genes_df[column].values)\n",
    "    include = [g for g in mean_expression_df.index if g not in markers]\n",
    "    for gene in mean_expression_df.index:\n",
    "        # Count how many genes have a lower expression value than the current gene\n",
    "        lower_count = (mean_expression_df.loc[include, column] > mean_expression_df.loc[gene, column]).sum()\n",
    "        \n",
    "        # Compute the proportion (p-value)\n",
    "        p_value = lower_count / (len(mean_expression_df.index) - 1) # -1 to exclude the gene itself\n",
    "\n",
    "        # Store the computed p-value\n",
    "        p_values_df.loc[gene, column] = p_value\n",
    "p_values_df"
   ]
  },
  {
   "cell_type": "code",
   "execution_count": null,
   "id": "07e84599-8fb8-49b5-a457-572e5a40038c",
   "metadata": {},
   "outputs": [],
   "source": [
    "p_values_df.to_csv(\"/home/danielyumengzhu/E9.5_reference_p_vals.csv\")"
   ]
  },
  {
   "cell_type": "code",
   "execution_count": null,
   "id": "6f4f3123-99c7-46f5-8293-4567a2e6e750",
   "metadata": {},
   "outputs": [],
   "source": [
    "sig_df = (p_values_df < 0.05).astype(int)"
   ]
  },
  {
   "cell_type": "code",
   "execution_count": null,
   "id": "d977f93f-1739-4ec4-b9f5-d4155608ed34",
   "metadata": {},
   "outputs": [],
   "source": [
    "sig_df.to_csv(\"/home/danielyumengzhu/E9.5_reference_significant.csv\")"
   ]
  },
  {
   "cell_type": "markdown",
   "id": "3cac4803-d8ee-4354-8f97-e7591a40e232",
   "metadata": {},
   "source": [
    "## Load processed reference information"
   ]
  },
  {
   "cell_type": "code",
   "execution_count": null,
   "id": "d28578b6-4d7d-4811-a420-fb464a6dd67d",
   "metadata": {},
   "outputs": [],
   "source": [
    "ref_markers = pd.read_csv(\"/home/danielyumengzhu/E9.5_reference_marker_genes.csv\", index_col=0)\n",
    "mean_expression_df = pd.read_csv(\"/home/danielyumengzhu/E9.5_reference_mean_expr.csv\", index_col=0)\n",
    "p_values_df = pd.read_csv(\"/home/danielyumengzhu/E9.5_reference_p_vals.csv\", index_col=0)\n",
    "sig_df = pd.read_csv(\"/home/danielyumengzhu/E9.5_reference_significant.csv\", index_col=0)"
   ]
  },
  {
   "cell_type": "markdown",
   "id": "cb12fef4-56a9-4781-954e-546a7802b999",
   "metadata": {},
   "source": [
    "## Process the E9.5 data w/ respect to the reference markers"
   ]
  },
  {
   "cell_type": "code",
   "execution_count": null,
   "id": "2c54c64b-66f2-423b-a9b6-27d5ee4b27c4",
   "metadata": {},
   "outputs": [],
   "source": [
    "all_genes = pd.unique(ref_markers.values.ravel())\n",
    "all_genes = all_genes[pd.notna(all_genes)]  # Remove NaN values\n",
    "\n",
    "# Initialize a DataFrame to store mean expression values\n",
    "mean_expression_df = pd.DataFrame(index=all_genes)\n",
    "\n",
    "for cell_type in tqdm(ref_markers.columns):\n",
    "    keys_for_ct = [key for key, value in mapping.items() if value == cell_type]\n",
    "    \n",
    "    # Repeat the process for each key\n",
    "    for key in keys_for_ct:\n",
    "        ct = key\n",
    "        # Subset the expression data for this cell type\n",
    "        ct_data = e95[e95.obs[\"mapped_celltype\"] == ct].copy()\n",
    "        expression_data = ct_data[:, all_genes].X\n",
    "        \n",
    "        # Check if the expression data is sparse and convert to dense if necessary\n",
    "        if scipy.sparse.issparse(expression_data):\n",
    "            expression_data = expression_data.toarray()\n",
    "        \n",
    "        if expression_data.shape[0] == 0:\n",
    "            print(ct)\n",
    "        \n",
    "        # Compute mean expression across cells (rows)\n",
    "        mean_expression = np.mean(expression_data, axis=0)\n",
    "        \n",
    "        # Add to the DataFrame, using the current `key` instead of `cell_type`\n",
    "        mean_expression_df[key] = mean_expression\n",
    "\n",
    "mean_expression_df = (mean_expression_df - mean_expression_df.min()) / (mean_expression_df.max() - mean_expression_df.min())\n",
    "mean_expression_df"
   ]
  },
  {
   "cell_type": "code",
   "execution_count": null,
   "id": "99d4f34f-6a48-455d-96e7-e2a8fe202e55",
   "metadata": {},
   "outputs": [],
   "source": [
    "mean_expression_df.to_csv(\"/home/danielyumengzhu/E9.5_Stereo-seq_mean_expr.csv\")"
   ]
  },
  {
   "cell_type": "code",
   "execution_count": null,
   "id": "61736ae4-b249-4952-9f1b-6e5b7e654f4b",
   "metadata": {},
   "outputs": [],
   "source": [
    "# Significance test:\n",
    "# Initialize a DataFrame to store p-values for each gene in each column\n",
    "p_values_df = pd.DataFrame(index=mean_expression_df.index, columns=mean_expression_df.columns)\n",
    "\n",
    "for column in tqdm(mean_expression_df.columns):\n",
    "    ct = mapping[column]\n",
    "    markers = list(ref_markers[ct].values)\n",
    "    include = [g for g in mean_expression_df.index if g not in markers]\n",
    "    for gene in mean_expression_df.index:\n",
    "        # Count how many genes have a lower expression value than the current gene\n",
    "        lower_count = (mean_expression_df.loc[include, column] > mean_expression_df.loc[gene, column]).sum()\n",
    "        \n",
    "        # Compute the proportion (p-value)\n",
    "        p_value = lower_count / (len(mean_expression_df.index) - 1) # -1 to exclude the gene itself\n",
    "\n",
    "        # Store the computed p-value\n",
    "        p_values_df.loc[gene, column] = p_value\n",
    "p_values_df"
   ]
  },
  {
   "cell_type": "code",
   "execution_count": null,
   "id": "083bb2fe-e245-4e84-a46c-de194710f0af",
   "metadata": {},
   "outputs": [],
   "source": [
    "p_values_df.to_csv(\"/home/danielyumengzhu/E9.5_Stereo-seq_p_vals.csv\")"
   ]
  },
  {
   "cell_type": "code",
   "execution_count": null,
   "id": "cc1886b4-b161-43f3-b528-0285a76639f5",
   "metadata": {},
   "outputs": [],
   "source": [
    "sig_df = (p_values_df < 0.05).astype(int)"
   ]
  },
  {
   "cell_type": "code",
   "execution_count": null,
   "id": "c8b23613-164d-43e1-9ac4-42d27a91ae76",
   "metadata": {},
   "outputs": [],
   "source": [
    "sig_df.to_csv(\"/home/danielyumengzhu/E9.5_Stereo-seq_significant.csv\")"
   ]
  },
  {
   "cell_type": "markdown",
   "id": "fcadd9c8-ac10-4a95-bbd6-aeae8497193f",
   "metadata": {},
   "source": [
    "## Load significance dataframes for E9.5 and the reference"
   ]
  },
  {
   "cell_type": "code",
   "execution_count": null,
   "id": "555b1086-3039-41ff-9cbb-53ec8ac8ac70",
   "metadata": {},
   "outputs": [],
   "source": [
    "e95_sig = pd.read_csv(\"/home/danielyumengzhu/E9.5_Stereo-seq_significant.csv\", index_col=0)\n",
    "e95_ref_sig = pd.read_csv(\"/home/danielyumengzhu/E9.5_reference_significant.csv\", index_col=0)"
   ]
  },
  {
   "cell_type": "code",
   "execution_count": null,
   "id": "dd2caa74-39f8-441f-960c-570ed8d43344",
   "metadata": {},
   "outputs": [],
   "source": [
    "orig_cols = e95_sig.columns"
   ]
  },
  {
   "cell_type": "code",
   "execution_count": null,
   "id": "97efae2c-7e10-49f4-a88b-fcdadb3642a6",
   "metadata": {},
   "outputs": [],
   "source": [
    "orig_ref_cols = list(e95_ref_sig.columns)"
   ]
  },
  {
   "cell_type": "code",
   "execution_count": null,
   "id": "6b748094-5669-4f1e-8c0e-ffbeacb88405",
   "metadata": {},
   "outputs": [],
   "source": [
    "orig_ref_cols"
   ]
  },
  {
   "cell_type": "code",
   "execution_count": null,
   "id": "bc212cf9-a89d-4b5f-a179-90cc50ed4d60",
   "metadata": {},
   "outputs": [],
   "source": [
    "# Shorten names for display:\n",
    "e95_sig.columns = [\n",
    "    'AmniEcto', 'AFP', 'AIM', 'ARP', 'AEC', 'VEC', 'CMN', 'Dermomyo', 'DienNE', \n",
    "    'DTelenNE', 'Endocardial', 'Endo', 'LSECP', 'HFM', 'LVACCA', 'GlutN', 'Gut', \n",
    "    'HEP', 'Hepato', 'HindNE', 'HypoNE', 'Hypo(Sim1+)NE', 'LPM', 'LimbMesen', \n",
    "    'MesoP', 'MidNE', 'MHB', 'NMPSCP', 'NCPG', 'NCPN', 'NeuroP', 'NeuroDer', \n",
    "    'OEC', 'OticEC', 'EctoDer', 'PNCD', 'IM', 'PRP', 'EpiP', 'PEC', 'CM', \n",
    "    'Sclero', 'SHFDC', 'SCDP', 'SCMN', 'SCVP', 'SCNE', 'TelenNE', 'CPM', \n",
    "    'RenMes', 'HepMes', 'GutMes', 'ProEpi'\n",
    "]\n",
    "\n",
    "label_to_abbrev_mapping = {l: a for l, a in zip(orig_cols, e95_sig.columns)}\n",
    "trajectory_to_abbrev_mapping = {\n",
    "    key: [label_to_abbrev_mapping[category] for category in categories] for key, categories in category_dict.items()\n",
    "}\n",
    "\n",
    "e95_ref_sig.columns = [\n",
    "    'AmniEcto', 'AFP', 'AIM', 'ARP', 'AER', 'AEC', 'BCECs', 'CMN', \n",
    "    'Dermomyo', 'Dien', 'DTelen', 'Endocardial', 'Endo', 'EntericN', \n",
    "    'EyeF', 'FM', 'FHF', 'FP3D', 'GABAergN', 'GlutN', 'Gut', \n",
    "    'HEP', 'HSC(CD34+)', 'Hepato', 'Hind', 'Hypo', 'Hypo(Sim1+)', \n",
    "    'LPIM', 'LimbMesen', 'Megakaryo', 'MesoP(Tbx6+)', 'Mid', \n",
    "    'MHB', 'MuscP', 'MuscP(Prdm1+)', 'NMPSCP', 'NCPG', 'NCPN', \n",
    "    'NeuroP(Neurod1+)', 'Noto', 'OEC', 'OlfPitC', 'OticEC', \n",
    "    'OticSensN', 'Peri', 'PA', 'PIM', 'PRP', 'PreEpidK', 'PEC', \n",
    "    'Sclero', 'SHF', 'SCDP', 'SCMN', 'SCVP', 'SCR7R8', 'Telen', \n",
    "    'CPM', 'RenPeriMes', 'HepMes', 'GutMes', 'ProEpi'\n",
    "]\n",
    "\n",
    "label_to_abbrev_ref_mapping = {l: a for l, a in zip(orig_ref_cols, e95_ref_sig.columns)}\n",
    "trajectory_to_abbrev_ref_mapping = {\n",
    "    key: [label_to_abbrev_ref_mapping[category] for category in categories] for key, categories in category_dict_ref.items()\n",
    "}"
   ]
  },
  {
   "cell_type": "code",
   "execution_count": null,
   "id": "75f32e4c-4ca4-4274-87f7-a9cbd306c191",
   "metadata": {},
   "outputs": [],
   "source": [
    "def compute_cross_dataframe_proportions(df_a, df_b):\n",
    "    # Ensure the DataFrames have the same number of rows\n",
    "    if df_a.shape[0] != df_b.shape[0]:\n",
    "        raise ValueError(\"DataFrames must have the same number of rows\")\n",
    "\n",
    "    # Initialize an empty DataFrame to store the results\n",
    "    results_df = pd.DataFrame(index=df_a.columns, columns=df_b.columns)\n",
    "\n",
    "    # Iterate over each column in df_a and df_b\n",
    "    for col_a in tqdm(df_a.columns, desc=\"Processing column pairs...\"):\n",
    "        # Find rows where col_a is 1 in df_a- if col_a is duplicated, find the first occurrence\n",
    "        first_col_a = df_a.columns.get_loc(col_a)\n",
    "        if not isinstance(first_col_a, int):\n",
    "            first_col_a = np.argmax(first_col_a)\n",
    "        for col_b in df_b.columns:\n",
    "            first_col_b = df_b.columns.get_loc(col_b)\n",
    "            if not isinstance(first_col_b, int):\n",
    "                first_col_b = np.argmax(first_col_b)\n",
    "            rows_with_1_in_col_a = df_a[df_a.iloc[:, first_col_a] == 1]\n",
    "\n",
    "            # Calculate the proportion of these rows where col_b is also 1 in df_b\n",
    "            if not rows_with_1_in_col_a.empty:\n",
    "                proportion = (df_b.loc[rows_with_1_in_col_a.index].iloc[:, first_col_b].sum()) / len(rows_with_1_in_col_a)\n",
    "            else:\n",
    "                proportion = 0.0  # No rows with 1 in col_a\n",
    "\n",
    "            # Store the proportion in the results DataFrame- note if column already exists in DataFrame, create a new column\n",
    "            results_df.loc[col_a, col_b] = proportion\n",
    "\n",
    "    return results_df"
   ]
  },
  {
   "cell_type": "code",
   "execution_count": null,
   "id": "76918686-ffb9-430e-9c73-1293a9acb40e",
   "metadata": {},
   "outputs": [],
   "source": [
    "# # First for the reference, check the proportions between the reference and itself:\n",
    "# within_dataframe_proportions = compute_cross_dataframe_proportions(e95_ref_sig, e95_ref_sig)\n",
    "# within_dataframe_proportions **= 2\n",
    "# within_dataframe_proportions"
   ]
  },
  {
   "cell_type": "code",
   "execution_count": null,
   "id": "85d79538-ac06-42ff-9b49-272e5d434681",
   "metadata": {},
   "outputs": [],
   "source": [
    "cross_dataframe_proportions = compute_cross_dataframe_proportions(e95_ref_sig, e95_sig)\n",
    "# For visualization\n",
    "cross_dataframe_proportions **= 3\n",
    "cross_dataframe_proportions"
   ]
  },
  {
   "cell_type": "code",
   "execution_count": null,
   "id": "766628f2-f34c-45f1-b4ef-9d1be00689c4",
   "metadata": {},
   "outputs": [],
   "source": [
    "# Filter the reference cell types to only those that can be found among the mapping:\n",
    "ref_cts_in_mapping = list(set(mapping.values()))\n",
    "ref_cts_in_mapping_abbrev = [label_to_abbrev_ref_mapping[l] for l in ref_cts_in_mapping]\n",
    "cross_dataframe_proportions = cross_dataframe_proportions.loc[ref_cts_in_mapping_abbrev, :]\n",
    "cross_dataframe_proportions"
   ]
  },
  {
   "cell_type": "code",
   "execution_count": null,
   "id": "98604e61-e5a3-4eef-b9d7-f8e56da4de27",
   "metadata": {},
   "outputs": [],
   "source": [
    "# Set the order for rows & columns of the proportions dataframes\n",
    "ref_order = ref_categories_ordered\n",
    "ref_order_abbrev = [label_to_abbrev_ref_mapping[l] for l in ref_order]\n",
    "ref_order_abbrev = [l for l in ref_order_abbrev if l in cross_dataframe_proportions.index]\n",
    "spateo_order = categories_ordered\n",
    "spateo_order_abbrev = [label_to_abbrev_mapping[l] for l in spateo_order]\n",
    "spateo_order_abbrev = [l for l in spateo_order_abbrev if l in cross_dataframe_proportions.columns]"
   ]
  },
  {
   "cell_type": "code",
   "execution_count": null,
   "id": "daa3975f-56be-48bc-b286-4544a5d2f0fd",
   "metadata": {},
   "outputs": [],
   "source": [
    "cross_dataframe_proportions = cross_dataframe_proportions.loc[ref_order_abbrev, spateo_order_abbrev]"
   ]
  },
  {
   "cell_type": "code",
   "execution_count": null,
   "id": "b516ea4c-08e4-45c7-964f-e12c0f005e27",
   "metadata": {},
   "outputs": [],
   "source": [
    "# Normalize each column\n",
    "cross_dataframe_proportions_scale = (cross_dataframe_proportions - cross_dataframe_proportions.min()) / (cross_dataframe_proportions.max() - cross_dataframe_proportions.min())"
   ]
  },
  {
   "cell_type": "code",
   "execution_count": null,
   "id": "1b3f3a9b-dff5-48fb-8a97-178898a8c4c8",
   "metadata": {},
   "outputs": [],
   "source": [
    "reverse_map = {value: key for key, values in trajectory_to_abbrev_mapping.items() for value in values}\n",
    "reverse_map_ref = {value: key for key, values in trajectory_to_abbrev_ref_mapping.items() for value in values}\n",
    "\n",
    "# Assign a unique color to each group- these are shared across both the reference and Stereo-seq\n",
    "group_colors = sns.color_palette(\"tab20\", len(trajectory_to_abbrev_mapping))\n",
    "color_mapping = {group: color for group, color in zip(trajectory_to_abbrev_mapping.keys(), group_colors)}"
   ]
  },
  {
   "cell_type": "code",
   "execution_count": null,
   "id": "a9329807-3f6d-47b0-8707-0d6b7981819b",
   "metadata": {},
   "outputs": [],
   "source": [
    "# Row colors = Stereo-seq colors (after transposing)\n",
    "row_colors = cross_dataframe_proportions_scale.columns.map(lambda x: color_mapping.get(reverse_map.get(x, '')))\n",
    "# Column colors = scRNA-seq reference colors (after transposing)\n",
    "col_colors = cross_dataframe_proportions_scale.index.map(lambda x: color_mapping.get(reverse_map_ref.get(x, '')))"
   ]
  },
  {
   "cell_type": "code",
   "execution_count": null,
   "id": "a5b64419-96c8-4869-88be-f9babf87830f",
   "metadata": {},
   "outputs": [],
   "source": [
    "import matplotlib.patches as patches\n",
    "\n",
    "fig, ax = plt.subplots(nrows=1, ncols=1, figsize=(12, 20))\n",
    "#mask = cross_dataframe_proportions.astype(float) < 0.2\n",
    "m = sns.heatmap(\n",
    "    cross_dataframe_proportions_scale.T.astype(float),\n",
    "    square=True,\n",
    "    linecolor=\"grey\",\n",
    "    linewidths=0.3,\n",
    "    cbar_kws={\"location\": \"top\"},\n",
    "    cmap=\"magma\",\n",
    "    center=0.5,\n",
    "    vmin=0,\n",
    "    vmax=1,\n",
    "    #mask=mask,\n",
    "    ax=ax\n",
    ")\n",
    "\n",
    "# Remove the default row/column labels and ticks\n",
    "ax.set_xticks([])\n",
    "ax.set_yticks([])\n",
    "\n",
    "# Adjust placement and size of rectangles for row colors (left side)\n",
    "for i, color in enumerate(row_colors):\n",
    "    rect = patches.Rectangle((-2, i), 2, 1, linewidth=0, edgecolor=None, facecolor=color, clip_on=False)\n",
    "    ax.add_patch(rect)\n",
    "\n",
    "# Adjust placement and size of rectangles for column colors (top side)\n",
    "for i, color in enumerate(col_colors):\n",
    "    rect = patches.Rectangle((i, cross_dataframe_proportions_scale.shape[1]), 1, 2, linewidth=0, edgecolor=None, facecolor=color, clip_on=False)\n",
    "    ax.add_patch(rect)\n",
    "\n",
    "for _, spine in m.spines.items():\n",
    "    # spine.set_visible(True)\n",
    "    # spine.set_linewidth(0.75)\n",
    "    spine.set_visible(False)\n",
    "\n",
    "# Adjust colorbar label font size\n",
    "cbar = m.collections[0].colorbar\n",
    "cbar.set_label(\"Normalized Fraction of Significantly Enriched Marker Genes Matching\", fontsize=18)\n",
    "# Adjust colorbar tick font size\n",
    "cbar.ax.tick_params(labelsize=16)\n",
    "cbar.ax.set_aspect(0.04)\n",
    "\n",
    "plt.xlabel(\"Cell Types- scRNA-seq Reference\", fontsize=30, labelpad=35)\n",
    "plt.ylabel(\"Cell Types- Stereo-seq data\", fontsize=30, labelpad=35)\n",
    "plt.xticks(fontsize=16)\n",
    "plt.yticks(fontsize=16)\n",
    "plt.title(\"Comparison for E9.5- Stereo-seq v. scRNA-seq Reference\", fontsize=22, pad=25)\n",
    "\n",
    "# Create a custom legend for the row/column colors\n",
    "legend_handles = [patches.Patch(color=color, label=key) for key, color in color_mapping.items()]\n",
    "ax.legend(handles=legend_handles, title=\"Cell Type Groups\", bbox_to_anchor=(1.05, 1), loc='upper left', borderaxespad=0.)\n",
    "\n",
    "plt.tight_layout()\n",
    "plt.show()"
   ]
  },
  {
   "cell_type": "code",
   "execution_count": null,
   "id": "4397b86d-3e5a-47e2-9fed-7542854ff045",
   "metadata": {},
   "outputs": [],
   "source": []
  }
 ],
 "metadata": {
  "kernelspec": {
   "display_name": "spateo_env",
   "language": "python",
   "name": "spateo_env"
  },
  "language_info": {
   "codemirror_mode": {
    "name": "ipython",
    "version": 3
   },
   "file_extension": ".py",
   "mimetype": "text/x-python",
   "name": "python",
   "nbconvert_exporter": "python",
   "pygments_lexer": "ipython3",
   "version": "3.8.10"
  }
 },
 "nbformat": 4,
 "nbformat_minor": 5
}
