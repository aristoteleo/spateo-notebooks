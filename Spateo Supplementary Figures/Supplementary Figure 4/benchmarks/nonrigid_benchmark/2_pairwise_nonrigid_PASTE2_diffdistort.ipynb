{
 "cells": [
  {
   "cell_type": "code",
   "execution_count": 1,
   "id": "53ec7097-cfb0-4b03-a11e-a77172e4df5a",
   "metadata": {
    "execution": {
     "iopub.execute_input": "2024-07-30T20:31:34.407153Z",
     "iopub.status.busy": "2024-07-30T20:31:34.406799Z",
     "iopub.status.idle": "2024-07-30T20:31:41.570809Z",
     "shell.execute_reply": "2024-07-30T20:31:41.569887Z",
     "shell.execute_reply.started": "2024-07-30T20:31:34.407135Z"
    }
   },
   "outputs": [
    {
     "name": "stderr",
     "output_type": "stream",
     "text": [
      "2024-07-30 20:31:37.911756: W tensorflow/compiler/xla/stream_executor/platform/default/dso_loader.cc:64] Could not load dynamic library 'libcudart.so.11.0'; dlerror: libcudart.so.11.0: cannot open shared object file: No such file or directory\n",
      "2024-07-30 20:31:38.896302: W tensorflow/compiler/xla/stream_executor/platform/default/dso_loader.cc:64] Could not load dynamic library 'libnvinfer.so.7'; dlerror: libnvinfer.so.7: cannot open shared object file: No such file or directory\n",
      "2024-07-30 20:31:38.896392: W tensorflow/compiler/xla/stream_executor/platform/default/dso_loader.cc:64] Could not load dynamic library 'libnvinfer_plugin.so.7'; dlerror: libnvinfer_plugin.so.7: cannot open shared object file: No such file or directory\n",
      "2024-07-30 20:31:38.896399: W tensorflow/compiler/tf2tensorrt/utils/py_utils.cc:38] TF-TRT Warning: Cannot dlopen some TensorRT libraries. If you would like to use Nvidia GPU with TensorRT, please make sure the missing libraries mentioned above are installed properly.\n"
     ]
    }
   ],
   "source": [
    "import os\n",
    "os.environ['CUDA_VISIBLE_DEVICES'] = '1'\n",
    "import sys\n",
    "from pathlib import Path\n",
    "import anndata as ad\n",
    "import numpy as np\n",
    "# import dynamo as dyn\n",
    "import warnings\n",
    "warnings.simplefilter(action='ignore', category=FutureWarning)\n",
    "\n",
    "sys.path.insert(0, \"../../scripts/methods/\")\n",
    "from my_paste2 import paste2_align, paste2_align_ref\n",
    "\n",
    "sys.path.insert(0, \"/home/ylu/project\")\n",
    "from utils import *\n",
    "from tqdm import tqdm"
   ]
  },
  {
   "cell_type": "code",
   "execution_count": 2,
   "id": "0fe9454c-9428-4abe-9c33-59e0b91e6466",
   "metadata": {
    "execution": {
     "iopub.execute_input": "2024-07-30T20:31:41.573122Z",
     "iopub.status.busy": "2024-07-30T20:31:41.572378Z",
     "iopub.status.idle": "2024-07-30T20:31:41.576561Z",
     "shell.execute_reply": "2024-07-30T20:31:41.575985Z",
     "shell.execute_reply.started": "2024-07-30T20:31:41.573091Z"
    }
   },
   "outputs": [],
   "source": [
    "data_folder = \"../../data/STARMapPlus_nonrigid_simulation_different_distort/\"\n",
    "\n",
    "method = 'PASTE2'\n",
    "results_folder = \"./nonrigid_different_distort_results/\"+method\n",
    "Path(results_folder).mkdir(parents=True, exist_ok=True)\n"
   ]
  },
  {
   "cell_type": "code",
   "execution_count": 3,
   "id": "72109deb-c022-49ff-a26f-8507f34ffef3",
   "metadata": {
    "execution": {
     "iopub.execute_input": "2024-07-30T20:31:41.577658Z",
     "iopub.status.busy": "2024-07-30T20:31:41.577470Z",
     "iopub.status.idle": "2024-07-30T20:31:42.153521Z",
     "shell.execute_reply": "2024-07-30T20:31:42.152817Z",
     "shell.execute_reply.started": "2024-07-30T20:31:41.577641Z"
    }
   },
   "outputs": [],
   "source": [
    "slice_name = ['A','B','C','D']\n",
    "tps_slice_name = ['A*','B*','C*','D*']\n",
    "i = 10\n",
    "data_name = \"well_{}\".format(i)\n",
    "s = ad.read_h5ad('../../data/STARMapPlus/{}.h5ad'.format(data_name))\n",
    "norm_scale = np.linalg.norm(s.obsm['spatial'].max(0) - s.obsm['spatial'].min(0))\n",
    "del s\n",
    "j = 1\n",
    "slice1 = ad.read_h5ad(os.path.join(data_folder, data_name, \"slice_\" + str(j) + \".h5ad\"))\n",
    "slice2 = ad.read_h5ad(os.path.join(data_folder, data_name, \"slice_\" + str(j+1) + \".h5ad\"))\n",
    "repeat = 10"
   ]
  },
  {
   "cell_type": "code",
   "execution_count": null,
   "id": "1f93a0a8-bd09-431e-aa61-fc38b21718c0",
   "metadata": {
    "execution": {
     "iopub.execute_input": "2024-07-30T20:32:04.875865Z",
     "iopub.status.busy": "2024-07-30T20:32:04.875386Z"
    }
   },
   "outputs": [
    {
     "name": "stderr",
     "output_type": "stream",
     "text": [
      "/home/ylu/project/Benchmark_alignment_methods/notebooks/STARMapPlus/../../scripts/methods/my_paste2.py:113: ImplicitModificationWarning: Setting element `.obsm['align_spatial']` of view, initializing view as actual.\n",
      "  m.obsm[key_added] = m.obsm[spatial_key]\n",
      "/home/ylu/anaconda3/envs/GPSA/lib/python3.9/site-packages/anndata/_core/anndata.py:1818: UserWarning: Observation names are not unique. To make them unique, call `.obs_names_make_unique`.\n",
      "  utils.warn_names_duplicates(\"obs\")\n",
      "/home/ylu/anaconda3/envs/GPSA/lib/python3.9/site-packages/anndata/_core/anndata.py:1818: UserWarning: Observation names are not unique. To make them unique, call `.obs_names_make_unique`.\n",
      "  utils.warn_names_duplicates(\"obs\")\n",
      "/home/ylu/project/Benchmark_alignment_methods/notebooks/STARMapPlus/../../scripts/methods/my_paste2.py:113: ImplicitModificationWarning: Setting element `.obsm['align_spatial']` of view, initializing view as actual.\n",
      "  m.obsm[key_added] = m.obsm[spatial_key]\n",
      "/home/ylu/anaconda3/envs/GPSA/lib/python3.9/site-packages/anndata/_core/anndata.py:1818: UserWarning: Observation names are not unique. To make them unique, call `.obs_names_make_unique`.\n",
      "  utils.warn_names_duplicates(\"obs\")\n",
      "/home/ylu/anaconda3/envs/GPSA/lib/python3.9/site-packages/anndata/_core/anndata.py:1818: UserWarning: Observation names are not unique. To make them unique, call `.obs_names_make_unique`.\n",
      "  utils.warn_names_duplicates(\"obs\")\n",
      "/home/ylu/anaconda3/envs/GPSA/lib/python3.9/site-packages/anndata/_core/anndata.py:1818: UserWarning: Observation names are not unique. To make them unique, call `.obs_names_make_unique`.\n",
      "  utils.warn_names_duplicates(\"obs\")\n",
      "/home/ylu/anaconda3/envs/GPSA/lib/python3.9/site-packages/anndata/_core/anndata.py:1818: UserWarning: Observation names are not unique. To make them unique, call `.obs_names_make_unique`.\n",
      "  utils.warn_names_duplicates(\"obs\")\n",
      "/home/ylu/anaconda3/envs/GPSA/lib/python3.9/site-packages/anndata/_core/anndata.py:1818: UserWarning: Observation names are not unique. To make them unique, call `.obs_names_make_unique`.\n",
      "  utils.warn_names_duplicates(\"obs\")\n",
      "/home/ylu/anaconda3/envs/GPSA/lib/python3.9/site-packages/anndata/_core/anndata.py:1818: UserWarning: Observation names are not unique. To make them unique, call `.obs_names_make_unique`.\n",
      "  utils.warn_names_duplicates(\"obs\")\n"
     ]
    },
    {
     "name": "stdout",
     "output_type": "stream",
     "text": [
      "PASTE2 starts...\n",
      "It.  |Loss        |Relative loss|Absolute loss\n",
      "------------------------------------------------\n",
      "    0|4.198064e+00|0.000000e+00|0.000000e+00\n"
     ]
    }
   ],
   "source": [
    "for l, no in enumerate(np.arange(0,0.22,0.02)):\n",
    "    if l < 3:\n",
    "        continue\n",
    "    alignment_results = []\n",
    "    for k in range(repeat):\n",
    "        slice1.obsm['prealign_spatial'] = slice1.obsm['spatial'].copy()\n",
    "        slice2.obsm['prealign_spatial'] = slice2.obsm['tps_spatial_{}_r_{}'.format(l, k)].copy()\n",
    "        align_slices, _, _ = paste2_align_ref(\n",
    "            models=[slice1, slice2],\n",
    "            spatial_key=\"prealign_spatial\",\n",
    "            key_added=\"align_spatial\",\n",
    "            verbose=True,\n",
    "            fixed_s=0.99,\n",
    "            n_sampling=5000,\n",
    "        )\n",
    "        \n",
    "        torch.cuda.empty_cache()\n",
    "        mae, mae_var = MAE(align_slices[1].obsm['align_spatial'], align_slices[1].obsm['spatial']) / norm_scale\n",
    "        mse, mse_var = MSE(align_slices[1].obsm['align_spatial'], align_slices[1].obsm['spatial']) / norm_scale**2\n",
    "        print(f'------iteration: {l}----repeat: {k}-----mae: {mae}---------')\n",
    "        \n",
    "        alignment_results.append([mae, mae_var, mse, mse_var, data_name, no, l, k])\n",
    "\n",
    "    np.save(os.path.join(results_folder, data_name + f\"_{method}_differ_distort_{l}.npy\"), alignment_results, allow_pickle=True)"
   ]
  }
 ],
 "metadata": {
  "kernelspec": {
   "display_name": "GPSA",
   "language": "python",
   "name": "gpsa"
  },
  "language_info": {
   "codemirror_mode": {
    "name": "ipython",
    "version": 3
   },
   "file_extension": ".py",
   "mimetype": "text/x-python",
   "name": "python",
   "nbconvert_exporter": "python",
   "pygments_lexer": "ipython3",
   "version": "3.9.19"
  }
 },
 "nbformat": 4,
 "nbformat_minor": 5
}
