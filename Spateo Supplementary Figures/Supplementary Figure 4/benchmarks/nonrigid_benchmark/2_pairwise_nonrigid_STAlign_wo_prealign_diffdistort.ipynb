{
 "cells": [
  {
   "cell_type": "code",
   "execution_count": 1,
   "id": "53ec7097-cfb0-4b03-a11e-a77172e4df5a",
   "metadata": {
    "execution": {
     "iopub.execute_input": "2024-08-01T17:41:30.481912Z",
     "iopub.status.busy": "2024-08-01T17:41:30.481310Z",
     "iopub.status.idle": "2024-08-01T17:41:34.019849Z",
     "shell.execute_reply": "2024-08-01T17:41:34.018964Z",
     "shell.execute_reply.started": "2024-08-01T17:41:30.481874Z"
    }
   },
   "outputs": [],
   "source": [
    "import os\n",
    "os.environ['CUDA_VISIBLE_DEVICES'] = '0'\n",
    "import sys\n",
    "from pathlib import Path\n",
    "import anndata as ad\n",
    "import scanpy as sc\n",
    "import numpy as np\n",
    "import warnings\n",
    "warnings.simplefilter(action='ignore', category=FutureWarning)\n",
    "import seaborn as sns\n",
    "from matplotlib import pyplot as plt\n",
    "import time\n",
    "\n",
    "sys.path.insert(0, \"/home/ylu/project/Benchmark_alignment_methods/scripts/methods\")\n",
    "from my_STAlign import stalign_align\n",
    "sys.path.insert(0, \"/home/ylu/project\")\n",
    "from utils import *\n",
    "sys.path.insert(0, \"/home/ylu/project/STalign\")\n",
    "from STalign import STalign\n",
    "%load_ext autoreload\n",
    "%autoreload 2"
   ]
  },
  {
   "cell_type": "code",
   "execution_count": 2,
   "id": "0fe9454c-9428-4abe-9c33-59e0b91e6466",
   "metadata": {
    "execution": {
     "iopub.execute_input": "2024-08-01T17:41:37.705476Z",
     "iopub.status.busy": "2024-08-01T17:41:37.704581Z",
     "iopub.status.idle": "2024-08-01T17:41:37.735296Z",
     "shell.execute_reply": "2024-08-01T17:41:37.734446Z",
     "shell.execute_reply.started": "2024-08-01T17:41:37.705435Z"
    }
   },
   "outputs": [],
   "source": [
    "data_folder = \"../../data/STARMapPlus_nonrigid_simulation_different_distort/\"\n",
    "results_folder = \"./nonrigid_different_distort_results/STAlign_wo_prealign\"\n",
    "Path(results_folder).mkdir(parents=True, exist_ok=True)"
   ]
  },
  {
   "cell_type": "code",
   "execution_count": 3,
   "id": "72109deb-c022-49ff-a26f-8507f34ffef3",
   "metadata": {
    "execution": {
     "iopub.execute_input": "2024-08-01T17:41:39.098010Z",
     "iopub.status.busy": "2024-08-01T17:41:39.097530Z",
     "iopub.status.idle": "2024-08-01T17:41:39.673803Z",
     "shell.execute_reply": "2024-08-01T17:41:39.673063Z",
     "shell.execute_reply.started": "2024-08-01T17:41:39.097979Z"
    }
   },
   "outputs": [],
   "source": [
    "slice_name = ['A','B','C','D']\n",
    "tps_slice_name = ['A*','B*','C*','D*']\n",
    "# i = 3\n",
    "# data_name = \"sagittal{}\".format(i)\n",
    "i = 10\n",
    "data_name = \"well_{}\".format(i)\n",
    "s = ad.read_h5ad('../../data/STARMapPlus/{}.h5ad'.format(data_name))\n",
    "norm_scale = np.linalg.norm(s.obsm['spatial'].max(0) - s.obsm['spatial'].min(0))\n",
    "del s\n",
    "j = 1\n",
    "slice1 = ad.read_h5ad(os.path.join(data_folder, data_name, \"slice_\" + str(j) + \".h5ad\"))\n",
    "slice2 = ad.read_h5ad(os.path.join(data_folder, data_name, \"slice_\" + str(j+1) + \".h5ad\"))\n",
    "repeat = 10"
   ]
  },
  {
   "cell_type": "code",
   "execution_count": null,
   "id": "1f93a0a8-bd09-431e-aa61-fc38b21718c0",
   "metadata": {
    "execution": {
     "iopub.execute_input": "2024-08-01T17:42:31.997070Z",
     "iopub.status.busy": "2024-08-01T17:42:31.996574Z"
    }
   },
   "outputs": [
    {
     "name": "stderr",
     "output_type": "stream",
     "text": [
      "/home/ylu/project/STalign/STalign/STalign.py:1044: UserWarning: To copy construct from a tensor, it is recommended to use sourceTensor.clone().detach() or sourceTensor.clone().detach().requires_grad_(True), rather than torch.tensor(sourceTensor).\n",
      "  L = torch.tensor(L,device=device,dtype=dtype,requires_grad=True)\n",
      "/home/ylu/project/STalign/STalign/STalign.py:1045: UserWarning: To copy construct from a tensor, it is recommended to use sourceTensor.clone().detach() or sourceTensor.clone().detach().requires_grad_(True), rather than torch.tensor(sourceTensor).\n",
      "  T = torch.tensor(T,device=device,dtype=dtype,requires_grad=True)\n",
      "/home/ylu/anaconda3/envs/STAlign/lib/python3.9/site-packages/torch/functional.py:512: UserWarning: torch.meshgrid: in an upcoming release, it will be required to pass the indexing argument. (Triggered internally at ../aten/src/ATen/native/TensorShape.cpp:3587.)\n",
      "  return _VF.meshgrid(tensors, **kwargs)  # type: ignore[attr-defined]\n"
     ]
    },
    {
     "name": "stdout",
     "output_type": "stream",
     "text": [
      "------iteration: 0----repeat: 0-----mae: 0.4321505898351903---------\n"
     ]
    },
    {
     "name": "stderr",
     "output_type": "stream",
     "text": [
      "/home/ylu/anaconda3/envs/STAlign/lib/python3.9/site-packages/torch/utils/_device.py:78: UserWarning: To copy construct from a tensor, it is recommended to use sourceTensor.clone().detach() or sourceTensor.clone().detach().requires_grad_(True), rather than torch.tensor(sourceTensor).\n",
      "  return func(*args, **kwargs)\n"
     ]
    },
    {
     "name": "stdout",
     "output_type": "stream",
     "text": [
      "------iteration: 0----repeat: 1-----mae: 0.38031038818914736---------\n",
      "------iteration: 0----repeat: 2-----mae: 0.42572739172617197---------\n",
      "------iteration: 0----repeat: 3-----mae: 0.41628389074724026---------\n",
      "------iteration: 0----repeat: 4-----mae: 0.06508009825273448---------\n",
      "------iteration: 0----repeat: 5-----mae: 0.4583892364252176---------\n",
      "------iteration: 0----repeat: 6-----mae: 0.17455505392534104---------\n",
      "------iteration: 0----repeat: 7-----mae: 0.33708301521655654---------\n",
      "------iteration: 0----repeat: 8-----mae: 0.21950149036288985---------\n",
      "------iteration: 0----repeat: 9-----mae: 0.1814833750807202---------\n",
      "------iteration: 1----repeat: 0-----mae: 0.1646309363229182---------\n",
      "------iteration: 1----repeat: 1-----mae: 0.4607932677632544---------\n",
      "------iteration: 1----repeat: 2-----mae: 0.458974990485923---------\n",
      "------iteration: 1----repeat: 3-----mae: 0.4579219598167115---------\n",
      "------iteration: 1----repeat: 4-----mae: 0.06776777291769191---------\n",
      "------iteration: 1----repeat: 5-----mae: 0.4386089371624094---------\n",
      "------iteration: 1----repeat: 6-----mae: 0.39794827501070534---------\n",
      "------iteration: 1----repeat: 7-----mae: 0.23270722396511964---------\n",
      "------iteration: 1----repeat: 8-----mae: 0.4530922962841698---------\n",
      "------iteration: 1----repeat: 9-----mae: 0.3077587907154093---------\n",
      "------iteration: 2----repeat: 0-----mae: 0.36320767239334173---------\n",
      "------iteration: 2----repeat: 1-----mae: 0.1595688367822712---------\n",
      "------iteration: 2----repeat: 2-----mae: 0.2340455180970103---------\n",
      "------iteration: 2----repeat: 3-----mae: 0.37979854686432607---------\n",
      "------iteration: 2----repeat: 4-----mae: 0.45875865822825995---------\n",
      "------iteration: 2----repeat: 5-----mae: 0.11286751152785383---------\n",
      "------iteration: 2----repeat: 6-----mae: 0.35553560345648527---------\n",
      "------iteration: 2----repeat: 7-----mae: 0.3578401090636523---------\n",
      "------iteration: 2----repeat: 8-----mae: 0.11335493383729535---------\n",
      "------iteration: 2----repeat: 9-----mae: 0.1509820508226176---------\n",
      "------iteration: 3----repeat: 0-----mae: 0.2795347972772825---------\n",
      "------iteration: 3----repeat: 1-----mae: 0.4434978770890728---------\n",
      "------iteration: 3----repeat: 2-----mae: 0.44850594629270735---------\n",
      "------iteration: 3----repeat: 3-----mae: 0.13412308378225057---------\n",
      "------iteration: 3----repeat: 4-----mae: 0.06719179757566528---------\n",
      "------iteration: 3----repeat: 5-----mae: 0.4479857720696615---------\n",
      "------iteration: 3----repeat: 6-----mae: 0.45746373783932676---------\n",
      "------iteration: 3----repeat: 7-----mae: 0.44851742817041157---------\n",
      "------iteration: 3----repeat: 8-----mae: 0.23147815060625704---------\n",
      "------iteration: 3----repeat: 9-----mae: 0.4316787739061268---------\n",
      "------iteration: 4----repeat: 0-----mae: 0.4389540712965391---------\n",
      "------iteration: 4----repeat: 1-----mae: 0.33079935224494045---------\n",
      "------iteration: 4----repeat: 2-----mae: 0.4435639537555319---------\n",
      "------iteration: 4----repeat: 3-----mae: 0.31447982563072896---------\n",
      "------iteration: 4----repeat: 4-----mae: 0.4618542834958163---------\n",
      "------iteration: 4----repeat: 5-----mae: 0.06712084102647804---------\n",
      "------iteration: 4----repeat: 6-----mae: 0.1890612667626117---------\n",
      "------iteration: 4----repeat: 7-----mae: 0.44726656880483784---------\n",
      "------iteration: 4----repeat: 8-----mae: 0.4582029570537013---------\n",
      "------iteration: 4----repeat: 9-----mae: 0.2350858023323737---------\n",
      "------iteration: 5----repeat: 0-----mae: 0.44602636153753955---------\n",
      "------iteration: 5----repeat: 1-----mae: 0.4080195514399204---------\n",
      "------iteration: 5----repeat: 2-----mae: 0.33216312749546467---------\n",
      "------iteration: 5----repeat: 3-----mae: 0.08713068910239043---------\n",
      "------iteration: 5----repeat: 4-----mae: 0.0627576597152068---------\n",
      "------iteration: 5----repeat: 5-----mae: 0.4242452906215536---------\n",
      "------iteration: 5----repeat: 6-----mae: 0.4049282177582081---------\n",
      "------iteration: 5----repeat: 7-----mae: 0.45040054391956613---------\n",
      "------iteration: 5----repeat: 8-----mae: 0.32957937369363405---------\n",
      "------iteration: 5----repeat: 9-----mae: 0.21178164627800863---------\n",
      "------iteration: 6----repeat: 0-----mae: 0.12353702132270385---------\n",
      "------iteration: 6----repeat: 1-----mae: 0.4343267231493464---------\n"
     ]
    }
   ],
   "source": [
    "for l, no in enumerate(np.arange(0,0.22,0.02)):\n",
    "    alignment_results = []\n",
    "    for k in range(repeat):\n",
    "        # if l < 2:\n",
    "        #     continue\n",
    "        slice1.obsm['prealign_spatial'] = slice1.obsm['spatial'].copy()\n",
    "        slice2.obsm['prealign_spatial'] = slice2.obsm['tps_spatial_{}_r_{}'.format(l, k)].copy()\n",
    "\n",
    "        # R, t = solve_RT_by_correspondence(slice2.obsm['spatial'], slice2.obsm['prealign_spatial'])\n",
    "        # slice2.obsm['prealign_spatial'] = slice2.obsm['prealign_spatial'] @ R.T + t\n",
    "        \n",
    "        # align slices\n",
    "        align_slices = stalign_align(\n",
    "            models = [slice1, slice2],\n",
    "            spatial_key = 'prealign_spatial',\n",
    "            key_added = 'align_spatial',\n",
    "            device = \"cuda:0\",\n",
    "            scale=0.3,\n",
    "            zero_mean=True,\n",
    "        )\n",
    "        torch.cuda.empty_cache()\n",
    "        mae, mae_var = MAE(align_slices[1].obsm['align_spatial'], align_slices[1].obsm['spatial']) / norm_scale\n",
    "        mse, mse_var = MSE(align_slices[1].obsm['align_spatial'], align_slices[1].obsm['spatial']) / norm_scale**2\n",
    "        print(f'------iteration: {l}----repeat: {k}-----mae: {mae}---------')\n",
    "        \n",
    "        alignment_results.append([mae, mae_var, mse, mse_var, data_name, no, l, k])\n",
    "\n",
    "    np.save(os.path.join(results_folder, data_name + \"_STAlign_differ_distort_{}.npy\".format(l)), alignment_results, allow_pickle=True)"
   ]
  },
  {
   "cell_type": "code",
   "execution_count": null,
   "id": "49c60d1c-f8fc-44a8-817d-409bd5aa3b50",
   "metadata": {},
   "outputs": [],
   "source": []
  },
  {
   "cell_type": "code",
   "execution_count": null,
   "id": "f935ce4c-0c77-4d9c-b818-65f7a232621d",
   "metadata": {},
   "outputs": [],
   "source": [
    "for l, no in enumerate(np.arange(0,0.22,0.02)):\n",
    "    alignment_results = []\n",
    "    for k in range(repeat):\n",
    "        slice1.obsm['prealign_spatial'] = slice1.obsm['spatial'].copy()\n",
    "        slice2.obsm['prealign_spatial'] = slice2.obsm['tps_spatial_{}_r_{}'.format(l, k)].copy()\n",
    "        align_slices, _, _ = paste_align_ref(\n",
    "        models=[slice1.copy(), slice2.copy()],\n",
    "            spatial_key=\"prealign_spatial\",\n",
    "            key_added=\"align_spatial\",\n",
    "            device=\"1\",\n",
    "            verbose=False,\n",
    "            n_sampling=5000,\n",
    "            sampling_method=\"random\",\n",
    "        )\n",
    "        torch.cuda.empty_cache()\n",
    "        mae, mae_var = MAE(align_slices[1].obsm['align_spatial'], align_slices[1].obsm['spatial']) / norm_scale\n",
    "        mse, mse_var = MSE(align_slices[1].obsm['align_spatial'], align_slices[1].obsm['spatial']) / norm_scale**2\n",
    "        \n",
    "        alignment_results.append([mae, mae_var, mse, mse_var, data_name, no, l, k])\n",
    "\n",
    "    np.save(os.path.join(results_folder, data_name + \"_SPACEL_differ_distort_{}.npy\".format(l)), alignment_results, allow_pickle=True)"
   ]
  },
  {
   "cell_type": "code",
   "execution_count": null,
   "id": "d92768da-d68d-41ec-bac4-32fc94979157",
   "metadata": {},
   "outputs": [],
   "source": [
    "# sagittal_morpho_results = {}\n",
    "spatial_key=\"prealign_spatial\"\n",
    "key_added=\"align_spatial\"\n",
    "anno_key = 'Main_molecular_tissue_region'\n",
    "slice_name = ['A','B','C','D']\n",
    "tps_slice_name = ['A*','B*','C*','D*']\n",
    "# for i in range(16):\n",
    "i = 3\n",
    "# data_name = \"well_{:02d}\".format(i)\n",
    "data_name = \"sagittal{}\".format(i)\n",
    "s = ad.read_h5ad('../../data/STARMapPlus/{}.h5ad'.format(data_name))\n",
    "norm_scale = np.linalg.norm(s.obsm['spatial'].max(0) - s.obsm['spatial'].min(0))\n",
    "del s\n",
    "\n",
    "for j in range(3):\n",
    "    slice1 = ad.read_h5ad(os.path.join(data_folder, data_name, \"slice_\" + str(j) + \".h5ad\"))\n",
    "    slice2 = ad.read_h5ad(os.path.join(data_folder, data_name, \"slice_\" + str(j+1) + \".h5ad\"))\n",
    "\n",
    "    for l, no in enumerate(np.arange(0,0.22,0.02)):\n",
    "        alignment_results = []\n",
    "        for k in range(repeat):\n",
    "            slice1.obsm['prealign_spatial'] = slice1.obsm['spatial'].copy()\n",
    "            slice2.obsm['prealign_spatial'] = slice2.obsm['tps_spatial_{}_r_{}'.format(l, k)].copy()\n",
    "\n",
    "            sampling_num = 5000\n",
    "            sampline_idx1 = np.random.choice(slice1.shape[0], sampling_num, replace=False) if slice1.shape[0] > sampling_num else np.arange(slice1.shape[0])\n",
    "            sampline_idx2 = np.random.choice(slice2.shape[0], sampling_num, replace=False) if slice2.shape[0] > sampling_num else np.arange(slice2.shape[0])\n",
    "            sub_slice1 = slice1[sampline_idx1,:]\n",
    "            sub_slice2 = slice2[sampline_idx2,:]\n",
    "    \n",
    "            # align slices\n",
    "            align_slices = spacel_align(\n",
    "                models=[sub_slice1, sub_slice2],\n",
    "                spatial_key=spatial_key,\n",
    "                key_added=key_added,\n",
    "                anno_key = anno_key,\n",
    "            )\n",
    "        \n",
    "            mae, mae_var = MAE(align_slices[1].obsm['align_spatial'], align_slices[1].obsm['spatial']) / norm_scale\n",
    "            mse, mse_var = MSE(align_slices[1].obsm['align_spatial'], align_slices[1].obsm['spatial']) / norm_scale**2\n",
    "    \n",
    "            alignment_results.append([mae, mae_var, mse, mse_var, data_name, slice_name[j]+tps_slice_name[j+1]])\n",
    "    \n",
    "for j in range(3):\n",
    "    slice1 = ad.read_h5ad(os.path.join(data_folder, data_name, \"slice_\" + str(j+1) + \".h5ad\"))\n",
    "    slice2 = ad.read_h5ad(os.path.join(data_folder, data_name, \"slice_\" + str(j) + \".h5ad\"))\n",
    "    slice1.obsm['prealign_spatial'] = slice1.obsm['spatial'].copy()\n",
    "    slice2.obsm['prealign_spatial'] = slice2.obsm['tps_spatial_0'].copy()\n",
    "\n",
    "    # align slices\n",
    "    align_slices = spacel_align(\n",
    "        models=[slice1, slice2],\n",
    "        spatial_key=spatial_key,\n",
    "        key_added=key_added,\n",
    "        anno_key = anno_key,\n",
    "    )\n",
    "\n",
    "    mae, mae_var = MAE(align_slices[1].obsm['align_spatial'], align_slices[1].obsm['spatial']) / norm_scale\n",
    "    mse, mse_var = MSE(align_slices[1].obsm['align_spatial'], align_slices[1].obsm['spatial']) / norm_scale**2\n",
    "    \n",
    "    alignment_results.append([mae, mae_var, mse, mse_var, data_name, slice_name[j+1]+tps_slice_name[j]])\n",
    "\n",
    "np.save(os.path.join(results_folder, data_name + \"_SPACEL.npy\"), alignment_results, allow_pickle=True)"
   ]
  }
 ],
 "metadata": {
  "kernelspec": {
   "display_name": "STAlign",
   "language": "python",
   "name": "stalign"
  },
  "language_info": {
   "codemirror_mode": {
    "name": "ipython",
    "version": 3
   },
   "file_extension": ".py",
   "mimetype": "text/x-python",
   "name": "python",
   "nbconvert_exporter": "python",
   "pygments_lexer": "ipython3",
   "version": "3.9.19"
  }
 },
 "nbformat": 4,
 "nbformat_minor": 5
}
