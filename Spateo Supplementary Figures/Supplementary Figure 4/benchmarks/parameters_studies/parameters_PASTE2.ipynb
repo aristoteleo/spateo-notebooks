{
 "cells": [
  {
   "cell_type": "code",
   "execution_count": null,
   "id": "85f2ef7e-a78c-4d01-bb53-cd51901fde97",
   "metadata": {
    "execution": {
     "iopub.execute_input": "2024-07-17T05:12:58.605151Z",
     "iopub.status.busy": "2024-07-17T05:12:58.604778Z",
     "iopub.status.idle": "2024-07-17T05:13:03.807172Z",
     "shell.execute_reply": "2024-07-17T05:13:03.806523Z",
     "shell.execute_reply.started": "2024-07-17T05:12:58.605124Z"
    }
   },
   "outputs": [
    {
     "name": "stderr",
     "output_type": "stream",
     "text": [
      "2024-07-17 05:13:02.355298: W tensorflow/compiler/xla/stream_executor/platform/default/dso_loader.cc:64] Could not load dynamic library 'libcudart.so.11.0'; dlerror: libcudart.so.11.0: cannot open shared object file: No such file or directory; LD_LIBRARY_PATH: /usr/local/cuda-12.3/lib64\n",
      "2024-07-17 05:13:03.066703: W tensorflow/compiler/xla/stream_executor/platform/default/dso_loader.cc:64] Could not load dynamic library 'libnvinfer.so.7'; dlerror: libnvinfer.so.7: cannot open shared object file: No such file or directory; LD_LIBRARY_PATH: /usr/local/cuda-12.3/lib64\n",
      "2024-07-17 05:13:03.066794: W tensorflow/compiler/xla/stream_executor/platform/default/dso_loader.cc:64] Could not load dynamic library 'libnvinfer_plugin.so.7'; dlerror: libnvinfer_plugin.so.7: cannot open shared object file: No such file or directory; LD_LIBRARY_PATH: /usr/local/cuda-12.3/lib64\n",
      "2024-07-17 05:13:03.066802: W tensorflow/compiler/tf2tensorrt/utils/py_utils.cc:38] TF-TRT Warning: Cannot dlopen some TensorRT libraries. If you would like to use Nvidia GPU with TensorRT, please make sure the missing libraries mentioned above are installed properly.\n"
     ]
    }
   ],
   "source": [
    "import os\n",
    "os.environ['CUDA_VISIBLE_DEVICES'] = '2'\n",
    "import sys\n",
    "from pathlib import Path\n",
    "import anndata as ad\n",
    "import scanpy as sc\n",
    "import numpy as np\n",
    "import warnings\n",
    "warnings.simplefilter(action='ignore', category=FutureWarning)\n",
    "import seaborn as sns\n",
    "from matplotlib import pyplot as plt\n",
    "\n",
    "sys.path.insert(0, \"../../scripts/methods/\")\n",
    "from my_paste2 import paste2_align, paste2_align_ref\n",
    "sys.path.insert(0, \"/home/ylu/project\")\n",
    "from utils import *\n",
    "import time\n",
    "\n",
    "%load_ext autoreload\n",
    "%autoreload 2"
   ]
  },
  {
   "cell_type": "code",
   "execution_count": 1,
   "id": "3628068c-98d6-430a-bebd-ce234b275394",
   "metadata": {
    "execution": {
     "iopub.execute_input": "2024-07-17T05:13:03.809020Z",
     "iopub.status.busy": "2024-07-17T05:13:03.808317Z",
     "iopub.status.idle": "2024-07-17T05:13:04.530792Z",
     "shell.execute_reply": "2024-07-17T05:13:04.530214Z",
     "shell.execute_reply.started": "2024-07-17T05:13:03.808993Z"
    }
   },
   "outputs": [],
   "source": [
    "data_folder = \"../../data/STARMapPlus/\"\n",
    "method = 'PASTE2'\n",
    "i = 3\n",
    "adata = ad.read_h5ad(os.path.join(data_folder, f\"sagittal{i}.h5ad\"))\n",
    "scale = np.linalg.norm(adata.obsm['spatial'].max(0) - adata.obsm['spatial'].min(0))\n",
    "slices = split_slice(\n",
    "    adata=adata,\n",
    "    spatial_key='spatial_raw',\n",
    "    split_num=2,\n",
    "    axis=2,\n",
    ")"
   ]
  },
  {
   "cell_type": "code",
   "execution_count": 4,
   "id": "2db3ebd3-bf36-4bd0-aeb5-4c02ac368c41",
   "metadata": {
    "execution": {
     "iopub.execute_input": "2024-07-17T06:22:48.647270Z",
     "iopub.status.busy": "2024-07-17T06:22:48.646912Z",
     "iopub.status.idle": "2024-07-17T06:22:48.694880Z",
     "shell.execute_reply": "2024-07-17T06:22:48.694378Z",
     "shell.execute_reply.started": "2024-07-17T06:22:48.647242Z"
    }
   },
   "outputs": [
    {
     "data": {
      "text/plain": [
       "array([[22652.        , 60661.70103093],\n",
       "       [16183.25      , 14389.98076923],\n",
       "       [11629.66326531,  7280.5       ],\n",
       "       ...,\n",
       "       [20116.25      , 37176.05555556],\n",
       "       [12186.97391304, 16052.3826087 ],\n",
       "       [ 7668.36842105, 13599.8245614 ]])"
      ]
     },
     "execution_count": 4,
     "metadata": {},
     "output_type": "execute_result"
    }
   ],
   "source": [
    "align_slices[1].obsm[key_added]"
   ]
  },
  {
   "cell_type": "code",
   "execution_count": 6,
   "id": "6b6b112b-ae75-4d50-92fe-b634df72a2e8",
   "metadata": {
    "execution": {
     "iopub.execute_input": "2024-07-17T06:23:45.536503Z",
     "iopub.status.busy": "2024-07-17T06:23:45.536142Z",
     "iopub.status.idle": "2024-07-17T06:23:45.583297Z",
     "shell.execute_reply": "2024-07-17T06:23:45.582792Z",
     "shell.execute_reply.started": "2024-07-17T06:23:45.536478Z"
    }
   },
   "outputs": [
    {
     "data": {
      "text/plain": [
       "AnnData object with n_obs × n_vars = 5000 × 1022\n",
       "    obs: 'Sub_molecular_cell_type', 'Main_molecular_tissue_region', 'Sub_molecular_tissue_region', 'Molecular_spatial_cell_type', 'slice'\n",
       "    uns: 'models_align'\n",
       "    obsm: 'spatial', 'spatial_raw', 'align_spatial'"
      ]
     },
     "execution_count": 6,
     "metadata": {},
     "output_type": "execute_result"
    }
   ],
   "source": [
    "align_slices[1]"
   ]
  },
  {
   "cell_type": "code",
   "execution_count": 9,
   "id": "f90bfe2a-b17e-4df9-94d3-6fbca21762cd",
   "metadata": {
    "execution": {
     "iopub.execute_input": "2024-07-17T06:24:28.255740Z",
     "iopub.status.busy": "2024-07-17T06:24:28.255372Z",
     "iopub.status.idle": "2024-07-17T06:24:28.302996Z",
     "shell.execute_reply": "2024-07-17T06:24:28.302480Z",
     "shell.execute_reply.started": "2024-07-17T06:24:28.255715Z"
    }
   },
   "outputs": [
    {
     "data": {
      "text/plain": [
       "array([[22652.        , 60661.70103093],\n",
       "       [16183.25      , 14389.98076923],\n",
       "       [11629.66326531,  7280.5       ],\n",
       "       ...,\n",
       "       [20116.25      , 37176.05555556],\n",
       "       [12186.97391304, 16052.3826087 ],\n",
       "       [ 7668.36842105, 13599.8245614 ]])"
      ]
     },
     "execution_count": 9,
     "metadata": {},
     "output_type": "execute_result"
    }
   ],
   "source": [
    "align_slices[1].obsm[key_added]"
   ]
  },
  {
   "cell_type": "code",
   "execution_count": 10,
   "id": "62ec6295-1e29-4b19-abc5-5287f9bba287",
   "metadata": {
    "execution": {
     "iopub.execute_input": "2024-07-17T06:24:30.224133Z",
     "iopub.status.busy": "2024-07-17T06:24:30.223776Z",
     "iopub.status.idle": "2024-07-17T06:24:30.271252Z",
     "shell.execute_reply": "2024-07-17T06:24:30.270752Z",
     "shell.execute_reply.started": "2024-07-17T06:24:30.224108Z"
    }
   },
   "outputs": [
    {
     "data": {
      "text/plain": [
       "array([[22652.        , 60661.70103093],\n",
       "       [16183.25      , 14389.98076923],\n",
       "       [11629.66326531,  7280.5       ],\n",
       "       ...,\n",
       "       [20116.25      , 37176.05555556],\n",
       "       [12186.97391304, 16052.3826087 ],\n",
       "       [ 7668.36842105, 13599.8245614 ]])"
      ]
     },
     "execution_count": 10,
     "metadata": {},
     "output_type": "execute_result"
    }
   ],
   "source": [
    "align_slices[1].obsm['spatial']"
   ]
  },
  {
   "cell_type": "code",
   "execution_count": null,
   "id": "ec6e2cfd-7423-45c3-93c0-35d2e09d61f6",
   "metadata": {
    "execution": {
     "iopub.execute_input": "2024-07-17T05:13:04.531856Z",
     "iopub.status.busy": "2024-07-17T05:13:04.531586Z"
    }
   },
   "outputs": [
    {
     "name": "stderr",
     "output_type": "stream",
     "text": [
      "  0%|                                                                                                                                                                                                                                 | 0/11 [00:00<?, ?it/s]/home/ylu/project/Benchmark_alignment_methods/notebooks/ParametersStudies/../../scripts/methods/my_paste2.py:113: ImplicitModificationWarning: Setting element `.obsm['align_spatial']` of view, initializing view as actual.\n",
      "  m.obsm[key_added] = m.obsm[spatial_key]\n",
      "/home/ylu/project/Benchmark_alignment_methods/notebooks/ParametersStudies/../../scripts/methods/my_paste2.py:113: ImplicitModificationWarning: Setting element `.obsm['align_spatial']` of view, initializing view as actual.\n",
      "  m.obsm[key_added] = m.obsm[spatial_key]\n"
     ]
    },
    {
     "name": "stdout",
     "output_type": "stream",
     "text": [
      "PASTE2 model selection procedure.\n",
      "Running PASTE2 with s = 0.99...\n",
      "Running PASTE2 with s = 0.95...\n",
      "Running PASTE2 with s = 0.9...\n",
      "Running PASTE2 with s = 0.85...\n",
      "Running PASTE2 with s = 0.8...\n",
      "Running PASTE2 with s = 0.75...\n",
      "Running PASTE2 with s = 0.7...\n",
      "Running PASTE2 with s = 0.65...\n",
      "Running PASTE2 with s = 0.6...\n",
      "Running PASTE2 with s = 0.55...\n",
      "Running PASTE2 with s = 0.5...\n",
      "Running PASTE2 with s = 0.45...\n",
      "Running PASTE2 with s = 0.4...\n",
      "Running PASTE2 with s = 0.35...\n",
      "Running PASTE2 with s = 0.3...\n",
      "Running PASTE2 with s = 0.25...\n",
      "Running PASTE2 with s = 0.2...\n",
      "Running PASTE2 with s = 0.15...\n",
      "Running PASTE2 with s = 0.1...\n",
      "Running PASTE2 with s = 0.05...\n",
      "Estimation of overlap percentage is 0.7\n",
      "PASTE2 starts...\n",
      "It.  |Loss        |Relative loss|Absolute loss\n",
      "------------------------------------------------\n",
      "    0|4.223698e+00|0.000000e+00|0.000000e+00\n",
      "    1|1.746390e+00|1.418531e+00|2.477309e+00\n",
      "    2|1.706991e+00|2.308052e-02|3.939825e-02\n",
      "    3|1.696556e+00|6.150653e-03|1.043493e-02\n",
      "    4|1.693885e+00|1.576855e-03|2.671012e-03\n",
      "    5|1.692600e+00|7.594107e-04|1.285379e-03\n"
     ]
    },
    {
     "name": "stderr",
     "output_type": "stream",
     "text": [
      "/home/ylu/anaconda3/envs/GPSA/lib/python3.9/site-packages/ot/lp/__init__.py:354: UserWarning: numItermax reached before optimality. Try to increase numItermax.\n",
      "  result_code_string = check_result(result_code)\n",
      "  9%|███████████████████▍                                                                                                                                                                                                  | 1/11 [07:45<1:17:36, 465.62s/it]/home/ylu/project/Benchmark_alignment_methods/notebooks/ParametersStudies/../../scripts/methods/my_paste2.py:113: ImplicitModificationWarning: Setting element `.obsm['align_spatial']` of view, initializing view as actual.\n",
      "  m.obsm[key_added] = m.obsm[spatial_key]\n",
      "/home/ylu/project/Benchmark_alignment_methods/notebooks/ParametersStudies/../../scripts/methods/my_paste2.py:113: ImplicitModificationWarning: Setting element `.obsm['align_spatial']` of view, initializing view as actual.\n",
      "  m.obsm[key_added] = m.obsm[spatial_key]\n"
     ]
    },
    {
     "name": "stdout",
     "output_type": "stream",
     "text": [
      "PASTE2 model selection procedure.\n",
      "Running PASTE2 with s = 0.99...\n",
      "Running PASTE2 with s = 0.95...\n",
      "Running PASTE2 with s = 0.9...\n",
      "Running PASTE2 with s = 0.85...\n",
      "Running PASTE2 with s = 0.8...\n",
      "Running PASTE2 with s = 0.75...\n",
      "Running PASTE2 with s = 0.7...\n",
      "Running PASTE2 with s = 0.65...\n",
      "Running PASTE2 with s = 0.6...\n",
      "Running PASTE2 with s = 0.55...\n",
      "Running PASTE2 with s = 0.5...\n",
      "Running PASTE2 with s = 0.45...\n",
      "Running PASTE2 with s = 0.4...\n",
      "Running PASTE2 with s = 0.35...\n",
      "Running PASTE2 with s = 0.3...\n",
      "Running PASTE2 with s = 0.25...\n",
      "Running PASTE2 with s = 0.2...\n",
      "Running PASTE2 with s = 0.15...\n",
      "Running PASTE2 with s = 0.1...\n",
      "Running PASTE2 with s = 0.05...\n",
      "Estimation of overlap percentage is 0.5\n",
      "PASTE2 starts...\n",
      "It.  |Loss        |Relative loss|Absolute loss\n",
      "------------------------------------------------\n",
      "    0|4.266617e+00|0.000000e+00|0.000000e+00\n",
      "    1|1.146454e+00|2.721578e+00|3.120163e+00\n",
      "    2|1.113056e+00|3.000511e-02|3.339738e-02\n",
      "    3|1.107940e+00|4.617551e-03|5.115972e-03\n",
      "    4|1.106982e+00|8.658032e-04|9.584285e-04\n",
      "    5|1.106487e+00|4.474250e-04|4.950698e-04\n",
      "    6|1.105858e+00|5.689311e-04|6.291568e-04\n",
      "    7|1.104857e+00|9.053476e-04|1.000280e-03\n",
      "    8|1.103170e+00|1.529369e-03|1.687154e-03\n"
     ]
    },
    {
     "name": "stderr",
     "output_type": "stream",
     "text": [
      "/home/ylu/anaconda3/envs/GPSA/lib/python3.9/site-packages/ot/lp/__init__.py:354: UserWarning: numItermax reached before optimality. Try to increase numItermax.\n",
      "  result_code_string = check_result(result_code)\n",
      " 18%|██████████████████████████████████████▉                                                                                                                                                                               | 2/11 [24:36<1:57:55, 786.16s/it]/home/ylu/project/Benchmark_alignment_methods/notebooks/ParametersStudies/../../scripts/methods/my_paste2.py:113: ImplicitModificationWarning: Setting element `.obsm['align_spatial']` of view, initializing view as actual.\n",
      "  m.obsm[key_added] = m.obsm[spatial_key]\n",
      "/home/ylu/project/Benchmark_alignment_methods/notebooks/ParametersStudies/../../scripts/methods/my_paste2.py:113: ImplicitModificationWarning: Setting element `.obsm['align_spatial']` of view, initializing view as actual.\n",
      "  m.obsm[key_added] = m.obsm[spatial_key]\n"
     ]
    },
    {
     "name": "stdout",
     "output_type": "stream",
     "text": [
      "PASTE2 model selection procedure.\n",
      "Running PASTE2 with s = 0.99...\n",
      "Running PASTE2 with s = 0.95...\n",
      "Running PASTE2 with s = 0.9...\n",
      "Running PASTE2 with s = 0.85...\n",
      "Running PASTE2 with s = 0.8...\n",
      "Running PASTE2 with s = 0.75...\n",
      "Running PASTE2 with s = 0.7...\n",
      "Running PASTE2 with s = 0.65...\n",
      "Running PASTE2 with s = 0.6...\n",
      "Running PASTE2 with s = 0.55...\n",
      "Running PASTE2 with s = 0.5...\n",
      "Running PASTE2 with s = 0.45...\n",
      "Running PASTE2 with s = 0.4...\n",
      "Running PASTE2 with s = 0.35...\n",
      "Running PASTE2 with s = 0.3...\n",
      "Running PASTE2 with s = 0.25...\n",
      "Running PASTE2 with s = 0.2...\n",
      "Running PASTE2 with s = 0.15...\n",
      "Running PASTE2 with s = 0.1...\n",
      "Running PASTE2 with s = 0.05...\n",
      "Estimation of overlap percentage is 0.6\n",
      "PASTE2 starts...\n",
      "It.  |Loss        |Relative loss|Absolute loss\n",
      "------------------------------------------------\n",
      "    0|4.236954e+00|0.000000e+00|0.000000e+00\n",
      "    1|1.421166e+00|1.981322e+00|2.815787e+00\n",
      "    2|1.394012e+00|1.947952e-02|2.715468e-02\n",
      "    3|1.389162e+00|3.490821e-03|4.849318e-03\n",
      "    4|1.387959e+00|8.671255e-04|1.203534e-03\n",
      "    5|1.387667e+00|2.103883e-04|2.919489e-04\n",
      "    6|1.387351e+00|2.273277e-04|3.153835e-04\n",
      "    7|1.386785e+00|4.084001e-04|5.663632e-04\n",
      "    8|1.385876e+00|6.560894e-04|9.092585e-04\n"
     ]
    },
    {
     "name": "stderr",
     "output_type": "stream",
     "text": [
      "/home/ylu/anaconda3/envs/GPSA/lib/python3.9/site-packages/ot/lp/__init__.py:354: UserWarning: numItermax reached before optimality. Try to increase numItermax.\n",
      "  result_code_string = check_result(result_code)\n",
      " 27%|██████████████████████████████████████████████████████████▎                                                                                                                                                           | 3/11 [37:48<1:45:12, 789.02s/it]/home/ylu/project/Benchmark_alignment_methods/notebooks/ParametersStudies/../../scripts/methods/my_paste2.py:113: ImplicitModificationWarning: Setting element `.obsm['align_spatial']` of view, initializing view as actual.\n",
      "  m.obsm[key_added] = m.obsm[spatial_key]\n",
      "/home/ylu/project/Benchmark_alignment_methods/notebooks/ParametersStudies/../../scripts/methods/my_paste2.py:113: ImplicitModificationWarning: Setting element `.obsm['align_spatial']` of view, initializing view as actual.\n",
      "  m.obsm[key_added] = m.obsm[spatial_key]\n"
     ]
    },
    {
     "name": "stdout",
     "output_type": "stream",
     "text": [
      "PASTE2 model selection procedure.\n",
      "Running PASTE2 with s = 0.99...\n",
      "Running PASTE2 with s = 0.95...\n",
      "Running PASTE2 with s = 0.9...\n",
      "Running PASTE2 with s = 0.85...\n",
      "Running PASTE2 with s = 0.8...\n",
      "Running PASTE2 with s = 0.75...\n",
      "Running PASTE2 with s = 0.7...\n",
      "Running PASTE2 with s = 0.65...\n",
      "Running PASTE2 with s = 0.6...\n",
      "Running PASTE2 with s = 0.55...\n",
      "Running PASTE2 with s = 0.5...\n",
      "Running PASTE2 with s = 0.45...\n",
      "Running PASTE2 with s = 0.4...\n",
      "Running PASTE2 with s = 0.35...\n",
      "Running PASTE2 with s = 0.3...\n",
      "Running PASTE2 with s = 0.25...\n",
      "Running PASTE2 with s = 0.2...\n",
      "Running PASTE2 with s = 0.15...\n",
      "Running PASTE2 with s = 0.1...\n",
      "Running PASTE2 with s = 0.05...\n",
      "Estimation of overlap percentage is 0.6\n",
      "PASTE2 starts...\n",
      "It.  |Loss        |Relative loss|Absolute loss\n",
      "------------------------------------------------\n",
      "    0|4.262168e+00|0.000000e+00|0.000000e+00\n",
      "    1|1.424288e+00|1.992490e+00|2.837880e+00\n",
      "    2|1.395494e+00|2.063393e-02|2.879451e-02\n"
     ]
    },
    {
     "name": "stderr",
     "output_type": "stream",
     "text": [
      "/home/ylu/anaconda3/envs/GPSA/lib/python3.9/site-packages/ot/lp/__init__.py:354: UserWarning: numItermax reached before optimality. Try to increase numItermax.\n",
      "  result_code_string = check_result(result_code)\n",
      " 36%|█████████████████████████████████████████████████████████████████████████████▊                                                                                                                                        | 4/11 [42:04<1:07:31, 578.73s/it]/home/ylu/project/Benchmark_alignment_methods/notebooks/ParametersStudies/../../scripts/methods/my_paste2.py:113: ImplicitModificationWarning: Setting element `.obsm['align_spatial']` of view, initializing view as actual.\n",
      "  m.obsm[key_added] = m.obsm[spatial_key]\n",
      "/home/ylu/project/Benchmark_alignment_methods/notebooks/ParametersStudies/../../scripts/methods/my_paste2.py:113: ImplicitModificationWarning: Setting element `.obsm['align_spatial']` of view, initializing view as actual.\n",
      "  m.obsm[key_added] = m.obsm[spatial_key]\n"
     ]
    },
    {
     "name": "stdout",
     "output_type": "stream",
     "text": [
      "PASTE2 model selection procedure.\n",
      "Running PASTE2 with s = 0.99...\n",
      "Running PASTE2 with s = 0.95...\n",
      "Running PASTE2 with s = 0.9...\n",
      "Running PASTE2 with s = 0.85...\n",
      "Running PASTE2 with s = 0.8...\n",
      "Running PASTE2 with s = 0.75...\n",
      "Running PASTE2 with s = 0.7...\n",
      "Running PASTE2 with s = 0.65...\n",
      "Running PASTE2 with s = 0.6...\n",
      "Running PASTE2 with s = 0.55...\n",
      "Running PASTE2 with s = 0.5...\n",
      "Running PASTE2 with s = 0.45...\n",
      "Running PASTE2 with s = 0.4...\n",
      "Running PASTE2 with s = 0.35...\n",
      "Running PASTE2 with s = 0.3...\n",
      "Running PASTE2 with s = 0.25...\n",
      "Running PASTE2 with s = 0.2...\n",
      "Running PASTE2 with s = 0.15...\n",
      "Running PASTE2 with s = 0.1...\n",
      "Running PASTE2 with s = 0.05...\n",
      "Estimation of overlap percentage is 0.6\n",
      "PASTE2 starts...\n",
      "It.  |Loss        |Relative loss|Absolute loss\n",
      "------------------------------------------------\n",
      "    0|4.226933e+00|0.000000e+00|0.000000e+00\n"
     ]
    },
    {
     "name": "stderr",
     "output_type": "stream",
     "text": [
      "/home/ylu/anaconda3/envs/GPSA/lib/python3.9/site-packages/ot/lp/__init__.py:354: UserWarning: numItermax reached before optimality. Try to increase numItermax.\n",
      "  result_code_string = check_result(result_code)\n",
      " 45%|██████████████████████████████████████████████████████████████████████████████████████████████████▏                                                                                                                     | 5/11 [43:49<40:47, 407.84s/it]/home/ylu/project/Benchmark_alignment_methods/notebooks/ParametersStudies/../../scripts/methods/my_paste2.py:113: ImplicitModificationWarning: Setting element `.obsm['align_spatial']` of view, initializing view as actual.\n",
      "  m.obsm[key_added] = m.obsm[spatial_key]\n",
      "/home/ylu/project/Benchmark_alignment_methods/notebooks/ParametersStudies/../../scripts/methods/my_paste2.py:113: ImplicitModificationWarning: Setting element `.obsm['align_spatial']` of view, initializing view as actual.\n",
      "  m.obsm[key_added] = m.obsm[spatial_key]\n"
     ]
    },
    {
     "name": "stdout",
     "output_type": "stream",
     "text": [
      "PASTE2 model selection procedure.\n",
      "Running PASTE2 with s = 0.99...\n",
      "Running PASTE2 with s = 0.95...\n",
      "Running PASTE2 with s = 0.9...\n",
      "Running PASTE2 with s = 0.85...\n",
      "Running PASTE2 with s = 0.8...\n",
      "Running PASTE2 with s = 0.75...\n",
      "Running PASTE2 with s = 0.7...\n",
      "Running PASTE2 with s = 0.65...\n",
      "Running PASTE2 with s = 0.6...\n",
      "Running PASTE2 with s = 0.55...\n",
      "Running PASTE2 with s = 0.5...\n",
      "Running PASTE2 with s = 0.45...\n",
      "Running PASTE2 with s = 0.4...\n",
      "Running PASTE2 with s = 0.35...\n",
      "Running PASTE2 with s = 0.3...\n",
      "Running PASTE2 with s = 0.25...\n",
      "Running PASTE2 with s = 0.2...\n",
      "Running PASTE2 with s = 0.15...\n",
      "Running PASTE2 with s = 0.1...\n",
      "Running PASTE2 with s = 0.05...\n",
      "Estimation of overlap percentage is 0.7\n",
      "PASTE2 starts...\n",
      "It.  |Loss        |Relative loss|Absolute loss\n",
      "------------------------------------------------\n",
      "    0|4.363189e+00|0.000000e+00|0.000000e+00\n"
     ]
    },
    {
     "name": "stderr",
     "output_type": "stream",
     "text": [
      "/home/ylu/anaconda3/envs/GPSA/lib/python3.9/site-packages/ot/lp/__init__.py:354: UserWarning: numItermax reached before optimality. Try to increase numItermax.\n",
      "  result_code_string = check_result(result_code)\n",
      " 55%|█████████████████████████████████████████████████████████████████████████████████████████████████████████████████████▊                                                                                                  | 6/11 [45:03<24:31, 294.35s/it]/home/ylu/project/Benchmark_alignment_methods/notebooks/ParametersStudies/../../scripts/methods/my_paste2.py:113: ImplicitModificationWarning: Setting element `.obsm['align_spatial']` of view, initializing view as actual.\n",
      "  m.obsm[key_added] = m.obsm[spatial_key]\n",
      "/home/ylu/project/Benchmark_alignment_methods/notebooks/ParametersStudies/../../scripts/methods/my_paste2.py:113: ImplicitModificationWarning: Setting element `.obsm['align_spatial']` of view, initializing view as actual.\n",
      "  m.obsm[key_added] = m.obsm[spatial_key]\n"
     ]
    },
    {
     "name": "stdout",
     "output_type": "stream",
     "text": [
      "PASTE2 model selection procedure.\n",
      "Running PASTE2 with s = 0.99...\n",
      "Running PASTE2 with s = 0.95...\n",
      "Running PASTE2 with s = 0.9...\n",
      "Running PASTE2 with s = 0.85...\n",
      "Running PASTE2 with s = 0.8...\n",
      "Running PASTE2 with s = 0.75...\n",
      "Running PASTE2 with s = 0.7...\n",
      "Running PASTE2 with s = 0.65...\n",
      "Running PASTE2 with s = 0.6...\n",
      "Running PASTE2 with s = 0.55...\n",
      "Running PASTE2 with s = 0.5...\n",
      "Running PASTE2 with s = 0.45...\n",
      "Running PASTE2 with s = 0.4...\n",
      "Running PASTE2 with s = 0.35...\n",
      "Running PASTE2 with s = 0.3...\n",
      "Running PASTE2 with s = 0.25...\n",
      "Running PASTE2 with s = 0.2...\n",
      "Running PASTE2 with s = 0.15...\n",
      "Running PASTE2 with s = 0.1...\n",
      "Running PASTE2 with s = 0.05...\n",
      "Estimation of overlap percentage is 0.8\n",
      "PASTE2 starts...\n",
      "It.  |Loss        |Relative loss|Absolute loss\n",
      "------------------------------------------------\n",
      "    0|4.293926e+00|0.000000e+00|0.000000e+00\n",
      "    1|2.061101e+00|1.083317e+00|2.232825e+00\n"
     ]
    },
    {
     "name": "stderr",
     "output_type": "stream",
     "text": [
      "/home/ylu/anaconda3/envs/GPSA/lib/python3.9/site-packages/ot/lp/__init__.py:354: UserWarning: numItermax reached before optimality. Try to increase numItermax.\n",
      "  result_code_string = check_result(result_code)\n",
      " 64%|█████████████████████████████████████████████████████████████████████████████████████████████████████████████████████████████████████████▍                                                                              | 7/11 [47:10<15:58, 239.58s/it]/home/ylu/project/Benchmark_alignment_methods/notebooks/ParametersStudies/../../scripts/methods/my_paste2.py:113: ImplicitModificationWarning: Setting element `.obsm['align_spatial']` of view, initializing view as actual.\n",
      "  m.obsm[key_added] = m.obsm[spatial_key]\n",
      "/home/ylu/project/Benchmark_alignment_methods/notebooks/ParametersStudies/../../scripts/methods/my_paste2.py:113: ImplicitModificationWarning: Setting element `.obsm['align_spatial']` of view, initializing view as actual.\n",
      "  m.obsm[key_added] = m.obsm[spatial_key]\n"
     ]
    },
    {
     "name": "stdout",
     "output_type": "stream",
     "text": [
      "PASTE2 model selection procedure.\n",
      "Running PASTE2 with s = 0.99...\n",
      "Running PASTE2 with s = 0.95...\n",
      "Running PASTE2 with s = 0.9...\n",
      "Running PASTE2 with s = 0.85...\n",
      "Running PASTE2 with s = 0.8...\n",
      "Running PASTE2 with s = 0.75...\n",
      "Running PASTE2 with s = 0.7...\n",
      "Running PASTE2 with s = 0.65...\n",
      "Running PASTE2 with s = 0.6...\n",
      "Running PASTE2 with s = 0.55...\n",
      "Running PASTE2 with s = 0.5...\n",
      "Running PASTE2 with s = 0.45...\n",
      "Running PASTE2 with s = 0.4...\n",
      "Running PASTE2 with s = 0.35...\n",
      "Running PASTE2 with s = 0.3...\n",
      "Running PASTE2 with s = 0.25...\n",
      "Running PASTE2 with s = 0.2...\n",
      "Running PASTE2 with s = 0.15...\n",
      "Running PASTE2 with s = 0.1...\n",
      "Running PASTE2 with s = 0.05...\n",
      "Estimation of overlap percentage is 0.7\n",
      "PASTE2 starts...\n",
      "It.  |Loss        |Relative loss|Absolute loss\n",
      "------------------------------------------------\n",
      "    0|4.306874e+00|0.000000e+00|0.000000e+00\n",
      "    1|1.682270e+00|1.560157e+00|2.624605e+00\n",
      "    2|1.568600e+00|7.246580e-02|1.136698e-01\n"
     ]
    },
    {
     "name": "stderr",
     "output_type": "stream",
     "text": [
      "/home/ylu/anaconda3/envs/GPSA/lib/python3.9/site-packages/ot/lp/__init__.py:354: UserWarning: numItermax reached before optimality. Try to increase numItermax.\n",
      "  result_code_string = check_result(result_code)\n",
      " 73%|█████████████████████████████████████████████████████████████████████████████████████████████████████████████████████████████████████████████████████████████                                                           | 8/11 [50:37<11:27, 229.20s/it]/home/ylu/project/Benchmark_alignment_methods/notebooks/ParametersStudies/../../scripts/methods/my_paste2.py:113: ImplicitModificationWarning: Setting element `.obsm['align_spatial']` of view, initializing view as actual.\n",
      "  m.obsm[key_added] = m.obsm[spatial_key]\n",
      "/home/ylu/project/Benchmark_alignment_methods/notebooks/ParametersStudies/../../scripts/methods/my_paste2.py:113: ImplicitModificationWarning: Setting element `.obsm['align_spatial']` of view, initializing view as actual.\n",
      "  m.obsm[key_added] = m.obsm[spatial_key]\n"
     ]
    },
    {
     "name": "stdout",
     "output_type": "stream",
     "text": [
      "PASTE2 model selection procedure.\n",
      "Running PASTE2 with s = 0.99...\n",
      "Running PASTE2 with s = 0.95...\n",
      "Running PASTE2 with s = 0.9...\n",
      "Running PASTE2 with s = 0.85...\n",
      "Running PASTE2 with s = 0.8...\n",
      "Running PASTE2 with s = 0.75...\n",
      "Running PASTE2 with s = 0.7...\n",
      "Running PASTE2 with s = 0.65...\n",
      "Running PASTE2 with s = 0.6...\n",
      "Running PASTE2 with s = 0.55...\n",
      "Running PASTE2 with s = 0.5...\n",
      "Running PASTE2 with s = 0.45...\n",
      "Running PASTE2 with s = 0.4...\n",
      "Running PASTE2 with s = 0.35...\n",
      "Running PASTE2 with s = 0.3...\n",
      "Running PASTE2 with s = 0.25...\n",
      "Running PASTE2 with s = 0.2...\n",
      "Running PASTE2 with s = 0.15...\n",
      "Running PASTE2 with s = 0.1...\n",
      "Running PASTE2 with s = 0.05...\n",
      "Estimation of overlap percentage is 0.5\n",
      "PASTE2 starts...\n",
      "It.  |Loss        |Relative loss|Absolute loss\n",
      "------------------------------------------------\n",
      "    0|4.260942e+00|0.000000e+00|0.000000e+00\n",
      "    1|1.083671e+00|2.931953e+00|3.177272e+00\n"
     ]
    },
    {
     "name": "stderr",
     "output_type": "stream",
     "text": [
      "/home/ylu/anaconda3/envs/GPSA/lib/python3.9/site-packages/ot/lp/__init__.py:354: UserWarning: numItermax reached before optimality. Try to increase numItermax.\n",
      "  result_code_string = check_result(result_code)\n",
      " 82%|████████████████████████████████████████████████████████████████████████████████████████████████████████████████████████████████████████████████████████████████████████████████▋                                       | 9/11 [53:31<07:03, 211.90s/it]/home/ylu/project/Benchmark_alignment_methods/notebooks/ParametersStudies/../../scripts/methods/my_paste2.py:113: ImplicitModificationWarning: Setting element `.obsm['align_spatial']` of view, initializing view as actual.\n",
      "  m.obsm[key_added] = m.obsm[spatial_key]\n",
      "/home/ylu/project/Benchmark_alignment_methods/notebooks/ParametersStudies/../../scripts/methods/my_paste2.py:113: ImplicitModificationWarning: Setting element `.obsm['align_spatial']` of view, initializing view as actual.\n",
      "  m.obsm[key_added] = m.obsm[spatial_key]\n"
     ]
    },
    {
     "name": "stdout",
     "output_type": "stream",
     "text": [
      "PASTE2 model selection procedure.\n",
      "Running PASTE2 with s = 0.99...\n",
      "Running PASTE2 with s = 0.95...\n",
      "Running PASTE2 with s = 0.9...\n",
      "Running PASTE2 with s = 0.85...\n",
      "Running PASTE2 with s = 0.8...\n",
      "Running PASTE2 with s = 0.75...\n",
      "Running PASTE2 with s = 0.7...\n",
      "Running PASTE2 with s = 0.65...\n",
      "Running PASTE2 with s = 0.6...\n",
      "Running PASTE2 with s = 0.55...\n",
      "Running PASTE2 with s = 0.5...\n",
      "Running PASTE2 with s = 0.45...\n",
      "Running PASTE2 with s = 0.4...\n",
      "Running PASTE2 with s = 0.35...\n",
      "Running PASTE2 with s = 0.3...\n",
      "Running PASTE2 with s = 0.25...\n",
      "Running PASTE2 with s = 0.2...\n",
      "Running PASTE2 with s = 0.15...\n",
      "Running PASTE2 with s = 0.1...\n",
      "Running PASTE2 with s = 0.05...\n",
      "Estimation of overlap percentage is 0.7\n",
      "PASTE2 starts...\n",
      "It.  |Loss        |Relative loss|Absolute loss\n",
      "------------------------------------------------\n",
      "    0|4.284662e+00|0.000000e+00|0.000000e+00\n",
      "    1|1.628671e+00|1.630773e+00|2.655991e+00\n",
      "    2|1.502928e+00|8.366493e-02|1.257424e-01\n",
      "    3|1.493748e+00|6.145926e-03|9.180464e-03\n",
      "    4|1.493268e+00|3.211505e-04|4.795638e-04\n"
     ]
    },
    {
     "name": "stderr",
     "output_type": "stream",
     "text": [
      "/home/ylu/anaconda3/envs/GPSA/lib/python3.9/site-packages/ot/lp/__init__.py:354: UserWarning: numItermax reached before optimality. Try to increase numItermax.\n",
      "  result_code_string = check_result(result_code)\n",
      " 91%|███████████████████████████████████████████████████████████████████████████████████████████████████████████████████████████████████████████████████████████████████████████████████████████████████▍                   | 10/11 [59:38<04:19, 259.92s/it]/home/ylu/project/Benchmark_alignment_methods/notebooks/ParametersStudies/../../scripts/methods/my_paste2.py:113: ImplicitModificationWarning: Setting element `.obsm['align_spatial']` of view, initializing view as actual.\n",
      "  m.obsm[key_added] = m.obsm[spatial_key]\n",
      "/home/ylu/project/Benchmark_alignment_methods/notebooks/ParametersStudies/../../scripts/methods/my_paste2.py:113: ImplicitModificationWarning: Setting element `.obsm['align_spatial']` of view, initializing view as actual.\n",
      "  m.obsm[key_added] = m.obsm[spatial_key]\n"
     ]
    },
    {
     "name": "stdout",
     "output_type": "stream",
     "text": [
      "PASTE2 model selection procedure.\n",
      "Running PASTE2 with s = 0.99...\n",
      "Running PASTE2 with s = 0.95...\n",
      "Running PASTE2 with s = 0.9...\n",
      "Running PASTE2 with s = 0.85...\n",
      "Running PASTE2 with s = 0.8...\n",
      "Running PASTE2 with s = 0.75...\n",
      "Running PASTE2 with s = 0.7...\n",
      "Running PASTE2 with s = 0.65...\n",
      "Running PASTE2 with s = 0.6...\n",
      "Running PASTE2 with s = 0.55...\n",
      "Running PASTE2 with s = 0.5...\n",
      "Running PASTE2 with s = 0.45...\n",
      "Running PASTE2 with s = 0.4...\n",
      "Running PASTE2 with s = 0.35...\n"
     ]
    }
   ],
   "source": [
    "overlay_ratio_set = np.arange(0.5, 1.05, 0.05)\n",
    "from tqdm import tqdm\n",
    "maes = []\n",
    "for overlay_ratio in tqdm(overlay_ratio_set):\n",
    "    slice1 = slices[0].copy()\n",
    "    slice2 = slices[1].copy()\n",
    "    slice1_crop, slice2_crop = crop_slices(\n",
    "        slice1, \n",
    "        slice2, \n",
    "        spatial_key='spatial', \n",
    "        overlay_ratio = overlay_ratio,\n",
    "    )\n",
    "    slice1, slice2 = slice1_crop.copy(), slice2_crop.copy()\n",
    "    sampling_num = 5000\n",
    "    sampline_idx1 = np.random.choice(slice1.shape[0], sampling_num, replace=False) if slice1.shape[0] > sampling_num else np.arange(slice1.shape[0])\n",
    "    sampline_idx2 = np.random.choice(slice2.shape[0], sampling_num, replace=False) if slice2.shape[0] > sampling_num else np.arange(slice2.shape[0])\n",
    "    slice1 = slice1[sampline_idx1,:]\n",
    "    slice2 = slice2[sampline_idx2,:]\n",
    "    spatial_key = 'spatial'\n",
    "    key_added = 'align_spatial'\n",
    "    \n",
    "    align_slices, pis = paste2_align(\n",
    "        models=[slice1, slice2],\n",
    "        spatial_key=spatial_key,\n",
    "        key_added=key_added,\n",
    "        verbose=True,\n",
    "    )\n",
    "    spatial_align = align_slices[1].obsm[key_added]\n",
    "    spatial_GT = align_slices[1].obsm['spatial']\n",
    "    mae, mae_var = MAE(spatial_align, spatial_GT) / scale\n",
    "    maes.append(mae)\n",
    "np.save(f'./results/{method}_different_overlap.npy', {'maes': maes, 'overlay_ratio':overlay_ratio}, allow_pickle=True)"
   ]
  },
  {
   "cell_type": "code",
   "execution_count": null,
   "id": "7befa839-3251-443e-87a3-fff466a42e38",
   "metadata": {},
   "outputs": [],
   "source": []
  },
  {
   "cell_type": "code",
   "execution_count": null,
   "id": "b0d71f75-4e48-4c50-99d8-7ca8ca4447ec",
   "metadata": {},
   "outputs": [],
   "source": []
  }
 ],
 "metadata": {
  "kernelspec": {
   "display_name": "GPSA",
   "language": "python",
   "name": "gpsa"
  },
  "language_info": {
   "codemirror_mode": {
    "name": "ipython",
    "version": 3
   },
   "file_extension": ".py",
   "mimetype": "text/x-python",
   "name": "python",
   "nbconvert_exporter": "python",
   "pygments_lexer": "ipython3",
   "version": "3.9.19"
  }
 },
 "nbformat": 4,
 "nbformat_minor": 5
}
