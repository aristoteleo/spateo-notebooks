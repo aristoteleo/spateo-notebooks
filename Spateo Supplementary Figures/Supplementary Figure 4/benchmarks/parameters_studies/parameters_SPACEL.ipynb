{
 "cells": [
  {
   "cell_type": "code",
   "execution_count": 1,
   "id": "85f2ef7e-a78c-4d01-bb53-cd51901fde97",
   "metadata": {
    "execution": {
     "iopub.execute_input": "2024-07-17T05:26:58.173650Z",
     "iopub.status.busy": "2024-07-17T05:26:58.173273Z",
     "iopub.status.idle": "2024-07-17T05:27:00.628509Z",
     "shell.execute_reply": "2024-07-17T05:27:00.627943Z",
     "shell.execute_reply.started": "2024-07-17T05:26:58.173624Z"
    }
   },
   "outputs": [
    {
     "name": "stderr",
     "output_type": "stream",
     "text": [
      "/home/ylu/anaconda3/envs/SPACEL/lib/python3.8/site-packages/tqdm/auto.py:21: TqdmWarning: IProgress not found. Please update jupyter and ipywidgets. See https://ipywidgets.readthedocs.io/en/stable/user_install.html\n",
      "  from .autonotebook import tqdm as notebook_tqdm\n"
     ]
    }
   ],
   "source": [
    "import os\n",
    "os.environ['CUDA_VISIBLE_DEVICES'] = '0'\n",
    "import sys\n",
    "from pathlib import Path\n",
    "import anndata as ad\n",
    "import scanpy as sc\n",
    "import numpy as np\n",
    "import warnings\n",
    "warnings.simplefilter(action='ignore', category=FutureWarning)\n",
    "import seaborn as sns\n",
    "from matplotlib import pyplot as plt\n",
    "\n",
    "sys.path.insert(0, \"/home/ylu/project\")\n",
    "from utils import *\n",
    "import time\n",
    "\n",
    "%load_ext autoreload\n",
    "%autoreload 2"
   ]
  },
  {
   "cell_type": "code",
   "execution_count": 2,
   "id": "3f61cce1-6e93-4236-9efa-ad541131647b",
   "metadata": {
    "execution": {
     "iopub.execute_input": "2024-07-17T05:27:00.630083Z",
     "iopub.status.busy": "2024-07-17T05:27:00.629282Z",
     "iopub.status.idle": "2024-07-17T05:27:03.834004Z",
     "shell.execute_reply": "2024-07-17T05:27:03.833188Z",
     "shell.execute_reply.started": "2024-07-17T05:27:00.630055Z"
    }
   },
   "outputs": [],
   "source": [
    "import SPACEL\n",
    "from SPACEL import Scube, Splane"
   ]
  },
  {
   "cell_type": "code",
   "execution_count": 3,
   "id": "3628068c-98d6-430a-bebd-ce234b275394",
   "metadata": {
    "execution": {
     "iopub.execute_input": "2024-07-17T05:27:03.835979Z",
     "iopub.status.busy": "2024-07-17T05:27:03.835087Z",
     "iopub.status.idle": "2024-07-17T05:27:04.547308Z",
     "shell.execute_reply": "2024-07-17T05:27:04.546658Z",
     "shell.execute_reply.started": "2024-07-17T05:27:03.835950Z"
    }
   },
   "outputs": [],
   "source": [
    "data_folder = \"../../data/STARMapPlus/\"\n",
    "method = 'SPACEL'\n",
    "i = 3\n",
    "adata = ad.read_h5ad(os.path.join(data_folder, f\"sagittal{i}.h5ad\"))\n",
    "scale = np.linalg.norm(adata.obsm['spatial'].max(0) - adata.obsm['spatial'].min(0))\n",
    "slices = split_slice(\n",
    "    adata=adata,\n",
    "    spatial_key='spatial_raw',\n",
    "    split_num=2,\n",
    "    axis=2,\n",
    ")"
   ]
  },
  {
   "cell_type": "code",
   "execution_count": 4,
   "id": "29506c66-c6d1-491e-8154-49c8ec9afdc2",
   "metadata": {
    "execution": {
     "iopub.execute_input": "2024-07-17T05:27:04.549053Z",
     "iopub.status.busy": "2024-07-17T05:27:04.548658Z",
     "iopub.status.idle": "2024-07-17T05:27:04.593147Z",
     "shell.execute_reply": "2024-07-17T05:27:04.592545Z",
     "shell.execute_reply.started": "2024-07-17T05:27:04.549032Z"
    }
   },
   "outputs": [
    {
     "data": {
      "text/plain": [
       "AnnData object with n_obs × n_vars = 103795 × 1022\n",
       "    obs: 'Sub_molecular_cell_type', 'Main_molecular_tissue_region', 'Sub_molecular_tissue_region', 'Molecular_spatial_cell_type', 'slice'\n",
       "    obsm: 'spatial', 'spatial_raw'"
      ]
     },
     "execution_count": 4,
     "metadata": {},
     "output_type": "execute_result"
    }
   ],
   "source": [
    "slices[0]"
   ]
  },
  {
   "cell_type": "code",
   "execution_count": 5,
   "id": "ec6e2cfd-7423-45c3-93c0-35d2e09d61f6",
   "metadata": {
    "execution": {
     "iopub.execute_input": "2024-07-17T05:27:04.594596Z",
     "iopub.status.busy": "2024-07-17T05:27:04.594185Z",
     "iopub.status.idle": "2024-07-17T06:07:49.817461Z",
     "shell.execute_reply": "2024-07-17T06:07:49.816817Z",
     "shell.execute_reply.started": "2024-07-17T05:27:04.594573Z"
    }
   },
   "outputs": [
    {
     "name": "stderr",
     "output_type": "stream",
     "text": [
      "  0%|                                      | 0/11 [00:00<?, ?it/s]"
     ]
    },
    {
     "name": "stdout",
     "output_type": "stream",
     "text": [
      "Start alignment...\n",
      "Alignment slice 1 to 0\n",
      "Runtime: 213.501606464386 s\n"
     ]
    },
    {
     "name": "stderr",
     "output_type": "stream",
     "text": [
      "  9%|██▋                          | 1/11 [03:34<35:43, 214.31s/it]"
     ]
    },
    {
     "name": "stdout",
     "output_type": "stream",
     "text": [
      "Start alignment...\n",
      "Alignment slice 1 to 0\n",
      "Runtime: 208.87518191337585 s\n"
     ]
    },
    {
     "name": "stderr",
     "output_type": "stream",
     "text": [
      " 18%|█████▎                       | 2/11 [07:03<31:43, 211.54s/it]"
     ]
    },
    {
     "name": "stdout",
     "output_type": "stream",
     "text": [
      "Start alignment...\n",
      "Alignment slice 1 to 0\n",
      "Runtime: 237.30023527145386 s\n"
     ]
    },
    {
     "name": "stderr",
     "output_type": "stream",
     "text": [
      " 27%|███████▉                     | 3/11 [11:02<29:49, 223.66s/it]"
     ]
    },
    {
     "name": "stdout",
     "output_type": "stream",
     "text": [
      "Start alignment...\n",
      "Alignment slice 1 to 0\n",
      "Runtime: 291.5574746131897 s\n"
     ]
    },
    {
     "name": "stderr",
     "output_type": "stream",
     "text": [
      " 36%|██████████▌                  | 4/11 [15:54<29:15, 250.76s/it]"
     ]
    },
    {
     "name": "stdout",
     "output_type": "stream",
     "text": [
      "Start alignment...\n",
      "Alignment slice 1 to 0\n",
      "Runtime: 203.15663957595825 s\n"
     ]
    },
    {
     "name": "stderr",
     "output_type": "stream",
     "text": [
      " 45%|█████████████▏               | 5/11 [19:18<23:23, 233.86s/it]"
     ]
    },
    {
     "name": "stdout",
     "output_type": "stream",
     "text": [
      "Start alignment...\n",
      "Alignment slice 1 to 0\n",
      "Runtime: 183.84014439582825 s\n"
     ]
    },
    {
     "name": "stderr",
     "output_type": "stream",
     "text": [
      " 55%|███████████████▊             | 6/11 [22:22<18:05, 217.11s/it]"
     ]
    },
    {
     "name": "stdout",
     "output_type": "stream",
     "text": [
      "Start alignment...\n",
      "Alignment slice 1 to 0\n",
      "Runtime: 215.5316026210785 s\n"
     ]
    },
    {
     "name": "stderr",
     "output_type": "stream",
     "text": [
      " 64%|██████████████████▍          | 7/11 [25:59<14:27, 216.83s/it]"
     ]
    },
    {
     "name": "stdout",
     "output_type": "stream",
     "text": [
      "Start alignment...\n",
      "Alignment slice 1 to 0\n",
      "Runtime: 201.2271065711975 s\n"
     ]
    },
    {
     "name": "stderr",
     "output_type": "stream",
     "text": [
      " 73%|█████████████████████        | 8/11 [29:21<10:36, 212.11s/it]"
     ]
    },
    {
     "name": "stdout",
     "output_type": "stream",
     "text": [
      "Start alignment...\n",
      "Alignment slice 1 to 0\n",
      "Runtime: 230.04042744636536 s\n"
     ]
    },
    {
     "name": "stderr",
     "output_type": "stream",
     "text": [
      " 82%|███████████████████████▋     | 9/11 [33:11<07:15, 217.99s/it]"
     ]
    },
    {
     "name": "stdout",
     "output_type": "stream",
     "text": [
      "Start alignment...\n",
      "Alignment slice 1 to 0\n",
      "Runtime: 215.32881498336792 s\n"
     ]
    },
    {
     "name": "stderr",
     "output_type": "stream",
     "text": [
      " 91%|█████████████████████████▍  | 10/11 [36:48<03:37, 217.43s/it]"
     ]
    },
    {
     "name": "stdout",
     "output_type": "stream",
     "text": [
      "Start alignment...\n",
      "Alignment slice 1 to 0\n",
      "Runtime: 236.20528650283813 s\n"
     ]
    },
    {
     "name": "stderr",
     "output_type": "stream",
     "text": [
      "100%|████████████████████████████| 11/11 [40:45<00:00, 222.29s/it]\n"
     ]
    }
   ],
   "source": [
    "overlay_ratio_set = np.arange(0.5, 1.05, 0.05)\n",
    "from tqdm import tqdm\n",
    "maes = []\n",
    "for overlay_ratio in tqdm(overlay_ratio_set):\n",
    "    slice1 = slices[0].copy()\n",
    "    slice2 = slices[1].copy()\n",
    "    slice1_crop, slice2_crop = crop_slices(\n",
    "        slice1, \n",
    "        slice2, \n",
    "        spatial_key='spatial', \n",
    "        overlay_ratio = overlay_ratio,\n",
    "    )\n",
    "    slice1, slice2 = slice1_crop.copy(), slice2_crop.copy()\n",
    "    sampling_num = 20000\n",
    "    sampline_idx1 = np.random.choice(slice1.shape[0], sampling_num, replace=False) if slice1.shape[0] > sampling_num else np.arange(slice1.shape[0])\n",
    "    sampline_idx2 = np.random.choice(slice2.shape[0], sampling_num, replace=False) if slice2.shape[0] > sampling_num else np.arange(slice2.shape[0])\n",
    "    slice1 = slice1[sampline_idx1,:]\n",
    "    slice2 = slice2[sampline_idx2,:]\n",
    "    spatial_key = 'spatial'\n",
    "    key_added = 'align_spatial'\n",
    "    slice1.obsm['spatial_2D'] = slice1.obsm[spatial_key]\n",
    "    slice2.obsm['spatial_2D'] = slice2.obsm[spatial_key]\n",
    "    slice1.obsm['spatial'] = slice1.obsm[spatial_key]\n",
    "    slice2.obsm['spatial'] = slice2.obsm[spatial_key]\n",
    "    align_slices = [slice1, slice2]\n",
    "    Scube.align(\n",
    "        align_slices,\n",
    "        cluster_key='Main_molecular_tissue_region', \n",
    "        n_neighbors = 15, \n",
    "        n_threads=10,\n",
    "        p=2,\n",
    "        write_loc_path=os.path.join('results', 'Scube_outputs/aligned_coordinates.csv')\n",
    "    )\n",
    "    align_slices[0].obsm[key_added] = align_slices[0].obsm['spatial_aligned'].values\n",
    "    align_slices[1].obsm[key_added] = align_slices[1].obsm['spatial_aligned'].values\n",
    "    R1, t1=solve_RT_by_correspondence(align_slices[1].obsm[key_added], align_slices[1].obsm[spatial_key])\n",
    "    R2, t2=solve_RT_by_correspondence(align_slices[0].obsm[spatial_key], align_slices[0].obsm[key_added])\n",
    "    t = t1 @ R2.T + t2\n",
    "    R = R2 @ R1\n",
    "    \n",
    "    spatial_align = align_slices[1].obsm['spatial'] @ R.T + t\n",
    "    spatial_GT = align_slices[1].obsm['spatial']\n",
    "    mae, mae_var = MAE(spatial_align, spatial_GT) / scale\n",
    "    maes.append(mae)\n",
    "np.save(f'./results/{method}_different_overlap.npy', {'maes': maes, 'overlay_ratio':overlay_ratio}, allow_pickle=True)"
   ]
  },
  {
   "cell_type": "code",
   "execution_count": null,
   "id": "7befa839-3251-443e-87a3-fff466a42e38",
   "metadata": {},
   "outputs": [],
   "source": []
  },
  {
   "cell_type": "code",
   "execution_count": null,
   "id": "b0d71f75-4e48-4c50-99d8-7ca8ca4447ec",
   "metadata": {},
   "outputs": [],
   "source": []
  }
 ],
 "metadata": {
  "kernelspec": {
   "display_name": "SPACEL",
   "language": "python",
   "name": "spacel"
  },
  "language_info": {
   "codemirror_mode": {
    "name": "ipython",
    "version": 3
   },
   "file_extension": ".py",
   "mimetype": "text/x-python",
   "name": "python",
   "nbconvert_exporter": "python",
   "pygments_lexer": "ipython3",
   "version": "3.8.19"
  }
 },
 "nbformat": 4,
 "nbformat_minor": 5
}
