{
 "cells": [
  {
   "cell_type": "markdown",
   "id": "095db524-abe8-4338-9f83-815522c15f10",
   "metadata": {},
   "source": [
    "## Notebook containing code used for manuscript supplementary figure 6"
   ]
  },
  {
   "cell_type": "markdown",
   "id": "b845c80e-53ac-410b-b067-cd3465002d5d",
   "metadata": {},
   "source": [
    "### Note that most path variables throughout the notebook will need to be changed based on where the files were saved to your local folder"
   ]
  },
  {
   "cell_type": "code",
   "execution_count": null,
   "id": "a9a52a22-8107-4d71-bef1-00687aa13cac",
   "metadata": {},
   "outputs": [],
   "source": [
    "import anndata\n",
    "import numpy as np\n",
    "import pandas as pd\n",
    "import os\n",
    "import sys\n",
    "\n",
    "import plotly.graph_objects as go\n",
    "import scipy\n",
    "\n",
    "import spateo as st"
   ]
  },
  {
   "cell_type": "code",
   "execution_count": null,
   "id": "46dffe10-34f3-4adf-95ae-449b462234c5",
   "metadata": {},
   "outputs": [],
   "source": [
    "np.random.seed(888)"
   ]
  },
  {
   "cell_type": "code",
   "execution_count": null,
   "id": "7ea6e00a-db23-4d07-b22a-7b412ae091b9",
   "metadata": {},
   "outputs": [],
   "source": [
    "%config InlineBackend.print_figure_kwargs={'dpi': 300.0}"
   ]
  },
  {
   "cell_type": "markdown",
   "id": "5052cc8d-54b9-4616-84a4-835d8d50b9df",
   "metadata": {},
   "source": [
    "## Resources for both the Midbrain-hindbrain boundary and spinal cord can be found here: https://www.dropbox.com/scl/fo/sxaqo4320hd16n183m6ph/ABzrK0DqPKcATdyPOId19M4?rlkey=v3vl90c8ct53upmfxtiflwnxo&st=q5itka64&dl=0\n",
    "\n",
    "## Database files used here can be found: https://www.dropbox.com/scl/fo/dcd95so9zhkb8lnjkkxep/ANwmkFeb-sgtS89leHQezlU?rlkey=saiul4j5rr1vt6lwjl4hirmwh&st=brpjqw2c&dl=0"
   ]
  },
  {
   "cell_type": "code",
   "execution_count": null,
   "id": "d419c05b-fa5c-46c2-9c24-5bcdbc10cbc1",
   "metadata": {},
   "outputs": [],
   "source": [
    "# Set the Spateo database directory here:\n",
    "database_dir = \"/mnt/c/spateo-release-main/spateo/tools/database\""
   ]
  },
  {
   "cell_type": "markdown",
   "id": "2754e5ec-b719-460b-9d22-ffdf51736cbf",
   "metadata": {},
   "source": [
    "## Load MHB data object"
   ]
  },
  {
   "cell_type": "code",
   "execution_count": null,
   "id": "757a6b87-2932-4b6c-aa17-de3afb86a2f7",
   "metadata": {},
   "outputs": [],
   "source": [
    "# Replace with wherever this file is stored locally\n",
    "#path_to_mhb = \"/mnt/d/SCData/Spateo_data/Stereo-seq_MHB/E11.5_MHB.h5ad\"\n",
    "path_to_mhb = \"/mnt/d/Downloads/E11.5_MHB_final.h5ad\""
   ]
  },
  {
   "cell_type": "code",
   "execution_count": null,
   "id": "ba94c204-ec50-421a-b224-1629785c945e",
   "metadata": {},
   "outputs": [],
   "source": [
    "mhb = anndata.read_h5ad(path_to_mhb)"
   ]
  },
  {
   "cell_type": "code",
   "execution_count": null,
   "id": "9045bdef-08ae-4374-a628-607198cece17",
   "metadata": {},
   "outputs": [],
   "source": [
    "# For analysis of spatial enrichment\n",
    "mhb = st.tl.utils.create_new_coordinate(mhb, position_key=\"z_correction\", plane=\"-xy\")\n",
    "mhb.obs[\"rc_coord\"] = mhb.obs[\"-xy Coordinate\"].copy()\n",
    "del mhb.obs[\"-xy Coordinate\"]\n",
    "del mhb.uns"
   ]
  },
  {
   "cell_type": "code",
   "execution_count": null,
   "id": "a49053fb-690c-49e6-a257-59cb747759b7",
   "metadata": {},
   "outputs": [],
   "source": [
    "# For analysis of spatial enrichment\n",
    "mhb.write_h5ad(path_to_mhb)"
   ]
  },
  {
   "cell_type": "code",
   "execution_count": null,
   "id": "746f65ff-7e65-4b19-8c5d-c64dfeb08b45",
   "metadata": {},
   "outputs": [],
   "source": [
    "mhb.uns[\"__type\"] = \"UMI\""
   ]
  },
  {
   "cell_type": "markdown",
   "id": "4716a1d4-fb4f-4abd-b66c-c581bda25075",
   "metadata": {},
   "source": [
    "#### Initialize and run CCI model (can skip if predictions .csv file was created locally or downloaded from the folder)"
   ]
  },
  {
   "cell_type": "code",
   "execution_count": null,
   "id": "ffead426-0aed-4f82-87ab-2c3092f33af2",
   "metadata": {},
   "outputs": [],
   "source": [
    "# Set to the folders that the inputs (ligands list, target genes list) are contained in and that the outputs (model results) will save to:\n",
    "cci_input_directory = \"/mnt/d/SCAnalysis/Spateo_MHB_analysis/CCI_inputs\"\n",
    "cci_output_directory = \"/mnt/d/SCAnalysis/Spateo_MHB_analysis/CCI_outputs\"\n",
    "cci_output_id = os.path.join(cci_output_directory, \"MHB_target_genes.csv\")\n",
    "cci_ligands_file = os.path.join(cci_input_directory, \"mhb_ligands.txt\")\n",
    "cci_targets_file = os.path.join(cci_input_directory, \"mhb_targets.txt\")"
   ]
  },
  {
   "cell_type": "code",
   "execution_count": null,
   "id": "6b26754e-6383-4c4a-ab38-a90b66add8a6",
   "metadata": {},
   "outputs": [],
   "source": [
    "# Upper and lower bounds for the spatially-weighted regression model\n",
    "lb = 6.42\n",
    "ub = 15.97"
   ]
  },
  {
   "cell_type": "code",
   "execution_count": null,
   "id": "8c96736a-ff0a-41c6-a316-875f36307136",
   "metadata": {},
   "outputs": [],
   "source": [
    "# This is how the above distance bounds are determined\n",
    "lb = st.tl.find_neighbors.find_bw_for_n_neighbors(\n",
    "    mhb,\n",
    "    coords_key=\"z_correction\",\n",
    "    n_anchors=2000,\n",
    "    target_n_neighbors=27,\n",
    "    initial_bw=20,\n",
    "    exclude_self=True\n",
    ")\n",
    "lb"
   ]
  },
  {
   "cell_type": "code",
   "execution_count": null,
   "id": "9927e3ed-1419-4514-814b-5dcb0e3e586d",
   "metadata": {},
   "outputs": [],
   "source": [
    "ub = st.tl.find_neighbors.find_bw_for_n_neighbors(\n",
    "    mhb,\n",
    "    coords_key=\"z_correction\",\n",
    "    n_anchors=2000,\n",
    "    target_n_neighbors=270,\n",
    "    initial_bw=20,\n",
    "    exclude_self=True\n",
    ")\n",
    "ub"
   ]
  },
  {
   "cell_type": "code",
   "execution_count": null,
   "id": "fd4484d2-5426-4413-a8ef-3efe0a49898e",
   "metadata": {},
   "outputs": [],
   "source": [
    "adata_path = path_to_mhb\n",
    "output_path = cci_output_id\n",
    "ligand_path = cci_ligands_file\n",
    "target_path = cci_targets_file\n",
    "cci_dir_path = database_dir\n",
    "mod_type = \"ligand\"\n",
    "distr = \"poisson\"\n",
    "species = \"mouse\"\n",
    "group_key = \"mapped_celltype\"\n",
    "coords_key = \"z_correction\"\n",
    "distance_membrane_bound = lb\n",
    "distance_secreted = ub\n",
    "# Due to the scale of the dataset, quick fitting is not simple, incorporate spatial subsampling\n",
    "spatial_subsample = True\n",
    "total_counts_key = \"total_counts\"\n",
    "total_counts_threshold = 2000.0\n",
    "minbw = lb\n",
    "maxbw = ub * 1.5\n",
    "\n",
    "if not os.path.exists(os.path.dirname(output_path)):\n",
    "    os.makedirs(os.path.dirname(output_path))"
   ]
  },
  {
   "cell_type": "code",
   "execution_count": null,
   "id": "92054c64-03a7-4e36-9dc2-6e0b1170a377",
   "metadata": {},
   "outputs": [],
   "source": [
    "parser, args_list = st.tl.define_spateo_argparse(\n",
    "    adata_path=adata_path,\n",
    "    custom_lig_path=ligand_path,\n",
    "    targets_path=target_path,\n",
    "    cci_dir=cci_dir_path,\n",
    "    mod_type=mod_type,\n",
    "    distr=distr,\n",
    "    species=species,\n",
    "    group_key=group_key,\n",
    "    coords_key=coords_key,\n",
    "    distance_membrane_bound=distance_membrane_bound,\n",
    "    distance_secreted=distance_secreted,\n",
    "    spatial_subsample=spatial_subsample,\n",
    "    total_counts_key=total_counts_key,\n",
    "    total_counts_threshold=total_counts_threshold,\n",
    "    minbw=minbw,\n",
    "    maxbw=maxbw,\n",
    "    output_path=output_path,\n",
    ")"
   ]
  },
  {
   "cell_type": "code",
   "execution_count": null,
   "id": "ef2c5a56-6fbd-4e9b-8aeb-6e0d7058c9f5",
   "metadata": {},
   "outputs": [],
   "source": [
    "import time\n",
    "\n",
    "t1 = time.time()\n",
    "\n",
    "swr_model = st.tl.MuSIC(parser, args_list)\n",
    "swr_model._set_up_model()\n",
    "swr_model.fit()\n",
    "swr_model.predict_and_save(adjust_for_subsampling=True)\n",
    "\n",
    "t_last = time.time()\n",
    "\n",
    "print(\"Total Time Elapsed:\", np.round(t_last - t1, 2), \"seconds\")\n",
    "print(\"-\" * 60)"
   ]
  },
  {
   "cell_type": "code",
   "execution_count": null,
   "id": "9b1e11d9-fb0d-488f-a882-8405578c47ef",
   "metadata": {},
   "outputs": [],
   "source": [
    "# Use the same parser object to set up downstream analysis\n",
    "downstream_model = st.tl.MuSIC_Interpreter(parser, args_list)"
   ]
  },
  {
   "cell_type": "markdown",
   "id": "4b71ad4f-570b-4ea8-a1ce-4b0438421e60",
   "metadata": {},
   "source": [
    "### Figure S6a- spatial enrichment of ligands and target genes"
   ]
  },
  {
   "cell_type": "code",
   "execution_count": null,
   "id": "efaa4f13-894f-4781-9172-9c8504262443",
   "metadata": {},
   "outputs": [],
   "source": [
    "# For clarity, visualize the created axis\n",
    "mhb.obs[\"rc_coord\"] = mhb.obs[\"-xy Coordinate\"].copy()\n",
    "\n",
    "axis = mhb.obs[\"rc_coord\"]\n",
    "\n",
    "x = mhb.obsm['z_correction'][:, 0]\n",
    "y = mhb.obsm['z_correction'][:, 1]\n",
    "z = mhb.obsm['z_correction'][:, 2]\n",
    "\n",
    "fig = go.Figure(data=[go.Scatter3d(\n",
    "    x=x,\n",
    "    y=y,\n",
    "    z=z,\n",
    "    mode='markers',\n",
    "    marker=dict(\n",
    "        size=4,\n",
    "        color=axis,  \n",
    "        colorscale='Inferno',   \n",
    "        colorbar=dict(title='R-C coordinate'),\n",
    "    )\n",
    ")])\n",
    "\n",
    "title_dict = dict(\n",
    "    text=\"Coordinate\",\n",
    "    y=0.9,\n",
    "    yanchor=\"top\",\n",
    "    x=0.5,\n",
    "    xanchor=\"center\",\n",
    "    font=dict(size=36),\n",
    ")\n",
    "fig.update_layout(\n",
    "    scene=dict(\n",
    "        aspectmode=\"data\",\n",
    "        xaxis=dict(\n",
    "            showgrid=False,\n",
    "            showline=False,\n",
    "            linewidth=2,\n",
    "            linecolor=\"black\",\n",
    "            backgroundcolor=\"white\",\n",
    "            title=\"\",\n",
    "            showticklabels=False,\n",
    "            ticks=\"\",\n",
    "        ),\n",
    "        yaxis=dict(\n",
    "            showgrid=False,\n",
    "            showline=False,\n",
    "            linewidth=2,\n",
    "            linecolor=\"black\",\n",
    "            backgroundcolor=\"white\",\n",
    "            title=\"\",\n",
    "            showticklabels=False,\n",
    "            ticks=\"\",\n",
    "        ),\n",
    "        zaxis=dict(\n",
    "            showgrid=False,\n",
    "            showline=False,\n",
    "            linewidth=2,\n",
    "            linecolor=\"black\",\n",
    "            backgroundcolor=\"white\",\n",
    "            title=\"\",\n",
    "            showticklabels=False,\n",
    "            ticks=\"\",\n",
    "        ),\n",
    "    ),\n",
    "    margin=dict(l=0, r=0, b=0, t=50),  # Adjust margins to minimize spacing\n",
    "    title=title_dict,\n",
    ")"
   ]
  },
  {
   "cell_type": "code",
   "execution_count": null,
   "id": "d31d63b1-f6d6-4bf7-b192-0ec5d0cbf53c",
   "metadata": {},
   "outputs": [],
   "source": [
    "# Visualize the enrichments of ligands and target genes along this axis- patterns coincident with Fgf8 are enriched in the midbrain-hindbrain boundary, to the anterior side there is enrichment in the midbrain,\n",
    "# and the posterior side enrichment in the hindbrain\n",
    "downstream_model.gene_expression_heatmap(\n",
    "    use_ligands=True,\n",
    "    position_key=\"rc_coord\",\n",
    "    neatly_arrange_y=True,\n",
    "    window_size=35,\n",
    "    cmap=\"bwr\",\n",
    "    title=\"E11.5 MHB- Ligand expression \\ndistribution along rostral-caudal axis\",\n",
    "    fontsize=14,\n",
    ")"
   ]
  },
  {
   "cell_type": "code",
   "execution_count": null,
   "id": "3d0761aa-8620-4ed2-a050-b0fdcde2df18",
   "metadata": {},
   "outputs": [],
   "source": [
    "downstream_model.gene_expression_heatmap(\n",
    "    use_target_genes=True,\n",
    "    position_key=\"rc_coord\",\n",
    "    neatly_arrange_y=True,\n",
    "    window_size=35,\n",
    "    cmap=\"bwr\",\n",
    "    title=\"E11.5 MHB- Target gene expression \\ndistribution along rostral-caudal axis\",\n",
    "    fontsize=14,\n",
    ")"
   ]
  },
  {
   "cell_type": "markdown",
   "id": "d4ac4a6b-6de4-4067-a8f1-ec2573c7f1a3",
   "metadata": {},
   "source": [
    "### Figure S6b- MHB inferred signaling effect heatmap (can skip this section if for_E11.5_MHB_heatmap file was downloaded)"
   ]
  },
  {
   "cell_type": "code",
   "execution_count": null,
   "id": "239613e0-d8db-4fa7-9de9-efe22b6e1bcf",
   "metadata": {},
   "outputs": [],
   "source": [
    "mhb = anndata.read_h5ad(path_to_mhb)\n",
    "mhb.uns[\"__type\"] = \"UMI\""
   ]
  },
  {
   "cell_type": "code",
   "execution_count": null,
   "id": "7f6e6cca-a84e-4f50-9401-c0d71a7c2a7a",
   "metadata": {},
   "outputs": [],
   "source": [
    "def analyze_CCI_outputs(adata, gene_files_folder):\n",
    "    results_dict = {}\n",
    "    # Load the list of genes from the provided CSV files\n",
    "    gene_files = os.listdir(gene_files_folder)\n",
    "    \n",
    "    for gene_file in tqdm(gene_files, desc=\"Processing all target genes...\"):\n",
    "        # Check and load only CSV files\n",
    "        if not gene_file.endswith(\".csv\") or \"predictions\" in gene_file:\n",
    "            continue\n",
    "        \n",
    "        # Extract the gene name from the file name\n",
    "        gene_name = gene_file.split('_')[-1].split(\".\")[0]\n",
    "        \n",
    "        # Get the CCI results corresponding to this gene\n",
    "        df = pd.read_csv(f\"{gene_files_folder}/{gene_file}\", index_col=0)\n",
    "\n",
    "        for cell_type in [\"Midbrain neuroectoderm\", \"Hindbrain neuroectoderm\", \"Midbrain-hindbrain boundary\"]:\n",
    "            type_cells = adata[adata.obs[\"mapped_celltype\"] == cell_type].copy()\n",
    "            # Get indices of cells of the current cell type\n",
    "            indices = type_cells.obs.index\n",
    "            \n",
    "            # For each column in the DataFrame, calculate the proportion of non-zero entries for the current cell type\n",
    "            proportions = (df.loc[indices] > 0).mean()\n",
    "        \n",
    "            # Store the proportions in the result dictionary\n",
    "            for col in df.columns:\n",
    "                results_key = f\"{cell_type}-{col}\"\n",
    "                if results_key not in results_dict:\n",
    "                    results_dict[results_key] = {}\n",
    "                results_dict[results_key][gene_name] = proportions[col]\n",
    "                \n",
    "            # Clear intermediate large variables and suggest the GC to reclaim memory\n",
    "            del type_cells, indices, proportions\n",
    "            gc.collect()\n",
    "\n",
    "        # Optionally clear the DataFrame read from file after processing\n",
    "        del df\n",
    "        gc.collect()\n",
    "    \n",
    "    # Convert results dictionary to DataFrame\n",
    "    results_df = pd.DataFrame(results_dict)\n",
    "    return results_df"
   ]
  },
  {
   "cell_type": "code",
   "execution_count": null,
   "id": "3c7c9648-777a-453e-9443-d32a68bdca65",
   "metadata": {},
   "outputs": [],
   "source": [
    "results = analyze_CCI_outputs(mhb, cci_output_directory)\n",
    "results"
   ]
  },
  {
   "cell_type": "code",
   "execution_count": null,
   "id": "0def871d-86a4-4324-af0e-a6c721856496",
   "metadata": {},
   "outputs": [],
   "source": [
    "save_dir = \"/mnt/d/SCAnalysis/Spateo_MHB_analysis\"\n",
    "results.to_csv(os.path.join(save_dir, \"for_E11.5_MHB_heatmap.csv\"))"
   ]
  },
  {
   "cell_type": "code",
   "execution_count": null,
   "id": "0d7a2201-7223-44a8-8dbe-88dbe8f8a7a1",
   "metadata": {},
   "outputs": [],
   "source": [
    "results = pd.read_csv(os.path.join(save_dir, \"for_E11.5_MHB_heatmap.csv\"), index_col=0)"
   ]
  },
  {
   "cell_type": "code",
   "execution_count": null,
   "id": "3db8d178-97ac-4f73-9389-f86de3a4ec52",
   "metadata": {},
   "outputs": [],
   "source": [
    "# Remove sets of columns if the ligand does not really have a large effect on any gene:\n",
    "targets = set(col.split('-')[1] for col in results.columns)\n",
    "\n",
    "# Iterate through each suffix\n",
    "for target in targets:\n",
    "    # Collect columns for the current suffix\n",
    "    cols = [col for col in results.columns if col.endswith(target)]\n",
    "    \n",
    "    # Check if all values in these columns are < 0.1\n",
    "    if results[cols].apply(lambda x: (x < 0.1).all()).all():\n",
    "        # Remove these columns if the condition is met\n",
    "        results.drop(columns=cols, inplace=True)\n",
    "        \n",
    "# Similarly, remove rows if no large effects are present:\n",
    "results = results[(results.index == \"Abcc4\") | ~results.apply(lambda x: (x < 0.1).all(), axis=1)]\n",
    "        \n",
    "results = results[[c for c in results.columns if \"se_\" not in c]]\n",
    "results"
   ]
  },
  {
   "cell_type": "code",
   "execution_count": null,
   "id": "d50590dd-1e09-498b-b0d2-9e4d80208f67",
   "metadata": {},
   "outputs": [],
   "source": [
    "# Normalize each row, scale for visuals\n",
    "results = results.apply(lambda x: (x - x.min()) / (x.max() - x.min()), axis=1) ** 2\n",
    "results"
   ]
  },
  {
   "cell_type": "code",
   "execution_count": null,
   "id": "80fed356-a713-4348-a9af-a12dda338dc1",
   "metadata": {},
   "outputs": [],
   "source": [
    "results.to_csv(os.path.join(save_dir, \"for_E11.5_MHB_heatmap.csv\"))"
   ]
  },
  {
   "cell_type": "markdown",
   "id": "cf3349a5-f867-467c-afa4-af396a51299b",
   "metadata": {},
   "source": [
    "#### Load heatmap file"
   ]
  },
  {
   "cell_type": "code",
   "execution_count": null,
   "id": "7232b208-a0e1-46b9-b2ba-a850821e727e",
   "metadata": {},
   "outputs": [],
   "source": [
    "results = pd.read_csv(os.path.join(save_dir, \"for_E11.5_MHB_heatmap.csv\"), index_col=0)\n",
    "# Mllt11 has many NaNs, do not include it:\n",
    "results = results.loc[[i for i in results.index if i != \"Mllt11\"]]\n",
    "results.columns = [c.replace(\"Midbrain-hindbrain boundary\", \"MHB NE\") for c in results.columns]\n",
    "results.columns = [c.replace(\"Midbrain neuroectoderm\", \"Midbrain NE\") for c in results.columns]\n",
    "results.columns = [c.replace(\"Hindbrain neuroectoderm\", \"Hindbrain NE\") for c in results.columns]"
   ]
  },
  {
   "cell_type": "code",
   "execution_count": null,
   "id": "c4233889-4f75-43ba-b8f0-6b0d70f2d44d",
   "metadata": {},
   "outputs": [],
   "source": [
    "# Custom order for target genes:\n",
    "targets = [\"Cdc25b\", \"Fbxl17\", \"Helt\", \"Lrrc4c\", \"Pak3\", \"Tox\", \"Rgmb\", \"Il17rd\", \"Pam\", \"Akap6\", \"Ebf2\", \"Elavl4\", \"Fgd4\", \"Grid2\", \"Igsf8\", \"Nrxn1\", \"Rnd2\", \"Lrrn1\", \"Abcc4\", \"Igfbp5\", \"Rmst\"]"
   ]
  },
  {
   "cell_type": "code",
   "execution_count": null,
   "id": "baee33cc-0160-4ddf-a5ab-d6872ae8f58d",
   "metadata": {},
   "outputs": [],
   "source": [
    "column_labels = results.columns.str.split('-', expand=True)\n",
    "column_labels.columns = ['Group', 'Detail']\n",
    "column_labels = column_labels.tolist()\n",
    "\n",
    "# Reorder DataFrame columns with split labels\n",
    "test = pd.MultiIndex.from_tuples(column_labels, names=['Group', 'Detail'])\n",
    "results.columns = column_labels\n",
    "results = results.loc[targets, :]\n",
    "\n",
    "# Create a heatmap with labels\n",
    "plt.figure(figsize=(24, 8))\n",
    "vmin = 0\n",
    "vmax = 0.8\n",
    "mask = results < 0.1\n",
    "cols_to_drop = mask.all(axis=0)\n",
    "results = results.loc[:, ~cols_to_drop]\n",
    "mask = results < 0.1\n",
    "\n",
    "ax = sns.heatmap(\n",
    "    results, \n",
    "    square=True,   \n",
    "    linecolor=\"grey\",\n",
    "    linewidths=1, \n",
    "    cmap='magma',\n",
    "    vmax=vmax,\n",
    "    mask=mask,\n",
    ")\n",
    "\n",
    "cbar = ax.collections[0].colorbar\n",
    "cbar.set_label('CCI effect score', size=20)\n",
    "cbar.ax.tick_params(labelsize=20)\n",
    "\n",
    "# Set the bottom ticks to show the 'Detail' and rotate them for better visibility\n",
    "bottom_labels = [label[1].replace(\"b_\", \"\") for label in results.columns]\n",
    "ax.set_xticks(np.arange(len(bottom_labels)) + 0.5)\n",
    "ax.set_xticklabels(bottom_labels, rotation=90, ha='center', fontsize=24)\n",
    "ax.set_yticklabels(ax.get_yticklabels(), fontsize=24)"
   ]
  },
  {
   "cell_type": "code",
   "execution_count": null,
   "id": "9019a442-bdb2-4609-88dd-06f34aa9aff2",
   "metadata": {},
   "outputs": [],
   "source": [
    "save_dir = \"/mnt/d/SCAnalysis/Spateo_MHB_analysis\"\n",
    "plt.savefig(os.path.join(save_dir, \"CCI_heatmap.svg\"), format=\"svg\", bbox_inches=\"tight\")\n",
    "plt.show()"
   ]
  },
  {
   "cell_type": "markdown",
   "id": "14d4412c-c09b-4ede-9ff2-6757c93b26fc",
   "metadata": {},
   "source": [
    "### Figure S6c- Ptn effects plot"
   ]
  },
  {
   "cell_type": "code",
   "execution_count": null,
   "id": "f719f7b0-36ab-4dfc-a44d-d59ecd621b70",
   "metadata": {},
   "outputs": [],
   "source": [
    "def collect_b_Ptn_columns(directory_path):\n",
    "    # Initialize an empty DataFrame to store the collected data\n",
    "    collected_data = pd.DataFrame()\n",
    "\n",
    "    # Iterate through all files in the directory\n",
    "    for filename in os.listdir(directory_path):\n",
    "        if filename.endswith('.csv') and '_' in filename:\n",
    "            # Extract the id part from the filename\n",
    "            file_id = filename.split('_')[-1].split('.')[0]\n",
    "\n",
    "            # Read the 'b_Ptn' column from the file\n",
    "            file_path = os.path.join(directory_path, filename)\n",
    "            data = pd.read_csv(file_path, usecols=['b_Ptn'])\n",
    "\n",
    "            # Rename the column to the extracted id and add it to the collected data\n",
    "            data.rename(columns={'b_Ptn': file_id}, inplace=True)\n",
    "            collected_data = pd.concat([collected_data, data], axis=1)\n",
    "\n",
    "    return collected_data"
   ]
  },
  {
   "cell_type": "code",
   "execution_count": null,
   "id": "9f99511d-2a41-4ed8-b39d-5608df9fd081",
   "metadata": {},
   "outputs": [],
   "source": [
    "result_df = collect_b_Ptn_columns(cci_output_directory)\n",
    "result_df"
   ]
  },
  {
   "cell_type": "code",
   "execution_count": null,
   "id": "5c7bfa33-1b95-49ab-9171-a8c33fb1758a",
   "metadata": {},
   "outputs": [],
   "source": [
    "# This subset are Ptn target genes\n",
    "targets = [\"Nrxn3\", \"Gap43\", \"Rtn1\", \"Akap6\", \"Mapk10\", \"Nrxn1\", \"Sorcs1\", \"Lrrc4c\", \"Pak3\", \"Pam\", \"Flrt3\", \"Arl4a\", \"Rgmb\"]\n",
    "result_df = result_df[targets]\n",
    "result_df"
   ]
  },
  {
   "cell_type": "code",
   "execution_count": null,
   "id": "e1a6f061-2e4e-4e92-a386-850a86637de0",
   "metadata": {},
   "outputs": [],
   "source": [
    "n_target_expr = (e115_mhb[:, targets].X.toarray() > 0).sum(axis=0)\n",
    "n_target_expr"
   ]
  },
  {
   "cell_type": "code",
   "execution_count": null,
   "id": "d484dc53-e8be-40dd-a051-da2310659998",
   "metadata": {},
   "outputs": [],
   "source": [
    "proportions = (result_df > 0).sum() / n_target_expr\n",
    "proportions"
   ]
  },
  {
   "cell_type": "code",
   "execution_count": null,
   "id": "773f0457-df33-44b2-ab5c-5db354d645f7",
   "metadata": {},
   "outputs": [],
   "source": [
    "fig, ax = plt.subplots(figsize=(7, 3))\n",
    "\n",
    "top = proportions.sort_values(ascending=False)\n",
    "\n",
    "# Create a vertical barplot with a line around each bar using the Series\n",
    "sns.barplot(x=top.index, y=top.values, palette='RdPu', ax=ax, edgecolor='black')\n",
    "\n",
    "# Rotate x-axis labels for better readability\n",
    "plt.xticks(rotation=90, fontsize=14)\n",
    "\n",
    "# Customize the plot\n",
    "ax.set_title(f'Proportion Target-Expressing Cells Affected by Ptn', fontsize=16)\n",
    "ax.set_xlabel('Gene', fontsize=14)\n",
    "ax.set_ylabel('Proportion Gene-Expressing \\nCells with Ptn Effect', fontsize=12)\n",
    "\n",
    "# Show the plot\n",
    "plt.show()"
   ]
  },
  {
   "cell_type": "markdown",
   "id": "704b3f01-b63a-41dc-9e66-a1fc22ec864b",
   "metadata": {},
   "source": [
    "## Digitize the spinal cord using 2D representations"
   ]
  },
  {
   "cell_type": "markdown",
   "id": "f10e2a84-edc9-415d-a0c6-3624854dc540",
   "metadata": {},
   "source": [
    "### Figure S6f&g D-V digitization of the Spinal cord and Lhx gene expressions on the X-Y plane"
   ]
  },
  {
   "cell_type": "code",
   "execution_count": null,
   "id": "dce5d21a-e178-4a02-9c51-ee0c903ca965",
   "metadata": {},
   "outputs": [],
   "source": [
    "path_to_sc = \"/mnt/d/Downloads/E11.5_spinal_cord.h5ad\""
   ]
  },
  {
   "cell_type": "code",
   "execution_count": null,
   "id": "4d7f2cae-23ea-433e-97c6-05182d7ee7af",
   "metadata": {},
   "outputs": [],
   "source": [
    "adata_spin = anndata.read_h5ad(path_to_sc)\n",
    "adata_spin"
   ]
  },
  {
   "cell_type": "code",
   "execution_count": null,
   "id": "46bd8f9f-9b34-4bbc-8e2e-d1122ed20f03",
   "metadata": {},
   "outputs": [],
   "source": [
    "### digitize\n",
    "adata_spin.obsm['spatial']=adata_spin.obsm['z_correct'][:,:2].copy()\n",
    "adata_spin.obs['label'] = \"Spinal_Cord\"\n",
    "adata_spin.obsm['spatial_bin3'] = adata_spin.obsm['spatial']//3\n",
    "cluster_label_image_lowres = st.dd.gen_cluster_image(adata_spin, bin_size=1, spatial_key=\"spatial_bin3\", cluster_key='label', show=False)\n",
    "cluster_label_list = np.unique(adata_spin.obs[\"cluster_img_label\"])\n",
    "contours, cluster_image_close, cluster_image_contour = st.dd.extract_cluster_contours(\n",
    "    cluster_label_image_lowres,\n",
    "    cluster_label_list,\n",
    "    bin_size=1,\n",
    "    k_size=10,\n",
    "    min_area=100,\n",
    "    show=False,\n",
    ")\n",
    "\n",
    "# %%\n",
    "pnt_xY = (149,230)\n",
    "pnt_xy = (188,276)\n",
    "pnt_Xy = (333,521)\n",
    "pnt_XY = (344,545)\n",
    "\n",
    "st.dd.digitize(\n",
    "    adata=adata_spin,\n",
    "    ctrs=contours,\n",
    "    ctr_idx=0,\n",
    "    pnt_xy=pnt_xy,\n",
    "    pnt_xY=pnt_xY,\n",
    "    pnt_Xy=pnt_Xy,\n",
    "    pnt_XY=pnt_XY,\n",
    "    spatial_key=\"spatial_bin3\"\n",
    ")\n",
    "\n",
    "sc.pl.spatial(\n",
    "    adata_spin,\n",
    "    spot_size=10, \n",
    "    color_map=\"inferno\",\n",
    "    color=['digital_layer']\n",
    ")"
   ]
  },
  {
   "cell_type": "code",
   "execution_count": null,
   "id": "626967eb-6fb5-479c-88c6-6a3697415898",
   "metadata": {},
   "outputs": [],
   "source": [
    "selected_gene=['Lhx3', 'Lhx5', 'Lhx1', 'Lbx1', 'Lhx9', 'Lhx2']\n",
    "\n",
    "adata_sub = adata[:,selected_gene][adata.obs['digital_layer']!=0].copy()\n",
    "\n",
    "# aggregate the gene expression in each digitized columns/layers\n",
    "exp_mtx = adata_sub.X.todense()\n",
    "exp_mtx = pd.DataFrame(exp_mtx, index=adata_sub.obs.index, columns=adata_sub.var.index)\n",
    "exp_mtx[\"digital_layer\"] = adata_sub.obs[\"digital_layer\"].astype(int).to_list()\n",
    "agg_exp_column = exp_mtx.groupby([\"digital_layer\"]).mean()\n",
    "agg_exp_column = agg_exp_column.transpose().sort_index(axis=1)\n",
    "\n",
    "# smooth the heatmap\n",
    "from scipy.ndimage import gaussian_filter1d\n",
    "\n",
    "agg_exp_column_tmp = agg_exp_column.copy()\n",
    "\n",
    "\n",
    "agg_exp_column_tmp = agg_exp_column_tmp.apply(\n",
    "    lambda x: gaussian_filter1d(x, 3).tolist(),\n",
    "    axis=1,\n",
    ")\n",
    "agg_exp_column_tmp = pd.DataFrame(\n",
    "    agg_exp_column_tmp.to_list(),\n",
    "    index=agg_exp_column.index,\n",
    "    columns=agg_exp_column.columns,\n",
    ")\n",
    "\n",
    "sns.clustermap(\n",
    "    agg_exp_column_tmp,\n",
    "    standard_scale=0,\n",
    "    col_cluster=False,\n",
    "    row_cluster=False,\n",
    "    xticklabels=False,\n",
    "    figsize=(3,2)\n",
    ")"
   ]
  },
  {
   "cell_type": "markdown",
   "id": "189eb3a6-f410-4b9d-92f1-2810e3afd45f",
   "metadata": {},
   "source": [
    "### Figure S6i Visualizing Gbx and Dbx in Spinal cord using a pseudo transverse plane"
   ]
  },
  {
   "cell_type": "code",
   "execution_count": null,
   "id": "3f69a41d-5927-40b0-9dc0-e29ac1887ff7",
   "metadata": {},
   "outputs": [],
   "source": [
    "### Generate X-Z representation of Gbx+ and Dbx+\n",
    "df3d_xz = pd.DataFrame(adata_spin.obsm['spatial_regis_xz'],columns=['new_X','new_Z'])\n",
    "\n",
    "Dbx1=adata_spin[:,['Dbx1']].to_df()\n",
    "Gbx2=adata_spin[:,['Gbx2']].to_df()\n",
    "Dbx1.index=range(Dbx1.shape[0])\n",
    "Gbx2.index=range(Gbx2.shape[0])\n",
    "list1=Dbx1[Dbx1.Dbx1>0].index.to_list()\n",
    "list2=Gbx2[Gbx2.Gbx2>0].index.to_list()\n",
    "\n",
    "df3d_xz2=df3d_xz.copy()\n",
    "df3d_xz2['Genes']='noExpress'\n",
    "df3d_xz2.loc[df3d_xz2.index.isin(list2),'Genes']='Gbx2'\n",
    "df3d_xz2.loc[df3d_xz2.index.isin(list1),'Genes']='Dbx1'\n",
    "\n",
    "df3d_xz2 = df3d_xz2.sort_values(\"Genes\",ascending=False)"
   ]
  },
  {
   "cell_type": "code",
   "execution_count": null,
   "id": "192d825f-aadb-4cf5-bd9b-df4ae8780271",
   "metadata": {},
   "outputs": [],
   "source": [
    "import seaborn as sns\n",
    "\n",
    "sns.set_theme(style=\"white\")\n",
    "\n",
    "f, ax = plt.subplots(figsize=(3.5, 3.5))\n",
    "\n",
    "sns.scatterplot(data=df3d_xz2,\n",
    "                x=\"new_X\", y=\"new_Z\", s=3,hue=\"Genes\",linewidth=0,alpha=0.8,\n",
    "                hue_order=[ 'Gbx2', 'Dbx1','noExpress',],\n",
    "                palette=['#fbb4ae','#b3cde3','#f2f2f2'],#\"Pastel1\",\n",
    "                rasterized=True,\n",
    "               )\n",
    "\n",
    "sns.kdeplot(data=df3d_xz2[df3d_xz2['Genes']==\"Gbx2\"],\n",
    "    x=\"new_X\", y=\"new_Z\", levels=5, color=\"#AA0000\", linewidths=0.5)\n",
    "sns.kdeplot(data=df3d_xz2[df3d_xz2['Genes']==\"Dbx1\"],\n",
    "    x=\"new_X\", y=\"new_Z\", levels=5, color=\"b\", linewidths=0.5)"
   ]
  },
  {
   "cell_type": "markdown",
   "id": "833c769b-11a1-42f3-80bb-78077ddf1d2f",
   "metadata": {},
   "source": [
    "## For the next two sections- run CCI modeling + downstream modeling on the spinal cord interneuron subset"
   ]
  },
  {
   "cell_type": "code",
   "execution_count": null,
   "id": "35f93413-465a-4799-9446-f7be75e15472",
   "metadata": {},
   "outputs": [],
   "source": [
    "# Set to the folders that the inputs (ligands list, target genes list) are contained in and that the outputs (model results) will save to:\n",
    "cci_input_directory = \"/mnt/d/SCAnalysis/Spateo_cord_analysis/CCI_inputs\"\n",
    "cci_output_directory = \"/mnt/d/SCAnalysis/Spateo_cord_analysis/CCI_outputs\"\n",
    "cci_output_id = os.path.join(cci_output_directory, \"cord_target_genes.csv\")\n",
    "cci_ligands_file = os.path.join(cci_input_directory, \"cord_ligands.txt\")\n",
    "cci_targets_file = os.path.join(cci_input_directory, \"cord_targets.txt\")"
   ]
  },
  {
   "cell_type": "code",
   "execution_count": null,
   "id": "9be105bd-71bb-49e5-803d-1daabf6f203f",
   "metadata": {},
   "outputs": [],
   "source": [
    "path_to_sc = \"/mnt/d/Downloads/E11.5_spinal_cord.h5ad\"\n",
    "path_to_sc_interneuron = \"/mnt/d/Downloads/E11.5_spinal_cord_interneurons.h5ad\""
   ]
  },
  {
   "cell_type": "code",
   "execution_count": null,
   "id": "db754795-553a-4f4f-a486-3cd058b70d40",
   "metadata": {},
   "outputs": [],
   "source": [
    "# We use the full spinal cord to identify upper and lower bounds for the bandwidth\n",
    "e115_sc = anndata.read_h5ad(path_to_sc)"
   ]
  },
  {
   "cell_type": "code",
   "execution_count": null,
   "id": "928ef2b8-cbae-4f82-8d57-2ff240adc78d",
   "metadata": {},
   "outputs": [],
   "source": [
    "lb = st.tl.find_bw_for_n_neighbors(\n",
    "    e115_sc,\n",
    "    coords_key=\"z_correction\",\n",
    "    n_anchors=2000,\n",
    "    target_n_neighbors=27,\n",
    "    initial_bw=20,\n",
    "    exclude_self=True\n",
    ")"
   ]
  },
  {
   "cell_type": "code",
   "execution_count": null,
   "id": "8a61b557-b492-4978-a1c7-2df80e1b46d8",
   "metadata": {},
   "outputs": [],
   "source": [
    "ub = st.tl.find_bw_for_n_neighbors(\n",
    "    e115_sc,\n",
    "    coords_key=\"z_correction\",\n",
    "    n_anchors=2000,\n",
    "    target_n_neighbors=270,\n",
    "    initial_bw=20,\n",
    "    exclude_self=True\n",
    ")"
   ]
  },
  {
   "cell_type": "code",
   "execution_count": null,
   "id": "ead1d6f7-a9d8-45a4-9d6b-8b92d487c35b",
   "metadata": {},
   "outputs": [],
   "source": [
    "adata_path = path_to_sc_interneuron\n",
    "output_path = cci_output_id\n",
    "ligand_path = cci_ligands_file\n",
    "target_path = cci_targets_file\n",
    "cci_dir_path = database_dir\n",
    "mod_type = \"ligand\"\n",
    "distr = \"poisson\"\n",
    "species = \"mouse\"\n",
    "group_key = \"mapped_celltype\"\n",
    "coords_key = \"z_correction\"\n",
    "distance_membrane_bound = lb\n",
    "distance_secreted = ub\n",
    "spatial_subsample = True\n",
    "total_counts_key = \"total_counts\"\n",
    "total_counts_threshold = 3000.0\n",
    "minbw = lb\n",
    "maxbw = ub * 1.5\n",
    "\n",
    "if not os.path.exists(os.path.dirname(output_path)):\n",
    "    os.makedirs(os.path.dirname(output_path))"
   ]
  },
  {
   "cell_type": "code",
   "execution_count": null,
   "id": "6577a06f-a5d9-425e-a024-50cd278e504b",
   "metadata": {},
   "outputs": [],
   "source": [
    "parser, args_list = st.tl.define_spateo_argparse(\n",
    "    adata_path=adata_path,\n",
    "    custom_lig_path=ligand_path,\n",
    "    custom_rec_path=receptor_path,\n",
    "    targets_path=target_path,\n",
    "    cci_dir=cci_dir_path,\n",
    "    mod_type=mod_type,\n",
    "    distr=distr,\n",
    "    species=species,\n",
    "    group_key=group_key,\n",
    "    coords_key=coords_key,\n",
    "    distance_membrane_bound=distance_membrane_bound,\n",
    "    distance_secreted=distance_secreted,\n",
    "    spatial_subsample=spatial_subsample,\n",
    "    total_counts_key=total_counts_key,\n",
    "    total_counts_threshold=total_counts_threshold,\n",
    "    minbw=minbw,\n",
    "    maxbw=maxbw,\n",
    "    output_path=output_path,\n",
    ")"
   ]
  },
  {
   "cell_type": "code",
   "execution_count": null,
   "id": "643f8db6-0ada-4714-9945-085fc00b5210",
   "metadata": {},
   "outputs": [],
   "source": [
    "import time\n",
    "\n",
    "t1 = time.time()\n",
    "\n",
    "swr_model = st.tl.MuSIC(parser, args_list)\n",
    "swr_model._set_up_model()\n",
    "swr_model.fit()\n",
    "swr_model.predict_and_save()\n",
    "\n",
    "t_last = time.time()\n",
    "\n",
    "print(\"Total Time Elapsed:\", np.round(t_last - t1, 2), \"seconds\")\n",
    "print(\"-\" * 60)"
   ]
  },
  {
   "cell_type": "code",
   "execution_count": null,
   "id": "87d6daeb-d3d5-432f-a7c4-83a283dd9f2a",
   "metadata": {},
   "outputs": [],
   "source": [
    "# Use the same parser object to set up downstream analysis\n",
    "downstream_model = st.tl.MuSIC_Interpreter(parser, args_list)"
   ]
  },
  {
   "cell_type": "code",
   "execution_count": null,
   "id": "e5e3b8ea-0300-451e-ab9c-62c2c99554c6",
   "metadata": {},
   "outputs": [],
   "source": [
    "# Predict TF regulators of ligands\n",
    "downstream_model.CCI_deg_detection_setup(\n",
    "    group_key=\"mapped_celltype\",\n",
    "    use_ligands=True,\n",
    "    use_receptors=False,\n",
    "    use_targets=False\n",
    ")"
   ]
  },
  {
   "cell_type": "code",
   "execution_count": null,
   "id": "417e7824-e475-4d76-a314-b8a309bdf16f",
   "metadata": {},
   "outputs": [],
   "source": [
    "downstream_model.CCI_deg_detection(\n",
    "    group_key=\"mapped_celltype\",\n",
    "    cci_dir_path=cci_dir_path,\n",
    "    use_ligands=True,\n",
    "    use_receptors=False,\n",
    "    use_targets=False,\n",
    "    use_dim_reduction=False,\n",
    "    distr=\"poisson\"\n",
    ")"
   ]
  },
  {
   "cell_type": "markdown",
   "id": "b5e283bc-ad6f-4fce-adeb-c04a70fafcd7",
   "metadata": {},
   "source": [
    "### Figure S6k- predicted regulators of Slit2"
   ]
  },
  {
   "cell_type": "code",
   "execution_count": null,
   "id": "145e96c7-b46d-4cac-af5c-1d0c3d3d3ef0",
   "metadata": {},
   "outputs": [],
   "source": [
    "exclude = [\n",
    "    \"Rarb\",\n",
    "    \"Pax2\",\n",
    "    \"Rara\",\n",
    "    \"Ctcf\",\n",
    "    \"Zfp281\",\n",
    "    \"Isl1\",\n",
    "    \"Zfp652\"\n",
    "]"
   ]
  },
  {
   "cell_type": "code",
   "execution_count": null,
   "id": "1c3fb826-16ff-4722-8390-1aa028fd66cd",
   "metadata": {},
   "outputs": [],
   "source": [
    "interaction_subset = [f.replace(\"regulator_\", \"\") for f in downstream_model.downstream_model_ligand_design_matrix.columns if f.replace(\"regulator_\", \"\") not in exclude]"
   ]
  },
  {
   "cell_type": "code",
   "execution_count": null,
   "id": "9dc3eca2-e73d-4a94-8599-1cefc7e60643",
   "metadata": {},
   "outputs": [],
   "source": [
    "downstream_model.deg_effect_barplot(\n",
    "    target=\"Slit2\",\n",
    "    interaction_subset=interaction_subset,\n",
    "    top_n_interactions=25,\n",
    "    figsize=(5, 1.5)\n",
    ")"
   ]
  },
  {
   "cell_type": "markdown",
   "id": "60999e55-6058-4308-b935-98779a8d30ed",
   "metadata": {},
   "source": [
    "### Figure S6l- predicted targets of Slit2"
   ]
  },
  {
   "cell_type": "code",
   "execution_count": null,
   "id": "4c74e45a-8dae-40dd-b11d-aa3e428fb7b0",
   "metadata": {},
   "outputs": [],
   "source": [
    "downstream_model.top_target_barplot(\n",
    "    interaction=\"Slit2\",\n",
    "    figsize=(6, 2),\n",
    "    top_n_targets=40\n",
    ")"
   ]
  },
  {
   "cell_type": "code",
   "execution_count": null,
   "id": "4dc50bcd-5554-48b4-8c81-b3bc9d60f593",
   "metadata": {},
   "outputs": [],
   "source": []
  }
 ],
 "metadata": {
  "kernelspec": {
   "display_name": "Python 3 (ipykernel)",
   "language": "python",
   "name": "python3"
  },
  "language_info": {
   "codemirror_mode": {
    "name": "ipython",
    "version": 3
   },
   "file_extension": ".py",
   "mimetype": "text/x-python",
   "name": "python",
   "nbconvert_exporter": "python",
   "pygments_lexer": "ipython3",
   "version": "3.8.15"
  }
 },
 "nbformat": 4,
 "nbformat_minor": 5
}
