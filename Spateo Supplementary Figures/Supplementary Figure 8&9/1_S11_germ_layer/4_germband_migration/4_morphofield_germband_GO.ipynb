{
 "cells": [
  {
   "cell_type": "code",
   "execution_count": 1,
   "outputs": [
    {
     "name": "stderr",
     "output_type": "stream",
     "text": [
      "2023-09-19 23:04:20.595148: I tensorflow/core/util/port.cc:110] oneDNN custom operations are on. You may see slightly different numerical results due to floating-point round-off errors from different computation orders. To turn them off, set the environment variable `TF_ENABLE_ONEDNN_OPTS=0`.\n",
      "2023-09-19 23:04:20.728986: I tensorflow/core/platform/cpu_feature_guard.cc:182] This TensorFlow binary is optimized to use available CPU instructions in performance-critical operations.\n",
      "To enable the following instructions: AVX2 AVX_VNNI FMA, in other operations, rebuild TensorFlow with the appropriate compiler flags.\n",
      "2023-09-19 23:04:21.236271: W tensorflow/compiler/tf2tensorrt/utils/py_utils.cc:38] TF-TRT Warning: Could not find TensorRT\n"
     ]
    }
   ],
   "source": [
    "import os, warnings\n",
    "from pathlib import Path\n",
    "\n",
    "import numpy as np\n",
    "import dynamo as dyn\n",
    "import spateo as st\n",
    "import scanpy as sc\n",
    "import pandas as pd\n",
    "import seaborn as sns\n",
    "import matplotlib.pyplot as plt\n",
    "warnings.filterwarnings('ignore')"
   ],
   "metadata": {
    "collapsed": false,
    "ExecuteTime": {
     "end_time": "2023-09-19T15:04:23.474228193Z",
     "start_time": "2023-09-19T15:04:17.813348538Z"
    }
   }
  },
  {
   "cell_type": "code",
   "execution_count": 2,
   "outputs": [],
   "source": [
    "from typing import Optional, Tuple, Union\n",
    "\n",
    "import matplotlib as mpl\n",
    "import numpy as np\n",
    "from pyvista import PolyData, UniformGrid, UnstructuredGrid\n",
    "\n",
    "try:\n",
    "    from typing import Literal\n",
    "except ImportError:\n",
    "    from typing_extensions import Literal\n",
    "\n",
    "\n",
    "def add_model_labels(\n",
    "        model: Union[PolyData, UnstructuredGrid, UniformGrid],\n",
    "        labels: np.ndarray,\n",
    "        key_added: str = \"groups\",\n",
    "        where: Literal[\"point_data\", \"cell_data\"] = \"cell_data\",\n",
    "        colormap: Union[str, list, dict, np.ndarray] = \"rainbow\",\n",
    "        alphamap: Union[float, list, dict, np.ndarray] = 1.0,\n",
    "        mask_color: Optional[str] = \"gainsboro\",\n",
    "        mask_alpha: Optional[float] = 0.0,\n",
    "        inplace: bool = False,\n",
    ") -> Tuple[Optional[PolyData or UnstructuredGrid], Optional[Union[str]]]:\n",
    "    model = model.copy() if not inplace else model\n",
    "    labels = np.asarray(labels).flatten()\n",
    "\n",
    "    cu_arr = np.sort(np.unique(labels), axis=0).astype(object)\n",
    "    raw_labels_hex = labels.copy().astype(object)\n",
    "    raw_labels_alpha = labels.copy().astype(object)\n",
    "    raw_labels_hex[raw_labels_hex == \"mask\"] = mpl.colors.to_hex(mask_color)\n",
    "    raw_labels_alpha[raw_labels_alpha == \"mask\"] = mask_alpha\n",
    "\n",
    "    # Set raw hex.\n",
    "    if isinstance(colormap, str):\n",
    "        if colormap in list(mpl.colormaps()):\n",
    "            lscmap = mpl.cm.get_cmap(colormap)\n",
    "            raw_hex_list = [mpl.colors.to_hex(lscmap(i)) for i in np.linspace(0, 1, len(cu_arr))]\n",
    "            for label, color in zip(cu_arr, raw_hex_list):\n",
    "                raw_labels_hex[raw_labels_hex == label] = color\n",
    "        else:\n",
    "            raw_labels_hex[raw_labels_hex != \"mask\"] = mpl.colors.to_hex(colormap)\n",
    "    elif isinstance(colormap, dict):\n",
    "        for label, color in colormap.items():\n",
    "            raw_labels_hex[raw_labels_hex == label] = mpl.colors.to_hex(color)\n",
    "    elif isinstance(colormap, list) or isinstance(colormap, np.ndarray):\n",
    "        raw_hex_list = np.array([mpl.colors.to_hex(color) for color in colormap]).astype(object)\n",
    "        for label, color in zip(cu_arr, raw_hex_list):\n",
    "            raw_labels_hex[raw_labels_hex == label] = color\n",
    "    else:\n",
    "        raise ValueError(\"`colormap` value is wrong.\" \"\\nAvailable `colormap` types are: `str`, `list` and `dict`.\")\n",
    "\n",
    "    # Set raw alpha.\n",
    "    if isinstance(alphamap, float) or isinstance(alphamap, int):\n",
    "        raw_labels_alpha[raw_labels_alpha != \"mask\"] = alphamap\n",
    "    elif isinstance(alphamap, dict):\n",
    "        for label, alpha in alphamap.items():\n",
    "            raw_labels_alpha[raw_labels_alpha == label] = alpha\n",
    "    elif isinstance(alphamap, list) or isinstance(alphamap, np.ndarray):\n",
    "        raw_labels_alpha = np.asarray(alphamap).astype(object)\n",
    "    else:\n",
    "        raise ValueError(\n",
    "            \"`alphamap` value is wrong.\" \"\\nAvailable `alphamap` types are: `float`, `list` and `dict`.\"\n",
    "        )\n",
    "\n",
    "    # Set rgba.\n",
    "    labels_rgba = [mpl.colors.to_rgba(c, alpha=a) for c, a in zip(raw_labels_hex, raw_labels_alpha)]\n",
    "    labels_rgba = np.array(labels_rgba).astype(np.float32)\n",
    "\n",
    "    # Added rgba of the labels.\n",
    "    if where == \"point_data\":\n",
    "        model.point_data[f\"{key_added}_rgba\"] = labels_rgba\n",
    "    else:\n",
    "        model.cell_data[f\"{key_added}_rgba\"] = labels_rgba\n",
    "\n",
    "    plot_cmap = None\n",
    "\n",
    "    # Added labels.\n",
    "    if where == \"point_data\":\n",
    "        model.point_data[key_added] = labels\n",
    "    else:\n",
    "        model.cell_data[key_added] = labels\n",
    "\n",
    "    return model if not inplace else None, plot_cmap"
   ],
   "metadata": {
    "collapsed": false,
    "ExecuteTime": {
     "end_time": "2023-09-19T15:04:23.499513100Z",
     "start_time": "2023-09-19T15:04:23.479098012Z"
    }
   }
  },
  {
   "cell_type": "markdown",
   "source": [
    "## Load the data"
   ],
   "metadata": {
    "collapsed": false
   }
  },
  {
   "cell_type": "code",
   "execution_count": 3,
   "outputs": [],
   "source": [
    "sample_id = \"E7_8h\"\n",
    "os.chdir(f\"/media/pc001/Yao/Projects/Project_drosophila/Data_v4/migration-hotspot/drosophila_{sample_id}_germ_layer_new\")\n",
    "cpo = [(41, 1209, 57), (13, 8, -3), (0, 0, 1)]\n",
    "\n",
    "out_image_path = f\"image/germband_morphofield/GO\"\n",
    "Path(out_image_path).mkdir(parents=True, exist_ok=True)"
   ],
   "metadata": {
    "collapsed": false,
    "ExecuteTime": {
     "end_time": "2023-09-19T15:04:23.499722958Z",
     "start_time": "2023-09-19T15:04:23.480774997Z"
    }
   }
  },
  {
   "cell_type": "code",
   "execution_count": 4,
   "outputs": [
    {
     "name": "stdout",
     "output_type": "stream",
     "text": [
      "WARNING: adata.X seems to be already log-transformed.\n"
     ]
    },
    {
     "data": {
      "text/plain": "AnnData object with n_obs × n_vars = 12585 × 8120\n    obs: 'area', 'slices', 'anno_cell_type', 'anno_tissue', 'anno_germ_layer', 'actual_stage', 'scc', 'anno_tissue_new', 'V_z', 'anno_germ_layer_new', 'backbone_nodes', 'backbone_scc', 'segments', 'morpho_acceleration', 'morpho_curvature', 'morpho_curl', 'morpho_torsion'\n    uns: 'VecFld_morpho', 'glm_degs', 'log1p', 'pp'\n    obsm: '2d_realign_spatial', '3d_align_spatial', 'V_cells_mapping', 'X_cells_mapping', 'X_pca', 'X_umap', 'morpho_acceleration', 'morpho_curl', 'morpho_curvature', 'morpho_velocity', 'raw_spatial', 'tdr_spatial'\n    layers: 'X_counts', 'spliced', 'unspliced'"
     },
     "execution_count": 4,
     "metadata": {},
     "output_type": "execute_result"
    }
   ],
   "source": [
    "germ_adata = st.read_h5ad(f\"h5ad/{sample_id}_germband_v4_acceleration.h5ad\")\n",
    "germ_adata.X= germ_adata.layers[\"X_counts\"].copy()\n",
    "sc.pp.normalize_total(germ_adata)\n",
    "sc.pp.log1p(germ_adata)\n",
    "\n",
    "germ_pc = st.tdr.read_model(f\"morpho_models/germband_morphometrics_pc_model.vtk\")\n",
    "germ_mesh = st.tdr.read_model(f\"morpho_models/germband_morphometrics_mesh_model.vtk\")\n",
    "trajectory_model = st.tdr.read_model(f\"morpho_models/germband_morphofield_trajectory_model.vtk\")\n",
    "germ_adata"
   ],
   "metadata": {
    "collapsed": false,
    "ExecuteTime": {
     "end_time": "2023-09-19T15:04:41.638514377Z",
     "start_time": "2023-09-19T15:04:24.039787444Z"
    }
   }
  },
  {
   "cell_type": "code",
   "execution_count": 5,
   "outputs": [
    {
     "data": {
      "text/plain": "             status family  log-likelihood          pval          qval\nCG13159          ok    NB2    -2724.717041  0.000000e+00  0.000000e+00\npip              ok    NB2    -1099.084595  0.000000e+00  0.000000e+00\nAbd-B            ok    NB2     -758.048340  1.760276e-39  2.382240e-36\nCG34190          ok    NB2     -681.737549  1.196937e-35  1.079903e-32\nPapss            ok    NB2     -672.873108  2.431555e-33  1.974422e-30\n...             ...    ...             ...           ...           ...\nAntp             ok    NB2     -912.598938  8.563871e-06  4.373499e-04\nCG8353           ok    NB2    -1302.346924  8.702624e-06  4.416582e-04\nE(spl)m7-HLH     ok    NB2    -2032.674194  9.543007e-06  4.791381e-04\nTER94            ok    NB2    -2238.718262  9.559159e-06  4.791381e-04\nclu              ok    NB2    -1470.830444  9.826259e-06  4.865196e-04\n\n[106 rows x 5 columns]",
      "text/html": "<div>\n<style scoped>\n    .dataframe tbody tr th:only-of-type {\n        vertical-align: middle;\n    }\n\n    .dataframe tbody tr th {\n        vertical-align: top;\n    }\n\n    .dataframe thead th {\n        text-align: right;\n    }\n</style>\n<table border=\"1\" class=\"dataframe\">\n  <thead>\n    <tr style=\"text-align: right;\">\n      <th></th>\n      <th>status</th>\n      <th>family</th>\n      <th>log-likelihood</th>\n      <th>pval</th>\n      <th>qval</th>\n    </tr>\n  </thead>\n  <tbody>\n    <tr>\n      <th>CG13159</th>\n      <td>ok</td>\n      <td>NB2</td>\n      <td>-2724.717041</td>\n      <td>0.000000e+00</td>\n      <td>0.000000e+00</td>\n    </tr>\n    <tr>\n      <th>pip</th>\n      <td>ok</td>\n      <td>NB2</td>\n      <td>-1099.084595</td>\n      <td>0.000000e+00</td>\n      <td>0.000000e+00</td>\n    </tr>\n    <tr>\n      <th>Abd-B</th>\n      <td>ok</td>\n      <td>NB2</td>\n      <td>-758.048340</td>\n      <td>1.760276e-39</td>\n      <td>2.382240e-36</td>\n    </tr>\n    <tr>\n      <th>CG34190</th>\n      <td>ok</td>\n      <td>NB2</td>\n      <td>-681.737549</td>\n      <td>1.196937e-35</td>\n      <td>1.079903e-32</td>\n    </tr>\n    <tr>\n      <th>Papss</th>\n      <td>ok</td>\n      <td>NB2</td>\n      <td>-672.873108</td>\n      <td>2.431555e-33</td>\n      <td>1.974422e-30</td>\n    </tr>\n    <tr>\n      <th>...</th>\n      <td>...</td>\n      <td>...</td>\n      <td>...</td>\n      <td>...</td>\n      <td>...</td>\n    </tr>\n    <tr>\n      <th>Antp</th>\n      <td>ok</td>\n      <td>NB2</td>\n      <td>-912.598938</td>\n      <td>8.563871e-06</td>\n      <td>4.373499e-04</td>\n    </tr>\n    <tr>\n      <th>CG8353</th>\n      <td>ok</td>\n      <td>NB2</td>\n      <td>-1302.346924</td>\n      <td>8.702624e-06</td>\n      <td>4.416582e-04</td>\n    </tr>\n    <tr>\n      <th>E(spl)m7-HLH</th>\n      <td>ok</td>\n      <td>NB2</td>\n      <td>-2032.674194</td>\n      <td>9.543007e-06</td>\n      <td>4.791381e-04</td>\n    </tr>\n    <tr>\n      <th>TER94</th>\n      <td>ok</td>\n      <td>NB2</td>\n      <td>-2238.718262</td>\n      <td>9.559159e-06</td>\n      <td>4.791381e-04</td>\n    </tr>\n    <tr>\n      <th>clu</th>\n      <td>ok</td>\n      <td>NB2</td>\n      <td>-1470.830444</td>\n      <td>9.826259e-06</td>\n      <td>4.865196e-04</td>\n    </tr>\n  </tbody>\n</table>\n<p>106 rows × 5 columns</p>\n</div>"
     },
     "execution_count": 5,
     "metadata": {},
     "output_type": "execute_result"
    }
   ],
   "source": [
    "glm_data = germ_adata.uns[\"glm_degs\"][\"glm_result\"]\n",
    "glm_data= glm_data.loc[glm_data[\"log-likelihood\"] >= -3000, :]\n",
    "glm_data= glm_data.loc[glm_data[\"pval\"] <= 1e-5, :]\n",
    "selected_genes = list(glm_data.index)\n",
    "glm_data"
   ],
   "metadata": {
    "collapsed": false,
    "ExecuteTime": {
     "end_time": "2023-09-19T15:04:41.657229854Z",
     "start_time": "2023-09-19T15:04:41.642939543Z"
    }
   }
  },
  {
   "cell_type": "code",
   "execution_count": 6,
   "outputs": [
    {
     "data": {
      "text/plain": "['Allele_LoF_Phenotypes_from_FlyBase_2017',\n 'Allele_Phenotypes_from_FlyBase_2017',\n 'Anatomy_AutoRIF',\n 'Anatomy_AutoRIF_Predicted_zscore',\n 'Anatomy_GeneRIF',\n 'Anatomy_GeneRIF_Predicted_zscore',\n 'Coexpression_Predicted_GO_Biological_Process_2018',\n 'Coexpression_Predicted_GO_Cellular_Component_2018',\n 'Coexpression_Predicted_GO_Molecular_Function_2018',\n 'GO_Biological_Process_2018',\n 'GO_Biological_Process_AutoRIF',\n 'GO_Biological_Process_AutoRIF_Predicted_zscore',\n 'GO_Biological_Process_GeneRIF',\n 'GO_Biological_Process_GeneRIF_Predicted_zscore',\n 'GO_Cellular_Component_2018',\n 'GO_Cellular_Component_AutoRIF',\n 'GO_Cellular_Component_AutoRIF_Predicted_zscore',\n 'GO_Cellular_Component_GeneRIF',\n 'GO_Cellular_Component_GeneRIF_Predicted_zscore',\n 'GO_Molecular_Function_2018',\n 'GO_Molecular_Function_AutoRIF',\n 'GO_Molecular_Function_AutoRIF_Predicted_zscore',\n 'GO_Molecular_Function_GeneRIF',\n 'GO_Molecular_Function_GeneRIF_Predicted_zscore',\n 'Human_Disease_from_FlyBase_2017',\n 'InterPro_Domains_2019',\n 'KEGG_2019',\n 'PPI_Network_Hubs_from_DroID_2017',\n 'Pfam_Domains_2019',\n 'Phenotype_AutoRIF',\n 'Phenotype_AutoRIF_Predicted_zscore',\n 'Phenotype_GeneRIF',\n 'Phenotype_GeneRIF_Predicted_zscore',\n 'Putative_Regulatory_miRNAs_from_DroID_2015',\n 'RNAi_Screens_from_GenomeRNAi_2017',\n 'TF2DNA_2018',\n 'Transcription_Factors_from_DroID_2015',\n 'WikiPathways_2018']"
     },
     "execution_count": 6,
     "metadata": {},
     "output_type": "execute_result"
    }
   ],
   "source": [
    "import gseapy as gp\n",
    "gp.get_library_name(organism=\"fly\")"
   ],
   "metadata": {
    "collapsed": false,
    "ExecuteTime": {
     "end_time": "2023-09-19T15:04:45.720339294Z",
     "start_time": "2023-09-19T15:04:41.650939337Z"
    }
   }
  },
  {
   "cell_type": "code",
   "execution_count": 7,
   "outputs": [],
   "source": [
    "acceleration_genes = [\n",
    "    \"Gmap\", \"otp\",\"CG32425\",\"DNaseII\",\"SpdS\",\"Pdp1\",\"CG45116\",\"CG8036\",\"CG2930\",\"CG33099\",\n",
    "    \"CG42565\",\"cad\",\"CG32267\",\"GstE5\",\"CG8468\",\"CG44286\",\"peb\",\"Glo1\",\"CG43051\",\"mRpL27\",\"clu\",\n",
    "]\n",
    "\n",
    "curl_genes = [\n",
    "    \"Acbp5\", \"Abd-B\", \"fkh\", \"nyo\", \"Dph5\", \"CG6910\", \"CG7841\", \"CG7519\", \"tai\", \"Rab32\", \"Gart\", \"CG31463\", \"tai\", \"CG7519\",\n",
    "    \"CG33993\", \"CG33099\", \"CG2930\", \"RhoGEF64C\", \"CG44286\", \"neo\", \"FoxL1\", \"CG1273\", \"Tep4\", \"bbg\", \"Doc3\", \"CG4069\",\n",
    "    \"CG32425\", \"Npc2g\", \"Pdp1\", \"fok\", \"DNaseII\", \"CG6937\", \"CG8468\", \"clu\", \"CG11563\", \"Galt\", \"Surf6\", \"ppl\", \"CG12522\", \"mRpL23\", \"Chchd2\", \"ppan\", \"peb\"\n",
    "]"
   ],
   "metadata": {
    "collapsed": false,
    "ExecuteTime": {
     "end_time": "2023-09-19T15:04:45.731705836Z",
     "start_time": "2023-09-19T15:04:45.722376139Z"
    }
   }
  },
  {
   "cell_type": "code",
   "execution_count": 8,
   "outputs": [
    {
     "data": {
      "text/plain": "['peb',\n 'clu',\n 'ppl',\n 'Galt',\n 'Chchd2',\n 'DNaseII',\n 'ppan',\n 'CG42565',\n 'Abd-B',\n 'GstE5',\n 'CG6910',\n 'RhoGEF64C',\n 'CG32267',\n 'mRpL27',\n 'Pdp1',\n 'FoxL1',\n 'CG11563',\n 'CG8468',\n 'Tep4',\n 'fkh',\n 'CG45116',\n 'CG8036',\n 'Doc3',\n 'CG33099',\n 'CG31463',\n 'SpdS',\n 'CG6937',\n 'CG44286',\n 'Npc2g',\n 'CG4069',\n 'neo',\n 'Gart',\n 'Dph5',\n 'CG33993',\n 'CG12522',\n 'CG43051',\n 'otp',\n 'Gmap',\n 'mRpL23',\n 'CG32425',\n 'CG2930',\n 'CG7519',\n 'CG7841',\n 'tai',\n 'Surf6',\n 'cad',\n 'CG1273',\n 'nyo',\n 'Acbp5',\n 'Glo1',\n 'bbg',\n 'fok',\n 'Rab32']"
     },
     "execution_count": 8,
     "metadata": {},
     "output_type": "execute_result"
    }
   ],
   "source": [
    "morpho_genes = acceleration_genes + curl_genes\n",
    "morpho_genes= list(set(morpho_genes))\n",
    "morpho_genes"
   ],
   "metadata": {
    "collapsed": false,
    "ExecuteTime": {
     "end_time": "2023-09-19T15:04:45.774788616Z",
     "start_time": "2023-09-19T15:04:45.724390777Z"
    }
   }
  },
  {
   "cell_type": "code",
   "execution_count": 9,
   "outputs": [
    {
     "name": "stderr",
     "output_type": "stream",
     "text": [
      "2023-09-19 23:04:48,100 [INFO] Run: GO_Biological_Process_2018 \n",
      "2023-09-19 23:04:53,261 [INFO] Save enrichment results for GO_Biological_Process_2018 \n",
      "2023-09-19 23:04:53,264 [INFO] Done.\n"
     ]
    }
   ],
   "source": [
    "# GO-biologial process\n",
    "go_folder = os.path.join(out_image_path, f\"morpho_acceleration_GO_all\")\n",
    "Path(go_folder).mkdir(parents=True, exist_ok=True)\n",
    "\n",
    "go_bp = gp.enrichr(\n",
    "        gene_list=morpho_genes,\n",
    "        gene_sets=\"GO_Biological_Process_2018\",\n",
    "        organism=\"fly\",\n",
    "        outdir=go_folder,\n",
    "        no_plot=True,\n",
    "        verbose=True\n",
    ")\n",
    "go_bp_results = pd.read_csv(os.path.join(go_folder, f\"GO_Biological_Process_2018.fly.enrichr.reports.txt\"), sep=\"\\t\")\n",
    "gp.barplot(go_bp_results, column='Combined Score', title='GO_Biological_Process_2018', cutoff=0.05, top_term=50, figsize=(5, 20), color=\"black\",\n",
    "            ofname=os.path.join(go_folder, f\"{sample_id}_GO_Biological_Process_2018_selected_barplot.pdf\"))\n",
    "gp.dotplot(go_bp_results, column='Combined Score', title='GO_Biological_Process_2018', cmap='Spectral', cutoff=0.05, top_term=50, figsize=(5, 20),\n",
    "            ofname=os.path.join(go_folder, f\"{sample_id}_GO_Biological_Process_2018_selected_dotplot.pdf\"))"
   ],
   "metadata": {
    "collapsed": false,
    "ExecuteTime": {
     "end_time": "2023-09-19T15:04:54.186712403Z",
     "start_time": "2023-09-19T15:04:45.767530912Z"
    }
   }
  },
  {
   "cell_type": "code",
   "execution_count": 10,
   "outputs": [
    {
     "name": "stderr",
     "output_type": "stream",
     "text": [
      "2023-09-19 23:04:55,782 [INFO] Run: GO_Cellular_Component_2018 \n",
      "2023-09-19 23:05:01,692 [INFO] Save enrichment results for GO_Cellular_Component_2018 \n",
      "2023-09-19 23:05:01,693 [INFO] Done.\n"
     ]
    }
   ],
   "source": [
    "go_folder = os.path.join(out_image_path, f\"morpho_acceleration_GO_all\")\n",
    "Path(go_folder).mkdir(parents=True, exist_ok=True)\n",
    "\n",
    "go_cc = gp.enrichr(\n",
    "        gene_list=morpho_genes,\n",
    "        gene_sets=\"GO_Cellular_Component_2018\",\n",
    "        organism=\"fly\",\n",
    "        outdir=go_folder,\n",
    "        no_plot=True,\n",
    "        verbose=True\n",
    ")\n",
    "go_cc_results = pd.read_csv(os.path.join(go_folder, f\"GO_Cellular_Component_2018.fly.enrichr.reports.txt\"), sep=\"\\t\")\n",
    "gp.barplot(go_cc_results, column='Combined Score', title='GO_Cellular_Component_2018', cutoff=0.05, top_term=50, figsize=(5, 20), color=\"black\",\n",
    "            ofname=os.path.join(go_folder, f\"{sample_id}_GO_Cellular_Component_2018_selected_barplot.pdf\"))\n",
    "gp.dotplot(go_cc_results, column='Combined Score', title='GO_Cellular_Component_2018', cmap='Spectral', cutoff=0.05, top_term=50, figsize=(5, 20),\n",
    "            ofname=os.path.join(go_folder, f\"{sample_id}_GO_Cellular_Component_2018_selected_dotplot.pdf\"))"
   ],
   "metadata": {
    "collapsed": false,
    "ExecuteTime": {
     "end_time": "2023-09-19T15:05:02.018427985Z",
     "start_time": "2023-09-19T15:04:54.188169452Z"
    }
   }
  },
  {
   "cell_type": "code",
   "execution_count": 11,
   "outputs": [
    {
     "name": "stderr",
     "output_type": "stream",
     "text": [
      "2023-09-19 23:05:05,999 [INFO] Run: GO_Molecular_Function_2018 \n",
      "2023-09-19 23:05:11,002 [INFO] Save enrichment results for GO_Molecular_Function_2018 \n",
      "2023-09-19 23:05:11,005 [INFO] Done.\n"
     ]
    }
   ],
   "source": [
    "go_folder = os.path.join(out_image_path, f\"morpho_acceleration_GO_all\")\n",
    "Path(go_folder).mkdir(parents=True, exist_ok=True)\n",
    "\n",
    "go_mf = gp.enrichr(\n",
    "        gene_list=morpho_genes,\n",
    "        gene_sets=\"GO_Molecular_Function_2018\",\n",
    "        organism=\"fly\",\n",
    "        outdir=go_folder,\n",
    "        no_plot=True,\n",
    "        verbose=True\n",
    ")\n",
    "go_mf_results = pd.read_csv(os.path.join(go_folder, f\"GO_Molecular_Function_2018.fly.enrichr.reports.txt\"), sep=\"\\t\")\n",
    "gp.barplot(go_mf_results, column='Combined Score', title='GO_Molecular_Function_2018', cutoff=0.05, top_term=50, figsize=(5, 20), color=\"black\",\n",
    "            ofname=os.path.join(go_folder, f\"{sample_id}_GO_Molecular_Function_2018_selected_barplot.pdf\"))\n",
    "gp.dotplot(go_mf_results, column='Combined Score', title='GO_Molecular_Function_2018', cmap='Spectral', cutoff=0.05, top_term=50, figsize=(5, 20),\n",
    "            ofname=os.path.join(go_folder, f\"{sample_id}_GO_Molecular_Function_2018_selected_dotplot.pdf\"))"
   ],
   "metadata": {
    "collapsed": false,
    "ExecuteTime": {
     "end_time": "2023-09-19T15:05:11.426106895Z",
     "start_time": "2023-09-19T15:05:02.019735251Z"
    }
   }
  },
  {
   "cell_type": "markdown",
   "source": [
    "## Selected GO terms"
   ],
   "metadata": {
    "collapsed": false
   }
  },
  {
   "cell_type": "code",
   "execution_count": 12,
   "outputs": [],
   "source": [
    "go_bp_results = pd.read_csv(os.path.join(go_folder, f\"GO_Biological_Process_2018.fly.enrichr.reports.txt\"), sep=\"\\t\")\n",
    "go_bp_results.to_csv(os.path.join(go_folder, f\"GO_Biological_Process_2018.fly.enrichr.reports_selected.txt\"), sep=\"\\t\")"
   ],
   "metadata": {
    "collapsed": false,
    "ExecuteTime": {
     "end_time": "2023-09-19T15:05:11.455773538Z",
     "start_time": "2023-09-19T15:05:11.427499927Z"
    }
   }
  },
  {
   "cell_type": "code",
   "execution_count": 13,
   "outputs": [],
   "source": [
    "go_bp_results = pd.read_csv(os.path.join(go_folder, f\"GO_Biological_Process_2018.fly.enrichr.reports_selected.txt\"), sep=\"\\t\")\n",
    "gp.barplot(go_bp_results, column='Combined Score', title='GO_Biological_Process_2018', cutoff=0.05, top_term=50, figsize=(5, 20), color=\"black\",\n",
    "            ofname=os.path.join(go_folder, f\"{sample_id}_GO_Biological_Process_2018_barplot_final.pdf\"))\n",
    "gp.dotplot(go_bp_results, column='Combined Score', title='GO_Biological_Process_2018', cmap='viridis_r', cutoff=0.05, top_term=50, figsize=(5, 20),\n",
    "            ofname=os.path.join(go_folder, f\"{sample_id}_GO_Biological_Process_2018_dotplot_final.pdf\"))"
   ],
   "metadata": {
    "collapsed": false,
    "ExecuteTime": {
     "end_time": "2023-09-19T15:12:55.566767678Z",
     "start_time": "2023-09-19T15:12:55.096237885Z"
    }
   }
  },
  {
   "cell_type": "code",
   "execution_count": 14,
   "outputs": [
    {
     "data": {
      "text/plain": "    Unnamed: 0                    Gene_set  \\\n0            7  GO_Biological_Process_2018   \n1            8  GO_Biological_Process_2018   \n2           10  GO_Biological_Process_2018   \n3           11  GO_Biological_Process_2018   \n4           15  GO_Biological_Process_2018   \n5           16  GO_Biological_Process_2018   \n6           22  GO_Biological_Process_2018   \n7           24  GO_Biological_Process_2018   \n8           34  GO_Biological_Process_2018   \n9           36  GO_Biological_Process_2018   \n10          40  GO_Biological_Process_2018   \n11          41  GO_Biological_Process_2018   \n12          45  GO_Biological_Process_2018   \n13          51  GO_Biological_Process_2018   \n14          53  GO_Biological_Process_2018   \n15          56  GO_Biological_Process_2018   \n16          59  GO_Biological_Process_2018   \n17          60  GO_Biological_Process_2018   \n18          66  GO_Biological_Process_2018   \n19          77  GO_Biological_Process_2018   \n20          78  GO_Biological_Process_2018   \n21          96  GO_Biological_Process_2018   \n22          97  GO_Biological_Process_2018   \n23          98  GO_Biological_Process_2018   \n24         103  GO_Biological_Process_2018   \n25         104  GO_Biological_Process_2018   \n26         105  GO_Biological_Process_2018   \n27         108  GO_Biological_Process_2018   \n28         110  GO_Biological_Process_2018   \n29         111  GO_Biological_Process_2018   \n30         115  GO_Biological_Process_2018   \n31         120  GO_Biological_Process_2018   \n32         121  GO_Biological_Process_2018   \n33         122  GO_Biological_Process_2018   \n34         123  GO_Biological_Process_2018   \n35         124  GO_Biological_Process_2018   \n36         125  GO_Biological_Process_2018   \n37         126  GO_Biological_Process_2018   \n38         129  GO_Biological_Process_2018   \n39         130  GO_Biological_Process_2018   \n40         132  GO_Biological_Process_2018   \n41         135  GO_Biological_Process_2018   \n42         137  GO_Biological_Process_2018   \n43         141  GO_Biological_Process_2018   \n44         142  GO_Biological_Process_2018   \n45         143  GO_Biological_Process_2018   \n46         201  GO_Biological_Process_2018   \n47         202  GO_Biological_Process_2018   \n\n                                                 Term Overlap   P-value  \\\n0                   endoderm development (GO:0007492)     1/7  0.018406   \n1   ectodermal digestive tract development (GO:000...     1/6  0.015797   \n2                amnioserosa maintenance (GO:0046665)     1/7  0.018406   \n3                    apical constriction (GO:0003383)    2/25  0.001988   \n4   regulation of striated muscle tissue developme...     1/8  0.021008   \n5          epithelial cell morphogenesis (GO:0003382)    2/23  0.001682   \n6   regulation of cytoplasmic translational elonga...     1/7  0.018406   \n7                    germ-band extension (GO:0007377)    1/11  0.028774   \n8     regulation of embryonic cell shape (GO:0016476)    2/32  0.003248   \n9                 mesenchyme development (GO:0060485)     1/9  0.023603   \n10          gonadal mesoderm development (GO:0007506)     1/9  0.023603   \n11  specification of segmental identity, trunk (GO...     1/8  0.021008   \n12       embryonic hindgut morphogenesis (GO:0048619)    2/40  0.005039   \n13  maintenance of epithelial integrity, open trac...    1/13  0.033918   \n14               mucosal immune response (GO:0002385)    1/15  0.039034   \n15            mitochondrion localization (GO:0051646)    1/13  0.033918   \n16   regulation of embryonic development (GO:0045995)    2/41  0.005288   \n17  negative regulation of JAK-STAT cascade (GO:00...    1/15  0.039034   \n18       actin-mediated cell contraction (GO:0070252)    2/19  0.001145   \n19      epithelial structure maintenance (GO:0010669)    1/18  0.046660   \n20           digestive tract development (GO:0048565)    2/51  0.008085   \n21         terminal region determination (GO:0007362)    1/27  0.069182   \n22    negative regulation of JNK cascade (GO:0046329)    1/26  0.066706   \n23                  germ-band shortening (GO:0007390)    1/22  0.056735   \n24           neuron projection extension (GO:1990138)    1/31  0.079024   \n25                   pole cell migration (GO:0007280)    1/26  0.066706   \n26      anatomical structure homeostasis (GO:0060249)    1/30  0.076573   \n27                   neuroblast division (GO:0055057)    1/35  0.088763   \n28  positive regulation of cell-cell adhesion (GO:...    1/12  0.031349   \n29  positive regulation of cellular biosynthetic p...    1/33  0.083906   \n30         mitochondrial gene expression (GO:0140053)    2/94  0.025786   \n31                  mesoderm development (GO:0007498)    2/83  0.020449   \n32        regulation of JAK-STAT cascade (GO:0046425)    1/29  0.074116   \n33                    midgut development (GO:0007494)    1/31  0.079024   \n34        asymmetric neuroblast division (GO:0055059)    1/34  0.086338   \n35  zygotic determination of anterior/posterior ax...    1/34  0.086338   \n36              regulation of cell death (GO:0010941)    1/37  0.093595   \n37                        axon extension (GO:0048675)    1/36  0.091182   \n38             mitochondrial translation (GO:0032543)    2/94  0.025786   \n39               torso signaling pathway (GO:0008293)    1/35  0.088763   \n40                  ectoderm development (GO:0007398)    1/31  0.079024   \n41         positive regulation of growth (GO:0045927)    1/45  0.112671   \n42       Rab protein signal transduction (GO:0032482)    1/37  0.093595   \n43  positive regulation of Ras protein signal tran...    1/45  0.112671   \n44        border follicle cell migration (GO:0007298)   2/121  0.040942   \n45  regulation of multicellular organism growth (G...    1/47  0.117379   \n46  post-embryonic appendage morphogenesis (GO:003...   1/161  0.348799   \n47  cell morphogenesis involved in neuron differen...   1/160  0.347055   \n\n    Adjusted P-value  Old P-value  Old Adjusted P-value   Z-score  \\\n0           0.093523     0.027996              0.137288 -4.320488   \n1           0.093523     0.024539              0.137288 -4.154050   \n2           0.093523     0.027996              0.137288 -4.138053   \n3           0.026091     0.004020              0.060471 -2.643654   \n4           0.093523     0.031442              0.137288 -3.793862   \n5           0.025233     0.003451              0.060471 -2.282581   \n6           0.093523     0.027996              0.137288 -3.422631   \n7           0.094414     0.041710              0.137288 -3.838995   \n8           0.037893     0.006327              0.073816 -2.013621   \n9           0.093523     0.034877              0.137288 -3.034415   \n10          0.093523     0.034877              0.137288 -2.998366   \n11          0.093523     0.031442              0.137288 -2.877199   \n12          0.052885     0.009543              0.099863 -2.054160   \n13          0.096253     0.048496              0.137624 -2.917242   \n14          0.096438     0.055236              0.138091 -3.008295   \n15          0.096253     0.048496              0.137624 -2.729206   \n16          0.052885     0.009986              0.099863 -1.719870   \n17          0.096438     0.055236              0.138091 -2.762461   \n18          0.021063     0.002437              0.056164 -1.245711   \n19          0.108873     0.065260              0.153985 -2.412483   \n20          0.065304     0.014911              0.120436 -1.516602   \n21          0.126333     0.094720              0.174485 -2.239169   \n22          0.123966     0.091492              0.171547 -2.152192   \n23          0.114561     0.078466              0.159979 -2.029148   \n24          0.131706     0.107525              0.179208 -2.096861   \n25          0.123966     0.091492              0.171547 -1.954933   \n26          0.131706     0.104340              0.179208 -2.041193   \n27          0.138076     0.120154              0.186906 -2.080285   \n28          0.095410     0.045109              0.137288 -1.397174   \n29          0.136323     0.113861              0.184757 -1.947225   \n30          0.094414     0.044956              0.137288 -1.291310   \n31          0.093523     0.036041              0.137288 -1.169486   \n32          0.130792     0.101145              0.179208 -1.727218   \n33          0.131706     0.107525              0.179208 -1.751000   \n34          0.136323     0.117013              0.184757 -1.803426   \n35          0.136323     0.117013              0.184757 -1.801901   \n36          0.139396     0.126404              0.188261 -1.851454   \n37          0.139396     0.123284              0.188261 -1.789350   \n38          0.094414     0.044956              0.137288 -1.153893   \n39          0.138076     0.120154              0.186906 -1.726889   \n40          0.131706     0.107525              0.179208 -1.632054   \n41          0.160959     0.150978              0.217161 -1.871627   \n42          0.139396     0.126404              0.188261 -1.713618   \n43          0.160959     0.150978              0.217161 -1.612405   \n44          0.099232     0.069798              0.155629 -1.094901   \n45          0.162168     0.157017              0.218368 -1.613033   \n46          0.368079     0.440495              0.464844 -0.819029   \n47          0.368079     0.438466              0.464844 -0.802749   \n\n    Combined Score          Genes  \n0        17.260710            fkh  \n1        17.230730            fkh  \n2        16.531870            peb  \n3        16.445300        nyo;neo  \n4        14.655120          Abd-B  \n5        14.580370        nyo;neo  \n6        13.673700           Dph5  \n7        13.621850            cad  \n8        11.537510        nyo;neo  \n9        11.368020          Abd-B  \n10       11.232970          Abd-B  \n11       11.114190          Abd-B  \n12       10.867630        fkh;cad  \n13        9.871430            peb  \n14        9.756836            bbg  \n15        9.235149            clu  \n16        9.015945        nyo;neo  \n17        8.959520            peb  \n18        8.436716        nyo;neo  \n19        7.393943            peb  \n20        7.306551      fkh;Abd-B  \n21        5.980849            peb  \n22        5.826984            peb  \n23        5.822363            peb  \n24        5.321852            tai  \n25        5.292913          Abd-B  \n26        5.244872            tai  \n27        5.038005            clu  \n28        4.837814            peb  \n29        4.825337            cad  \n30        4.723504  mRpL27;mRpL23  \n31        4.549095    Npc2g;Abd-B  \n32        4.494443            peb  \n33        4.444052          Abd-B  \n34        4.417472            clu  \n35        4.413736            peb  \n36        4.385689          Rab32  \n37        4.285309            tai  \n38        4.220844  mRpL27;mRpL23  \n39        4.182156            peb  \n40        4.142166            peb  \n41        4.086283            tai  \n42        4.059187          Rab32  \n43        3.520329      RhoGEF64C  \n44        3.498864        bbg;tai  \n45        3.455680            fkh  \n46        0.862650      RhoGEF64C  \n47        0.849527            peb  ",
      "text/html": "<div>\n<style scoped>\n    .dataframe tbody tr th:only-of-type {\n        vertical-align: middle;\n    }\n\n    .dataframe tbody tr th {\n        vertical-align: top;\n    }\n\n    .dataframe thead th {\n        text-align: right;\n    }\n</style>\n<table border=\"1\" class=\"dataframe\">\n  <thead>\n    <tr style=\"text-align: right;\">\n      <th></th>\n      <th>Unnamed: 0</th>\n      <th>Gene_set</th>\n      <th>Term</th>\n      <th>Overlap</th>\n      <th>P-value</th>\n      <th>Adjusted P-value</th>\n      <th>Old P-value</th>\n      <th>Old Adjusted P-value</th>\n      <th>Z-score</th>\n      <th>Combined Score</th>\n      <th>Genes</th>\n    </tr>\n  </thead>\n  <tbody>\n    <tr>\n      <th>0</th>\n      <td>7</td>\n      <td>GO_Biological_Process_2018</td>\n      <td>endoderm development (GO:0007492)</td>\n      <td>1/7</td>\n      <td>0.018406</td>\n      <td>0.093523</td>\n      <td>0.027996</td>\n      <td>0.137288</td>\n      <td>-4.320488</td>\n      <td>17.260710</td>\n      <td>fkh</td>\n    </tr>\n    <tr>\n      <th>1</th>\n      <td>8</td>\n      <td>GO_Biological_Process_2018</td>\n      <td>ectodermal digestive tract development (GO:000...</td>\n      <td>1/6</td>\n      <td>0.015797</td>\n      <td>0.093523</td>\n      <td>0.024539</td>\n      <td>0.137288</td>\n      <td>-4.154050</td>\n      <td>17.230730</td>\n      <td>fkh</td>\n    </tr>\n    <tr>\n      <th>2</th>\n      <td>10</td>\n      <td>GO_Biological_Process_2018</td>\n      <td>amnioserosa maintenance (GO:0046665)</td>\n      <td>1/7</td>\n      <td>0.018406</td>\n      <td>0.093523</td>\n      <td>0.027996</td>\n      <td>0.137288</td>\n      <td>-4.138053</td>\n      <td>16.531870</td>\n      <td>peb</td>\n    </tr>\n    <tr>\n      <th>3</th>\n      <td>11</td>\n      <td>GO_Biological_Process_2018</td>\n      <td>apical constriction (GO:0003383)</td>\n      <td>2/25</td>\n      <td>0.001988</td>\n      <td>0.026091</td>\n      <td>0.004020</td>\n      <td>0.060471</td>\n      <td>-2.643654</td>\n      <td>16.445300</td>\n      <td>nyo;neo</td>\n    </tr>\n    <tr>\n      <th>4</th>\n      <td>15</td>\n      <td>GO_Biological_Process_2018</td>\n      <td>regulation of striated muscle tissue developme...</td>\n      <td>1/8</td>\n      <td>0.021008</td>\n      <td>0.093523</td>\n      <td>0.031442</td>\n      <td>0.137288</td>\n      <td>-3.793862</td>\n      <td>14.655120</td>\n      <td>Abd-B</td>\n    </tr>\n    <tr>\n      <th>5</th>\n      <td>16</td>\n      <td>GO_Biological_Process_2018</td>\n      <td>epithelial cell morphogenesis (GO:0003382)</td>\n      <td>2/23</td>\n      <td>0.001682</td>\n      <td>0.025233</td>\n      <td>0.003451</td>\n      <td>0.060471</td>\n      <td>-2.282581</td>\n      <td>14.580370</td>\n      <td>nyo;neo</td>\n    </tr>\n    <tr>\n      <th>6</th>\n      <td>22</td>\n      <td>GO_Biological_Process_2018</td>\n      <td>regulation of cytoplasmic translational elonga...</td>\n      <td>1/7</td>\n      <td>0.018406</td>\n      <td>0.093523</td>\n      <td>0.027996</td>\n      <td>0.137288</td>\n      <td>-3.422631</td>\n      <td>13.673700</td>\n      <td>Dph5</td>\n    </tr>\n    <tr>\n      <th>7</th>\n      <td>24</td>\n      <td>GO_Biological_Process_2018</td>\n      <td>germ-band extension (GO:0007377)</td>\n      <td>1/11</td>\n      <td>0.028774</td>\n      <td>0.094414</td>\n      <td>0.041710</td>\n      <td>0.137288</td>\n      <td>-3.838995</td>\n      <td>13.621850</td>\n      <td>cad</td>\n    </tr>\n    <tr>\n      <th>8</th>\n      <td>34</td>\n      <td>GO_Biological_Process_2018</td>\n      <td>regulation of embryonic cell shape (GO:0016476)</td>\n      <td>2/32</td>\n      <td>0.003248</td>\n      <td>0.037893</td>\n      <td>0.006327</td>\n      <td>0.073816</td>\n      <td>-2.013621</td>\n      <td>11.537510</td>\n      <td>nyo;neo</td>\n    </tr>\n    <tr>\n      <th>9</th>\n      <td>36</td>\n      <td>GO_Biological_Process_2018</td>\n      <td>mesenchyme development (GO:0060485)</td>\n      <td>1/9</td>\n      <td>0.023603</td>\n      <td>0.093523</td>\n      <td>0.034877</td>\n      <td>0.137288</td>\n      <td>-3.034415</td>\n      <td>11.368020</td>\n      <td>Abd-B</td>\n    </tr>\n    <tr>\n      <th>10</th>\n      <td>40</td>\n      <td>GO_Biological_Process_2018</td>\n      <td>gonadal mesoderm development (GO:0007506)</td>\n      <td>1/9</td>\n      <td>0.023603</td>\n      <td>0.093523</td>\n      <td>0.034877</td>\n      <td>0.137288</td>\n      <td>-2.998366</td>\n      <td>11.232970</td>\n      <td>Abd-B</td>\n    </tr>\n    <tr>\n      <th>11</th>\n      <td>41</td>\n      <td>GO_Biological_Process_2018</td>\n      <td>specification of segmental identity, trunk (GO...</td>\n      <td>1/8</td>\n      <td>0.021008</td>\n      <td>0.093523</td>\n      <td>0.031442</td>\n      <td>0.137288</td>\n      <td>-2.877199</td>\n      <td>11.114190</td>\n      <td>Abd-B</td>\n    </tr>\n    <tr>\n      <th>12</th>\n      <td>45</td>\n      <td>GO_Biological_Process_2018</td>\n      <td>embryonic hindgut morphogenesis (GO:0048619)</td>\n      <td>2/40</td>\n      <td>0.005039</td>\n      <td>0.052885</td>\n      <td>0.009543</td>\n      <td>0.099863</td>\n      <td>-2.054160</td>\n      <td>10.867630</td>\n      <td>fkh;cad</td>\n    </tr>\n    <tr>\n      <th>13</th>\n      <td>51</td>\n      <td>GO_Biological_Process_2018</td>\n      <td>maintenance of epithelial integrity, open trac...</td>\n      <td>1/13</td>\n      <td>0.033918</td>\n      <td>0.096253</td>\n      <td>0.048496</td>\n      <td>0.137624</td>\n      <td>-2.917242</td>\n      <td>9.871430</td>\n      <td>peb</td>\n    </tr>\n    <tr>\n      <th>14</th>\n      <td>53</td>\n      <td>GO_Biological_Process_2018</td>\n      <td>mucosal immune response (GO:0002385)</td>\n      <td>1/15</td>\n      <td>0.039034</td>\n      <td>0.096438</td>\n      <td>0.055236</td>\n      <td>0.138091</td>\n      <td>-3.008295</td>\n      <td>9.756836</td>\n      <td>bbg</td>\n    </tr>\n    <tr>\n      <th>15</th>\n      <td>56</td>\n      <td>GO_Biological_Process_2018</td>\n      <td>mitochondrion localization (GO:0051646)</td>\n      <td>1/13</td>\n      <td>0.033918</td>\n      <td>0.096253</td>\n      <td>0.048496</td>\n      <td>0.137624</td>\n      <td>-2.729206</td>\n      <td>9.235149</td>\n      <td>clu</td>\n    </tr>\n    <tr>\n      <th>16</th>\n      <td>59</td>\n      <td>GO_Biological_Process_2018</td>\n      <td>regulation of embryonic development (GO:0045995)</td>\n      <td>2/41</td>\n      <td>0.005288</td>\n      <td>0.052885</td>\n      <td>0.009986</td>\n      <td>0.099863</td>\n      <td>-1.719870</td>\n      <td>9.015945</td>\n      <td>nyo;neo</td>\n    </tr>\n    <tr>\n      <th>17</th>\n      <td>60</td>\n      <td>GO_Biological_Process_2018</td>\n      <td>negative regulation of JAK-STAT cascade (GO:00...</td>\n      <td>1/15</td>\n      <td>0.039034</td>\n      <td>0.096438</td>\n      <td>0.055236</td>\n      <td>0.138091</td>\n      <td>-2.762461</td>\n      <td>8.959520</td>\n      <td>peb</td>\n    </tr>\n    <tr>\n      <th>18</th>\n      <td>66</td>\n      <td>GO_Biological_Process_2018</td>\n      <td>actin-mediated cell contraction (GO:0070252)</td>\n      <td>2/19</td>\n      <td>0.001145</td>\n      <td>0.021063</td>\n      <td>0.002437</td>\n      <td>0.056164</td>\n      <td>-1.245711</td>\n      <td>8.436716</td>\n      <td>nyo;neo</td>\n    </tr>\n    <tr>\n      <th>19</th>\n      <td>77</td>\n      <td>GO_Biological_Process_2018</td>\n      <td>epithelial structure maintenance (GO:0010669)</td>\n      <td>1/18</td>\n      <td>0.046660</td>\n      <td>0.108873</td>\n      <td>0.065260</td>\n      <td>0.153985</td>\n      <td>-2.412483</td>\n      <td>7.393943</td>\n      <td>peb</td>\n    </tr>\n    <tr>\n      <th>20</th>\n      <td>78</td>\n      <td>GO_Biological_Process_2018</td>\n      <td>digestive tract development (GO:0048565)</td>\n      <td>2/51</td>\n      <td>0.008085</td>\n      <td>0.065304</td>\n      <td>0.014911</td>\n      <td>0.120436</td>\n      <td>-1.516602</td>\n      <td>7.306551</td>\n      <td>fkh;Abd-B</td>\n    </tr>\n    <tr>\n      <th>21</th>\n      <td>96</td>\n      <td>GO_Biological_Process_2018</td>\n      <td>terminal region determination (GO:0007362)</td>\n      <td>1/27</td>\n      <td>0.069182</td>\n      <td>0.126333</td>\n      <td>0.094720</td>\n      <td>0.174485</td>\n      <td>-2.239169</td>\n      <td>5.980849</td>\n      <td>peb</td>\n    </tr>\n    <tr>\n      <th>22</th>\n      <td>97</td>\n      <td>GO_Biological_Process_2018</td>\n      <td>negative regulation of JNK cascade (GO:0046329)</td>\n      <td>1/26</td>\n      <td>0.066706</td>\n      <td>0.123966</td>\n      <td>0.091492</td>\n      <td>0.171547</td>\n      <td>-2.152192</td>\n      <td>5.826984</td>\n      <td>peb</td>\n    </tr>\n    <tr>\n      <th>23</th>\n      <td>98</td>\n      <td>GO_Biological_Process_2018</td>\n      <td>germ-band shortening (GO:0007390)</td>\n      <td>1/22</td>\n      <td>0.056735</td>\n      <td>0.114561</td>\n      <td>0.078466</td>\n      <td>0.159979</td>\n      <td>-2.029148</td>\n      <td>5.822363</td>\n      <td>peb</td>\n    </tr>\n    <tr>\n      <th>24</th>\n      <td>103</td>\n      <td>GO_Biological_Process_2018</td>\n      <td>neuron projection extension (GO:1990138)</td>\n      <td>1/31</td>\n      <td>0.079024</td>\n      <td>0.131706</td>\n      <td>0.107525</td>\n      <td>0.179208</td>\n      <td>-2.096861</td>\n      <td>5.321852</td>\n      <td>tai</td>\n    </tr>\n    <tr>\n      <th>25</th>\n      <td>104</td>\n      <td>GO_Biological_Process_2018</td>\n      <td>pole cell migration (GO:0007280)</td>\n      <td>1/26</td>\n      <td>0.066706</td>\n      <td>0.123966</td>\n      <td>0.091492</td>\n      <td>0.171547</td>\n      <td>-1.954933</td>\n      <td>5.292913</td>\n      <td>Abd-B</td>\n    </tr>\n    <tr>\n      <th>26</th>\n      <td>105</td>\n      <td>GO_Biological_Process_2018</td>\n      <td>anatomical structure homeostasis (GO:0060249)</td>\n      <td>1/30</td>\n      <td>0.076573</td>\n      <td>0.131706</td>\n      <td>0.104340</td>\n      <td>0.179208</td>\n      <td>-2.041193</td>\n      <td>5.244872</td>\n      <td>tai</td>\n    </tr>\n    <tr>\n      <th>27</th>\n      <td>108</td>\n      <td>GO_Biological_Process_2018</td>\n      <td>neuroblast division (GO:0055057)</td>\n      <td>1/35</td>\n      <td>0.088763</td>\n      <td>0.138076</td>\n      <td>0.120154</td>\n      <td>0.186906</td>\n      <td>-2.080285</td>\n      <td>5.038005</td>\n      <td>clu</td>\n    </tr>\n    <tr>\n      <th>28</th>\n      <td>110</td>\n      <td>GO_Biological_Process_2018</td>\n      <td>positive regulation of cell-cell adhesion (GO:...</td>\n      <td>1/12</td>\n      <td>0.031349</td>\n      <td>0.095410</td>\n      <td>0.045109</td>\n      <td>0.137288</td>\n      <td>-1.397174</td>\n      <td>4.837814</td>\n      <td>peb</td>\n    </tr>\n    <tr>\n      <th>29</th>\n      <td>111</td>\n      <td>GO_Biological_Process_2018</td>\n      <td>positive regulation of cellular biosynthetic p...</td>\n      <td>1/33</td>\n      <td>0.083906</td>\n      <td>0.136323</td>\n      <td>0.113861</td>\n      <td>0.184757</td>\n      <td>-1.947225</td>\n      <td>4.825337</td>\n      <td>cad</td>\n    </tr>\n    <tr>\n      <th>30</th>\n      <td>115</td>\n      <td>GO_Biological_Process_2018</td>\n      <td>mitochondrial gene expression (GO:0140053)</td>\n      <td>2/94</td>\n      <td>0.025786</td>\n      <td>0.094414</td>\n      <td>0.044956</td>\n      <td>0.137288</td>\n      <td>-1.291310</td>\n      <td>4.723504</td>\n      <td>mRpL27;mRpL23</td>\n    </tr>\n    <tr>\n      <th>31</th>\n      <td>120</td>\n      <td>GO_Biological_Process_2018</td>\n      <td>mesoderm development (GO:0007498)</td>\n      <td>2/83</td>\n      <td>0.020449</td>\n      <td>0.093523</td>\n      <td>0.036041</td>\n      <td>0.137288</td>\n      <td>-1.169486</td>\n      <td>4.549095</td>\n      <td>Npc2g;Abd-B</td>\n    </tr>\n    <tr>\n      <th>32</th>\n      <td>121</td>\n      <td>GO_Biological_Process_2018</td>\n      <td>regulation of JAK-STAT cascade (GO:0046425)</td>\n      <td>1/29</td>\n      <td>0.074116</td>\n      <td>0.130792</td>\n      <td>0.101145</td>\n      <td>0.179208</td>\n      <td>-1.727218</td>\n      <td>4.494443</td>\n      <td>peb</td>\n    </tr>\n    <tr>\n      <th>33</th>\n      <td>122</td>\n      <td>GO_Biological_Process_2018</td>\n      <td>midgut development (GO:0007494)</td>\n      <td>1/31</td>\n      <td>0.079024</td>\n      <td>0.131706</td>\n      <td>0.107525</td>\n      <td>0.179208</td>\n      <td>-1.751000</td>\n      <td>4.444052</td>\n      <td>Abd-B</td>\n    </tr>\n    <tr>\n      <th>34</th>\n      <td>123</td>\n      <td>GO_Biological_Process_2018</td>\n      <td>asymmetric neuroblast division (GO:0055059)</td>\n      <td>1/34</td>\n      <td>0.086338</td>\n      <td>0.136323</td>\n      <td>0.117013</td>\n      <td>0.184757</td>\n      <td>-1.803426</td>\n      <td>4.417472</td>\n      <td>clu</td>\n    </tr>\n    <tr>\n      <th>35</th>\n      <td>124</td>\n      <td>GO_Biological_Process_2018</td>\n      <td>zygotic determination of anterior/posterior ax...</td>\n      <td>1/34</td>\n      <td>0.086338</td>\n      <td>0.136323</td>\n      <td>0.117013</td>\n      <td>0.184757</td>\n      <td>-1.801901</td>\n      <td>4.413736</td>\n      <td>peb</td>\n    </tr>\n    <tr>\n      <th>36</th>\n      <td>125</td>\n      <td>GO_Biological_Process_2018</td>\n      <td>regulation of cell death (GO:0010941)</td>\n      <td>1/37</td>\n      <td>0.093595</td>\n      <td>0.139396</td>\n      <td>0.126404</td>\n      <td>0.188261</td>\n      <td>-1.851454</td>\n      <td>4.385689</td>\n      <td>Rab32</td>\n    </tr>\n    <tr>\n      <th>37</th>\n      <td>126</td>\n      <td>GO_Biological_Process_2018</td>\n      <td>axon extension (GO:0048675)</td>\n      <td>1/36</td>\n      <td>0.091182</td>\n      <td>0.139396</td>\n      <td>0.123284</td>\n      <td>0.188261</td>\n      <td>-1.789350</td>\n      <td>4.285309</td>\n      <td>tai</td>\n    </tr>\n    <tr>\n      <th>38</th>\n      <td>129</td>\n      <td>GO_Biological_Process_2018</td>\n      <td>mitochondrial translation (GO:0032543)</td>\n      <td>2/94</td>\n      <td>0.025786</td>\n      <td>0.094414</td>\n      <td>0.044956</td>\n      <td>0.137288</td>\n      <td>-1.153893</td>\n      <td>4.220844</td>\n      <td>mRpL27;mRpL23</td>\n    </tr>\n    <tr>\n      <th>39</th>\n      <td>130</td>\n      <td>GO_Biological_Process_2018</td>\n      <td>torso signaling pathway (GO:0008293)</td>\n      <td>1/35</td>\n      <td>0.088763</td>\n      <td>0.138076</td>\n      <td>0.120154</td>\n      <td>0.186906</td>\n      <td>-1.726889</td>\n      <td>4.182156</td>\n      <td>peb</td>\n    </tr>\n    <tr>\n      <th>40</th>\n      <td>132</td>\n      <td>GO_Biological_Process_2018</td>\n      <td>ectoderm development (GO:0007398)</td>\n      <td>1/31</td>\n      <td>0.079024</td>\n      <td>0.131706</td>\n      <td>0.107525</td>\n      <td>0.179208</td>\n      <td>-1.632054</td>\n      <td>4.142166</td>\n      <td>peb</td>\n    </tr>\n    <tr>\n      <th>41</th>\n      <td>135</td>\n      <td>GO_Biological_Process_2018</td>\n      <td>positive regulation of growth (GO:0045927)</td>\n      <td>1/45</td>\n      <td>0.112671</td>\n      <td>0.160959</td>\n      <td>0.150978</td>\n      <td>0.217161</td>\n      <td>-1.871627</td>\n      <td>4.086283</td>\n      <td>tai</td>\n    </tr>\n    <tr>\n      <th>42</th>\n      <td>137</td>\n      <td>GO_Biological_Process_2018</td>\n      <td>Rab protein signal transduction (GO:0032482)</td>\n      <td>1/37</td>\n      <td>0.093595</td>\n      <td>0.139396</td>\n      <td>0.126404</td>\n      <td>0.188261</td>\n      <td>-1.713618</td>\n      <td>4.059187</td>\n      <td>Rab32</td>\n    </tr>\n    <tr>\n      <th>43</th>\n      <td>141</td>\n      <td>GO_Biological_Process_2018</td>\n      <td>positive regulation of Ras protein signal tran...</td>\n      <td>1/45</td>\n      <td>0.112671</td>\n      <td>0.160959</td>\n      <td>0.150978</td>\n      <td>0.217161</td>\n      <td>-1.612405</td>\n      <td>3.520329</td>\n      <td>RhoGEF64C</td>\n    </tr>\n    <tr>\n      <th>44</th>\n      <td>142</td>\n      <td>GO_Biological_Process_2018</td>\n      <td>border follicle cell migration (GO:0007298)</td>\n      <td>2/121</td>\n      <td>0.040942</td>\n      <td>0.099232</td>\n      <td>0.069798</td>\n      <td>0.155629</td>\n      <td>-1.094901</td>\n      <td>3.498864</td>\n      <td>bbg;tai</td>\n    </tr>\n    <tr>\n      <th>45</th>\n      <td>143</td>\n      <td>GO_Biological_Process_2018</td>\n      <td>regulation of multicellular organism growth (G...</td>\n      <td>1/47</td>\n      <td>0.117379</td>\n      <td>0.162168</td>\n      <td>0.157017</td>\n      <td>0.218368</td>\n      <td>-1.613033</td>\n      <td>3.455680</td>\n      <td>fkh</td>\n    </tr>\n    <tr>\n      <th>46</th>\n      <td>201</td>\n      <td>GO_Biological_Process_2018</td>\n      <td>post-embryonic appendage morphogenesis (GO:003...</td>\n      <td>1/161</td>\n      <td>0.348799</td>\n      <td>0.368079</td>\n      <td>0.440495</td>\n      <td>0.464844</td>\n      <td>-0.819029</td>\n      <td>0.862650</td>\n      <td>RhoGEF64C</td>\n    </tr>\n    <tr>\n      <th>47</th>\n      <td>202</td>\n      <td>GO_Biological_Process_2018</td>\n      <td>cell morphogenesis involved in neuron differen...</td>\n      <td>1/160</td>\n      <td>0.347055</td>\n      <td>0.368079</td>\n      <td>0.438466</td>\n      <td>0.464844</td>\n      <td>-0.802749</td>\n      <td>0.849527</td>\n      <td>peb</td>\n    </tr>\n  </tbody>\n</table>\n</div>"
     },
     "execution_count": 14,
     "metadata": {},
     "output_type": "execute_result"
    }
   ],
   "source": [
    "go_bp_results"
   ],
   "metadata": {
    "collapsed": false,
    "ExecuteTime": {
     "end_time": "2023-09-19T15:12:56.703350293Z",
     "start_time": "2023-09-19T15:12:56.677553144Z"
    }
   }
  },
  {
   "cell_type": "code",
   "execution_count": 15,
   "outputs": [
    {
     "name": "stdout",
     "output_type": "stream",
     "text": [
      "['mRpL23', 'peb', 'clu', 'tai', 'mRpL27', 'Npc2g', 'cad', 'neo', 'Abd-B', 'nyo', 'Dph5', 'fkh', 'RhoGEF64C', 'bbg', 'Rab32']\n"
     ]
    }
   ],
   "source": [
    "selected_genes = []\n",
    "for i in go_bp_results[\"Genes\"]:\n",
    "    selected_genes.extend([j for j in str(i).split(\";\")])\n",
    "selected_genes = list(set(selected_genes))\n",
    "print(selected_genes)"
   ],
   "metadata": {
    "collapsed": false,
    "ExecuteTime": {
     "end_time": "2023-09-19T15:12:57.720703438Z",
     "start_time": "2023-09-19T15:12:57.705147170Z"
    }
   }
  },
  {
   "cell_type": "code",
   "execution_count": 16,
   "outputs": [],
   "source": [
    "for gn in selected_genes:\n",
    "    _gn = str(gn).replace(\":\", \"_\") if \":\" in gn else gn\n",
    "    \n",
    "    out_image_genes = os.path.join(out_image_path, \"morpho_GO_genes\")\n",
    "    Path(out_image_genes).mkdir(parents=True, exist_ok=True)\n",
    "    \n",
    "    pc_index=germ_pc.point_data[\"obs_index\"].tolist()\n",
    "    exp = germ_adata[pc_index, gn].X.A.flatten()\n",
    "    exp[exp <= 0] = 0\n",
    "    \n",
    "    amap = exp.copy()\n",
    "    amap = amap / np.max(amap)\n",
    "    amap[amap <= 0.2] = 0.2\n",
    "    add_model_labels(model=germ_pc, labels=exp, key_added=gn, alphamap=amap, where=\"point_data\",inplace=True, colormap=\"afmhot_r\")\n",
    "    \n",
    "    st.pl.three_d_plot(\n",
    "        model=germ_pc,\n",
    "        key=gn,\n",
    "        model_style=\"points\",\n",
    "        model_size=14,\n",
    "        opacity=1,\n",
    "        colormap=None,\n",
    "        show_legend=True,\n",
    "        jupyter=False,\n",
    "        off_screen=True,\n",
    "        cpo=cpo,\n",
    "        window_size=(2560, 2048),\n",
    "        text=gn,\n",
    "        filename=os.path.join(out_image_genes, f\"{sample_id}_germband_GO_model_{_gn}.pdf\")\n",
    "    )"
   ],
   "metadata": {
    "collapsed": false,
    "ExecuteTime": {
     "end_time": "2023-09-19T15:13:24.411173372Z",
     "start_time": "2023-09-19T15:13:11.084525385Z"
    }
   }
  },
  {
   "cell_type": "code",
   "execution_count": null,
   "outputs": [],
   "source": [],
   "metadata": {
    "collapsed": false
   }
  }
 ],
 "metadata": {
  "kernelspec": {
   "display_name": "Python 3",
   "language": "python",
   "name": "python3"
  },
  "language_info": {
   "codemirror_mode": {
    "name": "ipython",
    "version": 2
   },
   "file_extension": ".py",
   "mimetype": "text/x-python",
   "name": "python",
   "nbconvert_exporter": "python",
   "pygments_lexer": "ipython2",
   "version": "2.7.6"
  }
 },
 "nbformat": 4,
 "nbformat_minor": 0
}
