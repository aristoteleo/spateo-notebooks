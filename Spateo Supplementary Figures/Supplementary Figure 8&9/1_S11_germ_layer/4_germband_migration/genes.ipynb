{
 "cells": [
  {
   "cell_type": "code",
   "execution_count": 1,
   "outputs": [
    {
     "name": "stderr",
     "output_type": "stream",
     "text": [
      "2023-09-18 21:38:24.740983: I tensorflow/core/util/port.cc:110] oneDNN custom operations are on. You may see slightly different numerical results due to floating-point round-off errors from different computation orders. To turn them off, set the environment variable `TF_ENABLE_ONEDNN_OPTS=0`.\n",
      "2023-09-18 21:38:24.763316: I tensorflow/core/platform/cpu_feature_guard.cc:182] This TensorFlow binary is optimized to use available CPU instructions in performance-critical operations.\n",
      "To enable the following instructions: AVX2 AVX_VNNI FMA, in other operations, rebuild TensorFlow with the appropriate compiler flags.\n",
      "2023-09-18 21:38:25.108151: W tensorflow/compiler/tf2tensorrt/utils/py_utils.cc:38] TF-TRT Warning: Could not find TensorRT\n"
     ]
    }
   ],
   "source": [
    "import os, warnings\n",
    "from pathlib import Path\n",
    "\n",
    "import anndata as ad\n",
    "import numpy as np\n",
    "import dynamo as dyn\n",
    "import spateo as st\n",
    "import scanpy as sc\n",
    "import pandas as pd\n",
    "import seaborn as sns\n",
    "import matplotlib.pyplot as plt\n",
    "warnings.filterwarnings('ignore')"
   ],
   "metadata": {
    "collapsed": false,
    "ExecuteTime": {
     "end_time": "2023-09-18T13:38:27.102050779Z",
     "start_time": "2023-09-18T13:38:22.284450901Z"
    }
   },
   "id": "7386cb83eb1132e2"
  },
  {
   "cell_type": "code",
   "execution_count": 2,
   "outputs": [],
   "source": [
    "from typing import Optional, Tuple, Union\n",
    "\n",
    "import matplotlib as mpl\n",
    "import numpy as np\n",
    "from pyvista import PolyData, UniformGrid, UnstructuredGrid\n",
    "\n",
    "try:\n",
    "    from typing import Literal\n",
    "except ImportError:\n",
    "    from typing_extensions import Literal\n",
    "\n",
    "\n",
    "def add_model_labels(\n",
    "        model: Union[PolyData, UnstructuredGrid, UniformGrid],\n",
    "        labels: np.ndarray,\n",
    "        key_added: str = \"groups\",\n",
    "        where: Literal[\"point_data\", \"cell_data\"] = \"cell_data\",\n",
    "        colormap: Union[str, list, dict, np.ndarray] = \"rainbow\",\n",
    "        alphamap: Union[float, list, dict, np.ndarray] = 1.0,\n",
    "        mask_color: Optional[str] = \"gainsboro\",\n",
    "        mask_alpha: Optional[float] = 0.0,\n",
    "        inplace: bool = False,\n",
    ") -> Tuple[Optional[PolyData or UnstructuredGrid], Optional[Union[str]]]:\n",
    "    model = model.copy() if not inplace else model\n",
    "    labels = np.asarray(labels).flatten()\n",
    "\n",
    "    cu_arr = np.sort(np.unique(labels), axis=0).astype(object)\n",
    "    raw_labels_hex = labels.copy().astype(object)\n",
    "    raw_labels_alpha = labels.copy().astype(object)\n",
    "    raw_labels_hex[raw_labels_hex == \"mask\"] = mpl.colors.to_hex(mask_color)\n",
    "    raw_labels_alpha[raw_labels_alpha == \"mask\"] = mask_alpha\n",
    "\n",
    "    # Set raw hex.\n",
    "    if isinstance(colormap, str):\n",
    "        if colormap in list(mpl.colormaps()):\n",
    "            lscmap = mpl.cm.get_cmap(colormap)\n",
    "            raw_hex_list = [mpl.colors.to_hex(lscmap(i)) for i in np.linspace(0, 1, len(cu_arr))]\n",
    "            for label, color in zip(cu_arr, raw_hex_list):\n",
    "                raw_labels_hex[raw_labels_hex == label] = color\n",
    "        else:\n",
    "            raw_labels_hex[raw_labels_hex != \"mask\"] = mpl.colors.to_hex(colormap)\n",
    "    elif isinstance(colormap, dict):\n",
    "        for label, color in colormap.items():\n",
    "            raw_labels_hex[raw_labels_hex == label] = mpl.colors.to_hex(color)\n",
    "    elif isinstance(colormap, list) or isinstance(colormap, np.ndarray):\n",
    "        raw_hex_list = np.array([mpl.colors.to_hex(color) for color in colormap]).astype(object)\n",
    "        for label, color in zip(cu_arr, raw_hex_list):\n",
    "            raw_labels_hex[raw_labels_hex == label] = color\n",
    "    else:\n",
    "        raise ValueError(\"`colormap` value is wrong.\" \"\\nAvailable `colormap` types are: `str`, `list` and `dict`.\")\n",
    "\n",
    "    # Set raw alpha.\n",
    "    if isinstance(alphamap, float) or isinstance(alphamap, int):\n",
    "        raw_labels_alpha[raw_labels_alpha != \"mask\"] = alphamap\n",
    "    elif isinstance(alphamap, dict):\n",
    "        for label, alpha in alphamap.items():\n",
    "            raw_labels_alpha[raw_labels_alpha == label] = alpha\n",
    "    elif isinstance(alphamap, list) or isinstance(alphamap, np.ndarray):\n",
    "        raw_labels_alpha = np.asarray(alphamap).astype(object)\n",
    "    else:\n",
    "        raise ValueError(\n",
    "            \"`alphamap` value is wrong.\" \"\\nAvailable `alphamap` types are: `float`, `list` and `dict`.\"\n",
    "        )\n",
    "\n",
    "    # Set rgba.\n",
    "    labels_rgba = [mpl.colors.to_rgba(c, alpha=a) for c, a in zip(raw_labels_hex, raw_labels_alpha)]\n",
    "    labels_rgba = np.array(labels_rgba).astype(np.float32)\n",
    "\n",
    "    # Added rgba of the labels.\n",
    "    if where == \"point_data\":\n",
    "        model.point_data[f\"{key_added}_rgba\"] = labels_rgba\n",
    "    else:\n",
    "        model.cell_data[f\"{key_added}_rgba\"] = labels_rgba\n",
    "\n",
    "    plot_cmap = None\n",
    "\n",
    "    # Added labels.\n",
    "    if where == \"point_data\":\n",
    "        model.point_data[key_added] = labels\n",
    "    else:\n",
    "        model.cell_data[key_added] = labels\n",
    "\n",
    "    return model if not inplace else None, plot_cmap"
   ],
   "metadata": {
    "collapsed": false,
    "ExecuteTime": {
     "end_time": "2023-09-18T13:38:27.138943598Z",
     "start_time": "2023-09-18T13:38:27.105156331Z"
    }
   },
   "id": "a3c28a951c054d4e"
  },
  {
   "cell_type": "markdown",
   "source": [
    "## Load the data"
   ],
   "metadata": {
    "collapsed": false
   },
   "id": "f5ed5390c53ee5e7"
  },
  {
   "cell_type": "code",
   "execution_count": 4,
   "outputs": [],
   "source": [
    "sample_id = \"E7_8h\"\n",
    "os.chdir(f\"/media/pc001/Yao/Projects/Project_drosophila/Data_v4/migration-hotspot/drosophila_{sample_id}_germ_layer_new\")\n",
    "cpo = [(41, 1209, 57), (13, 8, -3), (0, 0, 1)]\n",
    "\n",
    "out_image_path = f\"image/reference_genes\"\n",
    "Path(out_image_path).mkdir(parents=True, exist_ok=True)"
   ],
   "metadata": {
    "collapsed": false,
    "ExecuteTime": {
     "end_time": "2023-09-18T13:38:59.371215938Z",
     "start_time": "2023-09-18T13:38:59.327348687Z"
    }
   },
   "id": "fdf3112dbd14471"
  },
  {
   "cell_type": "code",
   "execution_count": 5,
   "outputs": [
    {
     "data": {
      "text/plain": "AnnData object with n_obs × n_vars = 12585 × 8120\n    obs: 'area', 'slices', 'anno_cell_type', 'anno_tissue', 'anno_germ_layer', 'actual_stage', 'scc', 'anno_tissue_new', 'V_z', 'anno_germ_layer_new', 'backbone_nodes', 'backbone_scc', 'segments', 'morpho_acceleration', 'morpho_curvature', 'morpho_curl', 'morpho_torsion'\n    uns: 'VecFld_morpho', 'glm_degs', 'log1p', 'pp'\n    obsm: '2d_realign_spatial', '3d_align_spatial', 'V_cells_mapping', 'X_cells_mapping', 'X_pca', 'X_umap', 'morpho_acceleration', 'morpho_curl', 'morpho_curvature', 'morpho_velocity', 'raw_spatial', 'tdr_spatial'\n    layers: 'X_counts', 'spliced', 'unspliced'"
     },
     "execution_count": 5,
     "metadata": {},
     "output_type": "execute_result"
    }
   ],
   "source": [
    "germ_adata = st.read_h5ad(f\"h5ad/{sample_id}_germband_v4.h5ad\")\n",
    "\n",
    "germ_pc = st.tdr.read_model(f\"morpho_models/germband_morphometrics_pc_model.vtk\")\n",
    "germ_mesh = st.tdr.read_model(f\"morpho_models/germband_morphometrics_mesh_model.vtk\")\n",
    "trajectory_model = st.tdr.read_model(f\"morpho_models/germband_morphofield_trajectory_model.vtk\")\n",
    "germ_adata"
   ],
   "metadata": {
    "collapsed": false,
    "ExecuteTime": {
     "end_time": "2023-09-18T13:39:12.596308166Z",
     "start_time": "2023-09-18T13:39:00.556010015Z"
    }
   },
   "id": "d966e639dd009ea6"
  },
  {
   "cell_type": "code",
   "execution_count": 6,
   "outputs": [
    {
     "name": "stdout",
     "output_type": "stream",
     "text": [
      "WARNING: adata.X seems to be already log-transformed.\n"
     ]
    }
   ],
   "source": [
    "germ_adata.X= germ_adata.layers[\"X_counts\"].copy()\n",
    "sc.pp.normalize_total(germ_adata)\n",
    "sc.pp.log1p(germ_adata)"
   ],
   "metadata": {
    "collapsed": false,
    "ExecuteTime": {
     "end_time": "2023-09-18T13:39:12.647047183Z",
     "start_time": "2023-09-18T13:39:12.591239129Z"
    }
   },
   "id": "58c5f3ed31c0f0e4"
  },
  {
   "cell_type": "code",
   "execution_count": 10,
   "outputs": [],
   "source": [
    "# GNs = [\"Rab30\", \"rhea\", \"Mtl\", \"srp\", \"raw\", \"peb\", \"ecd\", \"EcR\", \"Egfr\", \"ush\", \"Rac2\", \"Rac1\", \"tup\", \"yrt\", \"POSH\", \"sr\", \"InR\", \"ena\"]\n",
    "# GNs = [\"CG4440\", \"CG8407\", \"CG14989\", \"lncRNA:CR30009\", \"CG42394\", \"lncRNA:CR45388\"]\n",
    "GNs = ['Cdc42', 'Rac1', 'Rac2']\n",
    "for gn in GNs:\n",
    "    _gn = str(gn).replace(\":\", \"_\") if \":\" in gn else gn\n",
    "    pc_index=germ_pc.point_data[\"obs_index\"].tolist()\n",
    "    exp = germ_adata[pc_index, gn].X.A.flatten()\n",
    "    exp[exp <= 0] = 0\n",
    "    \n",
    "    amap = exp.copy()\n",
    "    amap = amap / np.max(amap)\n",
    "    amap[amap <= 0.2] = 0.2\n",
    "    add_model_labels(model=germ_pc, labels=exp, key_added=gn, alphamap=amap, where=\"point_data\",inplace=True, colormap=\"afmhot_r\")\n",
    "    \n",
    "    st.pl.three_d_plot(\n",
    "        model=germ_pc,\n",
    "        key=gn,\n",
    "        model_style=\"points\",\n",
    "        model_size=14,\n",
    "        opacity=1,\n",
    "        colormap=None,\n",
    "        show_legend=True,\n",
    "        jupyter=False,\n",
    "        cpo=cpo,\n",
    "        window_size=(2560, 2048),\n",
    "        text=gn,\n",
    "        # filename=os.path.join(out_image_genes, f\"{sample_id}_germ_layer_{_gn}.pdf\")\n",
    "    )"
   ],
   "metadata": {
    "collapsed": false,
    "ExecuteTime": {
     "end_time": "2023-09-18T13:46:50.512404479Z",
     "start_time": "2023-09-18T13:45:27.382254655Z"
    }
   },
   "id": "f06efb95391a6040"
  },
  {
   "cell_type": "code",
   "execution_count": null,
   "outputs": [],
   "source": [],
   "metadata": {
    "collapsed": false
   },
   "id": "b63ec0f21dbd0ca1"
  }
 ],
 "metadata": {
  "kernelspec": {
   "display_name": "Python 3",
   "language": "python",
   "name": "python3"
  },
  "language_info": {
   "codemirror_mode": {
    "name": "ipython",
    "version": 2
   },
   "file_extension": ".py",
   "mimetype": "text/x-python",
   "name": "python",
   "nbconvert_exporter": "python",
   "pygments_lexer": "ipython2",
   "version": "2.7.6"
  }
 },
 "nbformat": 4,
 "nbformat_minor": 5
}
