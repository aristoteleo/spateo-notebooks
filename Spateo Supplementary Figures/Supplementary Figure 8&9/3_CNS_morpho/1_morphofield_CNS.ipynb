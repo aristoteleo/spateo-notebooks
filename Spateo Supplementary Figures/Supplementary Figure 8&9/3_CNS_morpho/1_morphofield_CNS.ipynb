{
 "cells": [
  {
   "cell_type": "markdown",
   "source": [
    "# Vector fields and developmental trajectories of tissue development in three-dimensional space"
   ],
   "metadata": {
    "collapsed": false
   }
  },
  {
   "cell_type": "code",
   "source": [
    "import os, warnings\n",
    "from pathlib import Path\n",
    "\n",
    "import numpy as np\n",
    "import dynamo as dyn\n",
    "import spateo as st\n",
    "import scanpy as sc\n",
    "warnings.filterwarnings('ignore')"
   ],
   "metadata": {
    "collapsed": false,
    "ExecuteTime": {
     "end_time": "2024-05-11T15:30:48.687307Z",
     "start_time": "2024-05-11T15:30:47.300668Z"
    }
   },
   "execution_count": 2,
   "outputs": []
  },
  {
   "cell_type": "markdown",
   "source": [
    "## Load the data"
   ],
   "metadata": {
    "collapsed": false
   }
  },
  {
   "cell_type": "code",
   "source": [
    "sample_id = \"E7_8h\"\n",
    "os.chdir(f\"/media/pc001/Yao/Projects/Project_spateo/mouse_heart/figure6\")\n",
    "cpo = [(41, 1209, 57), (13, 8, -3), (0, 0, 1)]\n",
    "\n",
    "out_h5ad_path = f\"droso_{sample_id}_CNS_morpho/h5ad\"\n",
    "out_image_path = f\"droso_{sample_id}_CNS_morpho/image/CNS_morphofield\"\n",
    "Path(out_h5ad_path).mkdir(parents=True, exist_ok=True)\n",
    "Path(out_image_path).mkdir(parents=True, exist_ok=True)"
   ],
   "metadata": {
    "collapsed": false,
    "ExecuteTime": {
     "end_time": "2024-05-11T15:30:48.690697Z",
     "start_time": "2024-05-11T15:30:48.688396Z"
    }
   },
   "execution_count": 3,
   "outputs": []
  },
  {
   "metadata": {
    "ExecuteTime": {
     "end_time": "2024-05-11T15:30:59.089939Z",
     "start_time": "2024-05-11T15:30:49.031432Z"
    }
   },
   "cell_type": "code",
   "source": [
    "germ_adata = st.read_h5ad(f\"/media/pc001/Yao/Projects/Project_drosophila/Data_v4/migration-hotspot/drosophila_E7_8h_germ_layer_new/h5ad/{sample_id}_germband_v3.h5ad\")\n",
    "tissue_adata = germ_adata[germ_adata.obs[\"anno_tissue_new\"] == \"CNS\", :]\n",
    "tissue_adata.X = tissue_adata.layers[\"X_counts\"].copy()\n",
    "tissue_adata = tissue_adata[tissue_adata.X.sum(axis=1)!=0, tissue_adata.X.sum(axis=0)!=0]\n",
    "tissue_adata"
   ],
   "execution_count": 4,
   "outputs": []
  },
  {
   "cell_type": "code",
   "source": [
    "tissue_pc, _ = st.tdr.construct_pc(\n",
    "    adata=tissue_adata.copy(),\n",
    "    spatial_key=\"3d_align_spatial\",\n",
    "    groupby=\"anno_tissue_new\",\n",
    "    key_added=\"tissue\",\n",
    "    colormap={\"amnioserosa\": \"#bdcf32\", \"CNS\": \"#ea5545\", \"hindgut\": \"#27aeef\", \"midgut\": \"#87bc45\", \"muscle\": \"#f46a9b\", \"salivary gland\": \"#ef9b20\",},\n",
    ")"
   ],
   "metadata": {
    "collapsed": false,
    "ExecuteTime": {
     "end_time": "2024-05-11T15:30:59.249348Z",
     "start_time": "2024-05-11T15:30:59.090622Z"
    }
   },
   "execution_count": 5,
   "outputs": []
  },
  {
   "cell_type": "markdown",
   "source": [
    "## Check mapping result"
   ],
   "metadata": {
    "collapsed": false
   }
  },
  {
   "cell_type": "code",
   "source": [
    "stage2_germ_adata = st.read_h5ad(f\"/media/pc001/Yao/Projects/Project_drosophila/Data_v4/migration-hotspot/drosophila_E8_9h_germ_layer/h5ad/E8_9h_germ_layer_v3.h5ad\")\n",
    "stage2_tissue_adata = stage2_germ_adata[stage2_germ_adata.obs[\"anno_tissue_new\"] == \"CNS\", :]\n",
    "stage2_tissue_adata.X = stage2_tissue_adata.layers[\"X_counts\"].copy()\n",
    "stage2_tissue_pc, _ = st.tdr.construct_pc(\n",
    "    adata=stage2_tissue_adata.copy(),\n",
    "    spatial_key=\"3d_align_spatial\",\n",
    "    groupby=\"anno_tissue_new\",\n",
    "    key_added=\"tissue\",\n",
    "    colormap={\"amnioserosa\": \"#bdcf32\", \"CNS\": \"#ea5545\", \"hindgut\": \"#27aeef\", \"midgut\": \"#87bc45\", \"muscle\": \"#f46a9b\", \"salivary gland\": \"#ef9b20\",},\n",
    ")\n",
    "models_distance = np.asarray([0, 0, -260])\n",
    "stage2_tissue_pc.points = stage2_tissue_pc.points + models_distance\n",
    "stage2_tissue_adata"
   ],
   "metadata": {
    "collapsed": false,
    "ExecuteTime": {
     "end_time": "2024-05-11T07:26:13.238832Z",
     "start_time": "2024-05-11T07:26:11.795226Z"
    }
   },
   "execution_count": 26,
   "outputs": []
  },
  {
   "cell_type": "code",
   "source": [
    "model_lines, _ = st.tdr.construct_align_lines(\n",
    "            model1_points=tissue_adata.obsm[\"3d_align_spatial\"].copy(),\n",
    "            model2_points=tissue_adata.obsm[\"X_cells_mapping\"] + models_distance,\n",
    "            key_added=\"mapping\",\n",
    "            label=\"lines\",\n",
    "            color=\"gainsboro\",\n",
    "            alpha=1.0,\n",
    "        )\n",
    "\n",
    "mapping_cpo = [(18, 1370, -141),(-1.8, 5.8, -156.8), (0, 0, 1)]\n",
    "st.pl.three_d_plot(\n",
    "        model=st.tdr.collect_models([model_lines, st.tdr.merge_models([tissue_pc, stage2_tissue_pc])]),\n",
    "        key=[\"mapping\", \"tissue\"],\n",
    "        jupyter=\"static\",\n",
    "        cpo=mapping_cpo,\n",
    "        background=\"white\",\n",
    "        window_size=(2560, 2048),\n",
    "        opacity=[0.1, 1],\n",
    "        model_style=[\"wireframe\", \"points\"],\n",
    "        model_size=[2, 16],\n",
    "        filename=os.path.join(out_image_path, f\"E7-8h-E8-9h_CNS_mapping_z_model_260.pdf\"),\n",
    "    )"
   ],
   "metadata": {
    "collapsed": false,
    "ExecuteTime": {
     "end_time": "2024-05-11T07:26:14.322176Z",
     "start_time": "2024-05-11T07:26:13.239503Z"
    }
   },
   "execution_count": 27,
   "outputs": []
  },
  {
   "cell_type": "markdown",
   "source": [
    "## Calculate the developmental Vectorfield"
   ],
   "metadata": {
    "collapsed": false
   }
  },
  {
   "cell_type": "code",
   "source": [
    "st.tdr.morphofield_sparsevfc(\n",
    "    adata=tissue_adata,\n",
    "    spatial_key=\"3d_align_spatial\",\n",
    "    V_key=\"V_cells_mapping\",\n",
    "    key_added=\"VecFld_morpho\",\n",
    "    NX=np.asarray(tissue_adata.obsm['3d_align_spatial']),\n",
    "    inplace=True,\n",
    ")\n",
    "\n",
    "tissue_pc.point_data[\"vectors\"] = tissue_adata.uns[\"VecFld_morpho\"][\"V\"]"
   ],
   "metadata": {
    "collapsed": false,
    "ExecuteTime": {
     "end_time": "2024-05-11T15:31:15.776906Z",
     "start_time": "2024-05-11T15:31:15.544654Z"
    }
   },
   "execution_count": 6,
   "outputs": []
  },
  {
   "cell_type": "code",
   "source": [
    "for i, k in zip([0, 2], [\"V_x\", \"V_z\"]):\n",
    "    vector_arrows1,_ = st.tdr.construct_field(\n",
    "        model=tissue_pc,\n",
    "        vf_key=\"vectors\",\n",
    "        arrows_scale_key=\"vectors\",\n",
    "        n_sampling=None,\n",
    "        factor=3000,\n",
    "        key_added=k,\n",
    "        label=tissue_pc.point_data[\"vectors\"][:, i].flatten(),\n",
    "        color= \"rainbow\",\n",
    "    )\n",
    "    st.pl.three_d_plot(\n",
    "        model=st.tdr.collect_models([tissue_pc, vector_arrows1]),\n",
    "        key=[\"tissue\", k],\n",
    "        colormap=[\"gainsboro\", \"Spectral\"],\n",
    "        opacity=[0.2, 1],\n",
    "        model_style=[\"points\", \"surface\"],\n",
    "        model_size=[16, 5],\n",
    "        jupyter=\"static\",\n",
    "        background=\"white\",\n",
    "        window_size=(2560, 2048),\n",
    "        cpo=cpo,\n",
    "        filename=os.path.join(out_image_path, f\"CNS_morphofield_vector_arrows_pc_model_{k}.pdf\")\n",
    "    )"
   ],
   "metadata": {
    "collapsed": false,
    "ExecuteTime": {
     "end_time": "2024-05-11T07:25:54.559203Z",
     "start_time": "2024-05-11T07:25:52.993982Z"
    }
   },
   "execution_count": 24,
   "outputs": []
  },
  {
   "cell_type": "markdown",
   "source": [
    "## Predict the cell developmentalal trajectory"
   ],
   "metadata": {
    "collapsed": false
   }
  },
  {
   "cell_type": "code",
   "source": [
    "st.tdr.morphopath(\n",
    "    adata=tissue_adata,\n",
    "    # layer=\"log1p_X\",\n",
    "    vf_key=\"VecFld_morpho\",\n",
    "    key_added=\"fate_morpho\",\n",
    "    t_end=5000,\n",
    "    interpolation_num=50,\n",
    "    cores=20\n",
    ")"
   ],
   "metadata": {
    "collapsed": false,
    "ExecuteTime": {
     "end_time": "2024-05-11T07:16:49.329963Z",
     "start_time": "2024-05-11T07:14:35.815873Z"
    }
   },
   "execution_count": 6,
   "outputs": []
  },
  {
   "cell_type": "code",
   "source": [
    "trajectory_model, _ = st.tdr.construct_trajectory(\n",
    "    adata=tissue_adata,\n",
    "    fate_key=\"fate_morpho\",\n",
    "    n_sampling=1000,\n",
    "    sampling_method=\"trn\",\n",
    "    key_added=\"obs_index\",\n",
    "    label=np.asarray(tissue_adata.obs.index), # stage1_tissue_adata.uns[\"VecFld_morpho\"][\"V\"][:, 2].flatten(),\n",
    ")\n",
    "for i, k in zip([0, 2], [\"V_x\", \"V_z\"]):\n",
    "    tissue_adata.obs[k] = tissue_adata.uns[\"VecFld_morpho\"][\"V\"][:, i].flatten()\n",
    "    st.tdr.add_model_labels(\n",
    "        model=trajectory_model,\n",
    "        key_added=k,\n",
    "        labels=np.asarray(tissue_adata[np.asarray(trajectory_model.point_data[\"obs_index\"])].obs[k]),\n",
    "        colormap=\"Spectral\",\n",
    "        where=\"point_data\",\n",
    "        inplace=True,\n",
    "    )\n",
    "    st.pl.three_d_plot(\n",
    "        model=st.tdr.collect_models([tissue_pc, trajectory_model]),\n",
    "        key=[\"tissue\", k],\n",
    "        opacity=[0.2, .5],\n",
    "        model_style=[\"points\", \"wireframe\"],\n",
    "        model_size=[16, 5],\n",
    "        colormap=[\"gainsboro\", \"Spectral\"],\n",
    "        jupyter=\"static\",\n",
    "        background=\"white\",\n",
    "        window_size=(2560, 2048),\n",
    "        cpo=cpo,\n",
    "        filename=os.path.join(out_image_path, f\"CNS_morphofield_trajectory_pc_model_{k}.pdf\")\n",
    "    )"
   ],
   "metadata": {
    "collapsed": false,
    "ExecuteTime": {
     "end_time": "2024-05-11T07:25:35.561054Z",
     "start_time": "2024-05-11T07:25:34.265110Z"
    }
   },
   "execution_count": 23,
   "outputs": []
  },
  {
   "cell_type": "markdown",
   "source": [
    "## Animating cell fate prediction"
   ],
   "metadata": {
    "collapsed": false
   }
  },
  {
   "cell_type": "code",
   "source": [
    "cells_models, _ = st.tdr.construct_genesis(\n",
    "    adata=tissue_adata,\n",
    "    fate_key=\"fate_morpho\",\n",
    "    n_steps = 100,\n",
    "    logspace=True,\n",
    "    t_end=4000,\n",
    "    label=[tissue_adata.uns[\"VecFld_morpho\"][\"V\"][:, 0]] * 100,\n",
    "    color=\"Spectral\"\n",
    ")\n",
    "st.pl.three_d_animate(\n",
    "    models=cells_models,\n",
    "    stable_model=trajectory_model,\n",
    "    key=\"genesis\",\n",
    "    stable_kwargs=dict(\n",
    "        key=\"V_x\",\n",
    "        model_style=\"wireframe\",\n",
    "        model_size=5,\n",
    "        opacity=0.5,\n",
    "        colormap=\"Spectral\",\n",
    "        show_legend=False,\n",
    "    ),\n",
    "    filename=os.path.join(out_image_path, f\"CNS_morphofield_trajectory_model.mp4\"),\n",
    "    colormap=\"Spectral\",\n",
    "    model_style=\"points\",\n",
    "    model_size=16,\n",
    "    jupyter=\"static\",\n",
    "    background=\"white\",\n",
    "    window_size=(2560, 2048),\n",
    "    cpo=cpo,\n",
    "    framerate=10)"
   ],
   "metadata": {
    "collapsed": false,
    "ExecuteTime": {
     "end_time": "2024-05-10T15:21:36.274934Z",
     "start_time": "2024-05-10T15:21:07.065318Z"
    }
   },
   "execution_count": 11,
   "outputs": []
  },
  {
   "cell_type": "code",
   "source": [
    "cells_linear_models, _ = st.tdr.construct_genesis_X(\n",
    "    stages_X=[tissue_adata.obsm[\"3d_align_spatial\"], tissue_adata.obsm[\"X_cells_mapping\"]],\n",
    "    n_spacing=100,\n",
    "    key_added=\"genesis\",\n",
    "    color=\"Spectral\", \n",
    "    label=[tissue_adata.uns[\"VecFld_morpho\"][\"V\"][:, 0]] * (100 + 1),\n",
    ")\n",
    "st.pl.three_d_animate(\n",
    "    models=cells_linear_models,\n",
    "    stable_model=trajectory_model,\n",
    "    key=\"genesis\",\n",
    "    stable_kwargs=dict(\n",
    "        key=\"V_x\",\n",
    "        model_style=\"wireframe\",\n",
    "        model_size=5,\n",
    "        opacity=0.5,\n",
    "        colormap=\"Spectral\",\n",
    "        show_legend=False,\n",
    "    ),\n",
    "    filename=os.path.join(out_image_path, f\"CNS_morphofield_trajectory_model_linear.mp4\"),\n",
    "    model_style=\"points\",\n",
    "    model_size=16,\n",
    "    colormap=\"Spectral\",\n",
    "    jupyter=\"static\",\n",
    "    background=\"white\",\n",
    "    window_size=(2560, 2048),\n",
    "    cpo=cpo,\n",
    "    framerate=10)"
   ],
   "metadata": {
    "collapsed": false,
    "ExecuteTime": {
     "end_time": "2024-05-10T15:21:41.532229Z",
     "start_time": "2024-05-10T15:21:36.275819Z"
    }
   },
   "execution_count": 12,
   "outputs": []
  },
  {
   "metadata": {},
   "cell_type": "markdown",
   "source": "## Segments of CNS"
  },
  {
   "metadata": {
    "ExecuteTime": {
     "end_time": "2024-05-11T07:23:40.684145Z",
     "start_time": "2024-05-11T07:23:39.691125Z"
    }
   },
   "cell_type": "code",
   "source": [
    "germ_pc, _ = st.tdr.construct_pc(\n",
    "    adata=germ_adata.copy(),\n",
    "    spatial_key=\"3d_align_spatial\",\n",
    "    groupby=\"segments\",\n",
    "    key_added=\"segments\",\n",
    "    colormap=\"Spectral\",\n",
    ")\n",
    "st.pl.three_d_plot(\n",
    "        model=st.tdr.collect_models([tissue_pc, germ_pc]),\n",
    "        key=[\"tissue\", \"segments\"],\n",
    "        opacity=[0.8, .1],\n",
    "        model_style=[\"points\", \"points\"],\n",
    "        model_size=[16, 20],\n",
    "        colormap=[None, \"Spectral\"],\n",
    "        jupyter=\"static\",\n",
    "        background=\"white\",\n",
    "        window_size=(2560, 2048),\n",
    "        cpo=cpo,\n",
    "        filename=os.path.join(out_image_path, f\"CNS_segments_background_pc_model.pdf\")\n",
    "    )"
   ],
   "execution_count": 21,
   "outputs": []
  },
  {
   "metadata": {
    "ExecuteTime": {
     "end_time": "2024-05-11T07:23:32.970321Z",
     "start_time": "2024-05-11T07:23:32.396Z"
    }
   },
   "cell_type": "code",
   "source": [
    "pc_index = tissue_pc.point_data[\"obs_index\"].tolist()\n",
    "st.tdr.add_model_labels(model=tissue_pc, labels=tissue_adata.obs.loc[pc_index, \"segments\"], key_added=\"segments\", where=\"point_data\", colormap=\"Spectral\", inplace=True)\n",
    "st.pl.three_d_plot(\n",
    "        model=tissue_pc,\n",
    "        key=\"segments\",\n",
    "        opacity=1,\n",
    "        model_style=\"points\",\n",
    "        model_size=16,\n",
    "        colormap=\"Spectral\",\n",
    "        jupyter=\"static\",\n",
    "        background=\"white\",\n",
    "        window_size=(2560, 2048),\n",
    "        cpo=cpo,\n",
    "        filename=os.path.join(out_image_path, f\"CNS_segments_pc_model.pdf\")\n",
    "    )"
   ],
   "execution_count": 20,
   "outputs": []
  },
  {
   "metadata": {
    "ExecuteTime": {
     "end_time": "2024-05-11T15:31:36.490409Z",
     "start_time": "2024-05-11T15:31:36.371235Z"
    }
   },
   "cell_type": "code",
   "source": [
    "morphometrics_keys = [\"morpho_acceleration\"]\n",
    "st.tdr.morphofield_velocity(adata=tissue_adata, vf_key=\"VecFld_morpho\", key_added=\"morpho_velocity\", inplace=True)\n",
    "st.tdr.morphofield_acceleration(adata=tissue_adata, vf_key=\"VecFld_morpho\", key_added=\"morpho_acceleration\", inplace=True)\n",
    "tissue_adata"
   ],
   "execution_count": 7,
   "outputs": []
  },
  {
   "metadata": {
    "ExecuteTime": {
     "end_time": "2024-05-11T10:07:38.707189Z",
     "start_time": "2024-05-11T10:07:37.507704Z"
    }
   },
   "cell_type": "code",
   "source": [
    "for mk in morphometrics_keys:\n",
    "    #tissue_adata.obs[mk] = tissue_adata.obs[mk].map(lambda x: 7e-7 if x >= 7e-7 else x)\n",
    "    #tissue_adata.obs[mk] = tissue_adata.obs[mk].map(lambda x: 1e-7 if x <= 1e-7 else x)\n",
    "    st.tdr.add_model_labels(\n",
    "        model = trajectory_model,\n",
    "        key_added = mk,\n",
    "        labels = np.asarray(tissue_adata[np.asarray(trajectory_model.point_data[\"obs_index\"])].obs[mk]),\n",
    "        colormap = \"afmhot_r\",\n",
    "        where = \"point_data\",\n",
    "        inplace = True,\n",
    "        )\n",
    "    st.tdr.add_model_labels(\n",
    "        model = tissue_pc,\n",
    "        key_added = mk,\n",
    "        labels = np.asarray(tissue_adata[np.asarray(tissue_pc.point_data[\"obs_index\"])].obs[mk]),\n",
    "        colormap = \"afmhot_r\",\n",
    "        where = \"point_data\",\n",
    "        inplace = True,\n",
    "    )\n",
    "    \n",
    "    st.pl.three_d_plot(\n",
    "        model = st.tdr.collect_models([tissue_pc, trajectory_model]),\n",
    "        key = [mk, mk],\n",
    "        model_style = [\"points\", \"wireframe\"],\n",
    "        model_size = [16, 5],\n",
    "        opacity = [0.2, 0.5],\n",
    "        colormap = [\"afmhot_r\", \"afmhot_r\"],\n",
    "        show_legend = True,\n",
    "        jupyter = \"static\",\n",
    "        background = \"white\",\n",
    "        cpo = cpo,\n",
    "        window_size = (2560, 2048),\n",
    "        text = mk,\n",
    "        filename = os.path.join(out_image_path, f\"CNS_morphometrics_{mk}_trajectory.pdf\")\n",
    "    )"
   ],
   "execution_count": 50,
   "outputs": []
  },
  {
   "metadata": {
    "ExecuteTime": {
     "end_time": "2024-05-11T15:32:13.890512Z",
     "start_time": "2024-05-11T15:32:13.887616Z"
    }
   },
   "cell_type": "code",
   "source": [
    "import matplotlib as mpl\n",
    "lscmap = mpl.cm.get_cmap(\"Spectral\") # gist_rainbow, rainbow, hsv, tab20\n",
    "segments = ['abdomen', 'head', \"thorax\"]\n",
    "segments_hex_list = [mpl.colors.to_hex(lscmap(i)) for i in np.linspace(0, 1, len(segments))]\n",
    "segments_colors = {i: j for i, j in zip(segments, segments_hex_list)}"
   ],
   "execution_count": 10,
   "outputs": []
  },
  {
   "metadata": {
    "ExecuteTime": {
     "end_time": "2024-05-11T15:32:14.511901Z",
     "start_time": "2024-05-11T15:32:14.397522Z"
    }
   },
   "cell_type": "code",
   "source": [
    "import seaborn as sns\n",
    "import matplotlib.pyplot as plt\n",
    "import pandas as pd\n",
    "acc_data = pd.DataFrame(tissue_adata.obs[[\"segments\", \"morpho_acceleration\"]])\n",
    "\n",
    "sns.set_theme(context=\"paper\", style=\"ticks\")\n",
    "f, ax = plt.subplots(figsize=(1.5, 1.5))\n",
    "sns.boxenplot(acc_data, x=\"segments\", y=\"morpho_acceleration\", palette=segments_colors, order=['head', \"thorax\", 'abdomen'], \n",
    "              linewidth=.5, line_kws=dict(linewidth=2, color=\"k\"), flier_kws=dict(facecolor=\".5\", linewidth=.1), width=.5)\n",
    "# sns.violinplot(data, x=\"heart_regions\", y=key, palette=regions_colors, order=regions, ax=ax)\n",
    "ax.tick_params(axis='x', labelrotation=90)\n",
    "plt.savefig(os.path.join(out_image_path, f\"CNS_morphometrics_morpho_acceleration_segments_boxplot.pdf\"), dpi=300, format=\"pdf\", bbox_inches=\"tight\")\n",
    "plt.show()"
   ],
   "execution_count": 11,
   "outputs": []
  },
  {
   "cell_type": "markdown",
   "source": "## Tail of CNS",
   "metadata": {
    "collapsed": false
   }
  },
  {
   "metadata": {
    "ExecuteTime": {
     "end_time": "2024-05-11T10:09:26.618961Z",
     "start_time": "2024-05-11T10:09:26.327Z"
    }
   },
   "cell_type": "code",
   "source": [
    "tail_tissue_adata = tissue_adata.copy()\n",
    "tail_tissue_adata = tail_tissue_adata[tail_tissue_adata.obs[\"segments\"].isin([\"abdomen\"]), :].copy()\n",
    "tail_tissue_adata"
   ],
   "execution_count": 51,
   "outputs": []
  },
  {
   "metadata": {
    "ExecuteTime": {
     "end_time": "2024-05-11T10:09:32.417837Z",
     "start_time": "2024-05-11T10:09:31.937180Z"
    }
   },
   "cell_type": "code",
   "source": [
    "st.tdr.morphofield_sparsevfc(\n",
    "    adata=tail_tissue_adata,\n",
    "    spatial_key=\"3d_align_spatial\",\n",
    "    V_key=\"V_cells_mapping\",\n",
    "    key_added=\"VecFld_morpho\",\n",
    "    NX=np.asarray(tail_tissue_adata.obsm['3d_align_spatial']),\n",
    "    inplace=True,\n",
    ")\n",
    "\n",
    "tail_tissue_pc, _ = st.tdr.construct_pc(\n",
    "    adata=tail_tissue_adata.copy(),\n",
    "    spatial_key=\"3d_align_spatial\",\n",
    "    groupby=\"anno_tissue_new\",\n",
    "    key_added=\"tissue\",\n",
    "    colormap={\"amnioserosa\": \"#bdcf32\", \"CNS\": \"#ea5545\", \"hindgut\": \"#27aeef\", \"midgut\": \"#87bc45\", \"muscle\": \"#f46a9b\", \"salivary gland\": \"#ef9b20\",},\n",
    ")\n",
    "tail_tissue_pc.point_data[\"vectors\"] = tail_tissue_adata.uns[\"VecFld_morpho\"][\"V\"]"
   ],
   "execution_count": 52,
   "outputs": []
  },
  {
   "cell_type": "code",
   "source": [
    "st.tdr.morphofield_velocity(adata=tail_tissue_adata, vf_key=\"VecFld_morpho\", key_added=\"morpho_velocity\",)\n",
    "st.tdr.morphofield_acceleration(adata=tail_tissue_adata, vf_key=\"VecFld_morpho\", key_added=\"morpho_acceleration\",)\n",
    "st.tdr.morphofield_curvature(adata=tail_tissue_adata, vf_key=\"VecFld_morpho\", key_added=\"morpho_curvature\")\n",
    "st.tdr.morphofield_curl(adata=tail_tissue_adata, vf_key=\"VecFld_morpho\", key_added=\"morpho_curl\",)\n",
    "st.tdr.morphofield_torsion(adata=tail_tissue_adata, vf_key=\"VecFld_morpho\", key_added=\"morpho_torsion\",)\n",
    "st.tdr.morphofield_divergence(adata=tail_tissue_adata, vf_key=\"VecFld_morpho\", key_added=\"morpho_divergence\",)\n",
    "tail_tissue_adata"
   ],
   "metadata": {
    "collapsed": false,
    "ExecuteTime": {
     "end_time": "2024-05-11T10:09:35.579054Z",
     "start_time": "2024-05-11T10:09:35.208366Z"
    }
   },
   "execution_count": 53,
   "outputs": []
  },
  {
   "cell_type": "code",
   "source": [
    "morphometrics_keys = [\"morpho_acceleration\", \"morpho_curvature\", \"morpho_curl\", \"morpho_torsion\", \"morpho_divergence\"]\n",
    "for mk in morphometrics_keys:\n",
    "    vector_arrows,_ = st.tdr.construct_field(\n",
    "        model=tail_tissue_pc,\n",
    "        vf_key=\"vectors\",\n",
    "        arrows_scale_key=\"vectors\",\n",
    "        n_sampling=1000,\n",
    "        factor=10000,\n",
    "        key_added=mk,\n",
    "        label=np.asarray(tail_tissue_adata[np.asarray(tail_tissue_pc.point_data[\"obs_index\"])].obs[mk]),\n",
    "        color=\"afmhot_r\",\n",
    "    )\n",
    "    st.tdr.add_model_labels(\n",
    "        model = tail_tissue_pc,\n",
    "        key_added = mk,\n",
    "        labels = np.asarray(tail_tissue_adata[np.asarray(tail_tissue_pc.point_data[\"obs_index\"])].obs[mk]),\n",
    "        colormap = \"afmhot_r\",\n",
    "        where = \"point_data\",\n",
    "        inplace = True,\n",
    "    )\n",
    "    st.pl.three_d_plot(\n",
    "        model=st.tdr.collect_models([tail_tissue_pc, vector_arrows]),\n",
    "        key=[mk, mk],\n",
    "        model_style=[\"points\", \"surface\"],\n",
    "        model_size=[16, 5],\n",
    "        opacity=[0.2, 1],\n",
    "        colormap=[\"afmhot_r\", \"afmhot_r\"],\n",
    "        show_legend=True,\n",
    "        jupyter=\"static\",\n",
    "        background=\"white\",\n",
    "        cpo=cpo,\n",
    "        window_size=(2560, 2048),\n",
    "        text=mk,\n",
    "        filename=os.path.join(out_image_path, f\"CNS_tail_morphometrics_{mk}_arrows.pdf\")\n",
    "    )"
   ],
   "metadata": {
    "collapsed": false,
    "ExecuteTime": {
     "end_time": "2024-05-11T10:17:33.018541Z",
     "start_time": "2024-05-11T10:11:34.395899Z"
    }
   },
   "execution_count": 56,
   "outputs": []
  },
  {
   "cell_type": "code",
   "source": [
    "morphometrics_keys = [\"morpho_acceleration\", \"morpho_curvature\", \"morpho_curl\", \"morpho_torsion\", \"morpho_divergence\"]\n",
    "st.tdr.morphopath(\n",
    "    adata=tail_tissue_adata,\n",
    "    # layer=\"log1p_X\",\n",
    "    vf_key=\"VecFld_morpho\",\n",
    "    key_added=\"fate_morpho\",\n",
    "    t_end=10000,\n",
    "    interpolation_num=50,\n",
    "    cores=20\n",
    ")\n",
    "tail_trajectory_model, _ = st.tdr.construct_trajectory(\n",
    "    adata=tail_tissue_adata,\n",
    "    fate_key=\"fate_morpho\",\n",
    "    n_sampling=1000,\n",
    "    sampling_method=\"trn\",\n",
    "    key_added=\"obs_index\",\n",
    "    label=np.asarray(tail_tissue_adata.obs.index), # stage1_tissue_adata.uns[\"VecFld_morpho\"][\"V\"][:, 2].flatten(),\n",
    ")\n",
    "for mk in morphometrics_keys:\n",
    "    st.tdr.add_model_labels(\n",
    "        model=tail_trajectory_model,\n",
    "        key_added=mk,\n",
    "        labels=np.asarray(tail_tissue_adata[np.asarray(tail_trajectory_model.point_data[\"obs_index\"])].obs[mk]),\n",
    "        colormap=\"Spectral\",\n",
    "        where=\"point_data\",\n",
    "        inplace=True,\n",
    "    )\n",
    "    st.pl.three_d_plot(\n",
    "        model=st.tdr.collect_models([tail_tissue_pc, tail_trajectory_model]),\n",
    "        key=[mk, mk],\n",
    "        model_style=[\"points\", \"wireframe\"],\n",
    "        model_size=[16, 5],\n",
    "        opacity=[0.2, 0.5],\n",
    "        colormap=[\"afmhot_r\", \"afmhot_r\"],\n",
    "        show_legend=True,\n",
    "        jupyter=\"static\",\n",
    "        background=\"white\",\n",
    "        cpo=cpo,\n",
    "        window_size=(2560, 2048),\n",
    "        text=mk,\n",
    "        filename=os.path.join(out_image_path, f\"CNS_tail_morphometrics_{mk}_trajectory.pdf\")\n",
    "    )"
   ],
   "metadata": {
    "collapsed": false,
    "ExecuteTime": {
     "end_time": "2024-05-11T10:24:37.417355Z",
     "start_time": "2024-05-11T10:22:06.898025Z"
    }
   },
   "execution_count": 58,
   "outputs": []
  },
  {
   "cell_type": "markdown",
   "source": [
    "## Save the anndata objects and models"
   ],
   "metadata": {
    "collapsed": false
   }
  },
  {
   "cell_type": "code",
   "source": [
    "del tail_tissue_adata.uns[\"morpho_torsion\"], tail_tissue_adata.uns[\"fate_morpho\"], tail_tissue_adata.uns[\"glm_degs\"], tail_tissue_adata.uns[\"log1p\"]\n",
    "tail_tissue_adata.write_h5ad(os.path.join(out_h5ad_path, f\"droso_{sample_id}_CNS_tail_v4.h5ad\"), compression=\"gzip\")\n",
    "st.tdr.save_model(model=tail_tissue_pc, filename=os.path.join(out_h5ad_path, \"CNS_tail_morphometrics_pc_model.vtk\"))\n",
    "st.tdr.save_model(model=tail_trajectory_model, filename=os.path.join(out_h5ad_path, \"CNS_tail_morphometrics_trajectory_model.vtk\"))\n",
    "tail_tissue_adata"
   ],
   "metadata": {
    "collapsed": false,
    "ExecuteTime": {
     "end_time": "2024-05-11T10:26:07.265862Z",
     "start_time": "2024-05-11T10:26:06.414569Z"
    }
   },
   "execution_count": 59,
   "outputs": []
  },
  {
   "cell_type": "code",
   "execution_count": null,
   "source": [],
   "metadata": {
    "collapsed": false
   },
   "outputs": []
  }
 ],
 "metadata": {
  "kernelspec": {
   "display_name": "Python 3",
   "language": "python",
   "name": "python3"
  },
  "language_info": {
   "codemirror_mode": {
    "name": "ipython",
    "version": 2
   },
   "file_extension": ".py",
   "mimetype": "text/x-python",
   "name": "python",
   "nbconvert_exporter": "python",
   "pygments_lexer": "ipython2",
   "version": "2.7.6"
  }
 },
 "nbformat": 4,
 "nbformat_minor": 0
}
