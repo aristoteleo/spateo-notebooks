{
 "cells": [
  {
   "cell_type": "code",
   "metadata": {
    "collapsed": true,
    "ExecuteTime": {
     "end_time": "2024-05-13T16:33:26.487288Z",
     "start_time": "2024-05-13T16:33:21.725093Z"
    }
   },
   "source": [
    "import os, warnings\n",
    "from pathlib import Path\n",
    "\n",
    "import numpy as np\n",
    "import dynamo as dyn\n",
    "import spateo as st\n",
    "warnings.filterwarnings('ignore')"
   ],
   "outputs": [
    {
     "name": "stderr",
     "output_type": "stream",
     "text": [
      "/home/pc001/anaconda3/envs/BioProjects/lib/python3.8/site-packages/umap/distances.py:1063: NumbaDeprecationWarning: \u001B[1mThe 'nopython' keyword argument was not supplied to the 'numba.jit' decorator. The implicit default value for this argument is currently False, but it will be changed to True in Numba 0.59.0. See https://numba.readthedocs.io/en/stable/reference/deprecation.html#deprecation-of-object-mode-fall-back-behaviour-when-using-jit for details.\u001B[0m\n",
      "  @numba.jit()\n",
      "/home/pc001/anaconda3/envs/BioProjects/lib/python3.8/site-packages/umap/distances.py:1071: NumbaDeprecationWarning: \u001B[1mThe 'nopython' keyword argument was not supplied to the 'numba.jit' decorator. The implicit default value for this argument is currently False, but it will be changed to True in Numba 0.59.0. See https://numba.readthedocs.io/en/stable/reference/deprecation.html#deprecation-of-object-mode-fall-back-behaviour-when-using-jit for details.\u001B[0m\n",
      "  @numba.jit()\n",
      "/home/pc001/anaconda3/envs/BioProjects/lib/python3.8/site-packages/umap/distances.py:1086: NumbaDeprecationWarning: \u001B[1mThe 'nopython' keyword argument was not supplied to the 'numba.jit' decorator. The implicit default value for this argument is currently False, but it will be changed to True in Numba 0.59.0. See https://numba.readthedocs.io/en/stable/reference/deprecation.html#deprecation-of-object-mode-fall-back-behaviour-when-using-jit for details.\u001B[0m\n",
      "  @numba.jit()\n",
      "/home/pc001/anaconda3/envs/BioProjects/lib/python3.8/site-packages/umap/umap_.py:660: NumbaDeprecationWarning: \u001B[1mThe 'nopython' keyword argument was not supplied to the 'numba.jit' decorator. The implicit default value for this argument is currently False, but it will be changed to True in Numba 0.59.0. See https://numba.readthedocs.io/en/stable/reference/deprecation.html#deprecation-of-object-mode-fall-back-behaviour-when-using-jit for details.\u001B[0m\n",
      "  @numba.jit()\n",
      "2024-05-14 00:33:24.137006: I tensorflow/core/util/port.cc:110] oneDNN custom operations are on. You may see slightly different numerical results due to floating-point round-off errors from different computation orders. To turn them off, set the environment variable `TF_ENABLE_ONEDNN_OPTS=0`.\n",
      "2024-05-14 00:33:24.156981: I tensorflow/core/platform/cpu_feature_guard.cc:182] This TensorFlow binary is optimized to use available CPU instructions in performance-critical operations.\n",
      "To enable the following instructions: AVX2 AVX_VNNI FMA, in other operations, rebuild TensorFlow with the appropriate compiler flags.\n",
      "2024-05-14 00:33:24.472628: W tensorflow/compiler/tf2tensorrt/utils/py_utils.cc:38] TF-TRT Warning: Could not find TensorRT\n",
      "/home/pc001/anaconda3/envs/BioProjects/lib/python3.8/site-packages/libpysal/cg/alpha_shapes.py:39: NumbaDeprecationWarning:\n",
      "\n",
      "\u001B[1mThe 'nopython' keyword argument was not supplied to the 'numba.jit' decorator. The implicit default value for this argument is currently False, but it will be changed to True in Numba 0.59.0. See https://numba.readthedocs.io/en/stable/reference/deprecation.html#deprecation-of-object-mode-fall-back-behaviour-when-using-jit for details.\u001B[0m\n",
      "\n",
      "/home/pc001/anaconda3/envs/BioProjects/lib/python3.8/site-packages/libpysal/cg/alpha_shapes.py:165: NumbaDeprecationWarning:\n",
      "\n",
      "\u001B[1mThe 'nopython' keyword argument was not supplied to the 'numba.jit' decorator. The implicit default value for this argument is currently False, but it will be changed to True in Numba 0.59.0. See https://numba.readthedocs.io/en/stable/reference/deprecation.html#deprecation-of-object-mode-fall-back-behaviour-when-using-jit for details.\u001B[0m\n",
      "\n",
      "/home/pc001/anaconda3/envs/BioProjects/lib/python3.8/site-packages/libpysal/cg/alpha_shapes.py:199: NumbaDeprecationWarning:\n",
      "\n",
      "\u001B[1mThe 'nopython' keyword argument was not supplied to the 'numba.jit' decorator. The implicit default value for this argument is currently False, but it will be changed to True in Numba 0.59.0. See https://numba.readthedocs.io/en/stable/reference/deprecation.html#deprecation-of-object-mode-fall-back-behaviour-when-using-jit for details.\u001B[0m\n",
      "\n",
      "/home/pc001/anaconda3/envs/BioProjects/lib/python3.8/site-packages/libpysal/cg/alpha_shapes.py:261: NumbaDeprecationWarning:\n",
      "\n",
      "\u001B[1mThe 'nopython' keyword argument was not supplied to the 'numba.jit' decorator. The implicit default value for this argument is currently False, but it will be changed to True in Numba 0.59.0. See https://numba.readthedocs.io/en/stable/reference/deprecation.html#deprecation-of-object-mode-fall-back-behaviour-when-using-jit for details.\u001B[0m\n",
      "\n"
     ]
    }
   ],
   "execution_count": 1
  },
  {
   "cell_type": "code",
   "source": [
    "from typing import Optional, Tuple, Union\n",
    "\n",
    "import matplotlib as mpl\n",
    "import matplotlib.pyplot as plt\n",
    "import numpy as np\n",
    "from pyvista import PolyData, UnstructuredGrid\n",
    "\n",
    "try:\n",
    "    from typing import Literal\n",
    "except ImportError:\n",
    "    from typing_extensions import Literal\n",
    "\n",
    "\n",
    "def add_model_labels(\n",
    "        model: Union[PolyData, UnstructuredGrid],\n",
    "        labels: np.ndarray,\n",
    "        key_added: str = \"groups\",\n",
    "        where: Literal[\"point_data\", \"cell_data\"] = \"cell_data\",\n",
    "        colormap: Union[str, list, dict, np.ndarray] = \"rainbow\",\n",
    "        alphamap: Union[float, list, dict, np.ndarray] = 1.0,\n",
    "        mask_color: Optional[str] = \"gainsboro\",\n",
    "        mask_alpha: Optional[float] = 0.0,\n",
    "        inplace: bool = False,\n",
    ") -> Tuple[Optional[PolyData or UnstructuredGrid], Optional[Union[str]]]:\n",
    "    model = model.copy() if not inplace else model\n",
    "    labels = np.asarray(labels).flatten()\n",
    "\n",
    "    cu_arr = np.sort(np.unique(labels), axis=0).astype(object)\n",
    "    raw_labels_hex = labels.copy().astype(object)\n",
    "    raw_labels_alpha = labels.copy().astype(object)\n",
    "    raw_labels_hex[raw_labels_hex == \"mask\"] = mpl.colors.to_hex(mask_color)\n",
    "    raw_labels_alpha[raw_labels_alpha == \"mask\"] = mask_alpha\n",
    "\n",
    "    # Set raw hex.\n",
    "    if isinstance(colormap, str):\n",
    "        if colormap in list(mpl.colormaps()):\n",
    "            lscmap = mpl.cm.get_cmap(colormap)\n",
    "            raw_hex_list = [mpl.colors.to_hex(lscmap(i)) for i in np.linspace(0, 1, len(cu_arr))]\n",
    "            for label, color in zip(cu_arr, raw_hex_list):\n",
    "                raw_labels_hex[raw_labels_hex == label] = color\n",
    "        else:\n",
    "            raw_labels_hex[raw_labels_hex != \"mask\"] = mpl.colors.to_hex(colormap)\n",
    "    elif isinstance(colormap, dict):\n",
    "        for label, color in colormap.items():\n",
    "            raw_labels_hex[raw_labels_hex == label] = mpl.colors.to_hex(color)\n",
    "    elif isinstance(colormap, list) or isinstance(colormap, np.ndarray):\n",
    "        raw_hex_list = np.array([mpl.colors.to_hex(color) for color in colormap]).astype(object)\n",
    "        for label, color in zip(cu_arr, raw_hex_list):\n",
    "            raw_labels_hex[raw_labels_hex == label] = color\n",
    "    else:\n",
    "        raise ValueError(\"`colormap` value is wrong.\" \"\\nAvailable `colormap` types are: `str`, `list` and `dict`.\")\n",
    "\n",
    "    # Set raw alpha.\n",
    "    if isinstance(alphamap, float) or isinstance(alphamap, int):\n",
    "        raw_labels_alpha[raw_labels_alpha != \"mask\"] = alphamap\n",
    "    elif isinstance(alphamap, dict):\n",
    "        for label, alpha in alphamap.items():\n",
    "            raw_labels_alpha[raw_labels_alpha == label] = alpha\n",
    "    elif isinstance(alphamap, list) or isinstance(alphamap, np.ndarray):\n",
    "        raw_labels_alpha = np.asarray(alphamap).astype(object)\n",
    "    else:\n",
    "        raise ValueError(\n",
    "            \"`alphamap` value is wrong.\" \"\\nAvailable `alphamap` types are: `float`, `list` and `dict`.\"\n",
    "        )\n",
    "\n",
    "    # Set rgba.\n",
    "    labels_rgba = [mpl.colors.to_rgba(c, alpha=a) for c, a in zip(raw_labels_hex, raw_labels_alpha)]\n",
    "    labels_rgba = np.array(labels_rgba).astype(np.float32)\n",
    "\n",
    "    # Added rgba of the labels.\n",
    "    if where == \"point_data\":\n",
    "        model.point_data[f\"{key_added}_rgba\"] = labels_rgba\n",
    "    else:\n",
    "        model.cell_data[f\"{key_added}_rgba\"] = labels_rgba\n",
    "\n",
    "    plot_cmap = None\n",
    "\n",
    "    # Added labels.\n",
    "    if where == \"point_data\":\n",
    "        model.point_data[key_added] = labels\n",
    "    else:\n",
    "        model.cell_data[key_added] = labels\n",
    "\n",
    "    return model if not inplace else None, plot_cmap"
   ],
   "metadata": {
    "collapsed": false,
    "ExecuteTime": {
     "end_time": "2024-05-13T16:33:26.493612Z",
     "start_time": "2024-05-13T16:33:26.487877Z"
    }
   },
   "outputs": [],
   "execution_count": 2
  },
  {
   "cell_type": "code",
   "source": [
    "sample_id = \"E7_8h\"\n",
    "os.chdir(f\"/media/pc001/Yao/Projects/Project_spateo/mouse_heart/figure6\")\n",
    "cpo = [(41, 1209, 57), (13, 8, -3), (0, 0, 1)]\n",
    "\n",
    "out_h5ad_path = f\"droso_{sample_id}_CNS_morpho/h5ad\"\n",
    "out_image_path = f\"droso_{sample_id}_CNS_morpho/image/CNS_curvature\"\n",
    "Path(out_h5ad_path).mkdir(parents=True, exist_ok=True)\n",
    "Path(out_image_path).mkdir(parents=True, exist_ok=True)"
   ],
   "metadata": {
    "collapsed": false,
    "ExecuteTime": {
     "end_time": "2024-05-13T16:33:26.496831Z",
     "start_time": "2024-05-13T16:33:26.494593Z"
    }
   },
   "outputs": [],
   "execution_count": 3
  },
  {
   "cell_type": "code",
   "source": [
    "# Read anndata\n",
    "key = \"morpho_curvature\"\n",
    "adata = st.read_h5ad(os.path.join(out_h5ad_path, f\"droso_{sample_id}_CNS_tail_v4.h5ad\"))\n",
    "adata = adata[:, ~adata.var.index.str.startswith(f\"mt:\")]\n",
    "\n",
    "import scanpy as sc\n",
    "sc.pp.normalize_total(adata)\n",
    "sc.pp.log1p(adata)\n",
    "\n",
    "pc_model = st.tdr.read_model(os.path.join(out_h5ad_path, \"CNS_tail_morphometrics_pc_model.vtk\"))\n",
    "trajectory_model = st.tdr.read_model(os.path.join(out_h5ad_path, \"CNS_tail_morphometrics_trajectory_model.vtk\"))\n",
    "adata"
   ],
   "metadata": {
    "collapsed": false,
    "ExecuteTime": {
     "end_time": "2024-05-13T16:33:31.378775Z",
     "start_time": "2024-05-13T16:33:26.497340Z"
    }
   },
   "outputs": [
    {
     "data": {
      "text/plain": [
       "AnnData object with n_obs × n_vars = 2201 × 7893\n",
       "    obs: 'area', 'slices', 'anno_cell_type', 'anno_tissue', 'anno_germ_layer', 'actual_stage', 'scc', 'anno_tissue_new', 'V_z', 'anno_germ_layer_new', 'backbone_nodes', 'backbone_scc', 'segments', 'V_x', 'morpho_acceleration', 'morpho_curvature', 'morpho_curl', 'morpho_torsion', 'morpho_divergence'\n",
       "    uns: 'VecFld_morpho', 'pp', 'log1p'\n",
       "    obsm: '2d_realign_spatial', '3d_align_spatial', 'V_cells_mapping', 'X_cells_mapping', 'X_pca', 'X_umap', 'morpho_acceleration', 'morpho_curl', 'morpho_curvature', 'morpho_velocity', 'raw_spatial', 'tdr_spatial'\n",
       "    layers: 'X_counts', 'spliced', 'unspliced'"
      ]
     },
     "execution_count": 4,
     "metadata": {},
     "output_type": "execute_result"
    }
   ],
   "execution_count": 4
  },
  {
   "metadata": {},
   "cell_type": "markdown",
   "source": "## High curvature region"
  },
  {
   "metadata": {
    "ExecuteTime": {
     "end_time": "2024-05-13T16:33:31.789593Z",
     "start_time": "2024-05-13T16:33:31.382359Z"
    }
   },
   "cell_type": "code",
   "source": [
    "import pandas as pd\n",
    "_data = pd.DataFrame(adata.obs[[\"backbone_nodes\", \"morpho_curvature\"]]).groupby(by=\"backbone_nodes\")[\"morpho_curvature\"].mean()\n",
    "data = pd.DataFrame(_data, index=_data.index.tolist(), columns=[\"morpho_curvature\"])\n",
    "data[\"backbone_nodes\"] = _data.index.tolist()\n",
    "print(data)\n",
    "import seaborn as sns\n",
    "sns.set_theme(context=\"paper\", style=\"ticks\")\n",
    "f, ax = plt.subplots(figsize=(3, 2))\n",
    "sns.scatterplot(x=\"backbone_nodes\", y=\"morpho_curvature\", data=data, ax=ax, hue=\"morpho_curvature\", palette=\"afmhot_r\")\n",
    "plt.savefig(os.path.join(out_image_path, f\"CNS_tail_{key}_curvature_backbone_nodes_scatterplot.pdf\"), dpi=300, format=\"pdf\", bbox_inches=\"tight\")\n",
    "plt.show()"
   ],
   "outputs": [
    {
     "name": "stdout",
     "output_type": "stream",
     "text": [
      "    morpho_curvature  backbone_nodes\n",
      "16          0.001031              16\n",
      "17          0.002275              17\n",
      "18          0.002217              18\n",
      "19          0.001287              19\n",
      "20          0.001154              20\n",
      "21          0.001506              21\n",
      "22          0.002196              22\n",
      "23          0.002812              23\n",
      "24          0.003178              24\n",
      "25          0.004004              25\n",
      "26          0.004231              26\n",
      "27          0.004436              27\n",
      "28          0.004929              28\n",
      "29          0.006175              29\n",
      "30          0.007972              30\n",
      "31          0.009531              31\n",
      "32          0.007522              32\n",
      "33          0.007036              33\n",
      "34          0.006757              34\n",
      "35          0.006298              35\n",
      "36          0.005607              36\n",
      "37          0.004866              37\n",
      "38          0.004263              38\n",
      "39          0.003953              39\n",
      "40          0.003691              40\n",
      "41          0.003182              41\n",
      "42          0.002649              42\n",
      "43          0.002261              43\n",
      "44          0.001986              44\n",
      "45          0.001735              45\n",
      "46          0.001530              46\n",
      "47          0.001317              47\n",
      "48          0.001040              48\n",
      "49          0.001135              49\n"
     ]
    },
    {
     "data": {
      "text/plain": [
       "<Figure size 300x200 with 1 Axes>"
      ],
      "image/png": "[encoded data removed]"
     },
     "metadata": {
      "image/png": {
       "width": 322,
       "height": 214
      }
     },
     "output_type": "display_data"
    }
   ],
   "execution_count": 5
  },
  {
   "cell_type": "markdown",
   "source": [
    "## GLM DEGs"
   ],
   "metadata": {
    "collapsed": false
   }
  },
  {
   "metadata": {
    "ExecuteTime": {
     "end_time": "2024-05-12T07:37:05.373502Z",
     "start_time": "2024-05-12T07:37:05.370928Z"
    }
   },
   "cell_type": "code",
   "source": [
    "selected_genes = [\"abd-A\", \"osp\", \"TBPH\", \"CG32856\", \"CCHa1-R\", \"Ras85D\", \"nrv2\", \"bnb\",\n",
    "                  \"Aladin\", \"EndoGI\", \"Myo81F\", \"Mcm7\", \"gcl\", \"sti\", \"Dpit47\", \"Fib\"]"
   ],
   "execution_count": 87,
   "outputs": []
  },
  {
   "metadata": {
    "ExecuteTime": {
     "end_time": "2024-05-12T07:37:27.104694Z",
     "start_time": "2024-05-12T07:37:26.901682Z"
    }
   },
   "cell_type": "code",
   "source": [
    "data = pd.DataFrame(columns=[\"R1\", \"R2\", \"R3\"])\n",
    "for gn in selected_genes:\n",
    "    region1 = [16, 17, 18, 19, 20, 21, 22, 23, 24, 25, 26, 27]\n",
    "    region2 = [28, 29, 30, 31, 32, 33, 34, 35, 36, 37]\n",
    "    region3 = [38, 39, 40, 41, 42, 43, 44, 45, 46, 47, 48, 49]\n",
    "    \n",
    "    region1_v = adata[adata.obs[\"backbone_nodes\"].isin(region1), gn].X.A.sum()\n",
    "    region2_v = adata[adata.obs[\"backbone_nodes\"].isin(region2), gn].X.A.sum()\n",
    "    region3_v = adata[adata.obs[\"backbone_nodes\"].isin(region3), gn].X.A.sum()\n",
    "    gn_data = pd.DataFrame([[region1_v/(region1_v+region2_v+region3_v), region2_v/(region1_v+region2_v+region3_v), region3_v/(region1_v+region2_v+region3_v)]], index=[gn], columns=[\"R1\", \"R2\", \"R3\"])\n",
    "    data = pd.concat([data, gn_data], axis=0, join=\"outer\")\n",
    "\n",
    "sns.set_theme(context=\"paper\", style=\"ticks\")\n",
    "f, ax = plt.subplots(figsize=(6, 1))\n",
    "sns.heatmap(data.T, square=True, annot=False, linewidth=.5, cmap=\"Reds\", ax=ax, vmax=1, vmin=0)\n",
    "plt.savefig(os.path.join(out_image_path, f\"CNS_tail_{key}_curvature_degs_heatmap.pdf\"), dpi=300, format=\"pdf\", bbox_inches=\"tight\")"
   ],
   "execution_count": 90,
   "outputs": []
  },
  {
   "cell_type": "code",
   "source": [
    "for gn in selected_genes:# list(glm_data.index):\n",
    "    _gn = str(gn).replace(\":\", \"_\") if \":\" in gn else gn\n",
    "    \n",
    "    pc_index=pc_model.point_data[\"obs_index\"].tolist()\n",
    "    exp = adata[pc_index, gn].X.A.flatten()\n",
    "    exp[exp <= 0] = 0\n",
    "    \n",
    "    amap = exp.copy()\n",
    "    amap = amap / np.max(amap)\n",
    "    amap[amap <= 0.2] = 0.2\n",
    "    add_model_labels(model=pc_model, labels=exp, key_added=gn, alphamap=amap, where=\"point_data\",inplace=True, colormap=\"Reds\")\n",
    "    \n",
    "    st.pl.three_d_plot(\n",
    "        model=pc_model,\n",
    "        key=gn,\n",
    "        model_style=\"points\",\n",
    "        model_size=16,\n",
    "        opacity=1,\n",
    "        colormap=None,\n",
    "        show_legend=True,\n",
    "        jupyter=False,\n",
    "        off_screen=True,\n",
    "        cpo=cpo,\n",
    "        window_size=(2560, 2048),\n",
    "        text=gn,\n",
    "        filename=os.path.join(out_image_path, f\"CNS_tail_{key}_glm_degs_genes_{_gn}.pdf\")\n",
    "    )"
   ],
   "metadata": {
    "collapsed": false,
    "ExecuteTime": {
     "end_time": "2024-05-12T07:38:53.961470Z",
     "start_time": "2024-05-12T07:38:43.359264Z"
    }
   },
   "execution_count": 92,
   "outputs": []
  },
  {
   "cell_type": "code",
   "source": [
    "for gn in selected_genes:\n",
    "    interpolated_gp_adata = st.tdr.gp_interpolation(source_adata=adata.copy(), spatial_key=\"3d_align_spatial\", keys=gn,\n",
    "                                                    target_points=np.asarray(pc_model.points), device=\"0\",\n",
    "                                                    training_iter=100)\n",
    "    interpolated_gp_pc, _ = st.tdr.construct_pc(adata=interpolated_gp_adata.copy(), spatial_key=\"3d_align_spatial\", groupby=gn,\n",
    "                                                key_added=gn)\n",
    "    _gn = str(gn).replace(\":\", \"_\") if \":\" in gn else gn\n",
    "    \n",
    "    st.pl.three_d_plot(\n",
    "        model=interpolated_gp_pc,\n",
    "        key=gn,\n",
    "        model_style=\"points\",\n",
    "        model_size=16,\n",
    "        opacity=0.6,\n",
    "        colormap=\"Reds\",\n",
    "        show_legend=True,\n",
    "        jupyter=False,\n",
    "        off_screen=True,\n",
    "        cpo=cpo,\n",
    "        window_size=(2560, 2048),\n",
    "        text=gn,\n",
    "        filename=os.path.join(out_image_path, f\"CNS_tail_{key}_glm_degs_interpolated_genes_{_gn}.pdf\")\n",
    "    )"
   ],
   "metadata": {
    "collapsed": false,
    "ExecuteTime": {
     "end_time": "2024-05-12T07:39:58.124993Z",
     "start_time": "2024-05-12T07:38:53.962523Z"
    }
   },
   "execution_count": 93,
   "outputs": []
  },
  {
   "cell_type": "code",
   "source": [],
   "metadata": {
    "collapsed": false
   },
   "execution_count": null,
   "outputs": []
  },
  {
   "metadata": {
    "ExecuteTime": {
     "end_time": "2024-05-12T07:40:17.683887Z",
     "start_time": "2024-05-12T07:40:15.020067Z"
    }
   },
   "cell_type": "code",
   "source": [
    "germ_adata = st.read_h5ad(f\"/media/pc001/Yao/Projects/Project_drosophila/Data_v4/migration-hotspot/drosophila_E7_8h_germ_layer_new/h5ad/{sample_id}_germband_v3.h5ad\")\n",
    "adata = germ_adata[germ_adata.obs[\"anno_tissue_new\"] == \"CNS\", :]\n",
    "adata.X = adata.layers[\"X_counts\"].copy()\n",
    "adata = adata[adata.X.sum(axis=1)!=0, adata.X.sum(axis=0)!=0]\n",
    "adata = adata[:, ~adata.var.index.str.startswith(f\"mt:\")]\n",
    "adata"
   ],
   "execution_count": 94,
   "outputs": []
  },
  {
   "metadata": {
    "ExecuteTime": {
     "end_time": "2024-05-12T07:40:18.189713Z",
     "start_time": "2024-05-12T07:40:18.108380Z"
    }
   },
   "cell_type": "code",
   "source": [
    "sc.pp.normalize_total(adata)\n",
    "sc.pp.log1p(adata)"
   ],
   "execution_count": 95,
   "outputs": []
  },
  {
   "metadata": {
    "ExecuteTime": {
     "end_time": "2024-05-12T07:40:21.869649Z",
     "start_time": "2024-05-12T07:40:21.722278Z"
    }
   },
   "cell_type": "code",
   "source": [
    "tissue_pc, _ = st.tdr.construct_pc(\n",
    "    adata=adata.copy(),\n",
    "    spatial_key=\"3d_align_spatial\",\n",
    "    groupby=\"anno_tissue_new\",\n",
    "    key_added=\"tissue\",\n",
    "    colormap={\"amnioserosa\": \"#bdcf32\", \"CNS\": \"#ea5545\", \"hindgut\": \"#27aeef\", \"midgut\": \"#87bc45\", \"muscle\": \"#f46a9b\", \"salivary gland\": \"#ef9b20\",},\n",
    ")"
   ],
   "execution_count": 96,
   "outputs": []
  },
  {
   "metadata": {
    "ExecuteTime": {
     "end_time": "2024-05-12T07:40:39.616229Z",
     "start_time": "2024-05-12T07:40:28.252243Z"
    }
   },
   "cell_type": "code",
   "source": [
    "for gn in selected_genes:# list(glm_data.index):\n",
    "    _gn = str(gn).replace(\":\", \"_\") if \":\" in gn else gn\n",
    "    \n",
    "    pc_index=tissue_pc.point_data[\"obs_index\"].tolist()\n",
    "    exp = adata[pc_index, gn].X.A.flatten()\n",
    "    exp[exp <= 0] = 0\n",
    "    \n",
    "    amap = exp.copy()\n",
    "    amap = amap / np.max(amap)\n",
    "    amap[amap <= 0.2] = 0.2\n",
    "    add_model_labels(model=tissue_pc, labels=exp, key_added=gn, alphamap=amap, where=\"point_data\",inplace=True, colormap=\"Reds\")\n",
    "    \n",
    "    st.pl.three_d_plot(\n",
    "        model=tissue_pc,\n",
    "        key=gn,\n",
    "        model_style=\"points\",\n",
    "        model_size=16,\n",
    "        opacity=1,\n",
    "        colormap=None,\n",
    "        show_legend=True,\n",
    "        jupyter=False,\n",
    "        off_screen=True,\n",
    "        cpo=cpo,\n",
    "        window_size=(2560, 2048),\n",
    "        text=gn,\n",
    "        filename=os.path.join(out_image_path, f\"CNS_{key}_glm_degs_genes_{_gn}.pdf\")\n",
    "    )"
   ],
   "execution_count": 97,
   "outputs": []
  },
  {
   "metadata": {
    "ExecuteTime": {
     "end_time": "2024-05-12T07:42:38.933837Z",
     "start_time": "2024-05-12T07:40:39.617119Z"
    }
   },
   "cell_type": "code",
   "source": [
    "for gn in selected_genes:\n",
    "    interpolated_gp_adata = st.tdr.gp_interpolation(source_adata=adata.copy(), spatial_key=\"3d_align_spatial\", keys=gn,\n",
    "                                                    target_points=np.asarray(tissue_pc.points), device=\"0\",\n",
    "                                                    training_iter=100)\n",
    "    interpolated_gp_pc, _ = st.tdr.construct_pc(adata=interpolated_gp_adata.copy(), spatial_key=\"3d_align_spatial\", groupby=gn,\n",
    "                                                key_added=gn)\n",
    "    _gn = str(gn).replace(\":\", \"_\") if \":\" in gn else gn\n",
    "    \n",
    "    st.pl.three_d_plot(\n",
    "        model=interpolated_gp_pc,\n",
    "        key=gn,\n",
    "        model_style=\"points\",\n",
    "        model_size=16,\n",
    "        opacity=0.6,\n",
    "        colormap=\"Reds\",\n",
    "        show_legend=True,\n",
    "        jupyter=False,\n",
    "        off_screen=True,\n",
    "        cpo=cpo,\n",
    "        window_size=(2560, 2048),\n",
    "        text=gn,\n",
    "        filename=os.path.join(out_image_path, f\"CNS_{key}_glm_degs_interpolated_genes_{_gn}.pdf\")\n",
    "    )"
   ],
   "execution_count": 98,
   "outputs": []
  },
  {
   "metadata": {},
   "cell_type": "markdown",
   "source": "## GO term"
  },
  {
   "metadata": {
    "ExecuteTime": {
     "end_time": "2024-05-12T07:43:01.771156Z",
     "start_time": "2024-05-12T07:43:00.060952Z"
    }
   },
   "cell_type": "code",
   "source": [
    "import gseapy as gp\n",
    "import pandas as pd\n",
    "gp.get_library_name(organism=\"Fly\")"
   ],
   "execution_count": 100,
   "outputs": []
  },
  {
   "metadata": {
    "ExecuteTime": {
     "end_time": "2024-05-12T07:44:16.868391Z",
     "start_time": "2024-05-12T07:44:07.792446Z"
    }
   },
   "cell_type": "code",
   "source": [
    "# GO-biologial process\n",
    "go_folder = os.path.join(out_image_path, f\"{key}_GO\")\n",
    "Path(go_folder).mkdir(parents=True, exist_ok=True)\n",
    "\n",
    "go_bp = gp.enrichr(\n",
    "        gene_list=selected_genes,\n",
    "        gene_sets=\"GO_Biological_Process_2018\",\n",
    "        organism=\"Fly\",\n",
    "        outdir=go_folder,\n",
    "        no_plot=True,\n",
    "        verbose=True\n",
    ")\n",
    "go_bp_results = pd.read_csv(os.path.join(go_folder, f\"GO_Biological_Process_2018.Fly.enrichr.reports.txt\"), sep=\"\\t\")\n",
    "gp.barplot(go_bp_results, column='Combined Score', title='GO_Biological_Process_2018', cutoff=0.05, top_term=50, figsize=(5, 20), color=\"black\",\n",
    "            ofname=os.path.join(go_folder, f\"{key}_GO_Biological_Process_2018_selected_barplot.pdf\"))\n",
    "gp.dotplot(go_bp_results, column='Combined Score', title='GO_Biological_Process_2018', cmap='Spectral', cutoff=0.05, top_term=50, figsize=(5, 20),\n",
    "            ofname=os.path.join(go_folder, f\"{key}_GO_Biological_Process_2018_dotplot.pdf\"))"
   ],
   "execution_count": 101,
   "outputs": []
  },
  {
   "metadata": {},
   "cell_type": "code",
   "execution_count": null,
   "source": "",
   "outputs": []
  }
 ],
 "metadata": {
  "kernelspec": {
   "display_name": "Python 3",
   "language": "python",
   "name": "python3"
  },
  "language_info": {
   "codemirror_mode": {
    "name": "ipython",
    "version": 2
   },
   "file_extension": ".py",
   "mimetype": "text/x-python",
   "name": "python",
   "nbconvert_exporter": "python",
   "pygments_lexer": "ipython2",
   "version": "2.7.6"
  }
 },
 "nbformat": 4,
 "nbformat_minor": 0
}
