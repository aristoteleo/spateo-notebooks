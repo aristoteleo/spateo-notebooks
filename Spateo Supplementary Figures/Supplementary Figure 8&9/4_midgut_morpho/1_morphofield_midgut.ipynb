{
 "cells": [
  {
   "cell_type": "markdown",
   "source": [
    "# Vector fields and developmental trajectories of tissue development in three-dimensional space"
   ],
   "metadata": {
    "collapsed": false
   }
  },
  {
   "cell_type": "code",
   "source": [
    "import os, warnings\n",
    "from pathlib import Path\n",
    "\n",
    "import numpy as np\n",
    "import dynamo as dyn\n",
    "import spateo as st\n",
    "import scanpy as sc\n",
    "warnings.filterwarnings('ignore')"
   ],
   "metadata": {
    "collapsed": false,
    "ExecuteTime": {
     "end_time": "2024-05-11T15:33:52.033256Z",
     "start_time": "2024-05-11T15:33:45.411561Z"
    }
   },
   "execution_count": 1,
   "outputs": []
  },
  {
   "cell_type": "markdown",
   "source": [
    "## Load the data"
   ],
   "metadata": {
    "collapsed": false
   }
  },
  {
   "cell_type": "code",
   "source": [
    "sample_id = \"E7_8h\"\n",
    "os.chdir(f\"/media/pc001/Yao/Projects/Project_spateo/mouse_heart/figure6\")\n",
    "cpo = [(41, 1209, 57), (13, 8, -3), (0, 0, 1)]\n",
    "\n",
    "out_h5ad_path = f\"droso_{sample_id}_midgut_morpho/h5ad\"\n",
    "out_image_path = f\"droso_{sample_id}_midgut_morpho/image/midgut_morphofield\"\n",
    "Path(out_h5ad_path).mkdir(parents=True, exist_ok=True)\n",
    "Path(out_image_path).mkdir(parents=True, exist_ok=True)"
   ],
   "metadata": {
    "collapsed": false,
    "ExecuteTime": {
     "end_time": "2024-05-11T15:33:52.036571Z",
     "start_time": "2024-05-11T15:33:52.034114Z"
    }
   },
   "execution_count": 2,
   "outputs": []
  },
  {
   "metadata": {
    "ExecuteTime": {
     "end_time": "2024-05-11T15:34:01.552797Z",
     "start_time": "2024-05-11T15:33:52.037213Z"
    }
   },
   "cell_type": "code",
   "source": [
    "germ_adata = st.read_h5ad(f\"/media/pc001/Yao/Projects/Project_drosophila/Data_v4/migration-hotspot/drosophila_E7_8h_germ_layer_new/h5ad/{sample_id}_germband_v3.h5ad\")\n",
    "tissue_adata = germ_adata[germ_adata.obs[\"anno_tissue_new\"] == \"midgut\", :]\n",
    "tissue_adata.X = tissue_adata.layers[\"X_counts\"].copy()\n",
    "tissue_adata = tissue_adata[tissue_adata.X.sum(axis=1)!=0, tissue_adata.X.sum(axis=0)!=0]\n",
    "tissue_adata"
   ],
   "execution_count": 3,
   "outputs": []
  },
  {
   "cell_type": "code",
   "source": [
    "tissue_pc, _ = st.tdr.construct_pc(\n",
    "    adata=tissue_adata.copy(),\n",
    "    spatial_key=\"3d_align_spatial\",\n",
    "    groupby=\"anno_tissue_new\",\n",
    "    key_added=\"tissue\",\n",
    "    colormap={\"amnioserosa\": \"#bdcf32\", \"CNS\": \"#ea5545\", \"hindgut\": \"#27aeef\", \"midgut\": \"#87bc45\", \"muscle\": \"#f46a9b\", \"salivary gland\": \"#ef9b20\",},\n",
    ")"
   ],
   "metadata": {
    "collapsed": false,
    "ExecuteTime": {
     "end_time": "2024-05-11T15:34:01.694304Z",
     "start_time": "2024-05-11T15:34:01.553651Z"
    }
   },
   "execution_count": 4,
   "outputs": []
  },
  {
   "cell_type": "markdown",
   "source": [
    "## Check mapping result"
   ],
   "metadata": {
    "collapsed": false
   }
  },
  {
   "cell_type": "code",
   "source": [
    "stage2_germ_adata = st.read_h5ad(f\"/media/pc001/Yao/Projects/Project_drosophila/Data_v4/migration-hotspot/drosophila_E8_9h_germ_layer/h5ad/E8_9h_germ_layer_v3.h5ad\")\n",
    "stage2_tissue_adata = stage2_germ_adata[stage2_germ_adata.obs[\"anno_tissue_new\"] == \"midgut\", :]\n",
    "stage2_tissue_adata.X = stage2_tissue_adata.layers[\"X_counts\"].copy()\n",
    "stage2_tissue_pc, _ = st.tdr.construct_pc(\n",
    "    adata=stage2_tissue_adata.copy(),\n",
    "    spatial_key=\"3d_align_spatial\",\n",
    "    groupby=\"anno_tissue_new\",\n",
    "    key_added=\"tissue\",\n",
    "    colormap={\"amnioserosa\": \"#bdcf32\", \"CNS\": \"#ea5545\", \"hindgut\": \"#27aeef\", \"midgut\": \"#87bc45\", \"muscle\": \"#f46a9b\", \"salivary gland\": \"#ef9b20\",},\n",
    ")\n",
    "models_distance = np.asarray([0, 0, -260])\n",
    "stage2_tissue_pc.points = stage2_tissue_pc.points + models_distance\n",
    "stage2_tissue_adata"
   ],
   "metadata": {
    "collapsed": false,
    "ExecuteTime": {
     "end_time": "2024-05-11T15:34:02.431163Z",
     "start_time": "2024-05-11T15:34:01.695086Z"
    }
   },
   "execution_count": 5,
   "outputs": []
  },
  {
   "cell_type": "code",
   "source": [
    "model_lines, _ = st.tdr.construct_align_lines(\n",
    "            model1_points=tissue_adata.obsm[\"3d_align_spatial\"].copy(),\n",
    "            model2_points=tissue_adata.obsm[\"X_cells_mapping\"] + models_distance,\n",
    "            key_added=\"mapping\",\n",
    "            label=\"lines\",\n",
    "            color=\"gainsboro\",\n",
    "            alpha=1.0,\n",
    "        )\n",
    "\n",
    "mapping_cpo = [(18, 1370, -141),(-1.8, 5.8, -156.8), (0, 0, 1)]\n",
    "st.pl.three_d_plot(\n",
    "        model=st.tdr.collect_models([model_lines, st.tdr.merge_models([tissue_pc, stage2_tissue_pc])]),\n",
    "        key=[\"mapping\", \"tissue\"],\n",
    "        jupyter=\"static\",\n",
    "        cpo=mapping_cpo,\n",
    "        background=\"white\",\n",
    "        window_size=(2560, 2048),\n",
    "        opacity=[0.1, 1],\n",
    "        model_style=[\"wireframe\", \"points\"],\n",
    "        model_size=[2, 16],\n",
    "        filename=os.path.join(out_image_path, f\"E7-8h-E8-9h_midgut_mapping_z_model_260.pdf\"),\n",
    "    )"
   ],
   "metadata": {
    "collapsed": false,
    "ExecuteTime": {
     "end_time": "2024-05-11T15:34:03.529195Z",
     "start_time": "2024-05-11T15:34:02.431711Z"
    }
   },
   "execution_count": 6,
   "outputs": []
  },
  {
   "cell_type": "markdown",
   "source": [
    "## Calculate the developmental Vectorfield"
   ],
   "metadata": {
    "collapsed": false
   }
  },
  {
   "cell_type": "code",
   "source": [
    "st.tdr.morphofield_sparsevfc(\n",
    "    adata=tissue_adata,\n",
    "    spatial_key=\"3d_align_spatial\",\n",
    "    V_key=\"V_cells_mapping\",\n",
    "    key_added=\"VecFld_morpho\",\n",
    "    NX=np.asarray(tissue_adata.obsm['3d_align_spatial']),\n",
    "    inplace=True,\n",
    ")\n",
    "\n",
    "tissue_pc.point_data[\"vectors\"] = tissue_adata.uns[\"VecFld_morpho\"][\"V\"]"
   ],
   "metadata": {
    "collapsed": false,
    "ExecuteTime": {
     "end_time": "2024-05-11T15:34:11.823125Z",
     "start_time": "2024-05-11T15:34:11.692211Z"
    }
   },
   "execution_count": 7,
   "outputs": []
  },
  {
   "cell_type": "code",
   "source": [
    "for i, k in zip([0, 2], [\"V_x\", \"V_z\"]):\n",
    "    vector_arrows1,_ = st.tdr.construct_field(\n",
    "        model=tissue_pc,\n",
    "        vf_key=\"vectors\",\n",
    "        arrows_scale_key=\"vectors\",\n",
    "        n_sampling=None,\n",
    "        factor=6000,\n",
    "        key_added=k,\n",
    "        label=tissue_pc.point_data[\"vectors\"][:, i].flatten(),\n",
    "        color= \"rainbow\",\n",
    "    )\n",
    "    st.pl.three_d_plot(\n",
    "        model=st.tdr.collect_models([tissue_pc, vector_arrows1]),\n",
    "        key=[\"tissue\", k],\n",
    "        colormap=[\"gainsboro\", \"Spectral\"],\n",
    "        opacity=[0.2, 1],\n",
    "        model_style=[\"points\", \"surface\"],\n",
    "        model_size=[16, 5],\n",
    "        jupyter=\"static\",\n",
    "        background=\"white\",\n",
    "        window_size=(2560, 2048),\n",
    "        cpo=cpo,\n",
    "        filename=os.path.join(out_image_path, f\"midgut_morphofield_vector_arrows_pc_model_{k}.pdf\")\n",
    "    )"
   ],
   "metadata": {
    "collapsed": false,
    "ExecuteTime": {
     "end_time": "2024-05-11T15:35:26.993379Z",
     "start_time": "2024-05-11T15:35:25.647388Z"
    }
   },
   "execution_count": 11,
   "outputs": []
  },
  {
   "cell_type": "markdown",
   "source": [
    "## Predict the cell developmentalal trajectory"
   ],
   "metadata": {
    "collapsed": false
   }
  },
  {
   "cell_type": "code",
   "source": [
    "st.tdr.morphopath(\n",
    "    adata=tissue_adata,\n",
    "    # layer=\"log1p_X\",\n",
    "    vf_key=\"VecFld_morpho\",\n",
    "    key_added=\"fate_morpho\",\n",
    "    t_end=10000,\n",
    "    interpolation_num=50,\n",
    "    cores=20\n",
    ")"
   ],
   "metadata": {
    "collapsed": false,
    "ExecuteTime": {
     "end_time": "2024-05-11T15:37:13.495132Z",
     "start_time": "2024-05-11T15:35:53.138073Z"
    }
   },
   "execution_count": 12,
   "outputs": []
  },
  {
   "cell_type": "code",
   "source": [
    "trajectory_model, _ = st.tdr.construct_trajectory(\n",
    "    adata=tissue_adata,\n",
    "    fate_key=\"fate_morpho\",\n",
    "    n_sampling=800,\n",
    "    sampling_method=\"trn\",\n",
    "    key_added=\"obs_index\",\n",
    "    label=np.asarray(tissue_adata.obs.index), # stage1_tissue_adata.uns[\"VecFld_morpho\"][\"V\"][:, 2].flatten(),\n",
    ")\n",
    "for i, k in zip([0, 2], [\"V_x\", \"V_z\"]):\n",
    "    tissue_adata.obs[k] = tissue_adata.uns[\"VecFld_morpho\"][\"V\"][:, i].flatten()\n",
    "    st.tdr.add_model_labels(\n",
    "        model=trajectory_model,\n",
    "        key_added=k,\n",
    "        labels=np.asarray(tissue_adata[np.asarray(trajectory_model.point_data[\"obs_index\"])].obs[k]),\n",
    "        colormap=\"Spectral\",\n",
    "        where=\"point_data\",\n",
    "        inplace=True,\n",
    "    )\n",
    "    st.pl.three_d_plot(\n",
    "        model=st.tdr.collect_models([tissue_pc, trajectory_model]),\n",
    "        key=[\"tissue\", k],\n",
    "        opacity=[0.2, .5],\n",
    "        model_style=[\"points\", \"wireframe\"],\n",
    "        model_size=[16, 5],\n",
    "        colormap=[\"gainsboro\", \"Spectral\"],\n",
    "        jupyter=\"static\",\n",
    "        background=\"white\",\n",
    "        window_size=(2560, 2048),\n",
    "        cpo=cpo,\n",
    "        filename=os.path.join(out_image_path, f\"midgut_morphofield_trajectory_pc_model_{k}.pdf\")\n",
    "    )"
   ],
   "metadata": {
    "collapsed": false,
    "ExecuteTime": {
     "end_time": "2024-05-11T15:40:20.778039Z",
     "start_time": "2024-05-11T15:39:33.656808Z"
    }
   },
   "execution_count": 15,
   "outputs": []
  },
  {
   "cell_type": "markdown",
   "source": [
    "## Animating cell fate prediction"
   ],
   "metadata": {
    "collapsed": false
   }
  },
  {
   "cell_type": "code",
   "source": [
    "cells_models, _ = st.tdr.construct_genesis(\n",
    "    adata=tissue_adata,\n",
    "    fate_key=\"fate_morpho\",\n",
    "    n_steps = 100,\n",
    "    logspace=True,\n",
    "    t_end=10000,\n",
    "    label=[tissue_adata.uns[\"VecFld_morpho\"][\"V\"][:, 0]] * 100,\n",
    "    color=\"Spectral\"\n",
    ")\n",
    "st.pl.three_d_animate(\n",
    "    models=cells_models,\n",
    "    stable_model=trajectory_model,\n",
    "    key=\"genesis\",\n",
    "    stable_kwargs=dict(\n",
    "        key=\"V_x\",\n",
    "        model_style=\"wireframe\",\n",
    "        model_size=5,\n",
    "        opacity=0.5,\n",
    "        colormap=\"Spectral\",\n",
    "        show_legend=False,\n",
    "    ),\n",
    "    filename=os.path.join(out_image_path, f\"midgut_morphofield_trajectory_model.mp4\"),\n",
    "    colormap=\"Spectral\",\n",
    "    model_style=\"points\",\n",
    "    model_size=16,\n",
    "    jupyter=\"static\",\n",
    "    background=\"white\",\n",
    "    window_size=(2560, 2048),\n",
    "    cpo=cpo,\n",
    "    framerate=10)"
   ],
   "metadata": {
    "collapsed": false,
    "ExecuteTime": {
     "end_time": "2024-05-12T06:48:56.433137Z",
     "start_time": "2024-05-12T06:48:38.204945Z"
    }
   },
   "execution_count": 16,
   "outputs": []
  },
  {
   "cell_type": "code",
   "source": [
    "cells_linear_models, _ = st.tdr.construct_genesis_X(\n",
    "    stages_X=[tissue_adata.obsm[\"3d_align_spatial\"], tissue_adata.obsm[\"X_cells_mapping\"]],\n",
    "    n_spacing=100,\n",
    "    key_added=\"genesis\",\n",
    "    color=\"Spectral\", \n",
    "    label=[tissue_adata.uns[\"VecFld_morpho\"][\"V\"][:, 0]] * (100 + 1),\n",
    ")\n",
    "st.pl.three_d_animate(\n",
    "    models=cells_linear_models,\n",
    "    stable_model=trajectory_model,\n",
    "    key=\"genesis\",\n",
    "    stable_kwargs=dict(\n",
    "        key=\"V_x\",\n",
    "        model_style=\"wireframe\",\n",
    "        model_size=5,\n",
    "        opacity=0.5,\n",
    "        colormap=\"Spectral\",\n",
    "        show_legend=False,\n",
    "    ),\n",
    "    filename=os.path.join(out_image_path, f\"midgut_morphofield_trajectory_model_linear.mp4\"),\n",
    "    model_style=\"points\",\n",
    "    model_size=16,\n",
    "    colormap=\"Spectral\",\n",
    "    jupyter=\"static\",\n",
    "    background=\"white\",\n",
    "    window_size=(2560, 2048),\n",
    "    cpo=cpo,\n",
    "    framerate=10)"
   ],
   "metadata": {
    "collapsed": false,
    "ExecuteTime": {
     "end_time": "2024-05-12T06:49:00.695760Z",
     "start_time": "2024-05-12T06:48:56.434111Z"
    }
   },
   "execution_count": 17,
   "outputs": []
  },
  {
   "cell_type": "markdown",
   "source": "## Morphometric features",
   "metadata": {
    "collapsed": false
   }
  },
  {
   "cell_type": "code",
   "source": [
    "st.tdr.morphofield_velocity(adata=tissue_adata, vf_key=\"VecFld_morpho\", key_added=\"morpho_velocity\",)\n",
    "st.tdr.morphofield_acceleration(adata=tissue_adata, vf_key=\"VecFld_morpho\", key_added=\"morpho_acceleration\",)\n",
    "st.tdr.morphofield_curvature(adata=tissue_adata, vf_key=\"VecFld_morpho\", key_added=\"morpho_curvature\")\n",
    "st.tdr.morphofield_curl(adata=tissue_adata, vf_key=\"VecFld_morpho\", key_added=\"morpho_curl\",)\n",
    "st.tdr.morphofield_torsion(adata=tissue_adata, vf_key=\"VecFld_morpho\", key_added=\"morpho_torsion\",)\n",
    "st.tdr.morphofield_divergence(adata=tissue_adata, vf_key=\"VecFld_morpho\", key_added=\"morpho_divergence\",)\n",
    "tissue_adata"
   ],
   "metadata": {
    "collapsed": false,
    "ExecuteTime": {
     "end_time": "2024-05-12T06:49:04.122518Z",
     "start_time": "2024-05-12T06:49:03.673309Z"
    }
   },
   "execution_count": 18,
   "outputs": []
  },
  {
   "cell_type": "code",
   "source": [
    "morphometrics_keys = [\"morpho_acceleration\", \"morpho_curvature\", \"morpho_curl\", \"morpho_torsion\", \"morpho_divergence\"]\n",
    "for mk in morphometrics_keys:\n",
    "    vector_arrows,_ = st.tdr.construct_field(\n",
    "        model=tissue_pc,\n",
    "        vf_key=\"vectors\",\n",
    "        arrows_scale_key=\"vectors\",\n",
    "        n_sampling=None,\n",
    "        factor=6000,\n",
    "        key_added=mk,\n",
    "        label=np.asarray(tissue_adata[np.asarray(tissue_pc.point_data[\"obs_index\"])].obs[mk]),\n",
    "        color=\"afmhot_r\",\n",
    "    )\n",
    "    \n",
    "    st.tdr.add_model_labels(\n",
    "        model = tissue_pc,\n",
    "        key_added = mk,\n",
    "        labels = np.asarray(tissue_adata[np.asarray(tissue_pc.point_data[\"obs_index\"])].obs[mk]),\n",
    "        colormap = \"afmhot_r\",\n",
    "        where = \"point_data\",\n",
    "        inplace = True,\n",
    "    )\n",
    "    st.pl.three_d_plot(\n",
    "        model=st.tdr.collect_models([tissue_pc, vector_arrows]),\n",
    "        key=[mk, mk],\n",
    "        model_style=[\"points\", \"surface\"],\n",
    "        model_size=[16, 5],\n",
    "        opacity=[0.2, 1],\n",
    "        colormap=[\"afmhot_r\", \"afmhot_r\"],\n",
    "        show_legend=True,\n",
    "        jupyter=\"static\",\n",
    "        background=\"white\",\n",
    "        cpo=cpo,\n",
    "        window_size=(2560, 2048),\n",
    "        text=mk,\n",
    "        filename=os.path.join(out_image_path, f\"midgut_morphometrics_{mk}_arrows.pdf\")\n",
    "    )"
   ],
   "metadata": {
    "collapsed": false,
    "ExecuteTime": {
     "end_time": "2024-05-12T06:50:23.169987Z",
     "start_time": "2024-05-12T06:50:19.738861Z"
    }
   },
   "execution_count": 19,
   "outputs": []
  },
  {
   "cell_type": "code",
   "source": [
    "morphometrics_keys = [\"morpho_acceleration\", \"morpho_curvature\", \"morpho_curl\", \"morpho_torsion\", \"morpho_divergence\"]\n",
    "\n",
    "for mk in morphometrics_keys:\n",
    "    st.tdr.add_model_labels(\n",
    "        model=trajectory_model,\n",
    "        key_added=mk,\n",
    "        labels=np.asarray(tissue_adata[np.asarray(trajectory_model.point_data[\"obs_index\"])].obs[mk]),\n",
    "        colormap=\"Spectral\",\n",
    "        where=\"point_data\",\n",
    "        inplace=True,\n",
    "    )\n",
    "    st.pl.three_d_plot(\n",
    "        model=st.tdr.collect_models([tissue_pc, trajectory_model]),\n",
    "        key=[mk, mk],\n",
    "        model_style=[\"points\", \"wireframe\"],\n",
    "        model_size=[16, 5],\n",
    "        opacity=[0.2, 0.5],\n",
    "        colormap=[\"gainsboro\", \"afmhot_r\"],\n",
    "        show_legend=True,\n",
    "        jupyter=\"static\",\n",
    "        background=\"white\",\n",
    "        cpo=cpo,\n",
    "        window_size=(2560, 2048),\n",
    "        text=mk,\n",
    "        filename=os.path.join(out_image_path, f\"midgut_morphometrics_{mk}_trajectory.pdf\")\n",
    "    )"
   ],
   "metadata": {
    "collapsed": false,
    "ExecuteTime": {
     "end_time": "2024-05-12T06:50:58.685553Z",
     "start_time": "2024-05-12T06:50:55.407916Z"
    }
   },
   "execution_count": 20,
   "outputs": []
  },
  {
   "cell_type": "markdown",
   "source": [
    "## Save the anndata objects and models"
   ],
   "metadata": {
    "collapsed": false
   }
  },
  {
   "cell_type": "code",
   "source": [
    "del tissue_adata.uns[\"morpho_torsion\"], tissue_adata.uns[\"fate_morpho\"], tissue_adata.uns[\"glm_degs\"], tissue_adata.uns[\"log1p\"]\n",
    "tissue_adata.write_h5ad(os.path.join(out_h5ad_path, f\"droso_{sample_id}_midgut_v4.h5ad\"), compression=\"gzip\")\n",
    "st.tdr.save_model(model=tissue_pc, filename=os.path.join(out_h5ad_path, \"midgut_morphometrics_pc_model.vtk\"))\n",
    "st.tdr.save_model(model=trajectory_model, filename=os.path.join(out_h5ad_path, \"midgut_morphometrics_trajectory_model.vtk\"))\n",
    "tissue_adata"
   ],
   "metadata": {
    "collapsed": false,
    "ExecuteTime": {
     "end_time": "2024-05-12T06:51:09.351917Z",
     "start_time": "2024-05-12T06:51:08.585033Z"
    }
   },
   "execution_count": 21,
   "outputs": []
  },
  {
   "cell_type": "code",
   "execution_count": null,
   "source": [],
   "metadata": {
    "collapsed": false
   },
   "outputs": []
  }
 ],
 "metadata": {
  "kernelspec": {
   "display_name": "Python 3",
   "language": "python",
   "name": "python3"
  },
  "language_info": {
   "codemirror_mode": {
    "name": "ipython",
    "version": 2
   },
   "file_extension": ".py",
   "mimetype": "text/x-python",
   "name": "python",
   "nbconvert_exporter": "python",
   "pygments_lexer": "ipython2",
   "version": "2.7.6"
  }
 },
 "nbformat": 4,
 "nbformat_minor": 0
}
