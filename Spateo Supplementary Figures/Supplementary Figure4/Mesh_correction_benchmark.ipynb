{
 "cells": [
  {
   "cell_type": "code",
   "execution_count": 1,
   "metadata": {},
   "outputs": [],
   "source": [
    "import seaborn as sns\n",
    "from matplotlib import pyplot as plt\n",
    "from matplotlib.gridspec import GridSpec\n",
    "from matplotlib import style\n",
    "import pandas as pd\n",
    "import numpy as np\n",
    "\n",
    "import matplotlib as mpl\n",
    "from scipy.stats import ttest_ind"
   ]
  },
  {
   "cell_type": "markdown",
   "metadata": {},
   "source": [
    "# Load the evaluation results"
   ]
  },
  {
   "cell_type": "code",
   "execution_count": 3,
   "metadata": {},
   "outputs": [],
   "source": [
    "pairwise_res_df = pd.read_pickle('./results/mesh_correction_benchmark_results/BARSeq_3D_reconstruction_results.pkl')\n",
    "mesh_correct_df = pd.read_pickle('./results/mesh_correction_benchmark_results/mesh_correction_bk.pkl')\n",
    "res_df = pd.concat([pairwise_res_df, mesh_correct_df], axis=0)"
   ]
  },
  {
   "cell_type": "code",
   "execution_count": 4,
   "metadata": {},
   "outputs": [
    {
     "data": {
      "text/plain": [
       "Index(['Moscot', 'Moscot-M', 'PASTE', 'PASTE-M', 'PASTE2', 'PASTE2-M', 'SLAT',\n",
       "       'SLAT-GT', 'SLAT-M', 'SPACEL', 'SPACEL-M', 'STAlign', 'Spateo',\n",
       "       'Spateo-M'],\n",
       "      dtype='object')"
      ]
     },
     "execution_count": 4,
     "metadata": {},
     "output_type": "execute_result"
    }
   ],
   "source": [
    "res_df['Method'].astype('category').cat.categories"
   ]
  },
  {
   "cell_type": "code",
   "execution_count": 18,
   "metadata": {},
   "outputs": [],
   "source": [
    "methods = ['Spateo', 'Spateo-M', 'PASTE', 'PASTE-M', 'PASTE2', 'PASTE2-M', 'Moscot', 'Moscot-M', 'SLAT', 'SLAT-GT', 'SLAT-M', 'STAlign', 'SPACEL', 'SPACEL-M']\n",
    "my_palette = [np.array([157,60,135]) / 255] + [np.array([202,178,214]) / 255] + sns.color_palette('Paired')[0:3]+sns.color_palette('Paired')[4:6]+sns.color_palette('Paired')[6:8]+sns.color_palette('Paired')[11:12]"
   ]
  },
  {
   "cell_type": "code",
   "execution_count": 22,
   "metadata": {},
   "outputs": [
    {
     "name": "stderr",
     "output_type": "stream",
     "text": [
      "/var/folders/0t/j8lqqv395s9dmsghvtt0pjy80000gr/T/ipykernel_72407/956196238.py:10: UserWarning: \n",
      "The palette list has fewer values (10) than needed (14) and will cycle, which may produce an uninterpretable plot.\n",
      "  g = sns.barplot(\n",
      "/var/folders/0t/j8lqqv395s9dmsghvtt0pjy80000gr/T/ipykernel_72407/956196238.py:10: FutureWarning: \n",
      "\n",
      "The `errwidth` parameter is deprecated. And will be removed in v0.15.0. Pass `err_kws={'linewidth': 1.6}` instead.\n",
      "\n",
      "  g = sns.barplot(\n"
     ]
    },
    {
     "data": {
      "image/png": "[encoded data removed]",
      "text/plain": [
       "<Figure size 400x300 with 1 Axes>"
      ]
     },
     "metadata": {},
     "output_type": "display_data"
    }
   ],
   "source": [
    "sns.set_theme(style=\"ticks\")\n",
    "COLOR = 'black'\n",
    "mpl.rcParams['text.color'] = COLOR\n",
    "mpl.rcParams['axes.labelcolor'] = COLOR\n",
    "mpl.rcParams['xtick.color'] = COLOR\n",
    "mpl.rcParams['ytick.color'] = COLOR\n",
    "mpl.rcParams.update({'text.color' : COLOR, 'axes.labelcolor' : COLOR})\n",
    "\n",
    "fig, ax = plt.subplots(1,1,figsize=(4,3))\n",
    "g = sns.barplot(\n",
    "    x=\"mae\", \n",
    "    y=\"Method\",\n",
    "    hue=\"Method\",\n",
    "    data=res_df,\n",
    "    ax=ax,\n",
    "    # edgecolor='black',\n",
    "    palette=my_palette,\n",
    "    errwidth=1.6,\n",
    "    hue_order=methods,\n",
    "    order=methods,\n",
    "    # dodge=True,\n",
    "    # gap=0.02\n",
    ")\n",
    "ax.spines['bottom'].set_color(COLOR)\n",
    "ax.spines['top'].set_color(COLOR) \n",
    "ax.spines['right'].set_color(COLOR)\n",
    "ax.spines['left'].set_color(COLOR)\n",
    "\n",
    "# ax.set_xticks(np.arange(0,0.4,0.1))\n",
    "# ax.set_xticklabels([])\n",
    "ax.set_ylabel('', color='black')\n",
    "ax.set_xlabel('Global MAE', color='black')\n",
    "# ax.set_yticklabels(['Spateo','Spateo-G','PASTE','PASTE2','Moscot-R','SLAT','SLAT-GT', 'STAlign', 'STAlign-GT', 'SPACEL'], rotation=0)\n",
    "ax.set_title('')\n",
    "\n",
    "\n",
    "\n",
    "sns.despine(top=True, right=True)"
   ]
  },
  {
   "cell_type": "code",
   "execution_count": null,
   "metadata": {},
   "outputs": [],
   "source": []
  }
 ],
 "metadata": {
  "kernelspec": {
   "display_name": "Spateo",
   "language": "python",
   "name": "python3"
  },
  "language_info": {
   "codemirror_mode": {
    "name": "ipython",
    "version": 3
   },
   "file_extension": ".py",
   "mimetype": "text/x-python",
   "name": "python",
   "nbconvert_exporter": "python",
   "pygments_lexer": "ipython3",
   "version": "3.9.19"
  }
 },
 "nbformat": 4,
 "nbformat_minor": 2
}
