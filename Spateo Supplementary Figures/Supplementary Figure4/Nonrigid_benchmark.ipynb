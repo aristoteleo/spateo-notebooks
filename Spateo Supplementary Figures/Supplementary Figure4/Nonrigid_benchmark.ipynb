{
 "cells": [
  {
   "cell_type": "code",
   "execution_count": 1,
   "metadata": {},
   "outputs": [],
   "source": [
    "import seaborn as sns\n",
    "from matplotlib import pyplot as plt\n",
    "from matplotlib.gridspec import GridSpec\n",
    "from matplotlib import style\n",
    "import pandas as pd\n",
    "import numpy as np\n",
    "\n",
    "import matplotlib as mpl\n",
    "from scipy.stats import ttest_ind"
   ]
  },
  {
   "cell_type": "markdown",
   "metadata": {},
   "source": [
    "# Plot benchmark when distortion level = 5"
   ]
  },
  {
   "cell_type": "code",
   "execution_count": 2,
   "metadata": {},
   "outputs": [],
   "source": [
    "res_df = pd.read_pickle('./results/nonrigid_benchmark_results/Fixed_distort_stats.pkl')\n",
    "sagittal_GT = 0.017661\n",
    "well_GT = 0.023275161"
   ]
  },
  {
   "cell_type": "code",
   "execution_count": 3,
   "metadata": {},
   "outputs": [],
   "source": [
    "methods = ['PASTE', 'PASTE2', 'Moscot_rigid', 'Moscot_nonrigid', 'SLAT', 'SLAT_GT', 'STAlign', 'STAlign_prealign', 'SPACEL', 'Spateo', ]\n",
    "my_palette = sns.color_palette('Paired')[0:4]+sns.color_palette('Paired')[4:6]+sns.color_palette('Paired')[6:8]+sns.color_palette('Paired')[11:12] + [np.array([157,60,135]) / 255]"
   ]
  },
  {
   "cell_type": "code",
   "execution_count": 4,
   "metadata": {},
   "outputs": [
    {
     "name": "stderr",
     "output_type": "stream",
     "text": [
      "C:\\Users\\lyf04\\AppData\\Local\\Temp\\ipykernel_12996\\3910480145.py:13: FutureWarning: \n",
      "\n",
      "The `errwidth` parameter is deprecated. And will be removed in v0.15.0. Pass `err_kws={'linewidth': 1.6}` instead.\n",
      "\n",
      "  g = sns.barplot(\n",
      "C:\\Users\\lyf04\\AppData\\Local\\Temp\\ipykernel_12996\\3910480145.py:29: UserWarning: FixedFormatter should only be used together with FixedLocator\n",
      "  axs[0].set_yticklabels(['PASTE', 'PASTE2', 'Moscot-R', 'Moscot-N', 'SLAT', 'SLAT-GT', 'STAlign', 'STAlign-GT', 'SPACEL', 'Spateo'])\n"
     ]
    },
    {
     "name": "stdout",
     "output_type": "stream",
     "text": [
      "SPACEL - Spateo: p-value:1.1810153393080518e-07\n",
      "STAlign_prealign - Spateo: p-value:1.9109590432550233e-05\n"
     ]
    },
    {
     "name": "stderr",
     "output_type": "stream",
     "text": [
      "C:\\Users\\lyf04\\AppData\\Local\\Temp\\ipykernel_12996\\3910480145.py:63: FutureWarning: \n",
      "\n",
      "The `errwidth` parameter is deprecated. And will be removed in v0.15.0. Pass `err_kws={'linewidth': 1.6}` instead.\n",
      "\n",
      "  sns.barplot(\n"
     ]
    },
    {
     "data": {
      "image/png": "[encoded data removed]",
      "text/plain": [
       "<Figure size 400x200 with 2 Axes>"
      ]
     },
     "metadata": {},
     "output_type": "display_data"
    }
   ],
   "source": [
    "sns.set_theme(style=\"ticks\")\n",
    "COLOR = 'black'\n",
    "mpl.rcParams['text.color'] = COLOR\n",
    "mpl.rcParams['axes.labelcolor'] = COLOR\n",
    "mpl.rcParams['xtick.color'] = COLOR\n",
    "mpl.rcParams['ytick.color'] = COLOR\n",
    "mpl.rcParams.update({'text.color': COLOR,\n",
    "                     'axes.labelcolor': COLOR})\n",
    "\n",
    "fig, axs = plt.subplots(1,2, figsize=(4,2), gridspec_kw={'wspace':0.05, 'width_ratios': [1,0.5]})\n",
    "\n",
    "# Plotting sagittal data part1\n",
    "g = sns.barplot(\n",
    "    x=\"mae\",\n",
    "    y=\"Method\",\n",
    "    hue=\"Method\",\n",
    "    data=res_df[res_df['dataset'] == 'sagittal'],\n",
    "    ax=axs[0],\n",
    "    palette=my_palette,\n",
    "    errwidth=1.6,\n",
    "    order=methods,\n",
    "    hue_order=methods\n",
    ")\n",
    "\n",
    "axs[0].spines['bottom'].set_color(COLOR)\n",
    "axs[0].spines['top'].set_color(COLOR)\n",
    "axs[0].spines['right'].set_color(COLOR)\n",
    "axs[0].spines['left'].set_color(COLOR)\n",
    "axs[0].set_yticklabels(['PASTE', 'PASTE2', 'Moscot-R', 'Moscot-N', 'SLAT', 'SLAT-GT', 'STAlign', 'STAlign-GT', 'SPACEL', 'Spateo'])\n",
    "axs[0].set_xlim([0,0.05])\n",
    "axs[0].set_xlabel('', color='black')\n",
    "axs[0].set_ylabel('', color='black')\n",
    "axs[0].set_title('')\n",
    "axs[0].set_ylim([9.8, -0.8])\n",
    "axs[0].plot([sagittal_GT, sagittal_GT], [-0.4, 9.5], color=np.array([170, 171, 171]) / 255, linestyle='--', lw=1.5)\n",
    "\n",
    "# add significance\n",
    "y = 0.03\n",
    "text_interval = 0.03 * 0.08\n",
    "h = 0.02\n",
    "x1 = 8\n",
    "x2 = 9\n",
    "group1 = res_df[(res_df['dataset'] == 'sagittal') & (res_df['Method'] == methods[x1])]['mae']\n",
    "group2 = res_df[(res_df['dataset'] == 'sagittal') & (res_df['Method'] == methods[x2])]['mae']\n",
    "t_stat, p_val = ttest_ind(group1, group2)\n",
    "print(f'{methods[x1]} - {methods[x2]}: p-value:{p_val}')\n",
    "axs[0].plot([y, y], [x1, x2], lw=1.5, c='k')\n",
    "axs[0].text(y + text_interval, (x1 + x2) * .5, '1e-7', ha='center', va='center', c='k', rotation=-90)\n",
    "\n",
    "\n",
    "y = 0.04\n",
    "h = 0.02\n",
    "x1 = 7\n",
    "x2 = 9\n",
    "group1 = res_df[(res_df['dataset'] == 'sagittal') & (res_df['Method'] == methods[x1])]['mae']\n",
    "group2 = res_df[(res_df['dataset'] == 'sagittal') & (res_df['Method'] == methods[x2])]['mae']\n",
    "t_stat, p_val = ttest_ind(group1, group2)\n",
    "axs[0].plot([y, y], [x1, x2], lw=1.5, c='k')\n",
    "axs[0].text(y+text_interval, (x1 + x2) * .5, '2e-5', ha='center', va='center', c='k', rotation=-90)\n",
    "print(f'{methods[x1]} - {methods[x2]}: p-value:{p_val}')\n",
    "\n",
    "# Plotting sagittal data part2\n",
    "sns.barplot(\n",
    "    x=\"mae\",\n",
    "    y=\"Method\",\n",
    "    hue=\"Method\",\n",
    "    data=res_df[res_df['dataset'] == 'sagittal'],\n",
    "    ax=axs[1],\n",
    "    palette=my_palette,\n",
    "    errwidth=1.6,\n",
    "    order=methods,\n",
    "    hue_order=methods\n",
    ")\n",
    "axs[1].set_xlabel('', color='black')\n",
    "axs[1].set_title('')\n",
    "axs[1].set_yticklabels([])\n",
    "axs[1].set_yticks([])\n",
    "axs[1].set_xticks([0.1,0.3])\n",
    "axs[1].spines['bottom'].set_color(COLOR)\n",
    "axs[1].spines['top'].set_color(COLOR)\n",
    "axs[1].spines['right'].set_color(COLOR)\n",
    "axs[1].spines['left'].set_color(COLOR)\n",
    "axs[1].set_ylabel('', color='black')\n",
    "axs[1].set_xlim([0.05,0.4])\n",
    "axs[1].set_ylim([9.8, -0.8])\n",
    "sns.despine(ax=axs[0])\n",
    "sns.despine(ax=axs[1], left=True)\n",
    "# plt.savefig('./figures/nonrigid_benchmark/fix_distort_level_part1.pdf', dpi=300, bbox_inches='tight', transparent=True)"
   ]
  },
  {
   "cell_type": "code",
   "execution_count": 5,
   "metadata": {},
   "outputs": [
    {
     "name": "stderr",
     "output_type": "stream",
     "text": [
      "C:\\Users\\lyf04\\AppData\\Local\\Temp\\ipykernel_12996\\3160132870.py:13: FutureWarning: \n",
      "\n",
      "The `errwidth` parameter is deprecated. And will be removed in v0.15.0. Pass `err_kws={'linewidth': 1.6}` instead.\n",
      "\n",
      "  g = sns.barplot(\n"
     ]
    },
    {
     "name": "stdout",
     "output_type": "stream",
     "text": [
      "SPACEL - Spateo: p-value:1.400577988324044e-06\n",
      "STAlign_prealign - Spateo: p-value:3.6008397858483224e-13\n"
     ]
    },
    {
     "name": "stderr",
     "output_type": "stream",
     "text": [
      "C:\\Users\\lyf04\\AppData\\Local\\Temp\\ipykernel_12996\\3160132870.py:64: FutureWarning: \n",
      "\n",
      "The `errwidth` parameter is deprecated. And will be removed in v0.15.0. Pass `err_kws={'linewidth': 1.6}` instead.\n",
      "\n",
      "  sns.barplot(\n"
     ]
    },
    {
     "data": {
      "image/png": "[encoded data removed]",
      "text/plain": [
       "<Figure size 400x200 with 2 Axes>"
      ]
     },
     "metadata": {},
     "output_type": "display_data"
    }
   ],
   "source": [
    "sns.set_theme(style=\"ticks\")\n",
    "COLOR = 'black'\n",
    "mpl.rcParams['text.color'] = COLOR\n",
    "mpl.rcParams['axes.labelcolor'] = COLOR\n",
    "mpl.rcParams['xtick.color'] = COLOR\n",
    "mpl.rcParams['ytick.color'] = COLOR\n",
    "mpl.rcParams.update({'text.color': COLOR,\n",
    "                     'axes.labelcolor': COLOR})\n",
    "\n",
    "fig, axs = plt.subplots(1,2, figsize=(4,2), gridspec_kw={'wspace':0.05, 'width_ratios': [1,0.5]})\n",
    "\n",
    "# Plotting well data part1\n",
    "g = sns.barplot(\n",
    "    x=\"mae\",\n",
    "    y=\"Method\",\n",
    "    hue=\"Method\",\n",
    "    data=res_df[res_df['dataset'] == 'well'],\n",
    "    ax=axs[0],\n",
    "    palette=my_palette,\n",
    "    errwidth=1.6,\n",
    "    order=methods,\n",
    "    hue_order=methods\n",
    ")\n",
    "\n",
    "axs[0].spines['bottom'].set_color(COLOR)\n",
    "axs[0].spines['top'].set_color(COLOR)\n",
    "axs[0].spines['right'].set_color(COLOR)\n",
    "axs[0].spines['left'].set_color(COLOR)\n",
    "axs[0].set_yticklabels([])\n",
    "axs[0].set_yticks([])\n",
    "axs[0].set_xlim([0,0.05])\n",
    "axs[0].set_xlabel('', color='black')\n",
    "axs[0].set_ylabel('', color='black')\n",
    "axs[0].set_title('')\n",
    "axs[0].set_ylim([9.8, -0.8])\n",
    "axs[0].plot([well_GT, well_GT],  [-0.4, 9.5], color=np.array([170, 171, 171]) / 255, linestyle='--', lw=1.5)\n",
    "\n",
    "# add significance\n",
    "y = 0.037\n",
    "text_interval = 0.03 * 0.08\n",
    "h = 0.02\n",
    "x1 = 8\n",
    "x2 = 9\n",
    "group1 = res_df[(res_df['dataset'] == 'well') & (res_df['Method'] == methods[x1])]['mae']\n",
    "group2 = res_df[(res_df['dataset'] == 'well') & (res_df['Method'] == methods[x2])]['mae']\n",
    "t_stat, p_val = ttest_ind(group1, group2)\n",
    "print(f'{methods[x1]} - {methods[x2]}: p-value:{p_val}')\n",
    "axs[0].plot([y, y], [x1, x2], lw=1.5, c='k')\n",
    "axs[0].text(y + text_interval, (x1 + x2) * .5, '1e-6', ha='center', va='center', c='k', rotation=-90)\n",
    "\n",
    "\n",
    "y = 0.045\n",
    "h = 0.02\n",
    "x1 = 7\n",
    "x2 = 9\n",
    "group1 = res_df[(res_df['dataset'] == 'well') & (res_df['Method'] == methods[x1])]['mae']\n",
    "group2 = res_df[(res_df['dataset'] == 'well') & (res_df['Method'] == methods[x2])]['mae']\n",
    "t_stat, p_val = ttest_ind(group1, group2)\n",
    "axs[0].plot([y, y], [x1, x2], lw=1.5, c='k')\n",
    "axs[0].text(y+text_interval, (x1 + x2) * .5, '4e-13', ha='center', va='center', c='k', rotation=-90)\n",
    "print(f'{methods[x1]} - {methods[x2]}: p-value:{p_val}')\n",
    "\n",
    "# Plotting well data part2\n",
    "sns.barplot(\n",
    "    x=\"mae\",\n",
    "    y=\"Method\",\n",
    "    hue=\"Method\",\n",
    "    data=res_df[res_df['dataset'] == 'well'],\n",
    "    ax=axs[1],\n",
    "    palette=my_palette,\n",
    "    errwidth=1.6,\n",
    "    order=methods,\n",
    "    hue_order=methods\n",
    ")\n",
    "\n",
    "axs[1].set_xlabel('', color='black')\n",
    "axs[1].set_title('')\n",
    "axs[1].set_yticklabels([])\n",
    "axs[1].set_yticks([])\n",
    "axs[1].set_ylim([9.8, -0.8])\n",
    "axs[1].set_xticks([0.1,0.3])\n",
    "axs[1].spines['bottom'].set_color(COLOR)\n",
    "axs[1].spines['top'].set_color(COLOR)\n",
    "axs[1].spines['right'].set_color(COLOR)\n",
    "axs[1].spines['left'].set_color(COLOR)\n",
    "axs[1].set_ylabel('', color='black')\n",
    "axs[1].set_xlim([0.05,0.4])\n",
    "\n",
    "sns.despine(ax=axs[0])\n",
    "sns.despine(ax=axs[1], left=True)\n",
    "# plt.tight_layout()\n",
    "# plt.savefig('./figures/nonrigid_benchmark/fix_distort_level_part2.pdf', dpi=300, bbox_inches='tight', transparent=True)"
   ]
  },
  {
   "cell_type": "markdown",
   "metadata": {},
   "source": [
    "# Plot benchmark results with respect to different distortion level"
   ]
  },
  {
   "cell_type": "code",
   "execution_count": 6,
   "metadata": {},
   "outputs": [],
   "source": [
    "res_df = pd.read_pickle('./results/nonrigid_benchmark_results/Differ_distort_stats.pkl')\n",
    "res_df['is_GT'] = 0\n",
    "res_df.loc[res_df['Method'] == 'GTRotation', 'is_GT'] = 1"
   ]
  },
  {
   "cell_type": "code",
   "execution_count": 7,
   "metadata": {},
   "outputs": [],
   "source": [
    "methods = ['Spateo', 'PASTE', 'PASTE2', 'Moscot_rigid', 'Moscot_nonrigid', 'SLAT','SLAT_GT','STAlign_wo_prealign', 'STAlign_prealign', 'SPACEL', 'GTRotation']\n",
    "my_palette = [np.array([157,60,135]) / 255] + sns.color_palette('Paired')[0:4]+sns.color_palette('Paired')[4:6]+sns.color_palette('Paired')[6:8]+sns.color_palette('Paired')[11:12]+[np.array([170,171,171])/255]"
   ]
  },
  {
   "cell_type": "code",
   "execution_count": 8,
   "metadata": {},
   "outputs": [
    {
     "data": {
      "image/png": "[encoded data removed]",
      "text/plain": [
       "<Figure size 400x200 with 2 Axes>"
      ]
     },
     "metadata": {},
     "output_type": "display_data"
    }
   ],
   "source": [
    "import matplotlib as mpl\n",
    "sns.set_theme(style=\"ticks\")\n",
    "COLOR = 'black'\n",
    "mpl.rcParams['text.color'] = COLOR\n",
    "mpl.rcParams['axes.labelcolor'] = COLOR\n",
    "mpl.rcParams['xtick.color'] = COLOR\n",
    "mpl.rcParams['ytick.color'] = COLOR\n",
    "mpl.rcParams.update({'text.color' : COLOR,\n",
    "                     'axes.labelcolor' : COLOR})\n",
    "fig, axs = plt.subplots(2,1,figsize=(4,2), gridspec_kw={'hspace':0.1})\n",
    "ax = axs[0]\n",
    "sns.set_theme(style=\"ticks\")\n",
    "g = sns.lineplot(\n",
    "    x=\"distort_level\", \n",
    "    y=\"mae\",\n",
    "    hue=\"Method\",\n",
    "    data=res_df,\n",
    "    ax=ax,\n",
    "    err_kws={'edgecolor': None},\n",
    "    legend=False,\n",
    "    style='is_GT',\n",
    "    hue_order=methods,\n",
    "    palette=my_palette,\n",
    ")\n",
    "\n",
    "ax.spines['bottom'].set_color(COLOR)\n",
    "ax.spines['top'].set_color(COLOR) \n",
    "ax.spines['right'].set_color(COLOR)\n",
    "ax.spines['left'].set_color(COLOR)\n",
    "sns.despine(top=True, right=True)\n",
    "\n",
    "ax.set_xlabel('', color='black')\n",
    "ax.set_ylabel('', color='black')\n",
    "ax.set_ylim(0.05,0.43)\n",
    "ax.set_xticks([])\n",
    "ax.set_yticks([0.1,0.4])\n",
    "ax.set_yticklabels([\"0.1\", \"0.4\"])\n",
    "ax = axs[1]\n",
    "sns.set_theme(style=\"ticks\")\n",
    "overlap_ratio = 0.5\n",
    "g = sns.lineplot(\n",
    "    x=\"distort_level\", \n",
    "    y=\"mae\",\n",
    "    hue=\"Method\",\n",
    "    data=res_df,\n",
    "    ax=ax,\n",
    "    err_kws={'edgecolor': None},\n",
    "    legend=False,\n",
    "    style='is_GT',\n",
    "    hue_order=methods,\n",
    "    palette=my_palette,\n",
    ")\n",
    "\n",
    "ax.spines['bottom'].set_color(COLOR)\n",
    "ax.spines['top'].set_color(COLOR) \n",
    "ax.spines['right'].set_color(COLOR)\n",
    "ax.spines['left'].set_color(COLOR)\n",
    "sns.despine(top=True, right=True)\n",
    "\n",
    "ax.set_xlabel('', color='black')\n",
    "ax.set_ylabel('', color='black')\n",
    "ax.set_ylim(0,0.05)\n",
    "ax.set_yticks([0,0.02,0.04])\n",
    "ax.set_yticklabels([\"0\", \".02\", \".04\"])\n",
    "sns.despine(ax=axs[0], bottom=True)\n",
    "sns.despine(ax=axs[1])\n",
    "# plt.savefig('./figures/nonrigid_benchmark/Different_distort_level.pdf', dpi=300, bbox_inches='tight', transparent=True)"
   ]
  },
  {
   "cell_type": "code",
   "execution_count": null,
   "metadata": {},
   "outputs": [],
   "source": []
  }
 ],
 "metadata": {
  "kernelspec": {
   "display_name": "Spateo",
   "language": "python",
   "name": "python3"
  },
  "language_info": {
   "codemirror_mode": {
    "name": "ipython",
    "version": 3
   },
   "file_extension": ".py",
   "mimetype": "text/x-python",
   "name": "python",
   "nbconvert_exporter": "python",
   "pygments_lexer": "ipython3",
   "version": "3.9.19"
  }
 },
 "nbformat": 4,
 "nbformat_minor": 2
}
