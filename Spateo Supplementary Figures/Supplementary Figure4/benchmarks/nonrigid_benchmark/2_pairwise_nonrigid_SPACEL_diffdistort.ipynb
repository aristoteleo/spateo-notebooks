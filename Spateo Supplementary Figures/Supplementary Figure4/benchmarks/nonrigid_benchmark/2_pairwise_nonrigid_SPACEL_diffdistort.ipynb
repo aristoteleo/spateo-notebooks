{
 "cells": [
  {
   "cell_type": "code",
   "execution_count": 1,
   "id": "53ec7097-cfb0-4b03-a11e-a77172e4df5a",
   "metadata": {
    "execution": {
     "iopub.execute_input": "2024-07-30T20:33:00.398389Z",
     "iopub.status.busy": "2024-07-30T20:33:00.398010Z",
     "iopub.status.idle": "2024-07-30T20:33:09.233171Z",
     "shell.execute_reply": "2024-07-30T20:33:09.232097Z",
     "shell.execute_reply.started": "2024-07-30T20:33:00.398364Z"
    }
   },
   "outputs": [
    {
     "name": "stderr",
     "output_type": "stream",
     "text": [
      "/home/ylu/anaconda3/envs/SPACEL/lib/python3.8/site-packages/tqdm/auto.py:21: TqdmWarning: IProgress not found. Please update jupyter and ipywidgets. See https://ipywidgets.readthedocs.io/en/stable/user_install.html\n",
      "  from .autonotebook import tqdm as notebook_tqdm\n"
     ]
    }
   ],
   "source": [
    "import os\n",
    "os.environ['CUDA_VISIBLE_DEVICES'] = '1'\n",
    "import sys\n",
    "from pathlib import Path\n",
    "import anndata as ad\n",
    "import numpy as np\n",
    "# import dynamo as dyn\n",
    "import warnings\n",
    "warnings.simplefilter(action='ignore', category=FutureWarning)\n",
    "\n",
    "sys.path.insert(0, \"../../scripts/methods\")\n",
    "from my_SPACEL import spacel_align, spacel_align_ref\n",
    "\n",
    "sys.path.insert(0, \"/home/ylu/project\")\n",
    "from utils import *\n",
    "from tqdm import tqdm"
   ]
  },
  {
   "cell_type": "code",
   "execution_count": 2,
   "id": "0fe9454c-9428-4abe-9c33-59e0b91e6466",
   "metadata": {
    "execution": {
     "iopub.execute_input": "2024-07-30T20:33:09.236951Z",
     "iopub.status.busy": "2024-07-30T20:33:09.234881Z",
     "iopub.status.idle": "2024-07-30T20:33:09.255674Z",
     "shell.execute_reply": "2024-07-30T20:33:09.254207Z",
     "shell.execute_reply.started": "2024-07-30T20:33:09.236922Z"
    }
   },
   "outputs": [],
   "source": [
    "data_folder = \"../../data/STARMapPlus_nonrigid_simulation_different_distort/\"\n",
    "results_folder = \"./nonrigid_different_distort_results/SPACEL\"\n",
    "Path(results_folder).mkdir(parents=True, exist_ok=True)\n",
    "cache_folder = os.path.join(results_folder, 'Scube_outputs')\n",
    "Path(cache_folder).mkdir(parents=True, exist_ok=True)\n"
   ]
  },
  {
   "cell_type": "code",
   "execution_count": 3,
   "id": "72109deb-c022-49ff-a26f-8507f34ffef3",
   "metadata": {
    "execution": {
     "iopub.execute_input": "2024-07-30T20:33:09.257147Z",
     "iopub.status.busy": "2024-07-30T20:33:09.256916Z",
     "iopub.status.idle": "2024-07-30T20:33:10.251098Z",
     "shell.execute_reply": "2024-07-30T20:33:10.250269Z",
     "shell.execute_reply.started": "2024-07-30T20:33:09.257127Z"
    }
   },
   "outputs": [],
   "source": [
    "slice_name = ['A','B','C','D']\n",
    "tps_slice_name = ['A*','B*','C*','D*']\n",
    "# i = 3\n",
    "# data_name = \"sagittal{}\".format(i)\n",
    "i = 10\n",
    "data_name = \"well_{}\".format(i)\n",
    "s = ad.read_h5ad('../../data/STARMapPlus/{}.h5ad'.format(data_name))\n",
    "norm_scale = np.linalg.norm(s.obsm['spatial'].max(0) - s.obsm['spatial'].min(0))\n",
    "del s\n",
    "j = 1\n",
    "slice1 = ad.read_h5ad(os.path.join(data_folder, data_name, \"slice_\" + str(j) + \".h5ad\"))\n",
    "slice2 = ad.read_h5ad(os.path.join(data_folder, data_name, \"slice_\" + str(j+1) + \".h5ad\"))\n",
    "repeat = 10"
   ]
  },
  {
   "cell_type": "code",
   "execution_count": null,
   "id": "1f93a0a8-bd09-431e-aa61-fc38b21718c0",
   "metadata": {
    "execution": {
     "iopub.execute_input": "2024-07-30T20:33:10.254555Z",
     "iopub.status.busy": "2024-07-30T20:33:10.253260Z"
    }
   },
   "outputs": [
    {
     "name": "stdout",
     "output_type": "stream",
     "text": [
      "Start alignment...\n",
      "Alignment slice 1 to 0\n",
      "Runtime: 110.78949856758118 s\n",
      "------iteration: 3----repeat: 0-----mae: 0.030245327387272224---------\n",
      "Start alignment...\n",
      "Alignment slice 1 to 0\n",
      "Runtime: 111.55250668525696 s\n",
      "------iteration: 3----repeat: 1-----mae: 0.00829495393617604---------\n",
      "Start alignment...\n",
      "Alignment slice 1 to 0\n"
     ]
    }
   ],
   "source": [
    "for l, no in enumerate(np.arange(0,0.22,0.02)):\n",
    "    if l < 3:\n",
    "        continue\n",
    "    alignment_results = []\n",
    "    for k in range(repeat):\n",
    "        slice1.obsm['prealign_spatial'] = slice1.obsm['spatial'].copy()\n",
    "        slice2.obsm['prealign_spatial'] = slice2.obsm['tps_spatial_{}_r_{}'.format(l, k)].copy()\n",
    "        align_slices, _ = spacel_align_ref(\n",
    "            models=[slice1.copy(), slice2.copy()],\n",
    "            spatial_key=\"prealign_spatial\",\n",
    "            key_added=\"align_spatial\",\n",
    "            anno_key = 'Main_molecular_tissue_region',\n",
    "            n_sampling=20000,\n",
    "        )\n",
    "        torch.cuda.empty_cache()\n",
    "        mae, mae_var = MAE(align_slices[1].obsm['align_spatial'], align_slices[1].obsm['spatial']) / norm_scale\n",
    "        mse, mse_var = MSE(align_slices[1].obsm['align_spatial'], align_slices[1].obsm['spatial']) / norm_scale**2\n",
    "        print(f'------iteration: {l}----repeat: {k}-----mae: {mae}---------')\n",
    "        \n",
    "        alignment_results.append([mae, mae_var, mse, mse_var, data_name, no, l, k])\n",
    "\n",
    "    np.save(os.path.join(results_folder, data_name + \"_SPACEL_differ_distort_{}.npy\".format(l)), alignment_results, allow_pickle=True)"
   ]
  },
  {
   "cell_type": "code",
   "execution_count": null,
   "id": "49c60d1c-f8fc-44a8-817d-409bd5aa3b50",
   "metadata": {},
   "outputs": [],
   "source": []
  },
  {
   "cell_type": "code",
   "execution_count": null,
   "id": "f935ce4c-0c77-4d9c-b818-65f7a232621d",
   "metadata": {},
   "outputs": [],
   "source": [
    "for l, no in enumerate(np.arange(0,0.22,0.02)):\n",
    "    alignment_results = []\n",
    "    for k in range(repeat):\n",
    "        slice1.obsm['prealign_spatial'] = slice1.obsm['spatial'].copy()\n",
    "        slice2.obsm['prealign_spatial'] = slice2.obsm['tps_spatial_{}_r_{}'.format(l, k)].copy()\n",
    "        align_slices, _, _ = paste_align_ref(\n",
    "        models=[slice1.copy(), slice2.copy()],\n",
    "            spatial_key=\"prealign_spatial\",\n",
    "            key_added=\"align_spatial\",\n",
    "            device=\"1\",\n",
    "            verbose=False,\n",
    "            n_sampling=5000,\n",
    "            sampling_method=\"random\",\n",
    "        )\n",
    "        torch.cuda.empty_cache()\n",
    "        mae, mae_var = MAE(align_slices[1].obsm['align_spatial'], align_slices[1].obsm['spatial']) / norm_scale\n",
    "        mse, mse_var = MSE(align_slices[1].obsm['align_spatial'], align_slices[1].obsm['spatial']) / norm_scale**2\n",
    "        \n",
    "        alignment_results.append([mae, mae_var, mse, mse_var, data_name, no, l, k])\n",
    "\n",
    "    np.save(os.path.join(results_folder, data_name + \"_SPACEL_differ_distort_{}.npy\".format(l)), alignment_results, allow_pickle=True)"
   ]
  },
  {
   "cell_type": "code",
   "execution_count": null,
   "id": "d92768da-d68d-41ec-bac4-32fc94979157",
   "metadata": {},
   "outputs": [],
   "source": [
    "# sagittal_morpho_results = {}\n",
    "spatial_key=\"prealign_spatial\"\n",
    "key_added=\"align_spatial\"\n",
    "anno_key = 'Main_molecular_tissue_region'\n",
    "slice_name = ['A','B','C','D']\n",
    "tps_slice_name = ['A*','B*','C*','D*']\n",
    "# for i in range(16):\n",
    "i = 3\n",
    "# data_name = \"well_{:02d}\".format(i)\n",
    "data_name = \"sagittal{}\".format(i)\n",
    "s = ad.read_h5ad('../../data/STARMapPlus/{}.h5ad'.format(data_name))\n",
    "norm_scale = np.linalg.norm(s.obsm['spatial'].max(0) - s.obsm['spatial'].min(0))\n",
    "del s\n",
    "\n",
    "for j in range(3):\n",
    "    slice1 = ad.read_h5ad(os.path.join(data_folder, data_name, \"slice_\" + str(j) + \".h5ad\"))\n",
    "    slice2 = ad.read_h5ad(os.path.join(data_folder, data_name, \"slice_\" + str(j+1) + \".h5ad\"))\n",
    "\n",
    "    for l, no in enumerate(np.arange(0,0.22,0.02)):\n",
    "        alignment_results = []\n",
    "        for k in range(repeat):\n",
    "            slice1.obsm['prealign_spatial'] = slice1.obsm['spatial'].copy()\n",
    "            slice2.obsm['prealign_spatial'] = slice2.obsm['tps_spatial_{}_r_{}'.format(l, k)].copy()\n",
    "\n",
    "            sampling_num = 5000\n",
    "            sampline_idx1 = np.random.choice(slice1.shape[0], sampling_num, replace=False) if slice1.shape[0] > sampling_num else np.arange(slice1.shape[0])\n",
    "            sampline_idx2 = np.random.choice(slice2.shape[0], sampling_num, replace=False) if slice2.shape[0] > sampling_num else np.arange(slice2.shape[0])\n",
    "            sub_slice1 = slice1[sampline_idx1,:]\n",
    "            sub_slice2 = slice2[sampline_idx2,:]\n",
    "    \n",
    "            # align slices\n",
    "            align_slices = spacel_align(\n",
    "                models=[sub_slice1, sub_slice2],\n",
    "                spatial_key=spatial_key,\n",
    "                key_added=key_added,\n",
    "                anno_key = anno_key,\n",
    "            )\n",
    "        \n",
    "            mae, mae_var = MAE(align_slices[1].obsm['align_spatial'], align_slices[1].obsm['spatial']) / norm_scale\n",
    "            mse, mse_var = MSE(align_slices[1].obsm['align_spatial'], align_slices[1].obsm['spatial']) / norm_scale**2\n",
    "    \n",
    "            alignment_results.append([mae, mae_var, mse, mse_var, data_name, slice_name[j]+tps_slice_name[j+1]])\n",
    "    \n",
    "for j in range(3):\n",
    "    slice1 = ad.read_h5ad(os.path.join(data_folder, data_name, \"slice_\" + str(j+1) + \".h5ad\"))\n",
    "    slice2 = ad.read_h5ad(os.path.join(data_folder, data_name, \"slice_\" + str(j) + \".h5ad\"))\n",
    "    slice1.obsm['prealign_spatial'] = slice1.obsm['spatial'].copy()\n",
    "    slice2.obsm['prealign_spatial'] = slice2.obsm['tps_spatial_0'].copy()\n",
    "\n",
    "    # align slices\n",
    "    align_slices = spacel_align(\n",
    "        models=[slice1, slice2],\n",
    "        spatial_key=spatial_key,\n",
    "        key_added=key_added,\n",
    "        anno_key = anno_key,\n",
    "    )\n",
    "\n",
    "    mae, mae_var = MAE(align_slices[1].obsm['align_spatial'], align_slices[1].obsm['spatial']) / norm_scale\n",
    "    mse, mse_var = MSE(align_slices[1].obsm['align_spatial'], align_slices[1].obsm['spatial']) / norm_scale**2\n",
    "    \n",
    "    alignment_results.append([mae, mae_var, mse, mse_var, data_name, slice_name[j+1]+tps_slice_name[j]])\n",
    "\n",
    "np.save(os.path.join(results_folder, data_name + \"_SPACEL.npy\"), alignment_results, allow_pickle=True)"
   ]
  }
 ],
 "metadata": {
  "kernelspec": {
   "display_name": "SPACEL",
   "language": "python",
   "name": "spacel"
  },
  "language_info": {
   "codemirror_mode": {
    "name": "ipython",
    "version": 3
   },
   "file_extension": ".py",
   "mimetype": "text/x-python",
   "name": "python",
   "nbconvert_exporter": "python",
   "pygments_lexer": "ipython3",
   "version": "3.8.19"
  }
 },
 "nbformat": 4,
 "nbformat_minor": 5
}
