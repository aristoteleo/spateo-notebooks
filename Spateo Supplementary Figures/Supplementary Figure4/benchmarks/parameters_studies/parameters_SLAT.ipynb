{
 "cells": [
  {
   "cell_type": "code",
   "execution_count": 1,
   "id": "164c822c-4964-4274-bfe2-a5e4b6ae4ef6",
   "metadata": {
    "execution": {
     "iopub.execute_input": "2024-07-17T05:17:23.644344Z",
     "iopub.status.busy": "2024-07-17T05:17:23.643961Z",
     "iopub.status.idle": "2024-07-17T05:17:27.922950Z",
     "shell.execute_reply": "2024-07-17T05:17:27.922056Z",
     "shell.execute_reply.started": "2024-07-17T05:17:23.644323Z"
    }
   },
   "outputs": [],
   "source": [
    "import os\n",
    "os.environ['CUDA_VISIBLE_DEVICES'] = '2'\n",
    "import sys\n",
    "from pathlib import Path\n",
    "import anndata as ad\n",
    "import scanpy as sc\n",
    "import numpy as np\n",
    "import warnings\n",
    "warnings.simplefilter(action='ignore', category=FutureWarning)\n",
    "import seaborn as sns\n",
    "from matplotlib import pyplot as plt\n",
    "\n",
    "sys.path.insert(0, \"../../scripts/methods/\")\n",
    "from my_slat import slat_align, slat_align_ref\n",
    "sys.path.insert(0, \"/home/ylu/project\")\n",
    "from utils import *\n",
    "import time\n",
    "\n",
    "\n",
    "%load_ext autoreload\n",
    "%autoreload 2"
   ]
  },
  {
   "cell_type": "code",
   "execution_count": 2,
   "id": "3762e19e-b4ad-44a4-86ae-2d747a265e05",
   "metadata": {
    "execution": {
     "iopub.execute_input": "2024-07-17T05:17:27.924525Z",
     "iopub.status.busy": "2024-07-17T05:17:27.923995Z",
     "iopub.status.idle": "2024-07-17T05:17:28.249975Z",
     "shell.execute_reply": "2024-07-17T05:17:28.249233Z",
     "shell.execute_reply.started": "2024-07-17T05:17:27.924502Z"
    }
   },
   "outputs": [],
   "source": [
    "data_folder = \"../../data/STARMapPlus/\"\n",
    "method = 'SLAT'\n",
    "i = 3\n",
    "adata = ad.read_h5ad(os.path.join(data_folder, f\"sagittal{i}.h5ad\"))"
   ]
  },
  {
   "cell_type": "code",
   "execution_count": 3,
   "id": "468ab12a-c49d-4248-b168-03296619baf2",
   "metadata": {
    "execution": {
     "iopub.execute_input": "2024-07-17T05:17:28.251416Z",
     "iopub.status.busy": "2024-07-17T05:17:28.250957Z",
     "iopub.status.idle": "2024-07-17T05:17:28.297225Z",
     "shell.execute_reply": "2024-07-17T05:17:28.296566Z",
     "shell.execute_reply.started": "2024-07-17T05:17:28.251393Z"
    }
   },
   "outputs": [],
   "source": [
    "scale = np.linalg.norm(adata.obsm['spatial'].max(0) - adata.obsm['spatial'].min(0))"
   ]
  },
  {
   "cell_type": "code",
   "execution_count": 4,
   "id": "dfbb99dd-b4f9-4809-b441-068f39f9a01c",
   "metadata": {
    "execution": {
     "iopub.execute_input": "2024-07-17T05:17:28.299066Z",
     "iopub.status.busy": "2024-07-17T05:17:28.298648Z",
     "iopub.status.idle": "2024-07-17T05:17:28.609312Z",
     "shell.execute_reply": "2024-07-17T05:17:28.608596Z",
     "shell.execute_reply.started": "2024-07-17T05:17:28.299042Z"
    }
   },
   "outputs": [],
   "source": [
    "slices = split_slice(\n",
    "    adata=adata,\n",
    "    spatial_key='spatial_raw',\n",
    "    split_num=2,\n",
    "    axis=2,\n",
    ")"
   ]
  },
  {
   "cell_type": "code",
   "execution_count": 5,
   "id": "684f7aeb-e130-4b87-8789-f16bc5b3faaa",
   "metadata": {
    "execution": {
     "iopub.execute_input": "2024-07-17T05:17:28.610636Z",
     "iopub.status.busy": "2024-07-17T05:17:28.610221Z",
     "iopub.status.idle": "2024-07-17T05:21:26.497790Z",
     "shell.execute_reply": "2024-07-17T05:21:26.497029Z",
     "shell.execute_reply.started": "2024-07-17T05:17:28.610613Z"
    }
   },
   "outputs": [
    {
     "name": "stderr",
     "output_type": "stream",
     "text": [
      "  0%|                                      | 0/11 [00:00<?, ?it/s]"
     ]
    },
    {
     "name": "stdout",
     "output_type": "stream",
     "text": [
      "Calculating spatial neighbor graph ...\n",
      "The graph contains 231440 edges, 20000 cells.\n",
      "11.572 neighbors per cell on average.\n",
      "Calculating spatial neighbor graph ...\n",
      "The graph contains 232592 edges, 20000 cells.\n",
      "11.6296 neighbors per cell on average.\n",
      "Use DPCA feature to format graph\n"
     ]
    },
    {
     "name": "stderr",
     "output_type": "stream",
     "text": [
      "/home/ylu/anaconda3/envs/scSLAT/lib/python3.8/site-packages/scanpy/preprocessing/_normalization.py:169: UserWarning: Received a view of an AnnData. Making a copy.\n",
      "  view_to_actual(adata)\n",
      "/home/ylu/anaconda3/envs/scSLAT/lib/python3.8/site-packages/scanpy/preprocessing/_simple.py:843: UserWarning: Received a view of an AnnData. Making a copy.\n",
      "  view_to_actual(adata)\n",
      "/home/ylu/anaconda3/envs/scSLAT/lib/python3.8/site-packages/scanpy/preprocessing/_simple.py:843: UserWarning: Received a view of an AnnData. Making a copy.\n",
      "  view_to_actual(adata)\n"
     ]
    },
    {
     "name": "stdout",
     "output_type": "stream",
     "text": [
      "Warning! Dual PCA is using GPU, which may lead to OUT OF GPU MEMORY in big dataset!\n",
      "Choose GPU:0 as device\n",
      "Running\n",
      "---------- epochs: 1 ----------\n",
      "---------- epochs: 2 ----------\n",
      "---------- epochs: 3 ----------\n",
      "---------- epochs: 4 ----------\n",
      "---------- epochs: 5 ----------\n",
      "---------- epochs: 6 ----------\n",
      "Training model time: 2.40\n"
     ]
    },
    {
     "name": "stderr",
     "output_type": "stream",
     "text": [
      "  9%|██▋                           | 1/11 [00:22<03:46, 22.64s/it]"
     ]
    },
    {
     "name": "stdout",
     "output_type": "stream",
     "text": [
      "Calculating spatial neighbor graph ...\n",
      "The graph contains 231434 edges, 20000 cells.\n",
      "11.5717 neighbors per cell on average.\n",
      "Calculating spatial neighbor graph ...\n",
      "The graph contains 232852 edges, 20000 cells.\n",
      "11.6426 neighbors per cell on average.\n",
      "Use DPCA feature to format graph\n"
     ]
    },
    {
     "name": "stderr",
     "output_type": "stream",
     "text": [
      "/home/ylu/anaconda3/envs/scSLAT/lib/python3.8/site-packages/scanpy/preprocessing/_normalization.py:169: UserWarning: Received a view of an AnnData. Making a copy.\n",
      "  view_to_actual(adata)\n",
      "/home/ylu/anaconda3/envs/scSLAT/lib/python3.8/site-packages/scanpy/preprocessing/_simple.py:843: UserWarning: Received a view of an AnnData. Making a copy.\n",
      "  view_to_actual(adata)\n",
      "/home/ylu/anaconda3/envs/scSLAT/lib/python3.8/site-packages/scanpy/preprocessing/_simple.py:843: UserWarning: Received a view of an AnnData. Making a copy.\n",
      "  view_to_actual(adata)\n"
     ]
    },
    {
     "name": "stdout",
     "output_type": "stream",
     "text": [
      "Warning! Dual PCA is using GPU, which may lead to OUT OF GPU MEMORY in big dataset!\n",
      "Choose GPU:0 as device\n",
      "Running\n",
      "---------- epochs: 1 ----------\n",
      "---------- epochs: 2 ----------\n",
      "---------- epochs: 3 ----------\n",
      "---------- epochs: 4 ----------\n",
      "---------- epochs: 5 ----------\n",
      "---------- epochs: 6 ----------\n",
      "Training model time: 1.66\n"
     ]
    },
    {
     "name": "stderr",
     "output_type": "stream",
     "text": [
      " 18%|█████▍                        | 2/11 [00:42<03:10, 21.20s/it]"
     ]
    },
    {
     "name": "stdout",
     "output_type": "stream",
     "text": [
      "Calculating spatial neighbor graph ...\n",
      "The graph contains 231402 edges, 20000 cells.\n",
      "11.5701 neighbors per cell on average.\n",
      "Calculating spatial neighbor graph ...\n",
      "The graph contains 232482 edges, 20000 cells.\n",
      "11.6241 neighbors per cell on average.\n",
      "Use DPCA feature to format graph\n"
     ]
    },
    {
     "name": "stderr",
     "output_type": "stream",
     "text": [
      "/home/ylu/anaconda3/envs/scSLAT/lib/python3.8/site-packages/scanpy/preprocessing/_normalization.py:169: UserWarning: Received a view of an AnnData. Making a copy.\n",
      "  view_to_actual(adata)\n",
      "/home/ylu/anaconda3/envs/scSLAT/lib/python3.8/site-packages/scanpy/preprocessing/_simple.py:843: UserWarning: Received a view of an AnnData. Making a copy.\n",
      "  view_to_actual(adata)\n",
      "/home/ylu/anaconda3/envs/scSLAT/lib/python3.8/site-packages/scanpy/preprocessing/_simple.py:843: UserWarning: Received a view of an AnnData. Making a copy.\n",
      "  view_to_actual(adata)\n"
     ]
    },
    {
     "name": "stdout",
     "output_type": "stream",
     "text": [
      "Warning! Dual PCA is using GPU, which may lead to OUT OF GPU MEMORY in big dataset!\n",
      "Choose GPU:0 as device\n",
      "Running\n",
      "---------- epochs: 1 ----------\n",
      "---------- epochs: 2 ----------\n",
      "---------- epochs: 3 ----------\n",
      "---------- epochs: 4 ----------\n",
      "---------- epochs: 5 ----------\n",
      "---------- epochs: 6 ----------\n",
      "Training model time: 1.59\n"
     ]
    },
    {
     "name": "stderr",
     "output_type": "stream",
     "text": [
      " 27%|████████▏                     | 3/11 [01:02<02:45, 20.64s/it]"
     ]
    },
    {
     "name": "stdout",
     "output_type": "stream",
     "text": [
      "Calculating spatial neighbor graph ...\n",
      "The graph contains 231624 edges, 20000 cells.\n",
      "11.5812 neighbors per cell on average.\n",
      "Calculating spatial neighbor graph ...\n",
      "The graph contains 233064 edges, 20000 cells.\n",
      "11.6532 neighbors per cell on average.\n",
      "Use DPCA feature to format graph\n"
     ]
    },
    {
     "name": "stderr",
     "output_type": "stream",
     "text": [
      "/home/ylu/anaconda3/envs/scSLAT/lib/python3.8/site-packages/scanpy/preprocessing/_normalization.py:169: UserWarning: Received a view of an AnnData. Making a copy.\n",
      "  view_to_actual(adata)\n",
      "/home/ylu/anaconda3/envs/scSLAT/lib/python3.8/site-packages/scanpy/preprocessing/_simple.py:843: UserWarning: Received a view of an AnnData. Making a copy.\n",
      "  view_to_actual(adata)\n",
      "/home/ylu/anaconda3/envs/scSLAT/lib/python3.8/site-packages/scanpy/preprocessing/_simple.py:843: UserWarning: Received a view of an AnnData. Making a copy.\n",
      "  view_to_actual(adata)\n"
     ]
    },
    {
     "name": "stdout",
     "output_type": "stream",
     "text": [
      "Warning! Dual PCA is using GPU, which may lead to OUT OF GPU MEMORY in big dataset!\n",
      "Choose GPU:0 as device\n",
      "Running\n",
      "---------- epochs: 1 ----------\n",
      "---------- epochs: 2 ----------\n",
      "---------- epochs: 3 ----------\n",
      "---------- epochs: 4 ----------\n",
      "---------- epochs: 5 ----------\n",
      "---------- epochs: 6 ----------\n",
      "Training model time: 1.73\n"
     ]
    },
    {
     "name": "stderr",
     "output_type": "stream",
     "text": [
      " 36%|██████████▉                   | 4/11 [01:24<02:27, 21.06s/it]"
     ]
    },
    {
     "name": "stdout",
     "output_type": "stream",
     "text": [
      "Calculating spatial neighbor graph ...\n",
      "The graph contains 231780 edges, 20000 cells.\n",
      "11.589 neighbors per cell on average.\n",
      "Calculating spatial neighbor graph ...\n",
      "The graph contains 232842 edges, 20000 cells.\n",
      "11.6421 neighbors per cell on average.\n",
      "Use DPCA feature to format graph\n"
     ]
    },
    {
     "name": "stderr",
     "output_type": "stream",
     "text": [
      "/home/ylu/anaconda3/envs/scSLAT/lib/python3.8/site-packages/scanpy/preprocessing/_normalization.py:169: UserWarning: Received a view of an AnnData. Making a copy.\n",
      "  view_to_actual(adata)\n",
      "/home/ylu/anaconda3/envs/scSLAT/lib/python3.8/site-packages/scanpy/preprocessing/_simple.py:843: UserWarning: Received a view of an AnnData. Making a copy.\n",
      "  view_to_actual(adata)\n",
      "/home/ylu/anaconda3/envs/scSLAT/lib/python3.8/site-packages/scanpy/preprocessing/_simple.py:843: UserWarning: Received a view of an AnnData. Making a copy.\n",
      "  view_to_actual(adata)\n"
     ]
    },
    {
     "name": "stdout",
     "output_type": "stream",
     "text": [
      "Warning! Dual PCA is using GPU, which may lead to OUT OF GPU MEMORY in big dataset!\n",
      "Choose GPU:0 as device\n",
      "Running\n",
      "---------- epochs: 1 ----------\n",
      "---------- epochs: 2 ----------\n",
      "---------- epochs: 3 ----------\n",
      "---------- epochs: 4 ----------\n",
      "---------- epochs: 5 ----------\n",
      "---------- epochs: 6 ----------\n",
      "Training model time: 1.60\n"
     ]
    },
    {
     "name": "stderr",
     "output_type": "stream",
     "text": [
      " 45%|█████████████▋                | 5/11 [01:44<02:04, 20.74s/it]"
     ]
    },
    {
     "name": "stdout",
     "output_type": "stream",
     "text": [
      "Calculating spatial neighbor graph ...\n",
      "The graph contains 231652 edges, 20000 cells.\n",
      "11.5826 neighbors per cell on average.\n",
      "Calculating spatial neighbor graph ...\n",
      "The graph contains 233278 edges, 20000 cells.\n",
      "11.6639 neighbors per cell on average.\n",
      "Use DPCA feature to format graph\n"
     ]
    },
    {
     "name": "stderr",
     "output_type": "stream",
     "text": [
      "/home/ylu/anaconda3/envs/scSLAT/lib/python3.8/site-packages/scanpy/preprocessing/_normalization.py:169: UserWarning: Received a view of an AnnData. Making a copy.\n",
      "  view_to_actual(adata)\n",
      "/home/ylu/anaconda3/envs/scSLAT/lib/python3.8/site-packages/scanpy/preprocessing/_simple.py:843: UserWarning: Received a view of an AnnData. Making a copy.\n",
      "  view_to_actual(adata)\n",
      "/home/ylu/anaconda3/envs/scSLAT/lib/python3.8/site-packages/scanpy/preprocessing/_simple.py:843: UserWarning: Received a view of an AnnData. Making a copy.\n",
      "  view_to_actual(adata)\n"
     ]
    },
    {
     "name": "stdout",
     "output_type": "stream",
     "text": [
      "Warning! Dual PCA is using GPU, which may lead to OUT OF GPU MEMORY in big dataset!\n",
      "Choose GPU:0 as device\n",
      "Running\n",
      "---------- epochs: 1 ----------\n",
      "---------- epochs: 2 ----------\n",
      "---------- epochs: 3 ----------\n",
      "---------- epochs: 4 ----------\n",
      "---------- epochs: 5 ----------\n",
      "---------- epochs: 6 ----------\n",
      "Training model time: 1.59\n"
     ]
    },
    {
     "name": "stderr",
     "output_type": "stream",
     "text": [
      " 55%|████████████████▎             | 6/11 [02:05<01:43, 20.68s/it]"
     ]
    },
    {
     "name": "stdout",
     "output_type": "stream",
     "text": [
      "Calculating spatial neighbor graph ...\n",
      "The graph contains 231588 edges, 20000 cells.\n",
      "11.5794 neighbors per cell on average.\n",
      "Calculating spatial neighbor graph ...\n",
      "The graph contains 233400 edges, 20000 cells.\n",
      "11.67 neighbors per cell on average.\n",
      "Use DPCA feature to format graph\n"
     ]
    },
    {
     "name": "stderr",
     "output_type": "stream",
     "text": [
      "/home/ylu/anaconda3/envs/scSLAT/lib/python3.8/site-packages/scanpy/preprocessing/_normalization.py:169: UserWarning: Received a view of an AnnData. Making a copy.\n",
      "  view_to_actual(adata)\n",
      "/home/ylu/anaconda3/envs/scSLAT/lib/python3.8/site-packages/scanpy/preprocessing/_simple.py:843: UserWarning: Received a view of an AnnData. Making a copy.\n",
      "  view_to_actual(adata)\n",
      "/home/ylu/anaconda3/envs/scSLAT/lib/python3.8/site-packages/scanpy/preprocessing/_simple.py:843: UserWarning: Received a view of an AnnData. Making a copy.\n",
      "  view_to_actual(adata)\n"
     ]
    },
    {
     "name": "stdout",
     "output_type": "stream",
     "text": [
      "Warning! Dual PCA is using GPU, which may lead to OUT OF GPU MEMORY in big dataset!\n",
      "Choose GPU:0 as device\n",
      "Running\n",
      "---------- epochs: 1 ----------\n",
      "---------- epochs: 2 ----------\n",
      "---------- epochs: 3 ----------\n",
      "---------- epochs: 4 ----------\n",
      "---------- epochs: 5 ----------\n",
      "---------- epochs: 6 ----------\n",
      "Training model time: 1.64\n"
     ]
    },
    {
     "name": "stderr",
     "output_type": "stream",
     "text": [
      " 64%|███████████████████           | 7/11 [02:26<01:23, 20.91s/it]"
     ]
    },
    {
     "name": "stdout",
     "output_type": "stream",
     "text": [
      "Calculating spatial neighbor graph ...\n",
      "The graph contains 232158 edges, 20000 cells.\n",
      "11.6079 neighbors per cell on average.\n",
      "Calculating spatial neighbor graph ...\n",
      "The graph contains 233184 edges, 20000 cells.\n",
      "11.6592 neighbors per cell on average.\n",
      "Use DPCA feature to format graph\n"
     ]
    },
    {
     "name": "stderr",
     "output_type": "stream",
     "text": [
      "/home/ylu/anaconda3/envs/scSLAT/lib/python3.8/site-packages/scanpy/preprocessing/_normalization.py:169: UserWarning: Received a view of an AnnData. Making a copy.\n",
      "  view_to_actual(adata)\n",
      "/home/ylu/anaconda3/envs/scSLAT/lib/python3.8/site-packages/scanpy/preprocessing/_simple.py:843: UserWarning: Received a view of an AnnData. Making a copy.\n",
      "  view_to_actual(adata)\n",
      "/home/ylu/anaconda3/envs/scSLAT/lib/python3.8/site-packages/scanpy/preprocessing/_simple.py:843: UserWarning: Received a view of an AnnData. Making a copy.\n",
      "  view_to_actual(adata)\n"
     ]
    },
    {
     "name": "stdout",
     "output_type": "stream",
     "text": [
      "Warning! Dual PCA is using GPU, which may lead to OUT OF GPU MEMORY in big dataset!\n",
      "Choose GPU:0 as device\n",
      "Running\n",
      "---------- epochs: 1 ----------\n",
      "---------- epochs: 2 ----------\n",
      "---------- epochs: 3 ----------\n",
      "---------- epochs: 4 ----------\n",
      "---------- epochs: 5 ----------\n",
      "---------- epochs: 6 ----------\n",
      "Training model time: 1.68\n"
     ]
    },
    {
     "name": "stderr",
     "output_type": "stream",
     "text": [
      " 73%|█████████████████████▊        | 8/11 [02:47<01:02, 20.92s/it]"
     ]
    },
    {
     "name": "stdout",
     "output_type": "stream",
     "text": [
      "Calculating spatial neighbor graph ...\n",
      "The graph contains 232458 edges, 20000 cells.\n",
      "11.6229 neighbors per cell on average.\n",
      "Calculating spatial neighbor graph ...\n",
      "The graph contains 233946 edges, 20000 cells.\n",
      "11.6973 neighbors per cell on average.\n",
      "Use DPCA feature to format graph\n"
     ]
    },
    {
     "name": "stderr",
     "output_type": "stream",
     "text": [
      "/home/ylu/anaconda3/envs/scSLAT/lib/python3.8/site-packages/scanpy/preprocessing/_normalization.py:169: UserWarning: Received a view of an AnnData. Making a copy.\n",
      "  view_to_actual(adata)\n",
      "/home/ylu/anaconda3/envs/scSLAT/lib/python3.8/site-packages/scanpy/preprocessing/_simple.py:843: UserWarning: Received a view of an AnnData. Making a copy.\n",
      "  view_to_actual(adata)\n",
      "/home/ylu/anaconda3/envs/scSLAT/lib/python3.8/site-packages/scanpy/preprocessing/_simple.py:843: UserWarning: Received a view of an AnnData. Making a copy.\n",
      "  view_to_actual(adata)\n"
     ]
    },
    {
     "name": "stdout",
     "output_type": "stream",
     "text": [
      "Warning! Dual PCA is using GPU, which may lead to OUT OF GPU MEMORY in big dataset!\n",
      "Choose GPU:0 as device\n",
      "Running\n",
      "---------- epochs: 1 ----------\n",
      "---------- epochs: 2 ----------\n",
      "---------- epochs: 3 ----------\n",
      "---------- epochs: 4 ----------\n",
      "---------- epochs: 5 ----------\n",
      "---------- epochs: 6 ----------\n",
      "Training model time: 1.65\n"
     ]
    },
    {
     "name": "stderr",
     "output_type": "stream",
     "text": [
      " 82%|████████████████████████▌     | 9/11 [03:08<00:41, 20.85s/it]"
     ]
    },
    {
     "name": "stdout",
     "output_type": "stream",
     "text": [
      "Calculating spatial neighbor graph ...\n",
      "The graph contains 231808 edges, 20000 cells.\n",
      "11.5904 neighbors per cell on average.\n",
      "Calculating spatial neighbor graph ...\n",
      "The graph contains 233384 edges, 20000 cells.\n",
      "11.6692 neighbors per cell on average.\n",
      "Use DPCA feature to format graph\n"
     ]
    },
    {
     "name": "stderr",
     "output_type": "stream",
     "text": [
      "/home/ylu/anaconda3/envs/scSLAT/lib/python3.8/site-packages/scanpy/preprocessing/_normalization.py:169: UserWarning: Received a view of an AnnData. Making a copy.\n",
      "  view_to_actual(adata)\n",
      "/home/ylu/anaconda3/envs/scSLAT/lib/python3.8/site-packages/scanpy/preprocessing/_simple.py:843: UserWarning: Received a view of an AnnData. Making a copy.\n",
      "  view_to_actual(adata)\n",
      "/home/ylu/anaconda3/envs/scSLAT/lib/python3.8/site-packages/scanpy/preprocessing/_simple.py:843: UserWarning: Received a view of an AnnData. Making a copy.\n",
      "  view_to_actual(adata)\n"
     ]
    },
    {
     "name": "stdout",
     "output_type": "stream",
     "text": [
      "Warning! Dual PCA is using GPU, which may lead to OUT OF GPU MEMORY in big dataset!\n",
      "Choose GPU:0 as device\n",
      "Running\n",
      "---------- epochs: 1 ----------\n",
      "---------- epochs: 2 ----------\n",
      "---------- epochs: 3 ----------\n",
      "---------- epochs: 4 ----------\n",
      "---------- epochs: 5 ----------\n",
      "---------- epochs: 6 ----------\n",
      "Training model time: 1.72\n"
     ]
    },
    {
     "name": "stderr",
     "output_type": "stream",
     "text": [
      " 91%|██████████████████████████▎  | 10/11 [03:31<00:21, 21.50s/it]"
     ]
    },
    {
     "name": "stdout",
     "output_type": "stream",
     "text": [
      "Calculating spatial neighbor graph ...\n",
      "The graph contains 232360 edges, 20000 cells.\n",
      "11.618 neighbors per cell on average.\n",
      "Calculating spatial neighbor graph ...\n",
      "The graph contains 233896 edges, 20000 cells.\n",
      "11.6948 neighbors per cell on average.\n",
      "Use DPCA feature to format graph\n"
     ]
    },
    {
     "name": "stderr",
     "output_type": "stream",
     "text": [
      "/home/ylu/anaconda3/envs/scSLAT/lib/python3.8/site-packages/scanpy/preprocessing/_normalization.py:169: UserWarning: Received a view of an AnnData. Making a copy.\n",
      "  view_to_actual(adata)\n",
      "/home/ylu/anaconda3/envs/scSLAT/lib/python3.8/site-packages/scanpy/preprocessing/_simple.py:843: UserWarning: Received a view of an AnnData. Making a copy.\n",
      "  view_to_actual(adata)\n",
      "/home/ylu/anaconda3/envs/scSLAT/lib/python3.8/site-packages/scanpy/preprocessing/_simple.py:843: UserWarning: Received a view of an AnnData. Making a copy.\n",
      "  view_to_actual(adata)\n"
     ]
    },
    {
     "name": "stdout",
     "output_type": "stream",
     "text": [
      "Warning! Dual PCA is using GPU, which may lead to OUT OF GPU MEMORY in big dataset!\n",
      "Choose GPU:0 as device\n",
      "Running\n",
      "---------- epochs: 1 ----------\n",
      "---------- epochs: 2 ----------\n",
      "---------- epochs: 3 ----------\n",
      "---------- epochs: 4 ----------\n",
      "---------- epochs: 5 ----------\n",
      "---------- epochs: 6 ----------\n",
      "Training model time: 1.65\n"
     ]
    },
    {
     "name": "stderr",
     "output_type": "stream",
     "text": [
      "100%|█████████████████████████████| 11/11 [03:57<00:00, 21.62s/it]\n"
     ]
    }
   ],
   "source": [
    "overlay_ratio_set = np.arange(0.5, 1.05, 0.05)\n",
    "from tqdm import tqdm\n",
    "maes = []\n",
    "for overlay_ratio in tqdm(overlay_ratio_set):\n",
    "    slice1 = slices[0].copy()\n",
    "    slice2 = slices[1].copy()\n",
    "    slice1_crop, slice2_crop = crop_slices(\n",
    "        slice1, \n",
    "        slice2, \n",
    "        spatial_key='spatial', \n",
    "        overlay_ratio = overlay_ratio,\n",
    "    )\n",
    "    slice1, slice2 = slice1_crop.copy(), slice2_crop.copy()\n",
    "    sampling_num = 20000\n",
    "    sampline_idx1 = np.random.choice(slice1.shape[0], sampling_num, replace=False) if slice1.shape[0] > sampling_num else np.arange(slice1.shape[0])\n",
    "    sampline_idx2 = np.random.choice(slice2.shape[0], sampling_num, replace=False) if slice2.shape[0] > sampling_num else np.arange(slice2.shape[0])\n",
    "    slice1 = slice1[sampline_idx1,:]\n",
    "    slice2 = slice2[sampline_idx2,:]\n",
    "    spatial_key = 'spatial'\n",
    "    key_added = 'align_spatial'\n",
    "    \n",
    "    align_slices, pis = slat_align(\n",
    "        models = [slice1, slice2],\n",
    "        spatial_key=spatial_key,\n",
    "        key_added=key_added,\n",
    "    )\n",
    "    spatial_align = align_slices[1].obsm[key_added]\n",
    "    spatial_GT = align_slices[1].obsm['spatial']\n",
    "    mae, mae_var = MAE(spatial_align, spatial_GT) / scale\n",
    "    maes.append(mae)\n",
    "np.save(f'./results/{method}_different_overlap.npy', {'maes': maes, 'overlay_ratio':overlay_ratio}, allow_pickle=True)"
   ]
  }
 ],
 "metadata": {
  "kernelspec": {
   "display_name": "SLAT",
   "language": "python",
   "name": "slat"
  },
  "language_info": {
   "codemirror_mode": {
    "name": "ipython",
    "version": 3
   },
   "file_extension": ".py",
   "mimetype": "text/x-python",
   "name": "python",
   "nbconvert_exporter": "python",
   "pygments_lexer": "ipython3",
   "version": "3.8.19"
  }
 },
 "nbformat": 4,
 "nbformat_minor": 5
}
