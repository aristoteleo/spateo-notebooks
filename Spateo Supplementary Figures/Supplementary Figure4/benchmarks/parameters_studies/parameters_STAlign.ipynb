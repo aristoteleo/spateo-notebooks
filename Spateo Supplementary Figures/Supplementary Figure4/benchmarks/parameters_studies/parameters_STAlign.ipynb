{
 "cells": [
  {
   "cell_type": "code",
   "execution_count": 3,
   "id": "aa20659d-678d-4e9c-a233-a1ef42285936",
   "metadata": {
    "execution": {
     "iopub.execute_input": "2024-07-17T05:26:02.003744Z",
     "iopub.status.busy": "2024-07-17T05:26:02.003338Z",
     "iopub.status.idle": "2024-07-17T05:26:02.104091Z",
     "shell.execute_reply": "2024-07-17T05:26:02.103326Z",
     "shell.execute_reply.started": "2024-07-17T05:26:02.003715Z"
    }
   },
   "outputs": [
    {
     "name": "stdout",
     "output_type": "stream",
     "text": [
      "The autoreload extension is already loaded. To reload it, use:\n",
      "  %reload_ext autoreload\n"
     ]
    }
   ],
   "source": [
    "import os\n",
    "os.environ['CUDA_VISIBLE_DEVICES'] = '0'\n",
    "import sys\n",
    "from pathlib import Path\n",
    "import anndata as ad\n",
    "import scanpy as sc\n",
    "import numpy as np\n",
    "import warnings\n",
    "warnings.simplefilter(action='ignore', category=FutureWarning)\n",
    "import seaborn as sns\n",
    "from matplotlib import pyplot as plt\n",
    "import time\n",
    "\n",
    "sys.path.insert(0, \"/home/ylu/project/Benchmark_alignment_methods/scripts/methods\")\n",
    "from my_STAlign import stalign_align\n",
    "sys.path.insert(0, \"/home/ylu/project\")\n",
    "from utils import *\n",
    "\n",
    "%load_ext autoreload\n",
    "%autoreload 2"
   ]
  },
  {
   "cell_type": "code",
   "execution_count": 4,
   "id": "9f0af33e-eeb6-42e0-87a9-399541fff1bc",
   "metadata": {
    "execution": {
     "iopub.execute_input": "2024-07-17T05:26:03.591789Z",
     "iopub.status.busy": "2024-07-17T05:26:03.590978Z",
     "iopub.status.idle": "2024-07-17T05:26:04.213339Z",
     "shell.execute_reply": "2024-07-17T05:26:04.212595Z",
     "shell.execute_reply.started": "2024-07-17T05:26:03.591750Z"
    }
   },
   "outputs": [],
   "source": [
    "data_folder = \"../../data/STARMapPlus/\"\n",
    "method = 'STAlign'\n",
    "i = 3\n",
    "adata = ad.read_h5ad(os.path.join(data_folder, f\"sagittal{i}.h5ad\"))\n",
    "scale = np.linalg.norm(adata.obsm['spatial'].max(0) - adata.obsm['spatial'].min(0))\n",
    "slices = split_slice(\n",
    "    adata=adata,\n",
    "    spatial_key='spatial_raw',\n",
    "    split_num=2,\n",
    "    axis=2,\n",
    ")"
   ]
  },
  {
   "cell_type": "code",
   "execution_count": 5,
   "id": "0f80c4e5-6671-4173-824a-82f87c9329c3",
   "metadata": {
    "execution": {
     "iopub.execute_input": "2024-07-17T05:26:06.413246Z",
     "iopub.status.busy": "2024-07-17T05:26:06.412472Z",
     "iopub.status.idle": "2024-07-17T05:44:24.467957Z",
     "shell.execute_reply": "2024-07-17T05:44:24.467249Z",
     "shell.execute_reply.started": "2024-07-17T05:26:06.413217Z"
    }
   },
   "outputs": [
    {
     "name": "stderr",
     "output_type": "stream",
     "text": [
      "  0%|                                      | 0/11 [00:00<?, ?it/s]/home/ylu/project/STalign/STalign/STalign.py:1044: UserWarning: To copy construct from a tensor, it is recommended to use sourceTensor.clone().detach() or sourceTensor.clone().detach().requires_grad_(True), rather than torch.tensor(sourceTensor).\n",
      "  L = torch.tensor(L,device=device,dtype=dtype,requires_grad=True)\n",
      "/home/ylu/project/STalign/STalign/STalign.py:1045: UserWarning: To copy construct from a tensor, it is recommended to use sourceTensor.clone().detach() or sourceTensor.clone().detach().requires_grad_(True), rather than torch.tensor(sourceTensor).\n",
      "  T = torch.tensor(T,device=device,dtype=dtype,requires_grad=True)\n",
      "/home/ylu/anaconda3/envs/STAlign/lib/python3.9/site-packages/torch/functional.py:512: UserWarning: torch.meshgrid: in an upcoming release, it will be required to pass the indexing argument. (Triggered internally at ../aten/src/ATen/native/TensorShape.cpp:3587.)\n",
      "  return _VF.meshgrid(tensors, **kwargs)  # type: ignore[attr-defined]\n",
      "  9%|██▋                           | 1/11 [01:27<14:39, 87.91s/it]/home/ylu/anaconda3/envs/STAlign/lib/python3.9/site-packages/torch/utils/_device.py:78: UserWarning: To copy construct from a tensor, it is recommended to use sourceTensor.clone().detach() or sourceTensor.clone().detach().requires_grad_(True), rather than torch.tensor(sourceTensor).\n",
      "  return func(*args, **kwargs)\n",
      "100%|█████████████████████████████| 11/11 [18:18<00:00, 99.82s/it]\n"
     ]
    }
   ],
   "source": [
    "overlay_ratio_set = np.arange(0.5, 1.05, 0.05)\n",
    "from tqdm import tqdm\n",
    "maes = []\n",
    "for overlay_ratio in tqdm(overlay_ratio_set):\n",
    "    slice1 = slices[0].copy()\n",
    "    slice2 = slices[1].copy()\n",
    "    slice1_crop, slice2_crop = crop_slices(\n",
    "        slice1, \n",
    "        slice2, \n",
    "        spatial_key='spatial', \n",
    "        overlay_ratio = overlay_ratio,\n",
    "    )\n",
    "    slice1, slice2 = slice1_crop.copy(), slice2_crop.copy()\n",
    "    # sampling_num = 20000\n",
    "    # sampline_idx1 = np.random.choice(slice1.shape[0], sampling_num, replace=False) if slice1.shape[0] > sampling_num else np.arange(slice1.shape[0])\n",
    "    # sampline_idx2 = np.random.choice(slice2.shape[0], sampling_num, replace=False) if slice2.shape[0] > sampling_num else np.arange(slice2.shape[0])\n",
    "    # slice1 = slice1[sampline_idx1,:]\n",
    "    # slice2 = slice2[sampline_idx2,:]\n",
    "    spatial_key = 'spatial'\n",
    "    key_added = 'align_spatial'\n",
    "    \n",
    "    align_slices = stalign_align(\n",
    "        models = [slice1, slice2],\n",
    "        spatial_key = spatial_key,\n",
    "        key_added = key_added,\n",
    "        device = \"cuda:0\",\n",
    "        scale=0.13,\n",
    "        zero_mean=False,\n",
    "    )\n",
    "    spatial_align = align_slices[1].obsm[key_added]\n",
    "    spatial_GT = align_slices[1].obsm['spatial']\n",
    "    mae, mae_var = MAE(spatial_align, spatial_GT) / scale\n",
    "    maes.append(mae)\n",
    "np.save(f'./results/{method}_different_overlap.npy', {'maes': maes, 'overlay_ratio':overlay_ratio}, allow_pickle=True)"
   ]
  }
 ],
 "metadata": {
  "kernelspec": {
   "display_name": "STAlign",
   "language": "python",
   "name": "stalign"
  },
  "language_info": {
   "codemirror_mode": {
    "name": "ipython",
    "version": 3
   },
   "file_extension": ".py",
   "mimetype": "text/x-python",
   "name": "python",
   "nbconvert_exporter": "python",
   "pygments_lexer": "ipython3",
   "version": "3.9.19"
  }
 },
 "nbformat": 4,
 "nbformat_minor": 5
}
