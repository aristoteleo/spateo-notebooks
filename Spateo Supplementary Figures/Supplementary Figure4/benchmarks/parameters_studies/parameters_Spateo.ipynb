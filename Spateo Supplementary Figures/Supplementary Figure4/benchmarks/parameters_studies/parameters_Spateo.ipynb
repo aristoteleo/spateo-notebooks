{
 "cells": [
  {
   "cell_type": "code",
   "execution_count": 1,
   "id": "3176ee1c-ae1c-433b-8f87-13a9438c74ee",
   "metadata": {
    "execution": {
     "iopub.execute_input": "2024-07-17T05:29:45.407125Z",
     "iopub.status.busy": "2024-07-17T05:29:45.406853Z",
     "iopub.status.idle": "2024-07-17T05:29:57.908830Z",
     "shell.execute_reply": "2024-07-17T05:29:57.907913Z",
     "shell.execute_reply.started": "2024-07-17T05:29:45.407094Z"
    }
   },
   "outputs": [
    {
     "name": "stderr",
     "output_type": "stream",
     "text": [
      "2024-07-17 05:29:49.209520: I tensorflow/core/platform/cpu_feature_guard.cc:193] This TensorFlow binary is optimized with oneAPI Deep Neural Network Library (oneDNN) to use the following CPU instructions in performance-critical operations:  AVX2 AVX512F FMA\n",
      "To enable them in other operations, rebuild TensorFlow with the appropriate compiler flags.\n",
      "2024-07-17 05:29:49.370194: W tensorflow/compiler/xla/stream_executor/platform/default/dso_loader.cc:64] Could not load dynamic library 'libcudart.so.11.0'; dlerror: libcudart.so.11.0: cannot open shared object file: No such file or directory; LD_LIBRARY_PATH: /usr/local/cuda-12.3/lib64\n",
      "2024-07-17 05:29:49.370223: I tensorflow/compiler/xla/stream_executor/cuda/cudart_stub.cc:29] Ignore above cudart dlerror if you do not have a GPU set up on your machine.\n",
      "2024-07-17 05:29:50.072129: W tensorflow/compiler/xla/stream_executor/platform/default/dso_loader.cc:64] Could not load dynamic library 'libnvinfer.so.7'; dlerror: libnvinfer.so.7: cannot open shared object file: No such file or directory; LD_LIBRARY_PATH: /usr/local/cuda-12.3/lib64\n",
      "2024-07-17 05:29:50.072228: W tensorflow/compiler/xla/stream_executor/platform/default/dso_loader.cc:64] Could not load dynamic library 'libnvinfer_plugin.so.7'; dlerror: libnvinfer_plugin.so.7: cannot open shared object file: No such file or directory; LD_LIBRARY_PATH: /usr/local/cuda-12.3/lib64\n",
      "2024-07-17 05:29:50.072235: W tensorflow/compiler/tf2tensorrt/utils/py_utils.cc:38] TF-TRT Warning: Cannot dlopen some TensorRT libraries. If you would like to use Nvidia GPU with TensorRT, please make sure the missing libraries mentioned above are installed properly.\n"
     ]
    }
   ],
   "source": [
    "import os\n",
    "os.environ['CUDA_VISIBLE_DEVICES'] = '2'\n",
    "import sys\n",
    "from pathlib import Path\n",
    "import anndata as ad\n",
    "import scanpy as sc\n",
    "import numpy as np\n",
    "import warnings\n",
    "warnings.simplefilter(action='ignore', category=FutureWarning)\n",
    "import seaborn as sns\n",
    "from matplotlib import pyplot as plt\n",
    "sys.path.insert(0, \"/home/ylu/project/spateo-release\")\n",
    "import spateo as st\n",
    "from spateo.alignment.methods.morpho_class import *\n",
    "# sys.path.insert(0, \"/home/ylu/project/spateo-release_new\")\n",
    "# import spateo_dev as st_dev\n",
    "sys.path.insert(0, \"/home/ylu/project\")\n",
    "from utils import *\n",
    "import time\n",
    "\n",
    "\n",
    "%load_ext autoreload\n",
    "%autoreload 2"
   ]
  },
  {
   "cell_type": "code",
   "execution_count": 2,
   "id": "ce43dcd0-a2be-49f1-869c-bba6dd0b3940",
   "metadata": {
    "execution": {
     "iopub.execute_input": "2024-07-17T05:29:57.911461Z",
     "iopub.status.busy": "2024-07-17T05:29:57.910450Z",
     "iopub.status.idle": "2024-07-17T05:29:58.579446Z",
     "shell.execute_reply": "2024-07-17T05:29:58.578718Z",
     "shell.execute_reply.started": "2024-07-17T05:29:57.911431Z"
    }
   },
   "outputs": [],
   "source": [
    "data_folder = \"../../data/STARMapPlus/\"\n",
    "method = 'Spateo'\n",
    "i = 3\n",
    "adata = ad.read_h5ad(os.path.join(data_folder, f\"sagittal{i}.h5ad\"))\n",
    "scale = np.linalg.norm(adata.obsm['spatial'].max(0) - adata.obsm['spatial'].min(0))\n",
    "slices = split_slice(\n",
    "    adata=adata,\n",
    "    spatial_key='spatial_raw',\n",
    "    split_num=2,\n",
    "    axis=2,\n",
    ")"
   ]
  },
  {
   "cell_type": "code",
   "execution_count": 3,
   "id": "718c6dac-19d7-4cad-8b14-e4ef20574dcd",
   "metadata": {
    "execution": {
     "iopub.execute_input": "2024-07-17T05:29:58.581048Z",
     "iopub.status.busy": "2024-07-17T05:29:58.580617Z",
     "iopub.status.idle": "2024-07-17T05:31:46.604732Z",
     "shell.execute_reply": "2024-07-17T05:31:46.604042Z",
     "shell.execute_reply.started": "2024-07-17T05:29:58.581025Z"
    }
   },
   "outputs": [
    {
     "name": "stderr",
     "output_type": "stream",
     "text": [
      "  0%|                                      | 0/11 [00:00<?, ?it/s]"
     ]
    },
    {
     "name": "stdout",
     "output_type": "stream",
     "text": [
      "|-----> Filtered all samples for common genes. There are 1022 common genes.\n",
      "|-----> Spatial coordinates normalization params:\n",
      "|-----------> Scale: tensor([16289.2031, 16289.2031])...\n"
     ]
    },
    {
     "name": "stderr",
     "output_type": "stream",
     "text": [
      "/tmp/ipykernel_3221860/1000336554.py:24: ImplicitModificationWarning:\n",
      "\n",
      "Setting element `.obsm['X_pca']` of view, initializing view as actual.\n",
      "\n",
      "/tmp/ipykernel_3221860/1000336554.py:25: ImplicitModificationWarning:\n",
      "\n",
      "Setting element `.obsm['X_pca']` of view, initializing view as actual.\n",
      "\n"
     ]
    },
    {
     "name": "stdout",
     "output_type": "stream",
     "text": [
      "|-----------> Scale: tensor([[17945.0879, 21752.3984],\n",
      "        [21593.9004, 49982.0625]], device='cuda:0')...\n",
      "here\n",
      "|-----> Preprocess finished.\n",
      "|-----> Performing coarse rigid alignment...\n",
      "|-----> Coarse rigid alignment done.\n",
      "|-----> [Start Spateo pairwise alignment] in progress: 100.0000%\n",
      "|-----> [Start Spateo pairwise alignment] finished [5.4632s]\n",
      "|-----> Key Parameters: gamma: 0.32312503457069397; sigma2: 0.0010000000474974513; probability_parameters: [tensor(0.0025, device='cuda:0')]\n"
     ]
    },
    {
     "name": "stderr",
     "output_type": "stream",
     "text": [
      "  9%|██▋                           | 1/11 [00:11<01:51, 11.19s/it]"
     ]
    },
    {
     "name": "stdout",
     "output_type": "stream",
     "text": [
      "|-----> Filtered all samples for common genes. There are 1022 common genes.\n",
      "|-----> Spatial coordinates normalization params:\n",
      "|-----------> Scale: tensor([16840.1680, 16840.1680])...\n",
      "|-----------> Scale: tensor([[17937.7227, 22568.4316],\n",
      "        [21370.1367, 49396.0430]], device='cuda:0')...\n",
      "here\n",
      "|-----> Preprocess finished.\n",
      "|-----> Performing coarse rigid alignment...\n"
     ]
    },
    {
     "name": "stderr",
     "output_type": "stream",
     "text": [
      "/tmp/ipykernel_3221860/1000336554.py:24: ImplicitModificationWarning:\n",
      "\n",
      "Setting element `.obsm['X_pca']` of view, initializing view as actual.\n",
      "\n",
      "/tmp/ipykernel_3221860/1000336554.py:25: ImplicitModificationWarning:\n",
      "\n",
      "Setting element `.obsm['X_pca']` of view, initializing view as actual.\n",
      "\n"
     ]
    },
    {
     "name": "stdout",
     "output_type": "stream",
     "text": [
      "|-----> Coarse rigid alignment done.\n",
      "|-----> [Start Spateo pairwise alignment] in progress: 100.0000%\n",
      "|-----> [Start Spateo pairwise alignment] finished [5.3505s]\n",
      "|-----> Key Parameters: gamma: 0.49229729175567627; sigma2: 0.003289813408628106; probability_parameters: [tensor(0.0026, device='cuda:0')]\n"
     ]
    },
    {
     "name": "stderr",
     "output_type": "stream",
     "text": [
      " 18%|█████▍                        | 2/11 [00:20<01:32, 10.26s/it]"
     ]
    },
    {
     "name": "stdout",
     "output_type": "stream",
     "text": [
      "|-----> Filtered all samples for common genes. There are 1022 common genes.\n",
      "|-----> Spatial coordinates normalization params:\n",
      "|-----------> Scale: tensor([17472.3926, 17472.3926])...\n",
      "|-----------> Scale: tensor([[17985.9102, 23701.8047],\n",
      "        [21386.7266, 48420.7188]], device='cuda:0')...\n",
      "here\n",
      "|-----> Preprocess finished.\n",
      "|-----> Performing coarse rigid alignment...\n"
     ]
    },
    {
     "name": "stderr",
     "output_type": "stream",
     "text": [
      "/tmp/ipykernel_3221860/1000336554.py:24: ImplicitModificationWarning:\n",
      "\n",
      "Setting element `.obsm['X_pca']` of view, initializing view as actual.\n",
      "\n",
      "/tmp/ipykernel_3221860/1000336554.py:25: ImplicitModificationWarning:\n",
      "\n",
      "Setting element `.obsm['X_pca']` of view, initializing view as actual.\n",
      "\n"
     ]
    },
    {
     "name": "stdout",
     "output_type": "stream",
     "text": [
      "|-----> Coarse rigid alignment done.\n",
      "|-----> [Start Spateo pairwise alignment] in progress: 100.0000%\n",
      "|-----> [Start Spateo pairwise alignment] finished [6.0325s]\n",
      "|-----> Key Parameters: gamma: 0.5904314517974854; sigma2: 0.005021016579121351; probability_parameters: [tensor(0.0024, device='cuda:0')]\n"
     ]
    },
    {
     "name": "stderr",
     "output_type": "stream",
     "text": [
      " 27%|████████▏                     | 3/11 [00:30<01:21, 10.18s/it]"
     ]
    },
    {
     "name": "stdout",
     "output_type": "stream",
     "text": [
      "|-----> Filtered all samples for common genes. There are 1022 common genes.\n",
      "|-----> Spatial coordinates normalization params:\n",
      "|-----------> Scale: tensor([17968.1543, 17968.1543])...\n",
      "|-----------> Scale: tensor([[17939.0527, 24519.3047],\n",
      "        [21265.3477, 47588.1172]], device='cuda:0')...\n",
      "here\n",
      "|-----> Preprocess finished.\n",
      "|-----> Performing coarse rigid alignment...\n"
     ]
    },
    {
     "name": "stderr",
     "output_type": "stream",
     "text": [
      "/tmp/ipykernel_3221860/1000336554.py:24: ImplicitModificationWarning:\n",
      "\n",
      "Setting element `.obsm['X_pca']` of view, initializing view as actual.\n",
      "\n",
      "/tmp/ipykernel_3221860/1000336554.py:25: ImplicitModificationWarning:\n",
      "\n",
      "Setting element `.obsm['X_pca']` of view, initializing view as actual.\n",
      "\n"
     ]
    },
    {
     "name": "stdout",
     "output_type": "stream",
     "text": [
      "|-----> Coarse rigid alignment done.\n",
      "|-----> [Start Spateo pairwise alignment] in progress: 100.0000%\n",
      "|-----> [Start Spateo pairwise alignment] finished [5.2604s]\n",
      "|-----> Key Parameters: gamma: 0.6487964391708374; sigma2: 0.006017525680363178; probability_parameters: [tensor(0.0025, device='cuda:0')]\n"
     ]
    },
    {
     "name": "stderr",
     "output_type": "stream",
     "text": [
      " 36%|██████████▉                   | 4/11 [00:40<01:08,  9.80s/it]"
     ]
    },
    {
     "name": "stdout",
     "output_type": "stream",
     "text": [
      "|-----> Filtered all samples for common genes. There are 1022 common genes.\n",
      "|-----> Spatial coordinates normalization params:\n",
      "|-----------> Scale: tensor([18367.2500, 18367.2500])...\n",
      "|-----------> Scale: tensor([[17926.2109, 25193.0957],\n",
      "        [21223.9609, 46590.3711]], device='cuda:0')...\n",
      "here\n",
      "|-----> Preprocess finished.\n",
      "|-----> Performing coarse rigid alignment...\n"
     ]
    },
    {
     "name": "stderr",
     "output_type": "stream",
     "text": [
      "/tmp/ipykernel_3221860/1000336554.py:24: ImplicitModificationWarning:\n",
      "\n",
      "Setting element `.obsm['X_pca']` of view, initializing view as actual.\n",
      "\n",
      "/tmp/ipykernel_3221860/1000336554.py:25: ImplicitModificationWarning:\n",
      "\n",
      "Setting element `.obsm['X_pca']` of view, initializing view as actual.\n",
      "\n"
     ]
    },
    {
     "name": "stdout",
     "output_type": "stream",
     "text": [
      "|-----> Coarse rigid alignment done.\n",
      "|-----> [Start Spateo pairwise alignment] in progress: 100.0000%\n",
      "|-----> [Start Spateo pairwise alignment] finished [6.2353s]\n",
      "|-----> Key Parameters: gamma: 0.7055745124816895; sigma2: 0.008266231045126915; probability_parameters: [tensor(0.0024, device='cuda:0')]\n"
     ]
    },
    {
     "name": "stderr",
     "output_type": "stream",
     "text": [
      " 45%|█████████████▋                | 5/11 [00:50<00:59,  9.91s/it]"
     ]
    },
    {
     "name": "stdout",
     "output_type": "stream",
     "text": [
      "|-----> Filtered all samples for common genes. There are 1022 common genes.\n",
      "|-----> Spatial coordinates normalization params:\n",
      "|-----------> Scale: tensor([19213.6191, 19213.6191])...\n",
      "|-----------> Scale: tensor([[18208.1504, 26935.4238],\n",
      "        [21118.4648, 45878.5469]], device='cuda:0')...\n",
      "here\n",
      "|-----> Preprocess finished.\n",
      "|-----> Performing coarse rigid alignment...\n"
     ]
    },
    {
     "name": "stderr",
     "output_type": "stream",
     "text": [
      "/tmp/ipykernel_3221860/1000336554.py:24: ImplicitModificationWarning:\n",
      "\n",
      "Setting element `.obsm['X_pca']` of view, initializing view as actual.\n",
      "\n",
      "/tmp/ipykernel_3221860/1000336554.py:25: ImplicitModificationWarning:\n",
      "\n",
      "Setting element `.obsm['X_pca']` of view, initializing view as actual.\n",
      "\n"
     ]
    },
    {
     "name": "stdout",
     "output_type": "stream",
     "text": [
      "|-----> Coarse rigid alignment done.\n",
      "|-----> [Start Spateo pairwise alignment] in progress: 100.0000%\n",
      "|-----> [Start Spateo pairwise alignment] finished [5.3251s]\n",
      "|-----> Key Parameters: gamma: 0.7609427571296692; sigma2: 0.008617921732366085; probability_parameters: [tensor(0.0025, device='cuda:0')]\n"
     ]
    },
    {
     "name": "stderr",
     "output_type": "stream",
     "text": [
      " 55%|████████████████▎             | 6/11 [00:59<00:48,  9.66s/it]"
     ]
    },
    {
     "name": "stdout",
     "output_type": "stream",
     "text": [
      "|-----> Filtered all samples for common genes. There are 1022 common genes.\n",
      "|-----> Spatial coordinates normalization params:\n",
      "|-----------> Scale: tensor([19785.7461, 19785.7461])...\n",
      "|-----------> Scale: tensor([[18248.6992, 27887.6855],\n",
      "        [21087.5137, 44879.5977]], device='cuda:0')...\n",
      "here\n",
      "|-----> Preprocess finished.\n",
      "|-----> Performing coarse rigid alignment...\n"
     ]
    },
    {
     "name": "stderr",
     "output_type": "stream",
     "text": [
      "/tmp/ipykernel_3221860/1000336554.py:24: ImplicitModificationWarning:\n",
      "\n",
      "Setting element `.obsm['X_pca']` of view, initializing view as actual.\n",
      "\n",
      "/tmp/ipykernel_3221860/1000336554.py:25: ImplicitModificationWarning:\n",
      "\n",
      "Setting element `.obsm['X_pca']` of view, initializing view as actual.\n",
      "\n"
     ]
    },
    {
     "name": "stdout",
     "output_type": "stream",
     "text": [
      "|-----> Coarse rigid alignment done.\n",
      "|-----> [Start Spateo pairwise alignment] in progress: 100.0000%\n",
      "|-----> [Start Spateo pairwise alignment] finished [6.2361s]\n",
      "|-----> Key Parameters: gamma: 0.8159734606742859; sigma2: 0.008958615362644196; probability_parameters: [tensor(0.0024, device='cuda:0')]\n"
     ]
    },
    {
     "name": "stderr",
     "output_type": "stream",
     "text": [
      " 64%|███████████████████           | 7/11 [01:09<00:39,  9.88s/it]"
     ]
    },
    {
     "name": "stdout",
     "output_type": "stream",
     "text": [
      "|-----> Filtered all samples for common genes. There are 1022 common genes.\n",
      "|-----> Spatial coordinates normalization params:\n",
      "|-----------> Scale: tensor([20193.0625, 20193.0625])...\n",
      "|-----------> Scale: tensor([[18287.3008, 28062.3965],\n",
      "        [21051.3945, 43750.9922]], device='cuda:0')...\n",
      "here\n",
      "|-----> Preprocess finished.\n",
      "|-----> Performing coarse rigid alignment...\n"
     ]
    },
    {
     "name": "stderr",
     "output_type": "stream",
     "text": [
      "/tmp/ipykernel_3221860/1000336554.py:24: ImplicitModificationWarning:\n",
      "\n",
      "Setting element `.obsm['X_pca']` of view, initializing view as actual.\n",
      "\n",
      "/tmp/ipykernel_3221860/1000336554.py:25: ImplicitModificationWarning:\n",
      "\n",
      "Setting element `.obsm['X_pca']` of view, initializing view as actual.\n",
      "\n"
     ]
    },
    {
     "name": "stdout",
     "output_type": "stream",
     "text": [
      "|-----> Coarse rigid alignment done.\n",
      "|-----> [Start Spateo pairwise alignment] in progress: 100.0000%\n",
      "|-----> [Start Spateo pairwise alignment] finished [5.2562s]\n",
      "|-----> Key Parameters: gamma: 0.8560851216316223; sigma2: 0.011422584764659405; probability_parameters: [tensor(0.0025, device='cuda:0')]\n"
     ]
    },
    {
     "name": "stderr",
     "output_type": "stream",
     "text": [
      " 73%|█████████████████████▊        | 8/11 [01:19<00:29,  9.70s/it]"
     ]
    },
    {
     "name": "stdout",
     "output_type": "stream",
     "text": [
      "|-----> Filtered all samples for common genes. There are 1022 common genes.\n",
      "|-----> Spatial coordinates normalization params:\n",
      "|-----------> Scale: tensor([21031.3516, 21031.3516])...\n",
      "|-----------> Scale: tensor([[18326.3711, 29304.0820],\n",
      "        [21032.0566, 42359.0703]], device='cuda:0')...\n",
      "here\n",
      "|-----> Preprocess finished.\n",
      "|-----> Performing coarse rigid alignment...\n"
     ]
    },
    {
     "name": "stderr",
     "output_type": "stream",
     "text": [
      "/tmp/ipykernel_3221860/1000336554.py:24: ImplicitModificationWarning:\n",
      "\n",
      "Setting element `.obsm['X_pca']` of view, initializing view as actual.\n",
      "\n",
      "/tmp/ipykernel_3221860/1000336554.py:25: ImplicitModificationWarning:\n",
      "\n",
      "Setting element `.obsm['X_pca']` of view, initializing view as actual.\n",
      "\n"
     ]
    },
    {
     "name": "stdout",
     "output_type": "stream",
     "text": [
      "|-----> Coarse rigid alignment done.\n",
      "|-----> [Start Spateo pairwise alignment] in progress: 100.0000%\n",
      "|-----> [Start Spateo pairwise alignment] finished [6.0831s]\n",
      "|-----> Key Parameters: gamma: 0.8947911262512207; sigma2: 0.005629299208521843; probability_parameters: [tensor(0.0025, device='cuda:0')]\n"
     ]
    },
    {
     "name": "stderr",
     "output_type": "stream",
     "text": [
      " 82%|████████████████████████▌     | 9/11 [01:28<00:19,  9.70s/it]"
     ]
    },
    {
     "name": "stdout",
     "output_type": "stream",
     "text": [
      "|-----> Filtered all samples for common genes. There are 1022 common genes.\n",
      "|-----> Spatial coordinates normalization params:\n",
      "|-----------> Scale: tensor([22189.2969, 22189.2969])...\n",
      "|-----------> Scale: tensor([[18270.1797, 32100.2324],\n",
      "        [21235.1602, 41492.4102]], device='cuda:0')...\n",
      "here\n",
      "|-----> Preprocess finished.\n",
      "|-----> Performing coarse rigid alignment...\n"
     ]
    },
    {
     "name": "stderr",
     "output_type": "stream",
     "text": [
      "/tmp/ipykernel_3221860/1000336554.py:24: ImplicitModificationWarning:\n",
      "\n",
      "Setting element `.obsm['X_pca']` of view, initializing view as actual.\n",
      "\n",
      "/tmp/ipykernel_3221860/1000336554.py:25: ImplicitModificationWarning:\n",
      "\n",
      "Setting element `.obsm['X_pca']` of view, initializing view as actual.\n",
      "\n"
     ]
    },
    {
     "name": "stdout",
     "output_type": "stream",
     "text": [
      "|-----> Coarse rigid alignment done.\n",
      "|-----> [Start Spateo pairwise alignment] in progress: 100.0000%\n",
      "|-----> [Start Spateo pairwise alignment] finished [5.3726s]\n",
      "|-----> Key Parameters: gamma: 0.958746075630188; sigma2: 0.005117278080433607; probability_parameters: [tensor(0.0025, device='cuda:0')]\n"
     ]
    },
    {
     "name": "stderr",
     "output_type": "stream",
     "text": [
      " 91%|██████████████████████████▎  | 10/11 [01:38<00:09,  9.58s/it]"
     ]
    },
    {
     "name": "stdout",
     "output_type": "stream",
     "text": [
      "|-----> Filtered all samples for common genes. There are 1022 common genes.\n",
      "|-----> Spatial coordinates normalization params:\n",
      "|-----------> Scale: tensor([22774.9980, 22774.9980])...\n",
      "|-----------> Scale: tensor([[18291.1387, 33129.4727],\n",
      "        [21177.1348, 41051.1875]], device='cuda:0')...\n",
      "here\n",
      "|-----> Preprocess finished.\n",
      "|-----> Performing coarse rigid alignment...\n"
     ]
    },
    {
     "name": "stderr",
     "output_type": "stream",
     "text": [
      "/tmp/ipykernel_3221860/1000336554.py:24: ImplicitModificationWarning:\n",
      "\n",
      "Setting element `.obsm['X_pca']` of view, initializing view as actual.\n",
      "\n",
      "/tmp/ipykernel_3221860/1000336554.py:25: ImplicitModificationWarning:\n",
      "\n",
      "Setting element `.obsm['X_pca']` of view, initializing view as actual.\n",
      "\n"
     ]
    },
    {
     "name": "stdout",
     "output_type": "stream",
     "text": [
      "|-----> Coarse rigid alignment done.\n",
      "|-----> [Start Spateo pairwise alignment] in progress: 100.0000%\n",
      "|-----> [Start Spateo pairwise alignment] finished [5.8837s]\n",
      "|-----> Key Parameters: gamma: 0.9728068113327026; sigma2: 0.0041472758166491985; probability_parameters: [tensor(0.0026, device='cuda:0')]\n"
     ]
    },
    {
     "name": "stderr",
     "output_type": "stream",
     "text": [
      "100%|█████████████████████████████| 11/11 [01:47<00:00,  9.81s/it]\n"
     ]
    }
   ],
   "source": [
    "overlay_ratio_set = np.arange(0.5, 1.05, 0.05)\n",
    "from tqdm import tqdm\n",
    "maes = []\n",
    "for overlay_ratio in tqdm(overlay_ratio_set):\n",
    "    slice1 = slices[0].copy()\n",
    "    slice2 = slices[1].copy()\n",
    "    slice1_crop, slice2_crop = crop_slices(\n",
    "        slice1, \n",
    "        slice2, \n",
    "        spatial_key='spatial', \n",
    "        overlay_ratio = overlay_ratio,\n",
    "    )\n",
    "    slice1, slice2 = slice1_crop.copy(), slice2_crop.copy()\n",
    "    sampling_num = 20000\n",
    "    sampline_idx1 = np.random.choice(slice1.shape[0], sampling_num, replace=False) if slice1.shape[0] > sampling_num else np.arange(slice1.shape[0])\n",
    "    sampline_idx2 = np.random.choice(slice2.shape[0], sampling_num, replace=False) if slice2.shape[0] > sampling_num else np.arange(slice2.shape[0])\n",
    "    slice1 = slice1[sampline_idx1,:]\n",
    "    slice2 = slice2[sampline_idx2,:]\n",
    "    spatial_key = 'spatial'\n",
    "    key_added = 'align_spatial'\n",
    "\n",
    "    adata_pca = ad.concat([slice1,slice2], label='batch')\n",
    "    PCA(adata_pca, 'X', 'X_pca', 50, 'cuda')\n",
    "    slice1.obsm['X_pca'] = adata_pca[adata_pca.obs['batch'] == '0'].obsm['X_pca'].copy()\n",
    "    slice2.obsm['X_pca'] = adata_pca[adata_pca.obs['batch'] == '1'].obsm['X_pca'].copy()\n",
    "    \n",
    "    align_slices = [slice1, slice2]\n",
    "    morpho_model = Morpho_pairwise(\n",
    "        sampleA=align_slices[1],\n",
    "        sampleB=align_slices[0],\n",
    "        spatial_key=spatial_key,\n",
    "        key_added=key_added,\n",
    "        iter_key_added='align_spatial_iter',\n",
    "        partial_robust_level=50,\n",
    "        lambdaVF=1e3,\n",
    "        beta=1e-3,\n",
    "        sigma2_init_scale=1,\n",
    "        device='1',\n",
    "        sparse_calculation_mode=True,\n",
    "        use_chunk=True,\n",
    "        chunk_capacity=2,\n",
    "        rep_layer=['X_pca'],\n",
    "        rep_field=['obsm'],\n",
    "        dissimilarity=['cos'],\n",
    "        nn_init=True,\n",
    "        nn_init_weight=1,\n",
    "    )\n",
    "    P = morpho_model.run()\n",
    "    align_slices[1].obsm[key_added] = morpho_model.optimal_RnA.copy()\n",
    "    align_slices[0].obsm[key_added] = align_slices[0].obsm[spatial_key].copy()\n",
    "\n",
    "    spatial_align = align_slices[1].obsm[key_added]\n",
    "    spatial_GT = align_slices[1].obsm['spatial']\n",
    "    mae, mae_var = MAE(spatial_align, spatial_GT) / scale\n",
    "    maes.append(mae)\n",
    "np.save(f'./results/{method}_different_overlap.npy', {'maes': maes, 'overlay_ratio':overlay_ratio}, allow_pickle=True)"
   ]
  }
 ],
 "metadata": {
  "kernelspec": {
   "display_name": "Python 3 (ipykernel)",
   "language": "python",
   "name": "python3"
  },
  "language_info": {
   "codemirror_mode": {
    "name": "ipython",
    "version": 3
   },
   "file_extension": ".py",
   "mimetype": "text/x-python",
   "name": "python",
   "nbconvert_exporter": "python",
   "pygments_lexer": "ipython3",
   "version": "3.9.19"
  }
 },
 "nbformat": 4,
 "nbformat_minor": 5
}
