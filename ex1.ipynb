{
 "cells": [
  {
   "cell_type": "code",
   "execution_count": null,
   "id": "8f7f7942",
   "metadata": {},
   "outputs": [],
   "source": [
    "import sys\n",
    "import os\n",
    "import cv2\n",
    "import numpy as np\n",
    "import matplotlib.pyplot as plt\n",
    "sys.path.append(\"../../\") # path to sequencing package\n",
    "#from sequencing2.icell import Icell # need to change to from sequencing.icell import Icell when all have been set up.\n",
    "from sequencing.icell import Icell"
   ]
  },
  {
   "cell_type": "code",
   "execution_count": null,
   "id": "c8fb8d12",
   "metadata": {},
   "outputs": [],
   "source": [
    "in_file = \"input\" # data in this link: https://pan.genomics.cn/ucdisk/s/zANrEb  with code: 858550\n",
    "ins = Icell(in_file)\n",
    "cell_size = 23 # expected cell diameter in pixels"
   ]
  },
  {
   "cell_type": "code",
   "execution_count": null,
   "id": "4d8a860a",
   "metadata": {},
   "outputs": [],
   "source": [
    "ins.read_data()\n",
    "ins.save_raw_as_tif()\n",
    "ins.show_tif_in_jupyter(ins.raw_figure, brighten = 50)"
   ]
  },
  {
   "cell_type": "code",
   "execution_count": null,
   "id": "0d93a46e",
   "metadata": {},
   "outputs": [],
   "source": [
    "# way1\n",
    "ins.creat_and_into_dir(\"way1\")\n",
    "ins.gaussian_blur_and_save_as_tif(kernel_size=cell_size)\n",
    "ins.show_tif_in_jupyter(\"gaussian_blur.tif\", brighten = 2)\n",
    "cutoff = ins.get_knee_of_gaussian_blur()\n",
    "plt.show()\n",
    "ins.mask_cell_base_on_gaussian_blur(cutoff=cutoff)\n",
    "ins.mclose(kernel_size=int(cell_size/4), out_figure=\"cell_mask_close.tif\")\n",
    "ins.mopen(kernel_size=int(cell_size/4), out_figure=\"cell_mask_close_open.tif\")\n",
    "ins.get_cell_labels(kernel_size=cell_size, min_distance=int(cell_size*0.8))\n",
    "ins.enlarge(kpixel=7, max_area=529, area_ratio=3)\n",
    "ins.show_tif_in_jupyter(\"cell_labels.enlarge.tif\")\n",
    "ins.save_cell_labels()\n",
    "ins.add_cell_labels_to_matrix(out_file=\"expressionCellLabels.matrix\")\n",
    "#ins.soft_assign_noncell_spots(radius=11) # it takes about an hour, so it has been silenced here as here is an example.\n",
    "                                          # But in read data, this step is helpful.\n"
   ]
  },
  {
   "cell_type": "code",
   "execution_count": null,
   "id": "fb7a63ff",
   "metadata": {},
   "outputs": [],
   "source": [
    "# way2\n",
    "ins.creat_and_into_dir(\"way2\")\n",
    "ins.gaussian_blur_and_save_as_tif(kernel_size=cell_size)\n",
    "ins.show_tif_in_jupyter(\"gaussian_blur.tif\", brighten = 2)\n",
    "cutoff = 25\n",
    "plt.show()\n",
    "ins.mask_cell_base_on_gaussian_blur(cutoff=cutoff)\n",
    "ins.mclose(kernel_size=int(cell_size/4), out_figure=\"cell_mask_close.tif\")\n",
    "ins.mopen(kernel_size=int(cell_size/4), out_figure=\"cell_mask_close_open.tif\")\n",
    "ins.get_cell_labels(kernel_size=cell_size, min_distance=int(cell_size*0.8))\n",
    "ins.enlarge(kpixel=7, max_area=529, area_ratio=3)\n",
    "ins.show_tif_in_jupyter(\"cell_labels.enlarge.tif\")\n",
    "ins.save_cell_labels()\n",
    "ins.add_cell_labels_to_matrix(out_file=\"expressionCellLabels.matrix\")\n",
    "#ins.soft_assign_noncell_spots(radius=11)"
   ]
  },
  {
   "cell_type": "code",
   "execution_count": null,
   "id": "8c3f1903",
   "metadata": {},
   "outputs": [],
   "source": [
    "# way3\n",
    "ins.creat_and_into_dir(\"way3\")\n",
    "tissue_mask = cv2.imread(\"../tissueMask.tif\", 0)\n",
    "ins.nbnEM(k=3, w=np.array([0.99,0.01]), mu=np.array([10.0,2000.0]), var=np.array([20.0,4000.0]), tissue_mask=tissue_mask)\n",
    "ks = 5\n",
    "neighborhood = cv2.circle(np.zeros([ks,ks], dtype=np.uint8), (int((ks-1)/2),int((ks-1)/2)), int((ks-1)/2), 1, -1)\n",
    "ins.bp(neighborhood=neighborhood)\n",
    "ins.gaussian_blur_and_save_as_tif(kernel_size=cell_size, base_on_EM=True)\n",
    "ins.show_tif_in_jupyter(\"gaussian_blur.tif\", brighten = 2)\n",
    "cutoff = ins.get_knee_of_gaussian_blur()\n",
    "plt.show()\n",
    "ins.mask_cell_base_on_gaussian_blur(cutoff=cutoff)\n",
    "ins.mclose(kernel_size=int(cell_size/4), out_figure=\"cell_mask_close.tif\")\n",
    "ins.mopen(kernel_size=int(cell_size/4), out_figure=\"cell_mask_close_open.tif\")\n",
    "ins.get_cell_labels(kernel_size=cell_size, min_distance=int(cell_size*0.8))\n",
    "ins.enlarge(kpixel=7, max_area=529, area_ratio=3)\n",
    "ins.show_tif_in_jupyter(\"cell_labels.enlarge.tif\")\n",
    "ins.save_cell_labels()\n",
    "ins.add_cell_labels_to_matrix(out_file=\"expressionCellLabels.matrix\")\n",
    "#ins.soft_assign_noncell_spots(radius=11)"
   ]
  },
  {
   "cell_type": "code",
   "execution_count": null,
   "id": "8d17a958",
   "metadata": {},
   "outputs": [],
   "source": [
    "# way4\n",
    "ins.creat_and_into_dir(\"way4\")\n",
    "tissue_mask = cv2.imread(\"../tissueMask.tif\", 0)\n",
    "ins.nbnEM(k=3, w=np.array([0.99,0.01]), mu=np.array([10.0,2000.0]), var=np.array([20.0,4000.0]), tissue_mask=tissue_mask)\n",
    "ks = 5\n",
    "neighborhood = cv2.circle(np.zeros([ks,ks], dtype=np.uint8), (int((ks-1)/2),int((ks-1)/2)), int((ks-1)/2), 1, -1)\n",
    "ins.bp(neighborhood=neighborhood)\n",
    "ins.mask_cell_from_EM(cutoff=127)\n",
    "ins.mclose(kernel_size=int(cell_size/4), out_figure=\"cell_mask_close.tif\")\n",
    "ins.mopen(kernel_size=int(cell_size/4), out_figure=\"cell_mask_close_open.tif\")\n",
    "ins.get_cell_labels(kernel_size=cell_size, min_distance=int(cell_size*0.8))\n",
    "ins.enlarge(kpixel=7, max_area=529, area_ratio=3)\n",
    "ins.show_tif_in_jupyter(\"cell_labels.enlarge.tif\")\n",
    "ins.save_cell_labels()\n",
    "ins.add_cell_labels_to_matrix(out_file=\"expressionCellLabels.matrix\")\n",
    "#ins.soft_assign_noncell_spots(radius=11)"
   ]
  }
 ],
 "metadata": {
  "kernelspec": {
   "display_name": "Python 3 (ipykernel)",
   "language": "python",
   "name": "python3"
  },
  "language_info": {
   "codemirror_mode": {
    "name": "ipython",
    "version": 3
   },
   "file_extension": ".py",
   "mimetype": "text/x-python",
   "name": "python",
   "nbconvert_exporter": "python",
   "pygments_lexer": "ipython3",
   "version": "3.8.10"
  }
 },
 "nbformat": 4,
 "nbformat_minor": 5
}
