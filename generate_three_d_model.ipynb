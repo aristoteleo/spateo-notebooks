{
 "cells": [
  {
   "cell_type": "code",
   "execution_count": null,
   "metadata": {
    "collapsed": true
   },
   "outputs": [],
   "source": [
    "import os\n",
    "import anndata as ad\n",
    "import matplotlib as mpl\n",
    "import numpy as np\n",
    "import spateo as st\n",
    "\n",
    "# read raw h5ad adata\n",
    "data_path = r\"D:\\BGIpy37_pytorch113\\test_data\\E16-18_a\"\n",
    "adata = ad.read_h5ad(os.path.join(data_path, \"E16-18_a.h5ad\"))"
   ]
  },
  {
   "cell_type": "markdown",
   "source": [
    "Generate whole pcs, surface and volume."
   ],
   "metadata": {
    "collapsed": false
   }
  },
  {
   "cell_type": "code",
   "source": [
    "# generate pcs\n",
    "pc = st.tl.construct_pc(adata=adata, groupby=\"anno\", colormap=\"rainbow\", key_added=\"groups\")\n",
    "\n",
    "# generate surface\n",
    "surf, pc = st.tl.construct_surface(pc=pc, key_added=\"groups\", cs_method=\"marching_cube\", smooth=200, alpha=0.5)\n",
    "st.pl.three_d_plot(mesh=pc, key=\"groups\", mesh_style=\"points\", point_size=12)\n",
    "st.pl.three_d_plot(mesh=surf, key=\"groups\", mesh_style=\"surface\")\n",
    "\n",
    "# generate volume\n",
    "volume = st.tl.construct_volume(mesh=surf, key_added=\"groups\", volume_smoothness=300)\n",
    "st.pl.three_d_plot(mesh=volume, key=\"groups\", mesh_style=\"surface\")\n",
    "\n",
    "# save mesh as a vtk file\n",
    "st.tl.save_mesh(mesh=pc, filename=os.path.join(data_path, \"pcs\\E16-18_a_pc.vtk\"))\n",
    "st.tl.save_mesh(mesh=surf, filename=os.path.join(data_path, \"surf\\E16-18_a_surf.vtk\"))\n",
    "st.tl.save_mesh(mesh=volume, filename=os.path.join(data_path, \"volume\\E16-18_a_volume.vtk\"))"
   ],
   "metadata": {
    "collapsed": false,
    "pycharm": {
     "name": "#%%\n"
    }
   },
   "execution_count": null,
   "outputs": []
  },
  {
   "cell_type": "markdown",
   "source": [
    "Generate tissues pcs and surface\n"
   ],
   "metadata": {
    "collapsed": false
   }
  },
  {
   "cell_type": "code",
   "execution_count": null,
   "outputs": [],
   "source": [
    "tissues = np.asarray(pc.point_data[\"groups\"])\n",
    "tissues = np.unique(tissues)\n",
    "\n",
    "tissues_surf = []\n",
    "for tissue in tissues:\n",
    "    tissue_pc = st.tl.three_d_pick(mesh=pc, key=\"groups\", picked_groups=tissue)\n",
    "    block = st.tl.interactive_rectangle_clip(mesh=tissue_pc, key=\"groups\", bg_mesh=None, invert=True)\n",
    "    trim_tissue_pc = [i for i in block][0]\n",
    "\n",
    "    color = trim_tissue_pc[\"groups_rgba\"][0]\n",
    "    hex = mpl.to_hex(c=color, keep_alpha=True)\n",
    "    tissue_surf, trim_tissue_pc = st.tl.construct_surface(\n",
    "        pc=trim_tissue_pc, key_added=\"groups\", cs_method=\"marching_cube\", smooth=200, uniform_pc=True, color=hex, alpha=1.0)\n",
    "    tissue_surf[\"groups\"] = np.asarray([tissue] * tissue_surf.n_cells)\n",
    "\n",
    "    st.pl.three_d_plot(mesh=trim_tissue_pc, key=\"groups\", mesh_style=\"points\", point_size=12)\n",
    "    st.pl.three_d_plot(mesh=tissue_surf, key=\"groups\", mesh_style=\"surface\")\n",
    "\n",
    "    tissues_surf.append(tissue_surf)"
   ],
   "metadata": {
    "collapsed": false,
    "pycharm": {
     "name": "#%%\n"
    }
   }
  },
  {
   "cell_type": "markdown",
   "source": [
    "Merge all tissues and whole body surface to a complete three d model\n"
   ],
   "metadata": {
    "collapsed": false,
    "pycharm": {
     "name": "#%% md\n"
    }
   }
  },
  {
   "cell_type": "code",
   "execution_count": null,
   "outputs": [],
   "source": [
    "all_surf = tissues_surf\n",
    "all_surf.append(surf)\n",
    "mesh = st.tl.collect_mesh(meshes=all_surf)\n",
    "st.pl.three_d_plot(mesh=mesh, key=\"groups\", mesh_style=\"surface\", opacity=1.0)\n",
    "\n",
    "# save mesh as a vtk file\n",
    "st.tl.save_mesh(mesh=mesh, filename=os.path.join(data_path, \"mesh.vtm\"))"
   ],
   "metadata": {
    "collapsed": false,
    "pycharm": {
     "name": "#%%\n"
    }
   }
  }
 ],
 "metadata": {
  "kernelspec": {
   "display_name": "Python 3",
   "language": "python",
   "name": "python3"
  },
  "language_info": {
   "codemirror_mode": {
    "name": "ipython",
    "version": 2
   },
   "file_extension": ".py",
   "mimetype": "text/x-python",
   "name": "python",
   "nbconvert_exporter": "python",
   "pygments_lexer": "ipython2",
   "version": "2.7.6"
  }
 },
 "nbformat": 4,
 "nbformat_minor": 0
}