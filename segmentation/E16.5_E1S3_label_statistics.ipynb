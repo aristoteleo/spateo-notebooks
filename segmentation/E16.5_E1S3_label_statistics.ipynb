{
 "cells": [
  {
   "cell_type": "code",
   "execution_count": 25,
   "id": "38d52b0b-d57c-4e9c-b303-d63cbfe67421",
   "metadata": {
    "tags": []
   },
   "outputs": [],
   "source": [
    "import anndata\n",
    "import numpy as np\n",
    "import matplotlib.pyplot as plt\n",
    "from sklearn import metrics\n",
    "import cv2\n",
    "from collections import Counter\n",
    "from tqdm import tqdm\n",
    "import spateo as st\n",
    "import seaborn as sns\n",
    "import pandas as pd\n",
    "import scanpy as sc\n",
    "from scipy import spatial\n",
    "\n",
    "def adjusted_rand_score(y_true, y_pred):\n",
    "    (tn, fp), (fn, tp) = metrics.pair_confusion_matrix(y_true, y_pred)\n",
    "    tn, tp, fp, fn =int(tn), int(tp), int(fp), int(fn)\n",
    "    if fn == 0 and fp == 0:\n",
    "        return 1.0\n",
    "    return 2. * (tp * tn - fn * fp) / ((tp + fn) * (fn + tn) +\n",
    "                                       (tp + fp) * (fp + tn))\n",
    "\n",
    "def compute_stats(y_true, y_pred):\n",
    "    y_true_bool = y_true > 0\n",
    "    y_pred_bool = y_pred > 0\n",
    "    pos = y_true_bool.sum()\n",
    "    neg = (~y_true_bool).sum()\n",
    "    \n",
    "    y_true_bool_flattened = y_true_bool.flatten()\n",
    "    y_pred_bool_flattened = y_pred_bool.flatten()\n",
    "    tn, fp, fn, tp = metrics.confusion_matrix(y_true_bool_flattened, y_pred_bool_flattened).ravel()\n",
    "    f1 = metrics.f1_score(y_true_bool_flattened, y_pred_bool_flattened)\n",
    "    \n",
    "    where = (y_true > 0) & (y_pred > 0)\n",
    "    y_true_labels = y_true[where]\n",
    "    y_pred_labels = y_pred[where]\n",
    "    ars = adjusted_rand_score(y_true_labels, y_pred_labels)\n",
    "    homogeneity, completeness, v = metrics.homogeneity_completeness_v_measure(y_true_labels, y_pred_labels)\n",
    "    \n",
    "    return tn / neg, fp / neg, fn / pos, tp / pos, f1, ars, homogeneity, completeness, v"
   ]
  },
  {
   "cell_type": "markdown",
   "id": "6d19725f-7f60-4e9b-86aa-355fd6f6b567",
   "metadata": {},
   "source": [
    "## Load data"
   ]
  },
  {
   "cell_type": "code",
   "execution_count": 4,
   "id": "9c53e2f6-d9c5-41ef-b965-eddd3826effb",
   "metadata": {},
   "outputs": [],
   "source": [
    "seg_adata = anndata.read('data/E16.5_E1S3.h5ad')\n",
    "cell_adata = anndata.read('data/adata_E16.5_E1S3_cell_labels.h5ad')\n",
    "X_adata = anndata.read('data/adata_E16.5_E1S3_X_labels.h5ad')\n",
    "random_adata = anndata.read('data/adata_E16.5_E1S3_random_X_labels.h5ad')"
   ]
  },
  {
   "cell_type": "markdown",
   "id": "c558ef23-f565-4b25-8d34-8e2c2385d61c",
   "metadata": {},
   "source": [
    "## Pixel classification statistics\n",
    "\n",
    "Consider the segmentation problem as a pixel classification problem."
   ]
  },
  {
   "cell_type": "markdown",
   "id": "7f859fe8-673b-4838-a94c-2f2dbf2103f7",
   "metadata": {},
   "source": [
    "### Nuclei labels"
   ]
  },
  {
   "cell_type": "code",
   "execution_count": 3,
   "id": "7685886e-c543-4ef5-96dc-8eabd42af510",
   "metadata": {},
   "outputs": [
    {
     "data": {
      "text/plain": [
       "(0.9530779427800053,\n",
       " 0.04692205721999464,\n",
       " 0.8652490396393218,\n",
       " 0.13475096036067827,\n",
       " 0.22125824330828509,\n",
       " 0.8037711567220533,\n",
       " 0.966656724918882,\n",
       " 0.9882066965219727,\n",
       " 0.9773129297173658)"
      ]
     },
     "execution_count": 3,
     "metadata": {},
     "output_type": "execute_result"
    }
   ],
   "source": [
    "stain_labels = seg_adata.layers['stain_labels'][seg_adata.X.A > 0]\n",
    "unspliced_labels = seg_adata.layers['unspliced_labels'][seg_adata.X.A > 0]\n",
    "compute_stats(stain_labels, unspliced_labels)"
   ]
  },
  {
   "cell_type": "markdown",
   "id": "e82a4c06-b17e-4ac3-88cd-23c7fd769b57",
   "metadata": {},
   "source": [
    "### Cell labels"
   ]
  },
  {
   "cell_type": "code",
   "execution_count": 4,
   "id": "60d1dc56-87f4-4782-aad4-b724f2d3feb4",
   "metadata": {},
   "outputs": [
    {
     "data": {
      "text/plain": [
       "(0.9775129896815707,\n",
       " 0.022487010318429215,\n",
       " 0.7900760796851005,\n",
       " 0.20992392031489945,\n",
       " 0.34512184281689157,\n",
       " 0.6417269830826187,\n",
       " 0.9330560684380664,\n",
       " 0.9752772974599759,\n",
       " 0.9536996177569598)"
      ]
     },
     "execution_count": 4,
     "metadata": {},
     "output_type": "execute_result"
    }
   ],
   "source": [
    "cell_labels = seg_adata.layers['cell_labels_expanded'][seg_adata.X.A > 0]\n",
    "X_labels = seg_adata.layers['X_labels_expanded'][seg_adata.X.A > 0]\n",
    "compute_stats(cell_labels, X_labels)"
   ]
  },
  {
   "cell_type": "markdown",
   "id": "e30ea5c2-1c36-406d-98f0-676c70ae29fb",
   "metadata": {},
   "source": [
    "Compare these to randomly permuted labels."
   ]
  },
  {
   "cell_type": "code",
   "execution_count": 5,
   "id": "3c18e8cf-24da-451f-91a7-58b0e4c4537e",
   "metadata": {},
   "outputs": [
    {
     "data": {
      "text/plain": [
       "(0.8979476500457239,\n",
       " 0.10205234995427614,\n",
       " 0.8979925954845985,\n",
       " 0.10200740451540152,\n",
       " 0.1802338362330796,\n",
       " -2.2584422787846276e-07,\n",
       " 0.6276179418193916,\n",
       " 0.6992356599703274,\n",
       " 0.6614939962711133)"
      ]
     },
     "execution_count": 5,
     "metadata": {},
     "output_type": "execute_result"
    }
   ],
   "source": [
    "cell_labels = seg_adata.layers['cell_labels_expanded'][seg_adata.X.A > 0]\n",
    "random_labels = seg_adata.layers['random_X_labels_expanded'][seg_adata.X.A > 0]\n",
    "compute_stats(cell_labels, random_labels)"
   ]
  },
  {
   "cell_type": "markdown",
   "id": "e05b20ff-2a38-4d29-88db-c832ec38de46",
   "metadata": {},
   "source": [
    "## Cell statistics\n",
    "\n",
    "Compare cell Anndatas."
   ]
  },
  {
   "cell_type": "code",
   "execution_count": 6,
   "id": "4ecabcfb-982d-4539-a652-15f2d4405aab",
   "metadata": {},
   "outputs": [],
   "source": [
    "sc.pp.calculate_qc_metrics(cell_adata, inplace=True)\n",
    "sc.pp.calculate_qc_metrics(X_adata, inplace=True)"
   ]
  },
  {
   "cell_type": "code",
   "execution_count": 7,
   "id": "a73a5d3d-452c-44d3-9c48-0c3c9e17a6c9",
   "metadata": {},
   "outputs": [
    {
     "data": {
      "text/plain": [
       "Text(0.5, 1.0, 'X 416.0')"
      ]
     },
     "execution_count": 7,
     "metadata": {},
     "output_type": "execute_result"
    },
    {
     "data": {
      "image/png": "[encoded data removed]",
      "text/plain": [
       "<Figure size 288x216 with 2 Axes>"
      ]
     },
     "metadata": {
      "needs_background": "light"
     },
     "output_type": "display_data"
    }
   ],
   "source": [
    "fig, axes = plt.subplots(ncols=2, figsize=(4, 3), tight_layout=True, sharey=True)\n",
    "\n",
    "column = 'n_genes_by_counts'\n",
    "sc.pl.violin(cell_adata, column, ax=axes[0], show=False)\n",
    "axes[0].set_title(f'cell {cell_adata.obs[column].median()}')\n",
    "sc.pl.violin(X_adata, column, ax=axes[1], show=False)\n",
    "axes[1].set_title(f'X {X_adata.obs[column].median()}')"
   ]
  },
  {
   "cell_type": "code",
   "execution_count": 8,
   "id": "e1938127-43e0-45a4-9802-6a68609ab245",
   "metadata": {},
   "outputs": [
    {
     "data": {
      "text/plain": [
       "Text(0.5, 1.0, 'X 810.0')"
      ]
     },
     "execution_count": 8,
     "metadata": {},
     "output_type": "execute_result"
    },
    {
     "data": {
      "image/png": "[encoded data removed]",
      "text/plain": [
       "<Figure size 288x216 with 2 Axes>"
      ]
     },
     "metadata": {
      "needs_background": "light"
     },
     "output_type": "display_data"
    }
   ],
   "source": [
    "fig, axes = plt.subplots(ncols=2, figsize=(4, 3), tight_layout=True, sharey=True)\n",
    "\n",
    "column = 'total_counts'\n",
    "sc.pl.violin(cell_adata, column, ax=axes[0], show=False)\n",
    "axes[0].set_title(f'cell {cell_adata.obs[column].median()}')\n",
    "sc.pl.violin(X_adata, column, ax=axes[1], show=False)\n",
    "axes[1].set_title(f'X {X_adata.obs[column].median()}')"
   ]
  },
  {
   "cell_type": "markdown",
   "id": "ccedf6ee-dea4-4790-accf-d2cd39a5b6e0",
   "metadata": {},
   "source": [
    "### Cell-cell cosine distance\n",
    "\n",
    "Cosine distance between each RNA-segmented cell and its (spatially) closest staining cell."
   ]
  },
  {
   "cell_type": "code",
   "execution_count": 29,
   "id": "7cdc4943-bd57-4fa8-8d82-6bae33fc3b66",
   "metadata": {},
   "outputs": [
    {
     "data": {
      "text/plain": [
       "<AxesSubplot:xlabel='cosine_distance', ylabel='Count'>"
      ]
     },
     "execution_count": 29,
     "metadata": {},
     "output_type": "execute_result"
    },
    {
     "data": {
      "image/png": "[encoded data removed]",
      "text/plain": [
       "<Figure size 432x288 with 1 Axes>"
      ]
     },
     "metadata": {
      "needs_background": "light"
     },
     "output_type": "display_data"
    }
   ],
   "source": [
    "nearest = np.concatenate(list(metrics.pairwise_distances_chunked(X_adata.obsm['spatial'], cell_adata.obsm['spatial'], n_jobs=16, reduce_func=lambda D_chunk, start: D_chunk.argmin(axis=1), working_memory=64)))\n",
    "cell = cell_adata.X.A\n",
    "X = X_adata.X.A\n",
    "\n",
    "X_distances = []\n",
    "for i, j in enumerate(nearest):\n",
    "    X_distances.append(spatial.distance.cosine(X[i], cell[j]))\n",
    "    \n",
    "random_distances = []\n",
    "for i, j in enumerate(np.random.choice(cell_adata.n_obs, X_adata.n_obs, replace=False)):\n",
    "    random_distances.append(spatial.distance.cosine(X[i], cell[j]))\n",
    "\n",
    "sns.histplot(data=pd.concat((\n",
    "    pd.DataFrame({'cosine_distance': X_distances, 'method': 'X'}),\n",
    "    pd.DataFrame({'cosine_distance': random_distances, 'method': 'random'}),\n",
    "), ignore_index=True), x='cosine_distance', hue='method', bins=50)"
   ]
  },
  {
   "cell_type": "code",
   "execution_count": null,
   "id": "2516f93e-65a1-436f-8bc3-f69080badc60",
   "metadata": {},
   "outputs": [],
   "source": []
  }
 ],
 "metadata": {
  "kernelspec": {
   "display_name": "Python 3 (ipykernel)",
   "language": "python",
   "name": "python3"
  },
  "language_info": {
   "codemirror_mode": {
    "name": "ipython",
    "version": 3
   },
   "file_extension": ".py",
   "mimetype": "text/x-python",
   "name": "python",
   "nbconvert_exporter": "python",
   "pygments_lexer": "ipython3",
   "version": "3.8.5"
  }
 },
 "nbformat": 4,
 "nbformat_minor": 5
}
