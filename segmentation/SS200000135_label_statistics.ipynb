{
 "cells": [
  {
   "cell_type": "code",
   "execution_count": 1,
   "id": "38d52b0b-d57c-4e9c-b303-d63cbfe67421",
   "metadata": {
    "collapsed": true,
    "jupyter": {
     "outputs_hidden": true
    },
    "tags": []
   },
   "outputs": [
    {
     "name": "stderr",
     "output_type": "stream",
     "text": [
      "/home/kmin/miniconda3/lib/python3.8/site-packages/pkg_resources/__init__.py:116: PkgResourcesDeprecationWarning: ssiopeia-lineage is an invalid version and will not be supported in a future release\n",
      "  warnings.warn(\n",
      "/home/kmin/miniconda3/lib/python3.8/site-packages/geopandas/_compat.py:111: UserWarning: The Shapely GEOS version (3.9.1-CAPI-1.14.2) is incompatible with the GEOS version PyGEOS was compiled with (3.10.1-CAPI-1.16.0). Conversions between both will be slow.\n",
      "  warnings.warn(\n",
      "/home/kmin/miniconda3/lib/python3.8/site-packages/spaghetti/network.py:36: FutureWarning: The next major release of pysal/spaghetti (2.0.0) will drop support for all ``libpysal.cg`` geometries. This change is a first step in refactoring ``spaghetti`` that is expected to result in dramatically reduced runtimes for network instantiation and operations. Users currently requiring network and point pattern input as ``libpysal.cg`` geometries should prepare for this simply by converting to ``shapely`` geometries.\n",
      "  warnings.warn(f\"{dep_msg}\", FutureWarning)\n"
     ]
    },
    {
     "name": "stdout",
     "output_type": "stream",
     "text": [
      "Jupyter environment detected. Enabling Open3D WebVisualizer.\n",
      "[Open3D INFO] WebRTC GUI backend enabled.\n",
      "[Open3D INFO] WebRTCWindowSystem: HTTP handshake server disabled.\n"
     ]
    },
    {
     "name": "stderr",
     "output_type": "stream",
     "text": [
      "2022-03-29 13:37:26.051818: W tensorflow/stream_executor/platform/default/dso_loader.cc:64] Could not load dynamic library 'libcudart.so.11.0'; dlerror: libcudart.so.11.0: cannot open shared object file: No such file or directory; LD_LIBRARY_PATH: /lab/solexa_weissman/kmin/miniconda3/lib/python3.8/site-packages/cv2/../../lib64:/nfs/lsf8/8.0/linux2.6-glibc2.3-x86_64/lib\n"
     ]
    }
   ],
   "source": [
    "import anndata\n",
    "import numpy as np\n",
    "import matplotlib.pyplot as plt\n",
    "from sklearn import metrics\n",
    "import cv2\n",
    "from collections import Counter\n",
    "from tqdm import tqdm\n",
    "import spateo as st\n",
    "import seaborn as sns\n",
    "import pandas as pd\n",
    "import scanpy as sc\n",
    "from scipy import spatial\n",
    "\n",
    "def adjusted_rand_score(y_true, y_pred):\n",
    "    (tn, fp), (fn, tp) = metrics.pair_confusion_matrix(y_true, y_pred)\n",
    "    tn, tp, fp, fn =int(tn), int(tp), int(fp), int(fn)\n",
    "    if fn == 0 and fp == 0:\n",
    "        return 1.0\n",
    "    return 2. * (tp * tn - fn * fp) / ((tp + fn) * (fn + tn) +\n",
    "                                       (tp + fp) * (fp + tn))\n",
    "\n",
    "def compute_stats(y_true, y_pred):\n",
    "    y_true_bool = y_true > 0\n",
    "    y_pred_bool = y_pred > 0\n",
    "    pos = y_true_bool.sum()\n",
    "    neg = (~y_true_bool).sum()\n",
    "    \n",
    "    y_true_bool_flattened = y_true_bool.flatten()\n",
    "    y_pred_bool_flattened = y_pred_bool.flatten()\n",
    "    tn, fp, fn, tp = metrics.confusion_matrix(y_true_bool_flattened, y_pred_bool_flattened).ravel()\n",
    "    f1 = metrics.f1_score(y_true_bool_flattened, y_pred_bool_flattened)\n",
    "    \n",
    "    where = (y_true > 0) & (y_pred > 0)\n",
    "    y_true_labels = y_true[where]\n",
    "    y_pred_labels = y_pred[where]\n",
    "    ars = adjusted_rand_score(y_true_labels, y_pred_labels)\n",
    "    homogeneity, completeness, v = metrics.homogeneity_completeness_v_measure(y_true_labels, y_pred_labels)\n",
    "    \n",
    "    return tn / neg, fp / neg, fn / pos, tp / pos, f1, ars, homogeneity, completeness, v"
   ]
  },
  {
   "cell_type": "markdown",
   "id": "6d19725f-7f60-4e9b-86aa-355fd6f6b567",
   "metadata": {},
   "source": [
    "## Load data"
   ]
  },
  {
   "cell_type": "code",
   "execution_count": 2,
   "id": "9c53e2f6-d9c5-41ef-b965-eddd3826effb",
   "metadata": {},
   "outputs": [],
   "source": [
    "seg_adata = anndata.read('data/SS200000135.h5ad')\n",
    "cell_adata = anndata.read('data/adata_SS200000135_cell_labels.h5ad')\n",
    "X_adata = anndata.read('data/adata_SS200000135_X_labels.h5ad')\n",
    "random_adata = anndata.read('data/adata_SS200000135_random_X_labels.h5ad')"
   ]
  },
  {
   "cell_type": "markdown",
   "id": "c558ef23-f565-4b25-8d34-8e2c2385d61c",
   "metadata": {},
   "source": [
    "## Pixel classification statistics\n",
    "\n",
    "Consider the segmentation problem as a pixel classification problem."
   ]
  },
  {
   "cell_type": "markdown",
   "id": "7f859fe8-673b-4838-a94c-2f2dbf2103f7",
   "metadata": {},
   "source": [
    "### Nuclei labels"
   ]
  },
  {
   "cell_type": "code",
   "execution_count": 19,
   "id": "7685886e-c543-4ef5-96dc-8eabd42af510",
   "metadata": {},
   "outputs": [
    {
     "data": {
      "text/html": [
       "<div>\n",
       "<style scoped>\n",
       "    .dataframe tbody tr th:only-of-type {\n",
       "        vertical-align: middle;\n",
       "    }\n",
       "\n",
       "    .dataframe tbody tr th {\n",
       "        vertical-align: top;\n",
       "    }\n",
       "\n",
       "    .dataframe thead th {\n",
       "        text-align: right;\n",
       "    }\n",
       "</style>\n",
       "<table border=\"1\" class=\"dataframe\">\n",
       "  <thead>\n",
       "    <tr style=\"text-align: right;\">\n",
       "      <th></th>\n",
       "      <th>value</th>\n",
       "    </tr>\n",
       "  </thead>\n",
       "  <tbody>\n",
       "    <tr>\n",
       "      <th>True negative</th>\n",
       "      <td>0.938044</td>\n",
       "    </tr>\n",
       "    <tr>\n",
       "      <th>False positive</th>\n",
       "      <td>0.061956</td>\n",
       "    </tr>\n",
       "    <tr>\n",
       "      <th>False negative</th>\n",
       "      <td>0.670561</td>\n",
       "    </tr>\n",
       "    <tr>\n",
       "      <th>True positive</th>\n",
       "      <td>0.329439</td>\n",
       "    </tr>\n",
       "    <tr>\n",
       "      <th>F1 score</th>\n",
       "      <td>0.398855</td>\n",
       "    </tr>\n",
       "    <tr>\n",
       "      <th>Adjusted rand score</th>\n",
       "      <td>0.892228</td>\n",
       "    </tr>\n",
       "    <tr>\n",
       "      <th>Homogeneity</th>\n",
       "      <td>0.979909</td>\n",
       "    </tr>\n",
       "    <tr>\n",
       "      <th>Completeness</th>\n",
       "      <td>0.990108</td>\n",
       "    </tr>\n",
       "    <tr>\n",
       "      <th>V measure</th>\n",
       "      <td>0.984982</td>\n",
       "    </tr>\n",
       "  </tbody>\n",
       "</table>\n",
       "</div>"
      ],
      "text/plain": [
       "                        value\n",
       "True negative        0.938044\n",
       "False positive       0.061956\n",
       "False negative       0.670561\n",
       "True positive        0.329439\n",
       "F1 score             0.398855\n",
       "Adjusted rand score  0.892228\n",
       "Homogeneity          0.979909\n",
       "Completeness         0.990108\n",
       "V measure            0.984982"
      ]
     },
     "execution_count": 19,
     "metadata": {},
     "output_type": "execute_result"
    }
   ],
   "source": [
    "stain_labels = seg_adata.layers['stain_labels'][seg_adata.X.A > 0]\n",
    "unspliced_labels = seg_adata.layers['unspliced_labels'][seg_adata.X.A > 0]\n",
    "values = compute_stats(stain_labels, unspliced_labels)\n",
    "pd.DataFrame({'value': values}, index=[\n",
    "    'True negative',\n",
    "    'False positive',\n",
    "    'False negative',\n",
    "    'True positive',\n",
    "    'F1 score',\n",
    "    'Adjusted rand score',\n",
    "    'Homogeneity',\n",
    "    'Completeness',\n",
    "    'V measure'\n",
    "])"
   ]
  },
  {
   "cell_type": "markdown",
   "id": "e82a4c06-b17e-4ac3-88cd-23c7fd769b57",
   "metadata": {},
   "source": [
    "### Cell labels"
   ]
  },
  {
   "cell_type": "code",
   "execution_count": 20,
   "id": "60d1dc56-87f4-4782-aad4-b724f2d3feb4",
   "metadata": {},
   "outputs": [
    {
     "data": {
      "text/html": [
       "<div>\n",
       "<style scoped>\n",
       "    .dataframe tbody tr th:only-of-type {\n",
       "        vertical-align: middle;\n",
       "    }\n",
       "\n",
       "    .dataframe tbody tr th {\n",
       "        vertical-align: top;\n",
       "    }\n",
       "\n",
       "    .dataframe thead th {\n",
       "        text-align: right;\n",
       "    }\n",
       "</style>\n",
       "<table border=\"1\" class=\"dataframe\">\n",
       "  <thead>\n",
       "    <tr style=\"text-align: right;\">\n",
       "      <th></th>\n",
       "      <th>value</th>\n",
       "    </tr>\n",
       "  </thead>\n",
       "  <tbody>\n",
       "    <tr>\n",
       "      <th>True negative</th>\n",
       "      <td>0.944805</td>\n",
       "    </tr>\n",
       "    <tr>\n",
       "      <th>False positive</th>\n",
       "      <td>0.055195</td>\n",
       "    </tr>\n",
       "    <tr>\n",
       "      <th>False negative</th>\n",
       "      <td>0.630809</td>\n",
       "    </tr>\n",
       "    <tr>\n",
       "      <th>True positive</th>\n",
       "      <td>0.369191</td>\n",
       "    </tr>\n",
       "    <tr>\n",
       "      <th>F1 score</th>\n",
       "      <td>0.502152</td>\n",
       "    </tr>\n",
       "    <tr>\n",
       "      <th>Adjusted rand score</th>\n",
       "      <td>0.779811</td>\n",
       "    </tr>\n",
       "    <tr>\n",
       "      <th>Homogeneity</th>\n",
       "      <td>0.957866</td>\n",
       "    </tr>\n",
       "    <tr>\n",
       "      <th>Completeness</th>\n",
       "      <td>0.979080</td>\n",
       "    </tr>\n",
       "    <tr>\n",
       "      <th>V measure</th>\n",
       "      <td>0.968357</td>\n",
       "    </tr>\n",
       "  </tbody>\n",
       "</table>\n",
       "</div>"
      ],
      "text/plain": [
       "                        value\n",
       "True negative        0.944805\n",
       "False positive       0.055195\n",
       "False negative       0.630809\n",
       "True positive        0.369191\n",
       "F1 score             0.502152\n",
       "Adjusted rand score  0.779811\n",
       "Homogeneity          0.957866\n",
       "Completeness         0.979080\n",
       "V measure            0.968357"
      ]
     },
     "execution_count": 20,
     "metadata": {},
     "output_type": "execute_result"
    }
   ],
   "source": [
    "cell_labels = seg_adata.layers['cell_labels_expanded'][seg_adata.X.A > 0]\n",
    "X_labels = seg_adata.layers['X_labels_expanded'][seg_adata.X.A > 0]\n",
    "values = compute_stats(cell_labels, X_labels)\n",
    "pd.DataFrame({'value': values}, index=[\n",
    "    'True negative',\n",
    "    'False positive',\n",
    "    'False negative',\n",
    "    'True positive',\n",
    "    'F1 score',\n",
    "    'Adjusted rand score',\n",
    "    'Homogeneity',\n",
    "    'Completeness',\n",
    "    'V measure'\n",
    "])"
   ]
  },
  {
   "cell_type": "markdown",
   "id": "e30ea5c2-1c36-406d-98f0-676c70ae29fb",
   "metadata": {},
   "source": [
    "Compare these to randomly permuted labels."
   ]
  },
  {
   "cell_type": "code",
   "execution_count": 21,
   "id": "3c18e8cf-24da-451f-91a7-58b0e4c4537e",
   "metadata": {},
   "outputs": [
    {
     "data": {
      "text/html": [
       "<div>\n",
       "<style scoped>\n",
       "    .dataframe tbody tr th:only-of-type {\n",
       "        vertical-align: middle;\n",
       "    }\n",
       "\n",
       "    .dataframe tbody tr th {\n",
       "        vertical-align: top;\n",
       "    }\n",
       "\n",
       "    .dataframe thead th {\n",
       "        text-align: right;\n",
       "    }\n",
       "</style>\n",
       "<table border=\"1\" class=\"dataframe\">\n",
       "  <thead>\n",
       "    <tr style=\"text-align: right;\">\n",
       "      <th></th>\n",
       "      <th>value</th>\n",
       "    </tr>\n",
       "  </thead>\n",
       "  <tbody>\n",
       "    <tr>\n",
       "      <th>True negative</th>\n",
       "      <td>9.138591e-01</td>\n",
       "    </tr>\n",
       "    <tr>\n",
       "      <th>False positive</th>\n",
       "      <td>8.614092e-02</td>\n",
       "    </tr>\n",
       "    <tr>\n",
       "      <th>False negative</th>\n",
       "      <td>9.139541e-01</td>\n",
       "    </tr>\n",
       "    <tr>\n",
       "      <th>True positive</th>\n",
       "      <td>8.604594e-02</td>\n",
       "    </tr>\n",
       "    <tr>\n",
       "      <th>F1 score</th>\n",
       "      <td>1.383319e-01</td>\n",
       "    </tr>\n",
       "    <tr>\n",
       "      <th>Adjusted rand score</th>\n",
       "      <td>-2.222445e-07</td>\n",
       "    </tr>\n",
       "    <tr>\n",
       "      <th>Homogeneity</th>\n",
       "      <td>6.214157e-01</td>\n",
       "    </tr>\n",
       "    <tr>\n",
       "      <th>Completeness</th>\n",
       "      <td>6.620336e-01</td>\n",
       "    </tr>\n",
       "    <tr>\n",
       "      <th>V measure</th>\n",
       "      <td>6.410819e-01</td>\n",
       "    </tr>\n",
       "  </tbody>\n",
       "</table>\n",
       "</div>"
      ],
      "text/plain": [
       "                            value\n",
       "True negative        9.138591e-01\n",
       "False positive       8.614092e-02\n",
       "False negative       9.139541e-01\n",
       "True positive        8.604594e-02\n",
       "F1 score             1.383319e-01\n",
       "Adjusted rand score -2.222445e-07\n",
       "Homogeneity          6.214157e-01\n",
       "Completeness         6.620336e-01\n",
       "V measure            6.410819e-01"
      ]
     },
     "execution_count": 21,
     "metadata": {},
     "output_type": "execute_result"
    }
   ],
   "source": [
    "cell_labels = seg_adata.layers['cell_labels_expanded'][seg_adata.X.A > 0]\n",
    "random_labels = seg_adata.layers['random_X_labels_expanded'][seg_adata.X.A > 0]\n",
    "values = compute_stats(cell_labels, random_labels)\n",
    "pd.DataFrame({'value': values}, index=[\n",
    "    'True negative',\n",
    "    'False positive',\n",
    "    'False negative',\n",
    "    'True positive',\n",
    "    'F1 score',\n",
    "    'Adjusted rand score',\n",
    "    'Homogeneity',\n",
    "    'Completeness',\n",
    "    'V measure'\n",
    "])"
   ]
  },
  {
   "cell_type": "markdown",
   "id": "e05b20ff-2a38-4d29-88db-c832ec38de46",
   "metadata": {
    "tags": []
   },
   "source": [
    "## Cell statistics\n",
    "\n",
    "Compare cell Anndatas."
   ]
  },
  {
   "cell_type": "markdown",
   "id": "8c62160c-0892-4b60-a6b8-24fbe83447d6",
   "metadata": {},
   "source": [
    "### Genes detected"
   ]
  },
  {
   "cell_type": "code",
   "execution_count": 9,
   "id": "4ecabcfb-982d-4539-a652-15f2d4405aab",
   "metadata": {},
   "outputs": [],
   "source": [
    "sc.pp.calculate_qc_metrics(cell_adata, inplace=True)\n",
    "sc.pp.calculate_qc_metrics(X_adata, inplace=True)"
   ]
  },
  {
   "cell_type": "code",
   "execution_count": 21,
   "id": "a73a5d3d-452c-44d3-9c48-0c3c9e17a6c9",
   "metadata": {},
   "outputs": [
    {
     "data": {
      "text/plain": [
       "Text(0.5, 1.0, 'X 598.0')"
      ]
     },
     "execution_count": 21,
     "metadata": {},
     "output_type": "execute_result"
    },
    {
     "data": {
      "image/png": "[encoded data removed]",
      "text/plain": [
       "<Figure size 288x216 with 2 Axes>"
      ]
     },
     "metadata": {
      "needs_background": "light"
     },
     "output_type": "display_data"
    }
   ],
   "source": [
    "fig, axes = plt.subplots(ncols=2, figsize=(4, 3), tight_layout=True, sharey=True)\n",
    "\n",
    "column = 'n_genes_by_counts'\n",
    "sc.pl.violin(cell_adata, column, ax=axes[0], show=False)\n",
    "axes[0].set_title(f'cell {cell_adata.obs[column].median()}')\n",
    "sc.pl.violin(X_adata, column, ax=axes[1], show=False)\n",
    "axes[1].set_title(f'X {X_adata.obs[column].median()}')"
   ]
  },
  {
   "cell_type": "markdown",
   "id": "e975f542-1632-4584-983a-07d6c427553b",
   "metadata": {},
   "source": [
    "### Total UMIs"
   ]
  },
  {
   "cell_type": "code",
   "execution_count": 22,
   "id": "e1938127-43e0-45a4-9802-6a68609ab245",
   "metadata": {},
   "outputs": [
    {
     "data": {
      "text/plain": [
       "Text(0.5, 1.0, 'X 1517.0')"
      ]
     },
     "execution_count": 22,
     "metadata": {},
     "output_type": "execute_result"
    },
    {
     "data": {
      "image/png": "[encoded data removed]",
      "text/plain": [
       "<Figure size 288x216 with 2 Axes>"
      ]
     },
     "metadata": {
      "needs_background": "light"
     },
     "output_type": "display_data"
    }
   ],
   "source": [
    "fig, axes = plt.subplots(ncols=2, figsize=(4, 3), tight_layout=True, sharey=True)\n",
    "\n",
    "column = 'total_counts'\n",
    "sc.pl.violin(cell_adata, column, ax=axes[0], show=False)\n",
    "axes[0].set_title(f'cell {cell_adata.obs[column].median()}')\n",
    "sc.pl.violin(X_adata, column, ax=axes[1], show=False)\n",
    "axes[1].set_title(f'X {X_adata.obs[column].median()}')"
   ]
  },
  {
   "cell_type": "markdown",
   "id": "2d2fc904-a419-49ca-8c2f-e3298df7abf2",
   "metadata": {},
   "source": [
    "### Cell-cell cosine distance\n",
    "\n",
    "Cosine distance between each RNA-segmented cell and its (spatially) closest staining cell."
   ]
  },
  {
   "cell_type": "code",
   "execution_count": 4,
   "id": "650be226-bfab-421d-9da1-9dcbc16f8a2e",
   "metadata": {},
   "outputs": [
    {
     "data": {
      "text/plain": [
       "<AxesSubplot:xlabel='cosine_distance', ylabel='Count'>"
      ]
     },
     "execution_count": 4,
     "metadata": {},
     "output_type": "execute_result"
    },
    {
     "data": {
      "image/png": "[encoded data removed]",
      "text/plain": [
       "<Figure size 432x288 with 1 Axes>"
      ]
     },
     "metadata": {
      "needs_background": "light"
     },
     "output_type": "display_data"
    }
   ],
   "source": [
    "nearest = np.concatenate(list(metrics.pairwise_distances_chunked(X_adata.obsm['spatial'], cell_adata.obsm['spatial'], n_jobs=16, reduce_func=lambda D_chunk, start: D_chunk.argmin(axis=1), working_memory=64)))\n",
    "cell = cell_adata.X.A\n",
    "X = X_adata.X.A\n",
    "\n",
    "X_distances = []\n",
    "for i, j in enumerate(nearest):\n",
    "    X_distances.append(spatial.distance.cosine(X[i], cell[j]))\n",
    "    \n",
    "random_distances = []\n",
    "for i, j in enumerate(np.random.choice(cell_adata.n_obs, X_adata.n_obs, replace=False)):\n",
    "    random_distances.append(spatial.distance.cosine(X[i], cell[j]))\n",
    "\n",
    "sns.histplot(data=pd.concat((\n",
    "    pd.DataFrame({'cosine_distance': X_distances, 'method': 'X'}),\n",
    "    pd.DataFrame({'cosine_distance': random_distances, 'method': 'random'}),\n",
    "), ignore_index=True), x='cosine_distance', hue='method')"
   ]
  },
  {
   "cell_type": "code",
   "execution_count": null,
   "id": "6e9900d6-2903-445f-abd5-0390e25a9a23",
   "metadata": {},
   "outputs": [],
   "source": []
  }
 ],
 "metadata": {
  "kernelspec": {
   "display_name": "Python 3 (ipykernel)",
   "language": "python",
   "name": "python3"
  },
  "language_info": {
   "codemirror_mode": {
    "name": "ipython",
    "version": 3
   },
   "file_extension": ".py",
   "mimetype": "text/x-python",
   "name": "python",
   "nbconvert_exporter": "python",
   "pygments_lexer": "ipython3",
   "version": "3.8.5"
  }
 },
 "nbformat": 4,
 "nbformat_minor": 5
}
