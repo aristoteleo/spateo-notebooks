{
 "cells": [
  {
   "cell_type": "code",
   "execution_count": 2,
   "metadata": {},
   "outputs": [
    {
     "name": "stdout",
     "output_type": "stream",
     "text": [
      "The autoreload extension is already loaded. To reload it, use:\n",
      "  %reload_ext autoreload\n"
     ]
    }
   ],
   "source": [
    "%load_ext autoreload\n",
    "%autoreload 2\n",
    "import sys\n",
    "sys.path.insert(0, '/mnt/c/Users/phoen/Documents/GitHub/spateo-release')\n",
    "\n",
    "import cv2\n",
    "import anndata\n",
    "import matplotlib.pyplot as plt\n",
    "import numpy as np\n",
    "import skimage\n",
    "import sklearn\n",
    "import spateo as st\n",
    "import pandas as pd\n",
    "from scipy import stats\n",
    "\n",
    "plt.style.use('default')\n",
    "plt.rcParams['image.interpolation'] = 'none'\n",
    "%config InlineBackend.figure_format='retina'"
   ]
  },
  {
   "cell_type": "code",
   "execution_count": 3,
   "metadata": {},
   "outputs": [],
   "source": [
    "segmentation_adata = anndata.read('data/full_segmentation.h5ad')"
   ]
  },
  {
   "cell_type": "code",
   "execution_count": 31,
   "metadata": {},
   "outputs": [
    {
     "name": "stdout",
     "output_type": "stream",
     "text": [
      "CPU times: user 1min 51s, sys: 8.23 s, total: 1min 59s\n",
      "Wall time: 2min 15s\n"
     ]
    }
   ],
   "source": [
    "%%time\n",
    "adata = st.io.read_bgi(\n",
    "    '/mnt/e/scratch/stereo/SS200000135TL_D1_Intron_Bin1.txt.gz',\n",
    "    segmentation_adata=segmentation_adata,\n",
    "    labels_layer='stain_labels'\n",
    ")\n",
    "adata.write('data/adata_stain_labels.h5ad', compression='gzip')"
   ]
  },
  {
   "cell_type": "code",
   "execution_count": 36,
   "metadata": {},
   "outputs": [
    {
     "name": "stdout",
     "output_type": "stream",
     "text": [
      "CPU times: user 2min, sys: 5.53 s, total: 2min 5s\n",
      "Wall time: 2min 20s\n"
     ]
    }
   ],
   "source": [
    "%%time\n",
    "adata = st.io.read_bgi(\n",
    "    '/mnt/e/scratch/stereo/SS200000135TL_D1_Intron_Bin1.txt.gz',\n",
    "    segmentation_adata=segmentation_adata,\n",
    "    labels_layer='cell_labels_expanded'\n",
    ")\n",
    "adata.write('data/adata_cell_labels.h5ad', compression='gzip')"
   ]
  },
  {
   "cell_type": "code",
   "execution_count": 4,
   "metadata": {},
   "outputs": [
    {
     "name": "stdout",
     "output_type": "stream",
     "text": [
      "CPU times: user 1min 28s, sys: 5.14 s, total: 1min 33s\n",
      "Wall time: 1min 48s\n"
     ]
    }
   ],
   "source": [
    "%%time\n",
    "adata = st.io.read_bgi(\n",
    "    '/mnt/e/scratch/stereo/SS200000135TL_D1_Intron_Bin1.txt.gz',\n",
    "    segmentation_adata=segmentation_adata,\n",
    "    labels_layer='unspliced_labels'\n",
    ")\n",
    "adata.write('data/adata_unspliced_labels.h5ad', compression='gzip')"
   ]
  },
  {
   "cell_type": "code",
   "execution_count": 5,
   "metadata": {},
   "outputs": [
    {
     "name": "stdout",
     "output_type": "stream",
     "text": [
      "CPU times: user 1min 28s, sys: 4.97 s, total: 1min 33s\n",
      "Wall time: 1min 47s\n"
     ]
    }
   ],
   "source": [
    "%%time\n",
    "adata = st.io.read_bgi(\n",
    "    '/mnt/e/scratch/stereo/SS200000135TL_D1_Intron_Bin1.txt.gz',\n",
    "    segmentation_adata=segmentation_adata,\n",
    "    labels_layer='X_labels'\n",
    ")\n",
    "adata.write('data/adata_X_labels.h5ad', compression='gzip')"
   ]
  },
  {
   "cell_type": "code",
   "execution_count": null,
   "metadata": {},
   "outputs": [],
   "source": []
  }
 ],
 "metadata": {
  "kernelspec": {
   "display_name": "Python 3",
   "language": "python",
   "name": "python3"
  },
  "language_info": {
   "codemirror_mode": {
    "name": "ipython",
    "version": 3
   },
   "file_extension": ".py",
   "mimetype": "text/x-python",
   "name": "python",
   "nbconvert_exporter": "python",
   "pygments_lexer": "ipython3",
   "version": "3.8.3"
  }
 },
 "nbformat": 4,
 "nbformat_minor": 4
}
