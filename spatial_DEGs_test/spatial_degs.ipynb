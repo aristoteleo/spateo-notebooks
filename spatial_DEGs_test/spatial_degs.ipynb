{
 "cells": [
  {
   "cell_type": "markdown",
   "metadata": {},
   "source": [
    "## spatial_degs test\n",
    "# test 1 human cortex\n",
    "1. weighted = 'kernel'\n",
    "2. weighted = None: in=1,out=0\n",
    "3. cluster morans'I"
   ]
  },
  {
   "cell_type": "code",
   "execution_count": null,
   "metadata": {},
   "outputs": [],
   "source": [
    "from scanpy import read\n",
    "from spatial_degs import *\n",
    "import matplotlib.colors as clr\n",
    "import matplotlib.pyplot as plt\n",
    "import scanpy as sc\n",
    "adata = read('/zfs-1/zuolulu/spatialDEG/test/human_cortex/results.h5ad')\n",
    "## moran'I\n",
    "m = moran_i(adata)\n",
    "m_filter = m[(m.moran_p_val < 0.05)&(m.moran_q_val<0.05)].sort_values(by=['moran_i'],ascending=False)\n",
    "m_filter.to_csv(\"/zfs-1/zuolulu/spatialDEG/test/human_cortex/moran/kernel/m_filter.csv\")\n",
    "#m_filter = pd.read_csv(\"/zfs-1/zuolulu/spatialDEG/test/human_cortex/moran/kernel/m_filter.csv\",index_col=0)\n",
    "## plot\n",
    "genes = np.append(m_filter.index.values[0:10],m_filter.index.values[-10:-1])\n",
    "color_self = clr.LinearSegmentedColormap.from_list('', [\"grey\",'pink', \"red\"], N=256)\n",
    "for g in genes:\n",
    "    ax=sc.pl.scatter(adata,alpha=1,x=\"y_array\",y=\"x_array\",color=g,title=g,color_map=color_self,show=False,size=180000/adata.shape[0])\n",
    "    ax.set_aspect('equal', 'box')\n",
    "    ax.axes.invert_yaxis()\n",
    "    plt.savefig(\"/zfs-1/zuolulu/spatialDEG/test/human_cortex/moran/kernel/\"+g+\".png\", dpi=600)\n",
    "    plt.close()"
   ]
  },
  {
   "cell_type": "code",
   "execution_count": 2,
   "metadata": {},
   "outputs": [],
   "source": [
    "## moran'I\n",
    "m = moran_i(adata,weighted=None)\n",
    "m_filter = m[(m.moran_p_val < 0.05)&(m.moran_q_val<0.05)].sort_values(by=['moran_i'],ascending=False)\n",
    "m_filter.to_csv(\"/zfs-1/zuolulu/spatialDEG/test/human_cortex/moran/knn/m_filter.csv\")\n",
    "#m_filter = pd.read_csv(\"/zfs-1/zuolulu/spatialDEG/test/human_cortex/moran/knn/m_filter.csv\",index_col=0)\n",
    "## plot\n",
    "genes = np.append(m_filter.index.values[0:10],m_filter.index.values[-10:-1])\n",
    "color_self = clr.LinearSegmentedColormap.from_list('', [\"grey\",'pink', \"red\"], N=256)\n",
    "for g in genes:\n",
    "    adata.obs[\"exp\"]=adata.X[:,adata.var.index==g].A\n",
    "    ax=sc.pl.scatter(adata,alpha=1,x=\"y_array\",y=\"x_array\",color=g,title=g,color_map=color_self,show=False,size=180000/adata.shape[0])\n",
    "    ax.set_aspect('equal', 'box')\n",
    "    ax.axes.invert_yaxis()\n",
    "    plt.savefig(\"/zfs-1/zuolulu/spatialDEG/test/human_cortex/moran/knn/\"+g+\".png\", dpi=600)\n",
    "    plt.close()"
   ]
  },
  {
   "cell_type": "code",
   "execution_count": 3,
   "metadata": {},
   "outputs": [],
   "source": [
    "adata = adata[adata.obs['group']==0,:]\n",
    "## moran'I\n",
    "m = moran_i(adata,weighted=None)\n",
    "m_filter = m[(m.moran_p_val < 0.05)&(m.moran_q_val<0.05)].sort_values(by=['moran_i'],ascending=False)\n",
    "m_filter.to_csv(\"/zfs-1/zuolulu/spatialDEG/test/human_cortex/moran/knn/m_filter.csv\")\n",
    "#m_filter = pd.read_csv(\"/zfs-1/zuolulu/spatialDEG/test/human_cortex/moran/cluster0/m_filter.csv\",index_col=0)\n",
    "## plot\n",
    "genes = m_filter.index.values[0:10]\n",
    "color_self = clr.LinearSegmentedColormap.from_list('', [\"grey\",'pink', \"red\"], N=256)\n",
    "for g in genes:\n",
    "    ax=sc.pl.scatter(adata,alpha=1,x=\"y_array\",y=\"x_array\",color=g,title=g,color_map=color_self,show=False,size=50000/adata.shape[0])\n",
    "    ax.set_aspect('equal', 'box')\n",
    "    ax.axes.invert_yaxis()\n",
    "    plt.savefig(\"/zfs-1/zuolulu/spatialDEG/test/human_cortex/moran/cluster0/\"+g+\".png\", dpi=600)\n",
    "    plt.close()"
   ]
  },
  {
   "cell_type": "markdown",
   "metadata": {},
   "source": [
    "# test 2 mouse brain\n",
    "1. weighted = 'kernel'\n",
    "2. cluster morans'I"
   ]
  },
  {
   "cell_type": "code",
   "execution_count": 4,
   "metadata": {},
   "outputs": [],
   "source": [
    "adata = read('/zfs-1/zuolulu/spatialDEG/test/mouse_brain/results.h5ad') #15801*21945\n",
    "## moran'I\n",
    "m = moran_i(adata)\n",
    "m_filter = m[(m.moran_p_val < 0.05)&(m.moran_q_val<0.05)].sort_values(by=['moran_i'],ascending=False)\n",
    "m_filter.to_csv(\"/zfs-1/zuolulu/spatialDEG/test/mouse_brain/mouse_brain_result/moran/kernel/m_filter.csv\")\n",
    "#m_filter = pd.read_csv(\"/zfs-1/zuolulu/spatialDEG/test/mouse_brain/mouse_brain_result/moran/kernel/m_filter.csv\",index_col=0)\n",
    "#plot\n",
    "genes = np.append(m_filter.index.values[0:10],m_filter.index.values[-10:-1])\n",
    "color_self = clr.LinearSegmentedColormap.from_list('', [\"grey\",'pink', \"red\"], N=256)\n",
    "for g in genes:\n",
    "    ax=sc.pl.scatter(adata,alpha=1,x=\"y_array\",y=\"x_array\",color=g,title=g,color_map=color_self,show=False,size=100000/adata.shape[0])\n",
    "    ax.set_aspect('equal', 'box')\n",
    "    ax.axes.invert_yaxis()\n",
    "    plt.savefig(\"/zfs-1/zuolulu/spatialDEG/test/mouse_brain/mouse_brain_result/moran/kernel/\"+g+\".png\", dpi=600)\n",
    "    plt.close()"
   ]
  },
  {
   "cell_type": "code",
   "execution_count": 6,
   "metadata": {},
   "outputs": [
    {
     "name": "stderr",
     "output_type": "stream",
     "text": [
      "Moran's I Global Autocorrelation Statistic: 21945it [17:46, 20.57it/s]\n"
     ]
    }
   ],
   "source": [
    "adata = adata[adata.obs['group']==10,:]\n",
    "## moran'I\n",
    "m = moran_i(adata)\n",
    "m_filter = m[(m.moran_p_val < 0.05)&(m.moran_q_val<0.05)].sort_values(by=['moran_i'],ascending=False)\n",
    "m_filter.to_csv(\"/zfs-1/zuolulu/spatialDEG/test/mouse_brain/mouse_brain_result/moran/cluster10/m_filter.csv\")\n",
    "#m_filter = pd.read_csv(\"/zfs-1/zuolulu/spatialDEG/test/human_cortex/moran/cluster0/m_filter.csv\",index_col=0)\n",
    "## plot\n",
    "genes = m_filter.index.values[0:10]\n",
    "color_self = clr.LinearSegmentedColormap.from_list('', [\"grey\",'pink', \"red\"], N=256)\n",
    "for g in genes:\n",
    "    ax=sc.pl.scatter(adata,alpha=1,x=\"y_array\",y=\"x_array\",color=g,title=g,color_map=color_self,show=False,size=50000/adata.shape[0])\n",
    "    ax.set_aspect('equal', 'box')\n",
    "    ax.axes.invert_yaxis()\n",
    "    plt.savefig(\"/zfs-1/zuolulu/spatialDEG/test/mouse_brain/mouse_brain_result/moran/cluster10/\"+g+\".png\", dpi=600)\n",
    "    plt.close()"
   ]
  }
 ],
 "metadata": {
  "interpreter": {
   "hash": "c9e046942b41e5697d1a825c7322526b86622a4b7b9fa5fcfa09c416ab43b131"
  },
  "kernelspec": {
   "display_name": "Python 3.9.7 64-bit ('spateo': conda)",
   "language": "python",
   "name": "python3"
  },
  "language_info": {
   "codemirror_mode": {
    "name": "ipython",
    "version": 3
   },
   "file_extension": ".py",
   "mimetype": "text/x-python",
   "name": "python",
   "nbconvert_exporter": "python",
   "pygments_lexer": "ipython3",
   "version": "3.9.7"
  },
  "orig_nbformat": 4
 },
 "nbformat": 4,
 "nbformat_minor": 2
}
