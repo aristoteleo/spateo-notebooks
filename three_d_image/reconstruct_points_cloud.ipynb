{
 "cells": [
  {
   "cell_type": "markdown",
   "metadata": {
    "collapsed": true,
    "pycharm": {
     "name": "#%% md\n"
    }
   },
   "source": [
    "## **Reconstruct three D model(points cloud and surface)**\n",
    "\n",
    "    This notebook demonstrate:\n",
    "    1.reconstruction of three-dimensional structure (points cloud) and its surface;\n",
    "    2.the relevant plotting functions."
   ]
  },
  {
   "cell_type": "markdown",
   "metadata": {},
   "source": [
    "### **Load Packages**"
   ]
  },
  {
   "cell_type": "code",
   "execution_count": 2,
   "metadata": {
    "pycharm": {
     "name": "#%%\n"
    }
   },
   "outputs": [],
   "source": [
    "import anndata as ad\n",
    "import pandas as pd\n",
    "import pyvista as pv\n",
    "import spateo as st"
   ]
  },
  {
   "cell_type": "markdown",
   "metadata": {},
   "source": [
    "### **Load data**"
   ]
  },
  {
   "cell_type": "code",
   "execution_count": 3,
   "metadata": {
    "pycharm": {
     "name": "#%%\n"
    }
   },
   "outputs": [
    {
     "name": "stdout",
     "output_type": "stream",
     "text": [
      "AnnData object with n_obs × n_vars = 14460 × 12841\n",
      "    obs: 'x', 'y', 'z', 'anno'\n",
      "    obsm: 'spatial' [[ 2.5  17.78  0.  ]\n",
      " [ 2.5  18.78  0.  ]\n",
      " [ 2.5  19.78  0.  ]\n",
      " ...\n",
      " [34.15 25.08 13.  ]\n",
      " [35.06 24.68 13.  ]\n",
      " [35.98 24.27 13.  ]]\n"
     ]
    }
   ],
   "source": [
    "ipath = r\"E16_18_a_anno.h5ad\"\n",
    "adata = ad.read(ipath)\n",
    "data = pd.DataFrame(adata.X, dtype=float)\n",
    "data.fillna(0, inplace=True)\n",
    "adata.X = data.values\n",
    "print(adata, adata.obsm[\"spatial\"])"
   ]
  },
  {
   "cell_type": "markdown",
   "metadata": {
    "pycharm": {
     "name": "#%% md\n"
    }
   },
   "source": [
    "**Here, we will use `st.pl.build_three_d_model` to reconstruct 3D structure (points cloud).**\n",
    "- coordsby: The key from adata.obsm whose value will be used to reconstruct the 3D structure.\n",
    "    * coordsby = 'spatial'\n",
    "- groupby: The key of the observations grouping to consider.\n",
    "    * groupby = 'cluster'\n",
    "- group_show: Subset of groups used for display, available input values are:\n",
    "    * group_show = 'all'                    # diplay all groups\n",
    "    * group_show = 'tissue1'                # diplay 'tissue1' group\n",
    "    * group_show = ['tissue1', 'tissue2']   # diplay 'tissue1' group and 'tissue2' group\n",
    "- gene_show: Subset of genes used for display, available input values are:\n",
    "    * gene_show = 'all'\n",
    "    * gene_show = 'gene1'\n",
    "    * gene_show = ['gene1', 'gene2']\n",
    "- group_cmap: Colors to use for plotting groups, available input values are:\n",
    "    * group_show = 'rainbow'\n",
    "    * group_show = ['dodgerblue', 'yellowgreen']\n",
    "    * group_show = {'tissue1': 'dodgerblue', 'tissue2': 'yellowgreen'}\n",
    "- group_amap: The opacity of the colors to use for plotting groups, available input values are:\n",
    "    * group_amap = 1.0\n",
    "    * group_amap = [0.5, 0.8]\n",
    "    * group_amap = {'tissue1': 0.5, 'tissue2': 0.8}\n",
    "- gene_cmap: Colors to use for plotting genes, available input values are:\n",
    "    * gene_cmap = 'hot_r'\n",
    "- gene_amap: The opacity of the colors to use for plotting genes, available input values are:\n",
    "    * gene_amap = 1.0\n",
    "- mask_color: Color to use for plotting mask, available input values are:\n",
    "    * mask_color = 'gainsboro'\n",
    "    * mask_color = 'whitesmoke'\n",
    "- mask_alpha: The opacity of the color to use for plotting mask, available input values are:\n",
    "    * mask_alpha = 0.1"
   ]
  },
  {
   "cell_type": "markdown",
   "metadata": {},
   "source": [
    "### show groups"
   ]
  },
  {
   "cell_type": "markdown",
   "metadata": {
    "pycharm": {
     "name": "#%% md\n"
    }
   },
   "source": [
    "show all groups and save as image"
   ]
  },
  {
   "cell_type": "code",
   "execution_count": 4,
   "metadata": {
    "pycharm": {
     "name": "#%%\n"
    }
   },
   "outputs": [],
   "source": [
    "mesh1, surface1 = st.pl.build_three_d_model(adata=adata, groupby=\"anno\", group_show=\"all\", group_cmap=\"rainbow\")\n",
    "st.pl.easy_three_d_plot(mesh1, surface1, scalar=\"groups\", surface_color=\"gainsboro\",surface_opacity=0.5,\n",
    "                        save=r\"points_all_groups.png\")"
   ]
  },
  {
   "cell_type": "markdown",
   "metadata": {
    "pycharm": {
     "name": "#%% md\n"
    }
   },
   "source": [
    "Show the `fat body` group and other masks"
   ]
  },
  {
   "cell_type": "code",
   "execution_count": 5,
   "metadata": {
    "pycharm": {
     "name": "#%%\n"
    }
   },
   "outputs": [],
   "source": [
    "mesh2, surface2 = st.pl.build_three_d_model(adata=adata,\n",
    "                                            groupby=\"anno\",\n",
    "                                            group_show=\"fat body\",\n",
    "                                            group_cmap=[\"dodgerblue\"],\n",
    "                                            mask_color=\"whitesmoke\",\n",
    "                                            mask_alpha=0.2)\n",
    "st.pl.easy_three_d_plot(mesh2, surface2, scalar=\"groups\", surface_color=\"gainsboro\",surface_opacity=0.5,\n",
    "                        save=r\"points_one_group_withmasks.png\")"
   ]
  },
  {
   "cell_type": "markdown",
   "metadata": {},
   "source": [
    "Only show the `fat body` group"
   ]
  },
  {
   "cell_type": "code",
   "execution_count": 6,
   "metadata": {
    "pycharm": {
     "name": "#%%\n"
    }
   },
   "outputs": [],
   "source": [
    "mesh3, surface3 = st.pl.build_three_d_model(adata=adata,\n",
    "                                            groupby=\"anno\",\n",
    "                                            group_show=\"fat body\",\n",
    "                                            group_cmap=[\"dodgerblue\"],\n",
    "                                            mask_alpha=0)\n",
    "st.pl.easy_three_d_plot(mesh3, surface3, scalar=\"groups\", surface_color=\"gainsboro\",surface_opacity=0.5,\n",
    "                        save=r\"points_one_group_withoutmasks.png\")"
   ]
  },
  {
   "cell_type": "markdown",
   "metadata": {},
   "source": [
    "Only show the `fat body` group and `CNS` group"
   ]
  },
  {
   "cell_type": "code",
   "execution_count": 7,
   "metadata": {
    "pycharm": {
     "name": "#%%\n"
    }
   },
   "outputs": [],
   "source": [
    "mesh4, surface4 = st.pl.build_three_d_model(adata=adata,\n",
    "                                            groupby=\"anno\",\n",
    "                                            group_show=[\"fat body\", \"CNS\"],\n",
    "                                            group_cmap=[\"dodgerblue\", \"yellowgreen\"],\n",
    "                                            mask_alpha=0)\n",
    "st.pl.easy_three_d_plot(mesh4, surface4, scalar=\"groups\", surface_color=\"gainsboro\",surface_opacity=0.5,\n",
    "                        save=r\"points_two_groups.png\")\n"
   ]
  },
  {
   "cell_type": "markdown",
   "metadata": {},
   "source": [
    "### show genes expression"
   ]
  },
  {
   "cell_type": "markdown",
   "metadata": {
    "pycharm": {
     "name": "#%% md\n"
    }
   },
   "source": [
    "show the expression of all genes (Overlay all gene expression values)"
   ]
  },
  {
   "cell_type": "code",
   "execution_count": 8,
   "metadata": {
    "pycharm": {
     "name": "#%%\n"
    }
   },
   "outputs": [],
   "source": [
    "mesh5, surface5 = st.pl.build_three_d_model(adata=adata, groupby=\"anno\", group_show=\"all\", group_cmap=\"hot_r\")\n",
    "st.pl.easy_three_d_plot(mesh5, surface5, scalar=\"genes\", surface_color=\"gainsboro\",surface_opacity=0.5,\n",
    "                        save=r\"points_all_genes.png\")"
   ]
  },
  {
   "cell_type": "markdown",
   "metadata": {},
   "source": [
    "show the expression of the `Adh` gene"
   ]
  },
  {
   "cell_type": "code",
   "execution_count": null,
   "metadata": {
    "pycharm": {
     "name": "#%%\n"
    }
   },
   "outputs": [],
   "source": [
    "mesh5, surface5 = st.pl.build_three_d_model(adata=adata, groupby=\"anno\", group_show=\"all\", gene_show=\"Adh\", gene_cmap=\"hot_r\")\n",
    "st.pl.easy_three_d_plot(mesh5, surface5, scalar=\"genes\", surface_color=\"gainsboro\",surface_opacity=0.5,\n",
    "                        save=r\"points_one_gene.png\")"
   ]
  },
  {
   "cell_type": "markdown",
   "metadata": {},
   "source": [
    "The expression of the `Adh` gene displayed in the `fat body` group"
   ]
  },
  {
   "cell_type": "code",
   "execution_count": null,
   "metadata": {
    "pycharm": {
     "name": "#%%\n"
    }
   },
   "outputs": [],
   "source": [
    "mesh6, surface6 = st.pl.build_three_d_model(adata=adata,\n",
    "                                            groupby=\"anno\",\n",
    "                                            group_show=\"fat body\",\n",
    "                                            gene_show=\"Adh\",\n",
    "                                            group_cmap=\"hot_r\",\n",
    "                                            mask_color=\"whitesmoke\",\n",
    "                                            mask_alpha=0)\n",
    "st.pl.easy_three_d_plot(mesh6, surface6, scalar=\"genes\", surface_color=\"gainsboro\",surface_opacity=0.5,\n",
    "                        save=r\"points_one_gene_one_group.png\")\n",
    "\n"
   ]
  }
 ],
 "metadata": {
  "kernelspec": {
   "display_name": "Python 3 (ipykernel)",
   "language": "python",
   "name": "python3"
  },
  "language_info": {
   "codemirror_mode": {
    "name": "ipython",
    "version": 3
   },
   "file_extension": ".py",
   "mimetype": "text/x-python",
   "name": "python",
   "nbconvert_exporter": "python",
   "pygments_lexer": "ipython3",
   "version": "3.7.11"
  }
 },
 "nbformat": 4,
 "nbformat_minor": 1
}