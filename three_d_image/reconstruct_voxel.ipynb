{
 "cells": [
  {
   "cell_type": "markdown",
   "metadata": {
    "collapsed": true,
    "pycharm": {
     "name": "#%% md\n"
    }
   },
   "source": [
    "## **Reconstruct three D model(voxel)**\n",
    "\n",
    "    This notebook demonstrate:\n",
    "    1.reconstruction of three-dimensional structure (voxel) and its surface;\n",
    "    2.the relevant plotting functions;\n",
    "    3.slicing 3D structures;\n",
    "    4.calculate the volume of the 3D structure."
   ]
  },
  {
   "cell_type": "markdown",
   "metadata": {},
   "source": [
    "### **Load Packages**"
   ]
  },
  {
   "cell_type": "code",
   "execution_count": 7,
   "metadata": {
    "pycharm": {
     "name": "#%%\n"
    }
   },
   "outputs": [],
   "source": [
    "import anndata as ad\n",
    "import pandas as pd\n",
    "import pyvista as pv\n",
    "import spateo as st"
   ]
  },
  {
   "cell_type": "markdown",
   "metadata": {},
   "source": [
    "### **Load data**"
   ]
  },
  {
   "cell_type": "code",
   "execution_count": 6,
   "metadata": {
    "pycharm": {
     "name": "#%%\n"
    }
   },
   "outputs": [
    {
     "name": "stdout",
     "output_type": "stream",
     "text": [
      "AnnData object with n_obs × n_vars = 14460 × 12841\n",
      "    obs: 'x', 'y', 'z', 'anno'\n",
      "    obsm: 'spatial' [[ 2.5  17.78  0.  ]\n",
      " [ 2.5  18.78  0.  ]\n",
      " [ 2.5  19.78  0.  ]\n",
      " ...\n",
      " [34.15 25.08 13.  ]\n",
      " [35.06 24.68 13.  ]\n",
      " [35.98 24.27 13.  ]]\n"
     ]
    }
   ],
   "source": [
    "ipath = r\"E16_18_a_anno.h5ad\"\n",
    "adata = ad.read(ipath)\n",
    "data = pd.DataFrame(adata.X, dtype=float)\n",
    "data.fillna(0, inplace=True)\n",
    "adata.X = data.values\n",
    "print(adata, adata.obsm[\"spatial\"])"
   ]
  },
  {
   "cell_type": "markdown",
   "metadata": {},
   "source": [
    "**Here, we will use `st.pl.build_three_d_model` to reconstruct 3D structure (voxel).**\n",
    "- coordsby: The key from adata.obsm whose value will be used to reconstruct the 3D structure.\n",
    "    * coordsby = 'spatial'\n",
    "- groupby: The key of the observations grouping to consider.\n",
    "    * groupby = 'cluster'\n",
    "- group_show: Subset of groups used for display, available input values are:\n",
    "    * group_show = 'all'                    # diplay all groups\n",
    "    * group_show = 'tissue1'                # diplay 'tissue1' group\n",
    "    * group_show = ['tissue1', 'tissue2']   # diplay 'tissue1' group and 'tissue2' group\n",
    "- gene_show: Subset of genes used for display, available input values are:\n",
    "    * gene_show = 'all'\n",
    "    * gene_show = 'gene1'\n",
    "    * gene_show = ['gene1', 'gene2']\n",
    "- group_cmap: Colors to use for plotting groups, available input values are:\n",
    "    * group_show = 'rainbow'\n",
    "    * group_show = ['dodgerblue', 'yellowgreen']\n",
    "    * group_show = {'tissue1': 'dodgerblue', 'tissue2': 'yellowgreen'}\n",
    "- group_amap: The opacity of the colors to use for plotting groups, available input values are:\n",
    "    * group_amap = 1.0\n",
    "    * group_amap = [0.5, 0.8]\n",
    "    * group_amap = {'tissue1': 0.5, 'tissue2': 0.8}\n",
    "- gene_cmap: Colors to use for plotting genes, available input values are:\n",
    "    * gene_cmap = 'hot_r'\n",
    "- gene_amap: The opacity of the colors to use for plotting genes, available input values are:\n",
    "    * gene_amap = 1.0\n",
    "- mask_color: Color to use for plotting mask, available input values are:\n",
    "    * mask_color = 'gainsboro'\n",
    "    * mask_color = 'whitesmoke'\n",
    "- mask_alpha: The opacity of the color to use for plotting mask, available input values are:\n",
    "    * mask_alpha = 0.1\n",
    "- voxelize: Voxelize the reconstructed 3D structure.\n",
    "    voxelize = True\n",
    "- voxel_size: Voxel size.\n",
    "    * voxel_size = [1, 1, 1]"
   ]
  },
  {
   "cell_type": "code",
   "execution_count": null,
   "metadata": {
    "pycharm": {
     "name": "#%%\n"
    }
   },
   "outputs": [],
   "source": [
    "mesh, surface = st.pl.build_three_d_model(adata=adata, groupby=\"anno\", group_show=\"fat body\", gene_show=\"Adh\",\n",
    "                                          gene_cmap=\"hot_r\", mask_alpha=0.3, voxelize=True, voxel_size=[1,1,1])\n",
    "st.pl.easy_three_d_plot(mesh, None, scalar=\"genes\", save=r\"D:\\BGIpy37_pytorch113\\three_d_image\\voxelized_mesh.png\")"
   ]
  },
  {
   "cell_type": "markdown",
   "metadata": {},
   "source": [
    "### **Slicing**\n",
    "The ways of slicing the three-dimensional structure include slicing along the axis and orthogonal slicing, wherein slicing along the axis further includes slicing along the x-axis, the y-axis, and the z-axis.\n",
    "\n",
    "**Here, we will use `st.pl.three_d_slicing` to slice the three-dimensional structure.**\n",
    "- mesh: Reconstructed 3D structure (voxelized object).\n",
    "- axis: The axis to generate the slices along. Available axes are:\n",
    "    * `'x'` or `0`\n",
    "    * `'y'` or `1`\n",
    "    * `'z'` or `2`\n",
    "- n_slices: The number of slices to create along a specified axis, available n_slices are:\n",
    "    * n_slices = 10             # slice along axis\n",
    "    * n_slices = 'orthogonal'   # orthogonal slicing\n",
    "- center: A 3-length sequence specifying the position which slices are taken. Defaults to the center of the mesh.\n",
    "    * center = (0, 0, 0)"
   ]
  },
  {
   "cell_type": "code",
   "execution_count": 10,
   "metadata": {
    "pycharm": {
     "name": "#%%\n"
    }
   },
   "outputs": [],
   "source": [
    "# along x-axis\n",
    "slices_x = st.pl.three_d_slicing(mesh, axis='x', n_slices=7)\n",
    "# along y-axis\n",
    "slices_y = st.pl.three_d_slicing(mesh, axis='y', n_slices=7)\n",
    "# along z-axis\n",
    "slices_z = st.pl.three_d_slicing(mesh, axis='z', n_slices=5)\n",
    "# orthogonal slicing\n",
    "slices_o = st.pl.three_d_slicing(mesh, n_slices='orthogonal')\n",
    "\n",
    "# display\n",
    "p = pv.Plotter(shape=(2,2))\n",
    "p.subplot(0, 0)\n",
    "p.add_mesh(slices_x, scalars=\"genes_rgba\", rgba=True)\n",
    "p.background_color = \"white\"\n",
    "p.camera_position = \"iso\"\n",
    "p.subplot(0, 1)\n",
    "p.add_mesh(slices_y, scalars=\"genes_rgba\", rgba=True)\n",
    "p.background_color = \"white\"\n",
    "p.camera_position = \"iso\"\n",
    "p.subplot(1, 0)\n",
    "p.add_mesh(slices_z, scalars=\"genes_rgba\", rgba=True)\n",
    "p.background_color = \"white\"\n",
    "p.camera_position = \"iso\"\n",
    "p.subplot(1, 1)\n",
    "p.add_mesh(slices_o, scalars=\"genes_rgba\", rgba=True)\n",
    "p.background_color = \"white\"\n",
    "p.camera_position = \"iso\"\n",
    "p.show(screenshot=r\"slicing.png\")"
   ]
  },
  {
   "cell_type": "markdown",
   "metadata": {},
   "source": [
    "### **Calculate the volume**\n",
    "Here, we will use `st.pl.compute_volume` to calculate the volume of the reconstructed 3D structure."
   ]
  },
  {
   "cell_type": "code",
   "execution_count": 9,
   "metadata": {
    "pycharm": {
     "name": "#%%\n"
    }
   },
   "outputs": [
    {
     "name": "stdout",
     "output_type": "stream",
     "text": [
      "all volume: 13984.0\n",
      "['fat body'] volume: 719.0\n"
     ]
    }
   ],
   "source": [
    "volume_size_all = st.pl.compute_volume(mesh=mesh, group_show=\"all\")\n",
    "volume_size_tissue = st.pl.compute_volume(mesh=mesh, group_show=\"fat body\")\n",
    "\n",
    "\n",
    "\n"
   ]
  },
  {
   "cell_type": "code",
   "execution_count": null,
   "metadata": {},
   "outputs": [],
   "source": []
  }
 ],
 "metadata": {
  "kernelspec": {
   "display_name": "Python 3 (ipykernel)",
   "language": "python",
   "name": "python3"
  },
  "language_info": {
   "codemirror_mode": {
    "name": "ipython",
    "version": 3
   },
   "file_extension": ".py",
   "mimetype": "text/x-python",
   "name": "python",
   "nbconvert_exporter": "python",
   "pygments_lexer": "ipython3",
   "version": "3.7.11"
  }
 },
 "nbformat": 4,
 "nbformat_minor": 1
}