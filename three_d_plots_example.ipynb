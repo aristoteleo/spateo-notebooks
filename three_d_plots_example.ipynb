{
 "cells": [
  {
   "cell_type": "markdown",
   "metadata": {
    "pycharm": {
     "name": "#%% md\n"
    }
   },
   "source": [
    "# **Reconstruction 3D model based on spatial transcriptomics**"
   ]
  },
  {
   "cell_type": "markdown",
   "metadata": {},
   "source": [
    "## **Import packages**"
   ]
  },
  {
   "cell_type": "code",
   "execution_count": 2,
   "metadata": {
    "pycharm": {
     "name": "#%%\n"
    }
   },
   "outputs": [],
   "source": [
    "import warnings\n",
    "warnings.filterwarnings(\"ignore\")\n",
    "from spateo.pl import *"
   ]
  },
  {
   "cell_type": "markdown",
   "metadata": {},
   "source": [
    "## **Load data**"
   ]
  },
  {
   "cell_type": "code",
   "execution_count": 3,
   "metadata": {
    "pycharm": {
     "name": "#%%\n"
    }
   },
   "outputs": [],
   "source": [
    "ipath = \"/home/yao/BGIpy37_pytorch113/ST_Drosophila/6_3D_Reconstruction/three_d_test_adata.h5ad\"\n",
    "adata = ad.read(ipath)"
   ]
  },
  {
   "cell_type": "markdown",
   "metadata": {
    "pycharm": {
     "name": "#%% md\n"
    }
   },
   "source": [
    "## **Create an unstructured mesh**"
   ]
  },
  {
   "cell_type": "markdown",
   "metadata": {
    "pycharm": {
     "name": "#%% md\n"
    }
   },
   "source": [
    "### **Create an points cloud (pyvista.PolyData)**"
   ]
  },
  {
   "cell_type": "code",
   "execution_count": 4,
   "metadata": {
    "pycharm": {
     "is_executing": true,
     "name": "#%%\n"
    },
    "scrolled": true
   },
   "outputs": [
    {
     "name": "stderr",
     "output_type": "stream",
     "text": [
      "\u001B[0m\u001B[33m2022-01-14 18:06:14.459 (  37.222s) [        9A0B4740]      vtkDelaunay3D.cxx:521   WARN| vtkDelaunay3D (0x562b3a887190): 709 degenerate triangles encountered, mesh quality suspect\u001B[0m\n",
      "\u001B[0m\u001B[33m2022-01-14 18:06:43.346 (  66.109s) [        9A0B4740]      vtkDelaunay3D.cxx:521   WARN| vtkDelaunay3D (0x562b3a8c2f70): 598 degenerate triangles encountered, mesh quality suspect\u001B[0m\n"
     ]
    }
   ],
   "source": [
    "cloud_mesh, cloud_surface = build_3Dmodel(adata=adata, coordsby=[\"x\", \"y\", \"z\"], groupby=\"anno\", group_show=\"fat body\",\n",
    "                                          gene_show=\"Adh\", group_cmap=[\"dodgerblue\"], group_amap=1.0, gene_cmap=\"hot_r\",\n",
    "                                          gene_amap=1.0, mask_color=\"gainsboro\", mask_alpha=0.2)"
   ]
  },
  {
   "cell_type": "markdown",
   "metadata": {
    "pycharm": {
     "name": "#%% md\n"
    }
   },
   "source": [
    "**Plot groups**"
   ]
  },
  {
   "cell_type": "code",
   "execution_count": 17,
   "metadata": {
    "pycharm": {
     "name": "#%%\n"
    },
    "scrolled": false
   },
   "outputs": [
    {
     "data": {
      "application/vnd.jupyter.widget-view+json": {
       "model_id": "912ce8f7747540c79d669ef03a889de8",
       "version_major": 2,
       "version_minor": 0
      },
      "text/plain": [
       "ViewInteractiveWidget(height=768, layout=Layout(height='auto', width='100%'), width=1024)"
      ]
     },
     "metadata": {},
     "output_type": "display_data"
    }
   ],
   "source": [
    "p1 = pv.Plotter()\n",
    "p1.add_mesh(cloud_surface, color=\"gainsboro\", opacity=0.5)\n",
    "p1.add_mesh(cloud_mesh, scalars=\"groups_rgba\", rgba=True, render_points_as_spheres=True, ambient=0.5)\n",
    "p1.background_color = \"white\"\n",
    "p1.camera_position = \"iso\"\n",
    "p1.show()"
   ]
  },
  {
   "cell_type": "markdown",
   "metadata": {
    "pycharm": {
     "name": "#%% md\n"
    }
   },
   "source": [
    "**Plot genes expression**"
   ]
  },
  {
   "cell_type": "code",
   "execution_count": 18,
   "metadata": {
    "pycharm": {
     "name": "#%%\n"
    }
   },
   "outputs": [
    {
     "data": {
      "application/vnd.jupyter.widget-view+json": {
       "model_id": "0e09aca2e8cd40238dafac91f7c6322e",
       "version_major": 2,
       "version_minor": 0
      },
      "text/plain": [
       "ViewInteractiveWidget(height=768, layout=Layout(height='auto', width='100%'), width=1024)"
      ]
     },
     "metadata": {},
     "output_type": "display_data"
    }
   ],
   "source": [
    "p1 = pv.Plotter()\n",
    "p1.add_mesh(cloud_surface, color=\"gainsboro\", opacity=0.5)\n",
    "p1.add_mesh(cloud_mesh, scalars=\"genes_rgba\", rgba=True, render_points_as_spheres=True, ambient=0.5)\n",
    "p1.background_color = \"white\"\n",
    "p1.camera_position = \"iso\"\n",
    "p1.show()"
   ]
  },
  {
   "cell_type": "markdown",
   "metadata": {
    "pycharm": {
     "name": "#%% md\n"
    }
   },
   "source": [
    "### **Create an voxelized volume(pyvista.UnstructuredGrid)**"
   ]
  },
  {
   "cell_type": "code",
   "execution_count": 8,
   "metadata": {
    "pycharm": {
     "name": "#%%\n"
    }
   },
   "outputs": [
    {
     "name": "stderr",
     "output_type": "stream",
     "text": [
      "\u001B[0m\u001B[33m2022-01-14 18:08:51.140 ( 193.903s) [        9A0B4740]      vtkDelaunay3D.cxx:521   WARN| vtkDelaunay3D (0x562b3dabf7b0): 709 degenerate triangles encountered, mesh quality suspect\u001B[0m\n",
      "\u001B[0m\u001B[33m2022-01-14 18:09:19.190 ( 221.953s) [        9A0B4740]      vtkDelaunay3D.cxx:521   WARN| vtkDelaunay3D (0x562b4af346d0): 598 degenerate triangles encountered, mesh quality suspect\u001B[0m\n"
     ]
    }
   ],
   "source": [
    "mesh, surface = build_3Dmodel(adata=adata, coordsby=[\"x\", \"y\", \"z\"], groupby=\"anno\", group_show=\"fat body\",\n",
    "                              gene_show=\"all\", group_cmap=[\"dodgerblue\"], group_amap=1.0, gene_cmap=\"hot_r\",\n",
    "                              gene_amap=1.0, mask_color=\"gainsboro\", mask_alpha=0.2, voxelize=True, voxel_size=[1, 1, 1])"
   ]
  },
  {
   "cell_type": "code",
   "execution_count": 15,
   "metadata": {
    "pycharm": {
     "name": "#%%\n"
    }
   },
   "outputs": [
    {
     "data": {
      "application/vnd.jupyter.widget-view+json": {
       "model_id": "e9b8e8dcccc4432fab5f0998fc3bf437",
       "version_major": 2,
       "version_minor": 0
      },
      "text/plain": [
       "ViewInteractiveWidget(height=768, layout=Layout(height='auto', width='100%'), width=1024)"
      ]
     },
     "metadata": {},
     "output_type": "display_data"
    }
   ],
   "source": [
    "p2 = pv.Plotter()\n",
    "p2.add_mesh(surface, color=\"gainsboro\", opacity=0.2)\n",
    "p2.add_mesh(mesh, scalars=\"groups_rgba\", rgba=True, opacity=0.2)\n",
    "p2.background_color = \"white\"\n",
    "p2.camera_position = \"iso\"\n",
    "p2.show()"
   ]
  },
  {
   "cell_type": "markdown",
   "metadata": {
    "pycharm": {
     "name": "#%% md\n"
    }
   },
   "source": [
    "## Slicing"
   ]
  },
  {
   "cell_type": "code",
   "execution_count": 10,
   "metadata": {
    "pycharm": {
     "name": "#%%\n"
    }
   },
   "outputs": [],
   "source": [
    "## x axis\n",
    "slices_x = threeDslicing(mesh=mesh, axis=\"x\", n_slices=10)\n",
    "## y axis\n",
    "slices_y = threeDslicing(mesh=mesh, axis=\"y\", n_slices=10)\n",
    "## z axis\n",
    "slices_z = threeDslicing(mesh=mesh, axis=\"z\", n_slices=4)\n",
    "## orthogonal\n",
    "slices_o = threeDslicing(mesh=mesh, n_slices=\"orthogonal\", center=None)"
   ]
  },
  {
   "cell_type": "code",
   "execution_count": 11,
   "metadata": {
    "pycharm": {
     "name": "#%%\n"
    }
   },
   "outputs": [
    {
     "data": {
      "application/vnd.jupyter.widget-view+json": {
       "model_id": "3a5233fdf6e9451aa380068202f245bb",
       "version_major": 2,
       "version_minor": 0
      },
      "text/plain": [
       "ViewInteractiveWidget(height=768, layout=Layout(height='auto', width='100%'), width=1024)"
      ]
     },
     "metadata": {},
     "output_type": "display_data"
    }
   ],
   "source": [
    "p3 = pv.Plotter(shape=(2,2))\n",
    "p3.subplot(0, 0)\n",
    "p3.add_mesh(slices_x, scalars=\"groups_rgba\", rgba=True)\n",
    "p3.background_color = \"white\"\n",
    "p3.camera_position = \"iso\"\n",
    "p3.subplot(0, 1)\n",
    "p3.add_mesh(slices_y, scalars=\"groups_rgba\", rgba=True)\n",
    "p3.background_color = \"white\"\n",
    "p3.camera_position = \"iso\"\n",
    "p3.subplot(1, 0)\n",
    "p3.add_mesh(slices_z, scalars=\"groups_rgba\", rgba=True)\n",
    "p3.background_color = \"white\"\n",
    "p3.camera_position = \"iso\"\n",
    "p3.subplot(1, 1)\n",
    "p3.add_mesh(slices_o, scalars=\"groups_rgba\", rgba=True)\n",
    "p3.background_color = \"white\"\n",
    "p3.camera_position = \"iso\"\n",
    "p3.show()"
   ]
  }
 ],
 "metadata": {
  "kernelspec": {
   "display_name": "Python 3 (ipykernel)",
   "language": "python",
   "name": "python3"
  },
  "language_info": {
   "codemirror_mode": {
    "name": "ipython",
    "version": 3
   },
   "file_extension": ".py",
   "mimetype": "text/x-python",
   "name": "python",
   "nbconvert_exporter": "python",
   "pygments_lexer": "ipython3",
   "version": "3.7.12"
  }
 },
 "nbformat": 4,
 "nbformat_minor": 1
}